{
  "nbformat": 4,
  "nbformat_minor": 0,
  "metadata": {
    "accelerator": "GPU",
    "colab": {
      "name": "specter-lwan(**best).ipynb",
      "provenance": [],
      "collapsed_sections": [
        "UUhKS-dUegTd",
        "_qfT86eMvlk5",
        "pixwbhCQZzEa"
      ],
      "machine_shape": "hm"
    },
    "kernelspec": {
      "display_name": "Python 3",
      "name": "python3"
    },
    "language_info": {
      "name": "python"
    },
    "widgets": {
      "application/vnd.jupyter.widget-state+json": {
        "95b23588d6194c04af5dc12eac5992c6": {
          "model_module": "@jupyter-widgets/controls",
          "model_name": "HBoxModel",
          "model_module_version": "1.5.0",
          "state": {
            "_view_name": "HBoxView",
            "_dom_classes": [],
            "_model_name": "HBoxModel",
            "_view_module": "@jupyter-widgets/controls",
            "_model_module_version": "1.5.0",
            "_view_count": null,
            "_view_module_version": "1.5.0",
            "box_style": "",
            "layout": "IPY_MODEL_fc7f40312dd948cfa4ba18a74d311737",
            "_model_module": "@jupyter-widgets/controls",
            "children": [
              "IPY_MODEL_5dfe9a8adb62498fbe478d05df280f9d",
              "IPY_MODEL_bd7627f2cf024be3b4d2a61e4535d918",
              "IPY_MODEL_c6b07335cda94319bff561e49ed30e2f"
            ]
          }
        },
        "fc7f40312dd948cfa4ba18a74d311737": {
          "model_module": "@jupyter-widgets/base",
          "model_name": "LayoutModel",
          "model_module_version": "1.2.0",
          "state": {
            "_view_name": "LayoutView",
            "grid_template_rows": null,
            "right": null,
            "justify_content": null,
            "_view_module": "@jupyter-widgets/base",
            "overflow": null,
            "_model_module_version": "1.2.0",
            "_view_count": null,
            "flex_flow": null,
            "width": null,
            "min_width": null,
            "border": null,
            "align_items": null,
            "bottom": null,
            "_model_module": "@jupyter-widgets/base",
            "top": null,
            "grid_column": null,
            "overflow_y": null,
            "overflow_x": null,
            "grid_auto_flow": null,
            "grid_area": null,
            "grid_template_columns": null,
            "flex": null,
            "_model_name": "LayoutModel",
            "justify_items": null,
            "grid_row": null,
            "max_height": null,
            "align_content": null,
            "visibility": null,
            "align_self": null,
            "height": null,
            "min_height": null,
            "padding": null,
            "grid_auto_rows": null,
            "grid_gap": null,
            "max_width": null,
            "order": null,
            "_view_module_version": "1.2.0",
            "grid_template_areas": null,
            "object_position": null,
            "object_fit": null,
            "grid_auto_columns": null,
            "margin": null,
            "display": null,
            "left": null
          }
        },
        "5dfe9a8adb62498fbe478d05df280f9d": {
          "model_module": "@jupyter-widgets/controls",
          "model_name": "HTMLModel",
          "model_module_version": "1.5.0",
          "state": {
            "_view_name": "HTMLView",
            "style": "IPY_MODEL_75dcc3d430544db9839cacf7c0bd5193",
            "_dom_classes": [],
            "description": "",
            "_model_name": "HTMLModel",
            "placeholder": "​",
            "_view_module": "@jupyter-widgets/controls",
            "_model_module_version": "1.5.0",
            "value": "Downloading: 100%",
            "_view_count": null,
            "_view_module_version": "1.5.0",
            "description_tooltip": null,
            "_model_module": "@jupyter-widgets/controls",
            "layout": "IPY_MODEL_85c27dbf62d942f59f1743d68fa525d5"
          }
        },
        "bd7627f2cf024be3b4d2a61e4535d918": {
          "model_module": "@jupyter-widgets/controls",
          "model_name": "FloatProgressModel",
          "model_module_version": "1.5.0",
          "state": {
            "_view_name": "ProgressView",
            "style": "IPY_MODEL_ef4d8a597b1d486e8339e94a34eb4022",
            "_dom_classes": [],
            "description": "",
            "_model_name": "FloatProgressModel",
            "bar_style": "success",
            "max": 337,
            "_view_module": "@jupyter-widgets/controls",
            "_model_module_version": "1.5.0",
            "value": 337,
            "_view_count": null,
            "_view_module_version": "1.5.0",
            "orientation": "horizontal",
            "min": 0,
            "description_tooltip": null,
            "_model_module": "@jupyter-widgets/controls",
            "layout": "IPY_MODEL_3c151301dc9f4dc4a42d177fb3a8dc1f"
          }
        },
        "c6b07335cda94319bff561e49ed30e2f": {
          "model_module": "@jupyter-widgets/controls",
          "model_name": "HTMLModel",
          "model_module_version": "1.5.0",
          "state": {
            "_view_name": "HTMLView",
            "style": "IPY_MODEL_4d9a1b9fff994ac39f53d81f0bf8ad63",
            "_dom_classes": [],
            "description": "",
            "_model_name": "HTMLModel",
            "placeholder": "​",
            "_view_module": "@jupyter-widgets/controls",
            "_model_module_version": "1.5.0",
            "value": " 337/337 [00:00&lt;00:00, 10.7kB/s]",
            "_view_count": null,
            "_view_module_version": "1.5.0",
            "description_tooltip": null,
            "_model_module": "@jupyter-widgets/controls",
            "layout": "IPY_MODEL_2d93bac3a172497eb0fa8c2055474ada"
          }
        },
        "75dcc3d430544db9839cacf7c0bd5193": {
          "model_module": "@jupyter-widgets/controls",
          "model_name": "DescriptionStyleModel",
          "model_module_version": "1.5.0",
          "state": {
            "_view_name": "StyleView",
            "_model_name": "DescriptionStyleModel",
            "description_width": "",
            "_view_module": "@jupyter-widgets/base",
            "_model_module_version": "1.5.0",
            "_view_count": null,
            "_view_module_version": "1.2.0",
            "_model_module": "@jupyter-widgets/controls"
          }
        },
        "85c27dbf62d942f59f1743d68fa525d5": {
          "model_module": "@jupyter-widgets/base",
          "model_name": "LayoutModel",
          "model_module_version": "1.2.0",
          "state": {
            "_view_name": "LayoutView",
            "grid_template_rows": null,
            "right": null,
            "justify_content": null,
            "_view_module": "@jupyter-widgets/base",
            "overflow": null,
            "_model_module_version": "1.2.0",
            "_view_count": null,
            "flex_flow": null,
            "width": null,
            "min_width": null,
            "border": null,
            "align_items": null,
            "bottom": null,
            "_model_module": "@jupyter-widgets/base",
            "top": null,
            "grid_column": null,
            "overflow_y": null,
            "overflow_x": null,
            "grid_auto_flow": null,
            "grid_area": null,
            "grid_template_columns": null,
            "flex": null,
            "_model_name": "LayoutModel",
            "justify_items": null,
            "grid_row": null,
            "max_height": null,
            "align_content": null,
            "visibility": null,
            "align_self": null,
            "height": null,
            "min_height": null,
            "padding": null,
            "grid_auto_rows": null,
            "grid_gap": null,
            "max_width": null,
            "order": null,
            "_view_module_version": "1.2.0",
            "grid_template_areas": null,
            "object_position": null,
            "object_fit": null,
            "grid_auto_columns": null,
            "margin": null,
            "display": null,
            "left": null
          }
        },
        "ef4d8a597b1d486e8339e94a34eb4022": {
          "model_module": "@jupyter-widgets/controls",
          "model_name": "ProgressStyleModel",
          "model_module_version": "1.5.0",
          "state": {
            "_view_name": "StyleView",
            "_model_name": "ProgressStyleModel",
            "description_width": "",
            "_view_module": "@jupyter-widgets/base",
            "_model_module_version": "1.5.0",
            "_view_count": null,
            "_view_module_version": "1.2.0",
            "bar_color": null,
            "_model_module": "@jupyter-widgets/controls"
          }
        },
        "3c151301dc9f4dc4a42d177fb3a8dc1f": {
          "model_module": "@jupyter-widgets/base",
          "model_name": "LayoutModel",
          "model_module_version": "1.2.0",
          "state": {
            "_view_name": "LayoutView",
            "grid_template_rows": null,
            "right": null,
            "justify_content": null,
            "_view_module": "@jupyter-widgets/base",
            "overflow": null,
            "_model_module_version": "1.2.0",
            "_view_count": null,
            "flex_flow": null,
            "width": null,
            "min_width": null,
            "border": null,
            "align_items": null,
            "bottom": null,
            "_model_module": "@jupyter-widgets/base",
            "top": null,
            "grid_column": null,
            "overflow_y": null,
            "overflow_x": null,
            "grid_auto_flow": null,
            "grid_area": null,
            "grid_template_columns": null,
            "flex": null,
            "_model_name": "LayoutModel",
            "justify_items": null,
            "grid_row": null,
            "max_height": null,
            "align_content": null,
            "visibility": null,
            "align_self": null,
            "height": null,
            "min_height": null,
            "padding": null,
            "grid_auto_rows": null,
            "grid_gap": null,
            "max_width": null,
            "order": null,
            "_view_module_version": "1.2.0",
            "grid_template_areas": null,
            "object_position": null,
            "object_fit": null,
            "grid_auto_columns": null,
            "margin": null,
            "display": null,
            "left": null
          }
        },
        "4d9a1b9fff994ac39f53d81f0bf8ad63": {
          "model_module": "@jupyter-widgets/controls",
          "model_name": "DescriptionStyleModel",
          "model_module_version": "1.5.0",
          "state": {
            "_view_name": "StyleView",
            "_model_name": "DescriptionStyleModel",
            "description_width": "",
            "_view_module": "@jupyter-widgets/base",
            "_model_module_version": "1.5.0",
            "_view_count": null,
            "_view_module_version": "1.2.0",
            "_model_module": "@jupyter-widgets/controls"
          }
        },
        "2d93bac3a172497eb0fa8c2055474ada": {
          "model_module": "@jupyter-widgets/base",
          "model_name": "LayoutModel",
          "model_module_version": "1.2.0",
          "state": {
            "_view_name": "LayoutView",
            "grid_template_rows": null,
            "right": null,
            "justify_content": null,
            "_view_module": "@jupyter-widgets/base",
            "overflow": null,
            "_model_module_version": "1.2.0",
            "_view_count": null,
            "flex_flow": null,
            "width": null,
            "min_width": null,
            "border": null,
            "align_items": null,
            "bottom": null,
            "_model_module": "@jupyter-widgets/base",
            "top": null,
            "grid_column": null,
            "overflow_y": null,
            "overflow_x": null,
            "grid_auto_flow": null,
            "grid_area": null,
            "grid_template_columns": null,
            "flex": null,
            "_model_name": "LayoutModel",
            "justify_items": null,
            "grid_row": null,
            "max_height": null,
            "align_content": null,
            "visibility": null,
            "align_self": null,
            "height": null,
            "min_height": null,
            "padding": null,
            "grid_auto_rows": null,
            "grid_gap": null,
            "max_width": null,
            "order": null,
            "_view_module_version": "1.2.0",
            "grid_template_areas": null,
            "object_position": null,
            "object_fit": null,
            "grid_auto_columns": null,
            "margin": null,
            "display": null,
            "left": null
          }
        },
        "652544d6898d4811a6b2a24f7a01d628": {
          "model_module": "@jupyter-widgets/controls",
          "model_name": "HBoxModel",
          "model_module_version": "1.5.0",
          "state": {
            "_view_name": "HBoxView",
            "_dom_classes": [],
            "_model_name": "HBoxModel",
            "_view_module": "@jupyter-widgets/controls",
            "_model_module_version": "1.5.0",
            "_view_count": null,
            "_view_module_version": "1.5.0",
            "box_style": "",
            "layout": "IPY_MODEL_8efb1911f39e4060a57b2ca417276ee1",
            "_model_module": "@jupyter-widgets/controls",
            "children": [
              "IPY_MODEL_ea3fb48107d74827a74bf90c2a230e2a",
              "IPY_MODEL_106fa37f3007417c9576b52278818004",
              "IPY_MODEL_1773238108a946a9bd3f3b6247d3a260"
            ]
          }
        },
        "8efb1911f39e4060a57b2ca417276ee1": {
          "model_module": "@jupyter-widgets/base",
          "model_name": "LayoutModel",
          "model_module_version": "1.2.0",
          "state": {
            "_view_name": "LayoutView",
            "grid_template_rows": null,
            "right": null,
            "justify_content": null,
            "_view_module": "@jupyter-widgets/base",
            "overflow": null,
            "_model_module_version": "1.2.0",
            "_view_count": null,
            "flex_flow": null,
            "width": null,
            "min_width": null,
            "border": null,
            "align_items": null,
            "bottom": null,
            "_model_module": "@jupyter-widgets/base",
            "top": null,
            "grid_column": null,
            "overflow_y": null,
            "overflow_x": null,
            "grid_auto_flow": null,
            "grid_area": null,
            "grid_template_columns": null,
            "flex": null,
            "_model_name": "LayoutModel",
            "justify_items": null,
            "grid_row": null,
            "max_height": null,
            "align_content": null,
            "visibility": null,
            "align_self": null,
            "height": null,
            "min_height": null,
            "padding": null,
            "grid_auto_rows": null,
            "grid_gap": null,
            "max_width": null,
            "order": null,
            "_view_module_version": "1.2.0",
            "grid_template_areas": null,
            "object_position": null,
            "object_fit": null,
            "grid_auto_columns": null,
            "margin": null,
            "display": null,
            "left": null
          }
        },
        "ea3fb48107d74827a74bf90c2a230e2a": {
          "model_module": "@jupyter-widgets/controls",
          "model_name": "HTMLModel",
          "model_module_version": "1.5.0",
          "state": {
            "_view_name": "HTMLView",
            "style": "IPY_MODEL_2e25690cd1b249eb8b04d7776029b401",
            "_dom_classes": [],
            "description": "",
            "_model_name": "HTMLModel",
            "placeholder": "​",
            "_view_module": "@jupyter-widgets/controls",
            "_model_module_version": "1.5.0",
            "value": "Downloading: 100%",
            "_view_count": null,
            "_view_module_version": "1.5.0",
            "description_tooltip": null,
            "_model_module": "@jupyter-widgets/controls",
            "layout": "IPY_MODEL_34869805fa2c421ba3d4818fa8c9b773"
          }
        },
        "106fa37f3007417c9576b52278818004": {
          "model_module": "@jupyter-widgets/controls",
          "model_name": "FloatProgressModel",
          "model_module_version": "1.5.0",
          "state": {
            "_view_name": "ProgressView",
            "style": "IPY_MODEL_fcb894b6328d46669fa4916d988adef0",
            "_dom_classes": [],
            "description": "",
            "_model_name": "FloatProgressModel",
            "bar_style": "success",
            "max": 226150,
            "_view_module": "@jupyter-widgets/controls",
            "_model_module_version": "1.5.0",
            "value": 226150,
            "_view_count": null,
            "_view_module_version": "1.5.0",
            "orientation": "horizontal",
            "min": 0,
            "description_tooltip": null,
            "_model_module": "@jupyter-widgets/controls",
            "layout": "IPY_MODEL_2783169242354a23be52737f5639b08a"
          }
        },
        "1773238108a946a9bd3f3b6247d3a260": {
          "model_module": "@jupyter-widgets/controls",
          "model_name": "HTMLModel",
          "model_module_version": "1.5.0",
          "state": {
            "_view_name": "HTMLView",
            "style": "IPY_MODEL_236f11f623fa44e783e8c39a55df0a83",
            "_dom_classes": [],
            "description": "",
            "_model_name": "HTMLModel",
            "placeholder": "​",
            "_view_module": "@jupyter-widgets/controls",
            "_model_module_version": "1.5.0",
            "value": " 226k/226k [00:00&lt;00:00, 2.41MB/s]",
            "_view_count": null,
            "_view_module_version": "1.5.0",
            "description_tooltip": null,
            "_model_module": "@jupyter-widgets/controls",
            "layout": "IPY_MODEL_945a601b8e8f49bb98e4f8ec36d3948b"
          }
        },
        "2e25690cd1b249eb8b04d7776029b401": {
          "model_module": "@jupyter-widgets/controls",
          "model_name": "DescriptionStyleModel",
          "model_module_version": "1.5.0",
          "state": {
            "_view_name": "StyleView",
            "_model_name": "DescriptionStyleModel",
            "description_width": "",
            "_view_module": "@jupyter-widgets/base",
            "_model_module_version": "1.5.0",
            "_view_count": null,
            "_view_module_version": "1.2.0",
            "_model_module": "@jupyter-widgets/controls"
          }
        },
        "34869805fa2c421ba3d4818fa8c9b773": {
          "model_module": "@jupyter-widgets/base",
          "model_name": "LayoutModel",
          "model_module_version": "1.2.0",
          "state": {
            "_view_name": "LayoutView",
            "grid_template_rows": null,
            "right": null,
            "justify_content": null,
            "_view_module": "@jupyter-widgets/base",
            "overflow": null,
            "_model_module_version": "1.2.0",
            "_view_count": null,
            "flex_flow": null,
            "width": null,
            "min_width": null,
            "border": null,
            "align_items": null,
            "bottom": null,
            "_model_module": "@jupyter-widgets/base",
            "top": null,
            "grid_column": null,
            "overflow_y": null,
            "overflow_x": null,
            "grid_auto_flow": null,
            "grid_area": null,
            "grid_template_columns": null,
            "flex": null,
            "_model_name": "LayoutModel",
            "justify_items": null,
            "grid_row": null,
            "max_height": null,
            "align_content": null,
            "visibility": null,
            "align_self": null,
            "height": null,
            "min_height": null,
            "padding": null,
            "grid_auto_rows": null,
            "grid_gap": null,
            "max_width": null,
            "order": null,
            "_view_module_version": "1.2.0",
            "grid_template_areas": null,
            "object_position": null,
            "object_fit": null,
            "grid_auto_columns": null,
            "margin": null,
            "display": null,
            "left": null
          }
        },
        "fcb894b6328d46669fa4916d988adef0": {
          "model_module": "@jupyter-widgets/controls",
          "model_name": "ProgressStyleModel",
          "model_module_version": "1.5.0",
          "state": {
            "_view_name": "StyleView",
            "_model_name": "ProgressStyleModel",
            "description_width": "",
            "_view_module": "@jupyter-widgets/base",
            "_model_module_version": "1.5.0",
            "_view_count": null,
            "_view_module_version": "1.2.0",
            "bar_color": null,
            "_model_module": "@jupyter-widgets/controls"
          }
        },
        "2783169242354a23be52737f5639b08a": {
          "model_module": "@jupyter-widgets/base",
          "model_name": "LayoutModel",
          "model_module_version": "1.2.0",
          "state": {
            "_view_name": "LayoutView",
            "grid_template_rows": null,
            "right": null,
            "justify_content": null,
            "_view_module": "@jupyter-widgets/base",
            "overflow": null,
            "_model_module_version": "1.2.0",
            "_view_count": null,
            "flex_flow": null,
            "width": null,
            "min_width": null,
            "border": null,
            "align_items": null,
            "bottom": null,
            "_model_module": "@jupyter-widgets/base",
            "top": null,
            "grid_column": null,
            "overflow_y": null,
            "overflow_x": null,
            "grid_auto_flow": null,
            "grid_area": null,
            "grid_template_columns": null,
            "flex": null,
            "_model_name": "LayoutModel",
            "justify_items": null,
            "grid_row": null,
            "max_height": null,
            "align_content": null,
            "visibility": null,
            "align_self": null,
            "height": null,
            "min_height": null,
            "padding": null,
            "grid_auto_rows": null,
            "grid_gap": null,
            "max_width": null,
            "order": null,
            "_view_module_version": "1.2.0",
            "grid_template_areas": null,
            "object_position": null,
            "object_fit": null,
            "grid_auto_columns": null,
            "margin": null,
            "display": null,
            "left": null
          }
        },
        "236f11f623fa44e783e8c39a55df0a83": {
          "model_module": "@jupyter-widgets/controls",
          "model_name": "DescriptionStyleModel",
          "model_module_version": "1.5.0",
          "state": {
            "_view_name": "StyleView",
            "_model_name": "DescriptionStyleModel",
            "description_width": "",
            "_view_module": "@jupyter-widgets/base",
            "_model_module_version": "1.5.0",
            "_view_count": null,
            "_view_module_version": "1.2.0",
            "_model_module": "@jupyter-widgets/controls"
          }
        },
        "945a601b8e8f49bb98e4f8ec36d3948b": {
          "model_module": "@jupyter-widgets/base",
          "model_name": "LayoutModel",
          "model_module_version": "1.2.0",
          "state": {
            "_view_name": "LayoutView",
            "grid_template_rows": null,
            "right": null,
            "justify_content": null,
            "_view_module": "@jupyter-widgets/base",
            "overflow": null,
            "_model_module_version": "1.2.0",
            "_view_count": null,
            "flex_flow": null,
            "width": null,
            "min_width": null,
            "border": null,
            "align_items": null,
            "bottom": null,
            "_model_module": "@jupyter-widgets/base",
            "top": null,
            "grid_column": null,
            "overflow_y": null,
            "overflow_x": null,
            "grid_auto_flow": null,
            "grid_area": null,
            "grid_template_columns": null,
            "flex": null,
            "_model_name": "LayoutModel",
            "justify_items": null,
            "grid_row": null,
            "max_height": null,
            "align_content": null,
            "visibility": null,
            "align_self": null,
            "height": null,
            "min_height": null,
            "padding": null,
            "grid_auto_rows": null,
            "grid_gap": null,
            "max_width": null,
            "order": null,
            "_view_module_version": "1.2.0",
            "grid_template_areas": null,
            "object_position": null,
            "object_fit": null,
            "grid_auto_columns": null,
            "margin": null,
            "display": null,
            "left": null
          }
        },
        "45c442edb9aa432c919afd506dad6365": {
          "model_module": "@jupyter-widgets/controls",
          "model_name": "HBoxModel",
          "model_module_version": "1.5.0",
          "state": {
            "_view_name": "HBoxView",
            "_dom_classes": [],
            "_model_name": "HBoxModel",
            "_view_module": "@jupyter-widgets/controls",
            "_model_module_version": "1.5.0",
            "_view_count": null,
            "_view_module_version": "1.5.0",
            "box_style": "",
            "layout": "IPY_MODEL_8381e46caed54506a0b27cc79a9ab303",
            "_model_module": "@jupyter-widgets/controls",
            "children": [
              "IPY_MODEL_41d751a3a2d546958217632e2f34a114",
              "IPY_MODEL_e5526e1ea856447e97c3fcd334910ffb",
              "IPY_MODEL_92b7aa7d07be48f3b658766668b38adf"
            ]
          }
        },
        "8381e46caed54506a0b27cc79a9ab303": {
          "model_module": "@jupyter-widgets/base",
          "model_name": "LayoutModel",
          "model_module_version": "1.2.0",
          "state": {
            "_view_name": "LayoutView",
            "grid_template_rows": null,
            "right": null,
            "justify_content": null,
            "_view_module": "@jupyter-widgets/base",
            "overflow": null,
            "_model_module_version": "1.2.0",
            "_view_count": null,
            "flex_flow": null,
            "width": null,
            "min_width": null,
            "border": null,
            "align_items": null,
            "bottom": null,
            "_model_module": "@jupyter-widgets/base",
            "top": null,
            "grid_column": null,
            "overflow_y": null,
            "overflow_x": null,
            "grid_auto_flow": null,
            "grid_area": null,
            "grid_template_columns": null,
            "flex": null,
            "_model_name": "LayoutModel",
            "justify_items": null,
            "grid_row": null,
            "max_height": null,
            "align_content": null,
            "visibility": null,
            "align_self": null,
            "height": null,
            "min_height": null,
            "padding": null,
            "grid_auto_rows": null,
            "grid_gap": null,
            "max_width": null,
            "order": null,
            "_view_module_version": "1.2.0",
            "grid_template_areas": null,
            "object_position": null,
            "object_fit": null,
            "grid_auto_columns": null,
            "margin": null,
            "display": null,
            "left": null
          }
        },
        "41d751a3a2d546958217632e2f34a114": {
          "model_module": "@jupyter-widgets/controls",
          "model_name": "HTMLModel",
          "model_module_version": "1.5.0",
          "state": {
            "_view_name": "HTMLView",
            "style": "IPY_MODEL_e950d42830924d53b3e973b2cfb2e809",
            "_dom_classes": [],
            "description": "",
            "_model_name": "HTMLModel",
            "placeholder": "​",
            "_view_module": "@jupyter-widgets/controls",
            "_model_module_version": "1.5.0",
            "value": "Downloading: 100%",
            "_view_count": null,
            "_view_module_version": "1.5.0",
            "description_tooltip": null,
            "_model_module": "@jupyter-widgets/controls",
            "layout": "IPY_MODEL_601faef2c4e44d5a977ac7fbd1b1ea04"
          }
        },
        "e5526e1ea856447e97c3fcd334910ffb": {
          "model_module": "@jupyter-widgets/controls",
          "model_name": "FloatProgressModel",
          "model_module_version": "1.5.0",
          "state": {
            "_view_name": "ProgressView",
            "style": "IPY_MODEL_4c758d17e2024516ab57d47d73566f1f",
            "_dom_classes": [],
            "description": "",
            "_model_name": "FloatProgressModel",
            "bar_style": "success",
            "max": 321,
            "_view_module": "@jupyter-widgets/controls",
            "_model_module_version": "1.5.0",
            "value": 321,
            "_view_count": null,
            "_view_module_version": "1.5.0",
            "orientation": "horizontal",
            "min": 0,
            "description_tooltip": null,
            "_model_module": "@jupyter-widgets/controls",
            "layout": "IPY_MODEL_6042452cf9ea494b851a32b691972348"
          }
        },
        "92b7aa7d07be48f3b658766668b38adf": {
          "model_module": "@jupyter-widgets/controls",
          "model_name": "HTMLModel",
          "model_module_version": "1.5.0",
          "state": {
            "_view_name": "HTMLView",
            "style": "IPY_MODEL_1e710cebd4254918a225eacba6634fb0",
            "_dom_classes": [],
            "description": "",
            "_model_name": "HTMLModel",
            "placeholder": "​",
            "_view_module": "@jupyter-widgets/controls",
            "_model_module_version": "1.5.0",
            "value": " 321/321 [00:00&lt;00:00, 9.88kB/s]",
            "_view_count": null,
            "_view_module_version": "1.5.0",
            "description_tooltip": null,
            "_model_module": "@jupyter-widgets/controls",
            "layout": "IPY_MODEL_a6886d460b594f26b4dc49dc707a3838"
          }
        },
        "e950d42830924d53b3e973b2cfb2e809": {
          "model_module": "@jupyter-widgets/controls",
          "model_name": "DescriptionStyleModel",
          "model_module_version": "1.5.0",
          "state": {
            "_view_name": "StyleView",
            "_model_name": "DescriptionStyleModel",
            "description_width": "",
            "_view_module": "@jupyter-widgets/base",
            "_model_module_version": "1.5.0",
            "_view_count": null,
            "_view_module_version": "1.2.0",
            "_model_module": "@jupyter-widgets/controls"
          }
        },
        "601faef2c4e44d5a977ac7fbd1b1ea04": {
          "model_module": "@jupyter-widgets/base",
          "model_name": "LayoutModel",
          "model_module_version": "1.2.0",
          "state": {
            "_view_name": "LayoutView",
            "grid_template_rows": null,
            "right": null,
            "justify_content": null,
            "_view_module": "@jupyter-widgets/base",
            "overflow": null,
            "_model_module_version": "1.2.0",
            "_view_count": null,
            "flex_flow": null,
            "width": null,
            "min_width": null,
            "border": null,
            "align_items": null,
            "bottom": null,
            "_model_module": "@jupyter-widgets/base",
            "top": null,
            "grid_column": null,
            "overflow_y": null,
            "overflow_x": null,
            "grid_auto_flow": null,
            "grid_area": null,
            "grid_template_columns": null,
            "flex": null,
            "_model_name": "LayoutModel",
            "justify_items": null,
            "grid_row": null,
            "max_height": null,
            "align_content": null,
            "visibility": null,
            "align_self": null,
            "height": null,
            "min_height": null,
            "padding": null,
            "grid_auto_rows": null,
            "grid_gap": null,
            "max_width": null,
            "order": null,
            "_view_module_version": "1.2.0",
            "grid_template_areas": null,
            "object_position": null,
            "object_fit": null,
            "grid_auto_columns": null,
            "margin": null,
            "display": null,
            "left": null
          }
        },
        "4c758d17e2024516ab57d47d73566f1f": {
          "model_module": "@jupyter-widgets/controls",
          "model_name": "ProgressStyleModel",
          "model_module_version": "1.5.0",
          "state": {
            "_view_name": "StyleView",
            "_model_name": "ProgressStyleModel",
            "description_width": "",
            "_view_module": "@jupyter-widgets/base",
            "_model_module_version": "1.5.0",
            "_view_count": null,
            "_view_module_version": "1.2.0",
            "bar_color": null,
            "_model_module": "@jupyter-widgets/controls"
          }
        },
        "6042452cf9ea494b851a32b691972348": {
          "model_module": "@jupyter-widgets/base",
          "model_name": "LayoutModel",
          "model_module_version": "1.2.0",
          "state": {
            "_view_name": "LayoutView",
            "grid_template_rows": null,
            "right": null,
            "justify_content": null,
            "_view_module": "@jupyter-widgets/base",
            "overflow": null,
            "_model_module_version": "1.2.0",
            "_view_count": null,
            "flex_flow": null,
            "width": null,
            "min_width": null,
            "border": null,
            "align_items": null,
            "bottom": null,
            "_model_module": "@jupyter-widgets/base",
            "top": null,
            "grid_column": null,
            "overflow_y": null,
            "overflow_x": null,
            "grid_auto_flow": null,
            "grid_area": null,
            "grid_template_columns": null,
            "flex": null,
            "_model_name": "LayoutModel",
            "justify_items": null,
            "grid_row": null,
            "max_height": null,
            "align_content": null,
            "visibility": null,
            "align_self": null,
            "height": null,
            "min_height": null,
            "padding": null,
            "grid_auto_rows": null,
            "grid_gap": null,
            "max_width": null,
            "order": null,
            "_view_module_version": "1.2.0",
            "grid_template_areas": null,
            "object_position": null,
            "object_fit": null,
            "grid_auto_columns": null,
            "margin": null,
            "display": null,
            "left": null
          }
        },
        "1e710cebd4254918a225eacba6634fb0": {
          "model_module": "@jupyter-widgets/controls",
          "model_name": "DescriptionStyleModel",
          "model_module_version": "1.5.0",
          "state": {
            "_view_name": "StyleView",
            "_model_name": "DescriptionStyleModel",
            "description_width": "",
            "_view_module": "@jupyter-widgets/base",
            "_model_module_version": "1.5.0",
            "_view_count": null,
            "_view_module_version": "1.2.0",
            "_model_module": "@jupyter-widgets/controls"
          }
        },
        "a6886d460b594f26b4dc49dc707a3838": {
          "model_module": "@jupyter-widgets/base",
          "model_name": "LayoutModel",
          "model_module_version": "1.2.0",
          "state": {
            "_view_name": "LayoutView",
            "grid_template_rows": null,
            "right": null,
            "justify_content": null,
            "_view_module": "@jupyter-widgets/base",
            "overflow": null,
            "_model_module_version": "1.2.0",
            "_view_count": null,
            "flex_flow": null,
            "width": null,
            "min_width": null,
            "border": null,
            "align_items": null,
            "bottom": null,
            "_model_module": "@jupyter-widgets/base",
            "top": null,
            "grid_column": null,
            "overflow_y": null,
            "overflow_x": null,
            "grid_auto_flow": null,
            "grid_area": null,
            "grid_template_columns": null,
            "flex": null,
            "_model_name": "LayoutModel",
            "justify_items": null,
            "grid_row": null,
            "max_height": null,
            "align_content": null,
            "visibility": null,
            "align_self": null,
            "height": null,
            "min_height": null,
            "padding": null,
            "grid_auto_rows": null,
            "grid_gap": null,
            "max_width": null,
            "order": null,
            "_view_module_version": "1.2.0",
            "grid_template_areas": null,
            "object_position": null,
            "object_fit": null,
            "grid_auto_columns": null,
            "margin": null,
            "display": null,
            "left": null
          }
        },
        "1785898e3fa1413da5add68a05f704a1": {
          "model_module": "@jupyter-widgets/controls",
          "model_name": "HBoxModel",
          "model_module_version": "1.5.0",
          "state": {
            "_view_name": "HBoxView",
            "_dom_classes": [],
            "_model_name": "HBoxModel",
            "_view_module": "@jupyter-widgets/controls",
            "_model_module_version": "1.5.0",
            "_view_count": null,
            "_view_module_version": "1.5.0",
            "box_style": "",
            "layout": "IPY_MODEL_c02f312714c643559afaf3e3d5f6782a",
            "_model_module": "@jupyter-widgets/controls",
            "children": [
              "IPY_MODEL_58feb74d856d4d918fbcd01d4ef6f3df",
              "IPY_MODEL_e497307cdb1c4d49bb5d87fb7ad1d133",
              "IPY_MODEL_f70ec45431594358a96a1123abea9f87"
            ]
          }
        },
        "c02f312714c643559afaf3e3d5f6782a": {
          "model_module": "@jupyter-widgets/base",
          "model_name": "LayoutModel",
          "model_module_version": "1.2.0",
          "state": {
            "_view_name": "LayoutView",
            "grid_template_rows": null,
            "right": null,
            "justify_content": null,
            "_view_module": "@jupyter-widgets/base",
            "overflow": null,
            "_model_module_version": "1.2.0",
            "_view_count": null,
            "flex_flow": null,
            "width": null,
            "min_width": null,
            "border": null,
            "align_items": null,
            "bottom": null,
            "_model_module": "@jupyter-widgets/base",
            "top": null,
            "grid_column": null,
            "overflow_y": null,
            "overflow_x": null,
            "grid_auto_flow": null,
            "grid_area": null,
            "grid_template_columns": null,
            "flex": null,
            "_model_name": "LayoutModel",
            "justify_items": null,
            "grid_row": null,
            "max_height": null,
            "align_content": null,
            "visibility": null,
            "align_self": null,
            "height": null,
            "min_height": null,
            "padding": null,
            "grid_auto_rows": null,
            "grid_gap": null,
            "max_width": null,
            "order": null,
            "_view_module_version": "1.2.0",
            "grid_template_areas": null,
            "object_position": null,
            "object_fit": null,
            "grid_auto_columns": null,
            "margin": null,
            "display": null,
            "left": null
          }
        },
        "58feb74d856d4d918fbcd01d4ef6f3df": {
          "model_module": "@jupyter-widgets/controls",
          "model_name": "HTMLModel",
          "model_module_version": "1.5.0",
          "state": {
            "_view_name": "HTMLView",
            "style": "IPY_MODEL_3f26dc09b56e4f83a3f02462b117016b",
            "_dom_classes": [],
            "description": "",
            "_model_name": "HTMLModel",
            "placeholder": "​",
            "_view_module": "@jupyter-widgets/controls",
            "_model_module_version": "1.5.0",
            "value": "Downloading: 100%",
            "_view_count": null,
            "_view_module_version": "1.5.0",
            "description_tooltip": null,
            "_model_module": "@jupyter-widgets/controls",
            "layout": "IPY_MODEL_65763b0c802e459a87affbf01981dab7"
          }
        },
        "e497307cdb1c4d49bb5d87fb7ad1d133": {
          "model_module": "@jupyter-widgets/controls",
          "model_name": "FloatProgressModel",
          "model_module_version": "1.5.0",
          "state": {
            "_view_name": "ProgressView",
            "style": "IPY_MODEL_767a9f874cc140b28b1577b0e044caa0",
            "_dom_classes": [],
            "description": "",
            "_model_name": "FloatProgressModel",
            "bar_style": "success",
            "max": 612,
            "_view_module": "@jupyter-widgets/controls",
            "_model_module_version": "1.5.0",
            "value": 612,
            "_view_count": null,
            "_view_module_version": "1.5.0",
            "orientation": "horizontal",
            "min": 0,
            "description_tooltip": null,
            "_model_module": "@jupyter-widgets/controls",
            "layout": "IPY_MODEL_7d3cf0fd9a8f4fdba08b80fb1867b4ee"
          }
        },
        "f70ec45431594358a96a1123abea9f87": {
          "model_module": "@jupyter-widgets/controls",
          "model_name": "HTMLModel",
          "model_module_version": "1.5.0",
          "state": {
            "_view_name": "HTMLView",
            "style": "IPY_MODEL_027bf8789f0e4d258199863e2781591e",
            "_dom_classes": [],
            "description": "",
            "_model_name": "HTMLModel",
            "placeholder": "​",
            "_view_module": "@jupyter-widgets/controls",
            "_model_module_version": "1.5.0",
            "value": " 612/612 [00:00&lt;00:00, 20.7kB/s]",
            "_view_count": null,
            "_view_module_version": "1.5.0",
            "description_tooltip": null,
            "_model_module": "@jupyter-widgets/controls",
            "layout": "IPY_MODEL_7096106ca51f4e38bc81a1481f92f46f"
          }
        },
        "3f26dc09b56e4f83a3f02462b117016b": {
          "model_module": "@jupyter-widgets/controls",
          "model_name": "DescriptionStyleModel",
          "model_module_version": "1.5.0",
          "state": {
            "_view_name": "StyleView",
            "_model_name": "DescriptionStyleModel",
            "description_width": "",
            "_view_module": "@jupyter-widgets/base",
            "_model_module_version": "1.5.0",
            "_view_count": null,
            "_view_module_version": "1.2.0",
            "_model_module": "@jupyter-widgets/controls"
          }
        },
        "65763b0c802e459a87affbf01981dab7": {
          "model_module": "@jupyter-widgets/base",
          "model_name": "LayoutModel",
          "model_module_version": "1.2.0",
          "state": {
            "_view_name": "LayoutView",
            "grid_template_rows": null,
            "right": null,
            "justify_content": null,
            "_view_module": "@jupyter-widgets/base",
            "overflow": null,
            "_model_module_version": "1.2.0",
            "_view_count": null,
            "flex_flow": null,
            "width": null,
            "min_width": null,
            "border": null,
            "align_items": null,
            "bottom": null,
            "_model_module": "@jupyter-widgets/base",
            "top": null,
            "grid_column": null,
            "overflow_y": null,
            "overflow_x": null,
            "grid_auto_flow": null,
            "grid_area": null,
            "grid_template_columns": null,
            "flex": null,
            "_model_name": "LayoutModel",
            "justify_items": null,
            "grid_row": null,
            "max_height": null,
            "align_content": null,
            "visibility": null,
            "align_self": null,
            "height": null,
            "min_height": null,
            "padding": null,
            "grid_auto_rows": null,
            "grid_gap": null,
            "max_width": null,
            "order": null,
            "_view_module_version": "1.2.0",
            "grid_template_areas": null,
            "object_position": null,
            "object_fit": null,
            "grid_auto_columns": null,
            "margin": null,
            "display": null,
            "left": null
          }
        },
        "767a9f874cc140b28b1577b0e044caa0": {
          "model_module": "@jupyter-widgets/controls",
          "model_name": "ProgressStyleModel",
          "model_module_version": "1.5.0",
          "state": {
            "_view_name": "StyleView",
            "_model_name": "ProgressStyleModel",
            "description_width": "",
            "_view_module": "@jupyter-widgets/base",
            "_model_module_version": "1.5.0",
            "_view_count": null,
            "_view_module_version": "1.2.0",
            "bar_color": null,
            "_model_module": "@jupyter-widgets/controls"
          }
        },
        "7d3cf0fd9a8f4fdba08b80fb1867b4ee": {
          "model_module": "@jupyter-widgets/base",
          "model_name": "LayoutModel",
          "model_module_version": "1.2.0",
          "state": {
            "_view_name": "LayoutView",
            "grid_template_rows": null,
            "right": null,
            "justify_content": null,
            "_view_module": "@jupyter-widgets/base",
            "overflow": null,
            "_model_module_version": "1.2.0",
            "_view_count": null,
            "flex_flow": null,
            "width": null,
            "min_width": null,
            "border": null,
            "align_items": null,
            "bottom": null,
            "_model_module": "@jupyter-widgets/base",
            "top": null,
            "grid_column": null,
            "overflow_y": null,
            "overflow_x": null,
            "grid_auto_flow": null,
            "grid_area": null,
            "grid_template_columns": null,
            "flex": null,
            "_model_name": "LayoutModel",
            "justify_items": null,
            "grid_row": null,
            "max_height": null,
            "align_content": null,
            "visibility": null,
            "align_self": null,
            "height": null,
            "min_height": null,
            "padding": null,
            "grid_auto_rows": null,
            "grid_gap": null,
            "max_width": null,
            "order": null,
            "_view_module_version": "1.2.0",
            "grid_template_areas": null,
            "object_position": null,
            "object_fit": null,
            "grid_auto_columns": null,
            "margin": null,
            "display": null,
            "left": null
          }
        },
        "027bf8789f0e4d258199863e2781591e": {
          "model_module": "@jupyter-widgets/controls",
          "model_name": "DescriptionStyleModel",
          "model_module_version": "1.5.0",
          "state": {
            "_view_name": "StyleView",
            "_model_name": "DescriptionStyleModel",
            "description_width": "",
            "_view_module": "@jupyter-widgets/base",
            "_model_module_version": "1.5.0",
            "_view_count": null,
            "_view_module_version": "1.2.0",
            "_model_module": "@jupyter-widgets/controls"
          }
        },
        "7096106ca51f4e38bc81a1481f92f46f": {
          "model_module": "@jupyter-widgets/base",
          "model_name": "LayoutModel",
          "model_module_version": "1.2.0",
          "state": {
            "_view_name": "LayoutView",
            "grid_template_rows": null,
            "right": null,
            "justify_content": null,
            "_view_module": "@jupyter-widgets/base",
            "overflow": null,
            "_model_module_version": "1.2.0",
            "_view_count": null,
            "flex_flow": null,
            "width": null,
            "min_width": null,
            "border": null,
            "align_items": null,
            "bottom": null,
            "_model_module": "@jupyter-widgets/base",
            "top": null,
            "grid_column": null,
            "overflow_y": null,
            "overflow_x": null,
            "grid_auto_flow": null,
            "grid_area": null,
            "grid_template_columns": null,
            "flex": null,
            "_model_name": "LayoutModel",
            "justify_items": null,
            "grid_row": null,
            "max_height": null,
            "align_content": null,
            "visibility": null,
            "align_self": null,
            "height": null,
            "min_height": null,
            "padding": null,
            "grid_auto_rows": null,
            "grid_gap": null,
            "max_width": null,
            "order": null,
            "_view_module_version": "1.2.0",
            "grid_template_areas": null,
            "object_position": null,
            "object_fit": null,
            "grid_auto_columns": null,
            "margin": null,
            "display": null,
            "left": null
          }
        },
        "1f089fd6484b4ab6bde71e3a38556206": {
          "model_module": "@jupyter-widgets/controls",
          "model_name": "HBoxModel",
          "model_module_version": "1.5.0",
          "state": {
            "_view_name": "HBoxView",
            "_dom_classes": [],
            "_model_name": "HBoxModel",
            "_view_module": "@jupyter-widgets/controls",
            "_model_module_version": "1.5.0",
            "_view_count": null,
            "_view_module_version": "1.5.0",
            "box_style": "",
            "layout": "IPY_MODEL_1b8abd07521c4d5d840068dab507fe88",
            "_model_module": "@jupyter-widgets/controls",
            "children": [
              "IPY_MODEL_38dccefd3c5e4e85b0c27ab1b647c710",
              "IPY_MODEL_eb7da78a66b9449b9ccb142f1b2dc763",
              "IPY_MODEL_05f83e18918645c298da9a8108b228a4"
            ]
          }
        },
        "1b8abd07521c4d5d840068dab507fe88": {
          "model_module": "@jupyter-widgets/base",
          "model_name": "LayoutModel",
          "model_module_version": "1.2.0",
          "state": {
            "_view_name": "LayoutView",
            "grid_template_rows": null,
            "right": null,
            "justify_content": null,
            "_view_module": "@jupyter-widgets/base",
            "overflow": null,
            "_model_module_version": "1.2.0",
            "_view_count": null,
            "flex_flow": null,
            "width": null,
            "min_width": null,
            "border": null,
            "align_items": null,
            "bottom": null,
            "_model_module": "@jupyter-widgets/base",
            "top": null,
            "grid_column": null,
            "overflow_y": null,
            "overflow_x": null,
            "grid_auto_flow": null,
            "grid_area": null,
            "grid_template_columns": null,
            "flex": null,
            "_model_name": "LayoutModel",
            "justify_items": null,
            "grid_row": null,
            "max_height": null,
            "align_content": null,
            "visibility": null,
            "align_self": null,
            "height": null,
            "min_height": null,
            "padding": null,
            "grid_auto_rows": null,
            "grid_gap": null,
            "max_width": null,
            "order": null,
            "_view_module_version": "1.2.0",
            "grid_template_areas": null,
            "object_position": null,
            "object_fit": null,
            "grid_auto_columns": null,
            "margin": null,
            "display": null,
            "left": null
          }
        },
        "38dccefd3c5e4e85b0c27ab1b647c710": {
          "model_module": "@jupyter-widgets/controls",
          "model_name": "HTMLModel",
          "model_module_version": "1.5.0",
          "state": {
            "_view_name": "HTMLView",
            "style": "IPY_MODEL_fcde1ef582d845cbbcdfcdf94b0db829",
            "_dom_classes": [],
            "description": "",
            "_model_name": "HTMLModel",
            "placeholder": "​",
            "_view_module": "@jupyter-widgets/controls",
            "_model_module_version": "1.5.0",
            "value": "Downloading: 100%",
            "_view_count": null,
            "_view_module_version": "1.5.0",
            "description_tooltip": null,
            "_model_module": "@jupyter-widgets/controls",
            "layout": "IPY_MODEL_c320729eb21d46bead1f0cde2498e818"
          }
        },
        "eb7da78a66b9449b9ccb142f1b2dc763": {
          "model_module": "@jupyter-widgets/controls",
          "model_name": "FloatProgressModel",
          "model_module_version": "1.5.0",
          "state": {
            "_view_name": "ProgressView",
            "style": "IPY_MODEL_12c40ec37ff442b486e84629413c458d",
            "_dom_classes": [],
            "description": "",
            "_model_name": "FloatProgressModel",
            "bar_style": "success",
            "max": 222296,
            "_view_module": "@jupyter-widgets/controls",
            "_model_module_version": "1.5.0",
            "value": 222296,
            "_view_count": null,
            "_view_module_version": "1.5.0",
            "orientation": "horizontal",
            "min": 0,
            "description_tooltip": null,
            "_model_module": "@jupyter-widgets/controls",
            "layout": "IPY_MODEL_cd225199b9e34b3cbcb68c82f96ae32c"
          }
        },
        "05f83e18918645c298da9a8108b228a4": {
          "model_module": "@jupyter-widgets/controls",
          "model_name": "HTMLModel",
          "model_module_version": "1.5.0",
          "state": {
            "_view_name": "HTMLView",
            "style": "IPY_MODEL_a7e1affb953f469fb4ce3bef7bd0abea",
            "_dom_classes": [],
            "description": "",
            "_model_name": "HTMLModel",
            "placeholder": "​",
            "_view_module": "@jupyter-widgets/controls",
            "_model_module_version": "1.5.0",
            "value": " 222k/222k [00:00&lt;00:00, 2.76MB/s]",
            "_view_count": null,
            "_view_module_version": "1.5.0",
            "description_tooltip": null,
            "_model_module": "@jupyter-widgets/controls",
            "layout": "IPY_MODEL_5c14e63e05d346bba764def96fac3938"
          }
        },
        "fcde1ef582d845cbbcdfcdf94b0db829": {
          "model_module": "@jupyter-widgets/controls",
          "model_name": "DescriptionStyleModel",
          "model_module_version": "1.5.0",
          "state": {
            "_view_name": "StyleView",
            "_model_name": "DescriptionStyleModel",
            "description_width": "",
            "_view_module": "@jupyter-widgets/base",
            "_model_module_version": "1.5.0",
            "_view_count": null,
            "_view_module_version": "1.2.0",
            "_model_module": "@jupyter-widgets/controls"
          }
        },
        "c320729eb21d46bead1f0cde2498e818": {
          "model_module": "@jupyter-widgets/base",
          "model_name": "LayoutModel",
          "model_module_version": "1.2.0",
          "state": {
            "_view_name": "LayoutView",
            "grid_template_rows": null,
            "right": null,
            "justify_content": null,
            "_view_module": "@jupyter-widgets/base",
            "overflow": null,
            "_model_module_version": "1.2.0",
            "_view_count": null,
            "flex_flow": null,
            "width": null,
            "min_width": null,
            "border": null,
            "align_items": null,
            "bottom": null,
            "_model_module": "@jupyter-widgets/base",
            "top": null,
            "grid_column": null,
            "overflow_y": null,
            "overflow_x": null,
            "grid_auto_flow": null,
            "grid_area": null,
            "grid_template_columns": null,
            "flex": null,
            "_model_name": "LayoutModel",
            "justify_items": null,
            "grid_row": null,
            "max_height": null,
            "align_content": null,
            "visibility": null,
            "align_self": null,
            "height": null,
            "min_height": null,
            "padding": null,
            "grid_auto_rows": null,
            "grid_gap": null,
            "max_width": null,
            "order": null,
            "_view_module_version": "1.2.0",
            "grid_template_areas": null,
            "object_position": null,
            "object_fit": null,
            "grid_auto_columns": null,
            "margin": null,
            "display": null,
            "left": null
          }
        },
        "12c40ec37ff442b486e84629413c458d": {
          "model_module": "@jupyter-widgets/controls",
          "model_name": "ProgressStyleModel",
          "model_module_version": "1.5.0",
          "state": {
            "_view_name": "StyleView",
            "_model_name": "ProgressStyleModel",
            "description_width": "",
            "_view_module": "@jupyter-widgets/base",
            "_model_module_version": "1.5.0",
            "_view_count": null,
            "_view_module_version": "1.2.0",
            "bar_color": null,
            "_model_module": "@jupyter-widgets/controls"
          }
        },
        "cd225199b9e34b3cbcb68c82f96ae32c": {
          "model_module": "@jupyter-widgets/base",
          "model_name": "LayoutModel",
          "model_module_version": "1.2.0",
          "state": {
            "_view_name": "LayoutView",
            "grid_template_rows": null,
            "right": null,
            "justify_content": null,
            "_view_module": "@jupyter-widgets/base",
            "overflow": null,
            "_model_module_version": "1.2.0",
            "_view_count": null,
            "flex_flow": null,
            "width": null,
            "min_width": null,
            "border": null,
            "align_items": null,
            "bottom": null,
            "_model_module": "@jupyter-widgets/base",
            "top": null,
            "grid_column": null,
            "overflow_y": null,
            "overflow_x": null,
            "grid_auto_flow": null,
            "grid_area": null,
            "grid_template_columns": null,
            "flex": null,
            "_model_name": "LayoutModel",
            "justify_items": null,
            "grid_row": null,
            "max_height": null,
            "align_content": null,
            "visibility": null,
            "align_self": null,
            "height": null,
            "min_height": null,
            "padding": null,
            "grid_auto_rows": null,
            "grid_gap": null,
            "max_width": null,
            "order": null,
            "_view_module_version": "1.2.0",
            "grid_template_areas": null,
            "object_position": null,
            "object_fit": null,
            "grid_auto_columns": null,
            "margin": null,
            "display": null,
            "left": null
          }
        },
        "a7e1affb953f469fb4ce3bef7bd0abea": {
          "model_module": "@jupyter-widgets/controls",
          "model_name": "DescriptionStyleModel",
          "model_module_version": "1.5.0",
          "state": {
            "_view_name": "StyleView",
            "_model_name": "DescriptionStyleModel",
            "description_width": "",
            "_view_module": "@jupyter-widgets/base",
            "_model_module_version": "1.5.0",
            "_view_count": null,
            "_view_module_version": "1.2.0",
            "_model_module": "@jupyter-widgets/controls"
          }
        },
        "5c14e63e05d346bba764def96fac3938": {
          "model_module": "@jupyter-widgets/base",
          "model_name": "LayoutModel",
          "model_module_version": "1.2.0",
          "state": {
            "_view_name": "LayoutView",
            "grid_template_rows": null,
            "right": null,
            "justify_content": null,
            "_view_module": "@jupyter-widgets/base",
            "overflow": null,
            "_model_module_version": "1.2.0",
            "_view_count": null,
            "flex_flow": null,
            "width": null,
            "min_width": null,
            "border": null,
            "align_items": null,
            "bottom": null,
            "_model_module": "@jupyter-widgets/base",
            "top": null,
            "grid_column": null,
            "overflow_y": null,
            "overflow_x": null,
            "grid_auto_flow": null,
            "grid_area": null,
            "grid_template_columns": null,
            "flex": null,
            "_model_name": "LayoutModel",
            "justify_items": null,
            "grid_row": null,
            "max_height": null,
            "align_content": null,
            "visibility": null,
            "align_self": null,
            "height": null,
            "min_height": null,
            "padding": null,
            "grid_auto_rows": null,
            "grid_gap": null,
            "max_width": null,
            "order": null,
            "_view_module_version": "1.2.0",
            "grid_template_areas": null,
            "object_position": null,
            "object_fit": null,
            "grid_auto_columns": null,
            "margin": null,
            "display": null,
            "left": null
          }
        },
        "c15b38078f10460e9e2f6b52697cd183": {
          "model_module": "@jupyter-widgets/controls",
          "model_name": "HBoxModel",
          "model_module_version": "1.5.0",
          "state": {
            "_view_name": "HBoxView",
            "_dom_classes": [],
            "_model_name": "HBoxModel",
            "_view_module": "@jupyter-widgets/controls",
            "_model_module_version": "1.5.0",
            "_view_count": null,
            "_view_module_version": "1.5.0",
            "box_style": "",
            "layout": "IPY_MODEL_271104af761243538066b165aeab1241",
            "_model_module": "@jupyter-widgets/controls",
            "children": [
              "IPY_MODEL_b2c4cb350a9d4d16be8e8b23be418dc9",
              "IPY_MODEL_c86e7782d56e401ba007d6de27c53bc4",
              "IPY_MODEL_974f359bd541432aad7c2e958f918220"
            ]
          }
        },
        "271104af761243538066b165aeab1241": {
          "model_module": "@jupyter-widgets/base",
          "model_name": "LayoutModel",
          "model_module_version": "1.2.0",
          "state": {
            "_view_name": "LayoutView",
            "grid_template_rows": null,
            "right": null,
            "justify_content": null,
            "_view_module": "@jupyter-widgets/base",
            "overflow": null,
            "_model_module_version": "1.2.0",
            "_view_count": null,
            "flex_flow": null,
            "width": null,
            "min_width": null,
            "border": null,
            "align_items": null,
            "bottom": null,
            "_model_module": "@jupyter-widgets/base",
            "top": null,
            "grid_column": null,
            "overflow_y": null,
            "overflow_x": null,
            "grid_auto_flow": null,
            "grid_area": null,
            "grid_template_columns": null,
            "flex": null,
            "_model_name": "LayoutModel",
            "justify_items": null,
            "grid_row": null,
            "max_height": null,
            "align_content": null,
            "visibility": null,
            "align_self": null,
            "height": null,
            "min_height": null,
            "padding": null,
            "grid_auto_rows": null,
            "grid_gap": null,
            "max_width": null,
            "order": null,
            "_view_module_version": "1.2.0",
            "grid_template_areas": null,
            "object_position": null,
            "object_fit": null,
            "grid_auto_columns": null,
            "margin": null,
            "display": null,
            "left": null
          }
        },
        "b2c4cb350a9d4d16be8e8b23be418dc9": {
          "model_module": "@jupyter-widgets/controls",
          "model_name": "HTMLModel",
          "model_module_version": "1.5.0",
          "state": {
            "_view_name": "HTMLView",
            "style": "IPY_MODEL_3909b40f0cf948a5b2bcfdb9c7882cf1",
            "_dom_classes": [],
            "description": "",
            "_model_name": "HTMLModel",
            "placeholder": "​",
            "_view_module": "@jupyter-widgets/controls",
            "_model_module_version": "1.5.0",
            "value": "Downloading: 100%",
            "_view_count": null,
            "_view_module_version": "1.5.0",
            "description_tooltip": null,
            "_model_module": "@jupyter-widgets/controls",
            "layout": "IPY_MODEL_38850edf61c1444a856323c5fc2afae0"
          }
        },
        "c86e7782d56e401ba007d6de27c53bc4": {
          "model_module": "@jupyter-widgets/controls",
          "model_name": "FloatProgressModel",
          "model_module_version": "1.5.0",
          "state": {
            "_view_name": "ProgressView",
            "style": "IPY_MODEL_572b0146f24441049ac498d05ec785ff",
            "_dom_classes": [],
            "description": "",
            "_model_name": "FloatProgressModel",
            "bar_style": "success",
            "max": 112,
            "_view_module": "@jupyter-widgets/controls",
            "_model_module_version": "1.5.0",
            "value": 112,
            "_view_count": null,
            "_view_module_version": "1.5.0",
            "orientation": "horizontal",
            "min": 0,
            "description_tooltip": null,
            "_model_module": "@jupyter-widgets/controls",
            "layout": "IPY_MODEL_3eb0e32b7a0e4cf9a5ae45586ba1069d"
          }
        },
        "974f359bd541432aad7c2e958f918220": {
          "model_module": "@jupyter-widgets/controls",
          "model_name": "HTMLModel",
          "model_module_version": "1.5.0",
          "state": {
            "_view_name": "HTMLView",
            "style": "IPY_MODEL_c320ff05d794453aa89785a4fa2df689",
            "_dom_classes": [],
            "description": "",
            "_model_name": "HTMLModel",
            "placeholder": "​",
            "_view_module": "@jupyter-widgets/controls",
            "_model_module_version": "1.5.0",
            "value": " 112/112 [00:00&lt;00:00, 3.34kB/s]",
            "_view_count": null,
            "_view_module_version": "1.5.0",
            "description_tooltip": null,
            "_model_module": "@jupyter-widgets/controls",
            "layout": "IPY_MODEL_d75194c59f1f40cdbf8c3f23ff6463f6"
          }
        },
        "3909b40f0cf948a5b2bcfdb9c7882cf1": {
          "model_module": "@jupyter-widgets/controls",
          "model_name": "DescriptionStyleModel",
          "model_module_version": "1.5.0",
          "state": {
            "_view_name": "StyleView",
            "_model_name": "DescriptionStyleModel",
            "description_width": "",
            "_view_module": "@jupyter-widgets/base",
            "_model_module_version": "1.5.0",
            "_view_count": null,
            "_view_module_version": "1.2.0",
            "_model_module": "@jupyter-widgets/controls"
          }
        },
        "38850edf61c1444a856323c5fc2afae0": {
          "model_module": "@jupyter-widgets/base",
          "model_name": "LayoutModel",
          "model_module_version": "1.2.0",
          "state": {
            "_view_name": "LayoutView",
            "grid_template_rows": null,
            "right": null,
            "justify_content": null,
            "_view_module": "@jupyter-widgets/base",
            "overflow": null,
            "_model_module_version": "1.2.0",
            "_view_count": null,
            "flex_flow": null,
            "width": null,
            "min_width": null,
            "border": null,
            "align_items": null,
            "bottom": null,
            "_model_module": "@jupyter-widgets/base",
            "top": null,
            "grid_column": null,
            "overflow_y": null,
            "overflow_x": null,
            "grid_auto_flow": null,
            "grid_area": null,
            "grid_template_columns": null,
            "flex": null,
            "_model_name": "LayoutModel",
            "justify_items": null,
            "grid_row": null,
            "max_height": null,
            "align_content": null,
            "visibility": null,
            "align_self": null,
            "height": null,
            "min_height": null,
            "padding": null,
            "grid_auto_rows": null,
            "grid_gap": null,
            "max_width": null,
            "order": null,
            "_view_module_version": "1.2.0",
            "grid_template_areas": null,
            "object_position": null,
            "object_fit": null,
            "grid_auto_columns": null,
            "margin": null,
            "display": null,
            "left": null
          }
        },
        "572b0146f24441049ac498d05ec785ff": {
          "model_module": "@jupyter-widgets/controls",
          "model_name": "ProgressStyleModel",
          "model_module_version": "1.5.0",
          "state": {
            "_view_name": "StyleView",
            "_model_name": "ProgressStyleModel",
            "description_width": "",
            "_view_module": "@jupyter-widgets/base",
            "_model_module_version": "1.5.0",
            "_view_count": null,
            "_view_module_version": "1.2.0",
            "bar_color": null,
            "_model_module": "@jupyter-widgets/controls"
          }
        },
        "3eb0e32b7a0e4cf9a5ae45586ba1069d": {
          "model_module": "@jupyter-widgets/base",
          "model_name": "LayoutModel",
          "model_module_version": "1.2.0",
          "state": {
            "_view_name": "LayoutView",
            "grid_template_rows": null,
            "right": null,
            "justify_content": null,
            "_view_module": "@jupyter-widgets/base",
            "overflow": null,
            "_model_module_version": "1.2.0",
            "_view_count": null,
            "flex_flow": null,
            "width": null,
            "min_width": null,
            "border": null,
            "align_items": null,
            "bottom": null,
            "_model_module": "@jupyter-widgets/base",
            "top": null,
            "grid_column": null,
            "overflow_y": null,
            "overflow_x": null,
            "grid_auto_flow": null,
            "grid_area": null,
            "grid_template_columns": null,
            "flex": null,
            "_model_name": "LayoutModel",
            "justify_items": null,
            "grid_row": null,
            "max_height": null,
            "align_content": null,
            "visibility": null,
            "align_self": null,
            "height": null,
            "min_height": null,
            "padding": null,
            "grid_auto_rows": null,
            "grid_gap": null,
            "max_width": null,
            "order": null,
            "_view_module_version": "1.2.0",
            "grid_template_areas": null,
            "object_position": null,
            "object_fit": null,
            "grid_auto_columns": null,
            "margin": null,
            "display": null,
            "left": null
          }
        },
        "c320ff05d794453aa89785a4fa2df689": {
          "model_module": "@jupyter-widgets/controls",
          "model_name": "DescriptionStyleModel",
          "model_module_version": "1.5.0",
          "state": {
            "_view_name": "StyleView",
            "_model_name": "DescriptionStyleModel",
            "description_width": "",
            "_view_module": "@jupyter-widgets/base",
            "_model_module_version": "1.5.0",
            "_view_count": null,
            "_view_module_version": "1.2.0",
            "_model_module": "@jupyter-widgets/controls"
          }
        },
        "d75194c59f1f40cdbf8c3f23ff6463f6": {
          "model_module": "@jupyter-widgets/base",
          "model_name": "LayoutModel",
          "model_module_version": "1.2.0",
          "state": {
            "_view_name": "LayoutView",
            "grid_template_rows": null,
            "right": null,
            "justify_content": null,
            "_view_module": "@jupyter-widgets/base",
            "overflow": null,
            "_model_module_version": "1.2.0",
            "_view_count": null,
            "flex_flow": null,
            "width": null,
            "min_width": null,
            "border": null,
            "align_items": null,
            "bottom": null,
            "_model_module": "@jupyter-widgets/base",
            "top": null,
            "grid_column": null,
            "overflow_y": null,
            "overflow_x": null,
            "grid_auto_flow": null,
            "grid_area": null,
            "grid_template_columns": null,
            "flex": null,
            "_model_name": "LayoutModel",
            "justify_items": null,
            "grid_row": null,
            "max_height": null,
            "align_content": null,
            "visibility": null,
            "align_self": null,
            "height": null,
            "min_height": null,
            "padding": null,
            "grid_auto_rows": null,
            "grid_gap": null,
            "max_width": null,
            "order": null,
            "_view_module_version": "1.2.0",
            "grid_template_areas": null,
            "object_position": null,
            "object_fit": null,
            "grid_auto_columns": null,
            "margin": null,
            "display": null,
            "left": null
          }
        },
        "36e1464cd21140dd9d33bc4ff7fe514d": {
          "model_module": "@jupyter-widgets/controls",
          "model_name": "HBoxModel",
          "model_module_version": "1.5.0",
          "state": {
            "_view_name": "HBoxView",
            "_dom_classes": [],
            "_model_name": "HBoxModel",
            "_view_module": "@jupyter-widgets/controls",
            "_model_module_version": "1.5.0",
            "_view_count": null,
            "_view_module_version": "1.5.0",
            "box_style": "",
            "layout": "IPY_MODEL_8dd7467755ca45f593845d0e11fe46f7",
            "_model_module": "@jupyter-widgets/controls",
            "children": [
              "IPY_MODEL_0ce33de243874c809d063a7bc6d32f04",
              "IPY_MODEL_8a74ed210d3645e09686a15abd151d2c",
              "IPY_MODEL_2223260321284bd888dd42c642111293"
            ]
          }
        },
        "8dd7467755ca45f593845d0e11fe46f7": {
          "model_module": "@jupyter-widgets/base",
          "model_name": "LayoutModel",
          "model_module_version": "1.2.0",
          "state": {
            "_view_name": "LayoutView",
            "grid_template_rows": null,
            "right": null,
            "justify_content": null,
            "_view_module": "@jupyter-widgets/base",
            "overflow": null,
            "_model_module_version": "1.2.0",
            "_view_count": null,
            "flex_flow": "row wrap",
            "width": "100%",
            "min_width": null,
            "border": null,
            "align_items": null,
            "bottom": null,
            "_model_module": "@jupyter-widgets/base",
            "top": null,
            "grid_column": null,
            "overflow_y": null,
            "overflow_x": null,
            "grid_auto_flow": null,
            "grid_area": null,
            "grid_template_columns": null,
            "flex": null,
            "_model_name": "LayoutModel",
            "justify_items": null,
            "grid_row": null,
            "max_height": null,
            "align_content": null,
            "visibility": null,
            "align_self": null,
            "height": null,
            "min_height": null,
            "padding": null,
            "grid_auto_rows": null,
            "grid_gap": null,
            "max_width": null,
            "order": null,
            "_view_module_version": "1.2.0",
            "grid_template_areas": null,
            "object_position": null,
            "object_fit": null,
            "grid_auto_columns": null,
            "margin": null,
            "display": "inline-flex",
            "left": null
          }
        },
        "0ce33de243874c809d063a7bc6d32f04": {
          "model_module": "@jupyter-widgets/controls",
          "model_name": "HTMLModel",
          "model_module_version": "1.5.0",
          "state": {
            "_view_name": "HTMLView",
            "style": "IPY_MODEL_26de42e2bdcd40a6aabf0005e98de09c",
            "_dom_classes": [],
            "description": "",
            "_model_name": "HTMLModel",
            "placeholder": "​",
            "_view_module": "@jupyter-widgets/controls",
            "_model_module_version": "1.5.0",
            "value": "Validation sanity check:   0%",
            "_view_count": null,
            "_view_module_version": "1.5.0",
            "description_tooltip": null,
            "_model_module": "@jupyter-widgets/controls",
            "layout": "IPY_MODEL_3133d5acf9ef44fe8d8ffb7ef1b67e45"
          }
        },
        "8a74ed210d3645e09686a15abd151d2c": {
          "model_module": "@jupyter-widgets/controls",
          "model_name": "FloatProgressModel",
          "model_module_version": "1.5.0",
          "state": {
            "_view_name": "ProgressView",
            "style": "IPY_MODEL_2ec8bda9993549fc8cfe6a5374dcab14",
            "_dom_classes": [],
            "description": "",
            "_model_name": "FloatProgressModel",
            "bar_style": "danger",
            "max": 2,
            "_view_module": "@jupyter-widgets/controls",
            "_model_module_version": "1.5.0",
            "value": 0,
            "_view_count": null,
            "_view_module_version": "1.5.0",
            "orientation": "horizontal",
            "min": 0,
            "description_tooltip": null,
            "_model_module": "@jupyter-widgets/controls",
            "layout": "IPY_MODEL_98d1c7a8d8e34796bce8a8805cde6b0a"
          }
        },
        "2223260321284bd888dd42c642111293": {
          "model_module": "@jupyter-widgets/controls",
          "model_name": "HTMLModel",
          "model_module_version": "1.5.0",
          "state": {
            "_view_name": "HTMLView",
            "style": "IPY_MODEL_8085ac2da9d341fb8f56e75c70fd6591",
            "_dom_classes": [],
            "description": "",
            "_model_name": "HTMLModel",
            "placeholder": "​",
            "_view_module": "@jupyter-widgets/controls",
            "_model_module_version": "1.5.0",
            "value": " 0/2 [00:00&lt;?, ?it/s]",
            "_view_count": null,
            "_view_module_version": "1.5.0",
            "description_tooltip": null,
            "_model_module": "@jupyter-widgets/controls",
            "layout": "IPY_MODEL_0f6f6c166d7648d3b1193f2f92c67c87"
          }
        },
        "26de42e2bdcd40a6aabf0005e98de09c": {
          "model_module": "@jupyter-widgets/controls",
          "model_name": "DescriptionStyleModel",
          "model_module_version": "1.5.0",
          "state": {
            "_view_name": "StyleView",
            "_model_name": "DescriptionStyleModel",
            "description_width": "",
            "_view_module": "@jupyter-widgets/base",
            "_model_module_version": "1.5.0",
            "_view_count": null,
            "_view_module_version": "1.2.0",
            "_model_module": "@jupyter-widgets/controls"
          }
        },
        "3133d5acf9ef44fe8d8ffb7ef1b67e45": {
          "model_module": "@jupyter-widgets/base",
          "model_name": "LayoutModel",
          "model_module_version": "1.2.0",
          "state": {
            "_view_name": "LayoutView",
            "grid_template_rows": null,
            "right": null,
            "justify_content": null,
            "_view_module": "@jupyter-widgets/base",
            "overflow": null,
            "_model_module_version": "1.2.0",
            "_view_count": null,
            "flex_flow": null,
            "width": null,
            "min_width": null,
            "border": null,
            "align_items": null,
            "bottom": null,
            "_model_module": "@jupyter-widgets/base",
            "top": null,
            "grid_column": null,
            "overflow_y": null,
            "overflow_x": null,
            "grid_auto_flow": null,
            "grid_area": null,
            "grid_template_columns": null,
            "flex": null,
            "_model_name": "LayoutModel",
            "justify_items": null,
            "grid_row": null,
            "max_height": null,
            "align_content": null,
            "visibility": null,
            "align_self": null,
            "height": null,
            "min_height": null,
            "padding": null,
            "grid_auto_rows": null,
            "grid_gap": null,
            "max_width": null,
            "order": null,
            "_view_module_version": "1.2.0",
            "grid_template_areas": null,
            "object_position": null,
            "object_fit": null,
            "grid_auto_columns": null,
            "margin": null,
            "display": null,
            "left": null
          }
        },
        "2ec8bda9993549fc8cfe6a5374dcab14": {
          "model_module": "@jupyter-widgets/controls",
          "model_name": "ProgressStyleModel",
          "model_module_version": "1.5.0",
          "state": {
            "_view_name": "StyleView",
            "_model_name": "ProgressStyleModel",
            "description_width": "",
            "_view_module": "@jupyter-widgets/base",
            "_model_module_version": "1.5.0",
            "_view_count": null,
            "_view_module_version": "1.2.0",
            "bar_color": null,
            "_model_module": "@jupyter-widgets/controls"
          }
        },
        "98d1c7a8d8e34796bce8a8805cde6b0a": {
          "model_module": "@jupyter-widgets/base",
          "model_name": "LayoutModel",
          "model_module_version": "1.2.0",
          "state": {
            "_view_name": "LayoutView",
            "grid_template_rows": null,
            "right": null,
            "justify_content": null,
            "_view_module": "@jupyter-widgets/base",
            "overflow": null,
            "_model_module_version": "1.2.0",
            "_view_count": null,
            "flex_flow": null,
            "width": null,
            "min_width": null,
            "border": null,
            "align_items": null,
            "bottom": null,
            "_model_module": "@jupyter-widgets/base",
            "top": null,
            "grid_column": null,
            "overflow_y": null,
            "overflow_x": null,
            "grid_auto_flow": null,
            "grid_area": null,
            "grid_template_columns": null,
            "flex": "2",
            "_model_name": "LayoutModel",
            "justify_items": null,
            "grid_row": null,
            "max_height": null,
            "align_content": null,
            "visibility": null,
            "align_self": null,
            "height": null,
            "min_height": null,
            "padding": null,
            "grid_auto_rows": null,
            "grid_gap": null,
            "max_width": null,
            "order": null,
            "_view_module_version": "1.2.0",
            "grid_template_areas": null,
            "object_position": null,
            "object_fit": null,
            "grid_auto_columns": null,
            "margin": null,
            "display": null,
            "left": null
          }
        },
        "8085ac2da9d341fb8f56e75c70fd6591": {
          "model_module": "@jupyter-widgets/controls",
          "model_name": "DescriptionStyleModel",
          "model_module_version": "1.5.0",
          "state": {
            "_view_name": "StyleView",
            "_model_name": "DescriptionStyleModel",
            "description_width": "",
            "_view_module": "@jupyter-widgets/base",
            "_model_module_version": "1.5.0",
            "_view_count": null,
            "_view_module_version": "1.2.0",
            "_model_module": "@jupyter-widgets/controls"
          }
        },
        "0f6f6c166d7648d3b1193f2f92c67c87": {
          "model_module": "@jupyter-widgets/base",
          "model_name": "LayoutModel",
          "model_module_version": "1.2.0",
          "state": {
            "_view_name": "LayoutView",
            "grid_template_rows": null,
            "right": null,
            "justify_content": null,
            "_view_module": "@jupyter-widgets/base",
            "overflow": null,
            "_model_module_version": "1.2.0",
            "_view_count": null,
            "flex_flow": null,
            "width": null,
            "min_width": null,
            "border": null,
            "align_items": null,
            "bottom": null,
            "_model_module": "@jupyter-widgets/base",
            "top": null,
            "grid_column": null,
            "overflow_y": null,
            "overflow_x": null,
            "grid_auto_flow": null,
            "grid_area": null,
            "grid_template_columns": null,
            "flex": null,
            "_model_name": "LayoutModel",
            "justify_items": null,
            "grid_row": null,
            "max_height": null,
            "align_content": null,
            "visibility": null,
            "align_self": null,
            "height": null,
            "min_height": null,
            "padding": null,
            "grid_auto_rows": null,
            "grid_gap": null,
            "max_width": null,
            "order": null,
            "_view_module_version": "1.2.0",
            "grid_template_areas": null,
            "object_position": null,
            "object_fit": null,
            "grid_auto_columns": null,
            "margin": null,
            "display": null,
            "left": null
          }
        },
        "3d7715e955774a499d476875e58717fe": {
          "model_module": "@jupyter-widgets/controls",
          "model_name": "HBoxModel",
          "model_module_version": "1.5.0",
          "state": {
            "_view_name": "HBoxView",
            "_dom_classes": [],
            "_model_name": "HBoxModel",
            "_view_module": "@jupyter-widgets/controls",
            "_model_module_version": "1.5.0",
            "_view_count": null,
            "_view_module_version": "1.5.0",
            "box_style": "",
            "layout": "IPY_MODEL_dbd95d8b1fa64e839aed757d688b9608",
            "_model_module": "@jupyter-widgets/controls",
            "children": [
              "IPY_MODEL_6f5f6fe736644dd283013779b4f6cf5a",
              "IPY_MODEL_f1f4c47e994c44e1b892af72a0a3b325",
              "IPY_MODEL_dc20ecab8e934adcbcb6fab031176f83"
            ]
          }
        },
        "dbd95d8b1fa64e839aed757d688b9608": {
          "model_module": "@jupyter-widgets/base",
          "model_name": "LayoutModel",
          "model_module_version": "1.2.0",
          "state": {
            "_view_name": "LayoutView",
            "grid_template_rows": null,
            "right": null,
            "justify_content": null,
            "_view_module": "@jupyter-widgets/base",
            "overflow": null,
            "_model_module_version": "1.2.0",
            "_view_count": null,
            "flex_flow": "row wrap",
            "width": "100%",
            "min_width": null,
            "border": null,
            "align_items": null,
            "bottom": null,
            "_model_module": "@jupyter-widgets/base",
            "top": null,
            "grid_column": null,
            "overflow_y": null,
            "overflow_x": null,
            "grid_auto_flow": null,
            "grid_area": null,
            "grid_template_columns": null,
            "flex": null,
            "_model_name": "LayoutModel",
            "justify_items": null,
            "grid_row": null,
            "max_height": null,
            "align_content": null,
            "visibility": null,
            "align_self": null,
            "height": null,
            "min_height": null,
            "padding": null,
            "grid_auto_rows": null,
            "grid_gap": null,
            "max_width": null,
            "order": null,
            "_view_module_version": "1.2.0",
            "grid_template_areas": null,
            "object_position": null,
            "object_fit": null,
            "grid_auto_columns": null,
            "margin": null,
            "display": "inline-flex",
            "left": null
          }
        },
        "6f5f6fe736644dd283013779b4f6cf5a": {
          "model_module": "@jupyter-widgets/controls",
          "model_name": "HTMLModel",
          "model_module_version": "1.5.0",
          "state": {
            "_view_name": "HTMLView",
            "style": "IPY_MODEL_e44b0640569045dfb005a9f979dff9ef",
            "_dom_classes": [],
            "description": "",
            "_model_name": "HTMLModel",
            "placeholder": "​",
            "_view_module": "@jupyter-widgets/controls",
            "_model_module_version": "1.5.0",
            "value": "Epoch 5: 100%",
            "_view_count": null,
            "_view_module_version": "1.5.0",
            "description_tooltip": null,
            "_model_module": "@jupyter-widgets/controls",
            "layout": "IPY_MODEL_4398574c0ae4415cb3ad7388e382219c"
          }
        },
        "f1f4c47e994c44e1b892af72a0a3b325": {
          "model_module": "@jupyter-widgets/controls",
          "model_name": "FloatProgressModel",
          "model_module_version": "1.5.0",
          "state": {
            "_view_name": "ProgressView",
            "style": "IPY_MODEL_bd65dedb00cd4437b59f6a26a98ca117",
            "_dom_classes": [],
            "description": "",
            "_model_name": "FloatProgressModel",
            "bar_style": "success",
            "max": 8541,
            "_view_module": "@jupyter-widgets/controls",
            "_model_module_version": "1.5.0",
            "value": 8541,
            "_view_count": null,
            "_view_module_version": "1.5.0",
            "orientation": "horizontal",
            "min": 0,
            "description_tooltip": null,
            "_model_module": "@jupyter-widgets/controls",
            "layout": "IPY_MODEL_66d654e792d44af88d700523b0873d60"
          }
        },
        "dc20ecab8e934adcbcb6fab031176f83": {
          "model_module": "@jupyter-widgets/controls",
          "model_name": "HTMLModel",
          "model_module_version": "1.5.0",
          "state": {
            "_view_name": "HTMLView",
            "style": "IPY_MODEL_c95e74b784b4451eb541dc83112d1f77",
            "_dom_classes": [],
            "description": "",
            "_model_name": "HTMLModel",
            "placeholder": "​",
            "_view_module": "@jupyter-widgets/controls",
            "_model_module_version": "1.5.0",
            "value": " 8541/8541 [32:22&lt;00:00,  4.40it/s, loss=0.179, v_num=0, train_loss=0.124, val_loss=0.335]",
            "_view_count": null,
            "_view_module_version": "1.5.0",
            "description_tooltip": null,
            "_model_module": "@jupyter-widgets/controls",
            "layout": "IPY_MODEL_03cb29d7b4334762ba93f16cdae849ae"
          }
        },
        "e44b0640569045dfb005a9f979dff9ef": {
          "model_module": "@jupyter-widgets/controls",
          "model_name": "DescriptionStyleModel",
          "model_module_version": "1.5.0",
          "state": {
            "_view_name": "StyleView",
            "_model_name": "DescriptionStyleModel",
            "description_width": "",
            "_view_module": "@jupyter-widgets/base",
            "_model_module_version": "1.5.0",
            "_view_count": null,
            "_view_module_version": "1.2.0",
            "_model_module": "@jupyter-widgets/controls"
          }
        },
        "4398574c0ae4415cb3ad7388e382219c": {
          "model_module": "@jupyter-widgets/base",
          "model_name": "LayoutModel",
          "model_module_version": "1.2.0",
          "state": {
            "_view_name": "LayoutView",
            "grid_template_rows": null,
            "right": null,
            "justify_content": null,
            "_view_module": "@jupyter-widgets/base",
            "overflow": null,
            "_model_module_version": "1.2.0",
            "_view_count": null,
            "flex_flow": null,
            "width": null,
            "min_width": null,
            "border": null,
            "align_items": null,
            "bottom": null,
            "_model_module": "@jupyter-widgets/base",
            "top": null,
            "grid_column": null,
            "overflow_y": null,
            "overflow_x": null,
            "grid_auto_flow": null,
            "grid_area": null,
            "grid_template_columns": null,
            "flex": null,
            "_model_name": "LayoutModel",
            "justify_items": null,
            "grid_row": null,
            "max_height": null,
            "align_content": null,
            "visibility": null,
            "align_self": null,
            "height": null,
            "min_height": null,
            "padding": null,
            "grid_auto_rows": null,
            "grid_gap": null,
            "max_width": null,
            "order": null,
            "_view_module_version": "1.2.0",
            "grid_template_areas": null,
            "object_position": null,
            "object_fit": null,
            "grid_auto_columns": null,
            "margin": null,
            "display": null,
            "left": null
          }
        },
        "bd65dedb00cd4437b59f6a26a98ca117": {
          "model_module": "@jupyter-widgets/controls",
          "model_name": "ProgressStyleModel",
          "model_module_version": "1.5.0",
          "state": {
            "_view_name": "StyleView",
            "_model_name": "ProgressStyleModel",
            "description_width": "",
            "_view_module": "@jupyter-widgets/base",
            "_model_module_version": "1.5.0",
            "_view_count": null,
            "_view_module_version": "1.2.0",
            "bar_color": null,
            "_model_module": "@jupyter-widgets/controls"
          }
        },
        "66d654e792d44af88d700523b0873d60": {
          "model_module": "@jupyter-widgets/base",
          "model_name": "LayoutModel",
          "model_module_version": "1.2.0",
          "state": {
            "_view_name": "LayoutView",
            "grid_template_rows": null,
            "right": null,
            "justify_content": null,
            "_view_module": "@jupyter-widgets/base",
            "overflow": null,
            "_model_module_version": "1.2.0",
            "_view_count": null,
            "flex_flow": null,
            "width": null,
            "min_width": null,
            "border": null,
            "align_items": null,
            "bottom": null,
            "_model_module": "@jupyter-widgets/base",
            "top": null,
            "grid_column": null,
            "overflow_y": null,
            "overflow_x": null,
            "grid_auto_flow": null,
            "grid_area": null,
            "grid_template_columns": null,
            "flex": "2",
            "_model_name": "LayoutModel",
            "justify_items": null,
            "grid_row": null,
            "max_height": null,
            "align_content": null,
            "visibility": null,
            "align_self": null,
            "height": null,
            "min_height": null,
            "padding": null,
            "grid_auto_rows": null,
            "grid_gap": null,
            "max_width": null,
            "order": null,
            "_view_module_version": "1.2.0",
            "grid_template_areas": null,
            "object_position": null,
            "object_fit": null,
            "grid_auto_columns": null,
            "margin": null,
            "display": null,
            "left": null
          }
        },
        "c95e74b784b4451eb541dc83112d1f77": {
          "model_module": "@jupyter-widgets/controls",
          "model_name": "DescriptionStyleModel",
          "model_module_version": "1.5.0",
          "state": {
            "_view_name": "StyleView",
            "_model_name": "DescriptionStyleModel",
            "description_width": "",
            "_view_module": "@jupyter-widgets/base",
            "_model_module_version": "1.5.0",
            "_view_count": null,
            "_view_module_version": "1.2.0",
            "_model_module": "@jupyter-widgets/controls"
          }
        },
        "03cb29d7b4334762ba93f16cdae849ae": {
          "model_module": "@jupyter-widgets/base",
          "model_name": "LayoutModel",
          "model_module_version": "1.2.0",
          "state": {
            "_view_name": "LayoutView",
            "grid_template_rows": null,
            "right": null,
            "justify_content": null,
            "_view_module": "@jupyter-widgets/base",
            "overflow": null,
            "_model_module_version": "1.2.0",
            "_view_count": null,
            "flex_flow": null,
            "width": null,
            "min_width": null,
            "border": null,
            "align_items": null,
            "bottom": null,
            "_model_module": "@jupyter-widgets/base",
            "top": null,
            "grid_column": null,
            "overflow_y": null,
            "overflow_x": null,
            "grid_auto_flow": null,
            "grid_area": null,
            "grid_template_columns": null,
            "flex": null,
            "_model_name": "LayoutModel",
            "justify_items": null,
            "grid_row": null,
            "max_height": null,
            "align_content": null,
            "visibility": null,
            "align_self": null,
            "height": null,
            "min_height": null,
            "padding": null,
            "grid_auto_rows": null,
            "grid_gap": null,
            "max_width": null,
            "order": null,
            "_view_module_version": "1.2.0",
            "grid_template_areas": null,
            "object_position": null,
            "object_fit": null,
            "grid_auto_columns": null,
            "margin": null,
            "display": null,
            "left": null
          }
        },
        "2c7bf786bc8f42f98bd2bc6e8cad5eaa": {
          "model_module": "@jupyter-widgets/controls",
          "model_name": "HBoxModel",
          "model_module_version": "1.5.0",
          "state": {
            "_view_name": "HBoxView",
            "_dom_classes": [],
            "_model_name": "HBoxModel",
            "_view_module": "@jupyter-widgets/controls",
            "_model_module_version": "1.5.0",
            "_view_count": null,
            "_view_module_version": "1.5.0",
            "box_style": "",
            "layout": "IPY_MODEL_1a8700cc4ff94902822c3e14270df63c",
            "_model_module": "@jupyter-widgets/controls",
            "children": [
              "IPY_MODEL_a2f298c129dc4d62b057881b90a2e7d0",
              "IPY_MODEL_15922cd0dad44b22bc516986280bcfc4",
              "IPY_MODEL_94a0445be0e044a1bf0c8e77acba48b3"
            ]
          }
        },
        "1a8700cc4ff94902822c3e14270df63c": {
          "model_module": "@jupyter-widgets/base",
          "model_name": "LayoutModel",
          "model_module_version": "1.2.0",
          "state": {
            "_view_name": "LayoutView",
            "grid_template_rows": null,
            "right": null,
            "justify_content": null,
            "_view_module": "@jupyter-widgets/base",
            "overflow": null,
            "_model_module_version": "1.2.0",
            "_view_count": null,
            "flex_flow": "row wrap",
            "width": "100%",
            "min_width": null,
            "border": null,
            "align_items": null,
            "bottom": null,
            "_model_module": "@jupyter-widgets/base",
            "top": null,
            "grid_column": null,
            "overflow_y": null,
            "overflow_x": null,
            "grid_auto_flow": null,
            "grid_area": null,
            "grid_template_columns": null,
            "flex": null,
            "_model_name": "LayoutModel",
            "justify_items": null,
            "grid_row": null,
            "max_height": null,
            "align_content": null,
            "visibility": null,
            "align_self": null,
            "height": null,
            "min_height": null,
            "padding": null,
            "grid_auto_rows": null,
            "grid_gap": null,
            "max_width": null,
            "order": null,
            "_view_module_version": "1.2.0",
            "grid_template_areas": null,
            "object_position": null,
            "object_fit": null,
            "grid_auto_columns": null,
            "margin": null,
            "display": "inline-flex",
            "left": null
          }
        },
        "a2f298c129dc4d62b057881b90a2e7d0": {
          "model_module": "@jupyter-widgets/controls",
          "model_name": "HTMLModel",
          "model_module_version": "1.5.0",
          "state": {
            "_view_name": "HTMLView",
            "style": "IPY_MODEL_88c6c259290244eda83ff8dd1002c568",
            "_dom_classes": [],
            "description": "",
            "_model_name": "HTMLModel",
            "placeholder": "​",
            "_view_module": "@jupyter-widgets/controls",
            "_model_module_version": "1.5.0",
            "value": "Validating: 100%",
            "_view_count": null,
            "_view_module_version": "1.5.0",
            "description_tooltip": null,
            "_model_module": "@jupyter-widgets/controls",
            "layout": "IPY_MODEL_da5222e08d04453d84f08f64c341392a"
          }
        },
        "15922cd0dad44b22bc516986280bcfc4": {
          "model_module": "@jupyter-widgets/controls",
          "model_name": "FloatProgressModel",
          "model_module_version": "1.5.0",
          "state": {
            "_view_name": "ProgressView",
            "style": "IPY_MODEL_f925c485f03346ba893a1e5ecf656e64",
            "_dom_classes": [],
            "description": "",
            "_model_name": "FloatProgressModel",
            "bar_style": "",
            "max": 856,
            "_view_module": "@jupyter-widgets/controls",
            "_model_module_version": "1.5.0",
            "value": 856,
            "_view_count": null,
            "_view_module_version": "1.5.0",
            "orientation": "horizontal",
            "min": 0,
            "description_tooltip": null,
            "_model_module": "@jupyter-widgets/controls",
            "layout": "IPY_MODEL_99a72695568a4614b787e9a35c2c96a1"
          }
        },
        "94a0445be0e044a1bf0c8e77acba48b3": {
          "model_module": "@jupyter-widgets/controls",
          "model_name": "HTMLModel",
          "model_module_version": "1.5.0",
          "state": {
            "_view_name": "HTMLView",
            "style": "IPY_MODEL_80930c2aa4324ced8c244430ed732701",
            "_dom_classes": [],
            "description": "",
            "_model_name": "HTMLModel",
            "placeholder": "​",
            "_view_module": "@jupyter-widgets/controls",
            "_model_module_version": "1.5.0",
            "value": " 856/856 [01:05&lt;00:00, 13.15it/s]",
            "_view_count": null,
            "_view_module_version": "1.5.0",
            "description_tooltip": null,
            "_model_module": "@jupyter-widgets/controls",
            "layout": "IPY_MODEL_7081ce10ac9040968b522eb695c9f899"
          }
        },
        "88c6c259290244eda83ff8dd1002c568": {
          "model_module": "@jupyter-widgets/controls",
          "model_name": "DescriptionStyleModel",
          "model_module_version": "1.5.0",
          "state": {
            "_view_name": "StyleView",
            "_model_name": "DescriptionStyleModel",
            "description_width": "",
            "_view_module": "@jupyter-widgets/base",
            "_model_module_version": "1.5.0",
            "_view_count": null,
            "_view_module_version": "1.2.0",
            "_model_module": "@jupyter-widgets/controls"
          }
        },
        "da5222e08d04453d84f08f64c341392a": {
          "model_module": "@jupyter-widgets/base",
          "model_name": "LayoutModel",
          "model_module_version": "1.2.0",
          "state": {
            "_view_name": "LayoutView",
            "grid_template_rows": null,
            "right": null,
            "justify_content": null,
            "_view_module": "@jupyter-widgets/base",
            "overflow": null,
            "_model_module_version": "1.2.0",
            "_view_count": null,
            "flex_flow": null,
            "width": null,
            "min_width": null,
            "border": null,
            "align_items": null,
            "bottom": null,
            "_model_module": "@jupyter-widgets/base",
            "top": null,
            "grid_column": null,
            "overflow_y": null,
            "overflow_x": null,
            "grid_auto_flow": null,
            "grid_area": null,
            "grid_template_columns": null,
            "flex": null,
            "_model_name": "LayoutModel",
            "justify_items": null,
            "grid_row": null,
            "max_height": null,
            "align_content": null,
            "visibility": null,
            "align_self": null,
            "height": null,
            "min_height": null,
            "padding": null,
            "grid_auto_rows": null,
            "grid_gap": null,
            "max_width": null,
            "order": null,
            "_view_module_version": "1.2.0",
            "grid_template_areas": null,
            "object_position": null,
            "object_fit": null,
            "grid_auto_columns": null,
            "margin": null,
            "display": null,
            "left": null
          }
        },
        "f925c485f03346ba893a1e5ecf656e64": {
          "model_module": "@jupyter-widgets/controls",
          "model_name": "ProgressStyleModel",
          "model_module_version": "1.5.0",
          "state": {
            "_view_name": "StyleView",
            "_model_name": "ProgressStyleModel",
            "description_width": "",
            "_view_module": "@jupyter-widgets/base",
            "_model_module_version": "1.5.0",
            "_view_count": null,
            "_view_module_version": "1.2.0",
            "bar_color": null,
            "_model_module": "@jupyter-widgets/controls"
          }
        },
        "99a72695568a4614b787e9a35c2c96a1": {
          "model_module": "@jupyter-widgets/base",
          "model_name": "LayoutModel",
          "model_module_version": "1.2.0",
          "state": {
            "_view_name": "LayoutView",
            "grid_template_rows": null,
            "right": null,
            "justify_content": null,
            "_view_module": "@jupyter-widgets/base",
            "overflow": null,
            "_model_module_version": "1.2.0",
            "_view_count": null,
            "flex_flow": null,
            "width": null,
            "min_width": null,
            "border": null,
            "align_items": null,
            "bottom": null,
            "_model_module": "@jupyter-widgets/base",
            "top": null,
            "grid_column": null,
            "overflow_y": null,
            "overflow_x": null,
            "grid_auto_flow": null,
            "grid_area": null,
            "grid_template_columns": null,
            "flex": "2",
            "_model_name": "LayoutModel",
            "justify_items": null,
            "grid_row": null,
            "max_height": null,
            "align_content": null,
            "visibility": null,
            "align_self": null,
            "height": null,
            "min_height": null,
            "padding": null,
            "grid_auto_rows": null,
            "grid_gap": null,
            "max_width": null,
            "order": null,
            "_view_module_version": "1.2.0",
            "grid_template_areas": null,
            "object_position": null,
            "object_fit": null,
            "grid_auto_columns": null,
            "margin": null,
            "display": null,
            "left": null
          }
        },
        "80930c2aa4324ced8c244430ed732701": {
          "model_module": "@jupyter-widgets/controls",
          "model_name": "DescriptionStyleModel",
          "model_module_version": "1.5.0",
          "state": {
            "_view_name": "StyleView",
            "_model_name": "DescriptionStyleModel",
            "description_width": "",
            "_view_module": "@jupyter-widgets/base",
            "_model_module_version": "1.5.0",
            "_view_count": null,
            "_view_module_version": "1.2.0",
            "_model_module": "@jupyter-widgets/controls"
          }
        },
        "7081ce10ac9040968b522eb695c9f899": {
          "model_module": "@jupyter-widgets/base",
          "model_name": "LayoutModel",
          "model_module_version": "1.2.0",
          "state": {
            "_view_name": "LayoutView",
            "grid_template_rows": null,
            "right": null,
            "justify_content": null,
            "_view_module": "@jupyter-widgets/base",
            "overflow": null,
            "_model_module_version": "1.2.0",
            "_view_count": null,
            "flex_flow": null,
            "width": null,
            "min_width": null,
            "border": null,
            "align_items": null,
            "bottom": null,
            "_model_module": "@jupyter-widgets/base",
            "top": null,
            "grid_column": null,
            "overflow_y": null,
            "overflow_x": null,
            "grid_auto_flow": null,
            "grid_area": null,
            "grid_template_columns": null,
            "flex": null,
            "_model_name": "LayoutModel",
            "justify_items": null,
            "grid_row": null,
            "max_height": null,
            "align_content": null,
            "visibility": null,
            "align_self": null,
            "height": null,
            "min_height": null,
            "padding": null,
            "grid_auto_rows": null,
            "grid_gap": null,
            "max_width": null,
            "order": null,
            "_view_module_version": "1.2.0",
            "grid_template_areas": null,
            "object_position": null,
            "object_fit": null,
            "grid_auto_columns": null,
            "margin": null,
            "display": null,
            "left": null
          }
        },
        "dd243a719b8d45168490eba3798ef677": {
          "model_module": "@jupyter-widgets/controls",
          "model_name": "HBoxModel",
          "model_module_version": "1.5.0",
          "state": {
            "_view_name": "HBoxView",
            "_dom_classes": [],
            "_model_name": "HBoxModel",
            "_view_module": "@jupyter-widgets/controls",
            "_model_module_version": "1.5.0",
            "_view_count": null,
            "_view_module_version": "1.5.0",
            "box_style": "",
            "layout": "IPY_MODEL_ae2bcb312d8e4c43a2667cf52ae7b811",
            "_model_module": "@jupyter-widgets/controls",
            "children": [
              "IPY_MODEL_6a10dbee1e674b0d9d320339e182782b",
              "IPY_MODEL_1a2de4d61fc84afba5fb3a472246d47b",
              "IPY_MODEL_06fb8bd16c66414e9eb78d22adf641bc"
            ]
          }
        },
        "ae2bcb312d8e4c43a2667cf52ae7b811": {
          "model_module": "@jupyter-widgets/base",
          "model_name": "LayoutModel",
          "model_module_version": "1.2.0",
          "state": {
            "_view_name": "LayoutView",
            "grid_template_rows": null,
            "right": null,
            "justify_content": null,
            "_view_module": "@jupyter-widgets/base",
            "overflow": null,
            "_model_module_version": "1.2.0",
            "_view_count": null,
            "flex_flow": "row wrap",
            "width": "100%",
            "min_width": null,
            "border": null,
            "align_items": null,
            "bottom": null,
            "_model_module": "@jupyter-widgets/base",
            "top": null,
            "grid_column": null,
            "overflow_y": null,
            "overflow_x": null,
            "grid_auto_flow": null,
            "grid_area": null,
            "grid_template_columns": null,
            "flex": null,
            "_model_name": "LayoutModel",
            "justify_items": null,
            "grid_row": null,
            "max_height": null,
            "align_content": null,
            "visibility": null,
            "align_self": null,
            "height": null,
            "min_height": null,
            "padding": null,
            "grid_auto_rows": null,
            "grid_gap": null,
            "max_width": null,
            "order": null,
            "_view_module_version": "1.2.0",
            "grid_template_areas": null,
            "object_position": null,
            "object_fit": null,
            "grid_auto_columns": null,
            "margin": null,
            "display": "inline-flex",
            "left": null
          }
        },
        "6a10dbee1e674b0d9d320339e182782b": {
          "model_module": "@jupyter-widgets/controls",
          "model_name": "HTMLModel",
          "model_module_version": "1.5.0",
          "state": {
            "_view_name": "HTMLView",
            "style": "IPY_MODEL_030940eefdb64a75b1c905d2f12f7848",
            "_dom_classes": [],
            "description": "",
            "_model_name": "HTMLModel",
            "placeholder": "​",
            "_view_module": "@jupyter-widgets/controls",
            "_model_module_version": "1.5.0",
            "value": "Validating: 100%",
            "_view_count": null,
            "_view_module_version": "1.5.0",
            "description_tooltip": null,
            "_model_module": "@jupyter-widgets/controls",
            "layout": "IPY_MODEL_349a18affc254fdea9e77df6b6fd15c9"
          }
        },
        "1a2de4d61fc84afba5fb3a472246d47b": {
          "model_module": "@jupyter-widgets/controls",
          "model_name": "FloatProgressModel",
          "model_module_version": "1.5.0",
          "state": {
            "_view_name": "ProgressView",
            "style": "IPY_MODEL_db468fba218247a39908e2de8cd8a3a8",
            "_dom_classes": [],
            "description": "",
            "_model_name": "FloatProgressModel",
            "bar_style": "",
            "max": 856,
            "_view_module": "@jupyter-widgets/controls",
            "_model_module_version": "1.5.0",
            "value": 856,
            "_view_count": null,
            "_view_module_version": "1.5.0",
            "orientation": "horizontal",
            "min": 0,
            "description_tooltip": null,
            "_model_module": "@jupyter-widgets/controls",
            "layout": "IPY_MODEL_6ed614735daa444a959547bf803a6571"
          }
        },
        "06fb8bd16c66414e9eb78d22adf641bc": {
          "model_module": "@jupyter-widgets/controls",
          "model_name": "HTMLModel",
          "model_module_version": "1.5.0",
          "state": {
            "_view_name": "HTMLView",
            "style": "IPY_MODEL_cfa53649ee174f139c59f9482e226f54",
            "_dom_classes": [],
            "description": "",
            "_model_name": "HTMLModel",
            "placeholder": "​",
            "_view_module": "@jupyter-widgets/controls",
            "_model_module_version": "1.5.0",
            "value": " 856/856 [01:05&lt;00:00, 13.16it/s]",
            "_view_count": null,
            "_view_module_version": "1.5.0",
            "description_tooltip": null,
            "_model_module": "@jupyter-widgets/controls",
            "layout": "IPY_MODEL_fc011efec0764e159133a7b3f0462dd2"
          }
        },
        "030940eefdb64a75b1c905d2f12f7848": {
          "model_module": "@jupyter-widgets/controls",
          "model_name": "DescriptionStyleModel",
          "model_module_version": "1.5.0",
          "state": {
            "_view_name": "StyleView",
            "_model_name": "DescriptionStyleModel",
            "description_width": "",
            "_view_module": "@jupyter-widgets/base",
            "_model_module_version": "1.5.0",
            "_view_count": null,
            "_view_module_version": "1.2.0",
            "_model_module": "@jupyter-widgets/controls"
          }
        },
        "349a18affc254fdea9e77df6b6fd15c9": {
          "model_module": "@jupyter-widgets/base",
          "model_name": "LayoutModel",
          "model_module_version": "1.2.0",
          "state": {
            "_view_name": "LayoutView",
            "grid_template_rows": null,
            "right": null,
            "justify_content": null,
            "_view_module": "@jupyter-widgets/base",
            "overflow": null,
            "_model_module_version": "1.2.0",
            "_view_count": null,
            "flex_flow": null,
            "width": null,
            "min_width": null,
            "border": null,
            "align_items": null,
            "bottom": null,
            "_model_module": "@jupyter-widgets/base",
            "top": null,
            "grid_column": null,
            "overflow_y": null,
            "overflow_x": null,
            "grid_auto_flow": null,
            "grid_area": null,
            "grid_template_columns": null,
            "flex": null,
            "_model_name": "LayoutModel",
            "justify_items": null,
            "grid_row": null,
            "max_height": null,
            "align_content": null,
            "visibility": null,
            "align_self": null,
            "height": null,
            "min_height": null,
            "padding": null,
            "grid_auto_rows": null,
            "grid_gap": null,
            "max_width": null,
            "order": null,
            "_view_module_version": "1.2.0",
            "grid_template_areas": null,
            "object_position": null,
            "object_fit": null,
            "grid_auto_columns": null,
            "margin": null,
            "display": null,
            "left": null
          }
        },
        "db468fba218247a39908e2de8cd8a3a8": {
          "model_module": "@jupyter-widgets/controls",
          "model_name": "ProgressStyleModel",
          "model_module_version": "1.5.0",
          "state": {
            "_view_name": "StyleView",
            "_model_name": "ProgressStyleModel",
            "description_width": "",
            "_view_module": "@jupyter-widgets/base",
            "_model_module_version": "1.5.0",
            "_view_count": null,
            "_view_module_version": "1.2.0",
            "bar_color": null,
            "_model_module": "@jupyter-widgets/controls"
          }
        },
        "6ed614735daa444a959547bf803a6571": {
          "model_module": "@jupyter-widgets/base",
          "model_name": "LayoutModel",
          "model_module_version": "1.2.0",
          "state": {
            "_view_name": "LayoutView",
            "grid_template_rows": null,
            "right": null,
            "justify_content": null,
            "_view_module": "@jupyter-widgets/base",
            "overflow": null,
            "_model_module_version": "1.2.0",
            "_view_count": null,
            "flex_flow": null,
            "width": null,
            "min_width": null,
            "border": null,
            "align_items": null,
            "bottom": null,
            "_model_module": "@jupyter-widgets/base",
            "top": null,
            "grid_column": null,
            "overflow_y": null,
            "overflow_x": null,
            "grid_auto_flow": null,
            "grid_area": null,
            "grid_template_columns": null,
            "flex": "2",
            "_model_name": "LayoutModel",
            "justify_items": null,
            "grid_row": null,
            "max_height": null,
            "align_content": null,
            "visibility": null,
            "align_self": null,
            "height": null,
            "min_height": null,
            "padding": null,
            "grid_auto_rows": null,
            "grid_gap": null,
            "max_width": null,
            "order": null,
            "_view_module_version": "1.2.0",
            "grid_template_areas": null,
            "object_position": null,
            "object_fit": null,
            "grid_auto_columns": null,
            "margin": null,
            "display": null,
            "left": null
          }
        },
        "cfa53649ee174f139c59f9482e226f54": {
          "model_module": "@jupyter-widgets/controls",
          "model_name": "DescriptionStyleModel",
          "model_module_version": "1.5.0",
          "state": {
            "_view_name": "StyleView",
            "_model_name": "DescriptionStyleModel",
            "description_width": "",
            "_view_module": "@jupyter-widgets/base",
            "_model_module_version": "1.5.0",
            "_view_count": null,
            "_view_module_version": "1.2.0",
            "_model_module": "@jupyter-widgets/controls"
          }
        },
        "fc011efec0764e159133a7b3f0462dd2": {
          "model_module": "@jupyter-widgets/base",
          "model_name": "LayoutModel",
          "model_module_version": "1.2.0",
          "state": {
            "_view_name": "LayoutView",
            "grid_template_rows": null,
            "right": null,
            "justify_content": null,
            "_view_module": "@jupyter-widgets/base",
            "overflow": null,
            "_model_module_version": "1.2.0",
            "_view_count": null,
            "flex_flow": null,
            "width": null,
            "min_width": null,
            "border": null,
            "align_items": null,
            "bottom": null,
            "_model_module": "@jupyter-widgets/base",
            "top": null,
            "grid_column": null,
            "overflow_y": null,
            "overflow_x": null,
            "grid_auto_flow": null,
            "grid_area": null,
            "grid_template_columns": null,
            "flex": null,
            "_model_name": "LayoutModel",
            "justify_items": null,
            "grid_row": null,
            "max_height": null,
            "align_content": null,
            "visibility": null,
            "align_self": null,
            "height": null,
            "min_height": null,
            "padding": null,
            "grid_auto_rows": null,
            "grid_gap": null,
            "max_width": null,
            "order": null,
            "_view_module_version": "1.2.0",
            "grid_template_areas": null,
            "object_position": null,
            "object_fit": null,
            "grid_auto_columns": null,
            "margin": null,
            "display": null,
            "left": null
          }
        },
        "3a3a51bf09be4158b5aa9cf92f7b052f": {
          "model_module": "@jupyter-widgets/controls",
          "model_name": "HBoxModel",
          "model_module_version": "1.5.0",
          "state": {
            "_view_name": "HBoxView",
            "_dom_classes": [],
            "_model_name": "HBoxModel",
            "_view_module": "@jupyter-widgets/controls",
            "_model_module_version": "1.5.0",
            "_view_count": null,
            "_view_module_version": "1.5.0",
            "box_style": "",
            "layout": "IPY_MODEL_f39aea0f50f44440b540d8c8cacd607e",
            "_model_module": "@jupyter-widgets/controls",
            "children": [
              "IPY_MODEL_98e6d2566fde417f99c56d93e5298c58",
              "IPY_MODEL_ae6e4a9540e6477c80f03c52c5857497",
              "IPY_MODEL_81f9d910682d406eb18501c58eb0b315"
            ]
          }
        },
        "f39aea0f50f44440b540d8c8cacd607e": {
          "model_module": "@jupyter-widgets/base",
          "model_name": "LayoutModel",
          "model_module_version": "1.2.0",
          "state": {
            "_view_name": "LayoutView",
            "grid_template_rows": null,
            "right": null,
            "justify_content": null,
            "_view_module": "@jupyter-widgets/base",
            "overflow": null,
            "_model_module_version": "1.2.0",
            "_view_count": null,
            "flex_flow": "row wrap",
            "width": "100%",
            "min_width": null,
            "border": null,
            "align_items": null,
            "bottom": null,
            "_model_module": "@jupyter-widgets/base",
            "top": null,
            "grid_column": null,
            "overflow_y": null,
            "overflow_x": null,
            "grid_auto_flow": null,
            "grid_area": null,
            "grid_template_columns": null,
            "flex": null,
            "_model_name": "LayoutModel",
            "justify_items": null,
            "grid_row": null,
            "max_height": null,
            "align_content": null,
            "visibility": null,
            "align_self": null,
            "height": null,
            "min_height": null,
            "padding": null,
            "grid_auto_rows": null,
            "grid_gap": null,
            "max_width": null,
            "order": null,
            "_view_module_version": "1.2.0",
            "grid_template_areas": null,
            "object_position": null,
            "object_fit": null,
            "grid_auto_columns": null,
            "margin": null,
            "display": "inline-flex",
            "left": null
          }
        },
        "98e6d2566fde417f99c56d93e5298c58": {
          "model_module": "@jupyter-widgets/controls",
          "model_name": "HTMLModel",
          "model_module_version": "1.5.0",
          "state": {
            "_view_name": "HTMLView",
            "style": "IPY_MODEL_48e99c20095c44bd8f11d93fa4a10143",
            "_dom_classes": [],
            "description": "",
            "_model_name": "HTMLModel",
            "placeholder": "​",
            "_view_module": "@jupyter-widgets/controls",
            "_model_module_version": "1.5.0",
            "value": "Validating: 100%",
            "_view_count": null,
            "_view_module_version": "1.5.0",
            "description_tooltip": null,
            "_model_module": "@jupyter-widgets/controls",
            "layout": "IPY_MODEL_0a81366ec8d048ea8ed87a6ebd16e235"
          }
        },
        "ae6e4a9540e6477c80f03c52c5857497": {
          "model_module": "@jupyter-widgets/controls",
          "model_name": "FloatProgressModel",
          "model_module_version": "1.5.0",
          "state": {
            "_view_name": "ProgressView",
            "style": "IPY_MODEL_48b65a1683144aeda8746af718bbfc1b",
            "_dom_classes": [],
            "description": "",
            "_model_name": "FloatProgressModel",
            "bar_style": "",
            "max": 856,
            "_view_module": "@jupyter-widgets/controls",
            "_model_module_version": "1.5.0",
            "value": 856,
            "_view_count": null,
            "_view_module_version": "1.5.0",
            "orientation": "horizontal",
            "min": 0,
            "description_tooltip": null,
            "_model_module": "@jupyter-widgets/controls",
            "layout": "IPY_MODEL_2a63363bfd38400ba99489505f47dc0a"
          }
        },
        "81f9d910682d406eb18501c58eb0b315": {
          "model_module": "@jupyter-widgets/controls",
          "model_name": "HTMLModel",
          "model_module_version": "1.5.0",
          "state": {
            "_view_name": "HTMLView",
            "style": "IPY_MODEL_b0b306c52f25401cb2e04bc51509dc1e",
            "_dom_classes": [],
            "description": "",
            "_model_name": "HTMLModel",
            "placeholder": "​",
            "_view_module": "@jupyter-widgets/controls",
            "_model_module_version": "1.5.0",
            "value": " 856/856 [01:05&lt;00:00, 13.17it/s]",
            "_view_count": null,
            "_view_module_version": "1.5.0",
            "description_tooltip": null,
            "_model_module": "@jupyter-widgets/controls",
            "layout": "IPY_MODEL_43122d43bb0c436bb22616db907480b7"
          }
        },
        "48e99c20095c44bd8f11d93fa4a10143": {
          "model_module": "@jupyter-widgets/controls",
          "model_name": "DescriptionStyleModel",
          "model_module_version": "1.5.0",
          "state": {
            "_view_name": "StyleView",
            "_model_name": "DescriptionStyleModel",
            "description_width": "",
            "_view_module": "@jupyter-widgets/base",
            "_model_module_version": "1.5.0",
            "_view_count": null,
            "_view_module_version": "1.2.0",
            "_model_module": "@jupyter-widgets/controls"
          }
        },
        "0a81366ec8d048ea8ed87a6ebd16e235": {
          "model_module": "@jupyter-widgets/base",
          "model_name": "LayoutModel",
          "model_module_version": "1.2.0",
          "state": {
            "_view_name": "LayoutView",
            "grid_template_rows": null,
            "right": null,
            "justify_content": null,
            "_view_module": "@jupyter-widgets/base",
            "overflow": null,
            "_model_module_version": "1.2.0",
            "_view_count": null,
            "flex_flow": null,
            "width": null,
            "min_width": null,
            "border": null,
            "align_items": null,
            "bottom": null,
            "_model_module": "@jupyter-widgets/base",
            "top": null,
            "grid_column": null,
            "overflow_y": null,
            "overflow_x": null,
            "grid_auto_flow": null,
            "grid_area": null,
            "grid_template_columns": null,
            "flex": null,
            "_model_name": "LayoutModel",
            "justify_items": null,
            "grid_row": null,
            "max_height": null,
            "align_content": null,
            "visibility": null,
            "align_self": null,
            "height": null,
            "min_height": null,
            "padding": null,
            "grid_auto_rows": null,
            "grid_gap": null,
            "max_width": null,
            "order": null,
            "_view_module_version": "1.2.0",
            "grid_template_areas": null,
            "object_position": null,
            "object_fit": null,
            "grid_auto_columns": null,
            "margin": null,
            "display": null,
            "left": null
          }
        },
        "48b65a1683144aeda8746af718bbfc1b": {
          "model_module": "@jupyter-widgets/controls",
          "model_name": "ProgressStyleModel",
          "model_module_version": "1.5.0",
          "state": {
            "_view_name": "StyleView",
            "_model_name": "ProgressStyleModel",
            "description_width": "",
            "_view_module": "@jupyter-widgets/base",
            "_model_module_version": "1.5.0",
            "_view_count": null,
            "_view_module_version": "1.2.0",
            "bar_color": null,
            "_model_module": "@jupyter-widgets/controls"
          }
        },
        "2a63363bfd38400ba99489505f47dc0a": {
          "model_module": "@jupyter-widgets/base",
          "model_name": "LayoutModel",
          "model_module_version": "1.2.0",
          "state": {
            "_view_name": "LayoutView",
            "grid_template_rows": null,
            "right": null,
            "justify_content": null,
            "_view_module": "@jupyter-widgets/base",
            "overflow": null,
            "_model_module_version": "1.2.0",
            "_view_count": null,
            "flex_flow": null,
            "width": null,
            "min_width": null,
            "border": null,
            "align_items": null,
            "bottom": null,
            "_model_module": "@jupyter-widgets/base",
            "top": null,
            "grid_column": null,
            "overflow_y": null,
            "overflow_x": null,
            "grid_auto_flow": null,
            "grid_area": null,
            "grid_template_columns": null,
            "flex": "2",
            "_model_name": "LayoutModel",
            "justify_items": null,
            "grid_row": null,
            "max_height": null,
            "align_content": null,
            "visibility": null,
            "align_self": null,
            "height": null,
            "min_height": null,
            "padding": null,
            "grid_auto_rows": null,
            "grid_gap": null,
            "max_width": null,
            "order": null,
            "_view_module_version": "1.2.0",
            "grid_template_areas": null,
            "object_position": null,
            "object_fit": null,
            "grid_auto_columns": null,
            "margin": null,
            "display": null,
            "left": null
          }
        },
        "b0b306c52f25401cb2e04bc51509dc1e": {
          "model_module": "@jupyter-widgets/controls",
          "model_name": "DescriptionStyleModel",
          "model_module_version": "1.5.0",
          "state": {
            "_view_name": "StyleView",
            "_model_name": "DescriptionStyleModel",
            "description_width": "",
            "_view_module": "@jupyter-widgets/base",
            "_model_module_version": "1.5.0",
            "_view_count": null,
            "_view_module_version": "1.2.0",
            "_model_module": "@jupyter-widgets/controls"
          }
        },
        "43122d43bb0c436bb22616db907480b7": {
          "model_module": "@jupyter-widgets/base",
          "model_name": "LayoutModel",
          "model_module_version": "1.2.0",
          "state": {
            "_view_name": "LayoutView",
            "grid_template_rows": null,
            "right": null,
            "justify_content": null,
            "_view_module": "@jupyter-widgets/base",
            "overflow": null,
            "_model_module_version": "1.2.0",
            "_view_count": null,
            "flex_flow": null,
            "width": null,
            "min_width": null,
            "border": null,
            "align_items": null,
            "bottom": null,
            "_model_module": "@jupyter-widgets/base",
            "top": null,
            "grid_column": null,
            "overflow_y": null,
            "overflow_x": null,
            "grid_auto_flow": null,
            "grid_area": null,
            "grid_template_columns": null,
            "flex": null,
            "_model_name": "LayoutModel",
            "justify_items": null,
            "grid_row": null,
            "max_height": null,
            "align_content": null,
            "visibility": null,
            "align_self": null,
            "height": null,
            "min_height": null,
            "padding": null,
            "grid_auto_rows": null,
            "grid_gap": null,
            "max_width": null,
            "order": null,
            "_view_module_version": "1.2.0",
            "grid_template_areas": null,
            "object_position": null,
            "object_fit": null,
            "grid_auto_columns": null,
            "margin": null,
            "display": null,
            "left": null
          }
        },
        "c2d5053d36764895b17aad82ee0b4dd3": {
          "model_module": "@jupyter-widgets/controls",
          "model_name": "HBoxModel",
          "model_module_version": "1.5.0",
          "state": {
            "_view_name": "HBoxView",
            "_dom_classes": [],
            "_model_name": "HBoxModel",
            "_view_module": "@jupyter-widgets/controls",
            "_model_module_version": "1.5.0",
            "_view_count": null,
            "_view_module_version": "1.5.0",
            "box_style": "",
            "layout": "IPY_MODEL_eb2eedda639a41f7bad1d6168b86a55f",
            "_model_module": "@jupyter-widgets/controls",
            "children": [
              "IPY_MODEL_906cab408e344d6b9294537de2aaa895",
              "IPY_MODEL_97e464871eca4db89f6f4f3508bf64db",
              "IPY_MODEL_3a743b33bb6d4d4996831c25810b2271"
            ]
          }
        },
        "eb2eedda639a41f7bad1d6168b86a55f": {
          "model_module": "@jupyter-widgets/base",
          "model_name": "LayoutModel",
          "model_module_version": "1.2.0",
          "state": {
            "_view_name": "LayoutView",
            "grid_template_rows": null,
            "right": null,
            "justify_content": null,
            "_view_module": "@jupyter-widgets/base",
            "overflow": null,
            "_model_module_version": "1.2.0",
            "_view_count": null,
            "flex_flow": "row wrap",
            "width": "100%",
            "min_width": null,
            "border": null,
            "align_items": null,
            "bottom": null,
            "_model_module": "@jupyter-widgets/base",
            "top": null,
            "grid_column": null,
            "overflow_y": null,
            "overflow_x": null,
            "grid_auto_flow": null,
            "grid_area": null,
            "grid_template_columns": null,
            "flex": null,
            "_model_name": "LayoutModel",
            "justify_items": null,
            "grid_row": null,
            "max_height": null,
            "align_content": null,
            "visibility": null,
            "align_self": null,
            "height": null,
            "min_height": null,
            "padding": null,
            "grid_auto_rows": null,
            "grid_gap": null,
            "max_width": null,
            "order": null,
            "_view_module_version": "1.2.0",
            "grid_template_areas": null,
            "object_position": null,
            "object_fit": null,
            "grid_auto_columns": null,
            "margin": null,
            "display": "inline-flex",
            "left": null
          }
        },
        "906cab408e344d6b9294537de2aaa895": {
          "model_module": "@jupyter-widgets/controls",
          "model_name": "HTMLModel",
          "model_module_version": "1.5.0",
          "state": {
            "_view_name": "HTMLView",
            "style": "IPY_MODEL_177545e1bc964370911abe3b196ad1e2",
            "_dom_classes": [],
            "description": "",
            "_model_name": "HTMLModel",
            "placeholder": "​",
            "_view_module": "@jupyter-widgets/controls",
            "_model_module_version": "1.5.0",
            "value": "Validating: 100%",
            "_view_count": null,
            "_view_module_version": "1.5.0",
            "description_tooltip": null,
            "_model_module": "@jupyter-widgets/controls",
            "layout": "IPY_MODEL_17826214b29c4db885a2e0dca20296ab"
          }
        },
        "97e464871eca4db89f6f4f3508bf64db": {
          "model_module": "@jupyter-widgets/controls",
          "model_name": "FloatProgressModel",
          "model_module_version": "1.5.0",
          "state": {
            "_view_name": "ProgressView",
            "style": "IPY_MODEL_b4bbf3bfbeb04e9db5505ff2044975a1",
            "_dom_classes": [],
            "description": "",
            "_model_name": "FloatProgressModel",
            "bar_style": "",
            "max": 856,
            "_view_module": "@jupyter-widgets/controls",
            "_model_module_version": "1.5.0",
            "value": 856,
            "_view_count": null,
            "_view_module_version": "1.5.0",
            "orientation": "horizontal",
            "min": 0,
            "description_tooltip": null,
            "_model_module": "@jupyter-widgets/controls",
            "layout": "IPY_MODEL_bc48843115de494d94b5cdc96807f865"
          }
        },
        "3a743b33bb6d4d4996831c25810b2271": {
          "model_module": "@jupyter-widgets/controls",
          "model_name": "HTMLModel",
          "model_module_version": "1.5.0",
          "state": {
            "_view_name": "HTMLView",
            "style": "IPY_MODEL_758cc74f9be84d339a47c1bd21bbfd0c",
            "_dom_classes": [],
            "description": "",
            "_model_name": "HTMLModel",
            "placeholder": "​",
            "_view_module": "@jupyter-widgets/controls",
            "_model_module_version": "1.5.0",
            "value": " 856/856 [01:05&lt;00:00, 13.15it/s]",
            "_view_count": null,
            "_view_module_version": "1.5.0",
            "description_tooltip": null,
            "_model_module": "@jupyter-widgets/controls",
            "layout": "IPY_MODEL_52bfb9ae57f94f10ba7a6cb52eea47f1"
          }
        },
        "177545e1bc964370911abe3b196ad1e2": {
          "model_module": "@jupyter-widgets/controls",
          "model_name": "DescriptionStyleModel",
          "model_module_version": "1.5.0",
          "state": {
            "_view_name": "StyleView",
            "_model_name": "DescriptionStyleModel",
            "description_width": "",
            "_view_module": "@jupyter-widgets/base",
            "_model_module_version": "1.5.0",
            "_view_count": null,
            "_view_module_version": "1.2.0",
            "_model_module": "@jupyter-widgets/controls"
          }
        },
        "17826214b29c4db885a2e0dca20296ab": {
          "model_module": "@jupyter-widgets/base",
          "model_name": "LayoutModel",
          "model_module_version": "1.2.0",
          "state": {
            "_view_name": "LayoutView",
            "grid_template_rows": null,
            "right": null,
            "justify_content": null,
            "_view_module": "@jupyter-widgets/base",
            "overflow": null,
            "_model_module_version": "1.2.0",
            "_view_count": null,
            "flex_flow": null,
            "width": null,
            "min_width": null,
            "border": null,
            "align_items": null,
            "bottom": null,
            "_model_module": "@jupyter-widgets/base",
            "top": null,
            "grid_column": null,
            "overflow_y": null,
            "overflow_x": null,
            "grid_auto_flow": null,
            "grid_area": null,
            "grid_template_columns": null,
            "flex": null,
            "_model_name": "LayoutModel",
            "justify_items": null,
            "grid_row": null,
            "max_height": null,
            "align_content": null,
            "visibility": null,
            "align_self": null,
            "height": null,
            "min_height": null,
            "padding": null,
            "grid_auto_rows": null,
            "grid_gap": null,
            "max_width": null,
            "order": null,
            "_view_module_version": "1.2.0",
            "grid_template_areas": null,
            "object_position": null,
            "object_fit": null,
            "grid_auto_columns": null,
            "margin": null,
            "display": null,
            "left": null
          }
        },
        "b4bbf3bfbeb04e9db5505ff2044975a1": {
          "model_module": "@jupyter-widgets/controls",
          "model_name": "ProgressStyleModel",
          "model_module_version": "1.5.0",
          "state": {
            "_view_name": "StyleView",
            "_model_name": "ProgressStyleModel",
            "description_width": "",
            "_view_module": "@jupyter-widgets/base",
            "_model_module_version": "1.5.0",
            "_view_count": null,
            "_view_module_version": "1.2.0",
            "bar_color": null,
            "_model_module": "@jupyter-widgets/controls"
          }
        },
        "bc48843115de494d94b5cdc96807f865": {
          "model_module": "@jupyter-widgets/base",
          "model_name": "LayoutModel",
          "model_module_version": "1.2.0",
          "state": {
            "_view_name": "LayoutView",
            "grid_template_rows": null,
            "right": null,
            "justify_content": null,
            "_view_module": "@jupyter-widgets/base",
            "overflow": null,
            "_model_module_version": "1.2.0",
            "_view_count": null,
            "flex_flow": null,
            "width": null,
            "min_width": null,
            "border": null,
            "align_items": null,
            "bottom": null,
            "_model_module": "@jupyter-widgets/base",
            "top": null,
            "grid_column": null,
            "overflow_y": null,
            "overflow_x": null,
            "grid_auto_flow": null,
            "grid_area": null,
            "grid_template_columns": null,
            "flex": "2",
            "_model_name": "LayoutModel",
            "justify_items": null,
            "grid_row": null,
            "max_height": null,
            "align_content": null,
            "visibility": null,
            "align_self": null,
            "height": null,
            "min_height": null,
            "padding": null,
            "grid_auto_rows": null,
            "grid_gap": null,
            "max_width": null,
            "order": null,
            "_view_module_version": "1.2.0",
            "grid_template_areas": null,
            "object_position": null,
            "object_fit": null,
            "grid_auto_columns": null,
            "margin": null,
            "display": null,
            "left": null
          }
        },
        "758cc74f9be84d339a47c1bd21bbfd0c": {
          "model_module": "@jupyter-widgets/controls",
          "model_name": "DescriptionStyleModel",
          "model_module_version": "1.5.0",
          "state": {
            "_view_name": "StyleView",
            "_model_name": "DescriptionStyleModel",
            "description_width": "",
            "_view_module": "@jupyter-widgets/base",
            "_model_module_version": "1.5.0",
            "_view_count": null,
            "_view_module_version": "1.2.0",
            "_model_module": "@jupyter-widgets/controls"
          }
        },
        "52bfb9ae57f94f10ba7a6cb52eea47f1": {
          "model_module": "@jupyter-widgets/base",
          "model_name": "LayoutModel",
          "model_module_version": "1.2.0",
          "state": {
            "_view_name": "LayoutView",
            "grid_template_rows": null,
            "right": null,
            "justify_content": null,
            "_view_module": "@jupyter-widgets/base",
            "overflow": null,
            "_model_module_version": "1.2.0",
            "_view_count": null,
            "flex_flow": null,
            "width": null,
            "min_width": null,
            "border": null,
            "align_items": null,
            "bottom": null,
            "_model_module": "@jupyter-widgets/base",
            "top": null,
            "grid_column": null,
            "overflow_y": null,
            "overflow_x": null,
            "grid_auto_flow": null,
            "grid_area": null,
            "grid_template_columns": null,
            "flex": null,
            "_model_name": "LayoutModel",
            "justify_items": null,
            "grid_row": null,
            "max_height": null,
            "align_content": null,
            "visibility": null,
            "align_self": null,
            "height": null,
            "min_height": null,
            "padding": null,
            "grid_auto_rows": null,
            "grid_gap": null,
            "max_width": null,
            "order": null,
            "_view_module_version": "1.2.0",
            "grid_template_areas": null,
            "object_position": null,
            "object_fit": null,
            "grid_auto_columns": null,
            "margin": null,
            "display": null,
            "left": null
          }
        },
        "ffda3bc4131b41cbb0351f9bbfb9b627": {
          "model_module": "@jupyter-widgets/controls",
          "model_name": "HBoxModel",
          "model_module_version": "1.5.0",
          "state": {
            "_view_name": "HBoxView",
            "_dom_classes": [],
            "_model_name": "HBoxModel",
            "_view_module": "@jupyter-widgets/controls",
            "_model_module_version": "1.5.0",
            "_view_count": null,
            "_view_module_version": "1.5.0",
            "box_style": "",
            "layout": "IPY_MODEL_a4c3bea637f6468d9cfc055aa4c32539",
            "_model_module": "@jupyter-widgets/controls",
            "children": [
              "IPY_MODEL_51002d158afd47f193ecda6da7cbbb84",
              "IPY_MODEL_1016b1b3e3304ca29e6ec1a7394db9c5",
              "IPY_MODEL_98e88b474be843618da2301c39cedd59"
            ]
          }
        },
        "a4c3bea637f6468d9cfc055aa4c32539": {
          "model_module": "@jupyter-widgets/base",
          "model_name": "LayoutModel",
          "model_module_version": "1.2.0",
          "state": {
            "_view_name": "LayoutView",
            "grid_template_rows": null,
            "right": null,
            "justify_content": null,
            "_view_module": "@jupyter-widgets/base",
            "overflow": null,
            "_model_module_version": "1.2.0",
            "_view_count": null,
            "flex_flow": "row wrap",
            "width": "100%",
            "min_width": null,
            "border": null,
            "align_items": null,
            "bottom": null,
            "_model_module": "@jupyter-widgets/base",
            "top": null,
            "grid_column": null,
            "overflow_y": null,
            "overflow_x": null,
            "grid_auto_flow": null,
            "grid_area": null,
            "grid_template_columns": null,
            "flex": null,
            "_model_name": "LayoutModel",
            "justify_items": null,
            "grid_row": null,
            "max_height": null,
            "align_content": null,
            "visibility": null,
            "align_self": null,
            "height": null,
            "min_height": null,
            "padding": null,
            "grid_auto_rows": null,
            "grid_gap": null,
            "max_width": null,
            "order": null,
            "_view_module_version": "1.2.0",
            "grid_template_areas": null,
            "object_position": null,
            "object_fit": null,
            "grid_auto_columns": null,
            "margin": null,
            "display": "inline-flex",
            "left": null
          }
        },
        "51002d158afd47f193ecda6da7cbbb84": {
          "model_module": "@jupyter-widgets/controls",
          "model_name": "HTMLModel",
          "model_module_version": "1.5.0",
          "state": {
            "_view_name": "HTMLView",
            "style": "IPY_MODEL_6cd019c61d3e44dba15d691406931556",
            "_dom_classes": [],
            "description": "",
            "_model_name": "HTMLModel",
            "placeholder": "​",
            "_view_module": "@jupyter-widgets/controls",
            "_model_module_version": "1.5.0",
            "value": "Validating: 100%",
            "_view_count": null,
            "_view_module_version": "1.5.0",
            "description_tooltip": null,
            "_model_module": "@jupyter-widgets/controls",
            "layout": "IPY_MODEL_62ed28f7d872459ba26dc4f3b9646390"
          }
        },
        "1016b1b3e3304ca29e6ec1a7394db9c5": {
          "model_module": "@jupyter-widgets/controls",
          "model_name": "FloatProgressModel",
          "model_module_version": "1.5.0",
          "state": {
            "_view_name": "ProgressView",
            "style": "IPY_MODEL_dd4ddd7198e84aac8f057c1096768c47",
            "_dom_classes": [],
            "description": "",
            "_model_name": "FloatProgressModel",
            "bar_style": "",
            "max": 856,
            "_view_module": "@jupyter-widgets/controls",
            "_model_module_version": "1.5.0",
            "value": 856,
            "_view_count": null,
            "_view_module_version": "1.5.0",
            "orientation": "horizontal",
            "min": 0,
            "description_tooltip": null,
            "_model_module": "@jupyter-widgets/controls",
            "layout": "IPY_MODEL_12e9b34dfc634366860e6085bcd4a873"
          }
        },
        "98e88b474be843618da2301c39cedd59": {
          "model_module": "@jupyter-widgets/controls",
          "model_name": "HTMLModel",
          "model_module_version": "1.5.0",
          "state": {
            "_view_name": "HTMLView",
            "style": "IPY_MODEL_ad1bba68d97d4d4fa5a672a13e75409e",
            "_dom_classes": [],
            "description": "",
            "_model_name": "HTMLModel",
            "placeholder": "​",
            "_view_module": "@jupyter-widgets/controls",
            "_model_module_version": "1.5.0",
            "value": " 856/856 [01:05&lt;00:00, 13.16it/s]",
            "_view_count": null,
            "_view_module_version": "1.5.0",
            "description_tooltip": null,
            "_model_module": "@jupyter-widgets/controls",
            "layout": "IPY_MODEL_a2ee30d3d9e64535a908df766c7ee69a"
          }
        },
        "6cd019c61d3e44dba15d691406931556": {
          "model_module": "@jupyter-widgets/controls",
          "model_name": "DescriptionStyleModel",
          "model_module_version": "1.5.0",
          "state": {
            "_view_name": "StyleView",
            "_model_name": "DescriptionStyleModel",
            "description_width": "",
            "_view_module": "@jupyter-widgets/base",
            "_model_module_version": "1.5.0",
            "_view_count": null,
            "_view_module_version": "1.2.0",
            "_model_module": "@jupyter-widgets/controls"
          }
        },
        "62ed28f7d872459ba26dc4f3b9646390": {
          "model_module": "@jupyter-widgets/base",
          "model_name": "LayoutModel",
          "model_module_version": "1.2.0",
          "state": {
            "_view_name": "LayoutView",
            "grid_template_rows": null,
            "right": null,
            "justify_content": null,
            "_view_module": "@jupyter-widgets/base",
            "overflow": null,
            "_model_module_version": "1.2.0",
            "_view_count": null,
            "flex_flow": null,
            "width": null,
            "min_width": null,
            "border": null,
            "align_items": null,
            "bottom": null,
            "_model_module": "@jupyter-widgets/base",
            "top": null,
            "grid_column": null,
            "overflow_y": null,
            "overflow_x": null,
            "grid_auto_flow": null,
            "grid_area": null,
            "grid_template_columns": null,
            "flex": null,
            "_model_name": "LayoutModel",
            "justify_items": null,
            "grid_row": null,
            "max_height": null,
            "align_content": null,
            "visibility": null,
            "align_self": null,
            "height": null,
            "min_height": null,
            "padding": null,
            "grid_auto_rows": null,
            "grid_gap": null,
            "max_width": null,
            "order": null,
            "_view_module_version": "1.2.0",
            "grid_template_areas": null,
            "object_position": null,
            "object_fit": null,
            "grid_auto_columns": null,
            "margin": null,
            "display": null,
            "left": null
          }
        },
        "dd4ddd7198e84aac8f057c1096768c47": {
          "model_module": "@jupyter-widgets/controls",
          "model_name": "ProgressStyleModel",
          "model_module_version": "1.5.0",
          "state": {
            "_view_name": "StyleView",
            "_model_name": "ProgressStyleModel",
            "description_width": "",
            "_view_module": "@jupyter-widgets/base",
            "_model_module_version": "1.5.0",
            "_view_count": null,
            "_view_module_version": "1.2.0",
            "bar_color": null,
            "_model_module": "@jupyter-widgets/controls"
          }
        },
        "12e9b34dfc634366860e6085bcd4a873": {
          "model_module": "@jupyter-widgets/base",
          "model_name": "LayoutModel",
          "model_module_version": "1.2.0",
          "state": {
            "_view_name": "LayoutView",
            "grid_template_rows": null,
            "right": null,
            "justify_content": null,
            "_view_module": "@jupyter-widgets/base",
            "overflow": null,
            "_model_module_version": "1.2.0",
            "_view_count": null,
            "flex_flow": null,
            "width": null,
            "min_width": null,
            "border": null,
            "align_items": null,
            "bottom": null,
            "_model_module": "@jupyter-widgets/base",
            "top": null,
            "grid_column": null,
            "overflow_y": null,
            "overflow_x": null,
            "grid_auto_flow": null,
            "grid_area": null,
            "grid_template_columns": null,
            "flex": "2",
            "_model_name": "LayoutModel",
            "justify_items": null,
            "grid_row": null,
            "max_height": null,
            "align_content": null,
            "visibility": null,
            "align_self": null,
            "height": null,
            "min_height": null,
            "padding": null,
            "grid_auto_rows": null,
            "grid_gap": null,
            "max_width": null,
            "order": null,
            "_view_module_version": "1.2.0",
            "grid_template_areas": null,
            "object_position": null,
            "object_fit": null,
            "grid_auto_columns": null,
            "margin": null,
            "display": null,
            "left": null
          }
        },
        "ad1bba68d97d4d4fa5a672a13e75409e": {
          "model_module": "@jupyter-widgets/controls",
          "model_name": "DescriptionStyleModel",
          "model_module_version": "1.5.0",
          "state": {
            "_view_name": "StyleView",
            "_model_name": "DescriptionStyleModel",
            "description_width": "",
            "_view_module": "@jupyter-widgets/base",
            "_model_module_version": "1.5.0",
            "_view_count": null,
            "_view_module_version": "1.2.0",
            "_model_module": "@jupyter-widgets/controls"
          }
        },
        "a2ee30d3d9e64535a908df766c7ee69a": {
          "model_module": "@jupyter-widgets/base",
          "model_name": "LayoutModel",
          "model_module_version": "1.2.0",
          "state": {
            "_view_name": "LayoutView",
            "grid_template_rows": null,
            "right": null,
            "justify_content": null,
            "_view_module": "@jupyter-widgets/base",
            "overflow": null,
            "_model_module_version": "1.2.0",
            "_view_count": null,
            "flex_flow": null,
            "width": null,
            "min_width": null,
            "border": null,
            "align_items": null,
            "bottom": null,
            "_model_module": "@jupyter-widgets/base",
            "top": null,
            "grid_column": null,
            "overflow_y": null,
            "overflow_x": null,
            "grid_auto_flow": null,
            "grid_area": null,
            "grid_template_columns": null,
            "flex": null,
            "_model_name": "LayoutModel",
            "justify_items": null,
            "grid_row": null,
            "max_height": null,
            "align_content": null,
            "visibility": null,
            "align_self": null,
            "height": null,
            "min_height": null,
            "padding": null,
            "grid_auto_rows": null,
            "grid_gap": null,
            "max_width": null,
            "order": null,
            "_view_module_version": "1.2.0",
            "grid_template_areas": null,
            "object_position": null,
            "object_fit": null,
            "grid_auto_columns": null,
            "margin": null,
            "display": null,
            "left": null
          }
        },
        "8a3e90666d7746dc8cb9dffbdf377a9e": {
          "model_module": "@jupyter-widgets/controls",
          "model_name": "HBoxModel",
          "model_module_version": "1.5.0",
          "state": {
            "_view_name": "HBoxView",
            "_dom_classes": [],
            "_model_name": "HBoxModel",
            "_view_module": "@jupyter-widgets/controls",
            "_model_module_version": "1.5.0",
            "_view_count": null,
            "_view_module_version": "1.5.0",
            "box_style": "",
            "layout": "IPY_MODEL_f6a808a3f0444d78a62d80b0038ebbad",
            "_model_module": "@jupyter-widgets/controls",
            "children": [
              "IPY_MODEL_195e4acc092c481698393e22b58976d2",
              "IPY_MODEL_f5ba66d5402e4a9f99da4384b0f44e97",
              "IPY_MODEL_66ee4d10147846eeb736bfa878e1c0d0"
            ]
          }
        },
        "f6a808a3f0444d78a62d80b0038ebbad": {
          "model_module": "@jupyter-widgets/base",
          "model_name": "LayoutModel",
          "model_module_version": "1.2.0",
          "state": {
            "_view_name": "LayoutView",
            "grid_template_rows": null,
            "right": null,
            "justify_content": null,
            "_view_module": "@jupyter-widgets/base",
            "overflow": null,
            "_model_module_version": "1.2.0",
            "_view_count": null,
            "flex_flow": "row wrap",
            "width": "100%",
            "min_width": null,
            "border": null,
            "align_items": null,
            "bottom": null,
            "_model_module": "@jupyter-widgets/base",
            "top": null,
            "grid_column": null,
            "overflow_y": null,
            "overflow_x": null,
            "grid_auto_flow": null,
            "grid_area": null,
            "grid_template_columns": null,
            "flex": null,
            "_model_name": "LayoutModel",
            "justify_items": null,
            "grid_row": null,
            "max_height": null,
            "align_content": null,
            "visibility": null,
            "align_self": null,
            "height": null,
            "min_height": null,
            "padding": null,
            "grid_auto_rows": null,
            "grid_gap": null,
            "max_width": null,
            "order": null,
            "_view_module_version": "1.2.0",
            "grid_template_areas": null,
            "object_position": null,
            "object_fit": null,
            "grid_auto_columns": null,
            "margin": null,
            "display": "inline-flex",
            "left": null
          }
        },
        "195e4acc092c481698393e22b58976d2": {
          "model_module": "@jupyter-widgets/controls",
          "model_name": "HTMLModel",
          "model_module_version": "1.5.0",
          "state": {
            "_view_name": "HTMLView",
            "style": "IPY_MODEL_2b34e100762c4ee1ac0eddca50bb2460",
            "_dom_classes": [],
            "description": "",
            "_model_name": "HTMLModel",
            "placeholder": "​",
            "_view_module": "@jupyter-widgets/controls",
            "_model_module_version": "1.5.0",
            "value": "Validating: 100%",
            "_view_count": null,
            "_view_module_version": "1.5.0",
            "description_tooltip": null,
            "_model_module": "@jupyter-widgets/controls",
            "layout": "IPY_MODEL_11f32b05081f4c47b85b99546b848c27"
          }
        },
        "f5ba66d5402e4a9f99da4384b0f44e97": {
          "model_module": "@jupyter-widgets/controls",
          "model_name": "FloatProgressModel",
          "model_module_version": "1.5.0",
          "state": {
            "_view_name": "ProgressView",
            "style": "IPY_MODEL_c052b4a58d0e493da9b946dc1118cd53",
            "_dom_classes": [],
            "description": "",
            "_model_name": "FloatProgressModel",
            "bar_style": "",
            "max": 856,
            "_view_module": "@jupyter-widgets/controls",
            "_model_module_version": "1.5.0",
            "value": 856,
            "_view_count": null,
            "_view_module_version": "1.5.0",
            "orientation": "horizontal",
            "min": 0,
            "description_tooltip": null,
            "_model_module": "@jupyter-widgets/controls",
            "layout": "IPY_MODEL_9e9c0faf46b44d8b85aa6391786e324f"
          }
        },
        "66ee4d10147846eeb736bfa878e1c0d0": {
          "model_module": "@jupyter-widgets/controls",
          "model_name": "HTMLModel",
          "model_module_version": "1.5.0",
          "state": {
            "_view_name": "HTMLView",
            "style": "IPY_MODEL_ad0f7c7ef1344ccea71ef1bf6cb52bba",
            "_dom_classes": [],
            "description": "",
            "_model_name": "HTMLModel",
            "placeholder": "​",
            "_view_module": "@jupyter-widgets/controls",
            "_model_module_version": "1.5.0",
            "value": " 856/856 [01:05&lt;00:00, 13.14it/s]",
            "_view_count": null,
            "_view_module_version": "1.5.0",
            "description_tooltip": null,
            "_model_module": "@jupyter-widgets/controls",
            "layout": "IPY_MODEL_858202f1c8d1434ea8cab5d87126e887"
          }
        },
        "2b34e100762c4ee1ac0eddca50bb2460": {
          "model_module": "@jupyter-widgets/controls",
          "model_name": "DescriptionStyleModel",
          "model_module_version": "1.5.0",
          "state": {
            "_view_name": "StyleView",
            "_model_name": "DescriptionStyleModel",
            "description_width": "",
            "_view_module": "@jupyter-widgets/base",
            "_model_module_version": "1.5.0",
            "_view_count": null,
            "_view_module_version": "1.2.0",
            "_model_module": "@jupyter-widgets/controls"
          }
        },
        "11f32b05081f4c47b85b99546b848c27": {
          "model_module": "@jupyter-widgets/base",
          "model_name": "LayoutModel",
          "model_module_version": "1.2.0",
          "state": {
            "_view_name": "LayoutView",
            "grid_template_rows": null,
            "right": null,
            "justify_content": null,
            "_view_module": "@jupyter-widgets/base",
            "overflow": null,
            "_model_module_version": "1.2.0",
            "_view_count": null,
            "flex_flow": null,
            "width": null,
            "min_width": null,
            "border": null,
            "align_items": null,
            "bottom": null,
            "_model_module": "@jupyter-widgets/base",
            "top": null,
            "grid_column": null,
            "overflow_y": null,
            "overflow_x": null,
            "grid_auto_flow": null,
            "grid_area": null,
            "grid_template_columns": null,
            "flex": null,
            "_model_name": "LayoutModel",
            "justify_items": null,
            "grid_row": null,
            "max_height": null,
            "align_content": null,
            "visibility": null,
            "align_self": null,
            "height": null,
            "min_height": null,
            "padding": null,
            "grid_auto_rows": null,
            "grid_gap": null,
            "max_width": null,
            "order": null,
            "_view_module_version": "1.2.0",
            "grid_template_areas": null,
            "object_position": null,
            "object_fit": null,
            "grid_auto_columns": null,
            "margin": null,
            "display": null,
            "left": null
          }
        },
        "c052b4a58d0e493da9b946dc1118cd53": {
          "model_module": "@jupyter-widgets/controls",
          "model_name": "ProgressStyleModel",
          "model_module_version": "1.5.0",
          "state": {
            "_view_name": "StyleView",
            "_model_name": "ProgressStyleModel",
            "description_width": "",
            "_view_module": "@jupyter-widgets/base",
            "_model_module_version": "1.5.0",
            "_view_count": null,
            "_view_module_version": "1.2.0",
            "bar_color": null,
            "_model_module": "@jupyter-widgets/controls"
          }
        },
        "9e9c0faf46b44d8b85aa6391786e324f": {
          "model_module": "@jupyter-widgets/base",
          "model_name": "LayoutModel",
          "model_module_version": "1.2.0",
          "state": {
            "_view_name": "LayoutView",
            "grid_template_rows": null,
            "right": null,
            "justify_content": null,
            "_view_module": "@jupyter-widgets/base",
            "overflow": null,
            "_model_module_version": "1.2.0",
            "_view_count": null,
            "flex_flow": null,
            "width": null,
            "min_width": null,
            "border": null,
            "align_items": null,
            "bottom": null,
            "_model_module": "@jupyter-widgets/base",
            "top": null,
            "grid_column": null,
            "overflow_y": null,
            "overflow_x": null,
            "grid_auto_flow": null,
            "grid_area": null,
            "grid_template_columns": null,
            "flex": "2",
            "_model_name": "LayoutModel",
            "justify_items": null,
            "grid_row": null,
            "max_height": null,
            "align_content": null,
            "visibility": null,
            "align_self": null,
            "height": null,
            "min_height": null,
            "padding": null,
            "grid_auto_rows": null,
            "grid_gap": null,
            "max_width": null,
            "order": null,
            "_view_module_version": "1.2.0",
            "grid_template_areas": null,
            "object_position": null,
            "object_fit": null,
            "grid_auto_columns": null,
            "margin": null,
            "display": null,
            "left": null
          }
        },
        "ad0f7c7ef1344ccea71ef1bf6cb52bba": {
          "model_module": "@jupyter-widgets/controls",
          "model_name": "DescriptionStyleModel",
          "model_module_version": "1.5.0",
          "state": {
            "_view_name": "StyleView",
            "_model_name": "DescriptionStyleModel",
            "description_width": "",
            "_view_module": "@jupyter-widgets/base",
            "_model_module_version": "1.5.0",
            "_view_count": null,
            "_view_module_version": "1.2.0",
            "_model_module": "@jupyter-widgets/controls"
          }
        },
        "858202f1c8d1434ea8cab5d87126e887": {
          "model_module": "@jupyter-widgets/base",
          "model_name": "LayoutModel",
          "model_module_version": "1.2.0",
          "state": {
            "_view_name": "LayoutView",
            "grid_template_rows": null,
            "right": null,
            "justify_content": null,
            "_view_module": "@jupyter-widgets/base",
            "overflow": null,
            "_model_module_version": "1.2.0",
            "_view_count": null,
            "flex_flow": null,
            "width": null,
            "min_width": null,
            "border": null,
            "align_items": null,
            "bottom": null,
            "_model_module": "@jupyter-widgets/base",
            "top": null,
            "grid_column": null,
            "overflow_y": null,
            "overflow_x": null,
            "grid_auto_flow": null,
            "grid_area": null,
            "grid_template_columns": null,
            "flex": null,
            "_model_name": "LayoutModel",
            "justify_items": null,
            "grid_row": null,
            "max_height": null,
            "align_content": null,
            "visibility": null,
            "align_self": null,
            "height": null,
            "min_height": null,
            "padding": null,
            "grid_auto_rows": null,
            "grid_gap": null,
            "max_width": null,
            "order": null,
            "_view_module_version": "1.2.0",
            "grid_template_areas": null,
            "object_position": null,
            "object_fit": null,
            "grid_auto_columns": null,
            "margin": null,
            "display": null,
            "left": null
          }
        },
        "85601064a4b243698cc75576227dd406": {
          "model_module": "@jupyter-widgets/controls",
          "model_name": "HBoxModel",
          "model_module_version": "1.5.0",
          "state": {
            "_view_name": "HBoxView",
            "_dom_classes": [],
            "_model_name": "HBoxModel",
            "_view_module": "@jupyter-widgets/controls",
            "_model_module_version": "1.5.0",
            "_view_count": null,
            "_view_module_version": "1.5.0",
            "box_style": "",
            "layout": "IPY_MODEL_80276d264ef64fa0833ec3def63fa499",
            "_model_module": "@jupyter-widgets/controls",
            "children": [
              "IPY_MODEL_cd52994fbe9e4ba1979aa7839e2fd6c9",
              "IPY_MODEL_15629c039d9e4218b32846971edca7ac",
              "IPY_MODEL_cfe1df62bcb843e0abc16861f23019f1"
            ]
          }
        },
        "80276d264ef64fa0833ec3def63fa499": {
          "model_module": "@jupyter-widgets/base",
          "model_name": "LayoutModel",
          "model_module_version": "1.2.0",
          "state": {
            "_view_name": "LayoutView",
            "grid_template_rows": null,
            "right": null,
            "justify_content": null,
            "_view_module": "@jupyter-widgets/base",
            "overflow": null,
            "_model_module_version": "1.2.0",
            "_view_count": null,
            "flex_flow": null,
            "width": null,
            "min_width": null,
            "border": null,
            "align_items": null,
            "bottom": null,
            "_model_module": "@jupyter-widgets/base",
            "top": null,
            "grid_column": null,
            "overflow_y": null,
            "overflow_x": null,
            "grid_auto_flow": null,
            "grid_area": null,
            "grid_template_columns": null,
            "flex": null,
            "_model_name": "LayoutModel",
            "justify_items": null,
            "grid_row": null,
            "max_height": null,
            "align_content": null,
            "visibility": null,
            "align_self": null,
            "height": null,
            "min_height": null,
            "padding": null,
            "grid_auto_rows": null,
            "grid_gap": null,
            "max_width": null,
            "order": null,
            "_view_module_version": "1.2.0",
            "grid_template_areas": null,
            "object_position": null,
            "object_fit": null,
            "grid_auto_columns": null,
            "margin": null,
            "display": null,
            "left": null
          }
        },
        "cd52994fbe9e4ba1979aa7839e2fd6c9": {
          "model_module": "@jupyter-widgets/controls",
          "model_name": "HTMLModel",
          "model_module_version": "1.5.0",
          "state": {
            "_view_name": "HTMLView",
            "style": "IPY_MODEL_c220a2a54e0449589f0752d21b0c1ae9",
            "_dom_classes": [],
            "description": "",
            "_model_name": "HTMLModel",
            "placeholder": "​",
            "_view_module": "@jupyter-widgets/controls",
            "_model_module_version": "1.5.0",
            "value": "100%",
            "_view_count": null,
            "_view_module_version": "1.5.0",
            "description_tooltip": null,
            "_model_module": "@jupyter-widgets/controls",
            "layout": "IPY_MODEL_42d6a3a4336f4432ab66a7c7feb0a973"
          }
        },
        "15629c039d9e4218b32846971edca7ac": {
          "model_module": "@jupyter-widgets/controls",
          "model_name": "FloatProgressModel",
          "model_module_version": "1.5.0",
          "state": {
            "_view_name": "ProgressView",
            "style": "IPY_MODEL_d198dae819b24381ac6e5e379baec58e",
            "_dom_classes": [],
            "description": "",
            "_model_name": "FloatProgressModel",
            "bar_style": "success",
            "max": 3423,
            "_view_module": "@jupyter-widgets/controls",
            "_model_module_version": "1.5.0",
            "value": 3423,
            "_view_count": null,
            "_view_module_version": "1.5.0",
            "orientation": "horizontal",
            "min": 0,
            "description_tooltip": null,
            "_model_module": "@jupyter-widgets/controls",
            "layout": "IPY_MODEL_6e75e6ea70ff4dfa849c3fa632f685b8"
          }
        },
        "cfe1df62bcb843e0abc16861f23019f1": {
          "model_module": "@jupyter-widgets/controls",
          "model_name": "HTMLModel",
          "model_module_version": "1.5.0",
          "state": {
            "_view_name": "HTMLView",
            "style": "IPY_MODEL_c23a35ba139240388b56937037574a68",
            "_dom_classes": [],
            "description": "",
            "_model_name": "HTMLModel",
            "placeholder": "​",
            "_view_module": "@jupyter-widgets/controls",
            "_model_module_version": "1.5.0",
            "value": " 3423/3423 [01:13&lt;00:00, 46.94it/s]",
            "_view_count": null,
            "_view_module_version": "1.5.0",
            "description_tooltip": null,
            "_model_module": "@jupyter-widgets/controls",
            "layout": "IPY_MODEL_8d6aa6a1cd804ce6ae2f99e531864810"
          }
        },
        "c220a2a54e0449589f0752d21b0c1ae9": {
          "model_module": "@jupyter-widgets/controls",
          "model_name": "DescriptionStyleModel",
          "model_module_version": "1.5.0",
          "state": {
            "_view_name": "StyleView",
            "_model_name": "DescriptionStyleModel",
            "description_width": "",
            "_view_module": "@jupyter-widgets/base",
            "_model_module_version": "1.5.0",
            "_view_count": null,
            "_view_module_version": "1.2.0",
            "_model_module": "@jupyter-widgets/controls"
          }
        },
        "42d6a3a4336f4432ab66a7c7feb0a973": {
          "model_module": "@jupyter-widgets/base",
          "model_name": "LayoutModel",
          "model_module_version": "1.2.0",
          "state": {
            "_view_name": "LayoutView",
            "grid_template_rows": null,
            "right": null,
            "justify_content": null,
            "_view_module": "@jupyter-widgets/base",
            "overflow": null,
            "_model_module_version": "1.2.0",
            "_view_count": null,
            "flex_flow": null,
            "width": null,
            "min_width": null,
            "border": null,
            "align_items": null,
            "bottom": null,
            "_model_module": "@jupyter-widgets/base",
            "top": null,
            "grid_column": null,
            "overflow_y": null,
            "overflow_x": null,
            "grid_auto_flow": null,
            "grid_area": null,
            "grid_template_columns": null,
            "flex": null,
            "_model_name": "LayoutModel",
            "justify_items": null,
            "grid_row": null,
            "max_height": null,
            "align_content": null,
            "visibility": null,
            "align_self": null,
            "height": null,
            "min_height": null,
            "padding": null,
            "grid_auto_rows": null,
            "grid_gap": null,
            "max_width": null,
            "order": null,
            "_view_module_version": "1.2.0",
            "grid_template_areas": null,
            "object_position": null,
            "object_fit": null,
            "grid_auto_columns": null,
            "margin": null,
            "display": null,
            "left": null
          }
        },
        "d198dae819b24381ac6e5e379baec58e": {
          "model_module": "@jupyter-widgets/controls",
          "model_name": "ProgressStyleModel",
          "model_module_version": "1.5.0",
          "state": {
            "_view_name": "StyleView",
            "_model_name": "ProgressStyleModel",
            "description_width": "",
            "_view_module": "@jupyter-widgets/base",
            "_model_module_version": "1.5.0",
            "_view_count": null,
            "_view_module_version": "1.2.0",
            "bar_color": null,
            "_model_module": "@jupyter-widgets/controls"
          }
        },
        "6e75e6ea70ff4dfa849c3fa632f685b8": {
          "model_module": "@jupyter-widgets/base",
          "model_name": "LayoutModel",
          "model_module_version": "1.2.0",
          "state": {
            "_view_name": "LayoutView",
            "grid_template_rows": null,
            "right": null,
            "justify_content": null,
            "_view_module": "@jupyter-widgets/base",
            "overflow": null,
            "_model_module_version": "1.2.0",
            "_view_count": null,
            "flex_flow": null,
            "width": null,
            "min_width": null,
            "border": null,
            "align_items": null,
            "bottom": null,
            "_model_module": "@jupyter-widgets/base",
            "top": null,
            "grid_column": null,
            "overflow_y": null,
            "overflow_x": null,
            "grid_auto_flow": null,
            "grid_area": null,
            "grid_template_columns": null,
            "flex": null,
            "_model_name": "LayoutModel",
            "justify_items": null,
            "grid_row": null,
            "max_height": null,
            "align_content": null,
            "visibility": null,
            "align_self": null,
            "height": null,
            "min_height": null,
            "padding": null,
            "grid_auto_rows": null,
            "grid_gap": null,
            "max_width": null,
            "order": null,
            "_view_module_version": "1.2.0",
            "grid_template_areas": null,
            "object_position": null,
            "object_fit": null,
            "grid_auto_columns": null,
            "margin": null,
            "display": null,
            "left": null
          }
        },
        "c23a35ba139240388b56937037574a68": {
          "model_module": "@jupyter-widgets/controls",
          "model_name": "DescriptionStyleModel",
          "model_module_version": "1.5.0",
          "state": {
            "_view_name": "StyleView",
            "_model_name": "DescriptionStyleModel",
            "description_width": "",
            "_view_module": "@jupyter-widgets/base",
            "_model_module_version": "1.5.0",
            "_view_count": null,
            "_view_module_version": "1.2.0",
            "_model_module": "@jupyter-widgets/controls"
          }
        },
        "8d6aa6a1cd804ce6ae2f99e531864810": {
          "model_module": "@jupyter-widgets/base",
          "model_name": "LayoutModel",
          "model_module_version": "1.2.0",
          "state": {
            "_view_name": "LayoutView",
            "grid_template_rows": null,
            "right": null,
            "justify_content": null,
            "_view_module": "@jupyter-widgets/base",
            "overflow": null,
            "_model_module_version": "1.2.0",
            "_view_count": null,
            "flex_flow": null,
            "width": null,
            "min_width": null,
            "border": null,
            "align_items": null,
            "bottom": null,
            "_model_module": "@jupyter-widgets/base",
            "top": null,
            "grid_column": null,
            "overflow_y": null,
            "overflow_x": null,
            "grid_auto_flow": null,
            "grid_area": null,
            "grid_template_columns": null,
            "flex": null,
            "_model_name": "LayoutModel",
            "justify_items": null,
            "grid_row": null,
            "max_height": null,
            "align_content": null,
            "visibility": null,
            "align_self": null,
            "height": null,
            "min_height": null,
            "padding": null,
            "grid_auto_rows": null,
            "grid_gap": null,
            "max_width": null,
            "order": null,
            "_view_module_version": "1.2.0",
            "grid_template_areas": null,
            "object_position": null,
            "object_fit": null,
            "grid_auto_columns": null,
            "margin": null,
            "display": null,
            "left": null
          }
        }
      }
    }
  },
  "cells": [
    {
      "cell_type": "code",
      "metadata": {
        "id": "mAzPXKFb3aPE",
        "colab": {
          "base_uri": "https://localhost:8080/"
        },
        "outputId": "65aaeca7-c5b2-42b5-d25e-c062836835a4"
      },
      "source": [
        "from google.colab import drive\n",
        "drive.mount('/content/drive')"
      ],
      "execution_count": null,
      "outputs": [
        {
          "output_type": "stream",
          "text": [
            "Mounted at /content/drive\n"
          ],
          "name": "stdout"
        }
      ]
    },
    {
      "cell_type": "code",
      "metadata": {
        "id": "cPe1wmKi3d9W"
      },
      "source": [
        "import warnings\n",
        "warnings.filterwarnings('ignore')"
      ],
      "execution_count": null,
      "outputs": []
    },
    {
      "cell_type": "code",
      "metadata": {
        "colab": {
          "base_uri": "https://localhost:8080/"
        },
        "id": "BIy49QkB3mTQ",
        "outputId": "c6846e46-775b-44df-9463-e3e0a72c9f1a"
      },
      "source": [
        "!nvidia-smi"
      ],
      "execution_count": null,
      "outputs": [
        {
          "output_type": "stream",
          "text": [
            "Mon Aug 30 08:37:43 2021       \n",
            "+-----------------------------------------------------------------------------+\n",
            "| NVIDIA-SMI 470.57.02    Driver Version: 460.32.03    CUDA Version: 11.2     |\n",
            "|-------------------------------+----------------------+----------------------+\n",
            "| GPU  Name        Persistence-M| Bus-Id        Disp.A | Volatile Uncorr. ECC |\n",
            "| Fan  Temp  Perf  Pwr:Usage/Cap|         Memory-Usage | GPU-Util  Compute M. |\n",
            "|                               |                      |               MIG M. |\n",
            "|===============================+======================+======================|\n",
            "|   0  Tesla P100-PCIE...  Off  | 00000000:00:04.0 Off |                    0 |\n",
            "| N/A   40C    P0    28W / 250W |      0MiB / 16280MiB |      0%      Default |\n",
            "|                               |                      |                  N/A |\n",
            "+-------------------------------+----------------------+----------------------+\n",
            "                                                                               \n",
            "+-----------------------------------------------------------------------------+\n",
            "| Processes:                                                                  |\n",
            "|  GPU   GI   CI        PID   Type   Process name                  GPU Memory |\n",
            "|        ID   ID                                                   Usage      |\n",
            "|=============================================================================|\n",
            "|  No running processes found                                                 |\n",
            "+-----------------------------------------------------------------------------+\n"
          ],
          "name": "stdout"
        }
      ]
    },
    {
      "cell_type": "code",
      "metadata": {
        "colab": {
          "base_uri": "https://localhost:8080/"
        },
        "id": "4ws94rYx3nUX",
        "outputId": "e839c8fd-44e6-4600-a8c3-2dd021eddfe1"
      },
      "source": [
        "!pip install --quiet transformers\n",
        "!pip install --quiet pytorch-lightning"
      ],
      "execution_count": null,
      "outputs": [
        {
          "output_type": "stream",
          "text": [
            "\u001b[K     |████████████████████████████████| 2.6 MB 5.2 MB/s \n",
            "\u001b[K     |████████████████████████████████| 895 kB 52.7 MB/s \n",
            "\u001b[K     |████████████████████████████████| 3.3 MB 47.4 MB/s \n",
            "\u001b[K     |████████████████████████████████| 636 kB 32.3 MB/s \n",
            "\u001b[K     |████████████████████████████████| 918 kB 5.1 MB/s \n",
            "\u001b[K     |████████████████████████████████| 272 kB 56.4 MB/s \n",
            "\u001b[K     |████████████████████████████████| 118 kB 52.7 MB/s \n",
            "\u001b[K     |████████████████████████████████| 829 kB 38.8 MB/s \n",
            "\u001b[K     |████████████████████████████████| 1.3 MB 35.5 MB/s \n",
            "\u001b[K     |████████████████████████████████| 142 kB 65.0 MB/s \n",
            "\u001b[K     |████████████████████████████████| 294 kB 50.3 MB/s \n",
            "\u001b[?25h  Building wheel for future (setup.py) ... \u001b[?25l\u001b[?25hdone\n"
          ],
          "name": "stdout"
        }
      ]
    },
    {
      "cell_type": "code",
      "metadata": {
        "colab": {
          "base_uri": "https://localhost:8080/"
        },
        "id": "dg5TSCRB3tn0",
        "outputId": "faac7928-04d3-432f-d018-78bfd11378f6"
      },
      "source": [
        "import pandas as pd\n",
        "import numpy as np\n",
        "\n",
        "from tqdm.auto import tqdm\n",
        "\n",
        "import torch\n",
        "import torch.nn as nn\n",
        "from torch.utils.data import Dataset, DataLoader\n",
        "\n",
        "from transformers import AutoTokenizer, AutoModel, AdamW, get_linear_schedule_with_warmup\n",
        "\n",
        "import pytorch_lightning as pl\n",
        "from pytorch_lightning.metrics.functional import accuracy, f1, auroc\n",
        "from pytorch_lightning.callbacks import ModelCheckpoint, EarlyStopping\n",
        "from pytorch_lightning.loggers import TensorBoardLogger\n",
        "\n",
        "from sklearn.model_selection import train_test_split\n",
        "from sklearn.metrics import classification_report, multilabel_confusion_matrix\n",
        "\n",
        "import seaborn as sns\n",
        "from pylab import rcParams\n",
        "import matplotlib.pyplot as plt\n",
        "from matplotlib import rc\n",
        "\n",
        "%matplotlib inline  \n",
        "%config InlineBackend.figure_format='retina'\n",
        "\n",
        "RANDOM_SEED = 42\n",
        "\n",
        "sns.set(style='whitegrid', palette='muted', font_scale=1.2)\n",
        "HAPPY_COLORS_PALETTE = [\"#01BEFE\", \"#FFDD00\", \"#FF7D00\", \"#FF006D\", \"#ADFF02\", \"#8F00FF\"]\n",
        "sns.set_palette(sns.color_palette(HAPPY_COLORS_PALETTE))\n",
        "rcParams['figure.figsize'] = 12, 8\n",
        "\n",
        "pl.seed_everything(RANDOM_SEED)\n",
        "\n",
        "from collections import Counter"
      ],
      "execution_count": null,
      "outputs": [
        {
          "output_type": "stream",
          "text": [
            "Global seed set to 42\n"
          ],
          "name": "stderr"
        }
      ]
    },
    {
      "cell_type": "code",
      "metadata": {
        "colab": {
          "base_uri": "https://localhost:8080/"
        },
        "id": "2J-G5I493xNb",
        "outputId": "76e18078-d283-47e2-e8a7-5d50720eed6d"
      },
      "source": [
        "# import dataset\n",
        "train_df = pd.read_csv('drive/MyDrive/Biocreative/Biocreative/datasets/TRAIN.csv')\n",
        "train_df = train_df.sample(frac=1).reset_index(drop=True)\n",
        "train_df.head(), train_df.shape"
      ],
      "execution_count": null,
      "outputs": [
        {
          "output_type": "execute_result",
          "data": {
            "text/plain": [
              "(       pmid  ...                                     Title&Keywords\n",
              " 0  32265202  ...  Ocular manifestation hospitalised patient conf...\n",
              " 1  33036702  ...  COVID-19 senior Findings lesson mass screening...\n",
              " 2  32406522  ...  COVID-19 Focus lung forget gastrointestinal tr...\n",
              " 3  32599534  ...  subcutaneous insulin administration adequate m...\n",
              " 4  33005463  ...  First Case COVID-19-Associated Collapsing Glom...\n",
              " \n",
              " [5 rows x 13 columns], (30738, 13))"
            ]
          },
          "metadata": {},
          "execution_count": 6
        }
      ]
    },
    {
      "cell_type": "code",
      "metadata": {
        "id": "nPHjZkeR33dn"
      },
      "source": [
        "LABEL_COLUMNS = train_df.columns.tolist()[5:-1]"
      ],
      "execution_count": null,
      "outputs": []
    },
    {
      "cell_type": "code",
      "metadata": {
        "colab": {
          "base_uri": "https://localhost:8080/",
          "height": 98,
          "referenced_widgets": [
            "95b23588d6194c04af5dc12eac5992c6",
            "fc7f40312dd948cfa4ba18a74d311737",
            "5dfe9a8adb62498fbe478d05df280f9d",
            "bd7627f2cf024be3b4d2a61e4535d918",
            "c6b07335cda94319bff561e49ed30e2f",
            "75dcc3d430544db9839cacf7c0bd5193",
            "85c27dbf62d942f59f1743d68fa525d5",
            "ef4d8a597b1d486e8339e94a34eb4022",
            "3c151301dc9f4dc4a42d177fb3a8dc1f",
            "4d9a1b9fff994ac39f53d81f0bf8ad63",
            "2d93bac3a172497eb0fa8c2055474ada",
            "652544d6898d4811a6b2a24f7a01d628",
            "8efb1911f39e4060a57b2ca417276ee1",
            "ea3fb48107d74827a74bf90c2a230e2a",
            "106fa37f3007417c9576b52278818004",
            "1773238108a946a9bd3f3b6247d3a260",
            "2e25690cd1b249eb8b04d7776029b401",
            "34869805fa2c421ba3d4818fa8c9b773",
            "fcb894b6328d46669fa4916d988adef0",
            "2783169242354a23be52737f5639b08a",
            "236f11f623fa44e783e8c39a55df0a83",
            "945a601b8e8f49bb98e4f8ec36d3948b"
          ]
        },
        "id": "jvN762J5370f",
        "outputId": "d1da8539-1455-452d-bb32-95d5862d46a9"
      },
      "source": [
        "# BERT_MODEL_NAME = 'dmis-lab/biobert-base-cased-v1.1' or 'dmis-lab/biobert-base-cased-v1.2'\n",
        "# Ref : microsoft/BiomedNLP-PubMedBERT-base-uncased-abstract-fulltext\n",
        "# Ref 2.0 : lordtt13/COVID-SciBERT\n",
        "BERT_MODEL_NAME = input(\"Enter Bert Model Name: \")\n",
        "tokenizer = AutoTokenizer.from_pretrained(BERT_MODEL_NAME)"
      ],
      "execution_count": null,
      "outputs": [
        {
          "output_type": "stream",
          "text": [
            "Enter Bert Model Name: microsoft/BiomedNLP-PubMedBERT-base-uncased-abstract-fulltext\n"
          ],
          "name": "stdout"
        },
        {
          "output_type": "display_data",
          "data": {
            "application/vnd.jupyter.widget-view+json": {
              "model_id": "95b23588d6194c04af5dc12eac5992c6",
              "version_minor": 0,
              "version_major": 2
            },
            "text/plain": [
              "Downloading:   0%|          | 0.00/337 [00:00<?, ?B/s]"
            ]
          },
          "metadata": {}
        },
        {
          "output_type": "display_data",
          "data": {
            "application/vnd.jupyter.widget-view+json": {
              "model_id": "652544d6898d4811a6b2a24f7a01d628",
              "version_minor": 0,
              "version_major": 2
            },
            "text/plain": [
              "Downloading:   0%|          | 0.00/226k [00:00<?, ?B/s]"
            ]
          },
          "metadata": {}
        }
      ]
    },
    {
      "cell_type": "code",
      "metadata": {
        "colab": {
          "base_uri": "https://localhost:8080/",
          "height": 145,
          "referenced_widgets": [
            "45c442edb9aa432c919afd506dad6365",
            "8381e46caed54506a0b27cc79a9ab303",
            "41d751a3a2d546958217632e2f34a114",
            "e5526e1ea856447e97c3fcd334910ffb",
            "92b7aa7d07be48f3b658766668b38adf",
            "e950d42830924d53b3e973b2cfb2e809",
            "601faef2c4e44d5a977ac7fbd1b1ea04",
            "4c758d17e2024516ab57d47d73566f1f",
            "6042452cf9ea494b851a32b691972348",
            "1e710cebd4254918a225eacba6634fb0",
            "a6886d460b594f26b4dc49dc707a3838",
            "1785898e3fa1413da5add68a05f704a1",
            "c02f312714c643559afaf3e3d5f6782a",
            "58feb74d856d4d918fbcd01d4ef6f3df",
            "e497307cdb1c4d49bb5d87fb7ad1d133",
            "f70ec45431594358a96a1123abea9f87",
            "3f26dc09b56e4f83a3f02462b117016b",
            "65763b0c802e459a87affbf01981dab7",
            "767a9f874cc140b28b1577b0e044caa0",
            "7d3cf0fd9a8f4fdba08b80fb1867b4ee",
            "027bf8789f0e4d258199863e2781591e",
            "7096106ca51f4e38bc81a1481f92f46f",
            "1f089fd6484b4ab6bde71e3a38556206",
            "1b8abd07521c4d5d840068dab507fe88",
            "38dccefd3c5e4e85b0c27ab1b647c710",
            "eb7da78a66b9449b9ccb142f1b2dc763",
            "05f83e18918645c298da9a8108b228a4",
            "fcde1ef582d845cbbcdfcdf94b0db829",
            "c320729eb21d46bead1f0cde2498e818",
            "12c40ec37ff442b486e84629413c458d",
            "cd225199b9e34b3cbcb68c82f96ae32c",
            "a7e1affb953f469fb4ce3bef7bd0abea",
            "5c14e63e05d346bba764def96fac3938",
            "c15b38078f10460e9e2f6b52697cd183",
            "271104af761243538066b165aeab1241",
            "b2c4cb350a9d4d16be8e8b23be418dc9",
            "c86e7782d56e401ba007d6de27c53bc4",
            "974f359bd541432aad7c2e958f918220",
            "3909b40f0cf948a5b2bcfdb9c7882cf1",
            "38850edf61c1444a856323c5fc2afae0",
            "572b0146f24441049ac498d05ec785ff",
            "3eb0e32b7a0e4cf9a5ae45586ba1069d",
            "c320ff05d794453aa89785a4fa2df689",
            "d75194c59f1f40cdbf8c3f23ff6463f6"
          ]
        },
        "id": "ewkGGct8EhVo",
        "outputId": "3d409d5e-c25e-42f3-dd39-48ef742d2585"
      },
      "source": [
        "# model_name = \"allenai/specter\"\n",
        "EMBEDDING_MODEL = \"allenai/specter\"\n",
        "embedding_tokenizer = AutoTokenizer.from_pretrained(EMBEDDING_MODEL)"
      ],
      "execution_count": null,
      "outputs": [
        {
          "output_type": "display_data",
          "data": {
            "application/vnd.jupyter.widget-view+json": {
              "model_id": "45c442edb9aa432c919afd506dad6365",
              "version_minor": 0,
              "version_major": 2
            },
            "text/plain": [
              "Downloading:   0%|          | 0.00/321 [00:00<?, ?B/s]"
            ]
          },
          "metadata": {}
        },
        {
          "output_type": "display_data",
          "data": {
            "application/vnd.jupyter.widget-view+json": {
              "model_id": "1785898e3fa1413da5add68a05f704a1",
              "version_minor": 0,
              "version_major": 2
            },
            "text/plain": [
              "Downloading:   0%|          | 0.00/612 [00:00<?, ?B/s]"
            ]
          },
          "metadata": {}
        },
        {
          "output_type": "display_data",
          "data": {
            "application/vnd.jupyter.widget-view+json": {
              "model_id": "1f089fd6484b4ab6bde71e3a38556206",
              "version_minor": 0,
              "version_major": 2
            },
            "text/plain": [
              "Downloading:   0%|          | 0.00/222k [00:00<?, ?B/s]"
            ]
          },
          "metadata": {}
        },
        {
          "output_type": "display_data",
          "data": {
            "application/vnd.jupyter.widget-view+json": {
              "model_id": "c15b38078f10460e9e2f6b52697cd183",
              "version_minor": 0,
              "version_major": 2
            },
            "text/plain": [
              "Downloading:   0%|          | 0.00/112 [00:00<?, ?B/s]"
            ]
          },
          "metadata": {}
        }
      ]
    },
    {
      "cell_type": "code",
      "metadata": {
        "id": "dPe2NxpZxdRg"
      },
      "source": [
        "title_abs = [row[\"title\"] + embedding_tokenizer.sep_token + (row.get(\"abstract\") or '') for _, row in train_df.iterrows()]"
      ],
      "execution_count": null,
      "outputs": []
    },
    {
      "cell_type": "code",
      "metadata": {
        "id": "tK7yQZRbxy8t"
      },
      "source": [
        "# add title and abstract text\n",
        "train_df[\"title_abs\"] = title_abs"
      ],
      "execution_count": null,
      "outputs": []
    },
    {
      "cell_type": "code",
      "metadata": {
        "colab": {
          "base_uri": "https://localhost:8080/"
        },
        "id": "IhEHKoniFMUN",
        "outputId": "46350877-258b-4423-bf8a-9a50247268a4"
      },
      "source": [
        "train_df[LABEL_COLUMNS].sum().sort_values()"
      ],
      "execution_count": null,
      "outputs": [
        {
          "output_type": "execute_result",
          "data": {
            "text/plain": [
              "Epidemic Forecasting     1528\n",
              "Case Report              2291\n",
              "Transmission             3165\n",
              "Mechanism                5414\n",
              "Diagnosis                7456\n",
              "Treatment               10091\n",
              "Prevention              13998\n",
              "dtype: int64"
            ]
          },
          "metadata": {},
          "execution_count": 12
        }
      ]
    },
    {
      "cell_type": "code",
      "metadata": {
        "id": "z2rEib0m4Q8L"
      },
      "source": [
        "MAX_TOKEN_COUNT = 512"
      ],
      "execution_count": null,
      "outputs": []
    },
    {
      "cell_type": "code",
      "metadata": {
        "id": "gBqnBhdu3-ei"
      },
      "source": [
        "class TopicAnnotationDataset(Dataset):\n",
        "\n",
        "  def __init__(\n",
        "    self,\n",
        "    data: pd.DataFrame,\n",
        "    embedding_tokenizer: AutoTokenizer,\n",
        "    max_token_len: int = 512,\n",
        "  ):\n",
        "    self.embedding_tokenizer = embedding_tokenizer\n",
        "    self.data = data\n",
        "    self.max_token_len = max_token_len\n",
        "    \n",
        "  def __len__(self):\n",
        "    return len(self.data)\n",
        "\n",
        "  def __getitem__(self, index=int):\n",
        "    \n",
        "    data_row = self.data.iloc[index]\n",
        "\n",
        "    text = data_row.title_abs\n",
        "    labels = data_row[LABEL_COLUMNS]\n",
        "\n",
        "    inputs = self.embedding_tokenizer.encode_plus(\n",
        "        text, \n",
        "        max_length=self.max_token_len,\n",
        "        padding=\"max_length\", \n",
        "        truncation=True, \n",
        "        return_tensors=\"pt\", \n",
        "    )\n",
        "\n",
        "    return dict(\n",
        "        text=text,\n",
        "        input_ids=inputs[\"input_ids\"].flatten(),\n",
        "        attention_mask=inputs[\"attention_mask\"].flatten(),\n",
        "        labels=torch.FloatTensor(labels) \n",
        "    )  "
      ],
      "execution_count": null,
      "outputs": []
    },
    {
      "cell_type": "code",
      "metadata": {
        "id": "ou3_fJXGBnHg"
      },
      "source": [
        "train_dataset = TopicAnnotationDataset(\n",
        "    train_df,\n",
        "    embedding_tokenizer=embedding_tokenizer,\n",
        ")"
      ],
      "execution_count": null,
      "outputs": []
    },
    {
      "cell_type": "code",
      "metadata": {
        "id": "-mS-6FdgBp6Z"
      },
      "source": [
        "class TopicAnnotationDataModule(pl.LightningDataModule):\n",
        "\n",
        "  def __init__(self, train_df, test_df, tokenizer, embedding_tokenizer, batch_size=8, max_token_len=128):\n",
        "    \n",
        "    super().__init__()\n",
        "    self.batch_size = batch_size\n",
        "    self.train_df = train_df\n",
        "    self.test_df = test_df\n",
        "    self.embedding_tokenizer = embedding_tokenizer\n",
        "    self.max_token_len = max_token_len\n",
        "\n",
        "  def setup(self, stage=None):\n",
        "    \n",
        "    self.train_dataset =  TopicAnnotationDataset(\n",
        "        data=self.train_df,\n",
        "        embedding_tokenizer=self.embedding_tokenizer,\n",
        "        max_token_len=self.max_token_len\n",
        "    )\n",
        "\n",
        "    self.test_dataset = TopicAnnotationDataset(\n",
        "        data=self.test_df,\n",
        "        embedding_tokenizer=self.embedding_tokenizer,\n",
        "        max_token_len=self.max_token_len\n",
        "    )\n",
        "\n",
        "  def train_dataloader(self):\n",
        "\n",
        "    return DataLoader(\n",
        "        self.train_dataset,\n",
        "        batch_size=self.batch_size,\n",
        "        shuffle=True,\n",
        "        num_workers=2\n",
        "    )\n",
        "\n",
        "  def val_dataloader(self):\n",
        "\n",
        "    return DataLoader(\n",
        "        self.test_dataset,\n",
        "        batch_size=self.batch_size,\n",
        "        num_workers=2\n",
        "    )\n",
        "\n",
        "  def test_dataloader(self):\n",
        "    \n",
        "    return DataLoader(\n",
        "        self.test_dataset,\n",
        "        batch_size=self.batch_size,\n",
        "        num_workers=2\n",
        "    )"
      ],
      "execution_count": null,
      "outputs": []
    },
    {
      "cell_type": "code",
      "metadata": {
        "colab": {
          "base_uri": "https://localhost:8080/",
          "height": 35
        },
        "id": "o5ELtrPQebvV",
        "outputId": "7d1bf78a-80fa-474f-ab04-bab6432b188a"
      },
      "source": [
        "%pwd"
      ],
      "execution_count": null,
      "outputs": [
        {
          "output_type": "execute_result",
          "data": {
            "application/vnd.google.colaboratory.intrinsic+json": {
              "type": "string"
            },
            "text/plain": [
              "'/content'"
            ]
          },
          "metadata": {},
          "execution_count": 24
        }
      ]
    },
    {
      "cell_type": "code",
      "metadata": {
        "colab": {
          "base_uri": "https://localhost:8080/"
        },
        "id": "fMLXnUybDWIs",
        "outputId": "12d5e520-cc38-417a-fbcc-5d221e52cfe2"
      },
      "source": [
        "val_df = pd.read_csv(\"/content/drive/MyDrive/Biocreative/Biocreative/datasets/VAL.csv\")\n",
        "val_df = val_df.sample(frac=1).reset_index(drop=True)\n",
        "val_df.shape"
      ],
      "execution_count": null,
      "outputs": [
        {
          "output_type": "execute_result",
          "data": {
            "text/plain": [
              "(3423, 13)"
            ]
          },
          "metadata": {},
          "execution_count": 25
        }
      ]
    },
    {
      "cell_type": "code",
      "metadata": {
        "id": "-3AWtep4PYse"
      },
      "source": [
        "title_abs = [row[\"title\"] + embedding_tokenizer.sep_token + (row.get(\"abstract\") or '') for _, row in val_df.iterrows()]\n",
        "val_df[\"title_abs\"] = title_abs"
      ],
      "execution_count": null,
      "outputs": []
    },
    {
      "cell_type": "code",
      "metadata": {
        "id": "gCZ1sc2Ewm_K"
      },
      "source": [
        "N_EPOCHS = 10\n",
        "BATCH_SIZE = 4\n",
        "\n",
        "data_module = TopicAnnotationDataModule(\n",
        "    train_df,\n",
        "    val_df,\n",
        "    tokenizer,\n",
        "    embedding_tokenizer,\n",
        "    batch_size=BATCH_SIZE,\n",
        "    max_token_len=MAX_TOKEN_COUNT\n",
        ")"
      ],
      "execution_count": null,
      "outputs": []
    },
    {
      "cell_type": "code",
      "metadata": {
        "colab": {
          "base_uri": "https://localhost:8080/"
        },
        "id": "xWNeGIHA9O7K",
        "outputId": "6be8fa0d-7934-4af3-b110-3fdebd857375"
      },
      "source": [
        "Label_count = train_df[LABEL_COLUMNS].sum().to_dict()\n",
        "count = list(Label_count.values())\n",
        "max_val = max(count)\n",
        "class_weight = [max_val/val for val in count]\n",
        "print(class_weight)"
      ],
      "execution_count": null,
      "outputs": [
        {
          "output_type": "stream",
          "text": [
            "[6.109995635093846, 1.8774141630901287, 9.160994764397905, 2.5855190247506465, 1.0, 4.4227488151658765, 1.3871766921018729]\n"
          ],
          "name": "stdout"
        }
      ]
    },
    {
      "cell_type": "code",
      "metadata": {
        "colab": {
          "base_uri": "https://localhost:8080/"
        },
        "id": "tZxCvK9y9ZQw",
        "outputId": "e6ce8d94-744c-4cd4-9500-f49e015efec2"
      },
      "source": [
        "# print label and corresponding weights\n",
        "dict(zip(LABEL_COLUMNS, class_weight))"
      ],
      "execution_count": null,
      "outputs": [
        {
          "output_type": "execute_result",
          "data": {
            "text/plain": [
              "{'Case Report': 6.109995635093846,\n",
              " 'Diagnosis': 1.8774141630901287,\n",
              " 'Epidemic Forecasting': 9.160994764397905,\n",
              " 'Mechanism': 2.5855190247506465,\n",
              " 'Prevention': 1.0,\n",
              " 'Transmission': 4.4227488151658765,\n",
              " 'Treatment': 1.3871766921018729}"
            ]
          },
          "metadata": {},
          "execution_count": 50
        }
      ]
    },
    {
      "cell_type": "code",
      "metadata": {
        "id": "nvp3Eah69cUu"
      },
      "source": [
        "class_weight = torch.tensor(class_weight, device=\"cuda\")"
      ],
      "execution_count": null,
      "outputs": []
    },
    {
      "cell_type": "code",
      "metadata": {
        "id": "uKYtVKIsWU3b"
      },
      "source": [
        "class FFN(nn.Module):\n",
        "  def __init__(self, in_feat, out_feat, dropout):\n",
        "      super(FFN, self).__init__()\n",
        "      self.in2hid = nn.Linear(in_feat, in_feat)\n",
        "      self.hid2out = nn.Linear(in_feat, out_feat)\n",
        "\n",
        "      self.activation = nn.ReLU()\n",
        "      self.dropout = nn.Dropout(dropout)\n",
        "\n",
        "  def forward(self, input):\n",
        "      hid = self.activation(self.dropout(self.in2hid(input)))\n",
        "      return self.hid2out(hid)"
      ],
      "execution_count": null,
      "outputs": []
    },
    {
      "cell_type": "code",
      "metadata": {
        "id": "IEvzbePlw5RX"
      },
      "source": [
        "class TopicAnnotationTagger(pl.LightningModule):\n",
        "\n",
        "  def __init__(self, n_classes: int, n_training_steps=None, n_warmup_steps=None):\n",
        "    \n",
        "    super().__init__()\n",
        "\n",
        "    self.specter = AutoModel.from_pretrained(EMBEDDING_MODEL, return_dict=True) # specter embedding model\n",
        "\n",
        "    self.n_training_steps = n_training_steps\n",
        "    self.n_warmup_steps = n_warmup_steps\n",
        "    self.criterion = nn.BCELoss(weight=class_weight)\n",
        "\n",
        "    self.fc = nn.Linear(self.specter.config.hidden_size, n_classes)\n",
        "    self.relu = nn.ReLU()\n",
        "    self.softmax = nn.Softmax(dim=1)\n",
        "    self.classifier = nn.Linear(self.specter.config.hidden_size, 1)\n",
        "    self.sigmoid = nn.Sigmoid()\n",
        "\n",
        "  def forward(self, input_ids, attention_mask, labels=None):\n",
        "\n",
        "    specter_output = self.specter(input_ids, attention_mask)\n",
        "    # last_hidden_state final cell (batch_size x specter_hidden_size)\n",
        "    specter_output = specter_output.last_hidden_state\n",
        "\n",
        "    # linear transformation and apply relu \n",
        "    # (batch_size x sequence_length x hidden_size) => (batch_size, sequence_length x n_classes)\n",
        "    energy = self.relu(self.fc(specter_output))\n",
        "    \n",
        "    # calculate attention weights \n",
        "    # (batch_size x sequence_length x n_classes)\n",
        "    attention = self.softmax(energy)\n",
        "\n",
        "    # apply attention weigths to encoded_output \n",
        "    # (batch_size x sequence_length x n_classes) * (batch_size x sequence_length x hidden_size) => (batch_size x n_classes x hidden_size)\n",
        "    context_vector = torch.einsum(\"nsk,nsl->nkl\", attention, specter_output)\n",
        "    # apply sigmoid function to context vector\n",
        "    output = self.sigmoid(self.classifier(context_vector).squeeze(-1))\n",
        "\n",
        "    loss = 0\n",
        "    if labels is not None:\n",
        "      loss = self.criterion(output, labels)\n",
        "    return loss, output\n",
        "\n",
        "  def training_step(self, batch, batch_idx):\n",
        "\n",
        "    input_ids = batch[\"input_ids\"]\n",
        "    attention_mask = batch[\"attention_mask\"]\n",
        "    labels = batch[\"labels\"]\n",
        "\n",
        "    loss, outputs = self(input_ids, attention_mask, labels)\n",
        "    self.log(\"train_loss\", loss, prog_bar=True, logger=True)\n",
        "    return {\"loss\": loss, \"predictions\": outputs, \"labels\": labels}\n",
        "\n",
        "  def validation_step(self, batch, batch_idx):\n",
        "\n",
        "    input_ids = batch[\"input_ids\"]\n",
        "    attention_mask = batch[\"attention_mask\"]\n",
        "    labels = batch[\"labels\"]\n",
        "\n",
        "    loss, outputs = self(input_ids, attention_mask, labels)\n",
        "    self.log(\"val_loss\", loss, prog_bar=True, logger=True)\n",
        "    return loss\n",
        "\n",
        "  def test_step(self, batch, batch_idx):\n",
        "    \n",
        "    input_ids = batch[\"input_ids\"]\n",
        "    attention_mask = batch[\"attention_mask\"]\n",
        "    labels = batch[\"labels\"]\n",
        "\n",
        "    loss, outputs = self(input_ids, attention_mask, labels)\n",
        "    self.log(\"test_loss\", loss, prog_bar=True, logger=True)\n",
        "    return loss\n",
        "\n",
        "  def training_epoch_end(self, outputs):\n",
        "\n",
        "    labels = []\n",
        "    predictions = []\n",
        "    for output in outputs:\n",
        "      for out_labels in output[\"labels\"].detach().cpu():\n",
        "        labels.append(out_labels)\n",
        "      for out_predictions in output[\"predictions\"].detach().cpu():\n",
        "        predictions.append(out_predictions)\n",
        "\n",
        "    labels = torch.stack(labels).int()\n",
        "    predictions = torch.stack(predictions)\n",
        "\n",
        "    for i, name in enumerate(LABEL_COLUMNS):\n",
        "      class_roc_auc = auroc(predictions[:, i], labels[:, i])\n",
        "      self.logger.experiment.add_scalar(f\"{name}_roc_auc/Train\", class_roc_auc, self.current_epoch)\n",
        "\n",
        "  def configure_optimizers(self):\n",
        "\n",
        "    optimizer = AdamW(self.parameters(), lr=2e-5)\n",
        "\n",
        "    scheduler = get_linear_schedule_with_warmup(\n",
        "      optimizer,\n",
        "      num_warmup_steps=self.n_warmup_steps,\n",
        "      num_training_steps=self.n_training_steps\n",
        "    )\n",
        "\n",
        "    return dict(\n",
        "        optimizer=optimizer,\n",
        "        lr_scheduler=dict(\n",
        "            scheduler=scheduler,\n",
        "            interval='step'\n",
        "            )\n",
        "        )"
      ],
      "execution_count": null,
      "outputs": []
    },
    {
      "cell_type": "code",
      "metadata": {
        "id": "NQ0G4TvczkP4"
      },
      "source": [
        "steps_per_epoch=len(train_df) // BATCH_SIZE\n",
        "total_training_steps = steps_per_epoch * N_EPOCHS"
      ],
      "execution_count": null,
      "outputs": []
    },
    {
      "cell_type": "code",
      "metadata": {
        "colab": {
          "base_uri": "https://localhost:8080/"
        },
        "id": "ViKW_Boiz3WV",
        "outputId": "ecdb3f92-3753-4321-8367-34799299342a"
      },
      "source": [
        "warmup_steps = total_training_steps // 5\n",
        "warmup_steps, total_training_steps"
      ],
      "execution_count": null,
      "outputs": [
        {
          "output_type": "execute_result",
          "data": {
            "text/plain": [
              "(15368, 76840)"
            ]
          },
          "metadata": {},
          "execution_count": 132
        }
      ]
    },
    {
      "cell_type": "code",
      "metadata": {
        "id": "FgwMF0_3z4x-"
      },
      "source": [
        "model = TopicAnnotationTagger(\n",
        "    n_classes=len(LABEL_COLUMNS),\n",
        "    n_warmup_steps=warmup_steps,\n",
        "    n_training_steps=total_training_steps\n",
        ")"
      ],
      "execution_count": null,
      "outputs": []
    },
    {
      "cell_type": "code",
      "metadata": {
        "colab": {
          "base_uri": "https://localhost:8080/",
          "height": 35
        },
        "id": "FABmVeWfaU9D",
        "outputId": "96b8bd60-020b-4370-9e73-8d33d8ae8ab2"
      },
      "source": [
        "%pwd"
      ],
      "execution_count": null,
      "outputs": [
        {
          "output_type": "execute_result",
          "data": {
            "application/vnd.google.colaboratory.intrinsic+json": {
              "type": "string"
            },
            "text/plain": [
              "'/content/drive/My Drive/Biocreative/Biocreative/checkpoints_and_logs'"
            ]
          },
          "metadata": {},
          "execution_count": 123
        }
      ]
    },
    {
      "cell_type": "code",
      "metadata": {
        "colab": {
          "base_uri": "https://localhost:8080/"
        },
        "id": "n0fX6c7ndf4Y",
        "outputId": "f651e4e6-9e7c-412b-8cd5-cc946c59599c"
      },
      "source": [
        "cd '/content/drive/MyDrive/Biocreative/Biocreative/checkpoints_and_logs/'"
      ],
      "execution_count": null,
      "outputs": [
        {
          "output_type": "stream",
          "text": [
            "/content/drive/MyDrive/Biocreative/Biocreative/checkpoints_and_logs\n"
          ],
          "name": "stdout"
        }
      ]
    },
    {
      "cell_type": "code",
      "metadata": {
        "id": "vbV_UYtydmTx"
      },
      "source": [
        "checkpoint_callback = ModelCheckpoint(\n",
        "    dirpath=\"specter-lwan-checkpoints\",\n",
        "    filename=\"specter-lwan-checkpoint\",\n",
        "    save_top_k=1,\n",
        "    verbose=True,\n",
        "    monitor=\"val_loss\",\n",
        "    mode=\"min\"\n",
        ")"
      ],
      "execution_count": null,
      "outputs": []
    },
    {
      "cell_type": "code",
      "metadata": {
        "id": "4-RmpccZdqEk"
      },
      "source": [
        "logger = TensorBoardLogger(\"specter-lwan-lightning_logs\", name=\"topic-annotations\")"
      ],
      "execution_count": null,
      "outputs": []
    },
    {
      "cell_type": "code",
      "metadata": {
        "id": "aE7WyXJwdtoH"
      },
      "source": [
        "early_stopping_callback = EarlyStopping(monitor='val_loss', patience=2)"
      ],
      "execution_count": null,
      "outputs": []
    },
    {
      "cell_type": "code",
      "metadata": {
        "colab": {
          "base_uri": "https://localhost:8080/"
        },
        "id": "LWZpif0HdutD",
        "outputId": "d65a176d-6007-4a25-ec5d-02ccdd8375bc"
      },
      "source": [
        "trainer = pl.Trainer(\n",
        "    logger=logger,\n",
        "    checkpoint_callback=True,\n",
        "    callbacks=[checkpoint_callback, early_stopping_callback],\n",
        "    max_epochs=N_EPOCHS,\n",
        "    gpus=1,\n",
        "    progress_bar_refresh_rate=30\n",
        ")"
      ],
      "execution_count": null,
      "outputs": [
        {
          "output_type": "stream",
          "text": [
            "GPU available: True, used: True\n",
            "TPU available: False, using: 0 TPU cores\n",
            "IPU available: False, using: 0 IPUs\n"
          ],
          "name": "stderr"
        }
      ]
    },
    {
      "cell_type": "code",
      "metadata": {
        "colab": {
          "base_uri": "https://localhost:8080/",
          "height": 652,
          "referenced_widgets": [
            "36e1464cd21140dd9d33bc4ff7fe514d",
            "8dd7467755ca45f593845d0e11fe46f7",
            "0ce33de243874c809d063a7bc6d32f04",
            "8a74ed210d3645e09686a15abd151d2c",
            "2223260321284bd888dd42c642111293",
            "26de42e2bdcd40a6aabf0005e98de09c",
            "3133d5acf9ef44fe8d8ffb7ef1b67e45",
            "2ec8bda9993549fc8cfe6a5374dcab14",
            "98d1c7a8d8e34796bce8a8805cde6b0a",
            "8085ac2da9d341fb8f56e75c70fd6591",
            "0f6f6c166d7648d3b1193f2f92c67c87",
            "3d7715e955774a499d476875e58717fe",
            "dbd95d8b1fa64e839aed757d688b9608",
            "6f5f6fe736644dd283013779b4f6cf5a",
            "f1f4c47e994c44e1b892af72a0a3b325",
            "dc20ecab8e934adcbcb6fab031176f83",
            "e44b0640569045dfb005a9f979dff9ef",
            "4398574c0ae4415cb3ad7388e382219c",
            "bd65dedb00cd4437b59f6a26a98ca117",
            "66d654e792d44af88d700523b0873d60",
            "c95e74b784b4451eb541dc83112d1f77",
            "03cb29d7b4334762ba93f16cdae849ae",
            "2c7bf786bc8f42f98bd2bc6e8cad5eaa",
            "1a8700cc4ff94902822c3e14270df63c",
            "a2f298c129dc4d62b057881b90a2e7d0",
            "15922cd0dad44b22bc516986280bcfc4",
            "94a0445be0e044a1bf0c8e77acba48b3",
            "88c6c259290244eda83ff8dd1002c568",
            "da5222e08d04453d84f08f64c341392a",
            "f925c485f03346ba893a1e5ecf656e64",
            "99a72695568a4614b787e9a35c2c96a1",
            "80930c2aa4324ced8c244430ed732701",
            "7081ce10ac9040968b522eb695c9f899",
            "dd243a719b8d45168490eba3798ef677",
            "ae2bcb312d8e4c43a2667cf52ae7b811",
            "6a10dbee1e674b0d9d320339e182782b",
            "1a2de4d61fc84afba5fb3a472246d47b",
            "06fb8bd16c66414e9eb78d22adf641bc",
            "030940eefdb64a75b1c905d2f12f7848",
            "349a18affc254fdea9e77df6b6fd15c9",
            "db468fba218247a39908e2de8cd8a3a8",
            "6ed614735daa444a959547bf803a6571",
            "cfa53649ee174f139c59f9482e226f54",
            "fc011efec0764e159133a7b3f0462dd2",
            "3a3a51bf09be4158b5aa9cf92f7b052f",
            "f39aea0f50f44440b540d8c8cacd607e",
            "98e6d2566fde417f99c56d93e5298c58",
            "ae6e4a9540e6477c80f03c52c5857497",
            "81f9d910682d406eb18501c58eb0b315",
            "48e99c20095c44bd8f11d93fa4a10143",
            "0a81366ec8d048ea8ed87a6ebd16e235",
            "48b65a1683144aeda8746af718bbfc1b",
            "2a63363bfd38400ba99489505f47dc0a",
            "b0b306c52f25401cb2e04bc51509dc1e",
            "43122d43bb0c436bb22616db907480b7",
            "c2d5053d36764895b17aad82ee0b4dd3",
            "eb2eedda639a41f7bad1d6168b86a55f",
            "906cab408e344d6b9294537de2aaa895",
            "97e464871eca4db89f6f4f3508bf64db",
            "3a743b33bb6d4d4996831c25810b2271",
            "177545e1bc964370911abe3b196ad1e2",
            "17826214b29c4db885a2e0dca20296ab",
            "b4bbf3bfbeb04e9db5505ff2044975a1",
            "bc48843115de494d94b5cdc96807f865",
            "758cc74f9be84d339a47c1bd21bbfd0c",
            "52bfb9ae57f94f10ba7a6cb52eea47f1",
            "ffda3bc4131b41cbb0351f9bbfb9b627",
            "a4c3bea637f6468d9cfc055aa4c32539",
            "51002d158afd47f193ecda6da7cbbb84",
            "1016b1b3e3304ca29e6ec1a7394db9c5",
            "98e88b474be843618da2301c39cedd59",
            "6cd019c61d3e44dba15d691406931556",
            "62ed28f7d872459ba26dc4f3b9646390",
            "dd4ddd7198e84aac8f057c1096768c47",
            "12e9b34dfc634366860e6085bcd4a873",
            "ad1bba68d97d4d4fa5a672a13e75409e",
            "a2ee30d3d9e64535a908df766c7ee69a",
            "8a3e90666d7746dc8cb9dffbdf377a9e",
            "f6a808a3f0444d78a62d80b0038ebbad",
            "195e4acc092c481698393e22b58976d2",
            "f5ba66d5402e4a9f99da4384b0f44e97",
            "66ee4d10147846eeb736bfa878e1c0d0",
            "2b34e100762c4ee1ac0eddca50bb2460",
            "11f32b05081f4c47b85b99546b848c27",
            "c052b4a58d0e493da9b946dc1118cd53",
            "9e9c0faf46b44d8b85aa6391786e324f",
            "ad0f7c7ef1344ccea71ef1bf6cb52bba",
            "858202f1c8d1434ea8cab5d87126e887"
          ]
        },
        "id": "K-O8JXQodvla",
        "outputId": "b62ac353-e683-4e1a-ca3f-d454ac060652"
      },
      "source": [
        "trainer.fit(model, data_module)"
      ],
      "execution_count": null,
      "outputs": [
        {
          "metadata": {
            "tags": null
          },
          "name": "stderr",
          "output_type": "stream",
          "text": [
            "/usr/local/lib/python3.7/dist-packages/pytorch_lightning/core/datamodule.py:424: LightningDeprecationWarning: DataModule.prepare_data has already been called, so it will not be called again. In v1.6 this behavior will change to always call DataModule.prepare_data.\n",
            "  f\"DataModule.{name} has already been called, so it will not be called again. \"\n",
            "/usr/local/lib/python3.7/dist-packages/pytorch_lightning/core/datamodule.py:424: LightningDeprecationWarning: DataModule.setup has already been called, so it will not be called again. In v1.6 this behavior will change to always call DataModule.setup.\n",
            "  f\"DataModule.{name} has already been called, so it will not be called again. \"\n",
            "LOCAL_RANK: 0 - CUDA_VISIBLE_DEVICES: [0]\n",
            "\n",
            "  | Name       | Type      | Params\n",
            "-----------------------------------------\n",
            "0 | specter    | BertModel | 109 M \n",
            "1 | criterion  | BCELoss   | 0     \n",
            "2 | fc         | Linear    | 5.4 K \n",
            "3 | relu       | ReLU      | 0     \n",
            "4 | softmax    | Softmax   | 0     \n",
            "5 | classifier | Linear    | 769   \n",
            "6 | sigmoid    | Sigmoid   | 0     \n",
            "-----------------------------------------\n",
            "109 M     Trainable params\n",
            "0         Non-trainable params\n",
            "109 M     Total params\n",
            "439.778   Total estimated model params size (MB)\n"
          ]
        },
        {
          "data": {
            "application/vnd.jupyter.widget-view+json": {
              "model_id": "36e1464cd21140dd9d33bc4ff7fe514d",
              "version_major": 2,
              "version_minor": 0
            },
            "text/plain": [
              "Validation sanity check: 0it [00:00, ?it/s]"
            ]
          },
          "metadata": {},
          "output_type": "display_data"
        },
        {
          "metadata": {
            "tags": null
          },
          "name": "stderr",
          "output_type": "stream",
          "text": [
            "Global seed set to 42\n"
          ]
        },
        {
          "data": {
            "application/vnd.jupyter.widget-view+json": {
              "model_id": "3d7715e955774a499d476875e58717fe",
              "version_major": 2,
              "version_minor": 0
            },
            "text/plain": [
              "Training: -1it [00:00, ?it/s]"
            ]
          },
          "metadata": {},
          "output_type": "display_data"
        },
        {
          "data": {
            "application/vnd.jupyter.widget-view+json": {
              "model_id": "2c7bf786bc8f42f98bd2bc6e8cad5eaa",
              "version_major": 2,
              "version_minor": 0
            },
            "text/plain": [
              "Validating: 0it [00:00, ?it/s]"
            ]
          },
          "metadata": {},
          "output_type": "display_data"
        },
        {
          "metadata": {
            "tags": null
          },
          "name": "stderr",
          "output_type": "stream",
          "text": [
            "Epoch 0, global step 7684: val_loss reached 0.41284 (best 0.41284), saving model to \"/content/drive/MyDrive/Biocreative/Biocreative/checkpoints_and_logs/specter-lwan-checkpoints/specter-lwan-checkpoint.ckpt\" as top 1\n"
          ]
        },
        {
          "data": {
            "application/vnd.jupyter.widget-view+json": {
              "model_id": "dd243a719b8d45168490eba3798ef677",
              "version_major": 2,
              "version_minor": 0
            },
            "text/plain": [
              "Validating: 0it [00:00, ?it/s]"
            ]
          },
          "metadata": {},
          "output_type": "display_data"
        },
        {
          "metadata": {
            "tags": null
          },
          "name": "stderr",
          "output_type": "stream",
          "text": [
            "Epoch 1, global step 15369: val_loss reached 0.34346 (best 0.34346), saving model to \"/content/drive/MyDrive/Biocreative/Biocreative/checkpoints_and_logs/specter-lwan-checkpoints/specter-lwan-checkpoint.ckpt\" as top 1\n"
          ]
        },
        {
          "output_type": "display_data",
          "data": {
            "application/vnd.jupyter.widget-view+json": {
              "model_id": "3a3a51bf09be4158b5aa9cf92f7b052f",
              "version_minor": 0,
              "version_major": 2
            },
            "text/plain": [
              "Validating: 0it [00:00, ?it/s]"
            ]
          },
          "metadata": {}
        },
        {
          "output_type": "stream",
          "text": [
            "Epoch 2, global step 23054: val_loss reached 0.31563 (best 0.31563), saving model to \"/content/drive/MyDrive/Biocreative/Biocreative/checkpoints_and_logs/specter-lwan-checkpoints/specter-lwan-checkpoint.ckpt\" as top 1\n"
          ],
          "name": "stderr"
        },
        {
          "output_type": "display_data",
          "data": {
            "application/vnd.jupyter.widget-view+json": {
              "model_id": "c2d5053d36764895b17aad82ee0b4dd3",
              "version_minor": 0,
              "version_major": 2
            },
            "text/plain": [
              "Validating: 0it [00:00, ?it/s]"
            ]
          },
          "metadata": {}
        },
        {
          "output_type": "stream",
          "text": [
            "Epoch 3, global step 30739: val_loss reached 0.27820 (best 0.27820), saving model to \"/content/drive/MyDrive/Biocreative/Biocreative/checkpoints_and_logs/specter-lwan-checkpoints/specter-lwan-checkpoint.ckpt\" as top 1\n"
          ],
          "name": "stderr"
        },
        {
          "output_type": "display_data",
          "data": {
            "application/vnd.jupyter.widget-view+json": {
              "model_id": "ffda3bc4131b41cbb0351f9bbfb9b627",
              "version_minor": 0,
              "version_major": 2
            },
            "text/plain": [
              "Validating: 0it [00:00, ?it/s]"
            ]
          },
          "metadata": {}
        },
        {
          "output_type": "stream",
          "text": [
            "Epoch 4, global step 38424: val_loss was not in top 1\n"
          ],
          "name": "stderr"
        },
        {
          "output_type": "display_data",
          "data": {
            "application/vnd.jupyter.widget-view+json": {
              "model_id": "8a3e90666d7746dc8cb9dffbdf377a9e",
              "version_minor": 0,
              "version_major": 2
            },
            "text/plain": [
              "Validating: 0it [00:00, ?it/s]"
            ]
          },
          "metadata": {}
        },
        {
          "output_type": "stream",
          "text": [
            "Epoch 5, global step 46109: val_loss was not in top 1\n",
            "/usr/local/lib/python3.7/dist-packages/pytorch_lightning/core/datamodule.py:424: LightningDeprecationWarning: DataModule.teardown has already been called, so it will not be called again. In v1.6 this behavior will change to always call DataModule.teardown.\n",
            "  f\"DataModule.{name} has already been called, so it will not be called again. \"\n"
          ],
          "name": "stderr"
        }
      ]
    },
    {
      "cell_type": "markdown",
      "metadata": {
        "id": "UUhKS-dUegTd"
      },
      "source": [
        "### Test"
      ]
    },
    {
      "cell_type": "code",
      "metadata": {
        "id": "y8AWlhyMdMEG"
      },
      "source": [
        "trained_model = TopicAnnotationTagger.load_from_checkpoint('/content/drive/MyDrive/Biocreative/Biocreative/checkpoints_and_logs/specter-lwan-checkpoints/specter-lwan-checkpoint.ckpt', n_classes=7)"
      ],
      "execution_count": null,
      "outputs": []
    },
    {
      "cell_type": "code",
      "metadata": {
        "id": "3rM_yhw6vGls"
      },
      "source": [
        "trained_model.freeze()"
      ],
      "execution_count": null,
      "outputs": []
    },
    {
      "cell_type": "markdown",
      "metadata": {
        "id": "_qfT86eMvlk5"
      },
      "source": [
        "### Evaluation"
      ]
    },
    {
      "cell_type": "code",
      "metadata": {
        "id": "glq9LWq4rMEH"
      },
      "source": [
        "device = torch.device('cuda' if torch.cuda.is_available() else 'cpu')\n",
        "trained_model = trained_model.to(device)\n",
        "\n",
        "val_dataset = TopicAnnotationDataset(\n",
        "    val_df,\n",
        "    embedding_tokenizer,\n",
        "    max_token_len=MAX_TOKEN_COUNT\n",
        ")"
      ],
      "execution_count": null,
      "outputs": []
    },
    {
      "cell_type": "code",
      "metadata": {
        "colab": {
          "base_uri": "https://localhost:8080/",
          "height": 49,
          "referenced_widgets": [
            "85601064a4b243698cc75576227dd406",
            "80276d264ef64fa0833ec3def63fa499",
            "cd52994fbe9e4ba1979aa7839e2fd6c9",
            "15629c039d9e4218b32846971edca7ac",
            "cfe1df62bcb843e0abc16861f23019f1",
            "c220a2a54e0449589f0752d21b0c1ae9",
            "42d6a3a4336f4432ab66a7c7feb0a973",
            "d198dae819b24381ac6e5e379baec58e",
            "6e75e6ea70ff4dfa849c3fa632f685b8",
            "c23a35ba139240388b56937037574a68",
            "8d6aa6a1cd804ce6ae2f99e531864810"
          ]
        },
        "id": "nGt5QcfWwO8P",
        "outputId": "5486e0a7-95d4-463e-f856-29f9d1e1c024"
      },
      "source": [
        "predictions = []\n",
        "labels = []\n",
        "\n",
        "for item in tqdm(val_dataset):\n",
        "\n",
        "  _, prediction = trained_model(\n",
        "      item[\"input_ids\"].unsqueeze(dim=0).to(device),\n",
        "      item[\"attention_mask\"].unsqueeze(dim=0).to(device),\n",
        "  )\n",
        "  \n",
        "  predictions.append(prediction.flatten())\n",
        "  labels.append(item[\"labels\"].int())\n",
        "\n",
        "predictions = torch.stack(predictions).detach().cpu()\n",
        "labels = torch.stack(labels).detach().cpu()"
      ],
      "execution_count": null,
      "outputs": [
        {
          "output_type": "display_data",
          "data": {
            "application/vnd.jupyter.widget-view+json": {
              "model_id": "85601064a4b243698cc75576227dd406",
              "version_minor": 0,
              "version_major": 2
            },
            "text/plain": [
              "  0%|          | 0/3423 [00:00<?, ?it/s]"
            ]
          },
          "metadata": {}
        }
      ]
    },
    {
      "cell_type": "markdown",
      "metadata": {
        "id": "pixwbhCQZzEa"
      },
      "source": [
        "#### data analysis"
      ]
    },
    {
      "cell_type": "code",
      "metadata": {
        "id": "ZmzSFy2u_qXD"
      },
      "source": [
        "# convert prediction in boolean labels\n",
        "y_pred = (predictions > 0.65).type(torch.uint8)\n",
        "y_true = labels  "
      ],
      "execution_count": null,
      "outputs": []
    },
    {
      "cell_type": "code",
      "metadata": {
        "id": "qRCIkiW4AzVy"
      },
      "source": [
        "# count non-zero values\n",
        "true_counts = y_true.count_nonzero(dim=1)\n",
        "pred_counts = y_pred.count_nonzero(dim=1)"
      ],
      "execution_count": null,
      "outputs": []
    },
    {
      "cell_type": "code",
      "metadata": {
        "colab": {
          "base_uri": "https://localhost:8080/"
        },
        "id": "7wf7RTbuCj7d",
        "outputId": "c45446d6-46fa-484b-8fba-a8c4dfc47cbf"
      },
      "source": [
        "# dict mapping for count -> key \n",
        "unique, counts = true_counts.unique(return_counts=True)\n",
        "true_count_dict = dict(zip(unique.tolist(), counts.tolist()))\n",
        "print(true_count_dict)"
      ],
      "execution_count": null,
      "outputs": [
        {
          "name": "stdout",
          "output_type": "stream",
          "text": [
            "{1: 18927, 2: 8069, 3: 930, 4: 130, 5: 19}\n"
          ]
        }
      ]
    },
    {
      "cell_type": "code",
      "metadata": {
        "colab": {
          "base_uri": "https://localhost:8080/"
        },
        "id": "kCL9XGJBGwTW",
        "outputId": "47d0b760-5de0-4f77-aef1-b6ff75041e85"
      },
      "source": [
        "X = [1, 2, 3, 4, 5]\n",
        "for label in X:\n",
        "  try:\n",
        "    val = true_count_dict[label]\n",
        "  except Exception as e:\n",
        "    true_count_dict[label] = 0\n",
        "\n",
        "true_count_dict"
      ],
      "execution_count": null,
      "outputs": [
        {
          "data": {
            "text/plain": [
              "{1: 18927, 2: 8069, 3: 930, 4: 130, 5: 19}"
            ]
          },
          "execution_count": 146,
          "metadata": {},
          "output_type": "execute_result"
        }
      ]
    },
    {
      "cell_type": "code",
      "metadata": {
        "colab": {
          "base_uri": "https://localhost:8080/"
        },
        "id": "krCFXaRkDtzO",
        "outputId": "e85e15ca-973b-4cb9-bb76-8967f86e12c0"
      },
      "source": [
        "# dict mapping for count -> key\n",
        "pred_count_dict = {\n",
        "    1: 0,\n",
        "    2: 0,\n",
        "    3: 0,\n",
        "    4: 0,\n",
        "    5: 0\n",
        "}\n",
        "\n",
        "for idx, value in enumerate(true_counts):\n",
        "  if value == pred_counts[idx]: \n",
        "    pred_count_dict[value.tolist()] += 1\n",
        "  else:\n",
        "    pass\n",
        "\n",
        "pred_count_dict"
      ],
      "execution_count": null,
      "outputs": [
        {
          "data": {
            "text/plain": [
              "{1: 17165, 2: 5652, 3: 380, 4: 25, 5: 2}"
            ]
          },
          "execution_count": 147,
          "metadata": {},
          "output_type": "execute_result"
        }
      ]
    },
    {
      "cell_type": "code",
      "metadata": {
        "colab": {
          "base_uri": "https://localhost:8080/",
          "height": 632
        },
        "id": "2YhqCvhBEUOb",
        "outputId": "433ef7f2-52f8-40f6-b8a5-0a638607cd38"
      },
      "source": [
        "X = [\"1\", \"2\", \"3\", \"4\", \"5\"]\n",
        "\n",
        "# creating the dataset \n",
        "keys = list(pred_count_dict.keys()) \n",
        "pred_values = list(pred_count_dict.values()) \n",
        "true_values = list(true_count_dict.values())\n",
        "\n",
        "keys = np.array(keys)\n",
        "\n",
        "fig = plt.figure(figsize = (10, 10)) \n",
        "  \n",
        "# creating the bar plot \n",
        "plt.bar(keys - 0.2, true_values, 0.4, label = 'True Label')\n",
        "plt.bar(keys + 0.2, pred_values, 0.4, label = 'Prediction')\n",
        "\n",
        "plt.xticks(keys, X)\n",
        "plt.xlabel(\"Count of labels\")\n",
        "plt.ylabel(\"Counts\")\n",
        "plt.title(\"Transmission predicted v/s true\")\n",
        "plt.legend()\n",
        "plt.show() "
      ],
      "execution_count": null,
      "outputs": [
        {
          "data": {
            "image/png": "[encoded data removed]",
            "text/plain": [
              "<Figure size 720x720 with 1 Axes>"
            ]
          },
          "metadata": {
            "image/png": {
              "height": 615,
              "width": 641
            }
          },
          "output_type": "display_data"
        }
      ]
    },
    {
      "cell_type": "code",
      "metadata": {
        "colab": {
          "base_uri": "https://localhost:8080/"
        },
        "id": "5mWHzCoNUM8-",
        "outputId": "68e285f8-79bb-4447-b2ac-1a176566511d"
      },
      "source": [
        "class_dict_pred = dict(zip(LABEL_COLUMNS, [0]*7))\n",
        "class_dict_true = dict(zip(LABEL_COLUMNS, [0]*7))\n",
        "class_dict_pred, class_dict_true"
      ],
      "execution_count": null,
      "outputs": [
        {
          "data": {
            "text/plain": [
              "({'Case Report': 0,\n",
              "  'Diagnosis': 0,\n",
              "  'Epidemic Forecasting': 0,\n",
              "  'Mechanism': 0,\n",
              "  'Prevention': 0,\n",
              "  'Transmission': 0,\n",
              "  'Treatment': 0},\n",
              " {'Case Report': 0,\n",
              "  'Diagnosis': 0,\n",
              "  'Epidemic Forecasting': 0,\n",
              "  'Mechanism': 0,\n",
              "  'Prevention': 0,\n",
              "  'Transmission': 0,\n",
              "  'Treatment': 0})"
            ]
          },
          "execution_count": 114,
          "metadata": {},
          "output_type": "execute_result"
        }
      ]
    },
    {
      "cell_type": "code",
      "metadata": {
        "colab": {
          "base_uri": "https://localhost:8080/"
        },
        "id": "dJHW48HcFAmT",
        "outputId": "93a91884-1f32-4d14-fd0d-bfa6341f0fda"
      },
      "source": [
        "THRESHOLD = 0.5\n",
        "print(LABEL_COLUMNS)\n",
        "\n",
        "for item in val_dataset:\n",
        "\n",
        "  labels = item[\"labels\"].numpy()\n",
        "  count = np.count_nonzero(labels)\n",
        "\n",
        "  if count == 2:\n",
        "    \n",
        "    _, prediction = trained_model(\n",
        "        item[\"input_ids\"].unsqueeze(dim=0).to(device),\n",
        "        item[\"attention_mask\"].unsqueeze(dim=0).to(device)\n",
        "    )\n",
        "\n",
        "    # print((prediction > THRESHOLD).type(torch.uint8))\n",
        "\n",
        "    prediction = prediction.cpu()\n",
        "\n",
        "    for idx, key in enumerate(class_dict_pred.keys()):\n",
        "\n",
        "      class_dict_pred[key] += (prediction[0, idx] > THRESHOLD).type(torch.uint8)\n",
        "\n",
        "    for idx, key in enumerate(class_dict_true.keys()):\n",
        "      class_dict_true[key] += labels[idx]"
      ],
      "execution_count": null,
      "outputs": [
        {
          "name": "stdout",
          "output_type": "stream",
          "text": [
            "['Case Report', 'Diagnosis', 'Epidemic Forecasting', 'Mechanism', 'Prevention', 'Transmission', 'Treatment']\n"
          ]
        }
      ]
    },
    {
      "cell_type": "code",
      "metadata": {
        "colab": {
          "base_uri": "https://localhost:8080/"
        },
        "id": "_roLMQneXw5_",
        "outputId": "06be91f5-8712-47ef-fcf4-cdc83dec66e2"
      },
      "source": [
        "for key, value in class_dict_pred.items():\n",
        "\n",
        "  class_dict_pred[key] = value.numpy().item()\n",
        "\n",
        "print(class_dict_pred)\n",
        "print(class_dict_true)"
      ],
      "execution_count": null,
      "outputs": [
        {
          "name": "stdout",
          "output_type": "stream",
          "text": [
            "{'Case Report': 2, 'Diagnosis': 112, 'Epidemic Forecasting': 52, 'Mechanism': 45, 'Prevention': 18, 'Transmission': 3, 'Treatment': 21}\n",
            "{'Case Report': 0.0, 'Diagnosis': 119.0, 'Epidemic Forecasting': 19.0, 'Mechanism': 129.0, 'Prevention': 482.0, 'Transmission': 755.0, 'Treatment': 6.0}\n"
          ]
        }
      ]
    },
    {
      "cell_type": "code",
      "metadata": {
        "colab": {
          "base_uri": "https://localhost:8080/",
          "height": 411
        },
        "id": "L-hx5A-lX7Mg",
        "outputId": "3ec87c34-b368-49f0-8f70-a351f15e8b1e"
      },
      "source": [
        "keys = class_dict_pred.keys()\n",
        "values = class_dict_pred.values()\n",
        "\n",
        "# Creating plot\n",
        "fig = plt.figure(figsize =(10, 7))\n",
        "plt.pie(values, labels = keys)\n",
        "  \n",
        "# show plot\n",
        "plt.show()"
      ],
      "execution_count": null,
      "outputs": [
        {
          "data": {
            "image/png": "[encoded data removed]",
            "text/plain": [
              "<Figure size 720x504 with 1 Axes>"
            ]
          },
          "metadata": {
            "image/png": {
              "height": 394,
              "width": 561
            }
          },
          "output_type": "display_data"
        }
      ]
    },
    {
      "cell_type": "code",
      "metadata": {
        "colab": {
          "base_uri": "https://localhost:8080/",
          "height": 428
        },
        "id": "e8LnJTrPaAZ4",
        "outputId": "ec985fb8-86f7-4815-de50-fe1e8f411772"
      },
      "source": [
        "keys = class_dict_true.keys()\n",
        "values = class_dict_true.values()\n",
        "\n",
        "# Creating plot\n",
        "fig = plt.figure(figsize =(10, 7))\n",
        "plt.pie(values, labels = keys)\n",
        "plt.title(\"Transmission train set double label class distribution\")\n",
        "# show plot\n",
        "plt.show()"
      ],
      "execution_count": null,
      "outputs": [
        {
          "data": {
            "image/png": "[encoded data removed]",
            "text/plain": [
              "<Figure size 720x504 with 1 Axes>"
            ]
          },
          "metadata": {
            "image/png": {
              "height": 411,
              "width": 490
            }
          },
          "output_type": "display_data"
        }
      ]
    },
    {
      "cell_type": "markdown",
      "metadata": {
        "id": "Jl2e8HrYxnLo"
      },
      "source": [
        "#### Accuracy"
      ]
    },
    {
      "cell_type": "code",
      "metadata": {
        "id": "UUxXohXBs8S8"
      },
      "source": [
        "THRESHOLD = 0.5"
      ],
      "execution_count": null,
      "outputs": []
    },
    {
      "cell_type": "code",
      "metadata": {
        "colab": {
          "base_uri": "https://localhost:8080/"
        },
        "id": "-RhDp0o7w1GD",
        "outputId": "89400d95-7fb0-4f0e-8be3-4edc136b069b"
      },
      "source": [
        "# calculating the accuracy of the model\n",
        "accuracy(predictions, labels, threshold=THRESHOLD)"
      ],
      "execution_count": null,
      "outputs": [
        {
          "output_type": "execute_result",
          "data": {
            "text/plain": [
              "tensor(0.9565)"
            ]
          },
          "metadata": {},
          "execution_count": 141
        }
      ]
    },
    {
      "cell_type": "markdown",
      "metadata": {
        "id": "QMhUJT1nxoyE"
      },
      "source": [
        "#### ROC for each tag"
      ]
    },
    {
      "cell_type": "code",
      "metadata": {
        "colab": {
          "base_uri": "https://localhost:8080/"
        },
        "id": "Wkj_cQnixQcG",
        "outputId": "74644591-538c-4a87-d499-b76c7849f275"
      },
      "source": [
        "print(\"AUROC per tag\")\n",
        "for i, name in enumerate(LABEL_COLUMNS):\n",
        "  tag_auroc = auroc(predictions[:, i], labels[:, i], pos_label=1)\n",
        "  print(f\"{name}: {tag_auroc}\")"
      ],
      "execution_count": null,
      "outputs": [
        {
          "output_type": "stream",
          "text": [
            "AUROC per tag\n",
            "Case Report: 0.9935966730117798\n",
            "Diagnosis: 0.9789707660675049\n",
            "Epidemic Forecasting: 0.9911108613014221\n",
            "Mechanism: 0.9857373237609863\n",
            "Prevention: 0.9816457033157349\n",
            "Transmission: 0.9872385263442993\n",
            "Treatment: 0.9774972796440125\n"
          ],
          "name": "stdout"
        }
      ]
    },
    {
      "cell_type": "markdown",
      "metadata": {
        "id": "0zrMwXqxx3mZ"
      },
      "source": [
        "#### classification report for each class"
      ]
    },
    {
      "cell_type": "code",
      "metadata": {
        "colab": {
          "base_uri": "https://localhost:8080/"
        },
        "id": "vHeUP0Foxvj6",
        "outputId": "fb504e9f-7240-4852-80a8-6a040d76364a"
      },
      "source": [
        "y_pred = predictions.numpy()\n",
        "y_true = labels.numpy()\n",
        "\n",
        "upper, lower = 1, 0\n",
        "\n",
        "y_pred = np.where(y_pred > 0.5, upper, lower)\n",
        "\n",
        "print(\n",
        "    classification_report(\n",
        "        y_true,\n",
        "        y_pred,\n",
        "        digits=4,\n",
        "        target_names=LABEL_COLUMNS,\n",
        "        zero_division=0\n",
        "    )\n",
        ")"
      ],
      "execution_count": null,
      "outputs": [
        {
          "output_type": "stream",
          "text": [
            "                      precision    recall  f1-score   support\n",
            "\n",
            "         Case Report     0.9212    0.8952    0.9080       248\n",
            "           Diagnosis     0.8570    0.8822    0.8694       815\n",
            "Epidemic Forecasting     0.8373    0.8373    0.8373       166\n",
            "           Mechanism     0.9354    0.8151    0.8711       568\n",
            "          Prevention     0.9260    0.9312    0.9286      1613\n",
            "        Transmission     0.8113    0.8551    0.8326       352\n",
            "           Treatment     0.9067    0.8679    0.8869      1075\n",
            "\n",
            "           micro avg     0.8984    0.8846    0.8915      4837\n",
            "           macro avg     0.8850    0.8692    0.8763      4837\n",
            "        weighted avg     0.8995    0.8846    0.8914      4837\n",
            "         samples avg     0.9077    0.9094    0.8948      4837\n",
            "\n"
          ],
          "name": "stdout"
        }
      ]
    },
    {
      "cell_type": "code",
      "metadata": {
        "colab": {
          "base_uri": "https://localhost:8080/"
        },
        "id": "-AQJaDNN0AOW",
        "outputId": "3c34909f-b528-4a7d-9981-9d0331bc7351"
      },
      "source": [
        "THRESHOLD = [0.3, 0.35, 0.4, 0.45, 0.5, 0.55, 0.6, 0.65, 0.67, 0.7, 0.75, 0.8, 0.85, 0.9, 0.95]\n",
        "\n",
        "for threshold in THRESHOLD:\n",
        "  y_pred = predictions.numpy()\n",
        "  y_true = labels.numpy()\n",
        "\n",
        "  upper, lower = 1, 0\n",
        "\n",
        "  y_pred = np.where(y_pred > threshold, upper, lower)\n",
        "\n",
        "  print(f\"Threshold: {threshold}\")\n",
        "\n",
        "  print(\n",
        "      classification_report(\n",
        "          y_true,\n",
        "          y_pred,\n",
        "          digits=4,\n",
        "          target_names=LABEL_COLUMNS,\n",
        "          zero_division=0\n",
        "          )\n",
        "      )"
      ],
      "execution_count": null,
      "outputs": [
        {
          "output_type": "stream",
          "text": [
            "Threshold: 0.3\n",
            "                      precision    recall  f1-score   support\n",
            "\n",
            "         Case Report     0.8972    0.9153    0.9062       248\n",
            "           Diagnosis     0.7898    0.9313    0.8547       815\n",
            "Epidemic Forecasting     0.8075    0.9096    0.8555       166\n",
            "           Mechanism     0.8989    0.8609    0.8795       568\n",
            "          Prevention     0.9006    0.9547    0.9269      1613\n",
            "        Transmission     0.7644    0.9034    0.8281       352\n",
            "           Treatment     0.8603    0.9163    0.8874      1075\n",
            "\n",
            "           micro avg     0.8568    0.9239    0.8891      4837\n",
            "           macro avg     0.8455    0.9131    0.8769      4837\n",
            "        weighted avg     0.8595    0.9239    0.8897      4837\n",
            "         samples avg     0.8902    0.9395    0.8989      4837\n",
            "\n",
            "Threshold: 0.35\n",
            "                      precision    recall  f1-score   support\n",
            "\n",
            "         Case Report     0.9008    0.9153    0.9080       248\n",
            "           Diagnosis     0.8152    0.9202    0.8646       815\n",
            "Epidemic Forecasting     0.8142    0.8976    0.8539       166\n",
            "           Mechanism     0.9082    0.8539    0.8802       568\n",
            "          Prevention     0.9062    0.9461    0.9257      1613\n",
            "        Transmission     0.7778    0.8949    0.8322       352\n",
            "           Treatment     0.8746    0.9079    0.8909      1075\n",
            "\n",
            "           micro avg     0.8693    0.9154    0.8918      4837\n",
            "           macro avg     0.8567    0.9051    0.8794      4837\n",
            "        weighted avg     0.8713    0.9154    0.8921      4837\n",
            "         samples avg     0.8961    0.9329    0.8995      4837\n",
            "\n",
            "Threshold: 0.4\n",
            "                      precision    recall  f1-score   support\n",
            "\n",
            "         Case Report     0.9080    0.9153    0.9116       248\n",
            "           Diagnosis     0.8320    0.9117    0.8700       815\n",
            "Epidemic Forecasting     0.8295    0.8795    0.8538       166\n",
            "           Mechanism     0.9155    0.8398    0.8760       568\n",
            "          Prevention     0.9126    0.9386    0.9254      1613\n",
            "        Transmission     0.7879    0.8864    0.8342       352\n",
            "           Treatment     0.8862    0.8986    0.8924      1075\n",
            "\n",
            "           micro avg     0.8796    0.9066    0.8929      4837\n",
            "           macro avg     0.8674    0.8957    0.8805      4837\n",
            "        weighted avg     0.8813    0.9066    0.8931      4837\n",
            "         samples avg     0.9014    0.9260    0.8996      4837\n",
            "\n",
            "Threshold: 0.45\n",
            "                      precision    recall  f1-score   support\n",
            "\n",
            "         Case Report     0.9076    0.9113    0.9095       248\n",
            "           Diagnosis     0.8464    0.8994    0.8721       815\n",
            "Epidemic Forecasting     0.8382    0.8735    0.8555       166\n",
            "           Mechanism     0.9308    0.8292    0.8771       568\n",
            "          Prevention     0.9173    0.9349    0.9260      1613\n",
            "        Transmission     0.7953    0.8722    0.8320       352\n",
            "           Treatment     0.8979    0.8837    0.8908      1075\n",
            "\n",
            "           micro avg     0.8890    0.8973    0.8931      4837\n",
            "           macro avg     0.8762    0.8863    0.8804      4837\n",
            "        weighted avg     0.8905    0.8973    0.8932      4837\n",
            "         samples avg     0.9059    0.9192    0.8989      4837\n",
            "\n",
            "Threshold: 0.5\n",
            "                      precision    recall  f1-score   support\n",
            "\n",
            "         Case Report     0.9212    0.8952    0.9080       248\n",
            "           Diagnosis     0.8570    0.8822    0.8694       815\n",
            "Epidemic Forecasting     0.8373    0.8373    0.8373       166\n",
            "           Mechanism     0.9354    0.8151    0.8711       568\n",
            "          Prevention     0.9260    0.9312    0.9286      1613\n",
            "        Transmission     0.8113    0.8551    0.8326       352\n",
            "           Treatment     0.9067    0.8679    0.8869      1075\n",
            "\n",
            "           micro avg     0.8984    0.8846    0.8915      4837\n",
            "           macro avg     0.8850    0.8692    0.8763      4837\n",
            "        weighted avg     0.8995    0.8846    0.8914      4837\n",
            "         samples avg     0.9077    0.9094    0.8948      4837\n",
            "\n",
            "Threshold: 0.55\n",
            "                      precision    recall  f1-score   support\n",
            "\n",
            "         Case Report     0.9289    0.8952    0.9117       248\n",
            "           Diagnosis     0.8681    0.8638    0.8659       815\n",
            "Epidemic Forecasting     0.8625    0.8313    0.8466       166\n",
            "           Mechanism     0.9455    0.7940    0.8632       568\n",
            "          Prevention     0.9301    0.9244    0.9272      1613\n",
            "        Transmission     0.8343    0.8295    0.8319       352\n",
            "           Treatment     0.9128    0.8474    0.8789      1075\n",
            "\n",
            "           micro avg     0.9075    0.8702    0.8884      4837\n",
            "           macro avg     0.8975    0.8551    0.8751      4837\n",
            "        weighted avg     0.9083    0.8702    0.8881      4837\n",
            "         samples avg     0.9105    0.8995    0.8912      4837\n",
            "\n",
            "Threshold: 0.6\n",
            "                      precision    recall  f1-score   support\n",
            "\n",
            "         Case Report     0.9367    0.8952    0.9155       248\n",
            "           Diagnosis     0.8776    0.8442    0.8605       815\n",
            "Epidemic Forecasting     0.8800    0.7952    0.8354       166\n",
            "           Mechanism     0.9529    0.7835    0.8599       568\n",
            "          Prevention     0.9349    0.9163    0.9255      1613\n",
            "        Transmission     0.8529    0.8239    0.8382       352\n",
            "           Treatment     0.9219    0.8344    0.8760      1075\n",
            "\n",
            "           micro avg     0.9162    0.8584    0.8863      4837\n",
            "           macro avg     0.9081    0.8418    0.8730      4837\n",
            "        weighted avg     0.9167    0.8584    0.8859      4837\n",
            "         samples avg     0.9140    0.8912    0.8887      4837\n",
            "\n",
            "Threshold: 0.65\n",
            "                      precision    recall  f1-score   support\n",
            "\n",
            "         Case Report     0.9364    0.8911    0.9132       248\n",
            "           Diagnosis     0.8939    0.8270    0.8591       815\n",
            "Epidemic Forecasting     0.8966    0.7831    0.8360       166\n",
            "           Mechanism     0.9605    0.7711    0.8555       568\n",
            "          Prevention     0.9422    0.9089    0.9252      1613\n",
            "        Transmission     0.8746    0.7926    0.8316       352\n",
            "           Treatment     0.9333    0.8205    0.8733      1075\n",
            "\n",
            "           micro avg     0.9272    0.8456    0.8845      4837\n",
            "           macro avg     0.9196    0.8278    0.8706      4837\n",
            "        weighted avg     0.9274    0.8456    0.8839      4837\n",
            "         samples avg     0.9150    0.8810    0.8840      4837\n",
            "\n",
            "Threshold: 0.67\n",
            "                      precision    recall  f1-score   support\n",
            "\n",
            "         Case Report     0.9364    0.8911    0.9132       248\n",
            "           Diagnosis     0.8993    0.8221    0.8590       815\n",
            "Epidemic Forecasting     0.9021    0.7771    0.8350       166\n",
            "           Mechanism     0.9625    0.7676    0.8541       568\n",
            "          Prevention     0.9474    0.9045    0.9255      1613\n",
            "        Transmission     0.8766    0.7869    0.8293       352\n",
            "           Treatment     0.9346    0.8112    0.8685      1075\n",
            "\n",
            "           micro avg     0.9308    0.8402    0.8832      4837\n",
            "           macro avg     0.9227    0.8229    0.8692      4837\n",
            "        weighted avg     0.9310    0.8402    0.8825      4837\n",
            "         samples avg     0.9159    0.8770    0.8822      4837\n",
            "\n",
            "Threshold: 0.7\n",
            "                      precision    recall  f1-score   support\n",
            "\n",
            "         Case Report     0.9364    0.8911    0.9132       248\n",
            "           Diagnosis     0.9065    0.8086    0.8547       815\n",
            "Epidemic Forecasting     0.9071    0.7651    0.8301       166\n",
            "           Mechanism     0.9643    0.7606    0.8504       568\n",
            "          Prevention     0.9508    0.8977    0.9235      1613\n",
            "        Transmission     0.8856    0.7699    0.8237       352\n",
            "           Treatment     0.9398    0.7981    0.8632      1075\n",
            "\n",
            "           micro avg     0.9355    0.8303    0.8797      4837\n",
            "           macro avg     0.9272    0.8130    0.8655      4837\n",
            "        weighted avg     0.9355    0.8303    0.8789      4837\n",
            "         samples avg     0.9148    0.8689    0.8773      4837\n",
            "\n",
            "Threshold: 0.75\n",
            "                      precision    recall  f1-score   support\n",
            "\n",
            "         Case Report     0.9404    0.8911    0.9151       248\n",
            "           Diagnosis     0.9214    0.7914    0.8515       815\n",
            "Epidemic Forecasting     0.9104    0.7349    0.8133       166\n",
            "           Mechanism     0.9680    0.7465    0.8429       568\n",
            "          Prevention     0.9584    0.8865    0.9211      1613\n",
            "        Transmission     0.8962    0.7358    0.8081       352\n",
            "           Treatment     0.9500    0.7777    0.8552      1075\n",
            "\n",
            "           micro avg     0.9446    0.8139    0.8744      4837\n",
            "           macro avg     0.9350    0.7949    0.8582      4837\n",
            "        weighted avg     0.9444    0.8139    0.8733      4837\n",
            "         samples avg     0.9126    0.8576    0.8699      4837\n",
            "\n",
            "Threshold: 0.8\n",
            "                      precision    recall  f1-score   support\n",
            "\n",
            "         Case Report     0.9437    0.8790    0.9102       248\n",
            "           Diagnosis     0.9299    0.7485    0.8294       815\n",
            "Epidemic Forecasting     0.9231    0.7229    0.8108       166\n",
            "           Mechanism     0.9714    0.7183    0.8259       568\n",
            "          Prevention     0.9677    0.8735    0.9182      1613\n",
            "        Transmission     0.9087    0.6790    0.7772       352\n",
            "           Treatment     0.9565    0.7563    0.8447      1075\n",
            "\n",
            "           micro avg     0.9528    0.7891    0.8633      4837\n",
            "           macro avg     0.9430    0.7682    0.8452      4837\n",
            "        weighted avg     0.9522    0.7891    0.8617      4837\n",
            "         samples avg     0.9052    0.8392    0.8559      4837\n",
            "\n",
            "Threshold: 0.85\n",
            "                      precision    recall  f1-score   support\n",
            "\n",
            "         Case Report     0.9469    0.8629    0.9030       248\n",
            "           Diagnosis     0.9453    0.6994    0.8039       815\n",
            "Epidemic Forecasting     0.9435    0.7048    0.8069       166\n",
            "           Mechanism     0.9779    0.7007    0.8164       568\n",
            "          Prevention     0.9745    0.8524    0.9094      1613\n",
            "        Transmission     0.9167    0.6250    0.7432       352\n",
            "           Treatment     0.9643    0.7284    0.8299      1075\n",
            "\n",
            "           micro avg     0.9618    0.7602    0.8492      4837\n",
            "           macro avg     0.9527    0.7391    0.8304      4837\n",
            "        weighted avg     0.9610    0.7602    0.8471      4837\n",
            "         samples avg     0.8899    0.8157    0.8361      4837\n",
            "\n",
            "Threshold: 0.9\n",
            "                      precision    recall  f1-score   support\n",
            "\n",
            "         Case Report     0.9591    0.8508    0.9017       248\n",
            "           Diagnosis     0.9545    0.6442    0.7692       815\n",
            "Epidemic Forecasting     0.9464    0.6386    0.7626       166\n",
            "           Mechanism     0.9814    0.6514    0.7831       568\n",
            "          Prevention     0.9841    0.8072    0.8869      1613\n",
            "        Transmission     0.9388    0.5227    0.6715       352\n",
            "           Treatment     0.9699    0.6586    0.7845      1075\n",
            "\n",
            "           micro avg     0.9709    0.7042    0.8163      4837\n",
            "           macro avg     0.9620    0.6819    0.7942      4837\n",
            "        weighted avg     0.9698    0.7042    0.8129      4837\n",
            "         samples avg     0.8544    0.7697    0.7947      4837\n",
            "\n",
            "Threshold: 0.95\n",
            "                      precision    recall  f1-score   support\n",
            "\n",
            "         Case Report     0.9712    0.8145    0.8860       248\n",
            "           Diagnosis     0.9754    0.5362    0.6920       815\n",
            "Epidemic Forecasting     0.9620    0.4578    0.6204       166\n",
            "           Mechanism     0.9903    0.5387    0.6978       568\n",
            "          Prevention     0.9923    0.7167    0.8323      1613\n",
            "        Transmission     0.9714    0.3864    0.5528       352\n",
            "           Treatment     0.9791    0.5656    0.7170      1075\n",
            "\n",
            "           micro avg     0.9835    0.6039    0.7483      4837\n",
            "           macro avg     0.9774    0.5737    0.7140      4837\n",
            "        weighted avg     0.9826    0.6039    0.7424      4837\n",
            "         samples avg     0.7755    0.6834    0.7122      4837\n",
            "\n"
          ],
          "name": "stdout"
        }
      ]
    },
    {
      "cell_type": "code",
      "metadata": {
        "colab": {
          "base_uri": "https://localhost:8080/"
        },
        "id": "PTZ9lrEttGnt",
        "outputId": "d718b4be-b006-4397-8fbd-1fb0322f42b9"
      },
      "source": [
        "THRESHOLD = [threshold/100 for threshold in range(10, 100, 1)]\n",
        "print(THRESHOLD)"
      ],
      "execution_count": null,
      "outputs": [
        {
          "output_type": "stream",
          "text": [
            "[0.1, 0.11, 0.12, 0.13, 0.14, 0.15, 0.16, 0.17, 0.18, 0.19, 0.2, 0.21, 0.22, 0.23, 0.24, 0.25, 0.26, 0.27, 0.28, 0.29, 0.3, 0.31, 0.32, 0.33, 0.34, 0.35, 0.36, 0.37, 0.38, 0.39, 0.4, 0.41, 0.42, 0.43, 0.44, 0.45, 0.46, 0.47, 0.48, 0.49, 0.5, 0.51, 0.52, 0.53, 0.54, 0.55, 0.56, 0.57, 0.58, 0.59, 0.6, 0.61, 0.62, 0.63, 0.64, 0.65, 0.66, 0.67, 0.68, 0.69, 0.7, 0.71, 0.72, 0.73, 0.74, 0.75, 0.76, 0.77, 0.78, 0.79, 0.8, 0.81, 0.82, 0.83, 0.84, 0.85, 0.86, 0.87, 0.88, 0.89, 0.9, 0.91, 0.92, 0.93, 0.94, 0.95, 0.96, 0.97, 0.98, 0.99]\n"
          ],
          "name": "stdout"
        }
      ]
    },
    {
      "cell_type": "code",
      "metadata": {
        "id": "L23St_k6kWMT"
      },
      "source": [
        "Class_report = dict()\n",
        "\n",
        "for threshold in THRESHOLD:\n",
        "  y_pred = predictions.numpy()\n",
        "  y_true = labels.numpy()\n",
        "\n",
        "  upper, lower = 1, 0\n",
        "\n",
        "  y_pred = np.where(y_pred > threshold, upper, lower)\n",
        "\n",
        "  Class_report[f\"THRESHOLD:{threshold}\"] = classification_report(\n",
        "      y_true,\n",
        "      y_pred,\n",
        "      target_names=LABEL_COLUMNS,\n",
        "      zero_division=0,\n",
        "      output_dict=True\n",
        "  )"
      ],
      "execution_count": null,
      "outputs": []
    },
    {
      "cell_type": "code",
      "metadata": {
        "id": "RO-mClKnkbyx"
      },
      "source": [
        "micro_F1_Scores = [Class_report[key][\"micro avg\"][\"f1-score\"] for key in Class_report.keys()]\n",
        "macro_F1_Scores = [Class_report[key][\"macro avg\"][\"f1-score\"] for key in Class_report.keys()]"
      ],
      "execution_count": null,
      "outputs": []
    },
    {
      "cell_type": "code",
      "metadata": {
        "colab": {
          "base_uri": "https://localhost:8080/",
          "height": 488
        },
        "id": "H22BEzj_kh69",
        "outputId": "67f29da5-a413-4bf1-8213-25d6ecaf667c"
      },
      "source": [
        "import seaborn as sns\n",
        "import matplotlib.pyplot as plt\n",
        "\n",
        "x = np.arange(10, 100, 1)/100\n",
        "y1 = np.array(micro_F1_Scores)\n",
        "y2 = np.array(macro_F1_Scores)\n",
        "\n",
        "plt.plot(x, y1, 'r')  \n",
        "plt.plot(x, y2, 'b') \n",
        "plt.show()"
      ],
      "execution_count": null,
      "outputs": [
        {
          "output_type": "display_data",
          "data": {
            "image/png": "[encoded data removed]",
            "text/plain": [
              "<Figure size 864x576 with 1 Axes>"
            ]
          },
          "metadata": {
            "image/png": {
              "width": 714,
              "height": 471
            }
          }
        }
      ]
    },
    {
      "cell_type": "code",
      "metadata": {
        "colab": {
          "base_uri": "https://localhost:8080/"
        },
        "id": "A1IFeN1jtH0Z",
        "outputId": "67ab8c49-c1df-4b13-932c-36ff14052aa6"
      },
      "source": [
        "max(micro_F1_Scores), np.argmax(micro_F1_Scores), x[41]"
      ],
      "execution_count": null,
      "outputs": [
        {
          "output_type": "execute_result",
          "data": {
            "text/plain": [
              "(0.8931641424478101, 32, 0.51)"
            ]
          },
          "metadata": {},
          "execution_count": 149
        }
      ]
    },
    {
      "cell_type": "code",
      "metadata": {
        "id": "lgPvmUBIyfN7"
      },
      "source": [
        "Annotation_size = {\n",
        "    \"Type_1\": [],\n",
        "    \"Type_2\": [],\n",
        "    \"Type_3\": [],\n",
        "    \"Type_4g\": []\n",
        "}"
      ],
      "execution_count": null,
      "outputs": []
    },
    {
      "cell_type": "code",
      "metadata": {
        "id": "MPULm2CxuVOF"
      },
      "source": [
        "for index, annotation in enumerate(labels):\n",
        "\n",
        "  annotation = annotation.numpy()\n",
        "  count = np.count_nonzero(annotation)\n",
        "  if count == 1:\n",
        "    Annotation_size[\"Type_1\"].append(index)\n",
        "  elif count == 2:\n",
        "    Annotation_size[\"Type_2\"].append(index)\n",
        "  elif count == 3:\n",
        "    Annotation_size[\"Type_3\"].append(index)\n",
        "  else:\n",
        "    Annotation_size[\"Type_4g\"].append(index)"
      ],
      "execution_count": null,
      "outputs": []
    },
    {
      "cell_type": "markdown",
      "metadata": {
        "id": "MDVgcZJ8wOqs"
      },
      "source": [
        "#### Classification Reports based on annotation counts"
      ]
    },
    {
      "cell_type": "code",
      "metadata": {
        "id": "9Eh98fF5uw0d"
      },
      "source": [
        "# Annotation equals once\n",
        "\n",
        "Type_1_predictions = predictions[Annotation_size[\"Type_1\"]]\n",
        "Type_1_labels = labels[Annotation_size[\"Type_1\"]]"
      ],
      "execution_count": null,
      "outputs": []
    },
    {
      "cell_type": "code",
      "metadata": {
        "colab": {
          "base_uri": "https://localhost:8080/"
        },
        "id": "7ffmQVlHv0cH",
        "outputId": "2d018295-4e71-42a7-f3dc-b7db2785acde"
      },
      "source": [
        "y_pred = Type_1_predictions.numpy()\n",
        "y_true = Type_1_labels.numpy()\n",
        "\n",
        "upper, lower = 1, 0\n",
        "\n",
        "y_pred = np.where(y_pred > 0.5, upper, lower)\n",
        "\n",
        "print(\"classification report based on Annotation count equals one\\n\")\n",
        "\n",
        "print(\n",
        "    classification_report(\n",
        "        y_true,\n",
        "        y_pred,\n",
        "        digits=4,\n",
        "        target_names=LABEL_COLUMNS,\n",
        "        zero_division=0\n",
        "    )\n",
        ")"
      ],
      "execution_count": null,
      "outputs": [
        {
          "output_type": "stream",
          "text": [
            "classification report based on Annotation count equals one\n",
            "\n",
            "                      precision    recall  f1-score   support\n",
            "\n",
            "         Case Report     0.9447    0.8952    0.9193       248\n",
            "           Diagnosis     0.7597    0.9703    0.8522       303\n",
            "Epidemic Forecasting     0.7612    0.9107    0.8293        56\n",
            "           Mechanism     0.6974    0.8548    0.7681        62\n",
            "          Prevention     0.9244    0.9631    0.9434      1194\n",
            "        Transmission     0.3956    0.8571    0.5414        42\n",
            "           Treatment     0.7634    0.9313    0.8390       291\n",
            "\n",
            "           micro avg     0.8460    0.9458    0.8931      2196\n",
            "           macro avg     0.7495    0.9118    0.8132      2196\n",
            "        weighted avg     0.8620    0.9458    0.8987      2196\n",
            "         samples avg     0.8848    0.9458    0.9048      2196\n",
            "\n"
          ],
          "name": "stdout"
        }
      ]
    },
    {
      "cell_type": "code",
      "metadata": {
        "id": "WzxR60rRwaKz"
      },
      "source": [
        "# Annotation equals twice\n",
        "\n",
        "Type_1_predictions = predictions[Annotation_size[\"Type_2\"]]\n",
        "Type_1_labels = labels[Annotation_size[\"Type_2\"]]"
      ],
      "execution_count": null,
      "outputs": []
    },
    {
      "cell_type": "code",
      "metadata": {
        "colab": {
          "base_uri": "https://localhost:8080/"
        },
        "id": "WnVGT6MqwaK0",
        "outputId": "f326b6b2-0104-418c-9a82-df77e8323ebb"
      },
      "source": [
        "y_pred = Type_1_predictions.numpy()\n",
        "y_true = Type_1_labels.numpy()\n",
        "\n",
        "upper, lower = 1, 0\n",
        "\n",
        "y_pred = np.where(y_pred > 0.5, upper, lower)\n",
        "\n",
        "print(\"classification report based on Annotation count equals two\\n\")\n",
        "\n",
        "print(\n",
        "    classification_report(\n",
        "        y_true,\n",
        "        y_pred,\n",
        "        digits=4,\n",
        "        target_names=LABEL_COLUMNS,\n",
        "        zero_division=0\n",
        "    )\n",
        ")"
      ],
      "execution_count": null,
      "outputs": [
        {
          "output_type": "stream",
          "text": [
            "classification report based on Annotation count equals two\n",
            "\n",
            "                      precision    recall  f1-score   support\n",
            "\n",
            "         Case Report     0.0000    0.0000    0.0000         0\n",
            "           Diagnosis     0.9294    0.8501    0.8880       387\n",
            "Epidemic Forecasting     0.8913    0.8283    0.8586        99\n",
            "           Mechanism     0.9771    0.8465    0.9072       404\n",
            "          Prevention     0.9346    0.8850    0.9091       339\n",
            "        Transmission     0.9447    0.8991    0.9213       228\n",
            "           Treatment     0.9832    0.8744    0.9256       669\n",
            "\n",
            "           micro avg     0.9525    0.8669    0.9077      2126\n",
            "           macro avg     0.8086    0.7405    0.7728      2126\n",
            "        weighted avg     0.9561    0.8669    0.9091      2126\n",
            "         samples avg     0.9458    0.8669    0.8902      2126\n",
            "\n"
          ],
          "name": "stdout"
        }
      ]
    },
    {
      "cell_type": "code",
      "metadata": {
        "id": "17Pt3_F7waZo"
      },
      "source": [
        "# Annotation equals thrice\n",
        "\n",
        "Type_1_predictions = predictions[Annotation_size[\"Type_3\"]]\n",
        "Type_1_labels = labels[Annotation_size[\"Type_3\"]]"
      ],
      "execution_count": null,
      "outputs": []
    },
    {
      "cell_type": "code",
      "metadata": {
        "colab": {
          "base_uri": "https://localhost:8080/"
        },
        "id": "ee5F7yQmwaZo",
        "outputId": "dfbb3662-8fbb-4bc1-e7c8-9312c962d03a"
      },
      "source": [
        "y_pred = Type_1_predictions.numpy()\n",
        "y_true = Type_1_labels.numpy()\n",
        "\n",
        "upper, lower = 1, 0\n",
        "\n",
        "y_pred = np.where(y_pred > 0.5, upper, lower)\n",
        "\n",
        "print(\"classification report based on Annotation count equals three\\n\")\n",
        "\n",
        "print(\n",
        "    classification_report(\n",
        "        y_true,\n",
        "        y_pred,\n",
        "        digits=4,\n",
        "        target_names=LABEL_COLUMNS,\n",
        "        zero_division=0\n",
        "    )\n",
        ")"
      ],
      "execution_count": null,
      "outputs": [
        {
          "output_type": "stream",
          "text": [
            "classification report based on Annotation count equals three\n",
            "\n",
            "                      precision    recall  f1-score   support\n",
            "\n",
            "         Case Report     0.0000    0.0000    0.0000         0\n",
            "           Diagnosis     0.9753    0.7596    0.8541       104\n",
            "Epidemic Forecasting     0.8571    0.5455    0.6667        11\n",
            "           Mechanism     0.9833    0.7024    0.8194        84\n",
            "          Prevention     0.8958    0.6615    0.7611        65\n",
            "        Transmission     0.9444    0.7500    0.8361        68\n",
            "           Treatment     0.9692    0.6495    0.7778        97\n",
            "\n",
            "           micro avg     0.9556    0.7016    0.8091       429\n",
            "           macro avg     0.8036    0.5812    0.6736       429\n",
            "        weighted avg     0.9555    0.7016    0.8083       429\n",
            "         samples avg     0.9633    0.7016    0.7914       429\n",
            "\n"
          ],
          "name": "stdout"
        }
      ]
    },
    {
      "cell_type": "code",
      "metadata": {
        "id": "eWMRmbAiwamJ"
      },
      "source": [
        "# Annotation equals more than 4\n",
        "\n",
        "Type_1_predictions = predictions[Annotation_size[\"Type_4g\"]]\n",
        "Type_1_labels = labels[Annotation_size[\"Type_4g\"]]"
      ],
      "execution_count": null,
      "outputs": []
    },
    {
      "cell_type": "code",
      "metadata": {
        "colab": {
          "base_uri": "https://localhost:8080/"
        },
        "id": "SahUndPawamJ",
        "outputId": "c998b67a-3fe0-4cae-8c14-6f0ae2bcf264"
      },
      "source": [
        "y_pred = Type_1_predictions.numpy()\n",
        "y_true = Type_1_labels.numpy()\n",
        "\n",
        "upper, lower = 1, 0\n",
        "\n",
        "y_pred = np.where(y_pred > 0.5, upper, lower)\n",
        "\n",
        "print(\"classification report based on Annotation count equals more than 4\\n\")\n",
        "\n",
        "print(\n",
        "    classification_report(\n",
        "        y_true,\n",
        "        y_pred,\n",
        "        digits=4,\n",
        "        target_names=LABEL_COLUMNS,\n",
        "        zero_division=0\n",
        "    )\n",
        ")"
      ],
      "execution_count": null,
      "outputs": [
        {
          "output_type": "stream",
          "text": [
            "classification report based on Annotation count equals more than 4\n",
            "\n",
            "                      precision    recall  f1-score   support\n",
            "\n",
            "         Case Report     0.0000    0.0000    0.0000         0\n",
            "           Diagnosis     1.0000    0.8095    0.8947        21\n",
            "Epidemic Forecasting     0.0000    0.0000    0.0000         0\n",
            "           Mechanism     1.0000    0.5000    0.6667        18\n",
            "          Prevention     1.0000    0.6000    0.7500        15\n",
            "        Transmission     1.0000    0.6429    0.7826        14\n",
            "           Treatment     1.0000    0.7778    0.8750        18\n",
            "\n",
            "           micro avg     1.0000    0.6744    0.8056        86\n",
            "           macro avg     0.7143    0.4757    0.5670        86\n",
            "        weighted avg     1.0000    0.6744    0.7994        86\n",
            "         samples avg     1.0000    0.6762    0.7879        86\n",
            "\n"
          ],
          "name": "stdout"
        }
      ]
    },
    {
      "cell_type": "markdown",
      "metadata": {
        "id": "djf-e0qw2aMi"
      },
      "source": [
        "#### model prediction and annotation segregation on baseline standards"
      ]
    },
    {
      "cell_type": "code",
      "metadata": {
        "id": "dipI9wmfv-AK"
      },
      "source": [
        "gold_predictions = pd.read_csv(\"drive/MyDrive/Biocreative/Biocreative/datasets/baseline/prediction_label_samples.csv\")\n",
        "gold_predictions = gold_predictions.reindex(columns=LABEL_COLUMNS)\n",
        "# gold_predictions = gold_predictions.drop([\"PMID\"], axis=1)\n",
        "gold_labels = pd.read_csv(\"drive/MyDrive/Biocreative/Biocreative/datasets/baseline/goldstandard_label_samples.csv\")\n",
        "gold_labels = gold_labels.reindex(columns=LABEL_COLUMNS)\n",
        "# gold_labels = gold_labels.drop([\"PMID\"], axis=1)"
      ],
      "execution_count": null,
      "outputs": []
    },
    {
      "cell_type": "code",
      "metadata": {
        "id": "aTr-2Xoy3Cph"
      },
      "source": [
        "gold_predictions = gold_predictions.values.tolist()\n",
        "gold_labels = gold_labels.values.tolist()"
      ],
      "execution_count": null,
      "outputs": []
    },
    {
      "cell_type": "code",
      "metadata": {
        "id": "Tz_l09BI2-nX"
      },
      "source": [
        "Annotation_size = {\n",
        "    \"Type_1\": [],\n",
        "    \"Type_2\": [],\n",
        "    \"Type_3\": [],\n",
        "    \"Type_4g\": []\n",
        "}"
      ],
      "execution_count": null,
      "outputs": []
    },
    {
      "cell_type": "code",
      "metadata": {
        "id": "gpzvrkgs2-nY"
      },
      "source": [
        "for index, annotation in enumerate(gold_labels):\n",
        "\n",
        "  annotation = np.array(annotation)\n",
        "  count = np.count_nonzero(annotation)\n",
        "  if count == 1:\n",
        "    Annotation_size[\"Type_1\"].append(index)\n",
        "  elif count == 2:\n",
        "    Annotation_size[\"Type_2\"].append(index)\n",
        "  elif count == 3:\n",
        "    Annotation_size[\"Type_3\"].append(index)\n",
        "  else:\n",
        "    Annotation_size[\"Type_4g\"].append(index)"
      ],
      "execution_count": null,
      "outputs": []
    },
    {
      "cell_type": "code",
      "metadata": {
        "id": "YQJFGdcQ4pTJ"
      },
      "source": [
        "gold_predictions = torch.tensor(gold_predictions)\n",
        "gold_labels = torch.tensor(gold_labels)"
      ],
      "execution_count": null,
      "outputs": []
    },
    {
      "cell_type": "code",
      "metadata": {
        "id": "Xt6BLfM0247o"
      },
      "source": [
        "# Annotation equals once\n",
        "\n",
        "Type_1_predictions = gold_predictions[Annotation_size[\"Type_1\"]]\n",
        "Type_1_labels = gold_labels[Annotation_size[\"Type_1\"]]"
      ],
      "execution_count": null,
      "outputs": []
    },
    {
      "cell_type": "code",
      "metadata": {
        "id": "ZmBlRs6s247p"
      },
      "source": [
        "y_pred = Type_1_predictions.numpy()\n",
        "y_true = Type_1_labels.numpy()\n",
        "\n",
        "upper, lower = 1, 0\n",
        "\n",
        "y_pred = np.where(y_pred > 0.5, upper, lower)\n",
        "\n",
        "print(\"classification report based on Annotation count equals one\\n\")\n",
        "\n",
        "print(\n",
        "    classification_report(\n",
        "        y_true,\n",
        "        y_pred,\n",
        "        digits=4,\n",
        "        target_names=LABEL_COLUMNS,\n",
        "        zero_division=0\n",
        "    )\n",
        ")"
      ],
      "execution_count": null,
      "outputs": []
    },
    {
      "cell_type": "code",
      "metadata": {
        "id": "5ajGWSJj247q"
      },
      "source": [
        "# Annotation equals twice\n",
        "\n",
        "Type_1_predictions = gold_predictions[Annotation_size[\"Type_2\"]]\n",
        "Type_1_labels = gold_labels[Annotation_size[\"Type_2\"]]"
      ],
      "execution_count": null,
      "outputs": []
    },
    {
      "cell_type": "code",
      "metadata": {
        "id": "jle3z_25247q"
      },
      "source": [
        "y_pred = Type_1_predictions.numpy()\n",
        "y_true = Type_1_labels.numpy()\n",
        "\n",
        "upper, lower = 1, 0\n",
        "\n",
        "y_pred = np.where(y_pred > 0.5, upper, lower)\n",
        "\n",
        "print(\"classification report based on Annotation count equals two\\n\")\n",
        "\n",
        "print(\n",
        "    classification_report(\n",
        "        y_true,\n",
        "        y_pred,\n",
        "        digits=4,\n",
        "        target_names=LABEL_COLUMNS,\n",
        "        zero_division=0\n",
        "    )\n",
        ")"
      ],
      "execution_count": null,
      "outputs": []
    },
    {
      "cell_type": "code",
      "metadata": {
        "id": "MX6kg5KD247r"
      },
      "source": [
        "# Annotation equals thrice\n",
        "\n",
        "Type_1_predictions = gold_predictions[Annotation_size[\"Type_3\"]]\n",
        "Type_1_labels = gold_labels[Annotation_size[\"Type_3\"]]"
      ],
      "execution_count": null,
      "outputs": []
    },
    {
      "cell_type": "code",
      "metadata": {
        "id": "sioJkalO247r"
      },
      "source": [
        "y_pred = Type_1_predictions.numpy()\n",
        "y_true = Type_1_labels.numpy()\n",
        "\n",
        "upper, lower = 1, 0\n",
        "\n",
        "y_pred = np.where(y_pred > 0.5, upper, lower)\n",
        "\n",
        "print(\"classification report based on Annotation count equals three\\n\")\n",
        "\n",
        "print(\n",
        "    classification_report(\n",
        "        y_true,\n",
        "        y_pred,\n",
        "        digits=4,\n",
        "        target_names=LABEL_COLUMNS,\n",
        "        zero_division=0\n",
        "    )\n",
        ")"
      ],
      "execution_count": null,
      "outputs": []
    },
    {
      "cell_type": "code",
      "metadata": {
        "id": "f8oJhrCr247s"
      },
      "source": [
        "# Annotation equals more than 4\n",
        "\n",
        "Type_1_predictions = gold_predictions[Annotation_size[\"Type_4g\"]]\n",
        "Type_1_labels = gold_labels[Annotation_size[\"Type_4g\"]]"
      ],
      "execution_count": null,
      "outputs": []
    },
    {
      "cell_type": "code",
      "metadata": {
        "id": "5Z3Hb9L8247t"
      },
      "source": [
        "y_pred = Type_1_predictions.numpy()\n",
        "y_true = Type_1_labels.numpy()\n",
        "\n",
        "upper, lower = 1, 0\n",
        "\n",
        "y_pred = np.where(y_pred > 0.5, upper, lower)\n",
        "\n",
        "print(\"classification report based on Annotation count equals more than 4\\n\")\n",
        "\n",
        "print(\n",
        "    classification_report(\n",
        "        y_true,\n",
        "        y_pred,\n",
        "        digits=4,\n",
        "        target_names=LABEL_COLUMNS,\n",
        "        zero_division=0\n",
        "    )\n",
        ")"
      ],
      "execution_count": null,
      "outputs": []
    },
    {
      "cell_type": "code",
      "metadata": {
        "id": "sxTgdr7z5hGN"
      },
      "source": [
        ""
      ],
      "execution_count": null,
      "outputs": []
    }
  ]
}