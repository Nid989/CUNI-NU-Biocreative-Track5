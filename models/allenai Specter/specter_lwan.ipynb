{
  "nbformat": 4,
  "nbformat_minor": 0,
  "metadata": {
    "accelerator": "GPU",
    "colab": {
      "name": "best_specter_model.ipynb",
      "provenance": [],
      "collapsed_sections": [
        "pixwbhCQZzEa",
        "zVkHzSD8O2_i"
      ],
      "machine_shape": "hm"
    },
    "kernelspec": {
      "display_name": "Python 3",
      "name": "python3"
    },
    "language_info": {
      "name": "python"
    },
    "widgets": {
      "application/vnd.jupyter.widget-state+json": {
        "f380c4aa7ff84571b9ff20dc05f6a8b2": {
          "model_module": "@jupyter-widgets/controls",
          "model_name": "HBoxModel",
          "model_module_version": "1.5.0",
          "state": {
            "_view_name": "HBoxView",
            "_dom_classes": [],
            "_model_name": "HBoxModel",
            "_view_module": "@jupyter-widgets/controls",
            "_model_module_version": "1.5.0",
            "_view_count": null,
            "_view_module_version": "1.5.0",
            "box_style": "",
            "layout": "IPY_MODEL_969ef0ecc57d4952baa3df427da39255",
            "_model_module": "@jupyter-widgets/controls",
            "children": [
              "IPY_MODEL_03b022671c7c4007a8ffdd3bab113a81",
              "IPY_MODEL_aa847a7725064eb7b6f3a0dd6a24532d",
              "IPY_MODEL_ec01a9abd553489da6dff3902e4a5698"
            ]
          }
        },
        "969ef0ecc57d4952baa3df427da39255": {
          "model_module": "@jupyter-widgets/base",
          "model_name": "LayoutModel",
          "model_module_version": "1.2.0",
          "state": {
            "_view_name": "LayoutView",
            "grid_template_rows": null,
            "right": null,
            "justify_content": null,
            "_view_module": "@jupyter-widgets/base",
            "overflow": null,
            "_model_module_version": "1.2.0",
            "_view_count": null,
            "flex_flow": null,
            "width": null,
            "min_width": null,
            "border": null,
            "align_items": null,
            "bottom": null,
            "_model_module": "@jupyter-widgets/base",
            "top": null,
            "grid_column": null,
            "overflow_y": null,
            "overflow_x": null,
            "grid_auto_flow": null,
            "grid_area": null,
            "grid_template_columns": null,
            "flex": null,
            "_model_name": "LayoutModel",
            "justify_items": null,
            "grid_row": null,
            "max_height": null,
            "align_content": null,
            "visibility": null,
            "align_self": null,
            "height": null,
            "min_height": null,
            "padding": null,
            "grid_auto_rows": null,
            "grid_gap": null,
            "max_width": null,
            "order": null,
            "_view_module_version": "1.2.0",
            "grid_template_areas": null,
            "object_position": null,
            "object_fit": null,
            "grid_auto_columns": null,
            "margin": null,
            "display": null,
            "left": null
          }
        },
        "03b022671c7c4007a8ffdd3bab113a81": {
          "model_module": "@jupyter-widgets/controls",
          "model_name": "HTMLModel",
          "model_module_version": "1.5.0",
          "state": {
            "_view_name": "HTMLView",
            "style": "IPY_MODEL_7942bfd3d305421ead4275b9a438ae62",
            "_dom_classes": [],
            "description": "",
            "_model_name": "HTMLModel",
            "placeholder": "​",
            "_view_module": "@jupyter-widgets/controls",
            "_model_module_version": "1.5.0",
            "value": "Downloading: 100%",
            "_view_count": null,
            "_view_module_version": "1.5.0",
            "description_tooltip": null,
            "_model_module": "@jupyter-widgets/controls",
            "layout": "IPY_MODEL_1f6f15aca893444b8358108dabb68f5f"
          }
        },
        "aa847a7725064eb7b6f3a0dd6a24532d": {
          "model_module": "@jupyter-widgets/controls",
          "model_name": "FloatProgressModel",
          "model_module_version": "1.5.0",
          "state": {
            "_view_name": "ProgressView",
            "style": "IPY_MODEL_ca3315e39da64918ba40c1eb7827ab04",
            "_dom_classes": [],
            "description": "",
            "_model_name": "FloatProgressModel",
            "bar_style": "success",
            "max": 337,
            "_view_module": "@jupyter-widgets/controls",
            "_model_module_version": "1.5.0",
            "value": 337,
            "_view_count": null,
            "_view_module_version": "1.5.0",
            "orientation": "horizontal",
            "min": 0,
            "description_tooltip": null,
            "_model_module": "@jupyter-widgets/controls",
            "layout": "IPY_MODEL_90ebfdf1194543e3b9fdd2dd3ec4cc27"
          }
        },
        "ec01a9abd553489da6dff3902e4a5698": {
          "model_module": "@jupyter-widgets/controls",
          "model_name": "HTMLModel",
          "model_module_version": "1.5.0",
          "state": {
            "_view_name": "HTMLView",
            "style": "IPY_MODEL_25f1f68d305242868dc7850d95077757",
            "_dom_classes": [],
            "description": "",
            "_model_name": "HTMLModel",
            "placeholder": "​",
            "_view_module": "@jupyter-widgets/controls",
            "_model_module_version": "1.5.0",
            "value": " 337/337 [00:00&lt;00:00, 11.0kB/s]",
            "_view_count": null,
            "_view_module_version": "1.5.0",
            "description_tooltip": null,
            "_model_module": "@jupyter-widgets/controls",
            "layout": "IPY_MODEL_029fadbb16094242af26756b350b6f01"
          }
        },
        "7942bfd3d305421ead4275b9a438ae62": {
          "model_module": "@jupyter-widgets/controls",
          "model_name": "DescriptionStyleModel",
          "model_module_version": "1.5.0",
          "state": {
            "_view_name": "StyleView",
            "_model_name": "DescriptionStyleModel",
            "description_width": "",
            "_view_module": "@jupyter-widgets/base",
            "_model_module_version": "1.5.0",
            "_view_count": null,
            "_view_module_version": "1.2.0",
            "_model_module": "@jupyter-widgets/controls"
          }
        },
        "1f6f15aca893444b8358108dabb68f5f": {
          "model_module": "@jupyter-widgets/base",
          "model_name": "LayoutModel",
          "model_module_version": "1.2.0",
          "state": {
            "_view_name": "LayoutView",
            "grid_template_rows": null,
            "right": null,
            "justify_content": null,
            "_view_module": "@jupyter-widgets/base",
            "overflow": null,
            "_model_module_version": "1.2.0",
            "_view_count": null,
            "flex_flow": null,
            "width": null,
            "min_width": null,
            "border": null,
            "align_items": null,
            "bottom": null,
            "_model_module": "@jupyter-widgets/base",
            "top": null,
            "grid_column": null,
            "overflow_y": null,
            "overflow_x": null,
            "grid_auto_flow": null,
            "grid_area": null,
            "grid_template_columns": null,
            "flex": null,
            "_model_name": "LayoutModel",
            "justify_items": null,
            "grid_row": null,
            "max_height": null,
            "align_content": null,
            "visibility": null,
            "align_self": null,
            "height": null,
            "min_height": null,
            "padding": null,
            "grid_auto_rows": null,
            "grid_gap": null,
            "max_width": null,
            "order": null,
            "_view_module_version": "1.2.0",
            "grid_template_areas": null,
            "object_position": null,
            "object_fit": null,
            "grid_auto_columns": null,
            "margin": null,
            "display": null,
            "left": null
          }
        },
        "ca3315e39da64918ba40c1eb7827ab04": {
          "model_module": "@jupyter-widgets/controls",
          "model_name": "ProgressStyleModel",
          "model_module_version": "1.5.0",
          "state": {
            "_view_name": "StyleView",
            "_model_name": "ProgressStyleModel",
            "description_width": "",
            "_view_module": "@jupyter-widgets/base",
            "_model_module_version": "1.5.0",
            "_view_count": null,
            "_view_module_version": "1.2.0",
            "bar_color": null,
            "_model_module": "@jupyter-widgets/controls"
          }
        },
        "90ebfdf1194543e3b9fdd2dd3ec4cc27": {
          "model_module": "@jupyter-widgets/base",
          "model_name": "LayoutModel",
          "model_module_version": "1.2.0",
          "state": {
            "_view_name": "LayoutView",
            "grid_template_rows": null,
            "right": null,
            "justify_content": null,
            "_view_module": "@jupyter-widgets/base",
            "overflow": null,
            "_model_module_version": "1.2.0",
            "_view_count": null,
            "flex_flow": null,
            "width": null,
            "min_width": null,
            "border": null,
            "align_items": null,
            "bottom": null,
            "_model_module": "@jupyter-widgets/base",
            "top": null,
            "grid_column": null,
            "overflow_y": null,
            "overflow_x": null,
            "grid_auto_flow": null,
            "grid_area": null,
            "grid_template_columns": null,
            "flex": null,
            "_model_name": "LayoutModel",
            "justify_items": null,
            "grid_row": null,
            "max_height": null,
            "align_content": null,
            "visibility": null,
            "align_self": null,
            "height": null,
            "min_height": null,
            "padding": null,
            "grid_auto_rows": null,
            "grid_gap": null,
            "max_width": null,
            "order": null,
            "_view_module_version": "1.2.0",
            "grid_template_areas": null,
            "object_position": null,
            "object_fit": null,
            "grid_auto_columns": null,
            "margin": null,
            "display": null,
            "left": null
          }
        },
        "25f1f68d305242868dc7850d95077757": {
          "model_module": "@jupyter-widgets/controls",
          "model_name": "DescriptionStyleModel",
          "model_module_version": "1.5.0",
          "state": {
            "_view_name": "StyleView",
            "_model_name": "DescriptionStyleModel",
            "description_width": "",
            "_view_module": "@jupyter-widgets/base",
            "_model_module_version": "1.5.0",
            "_view_count": null,
            "_view_module_version": "1.2.0",
            "_model_module": "@jupyter-widgets/controls"
          }
        },
        "029fadbb16094242af26756b350b6f01": {
          "model_module": "@jupyter-widgets/base",
          "model_name": "LayoutModel",
          "model_module_version": "1.2.0",
          "state": {
            "_view_name": "LayoutView",
            "grid_template_rows": null,
            "right": null,
            "justify_content": null,
            "_view_module": "@jupyter-widgets/base",
            "overflow": null,
            "_model_module_version": "1.2.0",
            "_view_count": null,
            "flex_flow": null,
            "width": null,
            "min_width": null,
            "border": null,
            "align_items": null,
            "bottom": null,
            "_model_module": "@jupyter-widgets/base",
            "top": null,
            "grid_column": null,
            "overflow_y": null,
            "overflow_x": null,
            "grid_auto_flow": null,
            "grid_area": null,
            "grid_template_columns": null,
            "flex": null,
            "_model_name": "LayoutModel",
            "justify_items": null,
            "grid_row": null,
            "max_height": null,
            "align_content": null,
            "visibility": null,
            "align_self": null,
            "height": null,
            "min_height": null,
            "padding": null,
            "grid_auto_rows": null,
            "grid_gap": null,
            "max_width": null,
            "order": null,
            "_view_module_version": "1.2.0",
            "grid_template_areas": null,
            "object_position": null,
            "object_fit": null,
            "grid_auto_columns": null,
            "margin": null,
            "display": null,
            "left": null
          }
        },
        "98724406f94d4f5090d3e2657c2910e1": {
          "model_module": "@jupyter-widgets/controls",
          "model_name": "HBoxModel",
          "model_module_version": "1.5.0",
          "state": {
            "_view_name": "HBoxView",
            "_dom_classes": [],
            "_model_name": "HBoxModel",
            "_view_module": "@jupyter-widgets/controls",
            "_model_module_version": "1.5.0",
            "_view_count": null,
            "_view_module_version": "1.5.0",
            "box_style": "",
            "layout": "IPY_MODEL_28a41876c1854fe9a6ea9d2553e05e4c",
            "_model_module": "@jupyter-widgets/controls",
            "children": [
              "IPY_MODEL_c4706c0d414d4f29af1e329c1847a916",
              "IPY_MODEL_b89c4abe96454a52abc0cdcf8018e4a6",
              "IPY_MODEL_1685055bb8dc45b293a9503453574402"
            ]
          }
        },
        "28a41876c1854fe9a6ea9d2553e05e4c": {
          "model_module": "@jupyter-widgets/base",
          "model_name": "LayoutModel",
          "model_module_version": "1.2.0",
          "state": {
            "_view_name": "LayoutView",
            "grid_template_rows": null,
            "right": null,
            "justify_content": null,
            "_view_module": "@jupyter-widgets/base",
            "overflow": null,
            "_model_module_version": "1.2.0",
            "_view_count": null,
            "flex_flow": null,
            "width": null,
            "min_width": null,
            "border": null,
            "align_items": null,
            "bottom": null,
            "_model_module": "@jupyter-widgets/base",
            "top": null,
            "grid_column": null,
            "overflow_y": null,
            "overflow_x": null,
            "grid_auto_flow": null,
            "grid_area": null,
            "grid_template_columns": null,
            "flex": null,
            "_model_name": "LayoutModel",
            "justify_items": null,
            "grid_row": null,
            "max_height": null,
            "align_content": null,
            "visibility": null,
            "align_self": null,
            "height": null,
            "min_height": null,
            "padding": null,
            "grid_auto_rows": null,
            "grid_gap": null,
            "max_width": null,
            "order": null,
            "_view_module_version": "1.2.0",
            "grid_template_areas": null,
            "object_position": null,
            "object_fit": null,
            "grid_auto_columns": null,
            "margin": null,
            "display": null,
            "left": null
          }
        },
        "c4706c0d414d4f29af1e329c1847a916": {
          "model_module": "@jupyter-widgets/controls",
          "model_name": "HTMLModel",
          "model_module_version": "1.5.0",
          "state": {
            "_view_name": "HTMLView",
            "style": "IPY_MODEL_e8d88c53a75c4eb585ef524abeeff9d9",
            "_dom_classes": [],
            "description": "",
            "_model_name": "HTMLModel",
            "placeholder": "​",
            "_view_module": "@jupyter-widgets/controls",
            "_model_module_version": "1.5.0",
            "value": "Downloading: 100%",
            "_view_count": null,
            "_view_module_version": "1.5.0",
            "description_tooltip": null,
            "_model_module": "@jupyter-widgets/controls",
            "layout": "IPY_MODEL_9754e0aab7aa49adad5cbcc0e9dc06ce"
          }
        },
        "b89c4abe96454a52abc0cdcf8018e4a6": {
          "model_module": "@jupyter-widgets/controls",
          "model_name": "FloatProgressModel",
          "model_module_version": "1.5.0",
          "state": {
            "_view_name": "ProgressView",
            "style": "IPY_MODEL_9ac05f5413a147e28fad16318a9401af",
            "_dom_classes": [],
            "description": "",
            "_model_name": "FloatProgressModel",
            "bar_style": "success",
            "max": 226150,
            "_view_module": "@jupyter-widgets/controls",
            "_model_module_version": "1.5.0",
            "value": 226150,
            "_view_count": null,
            "_view_module_version": "1.5.0",
            "orientation": "horizontal",
            "min": 0,
            "description_tooltip": null,
            "_model_module": "@jupyter-widgets/controls",
            "layout": "IPY_MODEL_98badf42f58d4bd0a0ca2dae06e86ec7"
          }
        },
        "1685055bb8dc45b293a9503453574402": {
          "model_module": "@jupyter-widgets/controls",
          "model_name": "HTMLModel",
          "model_module_version": "1.5.0",
          "state": {
            "_view_name": "HTMLView",
            "style": "IPY_MODEL_3d005b18f006407f980eda91c6e88634",
            "_dom_classes": [],
            "description": "",
            "_model_name": "HTMLModel",
            "placeholder": "​",
            "_view_module": "@jupyter-widgets/controls",
            "_model_module_version": "1.5.0",
            "value": " 226k/226k [00:00&lt;00:00, 849kB/s]",
            "_view_count": null,
            "_view_module_version": "1.5.0",
            "description_tooltip": null,
            "_model_module": "@jupyter-widgets/controls",
            "layout": "IPY_MODEL_0b657f87aa9045468b07ef786d73735e"
          }
        },
        "e8d88c53a75c4eb585ef524abeeff9d9": {
          "model_module": "@jupyter-widgets/controls",
          "model_name": "DescriptionStyleModel",
          "model_module_version": "1.5.0",
          "state": {
            "_view_name": "StyleView",
            "_model_name": "DescriptionStyleModel",
            "description_width": "",
            "_view_module": "@jupyter-widgets/base",
            "_model_module_version": "1.5.0",
            "_view_count": null,
            "_view_module_version": "1.2.0",
            "_model_module": "@jupyter-widgets/controls"
          }
        },
        "9754e0aab7aa49adad5cbcc0e9dc06ce": {
          "model_module": "@jupyter-widgets/base",
          "model_name": "LayoutModel",
          "model_module_version": "1.2.0",
          "state": {
            "_view_name": "LayoutView",
            "grid_template_rows": null,
            "right": null,
            "justify_content": null,
            "_view_module": "@jupyter-widgets/base",
            "overflow": null,
            "_model_module_version": "1.2.0",
            "_view_count": null,
            "flex_flow": null,
            "width": null,
            "min_width": null,
            "border": null,
            "align_items": null,
            "bottom": null,
            "_model_module": "@jupyter-widgets/base",
            "top": null,
            "grid_column": null,
            "overflow_y": null,
            "overflow_x": null,
            "grid_auto_flow": null,
            "grid_area": null,
            "grid_template_columns": null,
            "flex": null,
            "_model_name": "LayoutModel",
            "justify_items": null,
            "grid_row": null,
            "max_height": null,
            "align_content": null,
            "visibility": null,
            "align_self": null,
            "height": null,
            "min_height": null,
            "padding": null,
            "grid_auto_rows": null,
            "grid_gap": null,
            "max_width": null,
            "order": null,
            "_view_module_version": "1.2.0",
            "grid_template_areas": null,
            "object_position": null,
            "object_fit": null,
            "grid_auto_columns": null,
            "margin": null,
            "display": null,
            "left": null
          }
        },
        "9ac05f5413a147e28fad16318a9401af": {
          "model_module": "@jupyter-widgets/controls",
          "model_name": "ProgressStyleModel",
          "model_module_version": "1.5.0",
          "state": {
            "_view_name": "StyleView",
            "_model_name": "ProgressStyleModel",
            "description_width": "",
            "_view_module": "@jupyter-widgets/base",
            "_model_module_version": "1.5.0",
            "_view_count": null,
            "_view_module_version": "1.2.0",
            "bar_color": null,
            "_model_module": "@jupyter-widgets/controls"
          }
        },
        "98badf42f58d4bd0a0ca2dae06e86ec7": {
          "model_module": "@jupyter-widgets/base",
          "model_name": "LayoutModel",
          "model_module_version": "1.2.0",
          "state": {
            "_view_name": "LayoutView",
            "grid_template_rows": null,
            "right": null,
            "justify_content": null,
            "_view_module": "@jupyter-widgets/base",
            "overflow": null,
            "_model_module_version": "1.2.0",
            "_view_count": null,
            "flex_flow": null,
            "width": null,
            "min_width": null,
            "border": null,
            "align_items": null,
            "bottom": null,
            "_model_module": "@jupyter-widgets/base",
            "top": null,
            "grid_column": null,
            "overflow_y": null,
            "overflow_x": null,
            "grid_auto_flow": null,
            "grid_area": null,
            "grid_template_columns": null,
            "flex": null,
            "_model_name": "LayoutModel",
            "justify_items": null,
            "grid_row": null,
            "max_height": null,
            "align_content": null,
            "visibility": null,
            "align_self": null,
            "height": null,
            "min_height": null,
            "padding": null,
            "grid_auto_rows": null,
            "grid_gap": null,
            "max_width": null,
            "order": null,
            "_view_module_version": "1.2.0",
            "grid_template_areas": null,
            "object_position": null,
            "object_fit": null,
            "grid_auto_columns": null,
            "margin": null,
            "display": null,
            "left": null
          }
        },
        "3d005b18f006407f980eda91c6e88634": {
          "model_module": "@jupyter-widgets/controls",
          "model_name": "DescriptionStyleModel",
          "model_module_version": "1.5.0",
          "state": {
            "_view_name": "StyleView",
            "_model_name": "DescriptionStyleModel",
            "description_width": "",
            "_view_module": "@jupyter-widgets/base",
            "_model_module_version": "1.5.0",
            "_view_count": null,
            "_view_module_version": "1.2.0",
            "_model_module": "@jupyter-widgets/controls"
          }
        },
        "0b657f87aa9045468b07ef786d73735e": {
          "model_module": "@jupyter-widgets/base",
          "model_name": "LayoutModel",
          "model_module_version": "1.2.0",
          "state": {
            "_view_name": "LayoutView",
            "grid_template_rows": null,
            "right": null,
            "justify_content": null,
            "_view_module": "@jupyter-widgets/base",
            "overflow": null,
            "_model_module_version": "1.2.0",
            "_view_count": null,
            "flex_flow": null,
            "width": null,
            "min_width": null,
            "border": null,
            "align_items": null,
            "bottom": null,
            "_model_module": "@jupyter-widgets/base",
            "top": null,
            "grid_column": null,
            "overflow_y": null,
            "overflow_x": null,
            "grid_auto_flow": null,
            "grid_area": null,
            "grid_template_columns": null,
            "flex": null,
            "_model_name": "LayoutModel",
            "justify_items": null,
            "grid_row": null,
            "max_height": null,
            "align_content": null,
            "visibility": null,
            "align_self": null,
            "height": null,
            "min_height": null,
            "padding": null,
            "grid_auto_rows": null,
            "grid_gap": null,
            "max_width": null,
            "order": null,
            "_view_module_version": "1.2.0",
            "grid_template_areas": null,
            "object_position": null,
            "object_fit": null,
            "grid_auto_columns": null,
            "margin": null,
            "display": null,
            "left": null
          }
        },
        "3df13890cc494e03990778299dbd4738": {
          "model_module": "@jupyter-widgets/controls",
          "model_name": "HBoxModel",
          "model_module_version": "1.5.0",
          "state": {
            "_view_name": "HBoxView",
            "_dom_classes": [],
            "_model_name": "HBoxModel",
            "_view_module": "@jupyter-widgets/controls",
            "_model_module_version": "1.5.0",
            "_view_count": null,
            "_view_module_version": "1.5.0",
            "box_style": "",
            "layout": "IPY_MODEL_f524184975924da8aeb1478dee0cdc9e",
            "_model_module": "@jupyter-widgets/controls",
            "children": [
              "IPY_MODEL_0e1cd576b0074f858533ef335db3a152",
              "IPY_MODEL_b21a50601bae41c495002fb0380cba69",
              "IPY_MODEL_3a2093c7582c41e0ad3e92fc7fcc2af6"
            ]
          }
        },
        "f524184975924da8aeb1478dee0cdc9e": {
          "model_module": "@jupyter-widgets/base",
          "model_name": "LayoutModel",
          "model_module_version": "1.2.0",
          "state": {
            "_view_name": "LayoutView",
            "grid_template_rows": null,
            "right": null,
            "justify_content": null,
            "_view_module": "@jupyter-widgets/base",
            "overflow": null,
            "_model_module_version": "1.2.0",
            "_view_count": null,
            "flex_flow": null,
            "width": null,
            "min_width": null,
            "border": null,
            "align_items": null,
            "bottom": null,
            "_model_module": "@jupyter-widgets/base",
            "top": null,
            "grid_column": null,
            "overflow_y": null,
            "overflow_x": null,
            "grid_auto_flow": null,
            "grid_area": null,
            "grid_template_columns": null,
            "flex": null,
            "_model_name": "LayoutModel",
            "justify_items": null,
            "grid_row": null,
            "max_height": null,
            "align_content": null,
            "visibility": null,
            "align_self": null,
            "height": null,
            "min_height": null,
            "padding": null,
            "grid_auto_rows": null,
            "grid_gap": null,
            "max_width": null,
            "order": null,
            "_view_module_version": "1.2.0",
            "grid_template_areas": null,
            "object_position": null,
            "object_fit": null,
            "grid_auto_columns": null,
            "margin": null,
            "display": null,
            "left": null
          }
        },
        "0e1cd576b0074f858533ef335db3a152": {
          "model_module": "@jupyter-widgets/controls",
          "model_name": "HTMLModel",
          "model_module_version": "1.5.0",
          "state": {
            "_view_name": "HTMLView",
            "style": "IPY_MODEL_48a2ef6f2c6546d798aade9af8e064f8",
            "_dom_classes": [],
            "description": "",
            "_model_name": "HTMLModel",
            "placeholder": "​",
            "_view_module": "@jupyter-widgets/controls",
            "_model_module_version": "1.5.0",
            "value": "Downloading: 100%",
            "_view_count": null,
            "_view_module_version": "1.5.0",
            "description_tooltip": null,
            "_model_module": "@jupyter-widgets/controls",
            "layout": "IPY_MODEL_0343dc62531840cfb08bc0b284dcb97b"
          }
        },
        "b21a50601bae41c495002fb0380cba69": {
          "model_module": "@jupyter-widgets/controls",
          "model_name": "FloatProgressModel",
          "model_module_version": "1.5.0",
          "state": {
            "_view_name": "ProgressView",
            "style": "IPY_MODEL_75719f795fab4b9f8bc7e160da90e57d",
            "_dom_classes": [],
            "description": "",
            "_model_name": "FloatProgressModel",
            "bar_style": "success",
            "max": 321,
            "_view_module": "@jupyter-widgets/controls",
            "_model_module_version": "1.5.0",
            "value": 321,
            "_view_count": null,
            "_view_module_version": "1.5.0",
            "orientation": "horizontal",
            "min": 0,
            "description_tooltip": null,
            "_model_module": "@jupyter-widgets/controls",
            "layout": "IPY_MODEL_51c2d2f633494408bc83b83b56489c6d"
          }
        },
        "3a2093c7582c41e0ad3e92fc7fcc2af6": {
          "model_module": "@jupyter-widgets/controls",
          "model_name": "HTMLModel",
          "model_module_version": "1.5.0",
          "state": {
            "_view_name": "HTMLView",
            "style": "IPY_MODEL_f3756dba37c347cb8d857bc2cd1d6c3e",
            "_dom_classes": [],
            "description": "",
            "_model_name": "HTMLModel",
            "placeholder": "​",
            "_view_module": "@jupyter-widgets/controls",
            "_model_module_version": "1.5.0",
            "value": " 321/321 [00:00&lt;00:00, 13.9kB/s]",
            "_view_count": null,
            "_view_module_version": "1.5.0",
            "description_tooltip": null,
            "_model_module": "@jupyter-widgets/controls",
            "layout": "IPY_MODEL_669fc56323014a8c81e63cfeeec6da60"
          }
        },
        "48a2ef6f2c6546d798aade9af8e064f8": {
          "model_module": "@jupyter-widgets/controls",
          "model_name": "DescriptionStyleModel",
          "model_module_version": "1.5.0",
          "state": {
            "_view_name": "StyleView",
            "_model_name": "DescriptionStyleModel",
            "description_width": "",
            "_view_module": "@jupyter-widgets/base",
            "_model_module_version": "1.5.0",
            "_view_count": null,
            "_view_module_version": "1.2.0",
            "_model_module": "@jupyter-widgets/controls"
          }
        },
        "0343dc62531840cfb08bc0b284dcb97b": {
          "model_module": "@jupyter-widgets/base",
          "model_name": "LayoutModel",
          "model_module_version": "1.2.0",
          "state": {
            "_view_name": "LayoutView",
            "grid_template_rows": null,
            "right": null,
            "justify_content": null,
            "_view_module": "@jupyter-widgets/base",
            "overflow": null,
            "_model_module_version": "1.2.0",
            "_view_count": null,
            "flex_flow": null,
            "width": null,
            "min_width": null,
            "border": null,
            "align_items": null,
            "bottom": null,
            "_model_module": "@jupyter-widgets/base",
            "top": null,
            "grid_column": null,
            "overflow_y": null,
            "overflow_x": null,
            "grid_auto_flow": null,
            "grid_area": null,
            "grid_template_columns": null,
            "flex": null,
            "_model_name": "LayoutModel",
            "justify_items": null,
            "grid_row": null,
            "max_height": null,
            "align_content": null,
            "visibility": null,
            "align_self": null,
            "height": null,
            "min_height": null,
            "padding": null,
            "grid_auto_rows": null,
            "grid_gap": null,
            "max_width": null,
            "order": null,
            "_view_module_version": "1.2.0",
            "grid_template_areas": null,
            "object_position": null,
            "object_fit": null,
            "grid_auto_columns": null,
            "margin": null,
            "display": null,
            "left": null
          }
        },
        "75719f795fab4b9f8bc7e160da90e57d": {
          "model_module": "@jupyter-widgets/controls",
          "model_name": "ProgressStyleModel",
          "model_module_version": "1.5.0",
          "state": {
            "_view_name": "StyleView",
            "_model_name": "ProgressStyleModel",
            "description_width": "",
            "_view_module": "@jupyter-widgets/base",
            "_model_module_version": "1.5.0",
            "_view_count": null,
            "_view_module_version": "1.2.0",
            "bar_color": null,
            "_model_module": "@jupyter-widgets/controls"
          }
        },
        "51c2d2f633494408bc83b83b56489c6d": {
          "model_module": "@jupyter-widgets/base",
          "model_name": "LayoutModel",
          "model_module_version": "1.2.0",
          "state": {
            "_view_name": "LayoutView",
            "grid_template_rows": null,
            "right": null,
            "justify_content": null,
            "_view_module": "@jupyter-widgets/base",
            "overflow": null,
            "_model_module_version": "1.2.0",
            "_view_count": null,
            "flex_flow": null,
            "width": null,
            "min_width": null,
            "border": null,
            "align_items": null,
            "bottom": null,
            "_model_module": "@jupyter-widgets/base",
            "top": null,
            "grid_column": null,
            "overflow_y": null,
            "overflow_x": null,
            "grid_auto_flow": null,
            "grid_area": null,
            "grid_template_columns": null,
            "flex": null,
            "_model_name": "LayoutModel",
            "justify_items": null,
            "grid_row": null,
            "max_height": null,
            "align_content": null,
            "visibility": null,
            "align_self": null,
            "height": null,
            "min_height": null,
            "padding": null,
            "grid_auto_rows": null,
            "grid_gap": null,
            "max_width": null,
            "order": null,
            "_view_module_version": "1.2.0",
            "grid_template_areas": null,
            "object_position": null,
            "object_fit": null,
            "grid_auto_columns": null,
            "margin": null,
            "display": null,
            "left": null
          }
        },
        "f3756dba37c347cb8d857bc2cd1d6c3e": {
          "model_module": "@jupyter-widgets/controls",
          "model_name": "DescriptionStyleModel",
          "model_module_version": "1.5.0",
          "state": {
            "_view_name": "StyleView",
            "_model_name": "DescriptionStyleModel",
            "description_width": "",
            "_view_module": "@jupyter-widgets/base",
            "_model_module_version": "1.5.0",
            "_view_count": null,
            "_view_module_version": "1.2.0",
            "_model_module": "@jupyter-widgets/controls"
          }
        },
        "669fc56323014a8c81e63cfeeec6da60": {
          "model_module": "@jupyter-widgets/base",
          "model_name": "LayoutModel",
          "model_module_version": "1.2.0",
          "state": {
            "_view_name": "LayoutView",
            "grid_template_rows": null,
            "right": null,
            "justify_content": null,
            "_view_module": "@jupyter-widgets/base",
            "overflow": null,
            "_model_module_version": "1.2.0",
            "_view_count": null,
            "flex_flow": null,
            "width": null,
            "min_width": null,
            "border": null,
            "align_items": null,
            "bottom": null,
            "_model_module": "@jupyter-widgets/base",
            "top": null,
            "grid_column": null,
            "overflow_y": null,
            "overflow_x": null,
            "grid_auto_flow": null,
            "grid_area": null,
            "grid_template_columns": null,
            "flex": null,
            "_model_name": "LayoutModel",
            "justify_items": null,
            "grid_row": null,
            "max_height": null,
            "align_content": null,
            "visibility": null,
            "align_self": null,
            "height": null,
            "min_height": null,
            "padding": null,
            "grid_auto_rows": null,
            "grid_gap": null,
            "max_width": null,
            "order": null,
            "_view_module_version": "1.2.0",
            "grid_template_areas": null,
            "object_position": null,
            "object_fit": null,
            "grid_auto_columns": null,
            "margin": null,
            "display": null,
            "left": null
          }
        },
        "cd84d042fcb241199e95be55c08903c2": {
          "model_module": "@jupyter-widgets/controls",
          "model_name": "HBoxModel",
          "model_module_version": "1.5.0",
          "state": {
            "_view_name": "HBoxView",
            "_dom_classes": [],
            "_model_name": "HBoxModel",
            "_view_module": "@jupyter-widgets/controls",
            "_model_module_version": "1.5.0",
            "_view_count": null,
            "_view_module_version": "1.5.0",
            "box_style": "",
            "layout": "IPY_MODEL_daebed3d297445ab8b35af7c5f573f93",
            "_model_module": "@jupyter-widgets/controls",
            "children": [
              "IPY_MODEL_ec3bc6d11b114489aa8b0b14bcc4fb2a",
              "IPY_MODEL_f386b0c447ac48f280c825c5177cd8a7",
              "IPY_MODEL_c06558d3adeb4c4281d945de4209dbc8"
            ]
          }
        },
        "daebed3d297445ab8b35af7c5f573f93": {
          "model_module": "@jupyter-widgets/base",
          "model_name": "LayoutModel",
          "model_module_version": "1.2.0",
          "state": {
            "_view_name": "LayoutView",
            "grid_template_rows": null,
            "right": null,
            "justify_content": null,
            "_view_module": "@jupyter-widgets/base",
            "overflow": null,
            "_model_module_version": "1.2.0",
            "_view_count": null,
            "flex_flow": null,
            "width": null,
            "min_width": null,
            "border": null,
            "align_items": null,
            "bottom": null,
            "_model_module": "@jupyter-widgets/base",
            "top": null,
            "grid_column": null,
            "overflow_y": null,
            "overflow_x": null,
            "grid_auto_flow": null,
            "grid_area": null,
            "grid_template_columns": null,
            "flex": null,
            "_model_name": "LayoutModel",
            "justify_items": null,
            "grid_row": null,
            "max_height": null,
            "align_content": null,
            "visibility": null,
            "align_self": null,
            "height": null,
            "min_height": null,
            "padding": null,
            "grid_auto_rows": null,
            "grid_gap": null,
            "max_width": null,
            "order": null,
            "_view_module_version": "1.2.0",
            "grid_template_areas": null,
            "object_position": null,
            "object_fit": null,
            "grid_auto_columns": null,
            "margin": null,
            "display": null,
            "left": null
          }
        },
        "ec3bc6d11b114489aa8b0b14bcc4fb2a": {
          "model_module": "@jupyter-widgets/controls",
          "model_name": "HTMLModel",
          "model_module_version": "1.5.0",
          "state": {
            "_view_name": "HTMLView",
            "style": "IPY_MODEL_6f71974739984f6b86111aedc1ba2fbc",
            "_dom_classes": [],
            "description": "",
            "_model_name": "HTMLModel",
            "placeholder": "​",
            "_view_module": "@jupyter-widgets/controls",
            "_model_module_version": "1.5.0",
            "value": "Downloading: 100%",
            "_view_count": null,
            "_view_module_version": "1.5.0",
            "description_tooltip": null,
            "_model_module": "@jupyter-widgets/controls",
            "layout": "IPY_MODEL_7107339785864b0d9ec02c8dfb248551"
          }
        },
        "f386b0c447ac48f280c825c5177cd8a7": {
          "model_module": "@jupyter-widgets/controls",
          "model_name": "FloatProgressModel",
          "model_module_version": "1.5.0",
          "state": {
            "_view_name": "ProgressView",
            "style": "IPY_MODEL_b97861ad5975437e8c123001e2eba05e",
            "_dom_classes": [],
            "description": "",
            "_model_name": "FloatProgressModel",
            "bar_style": "success",
            "max": 612,
            "_view_module": "@jupyter-widgets/controls",
            "_model_module_version": "1.5.0",
            "value": 612,
            "_view_count": null,
            "_view_module_version": "1.5.0",
            "orientation": "horizontal",
            "min": 0,
            "description_tooltip": null,
            "_model_module": "@jupyter-widgets/controls",
            "layout": "IPY_MODEL_94ff98e45ae04a3aaf30de5c24b36c36"
          }
        },
        "c06558d3adeb4c4281d945de4209dbc8": {
          "model_module": "@jupyter-widgets/controls",
          "model_name": "HTMLModel",
          "model_module_version": "1.5.0",
          "state": {
            "_view_name": "HTMLView",
            "style": "IPY_MODEL_71132e9540e542b49ff2d0b4f0bc63ff",
            "_dom_classes": [],
            "description": "",
            "_model_name": "HTMLModel",
            "placeholder": "​",
            "_view_module": "@jupyter-widgets/controls",
            "_model_module_version": "1.5.0",
            "value": " 612/612 [00:00&lt;00:00, 24.4kB/s]",
            "_view_count": null,
            "_view_module_version": "1.5.0",
            "description_tooltip": null,
            "_model_module": "@jupyter-widgets/controls",
            "layout": "IPY_MODEL_3f3b0838a8a040999709475118abd531"
          }
        },
        "6f71974739984f6b86111aedc1ba2fbc": {
          "model_module": "@jupyter-widgets/controls",
          "model_name": "DescriptionStyleModel",
          "model_module_version": "1.5.0",
          "state": {
            "_view_name": "StyleView",
            "_model_name": "DescriptionStyleModel",
            "description_width": "",
            "_view_module": "@jupyter-widgets/base",
            "_model_module_version": "1.5.0",
            "_view_count": null,
            "_view_module_version": "1.2.0",
            "_model_module": "@jupyter-widgets/controls"
          }
        },
        "7107339785864b0d9ec02c8dfb248551": {
          "model_module": "@jupyter-widgets/base",
          "model_name": "LayoutModel",
          "model_module_version": "1.2.0",
          "state": {
            "_view_name": "LayoutView",
            "grid_template_rows": null,
            "right": null,
            "justify_content": null,
            "_view_module": "@jupyter-widgets/base",
            "overflow": null,
            "_model_module_version": "1.2.0",
            "_view_count": null,
            "flex_flow": null,
            "width": null,
            "min_width": null,
            "border": null,
            "align_items": null,
            "bottom": null,
            "_model_module": "@jupyter-widgets/base",
            "top": null,
            "grid_column": null,
            "overflow_y": null,
            "overflow_x": null,
            "grid_auto_flow": null,
            "grid_area": null,
            "grid_template_columns": null,
            "flex": null,
            "_model_name": "LayoutModel",
            "justify_items": null,
            "grid_row": null,
            "max_height": null,
            "align_content": null,
            "visibility": null,
            "align_self": null,
            "height": null,
            "min_height": null,
            "padding": null,
            "grid_auto_rows": null,
            "grid_gap": null,
            "max_width": null,
            "order": null,
            "_view_module_version": "1.2.0",
            "grid_template_areas": null,
            "object_position": null,
            "object_fit": null,
            "grid_auto_columns": null,
            "margin": null,
            "display": null,
            "left": null
          }
        },
        "b97861ad5975437e8c123001e2eba05e": {
          "model_module": "@jupyter-widgets/controls",
          "model_name": "ProgressStyleModel",
          "model_module_version": "1.5.0",
          "state": {
            "_view_name": "StyleView",
            "_model_name": "ProgressStyleModel",
            "description_width": "",
            "_view_module": "@jupyter-widgets/base",
            "_model_module_version": "1.5.0",
            "_view_count": null,
            "_view_module_version": "1.2.0",
            "bar_color": null,
            "_model_module": "@jupyter-widgets/controls"
          }
        },
        "94ff98e45ae04a3aaf30de5c24b36c36": {
          "model_module": "@jupyter-widgets/base",
          "model_name": "LayoutModel",
          "model_module_version": "1.2.0",
          "state": {
            "_view_name": "LayoutView",
            "grid_template_rows": null,
            "right": null,
            "justify_content": null,
            "_view_module": "@jupyter-widgets/base",
            "overflow": null,
            "_model_module_version": "1.2.0",
            "_view_count": null,
            "flex_flow": null,
            "width": null,
            "min_width": null,
            "border": null,
            "align_items": null,
            "bottom": null,
            "_model_module": "@jupyter-widgets/base",
            "top": null,
            "grid_column": null,
            "overflow_y": null,
            "overflow_x": null,
            "grid_auto_flow": null,
            "grid_area": null,
            "grid_template_columns": null,
            "flex": null,
            "_model_name": "LayoutModel",
            "justify_items": null,
            "grid_row": null,
            "max_height": null,
            "align_content": null,
            "visibility": null,
            "align_self": null,
            "height": null,
            "min_height": null,
            "padding": null,
            "grid_auto_rows": null,
            "grid_gap": null,
            "max_width": null,
            "order": null,
            "_view_module_version": "1.2.0",
            "grid_template_areas": null,
            "object_position": null,
            "object_fit": null,
            "grid_auto_columns": null,
            "margin": null,
            "display": null,
            "left": null
          }
        },
        "71132e9540e542b49ff2d0b4f0bc63ff": {
          "model_module": "@jupyter-widgets/controls",
          "model_name": "DescriptionStyleModel",
          "model_module_version": "1.5.0",
          "state": {
            "_view_name": "StyleView",
            "_model_name": "DescriptionStyleModel",
            "description_width": "",
            "_view_module": "@jupyter-widgets/base",
            "_model_module_version": "1.5.0",
            "_view_count": null,
            "_view_module_version": "1.2.0",
            "_model_module": "@jupyter-widgets/controls"
          }
        },
        "3f3b0838a8a040999709475118abd531": {
          "model_module": "@jupyter-widgets/base",
          "model_name": "LayoutModel",
          "model_module_version": "1.2.0",
          "state": {
            "_view_name": "LayoutView",
            "grid_template_rows": null,
            "right": null,
            "justify_content": null,
            "_view_module": "@jupyter-widgets/base",
            "overflow": null,
            "_model_module_version": "1.2.0",
            "_view_count": null,
            "flex_flow": null,
            "width": null,
            "min_width": null,
            "border": null,
            "align_items": null,
            "bottom": null,
            "_model_module": "@jupyter-widgets/base",
            "top": null,
            "grid_column": null,
            "overflow_y": null,
            "overflow_x": null,
            "grid_auto_flow": null,
            "grid_area": null,
            "grid_template_columns": null,
            "flex": null,
            "_model_name": "LayoutModel",
            "justify_items": null,
            "grid_row": null,
            "max_height": null,
            "align_content": null,
            "visibility": null,
            "align_self": null,
            "height": null,
            "min_height": null,
            "padding": null,
            "grid_auto_rows": null,
            "grid_gap": null,
            "max_width": null,
            "order": null,
            "_view_module_version": "1.2.0",
            "grid_template_areas": null,
            "object_position": null,
            "object_fit": null,
            "grid_auto_columns": null,
            "margin": null,
            "display": null,
            "left": null
          }
        },
        "0e59a24501a74766b2ef91d63c29f1d9": {
          "model_module": "@jupyter-widgets/controls",
          "model_name": "HBoxModel",
          "model_module_version": "1.5.0",
          "state": {
            "_view_name": "HBoxView",
            "_dom_classes": [],
            "_model_name": "HBoxModel",
            "_view_module": "@jupyter-widgets/controls",
            "_model_module_version": "1.5.0",
            "_view_count": null,
            "_view_module_version": "1.5.0",
            "box_style": "",
            "layout": "IPY_MODEL_3b21f038d4574ef0bc79db81d69d9f3a",
            "_model_module": "@jupyter-widgets/controls",
            "children": [
              "IPY_MODEL_5728234de8fb4eb39350afd35904984c",
              "IPY_MODEL_de0d7f9396514c379388f6bc96152bd5",
              "IPY_MODEL_4d336513949b40bba21e5b35be59bcdf"
            ]
          }
        },
        "3b21f038d4574ef0bc79db81d69d9f3a": {
          "model_module": "@jupyter-widgets/base",
          "model_name": "LayoutModel",
          "model_module_version": "1.2.0",
          "state": {
            "_view_name": "LayoutView",
            "grid_template_rows": null,
            "right": null,
            "justify_content": null,
            "_view_module": "@jupyter-widgets/base",
            "overflow": null,
            "_model_module_version": "1.2.0",
            "_view_count": null,
            "flex_flow": null,
            "width": null,
            "min_width": null,
            "border": null,
            "align_items": null,
            "bottom": null,
            "_model_module": "@jupyter-widgets/base",
            "top": null,
            "grid_column": null,
            "overflow_y": null,
            "overflow_x": null,
            "grid_auto_flow": null,
            "grid_area": null,
            "grid_template_columns": null,
            "flex": null,
            "_model_name": "LayoutModel",
            "justify_items": null,
            "grid_row": null,
            "max_height": null,
            "align_content": null,
            "visibility": null,
            "align_self": null,
            "height": null,
            "min_height": null,
            "padding": null,
            "grid_auto_rows": null,
            "grid_gap": null,
            "max_width": null,
            "order": null,
            "_view_module_version": "1.2.0",
            "grid_template_areas": null,
            "object_position": null,
            "object_fit": null,
            "grid_auto_columns": null,
            "margin": null,
            "display": null,
            "left": null
          }
        },
        "5728234de8fb4eb39350afd35904984c": {
          "model_module": "@jupyter-widgets/controls",
          "model_name": "HTMLModel",
          "model_module_version": "1.5.0",
          "state": {
            "_view_name": "HTMLView",
            "style": "IPY_MODEL_cd329f97c16c4218bccae00d755bace8",
            "_dom_classes": [],
            "description": "",
            "_model_name": "HTMLModel",
            "placeholder": "​",
            "_view_module": "@jupyter-widgets/controls",
            "_model_module_version": "1.5.0",
            "value": "Downloading: 100%",
            "_view_count": null,
            "_view_module_version": "1.5.0",
            "description_tooltip": null,
            "_model_module": "@jupyter-widgets/controls",
            "layout": "IPY_MODEL_642e57aff919487c96102853f6f6bce7"
          }
        },
        "de0d7f9396514c379388f6bc96152bd5": {
          "model_module": "@jupyter-widgets/controls",
          "model_name": "FloatProgressModel",
          "model_module_version": "1.5.0",
          "state": {
            "_view_name": "ProgressView",
            "style": "IPY_MODEL_9d0de904528040b08e4428cd9136c0f9",
            "_dom_classes": [],
            "description": "",
            "_model_name": "FloatProgressModel",
            "bar_style": "success",
            "max": 222296,
            "_view_module": "@jupyter-widgets/controls",
            "_model_module_version": "1.5.0",
            "value": 222296,
            "_view_count": null,
            "_view_module_version": "1.5.0",
            "orientation": "horizontal",
            "min": 0,
            "description_tooltip": null,
            "_model_module": "@jupyter-widgets/controls",
            "layout": "IPY_MODEL_3109456fecc54a9a88ff75cf83f2824a"
          }
        },
        "4d336513949b40bba21e5b35be59bcdf": {
          "model_module": "@jupyter-widgets/controls",
          "model_name": "HTMLModel",
          "model_module_version": "1.5.0",
          "state": {
            "_view_name": "HTMLView",
            "style": "IPY_MODEL_7d80feb794484ee0bd7d414cb4b5e151",
            "_dom_classes": [],
            "description": "",
            "_model_name": "HTMLModel",
            "placeholder": "​",
            "_view_module": "@jupyter-widgets/controls",
            "_model_module_version": "1.5.0",
            "value": " 222k/222k [00:00&lt;00:00, 743kB/s]",
            "_view_count": null,
            "_view_module_version": "1.5.0",
            "description_tooltip": null,
            "_model_module": "@jupyter-widgets/controls",
            "layout": "IPY_MODEL_9722edad5feb4500a9c25b8d249720e1"
          }
        },
        "cd329f97c16c4218bccae00d755bace8": {
          "model_module": "@jupyter-widgets/controls",
          "model_name": "DescriptionStyleModel",
          "model_module_version": "1.5.0",
          "state": {
            "_view_name": "StyleView",
            "_model_name": "DescriptionStyleModel",
            "description_width": "",
            "_view_module": "@jupyter-widgets/base",
            "_model_module_version": "1.5.0",
            "_view_count": null,
            "_view_module_version": "1.2.0",
            "_model_module": "@jupyter-widgets/controls"
          }
        },
        "642e57aff919487c96102853f6f6bce7": {
          "model_module": "@jupyter-widgets/base",
          "model_name": "LayoutModel",
          "model_module_version": "1.2.0",
          "state": {
            "_view_name": "LayoutView",
            "grid_template_rows": null,
            "right": null,
            "justify_content": null,
            "_view_module": "@jupyter-widgets/base",
            "overflow": null,
            "_model_module_version": "1.2.0",
            "_view_count": null,
            "flex_flow": null,
            "width": null,
            "min_width": null,
            "border": null,
            "align_items": null,
            "bottom": null,
            "_model_module": "@jupyter-widgets/base",
            "top": null,
            "grid_column": null,
            "overflow_y": null,
            "overflow_x": null,
            "grid_auto_flow": null,
            "grid_area": null,
            "grid_template_columns": null,
            "flex": null,
            "_model_name": "LayoutModel",
            "justify_items": null,
            "grid_row": null,
            "max_height": null,
            "align_content": null,
            "visibility": null,
            "align_self": null,
            "height": null,
            "min_height": null,
            "padding": null,
            "grid_auto_rows": null,
            "grid_gap": null,
            "max_width": null,
            "order": null,
            "_view_module_version": "1.2.0",
            "grid_template_areas": null,
            "object_position": null,
            "object_fit": null,
            "grid_auto_columns": null,
            "margin": null,
            "display": null,
            "left": null
          }
        },
        "9d0de904528040b08e4428cd9136c0f9": {
          "model_module": "@jupyter-widgets/controls",
          "model_name": "ProgressStyleModel",
          "model_module_version": "1.5.0",
          "state": {
            "_view_name": "StyleView",
            "_model_name": "ProgressStyleModel",
            "description_width": "",
            "_view_module": "@jupyter-widgets/base",
            "_model_module_version": "1.5.0",
            "_view_count": null,
            "_view_module_version": "1.2.0",
            "bar_color": null,
            "_model_module": "@jupyter-widgets/controls"
          }
        },
        "3109456fecc54a9a88ff75cf83f2824a": {
          "model_module": "@jupyter-widgets/base",
          "model_name": "LayoutModel",
          "model_module_version": "1.2.0",
          "state": {
            "_view_name": "LayoutView",
            "grid_template_rows": null,
            "right": null,
            "justify_content": null,
            "_view_module": "@jupyter-widgets/base",
            "overflow": null,
            "_model_module_version": "1.2.0",
            "_view_count": null,
            "flex_flow": null,
            "width": null,
            "min_width": null,
            "border": null,
            "align_items": null,
            "bottom": null,
            "_model_module": "@jupyter-widgets/base",
            "top": null,
            "grid_column": null,
            "overflow_y": null,
            "overflow_x": null,
            "grid_auto_flow": null,
            "grid_area": null,
            "grid_template_columns": null,
            "flex": null,
            "_model_name": "LayoutModel",
            "justify_items": null,
            "grid_row": null,
            "max_height": null,
            "align_content": null,
            "visibility": null,
            "align_self": null,
            "height": null,
            "min_height": null,
            "padding": null,
            "grid_auto_rows": null,
            "grid_gap": null,
            "max_width": null,
            "order": null,
            "_view_module_version": "1.2.0",
            "grid_template_areas": null,
            "object_position": null,
            "object_fit": null,
            "grid_auto_columns": null,
            "margin": null,
            "display": null,
            "left": null
          }
        },
        "7d80feb794484ee0bd7d414cb4b5e151": {
          "model_module": "@jupyter-widgets/controls",
          "model_name": "DescriptionStyleModel",
          "model_module_version": "1.5.0",
          "state": {
            "_view_name": "StyleView",
            "_model_name": "DescriptionStyleModel",
            "description_width": "",
            "_view_module": "@jupyter-widgets/base",
            "_model_module_version": "1.5.0",
            "_view_count": null,
            "_view_module_version": "1.2.0",
            "_model_module": "@jupyter-widgets/controls"
          }
        },
        "9722edad5feb4500a9c25b8d249720e1": {
          "model_module": "@jupyter-widgets/base",
          "model_name": "LayoutModel",
          "model_module_version": "1.2.0",
          "state": {
            "_view_name": "LayoutView",
            "grid_template_rows": null,
            "right": null,
            "justify_content": null,
            "_view_module": "@jupyter-widgets/base",
            "overflow": null,
            "_model_module_version": "1.2.0",
            "_view_count": null,
            "flex_flow": null,
            "width": null,
            "min_width": null,
            "border": null,
            "align_items": null,
            "bottom": null,
            "_model_module": "@jupyter-widgets/base",
            "top": null,
            "grid_column": null,
            "overflow_y": null,
            "overflow_x": null,
            "grid_auto_flow": null,
            "grid_area": null,
            "grid_template_columns": null,
            "flex": null,
            "_model_name": "LayoutModel",
            "justify_items": null,
            "grid_row": null,
            "max_height": null,
            "align_content": null,
            "visibility": null,
            "align_self": null,
            "height": null,
            "min_height": null,
            "padding": null,
            "grid_auto_rows": null,
            "grid_gap": null,
            "max_width": null,
            "order": null,
            "_view_module_version": "1.2.0",
            "grid_template_areas": null,
            "object_position": null,
            "object_fit": null,
            "grid_auto_columns": null,
            "margin": null,
            "display": null,
            "left": null
          }
        },
        "eb4d1d93f8434174a1f3e6e3e762dcc9": {
          "model_module": "@jupyter-widgets/controls",
          "model_name": "HBoxModel",
          "model_module_version": "1.5.0",
          "state": {
            "_view_name": "HBoxView",
            "_dom_classes": [],
            "_model_name": "HBoxModel",
            "_view_module": "@jupyter-widgets/controls",
            "_model_module_version": "1.5.0",
            "_view_count": null,
            "_view_module_version": "1.5.0",
            "box_style": "",
            "layout": "IPY_MODEL_71dcbcf63fce48179fe98690f66597af",
            "_model_module": "@jupyter-widgets/controls",
            "children": [
              "IPY_MODEL_109ad4155a764b4199f26906ea9f4389",
              "IPY_MODEL_a8d614b6e43e431587f8412eeb10279b",
              "IPY_MODEL_fd7bffd2ae6949a5821ec89bcf23b551"
            ]
          }
        },
        "71dcbcf63fce48179fe98690f66597af": {
          "model_module": "@jupyter-widgets/base",
          "model_name": "LayoutModel",
          "model_module_version": "1.2.0",
          "state": {
            "_view_name": "LayoutView",
            "grid_template_rows": null,
            "right": null,
            "justify_content": null,
            "_view_module": "@jupyter-widgets/base",
            "overflow": null,
            "_model_module_version": "1.2.0",
            "_view_count": null,
            "flex_flow": null,
            "width": null,
            "min_width": null,
            "border": null,
            "align_items": null,
            "bottom": null,
            "_model_module": "@jupyter-widgets/base",
            "top": null,
            "grid_column": null,
            "overflow_y": null,
            "overflow_x": null,
            "grid_auto_flow": null,
            "grid_area": null,
            "grid_template_columns": null,
            "flex": null,
            "_model_name": "LayoutModel",
            "justify_items": null,
            "grid_row": null,
            "max_height": null,
            "align_content": null,
            "visibility": null,
            "align_self": null,
            "height": null,
            "min_height": null,
            "padding": null,
            "grid_auto_rows": null,
            "grid_gap": null,
            "max_width": null,
            "order": null,
            "_view_module_version": "1.2.0",
            "grid_template_areas": null,
            "object_position": null,
            "object_fit": null,
            "grid_auto_columns": null,
            "margin": null,
            "display": null,
            "left": null
          }
        },
        "109ad4155a764b4199f26906ea9f4389": {
          "model_module": "@jupyter-widgets/controls",
          "model_name": "HTMLModel",
          "model_module_version": "1.5.0",
          "state": {
            "_view_name": "HTMLView",
            "style": "IPY_MODEL_7a3e12654abe49d8aeb4538e7b2ad430",
            "_dom_classes": [],
            "description": "",
            "_model_name": "HTMLModel",
            "placeholder": "​",
            "_view_module": "@jupyter-widgets/controls",
            "_model_module_version": "1.5.0",
            "value": "Downloading: 100%",
            "_view_count": null,
            "_view_module_version": "1.5.0",
            "description_tooltip": null,
            "_model_module": "@jupyter-widgets/controls",
            "layout": "IPY_MODEL_8ff35d7e55694f7da03a1cfd42d80c88"
          }
        },
        "a8d614b6e43e431587f8412eeb10279b": {
          "model_module": "@jupyter-widgets/controls",
          "model_name": "FloatProgressModel",
          "model_module_version": "1.5.0",
          "state": {
            "_view_name": "ProgressView",
            "style": "IPY_MODEL_b770c04cd99345589297561ddf00fabf",
            "_dom_classes": [],
            "description": "",
            "_model_name": "FloatProgressModel",
            "bar_style": "success",
            "max": 112,
            "_view_module": "@jupyter-widgets/controls",
            "_model_module_version": "1.5.0",
            "value": 112,
            "_view_count": null,
            "_view_module_version": "1.5.0",
            "orientation": "horizontal",
            "min": 0,
            "description_tooltip": null,
            "_model_module": "@jupyter-widgets/controls",
            "layout": "IPY_MODEL_4817dd1340f14539b4428706cf9220cf"
          }
        },
        "fd7bffd2ae6949a5821ec89bcf23b551": {
          "model_module": "@jupyter-widgets/controls",
          "model_name": "HTMLModel",
          "model_module_version": "1.5.0",
          "state": {
            "_view_name": "HTMLView",
            "style": "IPY_MODEL_6200e124418a41a8b9bfd9477958a93c",
            "_dom_classes": [],
            "description": "",
            "_model_name": "HTMLModel",
            "placeholder": "​",
            "_view_module": "@jupyter-widgets/controls",
            "_model_module_version": "1.5.0",
            "value": " 112/112 [00:00&lt;00:00, 4.29kB/s]",
            "_view_count": null,
            "_view_module_version": "1.5.0",
            "description_tooltip": null,
            "_model_module": "@jupyter-widgets/controls",
            "layout": "IPY_MODEL_781d8c5a83a6453da7af7d0216defa48"
          }
        },
        "7a3e12654abe49d8aeb4538e7b2ad430": {
          "model_module": "@jupyter-widgets/controls",
          "model_name": "DescriptionStyleModel",
          "model_module_version": "1.5.0",
          "state": {
            "_view_name": "StyleView",
            "_model_name": "DescriptionStyleModel",
            "description_width": "",
            "_view_module": "@jupyter-widgets/base",
            "_model_module_version": "1.5.0",
            "_view_count": null,
            "_view_module_version": "1.2.0",
            "_model_module": "@jupyter-widgets/controls"
          }
        },
        "8ff35d7e55694f7da03a1cfd42d80c88": {
          "model_module": "@jupyter-widgets/base",
          "model_name": "LayoutModel",
          "model_module_version": "1.2.0",
          "state": {
            "_view_name": "LayoutView",
            "grid_template_rows": null,
            "right": null,
            "justify_content": null,
            "_view_module": "@jupyter-widgets/base",
            "overflow": null,
            "_model_module_version": "1.2.0",
            "_view_count": null,
            "flex_flow": null,
            "width": null,
            "min_width": null,
            "border": null,
            "align_items": null,
            "bottom": null,
            "_model_module": "@jupyter-widgets/base",
            "top": null,
            "grid_column": null,
            "overflow_y": null,
            "overflow_x": null,
            "grid_auto_flow": null,
            "grid_area": null,
            "grid_template_columns": null,
            "flex": null,
            "_model_name": "LayoutModel",
            "justify_items": null,
            "grid_row": null,
            "max_height": null,
            "align_content": null,
            "visibility": null,
            "align_self": null,
            "height": null,
            "min_height": null,
            "padding": null,
            "grid_auto_rows": null,
            "grid_gap": null,
            "max_width": null,
            "order": null,
            "_view_module_version": "1.2.0",
            "grid_template_areas": null,
            "object_position": null,
            "object_fit": null,
            "grid_auto_columns": null,
            "margin": null,
            "display": null,
            "left": null
          }
        },
        "b770c04cd99345589297561ddf00fabf": {
          "model_module": "@jupyter-widgets/controls",
          "model_name": "ProgressStyleModel",
          "model_module_version": "1.5.0",
          "state": {
            "_view_name": "StyleView",
            "_model_name": "ProgressStyleModel",
            "description_width": "",
            "_view_module": "@jupyter-widgets/base",
            "_model_module_version": "1.5.0",
            "_view_count": null,
            "_view_module_version": "1.2.0",
            "bar_color": null,
            "_model_module": "@jupyter-widgets/controls"
          }
        },
        "4817dd1340f14539b4428706cf9220cf": {
          "model_module": "@jupyter-widgets/base",
          "model_name": "LayoutModel",
          "model_module_version": "1.2.0",
          "state": {
            "_view_name": "LayoutView",
            "grid_template_rows": null,
            "right": null,
            "justify_content": null,
            "_view_module": "@jupyter-widgets/base",
            "overflow": null,
            "_model_module_version": "1.2.0",
            "_view_count": null,
            "flex_flow": null,
            "width": null,
            "min_width": null,
            "border": null,
            "align_items": null,
            "bottom": null,
            "_model_module": "@jupyter-widgets/base",
            "top": null,
            "grid_column": null,
            "overflow_y": null,
            "overflow_x": null,
            "grid_auto_flow": null,
            "grid_area": null,
            "grid_template_columns": null,
            "flex": null,
            "_model_name": "LayoutModel",
            "justify_items": null,
            "grid_row": null,
            "max_height": null,
            "align_content": null,
            "visibility": null,
            "align_self": null,
            "height": null,
            "min_height": null,
            "padding": null,
            "grid_auto_rows": null,
            "grid_gap": null,
            "max_width": null,
            "order": null,
            "_view_module_version": "1.2.0",
            "grid_template_areas": null,
            "object_position": null,
            "object_fit": null,
            "grid_auto_columns": null,
            "margin": null,
            "display": null,
            "left": null
          }
        },
        "6200e124418a41a8b9bfd9477958a93c": {
          "model_module": "@jupyter-widgets/controls",
          "model_name": "DescriptionStyleModel",
          "model_module_version": "1.5.0",
          "state": {
            "_view_name": "StyleView",
            "_model_name": "DescriptionStyleModel",
            "description_width": "",
            "_view_module": "@jupyter-widgets/base",
            "_model_module_version": "1.5.0",
            "_view_count": null,
            "_view_module_version": "1.2.0",
            "_model_module": "@jupyter-widgets/controls"
          }
        },
        "781d8c5a83a6453da7af7d0216defa48": {
          "model_module": "@jupyter-widgets/base",
          "model_name": "LayoutModel",
          "model_module_version": "1.2.0",
          "state": {
            "_view_name": "LayoutView",
            "grid_template_rows": null,
            "right": null,
            "justify_content": null,
            "_view_module": "@jupyter-widgets/base",
            "overflow": null,
            "_model_module_version": "1.2.0",
            "_view_count": null,
            "flex_flow": null,
            "width": null,
            "min_width": null,
            "border": null,
            "align_items": null,
            "bottom": null,
            "_model_module": "@jupyter-widgets/base",
            "top": null,
            "grid_column": null,
            "overflow_y": null,
            "overflow_x": null,
            "grid_auto_flow": null,
            "grid_area": null,
            "grid_template_columns": null,
            "flex": null,
            "_model_name": "LayoutModel",
            "justify_items": null,
            "grid_row": null,
            "max_height": null,
            "align_content": null,
            "visibility": null,
            "align_self": null,
            "height": null,
            "min_height": null,
            "padding": null,
            "grid_auto_rows": null,
            "grid_gap": null,
            "max_width": null,
            "order": null,
            "_view_module_version": "1.2.0",
            "grid_template_areas": null,
            "object_position": null,
            "object_fit": null,
            "grid_auto_columns": null,
            "margin": null,
            "display": null,
            "left": null
          }
        },
        "956d7252a68d4af7aabbede630c47b42": {
          "model_module": "@jupyter-widgets/controls",
          "model_name": "HBoxModel",
          "model_module_version": "1.5.0",
          "state": {
            "_view_name": "HBoxView",
            "_dom_classes": [],
            "_model_name": "HBoxModel",
            "_view_module": "@jupyter-widgets/controls",
            "_model_module_version": "1.5.0",
            "_view_count": null,
            "_view_module_version": "1.5.0",
            "box_style": "",
            "layout": "IPY_MODEL_fc4f1debf3bd44b1ba0f88bb688cf6c2",
            "_model_module": "@jupyter-widgets/controls",
            "children": [
              "IPY_MODEL_0e5e7361cab34923a2931de3202078fb",
              "IPY_MODEL_0efd924cc4b34bfe94f4e537c37a7040",
              "IPY_MODEL_b6150ddaab1c4b5bbc88f1820820e4fd"
            ]
          }
        },
        "fc4f1debf3bd44b1ba0f88bb688cf6c2": {
          "model_module": "@jupyter-widgets/base",
          "model_name": "LayoutModel",
          "model_module_version": "1.2.0",
          "state": {
            "_view_name": "LayoutView",
            "grid_template_rows": null,
            "right": null,
            "justify_content": null,
            "_view_module": "@jupyter-widgets/base",
            "overflow": null,
            "_model_module_version": "1.2.0",
            "_view_count": null,
            "flex_flow": null,
            "width": null,
            "min_width": null,
            "border": null,
            "align_items": null,
            "bottom": null,
            "_model_module": "@jupyter-widgets/base",
            "top": null,
            "grid_column": null,
            "overflow_y": null,
            "overflow_x": null,
            "grid_auto_flow": null,
            "grid_area": null,
            "grid_template_columns": null,
            "flex": null,
            "_model_name": "LayoutModel",
            "justify_items": null,
            "grid_row": null,
            "max_height": null,
            "align_content": null,
            "visibility": null,
            "align_self": null,
            "height": null,
            "min_height": null,
            "padding": null,
            "grid_auto_rows": null,
            "grid_gap": null,
            "max_width": null,
            "order": null,
            "_view_module_version": "1.2.0",
            "grid_template_areas": null,
            "object_position": null,
            "object_fit": null,
            "grid_auto_columns": null,
            "margin": null,
            "display": null,
            "left": null
          }
        },
        "0e5e7361cab34923a2931de3202078fb": {
          "model_module": "@jupyter-widgets/controls",
          "model_name": "HTMLModel",
          "model_module_version": "1.5.0",
          "state": {
            "_view_name": "HTMLView",
            "style": "IPY_MODEL_8652ed73f2994115a36210014772650a",
            "_dom_classes": [],
            "description": "",
            "_model_name": "HTMLModel",
            "placeholder": "​",
            "_view_module": "@jupyter-widgets/controls",
            "_model_module_version": "1.5.0",
            "value": "Downloading: 100%",
            "_view_count": null,
            "_view_module_version": "1.5.0",
            "description_tooltip": null,
            "_model_module": "@jupyter-widgets/controls",
            "layout": "IPY_MODEL_6ccdff29406840fa8b1bb672f9a21d30"
          }
        },
        "0efd924cc4b34bfe94f4e537c37a7040": {
          "model_module": "@jupyter-widgets/controls",
          "model_name": "FloatProgressModel",
          "model_module_version": "1.5.0",
          "state": {
            "_view_name": "ProgressView",
            "style": "IPY_MODEL_7547154128a44fbfb102f03ff319f550",
            "_dom_classes": [],
            "description": "",
            "_model_name": "FloatProgressModel",
            "bar_style": "success",
            "max": 439803023,
            "_view_module": "@jupyter-widgets/controls",
            "_model_module_version": "1.5.0",
            "value": 439803023,
            "_view_count": null,
            "_view_module_version": "1.5.0",
            "orientation": "horizontal",
            "min": 0,
            "description_tooltip": null,
            "_model_module": "@jupyter-widgets/controls",
            "layout": "IPY_MODEL_cbc3e911771a4afc97272c6756b5c66d"
          }
        },
        "b6150ddaab1c4b5bbc88f1820820e4fd": {
          "model_module": "@jupyter-widgets/controls",
          "model_name": "HTMLModel",
          "model_module_version": "1.5.0",
          "state": {
            "_view_name": "HTMLView",
            "style": "IPY_MODEL_8a5e9a3254af4c4c8f85bad4f368302e",
            "_dom_classes": [],
            "description": "",
            "_model_name": "HTMLModel",
            "placeholder": "​",
            "_view_module": "@jupyter-widgets/controls",
            "_model_module_version": "1.5.0",
            "value": " 440M/440M [00:07&lt;00:00, 58.2MB/s]",
            "_view_count": null,
            "_view_module_version": "1.5.0",
            "description_tooltip": null,
            "_model_module": "@jupyter-widgets/controls",
            "layout": "IPY_MODEL_eb2cbb9ae3724d66bdda9c42b3c75046"
          }
        },
        "8652ed73f2994115a36210014772650a": {
          "model_module": "@jupyter-widgets/controls",
          "model_name": "DescriptionStyleModel",
          "model_module_version": "1.5.0",
          "state": {
            "_view_name": "StyleView",
            "_model_name": "DescriptionStyleModel",
            "description_width": "",
            "_view_module": "@jupyter-widgets/base",
            "_model_module_version": "1.5.0",
            "_view_count": null,
            "_view_module_version": "1.2.0",
            "_model_module": "@jupyter-widgets/controls"
          }
        },
        "6ccdff29406840fa8b1bb672f9a21d30": {
          "model_module": "@jupyter-widgets/base",
          "model_name": "LayoutModel",
          "model_module_version": "1.2.0",
          "state": {
            "_view_name": "LayoutView",
            "grid_template_rows": null,
            "right": null,
            "justify_content": null,
            "_view_module": "@jupyter-widgets/base",
            "overflow": null,
            "_model_module_version": "1.2.0",
            "_view_count": null,
            "flex_flow": null,
            "width": null,
            "min_width": null,
            "border": null,
            "align_items": null,
            "bottom": null,
            "_model_module": "@jupyter-widgets/base",
            "top": null,
            "grid_column": null,
            "overflow_y": null,
            "overflow_x": null,
            "grid_auto_flow": null,
            "grid_area": null,
            "grid_template_columns": null,
            "flex": null,
            "_model_name": "LayoutModel",
            "justify_items": null,
            "grid_row": null,
            "max_height": null,
            "align_content": null,
            "visibility": null,
            "align_self": null,
            "height": null,
            "min_height": null,
            "padding": null,
            "grid_auto_rows": null,
            "grid_gap": null,
            "max_width": null,
            "order": null,
            "_view_module_version": "1.2.0",
            "grid_template_areas": null,
            "object_position": null,
            "object_fit": null,
            "grid_auto_columns": null,
            "margin": null,
            "display": null,
            "left": null
          }
        },
        "7547154128a44fbfb102f03ff319f550": {
          "model_module": "@jupyter-widgets/controls",
          "model_name": "ProgressStyleModel",
          "model_module_version": "1.5.0",
          "state": {
            "_view_name": "StyleView",
            "_model_name": "ProgressStyleModel",
            "description_width": "",
            "_view_module": "@jupyter-widgets/base",
            "_model_module_version": "1.5.0",
            "_view_count": null,
            "_view_module_version": "1.2.0",
            "bar_color": null,
            "_model_module": "@jupyter-widgets/controls"
          }
        },
        "cbc3e911771a4afc97272c6756b5c66d": {
          "model_module": "@jupyter-widgets/base",
          "model_name": "LayoutModel",
          "model_module_version": "1.2.0",
          "state": {
            "_view_name": "LayoutView",
            "grid_template_rows": null,
            "right": null,
            "justify_content": null,
            "_view_module": "@jupyter-widgets/base",
            "overflow": null,
            "_model_module_version": "1.2.0",
            "_view_count": null,
            "flex_flow": null,
            "width": null,
            "min_width": null,
            "border": null,
            "align_items": null,
            "bottom": null,
            "_model_module": "@jupyter-widgets/base",
            "top": null,
            "grid_column": null,
            "overflow_y": null,
            "overflow_x": null,
            "grid_auto_flow": null,
            "grid_area": null,
            "grid_template_columns": null,
            "flex": null,
            "_model_name": "LayoutModel",
            "justify_items": null,
            "grid_row": null,
            "max_height": null,
            "align_content": null,
            "visibility": null,
            "align_self": null,
            "height": null,
            "min_height": null,
            "padding": null,
            "grid_auto_rows": null,
            "grid_gap": null,
            "max_width": null,
            "order": null,
            "_view_module_version": "1.2.0",
            "grid_template_areas": null,
            "object_position": null,
            "object_fit": null,
            "grid_auto_columns": null,
            "margin": null,
            "display": null,
            "left": null
          }
        },
        "8a5e9a3254af4c4c8f85bad4f368302e": {
          "model_module": "@jupyter-widgets/controls",
          "model_name": "DescriptionStyleModel",
          "model_module_version": "1.5.0",
          "state": {
            "_view_name": "StyleView",
            "_model_name": "DescriptionStyleModel",
            "description_width": "",
            "_view_module": "@jupyter-widgets/base",
            "_model_module_version": "1.5.0",
            "_view_count": null,
            "_view_module_version": "1.2.0",
            "_model_module": "@jupyter-widgets/controls"
          }
        },
        "eb2cbb9ae3724d66bdda9c42b3c75046": {
          "model_module": "@jupyter-widgets/base",
          "model_name": "LayoutModel",
          "model_module_version": "1.2.0",
          "state": {
            "_view_name": "LayoutView",
            "grid_template_rows": null,
            "right": null,
            "justify_content": null,
            "_view_module": "@jupyter-widgets/base",
            "overflow": null,
            "_model_module_version": "1.2.0",
            "_view_count": null,
            "flex_flow": null,
            "width": null,
            "min_width": null,
            "border": null,
            "align_items": null,
            "bottom": null,
            "_model_module": "@jupyter-widgets/base",
            "top": null,
            "grid_column": null,
            "overflow_y": null,
            "overflow_x": null,
            "grid_auto_flow": null,
            "grid_area": null,
            "grid_template_columns": null,
            "flex": null,
            "_model_name": "LayoutModel",
            "justify_items": null,
            "grid_row": null,
            "max_height": null,
            "align_content": null,
            "visibility": null,
            "align_self": null,
            "height": null,
            "min_height": null,
            "padding": null,
            "grid_auto_rows": null,
            "grid_gap": null,
            "max_width": null,
            "order": null,
            "_view_module_version": "1.2.0",
            "grid_template_areas": null,
            "object_position": null,
            "object_fit": null,
            "grid_auto_columns": null,
            "margin": null,
            "display": null,
            "left": null
          }
        },
        "36e1464cd21140dd9d33bc4ff7fe514d": {
          "model_module": "@jupyter-widgets/controls",
          "model_name": "HBoxModel",
          "model_module_version": "1.5.0",
          "state": {
            "_view_name": "HBoxView",
            "_dom_classes": [],
            "_model_name": "HBoxModel",
            "_view_module": "@jupyter-widgets/controls",
            "_model_module_version": "1.5.0",
            "_view_count": null,
            "_view_module_version": "1.5.0",
            "box_style": "",
            "layout": "IPY_MODEL_8dd7467755ca45f593845d0e11fe46f7",
            "_model_module": "@jupyter-widgets/controls",
            "children": [
              "IPY_MODEL_0ce33de243874c809d063a7bc6d32f04",
              "IPY_MODEL_8a74ed210d3645e09686a15abd151d2c",
              "IPY_MODEL_2223260321284bd888dd42c642111293"
            ]
          }
        },
        "8dd7467755ca45f593845d0e11fe46f7": {
          "model_module": "@jupyter-widgets/base",
          "model_name": "LayoutModel",
          "model_module_version": "1.2.0",
          "state": {
            "_view_name": "LayoutView",
            "grid_template_rows": null,
            "right": null,
            "justify_content": null,
            "_view_module": "@jupyter-widgets/base",
            "overflow": null,
            "_model_module_version": "1.2.0",
            "_view_count": null,
            "flex_flow": "row wrap",
            "width": "100%",
            "min_width": null,
            "border": null,
            "align_items": null,
            "bottom": null,
            "_model_module": "@jupyter-widgets/base",
            "top": null,
            "grid_column": null,
            "overflow_y": null,
            "overflow_x": null,
            "grid_auto_flow": null,
            "grid_area": null,
            "grid_template_columns": null,
            "flex": null,
            "_model_name": "LayoutModel",
            "justify_items": null,
            "grid_row": null,
            "max_height": null,
            "align_content": null,
            "visibility": null,
            "align_self": null,
            "height": null,
            "min_height": null,
            "padding": null,
            "grid_auto_rows": null,
            "grid_gap": null,
            "max_width": null,
            "order": null,
            "_view_module_version": "1.2.0",
            "grid_template_areas": null,
            "object_position": null,
            "object_fit": null,
            "grid_auto_columns": null,
            "margin": null,
            "display": "inline-flex",
            "left": null
          }
        },
        "0ce33de243874c809d063a7bc6d32f04": {
          "model_module": "@jupyter-widgets/controls",
          "model_name": "HTMLModel",
          "model_module_version": "1.5.0",
          "state": {
            "_view_name": "HTMLView",
            "style": "IPY_MODEL_26de42e2bdcd40a6aabf0005e98de09c",
            "_dom_classes": [],
            "description": "",
            "_model_name": "HTMLModel",
            "placeholder": "​",
            "_view_module": "@jupyter-widgets/controls",
            "_model_module_version": "1.5.0",
            "value": "Validation sanity check:   0%",
            "_view_count": null,
            "_view_module_version": "1.5.0",
            "description_tooltip": null,
            "_model_module": "@jupyter-widgets/controls",
            "layout": "IPY_MODEL_3133d5acf9ef44fe8d8ffb7ef1b67e45"
          }
        },
        "8a74ed210d3645e09686a15abd151d2c": {
          "model_module": "@jupyter-widgets/controls",
          "model_name": "FloatProgressModel",
          "model_module_version": "1.5.0",
          "state": {
            "_view_name": "ProgressView",
            "style": "IPY_MODEL_2ec8bda9993549fc8cfe6a5374dcab14",
            "_dom_classes": [],
            "description": "",
            "_model_name": "FloatProgressModel",
            "bar_style": "danger",
            "max": 2,
            "_view_module": "@jupyter-widgets/controls",
            "_model_module_version": "1.5.0",
            "value": 0,
            "_view_count": null,
            "_view_module_version": "1.5.0",
            "orientation": "horizontal",
            "min": 0,
            "description_tooltip": null,
            "_model_module": "@jupyter-widgets/controls",
            "layout": "IPY_MODEL_98d1c7a8d8e34796bce8a8805cde6b0a"
          }
        },
        "2223260321284bd888dd42c642111293": {
          "model_module": "@jupyter-widgets/controls",
          "model_name": "HTMLModel",
          "model_module_version": "1.5.0",
          "state": {
            "_view_name": "HTMLView",
            "style": "IPY_MODEL_8085ac2da9d341fb8f56e75c70fd6591",
            "_dom_classes": [],
            "description": "",
            "_model_name": "HTMLModel",
            "placeholder": "​",
            "_view_module": "@jupyter-widgets/controls",
            "_model_module_version": "1.5.0",
            "value": " 0/2 [00:00&lt;?, ?it/s]",
            "_view_count": null,
            "_view_module_version": "1.5.0",
            "description_tooltip": null,
            "_model_module": "@jupyter-widgets/controls",
            "layout": "IPY_MODEL_0f6f6c166d7648d3b1193f2f92c67c87"
          }
        },
        "26de42e2bdcd40a6aabf0005e98de09c": {
          "model_module": "@jupyter-widgets/controls",
          "model_name": "DescriptionStyleModel",
          "model_module_version": "1.5.0",
          "state": {
            "_view_name": "StyleView",
            "_model_name": "DescriptionStyleModel",
            "description_width": "",
            "_view_module": "@jupyter-widgets/base",
            "_model_module_version": "1.5.0",
            "_view_count": null,
            "_view_module_version": "1.2.0",
            "_model_module": "@jupyter-widgets/controls"
          }
        },
        "3133d5acf9ef44fe8d8ffb7ef1b67e45": {
          "model_module": "@jupyter-widgets/base",
          "model_name": "LayoutModel",
          "model_module_version": "1.2.0",
          "state": {
            "_view_name": "LayoutView",
            "grid_template_rows": null,
            "right": null,
            "justify_content": null,
            "_view_module": "@jupyter-widgets/base",
            "overflow": null,
            "_model_module_version": "1.2.0",
            "_view_count": null,
            "flex_flow": null,
            "width": null,
            "min_width": null,
            "border": null,
            "align_items": null,
            "bottom": null,
            "_model_module": "@jupyter-widgets/base",
            "top": null,
            "grid_column": null,
            "overflow_y": null,
            "overflow_x": null,
            "grid_auto_flow": null,
            "grid_area": null,
            "grid_template_columns": null,
            "flex": null,
            "_model_name": "LayoutModel",
            "justify_items": null,
            "grid_row": null,
            "max_height": null,
            "align_content": null,
            "visibility": null,
            "align_self": null,
            "height": null,
            "min_height": null,
            "padding": null,
            "grid_auto_rows": null,
            "grid_gap": null,
            "max_width": null,
            "order": null,
            "_view_module_version": "1.2.0",
            "grid_template_areas": null,
            "object_position": null,
            "object_fit": null,
            "grid_auto_columns": null,
            "margin": null,
            "display": null,
            "left": null
          }
        },
        "2ec8bda9993549fc8cfe6a5374dcab14": {
          "model_module": "@jupyter-widgets/controls",
          "model_name": "ProgressStyleModel",
          "model_module_version": "1.5.0",
          "state": {
            "_view_name": "StyleView",
            "_model_name": "ProgressStyleModel",
            "description_width": "",
            "_view_module": "@jupyter-widgets/base",
            "_model_module_version": "1.5.0",
            "_view_count": null,
            "_view_module_version": "1.2.0",
            "bar_color": null,
            "_model_module": "@jupyter-widgets/controls"
          }
        },
        "98d1c7a8d8e34796bce8a8805cde6b0a": {
          "model_module": "@jupyter-widgets/base",
          "model_name": "LayoutModel",
          "model_module_version": "1.2.0",
          "state": {
            "_view_name": "LayoutView",
            "grid_template_rows": null,
            "right": null,
            "justify_content": null,
            "_view_module": "@jupyter-widgets/base",
            "overflow": null,
            "_model_module_version": "1.2.0",
            "_view_count": null,
            "flex_flow": null,
            "width": null,
            "min_width": null,
            "border": null,
            "align_items": null,
            "bottom": null,
            "_model_module": "@jupyter-widgets/base",
            "top": null,
            "grid_column": null,
            "overflow_y": null,
            "overflow_x": null,
            "grid_auto_flow": null,
            "grid_area": null,
            "grid_template_columns": null,
            "flex": "2",
            "_model_name": "LayoutModel",
            "justify_items": null,
            "grid_row": null,
            "max_height": null,
            "align_content": null,
            "visibility": null,
            "align_self": null,
            "height": null,
            "min_height": null,
            "padding": null,
            "grid_auto_rows": null,
            "grid_gap": null,
            "max_width": null,
            "order": null,
            "_view_module_version": "1.2.0",
            "grid_template_areas": null,
            "object_position": null,
            "object_fit": null,
            "grid_auto_columns": null,
            "margin": null,
            "display": null,
            "left": null
          }
        },
        "8085ac2da9d341fb8f56e75c70fd6591": {
          "model_module": "@jupyter-widgets/controls",
          "model_name": "DescriptionStyleModel",
          "model_module_version": "1.5.0",
          "state": {
            "_view_name": "StyleView",
            "_model_name": "DescriptionStyleModel",
            "description_width": "",
            "_view_module": "@jupyter-widgets/base",
            "_model_module_version": "1.5.0",
            "_view_count": null,
            "_view_module_version": "1.2.0",
            "_model_module": "@jupyter-widgets/controls"
          }
        },
        "0f6f6c166d7648d3b1193f2f92c67c87": {
          "model_module": "@jupyter-widgets/base",
          "model_name": "LayoutModel",
          "model_module_version": "1.2.0",
          "state": {
            "_view_name": "LayoutView",
            "grid_template_rows": null,
            "right": null,
            "justify_content": null,
            "_view_module": "@jupyter-widgets/base",
            "overflow": null,
            "_model_module_version": "1.2.0",
            "_view_count": null,
            "flex_flow": null,
            "width": null,
            "min_width": null,
            "border": null,
            "align_items": null,
            "bottom": null,
            "_model_module": "@jupyter-widgets/base",
            "top": null,
            "grid_column": null,
            "overflow_y": null,
            "overflow_x": null,
            "grid_auto_flow": null,
            "grid_area": null,
            "grid_template_columns": null,
            "flex": null,
            "_model_name": "LayoutModel",
            "justify_items": null,
            "grid_row": null,
            "max_height": null,
            "align_content": null,
            "visibility": null,
            "align_self": null,
            "height": null,
            "min_height": null,
            "padding": null,
            "grid_auto_rows": null,
            "grid_gap": null,
            "max_width": null,
            "order": null,
            "_view_module_version": "1.2.0",
            "grid_template_areas": null,
            "object_position": null,
            "object_fit": null,
            "grid_auto_columns": null,
            "margin": null,
            "display": null,
            "left": null
          }
        },
        "3d7715e955774a499d476875e58717fe": {
          "model_module": "@jupyter-widgets/controls",
          "model_name": "HBoxModel",
          "model_module_version": "1.5.0",
          "state": {
            "_view_name": "HBoxView",
            "_dom_classes": [],
            "_model_name": "HBoxModel",
            "_view_module": "@jupyter-widgets/controls",
            "_model_module_version": "1.5.0",
            "_view_count": null,
            "_view_module_version": "1.5.0",
            "box_style": "",
            "layout": "IPY_MODEL_dbd95d8b1fa64e839aed757d688b9608",
            "_model_module": "@jupyter-widgets/controls",
            "children": [
              "IPY_MODEL_6f5f6fe736644dd283013779b4f6cf5a",
              "IPY_MODEL_f1f4c47e994c44e1b892af72a0a3b325",
              "IPY_MODEL_dc20ecab8e934adcbcb6fab031176f83"
            ]
          }
        },
        "dbd95d8b1fa64e839aed757d688b9608": {
          "model_module": "@jupyter-widgets/base",
          "model_name": "LayoutModel",
          "model_module_version": "1.2.0",
          "state": {
            "_view_name": "LayoutView",
            "grid_template_rows": null,
            "right": null,
            "justify_content": null,
            "_view_module": "@jupyter-widgets/base",
            "overflow": null,
            "_model_module_version": "1.2.0",
            "_view_count": null,
            "flex_flow": "row wrap",
            "width": "100%",
            "min_width": null,
            "border": null,
            "align_items": null,
            "bottom": null,
            "_model_module": "@jupyter-widgets/base",
            "top": null,
            "grid_column": null,
            "overflow_y": null,
            "overflow_x": null,
            "grid_auto_flow": null,
            "grid_area": null,
            "grid_template_columns": null,
            "flex": null,
            "_model_name": "LayoutModel",
            "justify_items": null,
            "grid_row": null,
            "max_height": null,
            "align_content": null,
            "visibility": null,
            "align_self": null,
            "height": null,
            "min_height": null,
            "padding": null,
            "grid_auto_rows": null,
            "grid_gap": null,
            "max_width": null,
            "order": null,
            "_view_module_version": "1.2.0",
            "grid_template_areas": null,
            "object_position": null,
            "object_fit": null,
            "grid_auto_columns": null,
            "margin": null,
            "display": "inline-flex",
            "left": null
          }
        },
        "6f5f6fe736644dd283013779b4f6cf5a": {
          "model_module": "@jupyter-widgets/controls",
          "model_name": "HTMLModel",
          "model_module_version": "1.5.0",
          "state": {
            "_view_name": "HTMLView",
            "style": "IPY_MODEL_e44b0640569045dfb005a9f979dff9ef",
            "_dom_classes": [],
            "description": "",
            "_model_name": "HTMLModel",
            "placeholder": "​",
            "_view_module": "@jupyter-widgets/controls",
            "_model_module_version": "1.5.0",
            "value": "Epoch 5: 100%",
            "_view_count": null,
            "_view_module_version": "1.5.0",
            "description_tooltip": null,
            "_model_module": "@jupyter-widgets/controls",
            "layout": "IPY_MODEL_4398574c0ae4415cb3ad7388e382219c"
          }
        },
        "f1f4c47e994c44e1b892af72a0a3b325": {
          "model_module": "@jupyter-widgets/controls",
          "model_name": "FloatProgressModel",
          "model_module_version": "1.5.0",
          "state": {
            "_view_name": "ProgressView",
            "style": "IPY_MODEL_bd65dedb00cd4437b59f6a26a98ca117",
            "_dom_classes": [],
            "description": "",
            "_model_name": "FloatProgressModel",
            "bar_style": "success",
            "max": 8541,
            "_view_module": "@jupyter-widgets/controls",
            "_model_module_version": "1.5.0",
            "value": 8541,
            "_view_count": null,
            "_view_module_version": "1.5.0",
            "orientation": "horizontal",
            "min": 0,
            "description_tooltip": null,
            "_model_module": "@jupyter-widgets/controls",
            "layout": "IPY_MODEL_66d654e792d44af88d700523b0873d60"
          }
        },
        "dc20ecab8e934adcbcb6fab031176f83": {
          "model_module": "@jupyter-widgets/controls",
          "model_name": "HTMLModel",
          "model_module_version": "1.5.0",
          "state": {
            "_view_name": "HTMLView",
            "style": "IPY_MODEL_c95e74b784b4451eb541dc83112d1f77",
            "_dom_classes": [],
            "description": "",
            "_model_name": "HTMLModel",
            "placeholder": "​",
            "_view_module": "@jupyter-widgets/controls",
            "_model_module_version": "1.5.0",
            "value": " 8541/8541 [32:22&lt;00:00,  4.40it/s, loss=0.179, v_num=0, train_loss=0.124, val_loss=0.335]",
            "_view_count": null,
            "_view_module_version": "1.5.0",
            "description_tooltip": null,
            "_model_module": "@jupyter-widgets/controls",
            "layout": "IPY_MODEL_03cb29d7b4334762ba93f16cdae849ae"
          }
        },
        "e44b0640569045dfb005a9f979dff9ef": {
          "model_module": "@jupyter-widgets/controls",
          "model_name": "DescriptionStyleModel",
          "model_module_version": "1.5.0",
          "state": {
            "_view_name": "StyleView",
            "_model_name": "DescriptionStyleModel",
            "description_width": "",
            "_view_module": "@jupyter-widgets/base",
            "_model_module_version": "1.5.0",
            "_view_count": null,
            "_view_module_version": "1.2.0",
            "_model_module": "@jupyter-widgets/controls"
          }
        },
        "4398574c0ae4415cb3ad7388e382219c": {
          "model_module": "@jupyter-widgets/base",
          "model_name": "LayoutModel",
          "model_module_version": "1.2.0",
          "state": {
            "_view_name": "LayoutView",
            "grid_template_rows": null,
            "right": null,
            "justify_content": null,
            "_view_module": "@jupyter-widgets/base",
            "overflow": null,
            "_model_module_version": "1.2.0",
            "_view_count": null,
            "flex_flow": null,
            "width": null,
            "min_width": null,
            "border": null,
            "align_items": null,
            "bottom": null,
            "_model_module": "@jupyter-widgets/base",
            "top": null,
            "grid_column": null,
            "overflow_y": null,
            "overflow_x": null,
            "grid_auto_flow": null,
            "grid_area": null,
            "grid_template_columns": null,
            "flex": null,
            "_model_name": "LayoutModel",
            "justify_items": null,
            "grid_row": null,
            "max_height": null,
            "align_content": null,
            "visibility": null,
            "align_self": null,
            "height": null,
            "min_height": null,
            "padding": null,
            "grid_auto_rows": null,
            "grid_gap": null,
            "max_width": null,
            "order": null,
            "_view_module_version": "1.2.0",
            "grid_template_areas": null,
            "object_position": null,
            "object_fit": null,
            "grid_auto_columns": null,
            "margin": null,
            "display": null,
            "left": null
          }
        },
        "bd65dedb00cd4437b59f6a26a98ca117": {
          "model_module": "@jupyter-widgets/controls",
          "model_name": "ProgressStyleModel",
          "model_module_version": "1.5.0",
          "state": {
            "_view_name": "StyleView",
            "_model_name": "ProgressStyleModel",
            "description_width": "",
            "_view_module": "@jupyter-widgets/base",
            "_model_module_version": "1.5.0",
            "_view_count": null,
            "_view_module_version": "1.2.0",
            "bar_color": null,
            "_model_module": "@jupyter-widgets/controls"
          }
        },
        "66d654e792d44af88d700523b0873d60": {
          "model_module": "@jupyter-widgets/base",
          "model_name": "LayoutModel",
          "model_module_version": "1.2.0",
          "state": {
            "_view_name": "LayoutView",
            "grid_template_rows": null,
            "right": null,
            "justify_content": null,
            "_view_module": "@jupyter-widgets/base",
            "overflow": null,
            "_model_module_version": "1.2.0",
            "_view_count": null,
            "flex_flow": null,
            "width": null,
            "min_width": null,
            "border": null,
            "align_items": null,
            "bottom": null,
            "_model_module": "@jupyter-widgets/base",
            "top": null,
            "grid_column": null,
            "overflow_y": null,
            "overflow_x": null,
            "grid_auto_flow": null,
            "grid_area": null,
            "grid_template_columns": null,
            "flex": "2",
            "_model_name": "LayoutModel",
            "justify_items": null,
            "grid_row": null,
            "max_height": null,
            "align_content": null,
            "visibility": null,
            "align_self": null,
            "height": null,
            "min_height": null,
            "padding": null,
            "grid_auto_rows": null,
            "grid_gap": null,
            "max_width": null,
            "order": null,
            "_view_module_version": "1.2.0",
            "grid_template_areas": null,
            "object_position": null,
            "object_fit": null,
            "grid_auto_columns": null,
            "margin": null,
            "display": null,
            "left": null
          }
        },
        "c95e74b784b4451eb541dc83112d1f77": {
          "model_module": "@jupyter-widgets/controls",
          "model_name": "DescriptionStyleModel",
          "model_module_version": "1.5.0",
          "state": {
            "_view_name": "StyleView",
            "_model_name": "DescriptionStyleModel",
            "description_width": "",
            "_view_module": "@jupyter-widgets/base",
            "_model_module_version": "1.5.0",
            "_view_count": null,
            "_view_module_version": "1.2.0",
            "_model_module": "@jupyter-widgets/controls"
          }
        },
        "03cb29d7b4334762ba93f16cdae849ae": {
          "model_module": "@jupyter-widgets/base",
          "model_name": "LayoutModel",
          "model_module_version": "1.2.0",
          "state": {
            "_view_name": "LayoutView",
            "grid_template_rows": null,
            "right": null,
            "justify_content": null,
            "_view_module": "@jupyter-widgets/base",
            "overflow": null,
            "_model_module_version": "1.2.0",
            "_view_count": null,
            "flex_flow": null,
            "width": null,
            "min_width": null,
            "border": null,
            "align_items": null,
            "bottom": null,
            "_model_module": "@jupyter-widgets/base",
            "top": null,
            "grid_column": null,
            "overflow_y": null,
            "overflow_x": null,
            "grid_auto_flow": null,
            "grid_area": null,
            "grid_template_columns": null,
            "flex": null,
            "_model_name": "LayoutModel",
            "justify_items": null,
            "grid_row": null,
            "max_height": null,
            "align_content": null,
            "visibility": null,
            "align_self": null,
            "height": null,
            "min_height": null,
            "padding": null,
            "grid_auto_rows": null,
            "grid_gap": null,
            "max_width": null,
            "order": null,
            "_view_module_version": "1.2.0",
            "grid_template_areas": null,
            "object_position": null,
            "object_fit": null,
            "grid_auto_columns": null,
            "margin": null,
            "display": null,
            "left": null
          }
        },
        "2c7bf786bc8f42f98bd2bc6e8cad5eaa": {
          "model_module": "@jupyter-widgets/controls",
          "model_name": "HBoxModel",
          "model_module_version": "1.5.0",
          "state": {
            "_view_name": "HBoxView",
            "_dom_classes": [],
            "_model_name": "HBoxModel",
            "_view_module": "@jupyter-widgets/controls",
            "_model_module_version": "1.5.0",
            "_view_count": null,
            "_view_module_version": "1.5.0",
            "box_style": "",
            "layout": "IPY_MODEL_1a8700cc4ff94902822c3e14270df63c",
            "_model_module": "@jupyter-widgets/controls",
            "children": [
              "IPY_MODEL_a2f298c129dc4d62b057881b90a2e7d0",
              "IPY_MODEL_15922cd0dad44b22bc516986280bcfc4",
              "IPY_MODEL_94a0445be0e044a1bf0c8e77acba48b3"
            ]
          }
        },
        "1a8700cc4ff94902822c3e14270df63c": {
          "model_module": "@jupyter-widgets/base",
          "model_name": "LayoutModel",
          "model_module_version": "1.2.0",
          "state": {
            "_view_name": "LayoutView",
            "grid_template_rows": null,
            "right": null,
            "justify_content": null,
            "_view_module": "@jupyter-widgets/base",
            "overflow": null,
            "_model_module_version": "1.2.0",
            "_view_count": null,
            "flex_flow": "row wrap",
            "width": "100%",
            "min_width": null,
            "border": null,
            "align_items": null,
            "bottom": null,
            "_model_module": "@jupyter-widgets/base",
            "top": null,
            "grid_column": null,
            "overflow_y": null,
            "overflow_x": null,
            "grid_auto_flow": null,
            "grid_area": null,
            "grid_template_columns": null,
            "flex": null,
            "_model_name": "LayoutModel",
            "justify_items": null,
            "grid_row": null,
            "max_height": null,
            "align_content": null,
            "visibility": null,
            "align_self": null,
            "height": null,
            "min_height": null,
            "padding": null,
            "grid_auto_rows": null,
            "grid_gap": null,
            "max_width": null,
            "order": null,
            "_view_module_version": "1.2.0",
            "grid_template_areas": null,
            "object_position": null,
            "object_fit": null,
            "grid_auto_columns": null,
            "margin": null,
            "display": "inline-flex",
            "left": null
          }
        },
        "a2f298c129dc4d62b057881b90a2e7d0": {
          "model_module": "@jupyter-widgets/controls",
          "model_name": "HTMLModel",
          "model_module_version": "1.5.0",
          "state": {
            "_view_name": "HTMLView",
            "style": "IPY_MODEL_88c6c259290244eda83ff8dd1002c568",
            "_dom_classes": [],
            "description": "",
            "_model_name": "HTMLModel",
            "placeholder": "​",
            "_view_module": "@jupyter-widgets/controls",
            "_model_module_version": "1.5.0",
            "value": "Validating: 100%",
            "_view_count": null,
            "_view_module_version": "1.5.0",
            "description_tooltip": null,
            "_model_module": "@jupyter-widgets/controls",
            "layout": "IPY_MODEL_da5222e08d04453d84f08f64c341392a"
          }
        },
        "15922cd0dad44b22bc516986280bcfc4": {
          "model_module": "@jupyter-widgets/controls",
          "model_name": "FloatProgressModel",
          "model_module_version": "1.5.0",
          "state": {
            "_view_name": "ProgressView",
            "style": "IPY_MODEL_f925c485f03346ba893a1e5ecf656e64",
            "_dom_classes": [],
            "description": "",
            "_model_name": "FloatProgressModel",
            "bar_style": "",
            "max": 856,
            "_view_module": "@jupyter-widgets/controls",
            "_model_module_version": "1.5.0",
            "value": 856,
            "_view_count": null,
            "_view_module_version": "1.5.0",
            "orientation": "horizontal",
            "min": 0,
            "description_tooltip": null,
            "_model_module": "@jupyter-widgets/controls",
            "layout": "IPY_MODEL_99a72695568a4614b787e9a35c2c96a1"
          }
        },
        "94a0445be0e044a1bf0c8e77acba48b3": {
          "model_module": "@jupyter-widgets/controls",
          "model_name": "HTMLModel",
          "model_module_version": "1.5.0",
          "state": {
            "_view_name": "HTMLView",
            "style": "IPY_MODEL_80930c2aa4324ced8c244430ed732701",
            "_dom_classes": [],
            "description": "",
            "_model_name": "HTMLModel",
            "placeholder": "​",
            "_view_module": "@jupyter-widgets/controls",
            "_model_module_version": "1.5.0",
            "value": " 856/856 [01:05&lt;00:00, 13.15it/s]",
            "_view_count": null,
            "_view_module_version": "1.5.0",
            "description_tooltip": null,
            "_model_module": "@jupyter-widgets/controls",
            "layout": "IPY_MODEL_7081ce10ac9040968b522eb695c9f899"
          }
        },
        "88c6c259290244eda83ff8dd1002c568": {
          "model_module": "@jupyter-widgets/controls",
          "model_name": "DescriptionStyleModel",
          "model_module_version": "1.5.0",
          "state": {
            "_view_name": "StyleView",
            "_model_name": "DescriptionStyleModel",
            "description_width": "",
            "_view_module": "@jupyter-widgets/base",
            "_model_module_version": "1.5.0",
            "_view_count": null,
            "_view_module_version": "1.2.0",
            "_model_module": "@jupyter-widgets/controls"
          }
        },
        "da5222e08d04453d84f08f64c341392a": {
          "model_module": "@jupyter-widgets/base",
          "model_name": "LayoutModel",
          "model_module_version": "1.2.0",
          "state": {
            "_view_name": "LayoutView",
            "grid_template_rows": null,
            "right": null,
            "justify_content": null,
            "_view_module": "@jupyter-widgets/base",
            "overflow": null,
            "_model_module_version": "1.2.0",
            "_view_count": null,
            "flex_flow": null,
            "width": null,
            "min_width": null,
            "border": null,
            "align_items": null,
            "bottom": null,
            "_model_module": "@jupyter-widgets/base",
            "top": null,
            "grid_column": null,
            "overflow_y": null,
            "overflow_x": null,
            "grid_auto_flow": null,
            "grid_area": null,
            "grid_template_columns": null,
            "flex": null,
            "_model_name": "LayoutModel",
            "justify_items": null,
            "grid_row": null,
            "max_height": null,
            "align_content": null,
            "visibility": null,
            "align_self": null,
            "height": null,
            "min_height": null,
            "padding": null,
            "grid_auto_rows": null,
            "grid_gap": null,
            "max_width": null,
            "order": null,
            "_view_module_version": "1.2.0",
            "grid_template_areas": null,
            "object_position": null,
            "object_fit": null,
            "grid_auto_columns": null,
            "margin": null,
            "display": null,
            "left": null
          }
        },
        "f925c485f03346ba893a1e5ecf656e64": {
          "model_module": "@jupyter-widgets/controls",
          "model_name": "ProgressStyleModel",
          "model_module_version": "1.5.0",
          "state": {
            "_view_name": "StyleView",
            "_model_name": "ProgressStyleModel",
            "description_width": "",
            "_view_module": "@jupyter-widgets/base",
            "_model_module_version": "1.5.0",
            "_view_count": null,
            "_view_module_version": "1.2.0",
            "bar_color": null,
            "_model_module": "@jupyter-widgets/controls"
          }
        },
        "99a72695568a4614b787e9a35c2c96a1": {
          "model_module": "@jupyter-widgets/base",
          "model_name": "LayoutModel",
          "model_module_version": "1.2.0",
          "state": {
            "_view_name": "LayoutView",
            "grid_template_rows": null,
            "right": null,
            "justify_content": null,
            "_view_module": "@jupyter-widgets/base",
            "overflow": null,
            "_model_module_version": "1.2.0",
            "_view_count": null,
            "flex_flow": null,
            "width": null,
            "min_width": null,
            "border": null,
            "align_items": null,
            "bottom": null,
            "_model_module": "@jupyter-widgets/base",
            "top": null,
            "grid_column": null,
            "overflow_y": null,
            "overflow_x": null,
            "grid_auto_flow": null,
            "grid_area": null,
            "grid_template_columns": null,
            "flex": "2",
            "_model_name": "LayoutModel",
            "justify_items": null,
            "grid_row": null,
            "max_height": null,
            "align_content": null,
            "visibility": null,
            "align_self": null,
            "height": null,
            "min_height": null,
            "padding": null,
            "grid_auto_rows": null,
            "grid_gap": null,
            "max_width": null,
            "order": null,
            "_view_module_version": "1.2.0",
            "grid_template_areas": null,
            "object_position": null,
            "object_fit": null,
            "grid_auto_columns": null,
            "margin": null,
            "display": null,
            "left": null
          }
        },
        "80930c2aa4324ced8c244430ed732701": {
          "model_module": "@jupyter-widgets/controls",
          "model_name": "DescriptionStyleModel",
          "model_module_version": "1.5.0",
          "state": {
            "_view_name": "StyleView",
            "_model_name": "DescriptionStyleModel",
            "description_width": "",
            "_view_module": "@jupyter-widgets/base",
            "_model_module_version": "1.5.0",
            "_view_count": null,
            "_view_module_version": "1.2.0",
            "_model_module": "@jupyter-widgets/controls"
          }
        },
        "7081ce10ac9040968b522eb695c9f899": {
          "model_module": "@jupyter-widgets/base",
          "model_name": "LayoutModel",
          "model_module_version": "1.2.0",
          "state": {
            "_view_name": "LayoutView",
            "grid_template_rows": null,
            "right": null,
            "justify_content": null,
            "_view_module": "@jupyter-widgets/base",
            "overflow": null,
            "_model_module_version": "1.2.0",
            "_view_count": null,
            "flex_flow": null,
            "width": null,
            "min_width": null,
            "border": null,
            "align_items": null,
            "bottom": null,
            "_model_module": "@jupyter-widgets/base",
            "top": null,
            "grid_column": null,
            "overflow_y": null,
            "overflow_x": null,
            "grid_auto_flow": null,
            "grid_area": null,
            "grid_template_columns": null,
            "flex": null,
            "_model_name": "LayoutModel",
            "justify_items": null,
            "grid_row": null,
            "max_height": null,
            "align_content": null,
            "visibility": null,
            "align_self": null,
            "height": null,
            "min_height": null,
            "padding": null,
            "grid_auto_rows": null,
            "grid_gap": null,
            "max_width": null,
            "order": null,
            "_view_module_version": "1.2.0",
            "grid_template_areas": null,
            "object_position": null,
            "object_fit": null,
            "grid_auto_columns": null,
            "margin": null,
            "display": null,
            "left": null
          }
        },
        "dd243a719b8d45168490eba3798ef677": {
          "model_module": "@jupyter-widgets/controls",
          "model_name": "HBoxModel",
          "model_module_version": "1.5.0",
          "state": {
            "_view_name": "HBoxView",
            "_dom_classes": [],
            "_model_name": "HBoxModel",
            "_view_module": "@jupyter-widgets/controls",
            "_model_module_version": "1.5.0",
            "_view_count": null,
            "_view_module_version": "1.5.0",
            "box_style": "",
            "layout": "IPY_MODEL_ae2bcb312d8e4c43a2667cf52ae7b811",
            "_model_module": "@jupyter-widgets/controls",
            "children": [
              "IPY_MODEL_6a10dbee1e674b0d9d320339e182782b",
              "IPY_MODEL_1a2de4d61fc84afba5fb3a472246d47b",
              "IPY_MODEL_06fb8bd16c66414e9eb78d22adf641bc"
            ]
          }
        },
        "ae2bcb312d8e4c43a2667cf52ae7b811": {
          "model_module": "@jupyter-widgets/base",
          "model_name": "LayoutModel",
          "model_module_version": "1.2.0",
          "state": {
            "_view_name": "LayoutView",
            "grid_template_rows": null,
            "right": null,
            "justify_content": null,
            "_view_module": "@jupyter-widgets/base",
            "overflow": null,
            "_model_module_version": "1.2.0",
            "_view_count": null,
            "flex_flow": "row wrap",
            "width": "100%",
            "min_width": null,
            "border": null,
            "align_items": null,
            "bottom": null,
            "_model_module": "@jupyter-widgets/base",
            "top": null,
            "grid_column": null,
            "overflow_y": null,
            "overflow_x": null,
            "grid_auto_flow": null,
            "grid_area": null,
            "grid_template_columns": null,
            "flex": null,
            "_model_name": "LayoutModel",
            "justify_items": null,
            "grid_row": null,
            "max_height": null,
            "align_content": null,
            "visibility": null,
            "align_self": null,
            "height": null,
            "min_height": null,
            "padding": null,
            "grid_auto_rows": null,
            "grid_gap": null,
            "max_width": null,
            "order": null,
            "_view_module_version": "1.2.0",
            "grid_template_areas": null,
            "object_position": null,
            "object_fit": null,
            "grid_auto_columns": null,
            "margin": null,
            "display": "inline-flex",
            "left": null
          }
        },
        "6a10dbee1e674b0d9d320339e182782b": {
          "model_module": "@jupyter-widgets/controls",
          "model_name": "HTMLModel",
          "model_module_version": "1.5.0",
          "state": {
            "_view_name": "HTMLView",
            "style": "IPY_MODEL_030940eefdb64a75b1c905d2f12f7848",
            "_dom_classes": [],
            "description": "",
            "_model_name": "HTMLModel",
            "placeholder": "​",
            "_view_module": "@jupyter-widgets/controls",
            "_model_module_version": "1.5.0",
            "value": "Validating: 100%",
            "_view_count": null,
            "_view_module_version": "1.5.0",
            "description_tooltip": null,
            "_model_module": "@jupyter-widgets/controls",
            "layout": "IPY_MODEL_349a18affc254fdea9e77df6b6fd15c9"
          }
        },
        "1a2de4d61fc84afba5fb3a472246d47b": {
          "model_module": "@jupyter-widgets/controls",
          "model_name": "FloatProgressModel",
          "model_module_version": "1.5.0",
          "state": {
            "_view_name": "ProgressView",
            "style": "IPY_MODEL_db468fba218247a39908e2de8cd8a3a8",
            "_dom_classes": [],
            "description": "",
            "_model_name": "FloatProgressModel",
            "bar_style": "",
            "max": 856,
            "_view_module": "@jupyter-widgets/controls",
            "_model_module_version": "1.5.0",
            "value": 856,
            "_view_count": null,
            "_view_module_version": "1.5.0",
            "orientation": "horizontal",
            "min": 0,
            "description_tooltip": null,
            "_model_module": "@jupyter-widgets/controls",
            "layout": "IPY_MODEL_6ed614735daa444a959547bf803a6571"
          }
        },
        "06fb8bd16c66414e9eb78d22adf641bc": {
          "model_module": "@jupyter-widgets/controls",
          "model_name": "HTMLModel",
          "model_module_version": "1.5.0",
          "state": {
            "_view_name": "HTMLView",
            "style": "IPY_MODEL_cfa53649ee174f139c59f9482e226f54",
            "_dom_classes": [],
            "description": "",
            "_model_name": "HTMLModel",
            "placeholder": "​",
            "_view_module": "@jupyter-widgets/controls",
            "_model_module_version": "1.5.0",
            "value": " 856/856 [01:05&lt;00:00, 13.16it/s]",
            "_view_count": null,
            "_view_module_version": "1.5.0",
            "description_tooltip": null,
            "_model_module": "@jupyter-widgets/controls",
            "layout": "IPY_MODEL_fc011efec0764e159133a7b3f0462dd2"
          }
        },
        "030940eefdb64a75b1c905d2f12f7848": {
          "model_module": "@jupyter-widgets/controls",
          "model_name": "DescriptionStyleModel",
          "model_module_version": "1.5.0",
          "state": {
            "_view_name": "StyleView",
            "_model_name": "DescriptionStyleModel",
            "description_width": "",
            "_view_module": "@jupyter-widgets/base",
            "_model_module_version": "1.5.0",
            "_view_count": null,
            "_view_module_version": "1.2.0",
            "_model_module": "@jupyter-widgets/controls"
          }
        },
        "349a18affc254fdea9e77df6b6fd15c9": {
          "model_module": "@jupyter-widgets/base",
          "model_name": "LayoutModel",
          "model_module_version": "1.2.0",
          "state": {
            "_view_name": "LayoutView",
            "grid_template_rows": null,
            "right": null,
            "justify_content": null,
            "_view_module": "@jupyter-widgets/base",
            "overflow": null,
            "_model_module_version": "1.2.0",
            "_view_count": null,
            "flex_flow": null,
            "width": null,
            "min_width": null,
            "border": null,
            "align_items": null,
            "bottom": null,
            "_model_module": "@jupyter-widgets/base",
            "top": null,
            "grid_column": null,
            "overflow_y": null,
            "overflow_x": null,
            "grid_auto_flow": null,
            "grid_area": null,
            "grid_template_columns": null,
            "flex": null,
            "_model_name": "LayoutModel",
            "justify_items": null,
            "grid_row": null,
            "max_height": null,
            "align_content": null,
            "visibility": null,
            "align_self": null,
            "height": null,
            "min_height": null,
            "padding": null,
            "grid_auto_rows": null,
            "grid_gap": null,
            "max_width": null,
            "order": null,
            "_view_module_version": "1.2.0",
            "grid_template_areas": null,
            "object_position": null,
            "object_fit": null,
            "grid_auto_columns": null,
            "margin": null,
            "display": null,
            "left": null
          }
        },
        "db468fba218247a39908e2de8cd8a3a8": {
          "model_module": "@jupyter-widgets/controls",
          "model_name": "ProgressStyleModel",
          "model_module_version": "1.5.0",
          "state": {
            "_view_name": "StyleView",
            "_model_name": "ProgressStyleModel",
            "description_width": "",
            "_view_module": "@jupyter-widgets/base",
            "_model_module_version": "1.5.0",
            "_view_count": null,
            "_view_module_version": "1.2.0",
            "bar_color": null,
            "_model_module": "@jupyter-widgets/controls"
          }
        },
        "6ed614735daa444a959547bf803a6571": {
          "model_module": "@jupyter-widgets/base",
          "model_name": "LayoutModel",
          "model_module_version": "1.2.0",
          "state": {
            "_view_name": "LayoutView",
            "grid_template_rows": null,
            "right": null,
            "justify_content": null,
            "_view_module": "@jupyter-widgets/base",
            "overflow": null,
            "_model_module_version": "1.2.0",
            "_view_count": null,
            "flex_flow": null,
            "width": null,
            "min_width": null,
            "border": null,
            "align_items": null,
            "bottom": null,
            "_model_module": "@jupyter-widgets/base",
            "top": null,
            "grid_column": null,
            "overflow_y": null,
            "overflow_x": null,
            "grid_auto_flow": null,
            "grid_area": null,
            "grid_template_columns": null,
            "flex": "2",
            "_model_name": "LayoutModel",
            "justify_items": null,
            "grid_row": null,
            "max_height": null,
            "align_content": null,
            "visibility": null,
            "align_self": null,
            "height": null,
            "min_height": null,
            "padding": null,
            "grid_auto_rows": null,
            "grid_gap": null,
            "max_width": null,
            "order": null,
            "_view_module_version": "1.2.0",
            "grid_template_areas": null,
            "object_position": null,
            "object_fit": null,
            "grid_auto_columns": null,
            "margin": null,
            "display": null,
            "left": null
          }
        },
        "cfa53649ee174f139c59f9482e226f54": {
          "model_module": "@jupyter-widgets/controls",
          "model_name": "DescriptionStyleModel",
          "model_module_version": "1.5.0",
          "state": {
            "_view_name": "StyleView",
            "_model_name": "DescriptionStyleModel",
            "description_width": "",
            "_view_module": "@jupyter-widgets/base",
            "_model_module_version": "1.5.0",
            "_view_count": null,
            "_view_module_version": "1.2.0",
            "_model_module": "@jupyter-widgets/controls"
          }
        },
        "fc011efec0764e159133a7b3f0462dd2": {
          "model_module": "@jupyter-widgets/base",
          "model_name": "LayoutModel",
          "model_module_version": "1.2.0",
          "state": {
            "_view_name": "LayoutView",
            "grid_template_rows": null,
            "right": null,
            "justify_content": null,
            "_view_module": "@jupyter-widgets/base",
            "overflow": null,
            "_model_module_version": "1.2.0",
            "_view_count": null,
            "flex_flow": null,
            "width": null,
            "min_width": null,
            "border": null,
            "align_items": null,
            "bottom": null,
            "_model_module": "@jupyter-widgets/base",
            "top": null,
            "grid_column": null,
            "overflow_y": null,
            "overflow_x": null,
            "grid_auto_flow": null,
            "grid_area": null,
            "grid_template_columns": null,
            "flex": null,
            "_model_name": "LayoutModel",
            "justify_items": null,
            "grid_row": null,
            "max_height": null,
            "align_content": null,
            "visibility": null,
            "align_self": null,
            "height": null,
            "min_height": null,
            "padding": null,
            "grid_auto_rows": null,
            "grid_gap": null,
            "max_width": null,
            "order": null,
            "_view_module_version": "1.2.0",
            "grid_template_areas": null,
            "object_position": null,
            "object_fit": null,
            "grid_auto_columns": null,
            "margin": null,
            "display": null,
            "left": null
          }
        },
        "3a3a51bf09be4158b5aa9cf92f7b052f": {
          "model_module": "@jupyter-widgets/controls",
          "model_name": "HBoxModel",
          "model_module_version": "1.5.0",
          "state": {
            "_view_name": "HBoxView",
            "_dom_classes": [],
            "_model_name": "HBoxModel",
            "_view_module": "@jupyter-widgets/controls",
            "_model_module_version": "1.5.0",
            "_view_count": null,
            "_view_module_version": "1.5.0",
            "box_style": "",
            "layout": "IPY_MODEL_f39aea0f50f44440b540d8c8cacd607e",
            "_model_module": "@jupyter-widgets/controls",
            "children": [
              "IPY_MODEL_98e6d2566fde417f99c56d93e5298c58",
              "IPY_MODEL_ae6e4a9540e6477c80f03c52c5857497",
              "IPY_MODEL_81f9d910682d406eb18501c58eb0b315"
            ]
          }
        },
        "f39aea0f50f44440b540d8c8cacd607e": {
          "model_module": "@jupyter-widgets/base",
          "model_name": "LayoutModel",
          "model_module_version": "1.2.0",
          "state": {
            "_view_name": "LayoutView",
            "grid_template_rows": null,
            "right": null,
            "justify_content": null,
            "_view_module": "@jupyter-widgets/base",
            "overflow": null,
            "_model_module_version": "1.2.0",
            "_view_count": null,
            "flex_flow": "row wrap",
            "width": "100%",
            "min_width": null,
            "border": null,
            "align_items": null,
            "bottom": null,
            "_model_module": "@jupyter-widgets/base",
            "top": null,
            "grid_column": null,
            "overflow_y": null,
            "overflow_x": null,
            "grid_auto_flow": null,
            "grid_area": null,
            "grid_template_columns": null,
            "flex": null,
            "_model_name": "LayoutModel",
            "justify_items": null,
            "grid_row": null,
            "max_height": null,
            "align_content": null,
            "visibility": null,
            "align_self": null,
            "height": null,
            "min_height": null,
            "padding": null,
            "grid_auto_rows": null,
            "grid_gap": null,
            "max_width": null,
            "order": null,
            "_view_module_version": "1.2.0",
            "grid_template_areas": null,
            "object_position": null,
            "object_fit": null,
            "grid_auto_columns": null,
            "margin": null,
            "display": "inline-flex",
            "left": null
          }
        },
        "98e6d2566fde417f99c56d93e5298c58": {
          "model_module": "@jupyter-widgets/controls",
          "model_name": "HTMLModel",
          "model_module_version": "1.5.0",
          "state": {
            "_view_name": "HTMLView",
            "style": "IPY_MODEL_48e99c20095c44bd8f11d93fa4a10143",
            "_dom_classes": [],
            "description": "",
            "_model_name": "HTMLModel",
            "placeholder": "​",
            "_view_module": "@jupyter-widgets/controls",
            "_model_module_version": "1.5.0",
            "value": "Validating: 100%",
            "_view_count": null,
            "_view_module_version": "1.5.0",
            "description_tooltip": null,
            "_model_module": "@jupyter-widgets/controls",
            "layout": "IPY_MODEL_0a81366ec8d048ea8ed87a6ebd16e235"
          }
        },
        "ae6e4a9540e6477c80f03c52c5857497": {
          "model_module": "@jupyter-widgets/controls",
          "model_name": "FloatProgressModel",
          "model_module_version": "1.5.0",
          "state": {
            "_view_name": "ProgressView",
            "style": "IPY_MODEL_48b65a1683144aeda8746af718bbfc1b",
            "_dom_classes": [],
            "description": "",
            "_model_name": "FloatProgressModel",
            "bar_style": "",
            "max": 856,
            "_view_module": "@jupyter-widgets/controls",
            "_model_module_version": "1.5.0",
            "value": 856,
            "_view_count": null,
            "_view_module_version": "1.5.0",
            "orientation": "horizontal",
            "min": 0,
            "description_tooltip": null,
            "_model_module": "@jupyter-widgets/controls",
            "layout": "IPY_MODEL_2a63363bfd38400ba99489505f47dc0a"
          }
        },
        "81f9d910682d406eb18501c58eb0b315": {
          "model_module": "@jupyter-widgets/controls",
          "model_name": "HTMLModel",
          "model_module_version": "1.5.0",
          "state": {
            "_view_name": "HTMLView",
            "style": "IPY_MODEL_b0b306c52f25401cb2e04bc51509dc1e",
            "_dom_classes": [],
            "description": "",
            "_model_name": "HTMLModel",
            "placeholder": "​",
            "_view_module": "@jupyter-widgets/controls",
            "_model_module_version": "1.5.0",
            "value": " 856/856 [01:05&lt;00:00, 13.17it/s]",
            "_view_count": null,
            "_view_module_version": "1.5.0",
            "description_tooltip": null,
            "_model_module": "@jupyter-widgets/controls",
            "layout": "IPY_MODEL_43122d43bb0c436bb22616db907480b7"
          }
        },
        "48e99c20095c44bd8f11d93fa4a10143": {
          "model_module": "@jupyter-widgets/controls",
          "model_name": "DescriptionStyleModel",
          "model_module_version": "1.5.0",
          "state": {
            "_view_name": "StyleView",
            "_model_name": "DescriptionStyleModel",
            "description_width": "",
            "_view_module": "@jupyter-widgets/base",
            "_model_module_version": "1.5.0",
            "_view_count": null,
            "_view_module_version": "1.2.0",
            "_model_module": "@jupyter-widgets/controls"
          }
        },
        "0a81366ec8d048ea8ed87a6ebd16e235": {
          "model_module": "@jupyter-widgets/base",
          "model_name": "LayoutModel",
          "model_module_version": "1.2.0",
          "state": {
            "_view_name": "LayoutView",
            "grid_template_rows": null,
            "right": null,
            "justify_content": null,
            "_view_module": "@jupyter-widgets/base",
            "overflow": null,
            "_model_module_version": "1.2.0",
            "_view_count": null,
            "flex_flow": null,
            "width": null,
            "min_width": null,
            "border": null,
            "align_items": null,
            "bottom": null,
            "_model_module": "@jupyter-widgets/base",
            "top": null,
            "grid_column": null,
            "overflow_y": null,
            "overflow_x": null,
            "grid_auto_flow": null,
            "grid_area": null,
            "grid_template_columns": null,
            "flex": null,
            "_model_name": "LayoutModel",
            "justify_items": null,
            "grid_row": null,
            "max_height": null,
            "align_content": null,
            "visibility": null,
            "align_self": null,
            "height": null,
            "min_height": null,
            "padding": null,
            "grid_auto_rows": null,
            "grid_gap": null,
            "max_width": null,
            "order": null,
            "_view_module_version": "1.2.0",
            "grid_template_areas": null,
            "object_position": null,
            "object_fit": null,
            "grid_auto_columns": null,
            "margin": null,
            "display": null,
            "left": null
          }
        },
        "48b65a1683144aeda8746af718bbfc1b": {
          "model_module": "@jupyter-widgets/controls",
          "model_name": "ProgressStyleModel",
          "model_module_version": "1.5.0",
          "state": {
            "_view_name": "StyleView",
            "_model_name": "ProgressStyleModel",
            "description_width": "",
            "_view_module": "@jupyter-widgets/base",
            "_model_module_version": "1.5.0",
            "_view_count": null,
            "_view_module_version": "1.2.0",
            "bar_color": null,
            "_model_module": "@jupyter-widgets/controls"
          }
        },
        "2a63363bfd38400ba99489505f47dc0a": {
          "model_module": "@jupyter-widgets/base",
          "model_name": "LayoutModel",
          "model_module_version": "1.2.0",
          "state": {
            "_view_name": "LayoutView",
            "grid_template_rows": null,
            "right": null,
            "justify_content": null,
            "_view_module": "@jupyter-widgets/base",
            "overflow": null,
            "_model_module_version": "1.2.0",
            "_view_count": null,
            "flex_flow": null,
            "width": null,
            "min_width": null,
            "border": null,
            "align_items": null,
            "bottom": null,
            "_model_module": "@jupyter-widgets/base",
            "top": null,
            "grid_column": null,
            "overflow_y": null,
            "overflow_x": null,
            "grid_auto_flow": null,
            "grid_area": null,
            "grid_template_columns": null,
            "flex": "2",
            "_model_name": "LayoutModel",
            "justify_items": null,
            "grid_row": null,
            "max_height": null,
            "align_content": null,
            "visibility": null,
            "align_self": null,
            "height": null,
            "min_height": null,
            "padding": null,
            "grid_auto_rows": null,
            "grid_gap": null,
            "max_width": null,
            "order": null,
            "_view_module_version": "1.2.0",
            "grid_template_areas": null,
            "object_position": null,
            "object_fit": null,
            "grid_auto_columns": null,
            "margin": null,
            "display": null,
            "left": null
          }
        },
        "b0b306c52f25401cb2e04bc51509dc1e": {
          "model_module": "@jupyter-widgets/controls",
          "model_name": "DescriptionStyleModel",
          "model_module_version": "1.5.0",
          "state": {
            "_view_name": "StyleView",
            "_model_name": "DescriptionStyleModel",
            "description_width": "",
            "_view_module": "@jupyter-widgets/base",
            "_model_module_version": "1.5.0",
            "_view_count": null,
            "_view_module_version": "1.2.0",
            "_model_module": "@jupyter-widgets/controls"
          }
        },
        "43122d43bb0c436bb22616db907480b7": {
          "model_module": "@jupyter-widgets/base",
          "model_name": "LayoutModel",
          "model_module_version": "1.2.0",
          "state": {
            "_view_name": "LayoutView",
            "grid_template_rows": null,
            "right": null,
            "justify_content": null,
            "_view_module": "@jupyter-widgets/base",
            "overflow": null,
            "_model_module_version": "1.2.0",
            "_view_count": null,
            "flex_flow": null,
            "width": null,
            "min_width": null,
            "border": null,
            "align_items": null,
            "bottom": null,
            "_model_module": "@jupyter-widgets/base",
            "top": null,
            "grid_column": null,
            "overflow_y": null,
            "overflow_x": null,
            "grid_auto_flow": null,
            "grid_area": null,
            "grid_template_columns": null,
            "flex": null,
            "_model_name": "LayoutModel",
            "justify_items": null,
            "grid_row": null,
            "max_height": null,
            "align_content": null,
            "visibility": null,
            "align_self": null,
            "height": null,
            "min_height": null,
            "padding": null,
            "grid_auto_rows": null,
            "grid_gap": null,
            "max_width": null,
            "order": null,
            "_view_module_version": "1.2.0",
            "grid_template_areas": null,
            "object_position": null,
            "object_fit": null,
            "grid_auto_columns": null,
            "margin": null,
            "display": null,
            "left": null
          }
        },
        "c2d5053d36764895b17aad82ee0b4dd3": {
          "model_module": "@jupyter-widgets/controls",
          "model_name": "HBoxModel",
          "model_module_version": "1.5.0",
          "state": {
            "_view_name": "HBoxView",
            "_dom_classes": [],
            "_model_name": "HBoxModel",
            "_view_module": "@jupyter-widgets/controls",
            "_model_module_version": "1.5.0",
            "_view_count": null,
            "_view_module_version": "1.5.0",
            "box_style": "",
            "layout": "IPY_MODEL_eb2eedda639a41f7bad1d6168b86a55f",
            "_model_module": "@jupyter-widgets/controls",
            "children": [
              "IPY_MODEL_906cab408e344d6b9294537de2aaa895",
              "IPY_MODEL_97e464871eca4db89f6f4f3508bf64db",
              "IPY_MODEL_3a743b33bb6d4d4996831c25810b2271"
            ]
          }
        },
        "eb2eedda639a41f7bad1d6168b86a55f": {
          "model_module": "@jupyter-widgets/base",
          "model_name": "LayoutModel",
          "model_module_version": "1.2.0",
          "state": {
            "_view_name": "LayoutView",
            "grid_template_rows": null,
            "right": null,
            "justify_content": null,
            "_view_module": "@jupyter-widgets/base",
            "overflow": null,
            "_model_module_version": "1.2.0",
            "_view_count": null,
            "flex_flow": "row wrap",
            "width": "100%",
            "min_width": null,
            "border": null,
            "align_items": null,
            "bottom": null,
            "_model_module": "@jupyter-widgets/base",
            "top": null,
            "grid_column": null,
            "overflow_y": null,
            "overflow_x": null,
            "grid_auto_flow": null,
            "grid_area": null,
            "grid_template_columns": null,
            "flex": null,
            "_model_name": "LayoutModel",
            "justify_items": null,
            "grid_row": null,
            "max_height": null,
            "align_content": null,
            "visibility": null,
            "align_self": null,
            "height": null,
            "min_height": null,
            "padding": null,
            "grid_auto_rows": null,
            "grid_gap": null,
            "max_width": null,
            "order": null,
            "_view_module_version": "1.2.0",
            "grid_template_areas": null,
            "object_position": null,
            "object_fit": null,
            "grid_auto_columns": null,
            "margin": null,
            "display": "inline-flex",
            "left": null
          }
        },
        "906cab408e344d6b9294537de2aaa895": {
          "model_module": "@jupyter-widgets/controls",
          "model_name": "HTMLModel",
          "model_module_version": "1.5.0",
          "state": {
            "_view_name": "HTMLView",
            "style": "IPY_MODEL_177545e1bc964370911abe3b196ad1e2",
            "_dom_classes": [],
            "description": "",
            "_model_name": "HTMLModel",
            "placeholder": "​",
            "_view_module": "@jupyter-widgets/controls",
            "_model_module_version": "1.5.0",
            "value": "Validating: 100%",
            "_view_count": null,
            "_view_module_version": "1.5.0",
            "description_tooltip": null,
            "_model_module": "@jupyter-widgets/controls",
            "layout": "IPY_MODEL_17826214b29c4db885a2e0dca20296ab"
          }
        },
        "97e464871eca4db89f6f4f3508bf64db": {
          "model_module": "@jupyter-widgets/controls",
          "model_name": "FloatProgressModel",
          "model_module_version": "1.5.0",
          "state": {
            "_view_name": "ProgressView",
            "style": "IPY_MODEL_b4bbf3bfbeb04e9db5505ff2044975a1",
            "_dom_classes": [],
            "description": "",
            "_model_name": "FloatProgressModel",
            "bar_style": "",
            "max": 856,
            "_view_module": "@jupyter-widgets/controls",
            "_model_module_version": "1.5.0",
            "value": 856,
            "_view_count": null,
            "_view_module_version": "1.5.0",
            "orientation": "horizontal",
            "min": 0,
            "description_tooltip": null,
            "_model_module": "@jupyter-widgets/controls",
            "layout": "IPY_MODEL_bc48843115de494d94b5cdc96807f865"
          }
        },
        "3a743b33bb6d4d4996831c25810b2271": {
          "model_module": "@jupyter-widgets/controls",
          "model_name": "HTMLModel",
          "model_module_version": "1.5.0",
          "state": {
            "_view_name": "HTMLView",
            "style": "IPY_MODEL_758cc74f9be84d339a47c1bd21bbfd0c",
            "_dom_classes": [],
            "description": "",
            "_model_name": "HTMLModel",
            "placeholder": "​",
            "_view_module": "@jupyter-widgets/controls",
            "_model_module_version": "1.5.0",
            "value": " 856/856 [01:05&lt;00:00, 13.15it/s]",
            "_view_count": null,
            "_view_module_version": "1.5.0",
            "description_tooltip": null,
            "_model_module": "@jupyter-widgets/controls",
            "layout": "IPY_MODEL_52bfb9ae57f94f10ba7a6cb52eea47f1"
          }
        },
        "177545e1bc964370911abe3b196ad1e2": {
          "model_module": "@jupyter-widgets/controls",
          "model_name": "DescriptionStyleModel",
          "model_module_version": "1.5.0",
          "state": {
            "_view_name": "StyleView",
            "_model_name": "DescriptionStyleModel",
            "description_width": "",
            "_view_module": "@jupyter-widgets/base",
            "_model_module_version": "1.5.0",
            "_view_count": null,
            "_view_module_version": "1.2.0",
            "_model_module": "@jupyter-widgets/controls"
          }
        },
        "17826214b29c4db885a2e0dca20296ab": {
          "model_module": "@jupyter-widgets/base",
          "model_name": "LayoutModel",
          "model_module_version": "1.2.0",
          "state": {
            "_view_name": "LayoutView",
            "grid_template_rows": null,
            "right": null,
            "justify_content": null,
            "_view_module": "@jupyter-widgets/base",
            "overflow": null,
            "_model_module_version": "1.2.0",
            "_view_count": null,
            "flex_flow": null,
            "width": null,
            "min_width": null,
            "border": null,
            "align_items": null,
            "bottom": null,
            "_model_module": "@jupyter-widgets/base",
            "top": null,
            "grid_column": null,
            "overflow_y": null,
            "overflow_x": null,
            "grid_auto_flow": null,
            "grid_area": null,
            "grid_template_columns": null,
            "flex": null,
            "_model_name": "LayoutModel",
            "justify_items": null,
            "grid_row": null,
            "max_height": null,
            "align_content": null,
            "visibility": null,
            "align_self": null,
            "height": null,
            "min_height": null,
            "padding": null,
            "grid_auto_rows": null,
            "grid_gap": null,
            "max_width": null,
            "order": null,
            "_view_module_version": "1.2.0",
            "grid_template_areas": null,
            "object_position": null,
            "object_fit": null,
            "grid_auto_columns": null,
            "margin": null,
            "display": null,
            "left": null
          }
        },
        "b4bbf3bfbeb04e9db5505ff2044975a1": {
          "model_module": "@jupyter-widgets/controls",
          "model_name": "ProgressStyleModel",
          "model_module_version": "1.5.0",
          "state": {
            "_view_name": "StyleView",
            "_model_name": "ProgressStyleModel",
            "description_width": "",
            "_view_module": "@jupyter-widgets/base",
            "_model_module_version": "1.5.0",
            "_view_count": null,
            "_view_module_version": "1.2.0",
            "bar_color": null,
            "_model_module": "@jupyter-widgets/controls"
          }
        },
        "bc48843115de494d94b5cdc96807f865": {
          "model_module": "@jupyter-widgets/base",
          "model_name": "LayoutModel",
          "model_module_version": "1.2.0",
          "state": {
            "_view_name": "LayoutView",
            "grid_template_rows": null,
            "right": null,
            "justify_content": null,
            "_view_module": "@jupyter-widgets/base",
            "overflow": null,
            "_model_module_version": "1.2.0",
            "_view_count": null,
            "flex_flow": null,
            "width": null,
            "min_width": null,
            "border": null,
            "align_items": null,
            "bottom": null,
            "_model_module": "@jupyter-widgets/base",
            "top": null,
            "grid_column": null,
            "overflow_y": null,
            "overflow_x": null,
            "grid_auto_flow": null,
            "grid_area": null,
            "grid_template_columns": null,
            "flex": "2",
            "_model_name": "LayoutModel",
            "justify_items": null,
            "grid_row": null,
            "max_height": null,
            "align_content": null,
            "visibility": null,
            "align_self": null,
            "height": null,
            "min_height": null,
            "padding": null,
            "grid_auto_rows": null,
            "grid_gap": null,
            "max_width": null,
            "order": null,
            "_view_module_version": "1.2.0",
            "grid_template_areas": null,
            "object_position": null,
            "object_fit": null,
            "grid_auto_columns": null,
            "margin": null,
            "display": null,
            "left": null
          }
        },
        "758cc74f9be84d339a47c1bd21bbfd0c": {
          "model_module": "@jupyter-widgets/controls",
          "model_name": "DescriptionStyleModel",
          "model_module_version": "1.5.0",
          "state": {
            "_view_name": "StyleView",
            "_model_name": "DescriptionStyleModel",
            "description_width": "",
            "_view_module": "@jupyter-widgets/base",
            "_model_module_version": "1.5.0",
            "_view_count": null,
            "_view_module_version": "1.2.0",
            "_model_module": "@jupyter-widgets/controls"
          }
        },
        "52bfb9ae57f94f10ba7a6cb52eea47f1": {
          "model_module": "@jupyter-widgets/base",
          "model_name": "LayoutModel",
          "model_module_version": "1.2.0",
          "state": {
            "_view_name": "LayoutView",
            "grid_template_rows": null,
            "right": null,
            "justify_content": null,
            "_view_module": "@jupyter-widgets/base",
            "overflow": null,
            "_model_module_version": "1.2.0",
            "_view_count": null,
            "flex_flow": null,
            "width": null,
            "min_width": null,
            "border": null,
            "align_items": null,
            "bottom": null,
            "_model_module": "@jupyter-widgets/base",
            "top": null,
            "grid_column": null,
            "overflow_y": null,
            "overflow_x": null,
            "grid_auto_flow": null,
            "grid_area": null,
            "grid_template_columns": null,
            "flex": null,
            "_model_name": "LayoutModel",
            "justify_items": null,
            "grid_row": null,
            "max_height": null,
            "align_content": null,
            "visibility": null,
            "align_self": null,
            "height": null,
            "min_height": null,
            "padding": null,
            "grid_auto_rows": null,
            "grid_gap": null,
            "max_width": null,
            "order": null,
            "_view_module_version": "1.2.0",
            "grid_template_areas": null,
            "object_position": null,
            "object_fit": null,
            "grid_auto_columns": null,
            "margin": null,
            "display": null,
            "left": null
          }
        },
        "ffda3bc4131b41cbb0351f9bbfb9b627": {
          "model_module": "@jupyter-widgets/controls",
          "model_name": "HBoxModel",
          "model_module_version": "1.5.0",
          "state": {
            "_view_name": "HBoxView",
            "_dom_classes": [],
            "_model_name": "HBoxModel",
            "_view_module": "@jupyter-widgets/controls",
            "_model_module_version": "1.5.0",
            "_view_count": null,
            "_view_module_version": "1.5.0",
            "box_style": "",
            "layout": "IPY_MODEL_a4c3bea637f6468d9cfc055aa4c32539",
            "_model_module": "@jupyter-widgets/controls",
            "children": [
              "IPY_MODEL_51002d158afd47f193ecda6da7cbbb84",
              "IPY_MODEL_1016b1b3e3304ca29e6ec1a7394db9c5",
              "IPY_MODEL_98e88b474be843618da2301c39cedd59"
            ]
          }
        },
        "a4c3bea637f6468d9cfc055aa4c32539": {
          "model_module": "@jupyter-widgets/base",
          "model_name": "LayoutModel",
          "model_module_version": "1.2.0",
          "state": {
            "_view_name": "LayoutView",
            "grid_template_rows": null,
            "right": null,
            "justify_content": null,
            "_view_module": "@jupyter-widgets/base",
            "overflow": null,
            "_model_module_version": "1.2.0",
            "_view_count": null,
            "flex_flow": "row wrap",
            "width": "100%",
            "min_width": null,
            "border": null,
            "align_items": null,
            "bottom": null,
            "_model_module": "@jupyter-widgets/base",
            "top": null,
            "grid_column": null,
            "overflow_y": null,
            "overflow_x": null,
            "grid_auto_flow": null,
            "grid_area": null,
            "grid_template_columns": null,
            "flex": null,
            "_model_name": "LayoutModel",
            "justify_items": null,
            "grid_row": null,
            "max_height": null,
            "align_content": null,
            "visibility": null,
            "align_self": null,
            "height": null,
            "min_height": null,
            "padding": null,
            "grid_auto_rows": null,
            "grid_gap": null,
            "max_width": null,
            "order": null,
            "_view_module_version": "1.2.0",
            "grid_template_areas": null,
            "object_position": null,
            "object_fit": null,
            "grid_auto_columns": null,
            "margin": null,
            "display": "inline-flex",
            "left": null
          }
        },
        "51002d158afd47f193ecda6da7cbbb84": {
          "model_module": "@jupyter-widgets/controls",
          "model_name": "HTMLModel",
          "model_module_version": "1.5.0",
          "state": {
            "_view_name": "HTMLView",
            "style": "IPY_MODEL_6cd019c61d3e44dba15d691406931556",
            "_dom_classes": [],
            "description": "",
            "_model_name": "HTMLModel",
            "placeholder": "​",
            "_view_module": "@jupyter-widgets/controls",
            "_model_module_version": "1.5.0",
            "value": "Validating: 100%",
            "_view_count": null,
            "_view_module_version": "1.5.0",
            "description_tooltip": null,
            "_model_module": "@jupyter-widgets/controls",
            "layout": "IPY_MODEL_62ed28f7d872459ba26dc4f3b9646390"
          }
        },
        "1016b1b3e3304ca29e6ec1a7394db9c5": {
          "model_module": "@jupyter-widgets/controls",
          "model_name": "FloatProgressModel",
          "model_module_version": "1.5.0",
          "state": {
            "_view_name": "ProgressView",
            "style": "IPY_MODEL_dd4ddd7198e84aac8f057c1096768c47",
            "_dom_classes": [],
            "description": "",
            "_model_name": "FloatProgressModel",
            "bar_style": "",
            "max": 856,
            "_view_module": "@jupyter-widgets/controls",
            "_model_module_version": "1.5.0",
            "value": 856,
            "_view_count": null,
            "_view_module_version": "1.5.0",
            "orientation": "horizontal",
            "min": 0,
            "description_tooltip": null,
            "_model_module": "@jupyter-widgets/controls",
            "layout": "IPY_MODEL_12e9b34dfc634366860e6085bcd4a873"
          }
        },
        "98e88b474be843618da2301c39cedd59": {
          "model_module": "@jupyter-widgets/controls",
          "model_name": "HTMLModel",
          "model_module_version": "1.5.0",
          "state": {
            "_view_name": "HTMLView",
            "style": "IPY_MODEL_ad1bba68d97d4d4fa5a672a13e75409e",
            "_dom_classes": [],
            "description": "",
            "_model_name": "HTMLModel",
            "placeholder": "​",
            "_view_module": "@jupyter-widgets/controls",
            "_model_module_version": "1.5.0",
            "value": " 856/856 [01:05&lt;00:00, 13.16it/s]",
            "_view_count": null,
            "_view_module_version": "1.5.0",
            "description_tooltip": null,
            "_model_module": "@jupyter-widgets/controls",
            "layout": "IPY_MODEL_a2ee30d3d9e64535a908df766c7ee69a"
          }
        },
        "6cd019c61d3e44dba15d691406931556": {
          "model_module": "@jupyter-widgets/controls",
          "model_name": "DescriptionStyleModel",
          "model_module_version": "1.5.0",
          "state": {
            "_view_name": "StyleView",
            "_model_name": "DescriptionStyleModel",
            "description_width": "",
            "_view_module": "@jupyter-widgets/base",
            "_model_module_version": "1.5.0",
            "_view_count": null,
            "_view_module_version": "1.2.0",
            "_model_module": "@jupyter-widgets/controls"
          }
        },
        "62ed28f7d872459ba26dc4f3b9646390": {
          "model_module": "@jupyter-widgets/base",
          "model_name": "LayoutModel",
          "model_module_version": "1.2.0",
          "state": {
            "_view_name": "LayoutView",
            "grid_template_rows": null,
            "right": null,
            "justify_content": null,
            "_view_module": "@jupyter-widgets/base",
            "overflow": null,
            "_model_module_version": "1.2.0",
            "_view_count": null,
            "flex_flow": null,
            "width": null,
            "min_width": null,
            "border": null,
            "align_items": null,
            "bottom": null,
            "_model_module": "@jupyter-widgets/base",
            "top": null,
            "grid_column": null,
            "overflow_y": null,
            "overflow_x": null,
            "grid_auto_flow": null,
            "grid_area": null,
            "grid_template_columns": null,
            "flex": null,
            "_model_name": "LayoutModel",
            "justify_items": null,
            "grid_row": null,
            "max_height": null,
            "align_content": null,
            "visibility": null,
            "align_self": null,
            "height": null,
            "min_height": null,
            "padding": null,
            "grid_auto_rows": null,
            "grid_gap": null,
            "max_width": null,
            "order": null,
            "_view_module_version": "1.2.0",
            "grid_template_areas": null,
            "object_position": null,
            "object_fit": null,
            "grid_auto_columns": null,
            "margin": null,
            "display": null,
            "left": null
          }
        },
        "dd4ddd7198e84aac8f057c1096768c47": {
          "model_module": "@jupyter-widgets/controls",
          "model_name": "ProgressStyleModel",
          "model_module_version": "1.5.0",
          "state": {
            "_view_name": "StyleView",
            "_model_name": "ProgressStyleModel",
            "description_width": "",
            "_view_module": "@jupyter-widgets/base",
            "_model_module_version": "1.5.0",
            "_view_count": null,
            "_view_module_version": "1.2.0",
            "bar_color": null,
            "_model_module": "@jupyter-widgets/controls"
          }
        },
        "12e9b34dfc634366860e6085bcd4a873": {
          "model_module": "@jupyter-widgets/base",
          "model_name": "LayoutModel",
          "model_module_version": "1.2.0",
          "state": {
            "_view_name": "LayoutView",
            "grid_template_rows": null,
            "right": null,
            "justify_content": null,
            "_view_module": "@jupyter-widgets/base",
            "overflow": null,
            "_model_module_version": "1.2.0",
            "_view_count": null,
            "flex_flow": null,
            "width": null,
            "min_width": null,
            "border": null,
            "align_items": null,
            "bottom": null,
            "_model_module": "@jupyter-widgets/base",
            "top": null,
            "grid_column": null,
            "overflow_y": null,
            "overflow_x": null,
            "grid_auto_flow": null,
            "grid_area": null,
            "grid_template_columns": null,
            "flex": "2",
            "_model_name": "LayoutModel",
            "justify_items": null,
            "grid_row": null,
            "max_height": null,
            "align_content": null,
            "visibility": null,
            "align_self": null,
            "height": null,
            "min_height": null,
            "padding": null,
            "grid_auto_rows": null,
            "grid_gap": null,
            "max_width": null,
            "order": null,
            "_view_module_version": "1.2.0",
            "grid_template_areas": null,
            "object_position": null,
            "object_fit": null,
            "grid_auto_columns": null,
            "margin": null,
            "display": null,
            "left": null
          }
        },
        "ad1bba68d97d4d4fa5a672a13e75409e": {
          "model_module": "@jupyter-widgets/controls",
          "model_name": "DescriptionStyleModel",
          "model_module_version": "1.5.0",
          "state": {
            "_view_name": "StyleView",
            "_model_name": "DescriptionStyleModel",
            "description_width": "",
            "_view_module": "@jupyter-widgets/base",
            "_model_module_version": "1.5.0",
            "_view_count": null,
            "_view_module_version": "1.2.0",
            "_model_module": "@jupyter-widgets/controls"
          }
        },
        "a2ee30d3d9e64535a908df766c7ee69a": {
          "model_module": "@jupyter-widgets/base",
          "model_name": "LayoutModel",
          "model_module_version": "1.2.0",
          "state": {
            "_view_name": "LayoutView",
            "grid_template_rows": null,
            "right": null,
            "justify_content": null,
            "_view_module": "@jupyter-widgets/base",
            "overflow": null,
            "_model_module_version": "1.2.0",
            "_view_count": null,
            "flex_flow": null,
            "width": null,
            "min_width": null,
            "border": null,
            "align_items": null,
            "bottom": null,
            "_model_module": "@jupyter-widgets/base",
            "top": null,
            "grid_column": null,
            "overflow_y": null,
            "overflow_x": null,
            "grid_auto_flow": null,
            "grid_area": null,
            "grid_template_columns": null,
            "flex": null,
            "_model_name": "LayoutModel",
            "justify_items": null,
            "grid_row": null,
            "max_height": null,
            "align_content": null,
            "visibility": null,
            "align_self": null,
            "height": null,
            "min_height": null,
            "padding": null,
            "grid_auto_rows": null,
            "grid_gap": null,
            "max_width": null,
            "order": null,
            "_view_module_version": "1.2.0",
            "grid_template_areas": null,
            "object_position": null,
            "object_fit": null,
            "grid_auto_columns": null,
            "margin": null,
            "display": null,
            "left": null
          }
        },
        "8a3e90666d7746dc8cb9dffbdf377a9e": {
          "model_module": "@jupyter-widgets/controls",
          "model_name": "HBoxModel",
          "model_module_version": "1.5.0",
          "state": {
            "_view_name": "HBoxView",
            "_dom_classes": [],
            "_model_name": "HBoxModel",
            "_view_module": "@jupyter-widgets/controls",
            "_model_module_version": "1.5.0",
            "_view_count": null,
            "_view_module_version": "1.5.0",
            "box_style": "",
            "layout": "IPY_MODEL_f6a808a3f0444d78a62d80b0038ebbad",
            "_model_module": "@jupyter-widgets/controls",
            "children": [
              "IPY_MODEL_195e4acc092c481698393e22b58976d2",
              "IPY_MODEL_f5ba66d5402e4a9f99da4384b0f44e97",
              "IPY_MODEL_66ee4d10147846eeb736bfa878e1c0d0"
            ]
          }
        },
        "f6a808a3f0444d78a62d80b0038ebbad": {
          "model_module": "@jupyter-widgets/base",
          "model_name": "LayoutModel",
          "model_module_version": "1.2.0",
          "state": {
            "_view_name": "LayoutView",
            "grid_template_rows": null,
            "right": null,
            "justify_content": null,
            "_view_module": "@jupyter-widgets/base",
            "overflow": null,
            "_model_module_version": "1.2.0",
            "_view_count": null,
            "flex_flow": "row wrap",
            "width": "100%",
            "min_width": null,
            "border": null,
            "align_items": null,
            "bottom": null,
            "_model_module": "@jupyter-widgets/base",
            "top": null,
            "grid_column": null,
            "overflow_y": null,
            "overflow_x": null,
            "grid_auto_flow": null,
            "grid_area": null,
            "grid_template_columns": null,
            "flex": null,
            "_model_name": "LayoutModel",
            "justify_items": null,
            "grid_row": null,
            "max_height": null,
            "align_content": null,
            "visibility": null,
            "align_self": null,
            "height": null,
            "min_height": null,
            "padding": null,
            "grid_auto_rows": null,
            "grid_gap": null,
            "max_width": null,
            "order": null,
            "_view_module_version": "1.2.0",
            "grid_template_areas": null,
            "object_position": null,
            "object_fit": null,
            "grid_auto_columns": null,
            "margin": null,
            "display": "inline-flex",
            "left": null
          }
        },
        "195e4acc092c481698393e22b58976d2": {
          "model_module": "@jupyter-widgets/controls",
          "model_name": "HTMLModel",
          "model_module_version": "1.5.0",
          "state": {
            "_view_name": "HTMLView",
            "style": "IPY_MODEL_2b34e100762c4ee1ac0eddca50bb2460",
            "_dom_classes": [],
            "description": "",
            "_model_name": "HTMLModel",
            "placeholder": "​",
            "_view_module": "@jupyter-widgets/controls",
            "_model_module_version": "1.5.0",
            "value": "Validating: 100%",
            "_view_count": null,
            "_view_module_version": "1.5.0",
            "description_tooltip": null,
            "_model_module": "@jupyter-widgets/controls",
            "layout": "IPY_MODEL_11f32b05081f4c47b85b99546b848c27"
          }
        },
        "f5ba66d5402e4a9f99da4384b0f44e97": {
          "model_module": "@jupyter-widgets/controls",
          "model_name": "FloatProgressModel",
          "model_module_version": "1.5.0",
          "state": {
            "_view_name": "ProgressView",
            "style": "IPY_MODEL_c052b4a58d0e493da9b946dc1118cd53",
            "_dom_classes": [],
            "description": "",
            "_model_name": "FloatProgressModel",
            "bar_style": "",
            "max": 856,
            "_view_module": "@jupyter-widgets/controls",
            "_model_module_version": "1.5.0",
            "value": 856,
            "_view_count": null,
            "_view_module_version": "1.5.0",
            "orientation": "horizontal",
            "min": 0,
            "description_tooltip": null,
            "_model_module": "@jupyter-widgets/controls",
            "layout": "IPY_MODEL_9e9c0faf46b44d8b85aa6391786e324f"
          }
        },
        "66ee4d10147846eeb736bfa878e1c0d0": {
          "model_module": "@jupyter-widgets/controls",
          "model_name": "HTMLModel",
          "model_module_version": "1.5.0",
          "state": {
            "_view_name": "HTMLView",
            "style": "IPY_MODEL_ad0f7c7ef1344ccea71ef1bf6cb52bba",
            "_dom_classes": [],
            "description": "",
            "_model_name": "HTMLModel",
            "placeholder": "​",
            "_view_module": "@jupyter-widgets/controls",
            "_model_module_version": "1.5.0",
            "value": " 856/856 [01:05&lt;00:00, 13.14it/s]",
            "_view_count": null,
            "_view_module_version": "1.5.0",
            "description_tooltip": null,
            "_model_module": "@jupyter-widgets/controls",
            "layout": "IPY_MODEL_858202f1c8d1434ea8cab5d87126e887"
          }
        },
        "2b34e100762c4ee1ac0eddca50bb2460": {
          "model_module": "@jupyter-widgets/controls",
          "model_name": "DescriptionStyleModel",
          "model_module_version": "1.5.0",
          "state": {
            "_view_name": "StyleView",
            "_model_name": "DescriptionStyleModel",
            "description_width": "",
            "_view_module": "@jupyter-widgets/base",
            "_model_module_version": "1.5.0",
            "_view_count": null,
            "_view_module_version": "1.2.0",
            "_model_module": "@jupyter-widgets/controls"
          }
        },
        "11f32b05081f4c47b85b99546b848c27": {
          "model_module": "@jupyter-widgets/base",
          "model_name": "LayoutModel",
          "model_module_version": "1.2.0",
          "state": {
            "_view_name": "LayoutView",
            "grid_template_rows": null,
            "right": null,
            "justify_content": null,
            "_view_module": "@jupyter-widgets/base",
            "overflow": null,
            "_model_module_version": "1.2.0",
            "_view_count": null,
            "flex_flow": null,
            "width": null,
            "min_width": null,
            "border": null,
            "align_items": null,
            "bottom": null,
            "_model_module": "@jupyter-widgets/base",
            "top": null,
            "grid_column": null,
            "overflow_y": null,
            "overflow_x": null,
            "grid_auto_flow": null,
            "grid_area": null,
            "grid_template_columns": null,
            "flex": null,
            "_model_name": "LayoutModel",
            "justify_items": null,
            "grid_row": null,
            "max_height": null,
            "align_content": null,
            "visibility": null,
            "align_self": null,
            "height": null,
            "min_height": null,
            "padding": null,
            "grid_auto_rows": null,
            "grid_gap": null,
            "max_width": null,
            "order": null,
            "_view_module_version": "1.2.0",
            "grid_template_areas": null,
            "object_position": null,
            "object_fit": null,
            "grid_auto_columns": null,
            "margin": null,
            "display": null,
            "left": null
          }
        },
        "c052b4a58d0e493da9b946dc1118cd53": {
          "model_module": "@jupyter-widgets/controls",
          "model_name": "ProgressStyleModel",
          "model_module_version": "1.5.0",
          "state": {
            "_view_name": "StyleView",
            "_model_name": "ProgressStyleModel",
            "description_width": "",
            "_view_module": "@jupyter-widgets/base",
            "_model_module_version": "1.5.0",
            "_view_count": null,
            "_view_module_version": "1.2.0",
            "bar_color": null,
            "_model_module": "@jupyter-widgets/controls"
          }
        },
        "9e9c0faf46b44d8b85aa6391786e324f": {
          "model_module": "@jupyter-widgets/base",
          "model_name": "LayoutModel",
          "model_module_version": "1.2.0",
          "state": {
            "_view_name": "LayoutView",
            "grid_template_rows": null,
            "right": null,
            "justify_content": null,
            "_view_module": "@jupyter-widgets/base",
            "overflow": null,
            "_model_module_version": "1.2.0",
            "_view_count": null,
            "flex_flow": null,
            "width": null,
            "min_width": null,
            "border": null,
            "align_items": null,
            "bottom": null,
            "_model_module": "@jupyter-widgets/base",
            "top": null,
            "grid_column": null,
            "overflow_y": null,
            "overflow_x": null,
            "grid_auto_flow": null,
            "grid_area": null,
            "grid_template_columns": null,
            "flex": "2",
            "_model_name": "LayoutModel",
            "justify_items": null,
            "grid_row": null,
            "max_height": null,
            "align_content": null,
            "visibility": null,
            "align_self": null,
            "height": null,
            "min_height": null,
            "padding": null,
            "grid_auto_rows": null,
            "grid_gap": null,
            "max_width": null,
            "order": null,
            "_view_module_version": "1.2.0",
            "grid_template_areas": null,
            "object_position": null,
            "object_fit": null,
            "grid_auto_columns": null,
            "margin": null,
            "display": null,
            "left": null
          }
        },
        "ad0f7c7ef1344ccea71ef1bf6cb52bba": {
          "model_module": "@jupyter-widgets/controls",
          "model_name": "DescriptionStyleModel",
          "model_module_version": "1.5.0",
          "state": {
            "_view_name": "StyleView",
            "_model_name": "DescriptionStyleModel",
            "description_width": "",
            "_view_module": "@jupyter-widgets/base",
            "_model_module_version": "1.5.0",
            "_view_count": null,
            "_view_module_version": "1.2.0",
            "_model_module": "@jupyter-widgets/controls"
          }
        },
        "858202f1c8d1434ea8cab5d87126e887": {
          "model_module": "@jupyter-widgets/base",
          "model_name": "LayoutModel",
          "model_module_version": "1.2.0",
          "state": {
            "_view_name": "LayoutView",
            "grid_template_rows": null,
            "right": null,
            "justify_content": null,
            "_view_module": "@jupyter-widgets/base",
            "overflow": null,
            "_model_module_version": "1.2.0",
            "_view_count": null,
            "flex_flow": null,
            "width": null,
            "min_width": null,
            "border": null,
            "align_items": null,
            "bottom": null,
            "_model_module": "@jupyter-widgets/base",
            "top": null,
            "grid_column": null,
            "overflow_y": null,
            "overflow_x": null,
            "grid_auto_flow": null,
            "grid_area": null,
            "grid_template_columns": null,
            "flex": null,
            "_model_name": "LayoutModel",
            "justify_items": null,
            "grid_row": null,
            "max_height": null,
            "align_content": null,
            "visibility": null,
            "align_self": null,
            "height": null,
            "min_height": null,
            "padding": null,
            "grid_auto_rows": null,
            "grid_gap": null,
            "max_width": null,
            "order": null,
            "_view_module_version": "1.2.0",
            "grid_template_areas": null,
            "object_position": null,
            "object_fit": null,
            "grid_auto_columns": null,
            "margin": null,
            "display": null,
            "left": null
          }
        },
        "c96047e68ebf437ea8610d6a18b3c375": {
          "model_module": "@jupyter-widgets/controls",
          "model_name": "HBoxModel",
          "model_module_version": "1.5.0",
          "state": {
            "_view_name": "HBoxView",
            "_dom_classes": [],
            "_model_name": "HBoxModel",
            "_view_module": "@jupyter-widgets/controls",
            "_model_module_version": "1.5.0",
            "_view_count": null,
            "_view_module_version": "1.5.0",
            "box_style": "",
            "layout": "IPY_MODEL_394d3ca58ad849eca7cc9011ec501bad",
            "_model_module": "@jupyter-widgets/controls",
            "children": [
              "IPY_MODEL_7e8d90be7cf949c99de991c60947126b",
              "IPY_MODEL_9765100380594615ba99aec662a18a9d",
              "IPY_MODEL_338c81d6532c401d987a6fe817fab314"
            ]
          }
        },
        "394d3ca58ad849eca7cc9011ec501bad": {
          "model_module": "@jupyter-widgets/base",
          "model_name": "LayoutModel",
          "model_module_version": "1.2.0",
          "state": {
            "_view_name": "LayoutView",
            "grid_template_rows": null,
            "right": null,
            "justify_content": null,
            "_view_module": "@jupyter-widgets/base",
            "overflow": null,
            "_model_module_version": "1.2.0",
            "_view_count": null,
            "flex_flow": null,
            "width": null,
            "min_width": null,
            "border": null,
            "align_items": null,
            "bottom": null,
            "_model_module": "@jupyter-widgets/base",
            "top": null,
            "grid_column": null,
            "overflow_y": null,
            "overflow_x": null,
            "grid_auto_flow": null,
            "grid_area": null,
            "grid_template_columns": null,
            "flex": null,
            "_model_name": "LayoutModel",
            "justify_items": null,
            "grid_row": null,
            "max_height": null,
            "align_content": null,
            "visibility": null,
            "align_self": null,
            "height": null,
            "min_height": null,
            "padding": null,
            "grid_auto_rows": null,
            "grid_gap": null,
            "max_width": null,
            "order": null,
            "_view_module_version": "1.2.0",
            "grid_template_areas": null,
            "object_position": null,
            "object_fit": null,
            "grid_auto_columns": null,
            "margin": null,
            "display": null,
            "left": null
          }
        },
        "7e8d90be7cf949c99de991c60947126b": {
          "model_module": "@jupyter-widgets/controls",
          "model_name": "HTMLModel",
          "model_module_version": "1.5.0",
          "state": {
            "_view_name": "HTMLView",
            "style": "IPY_MODEL_aa31e4d3893a4bd19cf2cf542dbb1552",
            "_dom_classes": [],
            "description": "",
            "_model_name": "HTMLModel",
            "placeholder": "​",
            "_view_module": "@jupyter-widgets/controls",
            "_model_module_version": "1.5.0",
            "value": "100%",
            "_view_count": null,
            "_view_module_version": "1.5.0",
            "description_tooltip": null,
            "_model_module": "@jupyter-widgets/controls",
            "layout": "IPY_MODEL_14acd8ceaef4431da1f045dea1179de8"
          }
        },
        "9765100380594615ba99aec662a18a9d": {
          "model_module": "@jupyter-widgets/controls",
          "model_name": "FloatProgressModel",
          "model_module_version": "1.5.0",
          "state": {
            "_view_name": "ProgressView",
            "style": "IPY_MODEL_7e0d72c1f0a1431bbae181680b681bd7",
            "_dom_classes": [],
            "description": "",
            "_model_name": "FloatProgressModel",
            "bar_style": "success",
            "max": 2500,
            "_view_module": "@jupyter-widgets/controls",
            "_model_module_version": "1.5.0",
            "value": 2500,
            "_view_count": null,
            "_view_module_version": "1.5.0",
            "orientation": "horizontal",
            "min": 0,
            "description_tooltip": null,
            "_model_module": "@jupyter-widgets/controls",
            "layout": "IPY_MODEL_d5781f99301c4b819a4d190c63009cd6"
          }
        },
        "338c81d6532c401d987a6fe817fab314": {
          "model_module": "@jupyter-widgets/controls",
          "model_name": "HTMLModel",
          "model_module_version": "1.5.0",
          "state": {
            "_view_name": "HTMLView",
            "style": "IPY_MODEL_fba0dfba2f4e43f69e869eeedbd135b0",
            "_dom_classes": [],
            "description": "",
            "_model_name": "HTMLModel",
            "placeholder": "​",
            "_view_module": "@jupyter-widgets/controls",
            "_model_module_version": "1.5.0",
            "value": " 2500/2500 [01:30&lt;00:00, 27.29it/s]",
            "_view_count": null,
            "_view_module_version": "1.5.0",
            "description_tooltip": null,
            "_model_module": "@jupyter-widgets/controls",
            "layout": "IPY_MODEL_12546184cdc64a9db9d35d8cb5659506"
          }
        },
        "aa31e4d3893a4bd19cf2cf542dbb1552": {
          "model_module": "@jupyter-widgets/controls",
          "model_name": "DescriptionStyleModel",
          "model_module_version": "1.5.0",
          "state": {
            "_view_name": "StyleView",
            "_model_name": "DescriptionStyleModel",
            "description_width": "",
            "_view_module": "@jupyter-widgets/base",
            "_model_module_version": "1.5.0",
            "_view_count": null,
            "_view_module_version": "1.2.0",
            "_model_module": "@jupyter-widgets/controls"
          }
        },
        "14acd8ceaef4431da1f045dea1179de8": {
          "model_module": "@jupyter-widgets/base",
          "model_name": "LayoutModel",
          "model_module_version": "1.2.0",
          "state": {
            "_view_name": "LayoutView",
            "grid_template_rows": null,
            "right": null,
            "justify_content": null,
            "_view_module": "@jupyter-widgets/base",
            "overflow": null,
            "_model_module_version": "1.2.0",
            "_view_count": null,
            "flex_flow": null,
            "width": null,
            "min_width": null,
            "border": null,
            "align_items": null,
            "bottom": null,
            "_model_module": "@jupyter-widgets/base",
            "top": null,
            "grid_column": null,
            "overflow_y": null,
            "overflow_x": null,
            "grid_auto_flow": null,
            "grid_area": null,
            "grid_template_columns": null,
            "flex": null,
            "_model_name": "LayoutModel",
            "justify_items": null,
            "grid_row": null,
            "max_height": null,
            "align_content": null,
            "visibility": null,
            "align_self": null,
            "height": null,
            "min_height": null,
            "padding": null,
            "grid_auto_rows": null,
            "grid_gap": null,
            "max_width": null,
            "order": null,
            "_view_module_version": "1.2.0",
            "grid_template_areas": null,
            "object_position": null,
            "object_fit": null,
            "grid_auto_columns": null,
            "margin": null,
            "display": null,
            "left": null
          }
        },
        "7e0d72c1f0a1431bbae181680b681bd7": {
          "model_module": "@jupyter-widgets/controls",
          "model_name": "ProgressStyleModel",
          "model_module_version": "1.5.0",
          "state": {
            "_view_name": "StyleView",
            "_model_name": "ProgressStyleModel",
            "description_width": "",
            "_view_module": "@jupyter-widgets/base",
            "_model_module_version": "1.5.0",
            "_view_count": null,
            "_view_module_version": "1.2.0",
            "bar_color": null,
            "_model_module": "@jupyter-widgets/controls"
          }
        },
        "d5781f99301c4b819a4d190c63009cd6": {
          "model_module": "@jupyter-widgets/base",
          "model_name": "LayoutModel",
          "model_module_version": "1.2.0",
          "state": {
            "_view_name": "LayoutView",
            "grid_template_rows": null,
            "right": null,
            "justify_content": null,
            "_view_module": "@jupyter-widgets/base",
            "overflow": null,
            "_model_module_version": "1.2.0",
            "_view_count": null,
            "flex_flow": null,
            "width": null,
            "min_width": null,
            "border": null,
            "align_items": null,
            "bottom": null,
            "_model_module": "@jupyter-widgets/base",
            "top": null,
            "grid_column": null,
            "overflow_y": null,
            "overflow_x": null,
            "grid_auto_flow": null,
            "grid_area": null,
            "grid_template_columns": null,
            "flex": null,
            "_model_name": "LayoutModel",
            "justify_items": null,
            "grid_row": null,
            "max_height": null,
            "align_content": null,
            "visibility": null,
            "align_self": null,
            "height": null,
            "min_height": null,
            "padding": null,
            "grid_auto_rows": null,
            "grid_gap": null,
            "max_width": null,
            "order": null,
            "_view_module_version": "1.2.0",
            "grid_template_areas": null,
            "object_position": null,
            "object_fit": null,
            "grid_auto_columns": null,
            "margin": null,
            "display": null,
            "left": null
          }
        },
        "fba0dfba2f4e43f69e869eeedbd135b0": {
          "model_module": "@jupyter-widgets/controls",
          "model_name": "DescriptionStyleModel",
          "model_module_version": "1.5.0",
          "state": {
            "_view_name": "StyleView",
            "_model_name": "DescriptionStyleModel",
            "description_width": "",
            "_view_module": "@jupyter-widgets/base",
            "_model_module_version": "1.5.0",
            "_view_count": null,
            "_view_module_version": "1.2.0",
            "_model_module": "@jupyter-widgets/controls"
          }
        },
        "12546184cdc64a9db9d35d8cb5659506": {
          "model_module": "@jupyter-widgets/base",
          "model_name": "LayoutModel",
          "model_module_version": "1.2.0",
          "state": {
            "_view_name": "LayoutView",
            "grid_template_rows": null,
            "right": null,
            "justify_content": null,
            "_view_module": "@jupyter-widgets/base",
            "overflow": null,
            "_model_module_version": "1.2.0",
            "_view_count": null,
            "flex_flow": null,
            "width": null,
            "min_width": null,
            "border": null,
            "align_items": null,
            "bottom": null,
            "_model_module": "@jupyter-widgets/base",
            "top": null,
            "grid_column": null,
            "overflow_y": null,
            "overflow_x": null,
            "grid_auto_flow": null,
            "grid_area": null,
            "grid_template_columns": null,
            "flex": null,
            "_model_name": "LayoutModel",
            "justify_items": null,
            "grid_row": null,
            "max_height": null,
            "align_content": null,
            "visibility": null,
            "align_self": null,
            "height": null,
            "min_height": null,
            "padding": null,
            "grid_auto_rows": null,
            "grid_gap": null,
            "max_width": null,
            "order": null,
            "_view_module_version": "1.2.0",
            "grid_template_areas": null,
            "object_position": null,
            "object_fit": null,
            "grid_auto_columns": null,
            "margin": null,
            "display": null,
            "left": null
          }
        }
      }
    }
  },
  "cells": [
    {
      "cell_type": "code",
      "metadata": {
        "id": "mAzPXKFb3aPE",
        "colab": {
          "base_uri": "https://localhost:8080/"
        },
        "outputId": "a49a25e9-1f6b-44b2-bee1-dcb0d28dc71f"
      },
      "source": [
        "from google.colab import drive\n",
        "drive.mount('/content/drive')"
      ],
      "execution_count": 1,
      "outputs": [
        {
          "output_type": "stream",
          "name": "stdout",
          "text": [
            "Mounted at /content/drive\n"
          ]
        }
      ]
    },
    {
      "cell_type": "code",
      "metadata": {
        "id": "cPe1wmKi3d9W"
      },
      "source": [
        "import warnings\n",
        "warnings.filterwarnings('ignore')"
      ],
      "execution_count": null,
      "outputs": []
    },
    {
      "cell_type": "code",
      "metadata": {
        "colab": {
          "base_uri": "https://localhost:8080/"
        },
        "id": "BIy49QkB3mTQ",
        "outputId": "6989b11f-9941-4ea7-b364-74acc19c0336"
      },
      "source": [
        "!nvidia-smi"
      ],
      "execution_count": null,
      "outputs": [
        {
          "output_type": "stream",
          "name": "stdout",
          "text": [
            "Sat Sep 11 17:07:40 2021       \n",
            "+-----------------------------------------------------------------------------+\n",
            "| NVIDIA-SMI 470.63.01    Driver Version: 460.32.03    CUDA Version: 11.2     |\n",
            "|-------------------------------+----------------------+----------------------+\n",
            "| GPU  Name        Persistence-M| Bus-Id        Disp.A | Volatile Uncorr. ECC |\n",
            "| Fan  Temp  Perf  Pwr:Usage/Cap|         Memory-Usage | GPU-Util  Compute M. |\n",
            "|                               |                      |               MIG M. |\n",
            "|===============================+======================+======================|\n",
            "|   0  Tesla T4            Off  | 00000000:00:04.0 Off |                    0 |\n",
            "| N/A   35C    P8     9W /  70W |      0MiB / 15109MiB |      0%      Default |\n",
            "|                               |                      |                  N/A |\n",
            "+-------------------------------+----------------------+----------------------+\n",
            "                                                                               \n",
            "+-----------------------------------------------------------------------------+\n",
            "| Processes:                                                                  |\n",
            "|  GPU   GI   CI        PID   Type   Process name                  GPU Memory |\n",
            "|        ID   ID                                                   Usage      |\n",
            "|=============================================================================|\n",
            "|  No running processes found                                                 |\n",
            "+-----------------------------------------------------------------------------+\n"
          ]
        }
      ]
    },
    {
      "cell_type": "code",
      "metadata": {
        "id": "4ws94rYx3nUX"
      },
      "source": [
        "!pip install --quiet transformers\n",
        "!pip install --quiet pytorch-lightning"
      ],
      "execution_count": null,
      "outputs": []
    },
    {
      "cell_type": "code",
      "metadata": {
        "colab": {
          "base_uri": "https://localhost:8080/"
        },
        "id": "dg5TSCRB3tn0",
        "outputId": "7e51e77b-50d6-4125-ca05-417e72aadf68"
      },
      "source": [
        "import pandas as pd\n",
        "import numpy as np\n",
        "\n",
        "from tqdm.auto import tqdm\n",
        "\n",
        "import torch\n",
        "import torch.nn as nn\n",
        "from torch.utils.data import Dataset, DataLoader\n",
        "\n",
        "from transformers import AutoTokenizer, AutoModel, AdamW, get_linear_schedule_with_warmup\n",
        "\n",
        "import pytorch_lightning as pl\n",
        "from pytorch_lightning.metrics.functional import accuracy, f1, auroc\n",
        "from pytorch_lightning.callbacks import ModelCheckpoint, EarlyStopping\n",
        "from pytorch_lightning.loggers import TensorBoardLogger\n",
        "\n",
        "from sklearn.model_selection import train_test_split\n",
        "from sklearn.metrics import classification_report, multilabel_confusion_matrix\n",
        "\n",
        "import seaborn as sns\n",
        "from pylab import rcParams\n",
        "import matplotlib.pyplot as plt\n",
        "from matplotlib import rc\n",
        "\n",
        "%matplotlib inline  \n",
        "%config InlineBackend.figure_format='retina'\n",
        "\n",
        "RANDOM_SEED = 42\n",
        "\n",
        "sns.set(style='whitegrid', palette='muted', font_scale=1.2)\n",
        "HAPPY_COLORS_PALETTE = [\"#01BEFE\", \"#FFDD00\", \"#FF7D00\", \"#FF006D\", \"#ADFF02\", \"#8F00FF\"]\n",
        "sns.set_palette(sns.color_palette(HAPPY_COLORS_PALETTE))\n",
        "rcParams['figure.figsize'] = 12, 8\n",
        "\n",
        "pl.seed_everything(RANDOM_SEED)\n",
        "\n",
        "from collections import Counter"
      ],
      "execution_count": null,
      "outputs": [
        {
          "output_type": "stream",
          "name": "stderr",
          "text": [
            "Global seed set to 42\n"
          ]
        }
      ]
    },
    {
      "cell_type": "code",
      "metadata": {
        "colab": {
          "base_uri": "https://localhost:8080/"
        },
        "id": "2J-G5I493xNb",
        "outputId": "0057b0d1-6248-46e3-c653-8c92f7eb3f9e"
      },
      "source": [
        "# import dataset\n",
        "train_df = pd.read_csv('drive/MyDrive/Biocreative/Biocreative/datasets/TRAIN.csv')\n",
        "train_df = train_df.sample(frac=1).reset_index(drop=True)\n",
        "train_df.head(), train_df.shape"
      ],
      "execution_count": null,
      "outputs": [
        {
          "output_type": "execute_result",
          "data": {
            "text/plain": [
              "(       pmid  ...                                     Title&Keywords\n",
              " 0  32265202  ...  Ocular manifestation hospitalised patient conf...\n",
              " 1  33036702  ...  COVID-19 senior Findings lesson mass screening...\n",
              " 2  32406522  ...  COVID-19 Focus lung forget gastrointestinal tr...\n",
              " 3  32599534  ...  subcutaneous insulin administration adequate m...\n",
              " 4  33005463  ...  First Case COVID-19-Associated Collapsing Glom...\n",
              " \n",
              " [5 rows x 13 columns], (30738, 13))"
            ]
          },
          "metadata": {},
          "execution_count": 10
        }
      ]
    },
    {
      "cell_type": "code",
      "metadata": {
        "id": "nPHjZkeR33dn",
        "colab": {
          "base_uri": "https://localhost:8080/"
        },
        "outputId": "2a04651e-9ea2-4135-fd51-456b9d51e641"
      },
      "source": [
        "LABEL_COLUMNS = train_df.columns.tolist()[5:-1]\n",
        "print(list(LABEL_COLUMNS))"
      ],
      "execution_count": null,
      "outputs": [
        {
          "output_type": "stream",
          "name": "stdout",
          "text": [
            "['Case Report', 'Diagnosis', 'Epidemic Forecasting', 'Mechanism', 'Prevention', 'Transmission', 'Treatment']\n"
          ]
        }
      ]
    },
    {
      "cell_type": "code",
      "metadata": {
        "colab": {
          "base_uri": "https://localhost:8080/",
          "height": 98,
          "referenced_widgets": [
            "f380c4aa7ff84571b9ff20dc05f6a8b2",
            "969ef0ecc57d4952baa3df427da39255",
            "03b022671c7c4007a8ffdd3bab113a81",
            "aa847a7725064eb7b6f3a0dd6a24532d",
            "ec01a9abd553489da6dff3902e4a5698",
            "7942bfd3d305421ead4275b9a438ae62",
            "1f6f15aca893444b8358108dabb68f5f",
            "ca3315e39da64918ba40c1eb7827ab04",
            "90ebfdf1194543e3b9fdd2dd3ec4cc27",
            "25f1f68d305242868dc7850d95077757",
            "029fadbb16094242af26756b350b6f01",
            "98724406f94d4f5090d3e2657c2910e1",
            "28a41876c1854fe9a6ea9d2553e05e4c",
            "c4706c0d414d4f29af1e329c1847a916",
            "b89c4abe96454a52abc0cdcf8018e4a6",
            "1685055bb8dc45b293a9503453574402",
            "e8d88c53a75c4eb585ef524abeeff9d9",
            "9754e0aab7aa49adad5cbcc0e9dc06ce",
            "9ac05f5413a147e28fad16318a9401af",
            "98badf42f58d4bd0a0ca2dae06e86ec7",
            "3d005b18f006407f980eda91c6e88634",
            "0b657f87aa9045468b07ef786d73735e"
          ]
        },
        "id": "jvN762J5370f",
        "outputId": "54a1fa05-8365-4e6f-bb3c-345c4093ecbe"
      },
      "source": [
        "# BERT_MODEL_NAME = 'dmis-lab/biobert-base-cased-v1.1' or 'dmis-lab/biobert-base-cased-v1.2'\n",
        "# Ref : microsoft/BiomedNLP-PubMedBERT-base-uncased-abstract-fulltext\n",
        "# Ref 2.0 : lordtt13/COVID-SciBERT\n",
        "BERT_MODEL_NAME = input(\"Enter Bert Model Name: \")\n",
        "tokenizer = AutoTokenizer.from_pretrained(BERT_MODEL_NAME)"
      ],
      "execution_count": null,
      "outputs": [
        {
          "name": "stdout",
          "output_type": "stream",
          "text": [
            "Enter Bert Model Name: microsoft/BiomedNLP-PubMedBERT-base-uncased-abstract-fulltext\n"
          ]
        },
        {
          "output_type": "display_data",
          "data": {
            "application/vnd.jupyter.widget-view+json": {
              "model_id": "f380c4aa7ff84571b9ff20dc05f6a8b2",
              "version_minor": 0,
              "version_major": 2
            },
            "text/plain": [
              "Downloading:   0%|          | 0.00/337 [00:00<?, ?B/s]"
            ]
          },
          "metadata": {}
        },
        {
          "output_type": "display_data",
          "data": {
            "application/vnd.jupyter.widget-view+json": {
              "model_id": "98724406f94d4f5090d3e2657c2910e1",
              "version_minor": 0,
              "version_major": 2
            },
            "text/plain": [
              "Downloading:   0%|          | 0.00/226k [00:00<?, ?B/s]"
            ]
          },
          "metadata": {}
        }
      ]
    },
    {
      "cell_type": "code",
      "metadata": {
        "colab": {
          "base_uri": "https://localhost:8080/",
          "height": 145,
          "referenced_widgets": [
            "3df13890cc494e03990778299dbd4738",
            "f524184975924da8aeb1478dee0cdc9e",
            "0e1cd576b0074f858533ef335db3a152",
            "b21a50601bae41c495002fb0380cba69",
            "3a2093c7582c41e0ad3e92fc7fcc2af6",
            "48a2ef6f2c6546d798aade9af8e064f8",
            "0343dc62531840cfb08bc0b284dcb97b",
            "75719f795fab4b9f8bc7e160da90e57d",
            "51c2d2f633494408bc83b83b56489c6d",
            "f3756dba37c347cb8d857bc2cd1d6c3e",
            "669fc56323014a8c81e63cfeeec6da60",
            "cd84d042fcb241199e95be55c08903c2",
            "daebed3d297445ab8b35af7c5f573f93",
            "ec3bc6d11b114489aa8b0b14bcc4fb2a",
            "f386b0c447ac48f280c825c5177cd8a7",
            "c06558d3adeb4c4281d945de4209dbc8",
            "6f71974739984f6b86111aedc1ba2fbc",
            "7107339785864b0d9ec02c8dfb248551",
            "b97861ad5975437e8c123001e2eba05e",
            "94ff98e45ae04a3aaf30de5c24b36c36",
            "71132e9540e542b49ff2d0b4f0bc63ff",
            "3f3b0838a8a040999709475118abd531",
            "0e59a24501a74766b2ef91d63c29f1d9",
            "3b21f038d4574ef0bc79db81d69d9f3a",
            "5728234de8fb4eb39350afd35904984c",
            "de0d7f9396514c379388f6bc96152bd5",
            "4d336513949b40bba21e5b35be59bcdf",
            "cd329f97c16c4218bccae00d755bace8",
            "642e57aff919487c96102853f6f6bce7",
            "9d0de904528040b08e4428cd9136c0f9",
            "3109456fecc54a9a88ff75cf83f2824a",
            "7d80feb794484ee0bd7d414cb4b5e151",
            "9722edad5feb4500a9c25b8d249720e1",
            "eb4d1d93f8434174a1f3e6e3e762dcc9",
            "71dcbcf63fce48179fe98690f66597af",
            "109ad4155a764b4199f26906ea9f4389",
            "a8d614b6e43e431587f8412eeb10279b",
            "fd7bffd2ae6949a5821ec89bcf23b551",
            "7a3e12654abe49d8aeb4538e7b2ad430",
            "8ff35d7e55694f7da03a1cfd42d80c88",
            "b770c04cd99345589297561ddf00fabf",
            "4817dd1340f14539b4428706cf9220cf",
            "6200e124418a41a8b9bfd9477958a93c",
            "781d8c5a83a6453da7af7d0216defa48"
          ]
        },
        "id": "ewkGGct8EhVo",
        "outputId": "658963bb-7f18-4c52-997c-2b0baea88a8f"
      },
      "source": [
        "# model_name = \"allenai/specter\"\n",
        "EMBEDDING_MODEL = \"allenai/specter\"\n",
        "embedding_tokenizer = AutoTokenizer.from_pretrained(EMBEDDING_MODEL)"
      ],
      "execution_count": null,
      "outputs": [
        {
          "output_type": "display_data",
          "data": {
            "application/vnd.jupyter.widget-view+json": {
              "model_id": "3df13890cc494e03990778299dbd4738",
              "version_minor": 0,
              "version_major": 2
            },
            "text/plain": [
              "Downloading:   0%|          | 0.00/321 [00:00<?, ?B/s]"
            ]
          },
          "metadata": {}
        },
        {
          "output_type": "display_data",
          "data": {
            "application/vnd.jupyter.widget-view+json": {
              "model_id": "cd84d042fcb241199e95be55c08903c2",
              "version_minor": 0,
              "version_major": 2
            },
            "text/plain": [
              "Downloading:   0%|          | 0.00/612 [00:00<?, ?B/s]"
            ]
          },
          "metadata": {}
        },
        {
          "output_type": "display_data",
          "data": {
            "application/vnd.jupyter.widget-view+json": {
              "model_id": "0e59a24501a74766b2ef91d63c29f1d9",
              "version_minor": 0,
              "version_major": 2
            },
            "text/plain": [
              "Downloading:   0%|          | 0.00/222k [00:00<?, ?B/s]"
            ]
          },
          "metadata": {}
        },
        {
          "output_type": "display_data",
          "data": {
            "application/vnd.jupyter.widget-view+json": {
              "model_id": "eb4d1d93f8434174a1f3e6e3e762dcc9",
              "version_minor": 0,
              "version_major": 2
            },
            "text/plain": [
              "Downloading:   0%|          | 0.00/112 [00:00<?, ?B/s]"
            ]
          },
          "metadata": {}
        }
      ]
    },
    {
      "cell_type": "code",
      "metadata": {
        "id": "dPe2NxpZxdRg"
      },
      "source": [
        "title_abs = [row[\"title\"] + embedding_tokenizer.sep_token + (row.get(\"abstract\") or '') for _, row in train_df.iterrows()]"
      ],
      "execution_count": null,
      "outputs": []
    },
    {
      "cell_type": "code",
      "metadata": {
        "id": "tK7yQZRbxy8t"
      },
      "source": [
        "# add title and abstract text\n",
        "train_df[\"title_abs\"] = title_abs"
      ],
      "execution_count": null,
      "outputs": []
    },
    {
      "cell_type": "code",
      "metadata": {
        "colab": {
          "base_uri": "https://localhost:8080/"
        },
        "id": "IhEHKoniFMUN",
        "outputId": "18c889e3-30b5-42e2-c7bc-3cdf50e8e931"
      },
      "source": [
        "train_df[LABEL_COLUMNS].sum().sort_values()"
      ],
      "execution_count": null,
      "outputs": [
        {
          "output_type": "execute_result",
          "data": {
            "text/plain": [
              "Epidemic Forecasting     1528\n",
              "Case Report              2291\n",
              "Transmission             3165\n",
              "Mechanism                5414\n",
              "Diagnosis                7456\n",
              "Treatment               10091\n",
              "Prevention              13998\n",
              "dtype: int64"
            ]
          },
          "metadata": {},
          "execution_count": 19
        }
      ]
    },
    {
      "cell_type": "code",
      "metadata": {
        "id": "z2rEib0m4Q8L"
      },
      "source": [
        "MAX_TOKEN_COUNT = 512"
      ],
      "execution_count": null,
      "outputs": []
    },
    {
      "cell_type": "code",
      "metadata": {
        "id": "gBqnBhdu3-ei"
      },
      "source": [
        "class TopicAnnotationDataset(Dataset):\n",
        "\n",
        "  def __init__(\n",
        "    self,\n",
        "    data: pd.DataFrame,\n",
        "    embedding_tokenizer: AutoTokenizer,\n",
        "    max_token_len: int = 512,\n",
        "  ):\n",
        "    self.embedding_tokenizer = embedding_tokenizer\n",
        "    self.data = data\n",
        "    self.max_token_len = max_token_len\n",
        "    \n",
        "  def __len__(self):\n",
        "    return len(self.data)\n",
        "\n",
        "  def __getitem__(self, index=int):\n",
        "    \n",
        "    data_row = self.data.iloc[index]\n",
        "\n",
        "    text = data_row.title_abs\n",
        "    labels = data_row[LABEL_COLUMNS]\n",
        "\n",
        "    inputs = self.embedding_tokenizer.encode_plus(\n",
        "        text, \n",
        "        max_length=self.max_token_len,\n",
        "        padding=\"max_length\", \n",
        "        truncation=True, \n",
        "        return_tensors=\"pt\", \n",
        "    )\n",
        "\n",
        "    return dict(\n",
        "        text=text,\n",
        "        input_ids=inputs[\"input_ids\"].flatten(),\n",
        "        attention_mask=inputs[\"attention_mask\"].flatten(),\n",
        "        labels=torch.FloatTensor(labels) \n",
        "    )  "
      ],
      "execution_count": null,
      "outputs": []
    },
    {
      "cell_type": "code",
      "metadata": {
        "id": "ou3_fJXGBnHg"
      },
      "source": [
        "train_dataset = TopicAnnotationDataset(\n",
        "    train_df,\n",
        "    embedding_tokenizer=embedding_tokenizer,\n",
        ")"
      ],
      "execution_count": null,
      "outputs": []
    },
    {
      "cell_type": "code",
      "metadata": {
        "id": "-mS-6FdgBp6Z"
      },
      "source": [
        "class TopicAnnotationDataModule(pl.LightningDataModule):\n",
        "\n",
        "  def __init__(self, train_df, test_df, tokenizer, embedding_tokenizer, batch_size=8, max_token_len=128):\n",
        "    \n",
        "    super().__init__()\n",
        "    self.batch_size = batch_size\n",
        "    self.train_df = train_df\n",
        "    self.test_df = test_df\n",
        "    self.embedding_tokenizer = embedding_tokenizer\n",
        "    self.max_token_len = max_token_len\n",
        "\n",
        "  def setup(self, stage=None):\n",
        "    \n",
        "    self.train_dataset =  TopicAnnotationDataset(\n",
        "        data=self.train_df,\n",
        "        embedding_tokenizer=self.embedding_tokenizer,\n",
        "        max_token_len=self.max_token_len\n",
        "    )\n",
        "\n",
        "    self.test_dataset = TopicAnnotationDataset(\n",
        "        data=self.test_df,\n",
        "        embedding_tokenizer=self.embedding_tokenizer,\n",
        "        max_token_len=self.max_token_len\n",
        "    )\n",
        "\n",
        "  def train_dataloader(self):\n",
        "\n",
        "    return DataLoader(\n",
        "        self.train_dataset,\n",
        "        batch_size=self.batch_size,\n",
        "        shuffle=True,\n",
        "        num_workers=2\n",
        "    )\n",
        "\n",
        "  def val_dataloader(self):\n",
        "\n",
        "    return DataLoader(\n",
        "        self.test_dataset,\n",
        "        batch_size=self.batch_size,\n",
        "        num_workers=2\n",
        "    )\n",
        "\n",
        "  def test_dataloader(self):\n",
        "    \n",
        "    return DataLoader(\n",
        "        self.test_dataset,\n",
        "        batch_size=self.batch_size,\n",
        "        num_workers=2\n",
        "    )"
      ],
      "execution_count": null,
      "outputs": []
    },
    {
      "cell_type": "code",
      "metadata": {
        "colab": {
          "base_uri": "https://localhost:8080/",
          "height": 35
        },
        "id": "o5ELtrPQebvV",
        "outputId": "6b048f25-1a47-4637-8385-485f772d7e0f"
      },
      "source": [
        "%pwd"
      ],
      "execution_count": null,
      "outputs": [
        {
          "output_type": "execute_result",
          "data": {
            "application/vnd.google.colaboratory.intrinsic+json": {
              "type": "string"
            },
            "text/plain": [
              "'/content'"
            ]
          },
          "metadata": {},
          "execution_count": 24
        }
      ]
    },
    {
      "cell_type": "code",
      "metadata": {
        "colab": {
          "base_uri": "https://localhost:8080/"
        },
        "id": "fMLXnUybDWIs",
        "outputId": "6c67e11d-99ee-4962-e99a-eb3d641920a8"
      },
      "source": [
        "val_df = pd.read_csv(\"/content/drive/MyDrive/Biocreative/Biocreative/datasets/VAL.csv\")\n",
        "val_df = val_df.sample(frac=1).reset_index(drop=True)\n",
        "val_df.shape"
      ],
      "execution_count": null,
      "outputs": [
        {
          "output_type": "execute_result",
          "data": {
            "text/plain": [
              "(3423, 13)"
            ]
          },
          "metadata": {},
          "execution_count": 25
        }
      ]
    },
    {
      "cell_type": "code",
      "metadata": {
        "id": "-3AWtep4PYse"
      },
      "source": [
        "title_abs = [row[\"title\"] + embedding_tokenizer.sep_token + (row.get(\"abstract\") or '') for _, row in val_df.iterrows()]\n",
        "val_df[\"title_abs\"] = title_abs"
      ],
      "execution_count": null,
      "outputs": []
    },
    {
      "cell_type": "code",
      "metadata": {
        "id": "gCZ1sc2Ewm_K"
      },
      "source": [
        "N_EPOCHS = 10\n",
        "BATCH_SIZE = 4\n",
        "\n",
        "data_module = TopicAnnotationDataModule(\n",
        "    train_df,\n",
        "    val_df,\n",
        "    tokenizer,\n",
        "    embedding_tokenizer,\n",
        "    batch_size=BATCH_SIZE,\n",
        "    max_token_len=MAX_TOKEN_COUNT\n",
        ")"
      ],
      "execution_count": null,
      "outputs": []
    },
    {
      "cell_type": "code",
      "metadata": {
        "colab": {
          "base_uri": "https://localhost:8080/"
        },
        "id": "xWNeGIHA9O7K",
        "outputId": "cba7a4aa-da9e-4245-add7-3e6728665c76"
      },
      "source": [
        "Label_count = train_df[LABEL_COLUMNS].sum().to_dict()\n",
        "count = list(Label_count.values())\n",
        "max_val = max(count)\n",
        "class_weight = [max_val/val for val in count]\n",
        "print(class_weight)"
      ],
      "execution_count": null,
      "outputs": [
        {
          "output_type": "stream",
          "name": "stdout",
          "text": [
            "[6.109995635093846, 1.8774141630901287, 9.160994764397905, 2.5855190247506465, 1.0, 4.4227488151658765, 1.3871766921018729]\n"
          ]
        }
      ]
    },
    {
      "cell_type": "code",
      "metadata": {
        "colab": {
          "base_uri": "https://localhost:8080/"
        },
        "id": "tZxCvK9y9ZQw",
        "outputId": "1dae3cc5-e89d-4a21-8185-604d20d31637"
      },
      "source": [
        "# print label and corresponding weights\n",
        "dict(zip(LABEL_COLUMNS, class_weight))"
      ],
      "execution_count": null,
      "outputs": [
        {
          "output_type": "execute_result",
          "data": {
            "text/plain": [
              "{'Case Report': 6.109995635093846,\n",
              " 'Diagnosis': 1.8774141630901287,\n",
              " 'Epidemic Forecasting': 9.160994764397905,\n",
              " 'Mechanism': 2.5855190247506465,\n",
              " 'Prevention': 1.0,\n",
              " 'Transmission': 4.4227488151658765,\n",
              " 'Treatment': 1.3871766921018729}"
            ]
          },
          "metadata": {},
          "execution_count": 29
        }
      ]
    },
    {
      "cell_type": "code",
      "metadata": {
        "id": "nvp3Eah69cUu"
      },
      "source": [
        "class_weight = torch.tensor(class_weight, device=\"cuda\")"
      ],
      "execution_count": null,
      "outputs": []
    },
    {
      "cell_type": "code",
      "metadata": {
        "id": "uKYtVKIsWU3b"
      },
      "source": [
        "class FFN(nn.Module):\n",
        "  def __init__(self, in_feat, out_feat, dropout):\n",
        "      super(FFN, self).__init__()\n",
        "      self.in2hid = nn.Linear(in_feat, in_feat)\n",
        "      self.hid2out = nn.Linear(in_feat, out_feat)\n",
        "\n",
        "      self.activation = nn.ReLU()\n",
        "      self.dropout = nn.Dropout(dropout)\n",
        "\n",
        "  def forward(self, input):\n",
        "      hid = self.activation(self.dropout(self.in2hid(input)))\n",
        "      return self.hid2out(hid)"
      ],
      "execution_count": null,
      "outputs": []
    },
    {
      "cell_type": "code",
      "metadata": {
        "id": "IEvzbePlw5RX"
      },
      "source": [
        "class TopicAnnotationTagger(pl.LightningModule):\n",
        "\n",
        "  def __init__(self, n_classes: int, n_training_steps=None, n_warmup_steps=None):\n",
        "    \n",
        "    super().__init__()\n",
        "\n",
        "    self.specter = AutoModel.from_pretrained(EMBEDDING_MODEL, return_dict=True) # specter embedding model\n",
        "\n",
        "    self.n_training_steps = n_training_steps\n",
        "    self.n_warmup_steps = n_warmup_steps\n",
        "    self.criterion = nn.BCELoss(weight=class_weight)\n",
        "\n",
        "    self.fc = nn.Linear(self.specter.config.hidden_size, n_classes)\n",
        "    self.relu = nn.ReLU()\n",
        "    self.softmax = nn.Softmax(dim=1)\n",
        "    self.classifier = nn.Linear(self.specter.config.hidden_size, 1)\n",
        "    self.sigmoid = nn.Sigmoid()\n",
        "\n",
        "  def forward(self, input_ids, attention_mask, labels=None):\n",
        "\n",
        "    specter_output = self.specter(input_ids, attention_mask)\n",
        "    # last_hidden_state final cell (batch_size x specter_hidden_size)\n",
        "    specter_output = specter_output.last_hidden_state\n",
        "\n",
        "    # linear transformation and apply relu \n",
        "    # (batch_size x sequence_length x hidden_size) => (batch_size, sequence_length x n_classes)\n",
        "    energy = self.relu(self.fc(specter_output))\n",
        "    \n",
        "    # calculate attention weights \n",
        "    # (batch_size x sequence_length x n_classes)\n",
        "    attention = self.softmax(energy)\n",
        "\n",
        "    # apply attention weigths to encoded_output \n",
        "    # (batch_size x sequence_length x n_classes) * (batch_size x sequence_length x hidden_size) => (batch_size x n_classes x hidden_size)\n",
        "    context_vector = torch.einsum(\"nsk,nsl->nkl\", attention, specter_output)\n",
        "    # apply sigmoid function to context vector\n",
        "    output = self.sigmoid(self.classifier(context_vector).squeeze(-1))\n",
        "\n",
        "    loss = 0\n",
        "    if labels is not None:\n",
        "      loss = self.criterion(output, labels)\n",
        "    return loss, output\n",
        "\n",
        "  def training_step(self, batch, batch_idx):\n",
        "\n",
        "    input_ids = batch[\"input_ids\"]\n",
        "    attention_mask = batch[\"attention_mask\"]\n",
        "    labels = batch[\"labels\"]\n",
        "\n",
        "    loss, outputs = self(input_ids, attention_mask, labels)\n",
        "    self.log(\"train_loss\", loss, prog_bar=True, logger=True)\n",
        "    return {\"loss\": loss, \"predictions\": outputs, \"labels\": labels}\n",
        "\n",
        "  def validation_step(self, batch, batch_idx):\n",
        "\n",
        "    input_ids = batch[\"input_ids\"]\n",
        "    attention_mask = batch[\"attention_mask\"]\n",
        "    labels = batch[\"labels\"]\n",
        "\n",
        "    loss, outputs = self(input_ids, attention_mask, labels)\n",
        "    self.log(\"val_loss\", loss, prog_bar=True, logger=True)\n",
        "    return loss\n",
        "\n",
        "  def test_step(self, batch, batch_idx):\n",
        "    \n",
        "    input_ids = batch[\"input_ids\"]\n",
        "    attention_mask = batch[\"attention_mask\"]\n",
        "    labels = batch[\"labels\"]\n",
        "\n",
        "    loss, outputs = self(input_ids, attention_mask, labels)\n",
        "    self.log(\"test_loss\", loss, prog_bar=True, logger=True)\n",
        "    return loss\n",
        "\n",
        "  def training_epoch_end(self, outputs):\n",
        "\n",
        "    labels = []\n",
        "    predictions = []\n",
        "    for output in outputs:\n",
        "      for out_labels in output[\"labels\"].detach().cpu():\n",
        "        labels.append(out_labels)\n",
        "      for out_predictions in output[\"predictions\"].detach().cpu():\n",
        "        predictions.append(out_predictions)\n",
        "\n",
        "    labels = torch.stack(labels).int()\n",
        "    predictions = torch.stack(predictions)\n",
        "\n",
        "    for i, name in enumerate(LABEL_COLUMNS):\n",
        "      class_roc_auc = auroc(predictions[:, i], labels[:, i])\n",
        "      self.logger.experiment.add_scalar(f\"{name}_roc_auc/Train\", class_roc_auc, self.current_epoch)\n",
        "\n",
        "  def configure_optimizers(self):\n",
        "\n",
        "    optimizer = AdamW(self.parameters(), lr=2e-5)\n",
        "\n",
        "    scheduler = get_linear_schedule_with_warmup(\n",
        "      optimizer,\n",
        "      num_warmup_steps=self.n_warmup_steps,\n",
        "      num_training_steps=self.n_training_steps\n",
        "    )\n",
        "\n",
        "    return dict(\n",
        "        optimizer=optimizer,\n",
        "        lr_scheduler=dict(\n",
        "            scheduler=scheduler,\n",
        "            interval='step'\n",
        "            )\n",
        "        )"
      ],
      "execution_count": null,
      "outputs": []
    },
    {
      "cell_type": "code",
      "metadata": {
        "id": "NQ0G4TvczkP4"
      },
      "source": [
        "steps_per_epoch=len(train_df) // BATCH_SIZE\n",
        "total_training_steps = steps_per_epoch * N_EPOCHS"
      ],
      "execution_count": null,
      "outputs": []
    },
    {
      "cell_type": "code",
      "metadata": {
        "colab": {
          "base_uri": "https://localhost:8080/"
        },
        "id": "ViKW_Boiz3WV",
        "outputId": "b53f2e1c-7128-46c9-f1d1-dfc411c45a05"
      },
      "source": [
        "warmup_steps = total_training_steps // 5\n",
        "warmup_steps, total_training_steps"
      ],
      "execution_count": null,
      "outputs": [
        {
          "output_type": "execute_result",
          "data": {
            "text/plain": [
              "(15368, 76840)"
            ]
          },
          "metadata": {},
          "execution_count": 34
        }
      ]
    },
    {
      "cell_type": "code",
      "metadata": {
        "id": "FgwMF0_3z4x-",
        "colab": {
          "base_uri": "https://localhost:8080/",
          "height": 49,
          "referenced_widgets": [
            "956d7252a68d4af7aabbede630c47b42",
            "fc4f1debf3bd44b1ba0f88bb688cf6c2",
            "0e5e7361cab34923a2931de3202078fb",
            "0efd924cc4b34bfe94f4e537c37a7040",
            "b6150ddaab1c4b5bbc88f1820820e4fd",
            "8652ed73f2994115a36210014772650a",
            "6ccdff29406840fa8b1bb672f9a21d30",
            "7547154128a44fbfb102f03ff319f550",
            "cbc3e911771a4afc97272c6756b5c66d",
            "8a5e9a3254af4c4c8f85bad4f368302e",
            "eb2cbb9ae3724d66bdda9c42b3c75046"
          ]
        },
        "outputId": "d4ca549c-79fd-4291-faf3-ebf2da50bd18"
      },
      "source": [
        "model = TopicAnnotationTagger(\n",
        "    n_classes=len(LABEL_COLUMNS),\n",
        "    n_warmup_steps=warmup_steps,\n",
        "    n_training_steps=total_training_steps\n",
        ")"
      ],
      "execution_count": null,
      "outputs": [
        {
          "output_type": "display_data",
          "data": {
            "application/vnd.jupyter.widget-view+json": {
              "model_id": "956d7252a68d4af7aabbede630c47b42",
              "version_minor": 0,
              "version_major": 2
            },
            "text/plain": [
              "Downloading:   0%|          | 0.00/440M [00:00<?, ?B/s]"
            ]
          },
          "metadata": {}
        }
      ]
    },
    {
      "cell_type": "code",
      "metadata": {
        "colab": {
          "base_uri": "https://localhost:8080/",
          "height": 35
        },
        "id": "FABmVeWfaU9D",
        "outputId": "84f440fe-215d-4b95-ea06-d824bcf804a7"
      },
      "source": [
        "%pwd"
      ],
      "execution_count": null,
      "outputs": [
        {
          "output_type": "execute_result",
          "data": {
            "application/vnd.google.colaboratory.intrinsic+json": {
              "type": "string"
            },
            "text/plain": [
              "'/content'"
            ]
          },
          "metadata": {},
          "execution_count": 37
        }
      ]
    },
    {
      "cell_type": "code",
      "metadata": {
        "id": "n0fX6c7ndf4Y"
      },
      "source": [
        "cd '/content/drive/MyDrive/Biocreative/Biocreative/checkpoints_and_logs/'"
      ],
      "execution_count": null,
      "outputs": []
    },
    {
      "cell_type": "code",
      "metadata": {
        "id": "vbV_UYtydmTx"
      },
      "source": [
        "checkpoint_callback = ModelCheckpoint(\n",
        "    dirpath=\"specter-lwan-checkpoints\",\n",
        "    filename=\"specter-lwan-checkpoint\",\n",
        "    save_top_k=1,\n",
        "    verbose=True,\n",
        "    monitor=\"val_loss\",\n",
        "    mode=\"min\"\n",
        ")"
      ],
      "execution_count": null,
      "outputs": []
    },
    {
      "cell_type": "code",
      "metadata": {
        "id": "4-RmpccZdqEk"
      },
      "source": [
        "logger = TensorBoardLogger(\"specter-lwan-lightning_logs\", name=\"topic-annotations\")"
      ],
      "execution_count": null,
      "outputs": []
    },
    {
      "cell_type": "code",
      "metadata": {
        "id": "aE7WyXJwdtoH"
      },
      "source": [
        "early_stopping_callback = EarlyStopping(monitor='val_loss', patience=2)"
      ],
      "execution_count": null,
      "outputs": []
    },
    {
      "cell_type": "code",
      "metadata": {
        "colab": {
          "base_uri": "https://localhost:8080/"
        },
        "id": "LWZpif0HdutD",
        "outputId": "d65a176d-6007-4a25-ec5d-02ccdd8375bc"
      },
      "source": [
        "trainer = pl.Trainer(\n",
        "    logger=logger,\n",
        "    checkpoint_callback=True,\n",
        "    callbacks=[checkpoint_callback, early_stopping_callback],\n",
        "    max_epochs=N_EPOCHS,\n",
        "    gpus=1,\n",
        "    progress_bar_refresh_rate=30\n",
        ")"
      ],
      "execution_count": null,
      "outputs": [
        {
          "output_type": "stream",
          "text": [
            "GPU available: True, used: True\n",
            "TPU available: False, using: 0 TPU cores\n",
            "IPU available: False, using: 0 IPUs\n"
          ],
          "name": "stderr"
        }
      ]
    },
    {
      "cell_type": "code",
      "metadata": {
        "colab": {
          "base_uri": "https://localhost:8080/",
          "height": 652,
          "referenced_widgets": [
            "36e1464cd21140dd9d33bc4ff7fe514d",
            "8dd7467755ca45f593845d0e11fe46f7",
            "0ce33de243874c809d063a7bc6d32f04",
            "8a74ed210d3645e09686a15abd151d2c",
            "2223260321284bd888dd42c642111293",
            "26de42e2bdcd40a6aabf0005e98de09c",
            "3133d5acf9ef44fe8d8ffb7ef1b67e45",
            "2ec8bda9993549fc8cfe6a5374dcab14",
            "98d1c7a8d8e34796bce8a8805cde6b0a",
            "8085ac2da9d341fb8f56e75c70fd6591",
            "0f6f6c166d7648d3b1193f2f92c67c87",
            "3d7715e955774a499d476875e58717fe",
            "dbd95d8b1fa64e839aed757d688b9608",
            "6f5f6fe736644dd283013779b4f6cf5a",
            "f1f4c47e994c44e1b892af72a0a3b325",
            "dc20ecab8e934adcbcb6fab031176f83",
            "e44b0640569045dfb005a9f979dff9ef",
            "4398574c0ae4415cb3ad7388e382219c",
            "bd65dedb00cd4437b59f6a26a98ca117",
            "66d654e792d44af88d700523b0873d60",
            "c95e74b784b4451eb541dc83112d1f77",
            "03cb29d7b4334762ba93f16cdae849ae",
            "2c7bf786bc8f42f98bd2bc6e8cad5eaa",
            "1a8700cc4ff94902822c3e14270df63c",
            "a2f298c129dc4d62b057881b90a2e7d0",
            "15922cd0dad44b22bc516986280bcfc4",
            "94a0445be0e044a1bf0c8e77acba48b3",
            "88c6c259290244eda83ff8dd1002c568",
            "da5222e08d04453d84f08f64c341392a",
            "f925c485f03346ba893a1e5ecf656e64",
            "99a72695568a4614b787e9a35c2c96a1",
            "80930c2aa4324ced8c244430ed732701",
            "7081ce10ac9040968b522eb695c9f899",
            "dd243a719b8d45168490eba3798ef677",
            "ae2bcb312d8e4c43a2667cf52ae7b811",
            "6a10dbee1e674b0d9d320339e182782b",
            "1a2de4d61fc84afba5fb3a472246d47b",
            "06fb8bd16c66414e9eb78d22adf641bc",
            "030940eefdb64a75b1c905d2f12f7848",
            "349a18affc254fdea9e77df6b6fd15c9",
            "db468fba218247a39908e2de8cd8a3a8",
            "6ed614735daa444a959547bf803a6571",
            "cfa53649ee174f139c59f9482e226f54",
            "fc011efec0764e159133a7b3f0462dd2",
            "3a3a51bf09be4158b5aa9cf92f7b052f",
            "f39aea0f50f44440b540d8c8cacd607e",
            "98e6d2566fde417f99c56d93e5298c58",
            "ae6e4a9540e6477c80f03c52c5857497",
            "81f9d910682d406eb18501c58eb0b315",
            "48e99c20095c44bd8f11d93fa4a10143",
            "0a81366ec8d048ea8ed87a6ebd16e235",
            "48b65a1683144aeda8746af718bbfc1b",
            "2a63363bfd38400ba99489505f47dc0a",
            "b0b306c52f25401cb2e04bc51509dc1e",
            "43122d43bb0c436bb22616db907480b7",
            "c2d5053d36764895b17aad82ee0b4dd3",
            "eb2eedda639a41f7bad1d6168b86a55f",
            "906cab408e344d6b9294537de2aaa895",
            "97e464871eca4db89f6f4f3508bf64db",
            "3a743b33bb6d4d4996831c25810b2271",
            "177545e1bc964370911abe3b196ad1e2",
            "17826214b29c4db885a2e0dca20296ab",
            "b4bbf3bfbeb04e9db5505ff2044975a1",
            "bc48843115de494d94b5cdc96807f865",
            "758cc74f9be84d339a47c1bd21bbfd0c",
            "52bfb9ae57f94f10ba7a6cb52eea47f1",
            "ffda3bc4131b41cbb0351f9bbfb9b627",
            "a4c3bea637f6468d9cfc055aa4c32539",
            "51002d158afd47f193ecda6da7cbbb84",
            "1016b1b3e3304ca29e6ec1a7394db9c5",
            "98e88b474be843618da2301c39cedd59",
            "6cd019c61d3e44dba15d691406931556",
            "62ed28f7d872459ba26dc4f3b9646390",
            "dd4ddd7198e84aac8f057c1096768c47",
            "12e9b34dfc634366860e6085bcd4a873",
            "ad1bba68d97d4d4fa5a672a13e75409e",
            "a2ee30d3d9e64535a908df766c7ee69a",
            "8a3e90666d7746dc8cb9dffbdf377a9e",
            "f6a808a3f0444d78a62d80b0038ebbad",
            "195e4acc092c481698393e22b58976d2",
            "f5ba66d5402e4a9f99da4384b0f44e97",
            "66ee4d10147846eeb736bfa878e1c0d0",
            "2b34e100762c4ee1ac0eddca50bb2460",
            "11f32b05081f4c47b85b99546b848c27",
            "c052b4a58d0e493da9b946dc1118cd53",
            "9e9c0faf46b44d8b85aa6391786e324f",
            "ad0f7c7ef1344ccea71ef1bf6cb52bba",
            "858202f1c8d1434ea8cab5d87126e887"
          ]
        },
        "id": "K-O8JXQodvla",
        "outputId": "b62ac353-e683-4e1a-ca3f-d454ac060652"
      },
      "source": [
        "trainer.fit(model, data_module)"
      ],
      "execution_count": null,
      "outputs": [
        {
          "metadata": {
            "tags": null
          },
          "name": "stderr",
          "output_type": "stream",
          "text": [
            "/usr/local/lib/python3.7/dist-packages/pytorch_lightning/core/datamodule.py:424: LightningDeprecationWarning: DataModule.prepare_data has already been called, so it will not be called again. In v1.6 this behavior will change to always call DataModule.prepare_data.\n",
            "  f\"DataModule.{name} has already been called, so it will not be called again. \"\n",
            "/usr/local/lib/python3.7/dist-packages/pytorch_lightning/core/datamodule.py:424: LightningDeprecationWarning: DataModule.setup has already been called, so it will not be called again. In v1.6 this behavior will change to always call DataModule.setup.\n",
            "  f\"DataModule.{name} has already been called, so it will not be called again. \"\n",
            "LOCAL_RANK: 0 - CUDA_VISIBLE_DEVICES: [0]\n",
            "\n",
            "  | Name       | Type      | Params\n",
            "-----------------------------------------\n",
            "0 | specter    | BertModel | 109 M \n",
            "1 | criterion  | BCELoss   | 0     \n",
            "2 | fc         | Linear    | 5.4 K \n",
            "3 | relu       | ReLU      | 0     \n",
            "4 | softmax    | Softmax   | 0     \n",
            "5 | classifier | Linear    | 769   \n",
            "6 | sigmoid    | Sigmoid   | 0     \n",
            "-----------------------------------------\n",
            "109 M     Trainable params\n",
            "0         Non-trainable params\n",
            "109 M     Total params\n",
            "439.778   Total estimated model params size (MB)\n"
          ]
        },
        {
          "data": {
            "application/vnd.jupyter.widget-view+json": {
              "model_id": "36e1464cd21140dd9d33bc4ff7fe514d",
              "version_major": 2,
              "version_minor": 0
            },
            "text/plain": [
              "Validation sanity check: 0it [00:00, ?it/s]"
            ]
          },
          "metadata": {},
          "output_type": "display_data"
        },
        {
          "metadata": {
            "tags": null
          },
          "name": "stderr",
          "output_type": "stream",
          "text": [
            "Global seed set to 42\n"
          ]
        },
        {
          "data": {
            "application/vnd.jupyter.widget-view+json": {
              "model_id": "3d7715e955774a499d476875e58717fe",
              "version_major": 2,
              "version_minor": 0
            },
            "text/plain": [
              "Training: -1it [00:00, ?it/s]"
            ]
          },
          "metadata": {},
          "output_type": "display_data"
        },
        {
          "data": {
            "application/vnd.jupyter.widget-view+json": {
              "model_id": "2c7bf786bc8f42f98bd2bc6e8cad5eaa",
              "version_major": 2,
              "version_minor": 0
            },
            "text/plain": [
              "Validating: 0it [00:00, ?it/s]"
            ]
          },
          "metadata": {},
          "output_type": "display_data"
        },
        {
          "metadata": {
            "tags": null
          },
          "name": "stderr",
          "output_type": "stream",
          "text": [
            "Epoch 0, global step 7684: val_loss reached 0.41284 (best 0.41284), saving model to \"/content/drive/MyDrive/Biocreative/Biocreative/checkpoints_and_logs/specter-lwan-checkpoints/specter-lwan-checkpoint.ckpt\" as top 1\n"
          ]
        },
        {
          "data": {
            "application/vnd.jupyter.widget-view+json": {
              "model_id": "dd243a719b8d45168490eba3798ef677",
              "version_major": 2,
              "version_minor": 0
            },
            "text/plain": [
              "Validating: 0it [00:00, ?it/s]"
            ]
          },
          "metadata": {},
          "output_type": "display_data"
        },
        {
          "metadata": {
            "tags": null
          },
          "name": "stderr",
          "output_type": "stream",
          "text": [
            "Epoch 1, global step 15369: val_loss reached 0.34346 (best 0.34346), saving model to \"/content/drive/MyDrive/Biocreative/Biocreative/checkpoints_and_logs/specter-lwan-checkpoints/specter-lwan-checkpoint.ckpt\" as top 1\n"
          ]
        },
        {
          "output_type": "display_data",
          "data": {
            "application/vnd.jupyter.widget-view+json": {
              "model_id": "3a3a51bf09be4158b5aa9cf92f7b052f",
              "version_minor": 0,
              "version_major": 2
            },
            "text/plain": [
              "Validating: 0it [00:00, ?it/s]"
            ]
          },
          "metadata": {}
        },
        {
          "output_type": "stream",
          "text": [
            "Epoch 2, global step 23054: val_loss reached 0.31563 (best 0.31563), saving model to \"/content/drive/MyDrive/Biocreative/Biocreative/checkpoints_and_logs/specter-lwan-checkpoints/specter-lwan-checkpoint.ckpt\" as top 1\n"
          ],
          "name": "stderr"
        },
        {
          "output_type": "display_data",
          "data": {
            "application/vnd.jupyter.widget-view+json": {
              "model_id": "c2d5053d36764895b17aad82ee0b4dd3",
              "version_minor": 0,
              "version_major": 2
            },
            "text/plain": [
              "Validating: 0it [00:00, ?it/s]"
            ]
          },
          "metadata": {}
        },
        {
          "output_type": "stream",
          "text": [
            "Epoch 3, global step 30739: val_loss reached 0.27820 (best 0.27820), saving model to \"/content/drive/MyDrive/Biocreative/Biocreative/checkpoints_and_logs/specter-lwan-checkpoints/specter-lwan-checkpoint.ckpt\" as top 1\n"
          ],
          "name": "stderr"
        },
        {
          "output_type": "display_data",
          "data": {
            "application/vnd.jupyter.widget-view+json": {
              "model_id": "ffda3bc4131b41cbb0351f9bbfb9b627",
              "version_minor": 0,
              "version_major": 2
            },
            "text/plain": [
              "Validating: 0it [00:00, ?it/s]"
            ]
          },
          "metadata": {}
        },
        {
          "output_type": "stream",
          "text": [
            "Epoch 4, global step 38424: val_loss was not in top 1\n"
          ],
          "name": "stderr"
        },
        {
          "output_type": "display_data",
          "data": {
            "application/vnd.jupyter.widget-view+json": {
              "model_id": "8a3e90666d7746dc8cb9dffbdf377a9e",
              "version_minor": 0,
              "version_major": 2
            },
            "text/plain": [
              "Validating: 0it [00:00, ?it/s]"
            ]
          },
          "metadata": {}
        },
        {
          "output_type": "stream",
          "text": [
            "Epoch 5, global step 46109: val_loss was not in top 1\n",
            "/usr/local/lib/python3.7/dist-packages/pytorch_lightning/core/datamodule.py:424: LightningDeprecationWarning: DataModule.teardown has already been called, so it will not be called again. In v1.6 this behavior will change to always call DataModule.teardown.\n",
            "  f\"DataModule.{name} has already been called, so it will not be called again. \"\n"
          ],
          "name": "stderr"
        }
      ]
    },
    {
      "cell_type": "markdown",
      "metadata": {
        "id": "UUhKS-dUegTd"
      },
      "source": [
        "### Test"
      ]
    },
    {
      "cell_type": "code",
      "metadata": {
        "colab": {
          "base_uri": "https://localhost:8080/",
          "height": 203
        },
        "id": "utQ5lfJvlQix",
        "outputId": "0da6dbab-b337-420c-cea8-e9b219e93d1b"
      },
      "source": [
        "# import dataset\n",
        "test_df = pd.read_csv('drive/MyDrive/Biocreative/Biocreative/TEST_dataset.csv')\n",
        "test_df.head()"
      ],
      "execution_count": null,
      "outputs": [
        {
          "output_type": "execute_result",
          "data": {
            "text/html": [
              "<div>\n",
              "<style scoped>\n",
              "    .dataframe tbody tr th:only-of-type {\n",
              "        vertical-align: middle;\n",
              "    }\n",
              "\n",
              "    .dataframe tbody tr th {\n",
              "        vertical-align: top;\n",
              "    }\n",
              "\n",
              "    .dataframe thead th {\n",
              "        text-align: right;\n",
              "    }\n",
              "</style>\n",
              "<table border=\"1\" class=\"dataframe\">\n",
              "  <thead>\n",
              "    <tr style=\"text-align: right;\">\n",
              "      <th></th>\n",
              "      <th>title</th>\n",
              "      <th>pmid</th>\n",
              "      <th>abstract</th>\n",
              "      <th>keywords</th>\n",
              "    </tr>\n",
              "  </thead>\n",
              "  <tbody>\n",
              "    <tr>\n",
              "      <th>0</th>\n",
              "      <td>Disentangling Association Hydroxychloroquine T...</td>\n",
              "      <td>34336157</td>\n",
              "      <td>efficacy hydroxychloroquine HCQ treating SARSC...</td>\n",
              "      <td>NaN</td>\n",
              "    </tr>\n",
              "    <tr>\n",
              "      <th>1</th>\n",
              "      <td>Risk factor mortality hospitalized patient COV...</td>\n",
              "      <td>34211701</td>\n",
              "      <td>BACKGROUND Peru one country highest COVID19 mo...</td>\n",
              "      <td>adults;covid-19;latin america.;mortality;sars-...</td>\n",
              "    </tr>\n",
              "    <tr>\n",
              "      <th>2</th>\n",
              "      <td>Inflammation COVID19 pathogenesis treatment</td>\n",
              "      <td>34367415</td>\n",
              "      <td>coronavirus disease 2019 COVID19 declared pand...</td>\n",
              "      <td>covid-19;sars-cov-2;cytokine storm;inflammatio...</td>\n",
              "    </tr>\n",
              "    <tr>\n",
              "      <th>3</th>\n",
              "      <td>Antimalarial drugsare beneficial rheumatic vir...</td>\n",
              "      <td>34218393</td>\n",
              "      <td>majority medical fraternity continuously invol...</td>\n",
              "      <td>antimalarial drugs;covid-19;rheumatic diseases...</td>\n",
              "    </tr>\n",
              "    <tr>\n",
              "      <th>4</th>\n",
              "      <td>Integration virtual physician visit provincial...</td>\n",
              "      <td>34131026</td>\n",
              "      <td>BACKGROUND British Columbia like many jurisdic...</td>\n",
              "      <td>NaN</td>\n",
              "    </tr>\n",
              "  </tbody>\n",
              "</table>\n",
              "</div>"
            ],
            "text/plain": [
              "                                               title  ...                                           keywords\n",
              "0  Disentangling Association Hydroxychloroquine T...  ...                                                NaN\n",
              "1  Risk factor mortality hospitalized patient COV...  ...  adults;covid-19;latin america.;mortality;sars-...\n",
              "2        Inflammation COVID19 pathogenesis treatment  ...  covid-19;sars-cov-2;cytokine storm;inflammatio...\n",
              "3  Antimalarial drugsare beneficial rheumatic vir...  ...  antimalarial drugs;covid-19;rheumatic diseases...\n",
              "4  Integration virtual physician visit provincial...  ...                                                NaN\n",
              "\n",
              "[5 rows x 4 columns]"
            ]
          },
          "metadata": {},
          "execution_count": 38
        }
      ]
    },
    {
      "cell_type": "code",
      "metadata": {
        "id": "FdjPYzXIoVk5"
      },
      "source": [
        "import numpy as np"
      ],
      "execution_count": null,
      "outputs": []
    },
    {
      "cell_type": "code",
      "metadata": {
        "colab": {
          "base_uri": "https://localhost:8080/"
        },
        "id": "Yf12OSBLoYv-",
        "outputId": "5396b068-e88b-40d7-beeb-206cca17122c"
      },
      "source": [
        "label_sampled = np.random.randint(0, 2, size=(test_df.shape[0], 7))\n",
        "label_sampled.shape"
      ],
      "execution_count": null,
      "outputs": [
        {
          "output_type": "execute_result",
          "data": {
            "text/plain": [
              "(2500, 7)"
            ]
          },
          "metadata": {},
          "execution_count": 40
        }
      ]
    },
    {
      "cell_type": "code",
      "metadata": {
        "id": "JBlpmJfyoKZ7"
      },
      "source": [
        "test_df[LABEL_COLUMNS] = label_sampled"
      ],
      "execution_count": null,
      "outputs": []
    },
    {
      "cell_type": "code",
      "metadata": {
        "colab": {
          "base_uri": "https://localhost:8080/",
          "height": 304
        },
        "id": "e-fEKF9Uoxbw",
        "outputId": "ccb94fc7-3a91-4100-f52d-97badfb4f735"
      },
      "source": [
        "test_df.head()"
      ],
      "execution_count": null,
      "outputs": [
        {
          "output_type": "execute_result",
          "data": {
            "text/html": [
              "<div>\n",
              "<style scoped>\n",
              "    .dataframe tbody tr th:only-of-type {\n",
              "        vertical-align: middle;\n",
              "    }\n",
              "\n",
              "    .dataframe tbody tr th {\n",
              "        vertical-align: top;\n",
              "    }\n",
              "\n",
              "    .dataframe thead th {\n",
              "        text-align: right;\n",
              "    }\n",
              "</style>\n",
              "<table border=\"1\" class=\"dataframe\">\n",
              "  <thead>\n",
              "    <tr style=\"text-align: right;\">\n",
              "      <th></th>\n",
              "      <th>title</th>\n",
              "      <th>pmid</th>\n",
              "      <th>abstract</th>\n",
              "      <th>keywords</th>\n",
              "      <th>Case Report</th>\n",
              "      <th>Diagnosis</th>\n",
              "      <th>Epidemic Forecasting</th>\n",
              "      <th>Mechanism</th>\n",
              "      <th>Prevention</th>\n",
              "      <th>Transmission</th>\n",
              "      <th>Treatment</th>\n",
              "    </tr>\n",
              "  </thead>\n",
              "  <tbody>\n",
              "    <tr>\n",
              "      <th>0</th>\n",
              "      <td>Disentangling Association Hydroxychloroquine T...</td>\n",
              "      <td>34336157</td>\n",
              "      <td>efficacy hydroxychloroquine HCQ treating SARSC...</td>\n",
              "      <td>NaN</td>\n",
              "      <td>1</td>\n",
              "      <td>0</td>\n",
              "      <td>0</td>\n",
              "      <td>1</td>\n",
              "      <td>1</td>\n",
              "      <td>1</td>\n",
              "      <td>1</td>\n",
              "    </tr>\n",
              "    <tr>\n",
              "      <th>1</th>\n",
              "      <td>Risk factor mortality hospitalized patient COV...</td>\n",
              "      <td>34211701</td>\n",
              "      <td>BACKGROUND Peru one country highest COVID19 mo...</td>\n",
              "      <td>adults;covid-19;latin america.;mortality;sars-...</td>\n",
              "      <td>1</td>\n",
              "      <td>0</td>\n",
              "      <td>0</td>\n",
              "      <td>0</td>\n",
              "      <td>1</td>\n",
              "      <td>1</td>\n",
              "      <td>1</td>\n",
              "    </tr>\n",
              "    <tr>\n",
              "      <th>2</th>\n",
              "      <td>Inflammation COVID19 pathogenesis treatment</td>\n",
              "      <td>34367415</td>\n",
              "      <td>coronavirus disease 2019 COVID19 declared pand...</td>\n",
              "      <td>covid-19;sars-cov-2;cytokine storm;inflammatio...</td>\n",
              "      <td>0</td>\n",
              "      <td>1</td>\n",
              "      <td>0</td>\n",
              "      <td>0</td>\n",
              "      <td>1</td>\n",
              "      <td>0</td>\n",
              "      <td>0</td>\n",
              "    </tr>\n",
              "    <tr>\n",
              "      <th>3</th>\n",
              "      <td>Antimalarial drugsare beneficial rheumatic vir...</td>\n",
              "      <td>34218393</td>\n",
              "      <td>majority medical fraternity continuously invol...</td>\n",
              "      <td>antimalarial drugs;covid-19;rheumatic diseases...</td>\n",
              "      <td>0</td>\n",
              "      <td>1</td>\n",
              "      <td>0</td>\n",
              "      <td>1</td>\n",
              "      <td>1</td>\n",
              "      <td>0</td>\n",
              "      <td>1</td>\n",
              "    </tr>\n",
              "    <tr>\n",
              "      <th>4</th>\n",
              "      <td>Integration virtual physician visit provincial...</td>\n",
              "      <td>34131026</td>\n",
              "      <td>BACKGROUND British Columbia like many jurisdic...</td>\n",
              "      <td>NaN</td>\n",
              "      <td>0</td>\n",
              "      <td>1</td>\n",
              "      <td>1</td>\n",
              "      <td>1</td>\n",
              "      <td>1</td>\n",
              "      <td>1</td>\n",
              "      <td>1</td>\n",
              "    </tr>\n",
              "  </tbody>\n",
              "</table>\n",
              "</div>"
            ],
            "text/plain": [
              "                                               title  ...  Treatment\n",
              "0  Disentangling Association Hydroxychloroquine T...  ...          1\n",
              "1  Risk factor mortality hospitalized patient COV...  ...          1\n",
              "2        Inflammation COVID19 pathogenesis treatment  ...          0\n",
              "3  Antimalarial drugsare beneficial rheumatic vir...  ...          1\n",
              "4  Integration virtual physician visit provincial...  ...          1\n",
              "\n",
              "[5 rows x 11 columns]"
            ]
          },
          "metadata": {},
          "execution_count": 42
        }
      ]
    },
    {
      "cell_type": "code",
      "metadata": {
        "colab": {
          "base_uri": "https://localhost:8080/"
        },
        "id": "ABbPZIl-lSdF",
        "outputId": "9f0ef678-ebd5-43de-8e98-524597baef8b"
      },
      "source": [
        "test_df.isna().sum()"
      ],
      "execution_count": null,
      "outputs": [
        {
          "output_type": "execute_result",
          "data": {
            "text/plain": [
              "title                     0\n",
              "pmid                      0\n",
              "abstract                  0\n",
              "keywords                444\n",
              "Case Report               0\n",
              "Diagnosis                 0\n",
              "Epidemic Forecasting      0\n",
              "Mechanism                 0\n",
              "Prevention                0\n",
              "Transmission              0\n",
              "Treatment                 0\n",
              "dtype: int64"
            ]
          },
          "metadata": {},
          "execution_count": 45
        }
      ]
    },
    {
      "cell_type": "code",
      "metadata": {
        "id": "_UR8UlstlSZr"
      },
      "source": [
        "test_df[\"abstract\"] = test_df.abstract.fillna(\"\")"
      ],
      "execution_count": null,
      "outputs": []
    },
    {
      "cell_type": "code",
      "metadata": {
        "id": "ncHc1nST2vjW"
      },
      "source": [
        "title_abs = [row[\"title\"] + embedding_tokenizer.sep_token + (row.get(\"abstract\") or '') for _, row in test_df.iterrows()]"
      ],
      "execution_count": null,
      "outputs": []
    },
    {
      "cell_type": "code",
      "metadata": {
        "id": "3MbqZpo42vjX"
      },
      "source": [
        "# add title and abstract text\n",
        "test_df[\"title_abs\"] = title_abs"
      ],
      "execution_count": null,
      "outputs": []
    },
    {
      "cell_type": "code",
      "metadata": {
        "colab": {
          "base_uri": "https://localhost:8080/",
          "height": 388
        },
        "id": "Fdn98eES26be",
        "outputId": "5a255f06-d35f-4045-d67c-ac2c105fea50"
      },
      "source": [
        "test_df.head()"
      ],
      "execution_count": null,
      "outputs": [
        {
          "output_type": "execute_result",
          "data": {
            "text/html": [
              "<div>\n",
              "<style scoped>\n",
              "    .dataframe tbody tr th:only-of-type {\n",
              "        vertical-align: middle;\n",
              "    }\n",
              "\n",
              "    .dataframe tbody tr th {\n",
              "        vertical-align: top;\n",
              "    }\n",
              "\n",
              "    .dataframe thead th {\n",
              "        text-align: right;\n",
              "    }\n",
              "</style>\n",
              "<table border=\"1\" class=\"dataframe\">\n",
              "  <thead>\n",
              "    <tr style=\"text-align: right;\">\n",
              "      <th></th>\n",
              "      <th>title</th>\n",
              "      <th>pmid</th>\n",
              "      <th>abstract</th>\n",
              "      <th>keywords</th>\n",
              "      <th>Case Report</th>\n",
              "      <th>Diagnosis</th>\n",
              "      <th>Epidemic Forecasting</th>\n",
              "      <th>Mechanism</th>\n",
              "      <th>Prevention</th>\n",
              "      <th>Transmission</th>\n",
              "      <th>Treatment</th>\n",
              "      <th>title_abs</th>\n",
              "    </tr>\n",
              "  </thead>\n",
              "  <tbody>\n",
              "    <tr>\n",
              "      <th>0</th>\n",
              "      <td>Disentangling Association Hydroxychloroquine T...</td>\n",
              "      <td>34336157</td>\n",
              "      <td>efficacy hydroxychloroquine HCQ treating SARSC...</td>\n",
              "      <td>NaN</td>\n",
              "      <td>1</td>\n",
              "      <td>0</td>\n",
              "      <td>0</td>\n",
              "      <td>1</td>\n",
              "      <td>1</td>\n",
              "      <td>1</td>\n",
              "      <td>1</td>\n",
              "      <td>Disentangling Association Hydroxychloroquine T...</td>\n",
              "    </tr>\n",
              "    <tr>\n",
              "      <th>1</th>\n",
              "      <td>Risk factor mortality hospitalized patient COV...</td>\n",
              "      <td>34211701</td>\n",
              "      <td>BACKGROUND Peru one country highest COVID19 mo...</td>\n",
              "      <td>adults;covid-19;latin america.;mortality;sars-...</td>\n",
              "      <td>1</td>\n",
              "      <td>0</td>\n",
              "      <td>0</td>\n",
              "      <td>0</td>\n",
              "      <td>1</td>\n",
              "      <td>1</td>\n",
              "      <td>1</td>\n",
              "      <td>Risk factor mortality hospitalized patient COV...</td>\n",
              "    </tr>\n",
              "    <tr>\n",
              "      <th>2</th>\n",
              "      <td>Inflammation COVID19 pathogenesis treatment</td>\n",
              "      <td>34367415</td>\n",
              "      <td>coronavirus disease 2019 COVID19 declared pand...</td>\n",
              "      <td>covid-19;sars-cov-2;cytokine storm;inflammatio...</td>\n",
              "      <td>0</td>\n",
              "      <td>1</td>\n",
              "      <td>0</td>\n",
              "      <td>0</td>\n",
              "      <td>1</td>\n",
              "      <td>0</td>\n",
              "      <td>0</td>\n",
              "      <td>Inflammation COVID19 pathogenesis treatment[SE...</td>\n",
              "    </tr>\n",
              "    <tr>\n",
              "      <th>3</th>\n",
              "      <td>Antimalarial drugsare beneficial rheumatic vir...</td>\n",
              "      <td>34218393</td>\n",
              "      <td>majority medical fraternity continuously invol...</td>\n",
              "      <td>antimalarial drugs;covid-19;rheumatic diseases...</td>\n",
              "      <td>0</td>\n",
              "      <td>1</td>\n",
              "      <td>0</td>\n",
              "      <td>1</td>\n",
              "      <td>1</td>\n",
              "      <td>0</td>\n",
              "      <td>1</td>\n",
              "      <td>Antimalarial drugsare beneficial rheumatic vir...</td>\n",
              "    </tr>\n",
              "    <tr>\n",
              "      <th>4</th>\n",
              "      <td>Integration virtual physician visit provincial...</td>\n",
              "      <td>34131026</td>\n",
              "      <td>BACKGROUND British Columbia like many jurisdic...</td>\n",
              "      <td>NaN</td>\n",
              "      <td>0</td>\n",
              "      <td>1</td>\n",
              "      <td>1</td>\n",
              "      <td>1</td>\n",
              "      <td>1</td>\n",
              "      <td>1</td>\n",
              "      <td>1</td>\n",
              "      <td>Integration virtual physician visit provincial...</td>\n",
              "    </tr>\n",
              "  </tbody>\n",
              "</table>\n",
              "</div>"
            ],
            "text/plain": [
              "                                               title  ...                                          title_abs\n",
              "0  Disentangling Association Hydroxychloroquine T...  ...  Disentangling Association Hydroxychloroquine T...\n",
              "1  Risk factor mortality hospitalized patient COV...  ...  Risk factor mortality hospitalized patient COV...\n",
              "2        Inflammation COVID19 pathogenesis treatment  ...  Inflammation COVID19 pathogenesis treatment[SE...\n",
              "3  Antimalarial drugsare beneficial rheumatic vir...  ...  Antimalarial drugsare beneficial rheumatic vir...\n",
              "4  Integration virtual physician visit provincial...  ...  Integration virtual physician visit provincial...\n",
              "\n",
              "[5 rows x 12 columns]"
            ]
          },
          "metadata": {},
          "execution_count": 56
        }
      ]
    },
    {
      "cell_type": "code",
      "metadata": {
        "id": "y8AWlhyMdMEG"
      },
      "source": [
        "trained_model = TopicAnnotationTagger.load_from_checkpoint('/content/drive/MyDrive/Biocreative/Biocreative/checkpoints_and_logs/specter-lwan-checkpoints/specter-lwan-checkpoint.ckpt', n_classes=7)"
      ],
      "execution_count": null,
      "outputs": []
    },
    {
      "cell_type": "code",
      "metadata": {
        "id": "3rM_yhw6vGls"
      },
      "source": [
        "trained_model.freeze()"
      ],
      "execution_count": null,
      "outputs": []
    },
    {
      "cell_type": "markdown",
      "metadata": {
        "id": "_qfT86eMvlk5"
      },
      "source": [
        "### Evaluation"
      ]
    },
    {
      "cell_type": "code",
      "metadata": {
        "colab": {
          "base_uri": "https://localhost:8080/"
        },
        "id": "7lObFJ_JQohi",
        "outputId": "23512f4d-ee3a-4f80-e2b6-8208a1fa90e6"
      },
      "source": [
        "# sample 2500 example from the validation set\n",
        "# val_df_sampled = val_df.sample(n=2500, random_state=1).sample(n=1000, random_state=1).sample(n=500, random_state=1)\n",
        "# print(val_df_sampled.shape)\n",
        "# val_df_sampled[LABEL_COLUMNS].sum()"
      ],
      "execution_count": null,
      "outputs": [
        {
          "output_type": "stream",
          "name": "stdout",
          "text": [
            "(500, 14)\n"
          ]
        },
        {
          "output_type": "execute_result",
          "data": {
            "text/plain": [
              "Case Report              33\n",
              "Diagnosis               115\n",
              "Epidemic Forecasting     21\n",
              "Mechanism                92\n",
              "Prevention              227\n",
              "Transmission             52\n",
              "Treatment               165\n",
              "dtype: int64"
            ]
          },
          "metadata": {},
          "execution_count": 62
        }
      ]
    },
    {
      "cell_type": "code",
      "metadata": {
        "id": "glq9LWq4rMEH"
      },
      "source": [
        "device = torch.device('cuda' if torch.cuda.is_available() else 'cpu')\n",
        "trained_model = trained_model.to(device)\n",
        "\n",
        "val_dataset = TopicAnnotationDataset(\n",
        "    test_df,\n",
        "    embedding_tokenizer,\n",
        "    max_token_len=MAX_TOKEN_COUNT\n",
        ")"
      ],
      "execution_count": null,
      "outputs": []
    },
    {
      "cell_type": "code",
      "metadata": {
        "colab": {
          "base_uri": "https://localhost:8080/",
          "height": 49,
          "referenced_widgets": [
            "c96047e68ebf437ea8610d6a18b3c375",
            "394d3ca58ad849eca7cc9011ec501bad",
            "7e8d90be7cf949c99de991c60947126b",
            "9765100380594615ba99aec662a18a9d",
            "338c81d6532c401d987a6fe817fab314",
            "aa31e4d3893a4bd19cf2cf542dbb1552",
            "14acd8ceaef4431da1f045dea1179de8",
            "7e0d72c1f0a1431bbae181680b681bd7",
            "d5781f99301c4b819a4d190c63009cd6",
            "fba0dfba2f4e43f69e869eeedbd135b0",
            "12546184cdc64a9db9d35d8cb5659506"
          ]
        },
        "id": "nGt5QcfWwO8P",
        "outputId": "1eecc10c-b3a2-46a1-a64e-2af9ce91715c"
      },
      "source": [
        "predictions = []\n",
        "labels = []\n",
        "\n",
        "for item in tqdm(val_dataset):\n",
        "\n",
        "  _, prediction = trained_model(\n",
        "      item[\"input_ids\"].unsqueeze(dim=0).to(device),\n",
        "      item[\"attention_mask\"].unsqueeze(dim=0).to(device),\n",
        "  )\n",
        "  \n",
        "  predictions.append(prediction.flatten())\n",
        "  labels.append(item[\"labels\"].int())\n",
        "\n",
        "predictions = torch.stack(predictions).detach().cpu()\n",
        "labels = torch.stack(labels).detach().cpu()"
      ],
      "execution_count": null,
      "outputs": [
        {
          "output_type": "display_data",
          "data": {
            "application/vnd.jupyter.widget-view+json": {
              "model_id": "c96047e68ebf437ea8610d6a18b3c375",
              "version_minor": 0,
              "version_major": 2
            },
            "text/plain": [
              "  0%|          | 0/2500 [00:00<?, ?it/s]"
            ]
          },
          "metadata": {}
        }
      ]
    },
    {
      "cell_type": "code",
      "metadata": {
        "colab": {
          "base_uri": "https://localhost:8080/",
          "height": 417
        },
        "id": "9QUa0R4v4YP8",
        "outputId": "1b6f2e77-3f34-440e-fe0c-c01c631585da"
      },
      "source": [
        "pmid = test_df[\"pmid\"]\n",
        "pred_df = pd.DataFrame(predictions.numpy(), columns=LABEL_COLUMNS)\n",
        "pred_df"
      ],
      "execution_count": null,
      "outputs": [
        {
          "output_type": "execute_result",
          "data": {
            "text/html": [
              "<div>\n",
              "<style scoped>\n",
              "    .dataframe tbody tr th:only-of-type {\n",
              "        vertical-align: middle;\n",
              "    }\n",
              "\n",
              "    .dataframe tbody tr th {\n",
              "        vertical-align: top;\n",
              "    }\n",
              "\n",
              "    .dataframe thead th {\n",
              "        text-align: right;\n",
              "    }\n",
              "</style>\n",
              "<table border=\"1\" class=\"dataframe\">\n",
              "  <thead>\n",
              "    <tr style=\"text-align: right;\">\n",
              "      <th></th>\n",
              "      <th>Case Report</th>\n",
              "      <th>Diagnosis</th>\n",
              "      <th>Epidemic Forecasting</th>\n",
              "      <th>Mechanism</th>\n",
              "      <th>Prevention</th>\n",
              "      <th>Transmission</th>\n",
              "      <th>Treatment</th>\n",
              "    </tr>\n",
              "  </thead>\n",
              "  <tbody>\n",
              "    <tr>\n",
              "      <th>0</th>\n",
              "      <td>0.000628</td>\n",
              "      <td>0.088386</td>\n",
              "      <td>0.000357</td>\n",
              "      <td>0.001744</td>\n",
              "      <td>0.001196</td>\n",
              "      <td>0.000592</td>\n",
              "      <td>0.995032</td>\n",
              "    </tr>\n",
              "    <tr>\n",
              "      <th>1</th>\n",
              "      <td>0.003821</td>\n",
              "      <td>0.974450</td>\n",
              "      <td>0.001469</td>\n",
              "      <td>0.003322</td>\n",
              "      <td>0.008366</td>\n",
              "      <td>0.001989</td>\n",
              "      <td>0.901929</td>\n",
              "    </tr>\n",
              "    <tr>\n",
              "      <th>2</th>\n",
              "      <td>0.000223</td>\n",
              "      <td>0.000749</td>\n",
              "      <td>0.000209</td>\n",
              "      <td>0.651726</td>\n",
              "      <td>0.000383</td>\n",
              "      <td>0.000263</td>\n",
              "      <td>0.992348</td>\n",
              "    </tr>\n",
              "    <tr>\n",
              "      <th>3</th>\n",
              "      <td>0.000469</td>\n",
              "      <td>0.001877</td>\n",
              "      <td>0.000312</td>\n",
              "      <td>0.000969</td>\n",
              "      <td>0.002657</td>\n",
              "      <td>0.000463</td>\n",
              "      <td>0.992311</td>\n",
              "    </tr>\n",
              "    <tr>\n",
              "      <th>4</th>\n",
              "      <td>0.000185</td>\n",
              "      <td>0.000607</td>\n",
              "      <td>0.000119</td>\n",
              "      <td>0.000146</td>\n",
              "      <td>0.991791</td>\n",
              "      <td>0.000301</td>\n",
              "      <td>0.000344</td>\n",
              "    </tr>\n",
              "    <tr>\n",
              "      <th>...</th>\n",
              "      <td>...</td>\n",
              "      <td>...</td>\n",
              "      <td>...</td>\n",
              "      <td>...</td>\n",
              "      <td>...</td>\n",
              "      <td>...</td>\n",
              "      <td>...</td>\n",
              "    </tr>\n",
              "    <tr>\n",
              "      <th>2495</th>\n",
              "      <td>0.000340</td>\n",
              "      <td>0.001198</td>\n",
              "      <td>0.000308</td>\n",
              "      <td>0.984183</td>\n",
              "      <td>0.000646</td>\n",
              "      <td>0.000367</td>\n",
              "      <td>0.930756</td>\n",
              "    </tr>\n",
              "    <tr>\n",
              "      <th>2496</th>\n",
              "      <td>0.002536</td>\n",
              "      <td>0.924337</td>\n",
              "      <td>0.000997</td>\n",
              "      <td>0.003650</td>\n",
              "      <td>0.004373</td>\n",
              "      <td>0.001300</td>\n",
              "      <td>0.982076</td>\n",
              "    </tr>\n",
              "    <tr>\n",
              "      <th>2497</th>\n",
              "      <td>0.005545</td>\n",
              "      <td>0.330010</td>\n",
              "      <td>0.000857</td>\n",
              "      <td>0.002823</td>\n",
              "      <td>0.894840</td>\n",
              "      <td>0.024321</td>\n",
              "      <td>0.076741</td>\n",
              "    </tr>\n",
              "    <tr>\n",
              "      <th>2498</th>\n",
              "      <td>0.001963</td>\n",
              "      <td>0.746126</td>\n",
              "      <td>0.001153</td>\n",
              "      <td>0.132202</td>\n",
              "      <td>0.126889</td>\n",
              "      <td>0.004038</td>\n",
              "      <td>0.801743</td>\n",
              "    </tr>\n",
              "    <tr>\n",
              "      <th>2499</th>\n",
              "      <td>0.000412</td>\n",
              "      <td>0.002299</td>\n",
              "      <td>0.000264</td>\n",
              "      <td>0.002093</td>\n",
              "      <td>0.006232</td>\n",
              "      <td>0.000384</td>\n",
              "      <td>0.989290</td>\n",
              "    </tr>\n",
              "  </tbody>\n",
              "</table>\n",
              "<p>2500 rows × 7 columns</p>\n",
              "</div>"
            ],
            "text/plain": [
              "      Case Report  Diagnosis  ...  Transmission  Treatment\n",
              "0        0.000628   0.088386  ...      0.000592   0.995032\n",
              "1        0.003821   0.974450  ...      0.001989   0.901929\n",
              "2        0.000223   0.000749  ...      0.000263   0.992348\n",
              "3        0.000469   0.001877  ...      0.000463   0.992311\n",
              "4        0.000185   0.000607  ...      0.000301   0.000344\n",
              "...           ...        ...  ...           ...        ...\n",
              "2495     0.000340   0.001198  ...      0.000367   0.930756\n",
              "2496     0.002536   0.924337  ...      0.001300   0.982076\n",
              "2497     0.005545   0.330010  ...      0.024321   0.076741\n",
              "2498     0.001963   0.746126  ...      0.004038   0.801743\n",
              "2499     0.000412   0.002299  ...      0.000384   0.989290\n",
              "\n",
              "[2500 rows x 7 columns]"
            ]
          },
          "metadata": {},
          "execution_count": 65
        }
      ]
    },
    {
      "cell_type": "code",
      "metadata": {
        "id": "4CZzCVGnrfzW"
      },
      "source": [
        "pred_df[\"PMID\"] = pmid"
      ],
      "execution_count": null,
      "outputs": []
    },
    {
      "cell_type": "code",
      "metadata": {
        "id": "ho0j1_j5rqjk"
      },
      "source": [
        "main_pred_df = pred_df.copy(deep=True)"
      ],
      "execution_count": null,
      "outputs": []
    },
    {
      "cell_type": "code",
      "metadata": {
        "colab": {
          "base_uri": "https://localhost:8080/"
        },
        "id": "oJzacrV1sLm6",
        "outputId": "504dc889-7964-4337-bb9a-5b86e58103e3"
      },
      "source": [
        "main_pred_df.columns"
      ],
      "execution_count": null,
      "outputs": [
        {
          "output_type": "execute_result",
          "data": {
            "text/plain": [
              "Index(['Case Report', 'Diagnosis', 'Epidemic Forecasting', 'Mechanism',\n",
              "       'Prevention', 'Transmission', 'Treatment', 'PMID'],\n",
              "      dtype='object')"
            ]
          },
          "metadata": {},
          "execution_count": 70
        }
      ]
    },
    {
      "cell_type": "code",
      "metadata": {
        "colab": {
          "base_uri": "https://localhost:8080/",
          "height": 203
        },
        "id": "y3inf3Gg4aRR",
        "outputId": "93dae821-315c-4e55-b13a-60d19c7dc7b4"
      },
      "source": [
        "main_pred_df = main_pred_df.reindex(['PMID','Treatment','Diagnosis','Prevention','Mechanism','Transmission','Epidemic Forecasting','Case Report'], axis=\"columns\")\n",
        "main_pred_df.head()"
      ],
      "execution_count": null,
      "outputs": [
        {
          "output_type": "execute_result",
          "data": {
            "text/html": [
              "<div>\n",
              "<style scoped>\n",
              "    .dataframe tbody tr th:only-of-type {\n",
              "        vertical-align: middle;\n",
              "    }\n",
              "\n",
              "    .dataframe tbody tr th {\n",
              "        vertical-align: top;\n",
              "    }\n",
              "\n",
              "    .dataframe thead th {\n",
              "        text-align: right;\n",
              "    }\n",
              "</style>\n",
              "<table border=\"1\" class=\"dataframe\">\n",
              "  <thead>\n",
              "    <tr style=\"text-align: right;\">\n",
              "      <th></th>\n",
              "      <th>PMID</th>\n",
              "      <th>Treatment</th>\n",
              "      <th>Diagnosis</th>\n",
              "      <th>Prevention</th>\n",
              "      <th>Mechanism</th>\n",
              "      <th>Transmission</th>\n",
              "      <th>Epidemic Forecasting</th>\n",
              "      <th>Case Report</th>\n",
              "    </tr>\n",
              "  </thead>\n",
              "  <tbody>\n",
              "    <tr>\n",
              "      <th>0</th>\n",
              "      <td>34336157</td>\n",
              "      <td>0.995032</td>\n",
              "      <td>0.088386</td>\n",
              "      <td>0.001196</td>\n",
              "      <td>0.001744</td>\n",
              "      <td>0.000592</td>\n",
              "      <td>0.000357</td>\n",
              "      <td>0.000628</td>\n",
              "    </tr>\n",
              "    <tr>\n",
              "      <th>1</th>\n",
              "      <td>34211701</td>\n",
              "      <td>0.901929</td>\n",
              "      <td>0.974450</td>\n",
              "      <td>0.008366</td>\n",
              "      <td>0.003322</td>\n",
              "      <td>0.001989</td>\n",
              "      <td>0.001469</td>\n",
              "      <td>0.003821</td>\n",
              "    </tr>\n",
              "    <tr>\n",
              "      <th>2</th>\n",
              "      <td>34367415</td>\n",
              "      <td>0.992348</td>\n",
              "      <td>0.000749</td>\n",
              "      <td>0.000383</td>\n",
              "      <td>0.651726</td>\n",
              "      <td>0.000263</td>\n",
              "      <td>0.000209</td>\n",
              "      <td>0.000223</td>\n",
              "    </tr>\n",
              "    <tr>\n",
              "      <th>3</th>\n",
              "      <td>34218393</td>\n",
              "      <td>0.992311</td>\n",
              "      <td>0.001877</td>\n",
              "      <td>0.002657</td>\n",
              "      <td>0.000969</td>\n",
              "      <td>0.000463</td>\n",
              "      <td>0.000312</td>\n",
              "      <td>0.000469</td>\n",
              "    </tr>\n",
              "    <tr>\n",
              "      <th>4</th>\n",
              "      <td>34131026</td>\n",
              "      <td>0.000344</td>\n",
              "      <td>0.000607</td>\n",
              "      <td>0.991791</td>\n",
              "      <td>0.000146</td>\n",
              "      <td>0.000301</td>\n",
              "      <td>0.000119</td>\n",
              "      <td>0.000185</td>\n",
              "    </tr>\n",
              "  </tbody>\n",
              "</table>\n",
              "</div>"
            ],
            "text/plain": [
              "       PMID  Treatment  ...  Epidemic Forecasting  Case Report\n",
              "0  34336157   0.995032  ...              0.000357     0.000628\n",
              "1  34211701   0.901929  ...              0.001469     0.003821\n",
              "2  34367415   0.992348  ...              0.000209     0.000223\n",
              "3  34218393   0.992311  ...              0.000312     0.000469\n",
              "4  34131026   0.000344  ...              0.000119     0.000185\n",
              "\n",
              "[5 rows x 8 columns]"
            ]
          },
          "metadata": {},
          "execution_count": 71
        }
      ]
    },
    {
      "cell_type": "code",
      "metadata": {
        "colab": {
          "base_uri": "https://localhost:8080/"
        },
        "id": "-KiP3DpU4_F-",
        "outputId": "e7ad8335-624c-4e87-efab-aad6fc7952b7"
      },
      "source": [
        "%cd drive/MyDrive/Biocreative/Biocreative/Test_Results/"
      ],
      "execution_count": null,
      "outputs": [
        {
          "output_type": "stream",
          "name": "stdout",
          "text": [
            "/content/drive/MyDrive/Biocreative/Biocreative/Test_Results\n"
          ]
        }
      ]
    },
    {
      "cell_type": "code",
      "metadata": {
        "id": "nHhZOoK85LW9"
      },
      "source": [
        "main_pred_df.to_csv(\"specter_LWAN.csv\", index=False)"
      ],
      "execution_count": null,
      "outputs": []
    },
    {
      "cell_type": "code",
      "metadata": {
        "colab": {
          "base_uri": "https://localhost:8080/",
          "height": 417
        },
        "id": "GBsl3WQc5zzy",
        "outputId": "e9d4e43d-a2c6-48c4-e477-e676ab62edce"
      },
      "source": [
        "new_pred = pd.read_csv(\"specter_LWAN.csv\")\n",
        "new_pred"
      ],
      "execution_count": null,
      "outputs": [
        {
          "output_type": "execute_result",
          "data": {
            "text/html": [
              "<div>\n",
              "<style scoped>\n",
              "    .dataframe tbody tr th:only-of-type {\n",
              "        vertical-align: middle;\n",
              "    }\n",
              "\n",
              "    .dataframe tbody tr th {\n",
              "        vertical-align: top;\n",
              "    }\n",
              "\n",
              "    .dataframe thead th {\n",
              "        text-align: right;\n",
              "    }\n",
              "</style>\n",
              "<table border=\"1\" class=\"dataframe\">\n",
              "  <thead>\n",
              "    <tr style=\"text-align: right;\">\n",
              "      <th></th>\n",
              "      <th>PMID</th>\n",
              "      <th>Treatment</th>\n",
              "      <th>Diagnosis</th>\n",
              "      <th>Prevention</th>\n",
              "      <th>Mechanism</th>\n",
              "      <th>Transmission</th>\n",
              "      <th>Epidemic Forecasting</th>\n",
              "      <th>Case Report</th>\n",
              "    </tr>\n",
              "  </thead>\n",
              "  <tbody>\n",
              "    <tr>\n",
              "      <th>0</th>\n",
              "      <td>34336157</td>\n",
              "      <td>0.995032</td>\n",
              "      <td>0.088386</td>\n",
              "      <td>0.001196</td>\n",
              "      <td>0.001744</td>\n",
              "      <td>0.000592</td>\n",
              "      <td>0.000357</td>\n",
              "      <td>0.000628</td>\n",
              "    </tr>\n",
              "    <tr>\n",
              "      <th>1</th>\n",
              "      <td>34211701</td>\n",
              "      <td>0.901929</td>\n",
              "      <td>0.974450</td>\n",
              "      <td>0.008366</td>\n",
              "      <td>0.003322</td>\n",
              "      <td>0.001989</td>\n",
              "      <td>0.001469</td>\n",
              "      <td>0.003821</td>\n",
              "    </tr>\n",
              "    <tr>\n",
              "      <th>2</th>\n",
              "      <td>34367415</td>\n",
              "      <td>0.992348</td>\n",
              "      <td>0.000749</td>\n",
              "      <td>0.000383</td>\n",
              "      <td>0.651726</td>\n",
              "      <td>0.000263</td>\n",
              "      <td>0.000209</td>\n",
              "      <td>0.000223</td>\n",
              "    </tr>\n",
              "    <tr>\n",
              "      <th>3</th>\n",
              "      <td>34218393</td>\n",
              "      <td>0.992311</td>\n",
              "      <td>0.001877</td>\n",
              "      <td>0.002657</td>\n",
              "      <td>0.000969</td>\n",
              "      <td>0.000463</td>\n",
              "      <td>0.000312</td>\n",
              "      <td>0.000469</td>\n",
              "    </tr>\n",
              "    <tr>\n",
              "      <th>4</th>\n",
              "      <td>34131026</td>\n",
              "      <td>0.000344</td>\n",
              "      <td>0.000607</td>\n",
              "      <td>0.991791</td>\n",
              "      <td>0.000146</td>\n",
              "      <td>0.000301</td>\n",
              "      <td>0.000119</td>\n",
              "      <td>0.000185</td>\n",
              "    </tr>\n",
              "    <tr>\n",
              "      <th>...</th>\n",
              "      <td>...</td>\n",
              "      <td>...</td>\n",
              "      <td>...</td>\n",
              "      <td>...</td>\n",
              "      <td>...</td>\n",
              "      <td>...</td>\n",
              "      <td>...</td>\n",
              "      <td>...</td>\n",
              "    </tr>\n",
              "    <tr>\n",
              "      <th>2495</th>\n",
              "      <td>34291555</td>\n",
              "      <td>0.930756</td>\n",
              "      <td>0.001198</td>\n",
              "      <td>0.000646</td>\n",
              "      <td>0.984183</td>\n",
              "      <td>0.000367</td>\n",
              "      <td>0.000308</td>\n",
              "      <td>0.000340</td>\n",
              "    </tr>\n",
              "    <tr>\n",
              "      <th>2496</th>\n",
              "      <td>34204119</td>\n",
              "      <td>0.982075</td>\n",
              "      <td>0.924337</td>\n",
              "      <td>0.004373</td>\n",
              "      <td>0.003650</td>\n",
              "      <td>0.001300</td>\n",
              "      <td>0.000997</td>\n",
              "      <td>0.002536</td>\n",
              "    </tr>\n",
              "    <tr>\n",
              "      <th>2497</th>\n",
              "      <td>34228511</td>\n",
              "      <td>0.076741</td>\n",
              "      <td>0.330010</td>\n",
              "      <td>0.894840</td>\n",
              "      <td>0.002823</td>\n",
              "      <td>0.024321</td>\n",
              "      <td>0.000857</td>\n",
              "      <td>0.005545</td>\n",
              "    </tr>\n",
              "    <tr>\n",
              "      <th>2498</th>\n",
              "      <td>34226900</td>\n",
              "      <td>0.801743</td>\n",
              "      <td>0.746126</td>\n",
              "      <td>0.126889</td>\n",
              "      <td>0.132202</td>\n",
              "      <td>0.004038</td>\n",
              "      <td>0.001153</td>\n",
              "      <td>0.001963</td>\n",
              "    </tr>\n",
              "    <tr>\n",
              "      <th>2499</th>\n",
              "      <td>34218774</td>\n",
              "      <td>0.989290</td>\n",
              "      <td>0.002299</td>\n",
              "      <td>0.006232</td>\n",
              "      <td>0.002093</td>\n",
              "      <td>0.000384</td>\n",
              "      <td>0.000264</td>\n",
              "      <td>0.000412</td>\n",
              "    </tr>\n",
              "  </tbody>\n",
              "</table>\n",
              "<p>2500 rows × 8 columns</p>\n",
              "</div>"
            ],
            "text/plain": [
              "          PMID  Treatment  ...  Epidemic Forecasting  Case Report\n",
              "0     34336157   0.995032  ...              0.000357     0.000628\n",
              "1     34211701   0.901929  ...              0.001469     0.003821\n",
              "2     34367415   0.992348  ...              0.000209     0.000223\n",
              "3     34218393   0.992311  ...              0.000312     0.000469\n",
              "4     34131026   0.000344  ...              0.000119     0.000185\n",
              "...        ...        ...  ...                   ...          ...\n",
              "2495  34291555   0.930756  ...              0.000308     0.000340\n",
              "2496  34204119   0.982075  ...              0.000997     0.002536\n",
              "2497  34228511   0.076741  ...              0.000857     0.005545\n",
              "2498  34226900   0.801743  ...              0.001153     0.001963\n",
              "2499  34218774   0.989290  ...              0.000264     0.000412\n",
              "\n",
              "[2500 rows x 8 columns]"
            ]
          },
          "metadata": {},
          "execution_count": 80
        }
      ]
    },
    {
      "cell_type": "code",
      "metadata": {
        "colab": {
          "base_uri": "https://localhost:8080/",
          "height": 417
        },
        "id": "DuO00U4X6Abt",
        "outputId": "06856eb7-1f52-4531-f195-7d7c280c829f"
      },
      "source": [
        "dual_ensemble = pd.read_csv(\"dual_bert_Ensemble.csv\")\n",
        "dual_ensemble"
      ],
      "execution_count": null,
      "outputs": [
        {
          "output_type": "execute_result",
          "data": {
            "text/html": [
              "<div>\n",
              "<style scoped>\n",
              "    .dataframe tbody tr th:only-of-type {\n",
              "        vertical-align: middle;\n",
              "    }\n",
              "\n",
              "    .dataframe tbody tr th {\n",
              "        vertical-align: top;\n",
              "    }\n",
              "\n",
              "    .dataframe thead th {\n",
              "        text-align: right;\n",
              "    }\n",
              "</style>\n",
              "<table border=\"1\" class=\"dataframe\">\n",
              "  <thead>\n",
              "    <tr style=\"text-align: right;\">\n",
              "      <th></th>\n",
              "      <th>PMID</th>\n",
              "      <th>Treatment</th>\n",
              "      <th>Diagnosis</th>\n",
              "      <th>Prevention</th>\n",
              "      <th>Mechanism</th>\n",
              "      <th>Transmission</th>\n",
              "      <th>Epidemic Forecasting</th>\n",
              "      <th>Case Report</th>\n",
              "    </tr>\n",
              "  </thead>\n",
              "  <tbody>\n",
              "    <tr>\n",
              "      <th>0</th>\n",
              "      <td>34336157</td>\n",
              "      <td>0.997213</td>\n",
              "      <td>0.169308</td>\n",
              "      <td>0.004443</td>\n",
              "      <td>0.003471</td>\n",
              "      <td>0.000001</td>\n",
              "      <td>0.000001</td>\n",
              "      <td>0.000301</td>\n",
              "    </tr>\n",
              "    <tr>\n",
              "      <th>1</th>\n",
              "      <td>34211701</td>\n",
              "      <td>0.916451</td>\n",
              "      <td>0.986004</td>\n",
              "      <td>0.013786</td>\n",
              "      <td>0.003106</td>\n",
              "      <td>0.000063</td>\n",
              "      <td>0.000004</td>\n",
              "      <td>0.000368</td>\n",
              "    </tr>\n",
              "    <tr>\n",
              "      <th>2</th>\n",
              "      <td>34367415</td>\n",
              "      <td>0.996768</td>\n",
              "      <td>0.043622</td>\n",
              "      <td>0.003704</td>\n",
              "      <td>0.929797</td>\n",
              "      <td>0.000117</td>\n",
              "      <td>0.000013</td>\n",
              "      <td>0.000140</td>\n",
              "    </tr>\n",
              "    <tr>\n",
              "      <th>3</th>\n",
              "      <td>34218393</td>\n",
              "      <td>0.995460</td>\n",
              "      <td>0.015110</td>\n",
              "      <td>0.013284</td>\n",
              "      <td>0.005272</td>\n",
              "      <td>0.000003</td>\n",
              "      <td>0.000003</td>\n",
              "      <td>0.000473</td>\n",
              "    </tr>\n",
              "    <tr>\n",
              "      <th>4</th>\n",
              "      <td>34131026</td>\n",
              "      <td>0.001570</td>\n",
              "      <td>0.001174</td>\n",
              "      <td>0.999092</td>\n",
              "      <td>0.000002</td>\n",
              "      <td>0.000102</td>\n",
              "      <td>0.000002</td>\n",
              "      <td>0.000019</td>\n",
              "    </tr>\n",
              "    <tr>\n",
              "      <th>...</th>\n",
              "      <td>...</td>\n",
              "      <td>...</td>\n",
              "      <td>...</td>\n",
              "      <td>...</td>\n",
              "      <td>...</td>\n",
              "      <td>...</td>\n",
              "      <td>...</td>\n",
              "      <td>...</td>\n",
              "    </tr>\n",
              "    <tr>\n",
              "      <th>2495</th>\n",
              "      <td>34291555</td>\n",
              "      <td>0.989350</td>\n",
              "      <td>0.003505</td>\n",
              "      <td>0.000772</td>\n",
              "      <td>0.993984</td>\n",
              "      <td>0.000044</td>\n",
              "      <td>0.000001</td>\n",
              "      <td>0.000032</td>\n",
              "    </tr>\n",
              "    <tr>\n",
              "      <th>2496</th>\n",
              "      <td>34204119</td>\n",
              "      <td>0.982862</td>\n",
              "      <td>0.825384</td>\n",
              "      <td>0.010762</td>\n",
              "      <td>0.013090</td>\n",
              "      <td>0.000069</td>\n",
              "      <td>0.000031</td>\n",
              "      <td>0.001934</td>\n",
              "    </tr>\n",
              "    <tr>\n",
              "      <th>2497</th>\n",
              "      <td>34228511</td>\n",
              "      <td>0.146783</td>\n",
              "      <td>0.504033</td>\n",
              "      <td>0.832181</td>\n",
              "      <td>0.003049</td>\n",
              "      <td>0.004648</td>\n",
              "      <td>0.000345</td>\n",
              "      <td>0.011105</td>\n",
              "    </tr>\n",
              "    <tr>\n",
              "      <th>2498</th>\n",
              "      <td>34226900</td>\n",
              "      <td>0.977807</td>\n",
              "      <td>0.799504</td>\n",
              "      <td>0.033778</td>\n",
              "      <td>0.126187</td>\n",
              "      <td>0.000627</td>\n",
              "      <td>0.000100</td>\n",
              "      <td>0.001451</td>\n",
              "    </tr>\n",
              "    <tr>\n",
              "      <th>2499</th>\n",
              "      <td>34218774</td>\n",
              "      <td>0.984278</td>\n",
              "      <td>0.008618</td>\n",
              "      <td>0.105568</td>\n",
              "      <td>0.003392</td>\n",
              "      <td>0.000011</td>\n",
              "      <td>0.000013</td>\n",
              "      <td>0.000307</td>\n",
              "    </tr>\n",
              "  </tbody>\n",
              "</table>\n",
              "<p>2500 rows × 8 columns</p>\n",
              "</div>"
            ],
            "text/plain": [
              "          PMID  Treatment  ...  Epidemic Forecasting  Case Report\n",
              "0     34336157   0.997213  ...              0.000001     0.000301\n",
              "1     34211701   0.916451  ...              0.000004     0.000368\n",
              "2     34367415   0.996768  ...              0.000013     0.000140\n",
              "3     34218393   0.995460  ...              0.000003     0.000473\n",
              "4     34131026   0.001570  ...              0.000002     0.000019\n",
              "...        ...        ...  ...                   ...          ...\n",
              "2495  34291555   0.989350  ...              0.000001     0.000032\n",
              "2496  34204119   0.982862  ...              0.000031     0.001934\n",
              "2497  34228511   0.146783  ...              0.000345     0.011105\n",
              "2498  34226900   0.977807  ...              0.000100     0.001451\n",
              "2499  34218774   0.984278  ...              0.000013     0.000307\n",
              "\n",
              "[2500 rows x 8 columns]"
            ]
          },
          "metadata": {},
          "execution_count": 81
        }
      ]
    },
    {
      "cell_type": "markdown",
      "metadata": {
        "id": "pixwbhCQZzEa"
      },
      "source": [
        "#### data analysis"
      ]
    },
    {
      "cell_type": "code",
      "metadata": {
        "id": "ZmzSFy2u_qXD"
      },
      "source": [
        "# convert prediction in boolean labels\n",
        "y_pred = (predictions > 0.65).type(torch.uint8)\n",
        "y_true = labels  "
      ],
      "execution_count": null,
      "outputs": []
    },
    {
      "cell_type": "code",
      "metadata": {
        "id": "qRCIkiW4AzVy"
      },
      "source": [
        "# count non-zero values\n",
        "true_counts = y_true.count_nonzero(dim=1)\n",
        "pred_counts = y_pred.count_nonzero(dim=1)"
      ],
      "execution_count": null,
      "outputs": []
    },
    {
      "cell_type": "code",
      "metadata": {
        "id": "7wf7RTbuCj7d"
      },
      "source": [
        "# dict mapping for count -> key \n",
        "unique, counts = true_counts.unique(return_counts=True)\n",
        "true_count_dict = dict(zip(unique.tolist(), counts.tolist()))\n",
        "print(true_count_dict)"
      ],
      "execution_count": null,
      "outputs": []
    },
    {
      "cell_type": "code",
      "metadata": {
        "id": "kCL9XGJBGwTW"
      },
      "source": [
        "X = [1, 2, 3, 4, 5]\n",
        "for label in X:\n",
        "  try:\n",
        "    val = true_count_dict[label]\n",
        "  except Exception as e:\n",
        "    true_count_dict[label] = 0\n",
        "\n",
        "true_count_dict"
      ],
      "execution_count": null,
      "outputs": []
    },
    {
      "cell_type": "code",
      "metadata": {
        "id": "krCFXaRkDtzO"
      },
      "source": [
        "# dict mapping for count -> key\n",
        "pred_count_dict = {\n",
        "    1: 0,\n",
        "    2: 0,\n",
        "    3: 0,\n",
        "    4: 0,\n",
        "    5: 0\n",
        "}\n",
        "\n",
        "for idx, value in enumerate(true_counts):\n",
        "  if value == pred_counts[idx]: \n",
        "    pred_count_dict[value.tolist()] += 1\n",
        "  else:\n",
        "    pass\n",
        "\n",
        "pred_count_dict"
      ],
      "execution_count": null,
      "outputs": []
    },
    {
      "cell_type": "code",
      "metadata": {
        "id": "2YhqCvhBEUOb"
      },
      "source": [
        "X = [\"1\", \"2\", \"3\", \"4\", \"5\"]\n",
        "\n",
        "# creating the dataset \n",
        "keys = list(pred_count_dict.keys()) \n",
        "pred_values = list(pred_count_dict.values()) \n",
        "true_values = list(true_count_dict.values())\n",
        "\n",
        "keys = np.array(keys)\n",
        "\n",
        "fig = plt.figure(figsize = (10, 10)) \n",
        "  \n",
        "# creating the bar plot \n",
        "plt.bar(keys - 0.2, true_values, 0.4, label = 'True Label')\n",
        "plt.bar(keys + 0.2, pred_values, 0.4, label = 'Prediction')\n",
        "\n",
        "plt.xticks(keys, X)\n",
        "plt.xlabel(\"Count of labels\")\n",
        "plt.ylabel(\"Counts\")\n",
        "plt.title(\"Transmission predicted v/s true\")\n",
        "plt.legend()\n",
        "plt.show() "
      ],
      "execution_count": null,
      "outputs": []
    },
    {
      "cell_type": "code",
      "metadata": {
        "id": "5mWHzCoNUM8-"
      },
      "source": [
        "class_dict_pred = dict(zip(LABEL_COLUMNS, [0]*7))\n",
        "class_dict_true = dict(zip(LABEL_COLUMNS, [0]*7))\n",
        "class_dict_pred, class_dict_true"
      ],
      "execution_count": null,
      "outputs": []
    },
    {
      "cell_type": "code",
      "metadata": {
        "id": "dJHW48HcFAmT"
      },
      "source": [
        "THRESHOLD = 0.5\n",
        "print(LABEL_COLUMNS)\n",
        "\n",
        "for item in val_dataset:\n",
        "\n",
        "  labels = item[\"labels\"].numpy()\n",
        "  count = np.count_nonzero(labels)\n",
        "\n",
        "  if count == 2:\n",
        "    \n",
        "    _, prediction = trained_model(\n",
        "        item[\"input_ids\"].unsqueeze(dim=0).to(device),\n",
        "        item[\"attention_mask\"].unsqueeze(dim=0).to(device)\n",
        "    )\n",
        "\n",
        "    # print((prediction > THRESHOLD).type(torch.uint8))\n",
        "\n",
        "    prediction = prediction.cpu()\n",
        "\n",
        "    for idx, key in enumerate(class_dict_pred.keys()):\n",
        "\n",
        "      class_dict_pred[key] += (prediction[0, idx] > THRESHOLD).type(torch.uint8)\n",
        "\n",
        "    for idx, key in enumerate(class_dict_true.keys()):\n",
        "      class_dict_true[key] += labels[idx]"
      ],
      "execution_count": null,
      "outputs": []
    },
    {
      "cell_type": "code",
      "metadata": {
        "id": "_roLMQneXw5_"
      },
      "source": [
        "for key, value in class_dict_pred.items():\n",
        "\n",
        "  class_dict_pred[key] = value.numpy().item()\n",
        "\n",
        "print(class_dict_pred)\n",
        "print(class_dict_true)"
      ],
      "execution_count": null,
      "outputs": []
    },
    {
      "cell_type": "code",
      "metadata": {
        "id": "L-hx5A-lX7Mg"
      },
      "source": [
        "keys = class_dict_pred.keys()\n",
        "values = class_dict_pred.values()\n",
        "\n",
        "# Creating plot\n",
        "fig = plt.figure(figsize =(10, 7))\n",
        "plt.pie(values, labels = keys)\n",
        "  \n",
        "# show plot\n",
        "plt.show()"
      ],
      "execution_count": null,
      "outputs": []
    },
    {
      "cell_type": "code",
      "metadata": {
        "id": "e8LnJTrPaAZ4"
      },
      "source": [
        "keys = class_dict_true.keys()\n",
        "values = class_dict_true.values()\n",
        "\n",
        "# Creating plot\n",
        "fig = plt.figure(figsize =(10, 7))\n",
        "plt.pie(values, labels = keys)\n",
        "plt.title(\"Transmission train set double label class distribution\")\n",
        "# show plot\n",
        "plt.show()"
      ],
      "execution_count": null,
      "outputs": []
    },
    {
      "cell_type": "markdown",
      "metadata": {
        "id": "Jl2e8HrYxnLo"
      },
      "source": [
        "#### Accuracy"
      ]
    },
    {
      "cell_type": "code",
      "metadata": {
        "id": "UUxXohXBs8S8"
      },
      "source": [
        "THRESHOLD = 0.5"
      ],
      "execution_count": null,
      "outputs": []
    },
    {
      "cell_type": "code",
      "metadata": {
        "colab": {
          "base_uri": "https://localhost:8080/"
        },
        "id": "PU5Y47GVRaic",
        "outputId": "11208a7f-ae8f-4ebc-8922-78933d1e268e"
      },
      "source": [
        "# calculating the accuracy of the model\n",
        "accuracy(predictions, labels, threshold=THRESHOLD)"
      ],
      "execution_count": null,
      "outputs": [
        {
          "output_type": "stream",
          "name": "stderr",
          "text": [
            "/usr/local/lib/python3.7/dist-packages/deprecate/deprecation.py:115: LightningDeprecationWarning: The `accuracy` was deprecated since v1.3.0 in favor of `torchmetrics.functional.classification.accuracy.accuracy`. It will be removed in v1.5.0.\n",
            "  stream(template_mgs % msg_args)\n"
          ]
        },
        {
          "output_type": "execute_result",
          "data": {
            "text/plain": [
              "tensor(0.5003)"
            ]
          },
          "metadata": {},
          "execution_count": 64
        }
      ]
    },
    {
      "cell_type": "markdown",
      "metadata": {
        "id": "QMhUJT1nxoyE"
      },
      "source": [
        "#### ROC for each tag"
      ]
    },
    {
      "cell_type": "code",
      "metadata": {
        "colab": {
          "base_uri": "https://localhost:8080/"
        },
        "id": "Wkj_cQnixQcG",
        "outputId": "dc609e70-829b-4122-b397-62ab14302b56"
      },
      "source": [
        "print(\"AUROC per tag\")\n",
        "for i, name in enumerate(LABEL_COLUMNS):\n",
        "  tag_auroc = auroc(predictions[:, i], labels[:, i], pos_label=1)\n",
        "  print(f\"{name}: {tag_auroc}\")"
      ],
      "execution_count": null,
      "outputs": [
        {
          "output_type": "stream",
          "name": "stdout",
          "text": [
            "AUROC per tag\n",
            "Case Report: 0.9962364435195923\n",
            "Diagnosis: 0.9834669828414917\n",
            "Epidemic Forecasting: 0.9792226552963257\n",
            "Mechanism: 0.9865462779998779\n",
            "Prevention: 0.9770376682281494\n",
            "Transmission: 0.9883670210838318\n",
            "Treatment: 0.9797376990318298\n"
          ]
        }
      ]
    },
    {
      "cell_type": "markdown",
      "metadata": {
        "id": "zVkHzSD8O2_i"
      },
      "source": [
        "#### save predictions"
      ]
    },
    {
      "cell_type": "code",
      "metadata": {
        "id": "Cr43BCR7W9WE"
      },
      "source": [
        "val_pmid = val_df[\"pmid\"]"
      ],
      "execution_count": null,
      "outputs": []
    },
    {
      "cell_type": "code",
      "metadata": {
        "id": "XV3X56EAO5O8"
      },
      "source": [
        "prediction_df = pd.DataFrame(predictions.numpy(), columns=[LABEL_COLUMNS])\n",
        "label_df = pd.DataFrame(labels.numpy(), columns=[LABEL_COLUMNS])\n",
        "prediction_df[\"pmid\"] = val_pmid\n",
        "label_df[\"pmid\"] = val_pmid"
      ],
      "execution_count": null,
      "outputs": []
    },
    {
      "cell_type": "code",
      "metadata": {
        "id": "9h1JgGkpPN5j"
      },
      "source": [
        "prediction_df.to_csv(\"drive/MyDrive/Biocreative/Biocreative/datasets/specter_results/specter_prediction.csv\", index=False)\n",
        "label_df.to_csv(\"drive/MyDrive/Biocreative/Biocreative/datasets/specter_results/specter_labels.csv\", index=False)"
      ],
      "execution_count": null,
      "outputs": []
    },
    {
      "cell_type": "code",
      "metadata": {
        "id": "BXCvq46oPk6q"
      },
      "source": [
        "pred_df = pd.read_csv(\"drive/MyDrive/Biocreative/Biocreative/datasets/specter_results/specter_prediction.csv\")\n",
        "lbl_df = pd.read_csv(\"drive/MyDrive/Biocreative/Biocreative/datasets/specter_results/specter_labels.csv\")"
      ],
      "execution_count": null,
      "outputs": []
    },
    {
      "cell_type": "code",
      "metadata": {
        "id": "7GsVCWocPu1Z"
      },
      "source": [
        "# do not run below codes\n",
        "# pred_df.rename(columns={'Unnamed: 0': 'PMID'}, inplace=True, errors='raise')\n",
        "# lbl_df.rename(columns={'Unnamed: 0': 'PMID'}, inplace=True, errors='raise')"
      ],
      "execution_count": null,
      "outputs": []
    },
    {
      "cell_type": "code",
      "metadata": {
        "id": "38tGGWKrQJ2f"
      },
      "source": [
        "# pred_df.to_csv(\"drive/MyDrive/Biocreative/Biocreative/datasets/specter_results/specter_prediction.csv\", index=False)\n",
        "# lbl_df.to_csv(\"drive/MyDrive/Biocreative/Biocreative/datasets/specter_results/specter_labels.csv\", index=False)"
      ],
      "execution_count": null,
      "outputs": []
    },
    {
      "cell_type": "markdown",
      "metadata": {
        "id": "0zrMwXqxx3mZ"
      },
      "source": [
        "#### classification report for each class"
      ]
    },
    {
      "cell_type": "code",
      "metadata": {
        "colab": {
          "base_uri": "https://localhost:8080/"
        },
        "id": "vHeUP0Foxvj6",
        "outputId": "acd02711-d5bb-4f10-955a-7ee569675f97"
      },
      "source": [
        "y_pred = predictions.numpy()\n",
        "y_true = labels.numpy()\n",
        "\n",
        "upper, lower = 1, 0\n",
        "\n",
        "y_pred = np.where(y_pred > 0.5, upper, lower)\n",
        "\n",
        "print(\n",
        "    classification_report(\n",
        "        y_true,\n",
        "        y_pred,\n",
        "        digits=4,\n",
        "        target_names=LABEL_COLUMNS,\n",
        "        zero_division=0\n",
        "    )\n",
        ")"
      ],
      "execution_count": null,
      "outputs": [
        {
          "output_type": "stream",
          "name": "stdout",
          "text": [
            "                      precision    recall  f1-score   support\n",
            "\n",
            "         Case Report     0.9091    0.9091    0.9091        33\n",
            "           Diagnosis     0.8487    0.8783    0.8632       115\n",
            "Epidemic Forecasting     0.8000    0.7619    0.7805        21\n",
            "           Mechanism     0.9059    0.8370    0.8701        92\n",
            "          Prevention     0.9159    0.9119    0.9139       227\n",
            "        Transmission     0.8333    0.8654    0.8491        52\n",
            "           Treatment     0.8916    0.8970    0.8943       165\n",
            "\n",
            "           micro avg     0.8876    0.8851    0.8864       705\n",
            "           macro avg     0.8721    0.8658    0.8686       705\n",
            "        weighted avg     0.8881    0.8851    0.8863       705\n",
            "         samples avg     0.8962    0.9063    0.8884       705\n",
            "\n"
          ]
        }
      ]
    },
    {
      "cell_type": "code",
      "metadata": {
        "colab": {
          "base_uri": "https://localhost:8080/"
        },
        "id": "-AQJaDNN0AOW",
        "outputId": "e7bcad0f-95e2-439d-9fba-1ac912afbe4b"
      },
      "source": [
        "THRESHOLD = [0.3, 0.35, 0.4, 0.45, 0.5, 0.55, 0.6, 0.65, 0.67, 0.7, 0.75, 0.8, 0.85, 0.9, 0.95]\n",
        "\n",
        "for threshold in THRESHOLD:\n",
        "  y_pred = predictions.numpy()\n",
        "  y_true = labels.numpy()\n",
        "\n",
        "  upper, lower = 1, 0\n",
        "\n",
        "  y_pred = np.where(y_pred > threshold, upper, lower)\n",
        "\n",
        "  print(f\"Threshold: {threshold}\")\n",
        "\n",
        "  print(\n",
        "      classification_report(\n",
        "          y_true,\n",
        "          y_pred,\n",
        "          digits=4,\n",
        "          target_names=LABEL_COLUMNS,\n",
        "          zero_division=0\n",
        "          )\n",
        "      )"
      ],
      "execution_count": null,
      "outputs": [
        {
          "output_type": "stream",
          "name": "stdout",
          "text": [
            "Threshold: 0.3\n",
            "                      precision    recall  f1-score   support\n",
            "\n",
            "         Case Report     0.8972    0.9153    0.9062       248\n",
            "           Diagnosis     0.7898    0.9313    0.8547       815\n",
            "Epidemic Forecasting     0.8075    0.9096    0.8555       166\n",
            "           Mechanism     0.8989    0.8609    0.8795       568\n",
            "          Prevention     0.9006    0.9547    0.9269      1613\n",
            "        Transmission     0.7644    0.9034    0.8281       352\n",
            "           Treatment     0.8603    0.9163    0.8874      1075\n",
            "\n",
            "           micro avg     0.8568    0.9239    0.8891      4837\n",
            "           macro avg     0.8455    0.9131    0.8769      4837\n",
            "        weighted avg     0.8595    0.9239    0.8897      4837\n",
            "         samples avg     0.8902    0.9395    0.8989      4837\n",
            "\n",
            "Threshold: 0.35\n",
            "                      precision    recall  f1-score   support\n",
            "\n",
            "         Case Report     0.9008    0.9153    0.9080       248\n",
            "           Diagnosis     0.8152    0.9202    0.8646       815\n",
            "Epidemic Forecasting     0.8142    0.8976    0.8539       166\n",
            "           Mechanism     0.9082    0.8539    0.8802       568\n",
            "          Prevention     0.9062    0.9461    0.9257      1613\n",
            "        Transmission     0.7778    0.8949    0.8322       352\n",
            "           Treatment     0.8746    0.9079    0.8909      1075\n",
            "\n",
            "           micro avg     0.8693    0.9154    0.8918      4837\n",
            "           macro avg     0.8567    0.9051    0.8794      4837\n",
            "        weighted avg     0.8713    0.9154    0.8921      4837\n",
            "         samples avg     0.8961    0.9329    0.8995      4837\n",
            "\n",
            "Threshold: 0.4\n",
            "                      precision    recall  f1-score   support\n",
            "\n",
            "         Case Report     0.9080    0.9153    0.9116       248\n",
            "           Diagnosis     0.8320    0.9117    0.8700       815\n",
            "Epidemic Forecasting     0.8295    0.8795    0.8538       166\n",
            "           Mechanism     0.9155    0.8398    0.8760       568\n",
            "          Prevention     0.9126    0.9386    0.9254      1613\n",
            "        Transmission     0.7879    0.8864    0.8342       352\n",
            "           Treatment     0.8862    0.8986    0.8924      1075\n",
            "\n",
            "           micro avg     0.8796    0.9066    0.8929      4837\n",
            "           macro avg     0.8674    0.8957    0.8805      4837\n",
            "        weighted avg     0.8813    0.9066    0.8931      4837\n",
            "         samples avg     0.9014    0.9260    0.8996      4837\n",
            "\n",
            "Threshold: 0.45\n",
            "                      precision    recall  f1-score   support\n",
            "\n",
            "         Case Report     0.9076    0.9113    0.9095       248\n",
            "           Diagnosis     0.8464    0.8994    0.8721       815\n",
            "Epidemic Forecasting     0.8382    0.8735    0.8555       166\n",
            "           Mechanism     0.9308    0.8292    0.8771       568\n",
            "          Prevention     0.9173    0.9349    0.9260      1613\n",
            "        Transmission     0.7953    0.8722    0.8320       352\n",
            "           Treatment     0.8979    0.8837    0.8908      1075\n",
            "\n",
            "           micro avg     0.8890    0.8973    0.8931      4837\n",
            "           macro avg     0.8762    0.8863    0.8804      4837\n",
            "        weighted avg     0.8905    0.8973    0.8932      4837\n",
            "         samples avg     0.9059    0.9192    0.8989      4837\n",
            "\n",
            "Threshold: 0.5\n",
            "                      precision    recall  f1-score   support\n",
            "\n",
            "         Case Report     0.9212    0.8952    0.9080       248\n",
            "           Diagnosis     0.8570    0.8822    0.8694       815\n",
            "Epidemic Forecasting     0.8373    0.8373    0.8373       166\n",
            "           Mechanism     0.9354    0.8151    0.8711       568\n",
            "          Prevention     0.9260    0.9312    0.9286      1613\n",
            "        Transmission     0.8113    0.8551    0.8326       352\n",
            "           Treatment     0.9067    0.8679    0.8869      1075\n",
            "\n",
            "           micro avg     0.8984    0.8846    0.8915      4837\n",
            "           macro avg     0.8850    0.8692    0.8763      4837\n",
            "        weighted avg     0.8995    0.8846    0.8914      4837\n",
            "         samples avg     0.9077    0.9094    0.8948      4837\n",
            "\n",
            "Threshold: 0.55\n",
            "                      precision    recall  f1-score   support\n",
            "\n",
            "         Case Report     0.9289    0.8952    0.9117       248\n",
            "           Diagnosis     0.8681    0.8638    0.8659       815\n",
            "Epidemic Forecasting     0.8625    0.8313    0.8466       166\n",
            "           Mechanism     0.9455    0.7940    0.8632       568\n",
            "          Prevention     0.9301    0.9244    0.9272      1613\n",
            "        Transmission     0.8343    0.8295    0.8319       352\n",
            "           Treatment     0.9128    0.8474    0.8789      1075\n",
            "\n",
            "           micro avg     0.9075    0.8702    0.8884      4837\n",
            "           macro avg     0.8975    0.8551    0.8751      4837\n",
            "        weighted avg     0.9083    0.8702    0.8881      4837\n",
            "         samples avg     0.9105    0.8995    0.8912      4837\n",
            "\n",
            "Threshold: 0.6\n",
            "                      precision    recall  f1-score   support\n",
            "\n",
            "         Case Report     0.9367    0.8952    0.9155       248\n",
            "           Diagnosis     0.8776    0.8442    0.8605       815\n",
            "Epidemic Forecasting     0.8800    0.7952    0.8354       166\n",
            "           Mechanism     0.9529    0.7835    0.8599       568\n",
            "          Prevention     0.9349    0.9163    0.9255      1613\n",
            "        Transmission     0.8529    0.8239    0.8382       352\n",
            "           Treatment     0.9219    0.8344    0.8760      1075\n",
            "\n",
            "           micro avg     0.9162    0.8584    0.8863      4837\n",
            "           macro avg     0.9081    0.8418    0.8730      4837\n",
            "        weighted avg     0.9167    0.8584    0.8859      4837\n",
            "         samples avg     0.9140    0.8912    0.8887      4837\n",
            "\n",
            "Threshold: 0.65\n",
            "                      precision    recall  f1-score   support\n",
            "\n",
            "         Case Report     0.9364    0.8911    0.9132       248\n",
            "           Diagnosis     0.8939    0.8270    0.8591       815\n",
            "Epidemic Forecasting     0.8966    0.7831    0.8360       166\n",
            "           Mechanism     0.9605    0.7711    0.8555       568\n",
            "          Prevention     0.9422    0.9089    0.9252      1613\n",
            "        Transmission     0.8746    0.7926    0.8316       352\n",
            "           Treatment     0.9333    0.8205    0.8733      1075\n",
            "\n",
            "           micro avg     0.9272    0.8456    0.8845      4837\n",
            "           macro avg     0.9196    0.8278    0.8706      4837\n",
            "        weighted avg     0.9274    0.8456    0.8839      4837\n",
            "         samples avg     0.9150    0.8810    0.8840      4837\n",
            "\n",
            "Threshold: 0.67\n",
            "                      precision    recall  f1-score   support\n",
            "\n",
            "         Case Report     0.9364    0.8911    0.9132       248\n",
            "           Diagnosis     0.8993    0.8221    0.8590       815\n",
            "Epidemic Forecasting     0.9021    0.7771    0.8350       166\n",
            "           Mechanism     0.9625    0.7676    0.8541       568\n",
            "          Prevention     0.9474    0.9045    0.9255      1613\n",
            "        Transmission     0.8766    0.7869    0.8293       352\n",
            "           Treatment     0.9346    0.8112    0.8685      1075\n",
            "\n",
            "           micro avg     0.9308    0.8402    0.8832      4837\n",
            "           macro avg     0.9227    0.8229    0.8692      4837\n",
            "        weighted avg     0.9310    0.8402    0.8825      4837\n",
            "         samples avg     0.9159    0.8770    0.8822      4837\n",
            "\n",
            "Threshold: 0.7\n",
            "                      precision    recall  f1-score   support\n",
            "\n",
            "         Case Report     0.9364    0.8911    0.9132       248\n",
            "           Diagnosis     0.9065    0.8086    0.8547       815\n",
            "Epidemic Forecasting     0.9071    0.7651    0.8301       166\n",
            "           Mechanism     0.9643    0.7606    0.8504       568\n",
            "          Prevention     0.9508    0.8977    0.9235      1613\n",
            "        Transmission     0.8856    0.7699    0.8237       352\n",
            "           Treatment     0.9398    0.7981    0.8632      1075\n",
            "\n",
            "           micro avg     0.9355    0.8303    0.8797      4837\n",
            "           macro avg     0.9272    0.8130    0.8655      4837\n",
            "        weighted avg     0.9355    0.8303    0.8789      4837\n",
            "         samples avg     0.9148    0.8689    0.8773      4837\n",
            "\n",
            "Threshold: 0.75\n",
            "                      precision    recall  f1-score   support\n",
            "\n",
            "         Case Report     0.9404    0.8911    0.9151       248\n",
            "           Diagnosis     0.9214    0.7914    0.8515       815\n",
            "Epidemic Forecasting     0.9104    0.7349    0.8133       166\n",
            "           Mechanism     0.9680    0.7465    0.8429       568\n",
            "          Prevention     0.9584    0.8865    0.9211      1613\n",
            "        Transmission     0.8962    0.7358    0.8081       352\n",
            "           Treatment     0.9500    0.7777    0.8552      1075\n",
            "\n",
            "           micro avg     0.9446    0.8139    0.8744      4837\n",
            "           macro avg     0.9350    0.7949    0.8582      4837\n",
            "        weighted avg     0.9444    0.8139    0.8733      4837\n",
            "         samples avg     0.9126    0.8576    0.8699      4837\n",
            "\n",
            "Threshold: 0.8\n",
            "                      precision    recall  f1-score   support\n",
            "\n",
            "         Case Report     0.9437    0.8790    0.9102       248\n",
            "           Diagnosis     0.9299    0.7485    0.8294       815\n",
            "Epidemic Forecasting     0.9231    0.7229    0.8108       166\n",
            "           Mechanism     0.9714    0.7183    0.8259       568\n",
            "          Prevention     0.9677    0.8735    0.9182      1613\n",
            "        Transmission     0.9087    0.6790    0.7772       352\n",
            "           Treatment     0.9565    0.7563    0.8447      1075\n",
            "\n",
            "           micro avg     0.9528    0.7891    0.8633      4837\n",
            "           macro avg     0.9430    0.7682    0.8452      4837\n",
            "        weighted avg     0.9522    0.7891    0.8617      4837\n",
            "         samples avg     0.9052    0.8392    0.8559      4837\n",
            "\n",
            "Threshold: 0.85\n",
            "                      precision    recall  f1-score   support\n",
            "\n",
            "         Case Report     0.9469    0.8629    0.9030       248\n",
            "           Diagnosis     0.9453    0.6994    0.8039       815\n",
            "Epidemic Forecasting     0.9435    0.7048    0.8069       166\n",
            "           Mechanism     0.9779    0.7007    0.8164       568\n",
            "          Prevention     0.9745    0.8524    0.9094      1613\n",
            "        Transmission     0.9167    0.6250    0.7432       352\n",
            "           Treatment     0.9643    0.7284    0.8299      1075\n",
            "\n",
            "           micro avg     0.9618    0.7602    0.8492      4837\n",
            "           macro avg     0.9527    0.7391    0.8304      4837\n",
            "        weighted avg     0.9610    0.7602    0.8471      4837\n",
            "         samples avg     0.8899    0.8157    0.8361      4837\n",
            "\n",
            "Threshold: 0.9\n",
            "                      precision    recall  f1-score   support\n",
            "\n",
            "         Case Report     0.9591    0.8508    0.9017       248\n",
            "           Diagnosis     0.9545    0.6442    0.7692       815\n",
            "Epidemic Forecasting     0.9464    0.6386    0.7626       166\n",
            "           Mechanism     0.9814    0.6514    0.7831       568\n",
            "          Prevention     0.9841    0.8072    0.8869      1613\n",
            "        Transmission     0.9388    0.5227    0.6715       352\n",
            "           Treatment     0.9699    0.6586    0.7845      1075\n",
            "\n",
            "           micro avg     0.9709    0.7042    0.8163      4837\n",
            "           macro avg     0.9620    0.6819    0.7942      4837\n",
            "        weighted avg     0.9698    0.7042    0.8129      4837\n",
            "         samples avg     0.8544    0.7697    0.7947      4837\n",
            "\n",
            "Threshold: 0.95\n",
            "                      precision    recall  f1-score   support\n",
            "\n",
            "         Case Report     0.9712    0.8145    0.8860       248\n",
            "           Diagnosis     0.9754    0.5362    0.6920       815\n",
            "Epidemic Forecasting     0.9620    0.4578    0.6204       166\n",
            "           Mechanism     0.9903    0.5387    0.6978       568\n",
            "          Prevention     0.9923    0.7167    0.8323      1613\n",
            "        Transmission     0.9714    0.3864    0.5528       352\n",
            "           Treatment     0.9791    0.5656    0.7170      1075\n",
            "\n",
            "           micro avg     0.9835    0.6039    0.7483      4837\n",
            "           macro avg     0.9774    0.5737    0.7140      4837\n",
            "        weighted avg     0.9826    0.6039    0.7424      4837\n",
            "         samples avg     0.7755    0.6834    0.7122      4837\n",
            "\n"
          ]
        }
      ]
    },
    {
      "cell_type": "code",
      "metadata": {
        "colab": {
          "base_uri": "https://localhost:8080/"
        },
        "id": "PTZ9lrEttGnt",
        "outputId": "6213fe28-40a6-4143-bfb7-979ad074afcb"
      },
      "source": [
        "THRESHOLD = [threshold/100 for threshold in range(10, 100, 1)]\n",
        "print(THRESHOLD)"
      ],
      "execution_count": null,
      "outputs": [
        {
          "output_type": "stream",
          "name": "stdout",
          "text": [
            "[0.1, 0.11, 0.12, 0.13, 0.14, 0.15, 0.16, 0.17, 0.18, 0.19, 0.2, 0.21, 0.22, 0.23, 0.24, 0.25, 0.26, 0.27, 0.28, 0.29, 0.3, 0.31, 0.32, 0.33, 0.34, 0.35, 0.36, 0.37, 0.38, 0.39, 0.4, 0.41, 0.42, 0.43, 0.44, 0.45, 0.46, 0.47, 0.48, 0.49, 0.5, 0.51, 0.52, 0.53, 0.54, 0.55, 0.56, 0.57, 0.58, 0.59, 0.6, 0.61, 0.62, 0.63, 0.64, 0.65, 0.66, 0.67, 0.68, 0.69, 0.7, 0.71, 0.72, 0.73, 0.74, 0.75, 0.76, 0.77, 0.78, 0.79, 0.8, 0.81, 0.82, 0.83, 0.84, 0.85, 0.86, 0.87, 0.88, 0.89, 0.9, 0.91, 0.92, 0.93, 0.94, 0.95, 0.96, 0.97, 0.98, 0.99]\n"
          ]
        }
      ]
    },
    {
      "cell_type": "code",
      "metadata": {
        "id": "L23St_k6kWMT"
      },
      "source": [
        "Class_report = dict()\n",
        "\n",
        "for threshold in THRESHOLD:\n",
        "  y_pred = predictions.numpy()\n",
        "  y_true = labels.numpy()\n",
        "\n",
        "  upper, lower = 1, 0\n",
        "\n",
        "  y_pred = np.where(y_pred > threshold, upper, lower)\n",
        "\n",
        "  Class_report[f\"THRESHOLD:{threshold}\"] = classification_report(\n",
        "      y_true,\n",
        "      y_pred,\n",
        "      target_names=LABEL_COLUMNS,\n",
        "      zero_division=0,\n",
        "      output_dict=True\n",
        "  )"
      ],
      "execution_count": null,
      "outputs": []
    },
    {
      "cell_type": "code",
      "metadata": {
        "id": "RO-mClKnkbyx"
      },
      "source": [
        "micro_F1_Scores = [Class_report[key][\"micro avg\"][\"f1-score\"] for key in Class_report.keys()]\n",
        "macro_F1_Scores = [Class_report[key][\"macro avg\"][\"f1-score\"] for key in Class_report.keys()]"
      ],
      "execution_count": null,
      "outputs": []
    },
    {
      "cell_type": "code",
      "metadata": {
        "colab": {
          "base_uri": "https://localhost:8080/",
          "height": 488
        },
        "id": "H22BEzj_kh69",
        "outputId": "4aa2401c-e0ca-4336-c6f3-0bfb41332f7a"
      },
      "source": [
        "import seaborn as sns\n",
        "import matplotlib.pyplot as plt\n",
        "\n",
        "x = np.arange(10, 100, 1)/100\n",
        "y1 = np.array(micro_F1_Scores)\n",
        "y2 = np.array(macro_F1_Scores)\n",
        "\n",
        "plt.plot(x, y1, 'r')  \n",
        "plt.plot(x, y2, 'b') \n",
        "plt.show()"
      ],
      "execution_count": null,
      "outputs": [
        {
          "output_type": "display_data",
          "data": {
            "image/png": "[encoded data removed]",
            "text/plain": [
              "<Figure size 864x576 with 1 Axes>"
            ]
          },
          "metadata": {
            "image/png": {
              "width": 714,
              "height": 471
            }
          }
        }
      ]
    },
    {
      "cell_type": "code",
      "metadata": {
        "colab": {
          "base_uri": "https://localhost:8080/"
        },
        "id": "A1IFeN1jtH0Z",
        "outputId": "13d21560-c0ba-49dc-cd32-f868a41f3e5b"
      },
      "source": [
        "max(micro_F1_Scores), np.argmax(micro_F1_Scores), x[32]"
      ],
      "execution_count": null,
      "outputs": [
        {
          "output_type": "execute_result",
          "data": {
            "text/plain": [
              "(0.8931641424478101, 32, 0.42)"
            ]
          },
          "metadata": {},
          "execution_count": 64
        }
      ]
    },
    {
      "cell_type": "code",
      "metadata": {
        "id": "lgPvmUBIyfN7"
      },
      "source": [
        "Annotation_size = {\n",
        "    \"Type_1\": [],\n",
        "    \"Type_2\": [],\n",
        "    \"Type_3\": [],\n",
        "    \"Type_4g\": []\n",
        "}"
      ],
      "execution_count": null,
      "outputs": []
    },
    {
      "cell_type": "code",
      "metadata": {
        "id": "MPULm2CxuVOF"
      },
      "source": [
        "for index, annotation in enumerate(labels):\n",
        "\n",
        "  annotation = annotation.numpy()\n",
        "  count = np.count_nonzero(annotation)\n",
        "  if count == 1:\n",
        "    Annotation_size[\"Type_1\"].append(index)\n",
        "  elif count == 2:\n",
        "    Annotation_size[\"Type_2\"].append(index)\n",
        "  elif count == 3:\n",
        "    Annotation_size[\"Type_3\"].append(index)\n",
        "  else:\n",
        "    Annotation_size[\"Type_4g\"].append(index)"
      ],
      "execution_count": null,
      "outputs": []
    },
    {
      "cell_type": "markdown",
      "metadata": {
        "id": "MDVgcZJ8wOqs"
      },
      "source": [
        "#### Classification Reports based on annotation counts"
      ]
    },
    {
      "cell_type": "code",
      "metadata": {
        "id": "9Eh98fF5uw0d"
      },
      "source": [
        "# Annotation equals once\n",
        "\n",
        "Type_1_predictions = predictions[Annotation_size[\"Type_1\"]]\n",
        "Type_1_labels = labels[Annotation_size[\"Type_1\"]]"
      ],
      "execution_count": null,
      "outputs": []
    },
    {
      "cell_type": "code",
      "metadata": {
        "colab": {
          "base_uri": "https://localhost:8080/"
        },
        "id": "7ffmQVlHv0cH",
        "outputId": "5cba843f-c15d-4979-bfce-5aaee850a9e6"
      },
      "source": [
        "y_pred = Type_1_predictions.numpy()\n",
        "y_true = Type_1_labels.numpy()\n",
        "\n",
        "upper, lower = 1, 0\n",
        "\n",
        "y_pred = np.where(y_pred > 0.5, upper, lower)\n",
        "\n",
        "print(\"classification report based on Annotation count equals one\\n\")\n",
        "\n",
        "print(\n",
        "    classification_report(\n",
        "        y_true,\n",
        "        y_pred,\n",
        "        digits=4,\n",
        "        target_names=LABEL_COLUMNS,\n",
        "        zero_division=0\n",
        "    )\n",
        ")"
      ],
      "execution_count": null,
      "outputs": [
        {
          "output_type": "stream",
          "name": "stdout",
          "text": [
            "classification report based on Annotation count equals one\n",
            "\n",
            "                      precision    recall  f1-score   support\n",
            "\n",
            "         Case Report     0.9447    0.8952    0.9193       248\n",
            "           Diagnosis     0.7597    0.9703    0.8522       303\n",
            "Epidemic Forecasting     0.7612    0.9107    0.8293        56\n",
            "           Mechanism     0.6974    0.8548    0.7681        62\n",
            "          Prevention     0.9244    0.9631    0.9434      1194\n",
            "        Transmission     0.3956    0.8571    0.5414        42\n",
            "           Treatment     0.7634    0.9313    0.8390       291\n",
            "\n",
            "           micro avg     0.8460    0.9458    0.8931      2196\n",
            "           macro avg     0.7495    0.9118    0.8132      2196\n",
            "        weighted avg     0.8620    0.9458    0.8987      2196\n",
            "         samples avg     0.8848    0.9458    0.9048      2196\n",
            "\n"
          ]
        }
      ]
    },
    {
      "cell_type": "code",
      "metadata": {
        "id": "-wZxePy478-r"
      },
      "source": [
        ""
      ],
      "execution_count": null,
      "outputs": []
    },
    {
      "cell_type": "code",
      "metadata": {
        "id": "WzxR60rRwaKz"
      },
      "source": [
        "# Annotation equals twice\n",
        "\n",
        "Type_1_predictions = predictions[Annotation_size[\"Type_2\"]]\n",
        "Type_1_labels = labels[Annotation_size[\"Type_2\"]]"
      ],
      "execution_count": null,
      "outputs": []
    },
    {
      "cell_type": "code",
      "metadata": {
        "colab": {
          "base_uri": "https://localhost:8080/"
        },
        "id": "WnVGT6MqwaK0",
        "outputId": "d37d5401-502e-4d61-aa02-a327faab80cb"
      },
      "source": [
        "y_pred = Type_1_predictions.numpy()\n",
        "y_true = Type_1_labels.numpy()\n",
        "\n",
        "upper, lower = 1, 0\n",
        "\n",
        "y_pred = np.where(y_pred > 0.5, upper, lower)\n",
        "\n",
        "print(\"classification report based on Annotation count equals two\\n\")\n",
        "\n",
        "print(\n",
        "    classification_report(\n",
        "        y_true,\n",
        "        y_pred,\n",
        "        digits=4,\n",
        "        target_names=LABEL_COLUMNS,\n",
        "        zero_division=0\n",
        "    )\n",
        ")"
      ],
      "execution_count": null,
      "outputs": [
        {
          "output_type": "stream",
          "name": "stdout",
          "text": [
            "classification report based on Annotation count equals two\n",
            "\n",
            "                      precision    recall  f1-score   support\n",
            "\n",
            "         Case Report     0.0000    0.0000    0.0000         0\n",
            "           Diagnosis     0.9294    0.8501    0.8880       387\n",
            "Epidemic Forecasting     0.8913    0.8283    0.8586        99\n",
            "           Mechanism     0.9771    0.8465    0.9072       404\n",
            "          Prevention     0.9346    0.8850    0.9091       339\n",
            "        Transmission     0.9447    0.8991    0.9213       228\n",
            "           Treatment     0.9832    0.8744    0.9256       669\n",
            "\n",
            "           micro avg     0.9525    0.8669    0.9077      2126\n",
            "           macro avg     0.8086    0.7405    0.7728      2126\n",
            "        weighted avg     0.9561    0.8669    0.9091      2126\n",
            "         samples avg     0.9458    0.8669    0.8902      2126\n",
            "\n"
          ]
        }
      ]
    },
    {
      "cell_type": "code",
      "metadata": {
        "id": "17Pt3_F7waZo"
      },
      "source": [
        "# Annotation equals thrice\n",
        "\n",
        "Type_1_predictions = predictions[Annotation_size[\"Type_3\"]]\n",
        "Type_1_labels = labels[Annotation_size[\"Type_3\"]]"
      ],
      "execution_count": null,
      "outputs": []
    },
    {
      "cell_type": "code",
      "metadata": {
        "colab": {
          "base_uri": "https://localhost:8080/"
        },
        "id": "ee5F7yQmwaZo",
        "outputId": "ca41b1d7-359d-45e1-e5da-dd423c040ca9"
      },
      "source": [
        "y_pred = Type_1_predictions.numpy()\n",
        "y_true = Type_1_labels.numpy()\n",
        "\n",
        "upper, lower = 1, 0\n",
        "\n",
        "y_pred = np.where(y_pred > 0.5, upper, lower)\n",
        "\n",
        "print(\"classification report based on Annotation count equals three\\n\")\n",
        "\n",
        "print(\n",
        "    classification_report(\n",
        "        y_true,\n",
        "        y_pred,\n",
        "        digits=4,\n",
        "        target_names=LABEL_COLUMNS,\n",
        "        zero_division=0\n",
        "    )\n",
        ")"
      ],
      "execution_count": null,
      "outputs": [
        {
          "output_type": "stream",
          "name": "stdout",
          "text": [
            "classification report based on Annotation count equals three\n",
            "\n",
            "                      precision    recall  f1-score   support\n",
            "\n",
            "         Case Report     0.0000    0.0000    0.0000         0\n",
            "           Diagnosis     0.9753    0.7596    0.8541       104\n",
            "Epidemic Forecasting     0.8571    0.5455    0.6667        11\n",
            "           Mechanism     0.9833    0.7024    0.8194        84\n",
            "          Prevention     0.8958    0.6615    0.7611        65\n",
            "        Transmission     0.9444    0.7500    0.8361        68\n",
            "           Treatment     0.9692    0.6495    0.7778        97\n",
            "\n",
            "           micro avg     0.9556    0.7016    0.8091       429\n",
            "           macro avg     0.8036    0.5812    0.6736       429\n",
            "        weighted avg     0.9555    0.7016    0.8083       429\n",
            "         samples avg     0.9633    0.7016    0.7914       429\n",
            "\n"
          ]
        }
      ]
    },
    {
      "cell_type": "code",
      "metadata": {
        "id": "eWMRmbAiwamJ"
      },
      "source": [
        "# Annotation equals more than 4\n",
        "\n",
        "Type_1_predictions = predictions[Annotation_size[\"Type_4g\"]]\n",
        "Type_1_labels = labels[Annotation_size[\"Type_4g\"]]"
      ],
      "execution_count": null,
      "outputs": []
    },
    {
      "cell_type": "code",
      "metadata": {
        "colab": {
          "base_uri": "https://localhost:8080/"
        },
        "id": "SahUndPawamJ",
        "outputId": "494e0ea5-3380-48e6-80a2-2b049dc81400"
      },
      "source": [
        "y_pred = Type_1_predictions.numpy()\n",
        "y_true = Type_1_labels.numpy()\n",
        "\n",
        "upper, lower = 1, 0\n",
        "\n",
        "y_pred = np.where(y_pred > 0.5, upper, lower)\n",
        "\n",
        "print(\"classification report based on Annotation count equals more than 4\\n\")\n",
        "\n",
        "print(\n",
        "    classification_report(\n",
        "        y_true,\n",
        "        y_pred,\n",
        "        digits=4,\n",
        "        target_names=LABEL_COLUMNS,\n",
        "        zero_division=0\n",
        "    )\n",
        ")"
      ],
      "execution_count": null,
      "outputs": [
        {
          "output_type": "stream",
          "name": "stdout",
          "text": [
            "classification report based on Annotation count equals more than 4\n",
            "\n",
            "                      precision    recall  f1-score   support\n",
            "\n",
            "         Case Report     0.0000    0.0000    0.0000         0\n",
            "           Diagnosis     1.0000    0.8095    0.8947        21\n",
            "Epidemic Forecasting     0.0000    0.0000    0.0000         0\n",
            "           Mechanism     1.0000    0.5000    0.6667        18\n",
            "          Prevention     1.0000    0.6000    0.7500        15\n",
            "        Transmission     1.0000    0.6429    0.7826        14\n",
            "           Treatment     1.0000    0.7778    0.8750        18\n",
            "\n",
            "           micro avg     1.0000    0.6744    0.8056        86\n",
            "           macro avg     0.7143    0.4757    0.5670        86\n",
            "        weighted avg     1.0000    0.6744    0.7994        86\n",
            "         samples avg     1.0000    0.6762    0.7879        86\n",
            "\n"
          ]
        }
      ]
    },
    {
      "cell_type": "markdown",
      "metadata": {
        "id": "djf-e0qw2aMi"
      },
      "source": [
        "#### model prediction and annotation segregation on baseline standards"
      ]
    },
    {
      "cell_type": "code",
      "metadata": {
        "id": "dipI9wmfv-AK"
      },
      "source": [
        "gold_predictions = pd.read_csv(\"drive/MyDrive/Biocreative/Biocreative/datasets/baseline/prediction_label_samples.csv\")\n",
        "gold_predictions = gold_predictions.reindex(columns=LABEL_COLUMNS)\n",
        "# gold_predictions = gold_predictions.drop([\"PMID\"], axis=1)\n",
        "gold_labels = pd.read_csv(\"drive/MyDrive/Biocreative/Biocreative/datasets/baseline/goldstandard_label_samples.csv\")\n",
        "gold_labels = gold_labels.reindex(columns=LABEL_COLUMNS)\n",
        "# gold_labels = gold_labels.drop([\"PMID\"], axis=1)"
      ],
      "execution_count": null,
      "outputs": []
    },
    {
      "cell_type": "code",
      "metadata": {
        "id": "aTr-2Xoy3Cph"
      },
      "source": [
        "gold_predictions = gold_predictions.values.tolist()\n",
        "gold_labels = gold_labels.values.tolist()"
      ],
      "execution_count": null,
      "outputs": []
    },
    {
      "cell_type": "code",
      "metadata": {
        "id": "Tz_l09BI2-nX"
      },
      "source": [
        "Annotation_size = {\n",
        "    \"Type_1\": [],\n",
        "    \"Type_2\": [],\n",
        "    \"Type_3\": [],\n",
        "    \"Type_4g\": []\n",
        "}"
      ],
      "execution_count": null,
      "outputs": []
    },
    {
      "cell_type": "code",
      "metadata": {
        "id": "gpzvrkgs2-nY"
      },
      "source": [
        "for index, annotation in enumerate(gold_labels):\n",
        "\n",
        "  annotation = np.array(annotation)\n",
        "  count = np.count_nonzero(annotation)\n",
        "  if count == 1:\n",
        "    Annotation_size[\"Type_1\"].append(index)\n",
        "  elif count == 2:\n",
        "    Annotation_size[\"Type_2\"].append(index)\n",
        "  elif count == 3:\n",
        "    Annotation_size[\"Type_3\"].append(index)\n",
        "  else:\n",
        "    Annotation_size[\"Type_4g\"].append(index)"
      ],
      "execution_count": null,
      "outputs": []
    },
    {
      "cell_type": "code",
      "metadata": {
        "id": "YQJFGdcQ4pTJ"
      },
      "source": [
        "gold_predictions = torch.tensor(gold_predictions)\n",
        "gold_labels = torch.tensor(gold_labels)"
      ],
      "execution_count": null,
      "outputs": []
    },
    {
      "cell_type": "code",
      "metadata": {
        "id": "Xt6BLfM0247o"
      },
      "source": [
        "# Annotation equals once\n",
        "\n",
        "Type_1_predictions = gold_predictions[Annotation_size[\"Type_1\"]]\n",
        "Type_1_labels = gold_labels[Annotation_size[\"Type_1\"]]"
      ],
      "execution_count": null,
      "outputs": []
    },
    {
      "cell_type": "code",
      "metadata": {
        "id": "ZmBlRs6s247p",
        "colab": {
          "base_uri": "https://localhost:8080/"
        },
        "outputId": "fce217a1-808c-460d-90e0-a9587b30c0fc"
      },
      "source": [
        "y_pred = Type_1_predictions.numpy()\n",
        "y_true = Type_1_labels.numpy()\n",
        "\n",
        "upper, lower = 1, 0\n",
        "\n",
        "y_pred = np.where(y_pred > 0.5, upper, lower)\n",
        "\n",
        "print(\"classification report based on Annotation count equals one\\n\")\n",
        "\n",
        "print(\n",
        "    classification_report(\n",
        "        y_true,\n",
        "        y_pred,\n",
        "        digits=4,\n",
        "        target_names=LABEL_COLUMNS,\n",
        "        zero_division=0\n",
        "    )\n",
        ")"
      ],
      "execution_count": null,
      "outputs": [
        {
          "output_type": "stream",
          "name": "stdout",
          "text": [
            "classification report based on Annotation count equals one\n",
            "\n",
            "                      precision    recall  f1-score   support\n",
            "\n",
            "         Case Report     0.8636    0.7600    0.8085        50\n",
            "           Diagnosis     0.0000    0.0000    0.0000         0\n",
            "Epidemic Forecasting     0.9111    0.7593    0.8283        54\n",
            "           Mechanism     0.7978    0.8161    0.8068        87\n",
            "          Prevention     0.9475    0.9350    0.9412       908\n",
            "        Transmission     0.6731    0.9211    0.7778        38\n",
            "           Treatment     0.8398    0.8566    0.8481       251\n",
            "\n",
            "           micro avg     0.8839    0.8999    0.8918      1388\n",
            "           macro avg     0.7190    0.7211    0.7158      1388\n",
            "        weighted avg     0.9067    0.8999    0.9023      1388\n",
            "         samples avg     0.8542    0.8999    0.8694      1388\n",
            "\n"
          ]
        }
      ]
    },
    {
      "cell_type": "code",
      "metadata": {
        "id": "5ajGWSJj247q"
      },
      "source": [
        "# Annotation equals twice\n",
        "\n",
        "Type_1_predictions = gold_predictions[Annotation_size[\"Type_2\"]]\n",
        "Type_1_labels = gold_labels[Annotation_size[\"Type_2\"]]"
      ],
      "execution_count": null,
      "outputs": []
    },
    {
      "cell_type": "code",
      "metadata": {
        "id": "jle3z_25247q",
        "colab": {
          "base_uri": "https://localhost:8080/"
        },
        "outputId": "37237488-e075-4353-9e37-b4465c3d0a50"
      },
      "source": [
        "y_pred = Type_1_predictions.numpy()\n",
        "y_true = Type_1_labels.numpy()\n",
        "\n",
        "upper, lower = 1, 0\n",
        "\n",
        "y_pred = np.where(y_pred > 0.5, upper, lower)\n",
        "\n",
        "print(\"classification report based on Annotation count equals two\\n\")\n",
        "\n",
        "print(\n",
        "    classification_report(\n",
        "        y_true,\n",
        "        y_pred,\n",
        "        digits=4,\n",
        "        target_names=LABEL_COLUMNS,\n",
        "        zero_division=0\n",
        "    )\n",
        ")"
      ],
      "execution_count": null,
      "outputs": [
        {
          "output_type": "stream",
          "name": "stdout",
          "text": [
            "classification report based on Annotation count equals two\n",
            "\n",
            "                      precision    recall  f1-score   support\n",
            "\n",
            "         Case Report     0.0000    0.0000    0.0000         0\n",
            "           Diagnosis     0.9782    0.6793    0.8018       396\n",
            "Epidemic Forecasting     0.9344    0.6129    0.7403        93\n",
            "           Mechanism     0.9386    0.7880    0.8567       349\n",
            "          Prevention     0.9029    0.8395    0.8700       299\n",
            "        Transmission     0.9554    0.6772    0.7926       158\n",
            "           Treatment     0.9967    0.8048    0.8905       743\n",
            "\n",
            "           micro avg     0.9611    0.7640    0.8513      2038\n",
            "           macro avg     0.8152    0.6288    0.7074      2038\n",
            "        weighted avg     0.9633    0.7640    0.8500      2038\n",
            "         samples avg     0.9342    0.7640    0.8179      2038\n",
            "\n"
          ]
        }
      ]
    },
    {
      "cell_type": "code",
      "metadata": {
        "id": "MX6kg5KD247r"
      },
      "source": [
        "# Annotation equals thrice\n",
        "\n",
        "Type_1_predictions = gold_predictions[Annotation_size[\"Type_3\"]]\n",
        "Type_1_labels = gold_labels[Annotation_size[\"Type_3\"]]"
      ],
      "execution_count": null,
      "outputs": []
    },
    {
      "cell_type": "code",
      "metadata": {
        "id": "sioJkalO247r",
        "colab": {
          "base_uri": "https://localhost:8080/"
        },
        "outputId": "f08f6619-73d2-4f85-d73a-8172e0308f86"
      },
      "source": [
        "y_pred = Type_1_predictions.numpy()\n",
        "y_true = Type_1_labels.numpy()\n",
        "\n",
        "upper, lower = 1, 0\n",
        "\n",
        "y_pred = np.where(y_pred > 0.5, upper, lower)\n",
        "\n",
        "print(\"classification report based on Annotation count equals three\\n\")\n",
        "\n",
        "print(\n",
        "    classification_report(\n",
        "        y_true,\n",
        "        y_pred,\n",
        "        digits=4,\n",
        "        target_names=LABEL_COLUMNS,\n",
        "        zero_division=0\n",
        "    )\n",
        ")"
      ],
      "execution_count": null,
      "outputs": [
        {
          "output_type": "stream",
          "name": "stdout",
          "text": [
            "classification report based on Annotation count equals three\n",
            "\n",
            "                      precision    recall  f1-score   support\n",
            "\n",
            "         Case Report     0.0000    0.0000    0.0000         0\n",
            "           Diagnosis     0.9722    0.4930    0.6542        71\n",
            "Epidemic Forecasting     1.0000    0.4194    0.5909        31\n",
            "           Mechanism     1.0000    0.7105    0.8308        76\n",
            "          Prevention     0.9672    0.8551    0.9077        69\n",
            "        Transmission     0.9815    0.6709    0.7970        79\n",
            "           Treatment     0.9857    0.7841    0.8734        88\n",
            "\n",
            "           micro avg     0.9826    0.6836    0.8063       414\n",
            "           macro avg     0.8438    0.5618    0.6649       414\n",
            "        weighted avg     0.9832    0.6836    0.7980       414\n",
            "         samples avg     0.9674    0.6836    0.7820       414\n",
            "\n"
          ]
        }
      ]
    },
    {
      "cell_type": "code",
      "metadata": {
        "id": "f8oJhrCr247s"
      },
      "source": [
        "# Annotation equals more than 4\n",
        "\n",
        "Type_1_predictions = gold_predictions[Annotation_size[\"Type_4g\"]]\n",
        "Type_1_labels = gold_labels[Annotation_size[\"Type_4g\"]]"
      ],
      "execution_count": null,
      "outputs": []
    },
    {
      "cell_type": "code",
      "metadata": {
        "id": "5Z3Hb9L8247t",
        "colab": {
          "base_uri": "https://localhost:8080/"
        },
        "outputId": "a7ebd398-b561-4eab-f529-368f2e8bb7bf"
      },
      "source": [
        "y_pred = Type_1_predictions.numpy()\n",
        "y_true = Type_1_labels.numpy()\n",
        "\n",
        "upper, lower = 1, 0\n",
        "\n",
        "y_pred = np.where(y_pred > 0.5, upper, lower)\n",
        "\n",
        "print(\"classification report based on Annotation count equals more than 4\\n\")\n",
        "\n",
        "print(\n",
        "    classification_report(\n",
        "        y_true,\n",
        "        y_pred,\n",
        "        digits=4,\n",
        "        target_names=LABEL_COLUMNS,\n",
        "        zero_division=0\n",
        "    )\n",
        ")"
      ],
      "execution_count": null,
      "outputs": [
        {
          "output_type": "stream",
          "name": "stdout",
          "text": [
            "classification report based on Annotation count equals more than 4\n",
            "\n",
            "                      precision    recall  f1-score   support\n",
            "\n",
            "         Case Report     0.0000    0.0000    0.0000         0\n",
            "           Diagnosis     1.0000    0.4000    0.5714         5\n",
            "Epidemic Forecasting     0.0000    0.0000    0.0000         0\n",
            "           Mechanism     1.0000    0.5000    0.6667         6\n",
            "          Prevention     1.0000    0.7500    0.8571         4\n",
            "        Transmission     1.0000    0.5000    0.6667         4\n",
            "           Treatment     1.0000    0.6000    0.7500         5\n",
            "\n",
            "           micro avg     1.0000    0.5417    0.7027        24\n",
            "           macro avg     0.7143    0.3929    0.5017        24\n",
            "        weighted avg     1.0000    0.5417    0.6959        24\n",
            "         samples avg     0.8333    0.5417    0.6429        24\n",
            "\n"
          ]
        }
      ]
    },
    {
      "cell_type": "code",
      "metadata": {
        "id": "sxTgdr7z5hGN"
      },
      "source": [
        "# test prediction"
      ],
      "execution_count": null,
      "outputs": []
    },
    {
      "cell_type": "code",
      "metadata": {
        "id": "j-3RUzRnjQHp"
      },
      "source": [
        ""
      ],
      "execution_count": null,
      "outputs": []
    }
  ]
}