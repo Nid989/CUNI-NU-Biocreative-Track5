<<<<<<< HEAD
{"nbformat":4,"nbformat_minor":0,"metadata":{"accelerator":"GPU","colab":{"name":"double_attention_specter.ipynb","provenance":[],"collapsed_sections":["UUhKS-dUegTd","Km1O-KpaTSIf","pixwbhCQZzEa","zVkHzSD8O2_i"],"machine_shape":"hm"},"kernelspec":{"display_name":"Python 3","name":"python3"},"language_info":{"name":"python"},"widgets":{"application/vnd.jupyter.widget-state+json":{"df15de1400744b838eee8a1e9c1d42c4":{"model_module":"@jupyter-widgets/controls","model_name":"HBoxModel","model_module_version":"1.5.0","state":{"_view_name":"HBoxView","_dom_classes":[],"_model_name":"HBoxModel","_view_module":"@jupyter-widgets/controls","_model_module_version":"1.5.0","_view_count":null,"_view_module_version":"1.5.0","box_style":"","layout":"IPY_MODEL_63f299c96ff24dc9947bdc3c5cc831c4","_model_module":"@jupyter-widgets/controls","children":["IPY_MODEL_da82a64274ca4616a59fb69c9555b7c1","IPY_MODEL_0119e37b438e4b31bde3a02327725130","IPY_MODEL_d483600190964ec0aed635fcbe59a0cb"]}},"63f299c96ff24dc9947bdc3c5cc831c4":{"model_module":"@jupyter-widgets/base","model_name":"LayoutModel","model_module_version":"1.2.0","state":{"_view_name":"LayoutView","grid_template_rows":null,"right":null,"justify_content":null,"_view_module":"@jupyter-widgets/base","overflow":null,"_model_module_version":"1.2.0","_view_count":null,"flex_flow":null,"width":null,"min_width":null,"border":null,"align_items":null,"bottom":null,"_model_module":"@jupyter-widgets/base","top":null,"grid_column":null,"overflow_y":null,"overflow_x":null,"grid_auto_flow":null,"grid_area":null,"grid_template_columns":null,"flex":null,"_model_name":"LayoutModel","justify_items":null,"grid_row":null,"max_height":null,"align_content":null,"visibility":null,"align_self":null,"height":null,"min_height":null,"padding":null,"grid_auto_rows":null,"grid_gap":null,"max_width":null,"order":null,"_view_module_version":"1.2.0","grid_template_areas":null,"object_position":null,"object_fit":null,"grid_auto_columns":null,"margin":null,"display":null,"left":null}},"da82a64274ca4616a59fb69c9555b7c1":{"model_module":"@jupyter-widgets/controls","model_name":"HTMLModel","model_module_version":"1.5.0","state":{"_view_name":"HTMLView","style":"IPY_MODEL_1e77ba2fba8b4913b19c3f6ef20401a3","_dom_classes":[],"description":"","_model_name":"HTMLModel","placeholder":"​","_view_module":"@jupyter-widgets/controls","_model_module_version":"1.5.0","value":"Downloading: 100%","_view_count":null,"_view_module_version":"1.5.0","description_tooltip":null,"_model_module":"@jupyter-widgets/controls","layout":"IPY_MODEL_e14aecc18dd54d9caf81ad9af6db9d34"}},"0119e37b438e4b31bde3a02327725130":{"model_module":"@jupyter-widgets/controls","model_name":"FloatProgressModel","model_module_version":"1.5.0","state":{"_view_name":"ProgressView","style":"IPY_MODEL_0d6a9d1152844ad99feb49d54db9acab","_dom_classes":[],"description":"","_model_name":"FloatProgressModel","bar_style":"success","max":28,"_view_module":"@jupyter-widgets/controls","_model_module_version":"1.5.0","value":28,"_view_count":null,"_view_module_version":"1.5.0","orientation":"horizontal","min":0,"description_tooltip":null,"_model_module":"@jupyter-widgets/controls","layout":"IPY_MODEL_7d027e8b00c040c6aae4a38a3a04404c"}},"d483600190964ec0aed635fcbe59a0cb":{"model_module":"@jupyter-widgets/controls","model_name":"HTMLModel","model_module_version":"1.5.0","state":{"_view_name":"HTMLView","style":"IPY_MODEL_f54f2eec506c4315854576595fe54ba4","_dom_classes":[],"description":"","_model_name":"HTMLModel","placeholder":"​","_view_module":"@jupyter-widgets/controls","_model_module_version":"1.5.0","value":" 28.0/28.0 [00:00&lt;00:00, 449B/s]","_view_count":null,"_view_module_version":"1.5.0","description_tooltip":null,"_model_module":"@jupyter-widgets/controls","layout":"IPY_MODEL_c7ce4ec266284eaa8df4918a789c3f22"}},"1e77ba2fba8b4913b19c3f6ef20401a3":{"model_module":"@jupyter-widgets/controls","model_name":"DescriptionStyleModel","model_module_version":"1.5.0","state":{"_view_name":"StyleView","_model_name":"DescriptionStyleModel","description_width":"","_view_module":"@jupyter-widgets/base","_model_module_version":"1.5.0","_view_count":null,"_view_module_version":"1.2.0","_model_module":"@jupyter-widgets/controls"}},"e14aecc18dd54d9caf81ad9af6db9d34":{"model_module":"@jupyter-widgets/base","model_name":"LayoutModel","model_module_version":"1.2.0","state":{"_view_name":"LayoutView","grid_template_rows":null,"right":null,"justify_content":null,"_view_module":"@jupyter-widgets/base","overflow":null,"_model_module_version":"1.2.0","_view_count":null,"flex_flow":null,"width":null,"min_width":null,"border":null,"align_items":null,"bottom":null,"_model_module":"@jupyter-widgets/base","top":null,"grid_column":null,"overflow_y":null,"overflow_x":null,"grid_auto_flow":null,"grid_area":null,"grid_template_columns":null,"flex":null,"_model_name":"LayoutModel","justify_items":null,"grid_row":null,"max_height":null,"align_content":null,"visibility":null,"align_self":null,"height":null,"min_height":null,"padding":null,"grid_auto_rows":null,"grid_gap":null,"max_width":null,"order":null,"_view_module_version":"1.2.0","grid_template_areas":null,"object_position":null,"object_fit":null,"grid_auto_columns":null,"margin":null,"display":null,"left":null}},"0d6a9d1152844ad99feb49d54db9acab":{"model_module":"@jupyter-widgets/controls","model_name":"ProgressStyleModel","model_module_version":"1.5.0","state":{"_view_name":"StyleView","_model_name":"ProgressStyleModel","description_width":"","_view_module":"@jupyter-widgets/base","_model_module_version":"1.5.0","_view_count":null,"_view_module_version":"1.2.0","bar_color":null,"_model_module":"@jupyter-widgets/controls"}},"7d027e8b00c040c6aae4a38a3a04404c":{"model_module":"@jupyter-widgets/base","model_name":"LayoutModel","model_module_version":"1.2.0","state":{"_view_name":"LayoutView","grid_template_rows":null,"right":null,"justify_content":null,"_view_module":"@jupyter-widgets/base","overflow":null,"_model_module_version":"1.2.0","_view_count":null,"flex_flow":null,"width":null,"min_width":null,"border":null,"align_items":null,"bottom":null,"_model_module":"@jupyter-widgets/base","top":null,"grid_column":null,"overflow_y":null,"overflow_x":null,"grid_auto_flow":null,"grid_area":null,"grid_template_columns":null,"flex":null,"_model_name":"LayoutModel","justify_items":null,"grid_row":null,"max_height":null,"align_content":null,"visibility":null,"align_self":null,"height":null,"min_height":null,"padding":null,"grid_auto_rows":null,"grid_gap":null,"max_width":null,"order":null,"_view_module_version":"1.2.0","grid_template_areas":null,"object_position":null,"object_fit":null,"grid_auto_columns":null,"margin":null,"display":null,"left":null}},"f54f2eec506c4315854576595fe54ba4":{"model_module":"@jupyter-widgets/controls","model_name":"DescriptionStyleModel","model_module_version":"1.5.0","state":{"_view_name":"StyleView","_model_name":"DescriptionStyleModel","description_width":"","_view_module":"@jupyter-widgets/base","_model_module_version":"1.5.0","_view_count":null,"_view_module_version":"1.2.0","_model_module":"@jupyter-widgets/controls"}},"c7ce4ec266284eaa8df4918a789c3f22":{"model_module":"@jupyter-widgets/base","model_name":"LayoutModel","model_module_version":"1.2.0","state":{"_view_name":"LayoutView","grid_template_rows":null,"right":null,"justify_content":null,"_view_module":"@jupyter-widgets/base","overflow":null,"_model_module_version":"1.2.0","_view_count":null,"flex_flow":null,"width":null,"min_width":null,"border":null,"align_items":null,"bottom":null,"_model_module":"@jupyter-widgets/base","top":null,"grid_column":null,"overflow_y":null,"overflow_x":null,"grid_auto_flow":null,"grid_area":null,"grid_template_columns":null,"flex":null,"_model_name":"LayoutModel","justify_items":null,"grid_row":null,"max_height":null,"align_content":null,"visibility":null,"align_self":null,"height":null,"min_height":null,"padding":null,"grid_auto_rows":null,"grid_gap":null,"max_width":null,"order":null,"_view_module_version":"1.2.0","grid_template_areas":null,"object_position":null,"object_fit":null,"grid_auto_columns":null,"margin":null,"display":null,"left":null}},"4259f8209fdc4beebf63cc06b0450095":{"model_module":"@jupyter-widgets/controls","model_name":"HBoxModel","model_module_version":"1.5.0","state":{"_view_name":"HBoxView","_dom_classes":[],"_model_name":"HBoxModel","_view_module":"@jupyter-widgets/controls","_model_module_version":"1.5.0","_view_count":null,"_view_module_version":"1.5.0","box_style":"","layout":"IPY_MODEL_77f985c0439c42c3858588ca78dc3b99","_model_module":"@jupyter-widgets/controls","children":["IPY_MODEL_8be2e44a61794cd98824d29ee658cd2b","IPY_MODEL_67266a8ddc9b45dca046099fcd33ecc7","IPY_MODEL_f1af566fd7cb4a5eb5fa8b2f814a52f8"]}},"77f985c0439c42c3858588ca78dc3b99":{"model_module":"@jupyter-widgets/base","model_name":"LayoutModel","model_module_version":"1.2.0","state":{"_view_name":"LayoutView","grid_template_rows":null,"right":null,"justify_content":null,"_view_module":"@jupyter-widgets/base","overflow":null,"_model_module_version":"1.2.0","_view_count":null,"flex_flow":null,"width":null,"min_width":null,"border":null,"align_items":null,"bottom":null,"_model_module":"@jupyter-widgets/base","top":null,"grid_column":null,"overflow_y":null,"overflow_x":null,"grid_auto_flow":null,"grid_area":null,"grid_template_columns":null,"flex":null,"_model_name":"LayoutModel","justify_items":null,"grid_row":null,"max_height":null,"align_content":null,"visibility":null,"align_self":null,"height":null,"min_height":null,"padding":null,"grid_auto_rows":null,"grid_gap":null,"max_width":null,"order":null,"_view_module_version":"1.2.0","grid_template_areas":null,"object_position":null,"object_fit":null,"grid_auto_columns":null,"margin":null,"display":null,"left":null}},"8be2e44a61794cd98824d29ee658cd2b":{"model_module":"@jupyter-widgets/controls","model_name":"HTMLModel","model_module_version":"1.5.0","state":{"_view_name":"HTMLView","style":"IPY_MODEL_e687fa3872cc4552bd33bdf91c4891d1","_dom_classes":[],"description":"","_model_name":"HTMLModel","placeholder":"​","_view_module":"@jupyter-widgets/controls","_model_module_version":"1.5.0","value":"Downloading: 100%","_view_count":null,"_view_module_version":"1.5.0","description_tooltip":null,"_model_module":"@jupyter-widgets/controls","layout":"IPY_MODEL_acaa52dd48084c21a85c4a0403d7163a"}},"67266a8ddc9b45dca046099fcd33ecc7":{"model_module":"@jupyter-widgets/controls","model_name":"FloatProgressModel","model_module_version":"1.5.0","state":{"_view_name":"ProgressView","style":"IPY_MODEL_625d68e03beb46189b7336938941dd47","_dom_classes":[],"description":"","_model_name":"FloatProgressModel","bar_style":"success","max":385,"_view_module":"@jupyter-widgets/controls","_model_module_version":"1.5.0","value":385,"_view_count":null,"_view_module_version":"1.5.0","orientation":"horizontal","min":0,"description_tooltip":null,"_model_module":"@jupyter-widgets/controls","layout":"IPY_MODEL_ecf38c0d0fb545abadcfde9cbba84b69"}},"f1af566fd7cb4a5eb5fa8b2f814a52f8":{"model_module":"@jupyter-widgets/controls","model_name":"HTMLModel","model_module_version":"1.5.0","state":{"_view_name":"HTMLView","style":"IPY_MODEL_bcd5e474b0cf490f9193557435acb1a2","_dom_classes":[],"description":"","_model_name":"HTMLModel","placeholder":"​","_view_module":"@jupyter-widgets/controls","_model_module_version":"1.5.0","value":" 385/385 [00:00&lt;00:00, 7.24kB/s]","_view_count":null,"_view_module_version":"1.5.0","description_tooltip":null,"_model_module":"@jupyter-widgets/controls","layout":"IPY_MODEL_b2ffde985e694058b5f34c12440cae83"}},"e687fa3872cc4552bd33bdf91c4891d1":{"model_module":"@jupyter-widgets/controls","model_name":"DescriptionStyleModel","model_module_version":"1.5.0","state":{"_view_name":"StyleView","_model_name":"DescriptionStyleModel","description_width":"","_view_module":"@jupyter-widgets/base","_model_module_version":"1.5.0","_view_count":null,"_view_module_version":"1.2.0","_model_module":"@jupyter-widgets/controls"}},"acaa52dd48084c21a85c4a0403d7163a":{"model_module":"@jupyter-widgets/base","model_name":"LayoutModel","model_module_version":"1.2.0","state":{"_view_name":"LayoutView","grid_template_rows":null,"right":null,"justify_content":null,"_view_module":"@jupyter-widgets/base","overflow":null,"_model_module_version":"1.2.0","_view_count":null,"flex_flow":null,"width":null,"min_width":null,"border":null,"align_items":null,"bottom":null,"_model_module":"@jupyter-widgets/base","top":null,"grid_column":null,"overflow_y":null,"overflow_x":null,"grid_auto_flow":null,"grid_area":null,"grid_template_columns":null,"flex":null,"_model_name":"LayoutModel","justify_items":null,"grid_row":null,"max_height":null,"align_content":null,"visibility":null,"align_self":null,"height":null,"min_height":null,"padding":null,"grid_auto_rows":null,"grid_gap":null,"max_width":null,"order":null,"_view_module_version":"1.2.0","grid_template_areas":null,"object_position":null,"object_fit":null,"grid_auto_columns":null,"margin":null,"display":null,"left":null}},"625d68e03beb46189b7336938941dd47":{"model_module":"@jupyter-widgets/controls","model_name":"ProgressStyleModel","model_module_version":"1.5.0","state":{"_view_name":"StyleView","_model_name":"ProgressStyleModel","description_width":"","_view_module":"@jupyter-widgets/base","_model_module_version":"1.5.0","_view_count":null,"_view_module_version":"1.2.0","bar_color":null,"_model_module":"@jupyter-widgets/controls"}},"ecf38c0d0fb545abadcfde9cbba84b69":{"model_module":"@jupyter-widgets/base","model_name":"LayoutModel","model_module_version":"1.2.0","state":{"_view_name":"LayoutView","grid_template_rows":null,"right":null,"justify_content":null,"_view_module":"@jupyter-widgets/base","overflow":null,"_model_module_version":"1.2.0","_view_count":null,"flex_flow":null,"width":null,"min_width":null,"border":null,"align_items":null,"bottom":null,"_model_module":"@jupyter-widgets/base","top":null,"grid_column":null,"overflow_y":null,"overflow_x":null,"grid_auto_flow":null,"grid_area":null,"grid_template_columns":null,"flex":null,"_model_name":"LayoutModel","justify_items":null,"grid_row":null,"max_height":null,"align_content":null,"visibility":null,"align_self":null,"height":null,"min_height":null,"padding":null,"grid_auto_rows":null,"grid_gap":null,"max_width":null,"order":null,"_view_module_version":"1.2.0","grid_template_areas":null,"object_position":null,"object_fit":null,"grid_auto_columns":null,"margin":null,"display":null,"left":null}},"bcd5e474b0cf490f9193557435acb1a2":{"model_module":"@jupyter-widgets/controls","model_name":"DescriptionStyleModel","model_module_version":"1.5.0","state":{"_view_name":"StyleView","_model_name":"DescriptionStyleModel","description_width":"","_view_module":"@jupyter-widgets/base","_model_module_version":"1.5.0","_view_count":null,"_view_module_version":"1.2.0","_model_module":"@jupyter-widgets/controls"}},"b2ffde985e694058b5f34c12440cae83":{"model_module":"@jupyter-widgets/base","model_name":"LayoutModel","model_module_version":"1.2.0","state":{"_view_name":"LayoutView","grid_template_rows":null,"right":null,"justify_content":null,"_view_module":"@jupyter-widgets/base","overflow":null,"_model_module_version":"1.2.0","_view_count":null,"flex_flow":null,"width":null,"min_width":null,"border":null,"align_items":null,"bottom":null,"_model_module":"@jupyter-widgets/base","top":null,"grid_column":null,"overflow_y":null,"overflow_x":null,"grid_auto_flow":null,"grid_area":null,"grid_template_columns":null,"flex":null,"_model_name":"LayoutModel","justify_items":null,"grid_row":null,"max_height":null,"align_content":null,"visibility":null,"align_self":null,"height":null,"min_height":null,"padding":null,"grid_auto_rows":null,"grid_gap":null,"max_width":null,"order":null,"_view_module_version":"1.2.0","grid_template_areas":null,"object_position":null,"object_fit":null,"grid_auto_columns":null,"margin":null,"display":null,"left":null}},"20ce3d39f50147899d328401d6fff74f":{"model_module":"@jupyter-widgets/controls","model_name":"HBoxModel","model_module_version":"1.5.0","state":{"_view_name":"HBoxView","_dom_classes":[],"_model_name":"HBoxModel","_view_module":"@jupyter-widgets/controls","_model_module_version":"1.5.0","_view_count":null,"_view_module_version":"1.5.0","box_style":"","layout":"IPY_MODEL_75d3172703764a05b5791833d901e719","_model_module":"@jupyter-widgets/controls","children":["IPY_MODEL_e20b7a0e48c242b196f0ccec7eb6d025","IPY_MODEL_bad48c1f93774ef8ba942bec2ee57523","IPY_MODEL_12782656ee904982bb53af670f552cda"]}},"75d3172703764a05b5791833d901e719":{"model_module":"@jupyter-widgets/base","model_name":"LayoutModel","model_module_version":"1.2.0","state":{"_view_name":"LayoutView","grid_template_rows":null,"right":null,"justify_content":null,"_view_module":"@jupyter-widgets/base","overflow":null,"_model_module_version":"1.2.0","_view_count":null,"flex_flow":null,"width":null,"min_width":null,"border":null,"align_items":null,"bottom":null,"_model_module":"@jupyter-widgets/base","top":null,"grid_column":null,"overflow_y":null,"overflow_x":null,"grid_auto_flow":null,"grid_area":null,"grid_template_columns":null,"flex":null,"_model_name":"LayoutModel","justify_items":null,"grid_row":null,"max_height":null,"align_content":null,"visibility":null,"align_self":null,"height":null,"min_height":null,"padding":null,"grid_auto_rows":null,"grid_gap":null,"max_width":null,"order":null,"_view_module_version":"1.2.0","grid_template_areas":null,"object_position":null,"object_fit":null,"grid_auto_columns":null,"margin":null,"display":null,"left":null}},"e20b7a0e48c242b196f0ccec7eb6d025":{"model_module":"@jupyter-widgets/controls","model_name":"HTMLModel","model_module_version":"1.5.0","state":{"_view_name":"HTMLView","style":"IPY_MODEL_ec7d709056374a429e6d950668381c53","_dom_classes":[],"description":"","_model_name":"HTMLModel","placeholder":"​","_view_module":"@jupyter-widgets/controls","_model_module_version":"1.5.0","value":"Downloading: 100%","_view_count":null,"_view_module_version":"1.5.0","description_tooltip":null,"_model_module":"@jupyter-widgets/controls","layout":"IPY_MODEL_4a75a7bfe13b490cb9d4ed674c37ef71"}},"bad48c1f93774ef8ba942bec2ee57523":{"model_module":"@jupyter-widgets/controls","model_name":"FloatProgressModel","model_module_version":"1.5.0","state":{"_view_name":"ProgressView","style":"IPY_MODEL_439e8ec2baf24790b2af80bdf7527d49","_dom_classes":[],"description":"","_model_name":"FloatProgressModel","bar_style":"success","max":226150,"_view_module":"@jupyter-widgets/controls","_model_module_version":"1.5.0","value":226150,"_view_count":null,"_view_module_version":"1.5.0","orientation":"horizontal","min":0,"description_tooltip":null,"_model_module":"@jupyter-widgets/controls","layout":"IPY_MODEL_5ead6b5bea2f42c38aba5566619ca100"}},"12782656ee904982bb53af670f552cda":{"model_module":"@jupyter-widgets/controls","model_name":"HTMLModel","model_module_version":"1.5.0","state":{"_view_name":"HTMLView","style":"IPY_MODEL_03a7b266d17a4199bad2f13cb653510f","_dom_classes":[],"description":"","_model_name":"HTMLModel","placeholder":"​","_view_module":"@jupyter-widgets/controls","_model_module_version":"1.5.0","value":" 221k/221k [00:00&lt;00:00, 464kB/s]","_view_count":null,"_view_module_version":"1.5.0","description_tooltip":null,"_model_module":"@jupyter-widgets/controls","layout":"IPY_MODEL_643d888bea8b4ccfb366df8be58b4708"}},"ec7d709056374a429e6d950668381c53":{"model_module":"@jupyter-widgets/controls","model_name":"DescriptionStyleModel","model_module_version":"1.5.0","state":{"_view_name":"StyleView","_model_name":"DescriptionStyleModel","description_width":"","_view_module":"@jupyter-widgets/base","_model_module_version":"1.5.0","_view_count":null,"_view_module_version":"1.2.0","_model_module":"@jupyter-widgets/controls"}},"4a75a7bfe13b490cb9d4ed674c37ef71":{"model_module":"@jupyter-widgets/base","model_name":"LayoutModel","model_module_version":"1.2.0","state":{"_view_name":"LayoutView","grid_template_rows":null,"right":null,"justify_content":null,"_view_module":"@jupyter-widgets/base","overflow":null,"_model_module_version":"1.2.0","_view_count":null,"flex_flow":null,"width":null,"min_width":null,"border":null,"align_items":null,"bottom":null,"_model_module":"@jupyter-widgets/base","top":null,"grid_column":null,"overflow_y":null,"overflow_x":null,"grid_auto_flow":null,"grid_area":null,"grid_template_columns":null,"flex":null,"_model_name":"LayoutModel","justify_items":null,"grid_row":null,"max_height":null,"align_content":null,"visibility":null,"align_self":null,"height":null,"min_height":null,"padding":null,"grid_auto_rows":null,"grid_gap":null,"max_width":null,"order":null,"_view_module_version":"1.2.0","grid_template_areas":null,"object_position":null,"object_fit":null,"grid_auto_columns":null,"margin":null,"display":null,"left":null}},"439e8ec2baf24790b2af80bdf7527d49":{"model_module":"@jupyter-widgets/controls","model_name":"ProgressStyleModel","model_module_version":"1.5.0","state":{"_view_name":"StyleView","_model_name":"ProgressStyleModel","description_width":"","_view_module":"@jupyter-widgets/base","_model_module_version":"1.5.0","_view_count":null,"_view_module_version":"1.2.0","bar_color":null,"_model_module":"@jupyter-widgets/controls"}},"5ead6b5bea2f42c38aba5566619ca100":{"model_module":"@jupyter-widgets/base","model_name":"LayoutModel","model_module_version":"1.2.0","state":{"_view_name":"LayoutView","grid_template_rows":null,"right":null,"justify_content":null,"_view_module":"@jupyter-widgets/base","overflow":null,"_model_module_version":"1.2.0","_view_count":null,"flex_flow":null,"width":null,"min_width":null,"border":null,"align_items":null,"bottom":null,"_model_module":"@jupyter-widgets/base","top":null,"grid_column":null,"overflow_y":null,"overflow_x":null,"grid_auto_flow":null,"grid_area":null,"grid_template_columns":null,"flex":null,"_model_name":"LayoutModel","justify_items":null,"grid_row":null,"max_height":null,"align_content":null,"visibility":null,"align_self":null,"height":null,"min_height":null,"padding":null,"grid_auto_rows":null,"grid_gap":null,"max_width":null,"order":null,"_view_module_version":"1.2.0","grid_template_areas":null,"object_position":null,"object_fit":null,"grid_auto_columns":null,"margin":null,"display":null,"left":null}},"03a7b266d17a4199bad2f13cb653510f":{"model_module":"@jupyter-widgets/controls","model_name":"DescriptionStyleModel","model_module_version":"1.5.0","state":{"_view_name":"StyleView","_model_name":"DescriptionStyleModel","description_width":"","_view_module":"@jupyter-widgets/base","_model_module_version":"1.5.0","_view_count":null,"_view_module_version":"1.2.0","_model_module":"@jupyter-widgets/controls"}},"643d888bea8b4ccfb366df8be58b4708":{"model_module":"@jupyter-widgets/base","model_name":"LayoutModel","model_module_version":"1.2.0","state":{"_view_name":"LayoutView","grid_template_rows":null,"right":null,"justify_content":null,"_view_module":"@jupyter-widgets/base","overflow":null,"_model_module_version":"1.2.0","_view_count":null,"flex_flow":null,"width":null,"min_width":null,"border":null,"align_items":null,"bottom":null,"_model_module":"@jupyter-widgets/base","top":null,"grid_column":null,"overflow_y":null,"overflow_x":null,"grid_auto_flow":null,"grid_area":null,"grid_template_columns":null,"flex":null,"_model_name":"LayoutModel","justify_items":null,"grid_row":null,"max_height":null,"align_content":null,"visibility":null,"align_self":null,"height":null,"min_height":null,"padding":null,"grid_auto_rows":null,"grid_gap":null,"max_width":null,"order":null,"_view_module_version":"1.2.0","grid_template_areas":null,"object_position":null,"object_fit":null,"grid_auto_columns":null,"margin":null,"display":null,"left":null}},"bd969cf5f9ad4fa28bf2c8c348871c5b":{"model_module":"@jupyter-widgets/controls","model_name":"HBoxModel","model_module_version":"1.5.0","state":{"_view_name":"HBoxView","_dom_classes":[],"_model_name":"HBoxModel","_view_module":"@jupyter-widgets/controls","_model_module_version":"1.5.0","_view_count":null,"_view_module_version":"1.5.0","box_style":"","layout":"IPY_MODEL_e5911a56874b427a8b07f008252af535","_model_module":"@jupyter-widgets/controls","children":["IPY_MODEL_dd2345a989a0492a828c3e68976857c6","IPY_MODEL_6e73c857a61f448d8e99105e034f6c74","IPY_MODEL_ebddfc40dd4b495c98a060af276a87ba"]}},"e5911a56874b427a8b07f008252af535":{"model_module":"@jupyter-widgets/base","model_name":"LayoutModel","model_module_version":"1.2.0","state":{"_view_name":"LayoutView","grid_template_rows":null,"right":null,"justify_content":null,"_view_module":"@jupyter-widgets/base","overflow":null,"_model_module_version":"1.2.0","_view_count":null,"flex_flow":null,"width":null,"min_width":null,"border":null,"align_items":null,"bottom":null,"_model_module":"@jupyter-widgets/base","top":null,"grid_column":null,"overflow_y":null,"overflow_x":null,"grid_auto_flow":null,"grid_area":null,"grid_template_columns":null,"flex":null,"_model_name":"LayoutModel","justify_items":null,"grid_row":null,"max_height":null,"align_content":null,"visibility":null,"align_self":null,"height":null,"min_height":null,"padding":null,"grid_auto_rows":null,"grid_gap":null,"max_width":null,"order":null,"_view_module_version":"1.2.0","grid_template_areas":null,"object_position":null,"object_fit":null,"grid_auto_columns":null,"margin":null,"display":null,"left":null}},"dd2345a989a0492a828c3e68976857c6":{"model_module":"@jupyter-widgets/controls","model_name":"HTMLModel","model_module_version":"1.5.0","state":{"_view_name":"HTMLView","style":"IPY_MODEL_de00f72adc784573988dc4e7c327b3d0","_dom_classes":[],"description":"","_model_name":"HTMLModel","placeholder":"​","_view_module":"@jupyter-widgets/controls","_model_module_version":"1.5.0","value":"Downloading: 100%","_view_count":null,"_view_module_version":"1.5.0","description_tooltip":null,"_model_module":"@jupyter-widgets/controls","layout":"IPY_MODEL_f9199c244374490fbd2a46db6f3125b4"}},"6e73c857a61f448d8e99105e034f6c74":{"model_module":"@jupyter-widgets/controls","model_name":"FloatProgressModel","model_module_version":"1.5.0","state":{"_view_name":"ProgressView","style":"IPY_MODEL_13b1c939db694646bdf7e53a52deb74e","_dom_classes":[],"description":"","_model_name":"FloatProgressModel","bar_style":"success","max":321,"_view_module":"@jupyter-widgets/controls","_model_module_version":"1.5.0","value":321,"_view_count":null,"_view_module_version":"1.5.0","orientation":"horizontal","min":0,"description_tooltip":null,"_model_module":"@jupyter-widgets/controls","layout":"IPY_MODEL_eb293c2b57ce463ba38804ba189f66e7"}},"ebddfc40dd4b495c98a060af276a87ba":{"model_module":"@jupyter-widgets/controls","model_name":"HTMLModel","model_module_version":"1.5.0","state":{"_view_name":"HTMLView","style":"IPY_MODEL_b605b9c881a2474b8c42294ae6e4b9b6","_dom_classes":[],"description":"","_model_name":"HTMLModel","placeholder":"​","_view_module":"@jupyter-widgets/controls","_model_module_version":"1.5.0","value":" 321/321 [00:00&lt;00:00, 7.69kB/s]","_view_count":null,"_view_module_version":"1.5.0","description_tooltip":null,"_model_module":"@jupyter-widgets/controls","layout":"IPY_MODEL_e61bcc81f1d94f21b013eeb86ff62fff"}},"de00f72adc784573988dc4e7c327b3d0":{"model_module":"@jupyter-widgets/controls","model_name":"DescriptionStyleModel","model_module_version":"1.5.0","state":{"_view_name":"StyleView","_model_name":"DescriptionStyleModel","description_width":"","_view_module":"@jupyter-widgets/base","_model_module_version":"1.5.0","_view_count":null,"_view_module_version":"1.2.0","_model_module":"@jupyter-widgets/controls"}},"f9199c244374490fbd2a46db6f3125b4":{"model_module":"@jupyter-widgets/base","model_name":"LayoutModel","model_module_version":"1.2.0","state":{"_view_name":"LayoutView","grid_template_rows":null,"right":null,"justify_content":null,"_view_module":"@jupyter-widgets/base","overflow":null,"_model_module_version":"1.2.0","_view_count":null,"flex_flow":null,"width":null,"min_width":null,"border":null,"align_items":null,"bottom":null,"_model_module":"@jupyter-widgets/base","top":null,"grid_column":null,"overflow_y":null,"overflow_x":null,"grid_auto_flow":null,"grid_area":null,"grid_template_columns":null,"flex":null,"_model_name":"LayoutModel","justify_items":null,"grid_row":null,"max_height":null,"align_content":null,"visibility":null,"align_self":null,"height":null,"min_height":null,"padding":null,"grid_auto_rows":null,"grid_gap":null,"max_width":null,"order":null,"_view_module_version":"1.2.0","grid_template_areas":null,"object_position":null,"object_fit":null,"grid_auto_columns":null,"margin":null,"display":null,"left":null}},"13b1c939db694646bdf7e53a52deb74e":{"model_module":"@jupyter-widgets/controls","model_name":"ProgressStyleModel","model_module_version":"1.5.0","state":{"_view_name":"StyleView","_model_name":"ProgressStyleModel","description_width":"","_view_module":"@jupyter-widgets/base","_model_module_version":"1.5.0","_view_count":null,"_view_module_version":"1.2.0","bar_color":null,"_model_module":"@jupyter-widgets/controls"}},"eb293c2b57ce463ba38804ba189f66e7":{"model_module":"@jupyter-widgets/base","model_name":"LayoutModel","model_module_version":"1.2.0","state":{"_view_name":"LayoutView","grid_template_rows":null,"right":null,"justify_content":null,"_view_module":"@jupyter-widgets/base","overflow":null,"_model_module_version":"1.2.0","_view_count":null,"flex_flow":null,"width":null,"min_width":null,"border":null,"align_items":null,"bottom":null,"_model_module":"@jupyter-widgets/base","top":null,"grid_column":null,"overflow_y":null,"overflow_x":null,"grid_auto_flow":null,"grid_area":null,"grid_template_columns":null,"flex":null,"_model_name":"LayoutModel","justify_items":null,"grid_row":null,"max_height":null,"align_content":null,"visibility":null,"align_self":null,"height":null,"min_height":null,"padding":null,"grid_auto_rows":null,"grid_gap":null,"max_width":null,"order":null,"_view_module_version":"1.2.0","grid_template_areas":null,"object_position":null,"object_fit":null,"grid_auto_columns":null,"margin":null,"display":null,"left":null}},"b605b9c881a2474b8c42294ae6e4b9b6":{"model_module":"@jupyter-widgets/controls","model_name":"DescriptionStyleModel","model_module_version":"1.5.0","state":{"_view_name":"StyleView","_model_name":"DescriptionStyleModel","description_width":"","_view_module":"@jupyter-widgets/base","_model_module_version":"1.5.0","_view_count":null,"_view_module_version":"1.2.0","_model_module":"@jupyter-widgets/controls"}},"e61bcc81f1d94f21b013eeb86ff62fff":{"model_module":"@jupyter-widgets/base","model_name":"LayoutModel","model_module_version":"1.2.0","state":{"_view_name":"LayoutView","grid_template_rows":null,"right":null,"justify_content":null,"_view_module":"@jupyter-widgets/base","overflow":null,"_model_module_version":"1.2.0","_view_count":null,"flex_flow":null,"width":null,"min_width":null,"border":null,"align_items":null,"bottom":null,"_model_module":"@jupyter-widgets/base","top":null,"grid_column":null,"overflow_y":null,"overflow_x":null,"grid_auto_flow":null,"grid_area":null,"grid_template_columns":null,"flex":null,"_model_name":"LayoutModel","justify_items":null,"grid_row":null,"max_height":null,"align_content":null,"visibility":null,"align_self":null,"height":null,"min_height":null,"padding":null,"grid_auto_rows":null,"grid_gap":null,"max_width":null,"order":null,"_view_module_version":"1.2.0","grid_template_areas":null,"object_position":null,"object_fit":null,"grid_auto_columns":null,"margin":null,"display":null,"left":null}},"1ae3e4fb512d40b292476968e5774d49":{"model_module":"@jupyter-widgets/controls","model_name":"HBoxModel","model_module_version":"1.5.0","state":{"_view_name":"HBoxView","_dom_classes":[],"_model_name":"HBoxModel","_view_module":"@jupyter-widgets/controls","_model_module_version":"1.5.0","_view_count":null,"_view_module_version":"1.5.0","box_style":"","layout":"IPY_MODEL_bf0dcbb2a04e4320bf5e241aba16627f","_model_module":"@jupyter-widgets/controls","children":["IPY_MODEL_0108999557564fe3889876f6fa4f5537","IPY_MODEL_deb7c0cfc73f431db26b7afd41cc3bdb","IPY_MODEL_86a9d1752c68459cad3b415c9d74497b"]}},"bf0dcbb2a04e4320bf5e241aba16627f":{"model_module":"@jupyter-widgets/base","model_name":"LayoutModel","model_module_version":"1.2.0","state":{"_view_name":"LayoutView","grid_template_rows":null,"right":null,"justify_content":null,"_view_module":"@jupyter-widgets/base","overflow":null,"_model_module_version":"1.2.0","_view_count":null,"flex_flow":null,"width":null,"min_width":null,"border":null,"align_items":null,"bottom":null,"_model_module":"@jupyter-widgets/base","top":null,"grid_column":null,"overflow_y":null,"overflow_x":null,"grid_auto_flow":null,"grid_area":null,"grid_template_columns":null,"flex":null,"_model_name":"LayoutModel","justify_items":null,"grid_row":null,"max_height":null,"align_content":null,"visibility":null,"align_self":null,"height":null,"min_height":null,"padding":null,"grid_auto_rows":null,"grid_gap":null,"max_width":null,"order":null,"_view_module_version":"1.2.0","grid_template_areas":null,"object_position":null,"object_fit":null,"grid_auto_columns":null,"margin":null,"display":null,"left":null}},"0108999557564fe3889876f6fa4f5537":{"model_module":"@jupyter-widgets/controls","model_name":"HTMLModel","model_module_version":"1.5.0","state":{"_view_name":"HTMLView","style":"IPY_MODEL_4c834e4b1d594295a1b9631c4465fba2","_dom_classes":[],"description":"","_model_name":"HTMLModel","placeholder":"​","_view_module":"@jupyter-widgets/controls","_model_module_version":"1.5.0","value":"Downloading: 100%","_view_count":null,"_view_module_version":"1.5.0","description_tooltip":null,"_model_module":"@jupyter-widgets/controls","layout":"IPY_MODEL_86f5e6f9c6414a30b6c5a1a7f28aafb2"}},"deb7c0cfc73f431db26b7afd41cc3bdb":{"model_module":"@jupyter-widgets/controls","model_name":"FloatProgressModel","model_module_version":"1.5.0","state":{"_view_name":"ProgressView","style":"IPY_MODEL_aee315b92c4c496eb6841a433be4da25","_dom_classes":[],"description":"","_model_name":"FloatProgressModel","bar_style":"success","max":439803023,"_view_module":"@jupyter-widgets/controls","_model_module_version":"1.5.0","value":439803023,"_view_count":null,"_view_module_version":"1.5.0","orientation":"horizontal","min":0,"description_tooltip":null,"_model_module":"@jupyter-widgets/controls","layout":"IPY_MODEL_b8b036449cd341c6811fbab059253e9f"}},"86a9d1752c68459cad3b415c9d74497b":{"model_module":"@jupyter-widgets/controls","model_name":"HTMLModel","model_module_version":"1.5.0","state":{"_view_name":"HTMLView","style":"IPY_MODEL_6e475293be204d418829cd57b85f22f3","_dom_classes":[],"description":"","_model_name":"HTMLModel","placeholder":"​","_view_module":"@jupyter-widgets/controls","_model_module_version":"1.5.0","value":" 419M/419M [00:13&lt;00:00, 32.4MB/s]","_view_count":null,"_view_module_version":"1.5.0","description_tooltip":null,"_model_module":"@jupyter-widgets/controls","layout":"IPY_MODEL_90cfe44673b24d388d02623c7641d846"}},"4c834e4b1d594295a1b9631c4465fba2":{"model_module":"@jupyter-widgets/controls","model_name":"DescriptionStyleModel","model_module_version":"1.5.0","state":{"_view_name":"StyleView","_model_name":"DescriptionStyleModel","description_width":"","_view_module":"@jupyter-widgets/base","_model_module_version":"1.5.0","_view_count":null,"_view_module_version":"1.2.0","_model_module":"@jupyter-widgets/controls"}},"86f5e6f9c6414a30b6c5a1a7f28aafb2":{"model_module":"@jupyter-widgets/base","model_name":"LayoutModel","model_module_version":"1.2.0","state":{"_view_name":"LayoutView","grid_template_rows":null,"right":null,"justify_content":null,"_view_module":"@jupyter-widgets/base","overflow":null,"_model_module_version":"1.2.0","_view_count":null,"flex_flow":null,"width":null,"min_width":null,"border":null,"align_items":null,"bottom":null,"_model_module":"@jupyter-widgets/base","top":null,"grid_column":null,"overflow_y":null,"overflow_x":null,"grid_auto_flow":null,"grid_area":null,"grid_template_columns":null,"flex":null,"_model_name":"LayoutModel","justify_items":null,"grid_row":null,"max_height":null,"align_content":null,"visibility":null,"align_self":null,"height":null,"min_height":null,"padding":null,"grid_auto_rows":null,"grid_gap":null,"max_width":null,"order":null,"_view_module_version":"1.2.0","grid_template_areas":null,"object_position":null,"object_fit":null,"grid_auto_columns":null,"margin":null,"display":null,"left":null}},"aee315b92c4c496eb6841a433be4da25":{"model_module":"@jupyter-widgets/controls","model_name":"ProgressStyleModel","model_module_version":"1.5.0","state":{"_view_name":"StyleView","_model_name":"ProgressStyleModel","description_width":"","_view_module":"@jupyter-widgets/base","_model_module_version":"1.5.0","_view_count":null,"_view_module_version":"1.2.0","bar_color":null,"_model_module":"@jupyter-widgets/controls"}},"b8b036449cd341c6811fbab059253e9f":{"model_module":"@jupyter-widgets/base","model_name":"LayoutModel","model_module_version":"1.2.0","state":{"_view_name":"LayoutView","grid_template_rows":null,"right":null,"justify_content":null,"_view_module":"@jupyter-widgets/base","overflow":null,"_model_module_version":"1.2.0","_view_count":null,"flex_flow":null,"width":null,"min_width":null,"border":null,"align_items":null,"bottom":null,"_model_module":"@jupyter-widgets/base","top":null,"grid_column":null,"overflow_y":null,"overflow_x":null,"grid_auto_flow":null,"grid_area":null,"grid_template_columns":null,"flex":null,"_model_name":"LayoutModel","justify_items":null,"grid_row":null,"max_height":null,"align_content":null,"visibility":null,"align_self":null,"height":null,"min_height":null,"padding":null,"grid_auto_rows":null,"grid_gap":null,"max_width":null,"order":null,"_view_module_version":"1.2.0","grid_template_areas":null,"object_position":null,"object_fit":null,"grid_auto_columns":null,"margin":null,"display":null,"left":null}},"6e475293be204d418829cd57b85f22f3":{"model_module":"@jupyter-widgets/controls","model_name":"DescriptionStyleModel","model_module_version":"1.5.0","state":{"_view_name":"StyleView","_model_name":"DescriptionStyleModel","description_width":"","_view_module":"@jupyter-widgets/base","_model_module_version":"1.5.0","_view_count":null,"_view_module_version":"1.2.0","_model_module":"@jupyter-widgets/controls"}},"90cfe44673b24d388d02623c7641d846":{"model_module":"@jupyter-widgets/base","model_name":"LayoutModel","model_module_version":"1.2.0","state":{"_view_name":"LayoutView","grid_template_rows":null,"right":null,"justify_content":null,"_view_module":"@jupyter-widgets/base","overflow":null,"_model_module_version":"1.2.0","_view_count":null,"flex_flow":null,"width":null,"min_width":null,"border":null,"align_items":null,"bottom":null,"_model_module":"@jupyter-widgets/base","top":null,"grid_column":null,"overflow_y":null,"overflow_x":null,"grid_auto_flow":null,"grid_area":null,"grid_template_columns":null,"flex":null,"_model_name":"LayoutModel","justify_items":null,"grid_row":null,"max_height":null,"align_content":null,"visibility":null,"align_self":null,"height":null,"min_height":null,"padding":null,"grid_auto_rows":null,"grid_gap":null,"max_width":null,"order":null,"_view_module_version":"1.2.0","grid_template_areas":null,"object_position":null,"object_fit":null,"grid_auto_columns":null,"margin":null,"display":null,"left":null}},"f57c9b75d3fc462f857afedebe39a55d":{"model_module":"@jupyter-widgets/controls","model_name":"HBoxModel","model_module_version":"1.5.0","state":{"_view_name":"HBoxView","_dom_classes":[],"_model_name":"HBoxModel","_view_module":"@jupyter-widgets/controls","_model_module_version":"1.5.0","_view_count":null,"_view_module_version":"1.5.0","box_style":"","layout":"IPY_MODEL_3e8a43bc76b941419daa485a5f2facf9","_model_module":"@jupyter-widgets/controls","children":["IPY_MODEL_fd94edfaf8eb445aa16a1844de4664ff","IPY_MODEL_fd5af072934541bf97b5a723a7e88e45","IPY_MODEL_023865d3e5be4f3aa123b44ae24abf41"]}},"3e8a43bc76b941419daa485a5f2facf9":{"model_module":"@jupyter-widgets/base","model_name":"LayoutModel","model_module_version":"1.2.0","state":{"_view_name":"LayoutView","grid_template_rows":null,"right":null,"justify_content":null,"_view_module":"@jupyter-widgets/base","overflow":null,"_model_module_version":"1.2.0","_view_count":null,"flex_flow":null,"width":null,"min_width":null,"border":null,"align_items":null,"bottom":null,"_model_module":"@jupyter-widgets/base","top":null,"grid_column":null,"overflow_y":null,"overflow_x":null,"grid_auto_flow":null,"grid_area":null,"grid_template_columns":null,"flex":null,"_model_name":"LayoutModel","justify_items":null,"grid_row":null,"max_height":null,"align_content":null,"visibility":null,"align_self":null,"height":null,"min_height":null,"padding":null,"grid_auto_rows":null,"grid_gap":null,"max_width":null,"order":null,"_view_module_version":"1.2.0","grid_template_areas":null,"object_position":null,"object_fit":null,"grid_auto_columns":null,"margin":null,"display":null,"left":null}},"fd94edfaf8eb445aa16a1844de4664ff":{"model_module":"@jupyter-widgets/controls","model_name":"HTMLModel","model_module_version":"1.5.0","state":{"_view_name":"HTMLView","style":"IPY_MODEL_0468378040c44565af30c1513e50e391","_dom_classes":[],"description":"","_model_name":"HTMLModel","placeholder":"​","_view_module":"@jupyter-widgets/controls","_model_module_version":"1.5.0","value":"100%","_view_count":null,"_view_module_version":"1.5.0","description_tooltip":null,"_model_module":"@jupyter-widgets/controls","layout":"IPY_MODEL_f5e89c168eba450fbb533d5607562e5c"}},"fd5af072934541bf97b5a723a7e88e45":{"model_module":"@jupyter-widgets/controls","model_name":"FloatProgressModel","model_module_version":"1.5.0","state":{"_view_name":"ProgressView","style":"IPY_MODEL_39242d9b3da24d7c8eddc78f9408c4ef","_dom_classes":[],"description":"","_model_name":"FloatProgressModel","bar_style":"success","max":3423,"_view_module":"@jupyter-widgets/controls","_model_module_version":"1.5.0","value":3423,"_view_count":null,"_view_module_version":"1.5.0","orientation":"horizontal","min":0,"description_tooltip":null,"_model_module":"@jupyter-widgets/controls","layout":"IPY_MODEL_cb6c34cddc264d439177014d6ee6bf2c"}},"023865d3e5be4f3aa123b44ae24abf41":{"model_module":"@jupyter-widgets/controls","model_name":"HTMLModel","model_module_version":"1.5.0","state":{"_view_name":"HTMLView","style":"IPY_MODEL_6b92fce941b64dd2aeb915628ffb317b","_dom_classes":[],"description":"","_model_name":"HTMLModel","placeholder":"​","_view_module":"@jupyter-widgets/controls","_model_module_version":"1.5.0","value":" 3423/3423 [04:15&lt;00:00, 13.47it/s]","_view_count":null,"_view_module_version":"1.5.0","description_tooltip":null,"_model_module":"@jupyter-widgets/controls","layout":"IPY_MODEL_d43a00077d6141cea12ccd474ec9c811"}},"0468378040c44565af30c1513e50e391":{"model_module":"@jupyter-widgets/controls","model_name":"DescriptionStyleModel","model_module_version":"1.5.0","state":{"_view_name":"StyleView","_model_name":"DescriptionStyleModel","description_width":"","_view_module":"@jupyter-widgets/base","_model_module_version":"1.5.0","_view_count":null,"_view_module_version":"1.2.0","_model_module":"@jupyter-widgets/controls"}},"f5e89c168eba450fbb533d5607562e5c":{"model_module":"@jupyter-widgets/base","model_name":"LayoutModel","model_module_version":"1.2.0","state":{"_view_name":"LayoutView","grid_template_rows":null,"right":null,"justify_content":null,"_view_module":"@jupyter-widgets/base","overflow":null,"_model_module_version":"1.2.0","_view_count":null,"flex_flow":null,"width":null,"min_width":null,"border":null,"align_items":null,"bottom":null,"_model_module":"@jupyter-widgets/base","top":null,"grid_column":null,"overflow_y":null,"overflow_x":null,"grid_auto_flow":null,"grid_area":null,"grid_template_columns":null,"flex":null,"_model_name":"LayoutModel","justify_items":null,"grid_row":null,"max_height":null,"align_content":null,"visibility":null,"align_self":null,"height":null,"min_height":null,"padding":null,"grid_auto_rows":null,"grid_gap":null,"max_width":null,"order":null,"_view_module_version":"1.2.0","grid_template_areas":null,"object_position":null,"object_fit":null,"grid_auto_columns":null,"margin":null,"display":null,"left":null}},"39242d9b3da24d7c8eddc78f9408c4ef":{"model_module":"@jupyter-widgets/controls","model_name":"ProgressStyleModel","model_module_version":"1.5.0","state":{"_view_name":"StyleView","_model_name":"ProgressStyleModel","description_width":"","_view_module":"@jupyter-widgets/base","_model_module_version":"1.5.0","_view_count":null,"_view_module_version":"1.2.0","bar_color":null,"_model_module":"@jupyter-widgets/controls"}},"cb6c34cddc264d439177014d6ee6bf2c":{"model_module":"@jupyter-widgets/base","model_name":"LayoutModel","model_module_version":"1.2.0","state":{"_view_name":"LayoutView","grid_template_rows":null,"right":null,"justify_content":null,"_view_module":"@jupyter-widgets/base","overflow":null,"_model_module_version":"1.2.0","_view_count":null,"flex_flow":null,"width":null,"min_width":null,"border":null,"align_items":null,"bottom":null,"_model_module":"@jupyter-widgets/base","top":null,"grid_column":null,"overflow_y":null,"overflow_x":null,"grid_auto_flow":null,"grid_area":null,"grid_template_columns":null,"flex":null,"_model_name":"LayoutModel","justify_items":null,"grid_row":null,"max_height":null,"align_content":null,"visibility":null,"align_self":null,"height":null,"min_height":null,"padding":null,"grid_auto_rows":null,"grid_gap":null,"max_width":null,"order":null,"_view_module_version":"1.2.0","grid_template_areas":null,"object_position":null,"object_fit":null,"grid_auto_columns":null,"margin":null,"display":null,"left":null}},"6b92fce941b64dd2aeb915628ffb317b":{"model_module":"@jupyter-widgets/controls","model_name":"DescriptionStyleModel","model_module_version":"1.5.0","state":{"_view_name":"StyleView","_model_name":"DescriptionStyleModel","description_width":"","_view_module":"@jupyter-widgets/base","_model_module_version":"1.5.0","_view_count":null,"_view_module_version":"1.2.0","_model_module":"@jupyter-widgets/controls"}},"d43a00077d6141cea12ccd474ec9c811":{"model_module":"@jupyter-widgets/base","model_name":"LayoutModel","model_module_version":"1.2.0","state":{"_view_name":"LayoutView","grid_template_rows":null,"right":null,"justify_content":null,"_view_module":"@jupyter-widgets/base","overflow":null,"_model_module_version":"1.2.0","_view_count":null,"flex_flow":null,"width":null,"min_width":null,"border":null,"align_items":null,"bottom":null,"_model_module":"@jupyter-widgets/base","top":null,"grid_column":null,"overflow_y":null,"overflow_x":null,"grid_auto_flow":null,"grid_area":null,"grid_template_columns":null,"flex":null,"_model_name":"LayoutModel","justify_items":null,"grid_row":null,"max_height":null,"align_content":null,"visibility":null,"align_self":null,"height":null,"min_height":null,"padding":null,"grid_auto_rows":null,"grid_gap":null,"max_width":null,"order":null,"_view_module_version":"1.2.0","grid_template_areas":null,"object_position":null,"object_fit":null,"grid_auto_columns":null,"margin":null,"display":null,"left":null}}}}},"cells":[{"cell_type":"code","metadata":{"id":"mAzPXKFb3aPE","colab":{"base_uri":"https://localhost:8080/"},"executionInfo":{"status":"ok","timestamp":1633852104171,"user_tz":-330,"elapsed":119216,"user":{"displayName":"nidhir bhavsar","photoUrl":"https://lh3.googleusercontent.com/a-/AOh14Gg95LpuDvkthoTWu-5D41T2kGPI0blRTbk_n2yL=s64","userId":"11097163690288156725"}},"outputId":"260900b6-d1df-414c-c4f6-6ca81a277edf"},"source":["from google.colab import drive\n","drive.mount('/content/drive')"],"execution_count":1,"outputs":[{"output_type":"stream","name":"stdout","text":["Mounted at /content/drive\n"]}]},{"cell_type":"code","metadata":{"id":"cPe1wmKi3d9W","executionInfo":{"status":"ok","timestamp":1633852104171,"user_tz":-330,"elapsed":13,"user":{"displayName":"nidhir bhavsar","photoUrl":"https://lh3.googleusercontent.com/a-/AOh14Gg95LpuDvkthoTWu-5D41T2kGPI0blRTbk_n2yL=s64","userId":"11097163690288156725"}}},"source":["import warnings\n","warnings.filterwarnings('ignore')"],"execution_count":2,"outputs":[]},{"cell_type":"code","metadata":{"id":"BIy49QkB3mTQ","colab":{"base_uri":"https://localhost:8080/"},"executionInfo":{"status":"ok","timestamp":1633852104173,"user_tz":-330,"elapsed":15,"user":{"displayName":"nidhir bhavsar","photoUrl":"https://lh3.googleusercontent.com/a-/AOh14Gg95LpuDvkthoTWu-5D41T2kGPI0blRTbk_n2yL=s64","userId":"11097163690288156725"}},"outputId":"f5a2a8ff-dd09-482d-d75c-4cc62d47ed25"},"source":["!nvidia-smi"],"execution_count":3,"outputs":[{"output_type":"stream","name":"stdout","text":["Sun Oct 10 07:48:23 2021       \n","+-----------------------------------------------------------------------------+\n","| NVIDIA-SMI 470.74       Driver Version: 460.32.03    CUDA Version: 11.2     |\n","|-------------------------------+----------------------+----------------------+\n","| GPU  Name        Persistence-M| Bus-Id        Disp.A | Volatile Uncorr. ECC |\n","| Fan  Temp  Perf  Pwr:Usage/Cap|         Memory-Usage | GPU-Util  Compute M. |\n","|                               |                      |               MIG M. |\n","|===============================+======================+======================|\n","|   0  Tesla K80           Off  | 00000000:00:04.0 Off |                    0 |\n","| N/A   62C    P8    32W / 149W |      0MiB / 11441MiB |      0%      Default |\n","|                               |                      |                  N/A |\n","+-------------------------------+----------------------+----------------------+\n","                                                                               \n","+-----------------------------------------------------------------------------+\n","| Processes:                                                                  |\n","|  GPU   GI   CI        PID   Type   Process name                  GPU Memory |\n","|        ID   ID                                                   Usage      |\n","|=============================================================================|\n","|  No running processes found                                                 |\n","+-----------------------------------------------------------------------------+\n"]}]},{"cell_type":"code","metadata":{"id":"4ws94rYx3nUX","colab":{"base_uri":"https://localhost:8080/"},"executionInfo":{"status":"ok","timestamp":1633852123580,"user_tz":-330,"elapsed":19414,"user":{"displayName":"nidhir bhavsar","photoUrl":"https://lh3.googleusercontent.com/a-/AOh14Gg95LpuDvkthoTWu-5D41T2kGPI0blRTbk_n2yL=s64","userId":"11097163690288156725"}},"outputId":"9621fc5e-af29-46e0-ff3a-a2ca4c7cf94c"},"source":["!pip install --quiet transformers\n","!pip install --quiet pytorch-lightning"],"execution_count":4,"outputs":[{"output_type":"stream","name":"stdout","text":["\u001b[K     |████████████████████████████████| 2.9 MB 12.2 MB/s \n","\u001b[K     |████████████████████████████████| 56 kB 4.9 MB/s \n","\u001b[K     |████████████████████████████████| 636 kB 38.4 MB/s \n","\u001b[K     |████████████████████████████████| 3.3 MB 34.6 MB/s \n","\u001b[K     |████████████████████████████████| 895 kB 37.1 MB/s \n","\u001b[K     |████████████████████████████████| 925 kB 12.9 MB/s \n","\u001b[K     |████████████████████████████████| 829 kB 37.1 MB/s \n","\u001b[K     |████████████████████████████████| 282 kB 49.3 MB/s \n","\u001b[K     |████████████████████████████████| 125 kB 52.2 MB/s \n","\u001b[K     |████████████████████████████████| 1.3 MB 41.1 MB/s \n","\u001b[K     |████████████████████████████████| 160 kB 47.0 MB/s \n","\u001b[K     |████████████████████████████████| 271 kB 43.5 MB/s \n","\u001b[?25h  Building wheel for future (setup.py) ... \u001b[?25l\u001b[?25hdone\n"]}]},{"cell_type":"code","metadata":{"id":"dg5TSCRB3tn0","colab":{"base_uri":"https://localhost:8080/"},"executionInfo":{"status":"ok","timestamp":1633852151386,"user_tz":-330,"elapsed":27810,"user":{"displayName":"nidhir bhavsar","photoUrl":"https://lh3.googleusercontent.com/a-/AOh14Gg95LpuDvkthoTWu-5D41T2kGPI0blRTbk_n2yL=s64","userId":"11097163690288156725"}},"outputId":"a41c5caa-fbe3-4059-85eb-530204f6d3e3"},"source":["import pandas as pd\n","import numpy as np\n","\n","from tqdm.auto import tqdm\n","\n","import torch\n","import torch.nn as nn\n","from torch.utils.data import Dataset, DataLoader\n","\n","from transformers import AutoTokenizer, AutoModel, AdamW, get_linear_schedule_with_warmup\n","\n","import pytorch_lightning as pl\n","from pytorch_lightning.metrics.functional import accuracy, f1, auroc\n","from pytorch_lightning.callbacks import ModelCheckpoint, EarlyStopping\n","from pytorch_lightning.loggers import TensorBoardLogger\n","\n","from sklearn.model_selection import train_test_split\n","from sklearn.metrics import classification_report, multilabel_confusion_matrix\n","\n","import seaborn as sns\n","from pylab import rcParams\n","import matplotlib.pyplot as plt\n","from matplotlib import rc\n","\n","%matplotlib inline  \n","%config InlineBackend.figure_format='retina'\n","\n","RANDOM_SEED = 42\n","\n","sns.set(style='whitegrid', palette='muted', font_scale=1.2)\n","HAPPY_COLORS_PALETTE = [\"#01BEFE\", \"#FFDD00\", \"#FF7D00\", \"#FF006D\", \"#ADFF02\", \"#8F00FF\"]\n","sns.set_palette(sns.color_palette(HAPPY_COLORS_PALETTE))\n","rcParams['figure.figsize'] = 12, 8\n","\n","pl.seed_everything(RANDOM_SEED)\n","\n","from collections import Counter"],"execution_count":5,"outputs":[{"output_type":"stream","name":"stderr","text":["Global seed set to 42\n"]}]},{"cell_type":"code","metadata":{"id":"2J-G5I493xNb","colab":{"base_uri":"https://localhost:8080/"},"executionInfo":{"status":"ok","timestamp":1633852154950,"user_tz":-330,"elapsed":3129,"user":{"displayName":"nidhir bhavsar","photoUrl":"https://lh3.googleusercontent.com/a-/AOh14Gg95LpuDvkthoTWu-5D41T2kGPI0blRTbk_n2yL=s64","userId":"11097163690288156725"}},"outputId":"96298613-ddc5-44c9-ba01-236a570999ab"},"source":["# import dataset\n","train_df = pd.read_csv('drive/MyDrive/Biocreative/Biocreative/datasets/TRAIN.csv')\n","train_df = train_df.sample(frac=1).reset_index(drop=True)\n","train_df.head(), train_df.shape"],"execution_count":6,"outputs":[{"output_type":"execute_result","data":{"text/plain":["(       pmid  ...                                     Title&Keywords\n"," 0  32265202  ...  Ocular manifestation hospitalised patient conf...\n"," 1  33036702  ...  COVID-19 senior Findings lesson mass screening...\n"," 2  32406522  ...  COVID-19 Focus lung forget gastrointestinal tr...\n"," 3  32599534  ...  subcutaneous insulin administration adequate m...\n"," 4  33005463  ...  First Case COVID-19-Associated Collapsing Glom...\n"," \n"," [5 rows x 13 columns], (30738, 13))"]},"metadata":{},"execution_count":6}]},{"cell_type":"code","metadata":{"colab":{"base_uri":"https://localhost:8080/"},"id":"nPHjZkeR33dn","executionInfo":{"status":"ok","timestamp":1633852154952,"user_tz":-330,"elapsed":45,"user":{"displayName":"nidhir bhavsar","photoUrl":"https://lh3.googleusercontent.com/a-/AOh14Gg95LpuDvkthoTWu-5D41T2kGPI0blRTbk_n2yL=s64","userId":"11097163690288156725"}},"outputId":"04ce14b9-58a8-4329-cb66-3e7e8d160025"},"source":["LABEL_COLUMNS = train_df.columns.tolist()[5:-1]\n","print(list(LABEL_COLUMNS))"],"execution_count":7,"outputs":[{"output_type":"stream","name":"stdout","text":["['Case Report', 'Diagnosis', 'Epidemic Forecasting', 'Mechanism', 'Prevention', 'Transmission', 'Treatment']\n"]}]},{"cell_type":"code","metadata":{"colab":{"base_uri":"https://localhost:8080/","height":130,"referenced_widgets":["df15de1400744b838eee8a1e9c1d42c4","63f299c96ff24dc9947bdc3c5cc831c4","da82a64274ca4616a59fb69c9555b7c1","0119e37b438e4b31bde3a02327725130","d483600190964ec0aed635fcbe59a0cb","1e77ba2fba8b4913b19c3f6ef20401a3","e14aecc18dd54d9caf81ad9af6db9d34","0d6a9d1152844ad99feb49d54db9acab","7d027e8b00c040c6aae4a38a3a04404c","f54f2eec506c4315854576595fe54ba4","c7ce4ec266284eaa8df4918a789c3f22","4259f8209fdc4beebf63cc06b0450095","77f985c0439c42c3858588ca78dc3b99","8be2e44a61794cd98824d29ee658cd2b","67266a8ddc9b45dca046099fcd33ecc7","f1af566fd7cb4a5eb5fa8b2f814a52f8","e687fa3872cc4552bd33bdf91c4891d1","acaa52dd48084c21a85c4a0403d7163a","625d68e03beb46189b7336938941dd47","ecf38c0d0fb545abadcfde9cbba84b69","bcd5e474b0cf490f9193557435acb1a2","b2ffde985e694058b5f34c12440cae83","20ce3d39f50147899d328401d6fff74f","75d3172703764a05b5791833d901e719","e20b7a0e48c242b196f0ccec7eb6d025","bad48c1f93774ef8ba942bec2ee57523","12782656ee904982bb53af670f552cda","ec7d709056374a429e6d950668381c53","4a75a7bfe13b490cb9d4ed674c37ef71","439e8ec2baf24790b2af80bdf7527d49","5ead6b5bea2f42c38aba5566619ca100","03a7b266d17a4199bad2f13cb653510f","643d888bea8b4ccfb366df8be58b4708"]},"id":"jvN762J5370f","executionInfo":{"status":"ok","timestamp":1633852175969,"user_tz":-330,"elapsed":21033,"user":{"displayName":"nidhir bhavsar","photoUrl":"https://lh3.googleusercontent.com/a-/AOh14Gg95LpuDvkthoTWu-5D41T2kGPI0blRTbk_n2yL=s64","userId":"11097163690288156725"}},"outputId":"3d90037f-9352-468f-850b-4a90b0bb36c2"},"source":["# BERT_MODEL_NAME = 'dmis-lab/biobert-base-cased-v1.1' or 'dmis-lab/biobert-base-cased-v1.2'\n","# Ref : microsoft/BiomedNLP-PubMedBERT-base-uncased-abstract-fulltext\n","# Ref 2.0 : lordtt13/COVID-SciBERT\n","BERT_MODEL_NAME = input(\"Enter Bert Model Name: \")\n","tokenizer = AutoTokenizer.from_pretrained(BERT_MODEL_NAME)"],"execution_count":8,"outputs":[{"name":"stdout","output_type":"stream","text":["Enter Bert Model Name: microsoft/BiomedNLP-PubMedBERT-base-uncased-abstract-fulltext\n"]},{"output_type":"display_data","data":{"application/vnd.jupyter.widget-view+json":{"model_id":"df15de1400744b838eee8a1e9c1d42c4","version_minor":0,"version_major":2},"text/plain":["Downloading:   0%|          | 0.00/28.0 [00:00<?, ?B/s]"]},"metadata":{}},{"output_type":"display_data","data":{"application/vnd.jupyter.widget-view+json":{"model_id":"4259f8209fdc4beebf63cc06b0450095","version_minor":0,"version_major":2},"text/plain":["Downloading:   0%|          | 0.00/385 [00:00<?, ?B/s]"]},"metadata":{}},{"output_type":"display_data","data":{"application/vnd.jupyter.widget-view+json":{"model_id":"20ce3d39f50147899d328401d6fff74f","version_minor":0,"version_major":2},"text/plain":["Downloading:   0%|          | 0.00/221k [00:00<?, ?B/s]"]},"metadata":{}}]},{"cell_type":"code","metadata":{"id":"ewkGGct8EhVo","colab":{"base_uri":"https://localhost:8080/","height":145,"referenced_widgets":["bd969cf5f9ad4fa28bf2c8c348871c5b","e5911a56874b427a8b07f008252af535","dd2345a989a0492a828c3e68976857c6","6e73c857a61f448d8e99105e034f6c74","ebddfc40dd4b495c98a060af276a87ba","de00f72adc784573988dc4e7c327b3d0","f9199c244374490fbd2a46db6f3125b4","13b1c939db694646bdf7e53a52deb74e","eb293c2b57ce463ba38804ba189f66e7","b605b9c881a2474b8c42294ae6e4b9b6","e61bcc81f1d94f21b013eeb86ff62fff"]},"executionInfo":{"status":"ok","timestamp":1633852181368,"user_tz":-330,"elapsed":5409,"user":{"displayName":"nidhir bhavsar","photoUrl":"https://lh3.googleusercontent.com/a-/AOh14Gg95LpuDvkthoTWu-5D41T2kGPI0blRTbk_n2yL=s64","userId":"11097163690288156725"}},"outputId":"ae500634-c4f2-4cbf-9ae5-7989281499d7"},"source":["# model_name = \"allenai/specter\"\n","EMBEDDING_MODEL = \"allenai/specter\"\n","embedding_tokenizer = AutoTokenizer.from_pretrained(EMBEDDING_MODEL)"],"execution_count":9,"outputs":[{"output_type":"display_data","data":{"application/vnd.jupyter.widget-view+json":{"model_id":"bd969cf5f9ad4fa28bf2c8c348871c5b","version_minor":0,"version_major":2},"text/plain":["Downloading:   0%|          | 0.00/321 [00:00<?, ?B/s]"]},"metadata":{}},{"output_type":"display_data","data":{"application/vnd.jupyter.widget-view+json":{"model_id":"c0e30007d00b4d8db938be4e045d99e2","version_minor":0,"version_major":2},"text/plain":["Downloading:   0%|          | 0.00/612 [00:00<?, ?B/s]"]},"metadata":{}},{"output_type":"display_data","data":{"application/vnd.jupyter.widget-view+json":{"model_id":"f492fd02809f464aaaa4ecbc14aa2abc","version_minor":0,"version_major":2},"text/plain":["Downloading:   0%|          | 0.00/217k [00:00<?, ?B/s]"]},"metadata":{}},{"output_type":"display_data","data":{"application/vnd.jupyter.widget-view+json":{"model_id":"902351a9e61344f6b1cfc91d7a26f3ab","version_minor":0,"version_major":2},"text/plain":["Downloading:   0%|          | 0.00/112 [00:00<?, ?B/s]"]},"metadata":{}}]},{"cell_type":"code","metadata":{"id":"dPe2NxpZxdRg","executionInfo":{"status":"ok","timestamp":1633852184682,"user_tz":-330,"elapsed":3321,"user":{"displayName":"nidhir bhavsar","photoUrl":"https://lh3.googleusercontent.com/a-/AOh14Gg95LpuDvkthoTWu-5D41T2kGPI0blRTbk_n2yL=s64","userId":"11097163690288156725"}}},"source":["title_abs = [row[\"title\"] + embedding_tokenizer.sep_token + (row.get(\"abstract\") or '') for _, row in train_df.iterrows()]"],"execution_count":10,"outputs":[]},{"cell_type":"code","metadata":{"id":"tK7yQZRbxy8t","executionInfo":{"status":"ok","timestamp":1633852184683,"user_tz":-330,"elapsed":11,"user":{"displayName":"nidhir bhavsar","photoUrl":"https://lh3.googleusercontent.com/a-/AOh14Gg95LpuDvkthoTWu-5D41T2kGPI0blRTbk_n2yL=s64","userId":"11097163690288156725"}}},"source":["# add title and abstract text\n","train_df[\"title_abs\"] = title_abs"],"execution_count":11,"outputs":[]},{"cell_type":"code","metadata":{"colab":{"base_uri":"https://localhost:8080/"},"id":"IhEHKoniFMUN","executionInfo":{"status":"ok","timestamp":1633852185484,"user_tz":-330,"elapsed":809,"user":{"displayName":"nidhir bhavsar","photoUrl":"https://lh3.googleusercontent.com/a-/AOh14Gg95LpuDvkthoTWu-5D41T2kGPI0blRTbk_n2yL=s64","userId":"11097163690288156725"}},"outputId":"e0c92285-4476-4b06-b8db-b157b024519d"},"source":["print(\"Label wise data samples: \")\n","train_df[LABEL_COLUMNS].sum().sort_values()"],"execution_count":12,"outputs":[{"output_type":"stream","name":"stdout","text":["Label wise data samples: \n"]},{"output_type":"execute_result","data":{"text/plain":["Epidemic Forecasting     1528\n","Case Report              2291\n","Transmission             3165\n","Mechanism                5414\n","Diagnosis                7456\n","Treatment               10091\n","Prevention              13998\n","dtype: int64"]},"metadata":{},"execution_count":12}]},{"cell_type":"code","metadata":{"id":"z2rEib0m4Q8L","executionInfo":{"status":"ok","timestamp":1633852185486,"user_tz":-330,"elapsed":8,"user":{"displayName":"nidhir bhavsar","photoUrl":"https://lh3.googleusercontent.com/a-/AOh14Gg95LpuDvkthoTWu-5D41T2kGPI0blRTbk_n2yL=s64","userId":"11097163690288156725"}}},"source":["MAX_TOKEN_COUNT = 512"],"execution_count":13,"outputs":[]},{"cell_type":"code","metadata":{"id":"gBqnBhdu3-ei","executionInfo":{"status":"ok","timestamp":1633852192581,"user_tz":-330,"elapsed":779,"user":{"displayName":"nidhir bhavsar","photoUrl":"https://lh3.googleusercontent.com/a-/AOh14Gg95LpuDvkthoTWu-5D41T2kGPI0blRTbk_n2yL=s64","userId":"11097163690288156725"}}},"source":["class TopicAnnotationDataset(Dataset):\n","\n","  def __init__(\n","    self,\n","    data: pd.DataFrame,\n","    embedding_tokenizer: AutoTokenizer,\n","    max_token_len: int = 512,\n","  ):\n","    self.embedding_tokenizer = embedding_tokenizer\n","    self.data = data\n","    self.max_token_len = max_token_len\n","    \n","  def __len__(self):\n","    return len(self.data)\n","\n","  def __getitem__(self, index=int):\n","    \n","    data_row = self.data.iloc[index]\n","\n","    text = data_row.title_abs\n","    labels = data_row[LABEL_COLUMNS]\n","\n","    inputs = self.embedding_tokenizer.encode_plus(\n","        text, \n","        max_length=self.max_token_len,\n","        padding=\"max_length\", \n","        truncation=True, \n","        return_tensors=\"pt\", \n","    )\n","\n","    return dict(\n","        text=text,\n","        input_ids=inputs[\"input_ids\"].flatten(),\n","        attention_mask=inputs[\"attention_mask\"].flatten(),\n","        labels=torch.FloatTensor(labels) \n","    )  "],"execution_count":14,"outputs":[]},{"cell_type":"code","metadata":{"id":"ou3_fJXGBnHg","executionInfo":{"status":"ok","timestamp":1633852192582,"user_tz":-330,"elapsed":10,"user":{"displayName":"nidhir bhavsar","photoUrl":"https://lh3.googleusercontent.com/a-/AOh14Gg95LpuDvkthoTWu-5D41T2kGPI0blRTbk_n2yL=s64","userId":"11097163690288156725"}}},"source":["train_dataset = TopicAnnotationDataset(\n","    train_df,\n","    embedding_tokenizer=embedding_tokenizer,\n",")"],"execution_count":15,"outputs":[]},{"cell_type":"code","metadata":{"id":"-mS-6FdgBp6Z","executionInfo":{"status":"ok","timestamp":1633852192583,"user_tz":-330,"elapsed":10,"user":{"displayName":"nidhir bhavsar","photoUrl":"https://lh3.googleusercontent.com/a-/AOh14Gg95LpuDvkthoTWu-5D41T2kGPI0blRTbk_n2yL=s64","userId":"11097163690288156725"}}},"source":["class TopicAnnotationDataModule(pl.LightningDataModule):\n","\n","  def __init__(self, train_df, test_df, tokenizer, embedding_tokenizer, batch_size=8, max_token_len=128):\n","    \n","    super().__init__()\n","    self.batch_size = batch_size\n","    self.train_df = train_df\n","    self.test_df = test_df\n","    self.embedding_tokenizer = embedding_tokenizer\n","    self.max_token_len = max_token_len\n","\n","  def setup(self, stage=None):\n","    \n","    self.train_dataset =  TopicAnnotationDataset(\n","        data=self.train_df,\n","        embedding_tokenizer=self.embedding_tokenizer,\n","        max_token_len=self.max_token_len\n","    )\n","\n","    self.test_dataset = TopicAnnotationDataset(\n","        data=self.test_df,\n","        embedding_tokenizer=self.embedding_tokenizer,\n","        max_token_len=self.max_token_len\n","    )\n","\n","  def train_dataloader(self):\n","\n","    return DataLoader(\n","        self.train_dataset,\n","        batch_size=self.batch_size,\n","        shuffle=True,\n","        num_workers=2\n","    )\n","\n","  def val_dataloader(self):\n","\n","    return DataLoader(\n","        self.test_dataset,\n","        batch_size=self.batch_size,\n","        num_workers=2\n","    )\n","\n","  def test_dataloader(self):\n","    \n","    return DataLoader(\n","        self.test_dataset,\n","        batch_size=self.batch_size,\n","        num_workers=2\n","    )"],"execution_count":16,"outputs":[]},{"cell_type":"code","metadata":{"colab":{"base_uri":"https://localhost:8080/","height":35},"id":"o5ELtrPQebvV","executionInfo":{"status":"ok","timestamp":1633852193645,"user_tz":-330,"elapsed":1071,"user":{"displayName":"nidhir bhavsar","photoUrl":"https://lh3.googleusercontent.com/a-/AOh14Gg95LpuDvkthoTWu-5D41T2kGPI0blRTbk_n2yL=s64","userId":"11097163690288156725"}},"outputId":"497f40e6-92c6-4aa2-b279-0482d1f5b618"},"source":["%pwd"],"execution_count":17,"outputs":[{"output_type":"execute_result","data":{"application/vnd.google.colaboratory.intrinsic+json":{"type":"string"},"text/plain":["'/content'"]},"metadata":{},"execution_count":17}]},{"cell_type":"code","metadata":{"colab":{"base_uri":"https://localhost:8080/"},"id":"fMLXnUybDWIs","executionInfo":{"status":"ok","timestamp":1633852194880,"user_tz":-330,"elapsed":1239,"user":{"displayName":"nidhir bhavsar","photoUrl":"https://lh3.googleusercontent.com/a-/AOh14Gg95LpuDvkthoTWu-5D41T2kGPI0blRTbk_n2yL=s64","userId":"11097163690288156725"}},"outputId":"84c71480-77e6-41fc-ecb7-34b34a696e58"},"source":["val_df = pd.read_csv(\"/content/drive/MyDrive/Biocreative/Biocreative/datasets/VAL.csv\")\n","val_df = val_df.sample(frac=1).reset_index(drop=True)\n","val_df.shape"],"execution_count":18,"outputs":[{"output_type":"execute_result","data":{"text/plain":["(3423, 13)"]},"metadata":{},"execution_count":18}]},{"cell_type":"code","metadata":{"id":"-3AWtep4PYse","executionInfo":{"status":"ok","timestamp":1633852196056,"user_tz":-330,"elapsed":103,"user":{"displayName":"nidhir bhavsar","photoUrl":"https://lh3.googleusercontent.com/a-/AOh14Gg95LpuDvkthoTWu-5D41T2kGPI0blRTbk_n2yL=s64","userId":"11097163690288156725"}}},"source":["title_abs = [row[\"title\"] + embedding_tokenizer.sep_token + (row.get(\"abstract\") or '') for _, row in val_df.iterrows()]\n","val_df[\"title_abs\"] = title_abs"],"execution_count":19,"outputs":[]},{"cell_type":"code","metadata":{"id":"gCZ1sc2Ewm_K","executionInfo":{"status":"ok","timestamp":1633852196056,"user_tz":-330,"elapsed":102,"user":{"displayName":"nidhir bhavsar","photoUrl":"https://lh3.googleusercontent.com/a-/AOh14Gg95LpuDvkthoTWu-5D41T2kGPI0blRTbk_n2yL=s64","userId":"11097163690288156725"}}},"source":["N_EPOCHS = 10\n","BATCH_SIZE = 4\n","\n","data_module = TopicAnnotationDataModule(\n","    train_df,\n","    val_df,\n","    tokenizer,\n","    embedding_tokenizer,\n","    batch_size=BATCH_SIZE,\n","    max_token_len=MAX_TOKEN_COUNT\n",")"],"execution_count":20,"outputs":[]},{"cell_type":"code","metadata":{"colab":{"base_uri":"https://localhost:8080/"},"id":"xWNeGIHA9O7K","executionInfo":{"status":"ok","timestamp":1633852196056,"user_tz":-330,"elapsed":102,"user":{"displayName":"nidhir bhavsar","photoUrl":"https://lh3.googleusercontent.com/a-/AOh14Gg95LpuDvkthoTWu-5D41T2kGPI0blRTbk_n2yL=s64","userId":"11097163690288156725"}},"outputId":"3a1a84cc-8b9e-4e4b-9e5e-e593c81f073d"},"source":["Label_count = train_df[LABEL_COLUMNS].sum().to_dict()\n","count = list(Label_count.values())\n","max_val = max(count)\n","class_weight = [max_val/val for val in count]\n","print(class_weight)"],"execution_count":21,"outputs":[{"output_type":"stream","name":"stdout","text":["[6.109995635093846, 1.8774141630901287, 9.160994764397905, 2.5855190247506465, 1.0, 4.4227488151658765, 1.3871766921018729]\n"]}]},{"cell_type":"code","metadata":{"colab":{"base_uri":"https://localhost:8080/"},"id":"tZxCvK9y9ZQw","executionInfo":{"status":"ok","timestamp":1633852196057,"user_tz":-330,"elapsed":9,"user":{"displayName":"nidhir bhavsar","photoUrl":"https://lh3.googleusercontent.com/a-/AOh14Gg95LpuDvkthoTWu-5D41T2kGPI0blRTbk_n2yL=s64","userId":"11097163690288156725"}},"outputId":"260c6fd4-c997-4755-bb2c-3bb372cd774d"},"source":["# print label and corresponding weights\n","dict(zip(LABEL_COLUMNS, class_weight))"],"execution_count":22,"outputs":[{"output_type":"execute_result","data":{"text/plain":["{'Case Report': 6.109995635093846,\n"," 'Diagnosis': 1.8774141630901287,\n"," 'Epidemic Forecasting': 9.160994764397905,\n"," 'Mechanism': 2.5855190247506465,\n"," 'Prevention': 1.0,\n"," 'Transmission': 4.4227488151658765,\n"," 'Treatment': 1.3871766921018729}"]},"metadata":{},"execution_count":22}]},{"cell_type":"code","metadata":{"id":"nvp3Eah69cUu","executionInfo":{"status":"ok","timestamp":1633852215266,"user_tz":-330,"elapsed":19214,"user":{"displayName":"nidhir bhavsar","photoUrl":"https://lh3.googleusercontent.com/a-/AOh14Gg95LpuDvkthoTWu-5D41T2kGPI0blRTbk_n2yL=s64","userId":"11097163690288156725"}}},"source":["class_weight = torch.tensor(class_weight, device=\"cuda\")"],"execution_count":23,"outputs":[]},{"cell_type":"code","metadata":{"id":"uKYtVKIsWU3b","executionInfo":{"status":"ok","timestamp":1633852215272,"user_tz":-330,"elapsed":22,"user":{"displayName":"nidhir bhavsar","photoUrl":"https://lh3.googleusercontent.com/a-/AOh14Gg95LpuDvkthoTWu-5D41T2kGPI0blRTbk_n2yL=s64","userId":"11097163690288156725"}}},"source":["class FFN(nn.Module):\n","  def __init__(self, in_feat, out_feat, dropout):\n","      super(FFN, self).__init__()\n","      self.in2hid = nn.Linear(in_feat, in_feat)\n","      self.hid2out = nn.Linear(in_feat, out_feat)\n","\n","      self.activation = nn.ReLU()\n","      self.dropout = nn.Dropout(dropout)\n","\n","  def forward(self, input):\n","      hid = self.activation(self.dropout(self.in2hid(input)))\n","      return self.hid2out(hid)"],"execution_count":24,"outputs":[]},{"cell_type":"code","metadata":{"id":"R8OBBKPA_XKF","executionInfo":{"status":"ok","timestamp":1633852215274,"user_tz":-330,"elapsed":21,"user":{"displayName":"nidhir bhavsar","photoUrl":"https://lh3.googleusercontent.com/a-/AOh14Gg95LpuDvkthoTWu-5D41T2kGPI0blRTbk_n2yL=s64","userId":"11097163690288156725"}}},"source":["class Attention(nn.Module):\n","  def __init__(self, dimensions, attention_type=\"general\"):\n","    super(Attention, self).__init__()\n","\n","    if attention_type not in ['dot', 'general']:\n","      raise ValueError('Invalid attention type selected.')\n","    \n","    self.attention_type = attention_type\n","    if self.attention_type == \"general\":\n","      self.linear_in = nn.Linear(dimensions, dimensions, bias=False)\n","\n","    self.linear_out = nn.Linear(dimensions * 2, dimensions, bias=False)\n","    self.softmax = nn.Softmax(dim=-1)\n","    self.tanh = nn.Tanh()\n","\n","  def forward(self, query, context):\n","    batch_size, output_len, dimensions = query.size()\n","    query_len = context.size(1)\n","\n","    if self.attention_type == \"general\":\n","        query = query.reshape(batch_size * output_len, dimensions)\n","        query = self.linear_in(query)\n","        query = query.reshape(batch_size, output_len, dimensions)\n","\n","    # (batch_size, output_len, dimensions) * (batch_size, query_len, dimensions) ->\n","    # (batch_size, output_len, query_len)\n","    attention_scores = torch.bmm(query, context.transpose(1, 2).contiguous())\n","\n","    # Compute weights across every context sequence\n","    attention_scores = attention_scores.view(batch_size * output_len, query_len)\n","    attention_weights = self.softmax(attention_scores)\n","    attention_weights = attention_weights.view(batch_size, output_len, query_len)\n","\n","    # (batch_size, output_len, query_len) * (batch_size, query_len, dimensions) ->\n","    # (batch_size, output_len, dimensions)\n","    mix = torch.bmm(attention_weights, context)\n","\n","    # concat -> (batch_size * output_len, 2*dimensions)\n","    combined = torch.cat((mix, query), dim=2)\n","    combined = combined.view(batch_size * output_len, 2 * dimensions)\n","\n","    # Apply linear_out on every 2nd dimension of concat\n","    # output -> (batch_size, output_len, dimensions)\n","    output = self.linear_out(combined).view(batch_size, output_len, dimensions)\n","    output = self.tanh(output)\n","\n","    return output, attention_weights"],"execution_count":25,"outputs":[]},{"cell_type":"code","metadata":{"id":"xke_ChS4TwYy","executionInfo":{"status":"ok","timestamp":1633852215276,"user_tz":-330,"elapsed":22,"user":{"displayName":"nidhir bhavsar","photoUrl":"https://lh3.googleusercontent.com/a-/AOh14Gg95LpuDvkthoTWu-5D41T2kGPI0blRTbk_n2yL=s64","userId":"11097163690288156725"}}},"source":["# batch_size, sequence_length, hidden_dim = (4, 512, 768)\n","# embedding_tensor = torch.rand(batch_size, sequence_length, hidden_dim)\n","# print(embedding_tensor.shape)\n","\n","# # create attention object\n","# attention = Attention(hidden_dim)\n","\n","# output, att = attention(embedding_tensor, embedding_tensor)\n","# output, att = attention(output, output)\n","\n","# n_classes = 7\n","# linear_1 = nn.Linear(512, n_classes)\n","\n","# result = linear_1(output.transpose(1, 2))\n","# result.transpose(1, 2).shape"],"execution_count":26,"outputs":[]},{"cell_type":"code","metadata":{"id":"IEvzbePlw5RX","executionInfo":{"status":"ok","timestamp":1633852215277,"user_tz":-330,"elapsed":21,"user":{"displayName":"nidhir bhavsar","photoUrl":"https://lh3.googleusercontent.com/a-/AOh14Gg95LpuDvkthoTWu-5D41T2kGPI0blRTbk_n2yL=s64","userId":"11097163690288156725"}}},"source":["class TopicAnnotationTagger(pl.LightningModule):\n","\n","  def __init__(self, n_classes: int, n_training_steps=None, n_warmup_steps=None):\n","    \n","    super().__init__()\n","\n","    self.specter = AutoModel.from_pretrained(EMBEDDING_MODEL, return_dict=True) # specter embedding model\n","\n","    self.n_training_steps = n_training_steps\n","    self.n_warmup_steps = n_warmup_steps\n","    self.criterion = nn.BCELoss(weight=class_weight)\n","\n","    self.sequence_length = 512\n","\n","    self.fc = nn.Linear(self.specter.config.hidden_size, n_classes)\n","    self.relu = nn.ReLU()\n","    self.softmax = nn.Softmax(dim=1)\n","    self.classifier = nn.Linear(self.sequence_length, 1)\n","    self.sigmoid = nn.Sigmoid()\n","\n","    self.attention = Attention(self.specter.config.hidden_size)\n","    # self.hidden2labels = nn.Linear(self.sequence_length, 7)\n","    self.hidden2labels = nn.Linear(self.specter.config.hidden_size, 7)\n","\n","  def forward(self, input_ids, attention_mask, labels=None):\n","\n","    specter_output = self.specter(input_ids, attention_mask)\n","    # (batch_size x sequence_length x hidden_size)\n","    specter_output = specter_output.last_hidden_state\n","    \n","    specter_output, x = self.attention(specter_output, specter_output)\n","    specter_output, x = self.attention(specter_output, specter_output)\n","    # print(specter_output.shape)\n","\n","    # (batch_size x sequence_length x hidden_size) => (batch_size x sequence_length x n_classes)\n","    specter_output = self.hidden2labels(specter_output).transpose(1,2)\n","    # apply sigmoid function to the same\n","    output = self.sigmoid(self.classifier(specter_output).squeeze(-1))\n","\n","    loss = 0\n","    if labels is not None:\n","      loss = self.criterion(output, labels)\n","    return loss, output\n","\n","  def training_step(self, batch, batch_idx):\n","\n","    input_ids = batch[\"input_ids\"]\n","    attention_mask = batch[\"attention_mask\"]\n","    labels = batch[\"labels\"]\n","\n","    loss, outputs = self(input_ids, attention_mask, labels)\n","    self.log(\"train_loss\", loss, prog_bar=True, logger=True)\n","    return {\"loss\": loss, \"predictions\": outputs, \"labels\": labels}\n","\n","  def validation_step(self, batch, batch_idx):\n","\n","    input_ids = batch[\"input_ids\"]\n","    attention_mask = batch[\"attention_mask\"]\n","    labels = batch[\"labels\"]\n","\n","    loss, outputs = self(input_ids, attention_mask, labels)\n","    self.log(\"val_loss\", loss, prog_bar=True, logger=True)\n","    return loss\n","\n","  def test_step(self, batch, batch_idx):\n","    \n","    input_ids = batch[\"input_ids\"]\n","    attention_mask = batch[\"attention_mask\"]\n","    labels = batch[\"labels\"]\n","\n","    loss, outputs = self(input_ids, attention_mask, labels)\n","    self.log(\"test_loss\", loss, prog_bar=True, logger=True)\n","    return loss\n","\n","  def training_epoch_end(self, outputs):\n","\n","    labels = []\n","    predictions = []\n","    for output in outputs:\n","      for out_labels in output[\"labels\"].detach().cpu():\n","        labels.append(out_labels)\n","      for out_predictions in output[\"predictions\"].detach().cpu():\n","        predictions.append(out_predictions)\n","\n","    labels = torch.stack(labels).int()\n","    predictions = torch.stack(predictions)\n","\n","    for i, name in enumerate(LABEL_COLUMNS):\n","      class_roc_auc = auroc(predictions[:, i], labels[:, i])\n","      self.logger.experiment.add_scalar(f\"{name}_roc_auc/Train\", class_roc_auc, self.current_epoch)\n","\n","  def configure_optimizers(self):\n","\n","    optimizer = AdamW(self.parameters(), lr=2e-5)\n","\n","    scheduler = get_linear_schedule_with_warmup(\n","      optimizer,\n","      num_warmup_steps=self.n_warmup_steps,\n","      num_training_steps=self.n_training_steps\n","    )\n","\n","    return dict(\n","        optimizer=optimizer,\n","        lr_scheduler=dict(\n","            scheduler=scheduler,\n","            interval='step'\n","            )\n","        )"],"execution_count":27,"outputs":[]},{"cell_type":"code","metadata":{"id":"NQ0G4TvczkP4","executionInfo":{"status":"ok","timestamp":1633852215279,"user_tz":-330,"elapsed":18,"user":{"displayName":"nidhir bhavsar","photoUrl":"https://lh3.googleusercontent.com/a-/AOh14Gg95LpuDvkthoTWu-5D41T2kGPI0blRTbk_n2yL=s64","userId":"11097163690288156725"}}},"source":["steps_per_epoch=len(train_df) // BATCH_SIZE\n","total_training_steps = steps_per_epoch * N_EPOCHS"],"execution_count":28,"outputs":[]},{"cell_type":"code","metadata":{"id":"ViKW_Boiz3WV","colab":{"base_uri":"https://localhost:8080/"},"executionInfo":{"status":"ok","timestamp":1633852222933,"user_tz":-330,"elapsed":7,"user":{"displayName":"nidhir bhavsar","photoUrl":"https://lh3.googleusercontent.com/a-/AOh14Gg95LpuDvkthoTWu-5D41T2kGPI0blRTbk_n2yL=s64","userId":"11097163690288156725"}},"outputId":"936430c9-5cc3-4c3d-daca-6a3f04339285"},"source":["warmup_steps = total_training_steps // 5\n","warmup_steps, total_training_steps"],"execution_count":29,"outputs":[{"output_type":"execute_result","data":{"text/plain":["(15368, 76840)"]},"metadata":{},"execution_count":29}]},{"cell_type":"code","metadata":{"id":"FgwMF0_3z4x-","colab":{"base_uri":"https://localhost:8080/","height":49,"referenced_widgets":["1ae3e4fb512d40b292476968e5774d49","bf0dcbb2a04e4320bf5e241aba16627f","0108999557564fe3889876f6fa4f5537","deb7c0cfc73f431db26b7afd41cc3bdb","86a9d1752c68459cad3b415c9d74497b","4c834e4b1d594295a1b9631c4465fba2","86f5e6f9c6414a30b6c5a1a7f28aafb2","aee315b92c4c496eb6841a433be4da25","b8b036449cd341c6811fbab059253e9f","6e475293be204d418829cd57b85f22f3","90cfe44673b24d388d02623c7641d846"]},"executionInfo":{"status":"ok","timestamp":1633852248290,"user_tz":-330,"elapsed":15456,"user":{"displayName":"nidhir bhavsar","photoUrl":"https://lh3.googleusercontent.com/a-/AOh14Gg95LpuDvkthoTWu-5D41T2kGPI0blRTbk_n2yL=s64","userId":"11097163690288156725"}},"outputId":"506c8f3a-99d6-4270-934b-687d7e677836"},"source":["  model = TopicAnnotationTagger(\n","    n_classes=len(LABEL_COLUMNS),\n","    n_warmup_steps=warmup_steps,\n","    n_training_steps=total_training_steps\n",")"],"execution_count":32,"outputs":[{"output_type":"display_data","data":{"application/vnd.jupyter.widget-view+json":{"model_id":"1ae3e4fb512d40b292476968e5774d49","version_minor":0,"version_major":2},"text/plain":["Downloading:   0%|          | 0.00/419M [00:00<?, ?B/s]"]},"metadata":{}}]},{"cell_type":"markdown","metadata":{"id":"WiYcsc9rurZO"},"source":["### Training procedure\n"]},{"cell_type":"code","metadata":{"colab":{"base_uri":"https://localhost:8080/"},"id":"FABmVeWfaU9D","executionInfo":{"status":"ok","timestamp":1633773644258,"user_tz":-330,"elapsed":12,"user":{"displayName":"akash bhatnagar","photoUrl":"https://lh3.googleusercontent.com/a-/AOh14Ggfz_ZH_gbFwlGdDOUQqu21fSUnvu801ZwUAXEn8A=s64","userId":"11378190703843694608"}},"outputId":"cb78df38-d675-4834-e7c1-595cd2ecab1a"},"source":["%pwd"],"execution_count":null,"outputs":[{"output_type":"execute_result","data":{"application/vnd.google.colaboratory.intrinsic+json":{"type":"string"},"text/plain":["'/content'"]},"metadata":{},"execution_count":31}]},{"cell_type":"code","metadata":{"id":"n0fX6c7ndf4Y"},"source":["# cd '/content/drive/MyDrive/Biocreative/Biocreative/checkpoints_and_logs/'"],"execution_count":null,"outputs":[]},{"cell_type":"code","metadata":{"id":"vbV_UYtydmTx"},"source":["# checkpoint_callback = ModelCheckpoint(\n","#     dirpath=\"specter-da-1-checkpoints\",\n","#     filename=\"specter-da-1-checkpoint\",\n","#     save_top_k=1,\n","#     verbose=True,\n","#     monitor=\"val_loss\",\n","#     mode=\"min\"\n","# )"],"execution_count":null,"outputs":[]},{"cell_type":"code","metadata":{"id":"4-RmpccZdqEk"},"source":["# logger = TensorBoardLogger(\"specter-da-1-lightning_logs\", name=\"topic-annotations\")"],"execution_count":null,"outputs":[]},{"cell_type":"code","metadata":{"id":"aE7WyXJwdtoH"},"source":["# early_stopping_callback = EarlyStopping(monitor='val_loss', patience=2)"],"execution_count":null,"outputs":[]},{"cell_type":"code","metadata":{"id":"LWZpif0HdutD"},"source":["# trainer = pl.Trainer(\n","#     logger=logger,\n","#     checkpoint_callback=True,\n","#     callbacks=[checkpoint_callback, early_stopping_callback],\n","#     max_epochs=N_EPOCHS,\n","#     gpus=1,\n","#     progress_bar_refresh_rate=30\n","# )"],"execution_count":null,"outputs":[]},{"cell_type":"code","metadata":{"id":"K-O8JXQodvla"},"source":["# trainer.fit(model, data_module)"],"execution_count":null,"outputs":[]},{"cell_type":"markdown","metadata":{"id":"UUhKS-dUegTd"},"source":["### Test"]},{"cell_type":"code","metadata":{"colab":{"base_uri":"https://localhost:8080/","height":203},"id":"utQ5lfJvlQix","executionInfo":{"status":"ok","timestamp":1633794902090,"user_tz":-330,"elapsed":1197,"user":{"displayName":"nidhir bhavsar","photoUrl":"https://lh3.googleusercontent.com/a-/AOh14Gg95LpuDvkthoTWu-5D41T2kGPI0blRTbk_n2yL=s64","userId":"11097163690288156725"}},"outputId":"4dc2b62e-bf69-4883-9fc3-9911729499cc"},"source":["# import dataset\n","test_df = pd.read_csv('drive/MyDrive/Biocreative/Biocreative/datasets/TEST.csv')\n","test_df.head()"],"execution_count":null,"outputs":[{"output_type":"execute_result","data":{"text/html":["<div>\n","<style scoped>\n","    .dataframe tbody tr th:only-of-type {\n","        vertical-align: middle;\n","    }\n","\n","    .dataframe tbody tr th {\n","        vertical-align: top;\n","    }\n","\n","    .dataframe thead th {\n","        text-align: right;\n","    }\n","</style>\n","<table border=\"1\" class=\"dataframe\">\n","  <thead>\n","    <tr style=\"text-align: right;\">\n","      <th></th>\n","      <th>title</th>\n","      <th>pmid</th>\n","      <th>abstract</th>\n","      <th>keywords</th>\n","    </tr>\n","  </thead>\n","  <tbody>\n","    <tr>\n","      <th>0</th>\n","      <td>Disentangling Association Hydroxychloroquine T...</td>\n","      <td>34336157</td>\n","      <td>efficacy hydroxychloroquine HCQ treating SARSC...</td>\n","      <td>NaN</td>\n","    </tr>\n","    <tr>\n","      <th>1</th>\n","      <td>Risk factor mortality hospitalized patient COV...</td>\n","      <td>34211701</td>\n","      <td>BACKGROUND Peru one country highest COVID19 mo...</td>\n","      <td>adults;covid-19;latin america.;mortality;sars-...</td>\n","    </tr>\n","    <tr>\n","      <th>2</th>\n","      <td>Inflammation COVID19 pathogenesis treatment</td>\n","      <td>34367415</td>\n","      <td>coronavirus disease 2019 COVID19 declared pand...</td>\n","      <td>covid-19;sars-cov-2;cytokine storm;inflammatio...</td>\n","    </tr>\n","    <tr>\n","      <th>3</th>\n","      <td>Antimalarial drugsare beneficial rheumatic vir...</td>\n","      <td>34218393</td>\n","      <td>majority medical fraternity continuously invol...</td>\n","      <td>antimalarial drugs;covid-19;rheumatic diseases...</td>\n","    </tr>\n","    <tr>\n","      <th>4</th>\n","      <td>Integration virtual physician visit provincial...</td>\n","      <td>34131026</td>\n","      <td>BACKGROUND British Columbia like many jurisdic...</td>\n","      <td>NaN</td>\n","    </tr>\n","  </tbody>\n","</table>\n","</div>"],"text/plain":["                                               title  ...                                           keywords\n","0  Disentangling Association Hydroxychloroquine T...  ...                                                NaN\n","1  Risk factor mortality hospitalized patient COV...  ...  adults;covid-19;latin america.;mortality;sars-...\n","2        Inflammation COVID19 pathogenesis treatment  ...  covid-19;sars-cov-2;cytokine storm;inflammatio...\n","3  Antimalarial drugsare beneficial rheumatic vir...  ...  antimalarial drugs;covid-19;rheumatic diseases...\n","4  Integration virtual physician visit provincial...  ...                                                NaN\n","\n","[5 rows x 4 columns]"]},"metadata":{},"execution_count":40}]},{"cell_type":"code","metadata":{"id":"FdjPYzXIoVk5"},"source":["import numpy as np"],"execution_count":null,"outputs":[]},{"cell_type":"code","metadata":{"colab":{"base_uri":"https://localhost:8080/"},"id":"Yf12OSBLoYv-","outputId":"97e8f104-e043-4932-9113-44941c8b0651"},"source":["label_sampled = np.random.randint(0, 2, size=(test_df.shape[0], 7))\n","label_sampled.shape"],"execution_count":null,"outputs":[{"data":{"text/plain":["(2500, 7)"]},"execution_count":65,"metadata":{},"output_type":"execute_result"}]},{"cell_type":"code","metadata":{"id":"JBlpmJfyoKZ7"},"source":["test_df[LABEL_COLUMNS] = label_sampled"],"execution_count":null,"outputs":[]},{"cell_type":"code","metadata":{"colab":{"base_uri":"https://localhost:8080/","height":304},"id":"e-fEKF9Uoxbw","outputId":"75578d09-6296-43d1-a21e-85c66daa906b"},"source":["test_df.head()"],"execution_count":null,"outputs":[{"data":{"text/html":["<div>\n","<style scoped>\n","    .dataframe tbody tr th:only-of-type {\n","        vertical-align: middle;\n","    }\n","\n","    .dataframe tbody tr th {\n","        vertical-align: top;\n","    }\n","\n","    .dataframe thead th {\n","        text-align: right;\n","    }\n","</style>\n","<table border=\"1\" class=\"dataframe\">\n","  <thead>\n","    <tr style=\"text-align: right;\">\n","      <th></th>\n","      <th>title</th>\n","      <th>pmid</th>\n","      <th>abstract</th>\n","      <th>keywords</th>\n","      <th>Case Report</th>\n","      <th>Diagnosis</th>\n","      <th>Epidemic Forecasting</th>\n","      <th>Mechanism</th>\n","      <th>Prevention</th>\n","      <th>Transmission</th>\n","      <th>Treatment</th>\n","    </tr>\n","  </thead>\n","  <tbody>\n","    <tr>\n","      <th>0</th>\n","      <td>Disentangling Association Hydroxychloroquine T...</td>\n","      <td>34336157</td>\n","      <td>efficacy hydroxychloroquine HCQ treating SARSC...</td>\n","      <td>NaN</td>\n","      <td>1</td>\n","      <td>0</td>\n","      <td>0</td>\n","      <td>1</td>\n","      <td>1</td>\n","      <td>1</td>\n","      <td>1</td>\n","    </tr>\n","    <tr>\n","      <th>1</th>\n","      <td>Risk factor mortality hospitalized patient COV...</td>\n","      <td>34211701</td>\n","      <td>BACKGROUND Peru one country highest COVID19 mo...</td>\n","      <td>adults;covid-19;latin america.;mortality;sars-...</td>\n","      <td>1</td>\n","      <td>0</td>\n","      <td>0</td>\n","      <td>0</td>\n","      <td>1</td>\n","      <td>1</td>\n","      <td>1</td>\n","    </tr>\n","    <tr>\n","      <th>2</th>\n","      <td>Inflammation COVID19 pathogenesis treatment</td>\n","      <td>34367415</td>\n","      <td>coronavirus disease 2019 COVID19 declared pand...</td>\n","      <td>covid-19;sars-cov-2;cytokine storm;inflammatio...</td>\n","      <td>0</td>\n","      <td>1</td>\n","      <td>0</td>\n","      <td>0</td>\n","      <td>1</td>\n","      <td>0</td>\n","      <td>0</td>\n","    </tr>\n","    <tr>\n","      <th>3</th>\n","      <td>Antimalarial drugsare beneficial rheumatic vir...</td>\n","      <td>34218393</td>\n","      <td>majority medical fraternity continuously invol...</td>\n","      <td>antimalarial drugs;covid-19;rheumatic diseases...</td>\n","      <td>0</td>\n","      <td>1</td>\n","      <td>0</td>\n","      <td>1</td>\n","      <td>1</td>\n","      <td>0</td>\n","      <td>1</td>\n","    </tr>\n","    <tr>\n","      <th>4</th>\n","      <td>Integration virtual physician visit provincial...</td>\n","      <td>34131026</td>\n","      <td>BACKGROUND British Columbia like many jurisdic...</td>\n","      <td>NaN</td>\n","      <td>0</td>\n","      <td>1</td>\n","      <td>1</td>\n","      <td>1</td>\n","      <td>1</td>\n","      <td>1</td>\n","      <td>1</td>\n","    </tr>\n","  </tbody>\n","</table>\n","</div>"],"text/plain":["                                               title  ...  Treatment\n","0  Disentangling Association Hydroxychloroquine T...  ...          1\n","1  Risk factor mortality hospitalized patient COV...  ...          1\n","2        Inflammation COVID19 pathogenesis treatment  ...          0\n","3  Antimalarial drugsare beneficial rheumatic vir...  ...          1\n","4  Integration virtual physician visit provincial...  ...          1\n","\n","[5 rows x 11 columns]"]},"execution_count":67,"metadata":{},"output_type":"execute_result"}]},{"cell_type":"code","metadata":{"colab":{"base_uri":"https://localhost:8080/"},"id":"ABbPZIl-lSdF","outputId":"9a22911e-0629-4f8a-9602-8f13df938e26"},"source":["test_df.isna().sum()"],"execution_count":null,"outputs":[{"data":{"text/plain":["title                     0\n","pmid                      0\n","abstract                  0\n","keywords                444\n","Case Report               0\n","Diagnosis                 0\n","Epidemic Forecasting      0\n","Mechanism                 0\n","Prevention                0\n","Transmission              0\n","Treatment                 0\n","dtype: int64"]},"execution_count":70,"metadata":{},"output_type":"execute_result"}]},{"cell_type":"code","metadata":{"id":"_UR8UlstlSZr"},"source":["test_df[\"abstract\"] = test_df.abstract.fillna(\"\")"],"execution_count":null,"outputs":[]},{"cell_type":"code","metadata":{"id":"ncHc1nST2vjW"},"source":["title_abs = [row[\"title\"] + embedding_tokenizer.sep_token + (row.get(\"abstract\") or '') for _, row in test_df.iterrows()]"],"execution_count":null,"outputs":[]},{"cell_type":"code","metadata":{"id":"3MbqZpo42vjX"},"source":["# add title and abstract text\n","test_df[\"title_abs\"] = title_abs"],"execution_count":null,"outputs":[]},{"cell_type":"code","metadata":{"colab":{"base_uri":"https://localhost:8080/","height":388},"id":"Fdn98eES26be","outputId":"bb87fa1f-8dab-496f-ac6c-b487c7163609"},"source":["test_df.head()"],"execution_count":null,"outputs":[{"data":{"text/html":["<div>\n","<style scoped>\n","    .dataframe tbody tr th:only-of-type {\n","        vertical-align: middle;\n","    }\n","\n","    .dataframe tbody tr th {\n","        vertical-align: top;\n","    }\n","\n","    .dataframe thead th {\n","        text-align: right;\n","    }\n","</style>\n","<table border=\"1\" class=\"dataframe\">\n","  <thead>\n","    <tr style=\"text-align: right;\">\n","      <th></th>\n","      <th>title</th>\n","      <th>pmid</th>\n","      <th>abstract</th>\n","      <th>keywords</th>\n","      <th>Case Report</th>\n","      <th>Diagnosis</th>\n","      <th>Epidemic Forecasting</th>\n","      <th>Mechanism</th>\n","      <th>Prevention</th>\n","      <th>Transmission</th>\n","      <th>Treatment</th>\n","      <th>title_abs</th>\n","    </tr>\n","  </thead>\n","  <tbody>\n","    <tr>\n","      <th>0</th>\n","      <td>Disentangling Association Hydroxychloroquine T...</td>\n","      <td>34336157</td>\n","      <td>efficacy hydroxychloroquine HCQ treating SARSC...</td>\n","      <td>NaN</td>\n","      <td>1</td>\n","      <td>0</td>\n","      <td>0</td>\n","      <td>1</td>\n","      <td>1</td>\n","      <td>1</td>\n","      <td>1</td>\n","      <td>Disentangling Association Hydroxychloroquine T...</td>\n","    </tr>\n","    <tr>\n","      <th>1</th>\n","      <td>Risk factor mortality hospitalized patient COV...</td>\n","      <td>34211701</td>\n","      <td>BACKGROUND Peru one country highest COVID19 mo...</td>\n","      <td>adults;covid-19;latin america.;mortality;sars-...</td>\n","      <td>1</td>\n","      <td>0</td>\n","      <td>0</td>\n","      <td>0</td>\n","      <td>1</td>\n","      <td>1</td>\n","      <td>1</td>\n","      <td>Risk factor mortality hospitalized patient COV...</td>\n","    </tr>\n","    <tr>\n","      <th>2</th>\n","      <td>Inflammation COVID19 pathogenesis treatment</td>\n","      <td>34367415</td>\n","      <td>coronavirus disease 2019 COVID19 declared pand...</td>\n","      <td>covid-19;sars-cov-2;cytokine storm;inflammatio...</td>\n","      <td>0</td>\n","      <td>1</td>\n","      <td>0</td>\n","      <td>0</td>\n","      <td>1</td>\n","      <td>0</td>\n","      <td>0</td>\n","      <td>Inflammation COVID19 pathogenesis treatment[SE...</td>\n","    </tr>\n","    <tr>\n","      <th>3</th>\n","      <td>Antimalarial drugsare beneficial rheumatic vir...</td>\n","      <td>34218393</td>\n","      <td>majority medical fraternity continuously invol...</td>\n","      <td>antimalarial drugs;covid-19;rheumatic diseases...</td>\n","      <td>0</td>\n","      <td>1</td>\n","      <td>0</td>\n","      <td>1</td>\n","      <td>1</td>\n","      <td>0</td>\n","      <td>1</td>\n","      <td>Antimalarial drugsare beneficial rheumatic vir...</td>\n","    </tr>\n","    <tr>\n","      <th>4</th>\n","      <td>Integration virtual physician visit provincial...</td>\n","      <td>34131026</td>\n","      <td>BACKGROUND British Columbia like many jurisdic...</td>\n","      <td>NaN</td>\n","      <td>0</td>\n","      <td>1</td>\n","      <td>1</td>\n","      <td>1</td>\n","      <td>1</td>\n","      <td>1</td>\n","      <td>1</td>\n","      <td>Integration virtual physician visit provincial...</td>\n","    </tr>\n","  </tbody>\n","</table>\n","</div>"],"text/plain":["                                               title  ...                                          title_abs\n","0  Disentangling Association Hydroxychloroquine T...  ...  Disentangling Association Hydroxychloroquine T...\n","1  Risk factor mortality hospitalized patient COV...  ...  Risk factor mortality hospitalized patient COV...\n","2        Inflammation COVID19 pathogenesis treatment  ...  Inflammation COVID19 pathogenesis treatment[SE...\n","3  Antimalarial drugsare beneficial rheumatic vir...  ...  Antimalarial drugsare beneficial rheumatic vir...\n","4  Integration virtual physician visit provincial...  ...  Integration virtual physician visit provincial...\n","\n","[5 rows x 12 columns]"]},"execution_count":73,"metadata":{},"output_type":"execute_result"}]},{"cell_type":"markdown","metadata":{"id":"jg7tZkUFTCv2"},"source":["### Load Model"]},{"cell_type":"code","metadata":{"id":"y8AWlhyMdMEG","executionInfo":{"status":"ok","timestamp":1633852276888,"user_tz":-330,"elapsed":28603,"user":{"displayName":"nidhir bhavsar","photoUrl":"https://lh3.googleusercontent.com/a-/AOh14Gg95LpuDvkthoTWu-5D41T2kGPI0blRTbk_n2yL=s64","userId":"11097163690288156725"}}},"source":["trained_model = TopicAnnotationTagger.load_from_checkpoint('/content/drive/MyDrive/Biocreative/Biocreative/checkpoints_and_logs/specter-da-1-checkpoints/specter-da-1-checkpoint.ckpt', n_classes=7)"],"execution_count":33,"outputs":[]},{"cell_type":"code","metadata":{"id":"3rM_yhw6vGls","executionInfo":{"status":"ok","timestamp":1633852276888,"user_tz":-330,"elapsed":8,"user":{"displayName":"nidhir bhavsar","photoUrl":"https://lh3.googleusercontent.com/a-/AOh14Gg95LpuDvkthoTWu-5D41T2kGPI0blRTbk_n2yL=s64","userId":"11097163690288156725"}}},"source":["trained_model.freeze()"],"execution_count":34,"outputs":[]},{"cell_type":"markdown","metadata":{"id":"_qfT86eMvlk5"},"source":["### Evaluation"]},{"cell_type":"code","metadata":{"colab":{"base_uri":"https://localhost:8080/"},"id":"7lObFJ_JQohi","executionInfo":{"status":"ok","timestamp":1633852276889,"user_tz":-330,"elapsed":8,"user":{"displayName":"nidhir bhavsar","photoUrl":"https://lh3.googleusercontent.com/a-/AOh14Gg95LpuDvkthoTWu-5D41T2kGPI0blRTbk_n2yL=s64","userId":"11097163690288156725"}},"outputId":"07fd30a4-e655-4e20-a731-82e14dbc215f"},"source":["# sample 2500 example from the validation set\n","val_df_sampled = val_df.sample(n=2500, random_state=1).sample(n=1500, random_state=1)\n","print(val_df_sampled.shape)\n","val_df_sampled[LABEL_COLUMNS].sum()"],"execution_count":35,"outputs":[{"output_type":"stream","name":"stdout","text":["(1500, 14)\n"]},{"output_type":"execute_result","data":{"text/plain":["Case Report             101\n","Diagnosis               347\n","Epidemic Forecasting     68\n","Mechanism               256\n","Prevention              711\n","Transmission            156\n","Treatment               485\n","dtype: int64"]},"metadata":{},"execution_count":35}]},{"cell_type":"code","metadata":{"id":"glq9LWq4rMEH","executionInfo":{"status":"ok","timestamp":1633852277666,"user_tz":-330,"elapsed":781,"user":{"displayName":"nidhir bhavsar","photoUrl":"https://lh3.googleusercontent.com/a-/AOh14Gg95LpuDvkthoTWu-5D41T2kGPI0blRTbk_n2yL=s64","userId":"11097163690288156725"}}},"source":["device = torch.device('cuda' if torch.cuda.is_available() else 'cpu')\n","trained_model = trained_model.to(device)\n","\n","val_dataset = TopicAnnotationDataset(\n","    val_df,\n","    embedding_tokenizer,\n","    max_token_len=MAX_TOKEN_COUNT\n",")"],"execution_count":36,"outputs":[]},{"cell_type":"code","metadata":{"colab":{"base_uri":"https://localhost:8080/","height":49,"referenced_widgets":["f57c9b75d3fc462f857afedebe39a55d","3e8a43bc76b941419daa485a5f2facf9","fd94edfaf8eb445aa16a1844de4664ff","fd5af072934541bf97b5a723a7e88e45","023865d3e5be4f3aa123b44ae24abf41","0468378040c44565af30c1513e50e391","f5e89c168eba450fbb533d5607562e5c","39242d9b3da24d7c8eddc78f9408c4ef","cb6c34cddc264d439177014d6ee6bf2c","6b92fce941b64dd2aeb915628ffb317b","d43a00077d6141cea12ccd474ec9c811"]},"id":"nGt5QcfWwO8P","executionInfo":{"status":"ok","timestamp":1633852532872,"user_tz":-330,"elapsed":255232,"user":{"displayName":"nidhir bhavsar","photoUrl":"https://lh3.googleusercontent.com/a-/AOh14Gg95LpuDvkthoTWu-5D41T2kGPI0blRTbk_n2yL=s64","userId":"11097163690288156725"}},"outputId":"1181ac8d-d09c-46b3-b3f5-e6a85b4a4ceb"},"source":["predictions = []\n","labels = []\n","\n","for item in tqdm(val_dataset):\n","\n","  _, prediction = trained_model(\n","      item[\"input_ids\"].unsqueeze(dim=0).to(device),\n","      item[\"attention_mask\"].unsqueeze(dim=0).to(device),\n","  )\n","  \n","  predictions.append(prediction.flatten())\n","  labels.append(item[\"labels\"].int())\n","\n","predictions = torch.stack(predictions).detach().cpu()\n","labels = torch.stack(labels).detach().cpu()"],"execution_count":37,"outputs":[{"output_type":"display_data","data":{"application/vnd.jupyter.widget-view+json":{"model_id":"f57c9b75d3fc462f857afedebe39a55d","version_minor":0,"version_major":2},"text/plain":["  0%|          | 0/3423 [00:00<?, ?it/s]"]},"metadata":{}}]},{"cell_type":"markdown","metadata":{"id":"Km1O-KpaTSIf"},"source":["#### misc."]},{"cell_type":"code","metadata":{"colab":{"base_uri":"https://localhost:8080/","height":417},"id":"9QUa0R4v4YP8","outputId":"ed940aba-c2d3-43c0-d1fe-5f9c9028151a"},"source":["pmid = test_df[\"pmid\"]\n","pred_df = pd.DataFrame(predictions.numpy(), columns=LABEL_COLUMNS)\n","pred_df"],"execution_count":null,"outputs":[{"data":{"text/html":["<div>\n","<style scoped>\n","    .dataframe tbody tr th:only-of-type {\n","        vertical-align: middle;\n","    }\n","\n","    .dataframe tbody tr th {\n","        vertical-align: top;\n","    }\n","\n","    .dataframe thead th {\n","        text-align: right;\n","    }\n","</style>\n","<table border=\"1\" class=\"dataframe\">\n","  <thead>\n","    <tr style=\"text-align: right;\">\n","      <th></th>\n","      <th>Case Report</th>\n","      <th>Diagnosis</th>\n","      <th>Epidemic Forecasting</th>\n","      <th>Mechanism</th>\n","      <th>Prevention</th>\n","      <th>Transmission</th>\n","      <th>Treatment</th>\n","    </tr>\n","  </thead>\n","  <tbody>\n","    <tr>\n","      <th>0</th>\n","      <td>0.000471</td>\n","      <td>0.245204</td>\n","      <td>0.000055</td>\n","      <td>0.003591</td>\n","      <td>0.003689</td>\n","      <td>0.000344</td>\n","      <td>0.996832</td>\n","    </tr>\n","    <tr>\n","      <th>1</th>\n","      <td>0.001104</td>\n","      <td>0.989632</td>\n","      <td>0.000069</td>\n","      <td>0.002554</td>\n","      <td>0.013161</td>\n","      <td>0.000688</td>\n","      <td>0.969118</td>\n","    </tr>\n","    <tr>\n","      <th>2</th>\n","      <td>0.000151</td>\n","      <td>0.011764</td>\n","      <td>0.000085</td>\n","      <td>0.922421</td>\n","      <td>0.004061</td>\n","      <td>0.000470</td>\n","      <td>0.996042</td>\n","    </tr>\n","    <tr>\n","      <th>3</th>\n","      <td>0.000478</td>\n","      <td>0.005487</td>\n","      <td>0.000125</td>\n","      <td>0.001224</td>\n","      <td>0.031002</td>\n","      <td>0.000286</td>\n","      <td>0.988378</td>\n","    </tr>\n","    <tr>\n","      <th>4</th>\n","      <td>0.000504</td>\n","      <td>0.003854</td>\n","      <td>0.000063</td>\n","      <td>0.000397</td>\n","      <td>0.995527</td>\n","      <td>0.000507</td>\n","      <td>0.001315</td>\n","    </tr>\n","    <tr>\n","      <th>...</th>\n","      <td>...</td>\n","      <td>...</td>\n","      <td>...</td>\n","      <td>...</td>\n","      <td>...</td>\n","      <td>...</td>\n","      <td>...</td>\n","    </tr>\n","    <tr>\n","      <th>2495</th>\n","      <td>0.000346</td>\n","      <td>0.004347</td>\n","      <td>0.000320</td>\n","      <td>0.993019</td>\n","      <td>0.002074</td>\n","      <td>0.000286</td>\n","      <td>0.981854</td>\n","    </tr>\n","    <tr>\n","      <th>2496</th>\n","      <td>0.000569</td>\n","      <td>0.959073</td>\n","      <td>0.000062</td>\n","      <td>0.001932</td>\n","      <td>0.013200</td>\n","      <td>0.000653</td>\n","      <td>0.985410</td>\n","    </tr>\n","    <tr>\n","      <th>2497</th>\n","      <td>0.000976</td>\n","      <td>0.164398</td>\n","      <td>0.000004</td>\n","      <td>0.001614</td>\n","      <td>0.917522</td>\n","      <td>0.000763</td>\n","      <td>0.180588</td>\n","    </tr>\n","    <tr>\n","      <th>2498</th>\n","      <td>0.000406</td>\n","      <td>0.965178</td>\n","      <td>0.000013</td>\n","      <td>0.059715</td>\n","      <td>0.092064</td>\n","      <td>0.004019</td>\n","      <td>0.835722</td>\n","    </tr>\n","    <tr>\n","      <th>2499</th>\n","      <td>0.000418</td>\n","      <td>0.004459</td>\n","      <td>0.000073</td>\n","      <td>0.001508</td>\n","      <td>0.073951</td>\n","      <td>0.000422</td>\n","      <td>0.981328</td>\n","    </tr>\n","  </tbody>\n","</table>\n","<p>2500 rows × 7 columns</p>\n","</div>"],"text/plain":["      Case Report  Diagnosis  ...  Transmission  Treatment\n","0        0.000471   0.245204  ...      0.000344   0.996832\n","1        0.001104   0.989632  ...      0.000688   0.969118\n","2        0.000151   0.011764  ...      0.000470   0.996042\n","3        0.000478   0.005487  ...      0.000286   0.988378\n","4        0.000504   0.003854  ...      0.000507   0.001315\n","...           ...        ...  ...           ...        ...\n","2495     0.000346   0.004347  ...      0.000286   0.981854\n","2496     0.000569   0.959073  ...      0.000653   0.985410\n","2497     0.000976   0.164398  ...      0.000763   0.180588\n","2498     0.000406   0.965178  ...      0.004019   0.835722\n","2499     0.000418   0.004459  ...      0.000422   0.981328\n","\n","[2500 rows x 7 columns]"]},"execution_count":78,"metadata":{},"output_type":"execute_result"}]},{"cell_type":"code","metadata":{"id":"4CZzCVGnrfzW"},"source":["pred_df[\"PMID\"] = pmid"],"execution_count":null,"outputs":[]},{"cell_type":"code","metadata":{"id":"ho0j1_j5rqjk"},"source":["main_pred_df = pred_df.copy(deep=True)"],"execution_count":null,"outputs":[]},{"cell_type":"code","metadata":{"colab":{"base_uri":"https://localhost:8080/"},"id":"oJzacrV1sLm6","outputId":"64e00e69-bd2f-434b-a390-817f420b350f"},"source":["main_pred_df.columns"],"execution_count":null,"outputs":[{"data":{"text/plain":["Index(['Case Report', 'Diagnosis', 'Epidemic Forecasting', 'Mechanism',\n","       'Prevention', 'Transmission', 'Treatment', 'PMID'],\n","      dtype='object')"]},"execution_count":81,"metadata":{},"output_type":"execute_result"}]},{"cell_type":"code","metadata":{"colab":{"base_uri":"https://localhost:8080/","height":203},"id":"y3inf3Gg4aRR","outputId":"311a02f1-cde0-4d46-f45a-83980620c784"},"source":["main_pred_df = main_pred_df.reindex(['PMID','Treatment','Diagnosis','Prevention','Mechanism','Transmission','Epidemic Forecasting','Case Report'], axis=\"columns\")\n","main_pred_df.head()"],"execution_count":null,"outputs":[{"data":{"text/html":["<div>\n","<style scoped>\n","    .dataframe tbody tr th:only-of-type {\n","        vertical-align: middle;\n","    }\n","\n","    .dataframe tbody tr th {\n","        vertical-align: top;\n","    }\n","\n","    .dataframe thead th {\n","        text-align: right;\n","    }\n","</style>\n","<table border=\"1\" class=\"dataframe\">\n","  <thead>\n","    <tr style=\"text-align: right;\">\n","      <th></th>\n","      <th>PMID</th>\n","      <th>Treatment</th>\n","      <th>Diagnosis</th>\n","      <th>Prevention</th>\n","      <th>Mechanism</th>\n","      <th>Transmission</th>\n","      <th>Epidemic Forecasting</th>\n","      <th>Case Report</th>\n","    </tr>\n","  </thead>\n","  <tbody>\n","    <tr>\n","      <th>0</th>\n","      <td>34336157</td>\n","      <td>0.996832</td>\n","      <td>0.245204</td>\n","      <td>0.003689</td>\n","      <td>0.003591</td>\n","      <td>0.000344</td>\n","      <td>0.000055</td>\n","      <td>0.000471</td>\n","    </tr>\n","    <tr>\n","      <th>1</th>\n","      <td>34211701</td>\n","      <td>0.969118</td>\n","      <td>0.989632</td>\n","      <td>0.013161</td>\n","      <td>0.002554</td>\n","      <td>0.000688</td>\n","      <td>0.000069</td>\n","      <td>0.001104</td>\n","    </tr>\n","    <tr>\n","      <th>2</th>\n","      <td>34367415</td>\n","      <td>0.996042</td>\n","      <td>0.011764</td>\n","      <td>0.004061</td>\n","      <td>0.922421</td>\n","      <td>0.000470</td>\n","      <td>0.000085</td>\n","      <td>0.000151</td>\n","    </tr>\n","    <tr>\n","      <th>3</th>\n","      <td>34218393</td>\n","      <td>0.988378</td>\n","      <td>0.005487</td>\n","      <td>0.031002</td>\n","      <td>0.001224</td>\n","      <td>0.000286</td>\n","      <td>0.000125</td>\n","      <td>0.000478</td>\n","    </tr>\n","    <tr>\n","      <th>4</th>\n","      <td>34131026</td>\n","      <td>0.001315</td>\n","      <td>0.003854</td>\n","      <td>0.995527</td>\n","      <td>0.000397</td>\n","      <td>0.000507</td>\n","      <td>0.000063</td>\n","      <td>0.000504</td>\n","    </tr>\n","  </tbody>\n","</table>\n","</div>"],"text/plain":["       PMID  Treatment  ...  Epidemic Forecasting  Case Report\n","0  34336157   0.996832  ...              0.000055     0.000471\n","1  34211701   0.969118  ...              0.000069     0.001104\n","2  34367415   0.996042  ...              0.000085     0.000151\n","3  34218393   0.988378  ...              0.000125     0.000478\n","4  34131026   0.001315  ...              0.000063     0.000504\n","\n","[5 rows x 8 columns]"]},"execution_count":82,"metadata":{},"output_type":"execute_result"}]},{"cell_type":"code","metadata":{"colab":{"base_uri":"https://localhost:8080/"},"id":"-KiP3DpU4_F-","outputId":"a193a080-e9e9-49cd-d5ea-93a01d275f69"},"source":["%cd drive/MyDrive/Biocreative/Biocreative/Test_Results/"],"execution_count":null,"outputs":[{"name":"stdout","output_type":"stream","text":["/content/drive/MyDrive/Biocreative/Biocreative/Test_Results\n"]}]},{"cell_type":"code","metadata":{"id":"nHhZOoK85LW9"},"source":["main_pred_df.to_csv(\"specter_dual_att.csv\", index=False)"],"execution_count":null,"outputs":[]},{"cell_type":"code","metadata":{"colab":{"base_uri":"https://localhost:8080/","height":417},"id":"GBsl3WQc5zzy","outputId":"3a7b74a3-372e-4f9c-a593-398fb7b36712"},"source":["new_pred = pd.read_csv(\"specter_dual_att.csv\")\n","new_pred"],"execution_count":null,"outputs":[{"data":{"text/html":["<div>\n","<style scoped>\n","    .dataframe tbody tr th:only-of-type {\n","        vertical-align: middle;\n","    }\n","\n","    .dataframe tbody tr th {\n","        vertical-align: top;\n","    }\n","\n","    .dataframe thead th {\n","        text-align: right;\n","    }\n","</style>\n","<table border=\"1\" class=\"dataframe\">\n","  <thead>\n","    <tr style=\"text-align: right;\">\n","      <th></th>\n","      <th>PMID</th>\n","      <th>Treatment</th>\n","      <th>Diagnosis</th>\n","      <th>Prevention</th>\n","      <th>Mechanism</th>\n","      <th>Transmission</th>\n","      <th>Epidemic Forecasting</th>\n","      <th>Case Report</th>\n","    </tr>\n","  </thead>\n","  <tbody>\n","    <tr>\n","      <th>0</th>\n","      <td>34336157</td>\n","      <td>0.996832</td>\n","      <td>0.245204</td>\n","      <td>0.003689</td>\n","      <td>0.003591</td>\n","      <td>0.000344</td>\n","      <td>0.000055</td>\n","      <td>0.000471</td>\n","    </tr>\n","    <tr>\n","      <th>1</th>\n","      <td>34211701</td>\n","      <td>0.969118</td>\n","      <td>0.989632</td>\n","      <td>0.013161</td>\n","      <td>0.002554</td>\n","      <td>0.000688</td>\n","      <td>0.000069</td>\n","      <td>0.001104</td>\n","    </tr>\n","    <tr>\n","      <th>2</th>\n","      <td>34367415</td>\n","      <td>0.996042</td>\n","      <td>0.011764</td>\n","      <td>0.004061</td>\n","      <td>0.922421</td>\n","      <td>0.000470</td>\n","      <td>0.000085</td>\n","      <td>0.000151</td>\n","    </tr>\n","    <tr>\n","      <th>3</th>\n","      <td>34218393</td>\n","      <td>0.988378</td>\n","      <td>0.005487</td>\n","      <td>0.031002</td>\n","      <td>0.001224</td>\n","      <td>0.000286</td>\n","      <td>0.000125</td>\n","      <td>0.000478</td>\n","    </tr>\n","    <tr>\n","      <th>4</th>\n","      <td>34131026</td>\n","      <td>0.001315</td>\n","      <td>0.003854</td>\n","      <td>0.995527</td>\n","      <td>0.000397</td>\n","      <td>0.000507</td>\n","      <td>0.000063</td>\n","      <td>0.000504</td>\n","    </tr>\n","    <tr>\n","      <th>...</th>\n","      <td>...</td>\n","      <td>...</td>\n","      <td>...</td>\n","      <td>...</td>\n","      <td>...</td>\n","      <td>...</td>\n","      <td>...</td>\n","      <td>...</td>\n","    </tr>\n","    <tr>\n","      <th>2495</th>\n","      <td>34291555</td>\n","      <td>0.981854</td>\n","      <td>0.004347</td>\n","      <td>0.002074</td>\n","      <td>0.993019</td>\n","      <td>0.000286</td>\n","      <td>0.000320</td>\n","      <td>0.000346</td>\n","    </tr>\n","    <tr>\n","      <th>2496</th>\n","      <td>34204119</td>\n","      <td>0.985410</td>\n","      <td>0.959074</td>\n","      <td>0.013200</td>\n","      <td>0.001932</td>\n","      <td>0.000653</td>\n","      <td>0.000062</td>\n","      <td>0.000569</td>\n","    </tr>\n","    <tr>\n","      <th>2497</th>\n","      <td>34228511</td>\n","      <td>0.180588</td>\n","      <td>0.164398</td>\n","      <td>0.917522</td>\n","      <td>0.001614</td>\n","      <td>0.000763</td>\n","      <td>0.000004</td>\n","      <td>0.000976</td>\n","    </tr>\n","    <tr>\n","      <th>2498</th>\n","      <td>34226900</td>\n","      <td>0.835722</td>\n","      <td>0.965178</td>\n","      <td>0.092064</td>\n","      <td>0.059715</td>\n","      <td>0.004019</td>\n","      <td>0.000013</td>\n","      <td>0.000406</td>\n","    </tr>\n","    <tr>\n","      <th>2499</th>\n","      <td>34218774</td>\n","      <td>0.981328</td>\n","      <td>0.004459</td>\n","      <td>0.073951</td>\n","      <td>0.001508</td>\n","      <td>0.000422</td>\n","      <td>0.000073</td>\n","      <td>0.000418</td>\n","    </tr>\n","  </tbody>\n","</table>\n","<p>2500 rows × 8 columns</p>\n","</div>"],"text/plain":["          PMID  Treatment  ...  Epidemic Forecasting  Case Report\n","0     34336157   0.996832  ...              0.000055     0.000471\n","1     34211701   0.969118  ...              0.000069     0.001104\n","2     34367415   0.996042  ...              0.000085     0.000151\n","3     34218393   0.988378  ...              0.000125     0.000478\n","4     34131026   0.001315  ...              0.000063     0.000504\n","...        ...        ...  ...                   ...          ...\n","2495  34291555   0.981854  ...              0.000320     0.000346\n","2496  34204119   0.985410  ...              0.000062     0.000569\n","2497  34228511   0.180588  ...              0.000004     0.000976\n","2498  34226900   0.835722  ...              0.000013     0.000406\n","2499  34218774   0.981328  ...              0.000073     0.000418\n","\n","[2500 rows x 8 columns]"]},"execution_count":93,"metadata":{},"output_type":"execute_result"}]},{"cell_type":"code","metadata":{"colab":{"base_uri":"https://localhost:8080/","height":417},"id":"DuO00U4X6Abt","outputId":"06856eb7-1f52-4531-f195-7d7c280c829f"},"source":["dual_ensemble = pd.read_csv(\"dual_bert_Ensemble.csv\")\n","dual_ensemble"],"execution_count":null,"outputs":[{"data":{"text/html":["<div>\n","<style scoped>\n","    .dataframe tbody tr th:only-of-type {\n","        vertical-align: middle;\n","    }\n","\n","    .dataframe tbody tr th {\n","        vertical-align: top;\n","    }\n","\n","    .dataframe thead th {\n","        text-align: right;\n","    }\n","</style>\n","<table border=\"1\" class=\"dataframe\">\n","  <thead>\n","    <tr style=\"text-align: right;\">\n","      <th></th>\n","      <th>PMID</th>\n","      <th>Treatment</th>\n","      <th>Diagnosis</th>\n","      <th>Prevention</th>\n","      <th>Mechanism</th>\n","      <th>Transmission</th>\n","      <th>Epidemic Forecasting</th>\n","      <th>Case Report</th>\n","    </tr>\n","  </thead>\n","  <tbody>\n","    <tr>\n","      <th>0</th>\n","      <td>34336157</td>\n","      <td>0.997213</td>\n","      <td>0.169308</td>\n","      <td>0.004443</td>\n","      <td>0.003471</td>\n","      <td>0.000001</td>\n","      <td>0.000001</td>\n","      <td>0.000301</td>\n","    </tr>\n","    <tr>\n","      <th>1</th>\n","      <td>34211701</td>\n","      <td>0.916451</td>\n","      <td>0.986004</td>\n","      <td>0.013786</td>\n","      <td>0.003106</td>\n","      <td>0.000063</td>\n","      <td>0.000004</td>\n","      <td>0.000368</td>\n","    </tr>\n","    <tr>\n","      <th>2</th>\n","      <td>34367415</td>\n","      <td>0.996768</td>\n","      <td>0.043622</td>\n","      <td>0.003704</td>\n","      <td>0.929797</td>\n","      <td>0.000117</td>\n","      <td>0.000013</td>\n","      <td>0.000140</td>\n","    </tr>\n","    <tr>\n","      <th>3</th>\n","      <td>34218393</td>\n","      <td>0.995460</td>\n","      <td>0.015110</td>\n","      <td>0.013284</td>\n","      <td>0.005272</td>\n","      <td>0.000003</td>\n","      <td>0.000003</td>\n","      <td>0.000473</td>\n","    </tr>\n","    <tr>\n","      <th>4</th>\n","      <td>34131026</td>\n","      <td>0.001570</td>\n","      <td>0.001174</td>\n","      <td>0.999092</td>\n","      <td>0.000002</td>\n","      <td>0.000102</td>\n","      <td>0.000002</td>\n","      <td>0.000019</td>\n","    </tr>\n","    <tr>\n","      <th>...</th>\n","      <td>...</td>\n","      <td>...</td>\n","      <td>...</td>\n","      <td>...</td>\n","      <td>...</td>\n","      <td>...</td>\n","      <td>...</td>\n","      <td>...</td>\n","    </tr>\n","    <tr>\n","      <th>2495</th>\n","      <td>34291555</td>\n","      <td>0.989350</td>\n","      <td>0.003505</td>\n","      <td>0.000772</td>\n","      <td>0.993984</td>\n","      <td>0.000044</td>\n","      <td>0.000001</td>\n","      <td>0.000032</td>\n","    </tr>\n","    <tr>\n","      <th>2496</th>\n","      <td>34204119</td>\n","      <td>0.982862</td>\n","      <td>0.825384</td>\n","      <td>0.010762</td>\n","      <td>0.013090</td>\n","      <td>0.000069</td>\n","      <td>0.000031</td>\n","      <td>0.001934</td>\n","    </tr>\n","    <tr>\n","      <th>2497</th>\n","      <td>34228511</td>\n","      <td>0.146783</td>\n","      <td>0.504033</td>\n","      <td>0.832181</td>\n","      <td>0.003049</td>\n","      <td>0.004648</td>\n","      <td>0.000345</td>\n","      <td>0.011105</td>\n","    </tr>\n","    <tr>\n","      <th>2498</th>\n","      <td>34226900</td>\n","      <td>0.977807</td>\n","      <td>0.799504</td>\n","      <td>0.033778</td>\n","      <td>0.126187</td>\n","      <td>0.000627</td>\n","      <td>0.000100</td>\n","      <td>0.001451</td>\n","    </tr>\n","    <tr>\n","      <th>2499</th>\n","      <td>34218774</td>\n","      <td>0.984278</td>\n","      <td>0.008618</td>\n","      <td>0.105568</td>\n","      <td>0.003392</td>\n","      <td>0.000011</td>\n","      <td>0.000013</td>\n","      <td>0.000307</td>\n","    </tr>\n","  </tbody>\n","</table>\n","<p>2500 rows × 8 columns</p>\n","</div>"],"text/plain":["          PMID  Treatment  ...  Epidemic Forecasting  Case Report\n","0     34336157   0.997213  ...              0.000001     0.000301\n","1     34211701   0.916451  ...              0.000004     0.000368\n","2     34367415   0.996768  ...              0.000013     0.000140\n","3     34218393   0.995460  ...              0.000003     0.000473\n","4     34131026   0.001570  ...              0.000002     0.000019\n","...        ...        ...  ...                   ...          ...\n","2495  34291555   0.989350  ...              0.000001     0.000032\n","2496  34204119   0.982862  ...              0.000031     0.001934\n","2497  34228511   0.146783  ...              0.000345     0.011105\n","2498  34226900   0.977807  ...              0.000100     0.001451\n","2499  34218774   0.984278  ...              0.000013     0.000307\n","\n","[2500 rows x 8 columns]"]},"execution_count":81,"metadata":{},"output_type":"execute_result"}]},{"cell_type":"markdown","metadata":{"id":"pixwbhCQZzEa"},"source":["#### data analysis"]},{"cell_type":"code","metadata":{"id":"ZmzSFy2u_qXD"},"source":["# convert prediction in boolean labels\n","y_pred = (predictions > 0.65).type(torch.uint8)\n","y_true = labels  "],"execution_count":null,"outputs":[]},{"cell_type":"code","metadata":{"id":"qRCIkiW4AzVy"},"source":["# count non-zero values\n","true_counts = y_true.count_nonzero(dim=1)\n","pred_counts = y_pred.count_nonzero(dim=1)"],"execution_count":null,"outputs":[]},{"cell_type":"code","metadata":{"id":"7wf7RTbuCj7d"},"source":["# dict mapping for count -> key \n","unique, counts = true_counts.unique(return_counts=True)\n","true_count_dict = dict(zip(unique.tolist(), counts.tolist()))\n","print(true_count_dict)"],"execution_count":null,"outputs":[]},{"cell_type":"code","metadata":{"id":"kCL9XGJBGwTW"},"source":["X = [1, 2, 3, 4, 5]\n","for label in X:\n","  try:\n","    val = true_count_dict[label]\n","  except Exception as e:\n","    true_count_dict[label] = 0\n","\n","true_count_dict"],"execution_count":null,"outputs":[]},{"cell_type":"code","metadata":{"id":"krCFXaRkDtzO"},"source":["# dict mapping for count -> key\n","pred_count_dict = {\n","    1: 0,\n","    2: 0,\n","    3: 0,\n","    4: 0,\n","    5: 0\n","}\n","\n","for idx, value in enumerate(true_counts):\n","  if value == pred_counts[idx]: \n","    pred_count_dict[value.tolist()] += 1\n","  else:\n","    pass\n","\n","pred_count_dict"],"execution_count":null,"outputs":[]},{"cell_type":"code","metadata":{"id":"2YhqCvhBEUOb"},"source":["X = [\"1\", \"2\", \"3\", \"4\", \"5\"]\n","\n","# creating the dataset \n","keys = list(pred_count_dict.keys()) \n","pred_values = list(pred_count_dict.values()) \n","true_values = list(true_count_dict.values())\n","\n","keys = np.array(keys)\n","\n","fig = plt.figure(figsize = (10, 10)) \n","  \n","# creating the bar plot \n","plt.bar(keys - 0.2, true_values, 0.4, label = 'True Label')\n","plt.bar(keys + 0.2, pred_values, 0.4, label = 'Prediction')\n","\n","plt.xticks(keys, X)\n","plt.xlabel(\"Count of labels\")\n","plt.ylabel(\"Counts\")\n","plt.title(\"Transmission predicted v/s true\")\n","plt.legend()\n","plt.show() "],"execution_count":null,"outputs":[]},{"cell_type":"code","metadata":{"id":"5mWHzCoNUM8-"},"source":["class_dict_pred = dict(zip(LABEL_COLUMNS, [0]*7))\n","class_dict_true = dict(zip(LABEL_COLUMNS, [0]*7))\n","class_dict_pred, class_dict_true"],"execution_count":null,"outputs":[]},{"cell_type":"code","metadata":{"id":"dJHW48HcFAmT"},"source":["THRESHOLD = 0.5\n","print(LABEL_COLUMNS)\n","\n","for item in val_dataset:\n","\n","  labels = item[\"labels\"].numpy()\n","  count = np.count_nonzero(labels)\n","\n","  if count == 2:\n","    \n","    _, prediction = trained_model(\n","        item[\"input_ids\"].unsqueeze(dim=0).to(device),\n","        item[\"attention_mask\"].unsqueeze(dim=0).to(device)\n","    )\n","\n","    # print((prediction > THRESHOLD).type(torch.uint8))\n","\n","    prediction = prediction.cpu()\n","\n","    for idx, key in enumerate(class_dict_pred.keys()):\n","\n","      class_dict_pred[key] += (prediction[0, idx] > THRESHOLD).type(torch.uint8)\n","\n","    for idx, key in enumerate(class_dict_true.keys()):\n","      class_dict_true[key] += labels[idx]"],"execution_count":null,"outputs":[]},{"cell_type":"code","metadata":{"id":"_roLMQneXw5_"},"source":["for key, value in class_dict_pred.items():\n","\n","  class_dict_pred[key] = value.numpy().item()\n","\n","print(class_dict_pred)\n","print(class_dict_true)"],"execution_count":null,"outputs":[]},{"cell_type":"code","metadata":{"id":"L-hx5A-lX7Mg"},"source":["keys = class_dict_pred.keys()\n","values = class_dict_pred.values()\n","\n","# Creating plot\n","fig = plt.figure(figsize =(10, 7))\n","plt.pie(values, labels = keys)\n","  \n","# show plot\n","plt.show()"],"execution_count":null,"outputs":[]},{"cell_type":"code","metadata":{"id":"e8LnJTrPaAZ4"},"source":["keys = class_dict_true.keys()\n","values = class_dict_true.values()\n","\n","# Creating plot\n","fig = plt.figure(figsize =(10, 7))\n","plt.pie(values, labels = keys)\n","plt.title(\"Transmission train set double label class distribution\")\n","# show plot\n","plt.show()"],"execution_count":null,"outputs":[]},{"cell_type":"markdown","metadata":{"id":"Jl2e8HrYxnLo"},"source":["#### Accuracy"]},{"cell_type":"code","metadata":{"id":"UUxXohXBs8S8","executionInfo":{"status":"ok","timestamp":1633852532874,"user_tz":-330,"elapsed":94,"user":{"displayName":"nidhir bhavsar","photoUrl":"https://lh3.googleusercontent.com/a-/AOh14Gg95LpuDvkthoTWu-5D41T2kGPI0blRTbk_n2yL=s64","userId":"11097163690288156725"}}},"source":["THRESHOLD = 0.5"],"execution_count":38,"outputs":[]},{"cell_type":"code","metadata":{"colab":{"base_uri":"https://localhost:8080/"},"id":"PU5Y47GVRaic","executionInfo":{"status":"ok","timestamp":1633852532875,"user_tz":-330,"elapsed":62,"user":{"displayName":"nidhir bhavsar","photoUrl":"https://lh3.googleusercontent.com/a-/AOh14Gg95LpuDvkthoTWu-5D41T2kGPI0blRTbk_n2yL=s64","userId":"11097163690288156725"}},"outputId":"0931668b-89f3-4a31-a8c7-5c4d1824bc61"},"source":["# calculating the accuracy of the model\n","accuracy(predictions, labels, threshold=THRESHOLD)"],"execution_count":39,"outputs":[{"output_type":"stream","name":"stderr","text":["/usr/local/lib/python3.7/dist-packages/deprecate/deprecation.py:115: LightningDeprecationWarning: The `accuracy` was deprecated since v1.3.0 in favor of `torchmetrics.functional.classification.accuracy.accuracy`. It will be removed in v1.5.0.\n","  stream(template_mgs % msg_args)\n"]},{"output_type":"execute_result","data":{"text/plain":["tensor(0.9583)"]},"metadata":{},"execution_count":39}]},{"cell_type":"markdown","metadata":{"id":"QMhUJT1nxoyE"},"source":["#### ROC for each tag"]},{"cell_type":"code","metadata":{"colab":{"base_uri":"https://localhost:8080/"},"id":"Wkj_cQnixQcG","executionInfo":{"status":"ok","timestamp":1633852532876,"user_tz":-330,"elapsed":51,"user":{"displayName":"nidhir bhavsar","photoUrl":"https://lh3.googleusercontent.com/a-/AOh14Gg95LpuDvkthoTWu-5D41T2kGPI0blRTbk_n2yL=s64","userId":"11097163690288156725"}},"outputId":"1606eaf4-6d38-4f31-9758-06fa64f25274"},"source":["print(\"AUROC per tag\")\n","for i, name in enumerate(LABEL_COLUMNS):\n","  tag_auroc = auroc(predictions[:, i], labels[:, i], pos_label=1)\n","  print(f\"{name}: {tag_auroc}\")"],"execution_count":40,"outputs":[{"output_type":"stream","name":"stdout","text":["AUROC per tag\n","Case Report: 0.9915201663970947\n","Diagnosis: 0.9799028635025024\n","Epidemic Forecasting: 0.9920523166656494\n","Mechanism: 0.9870989322662354\n","Prevention: 0.9841985106468201\n","Transmission: 0.9884772300720215\n","Treatment: 0.9781867265701294\n"]},{"output_type":"stream","name":"stderr","text":["/usr/local/lib/python3.7/dist-packages/deprecate/deprecation.py:115: LightningDeprecationWarning: The `auroc` was deprecated since v1.3.0 in favor of `torchmetrics.functional.classification.auroc.auroc`. It will be removed in v1.5.0.\n","  stream(template_mgs % msg_args)\n"]}]},{"cell_type":"markdown","metadata":{"id":"zVkHzSD8O2_i"},"source":["#### save predictions"]},{"cell_type":"code","metadata":{"id":"Cr43BCR7W9WE"},"source":["val_pmid = val_df[\"pmid\"]"],"execution_count":null,"outputs":[]},{"cell_type":"code","metadata":{"id":"XV3X56EAO5O8"},"source":["prediction_df = pd.DataFrame(predictions.numpy(), columns=LABEL_COLUMNS)\n","label_df = pd.DataFrame(labels.numpy(), columns=LABEL_COLUMNS)\n","prediction_df[\"pmid\"] = val_pmid\n","label_df[\"pmid\"] = val_pmid\n","prediction_df = prediction_df.reindex(columns=[\"pmid\", 'Case Report', 'Diagnosis', 'Epidemic Forecasting', 'Mechanism', 'Prevention', 'Transmission', 'Treatment'])\n","label_df = label_df.reindex(columns=[\"pmid\", 'Case Report', 'Diagnosis', 'Epidemic Forecasting', 'Mechanism', 'Prevention', 'Transmission', 'Treatment'])"],"execution_count":null,"outputs":[]},{"cell_type":"code","metadata":{"id":"9h1JgGkpPN5j"},"source":["prediction_df.to_csv(\"/content/drive/MyDrive/Biocreative/Biocreative/datasets/specter_prediction.csv\", index=False)\n","label_df.to_csv(\"/content/drive/MyDrive/Biocreative/Biocreative/datasets/specter_labels.csv\", index=False)"],"execution_count":null,"outputs":[]},{"cell_type":"code","metadata":{"id":"BXCvq46oPk6q"},"source":["pred_df = pd.read_csv(\"drive/MyDrive/Biocreative/Biocreative/datasets/specter_results/specter_prediction.csv\")\n","lbl_df = pd.read_csv(\"drive/MyDrive/Biocreative/Biocreative/datasets/specter_results/specter_labels.csv\")"],"execution_count":null,"outputs":[]},{"cell_type":"code","metadata":{"id":"7GsVCWocPu1Z"},"source":["# do not run below codes\n","# pred_df.rename(columns={'Unnamed: 0': 'PMID'}, inplace=True, errors='raise')\n","# lbl_df.rename(columns={'Unnamed: 0': 'PMID'}, inplace=True, errors='raise')"],"execution_count":null,"outputs":[]},{"cell_type":"code","metadata":{"id":"38tGGWKrQJ2f"},"source":["# pred_df.to_csv(\"drive/MyDrive/Biocreative/Biocreative/datasets/specter_results/specter_prediction.csv\", index=False)\n","# lbl_df.to_csv(\"drive/MyDrive/Biocreative/Biocreative/datasets/specter_results/specter_labels.csv\", index=False)"],"execution_count":null,"outputs":[]},{"cell_type":"markdown","metadata":{"id":"0zrMwXqxx3mZ"},"source":["#### classification report for each class"]},{"cell_type":"code","metadata":{"colab":{"base_uri":"https://localhost:8080/"},"id":"vHeUP0Foxvj6","executionInfo":{"status":"ok","timestamp":1633852532877,"user_tz":-330,"elapsed":43,"user":{"displayName":"nidhir bhavsar","photoUrl":"https://lh3.googleusercontent.com/a-/AOh14Gg95LpuDvkthoTWu-5D41T2kGPI0blRTbk_n2yL=s64","userId":"11097163690288156725"}},"outputId":"54479617-2018-4c04-dd23-9bca127870d7"},"source":["y_pred = predictions.numpy()\n","y_true = labels.numpy()\n","\n","upper, lower = 1, 0\n","\n","y_pred = np.where(y_pred > 0.5, upper, lower)\n","\n","print(\n","    classification_report(\n","        y_true,\n","        y_pred,\n","        digits=4,\n","        target_names=LABEL_COLUMNS,\n","        zero_division=0\n","    )\n",")"],"execution_count":41,"outputs":[{"output_type":"stream","name":"stdout","text":["                      precision    recall  f1-score   support\n","\n","         Case Report     0.9116    0.9153    0.9135       248\n","           Diagnosis     0.8602    0.8834    0.8717       815\n","Epidemic Forecasting     0.8841    0.8735    0.8788       166\n","           Mechanism     0.9378    0.8222    0.8762       568\n","          Prevention     0.9277    0.9386    0.9331      1613\n","        Transmission     0.8580    0.8239    0.8406       352\n","           Treatment     0.9029    0.8651    0.8836      1075\n","\n","           micro avg     0.9042    0.8875    0.8958      4837\n","           macro avg     0.8975    0.8746    0.8853      4837\n","        weighted avg     0.9046    0.8875    0.8955      4837\n","         samples avg     0.9209    0.9154    0.9046      4837\n","\n"]}]},{"cell_type":"code","metadata":{"colab":{"base_uri":"https://localhost:8080/"},"id":"-AQJaDNN0AOW","executionInfo":{"status":"ok","timestamp":1633852533825,"user_tz":-330,"elapsed":982,"user":{"displayName":"nidhir bhavsar","photoUrl":"https://lh3.googleusercontent.com/a-/AOh14Gg95LpuDvkthoTWu-5D41T2kGPI0blRTbk_n2yL=s64","userId":"11097163690288156725"}},"outputId":"7645104e-a057-4bac-fcd9-21e2aec35c1a"},"source":["THRESHOLD = [0.3, 0.35, 0.4, 0.45, 0.5, 0.55, 0.6, 0.65, 0.67, 0.7, 0.75, 0.8, 0.85, 0.9, 0.95]\n","\n","for threshold in THRESHOLD:\n","  y_pred = predictions.numpy()\n","  y_true = labels.numpy()\n","\n","  upper, lower = 1, 0\n","\n","  y_pred = np.where(y_pred > threshold, upper, lower)\n","\n","  print(f\"Threshold: {threshold}\")\n","\n","  print(\n","      classification_report(\n","          y_true,\n","          y_pred,\n","          digits=4,\n","          target_names=LABEL_COLUMNS,\n","          zero_division=0\n","          )\n","      )"],"execution_count":42,"outputs":[{"output_type":"stream","name":"stdout","text":["Threshold: 0.3\n","                      precision    recall  f1-score   support\n","\n","         Case Report     0.8783    0.9315    0.9041       248\n","           Diagnosis     0.8191    0.9166    0.8651       815\n","Epidemic Forecasting     0.8563    0.8976    0.8765       166\n","           Mechanism     0.9035    0.8574    0.8799       568\n","          Prevention     0.9027    0.9603    0.9306      1613\n","        Transmission     0.8191    0.8750    0.8462       352\n","           Treatment     0.8729    0.9005    0.8864      1075\n","\n","           micro avg     0.8723    0.9177    0.8944      4837\n","           macro avg     0.8646    0.9055    0.8841      4837\n","        weighted avg     0.8731    0.9177    0.8944      4837\n","         samples avg     0.9043    0.9374    0.9059      4837\n","\n","Threshold: 0.35\n","                      precision    recall  f1-score   support\n","\n","         Case Report     0.8842    0.9234    0.9034       248\n","           Diagnosis     0.8309    0.9166    0.8716       815\n","Epidemic Forecasting     0.8655    0.8916    0.8783       166\n","           Mechanism     0.9140    0.8415    0.8763       568\n","          Prevention     0.9122    0.9535    0.9324      1613\n","        Transmission     0.8297    0.8580    0.8436       352\n","           Treatment     0.8793    0.8949    0.8870      1075\n","\n","           micro avg     0.8815    0.9105    0.8958      4837\n","           macro avg     0.8737    0.8971    0.8847      4837\n","        weighted avg     0.8824    0.9105    0.8957      4837\n","         samples avg     0.9091    0.9320    0.9065      4837\n","\n","Threshold: 0.4\n","                      precision    recall  f1-score   support\n","\n","         Case Report     0.8945    0.9234    0.9087       248\n","           Diagnosis     0.8441    0.9104    0.8760       815\n","Epidemic Forecasting     0.8706    0.8916    0.8810       166\n","           Mechanism     0.9205    0.8363    0.8764       568\n","          Prevention     0.9180    0.9504    0.9339      1613\n","        Transmission     0.8385    0.8409    0.8397       352\n","           Treatment     0.8906    0.8856    0.8881      1075\n","\n","           micro avg     0.8905    0.9045    0.8974      4837\n","           macro avg     0.8824    0.8912    0.8863      4837\n","        weighted avg     0.8911    0.9045    0.8972      4837\n","         samples avg     0.9147    0.9283    0.9078      4837\n","\n","Threshold: 0.45\n","                      precision    recall  f1-score   support\n","\n","         Case Report     0.8972    0.9153    0.9062       248\n","           Diagnosis     0.8490    0.8969    0.8723       815\n","Epidemic Forecasting     0.8802    0.8855    0.8829       166\n","           Mechanism     0.9293    0.8327    0.8784       568\n","          Prevention     0.9254    0.9461    0.9356      1613\n","        Transmission     0.8517    0.8324    0.8420       352\n","           Treatment     0.8988    0.8753    0.8869      1075\n","\n","           micro avg     0.8981    0.8968    0.8975      4837\n","           macro avg     0.8902    0.8835    0.8863      4837\n","        weighted avg     0.8987    0.8968    0.8973      4837\n","         samples avg     0.9187    0.9223    0.9071      4837\n","\n","Threshold: 0.5\n","                      precision    recall  f1-score   support\n","\n","         Case Report     0.9116    0.9153    0.9135       248\n","           Diagnosis     0.8602    0.8834    0.8717       815\n","Epidemic Forecasting     0.8841    0.8735    0.8788       166\n","           Mechanism     0.9378    0.8222    0.8762       568\n","          Prevention     0.9277    0.9386    0.9331      1613\n","        Transmission     0.8580    0.8239    0.8406       352\n","           Treatment     0.9029    0.8651    0.8836      1075\n","\n","           micro avg     0.9042    0.8875    0.8958      4837\n","           macro avg     0.8975    0.8746    0.8853      4837\n","        weighted avg     0.9046    0.8875    0.8955      4837\n","         samples avg     0.9209    0.9154    0.9046      4837\n","\n","Threshold: 0.55\n","                      precision    recall  f1-score   support\n","\n","         Case Report     0.9146    0.9073    0.9109       248\n","           Diagnosis     0.8681    0.8724    0.8703       815\n","Epidemic Forecasting     0.8896    0.8735    0.8815       166\n","           Mechanism     0.9431    0.8169    0.8755       568\n","          Prevention     0.9353    0.9324    0.9339      1613\n","        Transmission     0.8602    0.7869    0.8220       352\n","           Treatment     0.9120    0.8577    0.8840      1075\n","\n","           micro avg     0.9114    0.8782    0.8945      4837\n","           macro avg     0.9033    0.8639    0.8826      4837\n","        weighted avg     0.9116    0.8782    0.8941      4837\n","         samples avg     0.9231    0.9085    0.9023      4837\n","\n","Threshold: 0.6\n","                      precision    recall  f1-score   support\n","\n","         Case Report     0.9143    0.9032    0.9087       248\n","           Diagnosis     0.8814    0.8663    0.8738       815\n","Epidemic Forecasting     0.8875    0.8554    0.8712       166\n","           Mechanism     0.9561    0.8046    0.8738       568\n","          Prevention     0.9413    0.9244    0.9327      1613\n","        Transmission     0.8667    0.7756    0.8186       352\n","           Treatment     0.9198    0.8428    0.8796      1075\n","\n","           micro avg     0.9192    0.8681    0.8929      4837\n","           macro avg     0.9096    0.8532    0.8798      4837\n","        weighted avg     0.9195    0.8681    0.8924      4837\n","         samples avg     0.9257    0.9010    0.8998      4837\n","\n","Threshold: 0.65\n","                      precision    recall  f1-score   support\n","\n","         Case Report     0.9139    0.8992    0.9065       248\n","           Diagnosis     0.8933    0.8528    0.8726       815\n","Epidemic Forecasting     0.8868    0.8494    0.8677       166\n","           Mechanism     0.9596    0.7940    0.8690       568\n","          Prevention     0.9463    0.9175    0.9317      1613\n","        Transmission     0.8874    0.7614    0.8196       352\n","           Treatment     0.9253    0.8298    0.8749      1075\n","\n","           micro avg     0.9261    0.8580    0.8907      4837\n","           macro avg     0.9161    0.8434    0.8774      4837\n","        weighted avg     0.9263    0.8580    0.8901      4837\n","         samples avg     0.9272    0.8934    0.8966      4837\n","\n","Threshold: 0.67\n","                      precision    recall  f1-score   support\n","\n","         Case Report     0.9177    0.8992    0.9084       248\n","           Diagnosis     0.8935    0.8442    0.8681       815\n","Epidemic Forecasting     0.8861    0.8434    0.8642       166\n","           Mechanism     0.9614    0.7887    0.8665       568\n","          Prevention     0.9485    0.9132    0.9305      1613\n","        Transmission     0.8900    0.7585    0.8190       352\n","           Treatment     0.9306    0.8233    0.8736      1075\n","\n","           micro avg     0.9286    0.8526    0.8890      4837\n","           macro avg     0.9182    0.8386    0.8758      4837\n","        weighted avg     0.9288    0.8526    0.8883      4837\n","         samples avg     0.9272    0.8893    0.8943      4837\n","\n","Threshold: 0.7\n","                      precision    recall  f1-score   support\n","\n","         Case Report     0.9215    0.8992    0.9102       248\n","           Diagnosis     0.8999    0.8380    0.8679       815\n","Epidemic Forecasting     0.8968    0.8373    0.8660       166\n","           Mechanism     0.9630    0.7799    0.8619       568\n","          Prevention     0.9545    0.9107    0.9321      1613\n","        Transmission     0.8953    0.7528    0.8179       352\n","           Treatment     0.9358    0.8140    0.8706      1075\n","\n","           micro avg     0.9341    0.8470    0.8884      4837\n","           macro avg     0.9238    0.8331    0.8752      4837\n","        weighted avg     0.9342    0.8470    0.8877      4837\n","         samples avg     0.9272    0.8846    0.8922      4837\n","\n","Threshold: 0.75\n","                      precision    recall  f1-score   support\n","\n","         Case Report     0.9244    0.8871    0.9053       248\n","           Diagnosis     0.9114    0.8209    0.8638       815\n","Epidemic Forecasting     0.9013    0.8253    0.8616       166\n","           Mechanism     0.9667    0.7658    0.8546       568\n","          Prevention     0.9587    0.9058    0.9315      1613\n","        Transmission     0.9088    0.7358    0.8132       352\n","           Treatment     0.9407    0.7963    0.8625      1075\n","\n","           micro avg     0.9404    0.8346    0.8843      4837\n","           macro avg     0.9303    0.8196    0.8704      4837\n","        weighted avg     0.9403    0.8346    0.8834      4837\n","         samples avg     0.9256    0.8745    0.8859      4837\n","\n","Threshold: 0.8\n","                      precision    recall  f1-score   support\n","\n","         Case Report     0.9313    0.8750    0.9023       248\n","           Diagnosis     0.9221    0.7988    0.8560       815\n","Epidemic Forecasting     0.9060    0.8133    0.8571       166\n","           Mechanism     0.9704    0.7500    0.8461       568\n","          Prevention     0.9644    0.8903    0.9259      1613\n","        Transmission     0.9033    0.6903    0.7826       352\n","           Treatment     0.9501    0.7795    0.8564      1075\n","\n","           micro avg     0.9470    0.8158    0.8765      4837\n","           macro avg     0.9354    0.7996    0.8609      4837\n","        weighted avg     0.9467    0.8158    0.8753      4837\n","         samples avg     0.9200    0.8593    0.8747      4837\n","\n","Threshold: 0.85\n","                      precision    recall  f1-score   support\n","\n","         Case Report     0.9513    0.8669    0.9072       248\n","           Diagnosis     0.9326    0.7644    0.8402       815\n","Epidemic Forecasting     0.9149    0.7771    0.8404       166\n","           Mechanism     0.9720    0.7342    0.8365       568\n","          Prevention     0.9716    0.8692    0.9175      1613\n","        Transmission     0.9213    0.6648    0.7723       352\n","           Treatment     0.9572    0.7488    0.8403      1075\n","\n","           micro avg     0.9558    0.7908    0.8655      4837\n","           macro avg     0.9458    0.7751    0.8506      4837\n","        weighted avg     0.9552    0.7908    0.8641      4837\n","         samples avg     0.9101    0.8400    0.8593      4837\n","\n","Threshold: 0.9\n","                      precision    recall  f1-score   support\n","\n","         Case Report     0.9495    0.8347    0.8884       248\n","           Diagnosis     0.9516    0.7239    0.8223       815\n","Epidemic Forecasting     0.9389    0.7410    0.8283       166\n","           Mechanism     0.9754    0.6972    0.8131       568\n","          Prevention     0.9783    0.8376    0.9025      1613\n","        Transmission     0.9484    0.5739    0.7150       352\n","           Treatment     0.9645    0.7070    0.8159      1075\n","\n","           micro avg     0.9659    0.7503    0.8445      4837\n","           macro avg     0.9581    0.7307    0.8265      4837\n","        weighted avg     0.9654    0.7503    0.8423      4837\n","         samples avg     0.8913    0.8069    0.8319      4837\n","\n","Threshold: 0.95\n","                      precision    recall  f1-score   support\n","\n","         Case Report     0.9561    0.7903    0.8653       248\n","           Diagnosis     0.9667    0.6405    0.7705       815\n","Epidemic Forecasting     0.9655    0.6747    0.7943       166\n","           Mechanism     0.9864    0.6391    0.7756       568\n","          Prevention     0.9889    0.7743    0.8686      1613\n","        Transmission     0.9744    0.4318    0.5984       352\n","           Treatment     0.9779    0.6167    0.7564      1075\n","\n","           micro avg     0.9793    0.6734    0.7980      4837\n","           macro avg     0.9737    0.6525    0.7756      4837\n","        weighted avg     0.9789    0.6734    0.7938      4837\n","         samples avg     0.8456    0.7428    0.7748      4837\n","\n"]}]},{"cell_type":"code","metadata":{"colab":{"base_uri":"https://localhost:8080/"},"id":"PTZ9lrEttGnt","executionInfo":{"status":"ok","timestamp":1633852533826,"user_tz":-330,"elapsed":30,"user":{"displayName":"nidhir bhavsar","photoUrl":"https://lh3.googleusercontent.com/a-/AOh14Gg95LpuDvkthoTWu-5D41T2kGPI0blRTbk_n2yL=s64","userId":"11097163690288156725"}},"outputId":"9853ce51-159e-4ddb-85d0-f90c3c815bf5"},"source":["THRESHOLD = [threshold/100 for threshold in range(10, 100, 1)]\n","print(THRESHOLD)"],"execution_count":43,"outputs":[{"output_type":"stream","name":"stdout","text":["[0.1, 0.11, 0.12, 0.13, 0.14, 0.15, 0.16, 0.17, 0.18, 0.19, 0.2, 0.21, 0.22, 0.23, 0.24, 0.25, 0.26, 0.27, 0.28, 0.29, 0.3, 0.31, 0.32, 0.33, 0.34, 0.35, 0.36, 0.37, 0.38, 0.39, 0.4, 0.41, 0.42, 0.43, 0.44, 0.45, 0.46, 0.47, 0.48, 0.49, 0.5, 0.51, 0.52, 0.53, 0.54, 0.55, 0.56, 0.57, 0.58, 0.59, 0.6, 0.61, 0.62, 0.63, 0.64, 0.65, 0.66, 0.67, 0.68, 0.69, 0.7, 0.71, 0.72, 0.73, 0.74, 0.75, 0.76, 0.77, 0.78, 0.79, 0.8, 0.81, 0.82, 0.83, 0.84, 0.85, 0.86, 0.87, 0.88, 0.89, 0.9, 0.91, 0.92, 0.93, 0.94, 0.95, 0.96, 0.97, 0.98, 0.99]\n"]}]},{"cell_type":"code","metadata":{"id":"L23St_k6kWMT","executionInfo":{"status":"ok","timestamp":1633852534324,"user_tz":-330,"elapsed":505,"user":{"displayName":"nidhir bhavsar","photoUrl":"https://lh3.googleusercontent.com/a-/AOh14Gg95LpuDvkthoTWu-5D41T2kGPI0blRTbk_n2yL=s64","userId":"11097163690288156725"}}},"source":["Class_report = dict()\n","\n","for threshold in THRESHOLD:\n","  y_pred = predictions.numpy()\n","  y_true = labels.numpy()\n","\n","  upper, lower = 1, 0\n","\n","  y_pred = np.where(y_pred > threshold, upper, lower)\n","\n","  Class_report[f\"THRESHOLD:{threshold}\"] = classification_report(\n","      y_true,\n","      y_pred,\n","      target_names=LABEL_COLUMNS,\n","      zero_division=0,\n","      output_dict=True\n","  )"],"execution_count":44,"outputs":[]},{"cell_type":"code","metadata":{"id":"RO-mClKnkbyx","executionInfo":{"status":"ok","timestamp":1633852534326,"user_tz":-330,"elapsed":8,"user":{"displayName":"nidhir bhavsar","photoUrl":"https://lh3.googleusercontent.com/a-/AOh14Gg95LpuDvkthoTWu-5D41T2kGPI0blRTbk_n2yL=s64","userId":"11097163690288156725"}}},"source":["micro_F1_Scores = [Class_report[key][\"micro avg\"][\"f1-score\"] for key in Class_report.keys()]\n","macro_F1_Scores = [Class_report[key][\"macro avg\"][\"f1-score\"] for key in Class_report.keys()]"],"execution_count":45,"outputs":[]},{"cell_type":"code","metadata":{"colab":{"base_uri":"https://localhost:8080/","height":488},"id":"H22BEzj_kh69","executionInfo":{"status":"ok","timestamp":1633852535738,"user_tz":-330,"elapsed":1418,"user":{"displayName":"nidhir bhavsar","photoUrl":"https://lh3.googleusercontent.com/a-/AOh14Gg95LpuDvkthoTWu-5D41T2kGPI0blRTbk_n2yL=s64","userId":"11097163690288156725"}},"outputId":"52c21fa9-1473-4215-a267-d7400bbe5f7a"},"source":["import seaborn as sns\n","import matplotlib.pyplot as plt\n","\n","x = np.arange(10, 100, 1)/100\n","y1 = np.array(micro_F1_Scores)\n","y2 = np.array(macro_F1_Scores)\n","\n","plt.plot(x, y1, 'r')  \n","plt.plot(x, y2, 'b') \n","plt.show()"],"execution_count":46,"outputs":[{"output_type":"display_data","data":{"image/png":"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\n","text/plain":["<Figure size 864x576 with 1 Axes>"]},"metadata":{"image/png":{"width":714,"height":471}}}]},{"cell_type":"code","metadata":{"colab":{"base_uri":"https://localhost:8080/"},"id":"A1IFeN1jtH0Z","executionInfo":{"status":"ok","timestamp":1633852535739,"user_tz":-330,"elapsed":82,"user":{"displayName":"nidhir bhavsar","photoUrl":"https://lh3.googleusercontent.com/a-/AOh14Gg95LpuDvkthoTWu-5D41T2kGPI0blRTbk_n2yL=s64","userId":"11097163690288156725"}},"outputId":"b8647ffb-79ff-4bfc-9133-188ec827669d"},"source":["max(micro_F1_Scores), np.argmax(micro_F1_Scores), x[32]"],"execution_count":47,"outputs":[{"output_type":"execute_result","data":{"text/plain":["(0.8979338842975207, 34, 0.42)"]},"metadata":{},"execution_count":47}]},{"cell_type":"code","metadata":{"id":"lgPvmUBIyfN7","executionInfo":{"status":"ok","timestamp":1633852535741,"user_tz":-330,"elapsed":73,"user":{"displayName":"nidhir bhavsar","photoUrl":"https://lh3.googleusercontent.com/a-/AOh14Gg95LpuDvkthoTWu-5D41T2kGPI0blRTbk_n2yL=s64","userId":"11097163690288156725"}}},"source":["Annotation_size = {\n","    \"Type_1\": [],\n","    \"Type_2\": [],\n","    \"Type_3\": [],\n","    \"Type_4g\": []\n","}"],"execution_count":48,"outputs":[]},{"cell_type":"code","metadata":{"id":"MPULm2CxuVOF","executionInfo":{"status":"ok","timestamp":1633852535742,"user_tz":-330,"elapsed":73,"user":{"displayName":"nidhir bhavsar","photoUrl":"https://lh3.googleusercontent.com/a-/AOh14Gg95LpuDvkthoTWu-5D41T2kGPI0blRTbk_n2yL=s64","userId":"11097163690288156725"}}},"source":["for index, annotation in enumerate(labels):\n","  annotation = annotation.numpy()\n","  count = np.count_nonzero(annotation)\n","  if count == 1:\n","    Annotation_size[\"Type_1\"].append(index)\n","  elif count == 2:\n","    Annotation_size[\"Type_2\"].append(index)\n","  elif count == 3:\n","    Annotation_size[\"Type_3\"].append(index)\n","  else:\n","    Annotation_size[\"Type_4g\"].append(index)"],"execution_count":49,"outputs":[]},{"cell_type":"markdown","metadata":{"id":"MDVgcZJ8wOqs"},"source":["#### Classification Reports based on annotation counts"]},{"cell_type":"code","metadata":{"id":"9Eh98fF5uw0d","executionInfo":{"status":"ok","timestamp":1633855037758,"user_tz":-330,"elapsed":625,"user":{"displayName":"nidhir bhavsar","photoUrl":"https://lh3.googleusercontent.com/a-/AOh14Gg95LpuDvkthoTWu-5D41T2kGPI0blRTbk_n2yL=s64","userId":"11097163690288156725"}}},"source":["# Annotation equals once\n","\n","Type_1_predictions = predictions[Annotation_size[\"Type_1\"]]\n","Type_1_labels = labels[Annotation_size[\"Type_1\"]]"],"execution_count":62,"outputs":[]},{"cell_type":"code","metadata":{"colab":{"base_uri":"https://localhost:8080/","height":154},"id":"haqrr4gGsqNK","executionInfo":{"status":"ok","timestamp":1633855279992,"user_tz":-330,"elapsed":518,"user":{"displayName":"nidhir bhavsar","photoUrl":"https://lh3.googleusercontent.com/a-/AOh14Gg95LpuDvkthoTWu-5D41T2kGPI0blRTbk_n2yL=s64","userId":"11097163690288156725"}},"outputId":"29ce759d-3170-4394-b4cf-4a14e30a1a83"},"source":["val_df[\"abstract\"][830]"],"execution_count":89,"outputs":[{"output_type":"execute_result","data":{"application/vnd.google.colaboratory.intrinsic+json":{"type":"string"},"text/plain":["'PURPOSE Decentralisation decision-making central lower level organisation proposed way increase innovation make service responsive local need purpose study discover research contribute understanding decentralisation one strategy resolving challenge healthcare service delivery organisation scoping review provides example research-informed guidance decentralisation research , planning implementation FINDINGS limited empirical research management decentralisation within primary community care , useful framework assessing planning decentralisation Rapid change made workforce redesign , substitution patient co-production Research micro-decentralisation considered decentralisation literature Neither context culture , system regulation affect implementation type decentralisation recent experience suggests management decentralisation enable fast effective local change respond evolving Severe acute respiratory syndrome coronavirus 2 SARS COV-2 pandemic CONCLUSIONS Decentralisation create condition support innovation improvement locally develop primary community care Managers policy maker use appropriate decentralisation strategy address challenge workforce retention recruitment , rising care demand expectation patient opportunity researcher provide actionable knowledge change organisation management could address current challenge healthcare'"]},"metadata":{},"execution_count":89}]},{"cell_type":"code","metadata":{"colab":{"base_uri":"https://localhost:8080/"},"id":"pH1sLMcUsmRz","executionInfo":{"status":"ok","timestamp":1633855038714,"user_tz":-330,"elapsed":28,"user":{"displayName":"nidhir bhavsar","photoUrl":"https://lh3.googleusercontent.com/a-/AOh14Gg95LpuDvkthoTWu-5D41T2kGPI0blRTbk_n2yL=s64","userId":"11097163690288156725"}},"outputId":"ac835106-1ba5-4f60-c10f-d221258832e2"},"source":["print(LABEL_COLUMNS)"],"execution_count":64,"outputs":[{"output_type":"stream","name":"stdout","text":["['Case Report', 'Diagnosis', 'Epidemic Forecasting', 'Mechanism', 'Prevention', 'Transmission', 'Treatment']\n"]}]},{"cell_type":"code","metadata":{"colab":{"base_uri":"https://localhost:8080/"},"id":"SM8i3aLbrfqk","executionInfo":{"status":"ok","timestamp":1633855038716,"user_tz":-330,"elapsed":21,"user":{"displayName":"nidhir bhavsar","photoUrl":"https://lh3.googleusercontent.com/a-/AOh14Gg95LpuDvkthoTWu-5D41T2kGPI0blRTbk_n2yL=s64","userId":"11097163690288156725"}},"outputId":"e921b8ae-af4b-4554-f15c-b2ada5fbed2b"},"source":["lbl_df = pd.DataFrame(labels[Annotation_size[\"Type_1\"]].numpy(), columns=LABEL_COLUMNS)\n","lbl_df[lbl_df[\"Epidemic Forecasting\"] == 1].index"],"execution_count":65,"outputs":[{"output_type":"execute_result","data":{"text/plain":["Int64Index([  17,  118,  174,  236,  309,  367,  373,  374,  508,  525,  586,\n","             604,  616,  648,  730,  757,  763,  768,  830,  835,  920,  948,\n","             967,  968, 1025, 1058, 1067, 1078, 1103, 1181, 1190, 1254, 1265,\n","            1273, 1278, 1290, 1352, 1360, 1370, 1452, 1596, 1609, 1669, 1695,\n","            1712, 1740, 1804, 1830, 1904, 1906, 1998, 2032, 2055, 2091, 2097,\n","            2167],\n","           dtype='int64')"]},"metadata":{},"execution_count":65}]},{"cell_type":"code","metadata":{"colab":{"base_uri":"https://localhost:8080/"},"id":"eWCA2aIUsekO","executionInfo":{"status":"ok","timestamp":1633855275954,"user_tz":-330,"elapsed":517,"user":{"displayName":"nidhir bhavsar","photoUrl":"https://lh3.googleusercontent.com/a-/AOh14Gg95LpuDvkthoTWu-5D41T2kGPI0blRTbk_n2yL=s64","userId":"11097163690288156725"}},"outputId":"dd355707-9ff6-446c-f3b1-530e45f85e34"},"source":["Type_1_predictions[830, :] > 0.5"],"execution_count":88,"outputs":[{"output_type":"execute_result","data":{"text/plain":["tensor([False, False,  True, False, False, False, False])"]},"metadata":{},"execution_count":88}]},{"cell_type":"code","metadata":{"colab":{"base_uri":"https://localhost:8080/"},"id":"7ffmQVlHv0cH","executionInfo":{"status":"ok","timestamp":1633852535748,"user_tz":-330,"elapsed":42,"user":{"displayName":"nidhir bhavsar","photoUrl":"https://lh3.googleusercontent.com/a-/AOh14Gg95LpuDvkthoTWu-5D41T2kGPI0blRTbk_n2yL=s64","userId":"11097163690288156725"}},"outputId":"c3469339-a301-40e9-fbde-5a61c536938e"},"source":["y_pred = Type_1_predictions.numpy()\n","y_true = Type_1_labels.numpy()\n","\n","upper, lower = 1, 0\n","\n","y_pred = np.where(y_pred > 0.5, upper, lower)\n","\n","print(\"classification report based on Annotation count equals one\\n\")\n","\n","print(\n","    classification_report(\n","        y_true,\n","        y_pred,\n","        digits=4,\n","        target_names=LABEL_COLUMNS,\n","        zero_division=0\n","    )\n",")"],"execution_count":55,"outputs":[{"output_type":"stream","name":"stdout","text":["classification report based on Annotation count equals one\n","\n","                      precision    recall  f1-score   support\n","\n","         Case Report     0.9342    0.9153    0.9246       248\n","           Diagnosis     0.7712    0.9901    0.8671       303\n","Epidemic Forecasting     0.8000    0.9286    0.8595        56\n","           Mechanism     0.7333    0.8871    0.8029        62\n","          Prevention     0.9244    0.9724    0.9478      1194\n","        Transmission     0.5000    0.8810    0.6379        42\n","           Treatment     0.7592    0.9210    0.8323       291\n","\n","           micro avg     0.8554    0.9563    0.9030      2196\n","           macro avg     0.7746    0.9279    0.8389      2196\n","        weighted avg     0.8658    0.9563    0.9064      2196\n","         samples avg     0.9017    0.9563    0.9196      2196\n","\n"]}]},{"cell_type":"code","metadata":{"id":"WzxR60rRwaKz","executionInfo":{"status":"ok","timestamp":1633852535749,"user_tz":-330,"elapsed":36,"user":{"displayName":"nidhir bhavsar","photoUrl":"https://lh3.googleusercontent.com/a-/AOh14Gg95LpuDvkthoTWu-5D41T2kGPI0blRTbk_n2yL=s64","userId":"11097163690288156725"}}},"source":["# Annotation equals twice\n","\n","Type_1_predictions = predictions[Annotation_size[\"Type_2\"]]\n","Type_1_labels = labels[Annotation_size[\"Type_2\"]]"],"execution_count":56,"outputs":[]},{"cell_type":"code","metadata":{"colab":{"base_uri":"https://localhost:8080/"},"id":"WnVGT6MqwaK0","executionInfo":{"status":"ok","timestamp":1633852535750,"user_tz":-330,"elapsed":36,"user":{"displayName":"nidhir bhavsar","photoUrl":"https://lh3.googleusercontent.com/a-/AOh14Gg95LpuDvkthoTWu-5D41T2kGPI0blRTbk_n2yL=s64","userId":"11097163690288156725"}},"outputId":"cedbd3fb-9f0c-4e6c-bb7e-5be06111aca3"},"source":["y_pred = Type_1_predictions.numpy()\n","y_true = Type_1_labels.numpy()\n","\n","upper, lower = 1, 0\n","\n","y_pred = np.where(y_pred > 0.5, upper, lower)\n","\n","print(\"classification report based on Annotation count equals two\\n\")\n","\n","print(\n","    classification_report(\n","        y_true,\n","        y_pred,\n","        digits=4,\n","        target_names=LABEL_COLUMNS,\n","        zero_division=0\n","    )\n",")"],"execution_count":57,"outputs":[{"output_type":"stream","name":"stdout","text":["classification report based on Annotation count equals two\n","\n","                      precision    recall  f1-score   support\n","\n","         Case Report     0.0000    0.0000    0.0000         0\n","           Diagnosis     0.9280    0.8656    0.8957       387\n","Epidemic Forecasting     0.9451    0.8687    0.9053        99\n","           Mechanism     0.9744    0.8465    0.9060       404\n","          Prevention     0.9406    0.8879    0.9135       339\n","        Transmission     0.9554    0.8465    0.8977       228\n","           Treatment     0.9800    0.8774    0.9259       669\n","\n","           micro avg     0.9554    0.8674    0.9093      2126\n","           macro avg     0.8176    0.7418    0.7777      2126\n","        weighted avg     0.9589    0.8674    0.9106      2126\n","         samples avg     0.9537    0.8674    0.8933      2126\n","\n"]}]},{"cell_type":"code","metadata":{"id":"17Pt3_F7waZo","executionInfo":{"status":"ok","timestamp":1633852535751,"user_tz":-330,"elapsed":31,"user":{"displayName":"nidhir bhavsar","photoUrl":"https://lh3.googleusercontent.com/a-/AOh14Gg95LpuDvkthoTWu-5D41T2kGPI0blRTbk_n2yL=s64","userId":"11097163690288156725"}}},"source":["# Annotation equals thrice\n","\n","Type_1_predictions = predictions[Annotation_size[\"Type_3\"]]\n","Type_1_labels = labels[Annotation_size[\"Type_3\"]]"],"execution_count":58,"outputs":[]},{"cell_type":"code","metadata":{"colab":{"base_uri":"https://localhost:8080/"},"id":"ee5F7yQmwaZo","executionInfo":{"status":"ok","timestamp":1633852536700,"user_tz":-330,"elapsed":18,"user":{"displayName":"nidhir bhavsar","photoUrl":"https://lh3.googleusercontent.com/a-/AOh14Gg95LpuDvkthoTWu-5D41T2kGPI0blRTbk_n2yL=s64","userId":"11097163690288156725"}},"outputId":"b61d904c-e948-4e43-d774-a43991feb315"},"source":["y_pred = Type_1_predictions.numpy()\n","y_true = Type_1_labels.numpy()\n","\n","upper, lower = 1, 0\n","\n","y_pred = np.where(y_pred > 0.5, upper, lower)\n","\n","print(\"classification report based on Annotation count equals three\\n\")\n","\n","print(\n","    classification_report(\n","        y_true,\n","        y_pred,\n","        digits=4,\n","        target_names=LABEL_COLUMNS,\n","        zero_division=0\n","    )\n",")"],"execution_count":59,"outputs":[{"output_type":"stream","name":"stdout","text":["classification report based on Annotation count equals three\n","\n","                      precision    recall  f1-score   support\n","\n","         Case Report     0.0000    0.0000    0.0000         0\n","           Diagnosis     0.9730    0.6923    0.8090       104\n","Epidemic Forecasting     0.8750    0.6364    0.7368        11\n","           Mechanism     0.9672    0.7024    0.8138        84\n","          Prevention     0.9130    0.6462    0.7568        65\n","        Transmission     0.9615    0.7353    0.8333        68\n","           Treatment     0.9545    0.6495    0.7730        97\n","\n","           micro avg     0.9544    0.6830    0.7962       429\n","           macro avg     0.8063    0.5803    0.6747       429\n","        weighted avg     0.9543    0.6830    0.7959       429\n","         samples avg     0.9604    0.6830    0.7820       429\n","\n"]}]},{"cell_type":"code","metadata":{"id":"eWMRmbAiwamJ"},"source":["# Annotation equals more than 4\n","\n","Type_1_predictions = predictions[Annotation_size[\"Type_4g\"]]\n","Type_1_labels = labels[Annotation_size[\"Type_4g\"]]"],"execution_count":null,"outputs":[]},{"cell_type":"code","metadata":{"colab":{"base_uri":"https://localhost:8080/"},"id":"SahUndPawamJ","executionInfo":{"status":"ok","timestamp":1633784471022,"user_tz":-330,"elapsed":30,"user":{"displayName":"akash bhatnagar","photoUrl":"https://lh3.googleusercontent.com/a-/AOh14Ggfz_ZH_gbFwlGdDOUQqu21fSUnvu801ZwUAXEn8A=s64","userId":"11378190703843694608"}},"outputId":"11745933-a5e3-47d1-9ff1-590d3379a178"},"source":["y_pred = Type_1_predictions.numpy()\n","y_true = Type_1_labels.numpy()\n","\n","upper, lower = 1, 0\n","\n","y_pred = np.where(y_pred > 0.5, upper, lower)\n","\n","print(\"classification report based on Annotation count equals more than 4\\n\")\n","\n","print(\n","    classification_report(\n","        y_true,\n","        y_pred,\n","        digits=4,\n","        target_names=LABEL_COLUMNS,\n","        zero_division=0\n","    )\n",")"],"execution_count":null,"outputs":[{"output_type":"stream","name":"stdout","text":["classification report based on Annotation count equals more than 4\n","\n","                      precision    recall  f1-score   support\n","\n","         Case Report     0.0000    0.0000    0.0000         0\n","           Diagnosis     1.0000    0.6190    0.7647        21\n","Epidemic Forecasting     0.0000    0.0000    0.0000         0\n","           Mechanism     1.0000    0.6111    0.7586        18\n","          Prevention     1.0000    0.6667    0.8000        15\n","        Transmission     1.0000    0.7143    0.8333        14\n","           Treatment     1.0000    0.6667    0.8000        18\n","\n","           micro avg     1.0000    0.6512    0.7887        86\n","           macro avg     0.7143    0.4683    0.5652        86\n","        weighted avg     1.0000    0.6512    0.7881        86\n","         samples avg     1.0000    0.6524    0.7533        86\n","\n"]}]},{"cell_type":"code","metadata":{"id":"vcBtuAszwzVh"},"source":["b1 = ['Case Report', 'Diagnosis', 'Forecasting', 'Mechanism', 'Prevention', 'Transmission', 'Treatment']\n","\n","a1 = [0.9246, 0.8671, 0.8595, 0.8029, 0.9478, 0.6379, 0.8323]\n","a2 = [None, 0.8957, 0.9053, 0.9060, 0.9135, 0.8977, 0.9259]\n","a3 = [None, 0.8090, 0.7368, 0.8138, 0.7568, 0.8333, 0.7730]\n","# a4 = [None, 0.7647, None, 0.7586, 0.8000, 0.8333, 0.8000]"],"execution_count":null,"outputs":[]},{"cell_type":"code","metadata":{"colab":{"base_uri":"https://localhost:8080/","height":509},"id":"dhpHQIS7xM7w","executionInfo":{"status":"ok","timestamp":1633787296917,"user_tz":-330,"elapsed":1522,"user":{"displayName":"akash bhatnagar","photoUrl":"https://lh3.googleusercontent.com/a-/AOh14Ggfz_ZH_gbFwlGdDOUQqu21fSUnvu801ZwUAXEn8A=s64","userId":"11378190703843694608"}},"outputId":"8eace3d5-1ae6-408c-e65d-cec34d629046"},"source":["plt.plot(b1, a1, label=\"single labels\", linestyle=\"-\", linewidth=3.0, color=\"m\")\n","plt.plot(b1, a2, label=\"dual labels\", linestyle=\"--\", linewidth=3.0, color=\"darkgoldenrod\")\n","plt.plot(b1, a3, label=\"triple labels\", linestyle=\"-.\", linewidth=3.0, color=\"forestgreen\")\n","# plt.plot(b1, a4, label=\"4\", linestyle=\":\")\n","plt.xlabel('labels', fontsize=18)\n","plt.ylabel('f1 score', fontsize=18)\n","plt.legend()  \n","plt.show()"],"execution_count":null,"outputs":[{"output_type":"display_data","data":{"image/png":"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\n","text/plain":["<Figure size 864x576 with 1 Axes>"]},"metadata":{"image/png":{"width":747,"height":492}}}]},{"cell_type":"markdown","metadata":{"id":"djf-e0qw2aMi"},"source":["#### model prediction and annotation segregation on baseline standards"]},{"cell_type":"code","metadata":{"id":"dipI9wmfv-AK"},"source":["gold_predictions = pd.read_csv(\"drive/MyDrive/Biocreative/Biocreative/datasets/baseline/prediction_label_samples.csv\")\n","gold_predictions = gold_predictions.reindex(columns=LABEL_COLUMNS)\n","# gold_predictions = gold_predictions.drop([\"PMID\"], axis=1)\n","gold_labels = pd.read_csv(\"drive/MyDrive/Biocreative/Biocreative/datasets/baseline/goldstandard_label_samples.csv\")\n","gold_labels = gold_labels.reindex(columns=LABEL_COLUMNS)\n","# gold_labels = gold_labels.drop([\"PMID\"], axis=1)"],"execution_count":null,"outputs":[]},{"cell_type":"code","metadata":{"id":"aTr-2Xoy3Cph"},"source":["gold_predictions = gold_predictions.values.tolist()\n","gold_labels = gold_labels.values.tolist()"],"execution_count":null,"outputs":[]},{"cell_type":"code","metadata":{"id":"Tz_l09BI2-nX"},"source":["Annotation_size = {\n","    \"Type_1\": [],\n","    \"Type_2\": [],\n","    \"Type_3\": [],\n","    \"Type_4g\": []\n","}"],"execution_count":null,"outputs":[]},{"cell_type":"code","metadata":{"id":"gpzvrkgs2-nY"},"source":["for index, annotation in enumerate(gold_labels):\n","\n","  annotation = np.array(annotation)\n","  count = np.count_nonzero(annotation)\n","  if count == 1:\n","    Annotation_size[\"Type_1\"].append(index)\n","  elif count == 2:\n","    Annotation_size[\"Type_2\"].append(index)\n","  elif count == 3:\n","    Annotation_size[\"Type_3\"].append(index)\n","  else:\n","    Annotation_size[\"Type_4g\"].append(index)"],"execution_count":null,"outputs":[]},{"cell_type":"code","metadata":{"id":"YQJFGdcQ4pTJ"},"source":["gold_predictions = torch.tensor(gold_predictions)\n","gold_labels = torch.tensor(gold_labels)"],"execution_count":null,"outputs":[]},{"cell_type":"code","metadata":{"id":"Xt6BLfM0247o"},"source":["# Annotation equals once\n","\n","Type_1_predictions = gold_predictions[Annotation_size[\"Type_1\"]]\n","Type_1_labels = gold_labels[Annotation_size[\"Type_1\"]]"],"execution_count":null,"outputs":[]},{"cell_type":"code","metadata":{"colab":{"base_uri":"https://localhost:8080/"},"id":"ZmBlRs6s247p","outputId":"fce217a1-808c-460d-90e0-a9587b30c0fc"},"source":["y_pred = Type_1_predictions.numpy()\n","y_true = Type_1_labels.numpy()\n","\n","upper, lower = 1, 0\n","\n","y_pred = np.where(y_pred > 0.5, upper, lower)\n","\n","print(\"classification report based on Annotation count equals one\\n\")\n","\n","print(\n","    classification_report(\n","        y_true,\n","        y_pred,\n","        digits=4,\n","        target_names=LABEL_COLUMNS,\n","        zero_division=0\n","    )\n",")"],"execution_count":null,"outputs":[{"name":"stdout","output_type":"stream","text":["classification report based on Annotation count equals one\n","\n","                      precision    recall  f1-score   support\n","\n","         Case Report     0.8636    0.7600    0.8085        50\n","           Diagnosis     0.0000    0.0000    0.0000         0\n","Epidemic Forecasting     0.9111    0.7593    0.8283        54\n","           Mechanism     0.7978    0.8161    0.8068        87\n","          Prevention     0.9475    0.9350    0.9412       908\n","        Transmission     0.6731    0.9211    0.7778        38\n","           Treatment     0.8398    0.8566    0.8481       251\n","\n","           micro avg     0.8839    0.8999    0.8918      1388\n","           macro avg     0.7190    0.7211    0.7158      1388\n","        weighted avg     0.9067    0.8999    0.9023      1388\n","         samples avg     0.8542    0.8999    0.8694      1388\n","\n"]}]},{"cell_type":"code","metadata":{"id":"5ajGWSJj247q"},"source":["# Annotation equals twice\n","\n","Type_1_predictions = gold_predictions[Annotation_size[\"Type_2\"]]\n","Type_1_labels = gold_labels[Annotation_size[\"Type_2\"]]"],"execution_count":null,"outputs":[]},{"cell_type":"code","metadata":{"colab":{"base_uri":"https://localhost:8080/"},"id":"jle3z_25247q","outputId":"37237488-e075-4353-9e37-b4465c3d0a50"},"source":["y_pred = Type_1_predictions.numpy()\n","y_true = Type_1_labels.numpy()\n","\n","upper, lower = 1, 0\n","\n","y_pred = np.where(y_pred > 0.5, upper, lower)\n","\n","print(\"classification report based on Annotation count equals two\\n\")\n","\n","print(\n","    classification_report(\n","        y_true,\n","        y_pred,\n","        digits=4,\n","        target_names=LABEL_COLUMNS,\n","        zero_division=0\n","    )\n",")"],"execution_count":null,"outputs":[{"name":"stdout","output_type":"stream","text":["classification report based on Annotation count equals two\n","\n","                      precision    recall  f1-score   support\n","\n","         Case Report     0.0000    0.0000    0.0000         0\n","           Diagnosis     0.9782    0.6793    0.8018       396\n","Epidemic Forecasting     0.9344    0.6129    0.7403        93\n","           Mechanism     0.9386    0.7880    0.8567       349\n","          Prevention     0.9029    0.8395    0.8700       299\n","        Transmission     0.9554    0.6772    0.7926       158\n","           Treatment     0.9967    0.8048    0.8905       743\n","\n","           micro avg     0.9611    0.7640    0.8513      2038\n","           macro avg     0.8152    0.6288    0.7074      2038\n","        weighted avg     0.9633    0.7640    0.8500      2038\n","         samples avg     0.9342    0.7640    0.8179      2038\n","\n"]}]},{"cell_type":"code","metadata":{"id":"MX6kg5KD247r"},"source":["# Annotation equals thrice\n","\n","Type_1_predictions = gold_predictions[Annotation_size[\"Type_3\"]]\n","Type_1_labels = gold_labels[Annotation_size[\"Type_3\"]]"],"execution_count":null,"outputs":[]},{"cell_type":"code","metadata":{"colab":{"base_uri":"https://localhost:8080/"},"id":"sioJkalO247r","outputId":"f08f6619-73d2-4f85-d73a-8172e0308f86"},"source":["y_pred = Type_1_predictions.numpy()\n","y_true = Type_1_labels.numpy()\n","\n","upper, lower = 1, 0\n","\n","y_pred = np.where(y_pred > 0.5, upper, lower)\n","\n","print(\"classification report based on Annotation count equals three\\n\")\n","\n","print(\n","    classification_report(\n","        y_true,\n","        y_pred,\n","        digits=4,\n","        target_names=LABEL_COLUMNS,\n","        zero_division=0\n","    )\n",")"],"execution_count":null,"outputs":[{"name":"stdout","output_type":"stream","text":["classification report based on Annotation count equals three\n","\n","                      precision    recall  f1-score   support\n","\n","         Case Report     0.0000    0.0000    0.0000         0\n","           Diagnosis     0.9722    0.4930    0.6542        71\n","Epidemic Forecasting     1.0000    0.4194    0.5909        31\n","           Mechanism     1.0000    0.7105    0.8308        76\n","          Prevention     0.9672    0.8551    0.9077        69\n","        Transmission     0.9815    0.6709    0.7970        79\n","           Treatment     0.9857    0.7841    0.8734        88\n","\n","           micro avg     0.9826    0.6836    0.8063       414\n","           macro avg     0.8438    0.5618    0.6649       414\n","        weighted avg     0.9832    0.6836    0.7980       414\n","         samples avg     0.9674    0.6836    0.7820       414\n","\n"]}]},{"cell_type":"code","metadata":{"id":"f8oJhrCr247s"},"source":["# Annotation equals more than 4\n","\n","Type_1_predictions = gold_predictions[Annotation_size[\"Type_4g\"]]\n","Type_1_labels = gold_labels[Annotation_size[\"Type_4g\"]]"],"execution_count":null,"outputs":[]},{"cell_type":"code","metadata":{"colab":{"base_uri":"https://localhost:8080/"},"id":"5Z3Hb9L8247t","outputId":"a7ebd398-b561-4eab-f529-368f2e8bb7bf"},"source":["y_pred = Type_1_predictions.numpy()\n","y_true = Type_1_labels.numpy()\n","\n","upper, lower = 1, 0\n","\n","y_pred = np.where(y_pred > 0.5, upper, lower)\n","\n","print(\"classification report based on Annotation count equals more than 4\\n\")\n","\n","print(\n","    classification_report(\n","        y_true,\n","        y_pred,\n","        digits=4,\n","        target_names=LABEL_COLUMNS,\n","        zero_division=0\n","    )\n",")"],"execution_count":null,"outputs":[{"name":"stdout","output_type":"stream","text":["classification report based on Annotation count equals more than 4\n","\n","                      precision    recall  f1-score   support\n","\n","         Case Report     0.0000    0.0000    0.0000         0\n","           Diagnosis     1.0000    0.4000    0.5714         5\n","Epidemic Forecasting     0.0000    0.0000    0.0000         0\n","           Mechanism     1.0000    0.5000    0.6667         6\n","          Prevention     1.0000    0.7500    0.8571         4\n","        Transmission     1.0000    0.5000    0.6667         4\n","           Treatment     1.0000    0.6000    0.7500         5\n","\n","           micro avg     1.0000    0.5417    0.7027        24\n","           macro avg     0.7143    0.3929    0.5017        24\n","        weighted avg     1.0000    0.5417    0.6959        24\n","         samples avg     0.8333    0.5417    0.6429        24\n","\n"]}]},{"cell_type":"code","metadata":{"id":"sxTgdr7z5hGN"},"source":["# test prediction"],"execution_count":null,"outputs":[]},{"cell_type":"code","metadata":{"id":"j-3RUzRnjQHp"},"source":[""],"execution_count":null,"outputs":[]}]}
=======
{
  "nbformat": 4,
  "nbformat_minor": 0,
  "metadata": {
    "accelerator": "GPU",
    "colab": {
      "name": "double_attention_specter.ipynb",
      "provenance": [],
      "collapsed_sections": [
        "pixwbhCQZzEa",
        "zVkHzSD8O2_i"
      ],
      "machine_shape": "hm"
    },
    "kernelspec": {
      "display_name": "Python 3",
      "name": "python3"
    },
    "language_info": {
      "name": "python"
    },
    "widgets": {
      "application/vnd.jupyter.widget-state+json": {
        "27e72bc658904a349498e3bf799ec682": {
          "model_module": "@jupyter-widgets/controls",
          "model_name": "HBoxModel",
          "model_module_version": "1.5.0",
          "state": {
            "_view_name": "HBoxView",
            "_dom_classes": [],
            "_model_name": "HBoxModel",
            "_view_module": "@jupyter-widgets/controls",
            "_model_module_version": "1.5.0",
            "_view_count": null,
            "_view_module_version": "1.5.0",
            "box_style": "",
            "layout": "IPY_MODEL_99b65d8b6049402c99d96566059c44c3",
            "_model_module": "@jupyter-widgets/controls",
            "children": [
              "IPY_MODEL_fa0b46a5bfad4a068dcd616dc92a9a60",
              "IPY_MODEL_46e739a13d894f658d3394c4114693b9",
              "IPY_MODEL_1707fe4801d74bf0805edf9ad3c8979b"
            ]
          }
        },
        "99b65d8b6049402c99d96566059c44c3": {
          "model_module": "@jupyter-widgets/base",
          "model_name": "LayoutModel",
          "model_module_version": "1.2.0",
          "state": {
            "_view_name": "LayoutView",
            "grid_template_rows": null,
            "right": null,
            "justify_content": null,
            "_view_module": "@jupyter-widgets/base",
            "overflow": null,
            "_model_module_version": "1.2.0",
            "_view_count": null,
            "flex_flow": null,
            "width": null,
            "min_width": null,
            "border": null,
            "align_items": null,
            "bottom": null,
            "_model_module": "@jupyter-widgets/base",
            "top": null,
            "grid_column": null,
            "overflow_y": null,
            "overflow_x": null,
            "grid_auto_flow": null,
            "grid_area": null,
            "grid_template_columns": null,
            "flex": null,
            "_model_name": "LayoutModel",
            "justify_items": null,
            "grid_row": null,
            "max_height": null,
            "align_content": null,
            "visibility": null,
            "align_self": null,
            "height": null,
            "min_height": null,
            "padding": null,
            "grid_auto_rows": null,
            "grid_gap": null,
            "max_width": null,
            "order": null,
            "_view_module_version": "1.2.0",
            "grid_template_areas": null,
            "object_position": null,
            "object_fit": null,
            "grid_auto_columns": null,
            "margin": null,
            "display": null,
            "left": null
          }
        },
        "fa0b46a5bfad4a068dcd616dc92a9a60": {
          "model_module": "@jupyter-widgets/controls",
          "model_name": "HTMLModel",
          "model_module_version": "1.5.0",
          "state": {
            "_view_name": "HTMLView",
            "style": "IPY_MODEL_4c33f0883ae049ccaa9769b0a15d3a27",
            "_dom_classes": [],
            "description": "",
            "_model_name": "HTMLModel",
            "placeholder": "​",
            "_view_module": "@jupyter-widgets/controls",
            "_model_module_version": "1.5.0",
            "value": "Downloading: 100%",
            "_view_count": null,
            "_view_module_version": "1.5.0",
            "description_tooltip": null,
            "_model_module": "@jupyter-widgets/controls",
            "layout": "IPY_MODEL_7e1e182bedf14b7b8980501aa8cd2986"
          }
        },
        "46e739a13d894f658d3394c4114693b9": {
          "model_module": "@jupyter-widgets/controls",
          "model_name": "FloatProgressModel",
          "model_module_version": "1.5.0",
          "state": {
            "_view_name": "ProgressView",
            "style": "IPY_MODEL_ded6c08b47b84389b05a33eff243aa57",
            "_dom_classes": [],
            "description": "",
            "_model_name": "FloatProgressModel",
            "bar_style": "success",
            "max": 337,
            "_view_module": "@jupyter-widgets/controls",
            "_model_module_version": "1.5.0",
            "value": 337,
            "_view_count": null,
            "_view_module_version": "1.5.0",
            "orientation": "horizontal",
            "min": 0,
            "description_tooltip": null,
            "_model_module": "@jupyter-widgets/controls",
            "layout": "IPY_MODEL_c620989ec17e4261a760473d5ebcafce"
          }
        },
        "1707fe4801d74bf0805edf9ad3c8979b": {
          "model_module": "@jupyter-widgets/controls",
          "model_name": "HTMLModel",
          "model_module_version": "1.5.0",
          "state": {
            "_view_name": "HTMLView",
            "style": "IPY_MODEL_61d2349b88ef4cef9ca0a340e12b3a88",
            "_dom_classes": [],
            "description": "",
            "_model_name": "HTMLModel",
            "placeholder": "​",
            "_view_module": "@jupyter-widgets/controls",
            "_model_module_version": "1.5.0",
            "value": " 337/337 [00:00&lt;00:00, 12.4kB/s]",
            "_view_count": null,
            "_view_module_version": "1.5.0",
            "description_tooltip": null,
            "_model_module": "@jupyter-widgets/controls",
            "layout": "IPY_MODEL_7a18fce7e87e4efda9b636929707de7c"
          }
        },
        "4c33f0883ae049ccaa9769b0a15d3a27": {
          "model_module": "@jupyter-widgets/controls",
          "model_name": "DescriptionStyleModel",
          "model_module_version": "1.5.0",
          "state": {
            "_view_name": "StyleView",
            "_model_name": "DescriptionStyleModel",
            "description_width": "",
            "_view_module": "@jupyter-widgets/base",
            "_model_module_version": "1.5.0",
            "_view_count": null,
            "_view_module_version": "1.2.0",
            "_model_module": "@jupyter-widgets/controls"
          }
        },
        "7e1e182bedf14b7b8980501aa8cd2986": {
          "model_module": "@jupyter-widgets/base",
          "model_name": "LayoutModel",
          "model_module_version": "1.2.0",
          "state": {
            "_view_name": "LayoutView",
            "grid_template_rows": null,
            "right": null,
            "justify_content": null,
            "_view_module": "@jupyter-widgets/base",
            "overflow": null,
            "_model_module_version": "1.2.0",
            "_view_count": null,
            "flex_flow": null,
            "width": null,
            "min_width": null,
            "border": null,
            "align_items": null,
            "bottom": null,
            "_model_module": "@jupyter-widgets/base",
            "top": null,
            "grid_column": null,
            "overflow_y": null,
            "overflow_x": null,
            "grid_auto_flow": null,
            "grid_area": null,
            "grid_template_columns": null,
            "flex": null,
            "_model_name": "LayoutModel",
            "justify_items": null,
            "grid_row": null,
            "max_height": null,
            "align_content": null,
            "visibility": null,
            "align_self": null,
            "height": null,
            "min_height": null,
            "padding": null,
            "grid_auto_rows": null,
            "grid_gap": null,
            "max_width": null,
            "order": null,
            "_view_module_version": "1.2.0",
            "grid_template_areas": null,
            "object_position": null,
            "object_fit": null,
            "grid_auto_columns": null,
            "margin": null,
            "display": null,
            "left": null
          }
        },
        "ded6c08b47b84389b05a33eff243aa57": {
          "model_module": "@jupyter-widgets/controls",
          "model_name": "ProgressStyleModel",
          "model_module_version": "1.5.0",
          "state": {
            "_view_name": "StyleView",
            "_model_name": "ProgressStyleModel",
            "description_width": "",
            "_view_module": "@jupyter-widgets/base",
            "_model_module_version": "1.5.0",
            "_view_count": null,
            "_view_module_version": "1.2.0",
            "bar_color": null,
            "_model_module": "@jupyter-widgets/controls"
          }
        },
        "c620989ec17e4261a760473d5ebcafce": {
          "model_module": "@jupyter-widgets/base",
          "model_name": "LayoutModel",
          "model_module_version": "1.2.0",
          "state": {
            "_view_name": "LayoutView",
            "grid_template_rows": null,
            "right": null,
            "justify_content": null,
            "_view_module": "@jupyter-widgets/base",
            "overflow": null,
            "_model_module_version": "1.2.0",
            "_view_count": null,
            "flex_flow": null,
            "width": null,
            "min_width": null,
            "border": null,
            "align_items": null,
            "bottom": null,
            "_model_module": "@jupyter-widgets/base",
            "top": null,
            "grid_column": null,
            "overflow_y": null,
            "overflow_x": null,
            "grid_auto_flow": null,
            "grid_area": null,
            "grid_template_columns": null,
            "flex": null,
            "_model_name": "LayoutModel",
            "justify_items": null,
            "grid_row": null,
            "max_height": null,
            "align_content": null,
            "visibility": null,
            "align_self": null,
            "height": null,
            "min_height": null,
            "padding": null,
            "grid_auto_rows": null,
            "grid_gap": null,
            "max_width": null,
            "order": null,
            "_view_module_version": "1.2.0",
            "grid_template_areas": null,
            "object_position": null,
            "object_fit": null,
            "grid_auto_columns": null,
            "margin": null,
            "display": null,
            "left": null
          }
        },
        "61d2349b88ef4cef9ca0a340e12b3a88": {
          "model_module": "@jupyter-widgets/controls",
          "model_name": "DescriptionStyleModel",
          "model_module_version": "1.5.0",
          "state": {
            "_view_name": "StyleView",
            "_model_name": "DescriptionStyleModel",
            "description_width": "",
            "_view_module": "@jupyter-widgets/base",
            "_model_module_version": "1.5.0",
            "_view_count": null,
            "_view_module_version": "1.2.0",
            "_model_module": "@jupyter-widgets/controls"
          }
        },
        "7a18fce7e87e4efda9b636929707de7c": {
          "model_module": "@jupyter-widgets/base",
          "model_name": "LayoutModel",
          "model_module_version": "1.2.0",
          "state": {
            "_view_name": "LayoutView",
            "grid_template_rows": null,
            "right": null,
            "justify_content": null,
            "_view_module": "@jupyter-widgets/base",
            "overflow": null,
            "_model_module_version": "1.2.0",
            "_view_count": null,
            "flex_flow": null,
            "width": null,
            "min_width": null,
            "border": null,
            "align_items": null,
            "bottom": null,
            "_model_module": "@jupyter-widgets/base",
            "top": null,
            "grid_column": null,
            "overflow_y": null,
            "overflow_x": null,
            "grid_auto_flow": null,
            "grid_area": null,
            "grid_template_columns": null,
            "flex": null,
            "_model_name": "LayoutModel",
            "justify_items": null,
            "grid_row": null,
            "max_height": null,
            "align_content": null,
            "visibility": null,
            "align_self": null,
            "height": null,
            "min_height": null,
            "padding": null,
            "grid_auto_rows": null,
            "grid_gap": null,
            "max_width": null,
            "order": null,
            "_view_module_version": "1.2.0",
            "grid_template_areas": null,
            "object_position": null,
            "object_fit": null,
            "grid_auto_columns": null,
            "margin": null,
            "display": null,
            "left": null
          }
        },
        "00246a52fe9d44ef92ee52a39b258886": {
          "model_module": "@jupyter-widgets/controls",
          "model_name": "HBoxModel",
          "model_module_version": "1.5.0",
          "state": {
            "_view_name": "HBoxView",
            "_dom_classes": [],
            "_model_name": "HBoxModel",
            "_view_module": "@jupyter-widgets/controls",
            "_model_module_version": "1.5.0",
            "_view_count": null,
            "_view_module_version": "1.5.0",
            "box_style": "",
            "layout": "IPY_MODEL_0190f83f01444f67b56ba49f57ef0212",
            "_model_module": "@jupyter-widgets/controls",
            "children": [
              "IPY_MODEL_790a87bf9b71420e8ce5baf83ccdc28c",
              "IPY_MODEL_6769892e88ce47f8bb4010228f5aa824",
              "IPY_MODEL_371ecf24e60b4bdeba898bc90d79928c"
            ]
          }
        },
        "0190f83f01444f67b56ba49f57ef0212": {
          "model_module": "@jupyter-widgets/base",
          "model_name": "LayoutModel",
          "model_module_version": "1.2.0",
          "state": {
            "_view_name": "LayoutView",
            "grid_template_rows": null,
            "right": null,
            "justify_content": null,
            "_view_module": "@jupyter-widgets/base",
            "overflow": null,
            "_model_module_version": "1.2.0",
            "_view_count": null,
            "flex_flow": null,
            "width": null,
            "min_width": null,
            "border": null,
            "align_items": null,
            "bottom": null,
            "_model_module": "@jupyter-widgets/base",
            "top": null,
            "grid_column": null,
            "overflow_y": null,
            "overflow_x": null,
            "grid_auto_flow": null,
            "grid_area": null,
            "grid_template_columns": null,
            "flex": null,
            "_model_name": "LayoutModel",
            "justify_items": null,
            "grid_row": null,
            "max_height": null,
            "align_content": null,
            "visibility": null,
            "align_self": null,
            "height": null,
            "min_height": null,
            "padding": null,
            "grid_auto_rows": null,
            "grid_gap": null,
            "max_width": null,
            "order": null,
            "_view_module_version": "1.2.0",
            "grid_template_areas": null,
            "object_position": null,
            "object_fit": null,
            "grid_auto_columns": null,
            "margin": null,
            "display": null,
            "left": null
          }
        },
        "790a87bf9b71420e8ce5baf83ccdc28c": {
          "model_module": "@jupyter-widgets/controls",
          "model_name": "HTMLModel",
          "model_module_version": "1.5.0",
          "state": {
            "_view_name": "HTMLView",
            "style": "IPY_MODEL_d0638babf8ce45668ccf8fc116665d26",
            "_dom_classes": [],
            "description": "",
            "_model_name": "HTMLModel",
            "placeholder": "​",
            "_view_module": "@jupyter-widgets/controls",
            "_model_module_version": "1.5.0",
            "value": "Downloading: 100%",
            "_view_count": null,
            "_view_module_version": "1.5.0",
            "description_tooltip": null,
            "_model_module": "@jupyter-widgets/controls",
            "layout": "IPY_MODEL_bbee78df354a45f38c998b62d1622aa6"
          }
        },
        "6769892e88ce47f8bb4010228f5aa824": {
          "model_module": "@jupyter-widgets/controls",
          "model_name": "FloatProgressModel",
          "model_module_version": "1.5.0",
          "state": {
            "_view_name": "ProgressView",
            "style": "IPY_MODEL_38ab2e8f54b541ad90c2b4765b0274fd",
            "_dom_classes": [],
            "description": "",
            "_model_name": "FloatProgressModel",
            "bar_style": "success",
            "max": 226150,
            "_view_module": "@jupyter-widgets/controls",
            "_model_module_version": "1.5.0",
            "value": 226150,
            "_view_count": null,
            "_view_module_version": "1.5.0",
            "orientation": "horizontal",
            "min": 0,
            "description_tooltip": null,
            "_model_module": "@jupyter-widgets/controls",
            "layout": "IPY_MODEL_b1ade6347a724c02a949e32b8aa99434"
          }
        },
        "371ecf24e60b4bdeba898bc90d79928c": {
          "model_module": "@jupyter-widgets/controls",
          "model_name": "HTMLModel",
          "model_module_version": "1.5.0",
          "state": {
            "_view_name": "HTMLView",
            "style": "IPY_MODEL_e205aeffb7764eb8b1d21f67bffc1ecc",
            "_dom_classes": [],
            "description": "",
            "_model_name": "HTMLModel",
            "placeholder": "​",
            "_view_module": "@jupyter-widgets/controls",
            "_model_module_version": "1.5.0",
            "value": " 226k/226k [00:00&lt;00:00, 812kB/s]",
            "_view_count": null,
            "_view_module_version": "1.5.0",
            "description_tooltip": null,
            "_model_module": "@jupyter-widgets/controls",
            "layout": "IPY_MODEL_9bf876f19f31465b983c3c0fad9d79ca"
          }
        },
        "d0638babf8ce45668ccf8fc116665d26": {
          "model_module": "@jupyter-widgets/controls",
          "model_name": "DescriptionStyleModel",
          "model_module_version": "1.5.0",
          "state": {
            "_view_name": "StyleView",
            "_model_name": "DescriptionStyleModel",
            "description_width": "",
            "_view_module": "@jupyter-widgets/base",
            "_model_module_version": "1.5.0",
            "_view_count": null,
            "_view_module_version": "1.2.0",
            "_model_module": "@jupyter-widgets/controls"
          }
        },
        "bbee78df354a45f38c998b62d1622aa6": {
          "model_module": "@jupyter-widgets/base",
          "model_name": "LayoutModel",
          "model_module_version": "1.2.0",
          "state": {
            "_view_name": "LayoutView",
            "grid_template_rows": null,
            "right": null,
            "justify_content": null,
            "_view_module": "@jupyter-widgets/base",
            "overflow": null,
            "_model_module_version": "1.2.0",
            "_view_count": null,
            "flex_flow": null,
            "width": null,
            "min_width": null,
            "border": null,
            "align_items": null,
            "bottom": null,
            "_model_module": "@jupyter-widgets/base",
            "top": null,
            "grid_column": null,
            "overflow_y": null,
            "overflow_x": null,
            "grid_auto_flow": null,
            "grid_area": null,
            "grid_template_columns": null,
            "flex": null,
            "_model_name": "LayoutModel",
            "justify_items": null,
            "grid_row": null,
            "max_height": null,
            "align_content": null,
            "visibility": null,
            "align_self": null,
            "height": null,
            "min_height": null,
            "padding": null,
            "grid_auto_rows": null,
            "grid_gap": null,
            "max_width": null,
            "order": null,
            "_view_module_version": "1.2.0",
            "grid_template_areas": null,
            "object_position": null,
            "object_fit": null,
            "grid_auto_columns": null,
            "margin": null,
            "display": null,
            "left": null
          }
        },
        "38ab2e8f54b541ad90c2b4765b0274fd": {
          "model_module": "@jupyter-widgets/controls",
          "model_name": "ProgressStyleModel",
          "model_module_version": "1.5.0",
          "state": {
            "_view_name": "StyleView",
            "_model_name": "ProgressStyleModel",
            "description_width": "",
            "_view_module": "@jupyter-widgets/base",
            "_model_module_version": "1.5.0",
            "_view_count": null,
            "_view_module_version": "1.2.0",
            "bar_color": null,
            "_model_module": "@jupyter-widgets/controls"
          }
        },
        "b1ade6347a724c02a949e32b8aa99434": {
          "model_module": "@jupyter-widgets/base",
          "model_name": "LayoutModel",
          "model_module_version": "1.2.0",
          "state": {
            "_view_name": "LayoutView",
            "grid_template_rows": null,
            "right": null,
            "justify_content": null,
            "_view_module": "@jupyter-widgets/base",
            "overflow": null,
            "_model_module_version": "1.2.0",
            "_view_count": null,
            "flex_flow": null,
            "width": null,
            "min_width": null,
            "border": null,
            "align_items": null,
            "bottom": null,
            "_model_module": "@jupyter-widgets/base",
            "top": null,
            "grid_column": null,
            "overflow_y": null,
            "overflow_x": null,
            "grid_auto_flow": null,
            "grid_area": null,
            "grid_template_columns": null,
            "flex": null,
            "_model_name": "LayoutModel",
            "justify_items": null,
            "grid_row": null,
            "max_height": null,
            "align_content": null,
            "visibility": null,
            "align_self": null,
            "height": null,
            "min_height": null,
            "padding": null,
            "grid_auto_rows": null,
            "grid_gap": null,
            "max_width": null,
            "order": null,
            "_view_module_version": "1.2.0",
            "grid_template_areas": null,
            "object_position": null,
            "object_fit": null,
            "grid_auto_columns": null,
            "margin": null,
            "display": null,
            "left": null
          }
        },
        "e205aeffb7764eb8b1d21f67bffc1ecc": {
          "model_module": "@jupyter-widgets/controls",
          "model_name": "DescriptionStyleModel",
          "model_module_version": "1.5.0",
          "state": {
            "_view_name": "StyleView",
            "_model_name": "DescriptionStyleModel",
            "description_width": "",
            "_view_module": "@jupyter-widgets/base",
            "_model_module_version": "1.5.0",
            "_view_count": null,
            "_view_module_version": "1.2.0",
            "_model_module": "@jupyter-widgets/controls"
          }
        },
        "9bf876f19f31465b983c3c0fad9d79ca": {
          "model_module": "@jupyter-widgets/base",
          "model_name": "LayoutModel",
          "model_module_version": "1.2.0",
          "state": {
            "_view_name": "LayoutView",
            "grid_template_rows": null,
            "right": null,
            "justify_content": null,
            "_view_module": "@jupyter-widgets/base",
            "overflow": null,
            "_model_module_version": "1.2.0",
            "_view_count": null,
            "flex_flow": null,
            "width": null,
            "min_width": null,
            "border": null,
            "align_items": null,
            "bottom": null,
            "_model_module": "@jupyter-widgets/base",
            "top": null,
            "grid_column": null,
            "overflow_y": null,
            "overflow_x": null,
            "grid_auto_flow": null,
            "grid_area": null,
            "grid_template_columns": null,
            "flex": null,
            "_model_name": "LayoutModel",
            "justify_items": null,
            "grid_row": null,
            "max_height": null,
            "align_content": null,
            "visibility": null,
            "align_self": null,
            "height": null,
            "min_height": null,
            "padding": null,
            "grid_auto_rows": null,
            "grid_gap": null,
            "max_width": null,
            "order": null,
            "_view_module_version": "1.2.0",
            "grid_template_areas": null,
            "object_position": null,
            "object_fit": null,
            "grid_auto_columns": null,
            "margin": null,
            "display": null,
            "left": null
          }
        },
        "d2d5dc43f801499eac08b8129a29f355": {
          "model_module": "@jupyter-widgets/controls",
          "model_name": "HBoxModel",
          "model_module_version": "1.5.0",
          "state": {
            "_view_name": "HBoxView",
            "_dom_classes": [],
            "_model_name": "HBoxModel",
            "_view_module": "@jupyter-widgets/controls",
            "_model_module_version": "1.5.0",
            "_view_count": null,
            "_view_module_version": "1.5.0",
            "box_style": "",
            "layout": "IPY_MODEL_4a918a82406548c9a872fb2546055223",
            "_model_module": "@jupyter-widgets/controls",
            "children": [
              "IPY_MODEL_36f229f3d75e42ba8c654f453a558270",
              "IPY_MODEL_708dcac60e6d4f60a5e097355cdcd8b8",
              "IPY_MODEL_1053d7ca7e5c449997499066c33cf21d"
            ]
          }
        },
        "4a918a82406548c9a872fb2546055223": {
          "model_module": "@jupyter-widgets/base",
          "model_name": "LayoutModel",
          "model_module_version": "1.2.0",
          "state": {
            "_view_name": "LayoutView",
            "grid_template_rows": null,
            "right": null,
            "justify_content": null,
            "_view_module": "@jupyter-widgets/base",
            "overflow": null,
            "_model_module_version": "1.2.0",
            "_view_count": null,
            "flex_flow": null,
            "width": null,
            "min_width": null,
            "border": null,
            "align_items": null,
            "bottom": null,
            "_model_module": "@jupyter-widgets/base",
            "top": null,
            "grid_column": null,
            "overflow_y": null,
            "overflow_x": null,
            "grid_auto_flow": null,
            "grid_area": null,
            "grid_template_columns": null,
            "flex": null,
            "_model_name": "LayoutModel",
            "justify_items": null,
            "grid_row": null,
            "max_height": null,
            "align_content": null,
            "visibility": null,
            "align_self": null,
            "height": null,
            "min_height": null,
            "padding": null,
            "grid_auto_rows": null,
            "grid_gap": null,
            "max_width": null,
            "order": null,
            "_view_module_version": "1.2.0",
            "grid_template_areas": null,
            "object_position": null,
            "object_fit": null,
            "grid_auto_columns": null,
            "margin": null,
            "display": null,
            "left": null
          }
        },
        "36f229f3d75e42ba8c654f453a558270": {
          "model_module": "@jupyter-widgets/controls",
          "model_name": "HTMLModel",
          "model_module_version": "1.5.0",
          "state": {
            "_view_name": "HTMLView",
            "style": "IPY_MODEL_cb38e57217664fb1b13e25ac4204ab09",
            "_dom_classes": [],
            "description": "",
            "_model_name": "HTMLModel",
            "placeholder": "​",
            "_view_module": "@jupyter-widgets/controls",
            "_model_module_version": "1.5.0",
            "value": "Downloading: 100%",
            "_view_count": null,
            "_view_module_version": "1.5.0",
            "description_tooltip": null,
            "_model_module": "@jupyter-widgets/controls",
            "layout": "IPY_MODEL_ea44f0a688b34812a35c9a038e55b9dc"
          }
        },
        "708dcac60e6d4f60a5e097355cdcd8b8": {
          "model_module": "@jupyter-widgets/controls",
          "model_name": "FloatProgressModel",
          "model_module_version": "1.5.0",
          "state": {
            "_view_name": "ProgressView",
            "style": "IPY_MODEL_c8a4961e419b4ca3832d99273c93331b",
            "_dom_classes": [],
            "description": "",
            "_model_name": "FloatProgressModel",
            "bar_style": "success",
            "max": 321,
            "_view_module": "@jupyter-widgets/controls",
            "_model_module_version": "1.5.0",
            "value": 321,
            "_view_count": null,
            "_view_module_version": "1.5.0",
            "orientation": "horizontal",
            "min": 0,
            "description_tooltip": null,
            "_model_module": "@jupyter-widgets/controls",
            "layout": "IPY_MODEL_35ada0ed91ad4320b43423d8ebda8004"
          }
        },
        "1053d7ca7e5c449997499066c33cf21d": {
          "model_module": "@jupyter-widgets/controls",
          "model_name": "HTMLModel",
          "model_module_version": "1.5.0",
          "state": {
            "_view_name": "HTMLView",
            "style": "IPY_MODEL_eda93ce6fe854dd6848e00d532a7a27f",
            "_dom_classes": [],
            "description": "",
            "_model_name": "HTMLModel",
            "placeholder": "​",
            "_view_module": "@jupyter-widgets/controls",
            "_model_module_version": "1.5.0",
            "value": " 321/321 [00:00&lt;00:00, 14.0kB/s]",
            "_view_count": null,
            "_view_module_version": "1.5.0",
            "description_tooltip": null,
            "_model_module": "@jupyter-widgets/controls",
            "layout": "IPY_MODEL_32a242ed084e4e609fabb685b425e44b"
          }
        },
        "cb38e57217664fb1b13e25ac4204ab09": {
          "model_module": "@jupyter-widgets/controls",
          "model_name": "DescriptionStyleModel",
          "model_module_version": "1.5.0",
          "state": {
            "_view_name": "StyleView",
            "_model_name": "DescriptionStyleModel",
            "description_width": "",
            "_view_module": "@jupyter-widgets/base",
            "_model_module_version": "1.5.0",
            "_view_count": null,
            "_view_module_version": "1.2.0",
            "_model_module": "@jupyter-widgets/controls"
          }
        },
        "ea44f0a688b34812a35c9a038e55b9dc": {
          "model_module": "@jupyter-widgets/base",
          "model_name": "LayoutModel",
          "model_module_version": "1.2.0",
          "state": {
            "_view_name": "LayoutView",
            "grid_template_rows": null,
            "right": null,
            "justify_content": null,
            "_view_module": "@jupyter-widgets/base",
            "overflow": null,
            "_model_module_version": "1.2.0",
            "_view_count": null,
            "flex_flow": null,
            "width": null,
            "min_width": null,
            "border": null,
            "align_items": null,
            "bottom": null,
            "_model_module": "@jupyter-widgets/base",
            "top": null,
            "grid_column": null,
            "overflow_y": null,
            "overflow_x": null,
            "grid_auto_flow": null,
            "grid_area": null,
            "grid_template_columns": null,
            "flex": null,
            "_model_name": "LayoutModel",
            "justify_items": null,
            "grid_row": null,
            "max_height": null,
            "align_content": null,
            "visibility": null,
            "align_self": null,
            "height": null,
            "min_height": null,
            "padding": null,
            "grid_auto_rows": null,
            "grid_gap": null,
            "max_width": null,
            "order": null,
            "_view_module_version": "1.2.0",
            "grid_template_areas": null,
            "object_position": null,
            "object_fit": null,
            "grid_auto_columns": null,
            "margin": null,
            "display": null,
            "left": null
          }
        },
        "c8a4961e419b4ca3832d99273c93331b": {
          "model_module": "@jupyter-widgets/controls",
          "model_name": "ProgressStyleModel",
          "model_module_version": "1.5.0",
          "state": {
            "_view_name": "StyleView",
            "_model_name": "ProgressStyleModel",
            "description_width": "",
            "_view_module": "@jupyter-widgets/base",
            "_model_module_version": "1.5.0",
            "_view_count": null,
            "_view_module_version": "1.2.0",
            "bar_color": null,
            "_model_module": "@jupyter-widgets/controls"
          }
        },
        "35ada0ed91ad4320b43423d8ebda8004": {
          "model_module": "@jupyter-widgets/base",
          "model_name": "LayoutModel",
          "model_module_version": "1.2.0",
          "state": {
            "_view_name": "LayoutView",
            "grid_template_rows": null,
            "right": null,
            "justify_content": null,
            "_view_module": "@jupyter-widgets/base",
            "overflow": null,
            "_model_module_version": "1.2.0",
            "_view_count": null,
            "flex_flow": null,
            "width": null,
            "min_width": null,
            "border": null,
            "align_items": null,
            "bottom": null,
            "_model_module": "@jupyter-widgets/base",
            "top": null,
            "grid_column": null,
            "overflow_y": null,
            "overflow_x": null,
            "grid_auto_flow": null,
            "grid_area": null,
            "grid_template_columns": null,
            "flex": null,
            "_model_name": "LayoutModel",
            "justify_items": null,
            "grid_row": null,
            "max_height": null,
            "align_content": null,
            "visibility": null,
            "align_self": null,
            "height": null,
            "min_height": null,
            "padding": null,
            "grid_auto_rows": null,
            "grid_gap": null,
            "max_width": null,
            "order": null,
            "_view_module_version": "1.2.0",
            "grid_template_areas": null,
            "object_position": null,
            "object_fit": null,
            "grid_auto_columns": null,
            "margin": null,
            "display": null,
            "left": null
          }
        },
        "eda93ce6fe854dd6848e00d532a7a27f": {
          "model_module": "@jupyter-widgets/controls",
          "model_name": "DescriptionStyleModel",
          "model_module_version": "1.5.0",
          "state": {
            "_view_name": "StyleView",
            "_model_name": "DescriptionStyleModel",
            "description_width": "",
            "_view_module": "@jupyter-widgets/base",
            "_model_module_version": "1.5.0",
            "_view_count": null,
            "_view_module_version": "1.2.0",
            "_model_module": "@jupyter-widgets/controls"
          }
        },
        "32a242ed084e4e609fabb685b425e44b": {
          "model_module": "@jupyter-widgets/base",
          "model_name": "LayoutModel",
          "model_module_version": "1.2.0",
          "state": {
            "_view_name": "LayoutView",
            "grid_template_rows": null,
            "right": null,
            "justify_content": null,
            "_view_module": "@jupyter-widgets/base",
            "overflow": null,
            "_model_module_version": "1.2.0",
            "_view_count": null,
            "flex_flow": null,
            "width": null,
            "min_width": null,
            "border": null,
            "align_items": null,
            "bottom": null,
            "_model_module": "@jupyter-widgets/base",
            "top": null,
            "grid_column": null,
            "overflow_y": null,
            "overflow_x": null,
            "grid_auto_flow": null,
            "grid_area": null,
            "grid_template_columns": null,
            "flex": null,
            "_model_name": "LayoutModel",
            "justify_items": null,
            "grid_row": null,
            "max_height": null,
            "align_content": null,
            "visibility": null,
            "align_self": null,
            "height": null,
            "min_height": null,
            "padding": null,
            "grid_auto_rows": null,
            "grid_gap": null,
            "max_width": null,
            "order": null,
            "_view_module_version": "1.2.0",
            "grid_template_areas": null,
            "object_position": null,
            "object_fit": null,
            "grid_auto_columns": null,
            "margin": null,
            "display": null,
            "left": null
          }
        },
        "60a2587627ef477c89ba6749ae970fad": {
          "model_module": "@jupyter-widgets/controls",
          "model_name": "HBoxModel",
          "model_module_version": "1.5.0",
          "state": {
            "_view_name": "HBoxView",
            "_dom_classes": [],
            "_model_name": "HBoxModel",
            "_view_module": "@jupyter-widgets/controls",
            "_model_module_version": "1.5.0",
            "_view_count": null,
            "_view_module_version": "1.5.0",
            "box_style": "",
            "layout": "IPY_MODEL_5df73ab641324e7587fffd8911fc0b60",
            "_model_module": "@jupyter-widgets/controls",
            "children": [
              "IPY_MODEL_48b1fee5d77f4148b7e0e780b91bb297",
              "IPY_MODEL_4698da5c14bc4f439f13c5e8340fdad3",
              "IPY_MODEL_bbb72611db5e426abf76dcdf29f981eb"
            ]
          }
        },
        "5df73ab641324e7587fffd8911fc0b60": {
          "model_module": "@jupyter-widgets/base",
          "model_name": "LayoutModel",
          "model_module_version": "1.2.0",
          "state": {
            "_view_name": "LayoutView",
            "grid_template_rows": null,
            "right": null,
            "justify_content": null,
            "_view_module": "@jupyter-widgets/base",
            "overflow": null,
            "_model_module_version": "1.2.0",
            "_view_count": null,
            "flex_flow": null,
            "width": null,
            "min_width": null,
            "border": null,
            "align_items": null,
            "bottom": null,
            "_model_module": "@jupyter-widgets/base",
            "top": null,
            "grid_column": null,
            "overflow_y": null,
            "overflow_x": null,
            "grid_auto_flow": null,
            "grid_area": null,
            "grid_template_columns": null,
            "flex": null,
            "_model_name": "LayoutModel",
            "justify_items": null,
            "grid_row": null,
            "max_height": null,
            "align_content": null,
            "visibility": null,
            "align_self": null,
            "height": null,
            "min_height": null,
            "padding": null,
            "grid_auto_rows": null,
            "grid_gap": null,
            "max_width": null,
            "order": null,
            "_view_module_version": "1.2.0",
            "grid_template_areas": null,
            "object_position": null,
            "object_fit": null,
            "grid_auto_columns": null,
            "margin": null,
            "display": null,
            "left": null
          }
        },
        "48b1fee5d77f4148b7e0e780b91bb297": {
          "model_module": "@jupyter-widgets/controls",
          "model_name": "HTMLModel",
          "model_module_version": "1.5.0",
          "state": {
            "_view_name": "HTMLView",
            "style": "IPY_MODEL_11f46a0bb2b148acb74fe17cfa10816d",
            "_dom_classes": [],
            "description": "",
            "_model_name": "HTMLModel",
            "placeholder": "​",
            "_view_module": "@jupyter-widgets/controls",
            "_model_module_version": "1.5.0",
            "value": "Downloading: 100%",
            "_view_count": null,
            "_view_module_version": "1.5.0",
            "description_tooltip": null,
            "_model_module": "@jupyter-widgets/controls",
            "layout": "IPY_MODEL_873d7b43bb9e4b15aa27818e437eebd8"
          }
        },
        "4698da5c14bc4f439f13c5e8340fdad3": {
          "model_module": "@jupyter-widgets/controls",
          "model_name": "FloatProgressModel",
          "model_module_version": "1.5.0",
          "state": {
            "_view_name": "ProgressView",
            "style": "IPY_MODEL_2e8dd4b7dec745fab3bd1a7c05c5c564",
            "_dom_classes": [],
            "description": "",
            "_model_name": "FloatProgressModel",
            "bar_style": "success",
            "max": 612,
            "_view_module": "@jupyter-widgets/controls",
            "_model_module_version": "1.5.0",
            "value": 612,
            "_view_count": null,
            "_view_module_version": "1.5.0",
            "orientation": "horizontal",
            "min": 0,
            "description_tooltip": null,
            "_model_module": "@jupyter-widgets/controls",
            "layout": "IPY_MODEL_a878c6cc6e2449468982f88e7e2e276c"
          }
        },
        "bbb72611db5e426abf76dcdf29f981eb": {
          "model_module": "@jupyter-widgets/controls",
          "model_name": "HTMLModel",
          "model_module_version": "1.5.0",
          "state": {
            "_view_name": "HTMLView",
            "style": "IPY_MODEL_99d12074934745ceb4f5e68366044484",
            "_dom_classes": [],
            "description": "",
            "_model_name": "HTMLModel",
            "placeholder": "​",
            "_view_module": "@jupyter-widgets/controls",
            "_model_module_version": "1.5.0",
            "value": " 612/612 [00:00&lt;00:00, 26.0kB/s]",
            "_view_count": null,
            "_view_module_version": "1.5.0",
            "description_tooltip": null,
            "_model_module": "@jupyter-widgets/controls",
            "layout": "IPY_MODEL_2e5f98f0e08d45c1b55bee1cf17a0da1"
          }
        },
        "11f46a0bb2b148acb74fe17cfa10816d": {
          "model_module": "@jupyter-widgets/controls",
          "model_name": "DescriptionStyleModel",
          "model_module_version": "1.5.0",
          "state": {
            "_view_name": "StyleView",
            "_model_name": "DescriptionStyleModel",
            "description_width": "",
            "_view_module": "@jupyter-widgets/base",
            "_model_module_version": "1.5.0",
            "_view_count": null,
            "_view_module_version": "1.2.0",
            "_model_module": "@jupyter-widgets/controls"
          }
        },
        "873d7b43bb9e4b15aa27818e437eebd8": {
          "model_module": "@jupyter-widgets/base",
          "model_name": "LayoutModel",
          "model_module_version": "1.2.0",
          "state": {
            "_view_name": "LayoutView",
            "grid_template_rows": null,
            "right": null,
            "justify_content": null,
            "_view_module": "@jupyter-widgets/base",
            "overflow": null,
            "_model_module_version": "1.2.0",
            "_view_count": null,
            "flex_flow": null,
            "width": null,
            "min_width": null,
            "border": null,
            "align_items": null,
            "bottom": null,
            "_model_module": "@jupyter-widgets/base",
            "top": null,
            "grid_column": null,
            "overflow_y": null,
            "overflow_x": null,
            "grid_auto_flow": null,
            "grid_area": null,
            "grid_template_columns": null,
            "flex": null,
            "_model_name": "LayoutModel",
            "justify_items": null,
            "grid_row": null,
            "max_height": null,
            "align_content": null,
            "visibility": null,
            "align_self": null,
            "height": null,
            "min_height": null,
            "padding": null,
            "grid_auto_rows": null,
            "grid_gap": null,
            "max_width": null,
            "order": null,
            "_view_module_version": "1.2.0",
            "grid_template_areas": null,
            "object_position": null,
            "object_fit": null,
            "grid_auto_columns": null,
            "margin": null,
            "display": null,
            "left": null
          }
        },
        "2e8dd4b7dec745fab3bd1a7c05c5c564": {
          "model_module": "@jupyter-widgets/controls",
          "model_name": "ProgressStyleModel",
          "model_module_version": "1.5.0",
          "state": {
            "_view_name": "StyleView",
            "_model_name": "ProgressStyleModel",
            "description_width": "",
            "_view_module": "@jupyter-widgets/base",
            "_model_module_version": "1.5.0",
            "_view_count": null,
            "_view_module_version": "1.2.0",
            "bar_color": null,
            "_model_module": "@jupyter-widgets/controls"
          }
        },
        "a878c6cc6e2449468982f88e7e2e276c": {
          "model_module": "@jupyter-widgets/base",
          "model_name": "LayoutModel",
          "model_module_version": "1.2.0",
          "state": {
            "_view_name": "LayoutView",
            "grid_template_rows": null,
            "right": null,
            "justify_content": null,
            "_view_module": "@jupyter-widgets/base",
            "overflow": null,
            "_model_module_version": "1.2.0",
            "_view_count": null,
            "flex_flow": null,
            "width": null,
            "min_width": null,
            "border": null,
            "align_items": null,
            "bottom": null,
            "_model_module": "@jupyter-widgets/base",
            "top": null,
            "grid_column": null,
            "overflow_y": null,
            "overflow_x": null,
            "grid_auto_flow": null,
            "grid_area": null,
            "grid_template_columns": null,
            "flex": null,
            "_model_name": "LayoutModel",
            "justify_items": null,
            "grid_row": null,
            "max_height": null,
            "align_content": null,
            "visibility": null,
            "align_self": null,
            "height": null,
            "min_height": null,
            "padding": null,
            "grid_auto_rows": null,
            "grid_gap": null,
            "max_width": null,
            "order": null,
            "_view_module_version": "1.2.0",
            "grid_template_areas": null,
            "object_position": null,
            "object_fit": null,
            "grid_auto_columns": null,
            "margin": null,
            "display": null,
            "left": null
          }
        },
        "99d12074934745ceb4f5e68366044484": {
          "model_module": "@jupyter-widgets/controls",
          "model_name": "DescriptionStyleModel",
          "model_module_version": "1.5.0",
          "state": {
            "_view_name": "StyleView",
            "_model_name": "DescriptionStyleModel",
            "description_width": "",
            "_view_module": "@jupyter-widgets/base",
            "_model_module_version": "1.5.0",
            "_view_count": null,
            "_view_module_version": "1.2.0",
            "_model_module": "@jupyter-widgets/controls"
          }
        },
        "2e5f98f0e08d45c1b55bee1cf17a0da1": {
          "model_module": "@jupyter-widgets/base",
          "model_name": "LayoutModel",
          "model_module_version": "1.2.0",
          "state": {
            "_view_name": "LayoutView",
            "grid_template_rows": null,
            "right": null,
            "justify_content": null,
            "_view_module": "@jupyter-widgets/base",
            "overflow": null,
            "_model_module_version": "1.2.0",
            "_view_count": null,
            "flex_flow": null,
            "width": null,
            "min_width": null,
            "border": null,
            "align_items": null,
            "bottom": null,
            "_model_module": "@jupyter-widgets/base",
            "top": null,
            "grid_column": null,
            "overflow_y": null,
            "overflow_x": null,
            "grid_auto_flow": null,
            "grid_area": null,
            "grid_template_columns": null,
            "flex": null,
            "_model_name": "LayoutModel",
            "justify_items": null,
            "grid_row": null,
            "max_height": null,
            "align_content": null,
            "visibility": null,
            "align_self": null,
            "height": null,
            "min_height": null,
            "padding": null,
            "grid_auto_rows": null,
            "grid_gap": null,
            "max_width": null,
            "order": null,
            "_view_module_version": "1.2.0",
            "grid_template_areas": null,
            "object_position": null,
            "object_fit": null,
            "grid_auto_columns": null,
            "margin": null,
            "display": null,
            "left": null
          }
        },
        "b7146d17c242475fb71f802f3e8a871a": {
          "model_module": "@jupyter-widgets/controls",
          "model_name": "HBoxModel",
          "model_module_version": "1.5.0",
          "state": {
            "_view_name": "HBoxView",
            "_dom_classes": [],
            "_model_name": "HBoxModel",
            "_view_module": "@jupyter-widgets/controls",
            "_model_module_version": "1.5.0",
            "_view_count": null,
            "_view_module_version": "1.5.0",
            "box_style": "",
            "layout": "IPY_MODEL_f76efc4f8c9b46cb9d473a599d4237b4",
            "_model_module": "@jupyter-widgets/controls",
            "children": [
              "IPY_MODEL_b35bd27895f44f90b22e272d2f89d3ce",
              "IPY_MODEL_1ab1b32bbdd941e2a46c33f1b23cd7ff",
              "IPY_MODEL_08948771918b4cb08a4b6a8dc6b55716"
            ]
          }
        },
        "f76efc4f8c9b46cb9d473a599d4237b4": {
          "model_module": "@jupyter-widgets/base",
          "model_name": "LayoutModel",
          "model_module_version": "1.2.0",
          "state": {
            "_view_name": "LayoutView",
            "grid_template_rows": null,
            "right": null,
            "justify_content": null,
            "_view_module": "@jupyter-widgets/base",
            "overflow": null,
            "_model_module_version": "1.2.0",
            "_view_count": null,
            "flex_flow": null,
            "width": null,
            "min_width": null,
            "border": null,
            "align_items": null,
            "bottom": null,
            "_model_module": "@jupyter-widgets/base",
            "top": null,
            "grid_column": null,
            "overflow_y": null,
            "overflow_x": null,
            "grid_auto_flow": null,
            "grid_area": null,
            "grid_template_columns": null,
            "flex": null,
            "_model_name": "LayoutModel",
            "justify_items": null,
            "grid_row": null,
            "max_height": null,
            "align_content": null,
            "visibility": null,
            "align_self": null,
            "height": null,
            "min_height": null,
            "padding": null,
            "grid_auto_rows": null,
            "grid_gap": null,
            "max_width": null,
            "order": null,
            "_view_module_version": "1.2.0",
            "grid_template_areas": null,
            "object_position": null,
            "object_fit": null,
            "grid_auto_columns": null,
            "margin": null,
            "display": null,
            "left": null
          }
        },
        "b35bd27895f44f90b22e272d2f89d3ce": {
          "model_module": "@jupyter-widgets/controls",
          "model_name": "HTMLModel",
          "model_module_version": "1.5.0",
          "state": {
            "_view_name": "HTMLView",
            "style": "IPY_MODEL_8393d989b8b24f3e9ec0bf641e4bf271",
            "_dom_classes": [],
            "description": "",
            "_model_name": "HTMLModel",
            "placeholder": "​",
            "_view_module": "@jupyter-widgets/controls",
            "_model_module_version": "1.5.0",
            "value": "Downloading: 100%",
            "_view_count": null,
            "_view_module_version": "1.5.0",
            "description_tooltip": null,
            "_model_module": "@jupyter-widgets/controls",
            "layout": "IPY_MODEL_873f8ddd35634886adf30fdc59918300"
          }
        },
        "1ab1b32bbdd941e2a46c33f1b23cd7ff": {
          "model_module": "@jupyter-widgets/controls",
          "model_name": "FloatProgressModel",
          "model_module_version": "1.5.0",
          "state": {
            "_view_name": "ProgressView",
            "style": "IPY_MODEL_bad7a2a8f0ad40ff860d3b467906d090",
            "_dom_classes": [],
            "description": "",
            "_model_name": "FloatProgressModel",
            "bar_style": "success",
            "max": 222296,
            "_view_module": "@jupyter-widgets/controls",
            "_model_module_version": "1.5.0",
            "value": 222296,
            "_view_count": null,
            "_view_module_version": "1.5.0",
            "orientation": "horizontal",
            "min": 0,
            "description_tooltip": null,
            "_model_module": "@jupyter-widgets/controls",
            "layout": "IPY_MODEL_f5697253988a4cf084adcb835a1d2ec5"
          }
        },
        "08948771918b4cb08a4b6a8dc6b55716": {
          "model_module": "@jupyter-widgets/controls",
          "model_name": "HTMLModel",
          "model_module_version": "1.5.0",
          "state": {
            "_view_name": "HTMLView",
            "style": "IPY_MODEL_044d834c75904b3da552df5045ebaff3",
            "_dom_classes": [],
            "description": "",
            "_model_name": "HTMLModel",
            "placeholder": "​",
            "_view_module": "@jupyter-widgets/controls",
            "_model_module_version": "1.5.0",
            "value": " 222k/222k [00:00&lt;00:00, 878kB/s]",
            "_view_count": null,
            "_view_module_version": "1.5.0",
            "description_tooltip": null,
            "_model_module": "@jupyter-widgets/controls",
            "layout": "IPY_MODEL_e95db6e5ff954b6c84adf393bac65270"
          }
        },
        "8393d989b8b24f3e9ec0bf641e4bf271": {
          "model_module": "@jupyter-widgets/controls",
          "model_name": "DescriptionStyleModel",
          "model_module_version": "1.5.0",
          "state": {
            "_view_name": "StyleView",
            "_model_name": "DescriptionStyleModel",
            "description_width": "",
            "_view_module": "@jupyter-widgets/base",
            "_model_module_version": "1.5.0",
            "_view_count": null,
            "_view_module_version": "1.2.0",
            "_model_module": "@jupyter-widgets/controls"
          }
        },
        "873f8ddd35634886adf30fdc59918300": {
          "model_module": "@jupyter-widgets/base",
          "model_name": "LayoutModel",
          "model_module_version": "1.2.0",
          "state": {
            "_view_name": "LayoutView",
            "grid_template_rows": null,
            "right": null,
            "justify_content": null,
            "_view_module": "@jupyter-widgets/base",
            "overflow": null,
            "_model_module_version": "1.2.0",
            "_view_count": null,
            "flex_flow": null,
            "width": null,
            "min_width": null,
            "border": null,
            "align_items": null,
            "bottom": null,
            "_model_module": "@jupyter-widgets/base",
            "top": null,
            "grid_column": null,
            "overflow_y": null,
            "overflow_x": null,
            "grid_auto_flow": null,
            "grid_area": null,
            "grid_template_columns": null,
            "flex": null,
            "_model_name": "LayoutModel",
            "justify_items": null,
            "grid_row": null,
            "max_height": null,
            "align_content": null,
            "visibility": null,
            "align_self": null,
            "height": null,
            "min_height": null,
            "padding": null,
            "grid_auto_rows": null,
            "grid_gap": null,
            "max_width": null,
            "order": null,
            "_view_module_version": "1.2.0",
            "grid_template_areas": null,
            "object_position": null,
            "object_fit": null,
            "grid_auto_columns": null,
            "margin": null,
            "display": null,
            "left": null
          }
        },
        "bad7a2a8f0ad40ff860d3b467906d090": {
          "model_module": "@jupyter-widgets/controls",
          "model_name": "ProgressStyleModel",
          "model_module_version": "1.5.0",
          "state": {
            "_view_name": "StyleView",
            "_model_name": "ProgressStyleModel",
            "description_width": "",
            "_view_module": "@jupyter-widgets/base",
            "_model_module_version": "1.5.0",
            "_view_count": null,
            "_view_module_version": "1.2.0",
            "bar_color": null,
            "_model_module": "@jupyter-widgets/controls"
          }
        },
        "f5697253988a4cf084adcb835a1d2ec5": {
          "model_module": "@jupyter-widgets/base",
          "model_name": "LayoutModel",
          "model_module_version": "1.2.0",
          "state": {
            "_view_name": "LayoutView",
            "grid_template_rows": null,
            "right": null,
            "justify_content": null,
            "_view_module": "@jupyter-widgets/base",
            "overflow": null,
            "_model_module_version": "1.2.0",
            "_view_count": null,
            "flex_flow": null,
            "width": null,
            "min_width": null,
            "border": null,
            "align_items": null,
            "bottom": null,
            "_model_module": "@jupyter-widgets/base",
            "top": null,
            "grid_column": null,
            "overflow_y": null,
            "overflow_x": null,
            "grid_auto_flow": null,
            "grid_area": null,
            "grid_template_columns": null,
            "flex": null,
            "_model_name": "LayoutModel",
            "justify_items": null,
            "grid_row": null,
            "max_height": null,
            "align_content": null,
            "visibility": null,
            "align_self": null,
            "height": null,
            "min_height": null,
            "padding": null,
            "grid_auto_rows": null,
            "grid_gap": null,
            "max_width": null,
            "order": null,
            "_view_module_version": "1.2.0",
            "grid_template_areas": null,
            "object_position": null,
            "object_fit": null,
            "grid_auto_columns": null,
            "margin": null,
            "display": null,
            "left": null
          }
        },
        "044d834c75904b3da552df5045ebaff3": {
          "model_module": "@jupyter-widgets/controls",
          "model_name": "DescriptionStyleModel",
          "model_module_version": "1.5.0",
          "state": {
            "_view_name": "StyleView",
            "_model_name": "DescriptionStyleModel",
            "description_width": "",
            "_view_module": "@jupyter-widgets/base",
            "_model_module_version": "1.5.0",
            "_view_count": null,
            "_view_module_version": "1.2.0",
            "_model_module": "@jupyter-widgets/controls"
          }
        },
        "e95db6e5ff954b6c84adf393bac65270": {
          "model_module": "@jupyter-widgets/base",
          "model_name": "LayoutModel",
          "model_module_version": "1.2.0",
          "state": {
            "_view_name": "LayoutView",
            "grid_template_rows": null,
            "right": null,
            "justify_content": null,
            "_view_module": "@jupyter-widgets/base",
            "overflow": null,
            "_model_module_version": "1.2.0",
            "_view_count": null,
            "flex_flow": null,
            "width": null,
            "min_width": null,
            "border": null,
            "align_items": null,
            "bottom": null,
            "_model_module": "@jupyter-widgets/base",
            "top": null,
            "grid_column": null,
            "overflow_y": null,
            "overflow_x": null,
            "grid_auto_flow": null,
            "grid_area": null,
            "grid_template_columns": null,
            "flex": null,
            "_model_name": "LayoutModel",
            "justify_items": null,
            "grid_row": null,
            "max_height": null,
            "align_content": null,
            "visibility": null,
            "align_self": null,
            "height": null,
            "min_height": null,
            "padding": null,
            "grid_auto_rows": null,
            "grid_gap": null,
            "max_width": null,
            "order": null,
            "_view_module_version": "1.2.0",
            "grid_template_areas": null,
            "object_position": null,
            "object_fit": null,
            "grid_auto_columns": null,
            "margin": null,
            "display": null,
            "left": null
          }
        },
        "d580e8e982904a7b969f6493ee90a806": {
          "model_module": "@jupyter-widgets/controls",
          "model_name": "HBoxModel",
          "model_module_version": "1.5.0",
          "state": {
            "_view_name": "HBoxView",
            "_dom_classes": [],
            "_model_name": "HBoxModel",
            "_view_module": "@jupyter-widgets/controls",
            "_model_module_version": "1.5.0",
            "_view_count": null,
            "_view_module_version": "1.5.0",
            "box_style": "",
            "layout": "IPY_MODEL_fa3ab8c10bb04d01b94e7c978ab7cc49",
            "_model_module": "@jupyter-widgets/controls",
            "children": [
              "IPY_MODEL_e4be62b0d84341c181e43397e5233233",
              "IPY_MODEL_2af9aa9f9d3f432aabc2906d77809d43",
              "IPY_MODEL_9d3f457191a440ed94a9185fa39e94ec"
            ]
          }
        },
        "fa3ab8c10bb04d01b94e7c978ab7cc49": {
          "model_module": "@jupyter-widgets/base",
          "model_name": "LayoutModel",
          "model_module_version": "1.2.0",
          "state": {
            "_view_name": "LayoutView",
            "grid_template_rows": null,
            "right": null,
            "justify_content": null,
            "_view_module": "@jupyter-widgets/base",
            "overflow": null,
            "_model_module_version": "1.2.0",
            "_view_count": null,
            "flex_flow": null,
            "width": null,
            "min_width": null,
            "border": null,
            "align_items": null,
            "bottom": null,
            "_model_module": "@jupyter-widgets/base",
            "top": null,
            "grid_column": null,
            "overflow_y": null,
            "overflow_x": null,
            "grid_auto_flow": null,
            "grid_area": null,
            "grid_template_columns": null,
            "flex": null,
            "_model_name": "LayoutModel",
            "justify_items": null,
            "grid_row": null,
            "max_height": null,
            "align_content": null,
            "visibility": null,
            "align_self": null,
            "height": null,
            "min_height": null,
            "padding": null,
            "grid_auto_rows": null,
            "grid_gap": null,
            "max_width": null,
            "order": null,
            "_view_module_version": "1.2.0",
            "grid_template_areas": null,
            "object_position": null,
            "object_fit": null,
            "grid_auto_columns": null,
            "margin": null,
            "display": null,
            "left": null
          }
        },
        "e4be62b0d84341c181e43397e5233233": {
          "model_module": "@jupyter-widgets/controls",
          "model_name": "HTMLModel",
          "model_module_version": "1.5.0",
          "state": {
            "_view_name": "HTMLView",
            "style": "IPY_MODEL_3f5a28dc86e24e3c93df41478073c1b9",
            "_dom_classes": [],
            "description": "",
            "_model_name": "HTMLModel",
            "placeholder": "​",
            "_view_module": "@jupyter-widgets/controls",
            "_model_module_version": "1.5.0",
            "value": "Downloading: 100%",
            "_view_count": null,
            "_view_module_version": "1.5.0",
            "description_tooltip": null,
            "_model_module": "@jupyter-widgets/controls",
            "layout": "IPY_MODEL_64eb56a53c404e858326073a2394b5c5"
          }
        },
        "2af9aa9f9d3f432aabc2906d77809d43": {
          "model_module": "@jupyter-widgets/controls",
          "model_name": "FloatProgressModel",
          "model_module_version": "1.5.0",
          "state": {
            "_view_name": "ProgressView",
            "style": "IPY_MODEL_9be8ada23e4941f7a0404cd7bfbed560",
            "_dom_classes": [],
            "description": "",
            "_model_name": "FloatProgressModel",
            "bar_style": "success",
            "max": 112,
            "_view_module": "@jupyter-widgets/controls",
            "_model_module_version": "1.5.0",
            "value": 112,
            "_view_count": null,
            "_view_module_version": "1.5.0",
            "orientation": "horizontal",
            "min": 0,
            "description_tooltip": null,
            "_model_module": "@jupyter-widgets/controls",
            "layout": "IPY_MODEL_7630b95a66b5469da765ade9c1011535"
          }
        },
        "9d3f457191a440ed94a9185fa39e94ec": {
          "model_module": "@jupyter-widgets/controls",
          "model_name": "HTMLModel",
          "model_module_version": "1.5.0",
          "state": {
            "_view_name": "HTMLView",
            "style": "IPY_MODEL_b1a12fac6ba746ffba4c728fb05bacf9",
            "_dom_classes": [],
            "description": "",
            "_model_name": "HTMLModel",
            "placeholder": "​",
            "_view_module": "@jupyter-widgets/controls",
            "_model_module_version": "1.5.0",
            "value": " 112/112 [00:00&lt;00:00, 4.24kB/s]",
            "_view_count": null,
            "_view_module_version": "1.5.0",
            "description_tooltip": null,
            "_model_module": "@jupyter-widgets/controls",
            "layout": "IPY_MODEL_00fe2999c8444a62b3d3a46e1a5f9943"
          }
        },
        "3f5a28dc86e24e3c93df41478073c1b9": {
          "model_module": "@jupyter-widgets/controls",
          "model_name": "DescriptionStyleModel",
          "model_module_version": "1.5.0",
          "state": {
            "_view_name": "StyleView",
            "_model_name": "DescriptionStyleModel",
            "description_width": "",
            "_view_module": "@jupyter-widgets/base",
            "_model_module_version": "1.5.0",
            "_view_count": null,
            "_view_module_version": "1.2.0",
            "_model_module": "@jupyter-widgets/controls"
          }
        },
        "64eb56a53c404e858326073a2394b5c5": {
          "model_module": "@jupyter-widgets/base",
          "model_name": "LayoutModel",
          "model_module_version": "1.2.0",
          "state": {
            "_view_name": "LayoutView",
            "grid_template_rows": null,
            "right": null,
            "justify_content": null,
            "_view_module": "@jupyter-widgets/base",
            "overflow": null,
            "_model_module_version": "1.2.0",
            "_view_count": null,
            "flex_flow": null,
            "width": null,
            "min_width": null,
            "border": null,
            "align_items": null,
            "bottom": null,
            "_model_module": "@jupyter-widgets/base",
            "top": null,
            "grid_column": null,
            "overflow_y": null,
            "overflow_x": null,
            "grid_auto_flow": null,
            "grid_area": null,
            "grid_template_columns": null,
            "flex": null,
            "_model_name": "LayoutModel",
            "justify_items": null,
            "grid_row": null,
            "max_height": null,
            "align_content": null,
            "visibility": null,
            "align_self": null,
            "height": null,
            "min_height": null,
            "padding": null,
            "grid_auto_rows": null,
            "grid_gap": null,
            "max_width": null,
            "order": null,
            "_view_module_version": "1.2.0",
            "grid_template_areas": null,
            "object_position": null,
            "object_fit": null,
            "grid_auto_columns": null,
            "margin": null,
            "display": null,
            "left": null
          }
        },
        "9be8ada23e4941f7a0404cd7bfbed560": {
          "model_module": "@jupyter-widgets/controls",
          "model_name": "ProgressStyleModel",
          "model_module_version": "1.5.0",
          "state": {
            "_view_name": "StyleView",
            "_model_name": "ProgressStyleModel",
            "description_width": "",
            "_view_module": "@jupyter-widgets/base",
            "_model_module_version": "1.5.0",
            "_view_count": null,
            "_view_module_version": "1.2.0",
            "bar_color": null,
            "_model_module": "@jupyter-widgets/controls"
          }
        },
        "7630b95a66b5469da765ade9c1011535": {
          "model_module": "@jupyter-widgets/base",
          "model_name": "LayoutModel",
          "model_module_version": "1.2.0",
          "state": {
            "_view_name": "LayoutView",
            "grid_template_rows": null,
            "right": null,
            "justify_content": null,
            "_view_module": "@jupyter-widgets/base",
            "overflow": null,
            "_model_module_version": "1.2.0",
            "_view_count": null,
            "flex_flow": null,
            "width": null,
            "min_width": null,
            "border": null,
            "align_items": null,
            "bottom": null,
            "_model_module": "@jupyter-widgets/base",
            "top": null,
            "grid_column": null,
            "overflow_y": null,
            "overflow_x": null,
            "grid_auto_flow": null,
            "grid_area": null,
            "grid_template_columns": null,
            "flex": null,
            "_model_name": "LayoutModel",
            "justify_items": null,
            "grid_row": null,
            "max_height": null,
            "align_content": null,
            "visibility": null,
            "align_self": null,
            "height": null,
            "min_height": null,
            "padding": null,
            "grid_auto_rows": null,
            "grid_gap": null,
            "max_width": null,
            "order": null,
            "_view_module_version": "1.2.0",
            "grid_template_areas": null,
            "object_position": null,
            "object_fit": null,
            "grid_auto_columns": null,
            "margin": null,
            "display": null,
            "left": null
          }
        },
        "b1a12fac6ba746ffba4c728fb05bacf9": {
          "model_module": "@jupyter-widgets/controls",
          "model_name": "DescriptionStyleModel",
          "model_module_version": "1.5.0",
          "state": {
            "_view_name": "StyleView",
            "_model_name": "DescriptionStyleModel",
            "description_width": "",
            "_view_module": "@jupyter-widgets/base",
            "_model_module_version": "1.5.0",
            "_view_count": null,
            "_view_module_version": "1.2.0",
            "_model_module": "@jupyter-widgets/controls"
          }
        },
        "00fe2999c8444a62b3d3a46e1a5f9943": {
          "model_module": "@jupyter-widgets/base",
          "model_name": "LayoutModel",
          "model_module_version": "1.2.0",
          "state": {
            "_view_name": "LayoutView",
            "grid_template_rows": null,
            "right": null,
            "justify_content": null,
            "_view_module": "@jupyter-widgets/base",
            "overflow": null,
            "_model_module_version": "1.2.0",
            "_view_count": null,
            "flex_flow": null,
            "width": null,
            "min_width": null,
            "border": null,
            "align_items": null,
            "bottom": null,
            "_model_module": "@jupyter-widgets/base",
            "top": null,
            "grid_column": null,
            "overflow_y": null,
            "overflow_x": null,
            "grid_auto_flow": null,
            "grid_area": null,
            "grid_template_columns": null,
            "flex": null,
            "_model_name": "LayoutModel",
            "justify_items": null,
            "grid_row": null,
            "max_height": null,
            "align_content": null,
            "visibility": null,
            "align_self": null,
            "height": null,
            "min_height": null,
            "padding": null,
            "grid_auto_rows": null,
            "grid_gap": null,
            "max_width": null,
            "order": null,
            "_view_module_version": "1.2.0",
            "grid_template_areas": null,
            "object_position": null,
            "object_fit": null,
            "grid_auto_columns": null,
            "margin": null,
            "display": null,
            "left": null
          }
        },
        "fa4c2138e5ec42bbb01e31f33f3b2860": {
          "model_module": "@jupyter-widgets/controls",
          "model_name": "HBoxModel",
          "model_module_version": "1.5.0",
          "state": {
            "_view_name": "HBoxView",
            "_dom_classes": [],
            "_model_name": "HBoxModel",
            "_view_module": "@jupyter-widgets/controls",
            "_model_module_version": "1.5.0",
            "_view_count": null,
            "_view_module_version": "1.5.0",
            "box_style": "",
            "layout": "IPY_MODEL_a1d1f247d87f41339571c468a4b8ce91",
            "_model_module": "@jupyter-widgets/controls",
            "children": [
              "IPY_MODEL_25bbcd2e0eef4e1ab7f4942efe35f249",
              "IPY_MODEL_ea1489a7b161429db110072956ccf39f",
              "IPY_MODEL_be625454afb84916b15c9c047436f3db"
            ]
          }
        },
        "a1d1f247d87f41339571c468a4b8ce91": {
          "model_module": "@jupyter-widgets/base",
          "model_name": "LayoutModel",
          "model_module_version": "1.2.0",
          "state": {
            "_view_name": "LayoutView",
            "grid_template_rows": null,
            "right": null,
            "justify_content": null,
            "_view_module": "@jupyter-widgets/base",
            "overflow": null,
            "_model_module_version": "1.2.0",
            "_view_count": null,
            "flex_flow": null,
            "width": null,
            "min_width": null,
            "border": null,
            "align_items": null,
            "bottom": null,
            "_model_module": "@jupyter-widgets/base",
            "top": null,
            "grid_column": null,
            "overflow_y": null,
            "overflow_x": null,
            "grid_auto_flow": null,
            "grid_area": null,
            "grid_template_columns": null,
            "flex": null,
            "_model_name": "LayoutModel",
            "justify_items": null,
            "grid_row": null,
            "max_height": null,
            "align_content": null,
            "visibility": null,
            "align_self": null,
            "height": null,
            "min_height": null,
            "padding": null,
            "grid_auto_rows": null,
            "grid_gap": null,
            "max_width": null,
            "order": null,
            "_view_module_version": "1.2.0",
            "grid_template_areas": null,
            "object_position": null,
            "object_fit": null,
            "grid_auto_columns": null,
            "margin": null,
            "display": null,
            "left": null
          }
        },
        "25bbcd2e0eef4e1ab7f4942efe35f249": {
          "model_module": "@jupyter-widgets/controls",
          "model_name": "HTMLModel",
          "model_module_version": "1.5.0",
          "state": {
            "_view_name": "HTMLView",
            "style": "IPY_MODEL_95a7ce3393194352a2ef5f5370aece7a",
            "_dom_classes": [],
            "description": "",
            "_model_name": "HTMLModel",
            "placeholder": "​",
            "_view_module": "@jupyter-widgets/controls",
            "_model_module_version": "1.5.0",
            "value": "Downloading: 100%",
            "_view_count": null,
            "_view_module_version": "1.5.0",
            "description_tooltip": null,
            "_model_module": "@jupyter-widgets/controls",
            "layout": "IPY_MODEL_0a07ead49a0848a38189f2d114999224"
          }
        },
        "ea1489a7b161429db110072956ccf39f": {
          "model_module": "@jupyter-widgets/controls",
          "model_name": "FloatProgressModel",
          "model_module_version": "1.5.0",
          "state": {
            "_view_name": "ProgressView",
            "style": "IPY_MODEL_c8f8d62e38a24fed8ba20d862bbfe75d",
            "_dom_classes": [],
            "description": "",
            "_model_name": "FloatProgressModel",
            "bar_style": "success",
            "max": 439803023,
            "_view_module": "@jupyter-widgets/controls",
            "_model_module_version": "1.5.0",
            "value": 439803023,
            "_view_count": null,
            "_view_module_version": "1.5.0",
            "orientation": "horizontal",
            "min": 0,
            "description_tooltip": null,
            "_model_module": "@jupyter-widgets/controls",
            "layout": "IPY_MODEL_9325262cec6b4b5b91099ef4c5d76e3c"
          }
        },
        "be625454afb84916b15c9c047436f3db": {
          "model_module": "@jupyter-widgets/controls",
          "model_name": "HTMLModel",
          "model_module_version": "1.5.0",
          "state": {
            "_view_name": "HTMLView",
            "style": "IPY_MODEL_5525fa224f9d4f3c98ff2374eae0fe3e",
            "_dom_classes": [],
            "description": "",
            "_model_name": "HTMLModel",
            "placeholder": "​",
            "_view_module": "@jupyter-widgets/controls",
            "_model_module_version": "1.5.0",
            "value": " 440M/440M [00:07&lt;00:00, 63.3MB/s]",
            "_view_count": null,
            "_view_module_version": "1.5.0",
            "description_tooltip": null,
            "_model_module": "@jupyter-widgets/controls",
            "layout": "IPY_MODEL_7ac60f4abdf4445f82fd90205bc80f33"
          }
        },
        "95a7ce3393194352a2ef5f5370aece7a": {
          "model_module": "@jupyter-widgets/controls",
          "model_name": "DescriptionStyleModel",
          "model_module_version": "1.5.0",
          "state": {
            "_view_name": "StyleView",
            "_model_name": "DescriptionStyleModel",
            "description_width": "",
            "_view_module": "@jupyter-widgets/base",
            "_model_module_version": "1.5.0",
            "_view_count": null,
            "_view_module_version": "1.2.0",
            "_model_module": "@jupyter-widgets/controls"
          }
        },
        "0a07ead49a0848a38189f2d114999224": {
          "model_module": "@jupyter-widgets/base",
          "model_name": "LayoutModel",
          "model_module_version": "1.2.0",
          "state": {
            "_view_name": "LayoutView",
            "grid_template_rows": null,
            "right": null,
            "justify_content": null,
            "_view_module": "@jupyter-widgets/base",
            "overflow": null,
            "_model_module_version": "1.2.0",
            "_view_count": null,
            "flex_flow": null,
            "width": null,
            "min_width": null,
            "border": null,
            "align_items": null,
            "bottom": null,
            "_model_module": "@jupyter-widgets/base",
            "top": null,
            "grid_column": null,
            "overflow_y": null,
            "overflow_x": null,
            "grid_auto_flow": null,
            "grid_area": null,
            "grid_template_columns": null,
            "flex": null,
            "_model_name": "LayoutModel",
            "justify_items": null,
            "grid_row": null,
            "max_height": null,
            "align_content": null,
            "visibility": null,
            "align_self": null,
            "height": null,
            "min_height": null,
            "padding": null,
            "grid_auto_rows": null,
            "grid_gap": null,
            "max_width": null,
            "order": null,
            "_view_module_version": "1.2.0",
            "grid_template_areas": null,
            "object_position": null,
            "object_fit": null,
            "grid_auto_columns": null,
            "margin": null,
            "display": null,
            "left": null
          }
        },
        "c8f8d62e38a24fed8ba20d862bbfe75d": {
          "model_module": "@jupyter-widgets/controls",
          "model_name": "ProgressStyleModel",
          "model_module_version": "1.5.0",
          "state": {
            "_view_name": "StyleView",
            "_model_name": "ProgressStyleModel",
            "description_width": "",
            "_view_module": "@jupyter-widgets/base",
            "_model_module_version": "1.5.0",
            "_view_count": null,
            "_view_module_version": "1.2.0",
            "bar_color": null,
            "_model_module": "@jupyter-widgets/controls"
          }
        },
        "9325262cec6b4b5b91099ef4c5d76e3c": {
          "model_module": "@jupyter-widgets/base",
          "model_name": "LayoutModel",
          "model_module_version": "1.2.0",
          "state": {
            "_view_name": "LayoutView",
            "grid_template_rows": null,
            "right": null,
            "justify_content": null,
            "_view_module": "@jupyter-widgets/base",
            "overflow": null,
            "_model_module_version": "1.2.0",
            "_view_count": null,
            "flex_flow": null,
            "width": null,
            "min_width": null,
            "border": null,
            "align_items": null,
            "bottom": null,
            "_model_module": "@jupyter-widgets/base",
            "top": null,
            "grid_column": null,
            "overflow_y": null,
            "overflow_x": null,
            "grid_auto_flow": null,
            "grid_area": null,
            "grid_template_columns": null,
            "flex": null,
            "_model_name": "LayoutModel",
            "justify_items": null,
            "grid_row": null,
            "max_height": null,
            "align_content": null,
            "visibility": null,
            "align_self": null,
            "height": null,
            "min_height": null,
            "padding": null,
            "grid_auto_rows": null,
            "grid_gap": null,
            "max_width": null,
            "order": null,
            "_view_module_version": "1.2.0",
            "grid_template_areas": null,
            "object_position": null,
            "object_fit": null,
            "grid_auto_columns": null,
            "margin": null,
            "display": null,
            "left": null
          }
        },
        "5525fa224f9d4f3c98ff2374eae0fe3e": {
          "model_module": "@jupyter-widgets/controls",
          "model_name": "DescriptionStyleModel",
          "model_module_version": "1.5.0",
          "state": {
            "_view_name": "StyleView",
            "_model_name": "DescriptionStyleModel",
            "description_width": "",
            "_view_module": "@jupyter-widgets/base",
            "_model_module_version": "1.5.0",
            "_view_count": null,
            "_view_module_version": "1.2.0",
            "_model_module": "@jupyter-widgets/controls"
          }
        },
        "7ac60f4abdf4445f82fd90205bc80f33": {
          "model_module": "@jupyter-widgets/base",
          "model_name": "LayoutModel",
          "model_module_version": "1.2.0",
          "state": {
            "_view_name": "LayoutView",
            "grid_template_rows": null,
            "right": null,
            "justify_content": null,
            "_view_module": "@jupyter-widgets/base",
            "overflow": null,
            "_model_module_version": "1.2.0",
            "_view_count": null,
            "flex_flow": null,
            "width": null,
            "min_width": null,
            "border": null,
            "align_items": null,
            "bottom": null,
            "_model_module": "@jupyter-widgets/base",
            "top": null,
            "grid_column": null,
            "overflow_y": null,
            "overflow_x": null,
            "grid_auto_flow": null,
            "grid_area": null,
            "grid_template_columns": null,
            "flex": null,
            "_model_name": "LayoutModel",
            "justify_items": null,
            "grid_row": null,
            "max_height": null,
            "align_content": null,
            "visibility": null,
            "align_self": null,
            "height": null,
            "min_height": null,
            "padding": null,
            "grid_auto_rows": null,
            "grid_gap": null,
            "max_width": null,
            "order": null,
            "_view_module_version": "1.2.0",
            "grid_template_areas": null,
            "object_position": null,
            "object_fit": null,
            "grid_auto_columns": null,
            "margin": null,
            "display": null,
            "left": null
          }
        },
        "d94a82f513054076a9a7b28f981d76ba": {
          "model_module": "@jupyter-widgets/controls",
          "model_name": "HBoxModel",
          "model_module_version": "1.5.0",
          "state": {
            "_view_name": "HBoxView",
            "_dom_classes": [],
            "_model_name": "HBoxModel",
            "_view_module": "@jupyter-widgets/controls",
            "_model_module_version": "1.5.0",
            "_view_count": null,
            "_view_module_version": "1.5.0",
            "box_style": "",
            "layout": "IPY_MODEL_aec738c68f62414bb8d7b7bdc4af9b55",
            "_model_module": "@jupyter-widgets/controls",
            "children": [
              "IPY_MODEL_3c3ee25ac2e7454189d59604cf7910f8",
              "IPY_MODEL_65a78033cbfe4f20b29c445d3f77c54d",
              "IPY_MODEL_38288bd1e1c548f3890c27b75ded023d"
            ]
          }
        },
        "aec738c68f62414bb8d7b7bdc4af9b55": {
          "model_module": "@jupyter-widgets/base",
          "model_name": "LayoutModel",
          "model_module_version": "1.2.0",
          "state": {
            "_view_name": "LayoutView",
            "grid_template_rows": null,
            "right": null,
            "justify_content": null,
            "_view_module": "@jupyter-widgets/base",
            "overflow": null,
            "_model_module_version": "1.2.0",
            "_view_count": null,
            "flex_flow": "row wrap",
            "width": "100%",
            "min_width": null,
            "border": null,
            "align_items": null,
            "bottom": null,
            "_model_module": "@jupyter-widgets/base",
            "top": null,
            "grid_column": null,
            "overflow_y": null,
            "overflow_x": null,
            "grid_auto_flow": null,
            "grid_area": null,
            "grid_template_columns": null,
            "flex": null,
            "_model_name": "LayoutModel",
            "justify_items": null,
            "grid_row": null,
            "max_height": null,
            "align_content": null,
            "visibility": null,
            "align_self": null,
            "height": null,
            "min_height": null,
            "padding": null,
            "grid_auto_rows": null,
            "grid_gap": null,
            "max_width": null,
            "order": null,
            "_view_module_version": "1.2.0",
            "grid_template_areas": null,
            "object_position": null,
            "object_fit": null,
            "grid_auto_columns": null,
            "margin": null,
            "display": "inline-flex",
            "left": null
          }
        },
        "3c3ee25ac2e7454189d59604cf7910f8": {
          "model_module": "@jupyter-widgets/controls",
          "model_name": "HTMLModel",
          "model_module_version": "1.5.0",
          "state": {
            "_view_name": "HTMLView",
            "style": "IPY_MODEL_91c9ba0270924c4597c59a9e7bd8e310",
            "_dom_classes": [],
            "description": "",
            "_model_name": "HTMLModel",
            "placeholder": "​",
            "_view_module": "@jupyter-widgets/controls",
            "_model_module_version": "1.5.0",
            "value": "Validation sanity check:   0%",
            "_view_count": null,
            "_view_module_version": "1.5.0",
            "description_tooltip": null,
            "_model_module": "@jupyter-widgets/controls",
            "layout": "IPY_MODEL_e9c2eb0ba0e04756819d8794ebd713d8"
          }
        },
        "65a78033cbfe4f20b29c445d3f77c54d": {
          "model_module": "@jupyter-widgets/controls",
          "model_name": "FloatProgressModel",
          "model_module_version": "1.5.0",
          "state": {
            "_view_name": "ProgressView",
            "style": "IPY_MODEL_68a1f0eb6d7c472dbfec2a6b605eccad",
            "_dom_classes": [],
            "description": "",
            "_model_name": "FloatProgressModel",
            "bar_style": "danger",
            "max": 2,
            "_view_module": "@jupyter-widgets/controls",
            "_model_module_version": "1.5.0",
            "value": 0,
            "_view_count": null,
            "_view_module_version": "1.5.0",
            "orientation": "horizontal",
            "min": 0,
            "description_tooltip": null,
            "_model_module": "@jupyter-widgets/controls",
            "layout": "IPY_MODEL_86bbfea854db4d1ab57b49d2deb4c5e6"
          }
        },
        "38288bd1e1c548f3890c27b75ded023d": {
          "model_module": "@jupyter-widgets/controls",
          "model_name": "HTMLModel",
          "model_module_version": "1.5.0",
          "state": {
            "_view_name": "HTMLView",
            "style": "IPY_MODEL_f1b0f8ce683747a8b6e3e4cf1c96f4ce",
            "_dom_classes": [],
            "description": "",
            "_model_name": "HTMLModel",
            "placeholder": "​",
            "_view_module": "@jupyter-widgets/controls",
            "_model_module_version": "1.5.0",
            "value": " 0/2 [00:00&lt;?, ?it/s]",
            "_view_count": null,
            "_view_module_version": "1.5.0",
            "description_tooltip": null,
            "_model_module": "@jupyter-widgets/controls",
            "layout": "IPY_MODEL_e4d6c6a5942a4cfcb81ab0426419ad17"
          }
        },
        "91c9ba0270924c4597c59a9e7bd8e310": {
          "model_module": "@jupyter-widgets/controls",
          "model_name": "DescriptionStyleModel",
          "model_module_version": "1.5.0",
          "state": {
            "_view_name": "StyleView",
            "_model_name": "DescriptionStyleModel",
            "description_width": "",
            "_view_module": "@jupyter-widgets/base",
            "_model_module_version": "1.5.0",
            "_view_count": null,
            "_view_module_version": "1.2.0",
            "_model_module": "@jupyter-widgets/controls"
          }
        },
        "e9c2eb0ba0e04756819d8794ebd713d8": {
          "model_module": "@jupyter-widgets/base",
          "model_name": "LayoutModel",
          "model_module_version": "1.2.0",
          "state": {
            "_view_name": "LayoutView",
            "grid_template_rows": null,
            "right": null,
            "justify_content": null,
            "_view_module": "@jupyter-widgets/base",
            "overflow": null,
            "_model_module_version": "1.2.0",
            "_view_count": null,
            "flex_flow": null,
            "width": null,
            "min_width": null,
            "border": null,
            "align_items": null,
            "bottom": null,
            "_model_module": "@jupyter-widgets/base",
            "top": null,
            "grid_column": null,
            "overflow_y": null,
            "overflow_x": null,
            "grid_auto_flow": null,
            "grid_area": null,
            "grid_template_columns": null,
            "flex": null,
            "_model_name": "LayoutModel",
            "justify_items": null,
            "grid_row": null,
            "max_height": null,
            "align_content": null,
            "visibility": null,
            "align_self": null,
            "height": null,
            "min_height": null,
            "padding": null,
            "grid_auto_rows": null,
            "grid_gap": null,
            "max_width": null,
            "order": null,
            "_view_module_version": "1.2.0",
            "grid_template_areas": null,
            "object_position": null,
            "object_fit": null,
            "grid_auto_columns": null,
            "margin": null,
            "display": null,
            "left": null
          }
        },
        "68a1f0eb6d7c472dbfec2a6b605eccad": {
          "model_module": "@jupyter-widgets/controls",
          "model_name": "ProgressStyleModel",
          "model_module_version": "1.5.0",
          "state": {
            "_view_name": "StyleView",
            "_model_name": "ProgressStyleModel",
            "description_width": "",
            "_view_module": "@jupyter-widgets/base",
            "_model_module_version": "1.5.0",
            "_view_count": null,
            "_view_module_version": "1.2.0",
            "bar_color": null,
            "_model_module": "@jupyter-widgets/controls"
          }
        },
        "86bbfea854db4d1ab57b49d2deb4c5e6": {
          "model_module": "@jupyter-widgets/base",
          "model_name": "LayoutModel",
          "model_module_version": "1.2.0",
          "state": {
            "_view_name": "LayoutView",
            "grid_template_rows": null,
            "right": null,
            "justify_content": null,
            "_view_module": "@jupyter-widgets/base",
            "overflow": null,
            "_model_module_version": "1.2.0",
            "_view_count": null,
            "flex_flow": null,
            "width": null,
            "min_width": null,
            "border": null,
            "align_items": null,
            "bottom": null,
            "_model_module": "@jupyter-widgets/base",
            "top": null,
            "grid_column": null,
            "overflow_y": null,
            "overflow_x": null,
            "grid_auto_flow": null,
            "grid_area": null,
            "grid_template_columns": null,
            "flex": "2",
            "_model_name": "LayoutModel",
            "justify_items": null,
            "grid_row": null,
            "max_height": null,
            "align_content": null,
            "visibility": null,
            "align_self": null,
            "height": null,
            "min_height": null,
            "padding": null,
            "grid_auto_rows": null,
            "grid_gap": null,
            "max_width": null,
            "order": null,
            "_view_module_version": "1.2.0",
            "grid_template_areas": null,
            "object_position": null,
            "object_fit": null,
            "grid_auto_columns": null,
            "margin": null,
            "display": null,
            "left": null
          }
        },
        "f1b0f8ce683747a8b6e3e4cf1c96f4ce": {
          "model_module": "@jupyter-widgets/controls",
          "model_name": "DescriptionStyleModel",
          "model_module_version": "1.5.0",
          "state": {
            "_view_name": "StyleView",
            "_model_name": "DescriptionStyleModel",
            "description_width": "",
            "_view_module": "@jupyter-widgets/base",
            "_model_module_version": "1.5.0",
            "_view_count": null,
            "_view_module_version": "1.2.0",
            "_model_module": "@jupyter-widgets/controls"
          }
        },
        "e4d6c6a5942a4cfcb81ab0426419ad17": {
          "model_module": "@jupyter-widgets/base",
          "model_name": "LayoutModel",
          "model_module_version": "1.2.0",
          "state": {
            "_view_name": "LayoutView",
            "grid_template_rows": null,
            "right": null,
            "justify_content": null,
            "_view_module": "@jupyter-widgets/base",
            "overflow": null,
            "_model_module_version": "1.2.0",
            "_view_count": null,
            "flex_flow": null,
            "width": null,
            "min_width": null,
            "border": null,
            "align_items": null,
            "bottom": null,
            "_model_module": "@jupyter-widgets/base",
            "top": null,
            "grid_column": null,
            "overflow_y": null,
            "overflow_x": null,
            "grid_auto_flow": null,
            "grid_area": null,
            "grid_template_columns": null,
            "flex": null,
            "_model_name": "LayoutModel",
            "justify_items": null,
            "grid_row": null,
            "max_height": null,
            "align_content": null,
            "visibility": null,
            "align_self": null,
            "height": null,
            "min_height": null,
            "padding": null,
            "grid_auto_rows": null,
            "grid_gap": null,
            "max_width": null,
            "order": null,
            "_view_module_version": "1.2.0",
            "grid_template_areas": null,
            "object_position": null,
            "object_fit": null,
            "grid_auto_columns": null,
            "margin": null,
            "display": null,
            "left": null
          }
        },
        "861eefb2dac34074971668214ca01a46": {
          "model_module": "@jupyter-widgets/controls",
          "model_name": "HBoxModel",
          "model_module_version": "1.5.0",
          "state": {
            "_view_name": "HBoxView",
            "_dom_classes": [],
            "_model_name": "HBoxModel",
            "_view_module": "@jupyter-widgets/controls",
            "_model_module_version": "1.5.0",
            "_view_count": null,
            "_view_module_version": "1.5.0",
            "box_style": "",
            "layout": "IPY_MODEL_70e1f7de29db46419b8ba22499b798bb",
            "_model_module": "@jupyter-widgets/controls",
            "children": [
              "IPY_MODEL_13cfc090826c47dd8ddff34629f7cd1c",
              "IPY_MODEL_e33c5ec370f84b239b00b810ca1116ae",
              "IPY_MODEL_0f642fc2f7114c39977ebec7f425b6cc"
            ]
          }
        },
        "70e1f7de29db46419b8ba22499b798bb": {
          "model_module": "@jupyter-widgets/base",
          "model_name": "LayoutModel",
          "model_module_version": "1.2.0",
          "state": {
            "_view_name": "LayoutView",
            "grid_template_rows": null,
            "right": null,
            "justify_content": null,
            "_view_module": "@jupyter-widgets/base",
            "overflow": null,
            "_model_module_version": "1.2.0",
            "_view_count": null,
            "flex_flow": "row wrap",
            "width": "100%",
            "min_width": null,
            "border": null,
            "align_items": null,
            "bottom": null,
            "_model_module": "@jupyter-widgets/base",
            "top": null,
            "grid_column": null,
            "overflow_y": null,
            "overflow_x": null,
            "grid_auto_flow": null,
            "grid_area": null,
            "grid_template_columns": null,
            "flex": null,
            "_model_name": "LayoutModel",
            "justify_items": null,
            "grid_row": null,
            "max_height": null,
            "align_content": null,
            "visibility": null,
            "align_self": null,
            "height": null,
            "min_height": null,
            "padding": null,
            "grid_auto_rows": null,
            "grid_gap": null,
            "max_width": null,
            "order": null,
            "_view_module_version": "1.2.0",
            "grid_template_areas": null,
            "object_position": null,
            "object_fit": null,
            "grid_auto_columns": null,
            "margin": null,
            "display": "inline-flex",
            "left": null
          }
        },
        "13cfc090826c47dd8ddff34629f7cd1c": {
          "model_module": "@jupyter-widgets/controls",
          "model_name": "HTMLModel",
          "model_module_version": "1.5.0",
          "state": {
            "_view_name": "HTMLView",
            "style": "IPY_MODEL_ae929f722f1d4cd1822a15a4f47b3cdb",
            "_dom_classes": [],
            "description": "",
            "_model_name": "HTMLModel",
            "placeholder": "​",
            "_view_module": "@jupyter-widgets/controls",
            "_model_module_version": "1.5.0",
            "value": "Epoch 5: 100%",
            "_view_count": null,
            "_view_module_version": "1.5.0",
            "description_tooltip": null,
            "_model_module": "@jupyter-widgets/controls",
            "layout": "IPY_MODEL_a841bcb62a8e4b57b92884801da1290c"
          }
        },
        "e33c5ec370f84b239b00b810ca1116ae": {
          "model_module": "@jupyter-widgets/controls",
          "model_name": "FloatProgressModel",
          "model_module_version": "1.5.0",
          "state": {
            "_view_name": "ProgressView",
            "style": "IPY_MODEL_9ae381f89d1b40afb2fc7dc57e03cb4b",
            "_dom_classes": [],
            "description": "",
            "_model_name": "FloatProgressModel",
            "bar_style": "success",
            "max": 8541,
            "_view_module": "@jupyter-widgets/controls",
            "_model_module_version": "1.5.0",
            "value": 8541,
            "_view_count": null,
            "_view_module_version": "1.5.0",
            "orientation": "horizontal",
            "min": 0,
            "description_tooltip": null,
            "_model_module": "@jupyter-widgets/controls",
            "layout": "IPY_MODEL_8f181552144e4f34abe545ad754e9c27"
          }
        },
        "0f642fc2f7114c39977ebec7f425b6cc": {
          "model_module": "@jupyter-widgets/controls",
          "model_name": "HTMLModel",
          "model_module_version": "1.5.0",
          "state": {
            "_view_name": "HTMLView",
            "style": "IPY_MODEL_56670e88eeed4e218ff5368fd0a37adf",
            "_dom_classes": [],
            "description": "",
            "_model_name": "HTMLModel",
            "placeholder": "​",
            "_view_module": "@jupyter-widgets/controls",
            "_model_module_version": "1.5.0",
            "value": " 8541/8541 [1:01:34&lt;00:00,  2.31it/s, loss=0.0976, v_num=1, train_loss=0.0513, val_loss=0.396]",
            "_view_count": null,
            "_view_module_version": "1.5.0",
            "description_tooltip": null,
            "_model_module": "@jupyter-widgets/controls",
            "layout": "IPY_MODEL_acfa6e7afefd46d9a352c927581428e4"
          }
        },
        "ae929f722f1d4cd1822a15a4f47b3cdb": {
          "model_module": "@jupyter-widgets/controls",
          "model_name": "DescriptionStyleModel",
          "model_module_version": "1.5.0",
          "state": {
            "_view_name": "StyleView",
            "_model_name": "DescriptionStyleModel",
            "description_width": "",
            "_view_module": "@jupyter-widgets/base",
            "_model_module_version": "1.5.0",
            "_view_count": null,
            "_view_module_version": "1.2.0",
            "_model_module": "@jupyter-widgets/controls"
          }
        },
        "a841bcb62a8e4b57b92884801da1290c": {
          "model_module": "@jupyter-widgets/base",
          "model_name": "LayoutModel",
          "model_module_version": "1.2.0",
          "state": {
            "_view_name": "LayoutView",
            "grid_template_rows": null,
            "right": null,
            "justify_content": null,
            "_view_module": "@jupyter-widgets/base",
            "overflow": null,
            "_model_module_version": "1.2.0",
            "_view_count": null,
            "flex_flow": null,
            "width": null,
            "min_width": null,
            "border": null,
            "align_items": null,
            "bottom": null,
            "_model_module": "@jupyter-widgets/base",
            "top": null,
            "grid_column": null,
            "overflow_y": null,
            "overflow_x": null,
            "grid_auto_flow": null,
            "grid_area": null,
            "grid_template_columns": null,
            "flex": null,
            "_model_name": "LayoutModel",
            "justify_items": null,
            "grid_row": null,
            "max_height": null,
            "align_content": null,
            "visibility": null,
            "align_self": null,
            "height": null,
            "min_height": null,
            "padding": null,
            "grid_auto_rows": null,
            "grid_gap": null,
            "max_width": null,
            "order": null,
            "_view_module_version": "1.2.0",
            "grid_template_areas": null,
            "object_position": null,
            "object_fit": null,
            "grid_auto_columns": null,
            "margin": null,
            "display": null,
            "left": null
          }
        },
        "9ae381f89d1b40afb2fc7dc57e03cb4b": {
          "model_module": "@jupyter-widgets/controls",
          "model_name": "ProgressStyleModel",
          "model_module_version": "1.5.0",
          "state": {
            "_view_name": "StyleView",
            "_model_name": "ProgressStyleModel",
            "description_width": "",
            "_view_module": "@jupyter-widgets/base",
            "_model_module_version": "1.5.0",
            "_view_count": null,
            "_view_module_version": "1.2.0",
            "bar_color": null,
            "_model_module": "@jupyter-widgets/controls"
          }
        },
        "8f181552144e4f34abe545ad754e9c27": {
          "model_module": "@jupyter-widgets/base",
          "model_name": "LayoutModel",
          "model_module_version": "1.2.0",
          "state": {
            "_view_name": "LayoutView",
            "grid_template_rows": null,
            "right": null,
            "justify_content": null,
            "_view_module": "@jupyter-widgets/base",
            "overflow": null,
            "_model_module_version": "1.2.0",
            "_view_count": null,
            "flex_flow": null,
            "width": null,
            "min_width": null,
            "border": null,
            "align_items": null,
            "bottom": null,
            "_model_module": "@jupyter-widgets/base",
            "top": null,
            "grid_column": null,
            "overflow_y": null,
            "overflow_x": null,
            "grid_auto_flow": null,
            "grid_area": null,
            "grid_template_columns": null,
            "flex": "2",
            "_model_name": "LayoutModel",
            "justify_items": null,
            "grid_row": null,
            "max_height": null,
            "align_content": null,
            "visibility": null,
            "align_self": null,
            "height": null,
            "min_height": null,
            "padding": null,
            "grid_auto_rows": null,
            "grid_gap": null,
            "max_width": null,
            "order": null,
            "_view_module_version": "1.2.0",
            "grid_template_areas": null,
            "object_position": null,
            "object_fit": null,
            "grid_auto_columns": null,
            "margin": null,
            "display": null,
            "left": null
          }
        },
        "56670e88eeed4e218ff5368fd0a37adf": {
          "model_module": "@jupyter-widgets/controls",
          "model_name": "DescriptionStyleModel",
          "model_module_version": "1.5.0",
          "state": {
            "_view_name": "StyleView",
            "_model_name": "DescriptionStyleModel",
            "description_width": "",
            "_view_module": "@jupyter-widgets/base",
            "_model_module_version": "1.5.0",
            "_view_count": null,
            "_view_module_version": "1.2.0",
            "_model_module": "@jupyter-widgets/controls"
          }
        },
        "acfa6e7afefd46d9a352c927581428e4": {
          "model_module": "@jupyter-widgets/base",
          "model_name": "LayoutModel",
          "model_module_version": "1.2.0",
          "state": {
            "_view_name": "LayoutView",
            "grid_template_rows": null,
            "right": null,
            "justify_content": null,
            "_view_module": "@jupyter-widgets/base",
            "overflow": null,
            "_model_module_version": "1.2.0",
            "_view_count": null,
            "flex_flow": null,
            "width": null,
            "min_width": null,
            "border": null,
            "align_items": null,
            "bottom": null,
            "_model_module": "@jupyter-widgets/base",
            "top": null,
            "grid_column": null,
            "overflow_y": null,
            "overflow_x": null,
            "grid_auto_flow": null,
            "grid_area": null,
            "grid_template_columns": null,
            "flex": null,
            "_model_name": "LayoutModel",
            "justify_items": null,
            "grid_row": null,
            "max_height": null,
            "align_content": null,
            "visibility": null,
            "align_self": null,
            "height": null,
            "min_height": null,
            "padding": null,
            "grid_auto_rows": null,
            "grid_gap": null,
            "max_width": null,
            "order": null,
            "_view_module_version": "1.2.0",
            "grid_template_areas": null,
            "object_position": null,
            "object_fit": null,
            "grid_auto_columns": null,
            "margin": null,
            "display": null,
            "left": null
          }
        },
        "27521ca5bff442afa53182672a81944c": {
          "model_module": "@jupyter-widgets/controls",
          "model_name": "HBoxModel",
          "model_module_version": "1.5.0",
          "state": {
            "_view_name": "HBoxView",
            "_dom_classes": [],
            "_model_name": "HBoxModel",
            "_view_module": "@jupyter-widgets/controls",
            "_model_module_version": "1.5.0",
            "_view_count": null,
            "_view_module_version": "1.5.0",
            "box_style": "",
            "layout": "IPY_MODEL_37f8851a20c14e75be7b971b817c2e7f",
            "_model_module": "@jupyter-widgets/controls",
            "children": [
              "IPY_MODEL_f164e55949104f4888a6a4b6946b8a51",
              "IPY_MODEL_d67f00e31b5e434ab63f1d7fcada31b6",
              "IPY_MODEL_903ece911b2b4ca2b846e0fb28a127ff"
            ]
          }
        },
        "37f8851a20c14e75be7b971b817c2e7f": {
          "model_module": "@jupyter-widgets/base",
          "model_name": "LayoutModel",
          "model_module_version": "1.2.0",
          "state": {
            "_view_name": "LayoutView",
            "grid_template_rows": null,
            "right": null,
            "justify_content": null,
            "_view_module": "@jupyter-widgets/base",
            "overflow": null,
            "_model_module_version": "1.2.0",
            "_view_count": null,
            "flex_flow": "row wrap",
            "width": "100%",
            "min_width": null,
            "border": null,
            "align_items": null,
            "bottom": null,
            "_model_module": "@jupyter-widgets/base",
            "top": null,
            "grid_column": null,
            "overflow_y": null,
            "overflow_x": null,
            "grid_auto_flow": null,
            "grid_area": null,
            "grid_template_columns": null,
            "flex": null,
            "_model_name": "LayoutModel",
            "justify_items": null,
            "grid_row": null,
            "max_height": null,
            "align_content": null,
            "visibility": null,
            "align_self": null,
            "height": null,
            "min_height": null,
            "padding": null,
            "grid_auto_rows": null,
            "grid_gap": null,
            "max_width": null,
            "order": null,
            "_view_module_version": "1.2.0",
            "grid_template_areas": null,
            "object_position": null,
            "object_fit": null,
            "grid_auto_columns": null,
            "margin": null,
            "display": "inline-flex",
            "left": null
          }
        },
        "f164e55949104f4888a6a4b6946b8a51": {
          "model_module": "@jupyter-widgets/controls",
          "model_name": "HTMLModel",
          "model_module_version": "1.5.0",
          "state": {
            "_view_name": "HTMLView",
            "style": "IPY_MODEL_195e1b65b4994b76987fa6d4a3c4bd7f",
            "_dom_classes": [],
            "description": "",
            "_model_name": "HTMLModel",
            "placeholder": "​",
            "_view_module": "@jupyter-widgets/controls",
            "_model_module_version": "1.5.0",
            "value": "Validating: 100%",
            "_view_count": null,
            "_view_module_version": "1.5.0",
            "description_tooltip": null,
            "_model_module": "@jupyter-widgets/controls",
            "layout": "IPY_MODEL_7d4598211bb24c4fb5bab071ced95947"
          }
        },
        "d67f00e31b5e434ab63f1d7fcada31b6": {
          "model_module": "@jupyter-widgets/controls",
          "model_name": "FloatProgressModel",
          "model_module_version": "1.5.0",
          "state": {
            "_view_name": "ProgressView",
            "style": "IPY_MODEL_19559af316814463a0282b4090454227",
            "_dom_classes": [],
            "description": "",
            "_model_name": "FloatProgressModel",
            "bar_style": "",
            "max": 856,
            "_view_module": "@jupyter-widgets/controls",
            "_model_module_version": "1.5.0",
            "value": 856,
            "_view_count": null,
            "_view_module_version": "1.5.0",
            "orientation": "horizontal",
            "min": 0,
            "description_tooltip": null,
            "_model_module": "@jupyter-widgets/controls",
            "layout": "IPY_MODEL_584ef41ee7764080abc2224478b145a5"
          }
        },
        "903ece911b2b4ca2b846e0fb28a127ff": {
          "model_module": "@jupyter-widgets/controls",
          "model_name": "HTMLModel",
          "model_module_version": "1.5.0",
          "state": {
            "_view_name": "HTMLView",
            "style": "IPY_MODEL_eda90d18cbc34add8c758a79fb343679",
            "_dom_classes": [],
            "description": "",
            "_model_name": "HTMLModel",
            "placeholder": "​",
            "_view_module": "@jupyter-widgets/controls",
            "_model_module_version": "1.5.0",
            "value": " 856/856 [02:12&lt;00:00,  6.43it/s]",
            "_view_count": null,
            "_view_module_version": "1.5.0",
            "description_tooltip": null,
            "_model_module": "@jupyter-widgets/controls",
            "layout": "IPY_MODEL_d82cec5f87cb47999a8eb371df70be5d"
          }
        },
        "195e1b65b4994b76987fa6d4a3c4bd7f": {
          "model_module": "@jupyter-widgets/controls",
          "model_name": "DescriptionStyleModel",
          "model_module_version": "1.5.0",
          "state": {
            "_view_name": "StyleView",
            "_model_name": "DescriptionStyleModel",
            "description_width": "",
            "_view_module": "@jupyter-widgets/base",
            "_model_module_version": "1.5.0",
            "_view_count": null,
            "_view_module_version": "1.2.0",
            "_model_module": "@jupyter-widgets/controls"
          }
        },
        "7d4598211bb24c4fb5bab071ced95947": {
          "model_module": "@jupyter-widgets/base",
          "model_name": "LayoutModel",
          "model_module_version": "1.2.0",
          "state": {
            "_view_name": "LayoutView",
            "grid_template_rows": null,
            "right": null,
            "justify_content": null,
            "_view_module": "@jupyter-widgets/base",
            "overflow": null,
            "_model_module_version": "1.2.0",
            "_view_count": null,
            "flex_flow": null,
            "width": null,
            "min_width": null,
            "border": null,
            "align_items": null,
            "bottom": null,
            "_model_module": "@jupyter-widgets/base",
            "top": null,
            "grid_column": null,
            "overflow_y": null,
            "overflow_x": null,
            "grid_auto_flow": null,
            "grid_area": null,
            "grid_template_columns": null,
            "flex": null,
            "_model_name": "LayoutModel",
            "justify_items": null,
            "grid_row": null,
            "max_height": null,
            "align_content": null,
            "visibility": null,
            "align_self": null,
            "height": null,
            "min_height": null,
            "padding": null,
            "grid_auto_rows": null,
            "grid_gap": null,
            "max_width": null,
            "order": null,
            "_view_module_version": "1.2.0",
            "grid_template_areas": null,
            "object_position": null,
            "object_fit": null,
            "grid_auto_columns": null,
            "margin": null,
            "display": null,
            "left": null
          }
        },
        "19559af316814463a0282b4090454227": {
          "model_module": "@jupyter-widgets/controls",
          "model_name": "ProgressStyleModel",
          "model_module_version": "1.5.0",
          "state": {
            "_view_name": "StyleView",
            "_model_name": "ProgressStyleModel",
            "description_width": "",
            "_view_module": "@jupyter-widgets/base",
            "_model_module_version": "1.5.0",
            "_view_count": null,
            "_view_module_version": "1.2.0",
            "bar_color": null,
            "_model_module": "@jupyter-widgets/controls"
          }
        },
        "584ef41ee7764080abc2224478b145a5": {
          "model_module": "@jupyter-widgets/base",
          "model_name": "LayoutModel",
          "model_module_version": "1.2.0",
          "state": {
            "_view_name": "LayoutView",
            "grid_template_rows": null,
            "right": null,
            "justify_content": null,
            "_view_module": "@jupyter-widgets/base",
            "overflow": null,
            "_model_module_version": "1.2.0",
            "_view_count": null,
            "flex_flow": null,
            "width": null,
            "min_width": null,
            "border": null,
            "align_items": null,
            "bottom": null,
            "_model_module": "@jupyter-widgets/base",
            "top": null,
            "grid_column": null,
            "overflow_y": null,
            "overflow_x": null,
            "grid_auto_flow": null,
            "grid_area": null,
            "grid_template_columns": null,
            "flex": "2",
            "_model_name": "LayoutModel",
            "justify_items": null,
            "grid_row": null,
            "max_height": null,
            "align_content": null,
            "visibility": null,
            "align_self": null,
            "height": null,
            "min_height": null,
            "padding": null,
            "grid_auto_rows": null,
            "grid_gap": null,
            "max_width": null,
            "order": null,
            "_view_module_version": "1.2.0",
            "grid_template_areas": null,
            "object_position": null,
            "object_fit": null,
            "grid_auto_columns": null,
            "margin": null,
            "display": null,
            "left": null
          }
        },
        "eda90d18cbc34add8c758a79fb343679": {
          "model_module": "@jupyter-widgets/controls",
          "model_name": "DescriptionStyleModel",
          "model_module_version": "1.5.0",
          "state": {
            "_view_name": "StyleView",
            "_model_name": "DescriptionStyleModel",
            "description_width": "",
            "_view_module": "@jupyter-widgets/base",
            "_model_module_version": "1.5.0",
            "_view_count": null,
            "_view_module_version": "1.2.0",
            "_model_module": "@jupyter-widgets/controls"
          }
        },
        "d82cec5f87cb47999a8eb371df70be5d": {
          "model_module": "@jupyter-widgets/base",
          "model_name": "LayoutModel",
          "model_module_version": "1.2.0",
          "state": {
            "_view_name": "LayoutView",
            "grid_template_rows": null,
            "right": null,
            "justify_content": null,
            "_view_module": "@jupyter-widgets/base",
            "overflow": null,
            "_model_module_version": "1.2.0",
            "_view_count": null,
            "flex_flow": null,
            "width": null,
            "min_width": null,
            "border": null,
            "align_items": null,
            "bottom": null,
            "_model_module": "@jupyter-widgets/base",
            "top": null,
            "grid_column": null,
            "overflow_y": null,
            "overflow_x": null,
            "grid_auto_flow": null,
            "grid_area": null,
            "grid_template_columns": null,
            "flex": null,
            "_model_name": "LayoutModel",
            "justify_items": null,
            "grid_row": null,
            "max_height": null,
            "align_content": null,
            "visibility": null,
            "align_self": null,
            "height": null,
            "min_height": null,
            "padding": null,
            "grid_auto_rows": null,
            "grid_gap": null,
            "max_width": null,
            "order": null,
            "_view_module_version": "1.2.0",
            "grid_template_areas": null,
            "object_position": null,
            "object_fit": null,
            "grid_auto_columns": null,
            "margin": null,
            "display": null,
            "left": null
          }
        },
        "f1b09ed5305049bfa783ee71bc9667af": {
          "model_module": "@jupyter-widgets/controls",
          "model_name": "HBoxModel",
          "model_module_version": "1.5.0",
          "state": {
            "_view_name": "HBoxView",
            "_dom_classes": [],
            "_model_name": "HBoxModel",
            "_view_module": "@jupyter-widgets/controls",
            "_model_module_version": "1.5.0",
            "_view_count": null,
            "_view_module_version": "1.5.0",
            "box_style": "",
            "layout": "IPY_MODEL_baa9ecea8306436986a161749eb9b040",
            "_model_module": "@jupyter-widgets/controls",
            "children": [
              "IPY_MODEL_53ec55b46abc4b20a941580d4eff06a2",
              "IPY_MODEL_ef9459db901242e8aca6c75e8b2834fb",
              "IPY_MODEL_e39fc23c653241f692cd8635861a14ff"
            ]
          }
        },
        "baa9ecea8306436986a161749eb9b040": {
          "model_module": "@jupyter-widgets/base",
          "model_name": "LayoutModel",
          "model_module_version": "1.2.0",
          "state": {
            "_view_name": "LayoutView",
            "grid_template_rows": null,
            "right": null,
            "justify_content": null,
            "_view_module": "@jupyter-widgets/base",
            "overflow": null,
            "_model_module_version": "1.2.0",
            "_view_count": null,
            "flex_flow": "row wrap",
            "width": "100%",
            "min_width": null,
            "border": null,
            "align_items": null,
            "bottom": null,
            "_model_module": "@jupyter-widgets/base",
            "top": null,
            "grid_column": null,
            "overflow_y": null,
            "overflow_x": null,
            "grid_auto_flow": null,
            "grid_area": null,
            "grid_template_columns": null,
            "flex": null,
            "_model_name": "LayoutModel",
            "justify_items": null,
            "grid_row": null,
            "max_height": null,
            "align_content": null,
            "visibility": null,
            "align_self": null,
            "height": null,
            "min_height": null,
            "padding": null,
            "grid_auto_rows": null,
            "grid_gap": null,
            "max_width": null,
            "order": null,
            "_view_module_version": "1.2.0",
            "grid_template_areas": null,
            "object_position": null,
            "object_fit": null,
            "grid_auto_columns": null,
            "margin": null,
            "display": "inline-flex",
            "left": null
          }
        },
        "53ec55b46abc4b20a941580d4eff06a2": {
          "model_module": "@jupyter-widgets/controls",
          "model_name": "HTMLModel",
          "model_module_version": "1.5.0",
          "state": {
            "_view_name": "HTMLView",
            "style": "IPY_MODEL_2bb36d5986b04833b19a3e9c369eb052",
            "_dom_classes": [],
            "description": "",
            "_model_name": "HTMLModel",
            "placeholder": "​",
            "_view_module": "@jupyter-widgets/controls",
            "_model_module_version": "1.5.0",
            "value": "Validating: 100%",
            "_view_count": null,
            "_view_module_version": "1.5.0",
            "description_tooltip": null,
            "_model_module": "@jupyter-widgets/controls",
            "layout": "IPY_MODEL_17081379ebd849c2aeecf29e52c645c3"
          }
        },
        "ef9459db901242e8aca6c75e8b2834fb": {
          "model_module": "@jupyter-widgets/controls",
          "model_name": "FloatProgressModel",
          "model_module_version": "1.5.0",
          "state": {
            "_view_name": "ProgressView",
            "style": "IPY_MODEL_b36c3eadad9f467294fbcd9b9920095b",
            "_dom_classes": [],
            "description": "",
            "_model_name": "FloatProgressModel",
            "bar_style": "",
            "max": 856,
            "_view_module": "@jupyter-widgets/controls",
            "_model_module_version": "1.5.0",
            "value": 856,
            "_view_count": null,
            "_view_module_version": "1.5.0",
            "orientation": "horizontal",
            "min": 0,
            "description_tooltip": null,
            "_model_module": "@jupyter-widgets/controls",
            "layout": "IPY_MODEL_2fcd434fcb224b548d55ae2d206541a2"
          }
        },
        "e39fc23c653241f692cd8635861a14ff": {
          "model_module": "@jupyter-widgets/controls",
          "model_name": "HTMLModel",
          "model_module_version": "1.5.0",
          "state": {
            "_view_name": "HTMLView",
            "style": "IPY_MODEL_c93e6990b7f34d22842b2e099d5665d0",
            "_dom_classes": [],
            "description": "",
            "_model_name": "HTMLModel",
            "placeholder": "​",
            "_view_module": "@jupyter-widgets/controls",
            "_model_module_version": "1.5.0",
            "value": " 856/856 [02:13&lt;00:00,  6.42it/s]",
            "_view_count": null,
            "_view_module_version": "1.5.0",
            "description_tooltip": null,
            "_model_module": "@jupyter-widgets/controls",
            "layout": "IPY_MODEL_8454518c140e49df9faab5b9522048f2"
          }
        },
        "2bb36d5986b04833b19a3e9c369eb052": {
          "model_module": "@jupyter-widgets/controls",
          "model_name": "DescriptionStyleModel",
          "model_module_version": "1.5.0",
          "state": {
            "_view_name": "StyleView",
            "_model_name": "DescriptionStyleModel",
            "description_width": "",
            "_view_module": "@jupyter-widgets/base",
            "_model_module_version": "1.5.0",
            "_view_count": null,
            "_view_module_version": "1.2.0",
            "_model_module": "@jupyter-widgets/controls"
          }
        },
        "17081379ebd849c2aeecf29e52c645c3": {
          "model_module": "@jupyter-widgets/base",
          "model_name": "LayoutModel",
          "model_module_version": "1.2.0",
          "state": {
            "_view_name": "LayoutView",
            "grid_template_rows": null,
            "right": null,
            "justify_content": null,
            "_view_module": "@jupyter-widgets/base",
            "overflow": null,
            "_model_module_version": "1.2.0",
            "_view_count": null,
            "flex_flow": null,
            "width": null,
            "min_width": null,
            "border": null,
            "align_items": null,
            "bottom": null,
            "_model_module": "@jupyter-widgets/base",
            "top": null,
            "grid_column": null,
            "overflow_y": null,
            "overflow_x": null,
            "grid_auto_flow": null,
            "grid_area": null,
            "grid_template_columns": null,
            "flex": null,
            "_model_name": "LayoutModel",
            "justify_items": null,
            "grid_row": null,
            "max_height": null,
            "align_content": null,
            "visibility": null,
            "align_self": null,
            "height": null,
            "min_height": null,
            "padding": null,
            "grid_auto_rows": null,
            "grid_gap": null,
            "max_width": null,
            "order": null,
            "_view_module_version": "1.2.0",
            "grid_template_areas": null,
            "object_position": null,
            "object_fit": null,
            "grid_auto_columns": null,
            "margin": null,
            "display": null,
            "left": null
          }
        },
        "b36c3eadad9f467294fbcd9b9920095b": {
          "model_module": "@jupyter-widgets/controls",
          "model_name": "ProgressStyleModel",
          "model_module_version": "1.5.0",
          "state": {
            "_view_name": "StyleView",
            "_model_name": "ProgressStyleModel",
            "description_width": "",
            "_view_module": "@jupyter-widgets/base",
            "_model_module_version": "1.5.0",
            "_view_count": null,
            "_view_module_version": "1.2.0",
            "bar_color": null,
            "_model_module": "@jupyter-widgets/controls"
          }
        },
        "2fcd434fcb224b548d55ae2d206541a2": {
          "model_module": "@jupyter-widgets/base",
          "model_name": "LayoutModel",
          "model_module_version": "1.2.0",
          "state": {
            "_view_name": "LayoutView",
            "grid_template_rows": null,
            "right": null,
            "justify_content": null,
            "_view_module": "@jupyter-widgets/base",
            "overflow": null,
            "_model_module_version": "1.2.0",
            "_view_count": null,
            "flex_flow": null,
            "width": null,
            "min_width": null,
            "border": null,
            "align_items": null,
            "bottom": null,
            "_model_module": "@jupyter-widgets/base",
            "top": null,
            "grid_column": null,
            "overflow_y": null,
            "overflow_x": null,
            "grid_auto_flow": null,
            "grid_area": null,
            "grid_template_columns": null,
            "flex": "2",
            "_model_name": "LayoutModel",
            "justify_items": null,
            "grid_row": null,
            "max_height": null,
            "align_content": null,
            "visibility": null,
            "align_self": null,
            "height": null,
            "min_height": null,
            "padding": null,
            "grid_auto_rows": null,
            "grid_gap": null,
            "max_width": null,
            "order": null,
            "_view_module_version": "1.2.0",
            "grid_template_areas": null,
            "object_position": null,
            "object_fit": null,
            "grid_auto_columns": null,
            "margin": null,
            "display": null,
            "left": null
          }
        },
        "c93e6990b7f34d22842b2e099d5665d0": {
          "model_module": "@jupyter-widgets/controls",
          "model_name": "DescriptionStyleModel",
          "model_module_version": "1.5.0",
          "state": {
            "_view_name": "StyleView",
            "_model_name": "DescriptionStyleModel",
            "description_width": "",
            "_view_module": "@jupyter-widgets/base",
            "_model_module_version": "1.5.0",
            "_view_count": null,
            "_view_module_version": "1.2.0",
            "_model_module": "@jupyter-widgets/controls"
          }
        },
        "8454518c140e49df9faab5b9522048f2": {
          "model_module": "@jupyter-widgets/base",
          "model_name": "LayoutModel",
          "model_module_version": "1.2.0",
          "state": {
            "_view_name": "LayoutView",
            "grid_template_rows": null,
            "right": null,
            "justify_content": null,
            "_view_module": "@jupyter-widgets/base",
            "overflow": null,
            "_model_module_version": "1.2.0",
            "_view_count": null,
            "flex_flow": null,
            "width": null,
            "min_width": null,
            "border": null,
            "align_items": null,
            "bottom": null,
            "_model_module": "@jupyter-widgets/base",
            "top": null,
            "grid_column": null,
            "overflow_y": null,
            "overflow_x": null,
            "grid_auto_flow": null,
            "grid_area": null,
            "grid_template_columns": null,
            "flex": null,
            "_model_name": "LayoutModel",
            "justify_items": null,
            "grid_row": null,
            "max_height": null,
            "align_content": null,
            "visibility": null,
            "align_self": null,
            "height": null,
            "min_height": null,
            "padding": null,
            "grid_auto_rows": null,
            "grid_gap": null,
            "max_width": null,
            "order": null,
            "_view_module_version": "1.2.0",
            "grid_template_areas": null,
            "object_position": null,
            "object_fit": null,
            "grid_auto_columns": null,
            "margin": null,
            "display": null,
            "left": null
          }
        },
        "aa257159e7884b80b5b5acba11ad059f": {
          "model_module": "@jupyter-widgets/controls",
          "model_name": "HBoxModel",
          "model_module_version": "1.5.0",
          "state": {
            "_view_name": "HBoxView",
            "_dom_classes": [],
            "_model_name": "HBoxModel",
            "_view_module": "@jupyter-widgets/controls",
            "_model_module_version": "1.5.0",
            "_view_count": null,
            "_view_module_version": "1.5.0",
            "box_style": "",
            "layout": "IPY_MODEL_8990840a526d46429009bdb275c3590e",
            "_model_module": "@jupyter-widgets/controls",
            "children": [
              "IPY_MODEL_6c96952cf6a04ef48304ed8e31841c7a",
              "IPY_MODEL_f9d338f1c93141d98389392b23411938",
              "IPY_MODEL_2c56c08520c34b238412329c43629c78"
            ]
          }
        },
        "8990840a526d46429009bdb275c3590e": {
          "model_module": "@jupyter-widgets/base",
          "model_name": "LayoutModel",
          "model_module_version": "1.2.0",
          "state": {
            "_view_name": "LayoutView",
            "grid_template_rows": null,
            "right": null,
            "justify_content": null,
            "_view_module": "@jupyter-widgets/base",
            "overflow": null,
            "_model_module_version": "1.2.0",
            "_view_count": null,
            "flex_flow": "row wrap",
            "width": "100%",
            "min_width": null,
            "border": null,
            "align_items": null,
            "bottom": null,
            "_model_module": "@jupyter-widgets/base",
            "top": null,
            "grid_column": null,
            "overflow_y": null,
            "overflow_x": null,
            "grid_auto_flow": null,
            "grid_area": null,
            "grid_template_columns": null,
            "flex": null,
            "_model_name": "LayoutModel",
            "justify_items": null,
            "grid_row": null,
            "max_height": null,
            "align_content": null,
            "visibility": null,
            "align_self": null,
            "height": null,
            "min_height": null,
            "padding": null,
            "grid_auto_rows": null,
            "grid_gap": null,
            "max_width": null,
            "order": null,
            "_view_module_version": "1.2.0",
            "grid_template_areas": null,
            "object_position": null,
            "object_fit": null,
            "grid_auto_columns": null,
            "margin": null,
            "display": "inline-flex",
            "left": null
          }
        },
        "6c96952cf6a04ef48304ed8e31841c7a": {
          "model_module": "@jupyter-widgets/controls",
          "model_name": "HTMLModel",
          "model_module_version": "1.5.0",
          "state": {
            "_view_name": "HTMLView",
            "style": "IPY_MODEL_98ccfa5202c340caa5259258751f6191",
            "_dom_classes": [],
            "description": "",
            "_model_name": "HTMLModel",
            "placeholder": "​",
            "_view_module": "@jupyter-widgets/controls",
            "_model_module_version": "1.5.0",
            "value": "Validating: 100%",
            "_view_count": null,
            "_view_module_version": "1.5.0",
            "description_tooltip": null,
            "_model_module": "@jupyter-widgets/controls",
            "layout": "IPY_MODEL_0da52adc503b4b4cb1ce31fcfb8a1263"
          }
        },
        "f9d338f1c93141d98389392b23411938": {
          "model_module": "@jupyter-widgets/controls",
          "model_name": "FloatProgressModel",
          "model_module_version": "1.5.0",
          "state": {
            "_view_name": "ProgressView",
            "style": "IPY_MODEL_bc9de2815fd94d65920f04d2e066c0db",
            "_dom_classes": [],
            "description": "",
            "_model_name": "FloatProgressModel",
            "bar_style": "",
            "max": 856,
            "_view_module": "@jupyter-widgets/controls",
            "_model_module_version": "1.5.0",
            "value": 856,
            "_view_count": null,
            "_view_module_version": "1.5.0",
            "orientation": "horizontal",
            "min": 0,
            "description_tooltip": null,
            "_model_module": "@jupyter-widgets/controls",
            "layout": "IPY_MODEL_720bdb71f2e94291b37dc298e8ac5b05"
          }
        },
        "2c56c08520c34b238412329c43629c78": {
          "model_module": "@jupyter-widgets/controls",
          "model_name": "HTMLModel",
          "model_module_version": "1.5.0",
          "state": {
            "_view_name": "HTMLView",
            "style": "IPY_MODEL_a2e72f6f86f1400e803308d600194030",
            "_dom_classes": [],
            "description": "",
            "_model_name": "HTMLModel",
            "placeholder": "​",
            "_view_module": "@jupyter-widgets/controls",
            "_model_module_version": "1.5.0",
            "value": " 856/856 [02:12&lt;00:00,  6.44it/s]",
            "_view_count": null,
            "_view_module_version": "1.5.0",
            "description_tooltip": null,
            "_model_module": "@jupyter-widgets/controls",
            "layout": "IPY_MODEL_47bc307ab7884acfa9fa44f31df51961"
          }
        },
        "98ccfa5202c340caa5259258751f6191": {
          "model_module": "@jupyter-widgets/controls",
          "model_name": "DescriptionStyleModel",
          "model_module_version": "1.5.0",
          "state": {
            "_view_name": "StyleView",
            "_model_name": "DescriptionStyleModel",
            "description_width": "",
            "_view_module": "@jupyter-widgets/base",
            "_model_module_version": "1.5.0",
            "_view_count": null,
            "_view_module_version": "1.2.0",
            "_model_module": "@jupyter-widgets/controls"
          }
        },
        "0da52adc503b4b4cb1ce31fcfb8a1263": {
          "model_module": "@jupyter-widgets/base",
          "model_name": "LayoutModel",
          "model_module_version": "1.2.0",
          "state": {
            "_view_name": "LayoutView",
            "grid_template_rows": null,
            "right": null,
            "justify_content": null,
            "_view_module": "@jupyter-widgets/base",
            "overflow": null,
            "_model_module_version": "1.2.0",
            "_view_count": null,
            "flex_flow": null,
            "width": null,
            "min_width": null,
            "border": null,
            "align_items": null,
            "bottom": null,
            "_model_module": "@jupyter-widgets/base",
            "top": null,
            "grid_column": null,
            "overflow_y": null,
            "overflow_x": null,
            "grid_auto_flow": null,
            "grid_area": null,
            "grid_template_columns": null,
            "flex": null,
            "_model_name": "LayoutModel",
            "justify_items": null,
            "grid_row": null,
            "max_height": null,
            "align_content": null,
            "visibility": null,
            "align_self": null,
            "height": null,
            "min_height": null,
            "padding": null,
            "grid_auto_rows": null,
            "grid_gap": null,
            "max_width": null,
            "order": null,
            "_view_module_version": "1.2.0",
            "grid_template_areas": null,
            "object_position": null,
            "object_fit": null,
            "grid_auto_columns": null,
            "margin": null,
            "display": null,
            "left": null
          }
        },
        "bc9de2815fd94d65920f04d2e066c0db": {
          "model_module": "@jupyter-widgets/controls",
          "model_name": "ProgressStyleModel",
          "model_module_version": "1.5.0",
          "state": {
            "_view_name": "StyleView",
            "_model_name": "ProgressStyleModel",
            "description_width": "",
            "_view_module": "@jupyter-widgets/base",
            "_model_module_version": "1.5.0",
            "_view_count": null,
            "_view_module_version": "1.2.0",
            "bar_color": null,
            "_model_module": "@jupyter-widgets/controls"
          }
        },
        "720bdb71f2e94291b37dc298e8ac5b05": {
          "model_module": "@jupyter-widgets/base",
          "model_name": "LayoutModel",
          "model_module_version": "1.2.0",
          "state": {
            "_view_name": "LayoutView",
            "grid_template_rows": null,
            "right": null,
            "justify_content": null,
            "_view_module": "@jupyter-widgets/base",
            "overflow": null,
            "_model_module_version": "1.2.0",
            "_view_count": null,
            "flex_flow": null,
            "width": null,
            "min_width": null,
            "border": null,
            "align_items": null,
            "bottom": null,
            "_model_module": "@jupyter-widgets/base",
            "top": null,
            "grid_column": null,
            "overflow_y": null,
            "overflow_x": null,
            "grid_auto_flow": null,
            "grid_area": null,
            "grid_template_columns": null,
            "flex": "2",
            "_model_name": "LayoutModel",
            "justify_items": null,
            "grid_row": null,
            "max_height": null,
            "align_content": null,
            "visibility": null,
            "align_self": null,
            "height": null,
            "min_height": null,
            "padding": null,
            "grid_auto_rows": null,
            "grid_gap": null,
            "max_width": null,
            "order": null,
            "_view_module_version": "1.2.0",
            "grid_template_areas": null,
            "object_position": null,
            "object_fit": null,
            "grid_auto_columns": null,
            "margin": null,
            "display": null,
            "left": null
          }
        },
        "a2e72f6f86f1400e803308d600194030": {
          "model_module": "@jupyter-widgets/controls",
          "model_name": "DescriptionStyleModel",
          "model_module_version": "1.5.0",
          "state": {
            "_view_name": "StyleView",
            "_model_name": "DescriptionStyleModel",
            "description_width": "",
            "_view_module": "@jupyter-widgets/base",
            "_model_module_version": "1.5.0",
            "_view_count": null,
            "_view_module_version": "1.2.0",
            "_model_module": "@jupyter-widgets/controls"
          }
        },
        "47bc307ab7884acfa9fa44f31df51961": {
          "model_module": "@jupyter-widgets/base",
          "model_name": "LayoutModel",
          "model_module_version": "1.2.0",
          "state": {
            "_view_name": "LayoutView",
            "grid_template_rows": null,
            "right": null,
            "justify_content": null,
            "_view_module": "@jupyter-widgets/base",
            "overflow": null,
            "_model_module_version": "1.2.0",
            "_view_count": null,
            "flex_flow": null,
            "width": null,
            "min_width": null,
            "border": null,
            "align_items": null,
            "bottom": null,
            "_model_module": "@jupyter-widgets/base",
            "top": null,
            "grid_column": null,
            "overflow_y": null,
            "overflow_x": null,
            "grid_auto_flow": null,
            "grid_area": null,
            "grid_template_columns": null,
            "flex": null,
            "_model_name": "LayoutModel",
            "justify_items": null,
            "grid_row": null,
            "max_height": null,
            "align_content": null,
            "visibility": null,
            "align_self": null,
            "height": null,
            "min_height": null,
            "padding": null,
            "grid_auto_rows": null,
            "grid_gap": null,
            "max_width": null,
            "order": null,
            "_view_module_version": "1.2.0",
            "grid_template_areas": null,
            "object_position": null,
            "object_fit": null,
            "grid_auto_columns": null,
            "margin": null,
            "display": null,
            "left": null
          }
        },
        "1c33fe7820cc468a9d12d16f97eb49fc": {
          "model_module": "@jupyter-widgets/controls",
          "model_name": "HBoxModel",
          "model_module_version": "1.5.0",
          "state": {
            "_view_name": "HBoxView",
            "_dom_classes": [],
            "_model_name": "HBoxModel",
            "_view_module": "@jupyter-widgets/controls",
            "_model_module_version": "1.5.0",
            "_view_count": null,
            "_view_module_version": "1.5.0",
            "box_style": "",
            "layout": "IPY_MODEL_725bd7164cf44d62896c02104ebc89f3",
            "_model_module": "@jupyter-widgets/controls",
            "children": [
              "IPY_MODEL_387ed62c9eed4fe4a2f57f1b24e25590",
              "IPY_MODEL_f31ef7877e034e0ba7402f408fe1d09e",
              "IPY_MODEL_a6666f2ab4d5496bbaf5eda422d1c0c0"
            ]
          }
        },
        "725bd7164cf44d62896c02104ebc89f3": {
          "model_module": "@jupyter-widgets/base",
          "model_name": "LayoutModel",
          "model_module_version": "1.2.0",
          "state": {
            "_view_name": "LayoutView",
            "grid_template_rows": null,
            "right": null,
            "justify_content": null,
            "_view_module": "@jupyter-widgets/base",
            "overflow": null,
            "_model_module_version": "1.2.0",
            "_view_count": null,
            "flex_flow": "row wrap",
            "width": "100%",
            "min_width": null,
            "border": null,
            "align_items": null,
            "bottom": null,
            "_model_module": "@jupyter-widgets/base",
            "top": null,
            "grid_column": null,
            "overflow_y": null,
            "overflow_x": null,
            "grid_auto_flow": null,
            "grid_area": null,
            "grid_template_columns": null,
            "flex": null,
            "_model_name": "LayoutModel",
            "justify_items": null,
            "grid_row": null,
            "max_height": null,
            "align_content": null,
            "visibility": null,
            "align_self": null,
            "height": null,
            "min_height": null,
            "padding": null,
            "grid_auto_rows": null,
            "grid_gap": null,
            "max_width": null,
            "order": null,
            "_view_module_version": "1.2.0",
            "grid_template_areas": null,
            "object_position": null,
            "object_fit": null,
            "grid_auto_columns": null,
            "margin": null,
            "display": "inline-flex",
            "left": null
          }
        },
        "387ed62c9eed4fe4a2f57f1b24e25590": {
          "model_module": "@jupyter-widgets/controls",
          "model_name": "HTMLModel",
          "model_module_version": "1.5.0",
          "state": {
            "_view_name": "HTMLView",
            "style": "IPY_MODEL_312efd24fc5842cab0db2e98f75c2db9",
            "_dom_classes": [],
            "description": "",
            "_model_name": "HTMLModel",
            "placeholder": "​",
            "_view_module": "@jupyter-widgets/controls",
            "_model_module_version": "1.5.0",
            "value": "Validating: 100%",
            "_view_count": null,
            "_view_module_version": "1.5.0",
            "description_tooltip": null,
            "_model_module": "@jupyter-widgets/controls",
            "layout": "IPY_MODEL_35e481755c9c4fec8df20167a92bed6e"
          }
        },
        "f31ef7877e034e0ba7402f408fe1d09e": {
          "model_module": "@jupyter-widgets/controls",
          "model_name": "FloatProgressModel",
          "model_module_version": "1.5.0",
          "state": {
            "_view_name": "ProgressView",
            "style": "IPY_MODEL_84fae219599e44ceb1a9d1dba0b21bc8",
            "_dom_classes": [],
            "description": "",
            "_model_name": "FloatProgressModel",
            "bar_style": "",
            "max": 856,
            "_view_module": "@jupyter-widgets/controls",
            "_model_module_version": "1.5.0",
            "value": 856,
            "_view_count": null,
            "_view_module_version": "1.5.0",
            "orientation": "horizontal",
            "min": 0,
            "description_tooltip": null,
            "_model_module": "@jupyter-widgets/controls",
            "layout": "IPY_MODEL_3126ed7b44ff4d01b14ead409025ee42"
          }
        },
        "a6666f2ab4d5496bbaf5eda422d1c0c0": {
          "model_module": "@jupyter-widgets/controls",
          "model_name": "HTMLModel",
          "model_module_version": "1.5.0",
          "state": {
            "_view_name": "HTMLView",
            "style": "IPY_MODEL_6cb3e96a2a8c4bf9b194a83cef5e057e",
            "_dom_classes": [],
            "description": "",
            "_model_name": "HTMLModel",
            "placeholder": "​",
            "_view_module": "@jupyter-widgets/controls",
            "_model_module_version": "1.5.0",
            "value": " 856/856 [02:13&lt;00:00,  6.40it/s]",
            "_view_count": null,
            "_view_module_version": "1.5.0",
            "description_tooltip": null,
            "_model_module": "@jupyter-widgets/controls",
            "layout": "IPY_MODEL_90c5416dea2f4ab08d5d206062617ff7"
          }
        },
        "312efd24fc5842cab0db2e98f75c2db9": {
          "model_module": "@jupyter-widgets/controls",
          "model_name": "DescriptionStyleModel",
          "model_module_version": "1.5.0",
          "state": {
            "_view_name": "StyleView",
            "_model_name": "DescriptionStyleModel",
            "description_width": "",
            "_view_module": "@jupyter-widgets/base",
            "_model_module_version": "1.5.0",
            "_view_count": null,
            "_view_module_version": "1.2.0",
            "_model_module": "@jupyter-widgets/controls"
          }
        },
        "35e481755c9c4fec8df20167a92bed6e": {
          "model_module": "@jupyter-widgets/base",
          "model_name": "LayoutModel",
          "model_module_version": "1.2.0",
          "state": {
            "_view_name": "LayoutView",
            "grid_template_rows": null,
            "right": null,
            "justify_content": null,
            "_view_module": "@jupyter-widgets/base",
            "overflow": null,
            "_model_module_version": "1.2.0",
            "_view_count": null,
            "flex_flow": null,
            "width": null,
            "min_width": null,
            "border": null,
            "align_items": null,
            "bottom": null,
            "_model_module": "@jupyter-widgets/base",
            "top": null,
            "grid_column": null,
            "overflow_y": null,
            "overflow_x": null,
            "grid_auto_flow": null,
            "grid_area": null,
            "grid_template_columns": null,
            "flex": null,
            "_model_name": "LayoutModel",
            "justify_items": null,
            "grid_row": null,
            "max_height": null,
            "align_content": null,
            "visibility": null,
            "align_self": null,
            "height": null,
            "min_height": null,
            "padding": null,
            "grid_auto_rows": null,
            "grid_gap": null,
            "max_width": null,
            "order": null,
            "_view_module_version": "1.2.0",
            "grid_template_areas": null,
            "object_position": null,
            "object_fit": null,
            "grid_auto_columns": null,
            "margin": null,
            "display": null,
            "left": null
          }
        },
        "84fae219599e44ceb1a9d1dba0b21bc8": {
          "model_module": "@jupyter-widgets/controls",
          "model_name": "ProgressStyleModel",
          "model_module_version": "1.5.0",
          "state": {
            "_view_name": "StyleView",
            "_model_name": "ProgressStyleModel",
            "description_width": "",
            "_view_module": "@jupyter-widgets/base",
            "_model_module_version": "1.5.0",
            "_view_count": null,
            "_view_module_version": "1.2.0",
            "bar_color": null,
            "_model_module": "@jupyter-widgets/controls"
          }
        },
        "3126ed7b44ff4d01b14ead409025ee42": {
          "model_module": "@jupyter-widgets/base",
          "model_name": "LayoutModel",
          "model_module_version": "1.2.0",
          "state": {
            "_view_name": "LayoutView",
            "grid_template_rows": null,
            "right": null,
            "justify_content": null,
            "_view_module": "@jupyter-widgets/base",
            "overflow": null,
            "_model_module_version": "1.2.0",
            "_view_count": null,
            "flex_flow": null,
            "width": null,
            "min_width": null,
            "border": null,
            "align_items": null,
            "bottom": null,
            "_model_module": "@jupyter-widgets/base",
            "top": null,
            "grid_column": null,
            "overflow_y": null,
            "overflow_x": null,
            "grid_auto_flow": null,
            "grid_area": null,
            "grid_template_columns": null,
            "flex": "2",
            "_model_name": "LayoutModel",
            "justify_items": null,
            "grid_row": null,
            "max_height": null,
            "align_content": null,
            "visibility": null,
            "align_self": null,
            "height": null,
            "min_height": null,
            "padding": null,
            "grid_auto_rows": null,
            "grid_gap": null,
            "max_width": null,
            "order": null,
            "_view_module_version": "1.2.0",
            "grid_template_areas": null,
            "object_position": null,
            "object_fit": null,
            "grid_auto_columns": null,
            "margin": null,
            "display": null,
            "left": null
          }
        },
        "6cb3e96a2a8c4bf9b194a83cef5e057e": {
          "model_module": "@jupyter-widgets/controls",
          "model_name": "DescriptionStyleModel",
          "model_module_version": "1.5.0",
          "state": {
            "_view_name": "StyleView",
            "_model_name": "DescriptionStyleModel",
            "description_width": "",
            "_view_module": "@jupyter-widgets/base",
            "_model_module_version": "1.5.0",
            "_view_count": null,
            "_view_module_version": "1.2.0",
            "_model_module": "@jupyter-widgets/controls"
          }
        },
        "90c5416dea2f4ab08d5d206062617ff7": {
          "model_module": "@jupyter-widgets/base",
          "model_name": "LayoutModel",
          "model_module_version": "1.2.0",
          "state": {
            "_view_name": "LayoutView",
            "grid_template_rows": null,
            "right": null,
            "justify_content": null,
            "_view_module": "@jupyter-widgets/base",
            "overflow": null,
            "_model_module_version": "1.2.0",
            "_view_count": null,
            "flex_flow": null,
            "width": null,
            "min_width": null,
            "border": null,
            "align_items": null,
            "bottom": null,
            "_model_module": "@jupyter-widgets/base",
            "top": null,
            "grid_column": null,
            "overflow_y": null,
            "overflow_x": null,
            "grid_auto_flow": null,
            "grid_area": null,
            "grid_template_columns": null,
            "flex": null,
            "_model_name": "LayoutModel",
            "justify_items": null,
            "grid_row": null,
            "max_height": null,
            "align_content": null,
            "visibility": null,
            "align_self": null,
            "height": null,
            "min_height": null,
            "padding": null,
            "grid_auto_rows": null,
            "grid_gap": null,
            "max_width": null,
            "order": null,
            "_view_module_version": "1.2.0",
            "grid_template_areas": null,
            "object_position": null,
            "object_fit": null,
            "grid_auto_columns": null,
            "margin": null,
            "display": null,
            "left": null
          }
        },
        "8f39678f8b3f48bb81068925035bab84": {
          "model_module": "@jupyter-widgets/controls",
          "model_name": "HBoxModel",
          "model_module_version": "1.5.0",
          "state": {
            "_view_name": "HBoxView",
            "_dom_classes": [],
            "_model_name": "HBoxModel",
            "_view_module": "@jupyter-widgets/controls",
            "_model_module_version": "1.5.0",
            "_view_count": null,
            "_view_module_version": "1.5.0",
            "box_style": "",
            "layout": "IPY_MODEL_c1dfb8fef6494ef4b7a201ad0ef4e8a8",
            "_model_module": "@jupyter-widgets/controls",
            "children": [
              "IPY_MODEL_efb0037711ef4224966d2e924401966f",
              "IPY_MODEL_851d6ee86f6843cca47bacdd018d086b",
              "IPY_MODEL_348cfb66330145c2a42b8ff7762ce52d"
            ]
          }
        },
        "c1dfb8fef6494ef4b7a201ad0ef4e8a8": {
          "model_module": "@jupyter-widgets/base",
          "model_name": "LayoutModel",
          "model_module_version": "1.2.0",
          "state": {
            "_view_name": "LayoutView",
            "grid_template_rows": null,
            "right": null,
            "justify_content": null,
            "_view_module": "@jupyter-widgets/base",
            "overflow": null,
            "_model_module_version": "1.2.0",
            "_view_count": null,
            "flex_flow": "row wrap",
            "width": "100%",
            "min_width": null,
            "border": null,
            "align_items": null,
            "bottom": null,
            "_model_module": "@jupyter-widgets/base",
            "top": null,
            "grid_column": null,
            "overflow_y": null,
            "overflow_x": null,
            "grid_auto_flow": null,
            "grid_area": null,
            "grid_template_columns": null,
            "flex": null,
            "_model_name": "LayoutModel",
            "justify_items": null,
            "grid_row": null,
            "max_height": null,
            "align_content": null,
            "visibility": null,
            "align_self": null,
            "height": null,
            "min_height": null,
            "padding": null,
            "grid_auto_rows": null,
            "grid_gap": null,
            "max_width": null,
            "order": null,
            "_view_module_version": "1.2.0",
            "grid_template_areas": null,
            "object_position": null,
            "object_fit": null,
            "grid_auto_columns": null,
            "margin": null,
            "display": "inline-flex",
            "left": null
          }
        },
        "efb0037711ef4224966d2e924401966f": {
          "model_module": "@jupyter-widgets/controls",
          "model_name": "HTMLModel",
          "model_module_version": "1.5.0",
          "state": {
            "_view_name": "HTMLView",
            "style": "IPY_MODEL_2650e05f8d3b40bf8108722dbb23f352",
            "_dom_classes": [],
            "description": "",
            "_model_name": "HTMLModel",
            "placeholder": "​",
            "_view_module": "@jupyter-widgets/controls",
            "_model_module_version": "1.5.0",
            "value": "Validating: 100%",
            "_view_count": null,
            "_view_module_version": "1.5.0",
            "description_tooltip": null,
            "_model_module": "@jupyter-widgets/controls",
            "layout": "IPY_MODEL_b9ef77ea432d489ca9fda3219f61fb36"
          }
        },
        "851d6ee86f6843cca47bacdd018d086b": {
          "model_module": "@jupyter-widgets/controls",
          "model_name": "FloatProgressModel",
          "model_module_version": "1.5.0",
          "state": {
            "_view_name": "ProgressView",
            "style": "IPY_MODEL_ce5c068a69f94b268e6b20ae712f5679",
            "_dom_classes": [],
            "description": "",
            "_model_name": "FloatProgressModel",
            "bar_style": "",
            "max": 856,
            "_view_module": "@jupyter-widgets/controls",
            "_model_module_version": "1.5.0",
            "value": 856,
            "_view_count": null,
            "_view_module_version": "1.5.0",
            "orientation": "horizontal",
            "min": 0,
            "description_tooltip": null,
            "_model_module": "@jupyter-widgets/controls",
            "layout": "IPY_MODEL_edce2edfc745432988e739b1f5ed0df3"
          }
        },
        "348cfb66330145c2a42b8ff7762ce52d": {
          "model_module": "@jupyter-widgets/controls",
          "model_name": "HTMLModel",
          "model_module_version": "1.5.0",
          "state": {
            "_view_name": "HTMLView",
            "style": "IPY_MODEL_21c1a14c8d8241398e38f7b2da3ee013",
            "_dom_classes": [],
            "description": "",
            "_model_name": "HTMLModel",
            "placeholder": "​",
            "_view_module": "@jupyter-widgets/controls",
            "_model_module_version": "1.5.0",
            "value": " 856/856 [02:13&lt;00:00,  6.43it/s]",
            "_view_count": null,
            "_view_module_version": "1.5.0",
            "description_tooltip": null,
            "_model_module": "@jupyter-widgets/controls",
            "layout": "IPY_MODEL_a718f065b65c49daba32d9de8200b8d5"
          }
        },
        "2650e05f8d3b40bf8108722dbb23f352": {
          "model_module": "@jupyter-widgets/controls",
          "model_name": "DescriptionStyleModel",
          "model_module_version": "1.5.0",
          "state": {
            "_view_name": "StyleView",
            "_model_name": "DescriptionStyleModel",
            "description_width": "",
            "_view_module": "@jupyter-widgets/base",
            "_model_module_version": "1.5.0",
            "_view_count": null,
            "_view_module_version": "1.2.0",
            "_model_module": "@jupyter-widgets/controls"
          }
        },
        "b9ef77ea432d489ca9fda3219f61fb36": {
          "model_module": "@jupyter-widgets/base",
          "model_name": "LayoutModel",
          "model_module_version": "1.2.0",
          "state": {
            "_view_name": "LayoutView",
            "grid_template_rows": null,
            "right": null,
            "justify_content": null,
            "_view_module": "@jupyter-widgets/base",
            "overflow": null,
            "_model_module_version": "1.2.0",
            "_view_count": null,
            "flex_flow": null,
            "width": null,
            "min_width": null,
            "border": null,
            "align_items": null,
            "bottom": null,
            "_model_module": "@jupyter-widgets/base",
            "top": null,
            "grid_column": null,
            "overflow_y": null,
            "overflow_x": null,
            "grid_auto_flow": null,
            "grid_area": null,
            "grid_template_columns": null,
            "flex": null,
            "_model_name": "LayoutModel",
            "justify_items": null,
            "grid_row": null,
            "max_height": null,
            "align_content": null,
            "visibility": null,
            "align_self": null,
            "height": null,
            "min_height": null,
            "padding": null,
            "grid_auto_rows": null,
            "grid_gap": null,
            "max_width": null,
            "order": null,
            "_view_module_version": "1.2.0",
            "grid_template_areas": null,
            "object_position": null,
            "object_fit": null,
            "grid_auto_columns": null,
            "margin": null,
            "display": null,
            "left": null
          }
        },
        "ce5c068a69f94b268e6b20ae712f5679": {
          "model_module": "@jupyter-widgets/controls",
          "model_name": "ProgressStyleModel",
          "model_module_version": "1.5.0",
          "state": {
            "_view_name": "StyleView",
            "_model_name": "ProgressStyleModel",
            "description_width": "",
            "_view_module": "@jupyter-widgets/base",
            "_model_module_version": "1.5.0",
            "_view_count": null,
            "_view_module_version": "1.2.0",
            "bar_color": null,
            "_model_module": "@jupyter-widgets/controls"
          }
        },
        "edce2edfc745432988e739b1f5ed0df3": {
          "model_module": "@jupyter-widgets/base",
          "model_name": "LayoutModel",
          "model_module_version": "1.2.0",
          "state": {
            "_view_name": "LayoutView",
            "grid_template_rows": null,
            "right": null,
            "justify_content": null,
            "_view_module": "@jupyter-widgets/base",
            "overflow": null,
            "_model_module_version": "1.2.0",
            "_view_count": null,
            "flex_flow": null,
            "width": null,
            "min_width": null,
            "border": null,
            "align_items": null,
            "bottom": null,
            "_model_module": "@jupyter-widgets/base",
            "top": null,
            "grid_column": null,
            "overflow_y": null,
            "overflow_x": null,
            "grid_auto_flow": null,
            "grid_area": null,
            "grid_template_columns": null,
            "flex": "2",
            "_model_name": "LayoutModel",
            "justify_items": null,
            "grid_row": null,
            "max_height": null,
            "align_content": null,
            "visibility": null,
            "align_self": null,
            "height": null,
            "min_height": null,
            "padding": null,
            "grid_auto_rows": null,
            "grid_gap": null,
            "max_width": null,
            "order": null,
            "_view_module_version": "1.2.0",
            "grid_template_areas": null,
            "object_position": null,
            "object_fit": null,
            "grid_auto_columns": null,
            "margin": null,
            "display": null,
            "left": null
          }
        },
        "21c1a14c8d8241398e38f7b2da3ee013": {
          "model_module": "@jupyter-widgets/controls",
          "model_name": "DescriptionStyleModel",
          "model_module_version": "1.5.0",
          "state": {
            "_view_name": "StyleView",
            "_model_name": "DescriptionStyleModel",
            "description_width": "",
            "_view_module": "@jupyter-widgets/base",
            "_model_module_version": "1.5.0",
            "_view_count": null,
            "_view_module_version": "1.2.0",
            "_model_module": "@jupyter-widgets/controls"
          }
        },
        "a718f065b65c49daba32d9de8200b8d5": {
          "model_module": "@jupyter-widgets/base",
          "model_name": "LayoutModel",
          "model_module_version": "1.2.0",
          "state": {
            "_view_name": "LayoutView",
            "grid_template_rows": null,
            "right": null,
            "justify_content": null,
            "_view_module": "@jupyter-widgets/base",
            "overflow": null,
            "_model_module_version": "1.2.0",
            "_view_count": null,
            "flex_flow": null,
            "width": null,
            "min_width": null,
            "border": null,
            "align_items": null,
            "bottom": null,
            "_model_module": "@jupyter-widgets/base",
            "top": null,
            "grid_column": null,
            "overflow_y": null,
            "overflow_x": null,
            "grid_auto_flow": null,
            "grid_area": null,
            "grid_template_columns": null,
            "flex": null,
            "_model_name": "LayoutModel",
            "justify_items": null,
            "grid_row": null,
            "max_height": null,
            "align_content": null,
            "visibility": null,
            "align_self": null,
            "height": null,
            "min_height": null,
            "padding": null,
            "grid_auto_rows": null,
            "grid_gap": null,
            "max_width": null,
            "order": null,
            "_view_module_version": "1.2.0",
            "grid_template_areas": null,
            "object_position": null,
            "object_fit": null,
            "grid_auto_columns": null,
            "margin": null,
            "display": null,
            "left": null
          }
        },
        "6272a7590fcc48fc9700a35bc6b3e952": {
          "model_module": "@jupyter-widgets/controls",
          "model_name": "HBoxModel",
          "model_module_version": "1.5.0",
          "state": {
            "_view_name": "HBoxView",
            "_dom_classes": [],
            "_model_name": "HBoxModel",
            "_view_module": "@jupyter-widgets/controls",
            "_model_module_version": "1.5.0",
            "_view_count": null,
            "_view_module_version": "1.5.0",
            "box_style": "",
            "layout": "IPY_MODEL_daef733358704463874db3c81ca9fbbb",
            "_model_module": "@jupyter-widgets/controls",
            "children": [
              "IPY_MODEL_ee00435a5dc3405c8d0aabccd4bb0f06",
              "IPY_MODEL_a57ca65e33994ac7992323cbfca1387c",
              "IPY_MODEL_d3bf2be747c548998b229fd1ee8084b4"
            ]
          }
        },
        "daef733358704463874db3c81ca9fbbb": {
          "model_module": "@jupyter-widgets/base",
          "model_name": "LayoutModel",
          "model_module_version": "1.2.0",
          "state": {
            "_view_name": "LayoutView",
            "grid_template_rows": null,
            "right": null,
            "justify_content": null,
            "_view_module": "@jupyter-widgets/base",
            "overflow": null,
            "_model_module_version": "1.2.0",
            "_view_count": null,
            "flex_flow": "row wrap",
            "width": "100%",
            "min_width": null,
            "border": null,
            "align_items": null,
            "bottom": null,
            "_model_module": "@jupyter-widgets/base",
            "top": null,
            "grid_column": null,
            "overflow_y": null,
            "overflow_x": null,
            "grid_auto_flow": null,
            "grid_area": null,
            "grid_template_columns": null,
            "flex": null,
            "_model_name": "LayoutModel",
            "justify_items": null,
            "grid_row": null,
            "max_height": null,
            "align_content": null,
            "visibility": null,
            "align_self": null,
            "height": null,
            "min_height": null,
            "padding": null,
            "grid_auto_rows": null,
            "grid_gap": null,
            "max_width": null,
            "order": null,
            "_view_module_version": "1.2.0",
            "grid_template_areas": null,
            "object_position": null,
            "object_fit": null,
            "grid_auto_columns": null,
            "margin": null,
            "display": "inline-flex",
            "left": null
          }
        },
        "ee00435a5dc3405c8d0aabccd4bb0f06": {
          "model_module": "@jupyter-widgets/controls",
          "model_name": "HTMLModel",
          "model_module_version": "1.5.0",
          "state": {
            "_view_name": "HTMLView",
            "style": "IPY_MODEL_279ff041b325461f917f4d2214546712",
            "_dom_classes": [],
            "description": "",
            "_model_name": "HTMLModel",
            "placeholder": "​",
            "_view_module": "@jupyter-widgets/controls",
            "_model_module_version": "1.5.0",
            "value": "Validating: 100%",
            "_view_count": null,
            "_view_module_version": "1.5.0",
            "description_tooltip": null,
            "_model_module": "@jupyter-widgets/controls",
            "layout": "IPY_MODEL_c5e2a8b016d146d9869c9303ba2ea97e"
          }
        },
        "a57ca65e33994ac7992323cbfca1387c": {
          "model_module": "@jupyter-widgets/controls",
          "model_name": "FloatProgressModel",
          "model_module_version": "1.5.0",
          "state": {
            "_view_name": "ProgressView",
            "style": "IPY_MODEL_d5cc26f3edfd43e18b761742b99c6501",
            "_dom_classes": [],
            "description": "",
            "_model_name": "FloatProgressModel",
            "bar_style": "",
            "max": 856,
            "_view_module": "@jupyter-widgets/controls",
            "_model_module_version": "1.5.0",
            "value": 856,
            "_view_count": null,
            "_view_module_version": "1.5.0",
            "orientation": "horizontal",
            "min": 0,
            "description_tooltip": null,
            "_model_module": "@jupyter-widgets/controls",
            "layout": "IPY_MODEL_2f6f703ad96844f1b44a61ecb13c71ef"
          }
        },
        "d3bf2be747c548998b229fd1ee8084b4": {
          "model_module": "@jupyter-widgets/controls",
          "model_name": "HTMLModel",
          "model_module_version": "1.5.0",
          "state": {
            "_view_name": "HTMLView",
            "style": "IPY_MODEL_642c399ec95640e3a9cf3b184af3ea7e",
            "_dom_classes": [],
            "description": "",
            "_model_name": "HTMLModel",
            "placeholder": "​",
            "_view_module": "@jupyter-widgets/controls",
            "_model_module_version": "1.5.0",
            "value": " 856/856 [02:13&lt;00:00,  6.40it/s]",
            "_view_count": null,
            "_view_module_version": "1.5.0",
            "description_tooltip": null,
            "_model_module": "@jupyter-widgets/controls",
            "layout": "IPY_MODEL_154fd20863384747bec84df5d6678a17"
          }
        },
        "279ff041b325461f917f4d2214546712": {
          "model_module": "@jupyter-widgets/controls",
          "model_name": "DescriptionStyleModel",
          "model_module_version": "1.5.0",
          "state": {
            "_view_name": "StyleView",
            "_model_name": "DescriptionStyleModel",
            "description_width": "",
            "_view_module": "@jupyter-widgets/base",
            "_model_module_version": "1.5.0",
            "_view_count": null,
            "_view_module_version": "1.2.0",
            "_model_module": "@jupyter-widgets/controls"
          }
        },
        "c5e2a8b016d146d9869c9303ba2ea97e": {
          "model_module": "@jupyter-widgets/base",
          "model_name": "LayoutModel",
          "model_module_version": "1.2.0",
          "state": {
            "_view_name": "LayoutView",
            "grid_template_rows": null,
            "right": null,
            "justify_content": null,
            "_view_module": "@jupyter-widgets/base",
            "overflow": null,
            "_model_module_version": "1.2.0",
            "_view_count": null,
            "flex_flow": null,
            "width": null,
            "min_width": null,
            "border": null,
            "align_items": null,
            "bottom": null,
            "_model_module": "@jupyter-widgets/base",
            "top": null,
            "grid_column": null,
            "overflow_y": null,
            "overflow_x": null,
            "grid_auto_flow": null,
            "grid_area": null,
            "grid_template_columns": null,
            "flex": null,
            "_model_name": "LayoutModel",
            "justify_items": null,
            "grid_row": null,
            "max_height": null,
            "align_content": null,
            "visibility": null,
            "align_self": null,
            "height": null,
            "min_height": null,
            "padding": null,
            "grid_auto_rows": null,
            "grid_gap": null,
            "max_width": null,
            "order": null,
            "_view_module_version": "1.2.0",
            "grid_template_areas": null,
            "object_position": null,
            "object_fit": null,
            "grid_auto_columns": null,
            "margin": null,
            "display": null,
            "left": null
          }
        },
        "d5cc26f3edfd43e18b761742b99c6501": {
          "model_module": "@jupyter-widgets/controls",
          "model_name": "ProgressStyleModel",
          "model_module_version": "1.5.0",
          "state": {
            "_view_name": "StyleView",
            "_model_name": "ProgressStyleModel",
            "description_width": "",
            "_view_module": "@jupyter-widgets/base",
            "_model_module_version": "1.5.0",
            "_view_count": null,
            "_view_module_version": "1.2.0",
            "bar_color": null,
            "_model_module": "@jupyter-widgets/controls"
          }
        },
        "2f6f703ad96844f1b44a61ecb13c71ef": {
          "model_module": "@jupyter-widgets/base",
          "model_name": "LayoutModel",
          "model_module_version": "1.2.0",
          "state": {
            "_view_name": "LayoutView",
            "grid_template_rows": null,
            "right": null,
            "justify_content": null,
            "_view_module": "@jupyter-widgets/base",
            "overflow": null,
            "_model_module_version": "1.2.0",
            "_view_count": null,
            "flex_flow": null,
            "width": null,
            "min_width": null,
            "border": null,
            "align_items": null,
            "bottom": null,
            "_model_module": "@jupyter-widgets/base",
            "top": null,
            "grid_column": null,
            "overflow_y": null,
            "overflow_x": null,
            "grid_auto_flow": null,
            "grid_area": null,
            "grid_template_columns": null,
            "flex": "2",
            "_model_name": "LayoutModel",
            "justify_items": null,
            "grid_row": null,
            "max_height": null,
            "align_content": null,
            "visibility": null,
            "align_self": null,
            "height": null,
            "min_height": null,
            "padding": null,
            "grid_auto_rows": null,
            "grid_gap": null,
            "max_width": null,
            "order": null,
            "_view_module_version": "1.2.0",
            "grid_template_areas": null,
            "object_position": null,
            "object_fit": null,
            "grid_auto_columns": null,
            "margin": null,
            "display": null,
            "left": null
          }
        },
        "642c399ec95640e3a9cf3b184af3ea7e": {
          "model_module": "@jupyter-widgets/controls",
          "model_name": "DescriptionStyleModel",
          "model_module_version": "1.5.0",
          "state": {
            "_view_name": "StyleView",
            "_model_name": "DescriptionStyleModel",
            "description_width": "",
            "_view_module": "@jupyter-widgets/base",
            "_model_module_version": "1.5.0",
            "_view_count": null,
            "_view_module_version": "1.2.0",
            "_model_module": "@jupyter-widgets/controls"
          }
        },
        "154fd20863384747bec84df5d6678a17": {
          "model_module": "@jupyter-widgets/base",
          "model_name": "LayoutModel",
          "model_module_version": "1.2.0",
          "state": {
            "_view_name": "LayoutView",
            "grid_template_rows": null,
            "right": null,
            "justify_content": null,
            "_view_module": "@jupyter-widgets/base",
            "overflow": null,
            "_model_module_version": "1.2.0",
            "_view_count": null,
            "flex_flow": null,
            "width": null,
            "min_width": null,
            "border": null,
            "align_items": null,
            "bottom": null,
            "_model_module": "@jupyter-widgets/base",
            "top": null,
            "grid_column": null,
            "overflow_y": null,
            "overflow_x": null,
            "grid_auto_flow": null,
            "grid_area": null,
            "grid_template_columns": null,
            "flex": null,
            "_model_name": "LayoutModel",
            "justify_items": null,
            "grid_row": null,
            "max_height": null,
            "align_content": null,
            "visibility": null,
            "align_self": null,
            "height": null,
            "min_height": null,
            "padding": null,
            "grid_auto_rows": null,
            "grid_gap": null,
            "max_width": null,
            "order": null,
            "_view_module_version": "1.2.0",
            "grid_template_areas": null,
            "object_position": null,
            "object_fit": null,
            "grid_auto_columns": null,
            "margin": null,
            "display": null,
            "left": null
          }
        },
        "7b9880353d244fcf97fb00ee712e527c": {
          "model_module": "@jupyter-widgets/controls",
          "model_name": "HBoxModel",
          "model_module_version": "1.5.0",
          "state": {
            "_view_name": "HBoxView",
            "_dom_classes": [],
            "_model_name": "HBoxModel",
            "_view_module": "@jupyter-widgets/controls",
            "_model_module_version": "1.5.0",
            "_view_count": null,
            "_view_module_version": "1.5.0",
            "box_style": "",
            "layout": "IPY_MODEL_7d00d2c50a2f4620917b25022355b498",
            "_model_module": "@jupyter-widgets/controls",
            "children": [
              "IPY_MODEL_eeb7b40bc5624594add936fd62655766",
              "IPY_MODEL_0c7a06ea9fd54e0eb9b29c0f44871b08",
              "IPY_MODEL_9e8f2fb1000a4870bdca7cfc0fc9328c"
            ]
          }
        },
        "7d00d2c50a2f4620917b25022355b498": {
          "model_module": "@jupyter-widgets/base",
          "model_name": "LayoutModel",
          "model_module_version": "1.2.0",
          "state": {
            "_view_name": "LayoutView",
            "grid_template_rows": null,
            "right": null,
            "justify_content": null,
            "_view_module": "@jupyter-widgets/base",
            "overflow": null,
            "_model_module_version": "1.2.0",
            "_view_count": null,
            "flex_flow": null,
            "width": null,
            "min_width": null,
            "border": null,
            "align_items": null,
            "bottom": null,
            "_model_module": "@jupyter-widgets/base",
            "top": null,
            "grid_column": null,
            "overflow_y": null,
            "overflow_x": null,
            "grid_auto_flow": null,
            "grid_area": null,
            "grid_template_columns": null,
            "flex": null,
            "_model_name": "LayoutModel",
            "justify_items": null,
            "grid_row": null,
            "max_height": null,
            "align_content": null,
            "visibility": null,
            "align_self": null,
            "height": null,
            "min_height": null,
            "padding": null,
            "grid_auto_rows": null,
            "grid_gap": null,
            "max_width": null,
            "order": null,
            "_view_module_version": "1.2.0",
            "grid_template_areas": null,
            "object_position": null,
            "object_fit": null,
            "grid_auto_columns": null,
            "margin": null,
            "display": null,
            "left": null
          }
        },
        "eeb7b40bc5624594add936fd62655766": {
          "model_module": "@jupyter-widgets/controls",
          "model_name": "HTMLModel",
          "model_module_version": "1.5.0",
          "state": {
            "_view_name": "HTMLView",
            "style": "IPY_MODEL_24a2f7882519400f8f230d996ea4ce30",
            "_dom_classes": [],
            "description": "",
            "_model_name": "HTMLModel",
            "placeholder": "​",
            "_view_module": "@jupyter-widgets/controls",
            "_model_module_version": "1.5.0",
            "value": "100%",
            "_view_count": null,
            "_view_module_version": "1.5.0",
            "description_tooltip": null,
            "_model_module": "@jupyter-widgets/controls",
            "layout": "IPY_MODEL_2babeec8e8124a8ab617356f029126d9"
          }
        },
        "0c7a06ea9fd54e0eb9b29c0f44871b08": {
          "model_module": "@jupyter-widgets/controls",
          "model_name": "FloatProgressModel",
          "model_module_version": "1.5.0",
          "state": {
            "_view_name": "ProgressView",
            "style": "IPY_MODEL_0159581b00f641ea988fb287549c9604",
            "_dom_classes": [],
            "description": "",
            "_model_name": "FloatProgressModel",
            "bar_style": "success",
            "max": 2500,
            "_view_module": "@jupyter-widgets/controls",
            "_model_module_version": "1.5.0",
            "value": 2500,
            "_view_count": null,
            "_view_module_version": "1.5.0",
            "orientation": "horizontal",
            "min": 0,
            "description_tooltip": null,
            "_model_module": "@jupyter-widgets/controls",
            "layout": "IPY_MODEL_084296ebc64c4bbb8d15a7846a24a7a9"
          }
        },
        "9e8f2fb1000a4870bdca7cfc0fc9328c": {
          "model_module": "@jupyter-widgets/controls",
          "model_name": "HTMLModel",
          "model_module_version": "1.5.0",
          "state": {
            "_view_name": "HTMLView",
            "style": "IPY_MODEL_bdf07d22a0b647d582eb0c346c32e0c5",
            "_dom_classes": [],
            "description": "",
            "_model_name": "HTMLModel",
            "placeholder": "​",
            "_view_module": "@jupyter-widgets/controls",
            "_model_module_version": "1.5.0",
            "value": " 2500/2500 [01:38&lt;00:00, 24.13it/s]",
            "_view_count": null,
            "_view_module_version": "1.5.0",
            "description_tooltip": null,
            "_model_module": "@jupyter-widgets/controls",
            "layout": "IPY_MODEL_f773d79907c54ddcb16baa00cd1bff82"
          }
        },
        "24a2f7882519400f8f230d996ea4ce30": {
          "model_module": "@jupyter-widgets/controls",
          "model_name": "DescriptionStyleModel",
          "model_module_version": "1.5.0",
          "state": {
            "_view_name": "StyleView",
            "_model_name": "DescriptionStyleModel",
            "description_width": "",
            "_view_module": "@jupyter-widgets/base",
            "_model_module_version": "1.5.0",
            "_view_count": null,
            "_view_module_version": "1.2.0",
            "_model_module": "@jupyter-widgets/controls"
          }
        },
        "2babeec8e8124a8ab617356f029126d9": {
          "model_module": "@jupyter-widgets/base",
          "model_name": "LayoutModel",
          "model_module_version": "1.2.0",
          "state": {
            "_view_name": "LayoutView",
            "grid_template_rows": null,
            "right": null,
            "justify_content": null,
            "_view_module": "@jupyter-widgets/base",
            "overflow": null,
            "_model_module_version": "1.2.0",
            "_view_count": null,
            "flex_flow": null,
            "width": null,
            "min_width": null,
            "border": null,
            "align_items": null,
            "bottom": null,
            "_model_module": "@jupyter-widgets/base",
            "top": null,
            "grid_column": null,
            "overflow_y": null,
            "overflow_x": null,
            "grid_auto_flow": null,
            "grid_area": null,
            "grid_template_columns": null,
            "flex": null,
            "_model_name": "LayoutModel",
            "justify_items": null,
            "grid_row": null,
            "max_height": null,
            "align_content": null,
            "visibility": null,
            "align_self": null,
            "height": null,
            "min_height": null,
            "padding": null,
            "grid_auto_rows": null,
            "grid_gap": null,
            "max_width": null,
            "order": null,
            "_view_module_version": "1.2.0",
            "grid_template_areas": null,
            "object_position": null,
            "object_fit": null,
            "grid_auto_columns": null,
            "margin": null,
            "display": null,
            "left": null
          }
        },
        "0159581b00f641ea988fb287549c9604": {
          "model_module": "@jupyter-widgets/controls",
          "model_name": "ProgressStyleModel",
          "model_module_version": "1.5.0",
          "state": {
            "_view_name": "StyleView",
            "_model_name": "ProgressStyleModel",
            "description_width": "",
            "_view_module": "@jupyter-widgets/base",
            "_model_module_version": "1.5.0",
            "_view_count": null,
            "_view_module_version": "1.2.0",
            "bar_color": null,
            "_model_module": "@jupyter-widgets/controls"
          }
        },
        "084296ebc64c4bbb8d15a7846a24a7a9": {
          "model_module": "@jupyter-widgets/base",
          "model_name": "LayoutModel",
          "model_module_version": "1.2.0",
          "state": {
            "_view_name": "LayoutView",
            "grid_template_rows": null,
            "right": null,
            "justify_content": null,
            "_view_module": "@jupyter-widgets/base",
            "overflow": null,
            "_model_module_version": "1.2.0",
            "_view_count": null,
            "flex_flow": null,
            "width": null,
            "min_width": null,
            "border": null,
            "align_items": null,
            "bottom": null,
            "_model_module": "@jupyter-widgets/base",
            "top": null,
            "grid_column": null,
            "overflow_y": null,
            "overflow_x": null,
            "grid_auto_flow": null,
            "grid_area": null,
            "grid_template_columns": null,
            "flex": null,
            "_model_name": "LayoutModel",
            "justify_items": null,
            "grid_row": null,
            "max_height": null,
            "align_content": null,
            "visibility": null,
            "align_self": null,
            "height": null,
            "min_height": null,
            "padding": null,
            "grid_auto_rows": null,
            "grid_gap": null,
            "max_width": null,
            "order": null,
            "_view_module_version": "1.2.0",
            "grid_template_areas": null,
            "object_position": null,
            "object_fit": null,
            "grid_auto_columns": null,
            "margin": null,
            "display": null,
            "left": null
          }
        },
        "bdf07d22a0b647d582eb0c346c32e0c5": {
          "model_module": "@jupyter-widgets/controls",
          "model_name": "DescriptionStyleModel",
          "model_module_version": "1.5.0",
          "state": {
            "_view_name": "StyleView",
            "_model_name": "DescriptionStyleModel",
            "description_width": "",
            "_view_module": "@jupyter-widgets/base",
            "_model_module_version": "1.5.0",
            "_view_count": null,
            "_view_module_version": "1.2.0",
            "_model_module": "@jupyter-widgets/controls"
          }
        },
        "f773d79907c54ddcb16baa00cd1bff82": {
          "model_module": "@jupyter-widgets/base",
          "model_name": "LayoutModel",
          "model_module_version": "1.2.0",
          "state": {
            "_view_name": "LayoutView",
            "grid_template_rows": null,
            "right": null,
            "justify_content": null,
            "_view_module": "@jupyter-widgets/base",
            "overflow": null,
            "_model_module_version": "1.2.0",
            "_view_count": null,
            "flex_flow": null,
            "width": null,
            "min_width": null,
            "border": null,
            "align_items": null,
            "bottom": null,
            "_model_module": "@jupyter-widgets/base",
            "top": null,
            "grid_column": null,
            "overflow_y": null,
            "overflow_x": null,
            "grid_auto_flow": null,
            "grid_area": null,
            "grid_template_columns": null,
            "flex": null,
            "_model_name": "LayoutModel",
            "justify_items": null,
            "grid_row": null,
            "max_height": null,
            "align_content": null,
            "visibility": null,
            "align_self": null,
            "height": null,
            "min_height": null,
            "padding": null,
            "grid_auto_rows": null,
            "grid_gap": null,
            "max_width": null,
            "order": null,
            "_view_module_version": "1.2.0",
            "grid_template_areas": null,
            "object_position": null,
            "object_fit": null,
            "grid_auto_columns": null,
            "margin": null,
            "display": null,
            "left": null
          }
        }
      }
    }
  },
  "cells": [
    {
      "cell_type": "code",
      "metadata": {
        "id": "mAzPXKFb3aPE",
        "colab": {
          "base_uri": "https://localhost:8080/"
        },
        "outputId": "09c335e4-a849-4767-c0bb-cec28f544702"
      },
      "source": [
        "from google.colab import drive\n",
        "drive.mount('/content/drive')"
      ],
      "execution_count": null,
      "outputs": [
        {
          "output_type": "stream",
          "name": "stdout",
          "text": [
            "Mounted at /content/drive\n"
          ]
        }
      ]
    },
    {
      "cell_type": "code",
      "metadata": {
        "id": "cPe1wmKi3d9W"
      },
      "source": [
        "import warnings\n",
        "warnings.filterwarnings('ignore')"
      ],
      "execution_count": null,
      "outputs": []
    },
    {
      "cell_type": "code",
      "metadata": {
        "colab": {
          "base_uri": "https://localhost:8080/"
        },
        "id": "BIy49QkB3mTQ",
        "outputId": "347a2c24-1b22-4596-999a-7d1152bfa35e"
      },
      "source": [
        "!nvidia-smi"
      ],
      "execution_count": null,
      "outputs": [
        {
          "output_type": "stream",
          "name": "stdout",
          "text": [
            "Mon Sep 13 06:13:06 2021       \n",
            "+-----------------------------------------------------------------------------+\n",
            "| NVIDIA-SMI 470.63.01    Driver Version: 460.32.03    CUDA Version: 11.2     |\n",
            "|-------------------------------+----------------------+----------------------+\n",
            "| GPU  Name        Persistence-M| Bus-Id        Disp.A | Volatile Uncorr. ECC |\n",
            "| Fan  Temp  Perf  Pwr:Usage/Cap|         Memory-Usage | GPU-Util  Compute M. |\n",
            "|                               |                      |               MIG M. |\n",
            "|===============================+======================+======================|\n",
            "|   0  Tesla T4            Off  | 00000000:00:04.0 Off |                    0 |\n",
            "| N/A   35C    P8    10W /  70W |      0MiB / 15109MiB |      0%      Default |\n",
            "|                               |                      |                  N/A |\n",
            "+-------------------------------+----------------------+----------------------+\n",
            "                                                                               \n",
            "+-----------------------------------------------------------------------------+\n",
            "| Processes:                                                                  |\n",
            "|  GPU   GI   CI        PID   Type   Process name                  GPU Memory |\n",
            "|        ID   ID                                                   Usage      |\n",
            "|=============================================================================|\n",
            "|  No running processes found                                                 |\n",
            "+-----------------------------------------------------------------------------+\n"
          ]
        }
      ]
    },
    {
      "cell_type": "code",
      "metadata": {
        "id": "4ws94rYx3nUX",
        "colab": {
          "base_uri": "https://localhost:8080/"
        },
        "outputId": "37455740-abb8-4880-c251-11101a19c7e7"
      },
      "source": [
        "!pip install --quiet transformers\n",
        "!pip install --quiet pytorch-lightning"
      ],
      "execution_count": null,
      "outputs": [
        {
          "output_type": "stream",
          "name": "stdout",
          "text": [
            "\u001b[K     |████████████████████████████████| 2.8 MB 7.1 MB/s \n",
            "\u001b[K     |████████████████████████████████| 895 kB 65.9 MB/s \n",
            "\u001b[K     |████████████████████████████████| 636 kB 75.0 MB/s \n",
            "\u001b[K     |████████████████████████████████| 50 kB 9.1 MB/s \n",
            "\u001b[K     |████████████████████████████████| 3.3 MB 67.4 MB/s \n",
            "\u001b[K     |████████████████████████████████| 922 kB 8.5 MB/s \n",
            "\u001b[K     |████████████████████████████████| 119 kB 72.8 MB/s \n",
            "\u001b[K     |████████████████████████████████| 282 kB 74.8 MB/s \n",
            "\u001b[K     |████████████████████████████████| 829 kB 60.4 MB/s \n",
            "\u001b[K     |████████████████████████████████| 1.3 MB 61.3 MB/s \n",
            "\u001b[K     |████████████████████████████████| 294 kB 94.2 MB/s \n",
            "\u001b[K     |████████████████████████████████| 142 kB 88.7 MB/s \n",
            "\u001b[?25h  Building wheel for future (setup.py) ... \u001b[?25l\u001b[?25hdone\n"
          ]
        }
      ]
    },
    {
      "cell_type": "code",
      "metadata": {
        "colab": {
          "base_uri": "https://localhost:8080/"
        },
        "id": "dg5TSCRB3tn0",
        "outputId": "5a78fb7c-6beb-4193-aa2d-e110ae719c4a"
      },
      "source": [
        "import pandas as pd\n",
        "import numpy as np\n",
        "\n",
        "from tqdm.auto import tqdm\n",
        "\n",
        "import torch\n",
        "import torch.nn as nn\n",
        "from torch.utils.data import Dataset, DataLoader\n",
        "\n",
        "from transformers import AutoTokenizer, AutoModel, AdamW, get_linear_schedule_with_warmup\n",
        "\n",
        "import pytorch_lightning as pl\n",
        "from pytorch_lightning.metrics.functional import accuracy, f1, auroc\n",
        "from pytorch_lightning.callbacks import ModelCheckpoint, EarlyStopping\n",
        "from pytorch_lightning.loggers import TensorBoardLogger\n",
        "\n",
        "from sklearn.model_selection import train_test_split\n",
        "from sklearn.metrics import classification_report, multilabel_confusion_matrix\n",
        "\n",
        "import seaborn as sns\n",
        "from pylab import rcParams\n",
        "import matplotlib.pyplot as plt\n",
        "from matplotlib import rc\n",
        "\n",
        "%matplotlib inline  \n",
        "%config InlineBackend.figure_format='retina'\n",
        "\n",
        "RANDOM_SEED = 42\n",
        "\n",
        "sns.set(style='whitegrid', palette='muted', font_scale=1.2)\n",
        "HAPPY_COLORS_PALETTE = [\"#01BEFE\", \"#FFDD00\", \"#FF7D00\", \"#FF006D\", \"#ADFF02\", \"#8F00FF\"]\n",
        "sns.set_palette(sns.color_palette(HAPPY_COLORS_PALETTE))\n",
        "rcParams['figure.figsize'] = 12, 8\n",
        "\n",
        "pl.seed_everything(RANDOM_SEED)\n",
        "\n",
        "from collections import Counter"
      ],
      "execution_count": null,
      "outputs": [
        {
          "output_type": "stream",
          "name": "stderr",
          "text": [
            "Global seed set to 42\n"
          ]
        }
      ]
    },
    {
      "cell_type": "code",
      "metadata": {
        "colab": {
          "base_uri": "https://localhost:8080/"
        },
        "id": "2J-G5I493xNb",
        "outputId": "76b38b15-17e1-42fb-ae9c-82914f21016f"
      },
      "source": [
        "# import dataset\n",
        "train_df = pd.read_csv('drive/MyDrive/Biocreative/Biocreative/datasets/TRAIN.csv')\n",
        "train_df = train_df.sample(frac=1).reset_index(drop=True)\n",
        "train_df.head(), train_df.shape"
      ],
      "execution_count": null,
      "outputs": [
        {
          "output_type": "execute_result",
          "data": {
            "text/plain": [
              "(       pmid  ...                                     Title&Keywords\n",
              " 0  32265202  ...  Ocular manifestation hospitalised patient conf...\n",
              " 1  33036702  ...  COVID-19 senior Findings lesson mass screening...\n",
              " 2  32406522  ...  COVID-19 Focus lung forget gastrointestinal tr...\n",
              " 3  32599534  ...  subcutaneous insulin administration adequate m...\n",
              " 4  33005463  ...  First Case COVID-19-Associated Collapsing Glom...\n",
              " \n",
              " [5 rows x 13 columns], (30738, 13))"
            ]
          },
          "metadata": {},
          "execution_count": 8
        }
      ]
    },
    {
      "cell_type": "code",
      "metadata": {
        "id": "nPHjZkeR33dn",
        "colab": {
          "base_uri": "https://localhost:8080/"
        },
        "outputId": "6dfc71c1-9fe4-4ebc-9847-17824f53aa4b"
      },
      "source": [
        "LABEL_COLUMNS = train_df.columns.tolist()[5:-1]\n",
        "print(list(LABEL_COLUMNS))"
      ],
      "execution_count": null,
      "outputs": [
        {
          "output_type": "stream",
          "name": "stdout",
          "text": [
            "['Case Report', 'Diagnosis', 'Epidemic Forecasting', 'Mechanism', 'Prevention', 'Transmission', 'Treatment']\n"
          ]
        }
      ]
    },
    {
      "cell_type": "code",
      "metadata": {
        "colab": {
          "base_uri": "https://localhost:8080/",
          "height": 98,
          "referenced_widgets": [
            "27e72bc658904a349498e3bf799ec682",
            "99b65d8b6049402c99d96566059c44c3",
            "fa0b46a5bfad4a068dcd616dc92a9a60",
            "46e739a13d894f658d3394c4114693b9",
            "1707fe4801d74bf0805edf9ad3c8979b",
            "4c33f0883ae049ccaa9769b0a15d3a27",
            "7e1e182bedf14b7b8980501aa8cd2986",
            "ded6c08b47b84389b05a33eff243aa57",
            "c620989ec17e4261a760473d5ebcafce",
            "61d2349b88ef4cef9ca0a340e12b3a88",
            "7a18fce7e87e4efda9b636929707de7c",
            "00246a52fe9d44ef92ee52a39b258886",
            "0190f83f01444f67b56ba49f57ef0212",
            "790a87bf9b71420e8ce5baf83ccdc28c",
            "6769892e88ce47f8bb4010228f5aa824",
            "371ecf24e60b4bdeba898bc90d79928c",
            "d0638babf8ce45668ccf8fc116665d26",
            "bbee78df354a45f38c998b62d1622aa6",
            "38ab2e8f54b541ad90c2b4765b0274fd",
            "b1ade6347a724c02a949e32b8aa99434",
            "e205aeffb7764eb8b1d21f67bffc1ecc",
            "9bf876f19f31465b983c3c0fad9d79ca"
          ]
        },
        "id": "jvN762J5370f",
        "outputId": "38b20692-1894-4a50-9c81-59bfec4db425"
      },
      "source": [
        "# BERT_MODEL_NAME = 'dmis-lab/biobert-base-cased-v1.1' or 'dmis-lab/biobert-base-cased-v1.2'\n",
        "# Ref : microsoft/BiomedNLP-PubMedBERT-base-uncased-abstract-fulltext\n",
        "# Ref 2.0 : lordtt13/COVID-SciBERT\n",
        "BERT_MODEL_NAME = input(\"Enter Bert Model Name: \")\n",
        "tokenizer = AutoTokenizer.from_pretrained(BERT_MODEL_NAME)"
      ],
      "execution_count": null,
      "outputs": [
        {
          "name": "stdout",
          "output_type": "stream",
          "text": [
            "Enter Bert Model Name: microsoft/BiomedNLP-PubMedBERT-base-uncased-abstract-fulltext\n"
          ]
        },
        {
          "output_type": "display_data",
          "data": {
            "application/vnd.jupyter.widget-view+json": {
              "model_id": "27e72bc658904a349498e3bf799ec682",
              "version_minor": 0,
              "version_major": 2
            },
            "text/plain": [
              "Downloading:   0%|          | 0.00/337 [00:00<?, ?B/s]"
            ]
          },
          "metadata": {}
        },
        {
          "output_type": "display_data",
          "data": {
            "application/vnd.jupyter.widget-view+json": {
              "model_id": "00246a52fe9d44ef92ee52a39b258886",
              "version_minor": 0,
              "version_major": 2
            },
            "text/plain": [
              "Downloading:   0%|          | 0.00/226k [00:00<?, ?B/s]"
            ]
          },
          "metadata": {}
        }
      ]
    },
    {
      "cell_type": "code",
      "metadata": {
        "colab": {
          "base_uri": "https://localhost:8080/",
          "height": 145,
          "referenced_widgets": [
            "d2d5dc43f801499eac08b8129a29f355",
            "4a918a82406548c9a872fb2546055223",
            "36f229f3d75e42ba8c654f453a558270",
            "708dcac60e6d4f60a5e097355cdcd8b8",
            "1053d7ca7e5c449997499066c33cf21d",
            "cb38e57217664fb1b13e25ac4204ab09",
            "ea44f0a688b34812a35c9a038e55b9dc",
            "c8a4961e419b4ca3832d99273c93331b",
            "35ada0ed91ad4320b43423d8ebda8004",
            "eda93ce6fe854dd6848e00d532a7a27f",
            "32a242ed084e4e609fabb685b425e44b",
            "60a2587627ef477c89ba6749ae970fad",
            "5df73ab641324e7587fffd8911fc0b60",
            "48b1fee5d77f4148b7e0e780b91bb297",
            "4698da5c14bc4f439f13c5e8340fdad3",
            "bbb72611db5e426abf76dcdf29f981eb",
            "11f46a0bb2b148acb74fe17cfa10816d",
            "873d7b43bb9e4b15aa27818e437eebd8",
            "2e8dd4b7dec745fab3bd1a7c05c5c564",
            "a878c6cc6e2449468982f88e7e2e276c",
            "99d12074934745ceb4f5e68366044484",
            "2e5f98f0e08d45c1b55bee1cf17a0da1",
            "b7146d17c242475fb71f802f3e8a871a",
            "f76efc4f8c9b46cb9d473a599d4237b4",
            "b35bd27895f44f90b22e272d2f89d3ce",
            "1ab1b32bbdd941e2a46c33f1b23cd7ff",
            "08948771918b4cb08a4b6a8dc6b55716",
            "8393d989b8b24f3e9ec0bf641e4bf271",
            "873f8ddd35634886adf30fdc59918300",
            "bad7a2a8f0ad40ff860d3b467906d090",
            "f5697253988a4cf084adcb835a1d2ec5",
            "044d834c75904b3da552df5045ebaff3",
            "e95db6e5ff954b6c84adf393bac65270",
            "d580e8e982904a7b969f6493ee90a806",
            "fa3ab8c10bb04d01b94e7c978ab7cc49",
            "e4be62b0d84341c181e43397e5233233",
            "2af9aa9f9d3f432aabc2906d77809d43",
            "9d3f457191a440ed94a9185fa39e94ec",
            "3f5a28dc86e24e3c93df41478073c1b9",
            "64eb56a53c404e858326073a2394b5c5",
            "9be8ada23e4941f7a0404cd7bfbed560",
            "7630b95a66b5469da765ade9c1011535",
            "b1a12fac6ba746ffba4c728fb05bacf9",
            "00fe2999c8444a62b3d3a46e1a5f9943"
          ]
        },
        "id": "ewkGGct8EhVo",
        "outputId": "3f4b0c30-63c1-44ac-d2d5-0859d7950584"
      },
      "source": [
        "# model_name = \"allenai/specter\"\n",
        "EMBEDDING_MODEL = \"allenai/specter\"\n",
        "embedding_tokenizer = AutoTokenizer.from_pretrained(EMBEDDING_MODEL)"
      ],
      "execution_count": null,
      "outputs": [
        {
          "output_type": "display_data",
          "data": {
            "application/vnd.jupyter.widget-view+json": {
              "model_id": "d2d5dc43f801499eac08b8129a29f355",
              "version_minor": 0,
              "version_major": 2
            },
            "text/plain": [
              "Downloading:   0%|          | 0.00/321 [00:00<?, ?B/s]"
            ]
          },
          "metadata": {}
        },
        {
          "output_type": "display_data",
          "data": {
            "application/vnd.jupyter.widget-view+json": {
              "model_id": "60a2587627ef477c89ba6749ae970fad",
              "version_minor": 0,
              "version_major": 2
            },
            "text/plain": [
              "Downloading:   0%|          | 0.00/612 [00:00<?, ?B/s]"
            ]
          },
          "metadata": {}
        },
        {
          "output_type": "display_data",
          "data": {
            "application/vnd.jupyter.widget-view+json": {
              "model_id": "b7146d17c242475fb71f802f3e8a871a",
              "version_minor": 0,
              "version_major": 2
            },
            "text/plain": [
              "Downloading:   0%|          | 0.00/222k [00:00<?, ?B/s]"
            ]
          },
          "metadata": {}
        },
        {
          "output_type": "display_data",
          "data": {
            "application/vnd.jupyter.widget-view+json": {
              "model_id": "d580e8e982904a7b969f6493ee90a806",
              "version_minor": 0,
              "version_major": 2
            },
            "text/plain": [
              "Downloading:   0%|          | 0.00/112 [00:00<?, ?B/s]"
            ]
          },
          "metadata": {}
        }
      ]
    },
    {
      "cell_type": "code",
      "metadata": {
        "id": "dPe2NxpZxdRg"
      },
      "source": [
        "title_abs = [row[\"title\"] + embedding_tokenizer.sep_token + (row.get(\"abstract\") or '') for _, row in train_df.iterrows()]"
      ],
      "execution_count": null,
      "outputs": []
    },
    {
      "cell_type": "code",
      "metadata": {
        "id": "tK7yQZRbxy8t"
      },
      "source": [
        "# add title and abstract text\n",
        "train_df[\"title_abs\"] = title_abs"
      ],
      "execution_count": null,
      "outputs": []
    },
    {
      "cell_type": "code",
      "metadata": {
        "colab": {
          "base_uri": "https://localhost:8080/"
        },
        "id": "IhEHKoniFMUN",
        "outputId": "ae7ba110-148d-4c48-e3d0-619e20d878f1"
      },
      "source": [
        "print(\"Label wise data samples: \")\n",
        "train_df[LABEL_COLUMNS].sum().sort_values()"
      ],
      "execution_count": null,
      "outputs": [
        {
          "output_type": "stream",
          "name": "stdout",
          "text": [
            "Label wise data samples: \n"
          ]
        },
        {
          "output_type": "execute_result",
          "data": {
            "text/plain": [
              "Epidemic Forecasting     1528\n",
              "Case Report              2291\n",
              "Transmission             3165\n",
              "Mechanism                5414\n",
              "Diagnosis                7456\n",
              "Treatment               10091\n",
              "Prevention              13998\n",
              "dtype: int64"
            ]
          },
          "metadata": {},
          "execution_count": 14
        }
      ]
    },
    {
      "cell_type": "code",
      "metadata": {
        "id": "z2rEib0m4Q8L"
      },
      "source": [
        "MAX_TOKEN_COUNT = 512"
      ],
      "execution_count": null,
      "outputs": []
    },
    {
      "cell_type": "code",
      "metadata": {
        "id": "gBqnBhdu3-ei"
      },
      "source": [
        "class TopicAnnotationDataset(Dataset):\n",
        "\n",
        "  def __init__(\n",
        "    self,\n",
        "    data: pd.DataFrame,\n",
        "    embedding_tokenizer: AutoTokenizer,\n",
        "    max_token_len: int = 512,\n",
        "  ):\n",
        "    self.embedding_tokenizer = embedding_tokenizer\n",
        "    self.data = data\n",
        "    self.max_token_len = max_token_len\n",
        "    \n",
        "  def __len__(self):\n",
        "    return len(self.data)\n",
        "\n",
        "  def __getitem__(self, index=int):\n",
        "    \n",
        "    data_row = self.data.iloc[index]\n",
        "\n",
        "    text = data_row.title_abs\n",
        "    labels = data_row[LABEL_COLUMNS]\n",
        "\n",
        "    inputs = self.embedding_tokenizer.encode_plus(\n",
        "        text, \n",
        "        max_length=self.max_token_len,\n",
        "        padding=\"max_length\", \n",
        "        truncation=True, \n",
        "        return_tensors=\"pt\", \n",
        "    )\n",
        "\n",
        "    return dict(\n",
        "        text=text,\n",
        "        input_ids=inputs[\"input_ids\"].flatten(),\n",
        "        attention_mask=inputs[\"attention_mask\"].flatten(),\n",
        "        labels=torch.FloatTensor(labels) \n",
        "    )  "
      ],
      "execution_count": null,
      "outputs": []
    },
    {
      "cell_type": "code",
      "metadata": {
        "id": "ou3_fJXGBnHg"
      },
      "source": [
        "train_dataset = TopicAnnotationDataset(\n",
        "    train_df,\n",
        "    embedding_tokenizer=embedding_tokenizer,\n",
        ")"
      ],
      "execution_count": null,
      "outputs": []
    },
    {
      "cell_type": "code",
      "metadata": {
        "id": "-mS-6FdgBp6Z"
      },
      "source": [
        "class TopicAnnotationDataModule(pl.LightningDataModule):\n",
        "\n",
        "  def __init__(self, train_df, test_df, tokenizer, embedding_tokenizer, batch_size=8, max_token_len=128):\n",
        "    \n",
        "    super().__init__()\n",
        "    self.batch_size = batch_size\n",
        "    self.train_df = train_df\n",
        "    self.test_df = test_df\n",
        "    self.embedding_tokenizer = embedding_tokenizer\n",
        "    self.max_token_len = max_token_len\n",
        "\n",
        "  def setup(self, stage=None):\n",
        "    \n",
        "    self.train_dataset =  TopicAnnotationDataset(\n",
        "        data=self.train_df,\n",
        "        embedding_tokenizer=self.embedding_tokenizer,\n",
        "        max_token_len=self.max_token_len\n",
        "    )\n",
        "\n",
        "    self.test_dataset = TopicAnnotationDataset(\n",
        "        data=self.test_df,\n",
        "        embedding_tokenizer=self.embedding_tokenizer,\n",
        "        max_token_len=self.max_token_len\n",
        "    )\n",
        "\n",
        "  def train_dataloader(self):\n",
        "\n",
        "    return DataLoader(\n",
        "        self.train_dataset,\n",
        "        batch_size=self.batch_size,\n",
        "        shuffle=True,\n",
        "        num_workers=2\n",
        "    )\n",
        "\n",
        "  def val_dataloader(self):\n",
        "\n",
        "    return DataLoader(\n",
        "        self.test_dataset,\n",
        "        batch_size=self.batch_size,\n",
        "        num_workers=2\n",
        "    )\n",
        "\n",
        "  def test_dataloader(self):\n",
        "    \n",
        "    return DataLoader(\n",
        "        self.test_dataset,\n",
        "        batch_size=self.batch_size,\n",
        "        num_workers=2\n",
        "    )"
      ],
      "execution_count": null,
      "outputs": []
    },
    {
      "cell_type": "code",
      "metadata": {
        "colab": {
          "base_uri": "https://localhost:8080/",
          "height": 35
        },
        "id": "o5ELtrPQebvV",
        "outputId": "6253cb3e-1f82-4e94-bb26-6af012dcad83"
      },
      "source": [
        "%pwd"
      ],
      "execution_count": null,
      "outputs": [
        {
          "output_type": "execute_result",
          "data": {
            "application/vnd.google.colaboratory.intrinsic+json": {
              "type": "string"
            },
            "text/plain": [
              "'/content'"
            ]
          },
          "metadata": {},
          "execution_count": 19
        }
      ]
    },
    {
      "cell_type": "code",
      "metadata": {
        "colab": {
          "base_uri": "https://localhost:8080/"
        },
        "id": "fMLXnUybDWIs",
        "outputId": "e0843bdb-5b60-4351-8ddb-5557f76965df"
      },
      "source": [
        "val_df = pd.read_csv(\"/content/drive/MyDrive/Biocreative/Biocreative/datasets/VAL.csv\")\n",
        "val_df = val_df.sample(frac=1).reset_index(drop=True)\n",
        "val_df.shape"
      ],
      "execution_count": null,
      "outputs": [
        {
          "output_type": "execute_result",
          "data": {
            "text/plain": [
              "(3423, 13)"
            ]
          },
          "metadata": {},
          "execution_count": 20
        }
      ]
    },
    {
      "cell_type": "code",
      "metadata": {
        "id": "-3AWtep4PYse"
      },
      "source": [
        "title_abs = [row[\"title\"] + embedding_tokenizer.sep_token + (row.get(\"abstract\") or '') for _, row in val_df.iterrows()]\n",
        "val_df[\"title_abs\"] = title_abs"
      ],
      "execution_count": null,
      "outputs": []
    },
    {
      "cell_type": "code",
      "metadata": {
        "id": "gCZ1sc2Ewm_K"
      },
      "source": [
        "N_EPOCHS = 10\n",
        "BATCH_SIZE = 4\n",
        "\n",
        "data_module = TopicAnnotationDataModule(\n",
        "    train_df,\n",
        "    val_df,\n",
        "    tokenizer,\n",
        "    embedding_tokenizer,\n",
        "    batch_size=BATCH_SIZE,\n",
        "    max_token_len=MAX_TOKEN_COUNT\n",
        ")"
      ],
      "execution_count": null,
      "outputs": []
    },
    {
      "cell_type": "code",
      "metadata": {
        "colab": {
          "base_uri": "https://localhost:8080/"
        },
        "id": "xWNeGIHA9O7K",
        "outputId": "b78a9156-c0a9-4333-91d0-89e106d6307e"
      },
      "source": [
        "Label_count = train_df[LABEL_COLUMNS].sum().to_dict()\n",
        "count = list(Label_count.values())\n",
        "max_val = max(count)\n",
        "class_weight = [max_val/val for val in count]\n",
        "print(class_weight)"
      ],
      "execution_count": null,
      "outputs": [
        {
          "output_type": "stream",
          "name": "stdout",
          "text": [
            "[6.109995635093846, 1.8774141630901287, 9.160994764397905, 2.5855190247506465, 1.0, 4.4227488151658765, 1.3871766921018729]\n"
          ]
        }
      ]
    },
    {
      "cell_type": "code",
      "metadata": {
        "colab": {
          "base_uri": "https://localhost:8080/"
        },
        "id": "tZxCvK9y9ZQw",
        "outputId": "3548e611-9a43-4a8a-b27e-8729eecdad04"
      },
      "source": [
        "# print label and corresponding weights\n",
        "dict(zip(LABEL_COLUMNS, class_weight))"
      ],
      "execution_count": null,
      "outputs": [
        {
          "output_type": "execute_result",
          "data": {
            "text/plain": [
              "{'Case Report': 6.109995635093846,\n",
              " 'Diagnosis': 1.8774141630901287,\n",
              " 'Epidemic Forecasting': 9.160994764397905,\n",
              " 'Mechanism': 2.5855190247506465,\n",
              " 'Prevention': 1.0,\n",
              " 'Transmission': 4.4227488151658765,\n",
              " 'Treatment': 1.3871766921018729}"
            ]
          },
          "metadata": {},
          "execution_count": 24
        }
      ]
    },
    {
      "cell_type": "code",
      "metadata": {
        "id": "nvp3Eah69cUu"
      },
      "source": [
        "class_weight = torch.tensor(class_weight, device=\"cuda\")"
      ],
      "execution_count": null,
      "outputs": []
    },
    {
      "cell_type": "code",
      "metadata": {
        "id": "uKYtVKIsWU3b"
      },
      "source": [
        "class FFN(nn.Module):\n",
        "  def __init__(self, in_feat, out_feat, dropout):\n",
        "      super(FFN, self).__init__()\n",
        "      self.in2hid = nn.Linear(in_feat, in_feat)\n",
        "      self.hid2out = nn.Linear(in_feat, out_feat)\n",
        "\n",
        "      self.activation = nn.ReLU()\n",
        "      self.dropout = nn.Dropout(dropout)\n",
        "\n",
        "  def forward(self, input):\n",
        "      hid = self.activation(self.dropout(self.in2hid(input)))\n",
        "      return self.hid2out(hid)"
      ],
      "execution_count": null,
      "outputs": []
    },
    {
      "cell_type": "code",
      "metadata": {
        "id": "R8OBBKPA_XKF"
      },
      "source": [
        "class Attention(nn.Module):\n",
        "  def __init__(self, dimensions, attention_type=\"general\"):\n",
        "    super(Attention, self).__init__()\n",
        "\n",
        "    if attention_type not in ['dot', 'general']:\n",
        "      raise ValueError('Invalid attention type selected.')\n",
        "    \n",
        "    self.attention_type = attention_type\n",
        "    if self.attention_type == \"general\":\n",
        "      self.linear_in = nn.Linear(dimensions, dimensions, bias=False)\n",
        "\n",
        "    self.linear_out = nn.Linear(dimensions * 2, dimensions, bias=False)\n",
        "    self.softmax = nn.Softmax(dim=-1)\n",
        "    self.tanh = nn.Tanh()\n",
        "\n",
        "  def forward(self, query, context):\n",
        "    batch_size, output_len, dimensions = query.size()\n",
        "    query_len = context.size(1)\n",
        "\n",
        "    if self.attention_type == \"general\":\n",
        "        query = query.reshape(batch_size * output_len, dimensions)\n",
        "        query = self.linear_in(query)\n",
        "        query = query.reshape(batch_size, output_len, dimensions)\n",
        "\n",
        "    # (batch_size, output_len, dimensions) * (batch_size, query_len, dimensions) ->\n",
        "    # (batch_size, output_len, query_len)\n",
        "    attention_scores = torch.bmm(query, context.transpose(1, 2).contiguous())\n",
        "\n",
        "    # Compute weights across every context sequence\n",
        "    attention_scores = attention_scores.view(batch_size * output_len, query_len)\n",
        "    attention_weights = self.softmax(attention_scores)\n",
        "    attention_weights = attention_weights.view(batch_size, output_len, query_len)\n",
        "\n",
        "    # (batch_size, output_len, query_len) * (batch_size, query_len, dimensions) ->\n",
        "    # (batch_size, output_len, dimensions)\n",
        "    mix = torch.bmm(attention_weights, context)\n",
        "\n",
        "    # concat -> (batch_size * output_len, 2*dimensions)\n",
        "    combined = torch.cat((mix, query), dim=2)\n",
        "    combined = combined.view(batch_size * output_len, 2 * dimensions)\n",
        "\n",
        "    # Apply linear_out on every 2nd dimension of concat\n",
        "    # output -> (batch_size, output_len, dimensions)\n",
        "    output = self.linear_out(combined).view(batch_size, output_len, dimensions)\n",
        "    output = self.tanh(output)\n",
        "\n",
        "    return output, attention_weights"
      ],
      "execution_count": null,
      "outputs": []
    },
    {
      "cell_type": "code",
      "metadata": {
        "id": "xke_ChS4TwYy"
      },
      "source": [
        "# batch_size, sequence_length, hidden_dim = (4, 512, 768)\n",
        "# embedding_tensor = torch.rand(batch_size, sequence_length, hidden_dim)\n",
        "# print(embedding_tensor.shape)\n",
        "\n",
        "# # create attention object\n",
        "# attention = Attention(hidden_dim)\n",
        "\n",
        "# output, att = attention(embedding_tensor, embedding_tensor)\n",
        "# output, att = attention(output, output)\n",
        "\n",
        "# n_classes = 7\n",
        "# linear_1 = nn.Linear(512, n_classes)\n",
        "\n",
        "# result = linear_1(output.transpose(1, 2))\n",
        "# result.transpose(1, 2).shape"
      ],
      "execution_count": null,
      "outputs": []
    },
    {
      "cell_type": "code",
      "metadata": {
        "id": "IEvzbePlw5RX"
      },
      "source": [
        "class TopicAnnotationTagger(pl.LightningModule):\n",
        "\n",
        "  def __init__(self, n_classes: int, n_training_steps=None, n_warmup_steps=None):\n",
        "    \n",
        "    super().__init__()\n",
        "\n",
        "    self.specter = AutoModel.from_pretrained(EMBEDDING_MODEL, return_dict=True) # specter embedding model\n",
        "\n",
        "    self.n_training_steps = n_training_steps\n",
        "    self.n_warmup_steps = n_warmup_steps\n",
        "    self.criterion = nn.BCELoss(weight=class_weight)\n",
        "\n",
        "    self.sequence_length = 512\n",
        "\n",
        "    self.fc = nn.Linear(self.specter.config.hidden_size, n_classes)\n",
        "    self.relu = nn.ReLU()\n",
        "    self.softmax = nn.Softmax(dim=1)\n",
        "    self.classifier = nn.Linear(self.sequence_length, 1)\n",
        "    self.sigmoid = nn.Sigmoid()\n",
        "\n",
        "    self.attention = Attention(self.specter.config.hidden_size)\n",
        "    # self.hidden2labels = nn.Linear(self.sequence_length, 7)\n",
        "    self.hidden2labels = nn.Linear(self.specter.config.hidden_size, 7)\n",
        "\n",
        "  def forward(self, input_ids, attention_mask, labels=None):\n",
        "\n",
        "    specter_output = self.specter(input_ids, attention_mask)\n",
        "    # (batch_size x sequence_length x hidden_size)\n",
        "    specter_output = specter_output.last_hidden_state\n",
        "    \n",
        "    specter_output, x = self.attention(specter_output, specter_output)\n",
        "    specter_output, x = self.attention(specter_output, specter_output)\n",
        "    # print(specter_output.shape)\n",
        "\n",
        "    # (batch_size x sequence_length x hidden_size) => (batch_size x sequence_length x n_classes)\n",
        "    specter_output = self.hidden2labels(specter_output).transpose(1,2)\n",
        "    # apply sigmoid function to the same\n",
        "    output = self.sigmoid(self.classifier(specter_output).squeeze(-1))\n",
        "\n",
        "    loss = 0\n",
        "    if labels is not None:\n",
        "      loss = self.criterion(output, labels)\n",
        "    return loss, output\n",
        "\n",
        "  def training_step(self, batch, batch_idx):\n",
        "\n",
        "    input_ids = batch[\"input_ids\"]\n",
        "    attention_mask = batch[\"attention_mask\"]\n",
        "    labels = batch[\"labels\"]\n",
        "\n",
        "    loss, outputs = self(input_ids, attention_mask, labels)\n",
        "    self.log(\"train_loss\", loss, prog_bar=True, logger=True)\n",
        "    return {\"loss\": loss, \"predictions\": outputs, \"labels\": labels}\n",
        "\n",
        "  def validation_step(self, batch, batch_idx):\n",
        "\n",
        "    input_ids = batch[\"input_ids\"]\n",
        "    attention_mask = batch[\"attention_mask\"]\n",
        "    labels = batch[\"labels\"]\n",
        "\n",
        "    loss, outputs = self(input_ids, attention_mask, labels)\n",
        "    self.log(\"val_loss\", loss, prog_bar=True, logger=True)\n",
        "    return loss\n",
        "\n",
        "  def test_step(self, batch, batch_idx):\n",
        "    \n",
        "    input_ids = batch[\"input_ids\"]\n",
        "    attention_mask = batch[\"attention_mask\"]\n",
        "    labels = batch[\"labels\"]\n",
        "\n",
        "    loss, outputs = self(input_ids, attention_mask, labels)\n",
        "    self.log(\"test_loss\", loss, prog_bar=True, logger=True)\n",
        "    return loss\n",
        "\n",
        "  def training_epoch_end(self, outputs):\n",
        "\n",
        "    labels = []\n",
        "    predictions = []\n",
        "    for output in outputs:\n",
        "      for out_labels in output[\"labels\"].detach().cpu():\n",
        "        labels.append(out_labels)\n",
        "      for out_predictions in output[\"predictions\"].detach().cpu():\n",
        "        predictions.append(out_predictions)\n",
        "\n",
        "    labels = torch.stack(labels).int()\n",
        "    predictions = torch.stack(predictions)\n",
        "\n",
        "    for i, name in enumerate(LABEL_COLUMNS):\n",
        "      class_roc_auc = auroc(predictions[:, i], labels[:, i])\n",
        "      self.logger.experiment.add_scalar(f\"{name}_roc_auc/Train\", class_roc_auc, self.current_epoch)\n",
        "\n",
        "  def configure_optimizers(self):\n",
        "\n",
        "    optimizer = AdamW(self.parameters(), lr=2e-5)\n",
        "\n",
        "    scheduler = get_linear_schedule_with_warmup(\n",
        "      optimizer,\n",
        "      num_warmup_steps=self.n_warmup_steps,\n",
        "      num_training_steps=self.n_training_steps\n",
        "    )\n",
        "\n",
        "    return dict(\n",
        "        optimizer=optimizer,\n",
        "        lr_scheduler=dict(\n",
        "            scheduler=scheduler,\n",
        "            interval='step'\n",
        "            )\n",
        "        )"
      ],
      "execution_count": null,
      "outputs": []
    },
    {
      "cell_type": "code",
      "metadata": {
        "id": "NQ0G4TvczkP4"
      },
      "source": [
        "steps_per_epoch=len(train_df) // BATCH_SIZE\n",
        "total_training_steps = steps_per_epoch * N_EPOCHS"
      ],
      "execution_count": null,
      "outputs": []
    },
    {
      "cell_type": "code",
      "metadata": {
        "colab": {
          "base_uri": "https://localhost:8080/"
        },
        "id": "ViKW_Boiz3WV",
        "outputId": "097bf7df-237e-4ec4-b0e5-e08ef82773f2"
      },
      "source": [
        "warmup_steps = total_training_steps // 5\n",
        "warmup_steps, total_training_steps"
      ],
      "execution_count": null,
      "outputs": [
        {
          "output_type": "execute_result",
          "data": {
            "text/plain": [
              "(15368, 76840)"
            ]
          },
          "metadata": {},
          "execution_count": 30
        }
      ]
    },
    {
      "cell_type": "code",
      "metadata": {
        "id": "FgwMF0_3z4x-",
        "colab": {
          "base_uri": "https://localhost:8080/",
          "height": 49,
          "referenced_widgets": [
            "fa4c2138e5ec42bbb01e31f33f3b2860",
            "a1d1f247d87f41339571c468a4b8ce91",
            "25bbcd2e0eef4e1ab7f4942efe35f249",
            "ea1489a7b161429db110072956ccf39f",
            "be625454afb84916b15c9c047436f3db",
            "95a7ce3393194352a2ef5f5370aece7a",
            "0a07ead49a0848a38189f2d114999224",
            "c8f8d62e38a24fed8ba20d862bbfe75d",
            "9325262cec6b4b5b91099ef4c5d76e3c",
            "5525fa224f9d4f3c98ff2374eae0fe3e",
            "7ac60f4abdf4445f82fd90205bc80f33"
          ]
        },
        "outputId": "063977db-1439-4460-f2cc-08fa5a4bf00e"
      },
      "source": [
        "model = TopicAnnotationTagger(\n",
        "    n_classes=len(LABEL_COLUMNS),\n",
        "    n_warmup_steps=warmup_steps,\n",
        "    n_training_steps=total_training_steps\n",
        ")"
      ],
      "execution_count": null,
      "outputs": [
        {
          "output_type": "display_data",
          "data": {
            "application/vnd.jupyter.widget-view+json": {
              "model_id": "fa4c2138e5ec42bbb01e31f33f3b2860",
              "version_minor": 0,
              "version_major": 2
            },
            "text/plain": [
              "Downloading:   0%|          | 0.00/440M [00:00<?, ?B/s]"
            ]
          },
          "metadata": {}
        }
      ]
    },
    {
      "cell_type": "code",
      "metadata": {
        "colab": {
          "base_uri": "https://localhost:8080/",
          "height": 35
        },
        "id": "FABmVeWfaU9D",
        "outputId": "97757130-1f6e-4115-d75a-ba22c615a998"
      },
      "source": [
        "%pwd"
      ],
      "execution_count": null,
      "outputs": [
        {
          "output_type": "execute_result",
          "data": {
            "application/vnd.google.colaboratory.intrinsic+json": {
              "type": "string"
            },
            "text/plain": [
              "'/content/drive/My Drive/Biocreative/Biocreative/checkpoints_and_logs'"
            ]
          },
          "metadata": {},
          "execution_count": 46
        }
      ]
    },
    {
      "cell_type": "code",
      "metadata": {
        "id": "n0fX6c7ndf4Y",
        "colab": {
          "base_uri": "https://localhost:8080/"
        },
        "outputId": "a083344d-55c5-4e24-a56b-0272b6bc1dfd"
      },
      "source": [
        "cd '/content/drive/MyDrive/Biocreative/Biocreative/checkpoints_and_logs/'"
      ],
      "execution_count": null,
      "outputs": [
        {
          "output_type": "stream",
          "name": "stdout",
          "text": [
            "/content/drive/MyDrive/Biocreative/Biocreative/checkpoints_and_logs\n"
          ]
        }
      ]
    },
    {
      "cell_type": "code",
      "metadata": {
        "id": "vbV_UYtydmTx"
      },
      "source": [
        "checkpoint_callback = ModelCheckpoint(\n",
        "    dirpath=\"specter-da-1-checkpoints\",\n",
        "    filename=\"specter-da-1-checkpoint\",\n",
        "    save_top_k=1,\n",
        "    verbose=True,\n",
        "    monitor=\"val_loss\",\n",
        "    mode=\"min\"\n",
        ")"
      ],
      "execution_count": null,
      "outputs": []
    },
    {
      "cell_type": "code",
      "metadata": {
        "id": "4-RmpccZdqEk"
      },
      "source": [
        "logger = TensorBoardLogger(\"specter-da-1-lightning_logs\", name=\"topic-annotations\")"
      ],
      "execution_count": null,
      "outputs": []
    },
    {
      "cell_type": "code",
      "metadata": {
        "id": "aE7WyXJwdtoH"
      },
      "source": [
        "early_stopping_callback = EarlyStopping(monitor='val_loss', patience=2)"
      ],
      "execution_count": null,
      "outputs": []
    },
    {
      "cell_type": "code",
      "metadata": {
        "colab": {
          "base_uri": "https://localhost:8080/"
        },
        "id": "LWZpif0HdutD",
        "outputId": "284a2df3-8118-4f1f-88bd-135a310e848a"
      },
      "source": [
        "trainer = pl.Trainer(\n",
        "    logger=logger,\n",
        "    checkpoint_callback=True,\n",
        "    callbacks=[checkpoint_callback, early_stopping_callback],\n",
        "    max_epochs=N_EPOCHS,\n",
        "    gpus=1,\n",
        "    progress_bar_refresh_rate=30\n",
        ")"
      ],
      "execution_count": null,
      "outputs": [
        {
          "output_type": "stream",
          "name": "stderr",
          "text": [
            "GPU available: True, used: True\n",
            "TPU available: False, using: 0 TPU cores\n",
            "IPU available: False, using: 0 IPUs\n"
          ]
        }
      ]
    },
    {
      "cell_type": "code",
      "metadata": {
        "colab": {
          "base_uri": "https://localhost:8080/",
          "height": 655,
          "referenced_widgets": [
            "d94a82f513054076a9a7b28f981d76ba",
            "aec738c68f62414bb8d7b7bdc4af9b55",
            "3c3ee25ac2e7454189d59604cf7910f8",
            "65a78033cbfe4f20b29c445d3f77c54d",
            "38288bd1e1c548f3890c27b75ded023d",
            "91c9ba0270924c4597c59a9e7bd8e310",
            "e9c2eb0ba0e04756819d8794ebd713d8",
            "68a1f0eb6d7c472dbfec2a6b605eccad",
            "86bbfea854db4d1ab57b49d2deb4c5e6",
            "f1b0f8ce683747a8b6e3e4cf1c96f4ce",
            "e4d6c6a5942a4cfcb81ab0426419ad17",
            "861eefb2dac34074971668214ca01a46",
            "70e1f7de29db46419b8ba22499b798bb",
            "13cfc090826c47dd8ddff34629f7cd1c",
            "e33c5ec370f84b239b00b810ca1116ae",
            "0f642fc2f7114c39977ebec7f425b6cc",
            "ae929f722f1d4cd1822a15a4f47b3cdb",
            "a841bcb62a8e4b57b92884801da1290c",
            "9ae381f89d1b40afb2fc7dc57e03cb4b",
            "8f181552144e4f34abe545ad754e9c27",
            "56670e88eeed4e218ff5368fd0a37adf",
            "acfa6e7afefd46d9a352c927581428e4",
            "27521ca5bff442afa53182672a81944c",
            "37f8851a20c14e75be7b971b817c2e7f",
            "f164e55949104f4888a6a4b6946b8a51",
            "d67f00e31b5e434ab63f1d7fcada31b6",
            "903ece911b2b4ca2b846e0fb28a127ff",
            "195e1b65b4994b76987fa6d4a3c4bd7f",
            "7d4598211bb24c4fb5bab071ced95947",
            "19559af316814463a0282b4090454227",
            "584ef41ee7764080abc2224478b145a5",
            "eda90d18cbc34add8c758a79fb343679",
            "d82cec5f87cb47999a8eb371df70be5d",
            "f1b09ed5305049bfa783ee71bc9667af",
            "baa9ecea8306436986a161749eb9b040",
            "53ec55b46abc4b20a941580d4eff06a2",
            "ef9459db901242e8aca6c75e8b2834fb",
            "e39fc23c653241f692cd8635861a14ff",
            "2bb36d5986b04833b19a3e9c369eb052",
            "17081379ebd849c2aeecf29e52c645c3",
            "b36c3eadad9f467294fbcd9b9920095b",
            "2fcd434fcb224b548d55ae2d206541a2",
            "c93e6990b7f34d22842b2e099d5665d0",
            "8454518c140e49df9faab5b9522048f2",
            "aa257159e7884b80b5b5acba11ad059f",
            "8990840a526d46429009bdb275c3590e",
            "6c96952cf6a04ef48304ed8e31841c7a",
            "f9d338f1c93141d98389392b23411938",
            "2c56c08520c34b238412329c43629c78",
            "98ccfa5202c340caa5259258751f6191",
            "0da52adc503b4b4cb1ce31fcfb8a1263",
            "bc9de2815fd94d65920f04d2e066c0db",
            "720bdb71f2e94291b37dc298e8ac5b05",
            "a2e72f6f86f1400e803308d600194030",
            "47bc307ab7884acfa9fa44f31df51961",
            "1c33fe7820cc468a9d12d16f97eb49fc",
            "725bd7164cf44d62896c02104ebc89f3",
            "387ed62c9eed4fe4a2f57f1b24e25590",
            "f31ef7877e034e0ba7402f408fe1d09e",
            "a6666f2ab4d5496bbaf5eda422d1c0c0",
            "312efd24fc5842cab0db2e98f75c2db9",
            "35e481755c9c4fec8df20167a92bed6e",
            "84fae219599e44ceb1a9d1dba0b21bc8",
            "3126ed7b44ff4d01b14ead409025ee42",
            "6cb3e96a2a8c4bf9b194a83cef5e057e",
            "90c5416dea2f4ab08d5d206062617ff7",
            "8f39678f8b3f48bb81068925035bab84",
            "c1dfb8fef6494ef4b7a201ad0ef4e8a8",
            "efb0037711ef4224966d2e924401966f",
            "851d6ee86f6843cca47bacdd018d086b",
            "348cfb66330145c2a42b8ff7762ce52d",
            "2650e05f8d3b40bf8108722dbb23f352",
            "b9ef77ea432d489ca9fda3219f61fb36",
            "ce5c068a69f94b268e6b20ae712f5679",
            "edce2edfc745432988e739b1f5ed0df3",
            "21c1a14c8d8241398e38f7b2da3ee013",
            "a718f065b65c49daba32d9de8200b8d5",
            "6272a7590fcc48fc9700a35bc6b3e952",
            "daef733358704463874db3c81ca9fbbb",
            "ee00435a5dc3405c8d0aabccd4bb0f06",
            "a57ca65e33994ac7992323cbfca1387c",
            "d3bf2be747c548998b229fd1ee8084b4",
            "279ff041b325461f917f4d2214546712",
            "c5e2a8b016d146d9869c9303ba2ea97e",
            "d5cc26f3edfd43e18b761742b99c6501",
            "2f6f703ad96844f1b44a61ecb13c71ef",
            "642c399ec95640e3a9cf3b184af3ea7e",
            "154fd20863384747bec84df5d6678a17"
          ]
        },
        "id": "K-O8JXQodvla",
        "outputId": "ee65efb9-a55a-4c23-9a26-484d2b4d80b7"
      },
      "source": [
        "trainer.fit(model, data_module)"
      ],
      "execution_count": null,
      "outputs": [
        {
          "output_type": "stream",
          "name": "stderr",
          "text": [
            "/usr/local/lib/python3.7/dist-packages/pytorch_lightning/core/datamodule.py:424: LightningDeprecationWarning: DataModule.prepare_data has already been called, so it will not be called again. In v1.6 this behavior will change to always call DataModule.prepare_data.\n",
            "  f\"DataModule.{name} has already been called, so it will not be called again. \"\n",
            "/usr/local/lib/python3.7/dist-packages/pytorch_lightning/core/datamodule.py:424: LightningDeprecationWarning: DataModule.setup has already been called, so it will not be called again. In v1.6 this behavior will change to always call DataModule.setup.\n",
            "  f\"DataModule.{name} has already been called, so it will not be called again. \"\n",
            "LOCAL_RANK: 0 - CUDA_VISIBLE_DEVICES: [0]\n",
            "\n",
            "  | Name          | Type      | Params\n",
            "--------------------------------------------\n",
            "0 | specter       | BertModel | 109 M \n",
            "1 | criterion     | BCELoss   | 0     \n",
            "2 | fc            | Linear    | 5.4 K \n",
            "3 | relu          | ReLU      | 0     \n",
            "4 | softmax       | Softmax   | 0     \n",
            "5 | classifier    | Linear    | 513   \n",
            "6 | sigmoid       | Sigmoid   | 0     \n",
            "7 | attention     | Attention | 1.8 M \n",
            "8 | hidden2labels | Linear    | 5.4 K \n",
            "--------------------------------------------\n",
            "111 M     Trainable params\n",
            "0         Non-trainable params\n",
            "111 M     Total params\n",
            "446.877   Total estimated model params size (MB)\n"
          ]
        },
        {
          "output_type": "display_data",
          "data": {
            "application/vnd.jupyter.widget-view+json": {
              "model_id": "d94a82f513054076a9a7b28f981d76ba",
              "version_minor": 0,
              "version_major": 2
            },
            "text/plain": [
              "Validation sanity check: 0it [00:00, ?it/s]"
            ]
          },
          "metadata": {}
        },
        {
          "output_type": "stream",
          "name": "stderr",
          "text": [
            "Global seed set to 42\n"
          ]
        },
        {
          "output_type": "display_data",
          "data": {
            "application/vnd.jupyter.widget-view+json": {
              "model_id": "861eefb2dac34074971668214ca01a46",
              "version_minor": 0,
              "version_major": 2
            },
            "text/plain": [
              "Training: -1it [00:00, ?it/s]"
            ]
          },
          "metadata": {}
        },
        {
          "output_type": "display_data",
          "data": {
            "application/vnd.jupyter.widget-view+json": {
              "model_id": "27521ca5bff442afa53182672a81944c",
              "version_minor": 0,
              "version_major": 2
            },
            "text/plain": [
              "Validating: 0it [00:00, ?it/s]"
            ]
          },
          "metadata": {}
        },
        {
          "output_type": "stream",
          "name": "stderr",
          "text": [
            "/usr/local/lib/python3.7/dist-packages/deprecate/deprecation.py:115: LightningDeprecationWarning: The `auroc` was deprecated since v1.3.0 in favor of `torchmetrics.functional.classification.auroc.auroc`. It will be removed in v1.5.0.\n",
            "  stream(template_mgs % msg_args)\n",
            "Epoch 0, global step 7684: val_loss reached 0.42431 (best 0.42431), saving model to \"/content/drive/MyDrive/Biocreative/Biocreative/checkpoints_and_logs/specter-da-1-checkpoints/specter-da-1-checkpoint.ckpt\" as top 1\n"
          ]
        },
        {
          "output_type": "display_data",
          "data": {
            "application/vnd.jupyter.widget-view+json": {
              "model_id": "f1b09ed5305049bfa783ee71bc9667af",
              "version_minor": 0,
              "version_major": 2
            },
            "text/plain": [
              "Validating: 0it [00:00, ?it/s]"
            ]
          },
          "metadata": {}
        },
        {
          "output_type": "stream",
          "name": "stderr",
          "text": [
            "Epoch 1, global step 15369: val_loss reached 0.31644 (best 0.31644), saving model to \"/content/drive/MyDrive/Biocreative/Biocreative/checkpoints_and_logs/specter-da-1-checkpoints/specter-da-1-checkpoint.ckpt\" as top 1\n"
          ]
        },
        {
          "output_type": "display_data",
          "data": {
            "application/vnd.jupyter.widget-view+json": {
              "model_id": "aa257159e7884b80b5b5acba11ad059f",
              "version_minor": 0,
              "version_major": 2
            },
            "text/plain": [
              "Validating: 0it [00:00, ?it/s]"
            ]
          },
          "metadata": {}
        },
        {
          "output_type": "stream",
          "name": "stderr",
          "text": [
            "Epoch 2, global step 23054: val_loss reached 0.30707 (best 0.30707), saving model to \"/content/drive/MyDrive/Biocreative/Biocreative/checkpoints_and_logs/specter-da-1-checkpoints/specter-da-1-checkpoint.ckpt\" as top 1\n"
          ]
        },
        {
          "output_type": "display_data",
          "data": {
            "application/vnd.jupyter.widget-view+json": {
              "model_id": "1c33fe7820cc468a9d12d16f97eb49fc",
              "version_minor": 0,
              "version_major": 2
            },
            "text/plain": [
              "Validating: 0it [00:00, ?it/s]"
            ]
          },
          "metadata": {}
        },
        {
          "output_type": "stream",
          "name": "stderr",
          "text": [
            "Epoch 3, global step 30739: val_loss reached 0.28048 (best 0.28048), saving model to \"/content/drive/MyDrive/Biocreative/Biocreative/checkpoints_and_logs/specter-da-1-checkpoints/specter-da-1-checkpoint.ckpt\" as top 1\n"
          ]
        },
        {
          "output_type": "display_data",
          "data": {
            "application/vnd.jupyter.widget-view+json": {
              "model_id": "8f39678f8b3f48bb81068925035bab84",
              "version_minor": 0,
              "version_major": 2
            },
            "text/plain": [
              "Validating: 0it [00:00, ?it/s]"
            ]
          },
          "metadata": {}
        },
        {
          "output_type": "stream",
          "name": "stderr",
          "text": [
            "Epoch 4, global step 38424: val_loss was not in top 1\n"
          ]
        },
        {
          "output_type": "display_data",
          "data": {
            "application/vnd.jupyter.widget-view+json": {
              "model_id": "6272a7590fcc48fc9700a35bc6b3e952",
              "version_minor": 0,
              "version_major": 2
            },
            "text/plain": [
              "Validating: 0it [00:00, ?it/s]"
            ]
          },
          "metadata": {}
        },
        {
          "output_type": "stream",
          "name": "stderr",
          "text": [
            "Epoch 5, global step 46109: val_loss was not in top 1\n",
            "/usr/local/lib/python3.7/dist-packages/pytorch_lightning/core/datamodule.py:424: LightningDeprecationWarning: DataModule.teardown has already been called, so it will not be called again. In v1.6 this behavior will change to always call DataModule.teardown.\n",
            "  f\"DataModule.{name} has already been called, so it will not be called again. \"\n"
          ]
        }
      ]
    },
    {
      "cell_type": "markdown",
      "metadata": {
        "id": "UUhKS-dUegTd"
      },
      "source": [
        "### Test"
      ]
    },
    {
      "cell_type": "code",
      "metadata": {
        "colab": {
          "base_uri": "https://localhost:8080/",
          "height": 203
        },
        "id": "utQ5lfJvlQix",
        "outputId": "be54d109-f30c-4b31-d661-59404521de87"
      },
      "source": [
        "# import dataset\n",
        "test_df = pd.read_csv('drive/MyDrive/Biocreative/Biocreative/datasets/TEST.csv')\n",
        "test_df.head()"
      ],
      "execution_count": null,
      "outputs": [
        {
          "output_type": "execute_result",
          "data": {
            "text/html": [
              "<div>\n",
              "<style scoped>\n",
              "    .dataframe tbody tr th:only-of-type {\n",
              "        vertical-align: middle;\n",
              "    }\n",
              "\n",
              "    .dataframe tbody tr th {\n",
              "        vertical-align: top;\n",
              "    }\n",
              "\n",
              "    .dataframe thead th {\n",
              "        text-align: right;\n",
              "    }\n",
              "</style>\n",
              "<table border=\"1\" class=\"dataframe\">\n",
              "  <thead>\n",
              "    <tr style=\"text-align: right;\">\n",
              "      <th></th>\n",
              "      <th>title</th>\n",
              "      <th>pmid</th>\n",
              "      <th>abstract</th>\n",
              "      <th>keywords</th>\n",
              "    </tr>\n",
              "  </thead>\n",
              "  <tbody>\n",
              "    <tr>\n",
              "      <th>0</th>\n",
              "      <td>Disentangling Association Hydroxychloroquine T...</td>\n",
              "      <td>34336157</td>\n",
              "      <td>efficacy hydroxychloroquine HCQ treating SARSC...</td>\n",
              "      <td>NaN</td>\n",
              "    </tr>\n",
              "    <tr>\n",
              "      <th>1</th>\n",
              "      <td>Risk factor mortality hospitalized patient COV...</td>\n",
              "      <td>34211701</td>\n",
              "      <td>BACKGROUND Peru one country highest COVID19 mo...</td>\n",
              "      <td>adults;covid-19;latin america.;mortality;sars-...</td>\n",
              "    </tr>\n",
              "    <tr>\n",
              "      <th>2</th>\n",
              "      <td>Inflammation COVID19 pathogenesis treatment</td>\n",
              "      <td>34367415</td>\n",
              "      <td>coronavirus disease 2019 COVID19 declared pand...</td>\n",
              "      <td>covid-19;sars-cov-2;cytokine storm;inflammatio...</td>\n",
              "    </tr>\n",
              "    <tr>\n",
              "      <th>3</th>\n",
              "      <td>Antimalarial drugsare beneficial rheumatic vir...</td>\n",
              "      <td>34218393</td>\n",
              "      <td>majority medical fraternity continuously invol...</td>\n",
              "      <td>antimalarial drugs;covid-19;rheumatic diseases...</td>\n",
              "    </tr>\n",
              "    <tr>\n",
              "      <th>4</th>\n",
              "      <td>Integration virtual physician visit provincial...</td>\n",
              "      <td>34131026</td>\n",
              "      <td>BACKGROUND British Columbia like many jurisdic...</td>\n",
              "      <td>NaN</td>\n",
              "    </tr>\n",
              "  </tbody>\n",
              "</table>\n",
              "</div>"
            ],
            "text/plain": [
              "                                               title  ...                                           keywords\n",
              "0  Disentangling Association Hydroxychloroquine T...  ...                                                NaN\n",
              "1  Risk factor mortality hospitalized patient COV...  ...  adults;covid-19;latin america.;mortality;sars-...\n",
              "2        Inflammation COVID19 pathogenesis treatment  ...  covid-19;sars-cov-2;cytokine storm;inflammatio...\n",
              "3  Antimalarial drugsare beneficial rheumatic vir...  ...  antimalarial drugs;covid-19;rheumatic diseases...\n",
              "4  Integration virtual physician visit provincial...  ...                                                NaN\n",
              "\n",
              "[5 rows x 4 columns]"
            ]
          },
          "metadata": {},
          "execution_count": 63
        }
      ]
    },
    {
      "cell_type": "code",
      "metadata": {
        "id": "FdjPYzXIoVk5"
      },
      "source": [
        "import numpy as np"
      ],
      "execution_count": null,
      "outputs": []
    },
    {
      "cell_type": "code",
      "metadata": {
        "colab": {
          "base_uri": "https://localhost:8080/"
        },
        "id": "Yf12OSBLoYv-",
        "outputId": "97e8f104-e043-4932-9113-44941c8b0651"
      },
      "source": [
        "label_sampled = np.random.randint(0, 2, size=(test_df.shape[0], 7))\n",
        "label_sampled.shape"
      ],
      "execution_count": null,
      "outputs": [
        {
          "output_type": "execute_result",
          "data": {
            "text/plain": [
              "(2500, 7)"
            ]
          },
          "metadata": {},
          "execution_count": 65
        }
      ]
    },
    {
      "cell_type": "code",
      "metadata": {
        "id": "JBlpmJfyoKZ7"
      },
      "source": [
        "test_df[LABEL_COLUMNS] = label_sampled"
      ],
      "execution_count": null,
      "outputs": []
    },
    {
      "cell_type": "code",
      "metadata": {
        "colab": {
          "base_uri": "https://localhost:8080/",
          "height": 304
        },
        "id": "e-fEKF9Uoxbw",
        "outputId": "75578d09-6296-43d1-a21e-85c66daa906b"
      },
      "source": [
        "test_df.head()"
      ],
      "execution_count": null,
      "outputs": [
        {
          "output_type": "execute_result",
          "data": {
            "text/html": [
              "<div>\n",
              "<style scoped>\n",
              "    .dataframe tbody tr th:only-of-type {\n",
              "        vertical-align: middle;\n",
              "    }\n",
              "\n",
              "    .dataframe tbody tr th {\n",
              "        vertical-align: top;\n",
              "    }\n",
              "\n",
              "    .dataframe thead th {\n",
              "        text-align: right;\n",
              "    }\n",
              "</style>\n",
              "<table border=\"1\" class=\"dataframe\">\n",
              "  <thead>\n",
              "    <tr style=\"text-align: right;\">\n",
              "      <th></th>\n",
              "      <th>title</th>\n",
              "      <th>pmid</th>\n",
              "      <th>abstract</th>\n",
              "      <th>keywords</th>\n",
              "      <th>Case Report</th>\n",
              "      <th>Diagnosis</th>\n",
              "      <th>Epidemic Forecasting</th>\n",
              "      <th>Mechanism</th>\n",
              "      <th>Prevention</th>\n",
              "      <th>Transmission</th>\n",
              "      <th>Treatment</th>\n",
              "    </tr>\n",
              "  </thead>\n",
              "  <tbody>\n",
              "    <tr>\n",
              "      <th>0</th>\n",
              "      <td>Disentangling Association Hydroxychloroquine T...</td>\n",
              "      <td>34336157</td>\n",
              "      <td>efficacy hydroxychloroquine HCQ treating SARSC...</td>\n",
              "      <td>NaN</td>\n",
              "      <td>1</td>\n",
              "      <td>0</td>\n",
              "      <td>0</td>\n",
              "      <td>1</td>\n",
              "      <td>1</td>\n",
              "      <td>1</td>\n",
              "      <td>1</td>\n",
              "    </tr>\n",
              "    <tr>\n",
              "      <th>1</th>\n",
              "      <td>Risk factor mortality hospitalized patient COV...</td>\n",
              "      <td>34211701</td>\n",
              "      <td>BACKGROUND Peru one country highest COVID19 mo...</td>\n",
              "      <td>adults;covid-19;latin america.;mortality;sars-...</td>\n",
              "      <td>1</td>\n",
              "      <td>0</td>\n",
              "      <td>0</td>\n",
              "      <td>0</td>\n",
              "      <td>1</td>\n",
              "      <td>1</td>\n",
              "      <td>1</td>\n",
              "    </tr>\n",
              "    <tr>\n",
              "      <th>2</th>\n",
              "      <td>Inflammation COVID19 pathogenesis treatment</td>\n",
              "      <td>34367415</td>\n",
              "      <td>coronavirus disease 2019 COVID19 declared pand...</td>\n",
              "      <td>covid-19;sars-cov-2;cytokine storm;inflammatio...</td>\n",
              "      <td>0</td>\n",
              "      <td>1</td>\n",
              "      <td>0</td>\n",
              "      <td>0</td>\n",
              "      <td>1</td>\n",
              "      <td>0</td>\n",
              "      <td>0</td>\n",
              "    </tr>\n",
              "    <tr>\n",
              "      <th>3</th>\n",
              "      <td>Antimalarial drugsare beneficial rheumatic vir...</td>\n",
              "      <td>34218393</td>\n",
              "      <td>majority medical fraternity continuously invol...</td>\n",
              "      <td>antimalarial drugs;covid-19;rheumatic diseases...</td>\n",
              "      <td>0</td>\n",
              "      <td>1</td>\n",
              "      <td>0</td>\n",
              "      <td>1</td>\n",
              "      <td>1</td>\n",
              "      <td>0</td>\n",
              "      <td>1</td>\n",
              "    </tr>\n",
              "    <tr>\n",
              "      <th>4</th>\n",
              "      <td>Integration virtual physician visit provincial...</td>\n",
              "      <td>34131026</td>\n",
              "      <td>BACKGROUND British Columbia like many jurisdic...</td>\n",
              "      <td>NaN</td>\n",
              "      <td>0</td>\n",
              "      <td>1</td>\n",
              "      <td>1</td>\n",
              "      <td>1</td>\n",
              "      <td>1</td>\n",
              "      <td>1</td>\n",
              "      <td>1</td>\n",
              "    </tr>\n",
              "  </tbody>\n",
              "</table>\n",
              "</div>"
            ],
            "text/plain": [
              "                                               title  ...  Treatment\n",
              "0  Disentangling Association Hydroxychloroquine T...  ...          1\n",
              "1  Risk factor mortality hospitalized patient COV...  ...          1\n",
              "2        Inflammation COVID19 pathogenesis treatment  ...          0\n",
              "3  Antimalarial drugsare beneficial rheumatic vir...  ...          1\n",
              "4  Integration virtual physician visit provincial...  ...          1\n",
              "\n",
              "[5 rows x 11 columns]"
            ]
          },
          "metadata": {},
          "execution_count": 67
        }
      ]
    },
    {
      "cell_type": "code",
      "metadata": {
        "colab": {
          "base_uri": "https://localhost:8080/"
        },
        "id": "ABbPZIl-lSdF",
        "outputId": "9a22911e-0629-4f8a-9602-8f13df938e26"
      },
      "source": [
        "test_df.isna().sum()"
      ],
      "execution_count": null,
      "outputs": [
        {
          "output_type": "execute_result",
          "data": {
            "text/plain": [
              "title                     0\n",
              "pmid                      0\n",
              "abstract                  0\n",
              "keywords                444\n",
              "Case Report               0\n",
              "Diagnosis                 0\n",
              "Epidemic Forecasting      0\n",
              "Mechanism                 0\n",
              "Prevention                0\n",
              "Transmission              0\n",
              "Treatment                 0\n",
              "dtype: int64"
            ]
          },
          "metadata": {},
          "execution_count": 70
        }
      ]
    },
    {
      "cell_type": "code",
      "metadata": {
        "id": "_UR8UlstlSZr"
      },
      "source": [
        "test_df[\"abstract\"] = test_df.abstract.fillna(\"\")"
      ],
      "execution_count": null,
      "outputs": []
    },
    {
      "cell_type": "code",
      "metadata": {
        "id": "ncHc1nST2vjW"
      },
      "source": [
        "title_abs = [row[\"title\"] + embedding_tokenizer.sep_token + (row.get(\"abstract\") or '') for _, row in test_df.iterrows()]"
      ],
      "execution_count": null,
      "outputs": []
    },
    {
      "cell_type": "code",
      "metadata": {
        "id": "3MbqZpo42vjX"
      },
      "source": [
        "# add title and abstract text\n",
        "test_df[\"title_abs\"] = title_abs"
      ],
      "execution_count": null,
      "outputs": []
    },
    {
      "cell_type": "code",
      "metadata": {
        "colab": {
          "base_uri": "https://localhost:8080/",
          "height": 388
        },
        "id": "Fdn98eES26be",
        "outputId": "bb87fa1f-8dab-496f-ac6c-b487c7163609"
      },
      "source": [
        "test_df.head()"
      ],
      "execution_count": null,
      "outputs": [
        {
          "output_type": "execute_result",
          "data": {
            "text/html": [
              "<div>\n",
              "<style scoped>\n",
              "    .dataframe tbody tr th:only-of-type {\n",
              "        vertical-align: middle;\n",
              "    }\n",
              "\n",
              "    .dataframe tbody tr th {\n",
              "        vertical-align: top;\n",
              "    }\n",
              "\n",
              "    .dataframe thead th {\n",
              "        text-align: right;\n",
              "    }\n",
              "</style>\n",
              "<table border=\"1\" class=\"dataframe\">\n",
              "  <thead>\n",
              "    <tr style=\"text-align: right;\">\n",
              "      <th></th>\n",
              "      <th>title</th>\n",
              "      <th>pmid</th>\n",
              "      <th>abstract</th>\n",
              "      <th>keywords</th>\n",
              "      <th>Case Report</th>\n",
              "      <th>Diagnosis</th>\n",
              "      <th>Epidemic Forecasting</th>\n",
              "      <th>Mechanism</th>\n",
              "      <th>Prevention</th>\n",
              "      <th>Transmission</th>\n",
              "      <th>Treatment</th>\n",
              "      <th>title_abs</th>\n",
              "    </tr>\n",
              "  </thead>\n",
              "  <tbody>\n",
              "    <tr>\n",
              "      <th>0</th>\n",
              "      <td>Disentangling Association Hydroxychloroquine T...</td>\n",
              "      <td>34336157</td>\n",
              "      <td>efficacy hydroxychloroquine HCQ treating SARSC...</td>\n",
              "      <td>NaN</td>\n",
              "      <td>1</td>\n",
              "      <td>0</td>\n",
              "      <td>0</td>\n",
              "      <td>1</td>\n",
              "      <td>1</td>\n",
              "      <td>1</td>\n",
              "      <td>1</td>\n",
              "      <td>Disentangling Association Hydroxychloroquine T...</td>\n",
              "    </tr>\n",
              "    <tr>\n",
              "      <th>1</th>\n",
              "      <td>Risk factor mortality hospitalized patient COV...</td>\n",
              "      <td>34211701</td>\n",
              "      <td>BACKGROUND Peru one country highest COVID19 mo...</td>\n",
              "      <td>adults;covid-19;latin america.;mortality;sars-...</td>\n",
              "      <td>1</td>\n",
              "      <td>0</td>\n",
              "      <td>0</td>\n",
              "      <td>0</td>\n",
              "      <td>1</td>\n",
              "      <td>1</td>\n",
              "      <td>1</td>\n",
              "      <td>Risk factor mortality hospitalized patient COV...</td>\n",
              "    </tr>\n",
              "    <tr>\n",
              "      <th>2</th>\n",
              "      <td>Inflammation COVID19 pathogenesis treatment</td>\n",
              "      <td>34367415</td>\n",
              "      <td>coronavirus disease 2019 COVID19 declared pand...</td>\n",
              "      <td>covid-19;sars-cov-2;cytokine storm;inflammatio...</td>\n",
              "      <td>0</td>\n",
              "      <td>1</td>\n",
              "      <td>0</td>\n",
              "      <td>0</td>\n",
              "      <td>1</td>\n",
              "      <td>0</td>\n",
              "      <td>0</td>\n",
              "      <td>Inflammation COVID19 pathogenesis treatment[SE...</td>\n",
              "    </tr>\n",
              "    <tr>\n",
              "      <th>3</th>\n",
              "      <td>Antimalarial drugsare beneficial rheumatic vir...</td>\n",
              "      <td>34218393</td>\n",
              "      <td>majority medical fraternity continuously invol...</td>\n",
              "      <td>antimalarial drugs;covid-19;rheumatic diseases...</td>\n",
              "      <td>0</td>\n",
              "      <td>1</td>\n",
              "      <td>0</td>\n",
              "      <td>1</td>\n",
              "      <td>1</td>\n",
              "      <td>0</td>\n",
              "      <td>1</td>\n",
              "      <td>Antimalarial drugsare beneficial rheumatic vir...</td>\n",
              "    </tr>\n",
              "    <tr>\n",
              "      <th>4</th>\n",
              "      <td>Integration virtual physician visit provincial...</td>\n",
              "      <td>34131026</td>\n",
              "      <td>BACKGROUND British Columbia like many jurisdic...</td>\n",
              "      <td>NaN</td>\n",
              "      <td>0</td>\n",
              "      <td>1</td>\n",
              "      <td>1</td>\n",
              "      <td>1</td>\n",
              "      <td>1</td>\n",
              "      <td>1</td>\n",
              "      <td>1</td>\n",
              "      <td>Integration virtual physician visit provincial...</td>\n",
              "    </tr>\n",
              "  </tbody>\n",
              "</table>\n",
              "</div>"
            ],
            "text/plain": [
              "                                               title  ...                                          title_abs\n",
              "0  Disentangling Association Hydroxychloroquine T...  ...  Disentangling Association Hydroxychloroquine T...\n",
              "1  Risk factor mortality hospitalized patient COV...  ...  Risk factor mortality hospitalized patient COV...\n",
              "2        Inflammation COVID19 pathogenesis treatment  ...  Inflammation COVID19 pathogenesis treatment[SE...\n",
              "3  Antimalarial drugsare beneficial rheumatic vir...  ...  Antimalarial drugsare beneficial rheumatic vir...\n",
              "4  Integration virtual physician visit provincial...  ...  Integration virtual physician visit provincial...\n",
              "\n",
              "[5 rows x 12 columns]"
            ]
          },
          "metadata": {},
          "execution_count": 73
        }
      ]
    },
    {
      "cell_type": "code",
      "metadata": {
        "id": "y8AWlhyMdMEG"
      },
      "source": [
        "trained_model = TopicAnnotationTagger.load_from_checkpoint('/content/drive/MyDrive/Biocreative/Biocreative/checkpoints_and_logs/specter-da-1-checkpoints/specter-da-1-checkpoint.ckpt', n_classes=7)"
      ],
      "execution_count": null,
      "outputs": []
    },
    {
      "cell_type": "code",
      "metadata": {
        "id": "3rM_yhw6vGls"
      },
      "source": [
        "trained_model.freeze()"
      ],
      "execution_count": null,
      "outputs": []
    },
    {
      "cell_type": "markdown",
      "metadata": {
        "id": "_qfT86eMvlk5"
      },
      "source": [
        "### Evaluation"
      ]
    },
    {
      "cell_type": "code",
      "metadata": {
        "colab": {
          "base_uri": "https://localhost:8080/"
        },
        "id": "7lObFJ_JQohi",
        "outputId": "398938f8-912f-4589-f3bf-e8598399e122"
      },
      "source": [
        "# sample 2500 example from the validation set\n",
        "val_df_sampled = val_df.sample(n=2500, random_state=1).sample(n=1500, random_state=1)\n",
        "print(val_df_sampled.shape)\n",
        "val_df_sampled[LABEL_COLUMNS].sum()"
      ],
      "execution_count": null,
      "outputs": [
        {
          "output_type": "stream",
          "name": "stdout",
          "text": [
            "(1500, 14)\n"
          ]
        },
        {
          "output_type": "execute_result",
          "data": {
            "text/plain": [
              "Case Report             101\n",
              "Diagnosis               347\n",
              "Epidemic Forecasting     68\n",
              "Mechanism               256\n",
              "Prevention              711\n",
              "Transmission            156\n",
              "Treatment               485\n",
              "dtype: int64"
            ]
          },
          "metadata": {},
          "execution_count": 64
        }
      ]
    },
    {
      "cell_type": "code",
      "metadata": {
        "id": "glq9LWq4rMEH"
      },
      "source": [
        "device = torch.device('cuda' if torch.cuda.is_available() else 'cpu')\n",
        "trained_model = trained_model.to(device)\n",
        "\n",
        "val_dataset = TopicAnnotationDataset(\n",
        "    test_df,\n",
        "    embedding_tokenizer,\n",
        "    max_token_len=MAX_TOKEN_COUNT\n",
        ")"
      ],
      "execution_count": null,
      "outputs": []
    },
    {
      "cell_type": "code",
      "metadata": {
        "colab": {
          "base_uri": "https://localhost:8080/",
          "height": 49,
          "referenced_widgets": [
            "7b9880353d244fcf97fb00ee712e527c",
            "7d00d2c50a2f4620917b25022355b498",
            "eeb7b40bc5624594add936fd62655766",
            "0c7a06ea9fd54e0eb9b29c0f44871b08",
            "9e8f2fb1000a4870bdca7cfc0fc9328c",
            "24a2f7882519400f8f230d996ea4ce30",
            "2babeec8e8124a8ab617356f029126d9",
            "0159581b00f641ea988fb287549c9604",
            "084296ebc64c4bbb8d15a7846a24a7a9",
            "bdf07d22a0b647d582eb0c346c32e0c5",
            "f773d79907c54ddcb16baa00cd1bff82"
          ]
        },
        "id": "nGt5QcfWwO8P",
        "outputId": "cc771b5a-986a-47b7-8166-e5dda6bd4720"
      },
      "source": [
        "predictions = []\n",
        "labels = []\n",
        "\n",
        "for item in tqdm(val_dataset):\n",
        "\n",
        "  _, prediction = trained_model(\n",
        "      item[\"input_ids\"].unsqueeze(dim=0).to(device),\n",
        "      item[\"attention_mask\"].unsqueeze(dim=0).to(device),\n",
        "  )\n",
        "  \n",
        "  predictions.append(prediction.flatten())\n",
        "  labels.append(item[\"labels\"].int())\n",
        "\n",
        "predictions = torch.stack(predictions).detach().cpu()\n",
        "labels = torch.stack(labels).detach().cpu()"
      ],
      "execution_count": null,
      "outputs": [
        {
          "output_type": "display_data",
          "data": {
            "application/vnd.jupyter.widget-view+json": {
              "model_id": "7b9880353d244fcf97fb00ee712e527c",
              "version_minor": 0,
              "version_major": 2
            },
            "text/plain": [
              "  0%|          | 0/2500 [00:00<?, ?it/s]"
            ]
          },
          "metadata": {}
        }
      ]
    },
    {
      "cell_type": "code",
      "metadata": {
        "colab": {
          "base_uri": "https://localhost:8080/",
          "height": 417
        },
        "id": "9QUa0R4v4YP8",
        "outputId": "ed940aba-c2d3-43c0-d1fe-5f9c9028151a"
      },
      "source": [
        "pmid = test_df[\"pmid\"]\n",
        "pred_df = pd.DataFrame(predictions.numpy(), columns=LABEL_COLUMNS)\n",
        "pred_df"
      ],
      "execution_count": null,
      "outputs": [
        {
          "output_type": "execute_result",
          "data": {
            "text/html": [
              "<div>\n",
              "<style scoped>\n",
              "    .dataframe tbody tr th:only-of-type {\n",
              "        vertical-align: middle;\n",
              "    }\n",
              "\n",
              "    .dataframe tbody tr th {\n",
              "        vertical-align: top;\n",
              "    }\n",
              "\n",
              "    .dataframe thead th {\n",
              "        text-align: right;\n",
              "    }\n",
              "</style>\n",
              "<table border=\"1\" class=\"dataframe\">\n",
              "  <thead>\n",
              "    <tr style=\"text-align: right;\">\n",
              "      <th></th>\n",
              "      <th>Case Report</th>\n",
              "      <th>Diagnosis</th>\n",
              "      <th>Epidemic Forecasting</th>\n",
              "      <th>Mechanism</th>\n",
              "      <th>Prevention</th>\n",
              "      <th>Transmission</th>\n",
              "      <th>Treatment</th>\n",
              "    </tr>\n",
              "  </thead>\n",
              "  <tbody>\n",
              "    <tr>\n",
              "      <th>0</th>\n",
              "      <td>0.000471</td>\n",
              "      <td>0.245204</td>\n",
              "      <td>0.000055</td>\n",
              "      <td>0.003591</td>\n",
              "      <td>0.003689</td>\n",
              "      <td>0.000344</td>\n",
              "      <td>0.996832</td>\n",
              "    </tr>\n",
              "    <tr>\n",
              "      <th>1</th>\n",
              "      <td>0.001104</td>\n",
              "      <td>0.989632</td>\n",
              "      <td>0.000069</td>\n",
              "      <td>0.002554</td>\n",
              "      <td>0.013161</td>\n",
              "      <td>0.000688</td>\n",
              "      <td>0.969118</td>\n",
              "    </tr>\n",
              "    <tr>\n",
              "      <th>2</th>\n",
              "      <td>0.000151</td>\n",
              "      <td>0.011764</td>\n",
              "      <td>0.000085</td>\n",
              "      <td>0.922421</td>\n",
              "      <td>0.004061</td>\n",
              "      <td>0.000470</td>\n",
              "      <td>0.996042</td>\n",
              "    </tr>\n",
              "    <tr>\n",
              "      <th>3</th>\n",
              "      <td>0.000478</td>\n",
              "      <td>0.005487</td>\n",
              "      <td>0.000125</td>\n",
              "      <td>0.001224</td>\n",
              "      <td>0.031002</td>\n",
              "      <td>0.000286</td>\n",
              "      <td>0.988378</td>\n",
              "    </tr>\n",
              "    <tr>\n",
              "      <th>4</th>\n",
              "      <td>0.000504</td>\n",
              "      <td>0.003854</td>\n",
              "      <td>0.000063</td>\n",
              "      <td>0.000397</td>\n",
              "      <td>0.995527</td>\n",
              "      <td>0.000507</td>\n",
              "      <td>0.001315</td>\n",
              "    </tr>\n",
              "    <tr>\n",
              "      <th>...</th>\n",
              "      <td>...</td>\n",
              "      <td>...</td>\n",
              "      <td>...</td>\n",
              "      <td>...</td>\n",
              "      <td>...</td>\n",
              "      <td>...</td>\n",
              "      <td>...</td>\n",
              "    </tr>\n",
              "    <tr>\n",
              "      <th>2495</th>\n",
              "      <td>0.000346</td>\n",
              "      <td>0.004347</td>\n",
              "      <td>0.000320</td>\n",
              "      <td>0.993019</td>\n",
              "      <td>0.002074</td>\n",
              "      <td>0.000286</td>\n",
              "      <td>0.981854</td>\n",
              "    </tr>\n",
              "    <tr>\n",
              "      <th>2496</th>\n",
              "      <td>0.000569</td>\n",
              "      <td>0.959073</td>\n",
              "      <td>0.000062</td>\n",
              "      <td>0.001932</td>\n",
              "      <td>0.013200</td>\n",
              "      <td>0.000653</td>\n",
              "      <td>0.985410</td>\n",
              "    </tr>\n",
              "    <tr>\n",
              "      <th>2497</th>\n",
              "      <td>0.000976</td>\n",
              "      <td>0.164398</td>\n",
              "      <td>0.000004</td>\n",
              "      <td>0.001614</td>\n",
              "      <td>0.917522</td>\n",
              "      <td>0.000763</td>\n",
              "      <td>0.180588</td>\n",
              "    </tr>\n",
              "    <tr>\n",
              "      <th>2498</th>\n",
              "      <td>0.000406</td>\n",
              "      <td>0.965178</td>\n",
              "      <td>0.000013</td>\n",
              "      <td>0.059715</td>\n",
              "      <td>0.092064</td>\n",
              "      <td>0.004019</td>\n",
              "      <td>0.835722</td>\n",
              "    </tr>\n",
              "    <tr>\n",
              "      <th>2499</th>\n",
              "      <td>0.000418</td>\n",
              "      <td>0.004459</td>\n",
              "      <td>0.000073</td>\n",
              "      <td>0.001508</td>\n",
              "      <td>0.073951</td>\n",
              "      <td>0.000422</td>\n",
              "      <td>0.981328</td>\n",
              "    </tr>\n",
              "  </tbody>\n",
              "</table>\n",
              "<p>2500 rows × 7 columns</p>\n",
              "</div>"
            ],
            "text/plain": [
              "      Case Report  Diagnosis  ...  Transmission  Treatment\n",
              "0        0.000471   0.245204  ...      0.000344   0.996832\n",
              "1        0.001104   0.989632  ...      0.000688   0.969118\n",
              "2        0.000151   0.011764  ...      0.000470   0.996042\n",
              "3        0.000478   0.005487  ...      0.000286   0.988378\n",
              "4        0.000504   0.003854  ...      0.000507   0.001315\n",
              "...           ...        ...  ...           ...        ...\n",
              "2495     0.000346   0.004347  ...      0.000286   0.981854\n",
              "2496     0.000569   0.959073  ...      0.000653   0.985410\n",
              "2497     0.000976   0.164398  ...      0.000763   0.180588\n",
              "2498     0.000406   0.965178  ...      0.004019   0.835722\n",
              "2499     0.000418   0.004459  ...      0.000422   0.981328\n",
              "\n",
              "[2500 rows x 7 columns]"
            ]
          },
          "metadata": {},
          "execution_count": 78
        }
      ]
    },
    {
      "cell_type": "code",
      "metadata": {
        "id": "4CZzCVGnrfzW"
      },
      "source": [
        "pred_df[\"PMID\"] = pmid"
      ],
      "execution_count": null,
      "outputs": []
    },
    {
      "cell_type": "code",
      "metadata": {
        "id": "ho0j1_j5rqjk"
      },
      "source": [
        "main_pred_df = pred_df.copy(deep=True)"
      ],
      "execution_count": null,
      "outputs": []
    },
    {
      "cell_type": "code",
      "metadata": {
        "colab": {
          "base_uri": "https://localhost:8080/"
        },
        "id": "oJzacrV1sLm6",
        "outputId": "64e00e69-bd2f-434b-a390-817f420b350f"
      },
      "source": [
        "main_pred_df.columns"
      ],
      "execution_count": null,
      "outputs": [
        {
          "output_type": "execute_result",
          "data": {
            "text/plain": [
              "Index(['Case Report', 'Diagnosis', 'Epidemic Forecasting', 'Mechanism',\n",
              "       'Prevention', 'Transmission', 'Treatment', 'PMID'],\n",
              "      dtype='object')"
            ]
          },
          "metadata": {},
          "execution_count": 81
        }
      ]
    },
    {
      "cell_type": "code",
      "metadata": {
        "colab": {
          "base_uri": "https://localhost:8080/",
          "height": 203
        },
        "id": "y3inf3Gg4aRR",
        "outputId": "311a02f1-cde0-4d46-f45a-83980620c784"
      },
      "source": [
        "main_pred_df = main_pred_df.reindex(['PMID','Treatment','Diagnosis','Prevention','Mechanism','Transmission','Epidemic Forecasting','Case Report'], axis=\"columns\")\n",
        "main_pred_df.head()"
      ],
      "execution_count": null,
      "outputs": [
        {
          "output_type": "execute_result",
          "data": {
            "text/html": [
              "<div>\n",
              "<style scoped>\n",
              "    .dataframe tbody tr th:only-of-type {\n",
              "        vertical-align: middle;\n",
              "    }\n",
              "\n",
              "    .dataframe tbody tr th {\n",
              "        vertical-align: top;\n",
              "    }\n",
              "\n",
              "    .dataframe thead th {\n",
              "        text-align: right;\n",
              "    }\n",
              "</style>\n",
              "<table border=\"1\" class=\"dataframe\">\n",
              "  <thead>\n",
              "    <tr style=\"text-align: right;\">\n",
              "      <th></th>\n",
              "      <th>PMID</th>\n",
              "      <th>Treatment</th>\n",
              "      <th>Diagnosis</th>\n",
              "      <th>Prevention</th>\n",
              "      <th>Mechanism</th>\n",
              "      <th>Transmission</th>\n",
              "      <th>Epidemic Forecasting</th>\n",
              "      <th>Case Report</th>\n",
              "    </tr>\n",
              "  </thead>\n",
              "  <tbody>\n",
              "    <tr>\n",
              "      <th>0</th>\n",
              "      <td>34336157</td>\n",
              "      <td>0.996832</td>\n",
              "      <td>0.245204</td>\n",
              "      <td>0.003689</td>\n",
              "      <td>0.003591</td>\n",
              "      <td>0.000344</td>\n",
              "      <td>0.000055</td>\n",
              "      <td>0.000471</td>\n",
              "    </tr>\n",
              "    <tr>\n",
              "      <th>1</th>\n",
              "      <td>34211701</td>\n",
              "      <td>0.969118</td>\n",
              "      <td>0.989632</td>\n",
              "      <td>0.013161</td>\n",
              "      <td>0.002554</td>\n",
              "      <td>0.000688</td>\n",
              "      <td>0.000069</td>\n",
              "      <td>0.001104</td>\n",
              "    </tr>\n",
              "    <tr>\n",
              "      <th>2</th>\n",
              "      <td>34367415</td>\n",
              "      <td>0.996042</td>\n",
              "      <td>0.011764</td>\n",
              "      <td>0.004061</td>\n",
              "      <td>0.922421</td>\n",
              "      <td>0.000470</td>\n",
              "      <td>0.000085</td>\n",
              "      <td>0.000151</td>\n",
              "    </tr>\n",
              "    <tr>\n",
              "      <th>3</th>\n",
              "      <td>34218393</td>\n",
              "      <td>0.988378</td>\n",
              "      <td>0.005487</td>\n",
              "      <td>0.031002</td>\n",
              "      <td>0.001224</td>\n",
              "      <td>0.000286</td>\n",
              "      <td>0.000125</td>\n",
              "      <td>0.000478</td>\n",
              "    </tr>\n",
              "    <tr>\n",
              "      <th>4</th>\n",
              "      <td>34131026</td>\n",
              "      <td>0.001315</td>\n",
              "      <td>0.003854</td>\n",
              "      <td>0.995527</td>\n",
              "      <td>0.000397</td>\n",
              "      <td>0.000507</td>\n",
              "      <td>0.000063</td>\n",
              "      <td>0.000504</td>\n",
              "    </tr>\n",
              "  </tbody>\n",
              "</table>\n",
              "</div>"
            ],
            "text/plain": [
              "       PMID  Treatment  ...  Epidemic Forecasting  Case Report\n",
              "0  34336157   0.996832  ...              0.000055     0.000471\n",
              "1  34211701   0.969118  ...              0.000069     0.001104\n",
              "2  34367415   0.996042  ...              0.000085     0.000151\n",
              "3  34218393   0.988378  ...              0.000125     0.000478\n",
              "4  34131026   0.001315  ...              0.000063     0.000504\n",
              "\n",
              "[5 rows x 8 columns]"
            ]
          },
          "metadata": {},
          "execution_count": 82
        }
      ]
    },
    {
      "cell_type": "code",
      "metadata": {
        "colab": {
          "base_uri": "https://localhost:8080/"
        },
        "id": "-KiP3DpU4_F-",
        "outputId": "a193a080-e9e9-49cd-d5ea-93a01d275f69"
      },
      "source": [
        "%cd drive/MyDrive/Biocreative/Biocreative/Test_Results/"
      ],
      "execution_count": null,
      "outputs": [
        {
          "output_type": "stream",
          "name": "stdout",
          "text": [
            "/content/drive/MyDrive/Biocreative/Biocreative/Test_Results\n"
          ]
        }
      ]
    },
    {
      "cell_type": "code",
      "metadata": {
        "id": "nHhZOoK85LW9"
      },
      "source": [
        "main_pred_df.to_csv(\"specter_dual_att.csv\", index=False)"
      ],
      "execution_count": null,
      "outputs": []
    },
    {
      "cell_type": "code",
      "metadata": {
        "colab": {
          "base_uri": "https://localhost:8080/",
          "height": 417
        },
        "id": "GBsl3WQc5zzy",
        "outputId": "3a7b74a3-372e-4f9c-a593-398fb7b36712"
      },
      "source": [
        "new_pred = pd.read_csv(\"specter_dual_att.csv\")\n",
        "new_pred"
      ],
      "execution_count": null,
      "outputs": [
        {
          "output_type": "execute_result",
          "data": {
            "text/html": [
              "<div>\n",
              "<style scoped>\n",
              "    .dataframe tbody tr th:only-of-type {\n",
              "        vertical-align: middle;\n",
              "    }\n",
              "\n",
              "    .dataframe tbody tr th {\n",
              "        vertical-align: top;\n",
              "    }\n",
              "\n",
              "    .dataframe thead th {\n",
              "        text-align: right;\n",
              "    }\n",
              "</style>\n",
              "<table border=\"1\" class=\"dataframe\">\n",
              "  <thead>\n",
              "    <tr style=\"text-align: right;\">\n",
              "      <th></th>\n",
              "      <th>PMID</th>\n",
              "      <th>Treatment</th>\n",
              "      <th>Diagnosis</th>\n",
              "      <th>Prevention</th>\n",
              "      <th>Mechanism</th>\n",
              "      <th>Transmission</th>\n",
              "      <th>Epidemic Forecasting</th>\n",
              "      <th>Case Report</th>\n",
              "    </tr>\n",
              "  </thead>\n",
              "  <tbody>\n",
              "    <tr>\n",
              "      <th>0</th>\n",
              "      <td>34336157</td>\n",
              "      <td>0.996832</td>\n",
              "      <td>0.245204</td>\n",
              "      <td>0.003689</td>\n",
              "      <td>0.003591</td>\n",
              "      <td>0.000344</td>\n",
              "      <td>0.000055</td>\n",
              "      <td>0.000471</td>\n",
              "    </tr>\n",
              "    <tr>\n",
              "      <th>1</th>\n",
              "      <td>34211701</td>\n",
              "      <td>0.969118</td>\n",
              "      <td>0.989632</td>\n",
              "      <td>0.013161</td>\n",
              "      <td>0.002554</td>\n",
              "      <td>0.000688</td>\n",
              "      <td>0.000069</td>\n",
              "      <td>0.001104</td>\n",
              "    </tr>\n",
              "    <tr>\n",
              "      <th>2</th>\n",
              "      <td>34367415</td>\n",
              "      <td>0.996042</td>\n",
              "      <td>0.011764</td>\n",
              "      <td>0.004061</td>\n",
              "      <td>0.922421</td>\n",
              "      <td>0.000470</td>\n",
              "      <td>0.000085</td>\n",
              "      <td>0.000151</td>\n",
              "    </tr>\n",
              "    <tr>\n",
              "      <th>3</th>\n",
              "      <td>34218393</td>\n",
              "      <td>0.988378</td>\n",
              "      <td>0.005487</td>\n",
              "      <td>0.031002</td>\n",
              "      <td>0.001224</td>\n",
              "      <td>0.000286</td>\n",
              "      <td>0.000125</td>\n",
              "      <td>0.000478</td>\n",
              "    </tr>\n",
              "    <tr>\n",
              "      <th>4</th>\n",
              "      <td>34131026</td>\n",
              "      <td>0.001315</td>\n",
              "      <td>0.003854</td>\n",
              "      <td>0.995527</td>\n",
              "      <td>0.000397</td>\n",
              "      <td>0.000507</td>\n",
              "      <td>0.000063</td>\n",
              "      <td>0.000504</td>\n",
              "    </tr>\n",
              "    <tr>\n",
              "      <th>...</th>\n",
              "      <td>...</td>\n",
              "      <td>...</td>\n",
              "      <td>...</td>\n",
              "      <td>...</td>\n",
              "      <td>...</td>\n",
              "      <td>...</td>\n",
              "      <td>...</td>\n",
              "      <td>...</td>\n",
              "    </tr>\n",
              "    <tr>\n",
              "      <th>2495</th>\n",
              "      <td>34291555</td>\n",
              "      <td>0.981854</td>\n",
              "      <td>0.004347</td>\n",
              "      <td>0.002074</td>\n",
              "      <td>0.993019</td>\n",
              "      <td>0.000286</td>\n",
              "      <td>0.000320</td>\n",
              "      <td>0.000346</td>\n",
              "    </tr>\n",
              "    <tr>\n",
              "      <th>2496</th>\n",
              "      <td>34204119</td>\n",
              "      <td>0.985410</td>\n",
              "      <td>0.959074</td>\n",
              "      <td>0.013200</td>\n",
              "      <td>0.001932</td>\n",
              "      <td>0.000653</td>\n",
              "      <td>0.000062</td>\n",
              "      <td>0.000569</td>\n",
              "    </tr>\n",
              "    <tr>\n",
              "      <th>2497</th>\n",
              "      <td>34228511</td>\n",
              "      <td>0.180588</td>\n",
              "      <td>0.164398</td>\n",
              "      <td>0.917522</td>\n",
              "      <td>0.001614</td>\n",
              "      <td>0.000763</td>\n",
              "      <td>0.000004</td>\n",
              "      <td>0.000976</td>\n",
              "    </tr>\n",
              "    <tr>\n",
              "      <th>2498</th>\n",
              "      <td>34226900</td>\n",
              "      <td>0.835722</td>\n",
              "      <td>0.965178</td>\n",
              "      <td>0.092064</td>\n",
              "      <td>0.059715</td>\n",
              "      <td>0.004019</td>\n",
              "      <td>0.000013</td>\n",
              "      <td>0.000406</td>\n",
              "    </tr>\n",
              "    <tr>\n",
              "      <th>2499</th>\n",
              "      <td>34218774</td>\n",
              "      <td>0.981328</td>\n",
              "      <td>0.004459</td>\n",
              "      <td>0.073951</td>\n",
              "      <td>0.001508</td>\n",
              "      <td>0.000422</td>\n",
              "      <td>0.000073</td>\n",
              "      <td>0.000418</td>\n",
              "    </tr>\n",
              "  </tbody>\n",
              "</table>\n",
              "<p>2500 rows × 8 columns</p>\n",
              "</div>"
            ],
            "text/plain": [
              "          PMID  Treatment  ...  Epidemic Forecasting  Case Report\n",
              "0     34336157   0.996832  ...              0.000055     0.000471\n",
              "1     34211701   0.969118  ...              0.000069     0.001104\n",
              "2     34367415   0.996042  ...              0.000085     0.000151\n",
              "3     34218393   0.988378  ...              0.000125     0.000478\n",
              "4     34131026   0.001315  ...              0.000063     0.000504\n",
              "...        ...        ...  ...                   ...          ...\n",
              "2495  34291555   0.981854  ...              0.000320     0.000346\n",
              "2496  34204119   0.985410  ...              0.000062     0.000569\n",
              "2497  34228511   0.180588  ...              0.000004     0.000976\n",
              "2498  34226900   0.835722  ...              0.000013     0.000406\n",
              "2499  34218774   0.981328  ...              0.000073     0.000418\n",
              "\n",
              "[2500 rows x 8 columns]"
            ]
          },
          "metadata": {},
          "execution_count": 93
        }
      ]
    },
    {
      "cell_type": "code",
      "metadata": {
        "colab": {
          "base_uri": "https://localhost:8080/",
          "height": 417
        },
        "id": "DuO00U4X6Abt",
        "outputId": "06856eb7-1f52-4531-f195-7d7c280c829f"
      },
      "source": [
        "dual_ensemble = pd.read_csv(\"dual_bert_Ensemble.csv\")\n",
        "dual_ensemble"
      ],
      "execution_count": null,
      "outputs": [
        {
          "output_type": "execute_result",
          "data": {
            "text/html": [
              "<div>\n",
              "<style scoped>\n",
              "    .dataframe tbody tr th:only-of-type {\n",
              "        vertical-align: middle;\n",
              "    }\n",
              "\n",
              "    .dataframe tbody tr th {\n",
              "        vertical-align: top;\n",
              "    }\n",
              "\n",
              "    .dataframe thead th {\n",
              "        text-align: right;\n",
              "    }\n",
              "</style>\n",
              "<table border=\"1\" class=\"dataframe\">\n",
              "  <thead>\n",
              "    <tr style=\"text-align: right;\">\n",
              "      <th></th>\n",
              "      <th>PMID</th>\n",
              "      <th>Treatment</th>\n",
              "      <th>Diagnosis</th>\n",
              "      <th>Prevention</th>\n",
              "      <th>Mechanism</th>\n",
              "      <th>Transmission</th>\n",
              "      <th>Epidemic Forecasting</th>\n",
              "      <th>Case Report</th>\n",
              "    </tr>\n",
              "  </thead>\n",
              "  <tbody>\n",
              "    <tr>\n",
              "      <th>0</th>\n",
              "      <td>34336157</td>\n",
              "      <td>0.997213</td>\n",
              "      <td>0.169308</td>\n",
              "      <td>0.004443</td>\n",
              "      <td>0.003471</td>\n",
              "      <td>0.000001</td>\n",
              "      <td>0.000001</td>\n",
              "      <td>0.000301</td>\n",
              "    </tr>\n",
              "    <tr>\n",
              "      <th>1</th>\n",
              "      <td>34211701</td>\n",
              "      <td>0.916451</td>\n",
              "      <td>0.986004</td>\n",
              "      <td>0.013786</td>\n",
              "      <td>0.003106</td>\n",
              "      <td>0.000063</td>\n",
              "      <td>0.000004</td>\n",
              "      <td>0.000368</td>\n",
              "    </tr>\n",
              "    <tr>\n",
              "      <th>2</th>\n",
              "      <td>34367415</td>\n",
              "      <td>0.996768</td>\n",
              "      <td>0.043622</td>\n",
              "      <td>0.003704</td>\n",
              "      <td>0.929797</td>\n",
              "      <td>0.000117</td>\n",
              "      <td>0.000013</td>\n",
              "      <td>0.000140</td>\n",
              "    </tr>\n",
              "    <tr>\n",
              "      <th>3</th>\n",
              "      <td>34218393</td>\n",
              "      <td>0.995460</td>\n",
              "      <td>0.015110</td>\n",
              "      <td>0.013284</td>\n",
              "      <td>0.005272</td>\n",
              "      <td>0.000003</td>\n",
              "      <td>0.000003</td>\n",
              "      <td>0.000473</td>\n",
              "    </tr>\n",
              "    <tr>\n",
              "      <th>4</th>\n",
              "      <td>34131026</td>\n",
              "      <td>0.001570</td>\n",
              "      <td>0.001174</td>\n",
              "      <td>0.999092</td>\n",
              "      <td>0.000002</td>\n",
              "      <td>0.000102</td>\n",
              "      <td>0.000002</td>\n",
              "      <td>0.000019</td>\n",
              "    </tr>\n",
              "    <tr>\n",
              "      <th>...</th>\n",
              "      <td>...</td>\n",
              "      <td>...</td>\n",
              "      <td>...</td>\n",
              "      <td>...</td>\n",
              "      <td>...</td>\n",
              "      <td>...</td>\n",
              "      <td>...</td>\n",
              "      <td>...</td>\n",
              "    </tr>\n",
              "    <tr>\n",
              "      <th>2495</th>\n",
              "      <td>34291555</td>\n",
              "      <td>0.989350</td>\n",
              "      <td>0.003505</td>\n",
              "      <td>0.000772</td>\n",
              "      <td>0.993984</td>\n",
              "      <td>0.000044</td>\n",
              "      <td>0.000001</td>\n",
              "      <td>0.000032</td>\n",
              "    </tr>\n",
              "    <tr>\n",
              "      <th>2496</th>\n",
              "      <td>34204119</td>\n",
              "      <td>0.982862</td>\n",
              "      <td>0.825384</td>\n",
              "      <td>0.010762</td>\n",
              "      <td>0.013090</td>\n",
              "      <td>0.000069</td>\n",
              "      <td>0.000031</td>\n",
              "      <td>0.001934</td>\n",
              "    </tr>\n",
              "    <tr>\n",
              "      <th>2497</th>\n",
              "      <td>34228511</td>\n",
              "      <td>0.146783</td>\n",
              "      <td>0.504033</td>\n",
              "      <td>0.832181</td>\n",
              "      <td>0.003049</td>\n",
              "      <td>0.004648</td>\n",
              "      <td>0.000345</td>\n",
              "      <td>0.011105</td>\n",
              "    </tr>\n",
              "    <tr>\n",
              "      <th>2498</th>\n",
              "      <td>34226900</td>\n",
              "      <td>0.977807</td>\n",
              "      <td>0.799504</td>\n",
              "      <td>0.033778</td>\n",
              "      <td>0.126187</td>\n",
              "      <td>0.000627</td>\n",
              "      <td>0.000100</td>\n",
              "      <td>0.001451</td>\n",
              "    </tr>\n",
              "    <tr>\n",
              "      <th>2499</th>\n",
              "      <td>34218774</td>\n",
              "      <td>0.984278</td>\n",
              "      <td>0.008618</td>\n",
              "      <td>0.105568</td>\n",
              "      <td>0.003392</td>\n",
              "      <td>0.000011</td>\n",
              "      <td>0.000013</td>\n",
              "      <td>0.000307</td>\n",
              "    </tr>\n",
              "  </tbody>\n",
              "</table>\n",
              "<p>2500 rows × 8 columns</p>\n",
              "</div>"
            ],
            "text/plain": [
              "          PMID  Treatment  ...  Epidemic Forecasting  Case Report\n",
              "0     34336157   0.997213  ...              0.000001     0.000301\n",
              "1     34211701   0.916451  ...              0.000004     0.000368\n",
              "2     34367415   0.996768  ...              0.000013     0.000140\n",
              "3     34218393   0.995460  ...              0.000003     0.000473\n",
              "4     34131026   0.001570  ...              0.000002     0.000019\n",
              "...        ...        ...  ...                   ...          ...\n",
              "2495  34291555   0.989350  ...              0.000001     0.000032\n",
              "2496  34204119   0.982862  ...              0.000031     0.001934\n",
              "2497  34228511   0.146783  ...              0.000345     0.011105\n",
              "2498  34226900   0.977807  ...              0.000100     0.001451\n",
              "2499  34218774   0.984278  ...              0.000013     0.000307\n",
              "\n",
              "[2500 rows x 8 columns]"
            ]
          },
          "metadata": {},
          "execution_count": 81
        }
      ]
    },
    {
      "cell_type": "markdown",
      "metadata": {
        "id": "pixwbhCQZzEa"
      },
      "source": [
        "#### data analysis"
      ]
    },
    {
      "cell_type": "code",
      "metadata": {
        "id": "ZmzSFy2u_qXD"
      },
      "source": [
        "# convert prediction in boolean labels\n",
        "y_pred = (predictions > 0.65).type(torch.uint8)\n",
        "y_true = labels  "
      ],
      "execution_count": null,
      "outputs": []
    },
    {
      "cell_type": "code",
      "metadata": {
        "id": "qRCIkiW4AzVy"
      },
      "source": [
        "# count non-zero values\n",
        "true_counts = y_true.count_nonzero(dim=1)\n",
        "pred_counts = y_pred.count_nonzero(dim=1)"
      ],
      "execution_count": null,
      "outputs": []
    },
    {
      "cell_type": "code",
      "metadata": {
        "id": "7wf7RTbuCj7d"
      },
      "source": [
        "# dict mapping for count -> key \n",
        "unique, counts = true_counts.unique(return_counts=True)\n",
        "true_count_dict = dict(zip(unique.tolist(), counts.tolist()))\n",
        "print(true_count_dict)"
      ],
      "execution_count": null,
      "outputs": []
    },
    {
      "cell_type": "code",
      "metadata": {
        "id": "kCL9XGJBGwTW"
      },
      "source": [
        "X = [1, 2, 3, 4, 5]\n",
        "for label in X:\n",
        "  try:\n",
        "    val = true_count_dict[label]\n",
        "  except Exception as e:\n",
        "    true_count_dict[label] = 0\n",
        "\n",
        "true_count_dict"
      ],
      "execution_count": null,
      "outputs": []
    },
    {
      "cell_type": "code",
      "metadata": {
        "id": "krCFXaRkDtzO"
      },
      "source": [
        "# dict mapping for count -> key\n",
        "pred_count_dict = {\n",
        "    1: 0,\n",
        "    2: 0,\n",
        "    3: 0,\n",
        "    4: 0,\n",
        "    5: 0\n",
        "}\n",
        "\n",
        "for idx, value in enumerate(true_counts):\n",
        "  if value == pred_counts[idx]: \n",
        "    pred_count_dict[value.tolist()] += 1\n",
        "  else:\n",
        "    pass\n",
        "\n",
        "pred_count_dict"
      ],
      "execution_count": null,
      "outputs": []
    },
    {
      "cell_type": "code",
      "metadata": {
        "id": "2YhqCvhBEUOb"
      },
      "source": [
        "X = [\"1\", \"2\", \"3\", \"4\", \"5\"]\n",
        "\n",
        "# creating the dataset \n",
        "keys = list(pred_count_dict.keys()) \n",
        "pred_values = list(pred_count_dict.values()) \n",
        "true_values = list(true_count_dict.values())\n",
        "\n",
        "keys = np.array(keys)\n",
        "\n",
        "fig = plt.figure(figsize = (10, 10)) \n",
        "  \n",
        "# creating the bar plot \n",
        "plt.bar(keys - 0.2, true_values, 0.4, label = 'True Label')\n",
        "plt.bar(keys + 0.2, pred_values, 0.4, label = 'Prediction')\n",
        "\n",
        "plt.xticks(keys, X)\n",
        "plt.xlabel(\"Count of labels\")\n",
        "plt.ylabel(\"Counts\")\n",
        "plt.title(\"Transmission predicted v/s true\")\n",
        "plt.legend()\n",
        "plt.show() "
      ],
      "execution_count": null,
      "outputs": []
    },
    {
      "cell_type": "code",
      "metadata": {
        "id": "5mWHzCoNUM8-"
      },
      "source": [
        "class_dict_pred = dict(zip(LABEL_COLUMNS, [0]*7))\n",
        "class_dict_true = dict(zip(LABEL_COLUMNS, [0]*7))\n",
        "class_dict_pred, class_dict_true"
      ],
      "execution_count": null,
      "outputs": []
    },
    {
      "cell_type": "code",
      "metadata": {
        "id": "dJHW48HcFAmT"
      },
      "source": [
        "THRESHOLD = 0.5\n",
        "print(LABEL_COLUMNS)\n",
        "\n",
        "for item in val_dataset:\n",
        "\n",
        "  labels = item[\"labels\"].numpy()\n",
        "  count = np.count_nonzero(labels)\n",
        "\n",
        "  if count == 2:\n",
        "    \n",
        "    _, prediction = trained_model(\n",
        "        item[\"input_ids\"].unsqueeze(dim=0).to(device),\n",
        "        item[\"attention_mask\"].unsqueeze(dim=0).to(device)\n",
        "    )\n",
        "\n",
        "    # print((prediction > THRESHOLD).type(torch.uint8))\n",
        "\n",
        "    prediction = prediction.cpu()\n",
        "\n",
        "    for idx, key in enumerate(class_dict_pred.keys()):\n",
        "\n",
        "      class_dict_pred[key] += (prediction[0, idx] > THRESHOLD).type(torch.uint8)\n",
        "\n",
        "    for idx, key in enumerate(class_dict_true.keys()):\n",
        "      class_dict_true[key] += labels[idx]"
      ],
      "execution_count": null,
      "outputs": []
    },
    {
      "cell_type": "code",
      "metadata": {
        "id": "_roLMQneXw5_"
      },
      "source": [
        "for key, value in class_dict_pred.items():\n",
        "\n",
        "  class_dict_pred[key] = value.numpy().item()\n",
        "\n",
        "print(class_dict_pred)\n",
        "print(class_dict_true)"
      ],
      "execution_count": null,
      "outputs": []
    },
    {
      "cell_type": "code",
      "metadata": {
        "id": "L-hx5A-lX7Mg"
      },
      "source": [
        "keys = class_dict_pred.keys()\n",
        "values = class_dict_pred.values()\n",
        "\n",
        "# Creating plot\n",
        "fig = plt.figure(figsize =(10, 7))\n",
        "plt.pie(values, labels = keys)\n",
        "  \n",
        "# show plot\n",
        "plt.show()"
      ],
      "execution_count": null,
      "outputs": []
    },
    {
      "cell_type": "code",
      "metadata": {
        "id": "e8LnJTrPaAZ4"
      },
      "source": [
        "keys = class_dict_true.keys()\n",
        "values = class_dict_true.values()\n",
        "\n",
        "# Creating plot\n",
        "fig = plt.figure(figsize =(10, 7))\n",
        "plt.pie(values, labels = keys)\n",
        "plt.title(\"Transmission train set double label class distribution\")\n",
        "# show plot\n",
        "plt.show()"
      ],
      "execution_count": null,
      "outputs": []
    },
    {
      "cell_type": "markdown",
      "metadata": {
        "id": "Jl2e8HrYxnLo"
      },
      "source": [
        "#### Accuracy"
      ]
    },
    {
      "cell_type": "code",
      "metadata": {
        "id": "UUxXohXBs8S8"
      },
      "source": [
        "THRESHOLD = 0.5"
      ],
      "execution_count": null,
      "outputs": []
    },
    {
      "cell_type": "code",
      "metadata": {
        "colab": {
          "base_uri": "https://localhost:8080/"
        },
        "id": "PU5Y47GVRaic",
        "outputId": "8e9e8c1d-eb4b-448d-bb6b-8936fa5fd053"
      },
      "source": [
        "# calculating the accuracy of the model\n",
        "accuracy(predictions, labels, threshold=THRESHOLD)"
      ],
      "execution_count": null,
      "outputs": [
        {
          "output_type": "stream",
          "name": "stderr",
          "text": [
            "/usr/local/lib/python3.7/dist-packages/deprecate/deprecation.py:115: LightningDeprecationWarning: The `accuracy` was deprecated since v1.3.0 in favor of `torchmetrics.functional.classification.accuracy.accuracy`. It will be removed in v1.5.0.\n",
            "  stream(template_mgs % msg_args)\n"
          ]
        },
        {
          "output_type": "execute_result",
          "data": {
            "text/plain": [
              "tensor(0.9583)"
            ]
          },
          "metadata": {},
          "execution_count": 38
        }
      ]
    },
    {
      "cell_type": "markdown",
      "metadata": {
        "id": "QMhUJT1nxoyE"
      },
      "source": [
        "#### ROC for each tag"
      ]
    },
    {
      "cell_type": "code",
      "metadata": {
        "colab": {
          "base_uri": "https://localhost:8080/"
        },
        "id": "Wkj_cQnixQcG",
        "outputId": "d4c524db-7fa1-452a-8d92-d2dde8e387df"
      },
      "source": [
        "print(\"AUROC per tag\")\n",
        "for i, name in enumerate(LABEL_COLUMNS):\n",
        "  tag_auroc = auroc(predictions[:, i], labels[:, i], pos_label=1)\n",
        "  print(f\"{name}: {tag_auroc}\")"
      ],
      "execution_count": null,
      "outputs": [
        {
          "output_type": "stream",
          "name": "stdout",
          "text": [
            "AUROC per tag\n",
            "Case Report: 0.9915202260017395\n",
            "Diagnosis: 0.9799028635025024\n",
            "Epidemic Forecasting: 0.9920523166656494\n",
            "Mechanism: 0.9870989322662354\n",
            "Prevention: 0.9841985106468201\n",
            "Transmission: 0.9884772300720215\n",
            "Treatment: 0.9781867265701294\n"
          ]
        },
        {
          "output_type": "stream",
          "name": "stderr",
          "text": [
            "/usr/local/lib/python3.7/dist-packages/deprecate/deprecation.py:115: LightningDeprecationWarning: The `auroc` was deprecated since v1.3.0 in favor of `torchmetrics.functional.classification.auroc.auroc`. It will be removed in v1.5.0.\n",
            "  stream(template_mgs % msg_args)\n"
          ]
        }
      ]
    },
    {
      "cell_type": "markdown",
      "metadata": {
        "id": "zVkHzSD8O2_i"
      },
      "source": [
        "#### save predictions"
      ]
    },
    {
      "cell_type": "code",
      "metadata": {
        "id": "Cr43BCR7W9WE"
      },
      "source": [
        "val_pmid = val_df[\"pmid\"]"
      ],
      "execution_count": null,
      "outputs": []
    },
    {
      "cell_type": "code",
      "metadata": {
        "id": "XV3X56EAO5O8"
      },
      "source": [
        "prediction_df = pd.DataFrame(predictions.numpy(), columns=LABEL_COLUMNS)\n",
        "label_df = pd.DataFrame(labels.numpy(), columns=LABEL_COLUMNS)\n",
        "prediction_df[\"pmid\"] = val_pmid\n",
        "label_df[\"pmid\"] = val_pmid\n",
        "prediction_df = prediction_df.reindex(columns=[\"pmid\", 'Case Report', 'Diagnosis', 'Epidemic Forecasting', 'Mechanism', 'Prevention', 'Transmission', 'Treatment'])\n",
        "label_df = label_df.reindex(columns=[\"pmid\", 'Case Report', 'Diagnosis', 'Epidemic Forecasting', 'Mechanism', 'Prevention', 'Transmission', 'Treatment'])"
      ],
      "execution_count": null,
      "outputs": []
    },
    {
      "cell_type": "code",
      "metadata": {
        "id": "9h1JgGkpPN5j"
      },
      "source": [
        "prediction_df.to_csv(\"/content/drive/MyDrive/Biocreative/Biocreative/datasets/specter_prediction.csv\", index=False)\n",
        "label_df.to_csv(\"/content/drive/MyDrive/Biocreative/Biocreative/datasets/specter_labels.csv\", index=False)"
      ],
      "execution_count": null,
      "outputs": []
    },
    {
      "cell_type": "code",
      "metadata": {
        "id": "BXCvq46oPk6q"
      },
      "source": [
        "pred_df = pd.read_csv(\"drive/MyDrive/Biocreative/Biocreative/datasets/specter_results/specter_prediction.csv\")\n",
        "lbl_df = pd.read_csv(\"drive/MyDrive/Biocreative/Biocreative/datasets/specter_results/specter_labels.csv\")"
      ],
      "execution_count": null,
      "outputs": []
    },
    {
      "cell_type": "code",
      "metadata": {
        "id": "7GsVCWocPu1Z"
      },
      "source": [
        "# do not run below codes\n",
        "# pred_df.rename(columns={'Unnamed: 0': 'PMID'}, inplace=True, errors='raise')\n",
        "# lbl_df.rename(columns={'Unnamed: 0': 'PMID'}, inplace=True, errors='raise')"
      ],
      "execution_count": null,
      "outputs": []
    },
    {
      "cell_type": "code",
      "metadata": {
        "id": "38tGGWKrQJ2f"
      },
      "source": [
        "# pred_df.to_csv(\"drive/MyDrive/Biocreative/Biocreative/datasets/specter_results/specter_prediction.csv\", index=False)\n",
        "# lbl_df.to_csv(\"drive/MyDrive/Biocreative/Biocreative/datasets/specter_results/specter_labels.csv\", index=False)"
      ],
      "execution_count": null,
      "outputs": []
    },
    {
      "cell_type": "markdown",
      "metadata": {
        "id": "0zrMwXqxx3mZ"
      },
      "source": [
        "#### classification report for each class"
      ]
    },
    {
      "cell_type": "code",
      "metadata": {
        "colab": {
          "base_uri": "https://localhost:8080/"
        },
        "id": "vHeUP0Foxvj6",
        "outputId": "99ec14f4-e716-4c4e-c6ec-8698aba5859c"
      },
      "source": [
        "y_pred = predictions.numpy()\n",
        "y_true = labels.numpy()\n",
        "\n",
        "upper, lower = 1, 0\n",
        "\n",
        "y_pred = np.where(y_pred > 0.5, upper, lower)\n",
        "\n",
        "print(\n",
        "    classification_report(\n",
        "        y_true,\n",
        "        y_pred,\n",
        "        digits=4,\n",
        "        target_names=LABEL_COLUMNS,\n",
        "        zero_division=0\n",
        "    )\n",
        ")"
      ],
      "execution_count": null,
      "outputs": [
        {
          "output_type": "stream",
          "name": "stdout",
          "text": [
            "                      precision    recall  f1-score   support\n",
            "\n",
            "         Case Report     0.9116    0.9153    0.9135       248\n",
            "           Diagnosis     0.8602    0.8834    0.8717       815\n",
            "Epidemic Forecasting     0.8841    0.8735    0.8788       166\n",
            "           Mechanism     0.9378    0.8222    0.8762       568\n",
            "          Prevention     0.9277    0.9386    0.9331      1613\n",
            "        Transmission     0.8580    0.8239    0.8406       352\n",
            "           Treatment     0.9029    0.8651    0.8836      1075\n",
            "\n",
            "           micro avg     0.9042    0.8875    0.8958      4837\n",
            "           macro avg     0.8975    0.8746    0.8853      4837\n",
            "        weighted avg     0.9046    0.8875    0.8955      4837\n",
            "         samples avg     0.9209    0.9154    0.9046      4837\n",
            "\n"
          ]
        }
      ]
    },
    {
      "cell_type": "code",
      "metadata": {
        "colab": {
          "base_uri": "https://localhost:8080/"
        },
        "id": "-AQJaDNN0AOW",
        "outputId": "8eeb1e29-4724-42ab-f6d7-dcdee9a6b11d"
      },
      "source": [
        "THRESHOLD = [0.3, 0.35, 0.4, 0.45, 0.5, 0.55, 0.6, 0.65, 0.67, 0.7, 0.75, 0.8, 0.85, 0.9, 0.95]\n",
        "\n",
        "for threshold in THRESHOLD:\n",
        "  y_pred = predictions.numpy()\n",
        "  y_true = labels.numpy()\n",
        "\n",
        "  upper, lower = 1, 0\n",
        "\n",
        "  y_pred = np.where(y_pred > threshold, upper, lower)\n",
        "\n",
        "  print(f\"Threshold: {threshold}\")\n",
        "\n",
        "  print(\n",
        "      classification_report(\n",
        "          y_true,\n",
        "          y_pred,\n",
        "          digits=4,\n",
        "          target_names=LABEL_COLUMNS,\n",
        "          zero_division=0\n",
        "          )\n",
        "      )"
      ],
      "execution_count": null,
      "outputs": [
        {
          "output_type": "stream",
          "name": "stdout",
          "text": [
            "Threshold: 0.3\n",
            "                      precision    recall  f1-score   support\n",
            "\n",
            "         Case Report     0.8783    0.9315    0.9041       248\n",
            "           Diagnosis     0.8191    0.9166    0.8651       815\n",
            "Epidemic Forecasting     0.8563    0.8976    0.8765       166\n",
            "           Mechanism     0.9035    0.8574    0.8799       568\n",
            "          Prevention     0.9027    0.9603    0.9306      1613\n",
            "        Transmission     0.8191    0.8750    0.8462       352\n",
            "           Treatment     0.8729    0.9005    0.8864      1075\n",
            "\n",
            "           micro avg     0.8723    0.9177    0.8944      4837\n",
            "           macro avg     0.8646    0.9055    0.8841      4837\n",
            "        weighted avg     0.8731    0.9177    0.8944      4837\n",
            "         samples avg     0.9043    0.9374    0.9059      4837\n",
            "\n",
            "Threshold: 0.35\n",
            "                      precision    recall  f1-score   support\n",
            "\n",
            "         Case Report     0.8842    0.9234    0.9034       248\n",
            "           Diagnosis     0.8309    0.9166    0.8716       815\n",
            "Epidemic Forecasting     0.8655    0.8916    0.8783       166\n",
            "           Mechanism     0.9140    0.8415    0.8763       568\n",
            "          Prevention     0.9122    0.9535    0.9324      1613\n",
            "        Transmission     0.8297    0.8580    0.8436       352\n",
            "           Treatment     0.8793    0.8949    0.8870      1075\n",
            "\n",
            "           micro avg     0.8815    0.9105    0.8958      4837\n",
            "           macro avg     0.8737    0.8971    0.8847      4837\n",
            "        weighted avg     0.8824    0.9105    0.8957      4837\n",
            "         samples avg     0.9091    0.9320    0.9065      4837\n",
            "\n",
            "Threshold: 0.4\n",
            "                      precision    recall  f1-score   support\n",
            "\n",
            "         Case Report     0.8945    0.9234    0.9087       248\n",
            "           Diagnosis     0.8441    0.9104    0.8760       815\n",
            "Epidemic Forecasting     0.8706    0.8916    0.8810       166\n",
            "           Mechanism     0.9205    0.8363    0.8764       568\n",
            "          Prevention     0.9180    0.9504    0.9339      1613\n",
            "        Transmission     0.8385    0.8409    0.8397       352\n",
            "           Treatment     0.8906    0.8856    0.8881      1075\n",
            "\n",
            "           micro avg     0.8905    0.9045    0.8974      4837\n",
            "           macro avg     0.8824    0.8912    0.8863      4837\n",
            "        weighted avg     0.8911    0.9045    0.8972      4837\n",
            "         samples avg     0.9147    0.9283    0.9078      4837\n",
            "\n",
            "Threshold: 0.45\n",
            "                      precision    recall  f1-score   support\n",
            "\n",
            "         Case Report     0.8972    0.9153    0.9062       248\n",
            "           Diagnosis     0.8490    0.8969    0.8723       815\n",
            "Epidemic Forecasting     0.8802    0.8855    0.8829       166\n",
            "           Mechanism     0.9293    0.8327    0.8784       568\n",
            "          Prevention     0.9254    0.9461    0.9356      1613\n",
            "        Transmission     0.8517    0.8324    0.8420       352\n",
            "           Treatment     0.8988    0.8753    0.8869      1075\n",
            "\n",
            "           micro avg     0.8981    0.8968    0.8975      4837\n",
            "           macro avg     0.8902    0.8835    0.8863      4837\n",
            "        weighted avg     0.8987    0.8968    0.8973      4837\n",
            "         samples avg     0.9187    0.9223    0.9071      4837\n",
            "\n",
            "Threshold: 0.5\n",
            "                      precision    recall  f1-score   support\n",
            "\n",
            "         Case Report     0.9116    0.9153    0.9135       248\n",
            "           Diagnosis     0.8602    0.8834    0.8717       815\n",
            "Epidemic Forecasting     0.8841    0.8735    0.8788       166\n",
            "           Mechanism     0.9378    0.8222    0.8762       568\n",
            "          Prevention     0.9277    0.9386    0.9331      1613\n",
            "        Transmission     0.8580    0.8239    0.8406       352\n",
            "           Treatment     0.9029    0.8651    0.8836      1075\n",
            "\n",
            "           micro avg     0.9042    0.8875    0.8958      4837\n",
            "           macro avg     0.8975    0.8746    0.8853      4837\n",
            "        weighted avg     0.9046    0.8875    0.8955      4837\n",
            "         samples avg     0.9209    0.9154    0.9046      4837\n",
            "\n",
            "Threshold: 0.55\n",
            "                      precision    recall  f1-score   support\n",
            "\n",
            "         Case Report     0.9146    0.9073    0.9109       248\n",
            "           Diagnosis     0.8681    0.8724    0.8703       815\n",
            "Epidemic Forecasting     0.8896    0.8735    0.8815       166\n",
            "           Mechanism     0.9431    0.8169    0.8755       568\n",
            "          Prevention     0.9353    0.9324    0.9339      1613\n",
            "        Transmission     0.8602    0.7869    0.8220       352\n",
            "           Treatment     0.9120    0.8577    0.8840      1075\n",
            "\n",
            "           micro avg     0.9114    0.8782    0.8945      4837\n",
            "           macro avg     0.9033    0.8639    0.8826      4837\n",
            "        weighted avg     0.9116    0.8782    0.8941      4837\n",
            "         samples avg     0.9231    0.9085    0.9023      4837\n",
            "\n",
            "Threshold: 0.6\n",
            "                      precision    recall  f1-score   support\n",
            "\n",
            "         Case Report     0.9143    0.9032    0.9087       248\n",
            "           Diagnosis     0.8814    0.8663    0.8738       815\n",
            "Epidemic Forecasting     0.8875    0.8554    0.8712       166\n",
            "           Mechanism     0.9561    0.8046    0.8738       568\n",
            "          Prevention     0.9413    0.9244    0.9327      1613\n",
            "        Transmission     0.8667    0.7756    0.8186       352\n",
            "           Treatment     0.9198    0.8428    0.8796      1075\n",
            "\n",
            "           micro avg     0.9192    0.8681    0.8929      4837\n",
            "           macro avg     0.9096    0.8532    0.8798      4837\n",
            "        weighted avg     0.9195    0.8681    0.8924      4837\n",
            "         samples avg     0.9257    0.9010    0.8998      4837\n",
            "\n",
            "Threshold: 0.65\n",
            "                      precision    recall  f1-score   support\n",
            "\n",
            "         Case Report     0.9139    0.8992    0.9065       248\n",
            "           Diagnosis     0.8933    0.8528    0.8726       815\n",
            "Epidemic Forecasting     0.8868    0.8494    0.8677       166\n",
            "           Mechanism     0.9596    0.7940    0.8690       568\n",
            "          Prevention     0.9463    0.9175    0.9317      1613\n",
            "        Transmission     0.8874    0.7614    0.8196       352\n",
            "           Treatment     0.9253    0.8298    0.8749      1075\n",
            "\n",
            "           micro avg     0.9261    0.8580    0.8907      4837\n",
            "           macro avg     0.9161    0.8434    0.8774      4837\n",
            "        weighted avg     0.9263    0.8580    0.8901      4837\n",
            "         samples avg     0.9272    0.8934    0.8966      4837\n",
            "\n",
            "Threshold: 0.67\n",
            "                      precision    recall  f1-score   support\n",
            "\n",
            "         Case Report     0.9177    0.8992    0.9084       248\n",
            "           Diagnosis     0.8935    0.8442    0.8681       815\n",
            "Epidemic Forecasting     0.8861    0.8434    0.8642       166\n",
            "           Mechanism     0.9614    0.7887    0.8665       568\n",
            "          Prevention     0.9485    0.9132    0.9305      1613\n",
            "        Transmission     0.8900    0.7585    0.8190       352\n",
            "           Treatment     0.9306    0.8233    0.8736      1075\n",
            "\n",
            "           micro avg     0.9286    0.8526    0.8890      4837\n",
            "           macro avg     0.9182    0.8386    0.8758      4837\n",
            "        weighted avg     0.9288    0.8526    0.8883      4837\n",
            "         samples avg     0.9272    0.8893    0.8943      4837\n",
            "\n",
            "Threshold: 0.7\n",
            "                      precision    recall  f1-score   support\n",
            "\n",
            "         Case Report     0.9215    0.8992    0.9102       248\n",
            "           Diagnosis     0.8999    0.8380    0.8679       815\n",
            "Epidemic Forecasting     0.8968    0.8373    0.8660       166\n",
            "           Mechanism     0.9630    0.7799    0.8619       568\n",
            "          Prevention     0.9545    0.9107    0.9321      1613\n",
            "        Transmission     0.8953    0.7528    0.8179       352\n",
            "           Treatment     0.9358    0.8140    0.8706      1075\n",
            "\n",
            "           micro avg     0.9341    0.8470    0.8884      4837\n",
            "           macro avg     0.9238    0.8331    0.8752      4837\n",
            "        weighted avg     0.9342    0.8470    0.8877      4837\n",
            "         samples avg     0.9272    0.8846    0.8922      4837\n",
            "\n",
            "Threshold: 0.75\n",
            "                      precision    recall  f1-score   support\n",
            "\n",
            "         Case Report     0.9244    0.8871    0.9053       248\n",
            "           Diagnosis     0.9114    0.8209    0.8638       815\n",
            "Epidemic Forecasting     0.9013    0.8253    0.8616       166\n",
            "           Mechanism     0.9667    0.7658    0.8546       568\n",
            "          Prevention     0.9587    0.9058    0.9315      1613\n",
            "        Transmission     0.9088    0.7358    0.8132       352\n",
            "           Treatment     0.9407    0.7963    0.8625      1075\n",
            "\n",
            "           micro avg     0.9404    0.8346    0.8843      4837\n",
            "           macro avg     0.9303    0.8196    0.8704      4837\n",
            "        weighted avg     0.9403    0.8346    0.8834      4837\n",
            "         samples avg     0.9256    0.8745    0.8859      4837\n",
            "\n",
            "Threshold: 0.8\n",
            "                      precision    recall  f1-score   support\n",
            "\n",
            "         Case Report     0.9313    0.8750    0.9023       248\n",
            "           Diagnosis     0.9221    0.7988    0.8560       815\n",
            "Epidemic Forecasting     0.9060    0.8133    0.8571       166\n",
            "           Mechanism     0.9704    0.7500    0.8461       568\n",
            "          Prevention     0.9644    0.8903    0.9259      1613\n",
            "        Transmission     0.9033    0.6903    0.7826       352\n",
            "           Treatment     0.9501    0.7795    0.8564      1075\n",
            "\n",
            "           micro avg     0.9470    0.8158    0.8765      4837\n",
            "           macro avg     0.9354    0.7996    0.8609      4837\n",
            "        weighted avg     0.9467    0.8158    0.8753      4837\n",
            "         samples avg     0.9200    0.8593    0.8747      4837\n",
            "\n",
            "Threshold: 0.85\n",
            "                      precision    recall  f1-score   support\n",
            "\n",
            "         Case Report     0.9513    0.8669    0.9072       248\n",
            "           Diagnosis     0.9326    0.7644    0.8402       815\n",
            "Epidemic Forecasting     0.9149    0.7771    0.8404       166\n",
            "           Mechanism     0.9720    0.7342    0.8365       568\n",
            "          Prevention     0.9716    0.8692    0.9175      1613\n",
            "        Transmission     0.9213    0.6648    0.7723       352\n",
            "           Treatment     0.9572    0.7488    0.8403      1075\n",
            "\n",
            "           micro avg     0.9558    0.7908    0.8655      4837\n",
            "           macro avg     0.9458    0.7751    0.8506      4837\n",
            "        weighted avg     0.9552    0.7908    0.8641      4837\n",
            "         samples avg     0.9101    0.8400    0.8593      4837\n",
            "\n",
            "Threshold: 0.9\n",
            "                      precision    recall  f1-score   support\n",
            "\n",
            "         Case Report     0.9495    0.8347    0.8884       248\n",
            "           Diagnosis     0.9516    0.7239    0.8223       815\n",
            "Epidemic Forecasting     0.9389    0.7410    0.8283       166\n",
            "           Mechanism     0.9754    0.6972    0.8131       568\n",
            "          Prevention     0.9783    0.8376    0.9025      1613\n",
            "        Transmission     0.9484    0.5739    0.7150       352\n",
            "           Treatment     0.9645    0.7070    0.8159      1075\n",
            "\n",
            "           micro avg     0.9659    0.7503    0.8445      4837\n",
            "           macro avg     0.9581    0.7307    0.8265      4837\n",
            "        weighted avg     0.9654    0.7503    0.8423      4837\n",
            "         samples avg     0.8913    0.8069    0.8319      4837\n",
            "\n",
            "Threshold: 0.95\n",
            "                      precision    recall  f1-score   support\n",
            "\n",
            "         Case Report     0.9561    0.7903    0.8653       248\n",
            "           Diagnosis     0.9667    0.6405    0.7705       815\n",
            "Epidemic Forecasting     0.9655    0.6747    0.7943       166\n",
            "           Mechanism     0.9864    0.6391    0.7756       568\n",
            "          Prevention     0.9889    0.7743    0.8686      1613\n",
            "        Transmission     0.9744    0.4318    0.5984       352\n",
            "           Treatment     0.9779    0.6167    0.7564      1075\n",
            "\n",
            "           micro avg     0.9793    0.6734    0.7980      4837\n",
            "           macro avg     0.9737    0.6525    0.7756      4837\n",
            "        weighted avg     0.9789    0.6734    0.7938      4837\n",
            "         samples avg     0.8456    0.7428    0.7748      4837\n",
            "\n"
          ]
        }
      ]
    },
    {
      "cell_type": "code",
      "metadata": {
        "colab": {
          "base_uri": "https://localhost:8080/"
        },
        "id": "PTZ9lrEttGnt",
        "outputId": "f9270152-e4f0-42a9-8525-221273be8c0f"
      },
      "source": [
        "THRESHOLD = [threshold/100 for threshold in range(10, 100, 1)]\n",
        "print(THRESHOLD)"
      ],
      "execution_count": null,
      "outputs": [
        {
          "output_type": "stream",
          "name": "stdout",
          "text": [
            "[0.1, 0.11, 0.12, 0.13, 0.14, 0.15, 0.16, 0.17, 0.18, 0.19, 0.2, 0.21, 0.22, 0.23, 0.24, 0.25, 0.26, 0.27, 0.28, 0.29, 0.3, 0.31, 0.32, 0.33, 0.34, 0.35, 0.36, 0.37, 0.38, 0.39, 0.4, 0.41, 0.42, 0.43, 0.44, 0.45, 0.46, 0.47, 0.48, 0.49, 0.5, 0.51, 0.52, 0.53, 0.54, 0.55, 0.56, 0.57, 0.58, 0.59, 0.6, 0.61, 0.62, 0.63, 0.64, 0.65, 0.66, 0.67, 0.68, 0.69, 0.7, 0.71, 0.72, 0.73, 0.74, 0.75, 0.76, 0.77, 0.78, 0.79, 0.8, 0.81, 0.82, 0.83, 0.84, 0.85, 0.86, 0.87, 0.88, 0.89, 0.9, 0.91, 0.92, 0.93, 0.94, 0.95, 0.96, 0.97, 0.98, 0.99]\n"
          ]
        }
      ]
    },
    {
      "cell_type": "code",
      "metadata": {
        "id": "L23St_k6kWMT"
      },
      "source": [
        "Class_report = dict()\n",
        "\n",
        "for threshold in THRESHOLD:\n",
        "  y_pred = predictions.numpy()\n",
        "  y_true = labels.numpy()\n",
        "\n",
        "  upper, lower = 1, 0\n",
        "\n",
        "  y_pred = np.where(y_pred > threshold, upper, lower)\n",
        "\n",
        "  Class_report[f\"THRESHOLD:{threshold}\"] = classification_report(\n",
        "      y_true,\n",
        "      y_pred,\n",
        "      target_names=LABEL_COLUMNS,\n",
        "      zero_division=0,\n",
        "      output_dict=True\n",
        "  )"
      ],
      "execution_count": null,
      "outputs": []
    },
    {
      "cell_type": "code",
      "metadata": {
        "id": "RO-mClKnkbyx"
      },
      "source": [
        "micro_F1_Scores = [Class_report[key][\"micro avg\"][\"f1-score\"] for key in Class_report.keys()]\n",
        "macro_F1_Scores = [Class_report[key][\"macro avg\"][\"f1-score\"] for key in Class_report.keys()]"
      ],
      "execution_count": null,
      "outputs": []
    },
    {
      "cell_type": "code",
      "metadata": {
        "colab": {
          "base_uri": "https://localhost:8080/",
          "height": 488
        },
        "id": "H22BEzj_kh69",
        "outputId": "73417caa-79f2-48f9-89b5-1c56e2f3b9fe"
      },
      "source": [
        "import seaborn as sns\n",
        "import matplotlib.pyplot as plt\n",
        "\n",
        "x = np.arange(10, 100, 1)/100\n",
        "y1 = np.array(micro_F1_Scores)\n",
        "y2 = np.array(macro_F1_Scores)\n",
        "\n",
        "plt.plot(x, y1, 'r')  \n",
        "plt.plot(x, y2, 'b') \n",
        "plt.show()"
      ],
      "execution_count": null,
      "outputs": [
        {
          "output_type": "display_data",
          "data": {
            "image/png": "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\n",
            "text/plain": [
              "<Figure size 864x576 with 1 Axes>"
            ]
          },
          "metadata": {
            "image/png": {
              "width": 714,
              "height": 471
            }
          }
        }
      ]
    },
    {
      "cell_type": "code",
      "metadata": {
        "colab": {
          "base_uri": "https://localhost:8080/"
        },
        "id": "A1IFeN1jtH0Z",
        "outputId": "13d21560-c0ba-49dc-cd32-f868a41f3e5b"
      },
      "source": [
        "max(micro_F1_Scores), np.argmax(micro_F1_Scores), x[32]"
      ],
      "execution_count": null,
      "outputs": [
        {
          "output_type": "execute_result",
          "data": {
            "text/plain": [
              "(0.8931641424478101, 32, 0.42)"
            ]
          },
          "metadata": {},
          "execution_count": 64
        }
      ]
    },
    {
      "cell_type": "code",
      "metadata": {
        "id": "lgPvmUBIyfN7"
      },
      "source": [
        "Annotation_size = {\n",
        "    \"Type_1\": [],\n",
        "    \"Type_2\": [],\n",
        "    \"Type_3\": [],\n",
        "    \"Type_4g\": []\n",
        "}"
      ],
      "execution_count": null,
      "outputs": []
    },
    {
      "cell_type": "code",
      "metadata": {
        "id": "MPULm2CxuVOF"
      },
      "source": [
        "for index, annotation in enumerate(labels):\n",
        "\n",
        "  annotation = annotation.numpy()\n",
        "  count = np.count_nonzero(annotation)\n",
        "  if count == 1:\n",
        "    Annotation_size[\"Type_1\"].append(index)\n",
        "  elif count == 2:\n",
        "    Annotation_size[\"Type_2\"].append(index)\n",
        "  elif count == 3:\n",
        "    Annotation_size[\"Type_3\"].append(index)\n",
        "  else:\n",
        "    Annotation_size[\"Type_4g\"].append(index)"
      ],
      "execution_count": null,
      "outputs": []
    },
    {
      "cell_type": "markdown",
      "metadata": {
        "id": "MDVgcZJ8wOqs"
      },
      "source": [
        "#### Classification Reports based on annotation counts"
      ]
    },
    {
      "cell_type": "code",
      "metadata": {
        "id": "9Eh98fF5uw0d"
      },
      "source": [
        "# Annotation equals once\n",
        "\n",
        "Type_1_predictions = predictions[Annotation_size[\"Type_1\"]]\n",
        "Type_1_labels = labels[Annotation_size[\"Type_1\"]]"
      ],
      "execution_count": null,
      "outputs": []
    },
    {
      "cell_type": "code",
      "metadata": {
        "colab": {
          "base_uri": "https://localhost:8080/"
        },
        "id": "7ffmQVlHv0cH",
        "outputId": "5cba843f-c15d-4979-bfce-5aaee850a9e6"
      },
      "source": [
        "y_pred = Type_1_predictions.numpy()\n",
        "y_true = Type_1_labels.numpy()\n",
        "\n",
        "upper, lower = 1, 0\n",
        "\n",
        "y_pred = np.where(y_pred > 0.5, upper, lower)\n",
        "\n",
        "print(\"classification report based on Annotation count equals one\\n\")\n",
        "\n",
        "print(\n",
        "    classification_report(\n",
        "        y_true,\n",
        "        y_pred,\n",
        "        digits=4,\n",
        "        target_names=LABEL_COLUMNS,\n",
        "        zero_division=0\n",
        "    )\n",
        ")"
      ],
      "execution_count": null,
      "outputs": [
        {
          "output_type": "stream",
          "name": "stdout",
          "text": [
            "classification report based on Annotation count equals one\n",
            "\n",
            "                      precision    recall  f1-score   support\n",
            "\n",
            "         Case Report     0.9447    0.8952    0.9193       248\n",
            "           Diagnosis     0.7597    0.9703    0.8522       303\n",
            "Epidemic Forecasting     0.7612    0.9107    0.8293        56\n",
            "           Mechanism     0.6974    0.8548    0.7681        62\n",
            "          Prevention     0.9244    0.9631    0.9434      1194\n",
            "        Transmission     0.3956    0.8571    0.5414        42\n",
            "           Treatment     0.7634    0.9313    0.8390       291\n",
            "\n",
            "           micro avg     0.8460    0.9458    0.8931      2196\n",
            "           macro avg     0.7495    0.9118    0.8132      2196\n",
            "        weighted avg     0.8620    0.9458    0.8987      2196\n",
            "         samples avg     0.8848    0.9458    0.9048      2196\n",
            "\n"
          ]
        }
      ]
    },
    {
      "cell_type": "code",
      "metadata": {
        "id": "-wZxePy478-r"
      },
      "source": [
        ""
      ],
      "execution_count": null,
      "outputs": []
    },
    {
      "cell_type": "code",
      "metadata": {
        "id": "WzxR60rRwaKz"
      },
      "source": [
        "# Annotation equals twice\n",
        "\n",
        "Type_1_predictions = predictions[Annotation_size[\"Type_2\"]]\n",
        "Type_1_labels = labels[Annotation_size[\"Type_2\"]]"
      ],
      "execution_count": null,
      "outputs": []
    },
    {
      "cell_type": "code",
      "metadata": {
        "colab": {
          "base_uri": "https://localhost:8080/"
        },
        "id": "WnVGT6MqwaK0",
        "outputId": "d37d5401-502e-4d61-aa02-a327faab80cb"
      },
      "source": [
        "y_pred = Type_1_predictions.numpy()\n",
        "y_true = Type_1_labels.numpy()\n",
        "\n",
        "upper, lower = 1, 0\n",
        "\n",
        "y_pred = np.where(y_pred > 0.5, upper, lower)\n",
        "\n",
        "print(\"classification report based on Annotation count equals two\\n\")\n",
        "\n",
        "print(\n",
        "    classification_report(\n",
        "        y_true,\n",
        "        y_pred,\n",
        "        digits=4,\n",
        "        target_names=LABEL_COLUMNS,\n",
        "        zero_division=0\n",
        "    )\n",
        ")"
      ],
      "execution_count": null,
      "outputs": [
        {
          "output_type": "stream",
          "name": "stdout",
          "text": [
            "classification report based on Annotation count equals two\n",
            "\n",
            "                      precision    recall  f1-score   support\n",
            "\n",
            "         Case Report     0.0000    0.0000    0.0000         0\n",
            "           Diagnosis     0.9294    0.8501    0.8880       387\n",
            "Epidemic Forecasting     0.8913    0.8283    0.8586        99\n",
            "           Mechanism     0.9771    0.8465    0.9072       404\n",
            "          Prevention     0.9346    0.8850    0.9091       339\n",
            "        Transmission     0.9447    0.8991    0.9213       228\n",
            "           Treatment     0.9832    0.8744    0.9256       669\n",
            "\n",
            "           micro avg     0.9525    0.8669    0.9077      2126\n",
            "           macro avg     0.8086    0.7405    0.7728      2126\n",
            "        weighted avg     0.9561    0.8669    0.9091      2126\n",
            "         samples avg     0.9458    0.8669    0.8902      2126\n",
            "\n"
          ]
        }
      ]
    },
    {
      "cell_type": "code",
      "metadata": {
        "id": "17Pt3_F7waZo"
      },
      "source": [
        "# Annotation equals thrice\n",
        "\n",
        "Type_1_predictions = predictions[Annotation_size[\"Type_3\"]]\n",
        "Type_1_labels = labels[Annotation_size[\"Type_3\"]]"
      ],
      "execution_count": null,
      "outputs": []
    },
    {
      "cell_type": "code",
      "metadata": {
        "colab": {
          "base_uri": "https://localhost:8080/"
        },
        "id": "ee5F7yQmwaZo",
        "outputId": "ca41b1d7-359d-45e1-e5da-dd423c040ca9"
      },
      "source": [
        "y_pred = Type_1_predictions.numpy()\n",
        "y_true = Type_1_labels.numpy()\n",
        "\n",
        "upper, lower = 1, 0\n",
        "\n",
        "y_pred = np.where(y_pred > 0.5, upper, lower)\n",
        "\n",
        "print(\"classification report based on Annotation count equals three\\n\")\n",
        "\n",
        "print(\n",
        "    classification_report(\n",
        "        y_true,\n",
        "        y_pred,\n",
        "        digits=4,\n",
        "        target_names=LABEL_COLUMNS,\n",
        "        zero_division=0\n",
        "    )\n",
        ")"
      ],
      "execution_count": null,
      "outputs": [
        {
          "output_type": "stream",
          "name": "stdout",
          "text": [
            "classification report based on Annotation count equals three\n",
            "\n",
            "                      precision    recall  f1-score   support\n",
            "\n",
            "         Case Report     0.0000    0.0000    0.0000         0\n",
            "           Diagnosis     0.9753    0.7596    0.8541       104\n",
            "Epidemic Forecasting     0.8571    0.5455    0.6667        11\n",
            "           Mechanism     0.9833    0.7024    0.8194        84\n",
            "          Prevention     0.8958    0.6615    0.7611        65\n",
            "        Transmission     0.9444    0.7500    0.8361        68\n",
            "           Treatment     0.9692    0.6495    0.7778        97\n",
            "\n",
            "           micro avg     0.9556    0.7016    0.8091       429\n",
            "           macro avg     0.8036    0.5812    0.6736       429\n",
            "        weighted avg     0.9555    0.7016    0.8083       429\n",
            "         samples avg     0.9633    0.7016    0.7914       429\n",
            "\n"
          ]
        }
      ]
    },
    {
      "cell_type": "code",
      "metadata": {
        "id": "eWMRmbAiwamJ"
      },
      "source": [
        "# Annotation equals more than 4\n",
        "\n",
        "Type_1_predictions = predictions[Annotation_size[\"Type_4g\"]]\n",
        "Type_1_labels = labels[Annotation_size[\"Type_4g\"]]"
      ],
      "execution_count": null,
      "outputs": []
    },
    {
      "cell_type": "code",
      "metadata": {
        "colab": {
          "base_uri": "https://localhost:8080/"
        },
        "id": "SahUndPawamJ",
        "outputId": "494e0ea5-3380-48e6-80a2-2b049dc81400"
      },
      "source": [
        "y_pred = Type_1_predictions.numpy()\n",
        "y_true = Type_1_labels.numpy()\n",
        "\n",
        "upper, lower = 1, 0\n",
        "\n",
        "y_pred = np.where(y_pred > 0.5, upper, lower)\n",
        "\n",
        "print(\"classification report based on Annotation count equals more than 4\\n\")\n",
        "\n",
        "print(\n",
        "    classification_report(\n",
        "        y_true,\n",
        "        y_pred,\n",
        "        digits=4,\n",
        "        target_names=LABEL_COLUMNS,\n",
        "        zero_division=0\n",
        "    )\n",
        ")"
      ],
      "execution_count": null,
      "outputs": [
        {
          "output_type": "stream",
          "name": "stdout",
          "text": [
            "classification report based on Annotation count equals more than 4\n",
            "\n",
            "                      precision    recall  f1-score   support\n",
            "\n",
            "         Case Report     0.0000    0.0000    0.0000         0\n",
            "           Diagnosis     1.0000    0.8095    0.8947        21\n",
            "Epidemic Forecasting     0.0000    0.0000    0.0000         0\n",
            "           Mechanism     1.0000    0.5000    0.6667        18\n",
            "          Prevention     1.0000    0.6000    0.7500        15\n",
            "        Transmission     1.0000    0.6429    0.7826        14\n",
            "           Treatment     1.0000    0.7778    0.8750        18\n",
            "\n",
            "           micro avg     1.0000    0.6744    0.8056        86\n",
            "           macro avg     0.7143    0.4757    0.5670        86\n",
            "        weighted avg     1.0000    0.6744    0.7994        86\n",
            "         samples avg     1.0000    0.6762    0.7879        86\n",
            "\n"
          ]
        }
      ]
    },
    {
      "cell_type": "markdown",
      "metadata": {
        "id": "djf-e0qw2aMi"
      },
      "source": [
        "#### model prediction and annotation segregation on baseline standards"
      ]
    },
    {
      "cell_type": "code",
      "metadata": {
        "id": "dipI9wmfv-AK"
      },
      "source": [
        "gold_predictions = pd.read_csv(\"drive/MyDrive/Biocreative/Biocreative/datasets/baseline/prediction_label_samples.csv\")\n",
        "gold_predictions = gold_predictions.reindex(columns=LABEL_COLUMNS)\n",
        "# gold_predictions = gold_predictions.drop([\"PMID\"], axis=1)\n",
        "gold_labels = pd.read_csv(\"drive/MyDrive/Biocreative/Biocreative/datasets/baseline/goldstandard_label_samples.csv\")\n",
        "gold_labels = gold_labels.reindex(columns=LABEL_COLUMNS)\n",
        "# gold_labels = gold_labels.drop([\"PMID\"], axis=1)"
      ],
      "execution_count": null,
      "outputs": []
    },
    {
      "cell_type": "code",
      "metadata": {
        "id": "aTr-2Xoy3Cph"
      },
      "source": [
        "gold_predictions = gold_predictions.values.tolist()\n",
        "gold_labels = gold_labels.values.tolist()"
      ],
      "execution_count": null,
      "outputs": []
    },
    {
      "cell_type": "code",
      "metadata": {
        "id": "Tz_l09BI2-nX"
      },
      "source": [
        "Annotation_size = {\n",
        "    \"Type_1\": [],\n",
        "    \"Type_2\": [],\n",
        "    \"Type_3\": [],\n",
        "    \"Type_4g\": []\n",
        "}"
      ],
      "execution_count": null,
      "outputs": []
    },
    {
      "cell_type": "code",
      "metadata": {
        "id": "gpzvrkgs2-nY"
      },
      "source": [
        "for index, annotation in enumerate(gold_labels):\n",
        "\n",
        "  annotation = np.array(annotation)\n",
        "  count = np.count_nonzero(annotation)\n",
        "  if count == 1:\n",
        "    Annotation_size[\"Type_1\"].append(index)\n",
        "  elif count == 2:\n",
        "    Annotation_size[\"Type_2\"].append(index)\n",
        "  elif count == 3:\n",
        "    Annotation_size[\"Type_3\"].append(index)\n",
        "  else:\n",
        "    Annotation_size[\"Type_4g\"].append(index)"
      ],
      "execution_count": null,
      "outputs": []
    },
    {
      "cell_type": "code",
      "metadata": {
        "id": "YQJFGdcQ4pTJ"
      },
      "source": [
        "gold_predictions = torch.tensor(gold_predictions)\n",
        "gold_labels = torch.tensor(gold_labels)"
      ],
      "execution_count": null,
      "outputs": []
    },
    {
      "cell_type": "code",
      "metadata": {
        "id": "Xt6BLfM0247o"
      },
      "source": [
        "# Annotation equals once\n",
        "\n",
        "Type_1_predictions = gold_predictions[Annotation_size[\"Type_1\"]]\n",
        "Type_1_labels = gold_labels[Annotation_size[\"Type_1\"]]"
      ],
      "execution_count": null,
      "outputs": []
    },
    {
      "cell_type": "code",
      "metadata": {
        "id": "ZmBlRs6s247p",
        "colab": {
          "base_uri": "https://localhost:8080/"
        },
        "outputId": "fce217a1-808c-460d-90e0-a9587b30c0fc"
      },
      "source": [
        "y_pred = Type_1_predictions.numpy()\n",
        "y_true = Type_1_labels.numpy()\n",
        "\n",
        "upper, lower = 1, 0\n",
        "\n",
        "y_pred = np.where(y_pred > 0.5, upper, lower)\n",
        "\n",
        "print(\"classification report based on Annotation count equals one\\n\")\n",
        "\n",
        "print(\n",
        "    classification_report(\n",
        "        y_true,\n",
        "        y_pred,\n",
        "        digits=4,\n",
        "        target_names=LABEL_COLUMNS,\n",
        "        zero_division=0\n",
        "    )\n",
        ")"
      ],
      "execution_count": null,
      "outputs": [
        {
          "output_type": "stream",
          "name": "stdout",
          "text": [
            "classification report based on Annotation count equals one\n",
            "\n",
            "                      precision    recall  f1-score   support\n",
            "\n",
            "         Case Report     0.8636    0.7600    0.8085        50\n",
            "           Diagnosis     0.0000    0.0000    0.0000         0\n",
            "Epidemic Forecasting     0.9111    0.7593    0.8283        54\n",
            "           Mechanism     0.7978    0.8161    0.8068        87\n",
            "          Prevention     0.9475    0.9350    0.9412       908\n",
            "        Transmission     0.6731    0.9211    0.7778        38\n",
            "           Treatment     0.8398    0.8566    0.8481       251\n",
            "\n",
            "           micro avg     0.8839    0.8999    0.8918      1388\n",
            "           macro avg     0.7190    0.7211    0.7158      1388\n",
            "        weighted avg     0.9067    0.8999    0.9023      1388\n",
            "         samples avg     0.8542    0.8999    0.8694      1388\n",
            "\n"
          ]
        }
      ]
    },
    {
      "cell_type": "code",
      "metadata": {
        "id": "5ajGWSJj247q"
      },
      "source": [
        "# Annotation equals twice\n",
        "\n",
        "Type_1_predictions = gold_predictions[Annotation_size[\"Type_2\"]]\n",
        "Type_1_labels = gold_labels[Annotation_size[\"Type_2\"]]"
      ],
      "execution_count": null,
      "outputs": []
    },
    {
      "cell_type": "code",
      "metadata": {
        "id": "jle3z_25247q",
        "colab": {
          "base_uri": "https://localhost:8080/"
        },
        "outputId": "37237488-e075-4353-9e37-b4465c3d0a50"
      },
      "source": [
        "y_pred = Type_1_predictions.numpy()\n",
        "y_true = Type_1_labels.numpy()\n",
        "\n",
        "upper, lower = 1, 0\n",
        "\n",
        "y_pred = np.where(y_pred > 0.5, upper, lower)\n",
        "\n",
        "print(\"classification report based on Annotation count equals two\\n\")\n",
        "\n",
        "print(\n",
        "    classification_report(\n",
        "        y_true,\n",
        "        y_pred,\n",
        "        digits=4,\n",
        "        target_names=LABEL_COLUMNS,\n",
        "        zero_division=0\n",
        "    )\n",
        ")"
      ],
      "execution_count": null,
      "outputs": [
        {
          "output_type": "stream",
          "name": "stdout",
          "text": [
            "classification report based on Annotation count equals two\n",
            "\n",
            "                      precision    recall  f1-score   support\n",
            "\n",
            "         Case Report     0.0000    0.0000    0.0000         0\n",
            "           Diagnosis     0.9782    0.6793    0.8018       396\n",
            "Epidemic Forecasting     0.9344    0.6129    0.7403        93\n",
            "           Mechanism     0.9386    0.7880    0.8567       349\n",
            "          Prevention     0.9029    0.8395    0.8700       299\n",
            "        Transmission     0.9554    0.6772    0.7926       158\n",
            "           Treatment     0.9967    0.8048    0.8905       743\n",
            "\n",
            "           micro avg     0.9611    0.7640    0.8513      2038\n",
            "           macro avg     0.8152    0.6288    0.7074      2038\n",
            "        weighted avg     0.9633    0.7640    0.8500      2038\n",
            "         samples avg     0.9342    0.7640    0.8179      2038\n",
            "\n"
          ]
        }
      ]
    },
    {
      "cell_type": "code",
      "metadata": {
        "id": "MX6kg5KD247r"
      },
      "source": [
        "# Annotation equals thrice\n",
        "\n",
        "Type_1_predictions = gold_predictions[Annotation_size[\"Type_3\"]]\n",
        "Type_1_labels = gold_labels[Annotation_size[\"Type_3\"]]"
      ],
      "execution_count": null,
      "outputs": []
    },
    {
      "cell_type": "code",
      "metadata": {
        "id": "sioJkalO247r",
        "colab": {
          "base_uri": "https://localhost:8080/"
        },
        "outputId": "f08f6619-73d2-4f85-d73a-8172e0308f86"
      },
      "source": [
        "y_pred = Type_1_predictions.numpy()\n",
        "y_true = Type_1_labels.numpy()\n",
        "\n",
        "upper, lower = 1, 0\n",
        "\n",
        "y_pred = np.where(y_pred > 0.5, upper, lower)\n",
        "\n",
        "print(\"classification report based on Annotation count equals three\\n\")\n",
        "\n",
        "print(\n",
        "    classification_report(\n",
        "        y_true,\n",
        "        y_pred,\n",
        "        digits=4,\n",
        "        target_names=LABEL_COLUMNS,\n",
        "        zero_division=0\n",
        "    )\n",
        ")"
      ],
      "execution_count": null,
      "outputs": [
        {
          "output_type": "stream",
          "name": "stdout",
          "text": [
            "classification report based on Annotation count equals three\n",
            "\n",
            "                      precision    recall  f1-score   support\n",
            "\n",
            "         Case Report     0.0000    0.0000    0.0000         0\n",
            "           Diagnosis     0.9722    0.4930    0.6542        71\n",
            "Epidemic Forecasting     1.0000    0.4194    0.5909        31\n",
            "           Mechanism     1.0000    0.7105    0.8308        76\n",
            "          Prevention     0.9672    0.8551    0.9077        69\n",
            "        Transmission     0.9815    0.6709    0.7970        79\n",
            "           Treatment     0.9857    0.7841    0.8734        88\n",
            "\n",
            "           micro avg     0.9826    0.6836    0.8063       414\n",
            "           macro avg     0.8438    0.5618    0.6649       414\n",
            "        weighted avg     0.9832    0.6836    0.7980       414\n",
            "         samples avg     0.9674    0.6836    0.7820       414\n",
            "\n"
          ]
        }
      ]
    },
    {
      "cell_type": "code",
      "metadata": {
        "id": "f8oJhrCr247s"
      },
      "source": [
        "# Annotation equals more than 4\n",
        "\n",
        "Type_1_predictions = gold_predictions[Annotation_size[\"Type_4g\"]]\n",
        "Type_1_labels = gold_labels[Annotation_size[\"Type_4g\"]]"
      ],
      "execution_count": null,
      "outputs": []
    },
    {
      "cell_type": "code",
      "metadata": {
        "id": "5Z3Hb9L8247t",
        "colab": {
          "base_uri": "https://localhost:8080/"
        },
        "outputId": "a7ebd398-b561-4eab-f529-368f2e8bb7bf"
      },
      "source": [
        "y_pred = Type_1_predictions.numpy()\n",
        "y_true = Type_1_labels.numpy()\n",
        "\n",
        "upper, lower = 1, 0\n",
        "\n",
        "y_pred = np.where(y_pred > 0.5, upper, lower)\n",
        "\n",
        "print(\"classification report based on Annotation count equals more than 4\\n\")\n",
        "\n",
        "print(\n",
        "    classification_report(\n",
        "        y_true,\n",
        "        y_pred,\n",
        "        digits=4,\n",
        "        target_names=LABEL_COLUMNS,\n",
        "        zero_division=0\n",
        "    )\n",
        ")"
      ],
      "execution_count": null,
      "outputs": [
        {
          "output_type": "stream",
          "name": "stdout",
          "text": [
            "classification report based on Annotation count equals more than 4\n",
            "\n",
            "                      precision    recall  f1-score   support\n",
            "\n",
            "         Case Report     0.0000    0.0000    0.0000         0\n",
            "           Diagnosis     1.0000    0.4000    0.5714         5\n",
            "Epidemic Forecasting     0.0000    0.0000    0.0000         0\n",
            "           Mechanism     1.0000    0.5000    0.6667         6\n",
            "          Prevention     1.0000    0.7500    0.8571         4\n",
            "        Transmission     1.0000    0.5000    0.6667         4\n",
            "           Treatment     1.0000    0.6000    0.7500         5\n",
            "\n",
            "           micro avg     1.0000    0.5417    0.7027        24\n",
            "           macro avg     0.7143    0.3929    0.5017        24\n",
            "        weighted avg     1.0000    0.5417    0.6959        24\n",
            "         samples avg     0.8333    0.5417    0.6429        24\n",
            "\n"
          ]
        }
      ]
    },
    {
      "cell_type": "code",
      "metadata": {
        "id": "sxTgdr7z5hGN"
      },
      "source": [
        "# test prediction"
      ],
      "execution_count": null,
      "outputs": []
    },
    {
      "cell_type": "code",
      "metadata": {
        "id": "j-3RUzRnjQHp"
      },
      "source": [
        ""
      ],
      "execution_count": null,
      "outputs": []
    }
  ]
}
>>>>>>> 10457e87259ab9c27b63d7c43b7eff4b206aa285
