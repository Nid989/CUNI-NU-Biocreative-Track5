{
  "nbformat": 4,
  "nbformat_minor": 0,
  "metadata": {
    "accelerator": "GPU",
    "colab": {
      "name": "double_attention_specter.ipynb",
      "provenance": [],
      "collapsed_sections": [
        "pixwbhCQZzEa",
        "zVkHzSD8O2_i"
      ],
      "machine_shape": "hm"
    },
    "kernelspec": {
      "display_name": "Python 3",
      "name": "python3"
    },
    "language_info": {
      "name": "python"
    },
    "widgets": {
      "application/vnd.jupyter.widget-state+json": {
        "27e72bc658904a349498e3bf799ec682": {
          "model_module": "@jupyter-widgets/controls",
          "model_name": "HBoxModel",
          "model_module_version": "1.5.0",
          "state": {
            "_view_name": "HBoxView",
            "_dom_classes": [],
            "_model_name": "HBoxModel",
            "_view_module": "@jupyter-widgets/controls",
            "_model_module_version": "1.5.0",
            "_view_count": null,
            "_view_module_version": "1.5.0",
            "box_style": "",
            "layout": "IPY_MODEL_99b65d8b6049402c99d96566059c44c3",
            "_model_module": "@jupyter-widgets/controls",
            "children": [
              "IPY_MODEL_fa0b46a5bfad4a068dcd616dc92a9a60",
              "IPY_MODEL_46e739a13d894f658d3394c4114693b9",
              "IPY_MODEL_1707fe4801d74bf0805edf9ad3c8979b"
            ]
          }
        },
        "99b65d8b6049402c99d96566059c44c3": {
          "model_module": "@jupyter-widgets/base",
          "model_name": "LayoutModel",
          "model_module_version": "1.2.0",
          "state": {
            "_view_name": "LayoutView",
            "grid_template_rows": null,
            "right": null,
            "justify_content": null,
            "_view_module": "@jupyter-widgets/base",
            "overflow": null,
            "_model_module_version": "1.2.0",
            "_view_count": null,
            "flex_flow": null,
            "width": null,
            "min_width": null,
            "border": null,
            "align_items": null,
            "bottom": null,
            "_model_module": "@jupyter-widgets/base",
            "top": null,
            "grid_column": null,
            "overflow_y": null,
            "overflow_x": null,
            "grid_auto_flow": null,
            "grid_area": null,
            "grid_template_columns": null,
            "flex": null,
            "_model_name": "LayoutModel",
            "justify_items": null,
            "grid_row": null,
            "max_height": null,
            "align_content": null,
            "visibility": null,
            "align_self": null,
            "height": null,
            "min_height": null,
            "padding": null,
            "grid_auto_rows": null,
            "grid_gap": null,
            "max_width": null,
            "order": null,
            "_view_module_version": "1.2.0",
            "grid_template_areas": null,
            "object_position": null,
            "object_fit": null,
            "grid_auto_columns": null,
            "margin": null,
            "display": null,
            "left": null
          }
        },
        "fa0b46a5bfad4a068dcd616dc92a9a60": {
          "model_module": "@jupyter-widgets/controls",
          "model_name": "HTMLModel",
          "model_module_version": "1.5.0",
          "state": {
            "_view_name": "HTMLView",
            "style": "IPY_MODEL_4c33f0883ae049ccaa9769b0a15d3a27",
            "_dom_classes": [],
            "description": "",
            "_model_name": "HTMLModel",
            "placeholder": "​",
            "_view_module": "@jupyter-widgets/controls",
            "_model_module_version": "1.5.0",
            "value": "Downloading: 100%",
            "_view_count": null,
            "_view_module_version": "1.5.0",
            "description_tooltip": null,
            "_model_module": "@jupyter-widgets/controls",
            "layout": "IPY_MODEL_7e1e182bedf14b7b8980501aa8cd2986"
          }
        },
        "46e739a13d894f658d3394c4114693b9": {
          "model_module": "@jupyter-widgets/controls",
          "model_name": "FloatProgressModel",
          "model_module_version": "1.5.0",
          "state": {
            "_view_name": "ProgressView",
            "style": "IPY_MODEL_ded6c08b47b84389b05a33eff243aa57",
            "_dom_classes": [],
            "description": "",
            "_model_name": "FloatProgressModel",
            "bar_style": "success",
            "max": 337,
            "_view_module": "@jupyter-widgets/controls",
            "_model_module_version": "1.5.0",
            "value": 337,
            "_view_count": null,
            "_view_module_version": "1.5.0",
            "orientation": "horizontal",
            "min": 0,
            "description_tooltip": null,
            "_model_module": "@jupyter-widgets/controls",
            "layout": "IPY_MODEL_c620989ec17e4261a760473d5ebcafce"
          }
        },
        "1707fe4801d74bf0805edf9ad3c8979b": {
          "model_module": "@jupyter-widgets/controls",
          "model_name": "HTMLModel",
          "model_module_version": "1.5.0",
          "state": {
            "_view_name": "HTMLView",
            "style": "IPY_MODEL_61d2349b88ef4cef9ca0a340e12b3a88",
            "_dom_classes": [],
            "description": "",
            "_model_name": "HTMLModel",
            "placeholder": "​",
            "_view_module": "@jupyter-widgets/controls",
            "_model_module_version": "1.5.0",
            "value": " 337/337 [00:00&lt;00:00, 12.4kB/s]",
            "_view_count": null,
            "_view_module_version": "1.5.0",
            "description_tooltip": null,
            "_model_module": "@jupyter-widgets/controls",
            "layout": "IPY_MODEL_7a18fce7e87e4efda9b636929707de7c"
          }
        },
        "4c33f0883ae049ccaa9769b0a15d3a27": {
          "model_module": "@jupyter-widgets/controls",
          "model_name": "DescriptionStyleModel",
          "model_module_version": "1.5.0",
          "state": {
            "_view_name": "StyleView",
            "_model_name": "DescriptionStyleModel",
            "description_width": "",
            "_view_module": "@jupyter-widgets/base",
            "_model_module_version": "1.5.0",
            "_view_count": null,
            "_view_module_version": "1.2.0",
            "_model_module": "@jupyter-widgets/controls"
          }
        },
        "7e1e182bedf14b7b8980501aa8cd2986": {
          "model_module": "@jupyter-widgets/base",
          "model_name": "LayoutModel",
          "model_module_version": "1.2.0",
          "state": {
            "_view_name": "LayoutView",
            "grid_template_rows": null,
            "right": null,
            "justify_content": null,
            "_view_module": "@jupyter-widgets/base",
            "overflow": null,
            "_model_module_version": "1.2.0",
            "_view_count": null,
            "flex_flow": null,
            "width": null,
            "min_width": null,
            "border": null,
            "align_items": null,
            "bottom": null,
            "_model_module": "@jupyter-widgets/base",
            "top": null,
            "grid_column": null,
            "overflow_y": null,
            "overflow_x": null,
            "grid_auto_flow": null,
            "grid_area": null,
            "grid_template_columns": null,
            "flex": null,
            "_model_name": "LayoutModel",
            "justify_items": null,
            "grid_row": null,
            "max_height": null,
            "align_content": null,
            "visibility": null,
            "align_self": null,
            "height": null,
            "min_height": null,
            "padding": null,
            "grid_auto_rows": null,
            "grid_gap": null,
            "max_width": null,
            "order": null,
            "_view_module_version": "1.2.0",
            "grid_template_areas": null,
            "object_position": null,
            "object_fit": null,
            "grid_auto_columns": null,
            "margin": null,
            "display": null,
            "left": null
          }
        },
        "ded6c08b47b84389b05a33eff243aa57": {
          "model_module": "@jupyter-widgets/controls",
          "model_name": "ProgressStyleModel",
          "model_module_version": "1.5.0",
          "state": {
            "_view_name": "StyleView",
            "_model_name": "ProgressStyleModel",
            "description_width": "",
            "_view_module": "@jupyter-widgets/base",
            "_model_module_version": "1.5.0",
            "_view_count": null,
            "_view_module_version": "1.2.0",
            "bar_color": null,
            "_model_module": "@jupyter-widgets/controls"
          }
        },
        "c620989ec17e4261a760473d5ebcafce": {
          "model_module": "@jupyter-widgets/base",
          "model_name": "LayoutModel",
          "model_module_version": "1.2.0",
          "state": {
            "_view_name": "LayoutView",
            "grid_template_rows": null,
            "right": null,
            "justify_content": null,
            "_view_module": "@jupyter-widgets/base",
            "overflow": null,
            "_model_module_version": "1.2.0",
            "_view_count": null,
            "flex_flow": null,
            "width": null,
            "min_width": null,
            "border": null,
            "align_items": null,
            "bottom": null,
            "_model_module": "@jupyter-widgets/base",
            "top": null,
            "grid_column": null,
            "overflow_y": null,
            "overflow_x": null,
            "grid_auto_flow": null,
            "grid_area": null,
            "grid_template_columns": null,
            "flex": null,
            "_model_name": "LayoutModel",
            "justify_items": null,
            "grid_row": null,
            "max_height": null,
            "align_content": null,
            "visibility": null,
            "align_self": null,
            "height": null,
            "min_height": null,
            "padding": null,
            "grid_auto_rows": null,
            "grid_gap": null,
            "max_width": null,
            "order": null,
            "_view_module_version": "1.2.0",
            "grid_template_areas": null,
            "object_position": null,
            "object_fit": null,
            "grid_auto_columns": null,
            "margin": null,
            "display": null,
            "left": null
          }
        },
        "61d2349b88ef4cef9ca0a340e12b3a88": {
          "model_module": "@jupyter-widgets/controls",
          "model_name": "DescriptionStyleModel",
          "model_module_version": "1.5.0",
          "state": {
            "_view_name": "StyleView",
            "_model_name": "DescriptionStyleModel",
            "description_width": "",
            "_view_module": "@jupyter-widgets/base",
            "_model_module_version": "1.5.0",
            "_view_count": null,
            "_view_module_version": "1.2.0",
            "_model_module": "@jupyter-widgets/controls"
          }
        },
        "7a18fce7e87e4efda9b636929707de7c": {
          "model_module": "@jupyter-widgets/base",
          "model_name": "LayoutModel",
          "model_module_version": "1.2.0",
          "state": {
            "_view_name": "LayoutView",
            "grid_template_rows": null,
            "right": null,
            "justify_content": null,
            "_view_module": "@jupyter-widgets/base",
            "overflow": null,
            "_model_module_version": "1.2.0",
            "_view_count": null,
            "flex_flow": null,
            "width": null,
            "min_width": null,
            "border": null,
            "align_items": null,
            "bottom": null,
            "_model_module": "@jupyter-widgets/base",
            "top": null,
            "grid_column": null,
            "overflow_y": null,
            "overflow_x": null,
            "grid_auto_flow": null,
            "grid_area": null,
            "grid_template_columns": null,
            "flex": null,
            "_model_name": "LayoutModel",
            "justify_items": null,
            "grid_row": null,
            "max_height": null,
            "align_content": null,
            "visibility": null,
            "align_self": null,
            "height": null,
            "min_height": null,
            "padding": null,
            "grid_auto_rows": null,
            "grid_gap": null,
            "max_width": null,
            "order": null,
            "_view_module_version": "1.2.0",
            "grid_template_areas": null,
            "object_position": null,
            "object_fit": null,
            "grid_auto_columns": null,
            "margin": null,
            "display": null,
            "left": null
          }
        },
        "00246a52fe9d44ef92ee52a39b258886": {
          "model_module": "@jupyter-widgets/controls",
          "model_name": "HBoxModel",
          "model_module_version": "1.5.0",
          "state": {
            "_view_name": "HBoxView",
            "_dom_classes": [],
            "_model_name": "HBoxModel",
            "_view_module": "@jupyter-widgets/controls",
            "_model_module_version": "1.5.0",
            "_view_count": null,
            "_view_module_version": "1.5.0",
            "box_style": "",
            "layout": "IPY_MODEL_0190f83f01444f67b56ba49f57ef0212",
            "_model_module": "@jupyter-widgets/controls",
            "children": [
              "IPY_MODEL_790a87bf9b71420e8ce5baf83ccdc28c",
              "IPY_MODEL_6769892e88ce47f8bb4010228f5aa824",
              "IPY_MODEL_371ecf24e60b4bdeba898bc90d79928c"
            ]
          }
        },
        "0190f83f01444f67b56ba49f57ef0212": {
          "model_module": "@jupyter-widgets/base",
          "model_name": "LayoutModel",
          "model_module_version": "1.2.0",
          "state": {
            "_view_name": "LayoutView",
            "grid_template_rows": null,
            "right": null,
            "justify_content": null,
            "_view_module": "@jupyter-widgets/base",
            "overflow": null,
            "_model_module_version": "1.2.0",
            "_view_count": null,
            "flex_flow": null,
            "width": null,
            "min_width": null,
            "border": null,
            "align_items": null,
            "bottom": null,
            "_model_module": "@jupyter-widgets/base",
            "top": null,
            "grid_column": null,
            "overflow_y": null,
            "overflow_x": null,
            "grid_auto_flow": null,
            "grid_area": null,
            "grid_template_columns": null,
            "flex": null,
            "_model_name": "LayoutModel",
            "justify_items": null,
            "grid_row": null,
            "max_height": null,
            "align_content": null,
            "visibility": null,
            "align_self": null,
            "height": null,
            "min_height": null,
            "padding": null,
            "grid_auto_rows": null,
            "grid_gap": null,
            "max_width": null,
            "order": null,
            "_view_module_version": "1.2.0",
            "grid_template_areas": null,
            "object_position": null,
            "object_fit": null,
            "grid_auto_columns": null,
            "margin": null,
            "display": null,
            "left": null
          }
        },
        "790a87bf9b71420e8ce5baf83ccdc28c": {
          "model_module": "@jupyter-widgets/controls",
          "model_name": "HTMLModel",
          "model_module_version": "1.5.0",
          "state": {
            "_view_name": "HTMLView",
            "style": "IPY_MODEL_d0638babf8ce45668ccf8fc116665d26",
            "_dom_classes": [],
            "description": "",
            "_model_name": "HTMLModel",
            "placeholder": "​",
            "_view_module": "@jupyter-widgets/controls",
            "_model_module_version": "1.5.0",
            "value": "Downloading: 100%",
            "_view_count": null,
            "_view_module_version": "1.5.0",
            "description_tooltip": null,
            "_model_module": "@jupyter-widgets/controls",
            "layout": "IPY_MODEL_bbee78df354a45f38c998b62d1622aa6"
          }
        },
        "6769892e88ce47f8bb4010228f5aa824": {
          "model_module": "@jupyter-widgets/controls",
          "model_name": "FloatProgressModel",
          "model_module_version": "1.5.0",
          "state": {
            "_view_name": "ProgressView",
            "style": "IPY_MODEL_38ab2e8f54b541ad90c2b4765b0274fd",
            "_dom_classes": [],
            "description": "",
            "_model_name": "FloatProgressModel",
            "bar_style": "success",
            "max": 226150,
            "_view_module": "@jupyter-widgets/controls",
            "_model_module_version": "1.5.0",
            "value": 226150,
            "_view_count": null,
            "_view_module_version": "1.5.0",
            "orientation": "horizontal",
            "min": 0,
            "description_tooltip": null,
            "_model_module": "@jupyter-widgets/controls",
            "layout": "IPY_MODEL_b1ade6347a724c02a949e32b8aa99434"
          }
        },
        "371ecf24e60b4bdeba898bc90d79928c": {
          "model_module": "@jupyter-widgets/controls",
          "model_name": "HTMLModel",
          "model_module_version": "1.5.0",
          "state": {
            "_view_name": "HTMLView",
            "style": "IPY_MODEL_e205aeffb7764eb8b1d21f67bffc1ecc",
            "_dom_classes": [],
            "description": "",
            "_model_name": "HTMLModel",
            "placeholder": "​",
            "_view_module": "@jupyter-widgets/controls",
            "_model_module_version": "1.5.0",
            "value": " 226k/226k [00:00&lt;00:00, 812kB/s]",
            "_view_count": null,
            "_view_module_version": "1.5.0",
            "description_tooltip": null,
            "_model_module": "@jupyter-widgets/controls",
            "layout": "IPY_MODEL_9bf876f19f31465b983c3c0fad9d79ca"
          }
        },
        "d0638babf8ce45668ccf8fc116665d26": {
          "model_module": "@jupyter-widgets/controls",
          "model_name": "DescriptionStyleModel",
          "model_module_version": "1.5.0",
          "state": {
            "_view_name": "StyleView",
            "_model_name": "DescriptionStyleModel",
            "description_width": "",
            "_view_module": "@jupyter-widgets/base",
            "_model_module_version": "1.5.0",
            "_view_count": null,
            "_view_module_version": "1.2.0",
            "_model_module": "@jupyter-widgets/controls"
          }
        },
        "bbee78df354a45f38c998b62d1622aa6": {
          "model_module": "@jupyter-widgets/base",
          "model_name": "LayoutModel",
          "model_module_version": "1.2.0",
          "state": {
            "_view_name": "LayoutView",
            "grid_template_rows": null,
            "right": null,
            "justify_content": null,
            "_view_module": "@jupyter-widgets/base",
            "overflow": null,
            "_model_module_version": "1.2.0",
            "_view_count": null,
            "flex_flow": null,
            "width": null,
            "min_width": null,
            "border": null,
            "align_items": null,
            "bottom": null,
            "_model_module": "@jupyter-widgets/base",
            "top": null,
            "grid_column": null,
            "overflow_y": null,
            "overflow_x": null,
            "grid_auto_flow": null,
            "grid_area": null,
            "grid_template_columns": null,
            "flex": null,
            "_model_name": "LayoutModel",
            "justify_items": null,
            "grid_row": null,
            "max_height": null,
            "align_content": null,
            "visibility": null,
            "align_self": null,
            "height": null,
            "min_height": null,
            "padding": null,
            "grid_auto_rows": null,
            "grid_gap": null,
            "max_width": null,
            "order": null,
            "_view_module_version": "1.2.0",
            "grid_template_areas": null,
            "object_position": null,
            "object_fit": null,
            "grid_auto_columns": null,
            "margin": null,
            "display": null,
            "left": null
          }
        },
        "38ab2e8f54b541ad90c2b4765b0274fd": {
          "model_module": "@jupyter-widgets/controls",
          "model_name": "ProgressStyleModel",
          "model_module_version": "1.5.0",
          "state": {
            "_view_name": "StyleView",
            "_model_name": "ProgressStyleModel",
            "description_width": "",
            "_view_module": "@jupyter-widgets/base",
            "_model_module_version": "1.5.0",
            "_view_count": null,
            "_view_module_version": "1.2.0",
            "bar_color": null,
            "_model_module": "@jupyter-widgets/controls"
          }
        },
        "b1ade6347a724c02a949e32b8aa99434": {
          "model_module": "@jupyter-widgets/base",
          "model_name": "LayoutModel",
          "model_module_version": "1.2.0",
          "state": {
            "_view_name": "LayoutView",
            "grid_template_rows": null,
            "right": null,
            "justify_content": null,
            "_view_module": "@jupyter-widgets/base",
            "overflow": null,
            "_model_module_version": "1.2.0",
            "_view_count": null,
            "flex_flow": null,
            "width": null,
            "min_width": null,
            "border": null,
            "align_items": null,
            "bottom": null,
            "_model_module": "@jupyter-widgets/base",
            "top": null,
            "grid_column": null,
            "overflow_y": null,
            "overflow_x": null,
            "grid_auto_flow": null,
            "grid_area": null,
            "grid_template_columns": null,
            "flex": null,
            "_model_name": "LayoutModel",
            "justify_items": null,
            "grid_row": null,
            "max_height": null,
            "align_content": null,
            "visibility": null,
            "align_self": null,
            "height": null,
            "min_height": null,
            "padding": null,
            "grid_auto_rows": null,
            "grid_gap": null,
            "max_width": null,
            "order": null,
            "_view_module_version": "1.2.0",
            "grid_template_areas": null,
            "object_position": null,
            "object_fit": null,
            "grid_auto_columns": null,
            "margin": null,
            "display": null,
            "left": null
          }
        },
        "e205aeffb7764eb8b1d21f67bffc1ecc": {
          "model_module": "@jupyter-widgets/controls",
          "model_name": "DescriptionStyleModel",
          "model_module_version": "1.5.0",
          "state": {
            "_view_name": "StyleView",
            "_model_name": "DescriptionStyleModel",
            "description_width": "",
            "_view_module": "@jupyter-widgets/base",
            "_model_module_version": "1.5.0",
            "_view_count": null,
            "_view_module_version": "1.2.0",
            "_model_module": "@jupyter-widgets/controls"
          }
        },
        "9bf876f19f31465b983c3c0fad9d79ca": {
          "model_module": "@jupyter-widgets/base",
          "model_name": "LayoutModel",
          "model_module_version": "1.2.0",
          "state": {
            "_view_name": "LayoutView",
            "grid_template_rows": null,
            "right": null,
            "justify_content": null,
            "_view_module": "@jupyter-widgets/base",
            "overflow": null,
            "_model_module_version": "1.2.0",
            "_view_count": null,
            "flex_flow": null,
            "width": null,
            "min_width": null,
            "border": null,
            "align_items": null,
            "bottom": null,
            "_model_module": "@jupyter-widgets/base",
            "top": null,
            "grid_column": null,
            "overflow_y": null,
            "overflow_x": null,
            "grid_auto_flow": null,
            "grid_area": null,
            "grid_template_columns": null,
            "flex": null,
            "_model_name": "LayoutModel",
            "justify_items": null,
            "grid_row": null,
            "max_height": null,
            "align_content": null,
            "visibility": null,
            "align_self": null,
            "height": null,
            "min_height": null,
            "padding": null,
            "grid_auto_rows": null,
            "grid_gap": null,
            "max_width": null,
            "order": null,
            "_view_module_version": "1.2.0",
            "grid_template_areas": null,
            "object_position": null,
            "object_fit": null,
            "grid_auto_columns": null,
            "margin": null,
            "display": null,
            "left": null
          }
        },
        "d2d5dc43f801499eac08b8129a29f355": {
          "model_module": "@jupyter-widgets/controls",
          "model_name": "HBoxModel",
          "model_module_version": "1.5.0",
          "state": {
            "_view_name": "HBoxView",
            "_dom_classes": [],
            "_model_name": "HBoxModel",
            "_view_module": "@jupyter-widgets/controls",
            "_model_module_version": "1.5.0",
            "_view_count": null,
            "_view_module_version": "1.5.0",
            "box_style": "",
            "layout": "IPY_MODEL_4a918a82406548c9a872fb2546055223",
            "_model_module": "@jupyter-widgets/controls",
            "children": [
              "IPY_MODEL_36f229f3d75e42ba8c654f453a558270",
              "IPY_MODEL_708dcac60e6d4f60a5e097355cdcd8b8",
              "IPY_MODEL_1053d7ca7e5c449997499066c33cf21d"
            ]
          }
        },
        "4a918a82406548c9a872fb2546055223": {
          "model_module": "@jupyter-widgets/base",
          "model_name": "LayoutModel",
          "model_module_version": "1.2.0",
          "state": {
            "_view_name": "LayoutView",
            "grid_template_rows": null,
            "right": null,
            "justify_content": null,
            "_view_module": "@jupyter-widgets/base",
            "overflow": null,
            "_model_module_version": "1.2.0",
            "_view_count": null,
            "flex_flow": null,
            "width": null,
            "min_width": null,
            "border": null,
            "align_items": null,
            "bottom": null,
            "_model_module": "@jupyter-widgets/base",
            "top": null,
            "grid_column": null,
            "overflow_y": null,
            "overflow_x": null,
            "grid_auto_flow": null,
            "grid_area": null,
            "grid_template_columns": null,
            "flex": null,
            "_model_name": "LayoutModel",
            "justify_items": null,
            "grid_row": null,
            "max_height": null,
            "align_content": null,
            "visibility": null,
            "align_self": null,
            "height": null,
            "min_height": null,
            "padding": null,
            "grid_auto_rows": null,
            "grid_gap": null,
            "max_width": null,
            "order": null,
            "_view_module_version": "1.2.0",
            "grid_template_areas": null,
            "object_position": null,
            "object_fit": null,
            "grid_auto_columns": null,
            "margin": null,
            "display": null,
            "left": null
          }
        },
        "36f229f3d75e42ba8c654f453a558270": {
          "model_module": "@jupyter-widgets/controls",
          "model_name": "HTMLModel",
          "model_module_version": "1.5.0",
          "state": {
            "_view_name": "HTMLView",
            "style": "IPY_MODEL_cb38e57217664fb1b13e25ac4204ab09",
            "_dom_classes": [],
            "description": "",
            "_model_name": "HTMLModel",
            "placeholder": "​",
            "_view_module": "@jupyter-widgets/controls",
            "_model_module_version": "1.5.0",
            "value": "Downloading: 100%",
            "_view_count": null,
            "_view_module_version": "1.5.0",
            "description_tooltip": null,
            "_model_module": "@jupyter-widgets/controls",
            "layout": "IPY_MODEL_ea44f0a688b34812a35c9a038e55b9dc"
          }
        },
        "708dcac60e6d4f60a5e097355cdcd8b8": {
          "model_module": "@jupyter-widgets/controls",
          "model_name": "FloatProgressModel",
          "model_module_version": "1.5.0",
          "state": {
            "_view_name": "ProgressView",
            "style": "IPY_MODEL_c8a4961e419b4ca3832d99273c93331b",
            "_dom_classes": [],
            "description": "",
            "_model_name": "FloatProgressModel",
            "bar_style": "success",
            "max": 321,
            "_view_module": "@jupyter-widgets/controls",
            "_model_module_version": "1.5.0",
            "value": 321,
            "_view_count": null,
            "_view_module_version": "1.5.0",
            "orientation": "horizontal",
            "min": 0,
            "description_tooltip": null,
            "_model_module": "@jupyter-widgets/controls",
            "layout": "IPY_MODEL_35ada0ed91ad4320b43423d8ebda8004"
          }
        },
        "1053d7ca7e5c449997499066c33cf21d": {
          "model_module": "@jupyter-widgets/controls",
          "model_name": "HTMLModel",
          "model_module_version": "1.5.0",
          "state": {
            "_view_name": "HTMLView",
            "style": "IPY_MODEL_eda93ce6fe854dd6848e00d532a7a27f",
            "_dom_classes": [],
            "description": "",
            "_model_name": "HTMLModel",
            "placeholder": "​",
            "_view_module": "@jupyter-widgets/controls",
            "_model_module_version": "1.5.0",
            "value": " 321/321 [00:00&lt;00:00, 14.0kB/s]",
            "_view_count": null,
            "_view_module_version": "1.5.0",
            "description_tooltip": null,
            "_model_module": "@jupyter-widgets/controls",
            "layout": "IPY_MODEL_32a242ed084e4e609fabb685b425e44b"
          }
        },
        "cb38e57217664fb1b13e25ac4204ab09": {
          "model_module": "@jupyter-widgets/controls",
          "model_name": "DescriptionStyleModel",
          "model_module_version": "1.5.0",
          "state": {
            "_view_name": "StyleView",
            "_model_name": "DescriptionStyleModel",
            "description_width": "",
            "_view_module": "@jupyter-widgets/base",
            "_model_module_version": "1.5.0",
            "_view_count": null,
            "_view_module_version": "1.2.0",
            "_model_module": "@jupyter-widgets/controls"
          }
        },
        "ea44f0a688b34812a35c9a038e55b9dc": {
          "model_module": "@jupyter-widgets/base",
          "model_name": "LayoutModel",
          "model_module_version": "1.2.0",
          "state": {
            "_view_name": "LayoutView",
            "grid_template_rows": null,
            "right": null,
            "justify_content": null,
            "_view_module": "@jupyter-widgets/base",
            "overflow": null,
            "_model_module_version": "1.2.0",
            "_view_count": null,
            "flex_flow": null,
            "width": null,
            "min_width": null,
            "border": null,
            "align_items": null,
            "bottom": null,
            "_model_module": "@jupyter-widgets/base",
            "top": null,
            "grid_column": null,
            "overflow_y": null,
            "overflow_x": null,
            "grid_auto_flow": null,
            "grid_area": null,
            "grid_template_columns": null,
            "flex": null,
            "_model_name": "LayoutModel",
            "justify_items": null,
            "grid_row": null,
            "max_height": null,
            "align_content": null,
            "visibility": null,
            "align_self": null,
            "height": null,
            "min_height": null,
            "padding": null,
            "grid_auto_rows": null,
            "grid_gap": null,
            "max_width": null,
            "order": null,
            "_view_module_version": "1.2.0",
            "grid_template_areas": null,
            "object_position": null,
            "object_fit": null,
            "grid_auto_columns": null,
            "margin": null,
            "display": null,
            "left": null
          }
        },
        "c8a4961e419b4ca3832d99273c93331b": {
          "model_module": "@jupyter-widgets/controls",
          "model_name": "ProgressStyleModel",
          "model_module_version": "1.5.0",
          "state": {
            "_view_name": "StyleView",
            "_model_name": "ProgressStyleModel",
            "description_width": "",
            "_view_module": "@jupyter-widgets/base",
            "_model_module_version": "1.5.0",
            "_view_count": null,
            "_view_module_version": "1.2.0",
            "bar_color": null,
            "_model_module": "@jupyter-widgets/controls"
          }
        },
        "35ada0ed91ad4320b43423d8ebda8004": {
          "model_module": "@jupyter-widgets/base",
          "model_name": "LayoutModel",
          "model_module_version": "1.2.0",
          "state": {
            "_view_name": "LayoutView",
            "grid_template_rows": null,
            "right": null,
            "justify_content": null,
            "_view_module": "@jupyter-widgets/base",
            "overflow": null,
            "_model_module_version": "1.2.0",
            "_view_count": null,
            "flex_flow": null,
            "width": null,
            "min_width": null,
            "border": null,
            "align_items": null,
            "bottom": null,
            "_model_module": "@jupyter-widgets/base",
            "top": null,
            "grid_column": null,
            "overflow_y": null,
            "overflow_x": null,
            "grid_auto_flow": null,
            "grid_area": null,
            "grid_template_columns": null,
            "flex": null,
            "_model_name": "LayoutModel",
            "justify_items": null,
            "grid_row": null,
            "max_height": null,
            "align_content": null,
            "visibility": null,
            "align_self": null,
            "height": null,
            "min_height": null,
            "padding": null,
            "grid_auto_rows": null,
            "grid_gap": null,
            "max_width": null,
            "order": null,
            "_view_module_version": "1.2.0",
            "grid_template_areas": null,
            "object_position": null,
            "object_fit": null,
            "grid_auto_columns": null,
            "margin": null,
            "display": null,
            "left": null
          }
        },
        "eda93ce6fe854dd6848e00d532a7a27f": {
          "model_module": "@jupyter-widgets/controls",
          "model_name": "DescriptionStyleModel",
          "model_module_version": "1.5.0",
          "state": {
            "_view_name": "StyleView",
            "_model_name": "DescriptionStyleModel",
            "description_width": "",
            "_view_module": "@jupyter-widgets/base",
            "_model_module_version": "1.5.0",
            "_view_count": null,
            "_view_module_version": "1.2.0",
            "_model_module": "@jupyter-widgets/controls"
          }
        },
        "32a242ed084e4e609fabb685b425e44b": {
          "model_module": "@jupyter-widgets/base",
          "model_name": "LayoutModel",
          "model_module_version": "1.2.0",
          "state": {
            "_view_name": "LayoutView",
            "grid_template_rows": null,
            "right": null,
            "justify_content": null,
            "_view_module": "@jupyter-widgets/base",
            "overflow": null,
            "_model_module_version": "1.2.0",
            "_view_count": null,
            "flex_flow": null,
            "width": null,
            "min_width": null,
            "border": null,
            "align_items": null,
            "bottom": null,
            "_model_module": "@jupyter-widgets/base",
            "top": null,
            "grid_column": null,
            "overflow_y": null,
            "overflow_x": null,
            "grid_auto_flow": null,
            "grid_area": null,
            "grid_template_columns": null,
            "flex": null,
            "_model_name": "LayoutModel",
            "justify_items": null,
            "grid_row": null,
            "max_height": null,
            "align_content": null,
            "visibility": null,
            "align_self": null,
            "height": null,
            "min_height": null,
            "padding": null,
            "grid_auto_rows": null,
            "grid_gap": null,
            "max_width": null,
            "order": null,
            "_view_module_version": "1.2.0",
            "grid_template_areas": null,
            "object_position": null,
            "object_fit": null,
            "grid_auto_columns": null,
            "margin": null,
            "display": null,
            "left": null
          }
        },
        "60a2587627ef477c89ba6749ae970fad": {
          "model_module": "@jupyter-widgets/controls",
          "model_name": "HBoxModel",
          "model_module_version": "1.5.0",
          "state": {
            "_view_name": "HBoxView",
            "_dom_classes": [],
            "_model_name": "HBoxModel",
            "_view_module": "@jupyter-widgets/controls",
            "_model_module_version": "1.5.0",
            "_view_count": null,
            "_view_module_version": "1.5.0",
            "box_style": "",
            "layout": "IPY_MODEL_5df73ab641324e7587fffd8911fc0b60",
            "_model_module": "@jupyter-widgets/controls",
            "children": [
              "IPY_MODEL_48b1fee5d77f4148b7e0e780b91bb297",
              "IPY_MODEL_4698da5c14bc4f439f13c5e8340fdad3",
              "IPY_MODEL_bbb72611db5e426abf76dcdf29f981eb"
            ]
          }
        },
        "5df73ab641324e7587fffd8911fc0b60": {
          "model_module": "@jupyter-widgets/base",
          "model_name": "LayoutModel",
          "model_module_version": "1.2.0",
          "state": {
            "_view_name": "LayoutView",
            "grid_template_rows": null,
            "right": null,
            "justify_content": null,
            "_view_module": "@jupyter-widgets/base",
            "overflow": null,
            "_model_module_version": "1.2.0",
            "_view_count": null,
            "flex_flow": null,
            "width": null,
            "min_width": null,
            "border": null,
            "align_items": null,
            "bottom": null,
            "_model_module": "@jupyter-widgets/base",
            "top": null,
            "grid_column": null,
            "overflow_y": null,
            "overflow_x": null,
            "grid_auto_flow": null,
            "grid_area": null,
            "grid_template_columns": null,
            "flex": null,
            "_model_name": "LayoutModel",
            "justify_items": null,
            "grid_row": null,
            "max_height": null,
            "align_content": null,
            "visibility": null,
            "align_self": null,
            "height": null,
            "min_height": null,
            "padding": null,
            "grid_auto_rows": null,
            "grid_gap": null,
            "max_width": null,
            "order": null,
            "_view_module_version": "1.2.0",
            "grid_template_areas": null,
            "object_position": null,
            "object_fit": null,
            "grid_auto_columns": null,
            "margin": null,
            "display": null,
            "left": null
          }
        },
        "48b1fee5d77f4148b7e0e780b91bb297": {
          "model_module": "@jupyter-widgets/controls",
          "model_name": "HTMLModel",
          "model_module_version": "1.5.0",
          "state": {
            "_view_name": "HTMLView",
            "style": "IPY_MODEL_11f46a0bb2b148acb74fe17cfa10816d",
            "_dom_classes": [],
            "description": "",
            "_model_name": "HTMLModel",
            "placeholder": "​",
            "_view_module": "@jupyter-widgets/controls",
            "_model_module_version": "1.5.0",
            "value": "Downloading: 100%",
            "_view_count": null,
            "_view_module_version": "1.5.0",
            "description_tooltip": null,
            "_model_module": "@jupyter-widgets/controls",
            "layout": "IPY_MODEL_873d7b43bb9e4b15aa27818e437eebd8"
          }
        },
        "4698da5c14bc4f439f13c5e8340fdad3": {
          "model_module": "@jupyter-widgets/controls",
          "model_name": "FloatProgressModel",
          "model_module_version": "1.5.0",
          "state": {
            "_view_name": "ProgressView",
            "style": "IPY_MODEL_2e8dd4b7dec745fab3bd1a7c05c5c564",
            "_dom_classes": [],
            "description": "",
            "_model_name": "FloatProgressModel",
            "bar_style": "success",
            "max": 612,
            "_view_module": "@jupyter-widgets/controls",
            "_model_module_version": "1.5.0",
            "value": 612,
            "_view_count": null,
            "_view_module_version": "1.5.0",
            "orientation": "horizontal",
            "min": 0,
            "description_tooltip": null,
            "_model_module": "@jupyter-widgets/controls",
            "layout": "IPY_MODEL_a878c6cc6e2449468982f88e7e2e276c"
          }
        },
        "bbb72611db5e426abf76dcdf29f981eb": {
          "model_module": "@jupyter-widgets/controls",
          "model_name": "HTMLModel",
          "model_module_version": "1.5.0",
          "state": {
            "_view_name": "HTMLView",
            "style": "IPY_MODEL_99d12074934745ceb4f5e68366044484",
            "_dom_classes": [],
            "description": "",
            "_model_name": "HTMLModel",
            "placeholder": "​",
            "_view_module": "@jupyter-widgets/controls",
            "_model_module_version": "1.5.0",
            "value": " 612/612 [00:00&lt;00:00, 26.0kB/s]",
            "_view_count": null,
            "_view_module_version": "1.5.0",
            "description_tooltip": null,
            "_model_module": "@jupyter-widgets/controls",
            "layout": "IPY_MODEL_2e5f98f0e08d45c1b55bee1cf17a0da1"
          }
        },
        "11f46a0bb2b148acb74fe17cfa10816d": {
          "model_module": "@jupyter-widgets/controls",
          "model_name": "DescriptionStyleModel",
          "model_module_version": "1.5.0",
          "state": {
            "_view_name": "StyleView",
            "_model_name": "DescriptionStyleModel",
            "description_width": "",
            "_view_module": "@jupyter-widgets/base",
            "_model_module_version": "1.5.0",
            "_view_count": null,
            "_view_module_version": "1.2.0",
            "_model_module": "@jupyter-widgets/controls"
          }
        },
        "873d7b43bb9e4b15aa27818e437eebd8": {
          "model_module": "@jupyter-widgets/base",
          "model_name": "LayoutModel",
          "model_module_version": "1.2.0",
          "state": {
            "_view_name": "LayoutView",
            "grid_template_rows": null,
            "right": null,
            "justify_content": null,
            "_view_module": "@jupyter-widgets/base",
            "overflow": null,
            "_model_module_version": "1.2.0",
            "_view_count": null,
            "flex_flow": null,
            "width": null,
            "min_width": null,
            "border": null,
            "align_items": null,
            "bottom": null,
            "_model_module": "@jupyter-widgets/base",
            "top": null,
            "grid_column": null,
            "overflow_y": null,
            "overflow_x": null,
            "grid_auto_flow": null,
            "grid_area": null,
            "grid_template_columns": null,
            "flex": null,
            "_model_name": "LayoutModel",
            "justify_items": null,
            "grid_row": null,
            "max_height": null,
            "align_content": null,
            "visibility": null,
            "align_self": null,
            "height": null,
            "min_height": null,
            "padding": null,
            "grid_auto_rows": null,
            "grid_gap": null,
            "max_width": null,
            "order": null,
            "_view_module_version": "1.2.0",
            "grid_template_areas": null,
            "object_position": null,
            "object_fit": null,
            "grid_auto_columns": null,
            "margin": null,
            "display": null,
            "left": null
          }
        },
        "2e8dd4b7dec745fab3bd1a7c05c5c564": {
          "model_module": "@jupyter-widgets/controls",
          "model_name": "ProgressStyleModel",
          "model_module_version": "1.5.0",
          "state": {
            "_view_name": "StyleView",
            "_model_name": "ProgressStyleModel",
            "description_width": "",
            "_view_module": "@jupyter-widgets/base",
            "_model_module_version": "1.5.0",
            "_view_count": null,
            "_view_module_version": "1.2.0",
            "bar_color": null,
            "_model_module": "@jupyter-widgets/controls"
          }
        },
        "a878c6cc6e2449468982f88e7e2e276c": {
          "model_module": "@jupyter-widgets/base",
          "model_name": "LayoutModel",
          "model_module_version": "1.2.0",
          "state": {
            "_view_name": "LayoutView",
            "grid_template_rows": null,
            "right": null,
            "justify_content": null,
            "_view_module": "@jupyter-widgets/base",
            "overflow": null,
            "_model_module_version": "1.2.0",
            "_view_count": null,
            "flex_flow": null,
            "width": null,
            "min_width": null,
            "border": null,
            "align_items": null,
            "bottom": null,
            "_model_module": "@jupyter-widgets/base",
            "top": null,
            "grid_column": null,
            "overflow_y": null,
            "overflow_x": null,
            "grid_auto_flow": null,
            "grid_area": null,
            "grid_template_columns": null,
            "flex": null,
            "_model_name": "LayoutModel",
            "justify_items": null,
            "grid_row": null,
            "max_height": null,
            "align_content": null,
            "visibility": null,
            "align_self": null,
            "height": null,
            "min_height": null,
            "padding": null,
            "grid_auto_rows": null,
            "grid_gap": null,
            "max_width": null,
            "order": null,
            "_view_module_version": "1.2.0",
            "grid_template_areas": null,
            "object_position": null,
            "object_fit": null,
            "grid_auto_columns": null,
            "margin": null,
            "display": null,
            "left": null
          }
        },
        "99d12074934745ceb4f5e68366044484": {
          "model_module": "@jupyter-widgets/controls",
          "model_name": "DescriptionStyleModel",
          "model_module_version": "1.5.0",
          "state": {
            "_view_name": "StyleView",
            "_model_name": "DescriptionStyleModel",
            "description_width": "",
            "_view_module": "@jupyter-widgets/base",
            "_model_module_version": "1.5.0",
            "_view_count": null,
            "_view_module_version": "1.2.0",
            "_model_module": "@jupyter-widgets/controls"
          }
        },
        "2e5f98f0e08d45c1b55bee1cf17a0da1": {
          "model_module": "@jupyter-widgets/base",
          "model_name": "LayoutModel",
          "model_module_version": "1.2.0",
          "state": {
            "_view_name": "LayoutView",
            "grid_template_rows": null,
            "right": null,
            "justify_content": null,
            "_view_module": "@jupyter-widgets/base",
            "overflow": null,
            "_model_module_version": "1.2.0",
            "_view_count": null,
            "flex_flow": null,
            "width": null,
            "min_width": null,
            "border": null,
            "align_items": null,
            "bottom": null,
            "_model_module": "@jupyter-widgets/base",
            "top": null,
            "grid_column": null,
            "overflow_y": null,
            "overflow_x": null,
            "grid_auto_flow": null,
            "grid_area": null,
            "grid_template_columns": null,
            "flex": null,
            "_model_name": "LayoutModel",
            "justify_items": null,
            "grid_row": null,
            "max_height": null,
            "align_content": null,
            "visibility": null,
            "align_self": null,
            "height": null,
            "min_height": null,
            "padding": null,
            "grid_auto_rows": null,
            "grid_gap": null,
            "max_width": null,
            "order": null,
            "_view_module_version": "1.2.0",
            "grid_template_areas": null,
            "object_position": null,
            "object_fit": null,
            "grid_auto_columns": null,
            "margin": null,
            "display": null,
            "left": null
          }
        },
        "b7146d17c242475fb71f802f3e8a871a": {
          "model_module": "@jupyter-widgets/controls",
          "model_name": "HBoxModel",
          "model_module_version": "1.5.0",
          "state": {
            "_view_name": "HBoxView",
            "_dom_classes": [],
            "_model_name": "HBoxModel",
            "_view_module": "@jupyter-widgets/controls",
            "_model_module_version": "1.5.0",
            "_view_count": null,
            "_view_module_version": "1.5.0",
            "box_style": "",
            "layout": "IPY_MODEL_f76efc4f8c9b46cb9d473a599d4237b4",
            "_model_module": "@jupyter-widgets/controls",
            "children": [
              "IPY_MODEL_b35bd27895f44f90b22e272d2f89d3ce",
              "IPY_MODEL_1ab1b32bbdd941e2a46c33f1b23cd7ff",
              "IPY_MODEL_08948771918b4cb08a4b6a8dc6b55716"
            ]
          }
        },
        "f76efc4f8c9b46cb9d473a599d4237b4": {
          "model_module": "@jupyter-widgets/base",
          "model_name": "LayoutModel",
          "model_module_version": "1.2.0",
          "state": {
            "_view_name": "LayoutView",
            "grid_template_rows": null,
            "right": null,
            "justify_content": null,
            "_view_module": "@jupyter-widgets/base",
            "overflow": null,
            "_model_module_version": "1.2.0",
            "_view_count": null,
            "flex_flow": null,
            "width": null,
            "min_width": null,
            "border": null,
            "align_items": null,
            "bottom": null,
            "_model_module": "@jupyter-widgets/base",
            "top": null,
            "grid_column": null,
            "overflow_y": null,
            "overflow_x": null,
            "grid_auto_flow": null,
            "grid_area": null,
            "grid_template_columns": null,
            "flex": null,
            "_model_name": "LayoutModel",
            "justify_items": null,
            "grid_row": null,
            "max_height": null,
            "align_content": null,
            "visibility": null,
            "align_self": null,
            "height": null,
            "min_height": null,
            "padding": null,
            "grid_auto_rows": null,
            "grid_gap": null,
            "max_width": null,
            "order": null,
            "_view_module_version": "1.2.0",
            "grid_template_areas": null,
            "object_position": null,
            "object_fit": null,
            "grid_auto_columns": null,
            "margin": null,
            "display": null,
            "left": null
          }
        },
        "b35bd27895f44f90b22e272d2f89d3ce": {
          "model_module": "@jupyter-widgets/controls",
          "model_name": "HTMLModel",
          "model_module_version": "1.5.0",
          "state": {
            "_view_name": "HTMLView",
            "style": "IPY_MODEL_8393d989b8b24f3e9ec0bf641e4bf271",
            "_dom_classes": [],
            "description": "",
            "_model_name": "HTMLModel",
            "placeholder": "​",
            "_view_module": "@jupyter-widgets/controls",
            "_model_module_version": "1.5.0",
            "value": "Downloading: 100%",
            "_view_count": null,
            "_view_module_version": "1.5.0",
            "description_tooltip": null,
            "_model_module": "@jupyter-widgets/controls",
            "layout": "IPY_MODEL_873f8ddd35634886adf30fdc59918300"
          }
        },
        "1ab1b32bbdd941e2a46c33f1b23cd7ff": {
          "model_module": "@jupyter-widgets/controls",
          "model_name": "FloatProgressModel",
          "model_module_version": "1.5.0",
          "state": {
            "_view_name": "ProgressView",
            "style": "IPY_MODEL_bad7a2a8f0ad40ff860d3b467906d090",
            "_dom_classes": [],
            "description": "",
            "_model_name": "FloatProgressModel",
            "bar_style": "success",
            "max": 222296,
            "_view_module": "@jupyter-widgets/controls",
            "_model_module_version": "1.5.0",
            "value": 222296,
            "_view_count": null,
            "_view_module_version": "1.5.0",
            "orientation": "horizontal",
            "min": 0,
            "description_tooltip": null,
            "_model_module": "@jupyter-widgets/controls",
            "layout": "IPY_MODEL_f5697253988a4cf084adcb835a1d2ec5"
          }
        },
        "08948771918b4cb08a4b6a8dc6b55716": {
          "model_module": "@jupyter-widgets/controls",
          "model_name": "HTMLModel",
          "model_module_version": "1.5.0",
          "state": {
            "_view_name": "HTMLView",
            "style": "IPY_MODEL_044d834c75904b3da552df5045ebaff3",
            "_dom_classes": [],
            "description": "",
            "_model_name": "HTMLModel",
            "placeholder": "​",
            "_view_module": "@jupyter-widgets/controls",
            "_model_module_version": "1.5.0",
            "value": " 222k/222k [00:00&lt;00:00, 878kB/s]",
            "_view_count": null,
            "_view_module_version": "1.5.0",
            "description_tooltip": null,
            "_model_module": "@jupyter-widgets/controls",
            "layout": "IPY_MODEL_e95db6e5ff954b6c84adf393bac65270"
          }
        },
        "8393d989b8b24f3e9ec0bf641e4bf271": {
          "model_module": "@jupyter-widgets/controls",
          "model_name": "DescriptionStyleModel",
          "model_module_version": "1.5.0",
          "state": {
            "_view_name": "StyleView",
            "_model_name": "DescriptionStyleModel",
            "description_width": "",
            "_view_module": "@jupyter-widgets/base",
            "_model_module_version": "1.5.0",
            "_view_count": null,
            "_view_module_version": "1.2.0",
            "_model_module": "@jupyter-widgets/controls"
          }
        },
        "873f8ddd35634886adf30fdc59918300": {
          "model_module": "@jupyter-widgets/base",
          "model_name": "LayoutModel",
          "model_module_version": "1.2.0",
          "state": {
            "_view_name": "LayoutView",
            "grid_template_rows": null,
            "right": null,
            "justify_content": null,
            "_view_module": "@jupyter-widgets/base",
            "overflow": null,
            "_model_module_version": "1.2.0",
            "_view_count": null,
            "flex_flow": null,
            "width": null,
            "min_width": null,
            "border": null,
            "align_items": null,
            "bottom": null,
            "_model_module": "@jupyter-widgets/base",
            "top": null,
            "grid_column": null,
            "overflow_y": null,
            "overflow_x": null,
            "grid_auto_flow": null,
            "grid_area": null,
            "grid_template_columns": null,
            "flex": null,
            "_model_name": "LayoutModel",
            "justify_items": null,
            "grid_row": null,
            "max_height": null,
            "align_content": null,
            "visibility": null,
            "align_self": null,
            "height": null,
            "min_height": null,
            "padding": null,
            "grid_auto_rows": null,
            "grid_gap": null,
            "max_width": null,
            "order": null,
            "_view_module_version": "1.2.0",
            "grid_template_areas": null,
            "object_position": null,
            "object_fit": null,
            "grid_auto_columns": null,
            "margin": null,
            "display": null,
            "left": null
          }
        },
        "bad7a2a8f0ad40ff860d3b467906d090": {
          "model_module": "@jupyter-widgets/controls",
          "model_name": "ProgressStyleModel",
          "model_module_version": "1.5.0",
          "state": {
            "_view_name": "StyleView",
            "_model_name": "ProgressStyleModel",
            "description_width": "",
            "_view_module": "@jupyter-widgets/base",
            "_model_module_version": "1.5.0",
            "_view_count": null,
            "_view_module_version": "1.2.0",
            "bar_color": null,
            "_model_module": "@jupyter-widgets/controls"
          }
        },
        "f5697253988a4cf084adcb835a1d2ec5": {
          "model_module": "@jupyter-widgets/base",
          "model_name": "LayoutModel",
          "model_module_version": "1.2.0",
          "state": {
            "_view_name": "LayoutView",
            "grid_template_rows": null,
            "right": null,
            "justify_content": null,
            "_view_module": "@jupyter-widgets/base",
            "overflow": null,
            "_model_module_version": "1.2.0",
            "_view_count": null,
            "flex_flow": null,
            "width": null,
            "min_width": null,
            "border": null,
            "align_items": null,
            "bottom": null,
            "_model_module": "@jupyter-widgets/base",
            "top": null,
            "grid_column": null,
            "overflow_y": null,
            "overflow_x": null,
            "grid_auto_flow": null,
            "grid_area": null,
            "grid_template_columns": null,
            "flex": null,
            "_model_name": "LayoutModel",
            "justify_items": null,
            "grid_row": null,
            "max_height": null,
            "align_content": null,
            "visibility": null,
            "align_self": null,
            "height": null,
            "min_height": null,
            "padding": null,
            "grid_auto_rows": null,
            "grid_gap": null,
            "max_width": null,
            "order": null,
            "_view_module_version": "1.2.0",
            "grid_template_areas": null,
            "object_position": null,
            "object_fit": null,
            "grid_auto_columns": null,
            "margin": null,
            "display": null,
            "left": null
          }
        },
        "044d834c75904b3da552df5045ebaff3": {
          "model_module": "@jupyter-widgets/controls",
          "model_name": "DescriptionStyleModel",
          "model_module_version": "1.5.0",
          "state": {
            "_view_name": "StyleView",
            "_model_name": "DescriptionStyleModel",
            "description_width": "",
            "_view_module": "@jupyter-widgets/base",
            "_model_module_version": "1.5.0",
            "_view_count": null,
            "_view_module_version": "1.2.0",
            "_model_module": "@jupyter-widgets/controls"
          }
        },
        "e95db6e5ff954b6c84adf393bac65270": {
          "model_module": "@jupyter-widgets/base",
          "model_name": "LayoutModel",
          "model_module_version": "1.2.0",
          "state": {
            "_view_name": "LayoutView",
            "grid_template_rows": null,
            "right": null,
            "justify_content": null,
            "_view_module": "@jupyter-widgets/base",
            "overflow": null,
            "_model_module_version": "1.2.0",
            "_view_count": null,
            "flex_flow": null,
            "width": null,
            "min_width": null,
            "border": null,
            "align_items": null,
            "bottom": null,
            "_model_module": "@jupyter-widgets/base",
            "top": null,
            "grid_column": null,
            "overflow_y": null,
            "overflow_x": null,
            "grid_auto_flow": null,
            "grid_area": null,
            "grid_template_columns": null,
            "flex": null,
            "_model_name": "LayoutModel",
            "justify_items": null,
            "grid_row": null,
            "max_height": null,
            "align_content": null,
            "visibility": null,
            "align_self": null,
            "height": null,
            "min_height": null,
            "padding": null,
            "grid_auto_rows": null,
            "grid_gap": null,
            "max_width": null,
            "order": null,
            "_view_module_version": "1.2.0",
            "grid_template_areas": null,
            "object_position": null,
            "object_fit": null,
            "grid_auto_columns": null,
            "margin": null,
            "display": null,
            "left": null
          }
        },
        "d580e8e982904a7b969f6493ee90a806": {
          "model_module": "@jupyter-widgets/controls",
          "model_name": "HBoxModel",
          "model_module_version": "1.5.0",
          "state": {
            "_view_name": "HBoxView",
            "_dom_classes": [],
            "_model_name": "HBoxModel",
            "_view_module": "@jupyter-widgets/controls",
            "_model_module_version": "1.5.0",
            "_view_count": null,
            "_view_module_version": "1.5.0",
            "box_style": "",
            "layout": "IPY_MODEL_fa3ab8c10bb04d01b94e7c978ab7cc49",
            "_model_module": "@jupyter-widgets/controls",
            "children": [
              "IPY_MODEL_e4be62b0d84341c181e43397e5233233",
              "IPY_MODEL_2af9aa9f9d3f432aabc2906d77809d43",
              "IPY_MODEL_9d3f457191a440ed94a9185fa39e94ec"
            ]
          }
        },
        "fa3ab8c10bb04d01b94e7c978ab7cc49": {
          "model_module": "@jupyter-widgets/base",
          "model_name": "LayoutModel",
          "model_module_version": "1.2.0",
          "state": {
            "_view_name": "LayoutView",
            "grid_template_rows": null,
            "right": null,
            "justify_content": null,
            "_view_module": "@jupyter-widgets/base",
            "overflow": null,
            "_model_module_version": "1.2.0",
            "_view_count": null,
            "flex_flow": null,
            "width": null,
            "min_width": null,
            "border": null,
            "align_items": null,
            "bottom": null,
            "_model_module": "@jupyter-widgets/base",
            "top": null,
            "grid_column": null,
            "overflow_y": null,
            "overflow_x": null,
            "grid_auto_flow": null,
            "grid_area": null,
            "grid_template_columns": null,
            "flex": null,
            "_model_name": "LayoutModel",
            "justify_items": null,
            "grid_row": null,
            "max_height": null,
            "align_content": null,
            "visibility": null,
            "align_self": null,
            "height": null,
            "min_height": null,
            "padding": null,
            "grid_auto_rows": null,
            "grid_gap": null,
            "max_width": null,
            "order": null,
            "_view_module_version": "1.2.0",
            "grid_template_areas": null,
            "object_position": null,
            "object_fit": null,
            "grid_auto_columns": null,
            "margin": null,
            "display": null,
            "left": null
          }
        },
        "e4be62b0d84341c181e43397e5233233": {
          "model_module": "@jupyter-widgets/controls",
          "model_name": "HTMLModel",
          "model_module_version": "1.5.0",
          "state": {
            "_view_name": "HTMLView",
            "style": "IPY_MODEL_3f5a28dc86e24e3c93df41478073c1b9",
            "_dom_classes": [],
            "description": "",
            "_model_name": "HTMLModel",
            "placeholder": "​",
            "_view_module": "@jupyter-widgets/controls",
            "_model_module_version": "1.5.0",
            "value": "Downloading: 100%",
            "_view_count": null,
            "_view_module_version": "1.5.0",
            "description_tooltip": null,
            "_model_module": "@jupyter-widgets/controls",
            "layout": "IPY_MODEL_64eb56a53c404e858326073a2394b5c5"
          }
        },
        "2af9aa9f9d3f432aabc2906d77809d43": {
          "model_module": "@jupyter-widgets/controls",
          "model_name": "FloatProgressModel",
          "model_module_version": "1.5.0",
          "state": {
            "_view_name": "ProgressView",
            "style": "IPY_MODEL_9be8ada23e4941f7a0404cd7bfbed560",
            "_dom_classes": [],
            "description": "",
            "_model_name": "FloatProgressModel",
            "bar_style": "success",
            "max": 112,
            "_view_module": "@jupyter-widgets/controls",
            "_model_module_version": "1.5.0",
            "value": 112,
            "_view_count": null,
            "_view_module_version": "1.5.0",
            "orientation": "horizontal",
            "min": 0,
            "description_tooltip": null,
            "_model_module": "@jupyter-widgets/controls",
            "layout": "IPY_MODEL_7630b95a66b5469da765ade9c1011535"
          }
        },
        "9d3f457191a440ed94a9185fa39e94ec": {
          "model_module": "@jupyter-widgets/controls",
          "model_name": "HTMLModel",
          "model_module_version": "1.5.0",
          "state": {
            "_view_name": "HTMLView",
            "style": "IPY_MODEL_b1a12fac6ba746ffba4c728fb05bacf9",
            "_dom_classes": [],
            "description": "",
            "_model_name": "HTMLModel",
            "placeholder": "​",
            "_view_module": "@jupyter-widgets/controls",
            "_model_module_version": "1.5.0",
            "value": " 112/112 [00:00&lt;00:00, 4.24kB/s]",
            "_view_count": null,
            "_view_module_version": "1.5.0",
            "description_tooltip": null,
            "_model_module": "@jupyter-widgets/controls",
            "layout": "IPY_MODEL_00fe2999c8444a62b3d3a46e1a5f9943"
          }
        },
        "3f5a28dc86e24e3c93df41478073c1b9": {
          "model_module": "@jupyter-widgets/controls",
          "model_name": "DescriptionStyleModel",
          "model_module_version": "1.5.0",
          "state": {
            "_view_name": "StyleView",
            "_model_name": "DescriptionStyleModel",
            "description_width": "",
            "_view_module": "@jupyter-widgets/base",
            "_model_module_version": "1.5.0",
            "_view_count": null,
            "_view_module_version": "1.2.0",
            "_model_module": "@jupyter-widgets/controls"
          }
        },
        "64eb56a53c404e858326073a2394b5c5": {
          "model_module": "@jupyter-widgets/base",
          "model_name": "LayoutModel",
          "model_module_version": "1.2.0",
          "state": {
            "_view_name": "LayoutView",
            "grid_template_rows": null,
            "right": null,
            "justify_content": null,
            "_view_module": "@jupyter-widgets/base",
            "overflow": null,
            "_model_module_version": "1.2.0",
            "_view_count": null,
            "flex_flow": null,
            "width": null,
            "min_width": null,
            "border": null,
            "align_items": null,
            "bottom": null,
            "_model_module": "@jupyter-widgets/base",
            "top": null,
            "grid_column": null,
            "overflow_y": null,
            "overflow_x": null,
            "grid_auto_flow": null,
            "grid_area": null,
            "grid_template_columns": null,
            "flex": null,
            "_model_name": "LayoutModel",
            "justify_items": null,
            "grid_row": null,
            "max_height": null,
            "align_content": null,
            "visibility": null,
            "align_self": null,
            "height": null,
            "min_height": null,
            "padding": null,
            "grid_auto_rows": null,
            "grid_gap": null,
            "max_width": null,
            "order": null,
            "_view_module_version": "1.2.0",
            "grid_template_areas": null,
            "object_position": null,
            "object_fit": null,
            "grid_auto_columns": null,
            "margin": null,
            "display": null,
            "left": null
          }
        },
        "9be8ada23e4941f7a0404cd7bfbed560": {
          "model_module": "@jupyter-widgets/controls",
          "model_name": "ProgressStyleModel",
          "model_module_version": "1.5.0",
          "state": {
            "_view_name": "StyleView",
            "_model_name": "ProgressStyleModel",
            "description_width": "",
            "_view_module": "@jupyter-widgets/base",
            "_model_module_version": "1.5.0",
            "_view_count": null,
            "_view_module_version": "1.2.0",
            "bar_color": null,
            "_model_module": "@jupyter-widgets/controls"
          }
        },
        "7630b95a66b5469da765ade9c1011535": {
          "model_module": "@jupyter-widgets/base",
          "model_name": "LayoutModel",
          "model_module_version": "1.2.0",
          "state": {
            "_view_name": "LayoutView",
            "grid_template_rows": null,
            "right": null,
            "justify_content": null,
            "_view_module": "@jupyter-widgets/base",
            "overflow": null,
            "_model_module_version": "1.2.0",
            "_view_count": null,
            "flex_flow": null,
            "width": null,
            "min_width": null,
            "border": null,
            "align_items": null,
            "bottom": null,
            "_model_module": "@jupyter-widgets/base",
            "top": null,
            "grid_column": null,
            "overflow_y": null,
            "overflow_x": null,
            "grid_auto_flow": null,
            "grid_area": null,
            "grid_template_columns": null,
            "flex": null,
            "_model_name": "LayoutModel",
            "justify_items": null,
            "grid_row": null,
            "max_height": null,
            "align_content": null,
            "visibility": null,
            "align_self": null,
            "height": null,
            "min_height": null,
            "padding": null,
            "grid_auto_rows": null,
            "grid_gap": null,
            "max_width": null,
            "order": null,
            "_view_module_version": "1.2.0",
            "grid_template_areas": null,
            "object_position": null,
            "object_fit": null,
            "grid_auto_columns": null,
            "margin": null,
            "display": null,
            "left": null
          }
        },
        "b1a12fac6ba746ffba4c728fb05bacf9": {
          "model_module": "@jupyter-widgets/controls",
          "model_name": "DescriptionStyleModel",
          "model_module_version": "1.5.0",
          "state": {
            "_view_name": "StyleView",
            "_model_name": "DescriptionStyleModel",
            "description_width": "",
            "_view_module": "@jupyter-widgets/base",
            "_model_module_version": "1.5.0",
            "_view_count": null,
            "_view_module_version": "1.2.0",
            "_model_module": "@jupyter-widgets/controls"
          }
        },
        "00fe2999c8444a62b3d3a46e1a5f9943": {
          "model_module": "@jupyter-widgets/base",
          "model_name": "LayoutModel",
          "model_module_version": "1.2.0",
          "state": {
            "_view_name": "LayoutView",
            "grid_template_rows": null,
            "right": null,
            "justify_content": null,
            "_view_module": "@jupyter-widgets/base",
            "overflow": null,
            "_model_module_version": "1.2.0",
            "_view_count": null,
            "flex_flow": null,
            "width": null,
            "min_width": null,
            "border": null,
            "align_items": null,
            "bottom": null,
            "_model_module": "@jupyter-widgets/base",
            "top": null,
            "grid_column": null,
            "overflow_y": null,
            "overflow_x": null,
            "grid_auto_flow": null,
            "grid_area": null,
            "grid_template_columns": null,
            "flex": null,
            "_model_name": "LayoutModel",
            "justify_items": null,
            "grid_row": null,
            "max_height": null,
            "align_content": null,
            "visibility": null,
            "align_self": null,
            "height": null,
            "min_height": null,
            "padding": null,
            "grid_auto_rows": null,
            "grid_gap": null,
            "max_width": null,
            "order": null,
            "_view_module_version": "1.2.0",
            "grid_template_areas": null,
            "object_position": null,
            "object_fit": null,
            "grid_auto_columns": null,
            "margin": null,
            "display": null,
            "left": null
          }
        },
        "fa4c2138e5ec42bbb01e31f33f3b2860": {
          "model_module": "@jupyter-widgets/controls",
          "model_name": "HBoxModel",
          "model_module_version": "1.5.0",
          "state": {
            "_view_name": "HBoxView",
            "_dom_classes": [],
            "_model_name": "HBoxModel",
            "_view_module": "@jupyter-widgets/controls",
            "_model_module_version": "1.5.0",
            "_view_count": null,
            "_view_module_version": "1.5.0",
            "box_style": "",
            "layout": "IPY_MODEL_a1d1f247d87f41339571c468a4b8ce91",
            "_model_module": "@jupyter-widgets/controls",
            "children": [
              "IPY_MODEL_25bbcd2e0eef4e1ab7f4942efe35f249",
              "IPY_MODEL_ea1489a7b161429db110072956ccf39f",
              "IPY_MODEL_be625454afb84916b15c9c047436f3db"
            ]
          }
        },
        "a1d1f247d87f41339571c468a4b8ce91": {
          "model_module": "@jupyter-widgets/base",
          "model_name": "LayoutModel",
          "model_module_version": "1.2.0",
          "state": {
            "_view_name": "LayoutView",
            "grid_template_rows": null,
            "right": null,
            "justify_content": null,
            "_view_module": "@jupyter-widgets/base",
            "overflow": null,
            "_model_module_version": "1.2.0",
            "_view_count": null,
            "flex_flow": null,
            "width": null,
            "min_width": null,
            "border": null,
            "align_items": null,
            "bottom": null,
            "_model_module": "@jupyter-widgets/base",
            "top": null,
            "grid_column": null,
            "overflow_y": null,
            "overflow_x": null,
            "grid_auto_flow": null,
            "grid_area": null,
            "grid_template_columns": null,
            "flex": null,
            "_model_name": "LayoutModel",
            "justify_items": null,
            "grid_row": null,
            "max_height": null,
            "align_content": null,
            "visibility": null,
            "align_self": null,
            "height": null,
            "min_height": null,
            "padding": null,
            "grid_auto_rows": null,
            "grid_gap": null,
            "max_width": null,
            "order": null,
            "_view_module_version": "1.2.0",
            "grid_template_areas": null,
            "object_position": null,
            "object_fit": null,
            "grid_auto_columns": null,
            "margin": null,
            "display": null,
            "left": null
          }
        },
        "25bbcd2e0eef4e1ab7f4942efe35f249": {
          "model_module": "@jupyter-widgets/controls",
          "model_name": "HTMLModel",
          "model_module_version": "1.5.0",
          "state": {
            "_view_name": "HTMLView",
            "style": "IPY_MODEL_95a7ce3393194352a2ef5f5370aece7a",
            "_dom_classes": [],
            "description": "",
            "_model_name": "HTMLModel",
            "placeholder": "​",
            "_view_module": "@jupyter-widgets/controls",
            "_model_module_version": "1.5.0",
            "value": "Downloading: 100%",
            "_view_count": null,
            "_view_module_version": "1.5.0",
            "description_tooltip": null,
            "_model_module": "@jupyter-widgets/controls",
            "layout": "IPY_MODEL_0a07ead49a0848a38189f2d114999224"
          }
        },
        "ea1489a7b161429db110072956ccf39f": {
          "model_module": "@jupyter-widgets/controls",
          "model_name": "FloatProgressModel",
          "model_module_version": "1.5.0",
          "state": {
            "_view_name": "ProgressView",
            "style": "IPY_MODEL_c8f8d62e38a24fed8ba20d862bbfe75d",
            "_dom_classes": [],
            "description": "",
            "_model_name": "FloatProgressModel",
            "bar_style": "success",
            "max": 439803023,
            "_view_module": "@jupyter-widgets/controls",
            "_model_module_version": "1.5.0",
            "value": 439803023,
            "_view_count": null,
            "_view_module_version": "1.5.0",
            "orientation": "horizontal",
            "min": 0,
            "description_tooltip": null,
            "_model_module": "@jupyter-widgets/controls",
            "layout": "IPY_MODEL_9325262cec6b4b5b91099ef4c5d76e3c"
          }
        },
        "be625454afb84916b15c9c047436f3db": {
          "model_module": "@jupyter-widgets/controls",
          "model_name": "HTMLModel",
          "model_module_version": "1.5.0",
          "state": {
            "_view_name": "HTMLView",
            "style": "IPY_MODEL_5525fa224f9d4f3c98ff2374eae0fe3e",
            "_dom_classes": [],
            "description": "",
            "_model_name": "HTMLModel",
            "placeholder": "​",
            "_view_module": "@jupyter-widgets/controls",
            "_model_module_version": "1.5.0",
            "value": " 440M/440M [00:07&lt;00:00, 63.3MB/s]",
            "_view_count": null,
            "_view_module_version": "1.5.0",
            "description_tooltip": null,
            "_model_module": "@jupyter-widgets/controls",
            "layout": "IPY_MODEL_7ac60f4abdf4445f82fd90205bc80f33"
          }
        },
        "95a7ce3393194352a2ef5f5370aece7a": {
          "model_module": "@jupyter-widgets/controls",
          "model_name": "DescriptionStyleModel",
          "model_module_version": "1.5.0",
          "state": {
            "_view_name": "StyleView",
            "_model_name": "DescriptionStyleModel",
            "description_width": "",
            "_view_module": "@jupyter-widgets/base",
            "_model_module_version": "1.5.0",
            "_view_count": null,
            "_view_module_version": "1.2.0",
            "_model_module": "@jupyter-widgets/controls"
          }
        },
        "0a07ead49a0848a38189f2d114999224": {
          "model_module": "@jupyter-widgets/base",
          "model_name": "LayoutModel",
          "model_module_version": "1.2.0",
          "state": {
            "_view_name": "LayoutView",
            "grid_template_rows": null,
            "right": null,
            "justify_content": null,
            "_view_module": "@jupyter-widgets/base",
            "overflow": null,
            "_model_module_version": "1.2.0",
            "_view_count": null,
            "flex_flow": null,
            "width": null,
            "min_width": null,
            "border": null,
            "align_items": null,
            "bottom": null,
            "_model_module": "@jupyter-widgets/base",
            "top": null,
            "grid_column": null,
            "overflow_y": null,
            "overflow_x": null,
            "grid_auto_flow": null,
            "grid_area": null,
            "grid_template_columns": null,
            "flex": null,
            "_model_name": "LayoutModel",
            "justify_items": null,
            "grid_row": null,
            "max_height": null,
            "align_content": null,
            "visibility": null,
            "align_self": null,
            "height": null,
            "min_height": null,
            "padding": null,
            "grid_auto_rows": null,
            "grid_gap": null,
            "max_width": null,
            "order": null,
            "_view_module_version": "1.2.0",
            "grid_template_areas": null,
            "object_position": null,
            "object_fit": null,
            "grid_auto_columns": null,
            "margin": null,
            "display": null,
            "left": null
          }
        },
        "c8f8d62e38a24fed8ba20d862bbfe75d": {
          "model_module": "@jupyter-widgets/controls",
          "model_name": "ProgressStyleModel",
          "model_module_version": "1.5.0",
          "state": {
            "_view_name": "StyleView",
            "_model_name": "ProgressStyleModel",
            "description_width": "",
            "_view_module": "@jupyter-widgets/base",
            "_model_module_version": "1.5.0",
            "_view_count": null,
            "_view_module_version": "1.2.0",
            "bar_color": null,
            "_model_module": "@jupyter-widgets/controls"
          }
        },
        "9325262cec6b4b5b91099ef4c5d76e3c": {
          "model_module": "@jupyter-widgets/base",
          "model_name": "LayoutModel",
          "model_module_version": "1.2.0",
          "state": {
            "_view_name": "LayoutView",
            "grid_template_rows": null,
            "right": null,
            "justify_content": null,
            "_view_module": "@jupyter-widgets/base",
            "overflow": null,
            "_model_module_version": "1.2.0",
            "_view_count": null,
            "flex_flow": null,
            "width": null,
            "min_width": null,
            "border": null,
            "align_items": null,
            "bottom": null,
            "_model_module": "@jupyter-widgets/base",
            "top": null,
            "grid_column": null,
            "overflow_y": null,
            "overflow_x": null,
            "grid_auto_flow": null,
            "grid_area": null,
            "grid_template_columns": null,
            "flex": null,
            "_model_name": "LayoutModel",
            "justify_items": null,
            "grid_row": null,
            "max_height": null,
            "align_content": null,
            "visibility": null,
            "align_self": null,
            "height": null,
            "min_height": null,
            "padding": null,
            "grid_auto_rows": null,
            "grid_gap": null,
            "max_width": null,
            "order": null,
            "_view_module_version": "1.2.0",
            "grid_template_areas": null,
            "object_position": null,
            "object_fit": null,
            "grid_auto_columns": null,
            "margin": null,
            "display": null,
            "left": null
          }
        },
        "5525fa224f9d4f3c98ff2374eae0fe3e": {
          "model_module": "@jupyter-widgets/controls",
          "model_name": "DescriptionStyleModel",
          "model_module_version": "1.5.0",
          "state": {
            "_view_name": "StyleView",
            "_model_name": "DescriptionStyleModel",
            "description_width": "",
            "_view_module": "@jupyter-widgets/base",
            "_model_module_version": "1.5.0",
            "_view_count": null,
            "_view_module_version": "1.2.0",
            "_model_module": "@jupyter-widgets/controls"
          }
        },
        "7ac60f4abdf4445f82fd90205bc80f33": {
          "model_module": "@jupyter-widgets/base",
          "model_name": "LayoutModel",
          "model_module_version": "1.2.0",
          "state": {
            "_view_name": "LayoutView",
            "grid_template_rows": null,
            "right": null,
            "justify_content": null,
            "_view_module": "@jupyter-widgets/base",
            "overflow": null,
            "_model_module_version": "1.2.0",
            "_view_count": null,
            "flex_flow": null,
            "width": null,
            "min_width": null,
            "border": null,
            "align_items": null,
            "bottom": null,
            "_model_module": "@jupyter-widgets/base",
            "top": null,
            "grid_column": null,
            "overflow_y": null,
            "overflow_x": null,
            "grid_auto_flow": null,
            "grid_area": null,
            "grid_template_columns": null,
            "flex": null,
            "_model_name": "LayoutModel",
            "justify_items": null,
            "grid_row": null,
            "max_height": null,
            "align_content": null,
            "visibility": null,
            "align_self": null,
            "height": null,
            "min_height": null,
            "padding": null,
            "grid_auto_rows": null,
            "grid_gap": null,
            "max_width": null,
            "order": null,
            "_view_module_version": "1.2.0",
            "grid_template_areas": null,
            "object_position": null,
            "object_fit": null,
            "grid_auto_columns": null,
            "margin": null,
            "display": null,
            "left": null
          }
        },
        "d94a82f513054076a9a7b28f981d76ba": {
          "model_module": "@jupyter-widgets/controls",
          "model_name": "HBoxModel",
          "model_module_version": "1.5.0",
          "state": {
            "_view_name": "HBoxView",
            "_dom_classes": [],
            "_model_name": "HBoxModel",
            "_view_module": "@jupyter-widgets/controls",
            "_model_module_version": "1.5.0",
            "_view_count": null,
            "_view_module_version": "1.5.0",
            "box_style": "",
            "layout": "IPY_MODEL_aec738c68f62414bb8d7b7bdc4af9b55",
            "_model_module": "@jupyter-widgets/controls",
            "children": [
              "IPY_MODEL_3c3ee25ac2e7454189d59604cf7910f8",
              "IPY_MODEL_65a78033cbfe4f20b29c445d3f77c54d",
              "IPY_MODEL_38288bd1e1c548f3890c27b75ded023d"
            ]
          }
        },
        "aec738c68f62414bb8d7b7bdc4af9b55": {
          "model_module": "@jupyter-widgets/base",
          "model_name": "LayoutModel",
          "model_module_version": "1.2.0",
          "state": {
            "_view_name": "LayoutView",
            "grid_template_rows": null,
            "right": null,
            "justify_content": null,
            "_view_module": "@jupyter-widgets/base",
            "overflow": null,
            "_model_module_version": "1.2.0",
            "_view_count": null,
            "flex_flow": "row wrap",
            "width": "100%",
            "min_width": null,
            "border": null,
            "align_items": null,
            "bottom": null,
            "_model_module": "@jupyter-widgets/base",
            "top": null,
            "grid_column": null,
            "overflow_y": null,
            "overflow_x": null,
            "grid_auto_flow": null,
            "grid_area": null,
            "grid_template_columns": null,
            "flex": null,
            "_model_name": "LayoutModel",
            "justify_items": null,
            "grid_row": null,
            "max_height": null,
            "align_content": null,
            "visibility": null,
            "align_self": null,
            "height": null,
            "min_height": null,
            "padding": null,
            "grid_auto_rows": null,
            "grid_gap": null,
            "max_width": null,
            "order": null,
            "_view_module_version": "1.2.0",
            "grid_template_areas": null,
            "object_position": null,
            "object_fit": null,
            "grid_auto_columns": null,
            "margin": null,
            "display": "inline-flex",
            "left": null
          }
        },
        "3c3ee25ac2e7454189d59604cf7910f8": {
          "model_module": "@jupyter-widgets/controls",
          "model_name": "HTMLModel",
          "model_module_version": "1.5.0",
          "state": {
            "_view_name": "HTMLView",
            "style": "IPY_MODEL_91c9ba0270924c4597c59a9e7bd8e310",
            "_dom_classes": [],
            "description": "",
            "_model_name": "HTMLModel",
            "placeholder": "​",
            "_view_module": "@jupyter-widgets/controls",
            "_model_module_version": "1.5.0",
            "value": "Validation sanity check:   0%",
            "_view_count": null,
            "_view_module_version": "1.5.0",
            "description_tooltip": null,
            "_model_module": "@jupyter-widgets/controls",
            "layout": "IPY_MODEL_e9c2eb0ba0e04756819d8794ebd713d8"
          }
        },
        "65a78033cbfe4f20b29c445d3f77c54d": {
          "model_module": "@jupyter-widgets/controls",
          "model_name": "FloatProgressModel",
          "model_module_version": "1.5.0",
          "state": {
            "_view_name": "ProgressView",
            "style": "IPY_MODEL_68a1f0eb6d7c472dbfec2a6b605eccad",
            "_dom_classes": [],
            "description": "",
            "_model_name": "FloatProgressModel",
            "bar_style": "danger",
            "max": 2,
            "_view_module": "@jupyter-widgets/controls",
            "_model_module_version": "1.5.0",
            "value": 0,
            "_view_count": null,
            "_view_module_version": "1.5.0",
            "orientation": "horizontal",
            "min": 0,
            "description_tooltip": null,
            "_model_module": "@jupyter-widgets/controls",
            "layout": "IPY_MODEL_86bbfea854db4d1ab57b49d2deb4c5e6"
          }
        },
        "38288bd1e1c548f3890c27b75ded023d": {
          "model_module": "@jupyter-widgets/controls",
          "model_name": "HTMLModel",
          "model_module_version": "1.5.0",
          "state": {
            "_view_name": "HTMLView",
            "style": "IPY_MODEL_f1b0f8ce683747a8b6e3e4cf1c96f4ce",
            "_dom_classes": [],
            "description": "",
            "_model_name": "HTMLModel",
            "placeholder": "​",
            "_view_module": "@jupyter-widgets/controls",
            "_model_module_version": "1.5.0",
            "value": " 0/2 [00:00&lt;?, ?it/s]",
            "_view_count": null,
            "_view_module_version": "1.5.0",
            "description_tooltip": null,
            "_model_module": "@jupyter-widgets/controls",
            "layout": "IPY_MODEL_e4d6c6a5942a4cfcb81ab0426419ad17"
          }
        },
        "91c9ba0270924c4597c59a9e7bd8e310": {
          "model_module": "@jupyter-widgets/controls",
          "model_name": "DescriptionStyleModel",
          "model_module_version": "1.5.0",
          "state": {
            "_view_name": "StyleView",
            "_model_name": "DescriptionStyleModel",
            "description_width": "",
            "_view_module": "@jupyter-widgets/base",
            "_model_module_version": "1.5.0",
            "_view_count": null,
            "_view_module_version": "1.2.0",
            "_model_module": "@jupyter-widgets/controls"
          }
        },
        "e9c2eb0ba0e04756819d8794ebd713d8": {
          "model_module": "@jupyter-widgets/base",
          "model_name": "LayoutModel",
          "model_module_version": "1.2.0",
          "state": {
            "_view_name": "LayoutView",
            "grid_template_rows": null,
            "right": null,
            "justify_content": null,
            "_view_module": "@jupyter-widgets/base",
            "overflow": null,
            "_model_module_version": "1.2.0",
            "_view_count": null,
            "flex_flow": null,
            "width": null,
            "min_width": null,
            "border": null,
            "align_items": null,
            "bottom": null,
            "_model_module": "@jupyter-widgets/base",
            "top": null,
            "grid_column": null,
            "overflow_y": null,
            "overflow_x": null,
            "grid_auto_flow": null,
            "grid_area": null,
            "grid_template_columns": null,
            "flex": null,
            "_model_name": "LayoutModel",
            "justify_items": null,
            "grid_row": null,
            "max_height": null,
            "align_content": null,
            "visibility": null,
            "align_self": null,
            "height": null,
            "min_height": null,
            "padding": null,
            "grid_auto_rows": null,
            "grid_gap": null,
            "max_width": null,
            "order": null,
            "_view_module_version": "1.2.0",
            "grid_template_areas": null,
            "object_position": null,
            "object_fit": null,
            "grid_auto_columns": null,
            "margin": null,
            "display": null,
            "left": null
          }
        },
        "68a1f0eb6d7c472dbfec2a6b605eccad": {
          "model_module": "@jupyter-widgets/controls",
          "model_name": "ProgressStyleModel",
          "model_module_version": "1.5.0",
          "state": {
            "_view_name": "StyleView",
            "_model_name": "ProgressStyleModel",
            "description_width": "",
            "_view_module": "@jupyter-widgets/base",
            "_model_module_version": "1.5.0",
            "_view_count": null,
            "_view_module_version": "1.2.0",
            "bar_color": null,
            "_model_module": "@jupyter-widgets/controls"
          }
        },
        "86bbfea854db4d1ab57b49d2deb4c5e6": {
          "model_module": "@jupyter-widgets/base",
          "model_name": "LayoutModel",
          "model_module_version": "1.2.0",
          "state": {
            "_view_name": "LayoutView",
            "grid_template_rows": null,
            "right": null,
            "justify_content": null,
            "_view_module": "@jupyter-widgets/base",
            "overflow": null,
            "_model_module_version": "1.2.0",
            "_view_count": null,
            "flex_flow": null,
            "width": null,
            "min_width": null,
            "border": null,
            "align_items": null,
            "bottom": null,
            "_model_module": "@jupyter-widgets/base",
            "top": null,
            "grid_column": null,
            "overflow_y": null,
            "overflow_x": null,
            "grid_auto_flow": null,
            "grid_area": null,
            "grid_template_columns": null,
            "flex": "2",
            "_model_name": "LayoutModel",
            "justify_items": null,
            "grid_row": null,
            "max_height": null,
            "align_content": null,
            "visibility": null,
            "align_self": null,
            "height": null,
            "min_height": null,
            "padding": null,
            "grid_auto_rows": null,
            "grid_gap": null,
            "max_width": null,
            "order": null,
            "_view_module_version": "1.2.0",
            "grid_template_areas": null,
            "object_position": null,
            "object_fit": null,
            "grid_auto_columns": null,
            "margin": null,
            "display": null,
            "left": null
          }
        },
        "f1b0f8ce683747a8b6e3e4cf1c96f4ce": {
          "model_module": "@jupyter-widgets/controls",
          "model_name": "DescriptionStyleModel",
          "model_module_version": "1.5.0",
          "state": {
            "_view_name": "StyleView",
            "_model_name": "DescriptionStyleModel",
            "description_width": "",
            "_view_module": "@jupyter-widgets/base",
            "_model_module_version": "1.5.0",
            "_view_count": null,
            "_view_module_version": "1.2.0",
            "_model_module": "@jupyter-widgets/controls"
          }
        },
        "e4d6c6a5942a4cfcb81ab0426419ad17": {
          "model_module": "@jupyter-widgets/base",
          "model_name": "LayoutModel",
          "model_module_version": "1.2.0",
          "state": {
            "_view_name": "LayoutView",
            "grid_template_rows": null,
            "right": null,
            "justify_content": null,
            "_view_module": "@jupyter-widgets/base",
            "overflow": null,
            "_model_module_version": "1.2.0",
            "_view_count": null,
            "flex_flow": null,
            "width": null,
            "min_width": null,
            "border": null,
            "align_items": null,
            "bottom": null,
            "_model_module": "@jupyter-widgets/base",
            "top": null,
            "grid_column": null,
            "overflow_y": null,
            "overflow_x": null,
            "grid_auto_flow": null,
            "grid_area": null,
            "grid_template_columns": null,
            "flex": null,
            "_model_name": "LayoutModel",
            "justify_items": null,
            "grid_row": null,
            "max_height": null,
            "align_content": null,
            "visibility": null,
            "align_self": null,
            "height": null,
            "min_height": null,
            "padding": null,
            "grid_auto_rows": null,
            "grid_gap": null,
            "max_width": null,
            "order": null,
            "_view_module_version": "1.2.0",
            "grid_template_areas": null,
            "object_position": null,
            "object_fit": null,
            "grid_auto_columns": null,
            "margin": null,
            "display": null,
            "left": null
          }
        },
        "861eefb2dac34074971668214ca01a46": {
          "model_module": "@jupyter-widgets/controls",
          "model_name": "HBoxModel",
          "model_module_version": "1.5.0",
          "state": {
            "_view_name": "HBoxView",
            "_dom_classes": [],
            "_model_name": "HBoxModel",
            "_view_module": "@jupyter-widgets/controls",
            "_model_module_version": "1.5.0",
            "_view_count": null,
            "_view_module_version": "1.5.0",
            "box_style": "",
            "layout": "IPY_MODEL_70e1f7de29db46419b8ba22499b798bb",
            "_model_module": "@jupyter-widgets/controls",
            "children": [
              "IPY_MODEL_13cfc090826c47dd8ddff34629f7cd1c",
              "IPY_MODEL_e33c5ec370f84b239b00b810ca1116ae",
              "IPY_MODEL_0f642fc2f7114c39977ebec7f425b6cc"
            ]
          }
        },
        "70e1f7de29db46419b8ba22499b798bb": {
          "model_module": "@jupyter-widgets/base",
          "model_name": "LayoutModel",
          "model_module_version": "1.2.0",
          "state": {
            "_view_name": "LayoutView",
            "grid_template_rows": null,
            "right": null,
            "justify_content": null,
            "_view_module": "@jupyter-widgets/base",
            "overflow": null,
            "_model_module_version": "1.2.0",
            "_view_count": null,
            "flex_flow": "row wrap",
            "width": "100%",
            "min_width": null,
            "border": null,
            "align_items": null,
            "bottom": null,
            "_model_module": "@jupyter-widgets/base",
            "top": null,
            "grid_column": null,
            "overflow_y": null,
            "overflow_x": null,
            "grid_auto_flow": null,
            "grid_area": null,
            "grid_template_columns": null,
            "flex": null,
            "_model_name": "LayoutModel",
            "justify_items": null,
            "grid_row": null,
            "max_height": null,
            "align_content": null,
            "visibility": null,
            "align_self": null,
            "height": null,
            "min_height": null,
            "padding": null,
            "grid_auto_rows": null,
            "grid_gap": null,
            "max_width": null,
            "order": null,
            "_view_module_version": "1.2.0",
            "grid_template_areas": null,
            "object_position": null,
            "object_fit": null,
            "grid_auto_columns": null,
            "margin": null,
            "display": "inline-flex",
            "left": null
          }
        },
        "13cfc090826c47dd8ddff34629f7cd1c": {
          "model_module": "@jupyter-widgets/controls",
          "model_name": "HTMLModel",
          "model_module_version": "1.5.0",
          "state": {
            "_view_name": "HTMLView",
            "style": "IPY_MODEL_ae929f722f1d4cd1822a15a4f47b3cdb",
            "_dom_classes": [],
            "description": "",
            "_model_name": "HTMLModel",
            "placeholder": "​",
            "_view_module": "@jupyter-widgets/controls",
            "_model_module_version": "1.5.0",
            "value": "Epoch 5: 100%",
            "_view_count": null,
            "_view_module_version": "1.5.0",
            "description_tooltip": null,
            "_model_module": "@jupyter-widgets/controls",
            "layout": "IPY_MODEL_a841bcb62a8e4b57b92884801da1290c"
          }
        },
        "e33c5ec370f84b239b00b810ca1116ae": {
          "model_module": "@jupyter-widgets/controls",
          "model_name": "FloatProgressModel",
          "model_module_version": "1.5.0",
          "state": {
            "_view_name": "ProgressView",
            "style": "IPY_MODEL_9ae381f89d1b40afb2fc7dc57e03cb4b",
            "_dom_classes": [],
            "description": "",
            "_model_name": "FloatProgressModel",
            "bar_style": "success",
            "max": 8541,
            "_view_module": "@jupyter-widgets/controls",
            "_model_module_version": "1.5.0",
            "value": 8541,
            "_view_count": null,
            "_view_module_version": "1.5.0",
            "orientation": "horizontal",
            "min": 0,
            "description_tooltip": null,
            "_model_module": "@jupyter-widgets/controls",
            "layout": "IPY_MODEL_8f181552144e4f34abe545ad754e9c27"
          }
        },
        "0f642fc2f7114c39977ebec7f425b6cc": {
          "model_module": "@jupyter-widgets/controls",
          "model_name": "HTMLModel",
          "model_module_version": "1.5.0",
          "state": {
            "_view_name": "HTMLView",
            "style": "IPY_MODEL_56670e88eeed4e218ff5368fd0a37adf",
            "_dom_classes": [],
            "description": "",
            "_model_name": "HTMLModel",
            "placeholder": "​",
            "_view_module": "@jupyter-widgets/controls",
            "_model_module_version": "1.5.0",
            "value": " 8541/8541 [1:01:34&lt;00:00,  2.31it/s, loss=0.0976, v_num=1, train_loss=0.0513, val_loss=0.396]",
            "_view_count": null,
            "_view_module_version": "1.5.0",
            "description_tooltip": null,
            "_model_module": "@jupyter-widgets/controls",
            "layout": "IPY_MODEL_acfa6e7afefd46d9a352c927581428e4"
          }
        },
        "ae929f722f1d4cd1822a15a4f47b3cdb": {
          "model_module": "@jupyter-widgets/controls",
          "model_name": "DescriptionStyleModel",
          "model_module_version": "1.5.0",
          "state": {
            "_view_name": "StyleView",
            "_model_name": "DescriptionStyleModel",
            "description_width": "",
            "_view_module": "@jupyter-widgets/base",
            "_model_module_version": "1.5.0",
            "_view_count": null,
            "_view_module_version": "1.2.0",
            "_model_module": "@jupyter-widgets/controls"
          }
        },
        "a841bcb62a8e4b57b92884801da1290c": {
          "model_module": "@jupyter-widgets/base",
          "model_name": "LayoutModel",
          "model_module_version": "1.2.0",
          "state": {
            "_view_name": "LayoutView",
            "grid_template_rows": null,
            "right": null,
            "justify_content": null,
            "_view_module": "@jupyter-widgets/base",
            "overflow": null,
            "_model_module_version": "1.2.0",
            "_view_count": null,
            "flex_flow": null,
            "width": null,
            "min_width": null,
            "border": null,
            "align_items": null,
            "bottom": null,
            "_model_module": "@jupyter-widgets/base",
            "top": null,
            "grid_column": null,
            "overflow_y": null,
            "overflow_x": null,
            "grid_auto_flow": null,
            "grid_area": null,
            "grid_template_columns": null,
            "flex": null,
            "_model_name": "LayoutModel",
            "justify_items": null,
            "grid_row": null,
            "max_height": null,
            "align_content": null,
            "visibility": null,
            "align_self": null,
            "height": null,
            "min_height": null,
            "padding": null,
            "grid_auto_rows": null,
            "grid_gap": null,
            "max_width": null,
            "order": null,
            "_view_module_version": "1.2.0",
            "grid_template_areas": null,
            "object_position": null,
            "object_fit": null,
            "grid_auto_columns": null,
            "margin": null,
            "display": null,
            "left": null
          }
        },
        "9ae381f89d1b40afb2fc7dc57e03cb4b": {
          "model_module": "@jupyter-widgets/controls",
          "model_name": "ProgressStyleModel",
          "model_module_version": "1.5.0",
          "state": {
            "_view_name": "StyleView",
            "_model_name": "ProgressStyleModel",
            "description_width": "",
            "_view_module": "@jupyter-widgets/base",
            "_model_module_version": "1.5.0",
            "_view_count": null,
            "_view_module_version": "1.2.0",
            "bar_color": null,
            "_model_module": "@jupyter-widgets/controls"
          }
        },
        "8f181552144e4f34abe545ad754e9c27": {
          "model_module": "@jupyter-widgets/base",
          "model_name": "LayoutModel",
          "model_module_version": "1.2.0",
          "state": {
            "_view_name": "LayoutView",
            "grid_template_rows": null,
            "right": null,
            "justify_content": null,
            "_view_module": "@jupyter-widgets/base",
            "overflow": null,
            "_model_module_version": "1.2.0",
            "_view_count": null,
            "flex_flow": null,
            "width": null,
            "min_width": null,
            "border": null,
            "align_items": null,
            "bottom": null,
            "_model_module": "@jupyter-widgets/base",
            "top": null,
            "grid_column": null,
            "overflow_y": null,
            "overflow_x": null,
            "grid_auto_flow": null,
            "grid_area": null,
            "grid_template_columns": null,
            "flex": "2",
            "_model_name": "LayoutModel",
            "justify_items": null,
            "grid_row": null,
            "max_height": null,
            "align_content": null,
            "visibility": null,
            "align_self": null,
            "height": null,
            "min_height": null,
            "padding": null,
            "grid_auto_rows": null,
            "grid_gap": null,
            "max_width": null,
            "order": null,
            "_view_module_version": "1.2.0",
            "grid_template_areas": null,
            "object_position": null,
            "object_fit": null,
            "grid_auto_columns": null,
            "margin": null,
            "display": null,
            "left": null
          }
        },
        "56670e88eeed4e218ff5368fd0a37adf": {
          "model_module": "@jupyter-widgets/controls",
          "model_name": "DescriptionStyleModel",
          "model_module_version": "1.5.0",
          "state": {
            "_view_name": "StyleView",
            "_model_name": "DescriptionStyleModel",
            "description_width": "",
            "_view_module": "@jupyter-widgets/base",
            "_model_module_version": "1.5.0",
            "_view_count": null,
            "_view_module_version": "1.2.0",
            "_model_module": "@jupyter-widgets/controls"
          }
        },
        "acfa6e7afefd46d9a352c927581428e4": {
          "model_module": "@jupyter-widgets/base",
          "model_name": "LayoutModel",
          "model_module_version": "1.2.0",
          "state": {
            "_view_name": "LayoutView",
            "grid_template_rows": null,
            "right": null,
            "justify_content": null,
            "_view_module": "@jupyter-widgets/base",
            "overflow": null,
            "_model_module_version": "1.2.0",
            "_view_count": null,
            "flex_flow": null,
            "width": null,
            "min_width": null,
            "border": null,
            "align_items": null,
            "bottom": null,
            "_model_module": "@jupyter-widgets/base",
            "top": null,
            "grid_column": null,
            "overflow_y": null,
            "overflow_x": null,
            "grid_auto_flow": null,
            "grid_area": null,
            "grid_template_columns": null,
            "flex": null,
            "_model_name": "LayoutModel",
            "justify_items": null,
            "grid_row": null,
            "max_height": null,
            "align_content": null,
            "visibility": null,
            "align_self": null,
            "height": null,
            "min_height": null,
            "padding": null,
            "grid_auto_rows": null,
            "grid_gap": null,
            "max_width": null,
            "order": null,
            "_view_module_version": "1.2.0",
            "grid_template_areas": null,
            "object_position": null,
            "object_fit": null,
            "grid_auto_columns": null,
            "margin": null,
            "display": null,
            "left": null
          }
        },
        "27521ca5bff442afa53182672a81944c": {
          "model_module": "@jupyter-widgets/controls",
          "model_name": "HBoxModel",
          "model_module_version": "1.5.0",
          "state": {
            "_view_name": "HBoxView",
            "_dom_classes": [],
            "_model_name": "HBoxModel",
            "_view_module": "@jupyter-widgets/controls",
            "_model_module_version": "1.5.0",
            "_view_count": null,
            "_view_module_version": "1.5.0",
            "box_style": "",
            "layout": "IPY_MODEL_37f8851a20c14e75be7b971b817c2e7f",
            "_model_module": "@jupyter-widgets/controls",
            "children": [
              "IPY_MODEL_f164e55949104f4888a6a4b6946b8a51",
              "IPY_MODEL_d67f00e31b5e434ab63f1d7fcada31b6",
              "IPY_MODEL_903ece911b2b4ca2b846e0fb28a127ff"
            ]
          }
        },
        "37f8851a20c14e75be7b971b817c2e7f": {
          "model_module": "@jupyter-widgets/base",
          "model_name": "LayoutModel",
          "model_module_version": "1.2.0",
          "state": {
            "_view_name": "LayoutView",
            "grid_template_rows": null,
            "right": null,
            "justify_content": null,
            "_view_module": "@jupyter-widgets/base",
            "overflow": null,
            "_model_module_version": "1.2.0",
            "_view_count": null,
            "flex_flow": "row wrap",
            "width": "100%",
            "min_width": null,
            "border": null,
            "align_items": null,
            "bottom": null,
            "_model_module": "@jupyter-widgets/base",
            "top": null,
            "grid_column": null,
            "overflow_y": null,
            "overflow_x": null,
            "grid_auto_flow": null,
            "grid_area": null,
            "grid_template_columns": null,
            "flex": null,
            "_model_name": "LayoutModel",
            "justify_items": null,
            "grid_row": null,
            "max_height": null,
            "align_content": null,
            "visibility": null,
            "align_self": null,
            "height": null,
            "min_height": null,
            "padding": null,
            "grid_auto_rows": null,
            "grid_gap": null,
            "max_width": null,
            "order": null,
            "_view_module_version": "1.2.0",
            "grid_template_areas": null,
            "object_position": null,
            "object_fit": null,
            "grid_auto_columns": null,
            "margin": null,
            "display": "inline-flex",
            "left": null
          }
        },
        "f164e55949104f4888a6a4b6946b8a51": {
          "model_module": "@jupyter-widgets/controls",
          "model_name": "HTMLModel",
          "model_module_version": "1.5.0",
          "state": {
            "_view_name": "HTMLView",
            "style": "IPY_MODEL_195e1b65b4994b76987fa6d4a3c4bd7f",
            "_dom_classes": [],
            "description": "",
            "_model_name": "HTMLModel",
            "placeholder": "​",
            "_view_module": "@jupyter-widgets/controls",
            "_model_module_version": "1.5.0",
            "value": "Validating: 100%",
            "_view_count": null,
            "_view_module_version": "1.5.0",
            "description_tooltip": null,
            "_model_module": "@jupyter-widgets/controls",
            "layout": "IPY_MODEL_7d4598211bb24c4fb5bab071ced95947"
          }
        },
        "d67f00e31b5e434ab63f1d7fcada31b6": {
          "model_module": "@jupyter-widgets/controls",
          "model_name": "FloatProgressModel",
          "model_module_version": "1.5.0",
          "state": {
            "_view_name": "ProgressView",
            "style": "IPY_MODEL_19559af316814463a0282b4090454227",
            "_dom_classes": [],
            "description": "",
            "_model_name": "FloatProgressModel",
            "bar_style": "",
            "max": 856,
            "_view_module": "@jupyter-widgets/controls",
            "_model_module_version": "1.5.0",
            "value": 856,
            "_view_count": null,
            "_view_module_version": "1.5.0",
            "orientation": "horizontal",
            "min": 0,
            "description_tooltip": null,
            "_model_module": "@jupyter-widgets/controls",
            "layout": "IPY_MODEL_584ef41ee7764080abc2224478b145a5"
          }
        },
        "903ece911b2b4ca2b846e0fb28a127ff": {
          "model_module": "@jupyter-widgets/controls",
          "model_name": "HTMLModel",
          "model_module_version": "1.5.0",
          "state": {
            "_view_name": "HTMLView",
            "style": "IPY_MODEL_eda90d18cbc34add8c758a79fb343679",
            "_dom_classes": [],
            "description": "",
            "_model_name": "HTMLModel",
            "placeholder": "​",
            "_view_module": "@jupyter-widgets/controls",
            "_model_module_version": "1.5.0",
            "value": " 856/856 [02:12&lt;00:00,  6.43it/s]",
            "_view_count": null,
            "_view_module_version": "1.5.0",
            "description_tooltip": null,
            "_model_module": "@jupyter-widgets/controls",
            "layout": "IPY_MODEL_d82cec5f87cb47999a8eb371df70be5d"
          }
        },
        "195e1b65b4994b76987fa6d4a3c4bd7f": {
          "model_module": "@jupyter-widgets/controls",
          "model_name": "DescriptionStyleModel",
          "model_module_version": "1.5.0",
          "state": {
            "_view_name": "StyleView",
            "_model_name": "DescriptionStyleModel",
            "description_width": "",
            "_view_module": "@jupyter-widgets/base",
            "_model_module_version": "1.5.0",
            "_view_count": null,
            "_view_module_version": "1.2.0",
            "_model_module": "@jupyter-widgets/controls"
          }
        },
        "7d4598211bb24c4fb5bab071ced95947": {
          "model_module": "@jupyter-widgets/base",
          "model_name": "LayoutModel",
          "model_module_version": "1.2.0",
          "state": {
            "_view_name": "LayoutView",
            "grid_template_rows": null,
            "right": null,
            "justify_content": null,
            "_view_module": "@jupyter-widgets/base",
            "overflow": null,
            "_model_module_version": "1.2.0",
            "_view_count": null,
            "flex_flow": null,
            "width": null,
            "min_width": null,
            "border": null,
            "align_items": null,
            "bottom": null,
            "_model_module": "@jupyter-widgets/base",
            "top": null,
            "grid_column": null,
            "overflow_y": null,
            "overflow_x": null,
            "grid_auto_flow": null,
            "grid_area": null,
            "grid_template_columns": null,
            "flex": null,
            "_model_name": "LayoutModel",
            "justify_items": null,
            "grid_row": null,
            "max_height": null,
            "align_content": null,
            "visibility": null,
            "align_self": null,
            "height": null,
            "min_height": null,
            "padding": null,
            "grid_auto_rows": null,
            "grid_gap": null,
            "max_width": null,
            "order": null,
            "_view_module_version": "1.2.0",
            "grid_template_areas": null,
            "object_position": null,
            "object_fit": null,
            "grid_auto_columns": null,
            "margin": null,
            "display": null,
            "left": null
          }
        },
        "19559af316814463a0282b4090454227": {
          "model_module": "@jupyter-widgets/controls",
          "model_name": "ProgressStyleModel",
          "model_module_version": "1.5.0",
          "state": {
            "_view_name": "StyleView",
            "_model_name": "ProgressStyleModel",
            "description_width": "",
            "_view_module": "@jupyter-widgets/base",
            "_model_module_version": "1.5.0",
            "_view_count": null,
            "_view_module_version": "1.2.0",
            "bar_color": null,
            "_model_module": "@jupyter-widgets/controls"
          }
        },
        "584ef41ee7764080abc2224478b145a5": {
          "model_module": "@jupyter-widgets/base",
          "model_name": "LayoutModel",
          "model_module_version": "1.2.0",
          "state": {
            "_view_name": "LayoutView",
            "grid_template_rows": null,
            "right": null,
            "justify_content": null,
            "_view_module": "@jupyter-widgets/base",
            "overflow": null,
            "_model_module_version": "1.2.0",
            "_view_count": null,
            "flex_flow": null,
            "width": null,
            "min_width": null,
            "border": null,
            "align_items": null,
            "bottom": null,
            "_model_module": "@jupyter-widgets/base",
            "top": null,
            "grid_column": null,
            "overflow_y": null,
            "overflow_x": null,
            "grid_auto_flow": null,
            "grid_area": null,
            "grid_template_columns": null,
            "flex": "2",
            "_model_name": "LayoutModel",
            "justify_items": null,
            "grid_row": null,
            "max_height": null,
            "align_content": null,
            "visibility": null,
            "align_self": null,
            "height": null,
            "min_height": null,
            "padding": null,
            "grid_auto_rows": null,
            "grid_gap": null,
            "max_width": null,
            "order": null,
            "_view_module_version": "1.2.0",
            "grid_template_areas": null,
            "object_position": null,
            "object_fit": null,
            "grid_auto_columns": null,
            "margin": null,
            "display": null,
            "left": null
          }
        },
        "eda90d18cbc34add8c758a79fb343679": {
          "model_module": "@jupyter-widgets/controls",
          "model_name": "DescriptionStyleModel",
          "model_module_version": "1.5.0",
          "state": {
            "_view_name": "StyleView",
            "_model_name": "DescriptionStyleModel",
            "description_width": "",
            "_view_module": "@jupyter-widgets/base",
            "_model_module_version": "1.5.0",
            "_view_count": null,
            "_view_module_version": "1.2.0",
            "_model_module": "@jupyter-widgets/controls"
          }
        },
        "d82cec5f87cb47999a8eb371df70be5d": {
          "model_module": "@jupyter-widgets/base",
          "model_name": "LayoutModel",
          "model_module_version": "1.2.0",
          "state": {
            "_view_name": "LayoutView",
            "grid_template_rows": null,
            "right": null,
            "justify_content": null,
            "_view_module": "@jupyter-widgets/base",
            "overflow": null,
            "_model_module_version": "1.2.0",
            "_view_count": null,
            "flex_flow": null,
            "width": null,
            "min_width": null,
            "border": null,
            "align_items": null,
            "bottom": null,
            "_model_module": "@jupyter-widgets/base",
            "top": null,
            "grid_column": null,
            "overflow_y": null,
            "overflow_x": null,
            "grid_auto_flow": null,
            "grid_area": null,
            "grid_template_columns": null,
            "flex": null,
            "_model_name": "LayoutModel",
            "justify_items": null,
            "grid_row": null,
            "max_height": null,
            "align_content": null,
            "visibility": null,
            "align_self": null,
            "height": null,
            "min_height": null,
            "padding": null,
            "grid_auto_rows": null,
            "grid_gap": null,
            "max_width": null,
            "order": null,
            "_view_module_version": "1.2.0",
            "grid_template_areas": null,
            "object_position": null,
            "object_fit": null,
            "grid_auto_columns": null,
            "margin": null,
            "display": null,
            "left": null
          }
        },
        "f1b09ed5305049bfa783ee71bc9667af": {
          "model_module": "@jupyter-widgets/controls",
          "model_name": "HBoxModel",
          "model_module_version": "1.5.0",
          "state": {
            "_view_name": "HBoxView",
            "_dom_classes": [],
            "_model_name": "HBoxModel",
            "_view_module": "@jupyter-widgets/controls",
            "_model_module_version": "1.5.0",
            "_view_count": null,
            "_view_module_version": "1.5.0",
            "box_style": "",
            "layout": "IPY_MODEL_baa9ecea8306436986a161749eb9b040",
            "_model_module": "@jupyter-widgets/controls",
            "children": [
              "IPY_MODEL_53ec55b46abc4b20a941580d4eff06a2",
              "IPY_MODEL_ef9459db901242e8aca6c75e8b2834fb",
              "IPY_MODEL_e39fc23c653241f692cd8635861a14ff"
            ]
          }
        },
        "baa9ecea8306436986a161749eb9b040": {
          "model_module": "@jupyter-widgets/base",
          "model_name": "LayoutModel",
          "model_module_version": "1.2.0",
          "state": {
            "_view_name": "LayoutView",
            "grid_template_rows": null,
            "right": null,
            "justify_content": null,
            "_view_module": "@jupyter-widgets/base",
            "overflow": null,
            "_model_module_version": "1.2.0",
            "_view_count": null,
            "flex_flow": "row wrap",
            "width": "100%",
            "min_width": null,
            "border": null,
            "align_items": null,
            "bottom": null,
            "_model_module": "@jupyter-widgets/base",
            "top": null,
            "grid_column": null,
            "overflow_y": null,
            "overflow_x": null,
            "grid_auto_flow": null,
            "grid_area": null,
            "grid_template_columns": null,
            "flex": null,
            "_model_name": "LayoutModel",
            "justify_items": null,
            "grid_row": null,
            "max_height": null,
            "align_content": null,
            "visibility": null,
            "align_self": null,
            "height": null,
            "min_height": null,
            "padding": null,
            "grid_auto_rows": null,
            "grid_gap": null,
            "max_width": null,
            "order": null,
            "_view_module_version": "1.2.0",
            "grid_template_areas": null,
            "object_position": null,
            "object_fit": null,
            "grid_auto_columns": null,
            "margin": null,
            "display": "inline-flex",
            "left": null
          }
        },
        "53ec55b46abc4b20a941580d4eff06a2": {
          "model_module": "@jupyter-widgets/controls",
          "model_name": "HTMLModel",
          "model_module_version": "1.5.0",
          "state": {
            "_view_name": "HTMLView",
            "style": "IPY_MODEL_2bb36d5986b04833b19a3e9c369eb052",
            "_dom_classes": [],
            "description": "",
            "_model_name": "HTMLModel",
            "placeholder": "​",
            "_view_module": "@jupyter-widgets/controls",
            "_model_module_version": "1.5.0",
            "value": "Validating: 100%",
            "_view_count": null,
            "_view_module_version": "1.5.0",
            "description_tooltip": null,
            "_model_module": "@jupyter-widgets/controls",
            "layout": "IPY_MODEL_17081379ebd849c2aeecf29e52c645c3"
          }
        },
        "ef9459db901242e8aca6c75e8b2834fb": {
          "model_module": "@jupyter-widgets/controls",
          "model_name": "FloatProgressModel",
          "model_module_version": "1.5.0",
          "state": {
            "_view_name": "ProgressView",
            "style": "IPY_MODEL_b36c3eadad9f467294fbcd9b9920095b",
            "_dom_classes": [],
            "description": "",
            "_model_name": "FloatProgressModel",
            "bar_style": "",
            "max": 856,
            "_view_module": "@jupyter-widgets/controls",
            "_model_module_version": "1.5.0",
            "value": 856,
            "_view_count": null,
            "_view_module_version": "1.5.0",
            "orientation": "horizontal",
            "min": 0,
            "description_tooltip": null,
            "_model_module": "@jupyter-widgets/controls",
            "layout": "IPY_MODEL_2fcd434fcb224b548d55ae2d206541a2"
          }
        },
        "e39fc23c653241f692cd8635861a14ff": {
          "model_module": "@jupyter-widgets/controls",
          "model_name": "HTMLModel",
          "model_module_version": "1.5.0",
          "state": {
            "_view_name": "HTMLView",
            "style": "IPY_MODEL_c93e6990b7f34d22842b2e099d5665d0",
            "_dom_classes": [],
            "description": "",
            "_model_name": "HTMLModel",
            "placeholder": "​",
            "_view_module": "@jupyter-widgets/controls",
            "_model_module_version": "1.5.0",
            "value": " 856/856 [02:13&lt;00:00,  6.42it/s]",
            "_view_count": null,
            "_view_module_version": "1.5.0",
            "description_tooltip": null,
            "_model_module": "@jupyter-widgets/controls",
            "layout": "IPY_MODEL_8454518c140e49df9faab5b9522048f2"
          }
        },
        "2bb36d5986b04833b19a3e9c369eb052": {
          "model_module": "@jupyter-widgets/controls",
          "model_name": "DescriptionStyleModel",
          "model_module_version": "1.5.0",
          "state": {
            "_view_name": "StyleView",
            "_model_name": "DescriptionStyleModel",
            "description_width": "",
            "_view_module": "@jupyter-widgets/base",
            "_model_module_version": "1.5.0",
            "_view_count": null,
            "_view_module_version": "1.2.0",
            "_model_module": "@jupyter-widgets/controls"
          }
        },
        "17081379ebd849c2aeecf29e52c645c3": {
          "model_module": "@jupyter-widgets/base",
          "model_name": "LayoutModel",
          "model_module_version": "1.2.0",
          "state": {
            "_view_name": "LayoutView",
            "grid_template_rows": null,
            "right": null,
            "justify_content": null,
            "_view_module": "@jupyter-widgets/base",
            "overflow": null,
            "_model_module_version": "1.2.0",
            "_view_count": null,
            "flex_flow": null,
            "width": null,
            "min_width": null,
            "border": null,
            "align_items": null,
            "bottom": null,
            "_model_module": "@jupyter-widgets/base",
            "top": null,
            "grid_column": null,
            "overflow_y": null,
            "overflow_x": null,
            "grid_auto_flow": null,
            "grid_area": null,
            "grid_template_columns": null,
            "flex": null,
            "_model_name": "LayoutModel",
            "justify_items": null,
            "grid_row": null,
            "max_height": null,
            "align_content": null,
            "visibility": null,
            "align_self": null,
            "height": null,
            "min_height": null,
            "padding": null,
            "grid_auto_rows": null,
            "grid_gap": null,
            "max_width": null,
            "order": null,
            "_view_module_version": "1.2.0",
            "grid_template_areas": null,
            "object_position": null,
            "object_fit": null,
            "grid_auto_columns": null,
            "margin": null,
            "display": null,
            "left": null
          }
        },
        "b36c3eadad9f467294fbcd9b9920095b": {
          "model_module": "@jupyter-widgets/controls",
          "model_name": "ProgressStyleModel",
          "model_module_version": "1.5.0",
          "state": {
            "_view_name": "StyleView",
            "_model_name": "ProgressStyleModel",
            "description_width": "",
            "_view_module": "@jupyter-widgets/base",
            "_model_module_version": "1.5.0",
            "_view_count": null,
            "_view_module_version": "1.2.0",
            "bar_color": null,
            "_model_module": "@jupyter-widgets/controls"
          }
        },
        "2fcd434fcb224b548d55ae2d206541a2": {
          "model_module": "@jupyter-widgets/base",
          "model_name": "LayoutModel",
          "model_module_version": "1.2.0",
          "state": {
            "_view_name": "LayoutView",
            "grid_template_rows": null,
            "right": null,
            "justify_content": null,
            "_view_module": "@jupyter-widgets/base",
            "overflow": null,
            "_model_module_version": "1.2.0",
            "_view_count": null,
            "flex_flow": null,
            "width": null,
            "min_width": null,
            "border": null,
            "align_items": null,
            "bottom": null,
            "_model_module": "@jupyter-widgets/base",
            "top": null,
            "grid_column": null,
            "overflow_y": null,
            "overflow_x": null,
            "grid_auto_flow": null,
            "grid_area": null,
            "grid_template_columns": null,
            "flex": "2",
            "_model_name": "LayoutModel",
            "justify_items": null,
            "grid_row": null,
            "max_height": null,
            "align_content": null,
            "visibility": null,
            "align_self": null,
            "height": null,
            "min_height": null,
            "padding": null,
            "grid_auto_rows": null,
            "grid_gap": null,
            "max_width": null,
            "order": null,
            "_view_module_version": "1.2.0",
            "grid_template_areas": null,
            "object_position": null,
            "object_fit": null,
            "grid_auto_columns": null,
            "margin": null,
            "display": null,
            "left": null
          }
        },
        "c93e6990b7f34d22842b2e099d5665d0": {
          "model_module": "@jupyter-widgets/controls",
          "model_name": "DescriptionStyleModel",
          "model_module_version": "1.5.0",
          "state": {
            "_view_name": "StyleView",
            "_model_name": "DescriptionStyleModel",
            "description_width": "",
            "_view_module": "@jupyter-widgets/base",
            "_model_module_version": "1.5.0",
            "_view_count": null,
            "_view_module_version": "1.2.0",
            "_model_module": "@jupyter-widgets/controls"
          }
        },
        "8454518c140e49df9faab5b9522048f2": {
          "model_module": "@jupyter-widgets/base",
          "model_name": "LayoutModel",
          "model_module_version": "1.2.0",
          "state": {
            "_view_name": "LayoutView",
            "grid_template_rows": null,
            "right": null,
            "justify_content": null,
            "_view_module": "@jupyter-widgets/base",
            "overflow": null,
            "_model_module_version": "1.2.0",
            "_view_count": null,
            "flex_flow": null,
            "width": null,
            "min_width": null,
            "border": null,
            "align_items": null,
            "bottom": null,
            "_model_module": "@jupyter-widgets/base",
            "top": null,
            "grid_column": null,
            "overflow_y": null,
            "overflow_x": null,
            "grid_auto_flow": null,
            "grid_area": null,
            "grid_template_columns": null,
            "flex": null,
            "_model_name": "LayoutModel",
            "justify_items": null,
            "grid_row": null,
            "max_height": null,
            "align_content": null,
            "visibility": null,
            "align_self": null,
            "height": null,
            "min_height": null,
            "padding": null,
            "grid_auto_rows": null,
            "grid_gap": null,
            "max_width": null,
            "order": null,
            "_view_module_version": "1.2.0",
            "grid_template_areas": null,
            "object_position": null,
            "object_fit": null,
            "grid_auto_columns": null,
            "margin": null,
            "display": null,
            "left": null
          }
        },
        "aa257159e7884b80b5b5acba11ad059f": {
          "model_module": "@jupyter-widgets/controls",
          "model_name": "HBoxModel",
          "model_module_version": "1.5.0",
          "state": {
            "_view_name": "HBoxView",
            "_dom_classes": [],
            "_model_name": "HBoxModel",
            "_view_module": "@jupyter-widgets/controls",
            "_model_module_version": "1.5.0",
            "_view_count": null,
            "_view_module_version": "1.5.0",
            "box_style": "",
            "layout": "IPY_MODEL_8990840a526d46429009bdb275c3590e",
            "_model_module": "@jupyter-widgets/controls",
            "children": [
              "IPY_MODEL_6c96952cf6a04ef48304ed8e31841c7a",
              "IPY_MODEL_f9d338f1c93141d98389392b23411938",
              "IPY_MODEL_2c56c08520c34b238412329c43629c78"
            ]
          }
        },
        "8990840a526d46429009bdb275c3590e": {
          "model_module": "@jupyter-widgets/base",
          "model_name": "LayoutModel",
          "model_module_version": "1.2.0",
          "state": {
            "_view_name": "LayoutView",
            "grid_template_rows": null,
            "right": null,
            "justify_content": null,
            "_view_module": "@jupyter-widgets/base",
            "overflow": null,
            "_model_module_version": "1.2.0",
            "_view_count": null,
            "flex_flow": "row wrap",
            "width": "100%",
            "min_width": null,
            "border": null,
            "align_items": null,
            "bottom": null,
            "_model_module": "@jupyter-widgets/base",
            "top": null,
            "grid_column": null,
            "overflow_y": null,
            "overflow_x": null,
            "grid_auto_flow": null,
            "grid_area": null,
            "grid_template_columns": null,
            "flex": null,
            "_model_name": "LayoutModel",
            "justify_items": null,
            "grid_row": null,
            "max_height": null,
            "align_content": null,
            "visibility": null,
            "align_self": null,
            "height": null,
            "min_height": null,
            "padding": null,
            "grid_auto_rows": null,
            "grid_gap": null,
            "max_width": null,
            "order": null,
            "_view_module_version": "1.2.0",
            "grid_template_areas": null,
            "object_position": null,
            "object_fit": null,
            "grid_auto_columns": null,
            "margin": null,
            "display": "inline-flex",
            "left": null
          }
        },
        "6c96952cf6a04ef48304ed8e31841c7a": {
          "model_module": "@jupyter-widgets/controls",
          "model_name": "HTMLModel",
          "model_module_version": "1.5.0",
          "state": {
            "_view_name": "HTMLView",
            "style": "IPY_MODEL_98ccfa5202c340caa5259258751f6191",
            "_dom_classes": [],
            "description": "",
            "_model_name": "HTMLModel",
            "placeholder": "​",
            "_view_module": "@jupyter-widgets/controls",
            "_model_module_version": "1.5.0",
            "value": "Validating: 100%",
            "_view_count": null,
            "_view_module_version": "1.5.0",
            "description_tooltip": null,
            "_model_module": "@jupyter-widgets/controls",
            "layout": "IPY_MODEL_0da52adc503b4b4cb1ce31fcfb8a1263"
          }
        },
        "f9d338f1c93141d98389392b23411938": {
          "model_module": "@jupyter-widgets/controls",
          "model_name": "FloatProgressModel",
          "model_module_version": "1.5.0",
          "state": {
            "_view_name": "ProgressView",
            "style": "IPY_MODEL_bc9de2815fd94d65920f04d2e066c0db",
            "_dom_classes": [],
            "description": "",
            "_model_name": "FloatProgressModel",
            "bar_style": "",
            "max": 856,
            "_view_module": "@jupyter-widgets/controls",
            "_model_module_version": "1.5.0",
            "value": 856,
            "_view_count": null,
            "_view_module_version": "1.5.0",
            "orientation": "horizontal",
            "min": 0,
            "description_tooltip": null,
            "_model_module": "@jupyter-widgets/controls",
            "layout": "IPY_MODEL_720bdb71f2e94291b37dc298e8ac5b05"
          }
        },
        "2c56c08520c34b238412329c43629c78": {
          "model_module": "@jupyter-widgets/controls",
          "model_name": "HTMLModel",
          "model_module_version": "1.5.0",
          "state": {
            "_view_name": "HTMLView",
            "style": "IPY_MODEL_a2e72f6f86f1400e803308d600194030",
            "_dom_classes": [],
            "description": "",
            "_model_name": "HTMLModel",
            "placeholder": "​",
            "_view_module": "@jupyter-widgets/controls",
            "_model_module_version": "1.5.0",
            "value": " 856/856 [02:12&lt;00:00,  6.44it/s]",
            "_view_count": null,
            "_view_module_version": "1.5.0",
            "description_tooltip": null,
            "_model_module": "@jupyter-widgets/controls",
            "layout": "IPY_MODEL_47bc307ab7884acfa9fa44f31df51961"
          }
        },
        "98ccfa5202c340caa5259258751f6191": {
          "model_module": "@jupyter-widgets/controls",
          "model_name": "DescriptionStyleModel",
          "model_module_version": "1.5.0",
          "state": {
            "_view_name": "StyleView",
            "_model_name": "DescriptionStyleModel",
            "description_width": "",
            "_view_module": "@jupyter-widgets/base",
            "_model_module_version": "1.5.0",
            "_view_count": null,
            "_view_module_version": "1.2.0",
            "_model_module": "@jupyter-widgets/controls"
          }
        },
        "0da52adc503b4b4cb1ce31fcfb8a1263": {
          "model_module": "@jupyter-widgets/base",
          "model_name": "LayoutModel",
          "model_module_version": "1.2.0",
          "state": {
            "_view_name": "LayoutView",
            "grid_template_rows": null,
            "right": null,
            "justify_content": null,
            "_view_module": "@jupyter-widgets/base",
            "overflow": null,
            "_model_module_version": "1.2.0",
            "_view_count": null,
            "flex_flow": null,
            "width": null,
            "min_width": null,
            "border": null,
            "align_items": null,
            "bottom": null,
            "_model_module": "@jupyter-widgets/base",
            "top": null,
            "grid_column": null,
            "overflow_y": null,
            "overflow_x": null,
            "grid_auto_flow": null,
            "grid_area": null,
            "grid_template_columns": null,
            "flex": null,
            "_model_name": "LayoutModel",
            "justify_items": null,
            "grid_row": null,
            "max_height": null,
            "align_content": null,
            "visibility": null,
            "align_self": null,
            "height": null,
            "min_height": null,
            "padding": null,
            "grid_auto_rows": null,
            "grid_gap": null,
            "max_width": null,
            "order": null,
            "_view_module_version": "1.2.0",
            "grid_template_areas": null,
            "object_position": null,
            "object_fit": null,
            "grid_auto_columns": null,
            "margin": null,
            "display": null,
            "left": null
          }
        },
        "bc9de2815fd94d65920f04d2e066c0db": {
          "model_module": "@jupyter-widgets/controls",
          "model_name": "ProgressStyleModel",
          "model_module_version": "1.5.0",
          "state": {
            "_view_name": "StyleView",
            "_model_name": "ProgressStyleModel",
            "description_width": "",
            "_view_module": "@jupyter-widgets/base",
            "_model_module_version": "1.5.0",
            "_view_count": null,
            "_view_module_version": "1.2.0",
            "bar_color": null,
            "_model_module": "@jupyter-widgets/controls"
          }
        },
        "720bdb71f2e94291b37dc298e8ac5b05": {
          "model_module": "@jupyter-widgets/base",
          "model_name": "LayoutModel",
          "model_module_version": "1.2.0",
          "state": {
            "_view_name": "LayoutView",
            "grid_template_rows": null,
            "right": null,
            "justify_content": null,
            "_view_module": "@jupyter-widgets/base",
            "overflow": null,
            "_model_module_version": "1.2.0",
            "_view_count": null,
            "flex_flow": null,
            "width": null,
            "min_width": null,
            "border": null,
            "align_items": null,
            "bottom": null,
            "_model_module": "@jupyter-widgets/base",
            "top": null,
            "grid_column": null,
            "overflow_y": null,
            "overflow_x": null,
            "grid_auto_flow": null,
            "grid_area": null,
            "grid_template_columns": null,
            "flex": "2",
            "_model_name": "LayoutModel",
            "justify_items": null,
            "grid_row": null,
            "max_height": null,
            "align_content": null,
            "visibility": null,
            "align_self": null,
            "height": null,
            "min_height": null,
            "padding": null,
            "grid_auto_rows": null,
            "grid_gap": null,
            "max_width": null,
            "order": null,
            "_view_module_version": "1.2.0",
            "grid_template_areas": null,
            "object_position": null,
            "object_fit": null,
            "grid_auto_columns": null,
            "margin": null,
            "display": null,
            "left": null
          }
        },
        "a2e72f6f86f1400e803308d600194030": {
          "model_module": "@jupyter-widgets/controls",
          "model_name": "DescriptionStyleModel",
          "model_module_version": "1.5.0",
          "state": {
            "_view_name": "StyleView",
            "_model_name": "DescriptionStyleModel",
            "description_width": "",
            "_view_module": "@jupyter-widgets/base",
            "_model_module_version": "1.5.0",
            "_view_count": null,
            "_view_module_version": "1.2.0",
            "_model_module": "@jupyter-widgets/controls"
          }
        },
        "47bc307ab7884acfa9fa44f31df51961": {
          "model_module": "@jupyter-widgets/base",
          "model_name": "LayoutModel",
          "model_module_version": "1.2.0",
          "state": {
            "_view_name": "LayoutView",
            "grid_template_rows": null,
            "right": null,
            "justify_content": null,
            "_view_module": "@jupyter-widgets/base",
            "overflow": null,
            "_model_module_version": "1.2.0",
            "_view_count": null,
            "flex_flow": null,
            "width": null,
            "min_width": null,
            "border": null,
            "align_items": null,
            "bottom": null,
            "_model_module": "@jupyter-widgets/base",
            "top": null,
            "grid_column": null,
            "overflow_y": null,
            "overflow_x": null,
            "grid_auto_flow": null,
            "grid_area": null,
            "grid_template_columns": null,
            "flex": null,
            "_model_name": "LayoutModel",
            "justify_items": null,
            "grid_row": null,
            "max_height": null,
            "align_content": null,
            "visibility": null,
            "align_self": null,
            "height": null,
            "min_height": null,
            "padding": null,
            "grid_auto_rows": null,
            "grid_gap": null,
            "max_width": null,
            "order": null,
            "_view_module_version": "1.2.0",
            "grid_template_areas": null,
            "object_position": null,
            "object_fit": null,
            "grid_auto_columns": null,
            "margin": null,
            "display": null,
            "left": null
          }
        },
        "1c33fe7820cc468a9d12d16f97eb49fc": {
          "model_module": "@jupyter-widgets/controls",
          "model_name": "HBoxModel",
          "model_module_version": "1.5.0",
          "state": {
            "_view_name": "HBoxView",
            "_dom_classes": [],
            "_model_name": "HBoxModel",
            "_view_module": "@jupyter-widgets/controls",
            "_model_module_version": "1.5.0",
            "_view_count": null,
            "_view_module_version": "1.5.0",
            "box_style": "",
            "layout": "IPY_MODEL_725bd7164cf44d62896c02104ebc89f3",
            "_model_module": "@jupyter-widgets/controls",
            "children": [
              "IPY_MODEL_387ed62c9eed4fe4a2f57f1b24e25590",
              "IPY_MODEL_f31ef7877e034e0ba7402f408fe1d09e",
              "IPY_MODEL_a6666f2ab4d5496bbaf5eda422d1c0c0"
            ]
          }
        },
        "725bd7164cf44d62896c02104ebc89f3": {
          "model_module": "@jupyter-widgets/base",
          "model_name": "LayoutModel",
          "model_module_version": "1.2.0",
          "state": {
            "_view_name": "LayoutView",
            "grid_template_rows": null,
            "right": null,
            "justify_content": null,
            "_view_module": "@jupyter-widgets/base",
            "overflow": null,
            "_model_module_version": "1.2.0",
            "_view_count": null,
            "flex_flow": "row wrap",
            "width": "100%",
            "min_width": null,
            "border": null,
            "align_items": null,
            "bottom": null,
            "_model_module": "@jupyter-widgets/base",
            "top": null,
            "grid_column": null,
            "overflow_y": null,
            "overflow_x": null,
            "grid_auto_flow": null,
            "grid_area": null,
            "grid_template_columns": null,
            "flex": null,
            "_model_name": "LayoutModel",
            "justify_items": null,
            "grid_row": null,
            "max_height": null,
            "align_content": null,
            "visibility": null,
            "align_self": null,
            "height": null,
            "min_height": null,
            "padding": null,
            "grid_auto_rows": null,
            "grid_gap": null,
            "max_width": null,
            "order": null,
            "_view_module_version": "1.2.0",
            "grid_template_areas": null,
            "object_position": null,
            "object_fit": null,
            "grid_auto_columns": null,
            "margin": null,
            "display": "inline-flex",
            "left": null
          }
        },
        "387ed62c9eed4fe4a2f57f1b24e25590": {
          "model_module": "@jupyter-widgets/controls",
          "model_name": "HTMLModel",
          "model_module_version": "1.5.0",
          "state": {
            "_view_name": "HTMLView",
            "style": "IPY_MODEL_312efd24fc5842cab0db2e98f75c2db9",
            "_dom_classes": [],
            "description": "",
            "_model_name": "HTMLModel",
            "placeholder": "​",
            "_view_module": "@jupyter-widgets/controls",
            "_model_module_version": "1.5.0",
            "value": "Validating: 100%",
            "_view_count": null,
            "_view_module_version": "1.5.0",
            "description_tooltip": null,
            "_model_module": "@jupyter-widgets/controls",
            "layout": "IPY_MODEL_35e481755c9c4fec8df20167a92bed6e"
          }
        },
        "f31ef7877e034e0ba7402f408fe1d09e": {
          "model_module": "@jupyter-widgets/controls",
          "model_name": "FloatProgressModel",
          "model_module_version": "1.5.0",
          "state": {
            "_view_name": "ProgressView",
            "style": "IPY_MODEL_84fae219599e44ceb1a9d1dba0b21bc8",
            "_dom_classes": [],
            "description": "",
            "_model_name": "FloatProgressModel",
            "bar_style": "",
            "max": 856,
            "_view_module": "@jupyter-widgets/controls",
            "_model_module_version": "1.5.0",
            "value": 856,
            "_view_count": null,
            "_view_module_version": "1.5.0",
            "orientation": "horizontal",
            "min": 0,
            "description_tooltip": null,
            "_model_module": "@jupyter-widgets/controls",
            "layout": "IPY_MODEL_3126ed7b44ff4d01b14ead409025ee42"
          }
        },
        "a6666f2ab4d5496bbaf5eda422d1c0c0": {
          "model_module": "@jupyter-widgets/controls",
          "model_name": "HTMLModel",
          "model_module_version": "1.5.0",
          "state": {
            "_view_name": "HTMLView",
            "style": "IPY_MODEL_6cb3e96a2a8c4bf9b194a83cef5e057e",
            "_dom_classes": [],
            "description": "",
            "_model_name": "HTMLModel",
            "placeholder": "​",
            "_view_module": "@jupyter-widgets/controls",
            "_model_module_version": "1.5.0",
            "value": " 856/856 [02:13&lt;00:00,  6.40it/s]",
            "_view_count": null,
            "_view_module_version": "1.5.0",
            "description_tooltip": null,
            "_model_module": "@jupyter-widgets/controls",
            "layout": "IPY_MODEL_90c5416dea2f4ab08d5d206062617ff7"
          }
        },
        "312efd24fc5842cab0db2e98f75c2db9": {
          "model_module": "@jupyter-widgets/controls",
          "model_name": "DescriptionStyleModel",
          "model_module_version": "1.5.0",
          "state": {
            "_view_name": "StyleView",
            "_model_name": "DescriptionStyleModel",
            "description_width": "",
            "_view_module": "@jupyter-widgets/base",
            "_model_module_version": "1.5.0",
            "_view_count": null,
            "_view_module_version": "1.2.0",
            "_model_module": "@jupyter-widgets/controls"
          }
        },
        "35e481755c9c4fec8df20167a92bed6e": {
          "model_module": "@jupyter-widgets/base",
          "model_name": "LayoutModel",
          "model_module_version": "1.2.0",
          "state": {
            "_view_name": "LayoutView",
            "grid_template_rows": null,
            "right": null,
            "justify_content": null,
            "_view_module": "@jupyter-widgets/base",
            "overflow": null,
            "_model_module_version": "1.2.0",
            "_view_count": null,
            "flex_flow": null,
            "width": null,
            "min_width": null,
            "border": null,
            "align_items": null,
            "bottom": null,
            "_model_module": "@jupyter-widgets/base",
            "top": null,
            "grid_column": null,
            "overflow_y": null,
            "overflow_x": null,
            "grid_auto_flow": null,
            "grid_area": null,
            "grid_template_columns": null,
            "flex": null,
            "_model_name": "LayoutModel",
            "justify_items": null,
            "grid_row": null,
            "max_height": null,
            "align_content": null,
            "visibility": null,
            "align_self": null,
            "height": null,
            "min_height": null,
            "padding": null,
            "grid_auto_rows": null,
            "grid_gap": null,
            "max_width": null,
            "order": null,
            "_view_module_version": "1.2.0",
            "grid_template_areas": null,
            "object_position": null,
            "object_fit": null,
            "grid_auto_columns": null,
            "margin": null,
            "display": null,
            "left": null
          }
        },
        "84fae219599e44ceb1a9d1dba0b21bc8": {
          "model_module": "@jupyter-widgets/controls",
          "model_name": "ProgressStyleModel",
          "model_module_version": "1.5.0",
          "state": {
            "_view_name": "StyleView",
            "_model_name": "ProgressStyleModel",
            "description_width": "",
            "_view_module": "@jupyter-widgets/base",
            "_model_module_version": "1.5.0",
            "_view_count": null,
            "_view_module_version": "1.2.0",
            "bar_color": null,
            "_model_module": "@jupyter-widgets/controls"
          }
        },
        "3126ed7b44ff4d01b14ead409025ee42": {
          "model_module": "@jupyter-widgets/base",
          "model_name": "LayoutModel",
          "model_module_version": "1.2.0",
          "state": {
            "_view_name": "LayoutView",
            "grid_template_rows": null,
            "right": null,
            "justify_content": null,
            "_view_module": "@jupyter-widgets/base",
            "overflow": null,
            "_model_module_version": "1.2.0",
            "_view_count": null,
            "flex_flow": null,
            "width": null,
            "min_width": null,
            "border": null,
            "align_items": null,
            "bottom": null,
            "_model_module": "@jupyter-widgets/base",
            "top": null,
            "grid_column": null,
            "overflow_y": null,
            "overflow_x": null,
            "grid_auto_flow": null,
            "grid_area": null,
            "grid_template_columns": null,
            "flex": "2",
            "_model_name": "LayoutModel",
            "justify_items": null,
            "grid_row": null,
            "max_height": null,
            "align_content": null,
            "visibility": null,
            "align_self": null,
            "height": null,
            "min_height": null,
            "padding": null,
            "grid_auto_rows": null,
            "grid_gap": null,
            "max_width": null,
            "order": null,
            "_view_module_version": "1.2.0",
            "grid_template_areas": null,
            "object_position": null,
            "object_fit": null,
            "grid_auto_columns": null,
            "margin": null,
            "display": null,
            "left": null
          }
        },
        "6cb3e96a2a8c4bf9b194a83cef5e057e": {
          "model_module": "@jupyter-widgets/controls",
          "model_name": "DescriptionStyleModel",
          "model_module_version": "1.5.0",
          "state": {
            "_view_name": "StyleView",
            "_model_name": "DescriptionStyleModel",
            "description_width": "",
            "_view_module": "@jupyter-widgets/base",
            "_model_module_version": "1.5.0",
            "_view_count": null,
            "_view_module_version": "1.2.0",
            "_model_module": "@jupyter-widgets/controls"
          }
        },
        "90c5416dea2f4ab08d5d206062617ff7": {
          "model_module": "@jupyter-widgets/base",
          "model_name": "LayoutModel",
          "model_module_version": "1.2.0",
          "state": {
            "_view_name": "LayoutView",
            "grid_template_rows": null,
            "right": null,
            "justify_content": null,
            "_view_module": "@jupyter-widgets/base",
            "overflow": null,
            "_model_module_version": "1.2.0",
            "_view_count": null,
            "flex_flow": null,
            "width": null,
            "min_width": null,
            "border": null,
            "align_items": null,
            "bottom": null,
            "_model_module": "@jupyter-widgets/base",
            "top": null,
            "grid_column": null,
            "overflow_y": null,
            "overflow_x": null,
            "grid_auto_flow": null,
            "grid_area": null,
            "grid_template_columns": null,
            "flex": null,
            "_model_name": "LayoutModel",
            "justify_items": null,
            "grid_row": null,
            "max_height": null,
            "align_content": null,
            "visibility": null,
            "align_self": null,
            "height": null,
            "min_height": null,
            "padding": null,
            "grid_auto_rows": null,
            "grid_gap": null,
            "max_width": null,
            "order": null,
            "_view_module_version": "1.2.0",
            "grid_template_areas": null,
            "object_position": null,
            "object_fit": null,
            "grid_auto_columns": null,
            "margin": null,
            "display": null,
            "left": null
          }
        },
        "8f39678f8b3f48bb81068925035bab84": {
          "model_module": "@jupyter-widgets/controls",
          "model_name": "HBoxModel",
          "model_module_version": "1.5.0",
          "state": {
            "_view_name": "HBoxView",
            "_dom_classes": [],
            "_model_name": "HBoxModel",
            "_view_module": "@jupyter-widgets/controls",
            "_model_module_version": "1.5.0",
            "_view_count": null,
            "_view_module_version": "1.5.0",
            "box_style": "",
            "layout": "IPY_MODEL_c1dfb8fef6494ef4b7a201ad0ef4e8a8",
            "_model_module": "@jupyter-widgets/controls",
            "children": [
              "IPY_MODEL_efb0037711ef4224966d2e924401966f",
              "IPY_MODEL_851d6ee86f6843cca47bacdd018d086b",
              "IPY_MODEL_348cfb66330145c2a42b8ff7762ce52d"
            ]
          }
        },
        "c1dfb8fef6494ef4b7a201ad0ef4e8a8": {
          "model_module": "@jupyter-widgets/base",
          "model_name": "LayoutModel",
          "model_module_version": "1.2.0",
          "state": {
            "_view_name": "LayoutView",
            "grid_template_rows": null,
            "right": null,
            "justify_content": null,
            "_view_module": "@jupyter-widgets/base",
            "overflow": null,
            "_model_module_version": "1.2.0",
            "_view_count": null,
            "flex_flow": "row wrap",
            "width": "100%",
            "min_width": null,
            "border": null,
            "align_items": null,
            "bottom": null,
            "_model_module": "@jupyter-widgets/base",
            "top": null,
            "grid_column": null,
            "overflow_y": null,
            "overflow_x": null,
            "grid_auto_flow": null,
            "grid_area": null,
            "grid_template_columns": null,
            "flex": null,
            "_model_name": "LayoutModel",
            "justify_items": null,
            "grid_row": null,
            "max_height": null,
            "align_content": null,
            "visibility": null,
            "align_self": null,
            "height": null,
            "min_height": null,
            "padding": null,
            "grid_auto_rows": null,
            "grid_gap": null,
            "max_width": null,
            "order": null,
            "_view_module_version": "1.2.0",
            "grid_template_areas": null,
            "object_position": null,
            "object_fit": null,
            "grid_auto_columns": null,
            "margin": null,
            "display": "inline-flex",
            "left": null
          }
        },
        "efb0037711ef4224966d2e924401966f": {
          "model_module": "@jupyter-widgets/controls",
          "model_name": "HTMLModel",
          "model_module_version": "1.5.0",
          "state": {
            "_view_name": "HTMLView",
            "style": "IPY_MODEL_2650e05f8d3b40bf8108722dbb23f352",
            "_dom_classes": [],
            "description": "",
            "_model_name": "HTMLModel",
            "placeholder": "​",
            "_view_module": "@jupyter-widgets/controls",
            "_model_module_version": "1.5.0",
            "value": "Validating: 100%",
            "_view_count": null,
            "_view_module_version": "1.5.0",
            "description_tooltip": null,
            "_model_module": "@jupyter-widgets/controls",
            "layout": "IPY_MODEL_b9ef77ea432d489ca9fda3219f61fb36"
          }
        },
        "851d6ee86f6843cca47bacdd018d086b": {
          "model_module": "@jupyter-widgets/controls",
          "model_name": "FloatProgressModel",
          "model_module_version": "1.5.0",
          "state": {
            "_view_name": "ProgressView",
            "style": "IPY_MODEL_ce5c068a69f94b268e6b20ae712f5679",
            "_dom_classes": [],
            "description": "",
            "_model_name": "FloatProgressModel",
            "bar_style": "",
            "max": 856,
            "_view_module": "@jupyter-widgets/controls",
            "_model_module_version": "1.5.0",
            "value": 856,
            "_view_count": null,
            "_view_module_version": "1.5.0",
            "orientation": "horizontal",
            "min": 0,
            "description_tooltip": null,
            "_model_module": "@jupyter-widgets/controls",
            "layout": "IPY_MODEL_edce2edfc745432988e739b1f5ed0df3"
          }
        },
        "348cfb66330145c2a42b8ff7762ce52d": {
          "model_module": "@jupyter-widgets/controls",
          "model_name": "HTMLModel",
          "model_module_version": "1.5.0",
          "state": {
            "_view_name": "HTMLView",
            "style": "IPY_MODEL_21c1a14c8d8241398e38f7b2da3ee013",
            "_dom_classes": [],
            "description": "",
            "_model_name": "HTMLModel",
            "placeholder": "​",
            "_view_module": "@jupyter-widgets/controls",
            "_model_module_version": "1.5.0",
            "value": " 856/856 [02:13&lt;00:00,  6.43it/s]",
            "_view_count": null,
            "_view_module_version": "1.5.0",
            "description_tooltip": null,
            "_model_module": "@jupyter-widgets/controls",
            "layout": "IPY_MODEL_a718f065b65c49daba32d9de8200b8d5"
          }
        },
        "2650e05f8d3b40bf8108722dbb23f352": {
          "model_module": "@jupyter-widgets/controls",
          "model_name": "DescriptionStyleModel",
          "model_module_version": "1.5.0",
          "state": {
            "_view_name": "StyleView",
            "_model_name": "DescriptionStyleModel",
            "description_width": "",
            "_view_module": "@jupyter-widgets/base",
            "_model_module_version": "1.5.0",
            "_view_count": null,
            "_view_module_version": "1.2.0",
            "_model_module": "@jupyter-widgets/controls"
          }
        },
        "b9ef77ea432d489ca9fda3219f61fb36": {
          "model_module": "@jupyter-widgets/base",
          "model_name": "LayoutModel",
          "model_module_version": "1.2.0",
          "state": {
            "_view_name": "LayoutView",
            "grid_template_rows": null,
            "right": null,
            "justify_content": null,
            "_view_module": "@jupyter-widgets/base",
            "overflow": null,
            "_model_module_version": "1.2.0",
            "_view_count": null,
            "flex_flow": null,
            "width": null,
            "min_width": null,
            "border": null,
            "align_items": null,
            "bottom": null,
            "_model_module": "@jupyter-widgets/base",
            "top": null,
            "grid_column": null,
            "overflow_y": null,
            "overflow_x": null,
            "grid_auto_flow": null,
            "grid_area": null,
            "grid_template_columns": null,
            "flex": null,
            "_model_name": "LayoutModel",
            "justify_items": null,
            "grid_row": null,
            "max_height": null,
            "align_content": null,
            "visibility": null,
            "align_self": null,
            "height": null,
            "min_height": null,
            "padding": null,
            "grid_auto_rows": null,
            "grid_gap": null,
            "max_width": null,
            "order": null,
            "_view_module_version": "1.2.0",
            "grid_template_areas": null,
            "object_position": null,
            "object_fit": null,
            "grid_auto_columns": null,
            "margin": null,
            "display": null,
            "left": null
          }
        },
        "ce5c068a69f94b268e6b20ae712f5679": {
          "model_module": "@jupyter-widgets/controls",
          "model_name": "ProgressStyleModel",
          "model_module_version": "1.5.0",
          "state": {
            "_view_name": "StyleView",
            "_model_name": "ProgressStyleModel",
            "description_width": "",
            "_view_module": "@jupyter-widgets/base",
            "_model_module_version": "1.5.0",
            "_view_count": null,
            "_view_module_version": "1.2.0",
            "bar_color": null,
            "_model_module": "@jupyter-widgets/controls"
          }
        },
        "edce2edfc745432988e739b1f5ed0df3": {
          "model_module": "@jupyter-widgets/base",
          "model_name": "LayoutModel",
          "model_module_version": "1.2.0",
          "state": {
            "_view_name": "LayoutView",
            "grid_template_rows": null,
            "right": null,
            "justify_content": null,
            "_view_module": "@jupyter-widgets/base",
            "overflow": null,
            "_model_module_version": "1.2.0",
            "_view_count": null,
            "flex_flow": null,
            "width": null,
            "min_width": null,
            "border": null,
            "align_items": null,
            "bottom": null,
            "_model_module": "@jupyter-widgets/base",
            "top": null,
            "grid_column": null,
            "overflow_y": null,
            "overflow_x": null,
            "grid_auto_flow": null,
            "grid_area": null,
            "grid_template_columns": null,
            "flex": "2",
            "_model_name": "LayoutModel",
            "justify_items": null,
            "grid_row": null,
            "max_height": null,
            "align_content": null,
            "visibility": null,
            "align_self": null,
            "height": null,
            "min_height": null,
            "padding": null,
            "grid_auto_rows": null,
            "grid_gap": null,
            "max_width": null,
            "order": null,
            "_view_module_version": "1.2.0",
            "grid_template_areas": null,
            "object_position": null,
            "object_fit": null,
            "grid_auto_columns": null,
            "margin": null,
            "display": null,
            "left": null
          }
        },
        "21c1a14c8d8241398e38f7b2da3ee013": {
          "model_module": "@jupyter-widgets/controls",
          "model_name": "DescriptionStyleModel",
          "model_module_version": "1.5.0",
          "state": {
            "_view_name": "StyleView",
            "_model_name": "DescriptionStyleModel",
            "description_width": "",
            "_view_module": "@jupyter-widgets/base",
            "_model_module_version": "1.5.0",
            "_view_count": null,
            "_view_module_version": "1.2.0",
            "_model_module": "@jupyter-widgets/controls"
          }
        },
        "a718f065b65c49daba32d9de8200b8d5": {
          "model_module": "@jupyter-widgets/base",
          "model_name": "LayoutModel",
          "model_module_version": "1.2.0",
          "state": {
            "_view_name": "LayoutView",
            "grid_template_rows": null,
            "right": null,
            "justify_content": null,
            "_view_module": "@jupyter-widgets/base",
            "overflow": null,
            "_model_module_version": "1.2.0",
            "_view_count": null,
            "flex_flow": null,
            "width": null,
            "min_width": null,
            "border": null,
            "align_items": null,
            "bottom": null,
            "_model_module": "@jupyter-widgets/base",
            "top": null,
            "grid_column": null,
            "overflow_y": null,
            "overflow_x": null,
            "grid_auto_flow": null,
            "grid_area": null,
            "grid_template_columns": null,
            "flex": null,
            "_model_name": "LayoutModel",
            "justify_items": null,
            "grid_row": null,
            "max_height": null,
            "align_content": null,
            "visibility": null,
            "align_self": null,
            "height": null,
            "min_height": null,
            "padding": null,
            "grid_auto_rows": null,
            "grid_gap": null,
            "max_width": null,
            "order": null,
            "_view_module_version": "1.2.0",
            "grid_template_areas": null,
            "object_position": null,
            "object_fit": null,
            "grid_auto_columns": null,
            "margin": null,
            "display": null,
            "left": null
          }
        },
        "6272a7590fcc48fc9700a35bc6b3e952": {
          "model_module": "@jupyter-widgets/controls",
          "model_name": "HBoxModel",
          "model_module_version": "1.5.0",
          "state": {
            "_view_name": "HBoxView",
            "_dom_classes": [],
            "_model_name": "HBoxModel",
            "_view_module": "@jupyter-widgets/controls",
            "_model_module_version": "1.5.0",
            "_view_count": null,
            "_view_module_version": "1.5.0",
            "box_style": "",
            "layout": "IPY_MODEL_daef733358704463874db3c81ca9fbbb",
            "_model_module": "@jupyter-widgets/controls",
            "children": [
              "IPY_MODEL_ee00435a5dc3405c8d0aabccd4bb0f06",
              "IPY_MODEL_a57ca65e33994ac7992323cbfca1387c",
              "IPY_MODEL_d3bf2be747c548998b229fd1ee8084b4"
            ]
          }
        },
        "daef733358704463874db3c81ca9fbbb": {
          "model_module": "@jupyter-widgets/base",
          "model_name": "LayoutModel",
          "model_module_version": "1.2.0",
          "state": {
            "_view_name": "LayoutView",
            "grid_template_rows": null,
            "right": null,
            "justify_content": null,
            "_view_module": "@jupyter-widgets/base",
            "overflow": null,
            "_model_module_version": "1.2.0",
            "_view_count": null,
            "flex_flow": "row wrap",
            "width": "100%",
            "min_width": null,
            "border": null,
            "align_items": null,
            "bottom": null,
            "_model_module": "@jupyter-widgets/base",
            "top": null,
            "grid_column": null,
            "overflow_y": null,
            "overflow_x": null,
            "grid_auto_flow": null,
            "grid_area": null,
            "grid_template_columns": null,
            "flex": null,
            "_model_name": "LayoutModel",
            "justify_items": null,
            "grid_row": null,
            "max_height": null,
            "align_content": null,
            "visibility": null,
            "align_self": null,
            "height": null,
            "min_height": null,
            "padding": null,
            "grid_auto_rows": null,
            "grid_gap": null,
            "max_width": null,
            "order": null,
            "_view_module_version": "1.2.0",
            "grid_template_areas": null,
            "object_position": null,
            "object_fit": null,
            "grid_auto_columns": null,
            "margin": null,
            "display": "inline-flex",
            "left": null
          }
        },
        "ee00435a5dc3405c8d0aabccd4bb0f06": {
          "model_module": "@jupyter-widgets/controls",
          "model_name": "HTMLModel",
          "model_module_version": "1.5.0",
          "state": {
            "_view_name": "HTMLView",
            "style": "IPY_MODEL_279ff041b325461f917f4d2214546712",
            "_dom_classes": [],
            "description": "",
            "_model_name": "HTMLModel",
            "placeholder": "​",
            "_view_module": "@jupyter-widgets/controls",
            "_model_module_version": "1.5.0",
            "value": "Validating: 100%",
            "_view_count": null,
            "_view_module_version": "1.5.0",
            "description_tooltip": null,
            "_model_module": "@jupyter-widgets/controls",
            "layout": "IPY_MODEL_c5e2a8b016d146d9869c9303ba2ea97e"
          }
        },
        "a57ca65e33994ac7992323cbfca1387c": {
          "model_module": "@jupyter-widgets/controls",
          "model_name": "FloatProgressModel",
          "model_module_version": "1.5.0",
          "state": {
            "_view_name": "ProgressView",
            "style": "IPY_MODEL_d5cc26f3edfd43e18b761742b99c6501",
            "_dom_classes": [],
            "description": "",
            "_model_name": "FloatProgressModel",
            "bar_style": "",
            "max": 856,
            "_view_module": "@jupyter-widgets/controls",
            "_model_module_version": "1.5.0",
            "value": 856,
            "_view_count": null,
            "_view_module_version": "1.5.0",
            "orientation": "horizontal",
            "min": 0,
            "description_tooltip": null,
            "_model_module": "@jupyter-widgets/controls",
            "layout": "IPY_MODEL_2f6f703ad96844f1b44a61ecb13c71ef"
          }
        },
        "d3bf2be747c548998b229fd1ee8084b4": {
          "model_module": "@jupyter-widgets/controls",
          "model_name": "HTMLModel",
          "model_module_version": "1.5.0",
          "state": {
            "_view_name": "HTMLView",
            "style": "IPY_MODEL_642c399ec95640e3a9cf3b184af3ea7e",
            "_dom_classes": [],
            "description": "",
            "_model_name": "HTMLModel",
            "placeholder": "​",
            "_view_module": "@jupyter-widgets/controls",
            "_model_module_version": "1.5.0",
            "value": " 856/856 [02:13&lt;00:00,  6.40it/s]",
            "_view_count": null,
            "_view_module_version": "1.5.0",
            "description_tooltip": null,
            "_model_module": "@jupyter-widgets/controls",
            "layout": "IPY_MODEL_154fd20863384747bec84df5d6678a17"
          }
        },
        "279ff041b325461f917f4d2214546712": {
          "model_module": "@jupyter-widgets/controls",
          "model_name": "DescriptionStyleModel",
          "model_module_version": "1.5.0",
          "state": {
            "_view_name": "StyleView",
            "_model_name": "DescriptionStyleModel",
            "description_width": "",
            "_view_module": "@jupyter-widgets/base",
            "_model_module_version": "1.5.0",
            "_view_count": null,
            "_view_module_version": "1.2.0",
            "_model_module": "@jupyter-widgets/controls"
          }
        },
        "c5e2a8b016d146d9869c9303ba2ea97e": {
          "model_module": "@jupyter-widgets/base",
          "model_name": "LayoutModel",
          "model_module_version": "1.2.0",
          "state": {
            "_view_name": "LayoutView",
            "grid_template_rows": null,
            "right": null,
            "justify_content": null,
            "_view_module": "@jupyter-widgets/base",
            "overflow": null,
            "_model_module_version": "1.2.0",
            "_view_count": null,
            "flex_flow": null,
            "width": null,
            "min_width": null,
            "border": null,
            "align_items": null,
            "bottom": null,
            "_model_module": "@jupyter-widgets/base",
            "top": null,
            "grid_column": null,
            "overflow_y": null,
            "overflow_x": null,
            "grid_auto_flow": null,
            "grid_area": null,
            "grid_template_columns": null,
            "flex": null,
            "_model_name": "LayoutModel",
            "justify_items": null,
            "grid_row": null,
            "max_height": null,
            "align_content": null,
            "visibility": null,
            "align_self": null,
            "height": null,
            "min_height": null,
            "padding": null,
            "grid_auto_rows": null,
            "grid_gap": null,
            "max_width": null,
            "order": null,
            "_view_module_version": "1.2.0",
            "grid_template_areas": null,
            "object_position": null,
            "object_fit": null,
            "grid_auto_columns": null,
            "margin": null,
            "display": null,
            "left": null
          }
        },
        "d5cc26f3edfd43e18b761742b99c6501": {
          "model_module": "@jupyter-widgets/controls",
          "model_name": "ProgressStyleModel",
          "model_module_version": "1.5.0",
          "state": {
            "_view_name": "StyleView",
            "_model_name": "ProgressStyleModel",
            "description_width": "",
            "_view_module": "@jupyter-widgets/base",
            "_model_module_version": "1.5.0",
            "_view_count": null,
            "_view_module_version": "1.2.0",
            "bar_color": null,
            "_model_module": "@jupyter-widgets/controls"
          }
        },
        "2f6f703ad96844f1b44a61ecb13c71ef": {
          "model_module": "@jupyter-widgets/base",
          "model_name": "LayoutModel",
          "model_module_version": "1.2.0",
          "state": {
            "_view_name": "LayoutView",
            "grid_template_rows": null,
            "right": null,
            "justify_content": null,
            "_view_module": "@jupyter-widgets/base",
            "overflow": null,
            "_model_module_version": "1.2.0",
            "_view_count": null,
            "flex_flow": null,
            "width": null,
            "min_width": null,
            "border": null,
            "align_items": null,
            "bottom": null,
            "_model_module": "@jupyter-widgets/base",
            "top": null,
            "grid_column": null,
            "overflow_y": null,
            "overflow_x": null,
            "grid_auto_flow": null,
            "grid_area": null,
            "grid_template_columns": null,
            "flex": "2",
            "_model_name": "LayoutModel",
            "justify_items": null,
            "grid_row": null,
            "max_height": null,
            "align_content": null,
            "visibility": null,
            "align_self": null,
            "height": null,
            "min_height": null,
            "padding": null,
            "grid_auto_rows": null,
            "grid_gap": null,
            "max_width": null,
            "order": null,
            "_view_module_version": "1.2.0",
            "grid_template_areas": null,
            "object_position": null,
            "object_fit": null,
            "grid_auto_columns": null,
            "margin": null,
            "display": null,
            "left": null
          }
        },
        "642c399ec95640e3a9cf3b184af3ea7e": {
          "model_module": "@jupyter-widgets/controls",
          "model_name": "DescriptionStyleModel",
          "model_module_version": "1.5.0",
          "state": {
            "_view_name": "StyleView",
            "_model_name": "DescriptionStyleModel",
            "description_width": "",
            "_view_module": "@jupyter-widgets/base",
            "_model_module_version": "1.5.0",
            "_view_count": null,
            "_view_module_version": "1.2.0",
            "_model_module": "@jupyter-widgets/controls"
          }
        },
        "154fd20863384747bec84df5d6678a17": {
          "model_module": "@jupyter-widgets/base",
          "model_name": "LayoutModel",
          "model_module_version": "1.2.0",
          "state": {
            "_view_name": "LayoutView",
            "grid_template_rows": null,
            "right": null,
            "justify_content": null,
            "_view_module": "@jupyter-widgets/base",
            "overflow": null,
            "_model_module_version": "1.2.0",
            "_view_count": null,
            "flex_flow": null,
            "width": null,
            "min_width": null,
            "border": null,
            "align_items": null,
            "bottom": null,
            "_model_module": "@jupyter-widgets/base",
            "top": null,
            "grid_column": null,
            "overflow_y": null,
            "overflow_x": null,
            "grid_auto_flow": null,
            "grid_area": null,
            "grid_template_columns": null,
            "flex": null,
            "_model_name": "LayoutModel",
            "justify_items": null,
            "grid_row": null,
            "max_height": null,
            "align_content": null,
            "visibility": null,
            "align_self": null,
            "height": null,
            "min_height": null,
            "padding": null,
            "grid_auto_rows": null,
            "grid_gap": null,
            "max_width": null,
            "order": null,
            "_view_module_version": "1.2.0",
            "grid_template_areas": null,
            "object_position": null,
            "object_fit": null,
            "grid_auto_columns": null,
            "margin": null,
            "display": null,
            "left": null
          }
        },
        "7b9880353d244fcf97fb00ee712e527c": {
          "model_module": "@jupyter-widgets/controls",
          "model_name": "HBoxModel",
          "model_module_version": "1.5.0",
          "state": {
            "_view_name": "HBoxView",
            "_dom_classes": [],
            "_model_name": "HBoxModel",
            "_view_module": "@jupyter-widgets/controls",
            "_model_module_version": "1.5.0",
            "_view_count": null,
            "_view_module_version": "1.5.0",
            "box_style": "",
            "layout": "IPY_MODEL_7d00d2c50a2f4620917b25022355b498",
            "_model_module": "@jupyter-widgets/controls",
            "children": [
              "IPY_MODEL_eeb7b40bc5624594add936fd62655766",
              "IPY_MODEL_0c7a06ea9fd54e0eb9b29c0f44871b08",
              "IPY_MODEL_9e8f2fb1000a4870bdca7cfc0fc9328c"
            ]
          }
        },
        "7d00d2c50a2f4620917b25022355b498": {
          "model_module": "@jupyter-widgets/base",
          "model_name": "LayoutModel",
          "model_module_version": "1.2.0",
          "state": {
            "_view_name": "LayoutView",
            "grid_template_rows": null,
            "right": null,
            "justify_content": null,
            "_view_module": "@jupyter-widgets/base",
            "overflow": null,
            "_model_module_version": "1.2.0",
            "_view_count": null,
            "flex_flow": null,
            "width": null,
            "min_width": null,
            "border": null,
            "align_items": null,
            "bottom": null,
            "_model_module": "@jupyter-widgets/base",
            "top": null,
            "grid_column": null,
            "overflow_y": null,
            "overflow_x": null,
            "grid_auto_flow": null,
            "grid_area": null,
            "grid_template_columns": null,
            "flex": null,
            "_model_name": "LayoutModel",
            "justify_items": null,
            "grid_row": null,
            "max_height": null,
            "align_content": null,
            "visibility": null,
            "align_self": null,
            "height": null,
            "min_height": null,
            "padding": null,
            "grid_auto_rows": null,
            "grid_gap": null,
            "max_width": null,
            "order": null,
            "_view_module_version": "1.2.0",
            "grid_template_areas": null,
            "object_position": null,
            "object_fit": null,
            "grid_auto_columns": null,
            "margin": null,
            "display": null,
            "left": null
          }
        },
        "eeb7b40bc5624594add936fd62655766": {
          "model_module": "@jupyter-widgets/controls",
          "model_name": "HTMLModel",
          "model_module_version": "1.5.0",
          "state": {
            "_view_name": "HTMLView",
            "style": "IPY_MODEL_24a2f7882519400f8f230d996ea4ce30",
            "_dom_classes": [],
            "description": "",
            "_model_name": "HTMLModel",
            "placeholder": "​",
            "_view_module": "@jupyter-widgets/controls",
            "_model_module_version": "1.5.0",
            "value": "100%",
            "_view_count": null,
            "_view_module_version": "1.5.0",
            "description_tooltip": null,
            "_model_module": "@jupyter-widgets/controls",
            "layout": "IPY_MODEL_2babeec8e8124a8ab617356f029126d9"
          }
        },
        "0c7a06ea9fd54e0eb9b29c0f44871b08": {
          "model_module": "@jupyter-widgets/controls",
          "model_name": "FloatProgressModel",
          "model_module_version": "1.5.0",
          "state": {
            "_view_name": "ProgressView",
            "style": "IPY_MODEL_0159581b00f641ea988fb287549c9604",
            "_dom_classes": [],
            "description": "",
            "_model_name": "FloatProgressModel",
            "bar_style": "success",
            "max": 2500,
            "_view_module": "@jupyter-widgets/controls",
            "_model_module_version": "1.5.0",
            "value": 2500,
            "_view_count": null,
            "_view_module_version": "1.5.0",
            "orientation": "horizontal",
            "min": 0,
            "description_tooltip": null,
            "_model_module": "@jupyter-widgets/controls",
            "layout": "IPY_MODEL_084296ebc64c4bbb8d15a7846a24a7a9"
          }
        },
        "9e8f2fb1000a4870bdca7cfc0fc9328c": {
          "model_module": "@jupyter-widgets/controls",
          "model_name": "HTMLModel",
          "model_module_version": "1.5.0",
          "state": {
            "_view_name": "HTMLView",
            "style": "IPY_MODEL_bdf07d22a0b647d582eb0c346c32e0c5",
            "_dom_classes": [],
            "description": "",
            "_model_name": "HTMLModel",
            "placeholder": "​",
            "_view_module": "@jupyter-widgets/controls",
            "_model_module_version": "1.5.0",
            "value": " 2500/2500 [01:38&lt;00:00, 24.13it/s]",
            "_view_count": null,
            "_view_module_version": "1.5.0",
            "description_tooltip": null,
            "_model_module": "@jupyter-widgets/controls",
            "layout": "IPY_MODEL_f773d79907c54ddcb16baa00cd1bff82"
          }
        },
        "24a2f7882519400f8f230d996ea4ce30": {
          "model_module": "@jupyter-widgets/controls",
          "model_name": "DescriptionStyleModel",
          "model_module_version": "1.5.0",
          "state": {
            "_view_name": "StyleView",
            "_model_name": "DescriptionStyleModel",
            "description_width": "",
            "_view_module": "@jupyter-widgets/base",
            "_model_module_version": "1.5.0",
            "_view_count": null,
            "_view_module_version": "1.2.0",
            "_model_module": "@jupyter-widgets/controls"
          }
        },
        "2babeec8e8124a8ab617356f029126d9": {
          "model_module": "@jupyter-widgets/base",
          "model_name": "LayoutModel",
          "model_module_version": "1.2.0",
          "state": {
            "_view_name": "LayoutView",
            "grid_template_rows": null,
            "right": null,
            "justify_content": null,
            "_view_module": "@jupyter-widgets/base",
            "overflow": null,
            "_model_module_version": "1.2.0",
            "_view_count": null,
            "flex_flow": null,
            "width": null,
            "min_width": null,
            "border": null,
            "align_items": null,
            "bottom": null,
            "_model_module": "@jupyter-widgets/base",
            "top": null,
            "grid_column": null,
            "overflow_y": null,
            "overflow_x": null,
            "grid_auto_flow": null,
            "grid_area": null,
            "grid_template_columns": null,
            "flex": null,
            "_model_name": "LayoutModel",
            "justify_items": null,
            "grid_row": null,
            "max_height": null,
            "align_content": null,
            "visibility": null,
            "align_self": null,
            "height": null,
            "min_height": null,
            "padding": null,
            "grid_auto_rows": null,
            "grid_gap": null,
            "max_width": null,
            "order": null,
            "_view_module_version": "1.2.0",
            "grid_template_areas": null,
            "object_position": null,
            "object_fit": null,
            "grid_auto_columns": null,
            "margin": null,
            "display": null,
            "left": null
          }
        },
        "0159581b00f641ea988fb287549c9604": {
          "model_module": "@jupyter-widgets/controls",
          "model_name": "ProgressStyleModel",
          "model_module_version": "1.5.0",
          "state": {
            "_view_name": "StyleView",
            "_model_name": "ProgressStyleModel",
            "description_width": "",
            "_view_module": "@jupyter-widgets/base",
            "_model_module_version": "1.5.0",
            "_view_count": null,
            "_view_module_version": "1.2.0",
            "bar_color": null,
            "_model_module": "@jupyter-widgets/controls"
          }
        },
        "084296ebc64c4bbb8d15a7846a24a7a9": {
          "model_module": "@jupyter-widgets/base",
          "model_name": "LayoutModel",
          "model_module_version": "1.2.0",
          "state": {
            "_view_name": "LayoutView",
            "grid_template_rows": null,
            "right": null,
            "justify_content": null,
            "_view_module": "@jupyter-widgets/base",
            "overflow": null,
            "_model_module_version": "1.2.0",
            "_view_count": null,
            "flex_flow": null,
            "width": null,
            "min_width": null,
            "border": null,
            "align_items": null,
            "bottom": null,
            "_model_module": "@jupyter-widgets/base",
            "top": null,
            "grid_column": null,
            "overflow_y": null,
            "overflow_x": null,
            "grid_auto_flow": null,
            "grid_area": null,
            "grid_template_columns": null,
            "flex": null,
            "_model_name": "LayoutModel",
            "justify_items": null,
            "grid_row": null,
            "max_height": null,
            "align_content": null,
            "visibility": null,
            "align_self": null,
            "height": null,
            "min_height": null,
            "padding": null,
            "grid_auto_rows": null,
            "grid_gap": null,
            "max_width": null,
            "order": null,
            "_view_module_version": "1.2.0",
            "grid_template_areas": null,
            "object_position": null,
            "object_fit": null,
            "grid_auto_columns": null,
            "margin": null,
            "display": null,
            "left": null
          }
        },
        "bdf07d22a0b647d582eb0c346c32e0c5": {
          "model_module": "@jupyter-widgets/controls",
          "model_name": "DescriptionStyleModel",
          "model_module_version": "1.5.0",
          "state": {
            "_view_name": "StyleView",
            "_model_name": "DescriptionStyleModel",
            "description_width": "",
            "_view_module": "@jupyter-widgets/base",
            "_model_module_version": "1.5.0",
            "_view_count": null,
            "_view_module_version": "1.2.0",
            "_model_module": "@jupyter-widgets/controls"
          }
        },
        "f773d79907c54ddcb16baa00cd1bff82": {
          "model_module": "@jupyter-widgets/base",
          "model_name": "LayoutModel",
          "model_module_version": "1.2.0",
          "state": {
            "_view_name": "LayoutView",
            "grid_template_rows": null,
            "right": null,
            "justify_content": null,
            "_view_module": "@jupyter-widgets/base",
            "overflow": null,
            "_model_module_version": "1.2.0",
            "_view_count": null,
            "flex_flow": null,
            "width": null,
            "min_width": null,
            "border": null,
            "align_items": null,
            "bottom": null,
            "_model_module": "@jupyter-widgets/base",
            "top": null,
            "grid_column": null,
            "overflow_y": null,
            "overflow_x": null,
            "grid_auto_flow": null,
            "grid_area": null,
            "grid_template_columns": null,
            "flex": null,
            "_model_name": "LayoutModel",
            "justify_items": null,
            "grid_row": null,
            "max_height": null,
            "align_content": null,
            "visibility": null,
            "align_self": null,
            "height": null,
            "min_height": null,
            "padding": null,
            "grid_auto_rows": null,
            "grid_gap": null,
            "max_width": null,
            "order": null,
            "_view_module_version": "1.2.0",
            "grid_template_areas": null,
            "object_position": null,
            "object_fit": null,
            "grid_auto_columns": null,
            "margin": null,
            "display": null,
            "left": null
          }
        }
      }
    }
  },
  "cells": [
    {
      "cell_type": "code",
      "metadata": {
        "id": "mAzPXKFb3aPE",
        "colab": {
          "base_uri": "https://localhost:8080/"
        },
        "outputId": "09c335e4-a849-4767-c0bb-cec28f544702"
      },
      "source": [
        "from google.colab import drive\n",
        "drive.mount('/content/drive')"
      ],
      "execution_count": null,
      "outputs": [
        {
          "output_type": "stream",
          "name": "stdout",
          "text": [
            "Mounted at /content/drive\n"
          ]
        }
      ]
    },
    {
      "cell_type": "code",
      "metadata": {
        "id": "cPe1wmKi3d9W"
      },
      "source": [
        "import warnings\n",
        "warnings.filterwarnings('ignore')"
      ],
      "execution_count": null,
      "outputs": []
    },
    {
      "cell_type": "code",
      "metadata": {
        "colab": {
          "base_uri": "https://localhost:8080/"
        },
        "id": "BIy49QkB3mTQ",
        "outputId": "347a2c24-1b22-4596-999a-7d1152bfa35e"
      },
      "source": [
        "!nvidia-smi"
      ],
      "execution_count": null,
      "outputs": [
        {
          "output_type": "stream",
          "name": "stdout",
          "text": [
            "Mon Sep 13 06:13:06 2021       \n",
            "+-----------------------------------------------------------------------------+\n",
            "| NVIDIA-SMI 470.63.01    Driver Version: 460.32.03    CUDA Version: 11.2     |\n",
            "|-------------------------------+----------------------+----------------------+\n",
            "| GPU  Name        Persistence-M| Bus-Id        Disp.A | Volatile Uncorr. ECC |\n",
            "| Fan  Temp  Perf  Pwr:Usage/Cap|         Memory-Usage | GPU-Util  Compute M. |\n",
            "|                               |                      |               MIG M. |\n",
            "|===============================+======================+======================|\n",
            "|   0  Tesla T4            Off  | 00000000:00:04.0 Off |                    0 |\n",
            "| N/A   35C    P8    10W /  70W |      0MiB / 15109MiB |      0%      Default |\n",
            "|                               |                      |                  N/A |\n",
            "+-------------------------------+----------------------+----------------------+\n",
            "                                                                               \n",
            "+-----------------------------------------------------------------------------+\n",
            "| Processes:                                                                  |\n",
            "|  GPU   GI   CI        PID   Type   Process name                  GPU Memory |\n",
            "|        ID   ID                                                   Usage      |\n",
            "|=============================================================================|\n",
            "|  No running processes found                                                 |\n",
            "+-----------------------------------------------------------------------------+\n"
          ]
        }
      ]
    },
    {
      "cell_type": "code",
      "metadata": {
        "id": "4ws94rYx3nUX",
        "colab": {
          "base_uri": "https://localhost:8080/"
        },
        "outputId": "37455740-abb8-4880-c251-11101a19c7e7"
      },
      "source": [
        "!pip install --quiet transformers\n",
        "!pip install --quiet pytorch-lightning"
      ],
      "execution_count": null,
      "outputs": [
        {
          "output_type": "stream",
          "name": "stdout",
          "text": [
            "\u001b[K     |████████████████████████████████| 2.8 MB 7.1 MB/s \n",
            "\u001b[K     |████████████████████████████████| 895 kB 65.9 MB/s \n",
            "\u001b[K     |████████████████████████████████| 636 kB 75.0 MB/s \n",
            "\u001b[K     |████████████████████████████████| 50 kB 9.1 MB/s \n",
            "\u001b[K     |████████████████████████████████| 3.3 MB 67.4 MB/s \n",
            "\u001b[K     |████████████████████████████████| 922 kB 8.5 MB/s \n",
            "\u001b[K     |████████████████████████████████| 119 kB 72.8 MB/s \n",
            "\u001b[K     |████████████████████████████████| 282 kB 74.8 MB/s \n",
            "\u001b[K     |████████████████████████████████| 829 kB 60.4 MB/s \n",
            "\u001b[K     |████████████████████████████████| 1.3 MB 61.3 MB/s \n",
            "\u001b[K     |████████████████████████████████| 294 kB 94.2 MB/s \n",
            "\u001b[K     |████████████████████████████████| 142 kB 88.7 MB/s \n",
            "\u001b[?25h  Building wheel for future (setup.py) ... \u001b[?25l\u001b[?25hdone\n"
          ]
        }
      ]
    },
    {
      "cell_type": "code",
      "metadata": {
        "colab": {
          "base_uri": "https://localhost:8080/"
        },
        "id": "dg5TSCRB3tn0",
        "outputId": "5a78fb7c-6beb-4193-aa2d-e110ae719c4a"
      },
      "source": [
        "import pandas as pd\n",
        "import numpy as np\n",
        "\n",
        "from tqdm.auto import tqdm\n",
        "\n",
        "import torch\n",
        "import torch.nn as nn\n",
        "from torch.utils.data import Dataset, DataLoader\n",
        "\n",
        "from transformers import AutoTokenizer, AutoModel, AdamW, get_linear_schedule_with_warmup\n",
        "\n",
        "import pytorch_lightning as pl\n",
        "from pytorch_lightning.metrics.functional import accuracy, f1, auroc\n",
        "from pytorch_lightning.callbacks import ModelCheckpoint, EarlyStopping\n",
        "from pytorch_lightning.loggers import TensorBoardLogger\n",
        "\n",
        "from sklearn.model_selection import train_test_split\n",
        "from sklearn.metrics import classification_report, multilabel_confusion_matrix\n",
        "\n",
        "import seaborn as sns\n",
        "from pylab import rcParams\n",
        "import matplotlib.pyplot as plt\n",
        "from matplotlib import rc\n",
        "\n",
        "%matplotlib inline  \n",
        "%config InlineBackend.figure_format='retina'\n",
        "\n",
        "RANDOM_SEED = 42\n",
        "\n",
        "sns.set(style='whitegrid', palette='muted', font_scale=1.2)\n",
        "HAPPY_COLORS_PALETTE = [\"#01BEFE\", \"#FFDD00\", \"#FF7D00\", \"#FF006D\", \"#ADFF02\", \"#8F00FF\"]\n",
        "sns.set_palette(sns.color_palette(HAPPY_COLORS_PALETTE))\n",
        "rcParams['figure.figsize'] = 12, 8\n",
        "\n",
        "pl.seed_everything(RANDOM_SEED)\n",
        "\n",
        "from collections import Counter"
      ],
      "execution_count": null,
      "outputs": [
        {
          "output_type": "stream",
          "name": "stderr",
          "text": [
            "Global seed set to 42\n"
          ]
        }
      ]
    },
    {
      "cell_type": "code",
      "metadata": {
        "colab": {
          "base_uri": "https://localhost:8080/"
        },
        "id": "2J-G5I493xNb",
        "outputId": "76b38b15-17e1-42fb-ae9c-82914f21016f"
      },
      "source": [
        "# import dataset\n",
        "train_df = pd.read_csv('drive/MyDrive/Biocreative/Biocreative/datasets/TRAIN.csv')\n",
        "train_df = train_df.sample(frac=1).reset_index(drop=True)\n",
        "train_df.head(), train_df.shape"
      ],
      "execution_count": null,
      "outputs": [
        {
          "output_type": "execute_result",
          "data": {
            "text/plain": [
              "(       pmid  ...                                     Title&Keywords\n",
              " 0  32265202  ...  Ocular manifestation hospitalised patient conf...\n",
              " 1  33036702  ...  COVID-19 senior Findings lesson mass screening...\n",
              " 2  32406522  ...  COVID-19 Focus lung forget gastrointestinal tr...\n",
              " 3  32599534  ...  subcutaneous insulin administration adequate m...\n",
              " 4  33005463  ...  First Case COVID-19-Associated Collapsing Glom...\n",
              " \n",
              " [5 rows x 13 columns], (30738, 13))"
            ]
          },
          "metadata": {},
          "execution_count": 8
        }
      ]
    },
    {
      "cell_type": "code",
      "metadata": {
        "id": "nPHjZkeR33dn",
        "colab": {
          "base_uri": "https://localhost:8080/"
        },
        "outputId": "6dfc71c1-9fe4-4ebc-9847-17824f53aa4b"
      },
      "source": [
        "LABEL_COLUMNS = train_df.columns.tolist()[5:-1]\n",
        "print(list(LABEL_COLUMNS))"
      ],
      "execution_count": null,
      "outputs": [
        {
          "output_type": "stream",
          "name": "stdout",
          "text": [
            "['Case Report', 'Diagnosis', 'Epidemic Forecasting', 'Mechanism', 'Prevention', 'Transmission', 'Treatment']\n"
          ]
        }
      ]
    },
    {
      "cell_type": "code",
      "metadata": {
        "colab": {
          "base_uri": "https://localhost:8080/",
          "height": 98,
          "referenced_widgets": [
            "27e72bc658904a349498e3bf799ec682",
            "99b65d8b6049402c99d96566059c44c3",
            "fa0b46a5bfad4a068dcd616dc92a9a60",
            "46e739a13d894f658d3394c4114693b9",
            "1707fe4801d74bf0805edf9ad3c8979b",
            "4c33f0883ae049ccaa9769b0a15d3a27",
            "7e1e182bedf14b7b8980501aa8cd2986",
            "ded6c08b47b84389b05a33eff243aa57",
            "c620989ec17e4261a760473d5ebcafce",
            "61d2349b88ef4cef9ca0a340e12b3a88",
            "7a18fce7e87e4efda9b636929707de7c",
            "00246a52fe9d44ef92ee52a39b258886",
            "0190f83f01444f67b56ba49f57ef0212",
            "790a87bf9b71420e8ce5baf83ccdc28c",
            "6769892e88ce47f8bb4010228f5aa824",
            "371ecf24e60b4bdeba898bc90d79928c",
            "d0638babf8ce45668ccf8fc116665d26",
            "bbee78df354a45f38c998b62d1622aa6",
            "38ab2e8f54b541ad90c2b4765b0274fd",
            "b1ade6347a724c02a949e32b8aa99434",
            "e205aeffb7764eb8b1d21f67bffc1ecc",
            "9bf876f19f31465b983c3c0fad9d79ca"
          ]
        },
        "id": "jvN762J5370f",
        "outputId": "38b20692-1894-4a50-9c81-59bfec4db425"
      },
      "source": [
        "# BERT_MODEL_NAME = 'dmis-lab/biobert-base-cased-v1.1' or 'dmis-lab/biobert-base-cased-v1.2'\n",
        "# Ref : microsoft/BiomedNLP-PubMedBERT-base-uncased-abstract-fulltext\n",
        "# Ref 2.0 : lordtt13/COVID-SciBERT\n",
        "BERT_MODEL_NAME = input(\"Enter Bert Model Name: \")\n",
        "tokenizer = AutoTokenizer.from_pretrained(BERT_MODEL_NAME)"
      ],
      "execution_count": null,
      "outputs": [
        {
          "name": "stdout",
          "output_type": "stream",
          "text": [
            "Enter Bert Model Name: microsoft/BiomedNLP-PubMedBERT-base-uncased-abstract-fulltext\n"
          ]
        },
        {
          "output_type": "display_data",
          "data": {
            "application/vnd.jupyter.widget-view+json": {
              "model_id": "27e72bc658904a349498e3bf799ec682",
              "version_minor": 0,
              "version_major": 2
            },
            "text/plain": [
              "Downloading:   0%|          | 0.00/337 [00:00<?, ?B/s]"
            ]
          },
          "metadata": {}
        },
        {
          "output_type": "display_data",
          "data": {
            "application/vnd.jupyter.widget-view+json": {
              "model_id": "00246a52fe9d44ef92ee52a39b258886",
              "version_minor": 0,
              "version_major": 2
            },
            "text/plain": [
              "Downloading:   0%|          | 0.00/226k [00:00<?, ?B/s]"
            ]
          },
          "metadata": {}
        }
      ]
    },
    {
      "cell_type": "code",
      "metadata": {
        "colab": {
          "base_uri": "https://localhost:8080/",
          "height": 145,
          "referenced_widgets": [
            "d2d5dc43f801499eac08b8129a29f355",
            "4a918a82406548c9a872fb2546055223",
            "36f229f3d75e42ba8c654f453a558270",
            "708dcac60e6d4f60a5e097355cdcd8b8",
            "1053d7ca7e5c449997499066c33cf21d",
            "cb38e57217664fb1b13e25ac4204ab09",
            "ea44f0a688b34812a35c9a038e55b9dc",
            "c8a4961e419b4ca3832d99273c93331b",
            "35ada0ed91ad4320b43423d8ebda8004",
            "eda93ce6fe854dd6848e00d532a7a27f",
            "32a242ed084e4e609fabb685b425e44b",
            "60a2587627ef477c89ba6749ae970fad",
            "5df73ab641324e7587fffd8911fc0b60",
            "48b1fee5d77f4148b7e0e780b91bb297",
            "4698da5c14bc4f439f13c5e8340fdad3",
            "bbb72611db5e426abf76dcdf29f981eb",
            "11f46a0bb2b148acb74fe17cfa10816d",
            "873d7b43bb9e4b15aa27818e437eebd8",
            "2e8dd4b7dec745fab3bd1a7c05c5c564",
            "a878c6cc6e2449468982f88e7e2e276c",
            "99d12074934745ceb4f5e68366044484",
            "2e5f98f0e08d45c1b55bee1cf17a0da1",
            "b7146d17c242475fb71f802f3e8a871a",
            "f76efc4f8c9b46cb9d473a599d4237b4",
            "b35bd27895f44f90b22e272d2f89d3ce",
            "1ab1b32bbdd941e2a46c33f1b23cd7ff",
            "08948771918b4cb08a4b6a8dc6b55716",
            "8393d989b8b24f3e9ec0bf641e4bf271",
            "873f8ddd35634886adf30fdc59918300",
            "bad7a2a8f0ad40ff860d3b467906d090",
            "f5697253988a4cf084adcb835a1d2ec5",
            "044d834c75904b3da552df5045ebaff3",
            "e95db6e5ff954b6c84adf393bac65270",
            "d580e8e982904a7b969f6493ee90a806",
            "fa3ab8c10bb04d01b94e7c978ab7cc49",
            "e4be62b0d84341c181e43397e5233233",
            "2af9aa9f9d3f432aabc2906d77809d43",
            "9d3f457191a440ed94a9185fa39e94ec",
            "3f5a28dc86e24e3c93df41478073c1b9",
            "64eb56a53c404e858326073a2394b5c5",
            "9be8ada23e4941f7a0404cd7bfbed560",
            "7630b95a66b5469da765ade9c1011535",
            "b1a12fac6ba746ffba4c728fb05bacf9",
            "00fe2999c8444a62b3d3a46e1a5f9943"
          ]
        },
        "id": "ewkGGct8EhVo",
        "outputId": "3f4b0c30-63c1-44ac-d2d5-0859d7950584"
      },
      "source": [
        "# model_name = \"allenai/specter\"\n",
        "EMBEDDING_MODEL = \"allenai/specter\"\n",
        "embedding_tokenizer = AutoTokenizer.from_pretrained(EMBEDDING_MODEL)"
      ],
      "execution_count": null,
      "outputs": [
        {
          "output_type": "display_data",
          "data": {
            "application/vnd.jupyter.widget-view+json": {
              "model_id": "d2d5dc43f801499eac08b8129a29f355",
              "version_minor": 0,
              "version_major": 2
            },
            "text/plain": [
              "Downloading:   0%|          | 0.00/321 [00:00<?, ?B/s]"
            ]
          },
          "metadata": {}
        },
        {
          "output_type": "display_data",
          "data": {
            "application/vnd.jupyter.widget-view+json": {
              "model_id": "60a2587627ef477c89ba6749ae970fad",
              "version_minor": 0,
              "version_major": 2
            },
            "text/plain": [
              "Downloading:   0%|          | 0.00/612 [00:00<?, ?B/s]"
            ]
          },
          "metadata": {}
        },
        {
          "output_type": "display_data",
          "data": {
            "application/vnd.jupyter.widget-view+json": {
              "model_id": "b7146d17c242475fb71f802f3e8a871a",
              "version_minor": 0,
              "version_major": 2
            },
            "text/plain": [
              "Downloading:   0%|          | 0.00/222k [00:00<?, ?B/s]"
            ]
          },
          "metadata": {}
        },
        {
          "output_type": "display_data",
          "data": {
            "application/vnd.jupyter.widget-view+json": {
              "model_id": "d580e8e982904a7b969f6493ee90a806",
              "version_minor": 0,
              "version_major": 2
            },
            "text/plain": [
              "Downloading:   0%|          | 0.00/112 [00:00<?, ?B/s]"
            ]
          },
          "metadata": {}
        }
      ]
    },
    {
      "cell_type": "code",
      "metadata": {
        "id": "dPe2NxpZxdRg"
      },
      "source": [
        "title_abs = [row[\"title\"] + embedding_tokenizer.sep_token + (row.get(\"abstract\") or '') for _, row in train_df.iterrows()]"
      ],
      "execution_count": null,
      "outputs": []
    },
    {
      "cell_type": "code",
      "metadata": {
        "id": "tK7yQZRbxy8t"
      },
      "source": [
        "# add title and abstract text\n",
        "train_df[\"title_abs\"] = title_abs"
      ],
      "execution_count": null,
      "outputs": []
    },
    {
      "cell_type": "code",
      "metadata": {
        "colab": {
          "base_uri": "https://localhost:8080/"
        },
        "id": "IhEHKoniFMUN",
        "outputId": "ae7ba110-148d-4c48-e3d0-619e20d878f1"
      },
      "source": [
        "print(\"Label wise data samples: \")\n",
        "train_df[LABEL_COLUMNS].sum().sort_values()"
      ],
      "execution_count": null,
      "outputs": [
        {
          "output_type": "stream",
          "name": "stdout",
          "text": [
            "Label wise data samples: \n"
          ]
        },
        {
          "output_type": "execute_result",
          "data": {
            "text/plain": [
              "Epidemic Forecasting     1528\n",
              "Case Report              2291\n",
              "Transmission             3165\n",
              "Mechanism                5414\n",
              "Diagnosis                7456\n",
              "Treatment               10091\n",
              "Prevention              13998\n",
              "dtype: int64"
            ]
          },
          "metadata": {},
          "execution_count": 14
        }
      ]
    },
    {
      "cell_type": "code",
      "metadata": {
        "id": "z2rEib0m4Q8L"
      },
      "source": [
        "MAX_TOKEN_COUNT = 512"
      ],
      "execution_count": null,
      "outputs": []
    },
    {
      "cell_type": "code",
      "metadata": {
        "id": "gBqnBhdu3-ei"
      },
      "source": [
        "class TopicAnnotationDataset(Dataset):\n",
        "\n",
        "  def __init__(\n",
        "    self,\n",
        "    data: pd.DataFrame,\n",
        "    embedding_tokenizer: AutoTokenizer,\n",
        "    max_token_len: int = 512,\n",
        "  ):\n",
        "    self.embedding_tokenizer = embedding_tokenizer\n",
        "    self.data = data\n",
        "    self.max_token_len = max_token_len\n",
        "    \n",
        "  def __len__(self):\n",
        "    return len(self.data)\n",
        "\n",
        "  def __getitem__(self, index=int):\n",
        "    \n",
        "    data_row = self.data.iloc[index]\n",
        "\n",
        "    text = data_row.title_abs\n",
        "    labels = data_row[LABEL_COLUMNS]\n",
        "\n",
        "    inputs = self.embedding_tokenizer.encode_plus(\n",
        "        text, \n",
        "        max_length=self.max_token_len,\n",
        "        padding=\"max_length\", \n",
        "        truncation=True, \n",
        "        return_tensors=\"pt\", \n",
        "    )\n",
        "\n",
        "    return dict(\n",
        "        text=text,\n",
        "        input_ids=inputs[\"input_ids\"].flatten(),\n",
        "        attention_mask=inputs[\"attention_mask\"].flatten(),\n",
        "        labels=torch.FloatTensor(labels) \n",
        "    )  "
      ],
      "execution_count": null,
      "outputs": []
    },
    {
      "cell_type": "code",
      "metadata": {
        "id": "ou3_fJXGBnHg"
      },
      "source": [
        "train_dataset = TopicAnnotationDataset(\n",
        "    train_df,\n",
        "    embedding_tokenizer=embedding_tokenizer,\n",
        ")"
      ],
      "execution_count": null,
      "outputs": []
    },
    {
      "cell_type": "code",
      "metadata": {
        "id": "-mS-6FdgBp6Z"
      },
      "source": [
        "class TopicAnnotationDataModule(pl.LightningDataModule):\n",
        "\n",
        "  def __init__(self, train_df, test_df, tokenizer, embedding_tokenizer, batch_size=8, max_token_len=128):\n",
        "    \n",
        "    super().__init__()\n",
        "    self.batch_size = batch_size\n",
        "    self.train_df = train_df\n",
        "    self.test_df = test_df\n",
        "    self.embedding_tokenizer = embedding_tokenizer\n",
        "    self.max_token_len = max_token_len\n",
        "\n",
        "  def setup(self, stage=None):\n",
        "    \n",
        "    self.train_dataset =  TopicAnnotationDataset(\n",
        "        data=self.train_df,\n",
        "        embedding_tokenizer=self.embedding_tokenizer,\n",
        "        max_token_len=self.max_token_len\n",
        "    )\n",
        "\n",
        "    self.test_dataset = TopicAnnotationDataset(\n",
        "        data=self.test_df,\n",
        "        embedding_tokenizer=self.embedding_tokenizer,\n",
        "        max_token_len=self.max_token_len\n",
        "    )\n",
        "\n",
        "  def train_dataloader(self):\n",
        "\n",
        "    return DataLoader(\n",
        "        self.train_dataset,\n",
        "        batch_size=self.batch_size,\n",
        "        shuffle=True,\n",
        "        num_workers=2\n",
        "    )\n",
        "\n",
        "  def val_dataloader(self):\n",
        "\n",
        "    return DataLoader(\n",
        "        self.test_dataset,\n",
        "        batch_size=self.batch_size,\n",
        "        num_workers=2\n",
        "    )\n",
        "\n",
        "  def test_dataloader(self):\n",
        "    \n",
        "    return DataLoader(\n",
        "        self.test_dataset,\n",
        "        batch_size=self.batch_size,\n",
        "        num_workers=2\n",
        "    )"
      ],
      "execution_count": null,
      "outputs": []
    },
    {
      "cell_type": "code",
      "metadata": {
        "colab": {
          "base_uri": "https://localhost:8080/",
          "height": 35
        },
        "id": "o5ELtrPQebvV",
        "outputId": "6253cb3e-1f82-4e94-bb26-6af012dcad83"
      },
      "source": [
        "%pwd"
      ],
      "execution_count": null,
      "outputs": [
        {
          "output_type": "execute_result",
          "data": {
            "application/vnd.google.colaboratory.intrinsic+json": {
              "type": "string"
            },
            "text/plain": [
              "'/content'"
            ]
          },
          "metadata": {},
          "execution_count": 19
        }
      ]
    },
    {
      "cell_type": "code",
      "metadata": {
        "colab": {
          "base_uri": "https://localhost:8080/"
        },
        "id": "fMLXnUybDWIs",
        "outputId": "e0843bdb-5b60-4351-8ddb-5557f76965df"
      },
      "source": [
        "val_df = pd.read_csv(\"/content/drive/MyDrive/Biocreative/Biocreative/datasets/VAL.csv\")\n",
        "val_df = val_df.sample(frac=1).reset_index(drop=True)\n",
        "val_df.shape"
      ],
      "execution_count": null,
      "outputs": [
        {
          "output_type": "execute_result",
          "data": {
            "text/plain": [
              "(3423, 13)"
            ]
          },
          "metadata": {},
          "execution_count": 20
        }
      ]
    },
    {
      "cell_type": "code",
      "metadata": {
        "id": "-3AWtep4PYse"
      },
      "source": [
        "title_abs = [row[\"title\"] + embedding_tokenizer.sep_token + (row.get(\"abstract\") or '') for _, row in val_df.iterrows()]\n",
        "val_df[\"title_abs\"] = title_abs"
      ],
      "execution_count": null,
      "outputs": []
    },
    {
      "cell_type": "code",
      "metadata": {
        "id": "gCZ1sc2Ewm_K"
      },
      "source": [
        "N_EPOCHS = 10\n",
        "BATCH_SIZE = 4\n",
        "\n",
        "data_module = TopicAnnotationDataModule(\n",
        "    train_df,\n",
        "    val_df,\n",
        "    tokenizer,\n",
        "    embedding_tokenizer,\n",
        "    batch_size=BATCH_SIZE,\n",
        "    max_token_len=MAX_TOKEN_COUNT\n",
        ")"
      ],
      "execution_count": null,
      "outputs": []
    },
    {
      "cell_type": "code",
      "metadata": {
        "colab": {
          "base_uri": "https://localhost:8080/"
        },
        "id": "xWNeGIHA9O7K",
        "outputId": "b78a9156-c0a9-4333-91d0-89e106d6307e"
      },
      "source": [
        "Label_count = train_df[LABEL_COLUMNS].sum().to_dict()\n",
        "count = list(Label_count.values())\n",
        "max_val = max(count)\n",
        "class_weight = [max_val/val for val in count]\n",
        "print(class_weight)"
      ],
      "execution_count": null,
      "outputs": [
        {
          "output_type": "stream",
          "name": "stdout",
          "text": [
            "[6.109995635093846, 1.8774141630901287, 9.160994764397905, 2.5855190247506465, 1.0, 4.4227488151658765, 1.3871766921018729]\n"
          ]
        }
      ]
    },
    {
      "cell_type": "code",
      "metadata": {
        "colab": {
          "base_uri": "https://localhost:8080/"
        },
        "id": "tZxCvK9y9ZQw",
        "outputId": "3548e611-9a43-4a8a-b27e-8729eecdad04"
      },
      "source": [
        "# print label and corresponding weights\n",
        "dict(zip(LABEL_COLUMNS, class_weight))"
      ],
      "execution_count": null,
      "outputs": [
        {
          "output_type": "execute_result",
          "data": {
            "text/plain": [
              "{'Case Report': 6.109995635093846,\n",
              " 'Diagnosis': 1.8774141630901287,\n",
              " 'Epidemic Forecasting': 9.160994764397905,\n",
              " 'Mechanism': 2.5855190247506465,\n",
              " 'Prevention': 1.0,\n",
              " 'Transmission': 4.4227488151658765,\n",
              " 'Treatment': 1.3871766921018729}"
            ]
          },
          "metadata": {},
          "execution_count": 24
        }
      ]
    },
    {
      "cell_type": "code",
      "metadata": {
        "id": "nvp3Eah69cUu"
      },
      "source": [
        "class_weight = torch.tensor(class_weight, device=\"cuda\")"
      ],
      "execution_count": null,
      "outputs": []
    },
    {
      "cell_type": "code",
      "metadata": {
        "id": "uKYtVKIsWU3b"
      },
      "source": [
        "class FFN(nn.Module):\n",
        "  def __init__(self, in_feat, out_feat, dropout):\n",
        "      super(FFN, self).__init__()\n",
        "      self.in2hid = nn.Linear(in_feat, in_feat)\n",
        "      self.hid2out = nn.Linear(in_feat, out_feat)\n",
        "\n",
        "      self.activation = nn.ReLU()\n",
        "      self.dropout = nn.Dropout(dropout)\n",
        "\n",
        "  def forward(self, input):\n",
        "      hid = self.activation(self.dropout(self.in2hid(input)))\n",
        "      return self.hid2out(hid)"
      ],
      "execution_count": null,
      "outputs": []
    },
    {
      "cell_type": "code",
      "metadata": {
        "id": "R8OBBKPA_XKF"
      },
      "source": [
        "class Attention(nn.Module):\n",
        "  def __init__(self, dimensions, attention_type=\"general\"):\n",
        "    super(Attention, self).__init__()\n",
        "\n",
        "    if attention_type not in ['dot', 'general']:\n",
        "      raise ValueError('Invalid attention type selected.')\n",
        "    \n",
        "    self.attention_type = attention_type\n",
        "    if self.attention_type == \"general\":\n",
        "      self.linear_in = nn.Linear(dimensions, dimensions, bias=False)\n",
        "\n",
        "    self.linear_out = nn.Linear(dimensions * 2, dimensions, bias=False)\n",
        "    self.softmax = nn.Softmax(dim=-1)\n",
        "    self.tanh = nn.Tanh()\n",
        "\n",
        "  def forward(self, query, context):\n",
        "    batch_size, output_len, dimensions = query.size()\n",
        "    query_len = context.size(1)\n",
        "\n",
        "    if self.attention_type == \"general\":\n",
        "        query = query.reshape(batch_size * output_len, dimensions)\n",
        "        query = self.linear_in(query)\n",
        "        query = query.reshape(batch_size, output_len, dimensions)\n",
        "\n",
        "    # (batch_size, output_len, dimensions) * (batch_size, query_len, dimensions) ->\n",
        "    # (batch_size, output_len, query_len)\n",
        "    attention_scores = torch.bmm(query, context.transpose(1, 2).contiguous())\n",
        "\n",
        "    # Compute weights across every context sequence\n",
        "    attention_scores = attention_scores.view(batch_size * output_len, query_len)\n",
        "    attention_weights = self.softmax(attention_scores)\n",
        "    attention_weights = attention_weights.view(batch_size, output_len, query_len)\n",
        "\n",
        "    # (batch_size, output_len, query_len) * (batch_size, query_len, dimensions) ->\n",
        "    # (batch_size, output_len, dimensions)\n",
        "    mix = torch.bmm(attention_weights, context)\n",
        "\n",
        "    # concat -> (batch_size * output_len, 2*dimensions)\n",
        "    combined = torch.cat((mix, query), dim=2)\n",
        "    combined = combined.view(batch_size * output_len, 2 * dimensions)\n",
        "\n",
        "    # Apply linear_out on every 2nd dimension of concat\n",
        "    # output -> (batch_size, output_len, dimensions)\n",
        "    output = self.linear_out(combined).view(batch_size, output_len, dimensions)\n",
        "    output = self.tanh(output)\n",
        "\n",
        "    return output, attention_weights"
      ],
      "execution_count": null,
      "outputs": []
    },
    {
      "cell_type": "code",
      "metadata": {
        "id": "xke_ChS4TwYy"
      },
      "source": [
        "# batch_size, sequence_length, hidden_dim = (4, 512, 768)\n",
        "# embedding_tensor = torch.rand(batch_size, sequence_length, hidden_dim)\n",
        "# print(embedding_tensor.shape)\n",
        "\n",
        "# # create attention object\n",
        "# attention = Attention(hidden_dim)\n",
        "\n",
        "# output, att = attention(embedding_tensor, embedding_tensor)\n",
        "# output, att = attention(output, output)\n",
        "\n",
        "# n_classes = 7\n",
        "# linear_1 = nn.Linear(512, n_classes)\n",
        "\n",
        "# result = linear_1(output.transpose(1, 2))\n",
        "# result.transpose(1, 2).shape"
      ],
      "execution_count": null,
      "outputs": []
    },
    {
      "cell_type": "code",
      "metadata": {
        "id": "IEvzbePlw5RX"
      },
      "source": [
        "class TopicAnnotationTagger(pl.LightningModule):\n",
        "\n",
        "  def __init__(self, n_classes: int, n_training_steps=None, n_warmup_steps=None):\n",
        "    \n",
        "    super().__init__()\n",
        "\n",
        "    self.specter = AutoModel.from_pretrained(EMBEDDING_MODEL, return_dict=True) # specter embedding model\n",
        "\n",
        "    self.n_training_steps = n_training_steps\n",
        "    self.n_warmup_steps = n_warmup_steps\n",
        "    self.criterion = nn.BCELoss(weight=class_weight)\n",
        "\n",
        "    self.sequence_length = 512\n",
        "\n",
        "    self.fc = nn.Linear(self.specter.config.hidden_size, n_classes)\n",
        "    self.relu = nn.ReLU()\n",
        "    self.softmax = nn.Softmax(dim=1)\n",
        "    self.classifier = nn.Linear(self.sequence_length, 1)\n",
        "    self.sigmoid = nn.Sigmoid()\n",
        "\n",
        "    self.attention = Attention(self.specter.config.hidden_size)\n",
        "    # self.hidden2labels = nn.Linear(self.sequence_length, 7)\n",
        "    self.hidden2labels = nn.Linear(self.specter.config.hidden_size, 7)\n",
        "\n",
        "  def forward(self, input_ids, attention_mask, labels=None):\n",
        "\n",
        "    specter_output = self.specter(input_ids, attention_mask)\n",
        "    # (batch_size x sequence_length x hidden_size)\n",
        "    specter_output = specter_output.last_hidden_state\n",
        "    \n",
        "    specter_output, x = self.attention(specter_output, specter_output)\n",
        "    specter_output, x = self.attention(specter_output, specter_output)\n",
        "    # print(specter_output.shape)\n",
        "\n",
        "    # (batch_size x sequence_length x hidden_size) => (batch_size x sequence_length x n_classes)\n",
        "    specter_output = self.hidden2labels(specter_output).transpose(1,2)\n",
        "    # apply sigmoid function to the same\n",
        "    output = self.sigmoid(self.classifier(specter_output).squeeze(-1))\n",
        "\n",
        "    loss = 0\n",
        "    if labels is not None:\n",
        "      loss = self.criterion(output, labels)\n",
        "    return loss, output\n",
        "\n",
        "  def training_step(self, batch, batch_idx):\n",
        "\n",
        "    input_ids = batch[\"input_ids\"]\n",
        "    attention_mask = batch[\"attention_mask\"]\n",
        "    labels = batch[\"labels\"]\n",
        "\n",
        "    loss, outputs = self(input_ids, attention_mask, labels)\n",
        "    self.log(\"train_loss\", loss, prog_bar=True, logger=True)\n",
        "    return {\"loss\": loss, \"predictions\": outputs, \"labels\": labels}\n",
        "\n",
        "  def validation_step(self, batch, batch_idx):\n",
        "\n",
        "    input_ids = batch[\"input_ids\"]\n",
        "    attention_mask = batch[\"attention_mask\"]\n",
        "    labels = batch[\"labels\"]\n",
        "\n",
        "    loss, outputs = self(input_ids, attention_mask, labels)\n",
        "    self.log(\"val_loss\", loss, prog_bar=True, logger=True)\n",
        "    return loss\n",
        "\n",
        "  def test_step(self, batch, batch_idx):\n",
        "    \n",
        "    input_ids = batch[\"input_ids\"]\n",
        "    attention_mask = batch[\"attention_mask\"]\n",
        "    labels = batch[\"labels\"]\n",
        "\n",
        "    loss, outputs = self(input_ids, attention_mask, labels)\n",
        "    self.log(\"test_loss\", loss, prog_bar=True, logger=True)\n",
        "    return loss\n",
        "\n",
        "  def training_epoch_end(self, outputs):\n",
        "\n",
        "    labels = []\n",
        "    predictions = []\n",
        "    for output in outputs:\n",
        "      for out_labels in output[\"labels\"].detach().cpu():\n",
        "        labels.append(out_labels)\n",
        "      for out_predictions in output[\"predictions\"].detach().cpu():\n",
        "        predictions.append(out_predictions)\n",
        "\n",
        "    labels = torch.stack(labels).int()\n",
        "    predictions = torch.stack(predictions)\n",
        "\n",
        "    for i, name in enumerate(LABEL_COLUMNS):\n",
        "      class_roc_auc = auroc(predictions[:, i], labels[:, i])\n",
        "      self.logger.experiment.add_scalar(f\"{name}_roc_auc/Train\", class_roc_auc, self.current_epoch)\n",
        "\n",
        "  def configure_optimizers(self):\n",
        "\n",
        "    optimizer = AdamW(self.parameters(), lr=2e-5)\n",
        "\n",
        "    scheduler = get_linear_schedule_with_warmup(\n",
        "      optimizer,\n",
        "      num_warmup_steps=self.n_warmup_steps,\n",
        "      num_training_steps=self.n_training_steps\n",
        "    )\n",
        "\n",
        "    return dict(\n",
        "        optimizer=optimizer,\n",
        "        lr_scheduler=dict(\n",
        "            scheduler=scheduler,\n",
        "            interval='step'\n",
        "            )\n",
        "        )"
      ],
      "execution_count": null,
      "outputs": []
    },
    {
      "cell_type": "code",
      "metadata": {
        "id": "NQ0G4TvczkP4"
      },
      "source": [
        "steps_per_epoch=len(train_df) // BATCH_SIZE\n",
        "total_training_steps = steps_per_epoch * N_EPOCHS"
      ],
      "execution_count": null,
      "outputs": []
    },
    {
      "cell_type": "code",
      "metadata": {
        "colab": {
          "base_uri": "https://localhost:8080/"
        },
        "id": "ViKW_Boiz3WV",
        "outputId": "097bf7df-237e-4ec4-b0e5-e08ef82773f2"
      },
      "source": [
        "warmup_steps = total_training_steps // 5\n",
        "warmup_steps, total_training_steps"
      ],
      "execution_count": null,
      "outputs": [
        {
          "output_type": "execute_result",
          "data": {
            "text/plain": [
              "(15368, 76840)"
            ]
          },
          "metadata": {},
          "execution_count": 30
        }
      ]
    },
    {
      "cell_type": "code",
      "metadata": {
        "id": "FgwMF0_3z4x-",
        "colab": {
          "base_uri": "https://localhost:8080/",
          "height": 49,
          "referenced_widgets": [
            "fa4c2138e5ec42bbb01e31f33f3b2860",
            "a1d1f247d87f41339571c468a4b8ce91",
            "25bbcd2e0eef4e1ab7f4942efe35f249",
            "ea1489a7b161429db110072956ccf39f",
            "be625454afb84916b15c9c047436f3db",
            "95a7ce3393194352a2ef5f5370aece7a",
            "0a07ead49a0848a38189f2d114999224",
            "c8f8d62e38a24fed8ba20d862bbfe75d",
            "9325262cec6b4b5b91099ef4c5d76e3c",
            "5525fa224f9d4f3c98ff2374eae0fe3e",
            "7ac60f4abdf4445f82fd90205bc80f33"
          ]
        },
        "outputId": "063977db-1439-4460-f2cc-08fa5a4bf00e"
      },
      "source": [
        "model = TopicAnnotationTagger(\n",
        "    n_classes=len(LABEL_COLUMNS),\n",
        "    n_warmup_steps=warmup_steps,\n",
        "    n_training_steps=total_training_steps\n",
        ")"
      ],
      "execution_count": null,
      "outputs": [
        {
          "output_type": "display_data",
          "data": {
            "application/vnd.jupyter.widget-view+json": {
              "model_id": "fa4c2138e5ec42bbb01e31f33f3b2860",
              "version_minor": 0,
              "version_major": 2
            },
            "text/plain": [
              "Downloading:   0%|          | 0.00/440M [00:00<?, ?B/s]"
            ]
          },
          "metadata": {}
        }
      ]
    },
    {
      "cell_type": "code",
      "metadata": {
        "colab": {
          "base_uri": "https://localhost:8080/",
          "height": 35
        },
        "id": "FABmVeWfaU9D",
        "outputId": "97757130-1f6e-4115-d75a-ba22c615a998"
      },
      "source": [
        "%pwd"
      ],
      "execution_count": null,
      "outputs": [
        {
          "output_type": "execute_result",
          "data": {
            "application/vnd.google.colaboratory.intrinsic+json": {
              "type": "string"
            },
            "text/plain": [
              "'/content/drive/My Drive/Biocreative/Biocreative/checkpoints_and_logs'"
            ]
          },
          "metadata": {},
          "execution_count": 46
        }
      ]
    },
    {
      "cell_type": "code",
      "metadata": {
        "id": "n0fX6c7ndf4Y",
        "colab": {
          "base_uri": "https://localhost:8080/"
        },
        "outputId": "a083344d-55c5-4e24-a56b-0272b6bc1dfd"
      },
      "source": [
        "cd '/content/drive/MyDrive/Biocreative/Biocreative/checkpoints_and_logs/'"
      ],
      "execution_count": null,
      "outputs": [
        {
          "output_type": "stream",
          "name": "stdout",
          "text": [
            "/content/drive/MyDrive/Biocreative/Biocreative/checkpoints_and_logs\n"
          ]
        }
      ]
    },
    {
      "cell_type": "code",
      "metadata": {
        "id": "vbV_UYtydmTx"
      },
      "source": [
        "checkpoint_callback = ModelCheckpoint(\n",
        "    dirpath=\"specter-da-1-checkpoints\",\n",
        "    filename=\"specter-da-1-checkpoint\",\n",
        "    save_top_k=1,\n",
        "    verbose=True,\n",
        "    monitor=\"val_loss\",\n",
        "    mode=\"min\"\n",
        ")"
      ],
      "execution_count": null,
      "outputs": []
    },
    {
      "cell_type": "code",
      "metadata": {
        "id": "4-RmpccZdqEk"
      },
      "source": [
        "logger = TensorBoardLogger(\"specter-da-1-lightning_logs\", name=\"topic-annotations\")"
      ],
      "execution_count": null,
      "outputs": []
    },
    {
      "cell_type": "code",
      "metadata": {
        "id": "aE7WyXJwdtoH"
      },
      "source": [
        "early_stopping_callback = EarlyStopping(monitor='val_loss', patience=2)"
      ],
      "execution_count": null,
      "outputs": []
    },
    {
      "cell_type": "code",
      "metadata": {
        "colab": {
          "base_uri": "https://localhost:8080/"
        },
        "id": "LWZpif0HdutD",
        "outputId": "284a2df3-8118-4f1f-88bd-135a310e848a"
      },
      "source": [
        "trainer = pl.Trainer(\n",
        "    logger=logger,\n",
        "    checkpoint_callback=True,\n",
        "    callbacks=[checkpoint_callback, early_stopping_callback],\n",
        "    max_epochs=N_EPOCHS,\n",
        "    gpus=1,\n",
        "    progress_bar_refresh_rate=30\n",
        ")"
      ],
      "execution_count": null,
      "outputs": [
        {
          "output_type": "stream",
          "name": "stderr",
          "text": [
            "GPU available: True, used: True\n",
            "TPU available: False, using: 0 TPU cores\n",
            "IPU available: False, using: 0 IPUs\n"
          ]
        }
      ]
    },
    {
      "cell_type": "code",
      "metadata": {
        "colab": {
          "base_uri": "https://localhost:8080/",
          "height": 655,
          "referenced_widgets": [
            "d94a82f513054076a9a7b28f981d76ba",
            "aec738c68f62414bb8d7b7bdc4af9b55",
            "3c3ee25ac2e7454189d59604cf7910f8",
            "65a78033cbfe4f20b29c445d3f77c54d",
            "38288bd1e1c548f3890c27b75ded023d",
            "91c9ba0270924c4597c59a9e7bd8e310",
            "e9c2eb0ba0e04756819d8794ebd713d8",
            "68a1f0eb6d7c472dbfec2a6b605eccad",
            "86bbfea854db4d1ab57b49d2deb4c5e6",
            "f1b0f8ce683747a8b6e3e4cf1c96f4ce",
            "e4d6c6a5942a4cfcb81ab0426419ad17",
            "861eefb2dac34074971668214ca01a46",
            "70e1f7de29db46419b8ba22499b798bb",
            "13cfc090826c47dd8ddff34629f7cd1c",
            "e33c5ec370f84b239b00b810ca1116ae",
            "0f642fc2f7114c39977ebec7f425b6cc",
            "ae929f722f1d4cd1822a15a4f47b3cdb",
            "a841bcb62a8e4b57b92884801da1290c",
            "9ae381f89d1b40afb2fc7dc57e03cb4b",
            "8f181552144e4f34abe545ad754e9c27",
            "56670e88eeed4e218ff5368fd0a37adf",
            "acfa6e7afefd46d9a352c927581428e4",
            "27521ca5bff442afa53182672a81944c",
            "37f8851a20c14e75be7b971b817c2e7f",
            "f164e55949104f4888a6a4b6946b8a51",
            "d67f00e31b5e434ab63f1d7fcada31b6",
            "903ece911b2b4ca2b846e0fb28a127ff",
            "195e1b65b4994b76987fa6d4a3c4bd7f",
            "7d4598211bb24c4fb5bab071ced95947",
            "19559af316814463a0282b4090454227",
            "584ef41ee7764080abc2224478b145a5",
            "eda90d18cbc34add8c758a79fb343679",
            "d82cec5f87cb47999a8eb371df70be5d",
            "f1b09ed5305049bfa783ee71bc9667af",
            "baa9ecea8306436986a161749eb9b040",
            "53ec55b46abc4b20a941580d4eff06a2",
            "ef9459db901242e8aca6c75e8b2834fb",
            "e39fc23c653241f692cd8635861a14ff",
            "2bb36d5986b04833b19a3e9c369eb052",
            "17081379ebd849c2aeecf29e52c645c3",
            "b36c3eadad9f467294fbcd9b9920095b",
            "2fcd434fcb224b548d55ae2d206541a2",
            "c93e6990b7f34d22842b2e099d5665d0",
            "8454518c140e49df9faab5b9522048f2",
            "aa257159e7884b80b5b5acba11ad059f",
            "8990840a526d46429009bdb275c3590e",
            "6c96952cf6a04ef48304ed8e31841c7a",
            "f9d338f1c93141d98389392b23411938",
            "2c56c08520c34b238412329c43629c78",
            "98ccfa5202c340caa5259258751f6191",
            "0da52adc503b4b4cb1ce31fcfb8a1263",
            "bc9de2815fd94d65920f04d2e066c0db",
            "720bdb71f2e94291b37dc298e8ac5b05",
            "a2e72f6f86f1400e803308d600194030",
            "47bc307ab7884acfa9fa44f31df51961",
            "1c33fe7820cc468a9d12d16f97eb49fc",
            "725bd7164cf44d62896c02104ebc89f3",
            "387ed62c9eed4fe4a2f57f1b24e25590",
            "f31ef7877e034e0ba7402f408fe1d09e",
            "a6666f2ab4d5496bbaf5eda422d1c0c0",
            "312efd24fc5842cab0db2e98f75c2db9",
            "35e481755c9c4fec8df20167a92bed6e",
            "84fae219599e44ceb1a9d1dba0b21bc8",
            "3126ed7b44ff4d01b14ead409025ee42",
            "6cb3e96a2a8c4bf9b194a83cef5e057e",
            "90c5416dea2f4ab08d5d206062617ff7",
            "8f39678f8b3f48bb81068925035bab84",
            "c1dfb8fef6494ef4b7a201ad0ef4e8a8",
            "efb0037711ef4224966d2e924401966f",
            "851d6ee86f6843cca47bacdd018d086b",
            "348cfb66330145c2a42b8ff7762ce52d",
            "2650e05f8d3b40bf8108722dbb23f352",
            "b9ef77ea432d489ca9fda3219f61fb36",
            "ce5c068a69f94b268e6b20ae712f5679",
            "edce2edfc745432988e739b1f5ed0df3",
            "21c1a14c8d8241398e38f7b2da3ee013",
            "a718f065b65c49daba32d9de8200b8d5",
            "6272a7590fcc48fc9700a35bc6b3e952",
            "daef733358704463874db3c81ca9fbbb",
            "ee00435a5dc3405c8d0aabccd4bb0f06",
            "a57ca65e33994ac7992323cbfca1387c",
            "d3bf2be747c548998b229fd1ee8084b4",
            "279ff041b325461f917f4d2214546712",
            "c5e2a8b016d146d9869c9303ba2ea97e",
            "d5cc26f3edfd43e18b761742b99c6501",
            "2f6f703ad96844f1b44a61ecb13c71ef",
            "642c399ec95640e3a9cf3b184af3ea7e",
            "154fd20863384747bec84df5d6678a17"
          ]
        },
        "id": "K-O8JXQodvla",
        "outputId": "ee65efb9-a55a-4c23-9a26-484d2b4d80b7"
      },
      "source": [
        "trainer.fit(model, data_module)"
      ],
      "execution_count": null,
      "outputs": [
        {
          "output_type": "stream",
          "name": "stderr",
          "text": [
            "/usr/local/lib/python3.7/dist-packages/pytorch_lightning/core/datamodule.py:424: LightningDeprecationWarning: DataModule.prepare_data has already been called, so it will not be called again. In v1.6 this behavior will change to always call DataModule.prepare_data.\n",
            "  f\"DataModule.{name} has already been called, so it will not be called again. \"\n",
            "/usr/local/lib/python3.7/dist-packages/pytorch_lightning/core/datamodule.py:424: LightningDeprecationWarning: DataModule.setup has already been called, so it will not be called again. In v1.6 this behavior will change to always call DataModule.setup.\n",
            "  f\"DataModule.{name} has already been called, so it will not be called again. \"\n",
            "LOCAL_RANK: 0 - CUDA_VISIBLE_DEVICES: [0]\n",
            "\n",
            "  | Name          | Type      | Params\n",
            "--------------------------------------------\n",
            "0 | specter       | BertModel | 109 M \n",
            "1 | criterion     | BCELoss   | 0     \n",
            "2 | fc            | Linear    | 5.4 K \n",
            "3 | relu          | ReLU      | 0     \n",
            "4 | softmax       | Softmax   | 0     \n",
            "5 | classifier    | Linear    | 513   \n",
            "6 | sigmoid       | Sigmoid   | 0     \n",
            "7 | attention     | Attention | 1.8 M \n",
            "8 | hidden2labels | Linear    | 5.4 K \n",
            "--------------------------------------------\n",
            "111 M     Trainable params\n",
            "0         Non-trainable params\n",
            "111 M     Total params\n",
            "446.877   Total estimated model params size (MB)\n"
          ]
        },
        {
          "output_type": "display_data",
          "data": {
            "application/vnd.jupyter.widget-view+json": {
              "model_id": "d94a82f513054076a9a7b28f981d76ba",
              "version_minor": 0,
              "version_major": 2
            },
            "text/plain": [
              "Validation sanity check: 0it [00:00, ?it/s]"
            ]
          },
          "metadata": {}
        },
        {
          "output_type": "stream",
          "name": "stderr",
          "text": [
            "Global seed set to 42\n"
          ]
        },
        {
          "output_type": "display_data",
          "data": {
            "application/vnd.jupyter.widget-view+json": {
              "model_id": "861eefb2dac34074971668214ca01a46",
              "version_minor": 0,
              "version_major": 2
            },
            "text/plain": [
              "Training: -1it [00:00, ?it/s]"
            ]
          },
          "metadata": {}
        },
        {
          "output_type": "display_data",
          "data": {
            "application/vnd.jupyter.widget-view+json": {
              "model_id": "27521ca5bff442afa53182672a81944c",
              "version_minor": 0,
              "version_major": 2
            },
            "text/plain": [
              "Validating: 0it [00:00, ?it/s]"
            ]
          },
          "metadata": {}
        },
        {
          "output_type": "stream",
          "name": "stderr",
          "text": [
            "/usr/local/lib/python3.7/dist-packages/deprecate/deprecation.py:115: LightningDeprecationWarning: The `auroc` was deprecated since v1.3.0 in favor of `torchmetrics.functional.classification.auroc.auroc`. It will be removed in v1.5.0.\n",
            "  stream(template_mgs % msg_args)\n",
            "Epoch 0, global step 7684: val_loss reached 0.42431 (best 0.42431), saving model to \"/content/drive/MyDrive/Biocreative/Biocreative/checkpoints_and_logs/specter-da-1-checkpoints/specter-da-1-checkpoint.ckpt\" as top 1\n"
          ]
        },
        {
          "output_type": "display_data",
          "data": {
            "application/vnd.jupyter.widget-view+json": {
              "model_id": "f1b09ed5305049bfa783ee71bc9667af",
              "version_minor": 0,
              "version_major": 2
            },
            "text/plain": [
              "Validating: 0it [00:00, ?it/s]"
            ]
          },
          "metadata": {}
        },
        {
          "output_type": "stream",
          "name": "stderr",
          "text": [
            "Epoch 1, global step 15369: val_loss reached 0.31644 (best 0.31644), saving model to \"/content/drive/MyDrive/Biocreative/Biocreative/checkpoints_and_logs/specter-da-1-checkpoints/specter-da-1-checkpoint.ckpt\" as top 1\n"
          ]
        },
        {
          "output_type": "display_data",
          "data": {
            "application/vnd.jupyter.widget-view+json": {
              "model_id": "aa257159e7884b80b5b5acba11ad059f",
              "version_minor": 0,
              "version_major": 2
            },
            "text/plain": [
              "Validating: 0it [00:00, ?it/s]"
            ]
          },
          "metadata": {}
        },
        {
          "output_type": "stream",
          "name": "stderr",
          "text": [
            "Epoch 2, global step 23054: val_loss reached 0.30707 (best 0.30707), saving model to \"/content/drive/MyDrive/Biocreative/Biocreative/checkpoints_and_logs/specter-da-1-checkpoints/specter-da-1-checkpoint.ckpt\" as top 1\n"
          ]
        },
        {
          "output_type": "display_data",
          "data": {
            "application/vnd.jupyter.widget-view+json": {
              "model_id": "1c33fe7820cc468a9d12d16f97eb49fc",
              "version_minor": 0,
              "version_major": 2
            },
            "text/plain": [
              "Validating: 0it [00:00, ?it/s]"
            ]
          },
          "metadata": {}
        },
        {
          "output_type": "stream",
          "name": "stderr",
          "text": [
            "Epoch 3, global step 30739: val_loss reached 0.28048 (best 0.28048), saving model to \"/content/drive/MyDrive/Biocreative/Biocreative/checkpoints_and_logs/specter-da-1-checkpoints/specter-da-1-checkpoint.ckpt\" as top 1\n"
          ]
        },
        {
          "output_type": "display_data",
          "data": {
            "application/vnd.jupyter.widget-view+json": {
              "model_id": "8f39678f8b3f48bb81068925035bab84",
              "version_minor": 0,
              "version_major": 2
            },
            "text/plain": [
              "Validating: 0it [00:00, ?it/s]"
            ]
          },
          "metadata": {}
        },
        {
          "output_type": "stream",
          "name": "stderr",
          "text": [
            "Epoch 4, global step 38424: val_loss was not in top 1\n"
          ]
        },
        {
          "output_type": "display_data",
          "data": {
            "application/vnd.jupyter.widget-view+json": {
              "model_id": "6272a7590fcc48fc9700a35bc6b3e952",
              "version_minor": 0,
              "version_major": 2
            },
            "text/plain": [
              "Validating: 0it [00:00, ?it/s]"
            ]
          },
          "metadata": {}
        },
        {
          "output_type": "stream",
          "name": "stderr",
          "text": [
            "Epoch 5, global step 46109: val_loss was not in top 1\n",
            "/usr/local/lib/python3.7/dist-packages/pytorch_lightning/core/datamodule.py:424: LightningDeprecationWarning: DataModule.teardown has already been called, so it will not be called again. In v1.6 this behavior will change to always call DataModule.teardown.\n",
            "  f\"DataModule.{name} has already been called, so it will not be called again. \"\n"
          ]
        }
      ]
    },
    {
      "cell_type": "markdown",
      "metadata": {
        "id": "UUhKS-dUegTd"
      },
      "source": [
        "### Test"
      ]
    },
    {
      "cell_type": "code",
      "metadata": {
        "colab": {
          "base_uri": "https://localhost:8080/",
          "height": 203
        },
        "id": "utQ5lfJvlQix",
        "outputId": "be54d109-f30c-4b31-d661-59404521de87"
      },
      "source": [
        "# import dataset\n",
        "test_df = pd.read_csv('drive/MyDrive/Biocreative/Biocreative/datasets/TEST.csv')\n",
        "test_df.head()"
      ],
      "execution_count": null,
      "outputs": [
        {
          "output_type": "execute_result",
          "data": {
            "text/html": [
              "<div>\n",
              "<style scoped>\n",
              "    .dataframe tbody tr th:only-of-type {\n",
              "        vertical-align: middle;\n",
              "    }\n",
              "\n",
              "    .dataframe tbody tr th {\n",
              "        vertical-align: top;\n",
              "    }\n",
              "\n",
              "    .dataframe thead th {\n",
              "        text-align: right;\n",
              "    }\n",
              "</style>\n",
              "<table border=\"1\" class=\"dataframe\">\n",
              "  <thead>\n",
              "    <tr style=\"text-align: right;\">\n",
              "      <th></th>\n",
              "      <th>title</th>\n",
              "      <th>pmid</th>\n",
              "      <th>abstract</th>\n",
              "      <th>keywords</th>\n",
              "    </tr>\n",
              "  </thead>\n",
              "  <tbody>\n",
              "    <tr>\n",
              "      <th>0</th>\n",
              "      <td>Disentangling Association Hydroxychloroquine T...</td>\n",
              "      <td>34336157</td>\n",
              "      <td>efficacy hydroxychloroquine HCQ treating SARSC...</td>\n",
              "      <td>NaN</td>\n",
              "    </tr>\n",
              "    <tr>\n",
              "      <th>1</th>\n",
              "      <td>Risk factor mortality hospitalized patient COV...</td>\n",
              "      <td>34211701</td>\n",
              "      <td>BACKGROUND Peru one country highest COVID19 mo...</td>\n",
              "      <td>adults;covid-19;latin america.;mortality;sars-...</td>\n",
              "    </tr>\n",
              "    <tr>\n",
              "      <th>2</th>\n",
              "      <td>Inflammation COVID19 pathogenesis treatment</td>\n",
              "      <td>34367415</td>\n",
              "      <td>coronavirus disease 2019 COVID19 declared pand...</td>\n",
              "      <td>covid-19;sars-cov-2;cytokine storm;inflammatio...</td>\n",
              "    </tr>\n",
              "    <tr>\n",
              "      <th>3</th>\n",
              "      <td>Antimalarial drugsare beneficial rheumatic vir...</td>\n",
              "      <td>34218393</td>\n",
              "      <td>majority medical fraternity continuously invol...</td>\n",
              "      <td>antimalarial drugs;covid-19;rheumatic diseases...</td>\n",
              "    </tr>\n",
              "    <tr>\n",
              "      <th>4</th>\n",
              "      <td>Integration virtual physician visit provincial...</td>\n",
              "      <td>34131026</td>\n",
              "      <td>BACKGROUND British Columbia like many jurisdic...</td>\n",
              "      <td>NaN</td>\n",
              "    </tr>\n",
              "  </tbody>\n",
              "</table>\n",
              "</div>"
            ],
            "text/plain": [
              "                                               title  ...                                           keywords\n",
              "0  Disentangling Association Hydroxychloroquine T...  ...                                                NaN\n",
              "1  Risk factor mortality hospitalized patient COV...  ...  adults;covid-19;latin america.;mortality;sars-...\n",
              "2        Inflammation COVID19 pathogenesis treatment  ...  covid-19;sars-cov-2;cytokine storm;inflammatio...\n",
              "3  Antimalarial drugsare beneficial rheumatic vir...  ...  antimalarial drugs;covid-19;rheumatic diseases...\n",
              "4  Integration virtual physician visit provincial...  ...                                                NaN\n",
              "\n",
              "[5 rows x 4 columns]"
            ]
          },
          "metadata": {},
          "execution_count": 63
        }
      ]
    },
    {
      "cell_type": "code",
      "metadata": {
        "id": "FdjPYzXIoVk5"
      },
      "source": [
        "import numpy as np"
      ],
      "execution_count": null,
      "outputs": []
    },
    {
      "cell_type": "code",
      "metadata": {
        "colab": {
          "base_uri": "https://localhost:8080/"
        },
        "id": "Yf12OSBLoYv-",
        "outputId": "97e8f104-e043-4932-9113-44941c8b0651"
      },
      "source": [
        "label_sampled = np.random.randint(0, 2, size=(test_df.shape[0], 7))\n",
        "label_sampled.shape"
      ],
      "execution_count": null,
      "outputs": [
        {
          "output_type": "execute_result",
          "data": {
            "text/plain": [
              "(2500, 7)"
            ]
          },
          "metadata": {},
          "execution_count": 65
        }
      ]
    },
    {
      "cell_type": "code",
      "metadata": {
        "id": "JBlpmJfyoKZ7"
      },
      "source": [
        "test_df[LABEL_COLUMNS] = label_sampled"
      ],
      "execution_count": null,
      "outputs": []
    },
    {
      "cell_type": "code",
      "metadata": {
        "colab": {
          "base_uri": "https://localhost:8080/",
          "height": 304
        },
        "id": "e-fEKF9Uoxbw",
        "outputId": "75578d09-6296-43d1-a21e-85c66daa906b"
      },
      "source": [
        "test_df.head()"
      ],
      "execution_count": null,
      "outputs": [
        {
          "output_type": "execute_result",
          "data": {
            "text/html": [
              "<div>\n",
              "<style scoped>\n",
              "    .dataframe tbody tr th:only-of-type {\n",
              "        vertical-align: middle;\n",
              "    }\n",
              "\n",
              "    .dataframe tbody tr th {\n",
              "        vertical-align: top;\n",
              "    }\n",
              "\n",
              "    .dataframe thead th {\n",
              "        text-align: right;\n",
              "    }\n",
              "</style>\n",
              "<table border=\"1\" class=\"dataframe\">\n",
              "  <thead>\n",
              "    <tr style=\"text-align: right;\">\n",
              "      <th></th>\n",
              "      <th>title</th>\n",
              "      <th>pmid</th>\n",
              "      <th>abstract</th>\n",
              "      <th>keywords</th>\n",
              "      <th>Case Report</th>\n",
              "      <th>Diagnosis</th>\n",
              "      <th>Epidemic Forecasting</th>\n",
              "      <th>Mechanism</th>\n",
              "      <th>Prevention</th>\n",
              "      <th>Transmission</th>\n",
              "      <th>Treatment</th>\n",
              "    </tr>\n",
              "  </thead>\n",
              "  <tbody>\n",
              "    <tr>\n",
              "      <th>0</th>\n",
              "      <td>Disentangling Association Hydroxychloroquine T...</td>\n",
              "      <td>34336157</td>\n",
              "      <td>efficacy hydroxychloroquine HCQ treating SARSC...</td>\n",
              "      <td>NaN</td>\n",
              "      <td>1</td>\n",
              "      <td>0</td>\n",
              "      <td>0</td>\n",
              "      <td>1</td>\n",
              "      <td>1</td>\n",
              "      <td>1</td>\n",
              "      <td>1</td>\n",
              "    </tr>\n",
              "    <tr>\n",
              "      <th>1</th>\n",
              "      <td>Risk factor mortality hospitalized patient COV...</td>\n",
              "      <td>34211701</td>\n",
              "      <td>BACKGROUND Peru one country highest COVID19 mo...</td>\n",
              "      <td>adults;covid-19;latin america.;mortality;sars-...</td>\n",
              "      <td>1</td>\n",
              "      <td>0</td>\n",
              "      <td>0</td>\n",
              "      <td>0</td>\n",
              "      <td>1</td>\n",
              "      <td>1</td>\n",
              "      <td>1</td>\n",
              "    </tr>\n",
              "    <tr>\n",
              "      <th>2</th>\n",
              "      <td>Inflammation COVID19 pathogenesis treatment</td>\n",
              "      <td>34367415</td>\n",
              "      <td>coronavirus disease 2019 COVID19 declared pand...</td>\n",
              "      <td>covid-19;sars-cov-2;cytokine storm;inflammatio...</td>\n",
              "      <td>0</td>\n",
              "      <td>1</td>\n",
              "      <td>0</td>\n",
              "      <td>0</td>\n",
              "      <td>1</td>\n",
              "      <td>0</td>\n",
              "      <td>0</td>\n",
              "    </tr>\n",
              "    <tr>\n",
              "      <th>3</th>\n",
              "      <td>Antimalarial drugsare beneficial rheumatic vir...</td>\n",
              "      <td>34218393</td>\n",
              "      <td>majority medical fraternity continuously invol...</td>\n",
              "      <td>antimalarial drugs;covid-19;rheumatic diseases...</td>\n",
              "      <td>0</td>\n",
              "      <td>1</td>\n",
              "      <td>0</td>\n",
              "      <td>1</td>\n",
              "      <td>1</td>\n",
              "      <td>0</td>\n",
              "      <td>1</td>\n",
              "    </tr>\n",
              "    <tr>\n",
              "      <th>4</th>\n",
              "      <td>Integration virtual physician visit provincial...</td>\n",
              "      <td>34131026</td>\n",
              "      <td>BACKGROUND British Columbia like many jurisdic...</td>\n",
              "      <td>NaN</td>\n",
              "      <td>0</td>\n",
              "      <td>1</td>\n",
              "      <td>1</td>\n",
              "      <td>1</td>\n",
              "      <td>1</td>\n",
              "      <td>1</td>\n",
              "      <td>1</td>\n",
              "    </tr>\n",
              "  </tbody>\n",
              "</table>\n",
              "</div>"
            ],
            "text/plain": [
              "                                               title  ...  Treatment\n",
              "0  Disentangling Association Hydroxychloroquine T...  ...          1\n",
              "1  Risk factor mortality hospitalized patient COV...  ...          1\n",
              "2        Inflammation COVID19 pathogenesis treatment  ...          0\n",
              "3  Antimalarial drugsare beneficial rheumatic vir...  ...          1\n",
              "4  Integration virtual physician visit provincial...  ...          1\n",
              "\n",
              "[5 rows x 11 columns]"
            ]
          },
          "metadata": {},
          "execution_count": 67
        }
      ]
    },
    {
      "cell_type": "code",
      "metadata": {
        "colab": {
          "base_uri": "https://localhost:8080/"
        },
        "id": "ABbPZIl-lSdF",
        "outputId": "9a22911e-0629-4f8a-9602-8f13df938e26"
      },
      "source": [
        "test_df.isna().sum()"
      ],
      "execution_count": null,
      "outputs": [
        {
          "output_type": "execute_result",
          "data": {
            "text/plain": [
              "title                     0\n",
              "pmid                      0\n",
              "abstract                  0\n",
              "keywords                444\n",
              "Case Report               0\n",
              "Diagnosis                 0\n",
              "Epidemic Forecasting      0\n",
              "Mechanism                 0\n",
              "Prevention                0\n",
              "Transmission              0\n",
              "Treatment                 0\n",
              "dtype: int64"
            ]
          },
          "metadata": {},
          "execution_count": 70
        }
      ]
    },
    {
      "cell_type": "code",
      "metadata": {
        "id": "_UR8UlstlSZr"
      },
      "source": [
        "test_df[\"abstract\"] = test_df.abstract.fillna(\"\")"
      ],
      "execution_count": null,
      "outputs": []
    },
    {
      "cell_type": "code",
      "metadata": {
        "id": "ncHc1nST2vjW"
      },
      "source": [
        "title_abs = [row[\"title\"] + embedding_tokenizer.sep_token + (row.get(\"abstract\") or '') for _, row in test_df.iterrows()]"
      ],
      "execution_count": null,
      "outputs": []
    },
    {
      "cell_type": "code",
      "metadata": {
        "id": "3MbqZpo42vjX"
      },
      "source": [
        "# add title and abstract text\n",
        "test_df[\"title_abs\"] = title_abs"
      ],
      "execution_count": null,
      "outputs": []
    },
    {
      "cell_type": "code",
      "metadata": {
        "colab": {
          "base_uri": "https://localhost:8080/",
          "height": 388
        },
        "id": "Fdn98eES26be",
        "outputId": "bb87fa1f-8dab-496f-ac6c-b487c7163609"
      },
      "source": [
        "test_df.head()"
      ],
      "execution_count": null,
      "outputs": [
        {
          "output_type": "execute_result",
          "data": {
            "text/html": [
              "<div>\n",
              "<style scoped>\n",
              "    .dataframe tbody tr th:only-of-type {\n",
              "        vertical-align: middle;\n",
              "    }\n",
              "\n",
              "    .dataframe tbody tr th {\n",
              "        vertical-align: top;\n",
              "    }\n",
              "\n",
              "    .dataframe thead th {\n",
              "        text-align: right;\n",
              "    }\n",
              "</style>\n",
              "<table border=\"1\" class=\"dataframe\">\n",
              "  <thead>\n",
              "    <tr style=\"text-align: right;\">\n",
              "      <th></th>\n",
              "      <th>title</th>\n",
              "      <th>pmid</th>\n",
              "      <th>abstract</th>\n",
              "      <th>keywords</th>\n",
              "      <th>Case Report</th>\n",
              "      <th>Diagnosis</th>\n",
              "      <th>Epidemic Forecasting</th>\n",
              "      <th>Mechanism</th>\n",
              "      <th>Prevention</th>\n",
              "      <th>Transmission</th>\n",
              "      <th>Treatment</th>\n",
              "      <th>title_abs</th>\n",
              "    </tr>\n",
              "  </thead>\n",
              "  <tbody>\n",
              "    <tr>\n",
              "      <th>0</th>\n",
              "      <td>Disentangling Association Hydroxychloroquine T...</td>\n",
              "      <td>34336157</td>\n",
              "      <td>efficacy hydroxychloroquine HCQ treating SARSC...</td>\n",
              "      <td>NaN</td>\n",
              "      <td>1</td>\n",
              "      <td>0</td>\n",
              "      <td>0</td>\n",
              "      <td>1</td>\n",
              "      <td>1</td>\n",
              "      <td>1</td>\n",
              "      <td>1</td>\n",
              "      <td>Disentangling Association Hydroxychloroquine T...</td>\n",
              "    </tr>\n",
              "    <tr>\n",
              "      <th>1</th>\n",
              "      <td>Risk factor mortality hospitalized patient COV...</td>\n",
              "      <td>34211701</td>\n",
              "      <td>BACKGROUND Peru one country highest COVID19 mo...</td>\n",
              "      <td>adults;covid-19;latin america.;mortality;sars-...</td>\n",
              "      <td>1</td>\n",
              "      <td>0</td>\n",
              "      <td>0</td>\n",
              "      <td>0</td>\n",
              "      <td>1</td>\n",
              "      <td>1</td>\n",
              "      <td>1</td>\n",
              "      <td>Risk factor mortality hospitalized patient COV...</td>\n",
              "    </tr>\n",
              "    <tr>\n",
              "      <th>2</th>\n",
              "      <td>Inflammation COVID19 pathogenesis treatment</td>\n",
              "      <td>34367415</td>\n",
              "      <td>coronavirus disease 2019 COVID19 declared pand...</td>\n",
              "      <td>covid-19;sars-cov-2;cytokine storm;inflammatio...</td>\n",
              "      <td>0</td>\n",
              "      <td>1</td>\n",
              "      <td>0</td>\n",
              "      <td>0</td>\n",
              "      <td>1</td>\n",
              "      <td>0</td>\n",
              "      <td>0</td>\n",
              "      <td>Inflammation COVID19 pathogenesis treatment[SE...</td>\n",
              "    </tr>\n",
              "    <tr>\n",
              "      <th>3</th>\n",
              "      <td>Antimalarial drugsare beneficial rheumatic vir...</td>\n",
              "      <td>34218393</td>\n",
              "      <td>majority medical fraternity continuously invol...</td>\n",
              "      <td>antimalarial drugs;covid-19;rheumatic diseases...</td>\n",
              "      <td>0</td>\n",
              "      <td>1</td>\n",
              "      <td>0</td>\n",
              "      <td>1</td>\n",
              "      <td>1</td>\n",
              "      <td>0</td>\n",
              "      <td>1</td>\n",
              "      <td>Antimalarial drugsare beneficial rheumatic vir...</td>\n",
              "    </tr>\n",
              "    <tr>\n",
              "      <th>4</th>\n",
              "      <td>Integration virtual physician visit provincial...</td>\n",
              "      <td>34131026</td>\n",
              "      <td>BACKGROUND British Columbia like many jurisdic...</td>\n",
              "      <td>NaN</td>\n",
              "      <td>0</td>\n",
              "      <td>1</td>\n",
              "      <td>1</td>\n",
              "      <td>1</td>\n",
              "      <td>1</td>\n",
              "      <td>1</td>\n",
              "      <td>1</td>\n",
              "      <td>Integration virtual physician visit provincial...</td>\n",
              "    </tr>\n",
              "  </tbody>\n",
              "</table>\n",
              "</div>"
            ],
            "text/plain": [
              "                                               title  ...                                          title_abs\n",
              "0  Disentangling Association Hydroxychloroquine T...  ...  Disentangling Association Hydroxychloroquine T...\n",
              "1  Risk factor mortality hospitalized patient COV...  ...  Risk factor mortality hospitalized patient COV...\n",
              "2        Inflammation COVID19 pathogenesis treatment  ...  Inflammation COVID19 pathogenesis treatment[SE...\n",
              "3  Antimalarial drugsare beneficial rheumatic vir...  ...  Antimalarial drugsare beneficial rheumatic vir...\n",
              "4  Integration virtual physician visit provincial...  ...  Integration virtual physician visit provincial...\n",
              "\n",
              "[5 rows x 12 columns]"
            ]
          },
          "metadata": {},
          "execution_count": 73
        }
      ]
    },
    {
      "cell_type": "code",
      "metadata": {
        "id": "y8AWlhyMdMEG"
      },
      "source": [
        "trained_model = TopicAnnotationTagger.load_from_checkpoint('/content/drive/MyDrive/Biocreative/Biocreative/checkpoints_and_logs/specter-da-1-checkpoints/specter-da-1-checkpoint.ckpt', n_classes=7)"
      ],
      "execution_count": null,
      "outputs": []
    },
    {
      "cell_type": "code",
      "metadata": {
        "id": "3rM_yhw6vGls"
      },
      "source": [
        "trained_model.freeze()"
      ],
      "execution_count": null,
      "outputs": []
    },
    {
      "cell_type": "markdown",
      "metadata": {
        "id": "_qfT86eMvlk5"
      },
      "source": [
        "### Evaluation"
      ]
    },
    {
      "cell_type": "code",
      "metadata": {
        "colab": {
          "base_uri": "https://localhost:8080/"
        },
        "id": "7lObFJ_JQohi",
        "outputId": "398938f8-912f-4589-f3bf-e8598399e122"
      },
      "source": [
        "# sample 2500 example from the validation set\n",
        "val_df_sampled = val_df.sample(n=2500, random_state=1).sample(n=1500, random_state=1)\n",
        "print(val_df_sampled.shape)\n",
        "val_df_sampled[LABEL_COLUMNS].sum()"
      ],
      "execution_count": null,
      "outputs": [
        {
          "output_type": "stream",
          "name": "stdout",
          "text": [
            "(1500, 14)\n"
          ]
        },
        {
          "output_type": "execute_result",
          "data": {
            "text/plain": [
              "Case Report             101\n",
              "Diagnosis               347\n",
              "Epidemic Forecasting     68\n",
              "Mechanism               256\n",
              "Prevention              711\n",
              "Transmission            156\n",
              "Treatment               485\n",
              "dtype: int64"
            ]
          },
          "metadata": {},
          "execution_count": 64
        }
      ]
    },
    {
      "cell_type": "code",
      "metadata": {
        "id": "glq9LWq4rMEH"
      },
      "source": [
        "device = torch.device('cuda' if torch.cuda.is_available() else 'cpu')\n",
        "trained_model = trained_model.to(device)\n",
        "\n",
        "val_dataset = TopicAnnotationDataset(\n",
        "    test_df,\n",
        "    embedding_tokenizer,\n",
        "    max_token_len=MAX_TOKEN_COUNT\n",
        ")"
      ],
      "execution_count": null,
      "outputs": []
    },
    {
      "cell_type": "code",
      "metadata": {
        "colab": {
          "base_uri": "https://localhost:8080/",
          "height": 49,
          "referenced_widgets": [
            "7b9880353d244fcf97fb00ee712e527c",
            "7d00d2c50a2f4620917b25022355b498",
            "eeb7b40bc5624594add936fd62655766",
            "0c7a06ea9fd54e0eb9b29c0f44871b08",
            "9e8f2fb1000a4870bdca7cfc0fc9328c",
            "24a2f7882519400f8f230d996ea4ce30",
            "2babeec8e8124a8ab617356f029126d9",
            "0159581b00f641ea988fb287549c9604",
            "084296ebc64c4bbb8d15a7846a24a7a9",
            "bdf07d22a0b647d582eb0c346c32e0c5",
            "f773d79907c54ddcb16baa00cd1bff82"
          ]
        },
        "id": "nGt5QcfWwO8P",
        "outputId": "cc771b5a-986a-47b7-8166-e5dda6bd4720"
      },
      "source": [
        "predictions = []\n",
        "labels = []\n",
        "\n",
        "for item in tqdm(val_dataset):\n",
        "\n",
        "  _, prediction = trained_model(\n",
        "      item[\"input_ids\"].unsqueeze(dim=0).to(device),\n",
        "      item[\"attention_mask\"].unsqueeze(dim=0).to(device),\n",
        "  )\n",
        "  \n",
        "  predictions.append(prediction.flatten())\n",
        "  labels.append(item[\"labels\"].int())\n",
        "\n",
        "predictions = torch.stack(predictions).detach().cpu()\n",
        "labels = torch.stack(labels).detach().cpu()"
      ],
      "execution_count": null,
      "outputs": [
        {
          "output_type": "display_data",
          "data": {
            "application/vnd.jupyter.widget-view+json": {
              "model_id": "7b9880353d244fcf97fb00ee712e527c",
              "version_minor": 0,
              "version_major": 2
            },
            "text/plain": [
              "  0%|          | 0/2500 [00:00<?, ?it/s]"
            ]
          },
          "metadata": {}
        }
      ]
    },
    {
      "cell_type": "code",
      "metadata": {
        "colab": {
          "base_uri": "https://localhost:8080/",
          "height": 417
        },
        "id": "9QUa0R4v4YP8",
        "outputId": "ed940aba-c2d3-43c0-d1fe-5f9c9028151a"
      },
      "source": [
        "pmid = test_df[\"pmid\"]\n",
        "pred_df = pd.DataFrame(predictions.numpy(), columns=LABEL_COLUMNS)\n",
        "pred_df"
      ],
      "execution_count": null,
      "outputs": [
        {
          "output_type": "execute_result",
          "data": {
            "text/html": [
              "<div>\n",
              "<style scoped>\n",
              "    .dataframe tbody tr th:only-of-type {\n",
              "        vertical-align: middle;\n",
              "    }\n",
              "\n",
              "    .dataframe tbody tr th {\n",
              "        vertical-align: top;\n",
              "    }\n",
              "\n",
              "    .dataframe thead th {\n",
              "        text-align: right;\n",
              "    }\n",
              "</style>\n",
              "<table border=\"1\" class=\"dataframe\">\n",
              "  <thead>\n",
              "    <tr style=\"text-align: right;\">\n",
              "      <th></th>\n",
              "      <th>Case Report</th>\n",
              "      <th>Diagnosis</th>\n",
              "      <th>Epidemic Forecasting</th>\n",
              "      <th>Mechanism</th>\n",
              "      <th>Prevention</th>\n",
              "      <th>Transmission</th>\n",
              "      <th>Treatment</th>\n",
              "    </tr>\n",
              "  </thead>\n",
              "  <tbody>\n",
              "    <tr>\n",
              "      <th>0</th>\n",
              "      <td>0.000471</td>\n",
              "      <td>0.245204</td>\n",
              "      <td>0.000055</td>\n",
              "      <td>0.003591</td>\n",
              "      <td>0.003689</td>\n",
              "      <td>0.000344</td>\n",
              "      <td>0.996832</td>\n",
              "    </tr>\n",
              "    <tr>\n",
              "      <th>1</th>\n",
              "      <td>0.001104</td>\n",
              "      <td>0.989632</td>\n",
              "      <td>0.000069</td>\n",
              "      <td>0.002554</td>\n",
              "      <td>0.013161</td>\n",
              "      <td>0.000688</td>\n",
              "      <td>0.969118</td>\n",
              "    </tr>\n",
              "    <tr>\n",
              "      <th>2</th>\n",
              "      <td>0.000151</td>\n",
              "      <td>0.011764</td>\n",
              "      <td>0.000085</td>\n",
              "      <td>0.922421</td>\n",
              "      <td>0.004061</td>\n",
              "      <td>0.000470</td>\n",
              "      <td>0.996042</td>\n",
              "    </tr>\n",
              "    <tr>\n",
              "      <th>3</th>\n",
              "      <td>0.000478</td>\n",
              "      <td>0.005487</td>\n",
              "      <td>0.000125</td>\n",
              "      <td>0.001224</td>\n",
              "      <td>0.031002</td>\n",
              "      <td>0.000286</td>\n",
              "      <td>0.988378</td>\n",
              "    </tr>\n",
              "    <tr>\n",
              "      <th>4</th>\n",
              "      <td>0.000504</td>\n",
              "      <td>0.003854</td>\n",
              "      <td>0.000063</td>\n",
              "      <td>0.000397</td>\n",
              "      <td>0.995527</td>\n",
              "      <td>0.000507</td>\n",
              "      <td>0.001315</td>\n",
              "    </tr>\n",
              "    <tr>\n",
              "      <th>...</th>\n",
              "      <td>...</td>\n",
              "      <td>...</td>\n",
              "      <td>...</td>\n",
              "      <td>...</td>\n",
              "      <td>...</td>\n",
              "      <td>...</td>\n",
              "      <td>...</td>\n",
              "    </tr>\n",
              "    <tr>\n",
              "      <th>2495</th>\n",
              "      <td>0.000346</td>\n",
              "      <td>0.004347</td>\n",
              "      <td>0.000320</td>\n",
              "      <td>0.993019</td>\n",
              "      <td>0.002074</td>\n",
              "      <td>0.000286</td>\n",
              "      <td>0.981854</td>\n",
              "    </tr>\n",
              "    <tr>\n",
              "      <th>2496</th>\n",
              "      <td>0.000569</td>\n",
              "      <td>0.959073</td>\n",
              "      <td>0.000062</td>\n",
              "      <td>0.001932</td>\n",
              "      <td>0.013200</td>\n",
              "      <td>0.000653</td>\n",
              "      <td>0.985410</td>\n",
              "    </tr>\n",
              "    <tr>\n",
              "      <th>2497</th>\n",
              "      <td>0.000976</td>\n",
              "      <td>0.164398</td>\n",
              "      <td>0.000004</td>\n",
              "      <td>0.001614</td>\n",
              "      <td>0.917522</td>\n",
              "      <td>0.000763</td>\n",
              "      <td>0.180588</td>\n",
              "    </tr>\n",
              "    <tr>\n",
              "      <th>2498</th>\n",
              "      <td>0.000406</td>\n",
              "      <td>0.965178</td>\n",
              "      <td>0.000013</td>\n",
              "      <td>0.059715</td>\n",
              "      <td>0.092064</td>\n",
              "      <td>0.004019</td>\n",
              "      <td>0.835722</td>\n",
              "    </tr>\n",
              "    <tr>\n",
              "      <th>2499</th>\n",
              "      <td>0.000418</td>\n",
              "      <td>0.004459</td>\n",
              "      <td>0.000073</td>\n",
              "      <td>0.001508</td>\n",
              "      <td>0.073951</td>\n",
              "      <td>0.000422</td>\n",
              "      <td>0.981328</td>\n",
              "    </tr>\n",
              "  </tbody>\n",
              "</table>\n",
              "<p>2500 rows × 7 columns</p>\n",
              "</div>"
            ],
            "text/plain": [
              "      Case Report  Diagnosis  ...  Transmission  Treatment\n",
              "0        0.000471   0.245204  ...      0.000344   0.996832\n",
              "1        0.001104   0.989632  ...      0.000688   0.969118\n",
              "2        0.000151   0.011764  ...      0.000470   0.996042\n",
              "3        0.000478   0.005487  ...      0.000286   0.988378\n",
              "4        0.000504   0.003854  ...      0.000507   0.001315\n",
              "...           ...        ...  ...           ...        ...\n",
              "2495     0.000346   0.004347  ...      0.000286   0.981854\n",
              "2496     0.000569   0.959073  ...      0.000653   0.985410\n",
              "2497     0.000976   0.164398  ...      0.000763   0.180588\n",
              "2498     0.000406   0.965178  ...      0.004019   0.835722\n",
              "2499     0.000418   0.004459  ...      0.000422   0.981328\n",
              "\n",
              "[2500 rows x 7 columns]"
            ]
          },
          "metadata": {},
          "execution_count": 78
        }
      ]
    },
    {
      "cell_type": "code",
      "metadata": {
        "id": "4CZzCVGnrfzW"
      },
      "source": [
        "pred_df[\"PMID\"] = pmid"
      ],
      "execution_count": null,
      "outputs": []
    },
    {
      "cell_type": "code",
      "metadata": {
        "id": "ho0j1_j5rqjk"
      },
      "source": [
        "main_pred_df = pred_df.copy(deep=True)"
      ],
      "execution_count": null,
      "outputs": []
    },
    {
      "cell_type": "code",
      "metadata": {
        "colab": {
          "base_uri": "https://localhost:8080/"
        },
        "id": "oJzacrV1sLm6",
        "outputId": "64e00e69-bd2f-434b-a390-817f420b350f"
      },
      "source": [
        "main_pred_df.columns"
      ],
      "execution_count": null,
      "outputs": [
        {
          "output_type": "execute_result",
          "data": {
            "text/plain": [
              "Index(['Case Report', 'Diagnosis', 'Epidemic Forecasting', 'Mechanism',\n",
              "       'Prevention', 'Transmission', 'Treatment', 'PMID'],\n",
              "      dtype='object')"
            ]
          },
          "metadata": {},
          "execution_count": 81
        }
      ]
    },
    {
      "cell_type": "code",
      "metadata": {
        "colab": {
          "base_uri": "https://localhost:8080/",
          "height": 203
        },
        "id": "y3inf3Gg4aRR",
        "outputId": "311a02f1-cde0-4d46-f45a-83980620c784"
      },
      "source": [
        "main_pred_df = main_pred_df.reindex(['PMID','Treatment','Diagnosis','Prevention','Mechanism','Transmission','Epidemic Forecasting','Case Report'], axis=\"columns\")\n",
        "main_pred_df.head()"
      ],
      "execution_count": null,
      "outputs": [
        {
          "output_type": "execute_result",
          "data": {
            "text/html": [
              "<div>\n",
              "<style scoped>\n",
              "    .dataframe tbody tr th:only-of-type {\n",
              "        vertical-align: middle;\n",
              "    }\n",
              "\n",
              "    .dataframe tbody tr th {\n",
              "        vertical-align: top;\n",
              "    }\n",
              "\n",
              "    .dataframe thead th {\n",
              "        text-align: right;\n",
              "    }\n",
              "</style>\n",
              "<table border=\"1\" class=\"dataframe\">\n",
              "  <thead>\n",
              "    <tr style=\"text-align: right;\">\n",
              "      <th></th>\n",
              "      <th>PMID</th>\n",
              "      <th>Treatment</th>\n",
              "      <th>Diagnosis</th>\n",
              "      <th>Prevention</th>\n",
              "      <th>Mechanism</th>\n",
              "      <th>Transmission</th>\n",
              "      <th>Epidemic Forecasting</th>\n",
              "      <th>Case Report</th>\n",
              "    </tr>\n",
              "  </thead>\n",
              "  <tbody>\n",
              "    <tr>\n",
              "      <th>0</th>\n",
              "      <td>34336157</td>\n",
              "      <td>0.996832</td>\n",
              "      <td>0.245204</td>\n",
              "      <td>0.003689</td>\n",
              "      <td>0.003591</td>\n",
              "      <td>0.000344</td>\n",
              "      <td>0.000055</td>\n",
              "      <td>0.000471</td>\n",
              "    </tr>\n",
              "    <tr>\n",
              "      <th>1</th>\n",
              "      <td>34211701</td>\n",
              "      <td>0.969118</td>\n",
              "      <td>0.989632</td>\n",
              "      <td>0.013161</td>\n",
              "      <td>0.002554</td>\n",
              "      <td>0.000688</td>\n",
              "      <td>0.000069</td>\n",
              "      <td>0.001104</td>\n",
              "    </tr>\n",
              "    <tr>\n",
              "      <th>2</th>\n",
              "      <td>34367415</td>\n",
              "      <td>0.996042</td>\n",
              "      <td>0.011764</td>\n",
              "      <td>0.004061</td>\n",
              "      <td>0.922421</td>\n",
              "      <td>0.000470</td>\n",
              "      <td>0.000085</td>\n",
              "      <td>0.000151</td>\n",
              "    </tr>\n",
              "    <tr>\n",
              "      <th>3</th>\n",
              "      <td>34218393</td>\n",
              "      <td>0.988378</td>\n",
              "      <td>0.005487</td>\n",
              "      <td>0.031002</td>\n",
              "      <td>0.001224</td>\n",
              "      <td>0.000286</td>\n",
              "      <td>0.000125</td>\n",
              "      <td>0.000478</td>\n",
              "    </tr>\n",
              "    <tr>\n",
              "      <th>4</th>\n",
              "      <td>34131026</td>\n",
              "      <td>0.001315</td>\n",
              "      <td>0.003854</td>\n",
              "      <td>0.995527</td>\n",
              "      <td>0.000397</td>\n",
              "      <td>0.000507</td>\n",
              "      <td>0.000063</td>\n",
              "      <td>0.000504</td>\n",
              "    </tr>\n",
              "  </tbody>\n",
              "</table>\n",
              "</div>"
            ],
            "text/plain": [
              "       PMID  Treatment  ...  Epidemic Forecasting  Case Report\n",
              "0  34336157   0.996832  ...              0.000055     0.000471\n",
              "1  34211701   0.969118  ...              0.000069     0.001104\n",
              "2  34367415   0.996042  ...              0.000085     0.000151\n",
              "3  34218393   0.988378  ...              0.000125     0.000478\n",
              "4  34131026   0.001315  ...              0.000063     0.000504\n",
              "\n",
              "[5 rows x 8 columns]"
            ]
          },
          "metadata": {},
          "execution_count": 82
        }
      ]
    },
    {
      "cell_type": "code",
      "metadata": {
        "colab": {
          "base_uri": "https://localhost:8080/"
        },
        "id": "-KiP3DpU4_F-",
        "outputId": "a193a080-e9e9-49cd-d5ea-93a01d275f69"
      },
      "source": [
        "%cd drive/MyDrive/Biocreative/Biocreative/Test_Results/"
      ],
      "execution_count": null,
      "outputs": [
        {
          "output_type": "stream",
          "name": "stdout",
          "text": [
            "/content/drive/MyDrive/Biocreative/Biocreative/Test_Results\n"
          ]
        }
      ]
    },
    {
      "cell_type": "code",
      "metadata": {
        "id": "nHhZOoK85LW9"
      },
      "source": [
        "main_pred_df.to_csv(\"specter_dual_att.csv\", index=False)"
      ],
      "execution_count": null,
      "outputs": []
    },
    {
      "cell_type": "code",
      "metadata": {
        "colab": {
          "base_uri": "https://localhost:8080/",
          "height": 417
        },
        "id": "GBsl3WQc5zzy",
        "outputId": "3a7b74a3-372e-4f9c-a593-398fb7b36712"
      },
      "source": [
        "new_pred = pd.read_csv(\"specter_dual_att.csv\")\n",
        "new_pred"
      ],
      "execution_count": null,
      "outputs": [
        {
          "output_type": "execute_result",
          "data": {
            "text/html": [
              "<div>\n",
              "<style scoped>\n",
              "    .dataframe tbody tr th:only-of-type {\n",
              "        vertical-align: middle;\n",
              "    }\n",
              "\n",
              "    .dataframe tbody tr th {\n",
              "        vertical-align: top;\n",
              "    }\n",
              "\n",
              "    .dataframe thead th {\n",
              "        text-align: right;\n",
              "    }\n",
              "</style>\n",
              "<table border=\"1\" class=\"dataframe\">\n",
              "  <thead>\n",
              "    <tr style=\"text-align: right;\">\n",
              "      <th></th>\n",
              "      <th>PMID</th>\n",
              "      <th>Treatment</th>\n",
              "      <th>Diagnosis</th>\n",
              "      <th>Prevention</th>\n",
              "      <th>Mechanism</th>\n",
              "      <th>Transmission</th>\n",
              "      <th>Epidemic Forecasting</th>\n",
              "      <th>Case Report</th>\n",
              "    </tr>\n",
              "  </thead>\n",
              "  <tbody>\n",
              "    <tr>\n",
              "      <th>0</th>\n",
              "      <td>34336157</td>\n",
              "      <td>0.996832</td>\n",
              "      <td>0.245204</td>\n",
              "      <td>0.003689</td>\n",
              "      <td>0.003591</td>\n",
              "      <td>0.000344</td>\n",
              "      <td>0.000055</td>\n",
              "      <td>0.000471</td>\n",
              "    </tr>\n",
              "    <tr>\n",
              "      <th>1</th>\n",
              "      <td>34211701</td>\n",
              "      <td>0.969118</td>\n",
              "      <td>0.989632</td>\n",
              "      <td>0.013161</td>\n",
              "      <td>0.002554</td>\n",
              "      <td>0.000688</td>\n",
              "      <td>0.000069</td>\n",
              "      <td>0.001104</td>\n",
              "    </tr>\n",
              "    <tr>\n",
              "      <th>2</th>\n",
              "      <td>34367415</td>\n",
              "      <td>0.996042</td>\n",
              "      <td>0.011764</td>\n",
              "      <td>0.004061</td>\n",
              "      <td>0.922421</td>\n",
              "      <td>0.000470</td>\n",
              "      <td>0.000085</td>\n",
              "      <td>0.000151</td>\n",
              "    </tr>\n",
              "    <tr>\n",
              "      <th>3</th>\n",
              "      <td>34218393</td>\n",
              "      <td>0.988378</td>\n",
              "      <td>0.005487</td>\n",
              "      <td>0.031002</td>\n",
              "      <td>0.001224</td>\n",
              "      <td>0.000286</td>\n",
              "      <td>0.000125</td>\n",
              "      <td>0.000478</td>\n",
              "    </tr>\n",
              "    <tr>\n",
              "      <th>4</th>\n",
              "      <td>34131026</td>\n",
              "      <td>0.001315</td>\n",
              "      <td>0.003854</td>\n",
              "      <td>0.995527</td>\n",
              "      <td>0.000397</td>\n",
              "      <td>0.000507</td>\n",
              "      <td>0.000063</td>\n",
              "      <td>0.000504</td>\n",
              "    </tr>\n",
              "    <tr>\n",
              "      <th>...</th>\n",
              "      <td>...</td>\n",
              "      <td>...</td>\n",
              "      <td>...</td>\n",
              "      <td>...</td>\n",
              "      <td>...</td>\n",
              "      <td>...</td>\n",
              "      <td>...</td>\n",
              "      <td>...</td>\n",
              "    </tr>\n",
              "    <tr>\n",
              "      <th>2495</th>\n",
              "      <td>34291555</td>\n",
              "      <td>0.981854</td>\n",
              "      <td>0.004347</td>\n",
              "      <td>0.002074</td>\n",
              "      <td>0.993019</td>\n",
              "      <td>0.000286</td>\n",
              "      <td>0.000320</td>\n",
              "      <td>0.000346</td>\n",
              "    </tr>\n",
              "    <tr>\n",
              "      <th>2496</th>\n",
              "      <td>34204119</td>\n",
              "      <td>0.985410</td>\n",
              "      <td>0.959074</td>\n",
              "      <td>0.013200</td>\n",
              "      <td>0.001932</td>\n",
              "      <td>0.000653</td>\n",
              "      <td>0.000062</td>\n",
              "      <td>0.000569</td>\n",
              "    </tr>\n",
              "    <tr>\n",
              "      <th>2497</th>\n",
              "      <td>34228511</td>\n",
              "      <td>0.180588</td>\n",
              "      <td>0.164398</td>\n",
              "      <td>0.917522</td>\n",
              "      <td>0.001614</td>\n",
              "      <td>0.000763</td>\n",
              "      <td>0.000004</td>\n",
              "      <td>0.000976</td>\n",
              "    </tr>\n",
              "    <tr>\n",
              "      <th>2498</th>\n",
              "      <td>34226900</td>\n",
              "      <td>0.835722</td>\n",
              "      <td>0.965178</td>\n",
              "      <td>0.092064</td>\n",
              "      <td>0.059715</td>\n",
              "      <td>0.004019</td>\n",
              "      <td>0.000013</td>\n",
              "      <td>0.000406</td>\n",
              "    </tr>\n",
              "    <tr>\n",
              "      <th>2499</th>\n",
              "      <td>34218774</td>\n",
              "      <td>0.981328</td>\n",
              "      <td>0.004459</td>\n",
              "      <td>0.073951</td>\n",
              "      <td>0.001508</td>\n",
              "      <td>0.000422</td>\n",
              "      <td>0.000073</td>\n",
              "      <td>0.000418</td>\n",
              "    </tr>\n",
              "  </tbody>\n",
              "</table>\n",
              "<p>2500 rows × 8 columns</p>\n",
              "</div>"
            ],
            "text/plain": [
              "          PMID  Treatment  ...  Epidemic Forecasting  Case Report\n",
              "0     34336157   0.996832  ...              0.000055     0.000471\n",
              "1     34211701   0.969118  ...              0.000069     0.001104\n",
              "2     34367415   0.996042  ...              0.000085     0.000151\n",
              "3     34218393   0.988378  ...              0.000125     0.000478\n",
              "4     34131026   0.001315  ...              0.000063     0.000504\n",
              "...        ...        ...  ...                   ...          ...\n",
              "2495  34291555   0.981854  ...              0.000320     0.000346\n",
              "2496  34204119   0.985410  ...              0.000062     0.000569\n",
              "2497  34228511   0.180588  ...              0.000004     0.000976\n",
              "2498  34226900   0.835722  ...              0.000013     0.000406\n",
              "2499  34218774   0.981328  ...              0.000073     0.000418\n",
              "\n",
              "[2500 rows x 8 columns]"
            ]
          },
          "metadata": {},
          "execution_count": 93
        }
      ]
    },
    {
      "cell_type": "code",
      "metadata": {
        "colab": {
          "base_uri": "https://localhost:8080/",
          "height": 417
        },
        "id": "DuO00U4X6Abt",
        "outputId": "06856eb7-1f52-4531-f195-7d7c280c829f"
      },
      "source": [
        "dual_ensemble = pd.read_csv(\"dual_bert_Ensemble.csv\")\n",
        "dual_ensemble"
      ],
      "execution_count": null,
      "outputs": [
        {
          "output_type": "execute_result",
          "data": {
            "text/html": [
              "<div>\n",
              "<style scoped>\n",
              "    .dataframe tbody tr th:only-of-type {\n",
              "        vertical-align: middle;\n",
              "    }\n",
              "\n",
              "    .dataframe tbody tr th {\n",
              "        vertical-align: top;\n",
              "    }\n",
              "\n",
              "    .dataframe thead th {\n",
              "        text-align: right;\n",
              "    }\n",
              "</style>\n",
              "<table border=\"1\" class=\"dataframe\">\n",
              "  <thead>\n",
              "    <tr style=\"text-align: right;\">\n",
              "      <th></th>\n",
              "      <th>PMID</th>\n",
              "      <th>Treatment</th>\n",
              "      <th>Diagnosis</th>\n",
              "      <th>Prevention</th>\n",
              "      <th>Mechanism</th>\n",
              "      <th>Transmission</th>\n",
              "      <th>Epidemic Forecasting</th>\n",
              "      <th>Case Report</th>\n",
              "    </tr>\n",
              "  </thead>\n",
              "  <tbody>\n",
              "    <tr>\n",
              "      <th>0</th>\n",
              "      <td>34336157</td>\n",
              "      <td>0.997213</td>\n",
              "      <td>0.169308</td>\n",
              "      <td>0.004443</td>\n",
              "      <td>0.003471</td>\n",
              "      <td>0.000001</td>\n",
              "      <td>0.000001</td>\n",
              "      <td>0.000301</td>\n",
              "    </tr>\n",
              "    <tr>\n",
              "      <th>1</th>\n",
              "      <td>34211701</td>\n",
              "      <td>0.916451</td>\n",
              "      <td>0.986004</td>\n",
              "      <td>0.013786</td>\n",
              "      <td>0.003106</td>\n",
              "      <td>0.000063</td>\n",
              "      <td>0.000004</td>\n",
              "      <td>0.000368</td>\n",
              "    </tr>\n",
              "    <tr>\n",
              "      <th>2</th>\n",
              "      <td>34367415</td>\n",
              "      <td>0.996768</td>\n",
              "      <td>0.043622</td>\n",
              "      <td>0.003704</td>\n",
              "      <td>0.929797</td>\n",
              "      <td>0.000117</td>\n",
              "      <td>0.000013</td>\n",
              "      <td>0.000140</td>\n",
              "    </tr>\n",
              "    <tr>\n",
              "      <th>3</th>\n",
              "      <td>34218393</td>\n",
              "      <td>0.995460</td>\n",
              "      <td>0.015110</td>\n",
              "      <td>0.013284</td>\n",
              "      <td>0.005272</td>\n",
              "      <td>0.000003</td>\n",
              "      <td>0.000003</td>\n",
              "      <td>0.000473</td>\n",
              "    </tr>\n",
              "    <tr>\n",
              "      <th>4</th>\n",
              "      <td>34131026</td>\n",
              "      <td>0.001570</td>\n",
              "      <td>0.001174</td>\n",
              "      <td>0.999092</td>\n",
              "      <td>0.000002</td>\n",
              "      <td>0.000102</td>\n",
              "      <td>0.000002</td>\n",
              "      <td>0.000019</td>\n",
              "    </tr>\n",
              "    <tr>\n",
              "      <th>...</th>\n",
              "      <td>...</td>\n",
              "      <td>...</td>\n",
              "      <td>...</td>\n",
              "      <td>...</td>\n",
              "      <td>...</td>\n",
              "      <td>...</td>\n",
              "      <td>...</td>\n",
              "      <td>...</td>\n",
              "    </tr>\n",
              "    <tr>\n",
              "      <th>2495</th>\n",
              "      <td>34291555</td>\n",
              "      <td>0.989350</td>\n",
              "      <td>0.003505</td>\n",
              "      <td>0.000772</td>\n",
              "      <td>0.993984</td>\n",
              "      <td>0.000044</td>\n",
              "      <td>0.000001</td>\n",
              "      <td>0.000032</td>\n",
              "    </tr>\n",
              "    <tr>\n",
              "      <th>2496</th>\n",
              "      <td>34204119</td>\n",
              "      <td>0.982862</td>\n",
              "      <td>0.825384</td>\n",
              "      <td>0.010762</td>\n",
              "      <td>0.013090</td>\n",
              "      <td>0.000069</td>\n",
              "      <td>0.000031</td>\n",
              "      <td>0.001934</td>\n",
              "    </tr>\n",
              "    <tr>\n",
              "      <th>2497</th>\n",
              "      <td>34228511</td>\n",
              "      <td>0.146783</td>\n",
              "      <td>0.504033</td>\n",
              "      <td>0.832181</td>\n",
              "      <td>0.003049</td>\n",
              "      <td>0.004648</td>\n",
              "      <td>0.000345</td>\n",
              "      <td>0.011105</td>\n",
              "    </tr>\n",
              "    <tr>\n",
              "      <th>2498</th>\n",
              "      <td>34226900</td>\n",
              "      <td>0.977807</td>\n",
              "      <td>0.799504</td>\n",
              "      <td>0.033778</td>\n",
              "      <td>0.126187</td>\n",
              "      <td>0.000627</td>\n",
              "      <td>0.000100</td>\n",
              "      <td>0.001451</td>\n",
              "    </tr>\n",
              "    <tr>\n",
              "      <th>2499</th>\n",
              "      <td>34218774</td>\n",
              "      <td>0.984278</td>\n",
              "      <td>0.008618</td>\n",
              "      <td>0.105568</td>\n",
              "      <td>0.003392</td>\n",
              "      <td>0.000011</td>\n",
              "      <td>0.000013</td>\n",
              "      <td>0.000307</td>\n",
              "    </tr>\n",
              "  </tbody>\n",
              "</table>\n",
              "<p>2500 rows × 8 columns</p>\n",
              "</div>"
            ],
            "text/plain": [
              "          PMID  Treatment  ...  Epidemic Forecasting  Case Report\n",
              "0     34336157   0.997213  ...              0.000001     0.000301\n",
              "1     34211701   0.916451  ...              0.000004     0.000368\n",
              "2     34367415   0.996768  ...              0.000013     0.000140\n",
              "3     34218393   0.995460  ...              0.000003     0.000473\n",
              "4     34131026   0.001570  ...              0.000002     0.000019\n",
              "...        ...        ...  ...                   ...          ...\n",
              "2495  34291555   0.989350  ...              0.000001     0.000032\n",
              "2496  34204119   0.982862  ...              0.000031     0.001934\n",
              "2497  34228511   0.146783  ...              0.000345     0.011105\n",
              "2498  34226900   0.977807  ...              0.000100     0.001451\n",
              "2499  34218774   0.984278  ...              0.000013     0.000307\n",
              "\n",
              "[2500 rows x 8 columns]"
            ]
          },
          "metadata": {},
          "execution_count": 81
        }
      ]
    },
    {
      "cell_type": "markdown",
      "metadata": {
        "id": "pixwbhCQZzEa"
      },
      "source": [
        "#### data analysis"
      ]
    },
    {
      "cell_type": "code",
      "metadata": {
        "id": "ZmzSFy2u_qXD"
      },
      "source": [
        "# convert prediction in boolean labels\n",
        "y_pred = (predictions > 0.65).type(torch.uint8)\n",
        "y_true = labels  "
      ],
      "execution_count": null,
      "outputs": []
    },
    {
      "cell_type": "code",
      "metadata": {
        "id": "qRCIkiW4AzVy"
      },
      "source": [
        "# count non-zero values\n",
        "true_counts = y_true.count_nonzero(dim=1)\n",
        "pred_counts = y_pred.count_nonzero(dim=1)"
      ],
      "execution_count": null,
      "outputs": []
    },
    {
      "cell_type": "code",
      "metadata": {
        "id": "7wf7RTbuCj7d"
      },
      "source": [
        "# dict mapping for count -> key \n",
        "unique, counts = true_counts.unique(return_counts=True)\n",
        "true_count_dict = dict(zip(unique.tolist(), counts.tolist()))\n",
        "print(true_count_dict)"
      ],
      "execution_count": null,
      "outputs": []
    },
    {
      "cell_type": "code",
      "metadata": {
        "id": "kCL9XGJBGwTW"
      },
      "source": [
        "X = [1, 2, 3, 4, 5]\n",
        "for label in X:\n",
        "  try:\n",
        "    val = true_count_dict[label]\n",
        "  except Exception as e:\n",
        "    true_count_dict[label] = 0\n",
        "\n",
        "true_count_dict"
      ],
      "execution_count": null,
      "outputs": []
    },
    {
      "cell_type": "code",
      "metadata": {
        "id": "krCFXaRkDtzO"
      },
      "source": [
        "# dict mapping for count -> key\n",
        "pred_count_dict = {\n",
        "    1: 0,\n",
        "    2: 0,\n",
        "    3: 0,\n",
        "    4: 0,\n",
        "    5: 0\n",
        "}\n",
        "\n",
        "for idx, value in enumerate(true_counts):\n",
        "  if value == pred_counts[idx]: \n",
        "    pred_count_dict[value.tolist()] += 1\n",
        "  else:\n",
        "    pass\n",
        "\n",
        "pred_count_dict"
      ],
      "execution_count": null,
      "outputs": []
    },
    {
      "cell_type": "code",
      "metadata": {
        "id": "2YhqCvhBEUOb"
      },
      "source": [
        "X = [\"1\", \"2\", \"3\", \"4\", \"5\"]\n",
        "\n",
        "# creating the dataset \n",
        "keys = list(pred_count_dict.keys()) \n",
        "pred_values = list(pred_count_dict.values()) \n",
        "true_values = list(true_count_dict.values())\n",
        "\n",
        "keys = np.array(keys)\n",
        "\n",
        "fig = plt.figure(figsize = (10, 10)) \n",
        "  \n",
        "# creating the bar plot \n",
        "plt.bar(keys - 0.2, true_values, 0.4, label = 'True Label')\n",
        "plt.bar(keys + 0.2, pred_values, 0.4, label = 'Prediction')\n",
        "\n",
        "plt.xticks(keys, X)\n",
        "plt.xlabel(\"Count of labels\")\n",
        "plt.ylabel(\"Counts\")\n",
        "plt.title(\"Transmission predicted v/s true\")\n",
        "plt.legend()\n",
        "plt.show() "
      ],
      "execution_count": null,
      "outputs": []
    },
    {
      "cell_type": "code",
      "metadata": {
        "id": "5mWHzCoNUM8-"
      },
      "source": [
        "class_dict_pred = dict(zip(LABEL_COLUMNS, [0]*7))\n",
        "class_dict_true = dict(zip(LABEL_COLUMNS, [0]*7))\n",
        "class_dict_pred, class_dict_true"
      ],
      "execution_count": null,
      "outputs": []
    },
    {
      "cell_type": "code",
      "metadata": {
        "id": "dJHW48HcFAmT"
      },
      "source": [
        "THRESHOLD = 0.5\n",
        "print(LABEL_COLUMNS)\n",
        "\n",
        "for item in val_dataset:\n",
        "\n",
        "  labels = item[\"labels\"].numpy()\n",
        "  count = np.count_nonzero(labels)\n",
        "\n",
        "  if count == 2:\n",
        "    \n",
        "    _, prediction = trained_model(\n",
        "        item[\"input_ids\"].unsqueeze(dim=0).to(device),\n",
        "        item[\"attention_mask\"].unsqueeze(dim=0).to(device)\n",
        "    )\n",
        "\n",
        "    # print((prediction > THRESHOLD).type(torch.uint8))\n",
        "\n",
        "    prediction = prediction.cpu()\n",
        "\n",
        "    for idx, key in enumerate(class_dict_pred.keys()):\n",
        "\n",
        "      class_dict_pred[key] += (prediction[0, idx] > THRESHOLD).type(torch.uint8)\n",
        "\n",
        "    for idx, key in enumerate(class_dict_true.keys()):\n",
        "      class_dict_true[key] += labels[idx]"
      ],
      "execution_count": null,
      "outputs": []
    },
    {
      "cell_type": "code",
      "metadata": {
        "id": "_roLMQneXw5_"
      },
      "source": [
        "for key, value in class_dict_pred.items():\n",
        "\n",
        "  class_dict_pred[key] = value.numpy().item()\n",
        "\n",
        "print(class_dict_pred)\n",
        "print(class_dict_true)"
      ],
      "execution_count": null,
      "outputs": []
    },
    {
      "cell_type": "code",
      "metadata": {
        "id": "L-hx5A-lX7Mg"
      },
      "source": [
        "keys = class_dict_pred.keys()\n",
        "values = class_dict_pred.values()\n",
        "\n",
        "# Creating plot\n",
        "fig = plt.figure(figsize =(10, 7))\n",
        "plt.pie(values, labels = keys)\n",
        "  \n",
        "# show plot\n",
        "plt.show()"
      ],
      "execution_count": null,
      "outputs": []
    },
    {
      "cell_type": "code",
      "metadata": {
        "id": "e8LnJTrPaAZ4"
      },
      "source": [
        "keys = class_dict_true.keys()\n",
        "values = class_dict_true.values()\n",
        "\n",
        "# Creating plot\n",
        "fig = plt.figure(figsize =(10, 7))\n",
        "plt.pie(values, labels = keys)\n",
        "plt.title(\"Transmission train set double label class distribution\")\n",
        "# show plot\n",
        "plt.show()"
      ],
      "execution_count": null,
      "outputs": []
    },
    {
      "cell_type": "markdown",
      "metadata": {
        "id": "Jl2e8HrYxnLo"
      },
      "source": [
        "#### Accuracy"
      ]
    },
    {
      "cell_type": "code",
      "metadata": {
        "id": "UUxXohXBs8S8"
      },
      "source": [
        "THRESHOLD = 0.5"
      ],
      "execution_count": null,
      "outputs": []
    },
    {
      "cell_type": "code",
      "metadata": {
        "colab": {
          "base_uri": "https://localhost:8080/"
        },
        "id": "PU5Y47GVRaic",
        "outputId": "8e9e8c1d-eb4b-448d-bb6b-8936fa5fd053"
      },
      "source": [
        "# calculating the accuracy of the model\n",
        "accuracy(predictions, labels, threshold=THRESHOLD)"
      ],
      "execution_count": null,
      "outputs": [
        {
          "output_type": "stream",
          "name": "stderr",
          "text": [
            "/usr/local/lib/python3.7/dist-packages/deprecate/deprecation.py:115: LightningDeprecationWarning: The `accuracy` was deprecated since v1.3.0 in favor of `torchmetrics.functional.classification.accuracy.accuracy`. It will be removed in v1.5.0.\n",
            "  stream(template_mgs % msg_args)\n"
          ]
        },
        {
          "output_type": "execute_result",
          "data": {
            "text/plain": [
              "tensor(0.9583)"
            ]
          },
          "metadata": {},
          "execution_count": 38
        }
      ]
    },
    {
      "cell_type": "markdown",
      "metadata": {
        "id": "QMhUJT1nxoyE"
      },
      "source": [
        "#### ROC for each tag"
      ]
    },
    {
      "cell_type": "code",
      "metadata": {
        "colab": {
          "base_uri": "https://localhost:8080/"
        },
        "id": "Wkj_cQnixQcG",
        "outputId": "d4c524db-7fa1-452a-8d92-d2dde8e387df"
      },
      "source": [
        "print(\"AUROC per tag\")\n",
        "for i, name in enumerate(LABEL_COLUMNS):\n",
        "  tag_auroc = auroc(predictions[:, i], labels[:, i], pos_label=1)\n",
        "  print(f\"{name}: {tag_auroc}\")"
      ],
      "execution_count": null,
      "outputs": [
        {
          "output_type": "stream",
          "name": "stdout",
          "text": [
            "AUROC per tag\n",
            "Case Report: 0.9915202260017395\n",
            "Diagnosis: 0.9799028635025024\n",
            "Epidemic Forecasting: 0.9920523166656494\n",
            "Mechanism: 0.9870989322662354\n",
            "Prevention: 0.9841985106468201\n",
            "Transmission: 0.9884772300720215\n",
            "Treatment: 0.9781867265701294\n"
          ]
        },
        {
          "output_type": "stream",
          "name": "stderr",
          "text": [
            "/usr/local/lib/python3.7/dist-packages/deprecate/deprecation.py:115: LightningDeprecationWarning: The `auroc` was deprecated since v1.3.0 in favor of `torchmetrics.functional.classification.auroc.auroc`. It will be removed in v1.5.0.\n",
            "  stream(template_mgs % msg_args)\n"
          ]
        }
      ]
    },
    {
      "cell_type": "markdown",
      "metadata": {
        "id": "zVkHzSD8O2_i"
      },
      "source": [
        "#### save predictions"
      ]
    },
    {
      "cell_type": "code",
      "metadata": {
        "id": "Cr43BCR7W9WE"
      },
      "source": [
        "val_pmid = val_df[\"pmid\"]"
      ],
      "execution_count": null,
      "outputs": []
    },
    {
      "cell_type": "code",
      "metadata": {
        "id": "XV3X56EAO5O8"
      },
      "source": [
        "prediction_df = pd.DataFrame(predictions.numpy(), columns=LABEL_COLUMNS)\n",
        "label_df = pd.DataFrame(labels.numpy(), columns=LABEL_COLUMNS)\n",
        "prediction_df[\"pmid\"] = val_pmid\n",
        "label_df[\"pmid\"] = val_pmid\n",
        "prediction_df = prediction_df.reindex(columns=[\"pmid\", 'Case Report', 'Diagnosis', 'Epidemic Forecasting', 'Mechanism', 'Prevention', 'Transmission', 'Treatment'])\n",
        "label_df = label_df.reindex(columns=[\"pmid\", 'Case Report', 'Diagnosis', 'Epidemic Forecasting', 'Mechanism', 'Prevention', 'Transmission', 'Treatment'])"
      ],
      "execution_count": null,
      "outputs": []
    },
    {
      "cell_type": "code",
      "metadata": {
        "id": "9h1JgGkpPN5j"
      },
      "source": [
        "prediction_df.to_csv(\"/content/drive/MyDrive/Biocreative/Biocreative/datasets/specter_prediction.csv\", index=False)\n",
        "label_df.to_csv(\"/content/drive/MyDrive/Biocreative/Biocreative/datasets/specter_labels.csv\", index=False)"
      ],
      "execution_count": null,
      "outputs": []
    },
    {
      "cell_type": "code",
      "metadata": {
        "id": "BXCvq46oPk6q"
      },
      "source": [
        "pred_df = pd.read_csv(\"drive/MyDrive/Biocreative/Biocreative/datasets/specter_results/specter_prediction.csv\")\n",
        "lbl_df = pd.read_csv(\"drive/MyDrive/Biocreative/Biocreative/datasets/specter_results/specter_labels.csv\")"
      ],
      "execution_count": null,
      "outputs": []
    },
    {
      "cell_type": "code",
      "metadata": {
        "id": "7GsVCWocPu1Z"
      },
      "source": [
        "# do not run below codes\n",
        "# pred_df.rename(columns={'Unnamed: 0': 'PMID'}, inplace=True, errors='raise')\n",
        "# lbl_df.rename(columns={'Unnamed: 0': 'PMID'}, inplace=True, errors='raise')"
      ],
      "execution_count": null,
      "outputs": []
    },
    {
      "cell_type": "code",
      "metadata": {
        "id": "38tGGWKrQJ2f"
      },
      "source": [
        "# pred_df.to_csv(\"drive/MyDrive/Biocreative/Biocreative/datasets/specter_results/specter_prediction.csv\", index=False)\n",
        "# lbl_df.to_csv(\"drive/MyDrive/Biocreative/Biocreative/datasets/specter_results/specter_labels.csv\", index=False)"
      ],
      "execution_count": null,
      "outputs": []
    },
    {
      "cell_type": "markdown",
      "metadata": {
        "id": "0zrMwXqxx3mZ"
      },
      "source": [
        "#### classification report for each class"
      ]
    },
    {
      "cell_type": "code",
      "metadata": {
        "colab": {
          "base_uri": "https://localhost:8080/"
        },
        "id": "vHeUP0Foxvj6",
        "outputId": "99ec14f4-e716-4c4e-c6ec-8698aba5859c"
      },
      "source": [
        "y_pred = predictions.numpy()\n",
        "y_true = labels.numpy()\n",
        "\n",
        "upper, lower = 1, 0\n",
        "\n",
        "y_pred = np.where(y_pred > 0.5, upper, lower)\n",
        "\n",
        "print(\n",
        "    classification_report(\n",
        "        y_true,\n",
        "        y_pred,\n",
        "        digits=4,\n",
        "        target_names=LABEL_COLUMNS,\n",
        "        zero_division=0\n",
        "    )\n",
        ")"
      ],
      "execution_count": null,
      "outputs": [
        {
          "output_type": "stream",
          "name": "stdout",
          "text": [
            "                      precision    recall  f1-score   support\n",
            "\n",
            "         Case Report     0.9116    0.9153    0.9135       248\n",
            "           Diagnosis     0.8602    0.8834    0.8717       815\n",
            "Epidemic Forecasting     0.8841    0.8735    0.8788       166\n",
            "           Mechanism     0.9378    0.8222    0.8762       568\n",
            "          Prevention     0.9277    0.9386    0.9331      1613\n",
            "        Transmission     0.8580    0.8239    0.8406       352\n",
            "           Treatment     0.9029    0.8651    0.8836      1075\n",
            "\n",
            "           micro avg     0.9042    0.8875    0.8958      4837\n",
            "           macro avg     0.8975    0.8746    0.8853      4837\n",
            "        weighted avg     0.9046    0.8875    0.8955      4837\n",
            "         samples avg     0.9209    0.9154    0.9046      4837\n",
            "\n"
          ]
        }
      ]
    },
    {
      "cell_type": "code",
      "metadata": {
        "colab": {
          "base_uri": "https://localhost:8080/"
        },
        "id": "-AQJaDNN0AOW",
        "outputId": "8eeb1e29-4724-42ab-f6d7-dcdee9a6b11d"
      },
      "source": [
        "THRESHOLD = [0.3, 0.35, 0.4, 0.45, 0.5, 0.55, 0.6, 0.65, 0.67, 0.7, 0.75, 0.8, 0.85, 0.9, 0.95]\n",
        "\n",
        "for threshold in THRESHOLD:\n",
        "  y_pred = predictions.numpy()\n",
        "  y_true = labels.numpy()\n",
        "\n",
        "  upper, lower = 1, 0\n",
        "\n",
        "  y_pred = np.where(y_pred > threshold, upper, lower)\n",
        "\n",
        "  print(f\"Threshold: {threshold}\")\n",
        "\n",
        "  print(\n",
        "      classification_report(\n",
        "          y_true,\n",
        "          y_pred,\n",
        "          digits=4,\n",
        "          target_names=LABEL_COLUMNS,\n",
        "          zero_division=0\n",
        "          )\n",
        "      )"
      ],
      "execution_count": null,
      "outputs": [
        {
          "output_type": "stream",
          "name": "stdout",
          "text": [
            "Threshold: 0.3\n",
            "                      precision    recall  f1-score   support\n",
            "\n",
            "         Case Report     0.8783    0.9315    0.9041       248\n",
            "           Diagnosis     0.8191    0.9166    0.8651       815\n",
            "Epidemic Forecasting     0.8563    0.8976    0.8765       166\n",
            "           Mechanism     0.9035    0.8574    0.8799       568\n",
            "          Prevention     0.9027    0.9603    0.9306      1613\n",
            "        Transmission     0.8191    0.8750    0.8462       352\n",
            "           Treatment     0.8729    0.9005    0.8864      1075\n",
            "\n",
            "           micro avg     0.8723    0.9177    0.8944      4837\n",
            "           macro avg     0.8646    0.9055    0.8841      4837\n",
            "        weighted avg     0.8731    0.9177    0.8944      4837\n",
            "         samples avg     0.9043    0.9374    0.9059      4837\n",
            "\n",
            "Threshold: 0.35\n",
            "                      precision    recall  f1-score   support\n",
            "\n",
            "         Case Report     0.8842    0.9234    0.9034       248\n",
            "           Diagnosis     0.8309    0.9166    0.8716       815\n",
            "Epidemic Forecasting     0.8655    0.8916    0.8783       166\n",
            "           Mechanism     0.9140    0.8415    0.8763       568\n",
            "          Prevention     0.9122    0.9535    0.9324      1613\n",
            "        Transmission     0.8297    0.8580    0.8436       352\n",
            "           Treatment     0.8793    0.8949    0.8870      1075\n",
            "\n",
            "           micro avg     0.8815    0.9105    0.8958      4837\n",
            "           macro avg     0.8737    0.8971    0.8847      4837\n",
            "        weighted avg     0.8824    0.9105    0.8957      4837\n",
            "         samples avg     0.9091    0.9320    0.9065      4837\n",
            "\n",
            "Threshold: 0.4\n",
            "                      precision    recall  f1-score   support\n",
            "\n",
            "         Case Report     0.8945    0.9234    0.9087       248\n",
            "           Diagnosis     0.8441    0.9104    0.8760       815\n",
            "Epidemic Forecasting     0.8706    0.8916    0.8810       166\n",
            "           Mechanism     0.9205    0.8363    0.8764       568\n",
            "          Prevention     0.9180    0.9504    0.9339      1613\n",
            "        Transmission     0.8385    0.8409    0.8397       352\n",
            "           Treatment     0.8906    0.8856    0.8881      1075\n",
            "\n",
            "           micro avg     0.8905    0.9045    0.8974      4837\n",
            "           macro avg     0.8824    0.8912    0.8863      4837\n",
            "        weighted avg     0.8911    0.9045    0.8972      4837\n",
            "         samples avg     0.9147    0.9283    0.9078      4837\n",
            "\n",
            "Threshold: 0.45\n",
            "                      precision    recall  f1-score   support\n",
            "\n",
            "         Case Report     0.8972    0.9153    0.9062       248\n",
            "           Diagnosis     0.8490    0.8969    0.8723       815\n",
            "Epidemic Forecasting     0.8802    0.8855    0.8829       166\n",
            "           Mechanism     0.9293    0.8327    0.8784       568\n",
            "          Prevention     0.9254    0.9461    0.9356      1613\n",
            "        Transmission     0.8517    0.8324    0.8420       352\n",
            "           Treatment     0.8988    0.8753    0.8869      1075\n",
            "\n",
            "           micro avg     0.8981    0.8968    0.8975      4837\n",
            "           macro avg     0.8902    0.8835    0.8863      4837\n",
            "        weighted avg     0.8987    0.8968    0.8973      4837\n",
            "         samples avg     0.9187    0.9223    0.9071      4837\n",
            "\n",
            "Threshold: 0.5\n",
            "                      precision    recall  f1-score   support\n",
            "\n",
            "         Case Report     0.9116    0.9153    0.9135       248\n",
            "           Diagnosis     0.8602    0.8834    0.8717       815\n",
            "Epidemic Forecasting     0.8841    0.8735    0.8788       166\n",
            "           Mechanism     0.9378    0.8222    0.8762       568\n",
            "          Prevention     0.9277    0.9386    0.9331      1613\n",
            "        Transmission     0.8580    0.8239    0.8406       352\n",
            "           Treatment     0.9029    0.8651    0.8836      1075\n",
            "\n",
            "           micro avg     0.9042    0.8875    0.8958      4837\n",
            "           macro avg     0.8975    0.8746    0.8853      4837\n",
            "        weighted avg     0.9046    0.8875    0.8955      4837\n",
            "         samples avg     0.9209    0.9154    0.9046      4837\n",
            "\n",
            "Threshold: 0.55\n",
            "                      precision    recall  f1-score   support\n",
            "\n",
            "         Case Report     0.9146    0.9073    0.9109       248\n",
            "           Diagnosis     0.8681    0.8724    0.8703       815\n",
            "Epidemic Forecasting     0.8896    0.8735    0.8815       166\n",
            "           Mechanism     0.9431    0.8169    0.8755       568\n",
            "          Prevention     0.9353    0.9324    0.9339      1613\n",
            "        Transmission     0.8602    0.7869    0.8220       352\n",
            "           Treatment     0.9120    0.8577    0.8840      1075\n",
            "\n",
            "           micro avg     0.9114    0.8782    0.8945      4837\n",
            "           macro avg     0.9033    0.8639    0.8826      4837\n",
            "        weighted avg     0.9116    0.8782    0.8941      4837\n",
            "         samples avg     0.9231    0.9085    0.9023      4837\n",
            "\n",
            "Threshold: 0.6\n",
            "                      precision    recall  f1-score   support\n",
            "\n",
            "         Case Report     0.9143    0.9032    0.9087       248\n",
            "           Diagnosis     0.8814    0.8663    0.8738       815\n",
            "Epidemic Forecasting     0.8875    0.8554    0.8712       166\n",
            "           Mechanism     0.9561    0.8046    0.8738       568\n",
            "          Prevention     0.9413    0.9244    0.9327      1613\n",
            "        Transmission     0.8667    0.7756    0.8186       352\n",
            "           Treatment     0.9198    0.8428    0.8796      1075\n",
            "\n",
            "           micro avg     0.9192    0.8681    0.8929      4837\n",
            "           macro avg     0.9096    0.8532    0.8798      4837\n",
            "        weighted avg     0.9195    0.8681    0.8924      4837\n",
            "         samples avg     0.9257    0.9010    0.8998      4837\n",
            "\n",
            "Threshold: 0.65\n",
            "                      precision    recall  f1-score   support\n",
            "\n",
            "         Case Report     0.9139    0.8992    0.9065       248\n",
            "           Diagnosis     0.8933    0.8528    0.8726       815\n",
            "Epidemic Forecasting     0.8868    0.8494    0.8677       166\n",
            "           Mechanism     0.9596    0.7940    0.8690       568\n",
            "          Prevention     0.9463    0.9175    0.9317      1613\n",
            "        Transmission     0.8874    0.7614    0.8196       352\n",
            "           Treatment     0.9253    0.8298    0.8749      1075\n",
            "\n",
            "           micro avg     0.9261    0.8580    0.8907      4837\n",
            "           macro avg     0.9161    0.8434    0.8774      4837\n",
            "        weighted avg     0.9263    0.8580    0.8901      4837\n",
            "         samples avg     0.9272    0.8934    0.8966      4837\n",
            "\n",
            "Threshold: 0.67\n",
            "                      precision    recall  f1-score   support\n",
            "\n",
            "         Case Report     0.9177    0.8992    0.9084       248\n",
            "           Diagnosis     0.8935    0.8442    0.8681       815\n",
            "Epidemic Forecasting     0.8861    0.8434    0.8642       166\n",
            "           Mechanism     0.9614    0.7887    0.8665       568\n",
            "          Prevention     0.9485    0.9132    0.9305      1613\n",
            "        Transmission     0.8900    0.7585    0.8190       352\n",
            "           Treatment     0.9306    0.8233    0.8736      1075\n",
            "\n",
            "           micro avg     0.9286    0.8526    0.8890      4837\n",
            "           macro avg     0.9182    0.8386    0.8758      4837\n",
            "        weighted avg     0.9288    0.8526    0.8883      4837\n",
            "         samples avg     0.9272    0.8893    0.8943      4837\n",
            "\n",
            "Threshold: 0.7\n",
            "                      precision    recall  f1-score   support\n",
            "\n",
            "         Case Report     0.9215    0.8992    0.9102       248\n",
            "           Diagnosis     0.8999    0.8380    0.8679       815\n",
            "Epidemic Forecasting     0.8968    0.8373    0.8660       166\n",
            "           Mechanism     0.9630    0.7799    0.8619       568\n",
            "          Prevention     0.9545    0.9107    0.9321      1613\n",
            "        Transmission     0.8953    0.7528    0.8179       352\n",
            "           Treatment     0.9358    0.8140    0.8706      1075\n",
            "\n",
            "           micro avg     0.9341    0.8470    0.8884      4837\n",
            "           macro avg     0.9238    0.8331    0.8752      4837\n",
            "        weighted avg     0.9342    0.8470    0.8877      4837\n",
            "         samples avg     0.9272    0.8846    0.8922      4837\n",
            "\n",
            "Threshold: 0.75\n",
            "                      precision    recall  f1-score   support\n",
            "\n",
            "         Case Report     0.9244    0.8871    0.9053       248\n",
            "           Diagnosis     0.9114    0.8209    0.8638       815\n",
            "Epidemic Forecasting     0.9013    0.8253    0.8616       166\n",
            "           Mechanism     0.9667    0.7658    0.8546       568\n",
            "          Prevention     0.9587    0.9058    0.9315      1613\n",
            "        Transmission     0.9088    0.7358    0.8132       352\n",
            "           Treatment     0.9407    0.7963    0.8625      1075\n",
            "\n",
            "           micro avg     0.9404    0.8346    0.8843      4837\n",
            "           macro avg     0.9303    0.8196    0.8704      4837\n",
            "        weighted avg     0.9403    0.8346    0.8834      4837\n",
            "         samples avg     0.9256    0.8745    0.8859      4837\n",
            "\n",
            "Threshold: 0.8\n",
            "                      precision    recall  f1-score   support\n",
            "\n",
            "         Case Report     0.9313    0.8750    0.9023       248\n",
            "           Diagnosis     0.9221    0.7988    0.8560       815\n",
            "Epidemic Forecasting     0.9060    0.8133    0.8571       166\n",
            "           Mechanism     0.9704    0.7500    0.8461       568\n",
            "          Prevention     0.9644    0.8903    0.9259      1613\n",
            "        Transmission     0.9033    0.6903    0.7826       352\n",
            "           Treatment     0.9501    0.7795    0.8564      1075\n",
            "\n",
            "           micro avg     0.9470    0.8158    0.8765      4837\n",
            "           macro avg     0.9354    0.7996    0.8609      4837\n",
            "        weighted avg     0.9467    0.8158    0.8753      4837\n",
            "         samples avg     0.9200    0.8593    0.8747      4837\n",
            "\n",
            "Threshold: 0.85\n",
            "                      precision    recall  f1-score   support\n",
            "\n",
            "         Case Report     0.9513    0.8669    0.9072       248\n",
            "           Diagnosis     0.9326    0.7644    0.8402       815\n",
            "Epidemic Forecasting     0.9149    0.7771    0.8404       166\n",
            "           Mechanism     0.9720    0.7342    0.8365       568\n",
            "          Prevention     0.9716    0.8692    0.9175      1613\n",
            "        Transmission     0.9213    0.6648    0.7723       352\n",
            "           Treatment     0.9572    0.7488    0.8403      1075\n",
            "\n",
            "           micro avg     0.9558    0.7908    0.8655      4837\n",
            "           macro avg     0.9458    0.7751    0.8506      4837\n",
            "        weighted avg     0.9552    0.7908    0.8641      4837\n",
            "         samples avg     0.9101    0.8400    0.8593      4837\n",
            "\n",
            "Threshold: 0.9\n",
            "                      precision    recall  f1-score   support\n",
            "\n",
            "         Case Report     0.9495    0.8347    0.8884       248\n",
            "           Diagnosis     0.9516    0.7239    0.8223       815\n",
            "Epidemic Forecasting     0.9389    0.7410    0.8283       166\n",
            "           Mechanism     0.9754    0.6972    0.8131       568\n",
            "          Prevention     0.9783    0.8376    0.9025      1613\n",
            "        Transmission     0.9484    0.5739    0.7150       352\n",
            "           Treatment     0.9645    0.7070    0.8159      1075\n",
            "\n",
            "           micro avg     0.9659    0.7503    0.8445      4837\n",
            "           macro avg     0.9581    0.7307    0.8265      4837\n",
            "        weighted avg     0.9654    0.7503    0.8423      4837\n",
            "         samples avg     0.8913    0.8069    0.8319      4837\n",
            "\n",
            "Threshold: 0.95\n",
            "                      precision    recall  f1-score   support\n",
            "\n",
            "         Case Report     0.9561    0.7903    0.8653       248\n",
            "           Diagnosis     0.9667    0.6405    0.7705       815\n",
            "Epidemic Forecasting     0.9655    0.6747    0.7943       166\n",
            "           Mechanism     0.9864    0.6391    0.7756       568\n",
            "          Prevention     0.9889    0.7743    0.8686      1613\n",
            "        Transmission     0.9744    0.4318    0.5984       352\n",
            "           Treatment     0.9779    0.6167    0.7564      1075\n",
            "\n",
            "           micro avg     0.9793    0.6734    0.7980      4837\n",
            "           macro avg     0.9737    0.6525    0.7756      4837\n",
            "        weighted avg     0.9789    0.6734    0.7938      4837\n",
            "         samples avg     0.8456    0.7428    0.7748      4837\n",
            "\n"
          ]
        }
      ]
    },
    {
      "cell_type": "code",
      "metadata": {
        "colab": {
          "base_uri": "https://localhost:8080/"
        },
        "id": "PTZ9lrEttGnt",
        "outputId": "f9270152-e4f0-42a9-8525-221273be8c0f"
      },
      "source": [
        "THRESHOLD = [threshold/100 for threshold in range(10, 100, 1)]\n",
        "print(THRESHOLD)"
      ],
      "execution_count": null,
      "outputs": [
        {
          "output_type": "stream",
          "name": "stdout",
          "text": [
            "[0.1, 0.11, 0.12, 0.13, 0.14, 0.15, 0.16, 0.17, 0.18, 0.19, 0.2, 0.21, 0.22, 0.23, 0.24, 0.25, 0.26, 0.27, 0.28, 0.29, 0.3, 0.31, 0.32, 0.33, 0.34, 0.35, 0.36, 0.37, 0.38, 0.39, 0.4, 0.41, 0.42, 0.43, 0.44, 0.45, 0.46, 0.47, 0.48, 0.49, 0.5, 0.51, 0.52, 0.53, 0.54, 0.55, 0.56, 0.57, 0.58, 0.59, 0.6, 0.61, 0.62, 0.63, 0.64, 0.65, 0.66, 0.67, 0.68, 0.69, 0.7, 0.71, 0.72, 0.73, 0.74, 0.75, 0.76, 0.77, 0.78, 0.79, 0.8, 0.81, 0.82, 0.83, 0.84, 0.85, 0.86, 0.87, 0.88, 0.89, 0.9, 0.91, 0.92, 0.93, 0.94, 0.95, 0.96, 0.97, 0.98, 0.99]\n"
          ]
        }
      ]
    },
    {
      "cell_type": "code",
      "metadata": {
        "id": "L23St_k6kWMT"
      },
      "source": [
        "Class_report = dict()\n",
        "\n",
        "for threshold in THRESHOLD:\n",
        "  y_pred = predictions.numpy()\n",
        "  y_true = labels.numpy()\n",
        "\n",
        "  upper, lower = 1, 0\n",
        "\n",
        "  y_pred = np.where(y_pred > threshold, upper, lower)\n",
        "\n",
        "  Class_report[f\"THRESHOLD:{threshold}\"] = classification_report(\n",
        "      y_true,\n",
        "      y_pred,\n",
        "      target_names=LABEL_COLUMNS,\n",
        "      zero_division=0,\n",
        "      output_dict=True\n",
        "  )"
      ],
      "execution_count": null,
      "outputs": []
    },
    {
      "cell_type": "code",
      "metadata": {
        "id": "RO-mClKnkbyx"
      },
      "source": [
        "micro_F1_Scores = [Class_report[key][\"micro avg\"][\"f1-score\"] for key in Class_report.keys()]\n",
        "macro_F1_Scores = [Class_report[key][\"macro avg\"][\"f1-score\"] for key in Class_report.keys()]"
      ],
      "execution_count": null,
      "outputs": []
    },
    {
      "cell_type": "code",
      "metadata": {
        "colab": {
          "base_uri": "https://localhost:8080/",
          "height": 488
        },
        "id": "H22BEzj_kh69",
        "outputId": "73417caa-79f2-48f9-89b5-1c56e2f3b9fe"
      },
      "source": [
        "import seaborn as sns\n",
        "import matplotlib.pyplot as plt\n",
        "\n",
        "x = np.arange(10, 100, 1)/100\n",
        "y1 = np.array(micro_F1_Scores)\n",
        "y2 = np.array(macro_F1_Scores)\n",
        "\n",
        "plt.plot(x, y1, 'r')  \n",
        "plt.plot(x, y2, 'b') \n",
        "plt.show()"
      ],
      "execution_count": null,
      "outputs": [
        {
          "output_type": "display_data",
          "data": {
            "image/png": "[encoded data removed]",
            "text/plain": [
              "<Figure size 864x576 with 1 Axes>"
            ]
          },
          "metadata": {
            "image/png": {
              "width": 714,
              "height": 471
            }
          }
        }
      ]
    },
    {
      "cell_type": "code",
      "metadata": {
        "colab": {
          "base_uri": "https://localhost:8080/"
        },
        "id": "A1IFeN1jtH0Z",
        "outputId": "13d21560-c0ba-49dc-cd32-f868a41f3e5b"
      },
      "source": [
        "max(micro_F1_Scores), np.argmax(micro_F1_Scores), x[32]"
      ],
      "execution_count": null,
      "outputs": [
        {
          "output_type": "execute_result",
          "data": {
            "text/plain": [
              "(0.8931641424478101, 32, 0.42)"
            ]
          },
          "metadata": {},
          "execution_count": 64
        }
      ]
    },
    {
      "cell_type": "code",
      "metadata": {
        "id": "lgPvmUBIyfN7"
      },
      "source": [
        "Annotation_size = {\n",
        "    \"Type_1\": [],\n",
        "    \"Type_2\": [],\n",
        "    \"Type_3\": [],\n",
        "    \"Type_4g\": []\n",
        "}"
      ],
      "execution_count": null,
      "outputs": []
    },
    {
      "cell_type": "code",
      "metadata": {
        "id": "MPULm2CxuVOF"
      },
      "source": [
        "for index, annotation in enumerate(labels):\n",
        "\n",
        "  annotation = annotation.numpy()\n",
        "  count = np.count_nonzero(annotation)\n",
        "  if count == 1:\n",
        "    Annotation_size[\"Type_1\"].append(index)\n",
        "  elif count == 2:\n",
        "    Annotation_size[\"Type_2\"].append(index)\n",
        "  elif count == 3:\n",
        "    Annotation_size[\"Type_3\"].append(index)\n",
        "  else:\n",
        "    Annotation_size[\"Type_4g\"].append(index)"
      ],
      "execution_count": null,
      "outputs": []
    },
    {
      "cell_type": "markdown",
      "metadata": {
        "id": "MDVgcZJ8wOqs"
      },
      "source": [
        "#### Classification Reports based on annotation counts"
      ]
    },
    {
      "cell_type": "code",
      "metadata": {
        "id": "9Eh98fF5uw0d"
      },
      "source": [
        "# Annotation equals once\n",
        "\n",
        "Type_1_predictions = predictions[Annotation_size[\"Type_1\"]]\n",
        "Type_1_labels = labels[Annotation_size[\"Type_1\"]]"
      ],
      "execution_count": null,
      "outputs": []
    },
    {
      "cell_type": "code",
      "metadata": {
        "colab": {
          "base_uri": "https://localhost:8080/"
        },
        "id": "7ffmQVlHv0cH",
        "outputId": "5cba843f-c15d-4979-bfce-5aaee850a9e6"
      },
      "source": [
        "y_pred = Type_1_predictions.numpy()\n",
        "y_true = Type_1_labels.numpy()\n",
        "\n",
        "upper, lower = 1, 0\n",
        "\n",
        "y_pred = np.where(y_pred > 0.5, upper, lower)\n",
        "\n",
        "print(\"classification report based on Annotation count equals one\\n\")\n",
        "\n",
        "print(\n",
        "    classification_report(\n",
        "        y_true,\n",
        "        y_pred,\n",
        "        digits=4,\n",
        "        target_names=LABEL_COLUMNS,\n",
        "        zero_division=0\n",
        "    )\n",
        ")"
      ],
      "execution_count": null,
      "outputs": [
        {
          "output_type": "stream",
          "name": "stdout",
          "text": [
            "classification report based on Annotation count equals one\n",
            "\n",
            "                      precision    recall  f1-score   support\n",
            "\n",
            "         Case Report     0.9447    0.8952    0.9193       248\n",
            "           Diagnosis     0.7597    0.9703    0.8522       303\n",
            "Epidemic Forecasting     0.7612    0.9107    0.8293        56\n",
            "           Mechanism     0.6974    0.8548    0.7681        62\n",
            "          Prevention     0.9244    0.9631    0.9434      1194\n",
            "        Transmission     0.3956    0.8571    0.5414        42\n",
            "           Treatment     0.7634    0.9313    0.8390       291\n",
            "\n",
            "           micro avg     0.8460    0.9458    0.8931      2196\n",
            "           macro avg     0.7495    0.9118    0.8132      2196\n",
            "        weighted avg     0.8620    0.9458    0.8987      2196\n",
            "         samples avg     0.8848    0.9458    0.9048      2196\n",
            "\n"
          ]
        }
      ]
    },
    {
      "cell_type": "code",
      "metadata": {
        "id": "-wZxePy478-r"
      },
      "source": [
        ""
      ],
      "execution_count": null,
      "outputs": []
    },
    {
      "cell_type": "code",
      "metadata": {
        "id": "WzxR60rRwaKz"
      },
      "source": [
        "# Annotation equals twice\n",
        "\n",
        "Type_1_predictions = predictions[Annotation_size[\"Type_2\"]]\n",
        "Type_1_labels = labels[Annotation_size[\"Type_2\"]]"
      ],
      "execution_count": null,
      "outputs": []
    },
    {
      "cell_type": "code",
      "metadata": {
        "colab": {
          "base_uri": "https://localhost:8080/"
        },
        "id": "WnVGT6MqwaK0",
        "outputId": "d37d5401-502e-4d61-aa02-a327faab80cb"
      },
      "source": [
        "y_pred = Type_1_predictions.numpy()\n",
        "y_true = Type_1_labels.numpy()\n",
        "\n",
        "upper, lower = 1, 0\n",
        "\n",
        "y_pred = np.where(y_pred > 0.5, upper, lower)\n",
        "\n",
        "print(\"classification report based on Annotation count equals two\\n\")\n",
        "\n",
        "print(\n",
        "    classification_report(\n",
        "        y_true,\n",
        "        y_pred,\n",
        "        digits=4,\n",
        "        target_names=LABEL_COLUMNS,\n",
        "        zero_division=0\n",
        "    )\n",
        ")"
      ],
      "execution_count": null,
      "outputs": [
        {
          "output_type": "stream",
          "name": "stdout",
          "text": [
            "classification report based on Annotation count equals two\n",
            "\n",
            "                      precision    recall  f1-score   support\n",
            "\n",
            "         Case Report     0.0000    0.0000    0.0000         0\n",
            "           Diagnosis     0.9294    0.8501    0.8880       387\n",
            "Epidemic Forecasting     0.8913    0.8283    0.8586        99\n",
            "           Mechanism     0.9771    0.8465    0.9072       404\n",
            "          Prevention     0.9346    0.8850    0.9091       339\n",
            "        Transmission     0.9447    0.8991    0.9213       228\n",
            "           Treatment     0.9832    0.8744    0.9256       669\n",
            "\n",
            "           micro avg     0.9525    0.8669    0.9077      2126\n",
            "           macro avg     0.8086    0.7405    0.7728      2126\n",
            "        weighted avg     0.9561    0.8669    0.9091      2126\n",
            "         samples avg     0.9458    0.8669    0.8902      2126\n",
            "\n"
          ]
        }
      ]
    },
    {
      "cell_type": "code",
      "metadata": {
        "id": "17Pt3_F7waZo"
      },
      "source": [
        "# Annotation equals thrice\n",
        "\n",
        "Type_1_predictions = predictions[Annotation_size[\"Type_3\"]]\n",
        "Type_1_labels = labels[Annotation_size[\"Type_3\"]]"
      ],
      "execution_count": null,
      "outputs": []
    },
    {
      "cell_type": "code",
      "metadata": {
        "colab": {
          "base_uri": "https://localhost:8080/"
        },
        "id": "ee5F7yQmwaZo",
        "outputId": "ca41b1d7-359d-45e1-e5da-dd423c040ca9"
      },
      "source": [
        "y_pred = Type_1_predictions.numpy()\n",
        "y_true = Type_1_labels.numpy()\n",
        "\n",
        "upper, lower = 1, 0\n",
        "\n",
        "y_pred = np.where(y_pred > 0.5, upper, lower)\n",
        "\n",
        "print(\"classification report based on Annotation count equals three\\n\")\n",
        "\n",
        "print(\n",
        "    classification_report(\n",
        "        y_true,\n",
        "        y_pred,\n",
        "        digits=4,\n",
        "        target_names=LABEL_COLUMNS,\n",
        "        zero_division=0\n",
        "    )\n",
        ")"
      ],
      "execution_count": null,
      "outputs": [
        {
          "output_type": "stream",
          "name": "stdout",
          "text": [
            "classification report based on Annotation count equals three\n",
            "\n",
            "                      precision    recall  f1-score   support\n",
            "\n",
            "         Case Report     0.0000    0.0000    0.0000         0\n",
            "           Diagnosis     0.9753    0.7596    0.8541       104\n",
            "Epidemic Forecasting     0.8571    0.5455    0.6667        11\n",
            "           Mechanism     0.9833    0.7024    0.8194        84\n",
            "          Prevention     0.8958    0.6615    0.7611        65\n",
            "        Transmission     0.9444    0.7500    0.8361        68\n",
            "           Treatment     0.9692    0.6495    0.7778        97\n",
            "\n",
            "           micro avg     0.9556    0.7016    0.8091       429\n",
            "           macro avg     0.8036    0.5812    0.6736       429\n",
            "        weighted avg     0.9555    0.7016    0.8083       429\n",
            "         samples avg     0.9633    0.7016    0.7914       429\n",
            "\n"
          ]
        }
      ]
    },
    {
      "cell_type": "code",
      "metadata": {
        "id": "eWMRmbAiwamJ"
      },
      "source": [
        "# Annotation equals more than 4\n",
        "\n",
        "Type_1_predictions = predictions[Annotation_size[\"Type_4g\"]]\n",
        "Type_1_labels = labels[Annotation_size[\"Type_4g\"]]"
      ],
      "execution_count": null,
      "outputs": []
    },
    {
      "cell_type": "code",
      "metadata": {
        "colab": {
          "base_uri": "https://localhost:8080/"
        },
        "id": "SahUndPawamJ",
        "outputId": "494e0ea5-3380-48e6-80a2-2b049dc81400"
      },
      "source": [
        "y_pred = Type_1_predictions.numpy()\n",
        "y_true = Type_1_labels.numpy()\n",
        "\n",
        "upper, lower = 1, 0\n",
        "\n",
        "y_pred = np.where(y_pred > 0.5, upper, lower)\n",
        "\n",
        "print(\"classification report based on Annotation count equals more than 4\\n\")\n",
        "\n",
        "print(\n",
        "    classification_report(\n",
        "        y_true,\n",
        "        y_pred,\n",
        "        digits=4,\n",
        "        target_names=LABEL_COLUMNS,\n",
        "        zero_division=0\n",
        "    )\n",
        ")"
      ],
      "execution_count": null,
      "outputs": [
        {
          "output_type": "stream",
          "name": "stdout",
          "text": [
            "classification report based on Annotation count equals more than 4\n",
            "\n",
            "                      precision    recall  f1-score   support\n",
            "\n",
            "         Case Report     0.0000    0.0000    0.0000         0\n",
            "           Diagnosis     1.0000    0.8095    0.8947        21\n",
            "Epidemic Forecasting     0.0000    0.0000    0.0000         0\n",
            "           Mechanism     1.0000    0.5000    0.6667        18\n",
            "          Prevention     1.0000    0.6000    0.7500        15\n",
            "        Transmission     1.0000    0.6429    0.7826        14\n",
            "           Treatment     1.0000    0.7778    0.8750        18\n",
            "\n",
            "           micro avg     1.0000    0.6744    0.8056        86\n",
            "           macro avg     0.7143    0.4757    0.5670        86\n",
            "        weighted avg     1.0000    0.6744    0.7994        86\n",
            "         samples avg     1.0000    0.6762    0.7879        86\n",
            "\n"
          ]
        }
      ]
    },
    {
      "cell_type": "markdown",
      "metadata": {
        "id": "djf-e0qw2aMi"
      },
      "source": [
        "#### model prediction and annotation segregation on baseline standards"
      ]
    },
    {
      "cell_type": "code",
      "metadata": {
        "id": "dipI9wmfv-AK"
      },
      "source": [
        "gold_predictions = pd.read_csv(\"drive/MyDrive/Biocreative/Biocreative/datasets/baseline/prediction_label_samples.csv\")\n",
        "gold_predictions = gold_predictions.reindex(columns=LABEL_COLUMNS)\n",
        "# gold_predictions = gold_predictions.drop([\"PMID\"], axis=1)\n",
        "gold_labels = pd.read_csv(\"drive/MyDrive/Biocreative/Biocreative/datasets/baseline/goldstandard_label_samples.csv\")\n",
        "gold_labels = gold_labels.reindex(columns=LABEL_COLUMNS)\n",
        "# gold_labels = gold_labels.drop([\"PMID\"], axis=1)"
      ],
      "execution_count": null,
      "outputs": []
    },
    {
      "cell_type": "code",
      "metadata": {
        "id": "aTr-2Xoy3Cph"
      },
      "source": [
        "gold_predictions = gold_predictions.values.tolist()\n",
        "gold_labels = gold_labels.values.tolist()"
      ],
      "execution_count": null,
      "outputs": []
    },
    {
      "cell_type": "code",
      "metadata": {
        "id": "Tz_l09BI2-nX"
      },
      "source": [
        "Annotation_size = {\n",
        "    \"Type_1\": [],\n",
        "    \"Type_2\": [],\n",
        "    \"Type_3\": [],\n",
        "    \"Type_4g\": []\n",
        "}"
      ],
      "execution_count": null,
      "outputs": []
    },
    {
      "cell_type": "code",
      "metadata": {
        "id": "gpzvrkgs2-nY"
      },
      "source": [
        "for index, annotation in enumerate(gold_labels):\n",
        "\n",
        "  annotation = np.array(annotation)\n",
        "  count = np.count_nonzero(annotation)\n",
        "  if count == 1:\n",
        "    Annotation_size[\"Type_1\"].append(index)\n",
        "  elif count == 2:\n",
        "    Annotation_size[\"Type_2\"].append(index)\n",
        "  elif count == 3:\n",
        "    Annotation_size[\"Type_3\"].append(index)\n",
        "  else:\n",
        "    Annotation_size[\"Type_4g\"].append(index)"
      ],
      "execution_count": null,
      "outputs": []
    },
    {
      "cell_type": "code",
      "metadata": {
        "id": "YQJFGdcQ4pTJ"
      },
      "source": [
        "gold_predictions = torch.tensor(gold_predictions)\n",
        "gold_labels = torch.tensor(gold_labels)"
      ],
      "execution_count": null,
      "outputs": []
    },
    {
      "cell_type": "code",
      "metadata": {
        "id": "Xt6BLfM0247o"
      },
      "source": [
        "# Annotation equals once\n",
        "\n",
        "Type_1_predictions = gold_predictions[Annotation_size[\"Type_1\"]]\n",
        "Type_1_labels = gold_labels[Annotation_size[\"Type_1\"]]"
      ],
      "execution_count": null,
      "outputs": []
    },
    {
      "cell_type": "code",
      "metadata": {
        "id": "ZmBlRs6s247p",
        "colab": {
          "base_uri": "https://localhost:8080/"
        },
        "outputId": "fce217a1-808c-460d-90e0-a9587b30c0fc"
      },
      "source": [
        "y_pred = Type_1_predictions.numpy()\n",
        "y_true = Type_1_labels.numpy()\n",
        "\n",
        "upper, lower = 1, 0\n",
        "\n",
        "y_pred = np.where(y_pred > 0.5, upper, lower)\n",
        "\n",
        "print(\"classification report based on Annotation count equals one\\n\")\n",
        "\n",
        "print(\n",
        "    classification_report(\n",
        "        y_true,\n",
        "        y_pred,\n",
        "        digits=4,\n",
        "        target_names=LABEL_COLUMNS,\n",
        "        zero_division=0\n",
        "    )\n",
        ")"
      ],
      "execution_count": null,
      "outputs": [
        {
          "output_type": "stream",
          "name": "stdout",
          "text": [
            "classification report based on Annotation count equals one\n",
            "\n",
            "                      precision    recall  f1-score   support\n",
            "\n",
            "         Case Report     0.8636    0.7600    0.8085        50\n",
            "           Diagnosis     0.0000    0.0000    0.0000         0\n",
            "Epidemic Forecasting     0.9111    0.7593    0.8283        54\n",
            "           Mechanism     0.7978    0.8161    0.8068        87\n",
            "          Prevention     0.9475    0.9350    0.9412       908\n",
            "        Transmission     0.6731    0.9211    0.7778        38\n",
            "           Treatment     0.8398    0.8566    0.8481       251\n",
            "\n",
            "           micro avg     0.8839    0.8999    0.8918      1388\n",
            "           macro avg     0.7190    0.7211    0.7158      1388\n",
            "        weighted avg     0.9067    0.8999    0.9023      1388\n",
            "         samples avg     0.8542    0.8999    0.8694      1388\n",
            "\n"
          ]
        }
      ]
    },
    {
      "cell_type": "code",
      "metadata": {
        "id": "5ajGWSJj247q"
      },
      "source": [
        "# Annotation equals twice\n",
        "\n",
        "Type_1_predictions = gold_predictions[Annotation_size[\"Type_2\"]]\n",
        "Type_1_labels = gold_labels[Annotation_size[\"Type_2\"]]"
      ],
      "execution_count": null,
      "outputs": []
    },
    {
      "cell_type": "code",
      "metadata": {
        "id": "jle3z_25247q",
        "colab": {
          "base_uri": "https://localhost:8080/"
        },
        "outputId": "37237488-e075-4353-9e37-b4465c3d0a50"
      },
      "source": [
        "y_pred = Type_1_predictions.numpy()\n",
        "y_true = Type_1_labels.numpy()\n",
        "\n",
        "upper, lower = 1, 0\n",
        "\n",
        "y_pred = np.where(y_pred > 0.5, upper, lower)\n",
        "\n",
        "print(\"classification report based on Annotation count equals two\\n\")\n",
        "\n",
        "print(\n",
        "    classification_report(\n",
        "        y_true,\n",
        "        y_pred,\n",
        "        digits=4,\n",
        "        target_names=LABEL_COLUMNS,\n",
        "        zero_division=0\n",
        "    )\n",
        ")"
      ],
      "execution_count": null,
      "outputs": [
        {
          "output_type": "stream",
          "name": "stdout",
          "text": [
            "classification report based on Annotation count equals two\n",
            "\n",
            "                      precision    recall  f1-score   support\n",
            "\n",
            "         Case Report     0.0000    0.0000    0.0000         0\n",
            "           Diagnosis     0.9782    0.6793    0.8018       396\n",
            "Epidemic Forecasting     0.9344    0.6129    0.7403        93\n",
            "           Mechanism     0.9386    0.7880    0.8567       349\n",
            "          Prevention     0.9029    0.8395    0.8700       299\n",
            "        Transmission     0.9554    0.6772    0.7926       158\n",
            "           Treatment     0.9967    0.8048    0.8905       743\n",
            "\n",
            "           micro avg     0.9611    0.7640    0.8513      2038\n",
            "           macro avg     0.8152    0.6288    0.7074      2038\n",
            "        weighted avg     0.9633    0.7640    0.8500      2038\n",
            "         samples avg     0.9342    0.7640    0.8179      2038\n",
            "\n"
          ]
        }
      ]
    },
    {
      "cell_type": "code",
      "metadata": {
        "id": "MX6kg5KD247r"
      },
      "source": [
        "# Annotation equals thrice\n",
        "\n",
        "Type_1_predictions = gold_predictions[Annotation_size[\"Type_3\"]]\n",
        "Type_1_labels = gold_labels[Annotation_size[\"Type_3\"]]"
      ],
      "execution_count": null,
      "outputs": []
    },
    {
      "cell_type": "code",
      "metadata": {
        "id": "sioJkalO247r",
        "colab": {
          "base_uri": "https://localhost:8080/"
        },
        "outputId": "f08f6619-73d2-4f85-d73a-8172e0308f86"
      },
      "source": [
        "y_pred = Type_1_predictions.numpy()\n",
        "y_true = Type_1_labels.numpy()\n",
        "\n",
        "upper, lower = 1, 0\n",
        "\n",
        "y_pred = np.where(y_pred > 0.5, upper, lower)\n",
        "\n",
        "print(\"classification report based on Annotation count equals three\\n\")\n",
        "\n",
        "print(\n",
        "    classification_report(\n",
        "        y_true,\n",
        "        y_pred,\n",
        "        digits=4,\n",
        "        target_names=LABEL_COLUMNS,\n",
        "        zero_division=0\n",
        "    )\n",
        ")"
      ],
      "execution_count": null,
      "outputs": [
        {
          "output_type": "stream",
          "name": "stdout",
          "text": [
            "classification report based on Annotation count equals three\n",
            "\n",
            "                      precision    recall  f1-score   support\n",
            "\n",
            "         Case Report     0.0000    0.0000    0.0000         0\n",
            "           Diagnosis     0.9722    0.4930    0.6542        71\n",
            "Epidemic Forecasting     1.0000    0.4194    0.5909        31\n",
            "           Mechanism     1.0000    0.7105    0.8308        76\n",
            "          Prevention     0.9672    0.8551    0.9077        69\n",
            "        Transmission     0.9815    0.6709    0.7970        79\n",
            "           Treatment     0.9857    0.7841    0.8734        88\n",
            "\n",
            "           micro avg     0.9826    0.6836    0.8063       414\n",
            "           macro avg     0.8438    0.5618    0.6649       414\n",
            "        weighted avg     0.9832    0.6836    0.7980       414\n",
            "         samples avg     0.9674    0.6836    0.7820       414\n",
            "\n"
          ]
        }
      ]
    },
    {
      "cell_type": "code",
      "metadata": {
        "id": "f8oJhrCr247s"
      },
      "source": [
        "# Annotation equals more than 4\n",
        "\n",
        "Type_1_predictions = gold_predictions[Annotation_size[\"Type_4g\"]]\n",
        "Type_1_labels = gold_labels[Annotation_size[\"Type_4g\"]]"
      ],
      "execution_count": null,
      "outputs": []
    },
    {
      "cell_type": "code",
      "metadata": {
        "id": "5Z3Hb9L8247t",
        "colab": {
          "base_uri": "https://localhost:8080/"
        },
        "outputId": "a7ebd398-b561-4eab-f529-368f2e8bb7bf"
      },
      "source": [
        "y_pred = Type_1_predictions.numpy()\n",
        "y_true = Type_1_labels.numpy()\n",
        "\n",
        "upper, lower = 1, 0\n",
        "\n",
        "y_pred = np.where(y_pred > 0.5, upper, lower)\n",
        "\n",
        "print(\"classification report based on Annotation count equals more than 4\\n\")\n",
        "\n",
        "print(\n",
        "    classification_report(\n",
        "        y_true,\n",
        "        y_pred,\n",
        "        digits=4,\n",
        "        target_names=LABEL_COLUMNS,\n",
        "        zero_division=0\n",
        "    )\n",
        ")"
      ],
      "execution_count": null,
      "outputs": [
        {
          "output_type": "stream",
          "name": "stdout",
          "text": [
            "classification report based on Annotation count equals more than 4\n",
            "\n",
            "                      precision    recall  f1-score   support\n",
            "\n",
            "         Case Report     0.0000    0.0000    0.0000         0\n",
            "           Diagnosis     1.0000    0.4000    0.5714         5\n",
            "Epidemic Forecasting     0.0000    0.0000    0.0000         0\n",
            "           Mechanism     1.0000    0.5000    0.6667         6\n",
            "          Prevention     1.0000    0.7500    0.8571         4\n",
            "        Transmission     1.0000    0.5000    0.6667         4\n",
            "           Treatment     1.0000    0.6000    0.7500         5\n",
            "\n",
            "           micro avg     1.0000    0.5417    0.7027        24\n",
            "           macro avg     0.7143    0.3929    0.5017        24\n",
            "        weighted avg     1.0000    0.5417    0.6959        24\n",
            "         samples avg     0.8333    0.5417    0.6429        24\n",
            "\n"
          ]
        }
      ]
    },
    {
      "cell_type": "code",
      "metadata": {
        "id": "sxTgdr7z5hGN"
      },
      "source": [
        "# test prediction"
      ],
      "execution_count": null,
      "outputs": []
    },
    {
      "cell_type": "code",
      "metadata": {
        "id": "j-3RUzRnjQHp"
      },
      "source": [
        ""
      ],
      "execution_count": null,
      "outputs": []
    }
  ]
}