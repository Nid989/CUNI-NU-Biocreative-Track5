{
  "nbformat": 4,
  "nbformat_minor": 0,
  "metadata": {
    "accelerator": "GPU",
    "colab": {
      "name": "BEST AngryBert.ipynb",
      "provenance": [],
      "collapsed_sections": [
        "pixwbhCQZzEa"
      ],
      "machine_shape": "hm"
    },
    "kernelspec": {
      "display_name": "Python 3",
      "name": "python3"
    },
    "language_info": {
      "name": "python"
    },
    "widgets": {
      "application/vnd.jupyter.widget-state+json": {
        "47d30a25c14042eb84f672d3b76f7d44": {
          "model_module": "@jupyter-widgets/controls",
          "model_name": "HBoxModel",
          "model_module_version": "1.5.0",
          "state": {
            "_view_name": "HBoxView",
            "_dom_classes": [],
            "_model_name": "HBoxModel",
            "_view_module": "@jupyter-widgets/controls",
            "_model_module_version": "1.5.0",
            "_view_count": null,
            "_view_module_version": "1.5.0",
            "box_style": "",
            "layout": "IPY_MODEL_3da4923d1ff94eec91cce52f024bbfd1",
            "_model_module": "@jupyter-widgets/controls",
            "children": [
              "IPY_MODEL_b359c438584d467d8d2697c1233678a1",
              "IPY_MODEL_6738657abfd741a89330ed0d490e20f2",
              "IPY_MODEL_1cd23fe2fba941708260ea2da3435d9e"
            ]
          }
        },
        "3da4923d1ff94eec91cce52f024bbfd1": {
          "model_module": "@jupyter-widgets/base",
          "model_name": "LayoutModel",
          "model_module_version": "1.2.0",
          "state": {
            "_view_name": "LayoutView",
            "grid_template_rows": null,
            "right": null,
            "justify_content": null,
            "_view_module": "@jupyter-widgets/base",
            "overflow": null,
            "_model_module_version": "1.2.0",
            "_view_count": null,
            "flex_flow": null,
            "width": null,
            "min_width": null,
            "border": null,
            "align_items": null,
            "bottom": null,
            "_model_module": "@jupyter-widgets/base",
            "top": null,
            "grid_column": null,
            "overflow_y": null,
            "overflow_x": null,
            "grid_auto_flow": null,
            "grid_area": null,
            "grid_template_columns": null,
            "flex": null,
            "_model_name": "LayoutModel",
            "justify_items": null,
            "grid_row": null,
            "max_height": null,
            "align_content": null,
            "visibility": null,
            "align_self": null,
            "height": null,
            "min_height": null,
            "padding": null,
            "grid_auto_rows": null,
            "grid_gap": null,
            "max_width": null,
            "order": null,
            "_view_module_version": "1.2.0",
            "grid_template_areas": null,
            "object_position": null,
            "object_fit": null,
            "grid_auto_columns": null,
            "margin": null,
            "display": null,
            "left": null
          }
        },
        "b359c438584d467d8d2697c1233678a1": {
          "model_module": "@jupyter-widgets/controls",
          "model_name": "HTMLModel",
          "model_module_version": "1.5.0",
          "state": {
            "_view_name": "HTMLView",
            "style": "IPY_MODEL_6021530fafb849e6ae982d7a35fba584",
            "_dom_classes": [],
            "description": "",
            "_model_name": "HTMLModel",
            "placeholder": "​",
            "_view_module": "@jupyter-widgets/controls",
            "_model_module_version": "1.5.0",
            "value": "Downloading: 100%",
            "_view_count": null,
            "_view_module_version": "1.5.0",
            "description_tooltip": null,
            "_model_module": "@jupyter-widgets/controls",
            "layout": "IPY_MODEL_263f9883a25b44e48767f8e50ffd34aa"
          }
        },
        "6738657abfd741a89330ed0d490e20f2": {
          "model_module": "@jupyter-widgets/controls",
          "model_name": "FloatProgressModel",
          "model_module_version": "1.5.0",
          "state": {
            "_view_name": "ProgressView",
            "style": "IPY_MODEL_8db8b90631e8497eb4b673ce0ed44897",
            "_dom_classes": [],
            "description": "",
            "_model_name": "FloatProgressModel",
            "bar_style": "success",
            "max": 337,
            "_view_module": "@jupyter-widgets/controls",
            "_model_module_version": "1.5.0",
            "value": 337,
            "_view_count": null,
            "_view_module_version": "1.5.0",
            "orientation": "horizontal",
            "min": 0,
            "description_tooltip": null,
            "_model_module": "@jupyter-widgets/controls",
            "layout": "IPY_MODEL_904d7a2f0ad547fbb3f3c5dc26d8ca9c"
          }
        },
        "1cd23fe2fba941708260ea2da3435d9e": {
          "model_module": "@jupyter-widgets/controls",
          "model_name": "HTMLModel",
          "model_module_version": "1.5.0",
          "state": {
            "_view_name": "HTMLView",
            "style": "IPY_MODEL_134b97b27f2c489182f5893c435fbb1e",
            "_dom_classes": [],
            "description": "",
            "_model_name": "HTMLModel",
            "placeholder": "​",
            "_view_module": "@jupyter-widgets/controls",
            "_model_module_version": "1.5.0",
            "value": " 337/337 [00:00&lt;00:00, 13.1kB/s]",
            "_view_count": null,
            "_view_module_version": "1.5.0",
            "description_tooltip": null,
            "_model_module": "@jupyter-widgets/controls",
            "layout": "IPY_MODEL_feff18336b3940fcb0deaefadd3c9922"
          }
        },
        "6021530fafb849e6ae982d7a35fba584": {
          "model_module": "@jupyter-widgets/controls",
          "model_name": "DescriptionStyleModel",
          "model_module_version": "1.5.0",
          "state": {
            "_view_name": "StyleView",
            "_model_name": "DescriptionStyleModel",
            "description_width": "",
            "_view_module": "@jupyter-widgets/base",
            "_model_module_version": "1.5.0",
            "_view_count": null,
            "_view_module_version": "1.2.0",
            "_model_module": "@jupyter-widgets/controls"
          }
        },
        "263f9883a25b44e48767f8e50ffd34aa": {
          "model_module": "@jupyter-widgets/base",
          "model_name": "LayoutModel",
          "model_module_version": "1.2.0",
          "state": {
            "_view_name": "LayoutView",
            "grid_template_rows": null,
            "right": null,
            "justify_content": null,
            "_view_module": "@jupyter-widgets/base",
            "overflow": null,
            "_model_module_version": "1.2.0",
            "_view_count": null,
            "flex_flow": null,
            "width": null,
            "min_width": null,
            "border": null,
            "align_items": null,
            "bottom": null,
            "_model_module": "@jupyter-widgets/base",
            "top": null,
            "grid_column": null,
            "overflow_y": null,
            "overflow_x": null,
            "grid_auto_flow": null,
            "grid_area": null,
            "grid_template_columns": null,
            "flex": null,
            "_model_name": "LayoutModel",
            "justify_items": null,
            "grid_row": null,
            "max_height": null,
            "align_content": null,
            "visibility": null,
            "align_self": null,
            "height": null,
            "min_height": null,
            "padding": null,
            "grid_auto_rows": null,
            "grid_gap": null,
            "max_width": null,
            "order": null,
            "_view_module_version": "1.2.0",
            "grid_template_areas": null,
            "object_position": null,
            "object_fit": null,
            "grid_auto_columns": null,
            "margin": null,
            "display": null,
            "left": null
          }
        },
        "8db8b90631e8497eb4b673ce0ed44897": {
          "model_module": "@jupyter-widgets/controls",
          "model_name": "ProgressStyleModel",
          "model_module_version": "1.5.0",
          "state": {
            "_view_name": "StyleView",
            "_model_name": "ProgressStyleModel",
            "description_width": "",
            "_view_module": "@jupyter-widgets/base",
            "_model_module_version": "1.5.0",
            "_view_count": null,
            "_view_module_version": "1.2.0",
            "bar_color": null,
            "_model_module": "@jupyter-widgets/controls"
          }
        },
        "904d7a2f0ad547fbb3f3c5dc26d8ca9c": {
          "model_module": "@jupyter-widgets/base",
          "model_name": "LayoutModel",
          "model_module_version": "1.2.0",
          "state": {
            "_view_name": "LayoutView",
            "grid_template_rows": null,
            "right": null,
            "justify_content": null,
            "_view_module": "@jupyter-widgets/base",
            "overflow": null,
            "_model_module_version": "1.2.0",
            "_view_count": null,
            "flex_flow": null,
            "width": null,
            "min_width": null,
            "border": null,
            "align_items": null,
            "bottom": null,
            "_model_module": "@jupyter-widgets/base",
            "top": null,
            "grid_column": null,
            "overflow_y": null,
            "overflow_x": null,
            "grid_auto_flow": null,
            "grid_area": null,
            "grid_template_columns": null,
            "flex": null,
            "_model_name": "LayoutModel",
            "justify_items": null,
            "grid_row": null,
            "max_height": null,
            "align_content": null,
            "visibility": null,
            "align_self": null,
            "height": null,
            "min_height": null,
            "padding": null,
            "grid_auto_rows": null,
            "grid_gap": null,
            "max_width": null,
            "order": null,
            "_view_module_version": "1.2.0",
            "grid_template_areas": null,
            "object_position": null,
            "object_fit": null,
            "grid_auto_columns": null,
            "margin": null,
            "display": null,
            "left": null
          }
        },
        "134b97b27f2c489182f5893c435fbb1e": {
          "model_module": "@jupyter-widgets/controls",
          "model_name": "DescriptionStyleModel",
          "model_module_version": "1.5.0",
          "state": {
            "_view_name": "StyleView",
            "_model_name": "DescriptionStyleModel",
            "description_width": "",
            "_view_module": "@jupyter-widgets/base",
            "_model_module_version": "1.5.0",
            "_view_count": null,
            "_view_module_version": "1.2.0",
            "_model_module": "@jupyter-widgets/controls"
          }
        },
        "feff18336b3940fcb0deaefadd3c9922": {
          "model_module": "@jupyter-widgets/base",
          "model_name": "LayoutModel",
          "model_module_version": "1.2.0",
          "state": {
            "_view_name": "LayoutView",
            "grid_template_rows": null,
            "right": null,
            "justify_content": null,
            "_view_module": "@jupyter-widgets/base",
            "overflow": null,
            "_model_module_version": "1.2.0",
            "_view_count": null,
            "flex_flow": null,
            "width": null,
            "min_width": null,
            "border": null,
            "align_items": null,
            "bottom": null,
            "_model_module": "@jupyter-widgets/base",
            "top": null,
            "grid_column": null,
            "overflow_y": null,
            "overflow_x": null,
            "grid_auto_flow": null,
            "grid_area": null,
            "grid_template_columns": null,
            "flex": null,
            "_model_name": "LayoutModel",
            "justify_items": null,
            "grid_row": null,
            "max_height": null,
            "align_content": null,
            "visibility": null,
            "align_self": null,
            "height": null,
            "min_height": null,
            "padding": null,
            "grid_auto_rows": null,
            "grid_gap": null,
            "max_width": null,
            "order": null,
            "_view_module_version": "1.2.0",
            "grid_template_areas": null,
            "object_position": null,
            "object_fit": null,
            "grid_auto_columns": null,
            "margin": null,
            "display": null,
            "left": null
          }
        },
        "e2fb717edbe643fe829daf54512885f2": {
          "model_module": "@jupyter-widgets/controls",
          "model_name": "HBoxModel",
          "model_module_version": "1.5.0",
          "state": {
            "_view_name": "HBoxView",
            "_dom_classes": [],
            "_model_name": "HBoxModel",
            "_view_module": "@jupyter-widgets/controls",
            "_model_module_version": "1.5.0",
            "_view_count": null,
            "_view_module_version": "1.5.0",
            "box_style": "",
            "layout": "IPY_MODEL_6aa7ca5f918c46289f88bdb6aca3bf62",
            "_model_module": "@jupyter-widgets/controls",
            "children": [
              "IPY_MODEL_ac978d0e7a5e43008f2fb9b86ef80cb9",
              "IPY_MODEL_8d6f5dd243dd46b984d641be6fd159a7",
              "IPY_MODEL_56628219b6eb4ab7989f62193112ab55"
            ]
          }
        },
        "6aa7ca5f918c46289f88bdb6aca3bf62": {
          "model_module": "@jupyter-widgets/base",
          "model_name": "LayoutModel",
          "model_module_version": "1.2.0",
          "state": {
            "_view_name": "LayoutView",
            "grid_template_rows": null,
            "right": null,
            "justify_content": null,
            "_view_module": "@jupyter-widgets/base",
            "overflow": null,
            "_model_module_version": "1.2.0",
            "_view_count": null,
            "flex_flow": null,
            "width": null,
            "min_width": null,
            "border": null,
            "align_items": null,
            "bottom": null,
            "_model_module": "@jupyter-widgets/base",
            "top": null,
            "grid_column": null,
            "overflow_y": null,
            "overflow_x": null,
            "grid_auto_flow": null,
            "grid_area": null,
            "grid_template_columns": null,
            "flex": null,
            "_model_name": "LayoutModel",
            "justify_items": null,
            "grid_row": null,
            "max_height": null,
            "align_content": null,
            "visibility": null,
            "align_self": null,
            "height": null,
            "min_height": null,
            "padding": null,
            "grid_auto_rows": null,
            "grid_gap": null,
            "max_width": null,
            "order": null,
            "_view_module_version": "1.2.0",
            "grid_template_areas": null,
            "object_position": null,
            "object_fit": null,
            "grid_auto_columns": null,
            "margin": null,
            "display": null,
            "left": null
          }
        },
        "ac978d0e7a5e43008f2fb9b86ef80cb9": {
          "model_module": "@jupyter-widgets/controls",
          "model_name": "HTMLModel",
          "model_module_version": "1.5.0",
          "state": {
            "_view_name": "HTMLView",
            "style": "IPY_MODEL_f6c45233c0c2418390460223012eb9be",
            "_dom_classes": [],
            "description": "",
            "_model_name": "HTMLModel",
            "placeholder": "​",
            "_view_module": "@jupyter-widgets/controls",
            "_model_module_version": "1.5.0",
            "value": "Downloading: 100%",
            "_view_count": null,
            "_view_module_version": "1.5.0",
            "description_tooltip": null,
            "_model_module": "@jupyter-widgets/controls",
            "layout": "IPY_MODEL_8229acf70d504773ba11a839686f1bb7"
          }
        },
        "8d6f5dd243dd46b984d641be6fd159a7": {
          "model_module": "@jupyter-widgets/controls",
          "model_name": "FloatProgressModel",
          "model_module_version": "1.5.0",
          "state": {
            "_view_name": "ProgressView",
            "style": "IPY_MODEL_431304c9c9d340e7bae92b662cb71b53",
            "_dom_classes": [],
            "description": "",
            "_model_name": "FloatProgressModel",
            "bar_style": "success",
            "max": 226150,
            "_view_module": "@jupyter-widgets/controls",
            "_model_module_version": "1.5.0",
            "value": 226150,
            "_view_count": null,
            "_view_module_version": "1.5.0",
            "orientation": "horizontal",
            "min": 0,
            "description_tooltip": null,
            "_model_module": "@jupyter-widgets/controls",
            "layout": "IPY_MODEL_3a961c69bb4a4781b84de7283c1268be"
          }
        },
        "56628219b6eb4ab7989f62193112ab55": {
          "model_module": "@jupyter-widgets/controls",
          "model_name": "HTMLModel",
          "model_module_version": "1.5.0",
          "state": {
            "_view_name": "HTMLView",
            "style": "IPY_MODEL_3ca87163b09b4a389ae9e5b520d9c3bc",
            "_dom_classes": [],
            "description": "",
            "_model_name": "HTMLModel",
            "placeholder": "​",
            "_view_module": "@jupyter-widgets/controls",
            "_model_module_version": "1.5.0",
            "value": " 226k/226k [00:00&lt;00:00, 836kB/s]",
            "_view_count": null,
            "_view_module_version": "1.5.0",
            "description_tooltip": null,
            "_model_module": "@jupyter-widgets/controls",
            "layout": "IPY_MODEL_2b73778b02d74ff8bca8fe8ba123de7e"
          }
        },
        "f6c45233c0c2418390460223012eb9be": {
          "model_module": "@jupyter-widgets/controls",
          "model_name": "DescriptionStyleModel",
          "model_module_version": "1.5.0",
          "state": {
            "_view_name": "StyleView",
            "_model_name": "DescriptionStyleModel",
            "description_width": "",
            "_view_module": "@jupyter-widgets/base",
            "_model_module_version": "1.5.0",
            "_view_count": null,
            "_view_module_version": "1.2.0",
            "_model_module": "@jupyter-widgets/controls"
          }
        },
        "8229acf70d504773ba11a839686f1bb7": {
          "model_module": "@jupyter-widgets/base",
          "model_name": "LayoutModel",
          "model_module_version": "1.2.0",
          "state": {
            "_view_name": "LayoutView",
            "grid_template_rows": null,
            "right": null,
            "justify_content": null,
            "_view_module": "@jupyter-widgets/base",
            "overflow": null,
            "_model_module_version": "1.2.0",
            "_view_count": null,
            "flex_flow": null,
            "width": null,
            "min_width": null,
            "border": null,
            "align_items": null,
            "bottom": null,
            "_model_module": "@jupyter-widgets/base",
            "top": null,
            "grid_column": null,
            "overflow_y": null,
            "overflow_x": null,
            "grid_auto_flow": null,
            "grid_area": null,
            "grid_template_columns": null,
            "flex": null,
            "_model_name": "LayoutModel",
            "justify_items": null,
            "grid_row": null,
            "max_height": null,
            "align_content": null,
            "visibility": null,
            "align_self": null,
            "height": null,
            "min_height": null,
            "padding": null,
            "grid_auto_rows": null,
            "grid_gap": null,
            "max_width": null,
            "order": null,
            "_view_module_version": "1.2.0",
            "grid_template_areas": null,
            "object_position": null,
            "object_fit": null,
            "grid_auto_columns": null,
            "margin": null,
            "display": null,
            "left": null
          }
        },
        "431304c9c9d340e7bae92b662cb71b53": {
          "model_module": "@jupyter-widgets/controls",
          "model_name": "ProgressStyleModel",
          "model_module_version": "1.5.0",
          "state": {
            "_view_name": "StyleView",
            "_model_name": "ProgressStyleModel",
            "description_width": "",
            "_view_module": "@jupyter-widgets/base",
            "_model_module_version": "1.5.0",
            "_view_count": null,
            "_view_module_version": "1.2.0",
            "bar_color": null,
            "_model_module": "@jupyter-widgets/controls"
          }
        },
        "3a961c69bb4a4781b84de7283c1268be": {
          "model_module": "@jupyter-widgets/base",
          "model_name": "LayoutModel",
          "model_module_version": "1.2.0",
          "state": {
            "_view_name": "LayoutView",
            "grid_template_rows": null,
            "right": null,
            "justify_content": null,
            "_view_module": "@jupyter-widgets/base",
            "overflow": null,
            "_model_module_version": "1.2.0",
            "_view_count": null,
            "flex_flow": null,
            "width": null,
            "min_width": null,
            "border": null,
            "align_items": null,
            "bottom": null,
            "_model_module": "@jupyter-widgets/base",
            "top": null,
            "grid_column": null,
            "overflow_y": null,
            "overflow_x": null,
            "grid_auto_flow": null,
            "grid_area": null,
            "grid_template_columns": null,
            "flex": null,
            "_model_name": "LayoutModel",
            "justify_items": null,
            "grid_row": null,
            "max_height": null,
            "align_content": null,
            "visibility": null,
            "align_self": null,
            "height": null,
            "min_height": null,
            "padding": null,
            "grid_auto_rows": null,
            "grid_gap": null,
            "max_width": null,
            "order": null,
            "_view_module_version": "1.2.0",
            "grid_template_areas": null,
            "object_position": null,
            "object_fit": null,
            "grid_auto_columns": null,
            "margin": null,
            "display": null,
            "left": null
          }
        },
        "3ca87163b09b4a389ae9e5b520d9c3bc": {
          "model_module": "@jupyter-widgets/controls",
          "model_name": "DescriptionStyleModel",
          "model_module_version": "1.5.0",
          "state": {
            "_view_name": "StyleView",
            "_model_name": "DescriptionStyleModel",
            "description_width": "",
            "_view_module": "@jupyter-widgets/base",
            "_model_module_version": "1.5.0",
            "_view_count": null,
            "_view_module_version": "1.2.0",
            "_model_module": "@jupyter-widgets/controls"
          }
        },
        "2b73778b02d74ff8bca8fe8ba123de7e": {
          "model_module": "@jupyter-widgets/base",
          "model_name": "LayoutModel",
          "model_module_version": "1.2.0",
          "state": {
            "_view_name": "LayoutView",
            "grid_template_rows": null,
            "right": null,
            "justify_content": null,
            "_view_module": "@jupyter-widgets/base",
            "overflow": null,
            "_model_module_version": "1.2.0",
            "_view_count": null,
            "flex_flow": null,
            "width": null,
            "min_width": null,
            "border": null,
            "align_items": null,
            "bottom": null,
            "_model_module": "@jupyter-widgets/base",
            "top": null,
            "grid_column": null,
            "overflow_y": null,
            "overflow_x": null,
            "grid_auto_flow": null,
            "grid_area": null,
            "grid_template_columns": null,
            "flex": null,
            "_model_name": "LayoutModel",
            "justify_items": null,
            "grid_row": null,
            "max_height": null,
            "align_content": null,
            "visibility": null,
            "align_self": null,
            "height": null,
            "min_height": null,
            "padding": null,
            "grid_auto_rows": null,
            "grid_gap": null,
            "max_width": null,
            "order": null,
            "_view_module_version": "1.2.0",
            "grid_template_areas": null,
            "object_position": null,
            "object_fit": null,
            "grid_auto_columns": null,
            "margin": null,
            "display": null,
            "left": null
          }
        },
        "15f642cbb5904d04a63591b930633837": {
          "model_module": "@jupyter-widgets/controls",
          "model_name": "HBoxModel",
          "model_module_version": "1.5.0",
          "state": {
            "_view_name": "HBoxView",
            "_dom_classes": [],
            "_model_name": "HBoxModel",
            "_view_module": "@jupyter-widgets/controls",
            "_model_module_version": "1.5.0",
            "_view_count": null,
            "_view_module_version": "1.5.0",
            "box_style": "",
            "layout": "IPY_MODEL_74330d75763d47efa78e36b03a344aae",
            "_model_module": "@jupyter-widgets/controls",
            "children": [
              "IPY_MODEL_9d29f7f426164fdba86a7c1416ab31b4",
              "IPY_MODEL_204f52762ce94004818a9f89189173e9",
              "IPY_MODEL_387a3c640ca64cfa9329326fbffe9eba"
            ]
          }
        },
        "74330d75763d47efa78e36b03a344aae": {
          "model_module": "@jupyter-widgets/base",
          "model_name": "LayoutModel",
          "model_module_version": "1.2.0",
          "state": {
            "_view_name": "LayoutView",
            "grid_template_rows": null,
            "right": null,
            "justify_content": null,
            "_view_module": "@jupyter-widgets/base",
            "overflow": null,
            "_model_module_version": "1.2.0",
            "_view_count": null,
            "flex_flow": "row wrap",
            "width": "100%",
            "min_width": null,
            "border": null,
            "align_items": null,
            "bottom": null,
            "_model_module": "@jupyter-widgets/base",
            "top": null,
            "grid_column": null,
            "overflow_y": null,
            "overflow_x": null,
            "grid_auto_flow": null,
            "grid_area": null,
            "grid_template_columns": null,
            "flex": null,
            "_model_name": "LayoutModel",
            "justify_items": null,
            "grid_row": null,
            "max_height": null,
            "align_content": null,
            "visibility": null,
            "align_self": null,
            "height": null,
            "min_height": null,
            "padding": null,
            "grid_auto_rows": null,
            "grid_gap": null,
            "max_width": null,
            "order": null,
            "_view_module_version": "1.2.0",
            "grid_template_areas": null,
            "object_position": null,
            "object_fit": null,
            "grid_auto_columns": null,
            "margin": null,
            "display": "inline-flex",
            "left": null
          }
        },
        "9d29f7f426164fdba86a7c1416ab31b4": {
          "model_module": "@jupyter-widgets/controls",
          "model_name": "HTMLModel",
          "model_module_version": "1.5.0",
          "state": {
            "_view_name": "HTMLView",
            "style": "IPY_MODEL_f28cd56ef67548a89845fa58f2b1759d",
            "_dom_classes": [],
            "description": "",
            "_model_name": "HTMLModel",
            "placeholder": "​",
            "_view_module": "@jupyter-widgets/controls",
            "_model_module_version": "1.5.0",
            "value": "Validation sanity check:   0%",
            "_view_count": null,
            "_view_module_version": "1.5.0",
            "description_tooltip": null,
            "_model_module": "@jupyter-widgets/controls",
            "layout": "IPY_MODEL_864681ab99344df2864860a58732016b"
          }
        },
        "204f52762ce94004818a9f89189173e9": {
          "model_module": "@jupyter-widgets/controls",
          "model_name": "FloatProgressModel",
          "model_module_version": "1.5.0",
          "state": {
            "_view_name": "ProgressView",
            "style": "IPY_MODEL_7fa6a78667584d11aed0c5544521e4e9",
            "_dom_classes": [],
            "description": "",
            "_model_name": "FloatProgressModel",
            "bar_style": "danger",
            "max": 2,
            "_view_module": "@jupyter-widgets/controls",
            "_model_module_version": "1.5.0",
            "value": 0,
            "_view_count": null,
            "_view_module_version": "1.5.0",
            "orientation": "horizontal",
            "min": 0,
            "description_tooltip": null,
            "_model_module": "@jupyter-widgets/controls",
            "layout": "IPY_MODEL_dfaf9d79b4ce45e88832b365ccdce189"
          }
        },
        "387a3c640ca64cfa9329326fbffe9eba": {
          "model_module": "@jupyter-widgets/controls",
          "model_name": "HTMLModel",
          "model_module_version": "1.5.0",
          "state": {
            "_view_name": "HTMLView",
            "style": "IPY_MODEL_be779bdef3c44a79a6a1530140508010",
            "_dom_classes": [],
            "description": "",
            "_model_name": "HTMLModel",
            "placeholder": "​",
            "_view_module": "@jupyter-widgets/controls",
            "_model_module_version": "1.5.0",
            "value": " 0/2 [00:00&lt;?, ?it/s]",
            "_view_count": null,
            "_view_module_version": "1.5.0",
            "description_tooltip": null,
            "_model_module": "@jupyter-widgets/controls",
            "layout": "IPY_MODEL_1d88daefa96147109a6bbcfddce52954"
          }
        },
        "f28cd56ef67548a89845fa58f2b1759d": {
          "model_module": "@jupyter-widgets/controls",
          "model_name": "DescriptionStyleModel",
          "model_module_version": "1.5.0",
          "state": {
            "_view_name": "StyleView",
            "_model_name": "DescriptionStyleModel",
            "description_width": "",
            "_view_module": "@jupyter-widgets/base",
            "_model_module_version": "1.5.0",
            "_view_count": null,
            "_view_module_version": "1.2.0",
            "_model_module": "@jupyter-widgets/controls"
          }
        },
        "864681ab99344df2864860a58732016b": {
          "model_module": "@jupyter-widgets/base",
          "model_name": "LayoutModel",
          "model_module_version": "1.2.0",
          "state": {
            "_view_name": "LayoutView",
            "grid_template_rows": null,
            "right": null,
            "justify_content": null,
            "_view_module": "@jupyter-widgets/base",
            "overflow": null,
            "_model_module_version": "1.2.0",
            "_view_count": null,
            "flex_flow": null,
            "width": null,
            "min_width": null,
            "border": null,
            "align_items": null,
            "bottom": null,
            "_model_module": "@jupyter-widgets/base",
            "top": null,
            "grid_column": null,
            "overflow_y": null,
            "overflow_x": null,
            "grid_auto_flow": null,
            "grid_area": null,
            "grid_template_columns": null,
            "flex": null,
            "_model_name": "LayoutModel",
            "justify_items": null,
            "grid_row": null,
            "max_height": null,
            "align_content": null,
            "visibility": null,
            "align_self": null,
            "height": null,
            "min_height": null,
            "padding": null,
            "grid_auto_rows": null,
            "grid_gap": null,
            "max_width": null,
            "order": null,
            "_view_module_version": "1.2.0",
            "grid_template_areas": null,
            "object_position": null,
            "object_fit": null,
            "grid_auto_columns": null,
            "margin": null,
            "display": null,
            "left": null
          }
        },
        "7fa6a78667584d11aed0c5544521e4e9": {
          "model_module": "@jupyter-widgets/controls",
          "model_name": "ProgressStyleModel",
          "model_module_version": "1.5.0",
          "state": {
            "_view_name": "StyleView",
            "_model_name": "ProgressStyleModel",
            "description_width": "",
            "_view_module": "@jupyter-widgets/base",
            "_model_module_version": "1.5.0",
            "_view_count": null,
            "_view_module_version": "1.2.0",
            "bar_color": null,
            "_model_module": "@jupyter-widgets/controls"
          }
        },
        "dfaf9d79b4ce45e88832b365ccdce189": {
          "model_module": "@jupyter-widgets/base",
          "model_name": "LayoutModel",
          "model_module_version": "1.2.0",
          "state": {
            "_view_name": "LayoutView",
            "grid_template_rows": null,
            "right": null,
            "justify_content": null,
            "_view_module": "@jupyter-widgets/base",
            "overflow": null,
            "_model_module_version": "1.2.0",
            "_view_count": null,
            "flex_flow": null,
            "width": null,
            "min_width": null,
            "border": null,
            "align_items": null,
            "bottom": null,
            "_model_module": "@jupyter-widgets/base",
            "top": null,
            "grid_column": null,
            "overflow_y": null,
            "overflow_x": null,
            "grid_auto_flow": null,
            "grid_area": null,
            "grid_template_columns": null,
            "flex": "2",
            "_model_name": "LayoutModel",
            "justify_items": null,
            "grid_row": null,
            "max_height": null,
            "align_content": null,
            "visibility": null,
            "align_self": null,
            "height": null,
            "min_height": null,
            "padding": null,
            "grid_auto_rows": null,
            "grid_gap": null,
            "max_width": null,
            "order": null,
            "_view_module_version": "1.2.0",
            "grid_template_areas": null,
            "object_position": null,
            "object_fit": null,
            "grid_auto_columns": null,
            "margin": null,
            "display": null,
            "left": null
          }
        },
        "be779bdef3c44a79a6a1530140508010": {
          "model_module": "@jupyter-widgets/controls",
          "model_name": "DescriptionStyleModel",
          "model_module_version": "1.5.0",
          "state": {
            "_view_name": "StyleView",
            "_model_name": "DescriptionStyleModel",
            "description_width": "",
            "_view_module": "@jupyter-widgets/base",
            "_model_module_version": "1.5.0",
            "_view_count": null,
            "_view_module_version": "1.2.0",
            "_model_module": "@jupyter-widgets/controls"
          }
        },
        "1d88daefa96147109a6bbcfddce52954": {
          "model_module": "@jupyter-widgets/base",
          "model_name": "LayoutModel",
          "model_module_version": "1.2.0",
          "state": {
            "_view_name": "LayoutView",
            "grid_template_rows": null,
            "right": null,
            "justify_content": null,
            "_view_module": "@jupyter-widgets/base",
            "overflow": null,
            "_model_module_version": "1.2.0",
            "_view_count": null,
            "flex_flow": null,
            "width": null,
            "min_width": null,
            "border": null,
            "align_items": null,
            "bottom": null,
            "_model_module": "@jupyter-widgets/base",
            "top": null,
            "grid_column": null,
            "overflow_y": null,
            "overflow_x": null,
            "grid_auto_flow": null,
            "grid_area": null,
            "grid_template_columns": null,
            "flex": null,
            "_model_name": "LayoutModel",
            "justify_items": null,
            "grid_row": null,
            "max_height": null,
            "align_content": null,
            "visibility": null,
            "align_self": null,
            "height": null,
            "min_height": null,
            "padding": null,
            "grid_auto_rows": null,
            "grid_gap": null,
            "max_width": null,
            "order": null,
            "_view_module_version": "1.2.0",
            "grid_template_areas": null,
            "object_position": null,
            "object_fit": null,
            "grid_auto_columns": null,
            "margin": null,
            "display": null,
            "left": null
          }
        },
        "b5c7c7ad22a846bb8c7c120bc3be2ba0": {
          "model_module": "@jupyter-widgets/controls",
          "model_name": "HBoxModel",
          "model_module_version": "1.5.0",
          "state": {
            "_view_name": "HBoxView",
            "_dom_classes": [],
            "_model_name": "HBoxModel",
            "_view_module": "@jupyter-widgets/controls",
            "_model_module_version": "1.5.0",
            "_view_count": null,
            "_view_module_version": "1.5.0",
            "box_style": "",
            "layout": "IPY_MODEL_97ec72eda8cd464cbee7764fde45959d",
            "_model_module": "@jupyter-widgets/controls",
            "children": [
              "IPY_MODEL_af7c0cea354d4d47bffe98d947420d70",
              "IPY_MODEL_4061709c52d54f83a8c5770d208f6d87",
              "IPY_MODEL_c0f7c60cf303498bafb03b78613e3b09"
            ]
          }
        },
        "97ec72eda8cd464cbee7764fde45959d": {
          "model_module": "@jupyter-widgets/base",
          "model_name": "LayoutModel",
          "model_module_version": "1.2.0",
          "state": {
            "_view_name": "LayoutView",
            "grid_template_rows": null,
            "right": null,
            "justify_content": null,
            "_view_module": "@jupyter-widgets/base",
            "overflow": null,
            "_model_module_version": "1.2.0",
            "_view_count": null,
            "flex_flow": "row wrap",
            "width": "100%",
            "min_width": null,
            "border": null,
            "align_items": null,
            "bottom": null,
            "_model_module": "@jupyter-widgets/base",
            "top": null,
            "grid_column": null,
            "overflow_y": null,
            "overflow_x": null,
            "grid_auto_flow": null,
            "grid_area": null,
            "grid_template_columns": null,
            "flex": null,
            "_model_name": "LayoutModel",
            "justify_items": null,
            "grid_row": null,
            "max_height": null,
            "align_content": null,
            "visibility": null,
            "align_self": null,
            "height": null,
            "min_height": null,
            "padding": null,
            "grid_auto_rows": null,
            "grid_gap": null,
            "max_width": null,
            "order": null,
            "_view_module_version": "1.2.0",
            "grid_template_areas": null,
            "object_position": null,
            "object_fit": null,
            "grid_auto_columns": null,
            "margin": null,
            "display": "inline-flex",
            "left": null
          }
        },
        "af7c0cea354d4d47bffe98d947420d70": {
          "model_module": "@jupyter-widgets/controls",
          "model_name": "HTMLModel",
          "model_module_version": "1.5.0",
          "state": {
            "_view_name": "HTMLView",
            "style": "IPY_MODEL_dd70ca0cc355480d9bfd87dedcba5918",
            "_dom_classes": [],
            "description": "",
            "_model_name": "HTMLModel",
            "placeholder": "​",
            "_view_module": "@jupyter-widgets/controls",
            "_model_module_version": "1.5.0",
            "value": "Epoch 2:  37%",
            "_view_count": null,
            "_view_module_version": "1.5.0",
            "description_tooltip": null,
            "_model_module": "@jupyter-widgets/controls",
            "layout": "IPY_MODEL_439d85f2bed74f49a6f425ff6f66496c"
          }
        },
        "4061709c52d54f83a8c5770d208f6d87": {
          "model_module": "@jupyter-widgets/controls",
          "model_name": "FloatProgressModel",
          "model_module_version": "1.5.0",
          "state": {
            "_view_name": "ProgressView",
            "style": "IPY_MODEL_f1c1247daa0e45f9aee159e6921e709c",
            "_dom_classes": [],
            "description": "",
            "_model_name": "FloatProgressModel",
            "bar_style": "",
            "max": 4271,
            "_view_module": "@jupyter-widgets/controls",
            "_model_module_version": "1.5.0",
            "value": 1560,
            "_view_count": null,
            "_view_module_version": "1.5.0",
            "orientation": "horizontal",
            "min": 0,
            "description_tooltip": null,
            "_model_module": "@jupyter-widgets/controls",
            "layout": "IPY_MODEL_bb4263f934c84dbbb4ef5c41655c4f7d"
          }
        },
        "c0f7c60cf303498bafb03b78613e3b09": {
          "model_module": "@jupyter-widgets/controls",
          "model_name": "HTMLModel",
          "model_module_version": "1.5.0",
          "state": {
            "_view_name": "HTMLView",
            "style": "IPY_MODEL_dc1a6d0bbd854a4085c3079b1629f5d9",
            "_dom_classes": [],
            "description": "",
            "_model_name": "HTMLModel",
            "placeholder": "​",
            "_view_module": "@jupyter-widgets/controls",
            "_model_module_version": "1.5.0",
            "value": " 1560/4271 [12:05&lt;21:00,  2.15it/s, loss=0.149, v_num=0, train_loss=0.127, val_loss=0.140]",
            "_view_count": null,
            "_view_module_version": "1.5.0",
            "description_tooltip": null,
            "_model_module": "@jupyter-widgets/controls",
            "layout": "IPY_MODEL_ff9af6a1e9c44c86bb11350d1674c9bc"
          }
        },
        "dd70ca0cc355480d9bfd87dedcba5918": {
          "model_module": "@jupyter-widgets/controls",
          "model_name": "DescriptionStyleModel",
          "model_module_version": "1.5.0",
          "state": {
            "_view_name": "StyleView",
            "_model_name": "DescriptionStyleModel",
            "description_width": "",
            "_view_module": "@jupyter-widgets/base",
            "_model_module_version": "1.5.0",
            "_view_count": null,
            "_view_module_version": "1.2.0",
            "_model_module": "@jupyter-widgets/controls"
          }
        },
        "439d85f2bed74f49a6f425ff6f66496c": {
          "model_module": "@jupyter-widgets/base",
          "model_name": "LayoutModel",
          "model_module_version": "1.2.0",
          "state": {
            "_view_name": "LayoutView",
            "grid_template_rows": null,
            "right": null,
            "justify_content": null,
            "_view_module": "@jupyter-widgets/base",
            "overflow": null,
            "_model_module_version": "1.2.0",
            "_view_count": null,
            "flex_flow": null,
            "width": null,
            "min_width": null,
            "border": null,
            "align_items": null,
            "bottom": null,
            "_model_module": "@jupyter-widgets/base",
            "top": null,
            "grid_column": null,
            "overflow_y": null,
            "overflow_x": null,
            "grid_auto_flow": null,
            "grid_area": null,
            "grid_template_columns": null,
            "flex": null,
            "_model_name": "LayoutModel",
            "justify_items": null,
            "grid_row": null,
            "max_height": null,
            "align_content": null,
            "visibility": null,
            "align_self": null,
            "height": null,
            "min_height": null,
            "padding": null,
            "grid_auto_rows": null,
            "grid_gap": null,
            "max_width": null,
            "order": null,
            "_view_module_version": "1.2.0",
            "grid_template_areas": null,
            "object_position": null,
            "object_fit": null,
            "grid_auto_columns": null,
            "margin": null,
            "display": null,
            "left": null
          }
        },
        "f1c1247daa0e45f9aee159e6921e709c": {
          "model_module": "@jupyter-widgets/controls",
          "model_name": "ProgressStyleModel",
          "model_module_version": "1.5.0",
          "state": {
            "_view_name": "StyleView",
            "_model_name": "ProgressStyleModel",
            "description_width": "",
            "_view_module": "@jupyter-widgets/base",
            "_model_module_version": "1.5.0",
            "_view_count": null,
            "_view_module_version": "1.2.0",
            "bar_color": null,
            "_model_module": "@jupyter-widgets/controls"
          }
        },
        "bb4263f934c84dbbb4ef5c41655c4f7d": {
          "model_module": "@jupyter-widgets/base",
          "model_name": "LayoutModel",
          "model_module_version": "1.2.0",
          "state": {
            "_view_name": "LayoutView",
            "grid_template_rows": null,
            "right": null,
            "justify_content": null,
            "_view_module": "@jupyter-widgets/base",
            "overflow": null,
            "_model_module_version": "1.2.0",
            "_view_count": null,
            "flex_flow": null,
            "width": null,
            "min_width": null,
            "border": null,
            "align_items": null,
            "bottom": null,
            "_model_module": "@jupyter-widgets/base",
            "top": null,
            "grid_column": null,
            "overflow_y": null,
            "overflow_x": null,
            "grid_auto_flow": null,
            "grid_area": null,
            "grid_template_columns": null,
            "flex": "2",
            "_model_name": "LayoutModel",
            "justify_items": null,
            "grid_row": null,
            "max_height": null,
            "align_content": null,
            "visibility": null,
            "align_self": null,
            "height": null,
            "min_height": null,
            "padding": null,
            "grid_auto_rows": null,
            "grid_gap": null,
            "max_width": null,
            "order": null,
            "_view_module_version": "1.2.0",
            "grid_template_areas": null,
            "object_position": null,
            "object_fit": null,
            "grid_auto_columns": null,
            "margin": null,
            "display": null,
            "left": null
          }
        },
        "dc1a6d0bbd854a4085c3079b1629f5d9": {
          "model_module": "@jupyter-widgets/controls",
          "model_name": "DescriptionStyleModel",
          "model_module_version": "1.5.0",
          "state": {
            "_view_name": "StyleView",
            "_model_name": "DescriptionStyleModel",
            "description_width": "",
            "_view_module": "@jupyter-widgets/base",
            "_model_module_version": "1.5.0",
            "_view_count": null,
            "_view_module_version": "1.2.0",
            "_model_module": "@jupyter-widgets/controls"
          }
        },
        "ff9af6a1e9c44c86bb11350d1674c9bc": {
          "model_module": "@jupyter-widgets/base",
          "model_name": "LayoutModel",
          "model_module_version": "1.2.0",
          "state": {
            "_view_name": "LayoutView",
            "grid_template_rows": null,
            "right": null,
            "justify_content": null,
            "_view_module": "@jupyter-widgets/base",
            "overflow": null,
            "_model_module_version": "1.2.0",
            "_view_count": null,
            "flex_flow": null,
            "width": null,
            "min_width": null,
            "border": null,
            "align_items": null,
            "bottom": null,
            "_model_module": "@jupyter-widgets/base",
            "top": null,
            "grid_column": null,
            "overflow_y": null,
            "overflow_x": null,
            "grid_auto_flow": null,
            "grid_area": null,
            "grid_template_columns": null,
            "flex": null,
            "_model_name": "LayoutModel",
            "justify_items": null,
            "grid_row": null,
            "max_height": null,
            "align_content": null,
            "visibility": null,
            "align_self": null,
            "height": null,
            "min_height": null,
            "padding": null,
            "grid_auto_rows": null,
            "grid_gap": null,
            "max_width": null,
            "order": null,
            "_view_module_version": "1.2.0",
            "grid_template_areas": null,
            "object_position": null,
            "object_fit": null,
            "grid_auto_columns": null,
            "margin": null,
            "display": null,
            "left": null
          }
        },
        "f2f5e810e09b45fb90ff944f758a6f1d": {
          "model_module": "@jupyter-widgets/controls",
          "model_name": "HBoxModel",
          "model_module_version": "1.5.0",
          "state": {
            "_view_name": "HBoxView",
            "_dom_classes": [],
            "_model_name": "HBoxModel",
            "_view_module": "@jupyter-widgets/controls",
            "_model_module_version": "1.5.0",
            "_view_count": null,
            "_view_module_version": "1.5.0",
            "box_style": "",
            "layout": "IPY_MODEL_8c5d20bacc8b43099f080d9d76f4f119",
            "_model_module": "@jupyter-widgets/controls",
            "children": [
              "IPY_MODEL_b4b448c2e2c543d9a510beca714dc69b",
              "IPY_MODEL_5637c8a1bab54ad6849adcea3e1275f4",
              "IPY_MODEL_4fc30f40faa047a4bfa17b09ad8728bf"
            ]
          }
        },
        "8c5d20bacc8b43099f080d9d76f4f119": {
          "model_module": "@jupyter-widgets/base",
          "model_name": "LayoutModel",
          "model_module_version": "1.2.0",
          "state": {
            "_view_name": "LayoutView",
            "grid_template_rows": null,
            "right": null,
            "justify_content": null,
            "_view_module": "@jupyter-widgets/base",
            "overflow": null,
            "_model_module_version": "1.2.0",
            "_view_count": null,
            "flex_flow": "row wrap",
            "width": "100%",
            "min_width": null,
            "border": null,
            "align_items": null,
            "bottom": null,
            "_model_module": "@jupyter-widgets/base",
            "top": null,
            "grid_column": null,
            "overflow_y": null,
            "overflow_x": null,
            "grid_auto_flow": null,
            "grid_area": null,
            "grid_template_columns": null,
            "flex": null,
            "_model_name": "LayoutModel",
            "justify_items": null,
            "grid_row": null,
            "max_height": null,
            "align_content": null,
            "visibility": null,
            "align_self": null,
            "height": null,
            "min_height": null,
            "padding": null,
            "grid_auto_rows": null,
            "grid_gap": null,
            "max_width": null,
            "order": null,
            "_view_module_version": "1.2.0",
            "grid_template_areas": null,
            "object_position": null,
            "object_fit": null,
            "grid_auto_columns": null,
            "margin": null,
            "display": "inline-flex",
            "left": null
          }
        },
        "b4b448c2e2c543d9a510beca714dc69b": {
          "model_module": "@jupyter-widgets/controls",
          "model_name": "HTMLModel",
          "model_module_version": "1.5.0",
          "state": {
            "_view_name": "HTMLView",
            "style": "IPY_MODEL_a496bd7435294d8e8faf2fa093916468",
            "_dom_classes": [],
            "description": "",
            "_model_name": "HTMLModel",
            "placeholder": "​",
            "_view_module": "@jupyter-widgets/controls",
            "_model_module_version": "1.5.0",
            "value": "Validating: 100%",
            "_view_count": null,
            "_view_module_version": "1.5.0",
            "description_tooltip": null,
            "_model_module": "@jupyter-widgets/controls",
            "layout": "IPY_MODEL_196d08d2b1f2429ea3d08a2bebce5a20"
          }
        },
        "5637c8a1bab54ad6849adcea3e1275f4": {
          "model_module": "@jupyter-widgets/controls",
          "model_name": "FloatProgressModel",
          "model_module_version": "1.5.0",
          "state": {
            "_view_name": "ProgressView",
            "style": "IPY_MODEL_a0690e77e14e47e5a9f615c3a57f9ccf",
            "_dom_classes": [],
            "description": "",
            "_model_name": "FloatProgressModel",
            "bar_style": "",
            "max": 428,
            "_view_module": "@jupyter-widgets/controls",
            "_model_module_version": "1.5.0",
            "value": 428,
            "_view_count": null,
            "_view_module_version": "1.5.0",
            "orientation": "horizontal",
            "min": 0,
            "description_tooltip": null,
            "_model_module": "@jupyter-widgets/controls",
            "layout": "IPY_MODEL_c3d753e8ad494a34bb010759e992cfca"
          }
        },
        "4fc30f40faa047a4bfa17b09ad8728bf": {
          "model_module": "@jupyter-widgets/controls",
          "model_name": "HTMLModel",
          "model_module_version": "1.5.0",
          "state": {
            "_view_name": "HTMLView",
            "style": "IPY_MODEL_830f011300c14a2982d3c346c46fcdfd",
            "_dom_classes": [],
            "description": "",
            "_model_name": "HTMLModel",
            "placeholder": "​",
            "_view_module": "@jupyter-widgets/controls",
            "_model_module_version": "1.5.0",
            "value": " 428/428 [01:10&lt;00:00,  6.07it/s]",
            "_view_count": null,
            "_view_module_version": "1.5.0",
            "description_tooltip": null,
            "_model_module": "@jupyter-widgets/controls",
            "layout": "IPY_MODEL_91b7d2288c3b45018ed19cd4bd5101ad"
          }
        },
        "a496bd7435294d8e8faf2fa093916468": {
          "model_module": "@jupyter-widgets/controls",
          "model_name": "DescriptionStyleModel",
          "model_module_version": "1.5.0",
          "state": {
            "_view_name": "StyleView",
            "_model_name": "DescriptionStyleModel",
            "description_width": "",
            "_view_module": "@jupyter-widgets/base",
            "_model_module_version": "1.5.0",
            "_view_count": null,
            "_view_module_version": "1.2.0",
            "_model_module": "@jupyter-widgets/controls"
          }
        },
        "196d08d2b1f2429ea3d08a2bebce5a20": {
          "model_module": "@jupyter-widgets/base",
          "model_name": "LayoutModel",
          "model_module_version": "1.2.0",
          "state": {
            "_view_name": "LayoutView",
            "grid_template_rows": null,
            "right": null,
            "justify_content": null,
            "_view_module": "@jupyter-widgets/base",
            "overflow": null,
            "_model_module_version": "1.2.0",
            "_view_count": null,
            "flex_flow": null,
            "width": null,
            "min_width": null,
            "border": null,
            "align_items": null,
            "bottom": null,
            "_model_module": "@jupyter-widgets/base",
            "top": null,
            "grid_column": null,
            "overflow_y": null,
            "overflow_x": null,
            "grid_auto_flow": null,
            "grid_area": null,
            "grid_template_columns": null,
            "flex": null,
            "_model_name": "LayoutModel",
            "justify_items": null,
            "grid_row": null,
            "max_height": null,
            "align_content": null,
            "visibility": null,
            "align_self": null,
            "height": null,
            "min_height": null,
            "padding": null,
            "grid_auto_rows": null,
            "grid_gap": null,
            "max_width": null,
            "order": null,
            "_view_module_version": "1.2.0",
            "grid_template_areas": null,
            "object_position": null,
            "object_fit": null,
            "grid_auto_columns": null,
            "margin": null,
            "display": null,
            "left": null
          }
        },
        "a0690e77e14e47e5a9f615c3a57f9ccf": {
          "model_module": "@jupyter-widgets/controls",
          "model_name": "ProgressStyleModel",
          "model_module_version": "1.5.0",
          "state": {
            "_view_name": "StyleView",
            "_model_name": "ProgressStyleModel",
            "description_width": "",
            "_view_module": "@jupyter-widgets/base",
            "_model_module_version": "1.5.0",
            "_view_count": null,
            "_view_module_version": "1.2.0",
            "bar_color": null,
            "_model_module": "@jupyter-widgets/controls"
          }
        },
        "c3d753e8ad494a34bb010759e992cfca": {
          "model_module": "@jupyter-widgets/base",
          "model_name": "LayoutModel",
          "model_module_version": "1.2.0",
          "state": {
            "_view_name": "LayoutView",
            "grid_template_rows": null,
            "right": null,
            "justify_content": null,
            "_view_module": "@jupyter-widgets/base",
            "overflow": null,
            "_model_module_version": "1.2.0",
            "_view_count": null,
            "flex_flow": null,
            "width": null,
            "min_width": null,
            "border": null,
            "align_items": null,
            "bottom": null,
            "_model_module": "@jupyter-widgets/base",
            "top": null,
            "grid_column": null,
            "overflow_y": null,
            "overflow_x": null,
            "grid_auto_flow": null,
            "grid_area": null,
            "grid_template_columns": null,
            "flex": "2",
            "_model_name": "LayoutModel",
            "justify_items": null,
            "grid_row": null,
            "max_height": null,
            "align_content": null,
            "visibility": null,
            "align_self": null,
            "height": null,
            "min_height": null,
            "padding": null,
            "grid_auto_rows": null,
            "grid_gap": null,
            "max_width": null,
            "order": null,
            "_view_module_version": "1.2.0",
            "grid_template_areas": null,
            "object_position": null,
            "object_fit": null,
            "grid_auto_columns": null,
            "margin": null,
            "display": null,
            "left": null
          }
        },
        "830f011300c14a2982d3c346c46fcdfd": {
          "model_module": "@jupyter-widgets/controls",
          "model_name": "DescriptionStyleModel",
          "model_module_version": "1.5.0",
          "state": {
            "_view_name": "StyleView",
            "_model_name": "DescriptionStyleModel",
            "description_width": "",
            "_view_module": "@jupyter-widgets/base",
            "_model_module_version": "1.5.0",
            "_view_count": null,
            "_view_module_version": "1.2.0",
            "_model_module": "@jupyter-widgets/controls"
          }
        },
        "91b7d2288c3b45018ed19cd4bd5101ad": {
          "model_module": "@jupyter-widgets/base",
          "model_name": "LayoutModel",
          "model_module_version": "1.2.0",
          "state": {
            "_view_name": "LayoutView",
            "grid_template_rows": null,
            "right": null,
            "justify_content": null,
            "_view_module": "@jupyter-widgets/base",
            "overflow": null,
            "_model_module_version": "1.2.0",
            "_view_count": null,
            "flex_flow": null,
            "width": null,
            "min_width": null,
            "border": null,
            "align_items": null,
            "bottom": null,
            "_model_module": "@jupyter-widgets/base",
            "top": null,
            "grid_column": null,
            "overflow_y": null,
            "overflow_x": null,
            "grid_auto_flow": null,
            "grid_area": null,
            "grid_template_columns": null,
            "flex": null,
            "_model_name": "LayoutModel",
            "justify_items": null,
            "grid_row": null,
            "max_height": null,
            "align_content": null,
            "visibility": null,
            "align_self": null,
            "height": null,
            "min_height": null,
            "padding": null,
            "grid_auto_rows": null,
            "grid_gap": null,
            "max_width": null,
            "order": null,
            "_view_module_version": "1.2.0",
            "grid_template_areas": null,
            "object_position": null,
            "object_fit": null,
            "grid_auto_columns": null,
            "margin": null,
            "display": null,
            "left": null
          }
        },
        "6b600307139f4310a55ada086eb986c4": {
          "model_module": "@jupyter-widgets/controls",
          "model_name": "HBoxModel",
          "model_module_version": "1.5.0",
          "state": {
            "_view_name": "HBoxView",
            "_dom_classes": [],
            "_model_name": "HBoxModel",
            "_view_module": "@jupyter-widgets/controls",
            "_model_module_version": "1.5.0",
            "_view_count": null,
            "_view_module_version": "1.5.0",
            "box_style": "",
            "layout": "IPY_MODEL_a723860845e34fc1bc10f35c3a39267c",
            "_model_module": "@jupyter-widgets/controls",
            "children": [
              "IPY_MODEL_dcb36d734df4433bbd7f38cd5e6882a8",
              "IPY_MODEL_3f800c2166ef45ffafe612ab3a944fc8",
              "IPY_MODEL_a7535af4886340bc95ec1056a8f7ff0d"
            ]
          }
        },
        "a723860845e34fc1bc10f35c3a39267c": {
          "model_module": "@jupyter-widgets/base",
          "model_name": "LayoutModel",
          "model_module_version": "1.2.0",
          "state": {
            "_view_name": "LayoutView",
            "grid_template_rows": null,
            "right": null,
            "justify_content": null,
            "_view_module": "@jupyter-widgets/base",
            "overflow": null,
            "_model_module_version": "1.2.0",
            "_view_count": null,
            "flex_flow": "row wrap",
            "width": "100%",
            "min_width": null,
            "border": null,
            "align_items": null,
            "bottom": null,
            "_model_module": "@jupyter-widgets/base",
            "top": null,
            "grid_column": null,
            "overflow_y": null,
            "overflow_x": null,
            "grid_auto_flow": null,
            "grid_area": null,
            "grid_template_columns": null,
            "flex": null,
            "_model_name": "LayoutModel",
            "justify_items": null,
            "grid_row": null,
            "max_height": null,
            "align_content": null,
            "visibility": null,
            "align_self": null,
            "height": null,
            "min_height": null,
            "padding": null,
            "grid_auto_rows": null,
            "grid_gap": null,
            "max_width": null,
            "order": null,
            "_view_module_version": "1.2.0",
            "grid_template_areas": null,
            "object_position": null,
            "object_fit": null,
            "grid_auto_columns": null,
            "margin": null,
            "display": "inline-flex",
            "left": null
          }
        },
        "dcb36d734df4433bbd7f38cd5e6882a8": {
          "model_module": "@jupyter-widgets/controls",
          "model_name": "HTMLModel",
          "model_module_version": "1.5.0",
          "state": {
            "_view_name": "HTMLView",
            "style": "IPY_MODEL_a78dc05f131644daa9205c0e3ddfc32f",
            "_dom_classes": [],
            "description": "",
            "_model_name": "HTMLModel",
            "placeholder": "​",
            "_view_module": "@jupyter-widgets/controls",
            "_model_module_version": "1.5.0",
            "value": "Validating: 100%",
            "_view_count": null,
            "_view_module_version": "1.5.0",
            "description_tooltip": null,
            "_model_module": "@jupyter-widgets/controls",
            "layout": "IPY_MODEL_3966a8ed26164733bf86e968111b61f7"
          }
        },
        "3f800c2166ef45ffafe612ab3a944fc8": {
          "model_module": "@jupyter-widgets/controls",
          "model_name": "FloatProgressModel",
          "model_module_version": "1.5.0",
          "state": {
            "_view_name": "ProgressView",
            "style": "IPY_MODEL_d10dc64b408047a68d28121fc9ad3431",
            "_dom_classes": [],
            "description": "",
            "_model_name": "FloatProgressModel",
            "bar_style": "",
            "max": 428,
            "_view_module": "@jupyter-widgets/controls",
            "_model_module_version": "1.5.0",
            "value": 428,
            "_view_count": null,
            "_view_module_version": "1.5.0",
            "orientation": "horizontal",
            "min": 0,
            "description_tooltip": null,
            "_model_module": "@jupyter-widgets/controls",
            "layout": "IPY_MODEL_c0808cade01748b394f46f078021895e"
          }
        },
        "a7535af4886340bc95ec1056a8f7ff0d": {
          "model_module": "@jupyter-widgets/controls",
          "model_name": "HTMLModel",
          "model_module_version": "1.5.0",
          "state": {
            "_view_name": "HTMLView",
            "style": "IPY_MODEL_132dbbc2d9804e3e932780a8a65f9bdc",
            "_dom_classes": [],
            "description": "",
            "_model_name": "HTMLModel",
            "placeholder": "​",
            "_view_module": "@jupyter-widgets/controls",
            "_model_module_version": "1.5.0",
            "value": " 428/428 [01:10&lt;00:00,  6.07it/s]",
            "_view_count": null,
            "_view_module_version": "1.5.0",
            "description_tooltip": null,
            "_model_module": "@jupyter-widgets/controls",
            "layout": "IPY_MODEL_8ed31e6f3c1f4185b417398b1e0ab745"
          }
        },
        "a78dc05f131644daa9205c0e3ddfc32f": {
          "model_module": "@jupyter-widgets/controls",
          "model_name": "DescriptionStyleModel",
          "model_module_version": "1.5.0",
          "state": {
            "_view_name": "StyleView",
            "_model_name": "DescriptionStyleModel",
            "description_width": "",
            "_view_module": "@jupyter-widgets/base",
            "_model_module_version": "1.5.0",
            "_view_count": null,
            "_view_module_version": "1.2.0",
            "_model_module": "@jupyter-widgets/controls"
          }
        },
        "3966a8ed26164733bf86e968111b61f7": {
          "model_module": "@jupyter-widgets/base",
          "model_name": "LayoutModel",
          "model_module_version": "1.2.0",
          "state": {
            "_view_name": "LayoutView",
            "grid_template_rows": null,
            "right": null,
            "justify_content": null,
            "_view_module": "@jupyter-widgets/base",
            "overflow": null,
            "_model_module_version": "1.2.0",
            "_view_count": null,
            "flex_flow": null,
            "width": null,
            "min_width": null,
            "border": null,
            "align_items": null,
            "bottom": null,
            "_model_module": "@jupyter-widgets/base",
            "top": null,
            "grid_column": null,
            "overflow_y": null,
            "overflow_x": null,
            "grid_auto_flow": null,
            "grid_area": null,
            "grid_template_columns": null,
            "flex": null,
            "_model_name": "LayoutModel",
            "justify_items": null,
            "grid_row": null,
            "max_height": null,
            "align_content": null,
            "visibility": null,
            "align_self": null,
            "height": null,
            "min_height": null,
            "padding": null,
            "grid_auto_rows": null,
            "grid_gap": null,
            "max_width": null,
            "order": null,
            "_view_module_version": "1.2.0",
            "grid_template_areas": null,
            "object_position": null,
            "object_fit": null,
            "grid_auto_columns": null,
            "margin": null,
            "display": null,
            "left": null
          }
        },
        "d10dc64b408047a68d28121fc9ad3431": {
          "model_module": "@jupyter-widgets/controls",
          "model_name": "ProgressStyleModel",
          "model_module_version": "1.5.0",
          "state": {
            "_view_name": "StyleView",
            "_model_name": "ProgressStyleModel",
            "description_width": "",
            "_view_module": "@jupyter-widgets/base",
            "_model_module_version": "1.5.0",
            "_view_count": null,
            "_view_module_version": "1.2.0",
            "bar_color": null,
            "_model_module": "@jupyter-widgets/controls"
          }
        },
        "c0808cade01748b394f46f078021895e": {
          "model_module": "@jupyter-widgets/base",
          "model_name": "LayoutModel",
          "model_module_version": "1.2.0",
          "state": {
            "_view_name": "LayoutView",
            "grid_template_rows": null,
            "right": null,
            "justify_content": null,
            "_view_module": "@jupyter-widgets/base",
            "overflow": null,
            "_model_module_version": "1.2.0",
            "_view_count": null,
            "flex_flow": null,
            "width": null,
            "min_width": null,
            "border": null,
            "align_items": null,
            "bottom": null,
            "_model_module": "@jupyter-widgets/base",
            "top": null,
            "grid_column": null,
            "overflow_y": null,
            "overflow_x": null,
            "grid_auto_flow": null,
            "grid_area": null,
            "grid_template_columns": null,
            "flex": "2",
            "_model_name": "LayoutModel",
            "justify_items": null,
            "grid_row": null,
            "max_height": null,
            "align_content": null,
            "visibility": null,
            "align_self": null,
            "height": null,
            "min_height": null,
            "padding": null,
            "grid_auto_rows": null,
            "grid_gap": null,
            "max_width": null,
            "order": null,
            "_view_module_version": "1.2.0",
            "grid_template_areas": null,
            "object_position": null,
            "object_fit": null,
            "grid_auto_columns": null,
            "margin": null,
            "display": null,
            "left": null
          }
        },
        "132dbbc2d9804e3e932780a8a65f9bdc": {
          "model_module": "@jupyter-widgets/controls",
          "model_name": "DescriptionStyleModel",
          "model_module_version": "1.5.0",
          "state": {
            "_view_name": "StyleView",
            "_model_name": "DescriptionStyleModel",
            "description_width": "",
            "_view_module": "@jupyter-widgets/base",
            "_model_module_version": "1.5.0",
            "_view_count": null,
            "_view_module_version": "1.2.0",
            "_model_module": "@jupyter-widgets/controls"
          }
        },
        "8ed31e6f3c1f4185b417398b1e0ab745": {
          "model_module": "@jupyter-widgets/base",
          "model_name": "LayoutModel",
          "model_module_version": "1.2.0",
          "state": {
            "_view_name": "LayoutView",
            "grid_template_rows": null,
            "right": null,
            "justify_content": null,
            "_view_module": "@jupyter-widgets/base",
            "overflow": null,
            "_model_module_version": "1.2.0",
            "_view_count": null,
            "flex_flow": null,
            "width": null,
            "min_width": null,
            "border": null,
            "align_items": null,
            "bottom": null,
            "_model_module": "@jupyter-widgets/base",
            "top": null,
            "grid_column": null,
            "overflow_y": null,
            "overflow_x": null,
            "grid_auto_flow": null,
            "grid_area": null,
            "grid_template_columns": null,
            "flex": null,
            "_model_name": "LayoutModel",
            "justify_items": null,
            "grid_row": null,
            "max_height": null,
            "align_content": null,
            "visibility": null,
            "align_self": null,
            "height": null,
            "min_height": null,
            "padding": null,
            "grid_auto_rows": null,
            "grid_gap": null,
            "max_width": null,
            "order": null,
            "_view_module_version": "1.2.0",
            "grid_template_areas": null,
            "object_position": null,
            "object_fit": null,
            "grid_auto_columns": null,
            "margin": null,
            "display": null,
            "left": null
          }
        },
        "2e3f4d3d84d2462e82ba534606f8a294": {
          "model_module": "@jupyter-widgets/controls",
          "model_name": "HBoxModel",
          "model_module_version": "1.5.0",
          "state": {
            "_view_name": "HBoxView",
            "_dom_classes": [],
            "_model_name": "HBoxModel",
            "_view_module": "@jupyter-widgets/controls",
            "_model_module_version": "1.5.0",
            "_view_count": null,
            "_view_module_version": "1.5.0",
            "box_style": "",
            "layout": "IPY_MODEL_e1d3b00f8ced44aa906c09fcd2b790dd",
            "_model_module": "@jupyter-widgets/controls",
            "children": [
              "IPY_MODEL_dcc945c41c9a492f8e69866b130b6892",
              "IPY_MODEL_ff53d1341f7546e69d91885a57c5b430",
              "IPY_MODEL_d73f9695bc664a9f9501fe7d2d132665"
            ]
          }
        },
        "e1d3b00f8ced44aa906c09fcd2b790dd": {
          "model_module": "@jupyter-widgets/base",
          "model_name": "LayoutModel",
          "model_module_version": "1.2.0",
          "state": {
            "_view_name": "LayoutView",
            "grid_template_rows": null,
            "right": null,
            "justify_content": null,
            "_view_module": "@jupyter-widgets/base",
            "overflow": null,
            "_model_module_version": "1.2.0",
            "_view_count": null,
            "flex_flow": null,
            "width": null,
            "min_width": null,
            "border": null,
            "align_items": null,
            "bottom": null,
            "_model_module": "@jupyter-widgets/base",
            "top": null,
            "grid_column": null,
            "overflow_y": null,
            "overflow_x": null,
            "grid_auto_flow": null,
            "grid_area": null,
            "grid_template_columns": null,
            "flex": null,
            "_model_name": "LayoutModel",
            "justify_items": null,
            "grid_row": null,
            "max_height": null,
            "align_content": null,
            "visibility": null,
            "align_self": null,
            "height": null,
            "min_height": null,
            "padding": null,
            "grid_auto_rows": null,
            "grid_gap": null,
            "max_width": null,
            "order": null,
            "_view_module_version": "1.2.0",
            "grid_template_areas": null,
            "object_position": null,
            "object_fit": null,
            "grid_auto_columns": null,
            "margin": null,
            "display": null,
            "left": null
          }
        },
        "dcc945c41c9a492f8e69866b130b6892": {
          "model_module": "@jupyter-widgets/controls",
          "model_name": "HTMLModel",
          "model_module_version": "1.5.0",
          "state": {
            "_view_name": "HTMLView",
            "style": "IPY_MODEL_81d852b3983a4e8f8cc7310ee5d9d988",
            "_dom_classes": [],
            "description": "",
            "_model_name": "HTMLModel",
            "placeholder": "​",
            "_view_module": "@jupyter-widgets/controls",
            "_model_module_version": "1.5.0",
            "value": "100%",
            "_view_count": null,
            "_view_module_version": "1.5.0",
            "description_tooltip": null,
            "_model_module": "@jupyter-widgets/controls",
            "layout": "IPY_MODEL_d19551c255fc4300a0540ef4019b1e28"
          }
        },
        "ff53d1341f7546e69d91885a57c5b430": {
          "model_module": "@jupyter-widgets/controls",
          "model_name": "FloatProgressModel",
          "model_module_version": "1.5.0",
          "state": {
            "_view_name": "ProgressView",
            "style": "IPY_MODEL_de44c9dab47d45f88f646acee9128f53",
            "_dom_classes": [],
            "description": "",
            "_model_name": "FloatProgressModel",
            "bar_style": "success",
            "max": 3423,
            "_view_module": "@jupyter-widgets/controls",
            "_model_module_version": "1.5.0",
            "value": 3423,
            "_view_count": null,
            "_view_module_version": "1.5.0",
            "orientation": "horizontal",
            "min": 0,
            "description_tooltip": null,
            "_model_module": "@jupyter-widgets/controls",
            "layout": "IPY_MODEL_c324eab591b04c1a9cd5a8fddd102b94"
          }
        },
        "d73f9695bc664a9f9501fe7d2d132665": {
          "model_module": "@jupyter-widgets/controls",
          "model_name": "HTMLModel",
          "model_module_version": "1.5.0",
          "state": {
            "_view_name": "HTMLView",
            "style": "IPY_MODEL_aced56044998436294811773d25b186d",
            "_dom_classes": [],
            "description": "",
            "_model_name": "HTMLModel",
            "placeholder": "​",
            "_view_module": "@jupyter-widgets/controls",
            "_model_module_version": "1.5.0",
            "value": " 3423/3423 [01:31&lt;00:00, 37.54it/s]",
            "_view_count": null,
            "_view_module_version": "1.5.0",
            "description_tooltip": null,
            "_model_module": "@jupyter-widgets/controls",
            "layout": "IPY_MODEL_84556071fbb14162ae974883aa62ffeb"
          }
        },
        "81d852b3983a4e8f8cc7310ee5d9d988": {
          "model_module": "@jupyter-widgets/controls",
          "model_name": "DescriptionStyleModel",
          "model_module_version": "1.5.0",
          "state": {
            "_view_name": "StyleView",
            "_model_name": "DescriptionStyleModel",
            "description_width": "",
            "_view_module": "@jupyter-widgets/base",
            "_model_module_version": "1.5.0",
            "_view_count": null,
            "_view_module_version": "1.2.0",
            "_model_module": "@jupyter-widgets/controls"
          }
        },
        "d19551c255fc4300a0540ef4019b1e28": {
          "model_module": "@jupyter-widgets/base",
          "model_name": "LayoutModel",
          "model_module_version": "1.2.0",
          "state": {
            "_view_name": "LayoutView",
            "grid_template_rows": null,
            "right": null,
            "justify_content": null,
            "_view_module": "@jupyter-widgets/base",
            "overflow": null,
            "_model_module_version": "1.2.0",
            "_view_count": null,
            "flex_flow": null,
            "width": null,
            "min_width": null,
            "border": null,
            "align_items": null,
            "bottom": null,
            "_model_module": "@jupyter-widgets/base",
            "top": null,
            "grid_column": null,
            "overflow_y": null,
            "overflow_x": null,
            "grid_auto_flow": null,
            "grid_area": null,
            "grid_template_columns": null,
            "flex": null,
            "_model_name": "LayoutModel",
            "justify_items": null,
            "grid_row": null,
            "max_height": null,
            "align_content": null,
            "visibility": null,
            "align_self": null,
            "height": null,
            "min_height": null,
            "padding": null,
            "grid_auto_rows": null,
            "grid_gap": null,
            "max_width": null,
            "order": null,
            "_view_module_version": "1.2.0",
            "grid_template_areas": null,
            "object_position": null,
            "object_fit": null,
            "grid_auto_columns": null,
            "margin": null,
            "display": null,
            "left": null
          }
        },
        "de44c9dab47d45f88f646acee9128f53": {
          "model_module": "@jupyter-widgets/controls",
          "model_name": "ProgressStyleModel",
          "model_module_version": "1.5.0",
          "state": {
            "_view_name": "StyleView",
            "_model_name": "ProgressStyleModel",
            "description_width": "",
            "_view_module": "@jupyter-widgets/base",
            "_model_module_version": "1.5.0",
            "_view_count": null,
            "_view_module_version": "1.2.0",
            "bar_color": null,
            "_model_module": "@jupyter-widgets/controls"
          }
        },
        "c324eab591b04c1a9cd5a8fddd102b94": {
          "model_module": "@jupyter-widgets/base",
          "model_name": "LayoutModel",
          "model_module_version": "1.2.0",
          "state": {
            "_view_name": "LayoutView",
            "grid_template_rows": null,
            "right": null,
            "justify_content": null,
            "_view_module": "@jupyter-widgets/base",
            "overflow": null,
            "_model_module_version": "1.2.0",
            "_view_count": null,
            "flex_flow": null,
            "width": null,
            "min_width": null,
            "border": null,
            "align_items": null,
            "bottom": null,
            "_model_module": "@jupyter-widgets/base",
            "top": null,
            "grid_column": null,
            "overflow_y": null,
            "overflow_x": null,
            "grid_auto_flow": null,
            "grid_area": null,
            "grid_template_columns": null,
            "flex": null,
            "_model_name": "LayoutModel",
            "justify_items": null,
            "grid_row": null,
            "max_height": null,
            "align_content": null,
            "visibility": null,
            "align_self": null,
            "height": null,
            "min_height": null,
            "padding": null,
            "grid_auto_rows": null,
            "grid_gap": null,
            "max_width": null,
            "order": null,
            "_view_module_version": "1.2.0",
            "grid_template_areas": null,
            "object_position": null,
            "object_fit": null,
            "grid_auto_columns": null,
            "margin": null,
            "display": null,
            "left": null
          }
        },
        "aced56044998436294811773d25b186d": {
          "model_module": "@jupyter-widgets/controls",
          "model_name": "DescriptionStyleModel",
          "model_module_version": "1.5.0",
          "state": {
            "_view_name": "StyleView",
            "_model_name": "DescriptionStyleModel",
            "description_width": "",
            "_view_module": "@jupyter-widgets/base",
            "_model_module_version": "1.5.0",
            "_view_count": null,
            "_view_module_version": "1.2.0",
            "_model_module": "@jupyter-widgets/controls"
          }
        },
        "84556071fbb14162ae974883aa62ffeb": {
          "model_module": "@jupyter-widgets/base",
          "model_name": "LayoutModel",
          "model_module_version": "1.2.0",
          "state": {
            "_view_name": "LayoutView",
            "grid_template_rows": null,
            "right": null,
            "justify_content": null,
            "_view_module": "@jupyter-widgets/base",
            "overflow": null,
            "_model_module_version": "1.2.0",
            "_view_count": null,
            "flex_flow": null,
            "width": null,
            "min_width": null,
            "border": null,
            "align_items": null,
            "bottom": null,
            "_model_module": "@jupyter-widgets/base",
            "top": null,
            "grid_column": null,
            "overflow_y": null,
            "overflow_x": null,
            "grid_auto_flow": null,
            "grid_area": null,
            "grid_template_columns": null,
            "flex": null,
            "_model_name": "LayoutModel",
            "justify_items": null,
            "grid_row": null,
            "max_height": null,
            "align_content": null,
            "visibility": null,
            "align_self": null,
            "height": null,
            "min_height": null,
            "padding": null,
            "grid_auto_rows": null,
            "grid_gap": null,
            "max_width": null,
            "order": null,
            "_view_module_version": "1.2.0",
            "grid_template_areas": null,
            "object_position": null,
            "object_fit": null,
            "grid_auto_columns": null,
            "margin": null,
            "display": null,
            "left": null
          }
        }
      }
    }
  },
  "cells": [
    {
      "cell_type": "code",
      "metadata": {
        "colab": {
          "base_uri": "https://localhost:8080/"
        },
        "id": "mAzPXKFb3aPE",
        "outputId": "46e4f33f-256a-4b56-b18e-b7a1c2abfb90"
      },
      "source": [
        "from google.colab import drive\n",
        "drive.mount('/content/drive')"
      ],
      "execution_count": null,
      "outputs": [
        {
          "output_type": "stream",
          "text": [
            "Mounted at /content/drive\n"
          ],
          "name": "stdout"
        }
      ]
    },
    {
      "cell_type": "code",
      "metadata": {
        "id": "cPe1wmKi3d9W"
      },
      "source": [
        "import warnings\n",
        "warnings.filterwarnings('ignore')"
      ],
      "execution_count": null,
      "outputs": []
    },
    {
      "cell_type": "code",
      "metadata": {
        "colab": {
          "base_uri": "https://localhost:8080/"
        },
        "id": "BIy49QkB3mTQ",
        "outputId": "bc2a68d6-66c0-4910-debd-aa61e4f9c1f8"
      },
      "source": [
        "!nvidia-smi"
      ],
      "execution_count": null,
      "outputs": [
        {
          "output_type": "stream",
          "text": [
            "Sat Aug 28 15:34:00 2021       \n",
            "+-----------------------------------------------------------------------------+\n",
            "| NVIDIA-SMI 470.57.02    Driver Version: 460.32.03    CUDA Version: 11.2     |\n",
            "|-------------------------------+----------------------+----------------------+\n",
            "| GPU  Name        Persistence-M| Bus-Id        Disp.A | Volatile Uncorr. ECC |\n",
            "| Fan  Temp  Perf  Pwr:Usage/Cap|         Memory-Usage | GPU-Util  Compute M. |\n",
            "|                               |                      |               MIG M. |\n",
            "|===============================+======================+======================|\n",
            "|   0  Tesla P100-PCIE...  Off  | 00000000:00:04.0 Off |                    0 |\n",
            "| N/A   39C    P0    28W / 250W |      0MiB / 16280MiB |      0%      Default |\n",
            "|                               |                      |                  N/A |\n",
            "+-------------------------------+----------------------+----------------------+\n",
            "                                                                               \n",
            "+-----------------------------------------------------------------------------+\n",
            "| Processes:                                                                  |\n",
            "|  GPU   GI   CI        PID   Type   Process name                  GPU Memory |\n",
            "|        ID   ID                                                   Usage      |\n",
            "|=============================================================================|\n",
            "|  No running processes found                                                 |\n",
            "+-----------------------------------------------------------------------------+\n"
          ],
          "name": "stdout"
        }
      ]
    },
    {
      "cell_type": "code",
      "metadata": {
        "colab": {
          "base_uri": "https://localhost:8080/"
        },
        "id": "4ws94rYx3nUX",
        "outputId": "7e7cb819-c807-460e-dc88-02017540e449"
      },
      "source": [
        "!pip install --quiet transformers\n",
        "!pip install --quiet pytorch-lightning"
      ],
      "execution_count": null,
      "outputs": [
        {
          "output_type": "stream",
          "text": [
            "\u001b[K     |████████████████████████████████| 2.6 MB 7.1 MB/s \n",
            "\u001b[K     |████████████████████████████████| 3.3 MB 57.8 MB/s \n",
            "\u001b[K     |████████████████████████████████| 895 kB 65.7 MB/s \n",
            "\u001b[K     |████████████████████████████████| 636 kB 72.4 MB/s \n",
            "\u001b[K     |████████████████████████████████| 918 kB 7.9 MB/s \n",
            "\u001b[K     |████████████████████████████████| 272 kB 71.5 MB/s \n",
            "\u001b[K     |████████████████████████████████| 829 kB 57.2 MB/s \n",
            "\u001b[K     |████████████████████████████████| 118 kB 64.4 MB/s \n",
            "\u001b[K     |████████████████████████████████| 1.3 MB 72.7 MB/s \n",
            "\u001b[K     |████████████████████████████████| 294 kB 76.6 MB/s \n",
            "\u001b[K     |████████████████████████████████| 142 kB 66.5 MB/s \n",
            "\u001b[?25h  Building wheel for future (setup.py) ... \u001b[?25l\u001b[?25hdone\n"
          ],
          "name": "stdout"
        }
      ]
    },
    {
      "cell_type": "code",
      "metadata": {
        "colab": {
          "base_uri": "https://localhost:8080/"
        },
        "id": "dg5TSCRB3tn0",
        "outputId": "cc6d6a53-b2ac-4def-cd39-f9ecfda0673e"
      },
      "source": [
        "import pandas as pd\n",
        "import numpy as np\n",
        "\n",
        "from tqdm.auto import tqdm\n",
        "\n",
        "import torch\n",
        "import torch.nn as nn\n",
        "from torch.utils.data import Dataset, DataLoader\n",
        "\n",
        "from transformers import AutoTokenizer, AutoModel, AdamW, get_linear_schedule_with_warmup\n",
        "\n",
        "import pytorch_lightning as pl\n",
        "from pytorch_lightning.metrics.functional import accuracy, f1, auroc\n",
        "from pytorch_lightning.callbacks import ModelCheckpoint, EarlyStopping\n",
        "from pytorch_lightning.loggers import TensorBoardLogger\n",
        "\n",
        "from sklearn.model_selection import train_test_split\n",
        "from sklearn.metrics import classification_report, multilabel_confusion_matrix\n",
        "\n",
        "import seaborn as sns\n",
        "from pylab import rcParams\n",
        "import matplotlib.pyplot as plt\n",
        "from matplotlib import rc\n",
        "\n",
        "%matplotlib inline  \n",
        "%config InlineBackend.figure_format='retina'\n",
        "\n",
        "RANDOM_SEED = 42\n",
        "\n",
        "sns.set(style='whitegrid', palette='muted', font_scale=1.2)\n",
        "HAPPY_COLORS_PALETTE = [\"#01BEFE\", \"#FFDD00\", \"#FF7D00\", \"#FF006D\", \"#ADFF02\", \"#8F00FF\"]\n",
        "sns.set_palette(sns.color_palette(HAPPY_COLORS_PALETTE))\n",
        "rcParams['figure.figsize'] = 12, 8\n",
        "\n",
        "pl.seed_everything(RANDOM_SEED)\n",
        "\n",
        "from collections import Counter"
      ],
      "execution_count": null,
      "outputs": [
        {
          "output_type": "stream",
          "text": [
            "Global seed set to 42\n"
          ],
          "name": "stderr"
        }
      ]
    },
    {
      "cell_type": "code",
      "metadata": {
        "colab": {
          "base_uri": "https://localhost:8080/"
        },
        "id": "2J-G5I493xNb",
        "outputId": "331c9eff-d7a2-4ed1-9d5e-f4993e292857"
      },
      "source": [
        "# import dataset\n",
        "train_df = pd.read_csv('drive/MyDrive/Biocreative/Biocreative/datasets/TRAIN.csv')\n",
        "train_df = train_df.sample(frac=1).reset_index(drop=True)\n",
        "train_df.head(), train_df.shape"
      ],
      "execution_count": null,
      "outputs": [
        {
          "output_type": "execute_result",
          "data": {
            "text/plain": [
              "(       pmid  ...                                     Title&Keywords\n",
              " 0  32265202  ...  Ocular manifestation hospitalised patient conf...\n",
              " 1  33036702  ...  COVID-19 senior Findings lesson mass screening...\n",
              " 2  32406522  ...  COVID-19 Focus lung forget gastrointestinal tr...\n",
              " 3  32599534  ...  subcutaneous insulin administration adequate m...\n",
              " 4  33005463  ...  First Case COVID-19-Associated Collapsing Glom...\n",
              " \n",
              " [5 rows x 13 columns], (30738, 13))"
            ]
          },
          "metadata": {},
          "execution_count": 6
        }
      ]
    },
    {
      "cell_type": "code",
      "metadata": {
        "id": "nPHjZkeR33dn"
      },
      "source": [
        "LABEL_COLUMNS = train_df.columns.tolist()[5:-1]"
      ],
      "execution_count": null,
      "outputs": []
    },
    {
      "cell_type": "code",
      "metadata": {
        "colab": {
          "base_uri": "https://localhost:8080/"
        },
        "id": "ZPGldjpA37AY",
        "outputId": "79c94cfc-8375-4168-f067-d144c241f549"
      },
      "source": [
        "print(LABEL_COLUMNS)"
      ],
      "execution_count": null,
      "outputs": [
        {
          "output_type": "stream",
          "text": [
            "['Case Report', 'Diagnosis', 'Epidemic Forecasting', 'Mechanism', 'Prevention', 'Transmission', 'Treatment']\n"
          ],
          "name": "stdout"
        }
      ]
    },
    {
      "cell_type": "code",
      "metadata": {
        "colab": {
          "base_uri": "https://localhost:8080/",
          "height": 98,
          "referenced_widgets": [
            "47d30a25c14042eb84f672d3b76f7d44",
            "3da4923d1ff94eec91cce52f024bbfd1",
            "b359c438584d467d8d2697c1233678a1",
            "6738657abfd741a89330ed0d490e20f2",
            "1cd23fe2fba941708260ea2da3435d9e",
            "6021530fafb849e6ae982d7a35fba584",
            "263f9883a25b44e48767f8e50ffd34aa",
            "8db8b90631e8497eb4b673ce0ed44897",
            "904d7a2f0ad547fbb3f3c5dc26d8ca9c",
            "134b97b27f2c489182f5893c435fbb1e",
            "feff18336b3940fcb0deaefadd3c9922",
            "e2fb717edbe643fe829daf54512885f2",
            "6aa7ca5f918c46289f88bdb6aca3bf62",
            "ac978d0e7a5e43008f2fb9b86ef80cb9",
            "8d6f5dd243dd46b984d641be6fd159a7",
            "56628219b6eb4ab7989f62193112ab55",
            "f6c45233c0c2418390460223012eb9be",
            "8229acf70d504773ba11a839686f1bb7",
            "431304c9c9d340e7bae92b662cb71b53",
            "3a961c69bb4a4781b84de7283c1268be",
            "3ca87163b09b4a389ae9e5b520d9c3bc",
            "2b73778b02d74ff8bca8fe8ba123de7e"
          ]
        },
        "id": "jvN762J5370f",
        "outputId": "68ee7e66-f0e9-430d-86ef-82e808f1005b"
      },
      "source": [
        "# BERT_MODEL_NAME = 'dmis-lab/biobert-base-cased-v1.1'\n",
        "# Ref : microsoft/BiomedNLP-PubMedBERT-base-uncased-abstract-fulltext\n",
        "# Ref 2.0 : lordtt13/COVID-SciBERT\n",
        "BERT_MODEL_NAME = input(\"Enter Bert Model Name: \")\n",
        "tokenizer = AutoTokenizer.from_pretrained(BERT_MODEL_NAME)"
      ],
      "execution_count": null,
      "outputs": [
        {
          "output_type": "stream",
          "text": [
            "Enter Bert Model Name: microsoft/BiomedNLP-PubMedBERT-base-uncased-abstract-fulltext\n"
          ],
          "name": "stdout"
        },
        {
          "output_type": "display_data",
          "data": {
            "application/vnd.jupyter.widget-view+json": {
              "model_id": "47d30a25c14042eb84f672d3b76f7d44",
              "version_minor": 0,
              "version_major": 2
            },
            "text/plain": [
              "Downloading:   0%|          | 0.00/337 [00:00<?, ?B/s]"
            ]
          },
          "metadata": {}
        },
        {
          "output_type": "display_data",
          "data": {
            "application/vnd.jupyter.widget-view+json": {
              "model_id": "e2fb717edbe643fe829daf54512885f2",
              "version_minor": 0,
              "version_major": 2
            },
            "text/plain": [
              "Downloading:   0%|          | 0.00/226k [00:00<?, ?B/s]"
            ]
          },
          "metadata": {}
        }
      ]
    },
    {
      "cell_type": "code",
      "metadata": {
        "colab": {
          "base_uri": "https://localhost:8080/"
        },
        "id": "IhEHKoniFMUN",
        "outputId": "3068747a-849d-4487-9a64-1c333d145709"
      },
      "source": [
        "train_df[LABEL_COLUMNS].sum().sort_values()"
      ],
      "execution_count": null,
      "outputs": [
        {
          "output_type": "execute_result",
          "data": {
            "text/plain": [
              "Epidemic Forecasting     1528\n",
              "Case Report              2291\n",
              "Transmission             3165\n",
              "Mechanism                5414\n",
              "Diagnosis                7456\n",
              "Treatment               10091\n",
              "Prevention              13998\n",
              "dtype: int64"
            ]
          },
          "metadata": {},
          "execution_count": 14
        }
      ]
    },
    {
      "cell_type": "code",
      "metadata": {
        "id": "z2rEib0m4Q8L"
      },
      "source": [
        "MAX_TOKEN_COUNT = 512"
      ],
      "execution_count": null,
      "outputs": []
    },
    {
      "cell_type": "code",
      "metadata": {
        "id": "gBqnBhdu3-ei"
      },
      "source": [
        "class TopicAnnotationDataset(Dataset):\n",
        "\n",
        "  def __init__(\n",
        "    self,\n",
        "    data: pd.DataFrame,\n",
        "    tokenizer: AutoTokenizer,\n",
        "    max_token_len: int = 512,\n",
        "    title_max_token_len: int = 128\n",
        "  ):\n",
        "    self.tokenizer = tokenizer\n",
        "    self.data = data\n",
        "    self.max_token_len = max_token_len\n",
        "    self.title_max_token_len = title_max_token_len\n",
        "    \n",
        "  def __len__(self):\n",
        "    return len(self.data)\n",
        "\n",
        "  def __getitem__(self, index=int):\n",
        "    \n",
        "    data_row = self.data.iloc[index]\n",
        "\n",
        "    abstract_text = data_row.abstract\n",
        "    labels = data_row[LABEL_COLUMNS]\n",
        "\n",
        "    title_text = data_row.title\n",
        "\n",
        "    encoding = self.tokenizer.encode_plus(\n",
        "        abstract_text,\n",
        "        add_special_tokens=True,\n",
        "        max_length=self.max_token_len,\n",
        "        return_token_type_ids=False,\n",
        "        padding=\"max_length\",\n",
        "        truncation=True,\n",
        "        return_attention_mask=True,\n",
        "        return_tensors='pt',\n",
        "    )\n",
        "\n",
        "    title_encoding = self.tokenizer.encode_plus(\n",
        "        title_text,\n",
        "        add_special_tokens=True,\n",
        "        max_length=self.title_max_token_len,\n",
        "        return_token_type_ids=False,\n",
        "        padding=\"max_length\",\n",
        "        truncation=True,\n",
        "        return_attention_mask=True,\n",
        "        return_tensors='pt',\n",
        "    )\n",
        "\n",
        "    return dict(\n",
        "        abstract_text=abstract_text,\n",
        "        title_text=title_text,\n",
        "        input_ids=encoding[\"input_ids\"].flatten(),\n",
        "        attention_mask=encoding[\"attention_mask\"].flatten(),\n",
        "        title_input_ids=title_encoding[\"input_ids\"].flatten(),\n",
        "        title_attention_mask=title_encoding[\"attention_mask\"].flatten(),\n",
        "        labels=torch.FloatTensor(labels) \n",
        "    )  "
      ],
      "execution_count": null,
      "outputs": []
    },
    {
      "cell_type": "code",
      "metadata": {
        "id": "ou3_fJXGBnHg"
      },
      "source": [
        "train_dataset = TopicAnnotationDataset(\n",
        "    train_df,\n",
        "    tokenizer,\n",
        "    max_token_len=MAX_TOKEN_COUNT\n",
        ")"
      ],
      "execution_count": null,
      "outputs": []
    },
    {
      "cell_type": "code",
      "metadata": {
        "id": "-mS-6FdgBp6Z"
      },
      "source": [
        "class TopicAnnotationDataModule(pl.LightningDataModule):\n",
        "\n",
        "  def __init__(self, train_df, test_df, tokenizer, batch_size=8, max_token_len=128):\n",
        "    \n",
        "    super().__init__()\n",
        "    self.batch_size = batch_size\n",
        "    self.train_df = train_df\n",
        "    self.test_df = test_df\n",
        "    self.tokenizer = tokenizer\n",
        "    self.max_token_len = max_token_len\n",
        "\n",
        "  def setup(self, stage=None):\n",
        "    \n",
        "    self.train_dataset =  TopicAnnotationDataset(\n",
        "        self.train_df,\n",
        "        self.tokenizer,\n",
        "        self.max_token_len\n",
        "    )\n",
        "\n",
        "    self.test_dataset = TopicAnnotationDataset(\n",
        "        self.test_df,\n",
        "        self.tokenizer,\n",
        "        self.max_token_len\n",
        "    )\n",
        "\n",
        "  def train_dataloader(self):\n",
        "\n",
        "    return DataLoader(\n",
        "      self.train_dataset,\n",
        "      batch_size=self.batch_size,\n",
        "      shuffle=True,\n",
        "      num_workers=2\n",
        "    )\n",
        "\n",
        "  def val_dataloader(self):\n",
        "\n",
        "    return DataLoader(\n",
        "      self.test_dataset,\n",
        "      batch_size=self.batch_size,\n",
        "      num_workers=2\n",
        "    )\n",
        "\n",
        "  def test_dataloader(self):\n",
        "    \n",
        "    return DataLoader(\n",
        "      self.test_dataset,\n",
        "      batch_size=self.batch_size,\n",
        "      num_workers=2\n",
        "    )"
      ],
      "execution_count": null,
      "outputs": []
    },
    {
      "cell_type": "code",
      "metadata": {
        "colab": {
          "base_uri": "https://localhost:8080/",
          "height": 35
        },
        "id": "o5ELtrPQebvV",
        "outputId": "4bcc6214-e6b7-44db-d954-9ac56054aeba"
      },
      "source": [
        "  %pwd"
      ],
      "execution_count": null,
      "outputs": [
        {
          "output_type": "execute_result",
          "data": {
            "application/vnd.google.colaboratory.intrinsic+json": {
              "type": "string"
            },
            "text/plain": [
              "'/content'"
            ]
          },
          "metadata": {},
          "execution_count": 46
        }
      ]
    },
    {
      "cell_type": "code",
      "metadata": {
        "colab": {
          "base_uri": "https://localhost:8080/"
        },
        "id": "fMLXnUybDWIs",
        "outputId": "53f6e784-5ab7-4a60-e0dc-ea6997a7b934"
      },
      "source": [
        "val_df = pd.read_csv(\"/content/drive/MyDrive/Biocreative/Biocreative/datasets/VAL.csv\")\n",
        "val_df = val_df.sample(frac=1).reset_index(drop=True)\n",
        "val_df.shape"
      ],
      "execution_count": null,
      "outputs": [
        {
          "output_type": "execute_result",
          "data": {
            "text/plain": [
              "(3423, 13)"
            ]
          },
          "metadata": {},
          "execution_count": 47
        }
      ]
    },
    {
      "cell_type": "code",
      "metadata": {
        "id": "gCZ1sc2Ewm_K"
      },
      "source": [
        "N_EPOCHS = 10\n",
        "BATCH_SIZE = 8\n",
        "\n",
        "data_module = TopicAnnotationDataModule(\n",
        "    train_df,\n",
        "    val_df,\n",
        "    tokenizer,\n",
        "    batch_size=BATCH_SIZE,\n",
        "    max_token_len=MAX_TOKEN_COUNT\n",
        ")"
      ],
      "execution_count": null,
      "outputs": []
    },
    {
      "cell_type": "code",
      "metadata": {
        "colab": {
          "base_uri": "https://localhost:8080/"
        },
        "id": "xWNeGIHA9O7K",
        "outputId": "afebeef5-272b-4e75-cfad-133a4553bfb7"
      },
      "source": [
        "Label_count = train_df[LABEL_COLUMNS].sum().to_dict()\n",
        "count = list(Label_count.values())\n",
        "max_val = max(count)\n",
        "class_weight = [max_val/val for val in count]\n",
        "print(class_weight)"
      ],
      "execution_count": null,
      "outputs": [
        {
          "output_type": "stream",
          "text": [
            "[6.109995635093846, 1.8774141630901287, 9.160994764397905, 2.5855190247506465, 1.0, 4.4227488151658765, 1.3871766921018729]\n"
          ],
          "name": "stdout"
        }
      ]
    },
    {
      "cell_type": "code",
      "metadata": {
        "colab": {
          "base_uri": "https://localhost:8080/"
        },
        "id": "tZxCvK9y9ZQw",
        "outputId": "24194703-93a2-4a74-d06b-dadc771f6911"
      },
      "source": [
        "# print label and corresponding weights\n",
        "dict(zip(LABEL_COLUMNS, class_weight))"
      ],
      "execution_count": null,
      "outputs": [
        {
          "output_type": "execute_result",
          "data": {
            "text/plain": [
              "{'Case Report': 6.109995635093846,\n",
              " 'Diagnosis': 1.8774141630901287,\n",
              " 'Epidemic Forecasting': 9.160994764397905,\n",
              " 'Mechanism': 2.5855190247506465,\n",
              " 'Prevention': 1.0,\n",
              " 'Transmission': 4.4227488151658765,\n",
              " 'Treatment': 1.3871766921018729}"
            ]
          },
          "metadata": {},
          "execution_count": 50
        }
      ]
    },
    {
      "cell_type": "code",
      "metadata": {
        "id": "nvp3Eah69cUu"
      },
      "source": [
        "class_weight = torch.tensor(class_weight, device=\"cuda\")"
      ],
      "execution_count": null,
      "outputs": []
    },
    {
      "cell_type": "code",
      "metadata": {
        "id": "uKYtVKIsWU3b"
      },
      "source": [
        "class FFN(nn.Module):\n",
        "  def __init__(self, in_feat, out_feat, dropout):\n",
        "      super(FFN, self).__init__()\n",
        "      self.in2hid = nn.Linear(in_feat, in_feat)\n",
        "      self.hid2out = nn.Linear(in_feat, out_feat)\n",
        "\n",
        "      self.activation = nn.ReLU()\n",
        "      self.dropout = nn.Dropout(dropout)\n",
        "\n",
        "  def forward(self, input):\n",
        "      hid = self.activation(self.dropout(self.in2hid(input)))\n",
        "      return self.hid2out(hid)"
      ],
      "execution_count": null,
      "outputs": []
    },
    {
      "cell_type": "code",
      "metadata": {
        "id": "IEvzbePlw5RX"
      },
      "source": [
        "class TopicAnnotationTagger(pl.LightningModule):\n",
        "\n",
        "  def __init__(self, n_classes: int, n_training_steps=None, n_warmup_steps=None, ffn_dim: int = 512, out_feat: int = 768, dropout=0.2):\n",
        "    \n",
        "    super().__init__()\n",
        "    self.bert = AutoModel.from_pretrained(BERT_MODEL_NAME, return_dict=True)\n",
        "    self.bert_title = AutoModel.from_pretrained(BERT_MODEL_NAME, return_dict=True)\n",
        "    # self.classifier = nn.Linear(self.bert.config.hidden_size, n_classes)\n",
        "    self.n_training_steps = n_training_steps\n",
        "    self.n_warmup_steps = n_warmup_steps\n",
        "    self.criterion = nn.BCELoss(weight=class_weight)\n",
        "    self.sigmoid = nn.Sigmoid()\n",
        "\n",
        "    # angry-bert layers\n",
        "    self.ffn_dim = ffn_dim\n",
        "    self.out_feat = out_feat\n",
        "    self.dropout = nn.Dropout(p=dropout)\n",
        "    self.activation = nn.ReLU()\n",
        "    \n",
        "    self.gate = nn.Linear(\n",
        "        (self.bert.config.hidden_size + self.bert_title.config.hidden_size), \n",
        "        self.ffn_dim\n",
        "    )\n",
        "\n",
        "    self.ffn = FFN(self.ffn_dim, out_feat, dropout=0.2)\n",
        "    self.classifier = nn.Linear(self.out_feat, n_classes)\n",
        "\n",
        "  def forward(self, input_ids, attention_mask, title_input_ids, title_attention_mask, labels=None):\n",
        "\n",
        "    bert_outputs = self.bert(input_ids, attention_mask=attention_mask)\n",
        "    # pooler_output (batch_size x hidden_size)\n",
        "    encoded_output_bert = bert_outputs.pooler_output\n",
        "\n",
        "    bert_title_outputs = self.bert(title_input_ids, attention_mask=title_attention_mask)\n",
        "    # pooler_output (batch_size x hidden_size)\n",
        "    encoded_output_bert_title = bert_outputs.pooler_output\n",
        "\n",
        "    # gate-fusion\n",
        "    gatein = torch.cat((encoded_output_bert, encoded_output_bert_title), dim=-1)\n",
        "    chosen = self.activation(self.dropout(self.gate(gatein)))\n",
        "\n",
        "    res = self.ffn(chosen)\n",
        "\n",
        "    # classification\n",
        "    output = self.classifier(res)\n",
        "    output = torch.sigmoid(output)\n",
        "\n",
        "    loss = 0\n",
        "    if labels is not None:\n",
        "      loss = self.criterion(output, labels)\n",
        "    return loss, output\n",
        "\n",
        "  def training_step(self, batch, batch_idx):\n",
        "\n",
        "    input_ids = batch[\"input_ids\"]\n",
        "    attention_mask = batch[\"attention_mask\"]\n",
        "    title_input_ids = batch[\"title_input_ids\"]\n",
        "    title_attention_mask = batch[\"title_attention_mask\"]\n",
        "    labels = batch[\"labels\"]\n",
        "\n",
        "    loss, outputs = self(input_ids, attention_mask, title_input_ids, title_attention_mask, labels)\n",
        "    self.log(\"train_loss\", loss, prog_bar=True, logger=True)\n",
        "    return {\"loss\": loss, \"predictions\": outputs, \"labels\": labels}\n",
        "\n",
        "  def validation_step(self, batch, batch_idx):\n",
        "\n",
        "    input_ids = batch[\"input_ids\"]\n",
        "    attention_mask = batch[\"attention_mask\"]\n",
        "    title_input_ids = batch[\"title_input_ids\"]\n",
        "    title_attention_mask = batch[\"title_attention_mask\"]\n",
        "    labels = batch[\"labels\"]\n",
        "\n",
        "    loss, outputs = self(input_ids, attention_mask, title_input_ids, title_attention_mask, labels)\n",
        "    self.log(\"val_loss\", loss, prog_bar=True, logger=True)\n",
        "    return loss\n",
        "\n",
        "  def test_step(self, batch, batch_idx):\n",
        "    \n",
        "    input_ids = batch[\"input_ids\"]\n",
        "    attention_mask = batch[\"attention_mask\"]\n",
        "    title_input_ids = batch[\"title_input_ids\"]\n",
        "    title_attention_mask = batch[\"title_attention_mask\"]\n",
        "    labels = batch[\"labels\"]\n",
        "\n",
        "    loss, outputs = self(input_ids, attention_mask, title_input_ids, title_attention_mask, labels)\n",
        "    self.log(\"test_loss\", loss, prog_bar=True, logger=True)\n",
        "    return loss\n",
        "\n",
        "  def training_epoch_end(self, outputs):\n",
        "\n",
        "    labels = []\n",
        "    predictions = []\n",
        "    for output in outputs:\n",
        "      for out_labels in output[\"labels\"].detach().cpu():\n",
        "        labels.append(out_labels)\n",
        "      for out_predictions in output[\"predictions\"].detach().cpu():\n",
        "        predictions.append(out_predictions)\n",
        "\n",
        "    labels = torch.stack(labels).int()\n",
        "    predictions = torch.stack(predictions)\n",
        "\n",
        "    for i, name in enumerate(LABEL_COLUMNS):\n",
        "      class_roc_auc = auroc(predictions[:, i], labels[:, i])\n",
        "      self.logger.experiment.add_scalar(f\"{name}_roc_auc/Train\", class_roc_auc, self.current_epoch)\n",
        "\n",
        "  def configure_optimizers(self):\n",
        "\n",
        "    optimizer = AdamW(self.parameters(), lr=2e-5)\n",
        "\n",
        "    scheduler = get_linear_schedule_with_warmup(\n",
        "      optimizer,\n",
        "      num_warmup_steps=self.n_warmup_steps,\n",
        "      num_training_steps=self.n_training_steps\n",
        "    )\n",
        "\n",
        "    return dict(\n",
        "        optimizer=optimizer,\n",
        "        lr_scheduler=dict(\n",
        "            scheduler=scheduler,\n",
        "            interval='step'\n",
        "            )\n",
        "        )"
      ],
      "execution_count": null,
      "outputs": []
    },
    {
      "cell_type": "code",
      "metadata": {
        "id": "NQ0G4TvczkP4"
      },
      "source": [
        "steps_per_epoch=len(train_df) // BATCH_SIZE\n",
        "total_training_steps = steps_per_epoch * N_EPOCHS"
      ],
      "execution_count": null,
      "outputs": []
    },
    {
      "cell_type": "code",
      "metadata": {
        "colab": {
          "base_uri": "https://localhost:8080/"
        },
        "id": "ViKW_Boiz3WV",
        "outputId": "5902d4ec-50a1-4eee-a47f-b70b7c0379d6"
      },
      "source": [
        "warmup_steps = total_training_steps // 5\n",
        "warmup_steps, total_training_steps"
      ],
      "execution_count": null,
      "outputs": [
        {
          "output_type": "execute_result",
          "data": {
            "text/plain": [
              "(7684, 38420)"
            ]
          },
          "metadata": {},
          "execution_count": 55
        }
      ]
    },
    {
      "cell_type": "code",
      "metadata": {
        "colab": {
          "base_uri": "https://localhost:8080/"
        },
        "id": "FgwMF0_3z4x-",
        "outputId": "4c2860ce-a619-4c6d-a3cd-c2e0e8c5f089"
      },
      "source": [
        "model = TopicAnnotationTagger(\n",
        "    n_classes=len(LABEL_COLUMNS),\n",
        "    n_warmup_steps=warmup_steps,\n",
        "    n_training_steps=total_training_steps\n",
        ")"
      ],
      "execution_count": null,
      "outputs": [
        {
          "output_type": "stream",
          "text": [
            "Some weights of the model checkpoint at microsoft/BiomedNLP-PubMedBERT-base-uncased-abstract-fulltext were not used when initializing BertModel: ['cls.predictions.decoder.bias', 'cls.predictions.transform.LayerNorm.weight', 'cls.predictions.transform.dense.bias', 'cls.predictions.transform.dense.weight', 'cls.seq_relationship.bias', 'cls.predictions.bias', 'cls.predictions.decoder.weight', 'cls.predictions.transform.LayerNorm.bias', 'cls.seq_relationship.weight']\n",
            "- This IS expected if you are initializing BertModel from the checkpoint of a model trained on another task or with another architecture (e.g. initializing a BertForSequenceClassification model from a BertForPreTraining model).\n",
            "- This IS NOT expected if you are initializing BertModel from the checkpoint of a model that you expect to be exactly identical (initializing a BertForSequenceClassification model from a BertForSequenceClassification model).\n",
            "Some weights of the model checkpoint at microsoft/BiomedNLP-PubMedBERT-base-uncased-abstract-fulltext were not used when initializing BertModel: ['cls.predictions.decoder.bias', 'cls.predictions.transform.LayerNorm.weight', 'cls.predictions.transform.dense.bias', 'cls.predictions.transform.dense.weight', 'cls.seq_relationship.bias', 'cls.predictions.bias', 'cls.predictions.decoder.weight', 'cls.predictions.transform.LayerNorm.bias', 'cls.seq_relationship.weight']\n",
            "- This IS expected if you are initializing BertModel from the checkpoint of a model trained on another task or with another architecture (e.g. initializing a BertForSequenceClassification model from a BertForPreTraining model).\n",
            "- This IS NOT expected if you are initializing BertModel from the checkpoint of a model that you expect to be exactly identical (initializing a BertForSequenceClassification model from a BertForSequenceClassification model).\n"
          ],
          "name": "stderr"
        }
      ]
    },
    {
      "cell_type": "code",
      "metadata": {
        "colab": {
          "base_uri": "https://localhost:8080/",
          "height": 35
        },
        "id": "FABmVeWfaU9D",
        "outputId": "6713cdca-c7b6-4850-b6cc-9bd4e83bef77"
      },
      "source": [
        "%pwd"
      ],
      "execution_count": null,
      "outputs": [
        {
          "output_type": "execute_result",
          "data": {
            "application/vnd.google.colaboratory.intrinsic+json": {
              "type": "string"
            },
            "text/plain": [
              "'/content'"
            ]
          },
          "metadata": {},
          "execution_count": 28
        }
      ]
    },
    {
      "cell_type": "code",
      "metadata": {
        "colab": {
          "base_uri": "https://localhost:8080/"
        },
        "id": "n0fX6c7ndf4Y",
        "outputId": "4872e28b-8070-402e-bee4-f3b9cd3c63f3"
      },
      "source": [
        "cd '/content/drive/MyDrive/Biocreative/Biocreative/checkpoints_and_logs/'"
      ],
      "execution_count": null,
      "outputs": [
        {
          "output_type": "stream",
          "text": [
            "/content/drive/MyDrive/Biocreative/Biocreative/checkpoints_and_logs\n"
          ],
          "name": "stdout"
        }
      ]
    },
    {
      "cell_type": "code",
      "metadata": {
        "id": "vbV_UYtydmTx"
      },
      "source": [
        "checkpoint_callback = ModelCheckpoint(\n",
        "    dirpath=\"ANGRYBERT-lstm-checkpoints(-weights)\",\n",
        "    filename=\"ANGRYBERT-lstm-best-checkpoint\",\n",
        "    save_top_k=3,\n",
        "    verbose=True,\n",
        "    monitor=\"val_loss\",\n",
        "    mode=\"min\"\n",
        ")"
      ],
      "execution_count": null,
      "outputs": []
    },
    {
      "cell_type": "code",
      "metadata": {
        "id": "4-RmpccZdqEk"
      },
      "source": [
        "logger = TensorBoardLogger(\"ANGRYBERT-lstm-lightning_logs(-weights)\", name=\"topic-annotations\")"
      ],
      "execution_count": null,
      "outputs": []
    },
    {
      "cell_type": "code",
      "metadata": {
        "id": "aE7WyXJwdtoH"
      },
      "source": [
        "early_stopping_callback = EarlyStopping(monitor='val_loss', patience=3)"
      ],
      "execution_count": null,
      "outputs": []
    },
    {
      "cell_type": "code",
      "metadata": {
        "colab": {
          "base_uri": "https://localhost:8080/"
        },
        "id": "LWZpif0HdutD",
        "outputId": "577c9b8d-d049-4850-8827-381f7a416b12"
      },
      "source": [
        "trainer = pl.Trainer(\n",
        "    logger=logger,\n",
        "    checkpoint_callback=True,\n",
        "    callbacks=[checkpoint_callback, early_stopping_callback],\n",
        "    max_epochs=N_EPOCHS,\n",
        "    gpus=1,\n",
        "    progress_bar_refresh_rate=30\n",
        ")"
      ],
      "execution_count": null,
      "outputs": [
        {
          "output_type": "stream",
          "text": [
            "GPU available: True, used: True\n",
            "TPU available: False, using: 0 TPU cores\n",
            "IPU available: False, using: 0 IPUs\n"
          ],
          "name": "stderr"
        }
      ]
    },
    {
      "cell_type": "code",
      "metadata": {
        "colab": {
          "base_uri": "https://localhost:8080/",
          "height": 521,
          "referenced_widgets": [
            "15f642cbb5904d04a63591b930633837",
            "74330d75763d47efa78e36b03a344aae",
            "9d29f7f426164fdba86a7c1416ab31b4",
            "204f52762ce94004818a9f89189173e9",
            "387a3c640ca64cfa9329326fbffe9eba",
            "f28cd56ef67548a89845fa58f2b1759d",
            "864681ab99344df2864860a58732016b",
            "7fa6a78667584d11aed0c5544521e4e9",
            "dfaf9d79b4ce45e88832b365ccdce189",
            "be779bdef3c44a79a6a1530140508010",
            "1d88daefa96147109a6bbcfddce52954",
            "b5c7c7ad22a846bb8c7c120bc3be2ba0",
            "97ec72eda8cd464cbee7764fde45959d",
            "af7c0cea354d4d47bffe98d947420d70",
            "4061709c52d54f83a8c5770d208f6d87",
            "c0f7c60cf303498bafb03b78613e3b09",
            "dd70ca0cc355480d9bfd87dedcba5918",
            "439d85f2bed74f49a6f425ff6f66496c",
            "f1c1247daa0e45f9aee159e6921e709c",
            "bb4263f934c84dbbb4ef5c41655c4f7d",
            "dc1a6d0bbd854a4085c3079b1629f5d9",
            "ff9af6a1e9c44c86bb11350d1674c9bc",
            "f2f5e810e09b45fb90ff944f758a6f1d",
            "8c5d20bacc8b43099f080d9d76f4f119",
            "b4b448c2e2c543d9a510beca714dc69b",
            "5637c8a1bab54ad6849adcea3e1275f4",
            "4fc30f40faa047a4bfa17b09ad8728bf",
            "a496bd7435294d8e8faf2fa093916468",
            "196d08d2b1f2429ea3d08a2bebce5a20",
            "a0690e77e14e47e5a9f615c3a57f9ccf",
            "c3d753e8ad494a34bb010759e992cfca",
            "830f011300c14a2982d3c346c46fcdfd",
            "91b7d2288c3b45018ed19cd4bd5101ad",
            "6b600307139f4310a55ada086eb986c4",
            "a723860845e34fc1bc10f35c3a39267c",
            "dcb36d734df4433bbd7f38cd5e6882a8",
            "3f800c2166ef45ffafe612ab3a944fc8",
            "a7535af4886340bc95ec1056a8f7ff0d",
            "a78dc05f131644daa9205c0e3ddfc32f",
            "3966a8ed26164733bf86e968111b61f7",
            "d10dc64b408047a68d28121fc9ad3431",
            "c0808cade01748b394f46f078021895e",
            "132dbbc2d9804e3e932780a8a65f9bdc",
            "8ed31e6f3c1f4185b417398b1e0ab745"
          ]
        },
        "id": "K-O8JXQodvla",
        "outputId": "70c24082-819d-4167-c23b-e7de52338ff2"
      },
      "source": [
        "trainer.fit(model, data_module)"
      ],
      "execution_count": null,
      "outputs": [
        {
          "output_type": "stream",
          "text": [
            "LOCAL_RANK: 0 - CUDA_VISIBLE_DEVICES: [0]\n",
            "\n",
            "  | Name       | Type      | Params\n",
            "-----------------------------------------\n",
            "0 | bert       | BertModel | 109 M \n",
            "1 | bert_title | BertModel | 109 M \n",
            "2 | criterion  | BCELoss   | 0     \n",
            "3 | sigmoid    | Sigmoid   | 0     \n",
            "4 | dropout    | Dropout   | 0     \n",
            "5 | activation | ReLU      | 0     \n",
            "6 | gate       | Linear    | 786 K \n",
            "7 | ffn        | FFN       | 656 K \n",
            "8 | classifier | Linear    | 5.4 K \n",
            "-----------------------------------------\n",
            "220 M     Trainable params\n",
            "0         Non-trainable params\n",
            "220 M     Total params\n",
            "881.654   Total estimated model params size (MB)\n"
          ],
          "name": "stderr"
        },
        {
          "output_type": "display_data",
          "data": {
            "application/vnd.jupyter.widget-view+json": {
              "model_id": "15f642cbb5904d04a63591b930633837",
              "version_minor": 0,
              "version_major": 2
            },
            "text/plain": [
              "Validation sanity check: 0it [00:00, ?it/s]"
            ]
          },
          "metadata": {}
        },
        {
          "output_type": "stream",
          "text": [
            "Global seed set to 42\n"
          ],
          "name": "stderr"
        },
        {
          "output_type": "display_data",
          "data": {
            "application/vnd.jupyter.widget-view+json": {
              "model_id": "b5c7c7ad22a846bb8c7c120bc3be2ba0",
              "version_minor": 0,
              "version_major": 2
            },
            "text/plain": [
              "Training: -1it [00:00, ?it/s]"
            ]
          },
          "metadata": {}
        },
        {
          "output_type": "stream",
          "text": [
            "/usr/local/lib/python3.7/dist-packages/pytorch_lightning/trainer/connectors/logger_connector/result.py:398: LightningDeprecationWarning: One of the returned values {'labels', 'predictions'} has a `grad_fn`. We will detach it automatically but this behaviour will change in v1.6. Please detach it manually: `return {'loss': ..., 'something': something.detach()}`\n",
            "  f\"One of the returned values {set(extra.keys())} has a `grad_fn`. We will detach it automatically\"\n"
          ],
          "name": "stderr"
        },
        {
          "output_type": "display_data",
          "data": {
            "application/vnd.jupyter.widget-view+json": {
              "model_id": "f2f5e810e09b45fb90ff944f758a6f1d",
              "version_minor": 0,
              "version_major": 2
            },
            "text/plain": [
              "Validating: 0it [00:00, ?it/s]"
            ]
          },
          "metadata": {}
        },
        {
          "output_type": "stream",
          "text": [
            "/usr/local/lib/python3.7/dist-packages/deprecate/deprecation.py:115: LightningDeprecationWarning: The `auroc` was deprecated since v1.3.0 in favor of `torchmetrics.functional.classification.auroc.auroc`. It will be removed in v1.5.0.\n",
            "  stream(template_mgs % msg_args)\n",
            "Epoch 0, global step 3842: val_loss reached 0.15115 (best 0.15115), saving model to \"/content/drive/MyDrive/Biocreative/Biocreative/checkpoints_and_logs/ANGRYBERT-lstm-checkpoints(-weights)/ANGRYBERT-lstm-best-checkpoint.ckpt\" as top 3\n"
          ],
          "name": "stderr"
        },
        {
          "output_type": "display_data",
          "data": {
            "application/vnd.jupyter.widget-view+json": {
              "model_id": "6b600307139f4310a55ada086eb986c4",
              "version_minor": 0,
              "version_major": 2
            },
            "text/plain": [
              "Validating: 0it [00:00, ?it/s]"
            ]
          },
          "metadata": {}
        },
        {
          "output_type": "stream",
          "text": [
            "Epoch 1, global step 7685: val_loss reached 0.13989 (best 0.13989), saving model to \"/content/drive/MyDrive/Biocreative/Biocreative/checkpoints_and_logs/ANGRYBERT-lstm-checkpoints(-weights)/ANGRYBERT-lstm-best-checkpoint-v1.ckpt\" as top 3\n"
          ],
          "name": "stderr"
        }
      ]
    },
    {
      "cell_type": "markdown",
      "metadata": {
        "id": "UUhKS-dUegTd"
      },
      "source": [
        "### Test"
      ]
    },
    {
      "cell_type": "code",
      "metadata": {
        "colab": {
          "base_uri": "https://localhost:8080/"
        },
        "id": "y8AWlhyMdMEG",
        "outputId": "09b4fa48-fe26-430a-9390-9ad4cfe12bd1"
      },
      "source": [
        "trained_model = TopicAnnotationTagger.load_from_checkpoint('/content/drive/MyDrive/Biocreative/Biocreative/checkpoints_and_logs/ANGRYBERT-lwan-checkpoints/ANGRYBERT-lwan-best-checkpoint-v1.ckpt', n_classes=7)"
      ],
      "execution_count": null,
      "outputs": [
        {
          "output_type": "stream",
          "text": [
            "Some weights of the model checkpoint at microsoft/BiomedNLP-PubMedBERT-base-uncased-abstract-fulltext were not used when initializing BertModel: ['cls.predictions.decoder.bias', 'cls.predictions.transform.LayerNorm.weight', 'cls.predictions.transform.dense.bias', 'cls.predictions.transform.dense.weight', 'cls.seq_relationship.bias', 'cls.predictions.bias', 'cls.predictions.decoder.weight', 'cls.predictions.transform.LayerNorm.bias', 'cls.seq_relationship.weight']\n",
            "- This IS expected if you are initializing BertModel from the checkpoint of a model trained on another task or with another architecture (e.g. initializing a BertForSequenceClassification model from a BertForPreTraining model).\n",
            "- This IS NOT expected if you are initializing BertModel from the checkpoint of a model that you expect to be exactly identical (initializing a BertForSequenceClassification model from a BertForSequenceClassification model).\n",
            "Some weights of the model checkpoint at microsoft/BiomedNLP-PubMedBERT-base-uncased-abstract-fulltext were not used when initializing BertModel: ['cls.predictions.decoder.bias', 'cls.predictions.transform.LayerNorm.weight', 'cls.predictions.transform.dense.bias', 'cls.predictions.transform.dense.weight', 'cls.seq_relationship.bias', 'cls.predictions.bias', 'cls.predictions.decoder.weight', 'cls.predictions.transform.LayerNorm.bias', 'cls.seq_relationship.weight']\n",
            "- This IS expected if you are initializing BertModel from the checkpoint of a model trained on another task or with another architecture (e.g. initializing a BertForSequenceClassification model from a BertForPreTraining model).\n",
            "- This IS NOT expected if you are initializing BertModel from the checkpoint of a model that you expect to be exactly identical (initializing a BertForSequenceClassification model from a BertForSequenceClassification model).\n"
          ],
          "name": "stderr"
        }
      ]
    },
    {
      "cell_type": "code",
      "metadata": {
        "id": "3rM_yhw6vGls"
      },
      "source": [
        "trained_model.freeze()"
      ],
      "execution_count": null,
      "outputs": []
    },
    {
      "cell_type": "markdown",
      "metadata": {
        "id": "_qfT86eMvlk5"
      },
      "source": [
        "### Evaluation"
      ]
    },
    {
      "cell_type": "code",
      "metadata": {
        "id": "glq9LWq4rMEH"
      },
      "source": [
        "device = torch.device('cuda' if torch.cuda.is_available() else 'cpu')\n",
        "trained_model = trained_model.to(device)\n",
        "\n",
        "val_dataset = TopicAnnotationDataset(\n",
        "    val_df,\n",
        "    tokenizer,\n",
        "    max_token_len=MAX_TOKEN_COUNT\n",
        ")"
      ],
      "execution_count": null,
      "outputs": []
    },
    {
      "cell_type": "code",
      "metadata": {
        "colab": {
          "base_uri": "https://localhost:8080/",
          "height": 49,
          "referenced_widgets": [
            "2e3f4d3d84d2462e82ba534606f8a294",
            "e1d3b00f8ced44aa906c09fcd2b790dd",
            "dcc945c41c9a492f8e69866b130b6892",
            "ff53d1341f7546e69d91885a57c5b430",
            "d73f9695bc664a9f9501fe7d2d132665",
            "81d852b3983a4e8f8cc7310ee5d9d988",
            "d19551c255fc4300a0540ef4019b1e28",
            "de44c9dab47d45f88f646acee9128f53",
            "c324eab591b04c1a9cd5a8fddd102b94",
            "aced56044998436294811773d25b186d",
            "84556071fbb14162ae974883aa62ffeb"
          ]
        },
        "id": "nGt5QcfWwO8P",
        "outputId": "b41b1f44-26d6-4705-8366-ca86783cb187"
      },
      "source": [
        "predictions = []\n",
        "labels = []\n",
        "\n",
        "for item in tqdm(val_dataset):\n",
        "\n",
        "  _, prediction = trained_model(\n",
        "      item[\"input_ids\"].unsqueeze(dim=0).to(device),\n",
        "      item[\"attention_mask\"].unsqueeze(dim=0).to(device),    \n",
        "      item[\"title_input_ids\"].unsqueeze(dim=0).to(device),\n",
        "      item[\"title_attention_mask\"].unsqueeze(dim=0).to(device)\n",
        "  )\n",
        "  \n",
        "  predictions.append(prediction.flatten())\n",
        "  labels.append(item[\"labels\"].int())\n",
        "\n",
        "predictions = torch.stack(predictions).detach().cpu()\n",
        "labels = torch.stack(labels).detach().cpu()"
      ],
      "execution_count": null,
      "outputs": [
        {
          "output_type": "display_data",
          "data": {
            "application/vnd.jupyter.widget-view+json": {
              "model_id": "2e3f4d3d84d2462e82ba534606f8a294",
              "version_minor": 0,
              "version_major": 2
            },
            "text/plain": [
              "  0%|          | 0/3423 [00:00<?, ?it/s]"
            ]
          },
          "metadata": {}
        }
      ]
    },
    {
      "cell_type": "markdown",
      "metadata": {
        "id": "pixwbhCQZzEa"
      },
      "source": [
        "#### data analysis"
      ]
    },
    {
      "cell_type": "code",
      "metadata": {
        "id": "ZmzSFy2u_qXD"
      },
      "source": [
        "# convert prediction in boolean labels\n",
        "y_pred = (predictions > 0.65).type(torch.uint8)\n",
        "y_true = labels  "
      ],
      "execution_count": null,
      "outputs": []
    },
    {
      "cell_type": "code",
      "metadata": {
        "id": "qRCIkiW4AzVy"
      },
      "source": [
        "# count non-zero values\n",
        "true_counts = y_true.count_nonzero(dim=1)\n",
        "pred_counts = y_pred.count_nonzero(dim=1)"
      ],
      "execution_count": null,
      "outputs": []
    },
    {
      "cell_type": "code",
      "metadata": {
        "colab": {
          "base_uri": "https://localhost:8080/"
        },
        "id": "7wf7RTbuCj7d",
        "outputId": "c45446d6-46fa-484b-8fba-a8c4dfc47cbf"
      },
      "source": [
        "# dict mapping for count -> key \n",
        "unique, counts = true_counts.unique(return_counts=True)\n",
        "true_count_dict = dict(zip(unique.tolist(), counts.tolist()))\n",
        "print(true_count_dict)"
      ],
      "execution_count": null,
      "outputs": [
        {
          "name": "stdout",
          "output_type": "stream",
          "text": [
            "{1: 18927, 2: 8069, 3: 930, 4: 130, 5: 19}\n"
          ]
        }
      ]
    },
    {
      "cell_type": "code",
      "metadata": {
        "colab": {
          "base_uri": "https://localhost:8080/"
        },
        "id": "kCL9XGJBGwTW",
        "outputId": "47d0b760-5de0-4f77-aef1-b6ff75041e85"
      },
      "source": [
        "X = [1, 2, 3, 4, 5]\n",
        "for label in X:\n",
        "  try:\n",
        "    val = true_count_dict[label]\n",
        "  except Exception as e:\n",
        "    true_count_dict[label] = 0\n",
        "\n",
        "true_count_dict"
      ],
      "execution_count": null,
      "outputs": [
        {
          "data": {
            "text/plain": [
              "{1: 18927, 2: 8069, 3: 930, 4: 130, 5: 19}"
            ]
          },
          "execution_count": 146,
          "metadata": {},
          "output_type": "execute_result"
        }
      ]
    },
    {
      "cell_type": "code",
      "metadata": {
        "colab": {
          "base_uri": "https://localhost:8080/"
        },
        "id": "krCFXaRkDtzO",
        "outputId": "e85e15ca-973b-4cb9-bb76-8967f86e12c0"
      },
      "source": [
        "# dict mapping for count -> key\n",
        "pred_count_dict = {\n",
        "    1: 0,\n",
        "    2: 0,\n",
        "    3: 0,\n",
        "    4: 0,\n",
        "    5: 0\n",
        "}\n",
        "\n",
        "for idx, value in enumerate(true_counts):\n",
        "  if value == pred_counts[idx]: \n",
        "    pred_count_dict[value.tolist()] += 1\n",
        "  else:\n",
        "    pass\n",
        "\n",
        "pred_count_dict"
      ],
      "execution_count": null,
      "outputs": [
        {
          "data": {
            "text/plain": [
              "{1: 17165, 2: 5652, 3: 380, 4: 25, 5: 2}"
            ]
          },
          "execution_count": 147,
          "metadata": {},
          "output_type": "execute_result"
        }
      ]
    },
    {
      "cell_type": "code",
      "metadata": {
        "colab": {
          "base_uri": "https://localhost:8080/",
          "height": 632
        },
        "id": "2YhqCvhBEUOb",
        "outputId": "433ef7f2-52f8-40f6-b8a5-0a638607cd38"
      },
      "source": [
        "X = [\"1\", \"2\", \"3\", \"4\", \"5\"]\n",
        "\n",
        "# creating the dataset \n",
        "keys = list(pred_count_dict.keys()) \n",
        "pred_values = list(pred_count_dict.values()) \n",
        "true_values = list(true_count_dict.values())\n",
        "\n",
        "keys = np.array(keys)\n",
        "\n",
        "fig = plt.figure(figsize = (10, 10)) \n",
        "  \n",
        "# creating the bar plot \n",
        "plt.bar(keys - 0.2, true_values, 0.4, label = 'True Label')\n",
        "plt.bar(keys + 0.2, pred_values, 0.4, label = 'Prediction')\n",
        "\n",
        "plt.xticks(keys, X)\n",
        "plt.xlabel(\"Count of labels\")\n",
        "plt.ylabel(\"Counts\")\n",
        "plt.title(\"Transmission predicted v/s true\")\n",
        "plt.legend()\n",
        "plt.show() "
      ],
      "execution_count": null,
      "outputs": [
        {
          "data": {
            "image/png": "[encoded data removed]",
            "text/plain": [
              "<Figure size 720x720 with 1 Axes>"
            ]
          },
          "metadata": {
            "image/png": {
              "height": 615,
              "width": 641
            }
          },
          "output_type": "display_data"
        }
      ]
    },
    {
      "cell_type": "code",
      "metadata": {
        "colab": {
          "base_uri": "https://localhost:8080/"
        },
        "id": "5mWHzCoNUM8-",
        "outputId": "68e285f8-79bb-4447-b2ac-1a176566511d"
      },
      "source": [
        "class_dict_pred = dict(zip(LABEL_COLUMNS, [0]*7))\n",
        "class_dict_true = dict(zip(LABEL_COLUMNS, [0]*7))\n",
        "class_dict_pred, class_dict_true"
      ],
      "execution_count": null,
      "outputs": [
        {
          "data": {
            "text/plain": [
              "({'Case Report': 0,\n",
              "  'Diagnosis': 0,\n",
              "  'Epidemic Forecasting': 0,\n",
              "  'Mechanism': 0,\n",
              "  'Prevention': 0,\n",
              "  'Transmission': 0,\n",
              "  'Treatment': 0},\n",
              " {'Case Report': 0,\n",
              "  'Diagnosis': 0,\n",
              "  'Epidemic Forecasting': 0,\n",
              "  'Mechanism': 0,\n",
              "  'Prevention': 0,\n",
              "  'Transmission': 0,\n",
              "  'Treatment': 0})"
            ]
          },
          "execution_count": 114,
          "metadata": {},
          "output_type": "execute_result"
        }
      ]
    },
    {
      "cell_type": "code",
      "metadata": {
        "colab": {
          "base_uri": "https://localhost:8080/"
        },
        "id": "dJHW48HcFAmT",
        "outputId": "93a91884-1f32-4d14-fd0d-bfa6341f0fda"
      },
      "source": [
        "THRESHOLD = 0.5\n",
        "print(LABEL_COLUMNS)\n",
        "\n",
        "for item in val_dataset:\n",
        "\n",
        "  labels = item[\"labels\"].numpy()\n",
        "  count = np.count_nonzero(labels)\n",
        "\n",
        "  if count == 2:\n",
        "    \n",
        "    _, prediction = trained_model(\n",
        "        item[\"input_ids\"].unsqueeze(dim=0).to(device),\n",
        "        item[\"attention_mask\"].unsqueeze(dim=0).to(device)\n",
        "    )\n",
        "\n",
        "    # print((prediction > THRESHOLD).type(torch.uint8))\n",
        "\n",
        "    prediction = prediction.cpu()\n",
        "\n",
        "    for idx, key in enumerate(class_dict_pred.keys()):\n",
        "\n",
        "      class_dict_pred[key] += (prediction[0, idx] > THRESHOLD).type(torch.uint8)\n",
        "\n",
        "    for idx, key in enumerate(class_dict_true.keys()):\n",
        "      class_dict_true[key] += labels[idx]"
      ],
      "execution_count": null,
      "outputs": [
        {
          "name": "stdout",
          "output_type": "stream",
          "text": [
            "['Case Report', 'Diagnosis', 'Epidemic Forecasting', 'Mechanism', 'Prevention', 'Transmission', 'Treatment']\n"
          ]
        }
      ]
    },
    {
      "cell_type": "code",
      "metadata": {
        "colab": {
          "base_uri": "https://localhost:8080/"
        },
        "id": "_roLMQneXw5_",
        "outputId": "06be91f5-8712-47ef-fcf4-cdc83dec66e2"
      },
      "source": [
        "for key, value in class_dict_pred.items():\n",
        "\n",
        "  class_dict_pred[key] = value.numpy().item()\n",
        "\n",
        "print(class_dict_pred)\n",
        "print(class_dict_true)"
      ],
      "execution_count": null,
      "outputs": [
        {
          "name": "stdout",
          "output_type": "stream",
          "text": [
            "{'Case Report': 2, 'Diagnosis': 112, 'Epidemic Forecasting': 52, 'Mechanism': 45, 'Prevention': 18, 'Transmission': 3, 'Treatment': 21}\n",
            "{'Case Report': 0.0, 'Diagnosis': 119.0, 'Epidemic Forecasting': 19.0, 'Mechanism': 129.0, 'Prevention': 482.0, 'Transmission': 755.0, 'Treatment': 6.0}\n"
          ]
        }
      ]
    },
    {
      "cell_type": "code",
      "metadata": {
        "colab": {
          "base_uri": "https://localhost:8080/",
          "height": 411
        },
        "id": "L-hx5A-lX7Mg",
        "outputId": "3ec87c34-b368-49f0-8f70-a351f15e8b1e"
      },
      "source": [
        "keys = class_dict_pred.keys()\n",
        "values = class_dict_pred.values()\n",
        "\n",
        "# Creating plot\n",
        "fig = plt.figure(figsize =(10, 7))\n",
        "plt.pie(values, labels = keys)\n",
        "  \n",
        "# show plot\n",
        "plt.show()"
      ],
      "execution_count": null,
      "outputs": [
        {
          "data": {
            "image/png": "[encoded data removed]",
            "text/plain": [
              "<Figure size 720x504 with 1 Axes>"
            ]
          },
          "metadata": {
            "image/png": {
              "height": 394,
              "width": 561
            }
          },
          "output_type": "display_data"
        }
      ]
    },
    {
      "cell_type": "code",
      "metadata": {
        "colab": {
          "base_uri": "https://localhost:8080/",
          "height": 428
        },
        "id": "e8LnJTrPaAZ4",
        "outputId": "ec985fb8-86f7-4815-de50-fe1e8f411772"
      },
      "source": [
        "keys = class_dict_true.keys()\n",
        "values = class_dict_true.values()\n",
        "\n",
        "# Creating plot\n",
        "fig = plt.figure(figsize =(10, 7))\n",
        "plt.pie(values, labels = keys)\n",
        "plt.title(\"Transmission train set double label class distribution\")\n",
        "# show plot\n",
        "plt.show()"
      ],
      "execution_count": null,
      "outputs": [
        {
          "data": {
            "image/png": "[encoded data removed]",
            "text/plain": [
              "<Figure size 720x504 with 1 Axes>"
            ]
          },
          "metadata": {
            "image/png": {
              "height": 411,
              "width": 490
            }
          },
          "output_type": "display_data"
        }
      ]
    },
    {
      "cell_type": "markdown",
      "metadata": {
        "id": "Jl2e8HrYxnLo"
      },
      "source": [
        "#### Accuracy"
      ]
    },
    {
      "cell_type": "code",
      "metadata": {
        "id": "UUxXohXBs8S8"
      },
      "source": [
        "THRESHOLD = 0.5"
      ],
      "execution_count": null,
      "outputs": []
    },
    {
      "cell_type": "code",
      "metadata": {
        "colab": {
          "base_uri": "https://localhost:8080/"
        },
        "id": "-RhDp0o7w1GD",
        "outputId": "3b0c3fa1-304c-4724-adf6-f70a3877e2f5"
      },
      "source": [
        "# calculating the accuracy of the model\n",
        "accuracy(predictions, labels, threshold=THRESHOLD)"
      ],
      "execution_count": null,
      "outputs": [
        {
          "output_type": "execute_result",
          "data": {
            "text/plain": [
              "tensor(0.9526)"
            ]
          },
          "metadata": {},
          "execution_count": 71
        }
      ]
    },
    {
      "cell_type": "markdown",
      "metadata": {
        "id": "QMhUJT1nxoyE"
      },
      "source": [
        "#### ROC for each tag"
      ]
    },
    {
      "cell_type": "code",
      "metadata": {
        "colab": {
          "base_uri": "https://localhost:8080/"
        },
        "id": "Wkj_cQnixQcG",
        "outputId": "32a6ba94-8998-4644-b18f-d022d9c63ce6"
      },
      "source": [
        "print(\"AUROC per tag\")\n",
        "for i, name in enumerate(LABEL_COLUMNS):\n",
        "  tag_auroc = auroc(predictions[:, i], labels[:, i], pos_label=1)\n",
        "  print(f\"{name}: {tag_auroc}\")"
      ],
      "execution_count": null,
      "outputs": [
        {
          "output_type": "stream",
          "text": [
            "AUROC per tag\n",
            "Case Report: 0.9917894601821899\n",
            "Diagnosis: 0.9743337631225586\n",
            "Epidemic Forecasting: 0.9887785315513611\n",
            "Mechanism: 0.9831726551055908\n",
            "Prevention: 0.9782962799072266\n",
            "Transmission: 0.9841275215148926\n",
            "Treatment: 0.9726817607879639\n"
          ],
          "name": "stdout"
        }
      ]
    },
    {
      "cell_type": "markdown",
      "metadata": {
        "id": "0zrMwXqxx3mZ"
      },
      "source": [
        "#### classification report for each class"
      ]
    },
    {
      "cell_type": "code",
      "metadata": {
        "colab": {
          "base_uri": "https://localhost:8080/"
        },
        "id": "vHeUP0Foxvj6",
        "outputId": "fc8db398-e0f3-4424-f787-a65256fea961"
      },
      "source": [
        "y_pred = predictions.numpy()\n",
        "y_true = labels.numpy()\n",
        "\n",
        "upper, lower = 1, 0\n",
        "\n",
        "y_pred = np.where(y_pred > 0.5, upper, lower)\n",
        "\n",
        "print(\n",
        "    classification_report(\n",
        "        y_true,\n",
        "        y_pred,\n",
        "        digits=4,\n",
        "        target_names=LABEL_COLUMNS,\n",
        "        zero_division=0\n",
        "    )\n",
        ")"
      ],
      "execution_count": null,
      "outputs": [
        {
          "output_type": "stream",
          "text": [
            "                      precision    recall  f1-score   support\n",
            "\n",
            "         Case Report     0.8929    0.9073    0.9000       248\n",
            "           Diagnosis     0.8585    0.8564    0.8575       815\n",
            "Epidemic Forecasting     0.8457    0.8253    0.8354       166\n",
            "           Mechanism     0.8657    0.8856    0.8755       568\n",
            "          Prevention     0.9396    0.8977    0.9182      1613\n",
            "        Transmission     0.8177    0.8153    0.8165       352\n",
            "           Treatment     0.8718    0.8791    0.8754      1075\n",
            "\n",
            "           micro avg     0.8869    0.8772    0.8820      4837\n",
            "           macro avg     0.8703    0.8667    0.8684      4837\n",
            "        weighted avg     0.8877    0.8772    0.8823      4837\n",
            "         samples avg     0.9041    0.9059    0.8904      4837\n",
            "\n"
          ],
          "name": "stdout"
        }
      ]
    },
    {
      "cell_type": "code",
      "metadata": {
        "colab": {
          "base_uri": "https://localhost:8080/"
        },
        "id": "-AQJaDNN0AOW",
        "outputId": "f7964659-e6d6-48a9-8f9c-e0691fded410"
      },
      "source": [
        "THRESHOLD = [0.5, 0.55, 0.6, 0.65, 0.67, 0.7, 0.75, 0.8, 0.85, 0.9, 0.95]\n",
        "\n",
        "for threshold in THRESHOLD:\n",
        "  y_pred = predictions.numpy()\n",
        "  y_true = labels.numpy()\n",
        "\n",
        "  upper, lower = 1, 0\n",
        "\n",
        "  y_pred = np.where(y_pred > threshold, upper, lower)\n",
        "\n",
        "  print(f\"Threshold: {threshold}\")\n",
        "\n",
        "  print(\n",
        "      classification_report(\n",
        "          y_true,\n",
        "          y_pred,\n",
        "          digits=4,\n",
        "          target_names=LABEL_COLUMNS,\n",
        "          zero_division=0\n",
        "          )\n",
        "      )"
      ],
      "execution_count": null,
      "outputs": [
        {
          "output_type": "stream",
          "text": [
            "Threshold: 0.5\n",
            "                      precision    recall  f1-score   support\n",
            "\n",
            "         Case Report     0.8929    0.9073    0.9000       248\n",
            "           Diagnosis     0.8585    0.8564    0.8575       815\n",
            "Epidemic Forecasting     0.8457    0.8253    0.8354       166\n",
            "           Mechanism     0.8657    0.8856    0.8755       568\n",
            "          Prevention     0.9396    0.8977    0.9182      1613\n",
            "        Transmission     0.8177    0.8153    0.8165       352\n",
            "           Treatment     0.8718    0.8791    0.8754      1075\n",
            "\n",
            "           micro avg     0.8869    0.8772    0.8820      4837\n",
            "           macro avg     0.8703    0.8667    0.8684      4837\n",
            "        weighted avg     0.8877    0.8772    0.8823      4837\n",
            "         samples avg     0.9041    0.9059    0.8904      4837\n",
            "\n",
            "Threshold: 0.55\n",
            "                      precision    recall  f1-score   support\n",
            "\n",
            "         Case Report     0.9032    0.9032    0.9032       248\n",
            "           Diagnosis     0.8671    0.8405    0.8536       815\n",
            "Epidemic Forecasting     0.8662    0.8193    0.8421       166\n",
            "           Mechanism     0.8722    0.8768    0.8745       568\n",
            "          Prevention     0.9471    0.8884    0.9168      1613\n",
            "        Transmission     0.8256    0.8068    0.8161       352\n",
            "           Treatment     0.8837    0.8623    0.8729      1075\n",
            "\n",
            "           micro avg     0.8962    0.8656    0.8806      4837\n",
            "           macro avg     0.8807    0.8568    0.8685      4837\n",
            "        weighted avg     0.8969    0.8656    0.8808      4837\n",
            "         samples avg     0.9081    0.8976    0.8880      4837\n",
            "\n",
            "Threshold: 0.6\n",
            "                      precision    recall  f1-score   support\n",
            "\n",
            "         Case Report     0.9247    0.8911    0.9076       248\n",
            "           Diagnosis     0.8801    0.8282    0.8534       815\n",
            "Epidemic Forecasting     0.8980    0.7952    0.8435       166\n",
            "           Mechanism     0.8801    0.8662    0.8731       568\n",
            "          Prevention     0.9507    0.8723    0.9098      1613\n",
            "        Transmission     0.8480    0.7926    0.8194       352\n",
            "           Treatment     0.8933    0.8493    0.8708      1075\n",
            "\n",
            "           micro avg     0.9067    0.8516    0.8783      4837\n",
            "           macro avg     0.8964    0.8421    0.8682      4837\n",
            "        weighted avg     0.9071    0.8516    0.8783      4837\n",
            "         samples avg     0.9111    0.8864    0.8839      4837\n",
            "\n",
            "Threshold: 0.65\n",
            "                      precision    recall  f1-score   support\n",
            "\n",
            "         Case Report     0.9440    0.8831    0.9125       248\n",
            "           Diagnosis     0.8938    0.8160    0.8531       815\n",
            "Epidemic Forecasting     0.8993    0.7530    0.8197       166\n",
            "           Mechanism     0.8862    0.8504    0.8679       568\n",
            "          Prevention     0.9573    0.8481    0.8994      1613\n",
            "        Transmission     0.8549    0.7699    0.8102       352\n",
            "           Treatment     0.8988    0.8344    0.8654      1075\n",
            "\n",
            "           micro avg     0.9146    0.8327    0.8718      4837\n",
            "           macro avg     0.9049    0.8221    0.8612      4837\n",
            "        weighted avg     0.9151    0.8327    0.8718      4837\n",
            "         samples avg     0.9118    0.8714    0.8763      4837\n",
            "\n",
            "Threshold: 0.67\n",
            "                      precision    recall  f1-score   support\n",
            "\n",
            "         Case Report     0.9515    0.8710    0.9095       248\n",
            "           Diagnosis     0.8980    0.8098    0.8516       815\n",
            "Epidemic Forecasting     0.8986    0.7470    0.8158       166\n",
            "           Mechanism     0.8872    0.8451    0.8656       568\n",
            "          Prevention     0.9612    0.8438    0.8986      1613\n",
            "        Transmission     0.8553    0.7557    0.8024       352\n",
            "           Treatment     0.9042    0.8251    0.8628      1075\n",
            "\n",
            "           micro avg     0.9184    0.8257    0.8696      4837\n",
            "           macro avg     0.9080    0.8139    0.8581      4837\n",
            "        weighted avg     0.9188    0.8257    0.8696      4837\n",
            "         samples avg     0.9131    0.8663    0.8738      4837\n",
            "\n",
            "Threshold: 0.7\n",
            "                      precision    recall  f1-score   support\n",
            "\n",
            "         Case Report     0.9552    0.8589    0.9045       248\n",
            "           Diagnosis     0.8994    0.8012    0.8475       815\n",
            "Epidemic Forecasting     0.8963    0.7289    0.8040       166\n",
            "           Mechanism     0.9000    0.8398    0.8689       568\n",
            "          Prevention     0.9629    0.8376    0.8959      1613\n",
            "        Transmission     0.8590    0.7443    0.7976       352\n",
            "           Treatment     0.9076    0.8130    0.8577      1075\n",
            "\n",
            "           micro avg     0.9221    0.8168    0.8663      4837\n",
            "           macro avg     0.9115    0.8034    0.8537      4837\n",
            "        weighted avg     0.9223    0.8168    0.8662      4837\n",
            "         samples avg     0.9111    0.8590    0.8690      4837\n",
            "\n",
            "Threshold: 0.75\n",
            "                      precision    recall  f1-score   support\n",
            "\n",
            "         Case Report     0.9680    0.8548    0.9079       248\n",
            "           Diagnosis     0.9118    0.7742    0.8374       815\n",
            "Epidemic Forecasting     0.9187    0.6807    0.7820       166\n",
            "           Mechanism     0.9072    0.8257    0.8645       568\n",
            "          Prevention     0.9693    0.8215    0.8893      1613\n",
            "        Transmission     0.8610    0.7216    0.7852       352\n",
            "           Treatment     0.9133    0.7935    0.8492      1075\n",
            "\n",
            "           micro avg     0.9301    0.7974    0.8586      4837\n",
            "           macro avg     0.9213    0.7817    0.8451      4837\n",
            "        weighted avg     0.9302    0.7974    0.8584      4837\n",
            "         samples avg     0.9077    0.8439    0.8589      4837\n",
            "\n",
            "Threshold: 0.8\n",
            "                      precision    recall  f1-score   support\n",
            "\n",
            "         Case Report     0.9721    0.8427    0.9028       248\n",
            "           Diagnosis     0.9196    0.7436    0.8223       815\n",
            "Epidemic Forecasting     0.9464    0.6386    0.7626       166\n",
            "           Mechanism     0.9175    0.8028    0.8563       568\n",
            "          Prevention     0.9737    0.8022    0.8797      1613\n",
            "        Transmission     0.8963    0.6875    0.7781       352\n",
            "           Treatment     0.9319    0.7637    0.8395      1075\n",
            "\n",
            "           micro avg     0.9422    0.7720    0.8486      4837\n",
            "           macro avg     0.9368    0.7544    0.8345      4837\n",
            "        weighted avg     0.9420    0.7720    0.8481      4837\n",
            "         samples avg     0.8992    0.8232    0.8438      4837\n",
            "\n",
            "Threshold: 0.85\n",
            "                      precision    recall  f1-score   support\n",
            "\n",
            "         Case Report     0.9758    0.8145    0.8879       248\n",
            "           Diagnosis     0.9352    0.7080    0.8059       815\n",
            "Epidemic Forecasting     0.9697    0.5783    0.7245       166\n",
            "           Mechanism     0.9213    0.7623    0.8343       568\n",
            "          Prevention     0.9773    0.7756    0.8648      1613\n",
            "        Transmission     0.9241    0.6222    0.7436       352\n",
            "           Treatment     0.9339    0.7358    0.8231      1075\n",
            "\n",
            "           micro avg     0.9500    0.7379    0.8306      4837\n",
            "           macro avg     0.9482    0.7138    0.8120      4837\n",
            "        weighted avg     0.9498    0.7379    0.8296      4837\n",
            "         samples avg     0.8788    0.7955    0.8192      4837\n",
            "\n",
            "Threshold: 0.9\n",
            "                      precision    recall  f1-score   support\n",
            "\n",
            "         Case Report     0.9789    0.7500    0.8493       248\n",
            "           Diagnosis     0.9414    0.6503    0.7692       815\n",
            "Epidemic Forecasting     0.9756    0.4819    0.6452       166\n",
            "           Mechanism     0.9391    0.7324    0.8229       568\n",
            "          Prevention     0.9859    0.7347    0.8419      1613\n",
            "        Transmission     0.9579    0.5170    0.6716       352\n",
            "           Treatment     0.9534    0.6847    0.7970      1075\n",
            "\n",
            "           micro avg     0.9631    0.6853    0.8008      4837\n",
            "           macro avg     0.9617    0.6501    0.7710      4837\n",
            "        weighted avg     0.9629    0.6853    0.7987      4837\n",
            "         samples avg     0.8421    0.7510    0.7781      4837\n",
            "\n",
            "Threshold: 0.95\n",
            "                      precision    recall  f1-score   support\n",
            "\n",
            "         Case Report     0.9815    0.6411    0.7756       248\n",
            "           Diagnosis     0.9600    0.5595    0.7070       815\n",
            "Epidemic Forecasting     0.9821    0.3313    0.4955       166\n",
            "           Mechanism     0.9673    0.6761    0.7959       568\n",
            "          Prevention     0.9898    0.6646    0.7953      1613\n",
            "        Transmission     0.9764    0.3523    0.5177       352\n",
            "           Treatment     0.9767    0.5460    0.7005      1075\n",
            "\n",
            "           micro avg     0.9779    0.5865    0.7333      4837\n",
            "           macro avg     0.9763    0.5387    0.6839      4837\n",
            "        weighted avg     0.9776    0.5865    0.7279      4837\n",
            "         samples avg     0.7603    0.6634    0.6939      4837\n",
            "\n"
          ],
          "name": "stdout"
        }
      ]
    },
    {
      "cell_type": "code",
      "metadata": {
        "colab": {
          "base_uri": "https://localhost:8080/"
        },
        "id": "PTZ9lrEttGnt",
        "outputId": "4562d65b-4fec-4fac-8ec4-4347e7a9dce9"
      },
      "source": [
        "THRESHOLD = [threshold/100 for threshold in range(10, 100, 1)]\n",
        "print(THRESHOLD)"
      ],
      "execution_count": null,
      "outputs": [
        {
          "output_type": "stream",
          "text": [
            "[0.1, 0.11, 0.12, 0.13, 0.14, 0.15, 0.16, 0.17, 0.18, 0.19, 0.2, 0.21, 0.22, 0.23, 0.24, 0.25, 0.26, 0.27, 0.28, 0.29, 0.3, 0.31, 0.32, 0.33, 0.34, 0.35, 0.36, 0.37, 0.38, 0.39, 0.4, 0.41, 0.42, 0.43, 0.44, 0.45, 0.46, 0.47, 0.48, 0.49, 0.5, 0.51, 0.52, 0.53, 0.54, 0.55, 0.56, 0.57, 0.58, 0.59, 0.6, 0.61, 0.62, 0.63, 0.64, 0.65, 0.66, 0.67, 0.68, 0.69, 0.7, 0.71, 0.72, 0.73, 0.74, 0.75, 0.76, 0.77, 0.78, 0.79, 0.8, 0.81, 0.82, 0.83, 0.84, 0.85, 0.86, 0.87, 0.88, 0.89, 0.9, 0.91, 0.92, 0.93, 0.94, 0.95, 0.96, 0.97, 0.98, 0.99]\n"
          ],
          "name": "stdout"
        }
      ]
    },
    {
      "cell_type": "code",
      "metadata": {
        "id": "L23St_k6kWMT"
      },
      "source": [
        "Class_report = dict()\n",
        "\n",
        "for threshold in THRESHOLD:\n",
        "  y_pred = predictions.numpy()\n",
        "  y_true = labels.numpy()\n",
        "\n",
        "  upper, lower = 1, 0\n",
        "\n",
        "  y_pred = np.where(y_pred > threshold, upper, lower)\n",
        "\n",
        "  Class_report[f\"THRESHOLD:{threshold}\"] = classification_report(\n",
        "      y_true,\n",
        "      y_pred,\n",
        "      target_names=LABEL_COLUMNS,\n",
        "      zero_division=0,\n",
        "      output_dict=True\n",
        "  )"
      ],
      "execution_count": null,
      "outputs": []
    },
    {
      "cell_type": "code",
      "metadata": {
        "id": "RO-mClKnkbyx"
      },
      "source": [
        "micro_F1_Scores = [Class_report[key][\"micro avg\"][\"f1-score\"] for key in Class_report.keys()]\n",
        "macro_F1_Scores = [Class_report[key][\"macro avg\"][\"f1-score\"] for key in Class_report.keys()]"
      ],
      "execution_count": null,
      "outputs": []
    },
    {
      "cell_type": "code",
      "metadata": {
        "colab": {
          "base_uri": "https://localhost:8080/",
          "height": 488
        },
        "id": "H22BEzj_kh69",
        "outputId": "10b8b2ae-f208-4412-9314-20876400e8d7"
      },
      "source": [
        "import seaborn as sns\n",
        "import matplotlib.pyplot as plt\n",
        "\n",
        "x = np.arange(10, 100, 1)/100\n",
        "y1 = np.array(micro_F1_Scores)\n",
        "y2 = np.array(macro_F1_Scores)\n",
        "\n",
        "plt.plot(x, y1, 'r')  \n",
        "plt.plot(x, y2, 'b') \n",
        "plt.show()"
      ],
      "execution_count": null,
      "outputs": [
        {
          "output_type": "display_data",
          "data": {
            "image/png": "[encoded data removed]",
            "text/plain": [
              "<Figure size 864x576 with 1 Axes>"
            ]
          },
          "metadata": {
            "image/png": {
              "width": 714,
              "height": 471
            }
          }
        }
      ]
    },
    {
      "cell_type": "code",
      "metadata": {
        "colab": {
          "base_uri": "https://localhost:8080/"
        },
        "id": "A1IFeN1jtH0Z",
        "outputId": "ceecd712-0779-4d76-ec91-2bcc09aeb11e"
      },
      "source": [
        "max(micro_F1_Scores), np.argmax(micro_F1_Scores), x[41]"
      ],
      "execution_count": null,
      "outputs": [
        {
          "output_type": "execute_result",
          "data": {
            "text/plain": [
              "(0.8815789473684209, 41, 0.51)"
            ]
          },
          "metadata": {},
          "execution_count": 44
        }
      ]
    },
    {
      "cell_type": "code",
      "metadata": {
        "id": "lgPvmUBIyfN7"
      },
      "source": [
        "Annotation_size = {\n",
        "    \"Type_1\": [],\n",
        "    \"Type_2\": [],\n",
        "    \"Type_3\": [],\n",
        "    \"Type_4g\": []\n",
        "}"
      ],
      "execution_count": null,
      "outputs": []
    },
    {
      "cell_type": "code",
      "metadata": {
        "id": "MPULm2CxuVOF"
      },
      "source": [
        "for index, annotation in enumerate(labels):\n",
        "\n",
        "  annotation = annotation.numpy()\n",
        "  count = np.count_nonzero(annotation)\n",
        "  if count == 1:\n",
        "    Annotation_size[\"Type_1\"].append(index)\n",
        "  elif count == 2:\n",
        "    Annotation_size[\"Type_2\"].append(index)\n",
        "  elif count == 3:\n",
        "    Annotation_size[\"Type_3\"].append(index)\n",
        "  else:\n",
        "    Annotation_size[\"Type_4g\"].append(index)"
      ],
      "execution_count": null,
      "outputs": []
    },
    {
      "cell_type": "markdown",
      "metadata": {
        "id": "MDVgcZJ8wOqs"
      },
      "source": [
        "#### Classification Reports based on annotation counts"
      ]
    },
    {
      "cell_type": "code",
      "metadata": {
        "id": "9Eh98fF5uw0d"
      },
      "source": [
        "# Annotation equals once\n",
        "\n",
        "Type_1_predictions = predictions[Annotation_size[\"Type_1\"]]\n",
        "Type_1_labels = labels[Annotation_size[\"Type_1\"]]"
      ],
      "execution_count": null,
      "outputs": []
    },
    {
      "cell_type": "code",
      "metadata": {
        "colab": {
          "base_uri": "https://localhost:8080/"
        },
        "id": "7ffmQVlHv0cH",
        "outputId": "20cc0001-1f59-4f78-f6f5-697879014f26"
      },
      "source": [
        "y_pred = Type_1_predictions.numpy()\n",
        "y_true = Type_1_labels.numpy()\n",
        "\n",
        "upper, lower = 1, 0\n",
        "\n",
        "y_pred = np.where(y_pred > 0.5, upper, lower)\n",
        "\n",
        "print(\"classification report based on Annotation count equals one\\n\")\n",
        "\n",
        "print(\n",
        "    classification_report(\n",
        "        y_true,\n",
        "        y_pred,\n",
        "        digits=4,\n",
        "        target_names=LABEL_COLUMNS,\n",
        "        zero_division=0\n",
        "    )\n",
        ")"
      ],
      "execution_count": null,
      "outputs": [
        {
          "output_type": "stream",
          "text": [
            "classification report based on Annotation count equals one\n",
            "\n",
            "                      precision    recall  f1-score   support\n",
            "\n",
            "         Case Report     0.9298    0.9073    0.9184       248\n",
            "           Diagnosis     0.7711    0.9670    0.8580       303\n",
            "Epidemic Forecasting     0.7324    0.9286    0.8189        56\n",
            "           Mechanism     0.5044    0.9194    0.6514        62\n",
            "          Prevention     0.9399    0.9556    0.9477      1194\n",
            "        Transmission     0.4096    0.8095    0.5440        42\n",
            "           Treatment     0.6881    0.9553    0.8000       291\n",
            "\n",
            "           micro avg     0.8297    0.9472    0.8845      2196\n",
            "           macro avg     0.7107    0.9204    0.7912      2196\n",
            "        weighted avg     0.8543    0.9472    0.8931      2196\n",
            "         samples avg     0.8808    0.9472    0.9026      2196\n",
            "\n"
          ],
          "name": "stdout"
        }
      ]
    },
    {
      "cell_type": "code",
      "metadata": {
        "id": "WzxR60rRwaKz"
      },
      "source": [
        "# Annotation equals twice\n",
        "\n",
        "Type_1_predictions = predictions[Annotation_size[\"Type_2\"]]\n",
        "Type_1_labels = labels[Annotation_size[\"Type_2\"]]"
      ],
      "execution_count": null,
      "outputs": []
    },
    {
      "cell_type": "code",
      "metadata": {
        "colab": {
          "base_uri": "https://localhost:8080/"
        },
        "id": "WnVGT6MqwaK0",
        "outputId": "5cfd02cb-78cd-470a-9a48-ff509f091721"
      },
      "source": [
        "y_pred = Type_1_predictions.numpy()\n",
        "y_true = Type_1_labels.numpy()\n",
        "\n",
        "upper, lower = 1, 0\n",
        "\n",
        "y_pred = np.where(y_pred > 0.5, upper, lower)\n",
        "\n",
        "print(\"classification report based on Annotation count equals two\\n\")\n",
        "\n",
        "print(\n",
        "    classification_report(\n",
        "        y_true,\n",
        "        y_pred,\n",
        "        digits=4,\n",
        "        target_names=LABEL_COLUMNS,\n",
        "        zero_division=0\n",
        "    )\n",
        ")"
      ],
      "execution_count": null,
      "outputs": [
        {
          "output_type": "stream",
          "text": [
            "classification report based on Annotation count equals two\n",
            "\n",
            "                      precision    recall  f1-score   support\n",
            "\n",
            "         Case Report     0.0000    0.0000    0.0000         0\n",
            "           Diagnosis     0.9191    0.8217    0.8677       387\n",
            "Epidemic Forecasting     0.9318    0.8283    0.8770        99\n",
            "           Mechanism     0.9481    0.9035    0.9252       404\n",
            "          Prevention     0.9384    0.8083    0.8685       339\n",
            "        Transmission     0.9366    0.8421    0.8868       228\n",
            "           Treatment     0.9818    0.8879    0.9325       669\n",
            "\n",
            "           micro avg     0.9451    0.8584    0.8997      2126\n",
            "           macro avg     0.8080    0.7274    0.7654      2126\n",
            "        weighted avg     0.9499    0.8584    0.9016      2126\n",
            "         samples avg     0.9404    0.8584    0.8836      2126\n",
            "\n"
          ],
          "name": "stdout"
        }
      ]
    },
    {
      "cell_type": "code",
      "metadata": {
        "id": "17Pt3_F7waZo"
      },
      "source": [
        "# Annotation equals thrice\n",
        "\n",
        "Type_1_predictions = predictions[Annotation_size[\"Type_3\"]]\n",
        "Type_1_labels = labels[Annotation_size[\"Type_3\"]]"
      ],
      "execution_count": null,
      "outputs": []
    },
    {
      "cell_type": "code",
      "metadata": {
        "colab": {
          "base_uri": "https://localhost:8080/"
        },
        "id": "ee5F7yQmwaZo",
        "outputId": "8cc85331-3f93-4ac8-82db-440a6047bd2e"
      },
      "source": [
        "y_pred = Type_1_predictions.numpy()\n",
        "y_true = Type_1_labels.numpy()\n",
        "\n",
        "upper, lower = 1, 0\n",
        "\n",
        "y_pred = np.where(y_pred > 0.5, upper, lower)\n",
        "\n",
        "print(\"classification report based on Annotation count equals three\\n\")\n",
        "\n",
        "print(\n",
        "    classification_report(\n",
        "        y_true,\n",
        "        y_pred,\n",
        "        digits=4,\n",
        "        target_names=LABEL_COLUMNS,\n",
        "        zero_division=0\n",
        "    )\n",
        ")"
      ],
      "execution_count": null,
      "outputs": [
        {
          "output_type": "stream",
          "text": [
            "classification report based on Annotation count equals three\n",
            "\n",
            "                      precision    recall  f1-score   support\n",
            "\n",
            "         Case Report     0.0000    0.0000    0.0000         0\n",
            "           Diagnosis     1.0000    0.7212    0.8380       104\n",
            "Epidemic Forecasting     1.0000    0.2727    0.4286        11\n",
            "           Mechanism     0.9714    0.8095    0.8831        84\n",
            "          Prevention     0.9355    0.4462    0.6042        65\n",
            "        Transmission     0.9643    0.7941    0.8710        68\n",
            "           Treatment     0.9683    0.6289    0.7625        97\n",
            "\n",
            "           micro avg     0.9732    0.6760    0.7978       429\n",
            "           macro avg     0.8342    0.5246    0.6268       429\n",
            "        weighted avg     0.9718    0.6760    0.7891       429\n",
            "         samples avg     0.9761    0.6760    0.7825       429\n",
            "\n"
          ],
          "name": "stdout"
        }
      ]
    },
    {
      "cell_type": "code",
      "metadata": {
        "id": "eWMRmbAiwamJ"
      },
      "source": [
        "# Annotation equals more than 4\n",
        "\n",
        "Type_1_predictions = predictions[Annotation_size[\"Type_4g\"]]\n",
        "Type_1_labels = labels[Annotation_size[\"Type_4g\"]]"
      ],
      "execution_count": null,
      "outputs": []
    },
    {
      "cell_type": "code",
      "metadata": {
        "colab": {
          "base_uri": "https://localhost:8080/"
        },
        "id": "SahUndPawamJ",
        "outputId": "3115f16f-5331-487f-99b0-ad8009c51289"
      },
      "source": [
        "y_pred = Type_1_predictions.numpy()\n",
        "y_true = Type_1_labels.numpy()\n",
        "\n",
        "upper, lower = 1, 0\n",
        "\n",
        "y_pred = np.where(y_pred > 0.5, upper, lower)\n",
        "\n",
        "print(\"classification report based on Annotation count equals more than 4\\n\")\n",
        "\n",
        "print(\n",
        "    classification_report(\n",
        "        y_true,\n",
        "        y_pred,\n",
        "        digits=4,\n",
        "        target_names=LABEL_COLUMNS,\n",
        "        zero_division=0\n",
        "    )\n",
        ")"
      ],
      "execution_count": null,
      "outputs": [
        {
          "output_type": "stream",
          "text": [
            "classification report based on Annotation count equals more than 4\n",
            "\n",
            "                      precision    recall  f1-score   support\n",
            "\n",
            "         Case Report     0.0000    0.0000    0.0000         0\n",
            "           Diagnosis     1.0000    0.5714    0.7273        21\n",
            "Epidemic Forecasting     0.0000    0.0000    0.0000         0\n",
            "           Mechanism     1.0000    0.7222    0.8387        18\n",
            "          Prevention     1.0000    0.2667    0.4211        15\n",
            "        Transmission     1.0000    0.5000    0.6667        14\n",
            "           Treatment     1.0000    0.6667    0.8000        18\n",
            "\n",
            "           micro avg     1.0000    0.5581    0.7164        86\n",
            "           macro avg     0.7143    0.3896    0.4934        86\n",
            "        weighted avg     1.0000    0.5581    0.7025        86\n",
            "         samples avg     1.0000    0.5595    0.6877        86\n",
            "\n"
          ],
          "name": "stdout"
        }
      ]
    },
    {
      "cell_type": "markdown",
      "metadata": {
        "id": "djf-e0qw2aMi"
      },
      "source": [
        "#### model prediction and annotation segregation on baseline standards"
      ]
    },
    {
      "cell_type": "code",
      "metadata": {
        "id": "dipI9wmfv-AK"
      },
      "source": [
        "gold_predictions = pd.read_csv(\"drive/MyDrive/Biocreative/Biocreative/datasets/baseline/prediction_label_samples.csv\")\n",
        "gold_predictions = gold_predictions.reindex(columns=LABEL_COLUMNS)\n",
        "# gold_predictions = gold_predictions.drop([\"PMID\"], axis=1)\n",
        "gold_labels = pd.read_csv(\"drive/MyDrive/Biocreative/Biocreative/datasets/baseline/goldstandard_label_samples.csv\")\n",
        "gold_labels = gold_labels.reindex(columns=LABEL_COLUMNS)\n",
        "# gold_labels = gold_labels.drop([\"PMID\"], axis=1)"
      ],
      "execution_count": null,
      "outputs": []
    },
    {
      "cell_type": "code",
      "metadata": {
        "id": "aTr-2Xoy3Cph"
      },
      "source": [
        "gold_predictions = gold_predictions.values.tolist()\n",
        "gold_labels = gold_labels.values.tolist()"
      ],
      "execution_count": null,
      "outputs": []
    },
    {
      "cell_type": "code",
      "metadata": {
        "id": "Tz_l09BI2-nX"
      },
      "source": [
        "Annotation_size = {\n",
        "    \"Type_1\": [],\n",
        "    \"Type_2\": [],\n",
        "    \"Type_3\": [],\n",
        "    \"Type_4g\": []\n",
        "}"
      ],
      "execution_count": null,
      "outputs": []
    },
    {
      "cell_type": "code",
      "metadata": {
        "id": "gpzvrkgs2-nY"
      },
      "source": [
        "for index, annotation in enumerate(gold_labels):\n",
        "\n",
        "  annotation = np.array(annotation)\n",
        "  count = np.count_nonzero(annotation)\n",
        "  if count == 1:\n",
        "    Annotation_size[\"Type_1\"].append(index)\n",
        "  elif count == 2:\n",
        "    Annotation_size[\"Type_2\"].append(index)\n",
        "  elif count == 3:\n",
        "    Annotation_size[\"Type_3\"].append(index)\n",
        "  else:\n",
        "    Annotation_size[\"Type_4g\"].append(index)"
      ],
      "execution_count": null,
      "outputs": []
    },
    {
      "cell_type": "code",
      "metadata": {
        "id": "YQJFGdcQ4pTJ"
      },
      "source": [
        "gold_predictions = torch.tensor(gold_predictions)\n",
        "gold_labels = torch.tensor(gold_labels)"
      ],
      "execution_count": null,
      "outputs": []
    },
    {
      "cell_type": "code",
      "metadata": {
        "id": "Xt6BLfM0247o"
      },
      "source": [
        "# Annotation equals once\n",
        "\n",
        "Type_1_predictions = gold_predictions[Annotation_size[\"Type_1\"]]\n",
        "Type_1_labels = gold_labels[Annotation_size[\"Type_1\"]]"
      ],
      "execution_count": null,
      "outputs": []
    },
    {
      "cell_type": "code",
      "metadata": {
        "colab": {
          "base_uri": "https://localhost:8080/"
        },
        "id": "ZmBlRs6s247p",
        "outputId": "5460dbb2-ff2d-4993-cdb2-9f4d0bdeac81"
      },
      "source": [
        "y_pred = Type_1_predictions.numpy()\n",
        "y_true = Type_1_labels.numpy()\n",
        "\n",
        "upper, lower = 1, 0\n",
        "\n",
        "y_pred = np.where(y_pred > 0.5, upper, lower)\n",
        "\n",
        "print(\"classification report based on Annotation count equals one\\n\")\n",
        "\n",
        "print(\n",
        "    classification_report(\n",
        "        y_true,\n",
        "        y_pred,\n",
        "        digits=4,\n",
        "        target_names=LABEL_COLUMNS,\n",
        "        zero_division=0\n",
        "    )\n",
        ")"
      ],
      "execution_count": null,
      "outputs": [
        {
          "output_type": "stream",
          "text": [
            "classification report based on Annotation count equals one\n",
            "\n",
            "                      precision    recall  f1-score   support\n",
            "\n",
            "         Case Report     0.8636    0.7600    0.8085        50\n",
            "           Diagnosis     0.0000    0.0000    0.0000         0\n",
            "Epidemic Forecasting     0.9111    0.7593    0.8283        54\n",
            "           Mechanism     0.7978    0.8161    0.8068        87\n",
            "          Prevention     0.9475    0.9350    0.9412       908\n",
            "        Transmission     0.6731    0.9211    0.7778        38\n",
            "           Treatment     0.8398    0.8566    0.8481       251\n",
            "\n",
            "           micro avg     0.8839    0.8999    0.8918      1388\n",
            "           macro avg     0.7190    0.7211    0.7158      1388\n",
            "        weighted avg     0.9067    0.8999    0.9023      1388\n",
            "         samples avg     0.8542    0.8999    0.8694      1388\n",
            "\n"
          ],
          "name": "stdout"
        }
      ]
    },
    {
      "cell_type": "code",
      "metadata": {
        "id": "5ajGWSJj247q"
      },
      "source": [
        "# Annotation equals twice\n",
        "\n",
        "Type_1_predictions = gold_predictions[Annotation_size[\"Type_2\"]]\n",
        "Type_1_labels = gold_labels[Annotation_size[\"Type_2\"]]"
      ],
      "execution_count": null,
      "outputs": []
    },
    {
      "cell_type": "code",
      "metadata": {
        "colab": {
          "base_uri": "https://localhost:8080/"
        },
        "id": "jle3z_25247q",
        "outputId": "95f7c6d9-0df6-48b0-cbb2-e09148d0d325"
      },
      "source": [
        "y_pred = Type_1_predictions.numpy()\n",
        "y_true = Type_1_labels.numpy()\n",
        "\n",
        "upper, lower = 1, 0\n",
        "\n",
        "y_pred = np.where(y_pred > 0.5, upper, lower)\n",
        "\n",
        "print(\"classification report based on Annotation count equals two\\n\")\n",
        "\n",
        "print(\n",
        "    classification_report(\n",
        "        y_true,\n",
        "        y_pred,\n",
        "        digits=4,\n",
        "        target_names=LABEL_COLUMNS,\n",
        "        zero_division=0\n",
        "    )\n",
        ")"
      ],
      "execution_count": null,
      "outputs": [
        {
          "output_type": "stream",
          "text": [
            "classification report based on Annotation count equals two\n",
            "\n",
            "                      precision    recall  f1-score   support\n",
            "\n",
            "         Case Report     0.0000    0.0000    0.0000         0\n",
            "           Diagnosis     0.9782    0.6793    0.8018       396\n",
            "Epidemic Forecasting     0.9344    0.6129    0.7403        93\n",
            "           Mechanism     0.9386    0.7880    0.8567       349\n",
            "          Prevention     0.9029    0.8395    0.8700       299\n",
            "        Transmission     0.9554    0.6772    0.7926       158\n",
            "           Treatment     0.9967    0.8048    0.8905       743\n",
            "\n",
            "           micro avg     0.9611    0.7640    0.8513      2038\n",
            "           macro avg     0.8152    0.6288    0.7074      2038\n",
            "        weighted avg     0.9633    0.7640    0.8500      2038\n",
            "         samples avg     0.9342    0.7640    0.8179      2038\n",
            "\n"
          ],
          "name": "stdout"
        }
      ]
    },
    {
      "cell_type": "code",
      "metadata": {
        "id": "MX6kg5KD247r"
      },
      "source": [
        "# Annotation equals thrice\n",
        "\n",
        "Type_1_predictions = gold_predictions[Annotation_size[\"Type_3\"]]\n",
        "Type_1_labels = gold_labels[Annotation_size[\"Type_3\"]]"
      ],
      "execution_count": null,
      "outputs": []
    },
    {
      "cell_type": "code",
      "metadata": {
        "colab": {
          "base_uri": "https://localhost:8080/"
        },
        "id": "sioJkalO247r",
        "outputId": "a163b323-a5dd-44a2-de1e-64d845b59c21"
      },
      "source": [
        "y_pred = Type_1_predictions.numpy()\n",
        "y_true = Type_1_labels.numpy()\n",
        "\n",
        "upper, lower = 1, 0\n",
        "\n",
        "y_pred = np.where(y_pred > 0.5, upper, lower)\n",
        "\n",
        "print(\"classification report based on Annotation count equals three\\n\")\n",
        "\n",
        "print(\n",
        "    classification_report(\n",
        "        y_true,\n",
        "        y_pred,\n",
        "        digits=4,\n",
        "        target_names=LABEL_COLUMNS,\n",
        "        zero_division=0\n",
        "    )\n",
        ")"
      ],
      "execution_count": null,
      "outputs": [
        {
          "output_type": "stream",
          "text": [
            "classification report based on Annotation count equals three\n",
            "\n",
            "                      precision    recall  f1-score   support\n",
            "\n",
            "         Case Report     0.0000    0.0000    0.0000         0\n",
            "           Diagnosis     0.9722    0.4930    0.6542        71\n",
            "Epidemic Forecasting     1.0000    0.4194    0.5909        31\n",
            "           Mechanism     1.0000    0.7105    0.8308        76\n",
            "          Prevention     0.9672    0.8551    0.9077        69\n",
            "        Transmission     0.9815    0.6709    0.7970        79\n",
            "           Treatment     0.9857    0.7841    0.8734        88\n",
            "\n",
            "           micro avg     0.9826    0.6836    0.8063       414\n",
            "           macro avg     0.8438    0.5618    0.6649       414\n",
            "        weighted avg     0.9832    0.6836    0.7980       414\n",
            "         samples avg     0.9674    0.6836    0.7820       414\n",
            "\n"
          ],
          "name": "stdout"
        }
      ]
    },
    {
      "cell_type": "code",
      "metadata": {
        "id": "f8oJhrCr247s"
      },
      "source": [
        "# Annotation equals more than 4\n",
        "\n",
        "Type_1_predictions = gold_predictions[Annotation_size[\"Type_4g\"]]\n",
        "Type_1_labels = gold_labels[Annotation_size[\"Type_4g\"]]"
      ],
      "execution_count": null,
      "outputs": []
    },
    {
      "cell_type": "code",
      "metadata": {
        "colab": {
          "base_uri": "https://localhost:8080/"
        },
        "id": "5Z3Hb9L8247t",
        "outputId": "bbe8df7f-cab5-48a9-e41c-6f535c30e0f0"
      },
      "source": [
        "y_pred = Type_1_predictions.numpy()\n",
        "y_true = Type_1_labels.numpy()\n",
        "\n",
        "upper, lower = 1, 0\n",
        "\n",
        "y_pred = np.where(y_pred > 0.5, upper, lower)\n",
        "\n",
        "print(\"classification report based on Annotation count equals more than 4\\n\")\n",
        "\n",
        "print(\n",
        "    classification_report(\n",
        "        y_true,\n",
        "        y_pred,\n",
        "        digits=4,\n",
        "        target_names=LABEL_COLUMNS,\n",
        "        zero_division=0\n",
        "    )\n",
        ")"
      ],
      "execution_count": null,
      "outputs": [
        {
          "output_type": "stream",
          "text": [
            "classification report based on Annotation count equals more than 4\n",
            "\n",
            "                      precision    recall  f1-score   support\n",
            "\n",
            "         Case Report     0.0000    0.0000    0.0000         0\n",
            "           Diagnosis     1.0000    0.4000    0.5714         5\n",
            "Epidemic Forecasting     0.0000    0.0000    0.0000         0\n",
            "           Mechanism     1.0000    0.5000    0.6667         6\n",
            "          Prevention     1.0000    0.7500    0.8571         4\n",
            "        Transmission     1.0000    0.5000    0.6667         4\n",
            "           Treatment     1.0000    0.6000    0.7500         5\n",
            "\n",
            "           micro avg     1.0000    0.5417    0.7027        24\n",
            "           macro avg     0.7143    0.3929    0.5017        24\n",
            "        weighted avg     1.0000    0.5417    0.6959        24\n",
            "         samples avg     0.8333    0.5417    0.6429        24\n",
            "\n"
          ],
          "name": "stdout"
        }
      ]
    },
    {
      "cell_type": "code",
      "metadata": {
        "id": "sxTgdr7z5hGN"
      },
      "source": [
        ""
      ],
      "execution_count": null,
      "outputs": []
    }
  ]
}