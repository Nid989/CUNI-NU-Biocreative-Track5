{
  "nbformat": 4,
  "nbformat_minor": 0,
  "metadata": {
    "colab": {
      "name": "Selinium Scrapper.ipynb",
      "provenance": [],
      "collapsed_sections": [],
      "machine_shape": "hm"
    },
    "kernelspec": {
      "name": "python3",
      "display_name": "Python 3"
    },
    "language_info": {
      "name": "python"
    },
    "accelerator": "GPU"
  },
  "cells": [
    {
      "cell_type": "code",
      "metadata": {
        "colab": {
          "base_uri": "https://localhost:8080/"
        },
        "id": "iEDk41Pxj66A",
        "outputId": "2e723d0c-b704-4b7f-a5b0-6fde06ad70c8"
      },
      "source": [
        "from google.colab import drive\n",
        "drive.mount('/content/drive')"
      ],
      "execution_count": 1,
      "outputs": [
        {
          "output_type": "stream",
          "text": [
            "Mounted at /content/drive\n"
          ],
          "name": "stdout"
        }
      ]
    },
    {
      "cell_type": "code",
      "metadata": {
        "id": "V7ty_yvo7-tL",
        "colab": {
          "base_uri": "https://localhost:8080/"
        },
        "outputId": "0edbd386-dc07-43b0-af8f-66289787228e"
      },
      "source": [
        "!pip install selenium\n",
        "!apt-get update # to update ubuntu to correctly run apt install\n",
        "!apt install chromium-chromedriver\n",
        "!cp /usr/lib/chromium-browser/chromedriver /usr/bin\n",
        "import sys\n",
        "sys.path.insert(0,'/usr/lib/chromium-browser/chromedriver')\n",
        "from selenium import webdriver\n",
        "chrome_options = webdriver.ChromeOptions()\n",
        "chrome_options.add_argument('--headless')\n",
        "chrome_options.add_argument('--no-sandbox')\n",
        "chrome_options.add_argument('--disable-dev-shm-usage')\n",
        "wd = webdriver.Chrome('chromedriver',chrome_options=chrome_options)\n",
        "wd.get(\"https://www.webite-url.com\")"
      ],
      "execution_count": 9,
      "outputs": [
        {
          "output_type": "stream",
          "text": [
            "Requirement already satisfied: selenium in /usr/local/lib/python3.7/dist-packages (3.141.0)\n",
            "Requirement already satisfied: urllib3 in /usr/local/lib/python3.7/dist-packages (from selenium) (1.24.3)\n",
            "Ign:1 https://developer.download.nvidia.com/compute/cuda/repos/ubuntu1804/x86_64  InRelease\n",
            "Ign:2 https://developer.download.nvidia.com/compute/machine-learning/repos/ubuntu1804/x86_64  InRelease\n",
            "Hit:3 https://cloud.r-project.org/bin/linux/ubuntu bionic-cran40/ InRelease\n",
            "Hit:4 https://developer.download.nvidia.com/compute/cuda/repos/ubuntu1804/x86_64  Release\n",
            "Hit:5 https://developer.download.nvidia.com/compute/machine-learning/repos/ubuntu1804/x86_64  Release\n",
            "Hit:6 http://security.ubuntu.com/ubuntu bionic-security InRelease\n",
            "Hit:7 http://ppa.launchpad.net/c2d4u.team/c2d4u4.0+/ubuntu bionic InRelease\n",
            "Hit:8 http://archive.ubuntu.com/ubuntu bionic InRelease\n",
            "Hit:10 http://archive.ubuntu.com/ubuntu bionic-updates InRelease\n",
            "Hit:12 http://archive.ubuntu.com/ubuntu bionic-backports InRelease\n",
            "Hit:13 http://ppa.launchpad.net/cran/libgit2/ubuntu bionic InRelease\n",
            "Hit:14 http://ppa.launchpad.net/deadsnakes/ppa/ubuntu bionic InRelease\n",
            "Hit:15 http://ppa.launchpad.net/graphics-drivers/ppa/ubuntu bionic InRelease\n",
            "Reading package lists... Done\n",
            "Reading package lists... Done\n",
            "Building dependency tree       \n",
            "Reading state information... Done\n",
            "chromium-chromedriver is already the newest version (92.0.4515.159-0ubuntu0.18.04.1).\n",
            "The following package was automatically installed and is no longer required:\n",
            "  libnvidia-common-460\n",
            "Use 'apt autoremove' to remove it.\n",
            "0 upgraded, 0 newly installed, 0 to remove and 55 not upgraded.\n",
            "cp: '/usr/lib/chromium-browser/chromedriver' and '/usr/bin/chromedriver' are the same file\n"
          ],
          "name": "stdout"
        },
        {
          "output_type": "stream",
          "text": [
            "/usr/local/lib/python3.7/dist-packages/ipykernel_launcher.py:12: DeprecationWarning: use options instead of chrome_options\n",
            "  if sys.path[0] == '':\n"
          ],
          "name": "stderr"
        }
      ]
    },
    {
      "cell_type": "code",
      "metadata": {
        "colab": {
          "base_uri": "https://localhost:8080/"
        },
        "id": "nJSDt7LplHh8",
        "outputId": "ff624b2c-bd0c-4598-c752-68e9d6dec30b"
      },
      "source": [
        "!pip install feedparser"
      ],
      "execution_count": 10,
      "outputs": [
        {
          "output_type": "stream",
          "text": [
            "Collecting feedparser\n",
            "  Downloading feedparser-6.0.8-py3-none-any.whl (81 kB)\n",
            "\u001b[?25l\r\u001b[K     |████                            | 10 kB 32.2 MB/s eta 0:00:01\r\u001b[K     |████████                        | 20 kB 21.7 MB/s eta 0:00:01\r\u001b[K     |████████████▏                   | 30 kB 15.5 MB/s eta 0:00:01\r\u001b[K     |████████████████▏               | 40 kB 14.8 MB/s eta 0:00:01\r\u001b[K     |████████████████████▏           | 51 kB 6.5 MB/s eta 0:00:01\r\u001b[K     |████████████████████████▎       | 61 kB 7.0 MB/s eta 0:00:01\r\u001b[K     |████████████████████████████▎   | 71 kB 7.4 MB/s eta 0:00:01\r\u001b[K     |████████████████████████████████| 81 kB 4.9 MB/s \n",
            "\u001b[?25hCollecting sgmllib3k\n",
            "  Downloading sgmllib3k-1.0.0.tar.gz (5.8 kB)\n",
            "Building wheels for collected packages: sgmllib3k\n",
            "  Building wheel for sgmllib3k (setup.py) ... \u001b[?25l\u001b[?25hdone\n",
            "  Created wheel for sgmllib3k: filename=sgmllib3k-1.0.0-py3-none-any.whl size=6065 sha256=6b5b89215e4e29260c94a2a248a9b659380c8f79a0de441ad7ae1c37af017a94\n",
            "  Stored in directory: /root/.cache/pip/wheels/73/ad/a4/0dff4a6ef231fc0dfa12ffbac2a36cebfdddfe059f50e019aa\n",
            "Successfully built sgmllib3k\n",
            "Installing collected packages: sgmllib3k, feedparser\n",
            "Successfully installed feedparser-6.0.8 sgmllib3k-1.0.0\n"
          ],
          "name": "stdout"
        }
      ]
    },
    {
      "cell_type": "code",
      "metadata": {
        "id": "qB9yqyPClTt4"
      },
      "source": [
        "import feedparser"
      ],
      "execution_count": 11,
      "outputs": []
    },
    {
      "cell_type": "code",
      "metadata": {
        "id": "SxMT1LgRlZRk"
      },
      "source": [
        "import pandas as pd\n",
        "import csv"
      ],
      "execution_count": 12,
      "outputs": []
    },
    {
      "cell_type": "code",
      "metadata": {
        "id": "8lhMqY-_nI00"
      },
      "source": [
        "forc = pd.read_csv('/content/drive/MyDrive/Biocreative/Biocreative/datasets/forcasting.tsv', sep = '\\t')"
      ],
      "execution_count": 13,
      "outputs": []
    },
    {
      "cell_type": "code",
      "metadata": {
        "id": "6qOsMJK1voxF"
      },
      "source": [
        "train = pd.read_csv('/content/drive/MyDrive/Biocreative/Biocreative/datasets/BC7-LitCovid-Train.csv')\n",
        "dev = pd.read_csv('/content/drive/MyDrive/Biocreative/Biocreative/datasets/BC7-LitCovid-Dev.csv')\n",
        "test = pd.read_csv('/content/drive/MyDrive/Biocreative/Biocreative/datasets/BC7-LitCovid-Test.csv')"
      ],
      "execution_count": 17,
      "outputs": []
    },
    {
      "cell_type": "code",
      "metadata": {
        "id": "gTknNNlfv8lf"
      },
      "source": [
        "pmid = train['pmid'].to_list()\n",
        "pmid.extend(test['pmid'].to_list())\n",
        "pmid.extend(dev['pmid'].to_list())"
      ],
      "execution_count": 18,
      "outputs": []
    },
    {
      "cell_type": "code",
      "metadata": {
        "colab": {
          "base_uri": "https://localhost:8080/"
        },
        "id": "tA7joLJmwECk",
        "outputId": "d7c48cdf-813d-4407-c91c-45c8a2dc533a"
      },
      "source": [
        "len(pmid)"
      ],
      "execution_count": 19,
      "outputs": [
        {
          "output_type": "execute_result",
          "data": {
            "text/plain": [
              "33699"
            ]
          },
          "metadata": {},
          "execution_count": 19
        }
      ]
    },
    {
      "cell_type": "code",
      "metadata": {
        "id": "Q8sZRzplwRhd"
      },
      "source": [
        "# check whether the pmid's aren't repeating\n",
        "new_id = []\n",
        "x = data['pmid'].to_list()\n",
        "for i in range(data.shape[0]):\n",
        "  if x[i] not in pmid:\n",
        "    new_id.append(x[i])"
      ],
      "execution_count": 20,
      "outputs": []
    },
    {
      "cell_type": "code",
      "metadata": {
        "colab": {
          "base_uri": "https://localhost:8080/"
        },
        "id": "9DFOj5tAyaL4",
        "outputId": "dcde8955-8a58-404b-ed61-2e77ac49b353"
      },
      "source": [
        "len(new_id)"
      ],
      "execution_count": 21,
      "outputs": [
        {
          "output_type": "execute_result",
          "data": {
            "text/plain": [
              "1103"
            ]
          },
          "metadata": {},
          "execution_count": 21
        }
      ]
    },
    {
      "cell_type": "code",
      "metadata": {
        "id": "1-7jFVdVYskE"
      },
      "source": [
        "import time"
      ],
      "execution_count": null,
      "outputs": []
    },
    {
      "cell_type": "code",
      "metadata": {
        "id": "HKyRP3y8X4Od"
      },
      "source": [
        "trans_data_list = []\n",
        "i = 0\n",
        "for j in new_id[:]:\n",
        "  url = f\"https://www.ncbi.nlm.nih.gov/research/coronavirus/publication/{j}\"\n",
        "  gh = webdriver.Chrome('chromedriver', options=chrome_options)\n",
        "  gh.get(url)\n",
        "  time.sleep(2)\n",
        "  try:\n",
        "    keywords = gh.find_element_by_class_name(\"keywords\").text\n",
        "  except Exception as e:\n",
        "    keywords = None\n",
        "  try:\n",
        "    topics = gh.find_element_by_class_name(\"topics\").text\n",
        "  except Exception as e:\n",
        "    topics = None\n",
        "  try:\n",
        "    title = gh.find_element_by_class_name(\"publication-title\").text\n",
        "  except Exception as e:\n",
        "    title = None\n",
        "  try:\n",
        "    content = gh.find_element_by_class_name(\"content\").text\n",
        "  except Exception as e:\n",
        "    content = None\n",
        "  trans_data_list.append([j, title, keywords, content, topics])\n",
        "  i = i+1\n",
        "  if i%1000 == 0:\n",
        "    print(trans_data_list[0])\n",
        "    arr = np.array(trans_data_list)\n",
        "    np.save(f'litcovid froc{i}.npy', arr, allow_pickle=True)\n",
        "    print(f'array {j} saved')\n",
        "  print(i)\n",
        "  time.sleep(0.5)"
      ],
      "execution_count": null,
      "outputs": []
    },
    {
      "cell_type": "code",
      "metadata": {
        "id": "smJdmO8w6uaP"
      },
      "source": [
        "# np.save(\"Epidemic_Forecasting.npy\", trans_data_list, allow_pickle=True)"
      ],
      "execution_count": 38,
      "outputs": []
    },
    {
      "cell_type": "code",
      "metadata": {
        "colab": {
          "base_uri": "https://localhost:8080/"
        },
        "id": "EOnutfpZLFy7",
        "outputId": "beb452af-c468-4d4d-96d7-98c14845fc45"
      },
      "source": [
        "np.load(\"numpy checkpoints/tra\")"
      ],
      "execution_count": 120,
      "outputs": [
        {
          "output_type": "stream",
          "text": [
            " BC7-LitCovid-Dev.csv         dev.csv                   \u001b[0m\u001b[01;34m'numpy checkpoints'\u001b[0m/\n",
            " BC7-LitCovid-Test.csv        diagnosis.tsv              prevention.tsv\n",
            " BC7-LitCovid-Train.csv       Epidemic_forecasting.csv   train.csv\n",
            "'case report.tsv'             forcasting.tsv             transmission.tsv\n",
            "'dataset descriptions.xlsx'   mechanism.tsv              treatment.tsv\n"
          ],
          "name": "stdout"
        }
      ]
    },
    {
      "cell_type": "markdown",
      "metadata": {
        "id": "8VwjWQp86TgM"
      },
      "source": [
        "### Load Scraped Data\n"
      ]
    },
    {
      "cell_type": "code",
      "metadata": {
        "id": "EVN6cW8JYmev"
      },
      "source": [
        "import numpy as np\n",
        "import re"
      ],
      "execution_count": 51,
      "outputs": []
    },
    {
      "cell_type": "code",
      "metadata": {
        "colab": {
          "base_uri": "https://localhost:8080/"
        },
        "id": "04vPXOD66tE1",
        "outputId": "0b2373ca-0c80-4560-cb6f-0157959d9ba4"
      },
      "source": [
        "%ls"
      ],
      "execution_count": 41,
      "outputs": [
        {
          "output_type": "stream",
          "text": [
            " Epidemic_Forecasting.npy  'litcovid froc1000.npy'    trans_id.npy\n",
            " litcovid1000.npy          'litcovid trans1000.npy'\n",
            " litcovid2.npy              newids.npy\n"
          ],
          "name": "stdout"
        }
      ]
    },
    {
      "cell_type": "code",
      "metadata": {
        "id": "G7r6Ku326XKS"
      },
      "source": [
        "Scrapped_array = np.load(\"Epidemic_Forecasting.npy\", allow_pickle=True)"
      ],
      "execution_count": 43,
      "outputs": []
    },
    {
      "cell_type": "code",
      "metadata": {
        "colab": {
          "base_uri": "https://localhost:8080/"
        },
        "id": "rCl_14oF6_A1",
        "outputId": "cebff8f6-6485-432f-c783-0122920d2973"
      },
      "source": [
        "Scrapped_array[0]"
      ],
      "execution_count": 46,
      "outputs": [
        {
          "output_type": "execute_result",
          "data": {
            "text/plain": [
              "array([34423315,\n",
              "       'Multiplicative Holts Winter Model for Trend Analysis and Forecasting of COVID-19 Spread in India.',\n",
              "       \"Keywords:\\n#arima#auto regression#covid-19#holt-winters#holt's linear#moving average\",\n",
              "       \"The surge of the novel COVID-19 caused a tremendous effect on the health and life of the people resulting in more than 4.4 million confirmed cases in 213 countries of the world as of May 14, 2020. In India, the number of cases is constantly increasing since the first case reported on January 30, 2020, resulting in a total of 81,997 cases including 2649 deaths as of May 14, 2020. To assist the government and healthcare sector in preventing the transmission of disease, it is necessary to predict the future confirmed cases. To predict the dynamics of COVID-19 cases, in this paper, we project the forecast of COVID-19 for five most affected states of India such as Maharashtra, Tamil Nadu, Delhi, Gujarat, and Andhra Pradesh using the real-time data. Using Holt-Winters method, a forecast of the number of confirmed cases in these states has been generated. Further, the performance of the method has been determined using RMSE, MSE, MAPE, MAE and compared with other standard algorithms. The analysis shows that the proposed Holt-Winters model generates RMSE value of 76.0, 338.4, 141.5, 425.9, 1991.5 for Andhra Pradesh, Maharashtra, Gujarat, Delhi and Tamil Nadu, which results in more accurate predictions over Holt's Linear, Auto-regression (AR), Moving Average (MA) and Autoregressive Integrated Moving Average (ARIMA) model. These estimations may further assist the government in employing strong policies and strategies for enhancing healthcare support all over India.\",\n",
              "       'Epidemic ForecastingPrevention'], dtype=object)"
            ]
          },
          "metadata": {},
          "execution_count": 46
        }
      ]
    },
    {
      "cell_type": "code",
      "metadata": {
        "colab": {
          "base_uri": "https://localhost:8080/"
        },
        "id": "e0r4O9xt7DgO",
        "outputId": "4054b5cb-3704-4752-e9b0-622c17f6bf2f"
      },
      "source": [
        "columns = [\"pmid\", \"title\", \"keywords\", \"abstract\", \"labels\"]\n",
        "epfroc_df = pd.DataFrame(Scrapped_array, columns=columns)\n",
        "epfroc_df.shape"
      ],
      "execution_count": 94,
      "outputs": [
        {
          "output_type": "execute_result",
          "data": {
            "text/plain": [
              "(1103, 5)"
            ]
          },
          "metadata": {},
          "execution_count": 94
        }
      ]
    },
    {
      "cell_type": "code",
      "metadata": {
        "colab": {
          "base_uri": "https://localhost:8080/",
          "height": 203
        },
        "id": "N8231dJB7eaX",
        "outputId": "c365d27b-7aaf-49d6-fcf3-40c7101003cd"
      },
      "source": [
        "epfroc_df.head()"
      ],
      "execution_count": 95,
      "outputs": [
        {
          "output_type": "execute_result",
          "data": {
            "text/html": [
              "<div>\n",
              "<style scoped>\n",
              "    .dataframe tbody tr th:only-of-type {\n",
              "        vertical-align: middle;\n",
              "    }\n",
              "\n",
              "    .dataframe tbody tr th {\n",
              "        vertical-align: top;\n",
              "    }\n",
              "\n",
              "    .dataframe thead th {\n",
              "        text-align: right;\n",
              "    }\n",
              "</style>\n",
              "<table border=\"1\" class=\"dataframe\">\n",
              "  <thead>\n",
              "    <tr style=\"text-align: right;\">\n",
              "      <th></th>\n",
              "      <th>pmid</th>\n",
              "      <th>title</th>\n",
              "      <th>keywords</th>\n",
              "      <th>abstract</th>\n",
              "      <th>labels</th>\n",
              "    </tr>\n",
              "  </thead>\n",
              "  <tbody>\n",
              "    <tr>\n",
              "      <th>0</th>\n",
              "      <td>34423315</td>\n",
              "      <td>Multiplicative Holts Winter Model for Trend An...</td>\n",
              "      <td>Keywords:\\n#arima#auto regression#covid-19#hol...</td>\n",
              "      <td>The surge of the novel COVID-19 caused a treme...</td>\n",
              "      <td>Epidemic ForecastingPrevention</td>\n",
              "    </tr>\n",
              "    <tr>\n",
              "      <th>1</th>\n",
              "      <td>34421230</td>\n",
              "      <td>Leveraging Weather Data for Forecasting Cases-...</td>\n",
              "      <td>Keywords:\\n#covid-19#covid-19 cases-to-mortali...</td>\n",
              "      <td>There are several recent publications criticiz...</td>\n",
              "      <td>Epidemic Forecasting</td>\n",
              "    </tr>\n",
              "    <tr>\n",
              "      <th>2</th>\n",
              "      <td>34413555</td>\n",
              "      <td>Intelligent computing on time-series data anal...</td>\n",
              "      <td>Keywords:\\n#additive model#changepoints#facebo...</td>\n",
              "      <td>Covid-19 disease caused by novel coronavirus (...</td>\n",
              "      <td>Epidemic ForecastingPrevention</td>\n",
              "    </tr>\n",
              "    <tr>\n",
              "      <th>3</th>\n",
              "      <td>34412892</td>\n",
              "      <td>Linear and non-linear dynamics of the epidemic...</td>\n",
              "      <td>Keywords:\\n#covid-19#casualties#linear dynamic...</td>\n",
              "      <td>Coronavirus disease 2019 (COVID-19) has endure...</td>\n",
              "      <td>Epidemic ForecastingPrevention</td>\n",
              "    </tr>\n",
              "    <tr>\n",
              "      <th>4</th>\n",
              "      <td>34411132</td>\n",
              "      <td>An application of the ensemble Kalman filter i...</td>\n",
              "      <td>None</td>\n",
              "      <td>Since the novel coronavirus (COVID-19) outbrea...</td>\n",
              "      <td>Epidemic Forecasting</td>\n",
              "    </tr>\n",
              "  </tbody>\n",
              "</table>\n",
              "</div>"
            ],
            "text/plain": [
              "       pmid  ...                          labels\n",
              "0  34423315  ...  Epidemic ForecastingPrevention\n",
              "1  34421230  ...            Epidemic Forecasting\n",
              "2  34413555  ...  Epidemic ForecastingPrevention\n",
              "3  34412892  ...  Epidemic ForecastingPrevention\n",
              "4  34411132  ...            Epidemic Forecasting\n",
              "\n",
              "[5 rows x 5 columns]"
            ]
          },
          "metadata": {},
          "execution_count": 95
        }
      ]
    },
    {
      "cell_type": "code",
      "metadata": {
        "colab": {
          "base_uri": "https://localhost:8080/",
          "height": 35
        },
        "id": "h2Bv41Za7v-2",
        "outputId": "454fc5ca-4a00-4c66-c90c-9b98a0758209"
      },
      "source": [
        "sample_row = epfroc_df.iloc[0]\n",
        "sample_keywords = sample_row[\"keywords\"]\n",
        "sample_labels = sample_row[\"labels\"]\n",
        "sample_labels"
      ],
      "execution_count": 96,
      "outputs": [
        {
          "output_type": "execute_result",
          "data": {
            "application/vnd.google.colaboratory.intrinsic+json": {
              "type": "string"
            },
            "text/plain": [
              "'Epidemic ForecastingPrevention'"
            ]
          },
          "metadata": {},
          "execution_count": 96
        }
      ]
    },
    {
      "cell_type": "code",
      "metadata": {
        "id": "jF2c3C2o7glc"
      },
      "source": [
        "def process_keywords(text):\n",
        "  try:\n",
        "    text = re.sub(r\"Keywords:\\n\", \"\", text).split(\"#\")[1:]\n",
        "    text = ';'.join(text).strip()\n",
        "    return text\n",
        "  except Exception as e:\n",
        "    return ''"
      ],
      "execution_count": 97,
      "outputs": []
    },
    {
      "cell_type": "code",
      "metadata": {
        "colab": {
          "base_uri": "https://localhost:8080/",
          "height": 35
        },
        "id": "xCZYMyvZBmHN",
        "outputId": "c5db6d5e-a0fc-4afb-e58f-c0bbbeb88889"
      },
      "source": [
        "process_keywords(sample_keywords)"
      ],
      "execution_count": 106,
      "outputs": [
        {
          "output_type": "execute_result",
          "data": {
            "application/vnd.google.colaboratory.intrinsic+json": {
              "type": "string"
            },
            "text/plain": [
              "\"arima;auto regression;covid-19;holt-winters;holt's linear;moving average\""
            ]
          },
          "metadata": {},
          "execution_count": 106
        }
      ]
    },
    {
      "cell_type": "code",
      "metadata": {
        "id": "jTbbW36U_o4E"
      },
      "source": [
        "LABEL_COLUMNS = ['Case Report', 'Diagnosis', 'Epidemic Forecasting', 'Mechanism', 'Prevention', 'Transmission', 'Treatment']"
      ],
      "execution_count": 98,
      "outputs": []
    },
    {
      "cell_type": "code",
      "metadata": {
        "id": "BnVZtRt59LkI"
      },
      "source": [
        "def process_labels(text):\n",
        "\n",
        "  labels = [label for label in LABEL_COLUMNS if text.find(label) != -1]\n",
        "\n",
        "  labels = ';'.join(labels)\n",
        "\n",
        "  return labels"
      ],
      "execution_count": 99,
      "outputs": []
    },
    {
      "cell_type": "code",
      "metadata": {
        "id": "SbpQMbMv_I7k"
      },
      "source": [
        "labels = epfroc_df.labels.apply(process_labels)\n",
        "keywords = epfroc_df.keywords.apply(process_keywords)"
      ],
      "execution_count": 107,
      "outputs": []
    },
    {
      "cell_type": "code",
      "metadata": {
        "colab": {
          "base_uri": "https://localhost:8080/",
          "height": 417
        },
        "id": "GMto-UJVABFL",
        "outputId": "d9f9f9ee-1af3-4676-db5b-bdc0dbf23cdb"
      },
      "source": [
        "epfroc_df[\"labels\"] = labels\n",
        "epfroc_df[\"keywords\"] = keywords\n",
        "display(epfroc_df)"
      ],
      "execution_count": 109,
      "outputs": [
        {
          "output_type": "display_data",
          "data": {
            "text/html": [
              "<div>\n",
              "<style scoped>\n",
              "    .dataframe tbody tr th:only-of-type {\n",
              "        vertical-align: middle;\n",
              "    }\n",
              "\n",
              "    .dataframe tbody tr th {\n",
              "        vertical-align: top;\n",
              "    }\n",
              "\n",
              "    .dataframe thead th {\n",
              "        text-align: right;\n",
              "    }\n",
              "</style>\n",
              "<table border=\"1\" class=\"dataframe\">\n",
              "  <thead>\n",
              "    <tr style=\"text-align: right;\">\n",
              "      <th></th>\n",
              "      <th>pmid</th>\n",
              "      <th>title</th>\n",
              "      <th>keywords</th>\n",
              "      <th>abstract</th>\n",
              "      <th>labels</th>\n",
              "    </tr>\n",
              "  </thead>\n",
              "  <tbody>\n",
              "    <tr>\n",
              "      <th>0</th>\n",
              "      <td>34423315</td>\n",
              "      <td>Multiplicative Holts Winter Model for Trend An...</td>\n",
              "      <td>arima;auto regression;covid-19;holt-winters;ho...</td>\n",
              "      <td>The surge of the novel COVID-19 caused a treme...</td>\n",
              "      <td>Epidemic Forecasting;Prevention</td>\n",
              "    </tr>\n",
              "    <tr>\n",
              "      <th>1</th>\n",
              "      <td>34421230</td>\n",
              "      <td>Leveraging Weather Data for Forecasting Cases-...</td>\n",
              "      <td>covid-19;covid-19 cases-to-mortality ratios;de...</td>\n",
              "      <td>There are several recent publications criticiz...</td>\n",
              "      <td>Epidemic Forecasting</td>\n",
              "    </tr>\n",
              "    <tr>\n",
              "      <th>2</th>\n",
              "      <td>34413555</td>\n",
              "      <td>Intelligent computing on time-series data anal...</td>\n",
              "      <td>additive model;changepoints;facebook prophet m...</td>\n",
              "      <td>Covid-19 disease caused by novel coronavirus (...</td>\n",
              "      <td>Epidemic Forecasting;Prevention</td>\n",
              "    </tr>\n",
              "    <tr>\n",
              "      <th>3</th>\n",
              "      <td>34412892</td>\n",
              "      <td>Linear and non-linear dynamics of the epidemic...</td>\n",
              "      <td>covid-19;casualties;linear dynamics;model;non-...</td>\n",
              "      <td>Coronavirus disease 2019 (COVID-19) has endure...</td>\n",
              "      <td>Epidemic Forecasting;Prevention</td>\n",
              "    </tr>\n",
              "    <tr>\n",
              "      <th>4</th>\n",
              "      <td>34411132</td>\n",
              "      <td>An application of the ensemble Kalman filter i...</td>\n",
              "      <td></td>\n",
              "      <td>Since the novel coronavirus (COVID-19) outbrea...</td>\n",
              "      <td>Epidemic Forecasting</td>\n",
              "    </tr>\n",
              "    <tr>\n",
              "      <th>...</th>\n",
              "      <td>...</td>\n",
              "      <td>...</td>\n",
              "      <td>...</td>\n",
              "      <td>...</td>\n",
              "      <td>...</td>\n",
              "    </tr>\n",
              "    <tr>\n",
              "      <th>1098</th>\n",
              "      <td>32031234</td>\n",
              "      <td>2019-novel Coronavirus (2019-nCoV): estimating...</td>\n",
              "      <td></td>\n",
              "      <td></td>\n",
              "      <td>Epidemic Forecasting</td>\n",
              "    </tr>\n",
              "    <tr>\n",
              "      <th>1099</th>\n",
              "      <td>32023340</td>\n",
              "      <td>Reporting, Epidemic Growth, and Reproduction N...</td>\n",
              "      <td></td>\n",
              "      <td></td>\n",
              "      <td>Epidemic Forecasting</td>\n",
              "    </tr>\n",
              "    <tr>\n",
              "      <th>1100</th>\n",
              "      <td>32006656</td>\n",
              "      <td>The association between domestic train transpo...</td>\n",
              "      <td></td>\n",
              "      <td></td>\n",
              "      <td>Epidemic Forecasting</td>\n",
              "    </tr>\n",
              "    <tr>\n",
              "      <th>1101</th>\n",
              "      <td>32001309</td>\n",
              "      <td>Emergence of a novel coronavirus causing respi...</td>\n",
              "      <td></td>\n",
              "      <td></td>\n",
              "      <td>Epidemic Forecasting;Mechanism</td>\n",
              "    </tr>\n",
              "    <tr>\n",
              "      <th>1102</th>\n",
              "      <td>31992390</td>\n",
              "      <td>Note from the editors: novel coronavirus (2019...</td>\n",
              "      <td>coronavirus;public health event</td>\n",
              "      <td></td>\n",
              "      <td>Diagnosis;Epidemic Forecasting</td>\n",
              "    </tr>\n",
              "  </tbody>\n",
              "</table>\n",
              "<p>1103 rows × 5 columns</p>\n",
              "</div>"
            ],
            "text/plain": [
              "          pmid  ...                           labels\n",
              "0     34423315  ...  Epidemic Forecasting;Prevention\n",
              "1     34421230  ...             Epidemic Forecasting\n",
              "2     34413555  ...  Epidemic Forecasting;Prevention\n",
              "3     34412892  ...  Epidemic Forecasting;Prevention\n",
              "4     34411132  ...             Epidemic Forecasting\n",
              "...        ...  ...                              ...\n",
              "1098  32031234  ...             Epidemic Forecasting\n",
              "1099  32023340  ...             Epidemic Forecasting\n",
              "1100  32006656  ...             Epidemic Forecasting\n",
              "1101  32001309  ...   Epidemic Forecasting;Mechanism\n",
              "1102  31992390  ...   Diagnosis;Epidemic Forecasting\n",
              "\n",
              "[1103 rows x 5 columns]"
            ]
          },
          "metadata": {}
        }
      ]
    },
    {
      "cell_type": "code",
      "metadata": {
        "id": "LdjLLsmjBQD5"
      },
      "source": [
        "# epfroc_df.to_csv(\"Epidemic_forecasting.csv\", index=False, header=True)"
      ],
      "execution_count": 112,
      "outputs": []
    },
    {
      "cell_type": "code",
      "metadata": {
        "colab": {
          "base_uri": "https://localhost:8080/"
        },
        "id": "eHxBSQTQBuwt",
        "outputId": "d9e8565e-0c7b-4ae9-b8c1-6d561629d78b"
      },
      "source": [
        "epfroc_df.shape"
      ],
      "execution_count": 113,
      "outputs": [
        {
          "output_type": "execute_result",
          "data": {
            "text/plain": [
              "(1103, 5)"
            ]
          },
          "metadata": {},
          "execution_count": 113
        }
      ]
    },
    {
      "cell_type": "code",
      "metadata": {
        "id": "QnepOP5oCGnt"
      },
      "source": [
        "train_df = pd.read_csv('/content/drive/MyDrive/Biocreative/Biocreative/datasets/BC7-LitCovid-Train.csv')\n",
        "train_df_pmid = train_df[\"pmid\"]"
      ],
      "execution_count": 114,
      "outputs": []
    },
    {
      "cell_type": "code",
      "metadata": {
        "id": "RbsFOq5IC0JX"
      },
      "source": [
        "epfroc_df_pmid = epfroc_df[\"pmid\"]"
      ],
      "execution_count": 116,
      "outputs": []
    },
    {
      "cell_type": "code",
      "metadata": {
        "id": "PADWwZBDC4_W"
      },
      "source": [
        "for idx, pmid in enumerate(epfroc_df_pmid):\n",
        "  if pmid in train_df_pmid:\n",
        "    print(f\"Duplicate Index: {idx}\")"
      ],
      "execution_count": 118,
      "outputs": []
    },
    {
      "cell_type": "code",
      "metadata": {
        "id": "_AxXg_NhC_k7"
      },
      "source": [
        ""
      ],
      "execution_count": null,
      "outputs": []
    }
  ]
}